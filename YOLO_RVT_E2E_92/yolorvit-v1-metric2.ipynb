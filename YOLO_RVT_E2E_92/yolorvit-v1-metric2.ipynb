{
 "cells": [
  {
   "cell_type": "code",
   "execution_count": 1,
   "id": "043c3e5d",
   "metadata": {
    "_cell_guid": "65eb45a5-bef6-4dee-abf7-926a48d3c339",
    "_uuid": "8bb9ee56-b92d-47d5-a686-abed8c731f61",
    "collapsed": false,
    "execution": {
     "iopub.execute_input": "2025-05-29T13:19:50.618652Z",
     "iopub.status.busy": "2025-05-29T13:19:50.617956Z",
     "iopub.status.idle": "2025-05-29T13:21:09.317345Z",
     "shell.execute_reply": "2025-05-29T13:21:09.316503Z"
    },
    "jupyter": {
     "outputs_hidden": false
    },
    "papermill": {
     "duration": 78.704637,
     "end_time": "2025-05-29T13:21:09.319014",
     "exception": false,
     "start_time": "2025-05-29T13:19:50.614377",
     "status": "completed"
    },
    "tags": []
   },
   "outputs": [
    {
     "name": "stdout",
     "output_type": "stream",
     "text": [
      "Collecting ultralytics\r\n",
      "  Downloading ultralytics-8.3.146-py3-none-any.whl.metadata (37 kB)\r\n",
      "Requirement already satisfied: numpy>=1.23.0 in /usr/local/lib/python3.11/dist-packages (from ultralytics) (1.26.4)\r\n",
      "Requirement already satisfied: matplotlib>=3.3.0 in /usr/local/lib/python3.11/dist-packages (from ultralytics) (3.7.5)\r\n",
      "Requirement already satisfied: opencv-python>=4.6.0 in /usr/local/lib/python3.11/dist-packages (from ultralytics) (4.11.0.86)\r\n",
      "Requirement already satisfied: pillow>=7.1.2 in /usr/local/lib/python3.11/dist-packages (from ultralytics) (11.1.0)\r\n",
      "Requirement already satisfied: pyyaml>=5.3.1 in /usr/local/lib/python3.11/dist-packages (from ultralytics) (6.0.2)\r\n",
      "Requirement already satisfied: requests>=2.23.0 in /usr/local/lib/python3.11/dist-packages (from ultralytics) (2.32.3)\r\n",
      "Requirement already satisfied: scipy>=1.4.1 in /usr/local/lib/python3.11/dist-packages (from ultralytics) (1.15.2)\r\n",
      "Requirement already satisfied: torch>=1.8.0 in /usr/local/lib/python3.11/dist-packages (from ultralytics) (2.5.1+cu124)\r\n",
      "Requirement already satisfied: torchvision>=0.9.0 in /usr/local/lib/python3.11/dist-packages (from ultralytics) (0.20.1+cu124)\r\n",
      "Requirement already satisfied: tqdm>=4.64.0 in /usr/local/lib/python3.11/dist-packages (from ultralytics) (4.67.1)\r\n",
      "Requirement already satisfied: psutil in /usr/local/lib/python3.11/dist-packages (from ultralytics) (7.0.0)\r\n",
      "Requirement already satisfied: py-cpuinfo in /usr/local/lib/python3.11/dist-packages (from ultralytics) (9.0.0)\r\n",
      "Requirement already satisfied: pandas>=1.1.4 in /usr/local/lib/python3.11/dist-packages (from ultralytics) (2.2.3)\r\n",
      "Collecting ultralytics-thop>=2.0.0 (from ultralytics)\r\n",
      "  Downloading ultralytics_thop-2.0.14-py3-none-any.whl.metadata (9.4 kB)\r\n",
      "Requirement already satisfied: contourpy>=1.0.1 in /usr/local/lib/python3.11/dist-packages (from matplotlib>=3.3.0->ultralytics) (1.3.1)\r\n",
      "Requirement already satisfied: cycler>=0.10 in /usr/local/lib/python3.11/dist-packages (from matplotlib>=3.3.0->ultralytics) (0.12.1)\r\n",
      "Requirement already satisfied: fonttools>=4.22.0 in /usr/local/lib/python3.11/dist-packages (from matplotlib>=3.3.0->ultralytics) (4.56.0)\r\n",
      "Requirement already satisfied: kiwisolver>=1.0.1 in /usr/local/lib/python3.11/dist-packages (from matplotlib>=3.3.0->ultralytics) (1.4.8)\r\n",
      "Requirement already satisfied: packaging>=20.0 in /usr/local/lib/python3.11/dist-packages (from matplotlib>=3.3.0->ultralytics) (24.2)\r\n",
      "Requirement already satisfied: pyparsing>=2.3.1 in /usr/local/lib/python3.11/dist-packages (from matplotlib>=3.3.0->ultralytics) (3.2.1)\r\n",
      "Requirement already satisfied: python-dateutil>=2.7 in /usr/local/lib/python3.11/dist-packages (from matplotlib>=3.3.0->ultralytics) (2.9.0.post0)\r\n",
      "Requirement already satisfied: mkl_fft in /usr/local/lib/python3.11/dist-packages (from numpy>=1.23.0->ultralytics) (1.3.8)\r\n",
      "Requirement already satisfied: mkl_random in /usr/local/lib/python3.11/dist-packages (from numpy>=1.23.0->ultralytics) (1.2.4)\r\n",
      "Requirement already satisfied: mkl_umath in /usr/local/lib/python3.11/dist-packages (from numpy>=1.23.0->ultralytics) (0.1.1)\r\n",
      "Requirement already satisfied: mkl in /usr/local/lib/python3.11/dist-packages (from numpy>=1.23.0->ultralytics) (2025.1.0)\r\n",
      "Requirement already satisfied: tbb4py in /usr/local/lib/python3.11/dist-packages (from numpy>=1.23.0->ultralytics) (2022.1.0)\r\n",
      "Requirement already satisfied: mkl-service in /usr/local/lib/python3.11/dist-packages (from numpy>=1.23.0->ultralytics) (2.4.1)\r\n",
      "Requirement already satisfied: pytz>=2020.1 in /usr/local/lib/python3.11/dist-packages (from pandas>=1.1.4->ultralytics) (2025.2)\r\n",
      "Requirement already satisfied: tzdata>=2022.7 in /usr/local/lib/python3.11/dist-packages (from pandas>=1.1.4->ultralytics) (2025.2)\r\n",
      "Requirement already satisfied: charset-normalizer<4,>=2 in /usr/local/lib/python3.11/dist-packages (from requests>=2.23.0->ultralytics) (3.4.1)\r\n",
      "Requirement already satisfied: idna<4,>=2.5 in /usr/local/lib/python3.11/dist-packages (from requests>=2.23.0->ultralytics) (3.10)\r\n",
      "Requirement already satisfied: urllib3<3,>=1.21.1 in /usr/local/lib/python3.11/dist-packages (from requests>=2.23.0->ultralytics) (2.3.0)\r\n",
      "Requirement already satisfied: certifi>=2017.4.17 in /usr/local/lib/python3.11/dist-packages (from requests>=2.23.0->ultralytics) (2025.1.31)\r\n",
      "Requirement already satisfied: filelock in /usr/local/lib/python3.11/dist-packages (from torch>=1.8.0->ultralytics) (3.18.0)\r\n",
      "Requirement already satisfied: typing-extensions>=4.8.0 in /usr/local/lib/python3.11/dist-packages (from torch>=1.8.0->ultralytics) (4.13.1)\r\n",
      "Requirement already satisfied: networkx in /usr/local/lib/python3.11/dist-packages (from torch>=1.8.0->ultralytics) (3.4.2)\r\n",
      "Requirement already satisfied: jinja2 in /usr/local/lib/python3.11/dist-packages (from torch>=1.8.0->ultralytics) (3.1.6)\r\n",
      "Requirement already satisfied: fsspec in /usr/local/lib/python3.11/dist-packages (from torch>=1.8.0->ultralytics) (2025.3.2)\r\n",
      "Requirement already satisfied: nvidia-cuda-nvrtc-cu12==12.4.127 in /usr/local/lib/python3.11/dist-packages (from torch>=1.8.0->ultralytics) (12.4.127)\r\n",
      "Requirement already satisfied: nvidia-cuda-runtime-cu12==12.4.127 in /usr/local/lib/python3.11/dist-packages (from torch>=1.8.0->ultralytics) (12.4.127)\r\n",
      "Requirement already satisfied: nvidia-cuda-cupti-cu12==12.4.127 in /usr/local/lib/python3.11/dist-packages (from torch>=1.8.0->ultralytics) (12.4.127)\r\n",
      "Collecting nvidia-cudnn-cu12==9.1.0.70 (from torch>=1.8.0->ultralytics)\r\n",
      "  Downloading nvidia_cudnn_cu12-9.1.0.70-py3-none-manylinux2014_x86_64.whl.metadata (1.6 kB)\r\n",
      "Collecting nvidia-cublas-cu12==12.4.5.8 (from torch>=1.8.0->ultralytics)\r\n",
      "  Downloading nvidia_cublas_cu12-12.4.5.8-py3-none-manylinux2014_x86_64.whl.metadata (1.5 kB)\r\n",
      "Collecting nvidia-cufft-cu12==11.2.1.3 (from torch>=1.8.0->ultralytics)\r\n",
      "  Downloading nvidia_cufft_cu12-11.2.1.3-py3-none-manylinux2014_x86_64.whl.metadata (1.5 kB)\r\n",
      "Collecting nvidia-curand-cu12==10.3.5.147 (from torch>=1.8.0->ultralytics)\r\n",
      "  Downloading nvidia_curand_cu12-10.3.5.147-py3-none-manylinux2014_x86_64.whl.metadata (1.5 kB)\r\n",
      "Collecting nvidia-cusolver-cu12==11.6.1.9 (from torch>=1.8.0->ultralytics)\r\n",
      "  Downloading nvidia_cusolver_cu12-11.6.1.9-py3-none-manylinux2014_x86_64.whl.metadata (1.6 kB)\r\n",
      "Collecting nvidia-cusparse-cu12==12.3.1.170 (from torch>=1.8.0->ultralytics)\r\n",
      "  Downloading nvidia_cusparse_cu12-12.3.1.170-py3-none-manylinux2014_x86_64.whl.metadata (1.6 kB)\r\n",
      "Requirement already satisfied: nvidia-nccl-cu12==2.21.5 in /usr/local/lib/python3.11/dist-packages (from torch>=1.8.0->ultralytics) (2.21.5)\r\n",
      "Requirement already satisfied: nvidia-nvtx-cu12==12.4.127 in /usr/local/lib/python3.11/dist-packages (from torch>=1.8.0->ultralytics) (12.4.127)\r\n",
      "Collecting nvidia-nvjitlink-cu12==12.4.127 (from torch>=1.8.0->ultralytics)\r\n",
      "  Downloading nvidia_nvjitlink_cu12-12.4.127-py3-none-manylinux2014_x86_64.whl.metadata (1.5 kB)\r\n",
      "Requirement already satisfied: triton==3.1.0 in /usr/local/lib/python3.11/dist-packages (from torch>=1.8.0->ultralytics) (3.1.0)\r\n",
      "Requirement already satisfied: sympy==1.13.1 in /usr/local/lib/python3.11/dist-packages (from torch>=1.8.0->ultralytics) (1.13.1)\r\n",
      "Requirement already satisfied: mpmath<1.4,>=1.1.0 in /usr/local/lib/python3.11/dist-packages (from sympy==1.13.1->torch>=1.8.0->ultralytics) (1.3.0)\r\n",
      "Requirement already satisfied: six>=1.5 in /usr/local/lib/python3.11/dist-packages (from python-dateutil>=2.7->matplotlib>=3.3.0->ultralytics) (1.17.0)\r\n",
      "Requirement already satisfied: MarkupSafe>=2.0 in /usr/local/lib/python3.11/dist-packages (from jinja2->torch>=1.8.0->ultralytics) (3.0.2)\r\n",
      "Requirement already satisfied: intel-openmp<2026,>=2024 in /usr/local/lib/python3.11/dist-packages (from mkl->numpy>=1.23.0->ultralytics) (2024.2.0)\r\n",
      "Requirement already satisfied: tbb==2022.* in /usr/local/lib/python3.11/dist-packages (from mkl->numpy>=1.23.0->ultralytics) (2022.1.0)\r\n",
      "Requirement already satisfied: tcmlib==1.* in /usr/local/lib/python3.11/dist-packages (from tbb==2022.*->mkl->numpy>=1.23.0->ultralytics) (1.2.0)\r\n",
      "Requirement already satisfied: intel-cmplr-lib-rt in /usr/local/lib/python3.11/dist-packages (from mkl_umath->numpy>=1.23.0->ultralytics) (2024.2.0)\r\n",
      "Requirement already satisfied: intel-cmplr-lib-ur==2024.2.0 in /usr/local/lib/python3.11/dist-packages (from intel-openmp<2026,>=2024->mkl->numpy>=1.23.0->ultralytics) (2024.2.0)\r\n",
      "Downloading ultralytics-8.3.146-py3-none-any.whl (1.0 MB)\r\n",
      "\u001b[2K   \u001b[90m━━━━━━━━━━━━━━━━━━━━━━━━━━━━━━━━━━━━━━━━\u001b[0m \u001b[32m1.0/1.0 MB\u001b[0m \u001b[31m20.4 MB/s\u001b[0m eta \u001b[36m0:00:00\u001b[0m\r\n",
      "\u001b[?25hDownloading nvidia_cublas_cu12-12.4.5.8-py3-none-manylinux2014_x86_64.whl (363.4 MB)\r\n",
      "\u001b[2K   \u001b[90m━━━━━━━━━━━━━━━━━━━━━━━━━━━━━━━━━━━━━━━━\u001b[0m \u001b[32m363.4/363.4 MB\u001b[0m \u001b[31m5.0 MB/s\u001b[0m eta \u001b[36m0:00:00\u001b[0m\r\n",
      "\u001b[?25hDownloading nvidia_cudnn_cu12-9.1.0.70-py3-none-manylinux2014_x86_64.whl (664.8 MB)\r\n",
      "\u001b[2K   \u001b[90m━━━━━━━━━━━━━━━━━━━━━━━━━━━━━━━━━━━━━━━━\u001b[0m \u001b[32m664.8/664.8 MB\u001b[0m \u001b[31m2.3 MB/s\u001b[0m eta \u001b[36m0:00:00\u001b[0m\r\n",
      "\u001b[?25hDownloading nvidia_cufft_cu12-11.2.1.3-py3-none-manylinux2014_x86_64.whl (211.5 MB)\r\n",
      "\u001b[2K   \u001b[90m━━━━━━━━━━━━━━━━━━━━━━━━━━━━━━━━━━━━━━━━\u001b[0m \u001b[32m211.5/211.5 MB\u001b[0m \u001b[31m4.3 MB/s\u001b[0m eta \u001b[36m0:00:00\u001b[0m\r\n",
      "\u001b[?25hDownloading nvidia_curand_cu12-10.3.5.147-py3-none-manylinux2014_x86_64.whl (56.3 MB)\r\n",
      "\u001b[2K   \u001b[90m━━━━━━━━━━━━━━━━━━━━━━━━━━━━━━━━━━━━━━━━\u001b[0m \u001b[32m56.3/56.3 MB\u001b[0m \u001b[31m3.1 MB/s\u001b[0m eta \u001b[36m0:00:00\u001b[0m\r\n",
      "\u001b[?25hDownloading nvidia_cusolver_cu12-11.6.1.9-py3-none-manylinux2014_x86_64.whl (127.9 MB)\r\n",
      "\u001b[2K   \u001b[90m━━━━━━━━━━━━━━━━━━━━━━━━━━━━━━━━━━━━━━━━\u001b[0m \u001b[32m127.9/127.9 MB\u001b[0m \u001b[31m13.5 MB/s\u001b[0m eta \u001b[36m0:00:00\u001b[0m\r\n",
      "\u001b[?25hDownloading nvidia_cusparse_cu12-12.3.1.170-py3-none-manylinux2014_x86_64.whl (207.5 MB)\r\n",
      "\u001b[2K   \u001b[90m━━━━━━━━━━━━━━━━━━━━━━━━━━━━━━━━━━━━━━━━\u001b[0m \u001b[32m207.5/207.5 MB\u001b[0m \u001b[31m8.2 MB/s\u001b[0m eta \u001b[36m0:00:00\u001b[0m\r\n",
      "\u001b[?25hDownloading nvidia_nvjitlink_cu12-12.4.127-py3-none-manylinux2014_x86_64.whl (21.1 MB)\r\n",
      "\u001b[2K   \u001b[90m━━━━━━━━━━━━━━━━━━━━━━━━━━━━━━━━━━━━━━━━\u001b[0m \u001b[32m21.1/21.1 MB\u001b[0m \u001b[31m71.7 MB/s\u001b[0m eta \u001b[36m0:00:00\u001b[0m\r\n",
      "\u001b[?25hDownloading ultralytics_thop-2.0.14-py3-none-any.whl (26 kB)\r\n",
      "Installing collected packages: nvidia-nvjitlink-cu12, nvidia-curand-cu12, nvidia-cufft-cu12, nvidia-cublas-cu12, nvidia-cusparse-cu12, nvidia-cudnn-cu12, nvidia-cusolver-cu12, ultralytics-thop, ultralytics\r\n",
      "  Attempting uninstall: nvidia-nvjitlink-cu12\r\n",
      "    Found existing installation: nvidia-nvjitlink-cu12 12.8.93\r\n",
      "    Uninstalling nvidia-nvjitlink-cu12-12.8.93:\r\n",
      "      Successfully uninstalled nvidia-nvjitlink-cu12-12.8.93\r\n",
      "  Attempting uninstall: nvidia-curand-cu12\r\n",
      "    Found existing installation: nvidia-curand-cu12 10.3.9.90\r\n",
      "    Uninstalling nvidia-curand-cu12-10.3.9.90:\r\n",
      "      Successfully uninstalled nvidia-curand-cu12-10.3.9.90\r\n",
      "  Attempting uninstall: nvidia-cufft-cu12\r\n",
      "    Found existing installation: nvidia-cufft-cu12 11.3.3.83\r\n",
      "    Uninstalling nvidia-cufft-cu12-11.3.3.83:\r\n",
      "      Successfully uninstalled nvidia-cufft-cu12-11.3.3.83\r\n",
      "  Attempting uninstall: nvidia-cublas-cu12\r\n",
      "    Found existing installation: nvidia-cublas-cu12 12.8.4.1\r\n",
      "    Uninstalling nvidia-cublas-cu12-12.8.4.1:\r\n",
      "      Successfully uninstalled nvidia-cublas-cu12-12.8.4.1\r\n",
      "  Attempting uninstall: nvidia-cusparse-cu12\r\n",
      "    Found existing installation: nvidia-cusparse-cu12 12.5.8.93\r\n",
      "    Uninstalling nvidia-cusparse-cu12-12.5.8.93:\r\n",
      "      Successfully uninstalled nvidia-cusparse-cu12-12.5.8.93\r\n",
      "  Attempting uninstall: nvidia-cudnn-cu12\r\n",
      "    Found existing installation: nvidia-cudnn-cu12 9.3.0.75\r\n",
      "    Uninstalling nvidia-cudnn-cu12-9.3.0.75:\r\n",
      "      Successfully uninstalled nvidia-cudnn-cu12-9.3.0.75\r\n",
      "  Attempting uninstall: nvidia-cusolver-cu12\r\n",
      "    Found existing installation: nvidia-cusolver-cu12 11.7.3.90\r\n",
      "    Uninstalling nvidia-cusolver-cu12-11.7.3.90:\r\n",
      "      Successfully uninstalled nvidia-cusolver-cu12-11.7.3.90\r\n",
      "\u001b[31mERROR: pip's dependency resolver does not currently take into account all the packages that are installed. This behaviour is the source of the following dependency conflicts.\r\n",
      "pylibcugraph-cu12 24.12.0 requires pylibraft-cu12==24.12.*, but you have pylibraft-cu12 25.2.0 which is incompatible.\r\n",
      "pylibcugraph-cu12 24.12.0 requires rmm-cu12==24.12.*, but you have rmm-cu12 25.2.0 which is incompatible.\u001b[0m\u001b[31m\r\n",
      "\u001b[0mSuccessfully installed nvidia-cublas-cu12-12.4.5.8 nvidia-cudnn-cu12-9.1.0.70 nvidia-cufft-cu12-11.2.1.3 nvidia-curand-cu12-10.3.5.147 nvidia-cusolver-cu12-11.6.1.9 nvidia-cusparse-cu12-12.3.1.170 nvidia-nvjitlink-cu12-12.4.127 ultralytics-8.3.146 ultralytics-thop-2.0.14\r\n",
      "Collecting torchtoolbox\r\n",
      "  Downloading torchtoolbox-0.1.8.2-py3-none-any.whl.metadata (15 kB)\r\n",
      "Requirement already satisfied: numpy in /usr/local/lib/python3.11/dist-packages (from torchtoolbox) (1.26.4)\r\n",
      "Requirement already satisfied: tqdm in /usr/local/lib/python3.11/dist-packages (from torchtoolbox) (4.67.1)\r\n",
      "Requirement already satisfied: pyarrow in /usr/local/lib/python3.11/dist-packages (from torchtoolbox) (19.0.1)\r\n",
      "Requirement already satisfied: six in /usr/local/lib/python3.11/dist-packages (from torchtoolbox) (1.17.0)\r\n",
      "Collecting lmdb (from torchtoolbox)\r\n",
      "  Downloading lmdb-1.6.2-cp311-cp311-manylinux_2_17_x86_64.manylinux2014_x86_64.whl.metadata (1.1 kB)\r\n",
      "Requirement already satisfied: scikit-learn in /usr/local/lib/python3.11/dist-packages (from torchtoolbox) (1.2.2)\r\n",
      "Requirement already satisfied: scipy in /usr/local/lib/python3.11/dist-packages (from torchtoolbox) (1.15.2)\r\n",
      "Requirement already satisfied: opencv-python in /usr/local/lib/python3.11/dist-packages (from torchtoolbox) (4.11.0.86)\r\n",
      "Requirement already satisfied: pyyaml in /usr/local/lib/python3.11/dist-packages (from torchtoolbox) (6.0.2)\r\n",
      "Requirement already satisfied: tensorboard in /usr/local/lib/python3.11/dist-packages (from torchtoolbox) (2.18.0)\r\n",
      "Requirement already satisfied: prettytable in /usr/local/lib/python3.11/dist-packages (from torchtoolbox) (3.14.0)\r\n",
      "Requirement already satisfied: transformers in /usr/local/lib/python3.11/dist-packages (from torchtoolbox) (4.51.1)\r\n",
      "Requirement already satisfied: mkl_fft in /usr/local/lib/python3.11/dist-packages (from numpy->torchtoolbox) (1.3.8)\r\n",
      "Requirement already satisfied: mkl_random in /usr/local/lib/python3.11/dist-packages (from numpy->torchtoolbox) (1.2.4)\r\n",
      "Requirement already satisfied: mkl_umath in /usr/local/lib/python3.11/dist-packages (from numpy->torchtoolbox) (0.1.1)\r\n",
      "Requirement already satisfied: mkl in /usr/local/lib/python3.11/dist-packages (from numpy->torchtoolbox) (2025.1.0)\r\n",
      "Requirement already satisfied: tbb4py in /usr/local/lib/python3.11/dist-packages (from numpy->torchtoolbox) (2022.1.0)\r\n",
      "Requirement already satisfied: mkl-service in /usr/local/lib/python3.11/dist-packages (from numpy->torchtoolbox) (2.4.1)\r\n",
      "Requirement already satisfied: wcwidth in /usr/local/lib/python3.11/dist-packages (from prettytable->torchtoolbox) (0.2.13)\r\n",
      "Requirement already satisfied: joblib>=1.1.1 in /usr/local/lib/python3.11/dist-packages (from scikit-learn->torchtoolbox) (1.4.2)\r\n",
      "Requirement already satisfied: threadpoolctl>=2.0.0 in /usr/local/lib/python3.11/dist-packages (from scikit-learn->torchtoolbox) (3.6.0)\r\n",
      "Requirement already satisfied: absl-py>=0.4 in /usr/local/lib/python3.11/dist-packages (from tensorboard->torchtoolbox) (1.4.0)\r\n",
      "Requirement already satisfied: grpcio>=1.48.2 in /usr/local/lib/python3.11/dist-packages (from tensorboard->torchtoolbox) (1.70.0)\r\n",
      "Requirement already satisfied: markdown>=2.6.8 in /usr/local/lib/python3.11/dist-packages (from tensorboard->torchtoolbox) (3.7)\r\n",
      "Requirement already satisfied: packaging in /usr/local/lib/python3.11/dist-packages (from tensorboard->torchtoolbox) (24.2)\r\n",
      "Requirement already satisfied: protobuf!=4.24.0,>=3.19.6 in /usr/local/lib/python3.11/dist-packages (from tensorboard->torchtoolbox) (3.20.3)\r\n",
      "Requirement already satisfied: setuptools>=41.0.0 in /usr/local/lib/python3.11/dist-packages (from tensorboard->torchtoolbox) (75.1.0)\r\n",
      "Requirement already satisfied: tensorboard-data-server<0.8.0,>=0.7.0 in /usr/local/lib/python3.11/dist-packages (from tensorboard->torchtoolbox) (0.7.2)\r\n",
      "Requirement already satisfied: werkzeug>=1.0.1 in /usr/local/lib/python3.11/dist-packages (from tensorboard->torchtoolbox) (3.1.3)\r\n",
      "Requirement already satisfied: filelock in /usr/local/lib/python3.11/dist-packages (from transformers->torchtoolbox) (3.18.0)\r\n",
      "Requirement already satisfied: huggingface-hub<1.0,>=0.30.0 in /usr/local/lib/python3.11/dist-packages (from transformers->torchtoolbox) (0.30.2)\r\n",
      "Requirement already satisfied: regex!=2019.12.17 in /usr/local/lib/python3.11/dist-packages (from transformers->torchtoolbox) (2024.11.6)\r\n",
      "Requirement already satisfied: requests in /usr/local/lib/python3.11/dist-packages (from transformers->torchtoolbox) (2.32.3)\r\n",
      "Requirement already satisfied: tokenizers<0.22,>=0.21 in /usr/local/lib/python3.11/dist-packages (from transformers->torchtoolbox) (0.21.0)\r\n",
      "Requirement already satisfied: safetensors>=0.4.3 in /usr/local/lib/python3.11/dist-packages (from transformers->torchtoolbox) (0.5.2)\r\n",
      "Requirement already satisfied: fsspec>=2023.5.0 in /usr/local/lib/python3.11/dist-packages (from huggingface-hub<1.0,>=0.30.0->transformers->torchtoolbox) (2025.3.2)\r\n",
      "Requirement already satisfied: typing-extensions>=3.7.4.3 in /usr/local/lib/python3.11/dist-packages (from huggingface-hub<1.0,>=0.30.0->transformers->torchtoolbox) (4.13.1)\r\n",
      "Requirement already satisfied: MarkupSafe>=2.1.1 in /usr/local/lib/python3.11/dist-packages (from werkzeug>=1.0.1->tensorboard->torchtoolbox) (3.0.2)\r\n",
      "Requirement already satisfied: intel-openmp<2026,>=2024 in /usr/local/lib/python3.11/dist-packages (from mkl->numpy->torchtoolbox) (2024.2.0)\r\n",
      "Requirement already satisfied: tbb==2022.* in /usr/local/lib/python3.11/dist-packages (from mkl->numpy->torchtoolbox) (2022.1.0)\r\n",
      "Requirement already satisfied: tcmlib==1.* in /usr/local/lib/python3.11/dist-packages (from tbb==2022.*->mkl->numpy->torchtoolbox) (1.2.0)\r\n",
      "Requirement already satisfied: intel-cmplr-lib-rt in /usr/local/lib/python3.11/dist-packages (from mkl_umath->numpy->torchtoolbox) (2024.2.0)\r\n",
      "Requirement already satisfied: charset-normalizer<4,>=2 in /usr/local/lib/python3.11/dist-packages (from requests->transformers->torchtoolbox) (3.4.1)\r\n",
      "Requirement already satisfied: idna<4,>=2.5 in /usr/local/lib/python3.11/dist-packages (from requests->transformers->torchtoolbox) (3.10)\r\n",
      "Requirement already satisfied: urllib3<3,>=1.21.1 in /usr/local/lib/python3.11/dist-packages (from requests->transformers->torchtoolbox) (2.3.0)\r\n",
      "Requirement already satisfied: certifi>=2017.4.17 in /usr/local/lib/python3.11/dist-packages (from requests->transformers->torchtoolbox) (2025.1.31)\r\n",
      "Requirement already satisfied: intel-cmplr-lib-ur==2024.2.0 in /usr/local/lib/python3.11/dist-packages (from intel-openmp<2026,>=2024->mkl->numpy->torchtoolbox) (2024.2.0)\r\n",
      "Downloading torchtoolbox-0.1.8.2-py3-none-any.whl (84 kB)\r\n",
      "\u001b[2K   \u001b[90m━━━━━━━━━━━━━━━━━━━━━━━━━━━━━━━━━━━━━━━━\u001b[0m \u001b[32m85.0/85.0 kB\u001b[0m \u001b[31m3.1 MB/s\u001b[0m eta \u001b[36m0:00:00\u001b[0m\r\n",
      "\u001b[?25hDownloading lmdb-1.6.2-cp311-cp311-manylinux_2_17_x86_64.manylinux2014_x86_64.whl (297 kB)\r\n",
      "\u001b[2K   \u001b[90m━━━━━━━━━━━━━━━━━━━━━━━━━━━━━━━━━━━━━━━━\u001b[0m \u001b[32m297.8/297.8 kB\u001b[0m \u001b[31m11.2 MB/s\u001b[0m eta \u001b[36m0:00:00\u001b[0m\r\n",
      "\u001b[?25hInstalling collected packages: lmdb, torchtoolbox\r\n",
      "Successfully installed lmdb-1.6.2 torchtoolbox-0.1.8.2\r\n"
     ]
    }
   ],
   "source": [
    "!pip install ultralytics\n",
    "!pip install torchtoolbox"
   ]
  },
  {
   "cell_type": "code",
   "execution_count": 2,
   "id": "3e5d8f53",
   "metadata": {
    "_cell_guid": "34fc1bde-3d5c-48ad-a766-a52bf3352ddf",
    "_uuid": "da994790-0065-4f40-b888-cee883946776",
    "collapsed": false,
    "execution": {
     "iopub.execute_input": "2025-05-29T13:21:09.371838Z",
     "iopub.status.busy": "2025-05-29T13:21:09.371542Z",
     "iopub.status.idle": "2025-05-30T00:40:39.288355Z",
     "shell.execute_reply": "2025-05-30T00:40:39.287579Z"
    },
    "jupyter": {
     "outputs_hidden": false
    },
    "papermill": {
     "duration": 40769.946393,
     "end_time": "2025-05-30T00:40:39.290977",
     "exception": false,
     "start_time": "2025-05-29T13:21:09.344584",
     "status": "completed"
    },
    "tags": []
   },
   "outputs": [
    {
     "name": "stdout",
     "output_type": "stream",
     "text": [
      "Creating new Ultralytics Settings v0.0.6 file ✅ \n",
      "View Ultralytics Settings with 'yolo settings' or at '/root/.config/Ultralytics/settings.json'\n",
      "Update Settings with 'yolo settings key=value', i.e. 'yolo settings runs_dir=path/to/dir'. For help see https://docs.ultralytics.com/quickstart/#ultralytics-settings.\n"
     ]
    },
    {
     "name": "stderr",
     "output_type": "stream",
     "text": [
      "/usr/local/lib/python3.11/dist-packages/torch/nn/modules/transformer.py:379: UserWarning: enable_nested_tensor is True, but self.use_nested_tensor is False because encoder_layer.norm_first was True\n",
      "  warnings.warn(\n",
      "Epoch 1/27 [TRAIN] LR: 1.05e-05 Teach: 0.70 Scheduler: OneCycleLR:   0%|          | 1/978 [00:08<2:16:08,  8.36s/it, loss=0.729]"
     ]
    },
    {
     "name": "stdout",
     "output_type": "stream",
     "text": [
      "\n",
      "--- Training Batch 0 Examples (Content Only) ---\n",
      "  Pred: '36C12372'\n",
      "  True: '36C12372'\n",
      "  Pred: '29U134963'\n",
      "  True: '29U134963'\n",
      "  Pred: '36A07313'\n",
      "  True: '36A07313'\n",
      "  Pred: '36L6286'\n",
      "  True: '36L6286'\n",
      "  Pred: '92C11539'\n",
      "  True: '92C11539'\n",
      "-------------------------------\n"
     ]
    },
    {
     "name": "stderr",
     "output_type": "stream",
     "text": [
      "Epoch 1/27 [TRAIN] LR: 1.05e-05 Teach: 0.70 Scheduler: OneCycleLR: 100%|██████████| 978/978 [21:17<00:00,  1.31s/it, loss=0.816]\n",
      "Epoch 1/27 [VAL]: 100%|██████████| 113/113 [03:01<00:00,  1.61s/it, loss=0.841]\n"
     ]
    },
    {
     "name": "stdout",
     "output_type": "stream",
     "text": [
      "EarlyStopping: New best val_acc: 0.9502\n",
      "\n",
      "Epoch 1/27 | LR: 8.70e-05 | Teach: 0.70 | Scheduler: OneCycleLR\n",
      "  Train Loss: 0.7765 | Train Char Acc: 0.9728\n",
      "  Val Loss: 0.8442   | Val Acc (CRR): 0.9502\n",
      "  Val Exact Match Acc (E2E RR): 0.7524\n",
      "----------------------------------------------------------------------\n",
      "*** New best validation accuracy: 0.9502. Saving best_model.pth ***\n"
     ]
    },
    {
     "name": "stderr",
     "output_type": "stream",
     "text": [
      "Epoch 2/27 [TRAIN] LR: 8.70e-05 Teach: 0.67 Scheduler: OneCycleLR:   0%|          | 1/978 [00:05<1:35:59,  5.90s/it, loss=0.771]"
     ]
    },
    {
     "name": "stdout",
     "output_type": "stream",
     "text": [
      "\n",
      "--- Training Batch 0 Examples (Content Only) ---\n",
      "  Pred: '29H02245'\n",
      "  True: '29H02245'\n",
      "  Pred: '36B02460'\n",
      "  True: '36B02460'\n",
      "  Pred: '29A02369'\n",
      "  True: '29A02369'\n",
      "  Pred: '36A42332'\n",
      "  True: '36A42332'\n",
      "  Pred: '36M1759'\n",
      "  True: '36M2759'\n",
      "-------------------------------\n"
     ]
    },
    {
     "name": "stderr",
     "output_type": "stream",
     "text": [
      "Epoch 2/27 [TRAIN] LR: 8.70e-05 Teach: 0.67 Scheduler: OneCycleLR: 100%|██████████| 978/978 [21:23<00:00,  1.31s/it, loss=0.758]\n",
      "Epoch 2/27 [VAL]: 100%|██████████| 113/113 [02:56<00:00,  1.56s/it, loss=0.889]\n"
     ]
    },
    {
     "name": "stdout",
     "output_type": "stream",
     "text": [
      "EarlyStopping: New best val_acc: 0.9514\n",
      "\n",
      "Epoch 2/27 | LR: 1.86e-04 | Teach: 0.67 | Scheduler: OneCycleLR\n",
      "  Train Loss: 0.7804 | Train Char Acc: 0.9715\n",
      "  Val Loss: 0.8512   | Val Acc (CRR): 0.9514\n",
      "  Val Exact Match Acc (E2E RR): 0.7597\n",
      "----------------------------------------------------------------------\n",
      "*** New best validation accuracy: 0.9514. Saving best_model.pth ***\n"
     ]
    },
    {
     "name": "stderr",
     "output_type": "stream",
     "text": [
      "Epoch 3/27 [TRAIN] LR: 1.86e-04 Teach: 0.65 Scheduler: OneCycleLR:   0%|          | 1/978 [00:05<1:29:48,  5.52s/it, loss=0.822]"
     ]
    },
    {
     "name": "stdout",
     "output_type": "stream",
     "text": [
      "\n",
      "--- Training Batch 0 Examples (Content Only) ---\n",
      "  Pred: '36A09283'\n",
      "  True: '36A09283'\n",
      "  Pred: '18E132964'\n",
      "  True: '18E132964'\n",
      "  Pred: '36A39849'\n",
      "  True: '36A39849'\n",
      "  Pred: '30F2665'\n",
      "  True: '30F2665'\n",
      "  Pred: '36A01460'\n",
      "  True: '36A01460'\n",
      "-------------------------------\n"
     ]
    },
    {
     "name": "stderr",
     "output_type": "stream",
     "text": [
      "Epoch 3/27 [TRAIN] LR: 1.86e-04 Teach: 0.65 Scheduler: OneCycleLR: 100%|██████████| 978/978 [21:24<00:00,  1.31s/it, loss=0.81]\n",
      "Epoch 3/27 [VAL]: 100%|██████████| 113/113 [02:55<00:00,  1.55s/it, loss=0.847]\n"
     ]
    },
    {
     "name": "stdout",
     "output_type": "stream",
     "text": [
      "EarlyStopping counter: 1/7 (Best val_acc: 0.9514)\n",
      "\n",
      "Epoch 3/27 | LR: 3.14e-04 | Teach: 0.65 | Scheduler: OneCycleLR\n",
      "  Train Loss: 0.7840 | Train Char Acc: 0.9703\n",
      "  Val Loss: 0.8649   | Val Acc (CRR): 0.9446\n",
      "  Val Exact Match Acc (E2E RR): 0.7324\n",
      "----------------------------------------------------------------------\n"
     ]
    },
    {
     "name": "stderr",
     "output_type": "stream",
     "text": [
      "Epoch 4/27 [TRAIN] LR: 3.14e-04 Teach: 0.62 Scheduler: OneCycleLR:   0%|          | 1/978 [00:05<1:30:15,  5.54s/it, loss=0.819]"
     ]
    },
    {
     "name": "stdout",
     "output_type": "stream",
     "text": [
      "\n",
      "--- Training Batch 0 Examples (Content Only) ---\n",
      "  Pred: '36B00331'\n",
      "  True: '36B00931'\n",
      "  Pred: '36C08789'\n",
      "  True: '36C08784'\n",
      "  Pred: '36A39739'\n",
      "  True: '36A39739'\n",
      "  Pred: '36M6668'\n",
      "  True: '36M6688'\n",
      "  Pred: '36D00499'\n",
      "  True: '36D00499'\n",
      "-------------------------------\n"
     ]
    },
    {
     "name": "stderr",
     "output_type": "stream",
     "text": [
      "Epoch 4/27 [TRAIN] LR: 3.14e-04 Teach: 0.62 Scheduler: OneCycleLR: 100%|██████████| 978/978 [21:23<00:00,  1.31s/it, loss=0.866]\n",
      "Epoch 4/27 [VAL]: 100%|██████████| 113/113 [02:55<00:00,  1.56s/it, loss=0.976]\n",
      "/usr/local/lib/python3.11/dist-packages/torch/optim/lr_scheduler.py:62: UserWarning: The verbose parameter is deprecated. Please use get_last_lr() to access the learning rate.\n",
      "  warnings.warn(\n"
     ]
    },
    {
     "name": "stdout",
     "output_type": "stream",
     "text": [
      "EarlyStopping counter: 2/7 (Best val_acc: 0.9514)\n",
      "Val Acc stalled for 7 epochs. Switching to ReduceLROnPlateau.\n",
      "\n",
      "Epoch 4/27 | LR: 4.30e-04 | Teach: 0.62 | Scheduler: ReduceLROnPlateau\n",
      "  Train Loss: 0.7874 | Train Char Acc: 0.9701\n",
      "  Val Loss: 0.8564   | Val Acc (CRR): 0.9466\n",
      "  Val Exact Match Acc (E2E RR): 0.7491\n",
      "----------------------------------------------------------------------\n"
     ]
    },
    {
     "name": "stderr",
     "output_type": "stream",
     "text": [
      "Epoch 5/27 [TRAIN] LR: 4.30e-04 Teach: 0.60 Scheduler: ReduceLROnPlateau:   0%|          | 1/978 [00:06<1:37:48,  6.01s/it, loss=0.775]"
     ]
    },
    {
     "name": "stdout",
     "output_type": "stream",
     "text": [
      "\n",
      "--- Training Batch 0 Examples (Content Only) ---\n",
      "  Pred: '36A13778'\n",
      "  True: '36A13778'\n",
      "  Pred: '36C24029'\n",
      "  True: '36C24029'\n",
      "  Pred: '36A33109'\n",
      "  True: '36A33109'\n",
      "  Pred: '36B0904'\n",
      "  True: '36B0904'\n",
      "  Pred: '29X142506'\n",
      "  True: '29X742506'\n",
      "-------------------------------\n"
     ]
    },
    {
     "name": "stderr",
     "output_type": "stream",
     "text": [
      "Epoch 5/27 [TRAIN] LR: 4.30e-04 Teach: 0.60 Scheduler: ReduceLROnPlateau: 100%|██████████| 978/978 [21:30<00:00,  1.32s/it, loss=0.828]\n",
      "Epoch 5/27 [VAL]: 100%|██████████| 113/113 [02:56<00:00,  1.56s/it, loss=0.781]\n"
     ]
    },
    {
     "name": "stdout",
     "output_type": "stream",
     "text": [
      "EarlyStopping: New best val_acc: 0.9584\n",
      "\n",
      "Epoch 5/27 | LR: 4.30e-04 | Teach: 0.60 | Scheduler: ReduceLROnPlateau\n",
      "  Train Loss: 0.7739 | Train Char Acc: 0.9740\n",
      "  Val Loss: 0.8240   | Val Acc (CRR): 0.9584\n",
      "  Val Exact Match Acc (E2E RR): 0.7947\n",
      "----------------------------------------------------------------------\n",
      "*** New best validation accuracy: 0.9584. Saving best_model.pth ***\n"
     ]
    },
    {
     "name": "stderr",
     "output_type": "stream",
     "text": [
      "Epoch 6/27 [TRAIN] LR: 4.30e-04 Teach: 0.57 Scheduler: ReduceLROnPlateau:   0%|          | 1/978 [00:05<1:30:41,  5.57s/it, loss=0.776]"
     ]
    },
    {
     "name": "stdout",
     "output_type": "stream",
     "text": [
      "\n",
      "--- Training Batch 0 Examples (Content Only) ---\n",
      "  Pred: '36C23353'\n",
      "  True: '36C21353'\n",
      "  Pred: '36A43001'\n",
      "  True: '36A43001'\n",
      "  Pred: '36C20649'\n",
      "  True: '36C20649'\n",
      "  Pred: '36L5022'\n",
      "  True: '36L5022'\n",
      "  Pred: '36C21386'\n",
      "  True: '36C21386'\n",
      "-------------------------------\n"
     ]
    },
    {
     "name": "stderr",
     "output_type": "stream",
     "text": [
      "Epoch 6/27 [TRAIN] LR: 4.30e-04 Teach: 0.57 Scheduler: ReduceLROnPlateau: 100%|██████████| 978/978 [21:34<00:00,  1.32s/it, loss=0.745]\n",
      "Epoch 6/27 [VAL]: 100%|██████████| 113/113 [02:55<00:00,  1.56s/it, loss=0.75]\n"
     ]
    },
    {
     "name": "stdout",
     "output_type": "stream",
     "text": [
      "EarlyStopping: New best val_acc: 0.9623\n",
      "\n",
      "Epoch 6/27 | LR: 4.30e-04 | Teach: 0.57 | Scheduler: ReduceLROnPlateau\n",
      "  Train Loss: 0.7668 | Train Char Acc: 0.9760\n",
      "  Val Loss: 0.8163   | Val Acc (CRR): 0.9623\n",
      "  Val Exact Match Acc (E2E RR): 0.8041\n",
      "----------------------------------------------------------------------\n",
      "*** New best validation accuracy: 0.9623. Saving best_model.pth ***\n"
     ]
    },
    {
     "name": "stderr",
     "output_type": "stream",
     "text": [
      "Epoch 7/27 [TRAIN] LR: 4.30e-04 Teach: 0.55 Scheduler: ReduceLROnPlateau:   0%|          | 1/978 [00:06<1:41:59,  6.26s/it, loss=0.742]"
     ]
    },
    {
     "name": "stdout",
     "output_type": "stream",
     "text": [
      "\n",
      "--- Training Batch 0 Examples (Content Only) ---\n",
      "  Pred: '36C24631'\n",
      "  True: '36C24631'\n",
      "  Pred: '36A40112'\n",
      "  True: '36A40112'\n",
      "  Pred: '29P151023'\n",
      "  True: '29P151023'\n",
      "  Pred: '36C29050'\n",
      "  True: '36C29050'\n",
      "  Pred: '36C02619'\n",
      "  True: '36C02619'\n",
      "-------------------------------\n"
     ]
    },
    {
     "name": "stderr",
     "output_type": "stream",
     "text": [
      "Epoch 7/27 [TRAIN] LR: 4.30e-04 Teach: 0.55 Scheduler: ReduceLROnPlateau: 100%|██████████| 978/978 [21:26<00:00,  1.32s/it, loss=0.845]\n",
      "Epoch 7/27 [VAL]: 100%|██████████| 113/113 [02:56<00:00,  1.56s/it, loss=0.751]\n"
     ]
    },
    {
     "name": "stdout",
     "output_type": "stream",
     "text": [
      "EarlyStopping counter: 1/7 (Best val_acc: 0.9623)\n",
      "\n",
      "Epoch 7/27 | LR: 4.30e-04 | Teach: 0.55 | Scheduler: ReduceLROnPlateau\n",
      "  Train Loss: 0.7621 | Train Char Acc: 0.9774\n",
      "  Val Loss: 0.8217   | Val Acc (CRR): 0.9600\n",
      "  Val Exact Match Acc (E2E RR): 0.8097\n",
      "----------------------------------------------------------------------\n"
     ]
    },
    {
     "name": "stderr",
     "output_type": "stream",
     "text": [
      "Epoch 8/27 [TRAIN] LR: 4.30e-04 Teach: 0.53 Scheduler: ReduceLROnPlateau:   0%|          | 1/978 [00:05<1:37:20,  5.98s/it, loss=0.752]"
     ]
    },
    {
     "name": "stdout",
     "output_type": "stream",
     "text": [
      "\n",
      "--- Training Batch 0 Examples (Content Only) ---\n",
      "  Pred: '37N101263'\n",
      "  True: '37N101263'\n",
      "  Pred: '36A43279'\n",
      "  True: '36A43279'\n",
      "  Pred: '98B181007'\n",
      "  True: '98B181007'\n",
      "  Pred: '90B102088'\n",
      "  True: '90B102088'\n",
      "  Pred: '36A42143'\n",
      "  True: '36A42143'\n",
      "-------------------------------\n"
     ]
    },
    {
     "name": "stderr",
     "output_type": "stream",
     "text": [
      "Epoch 8/27 [TRAIN] LR: 4.30e-04 Teach: 0.53 Scheduler: ReduceLROnPlateau: 100%|██████████| 978/978 [21:51<00:00,  1.34s/it, loss=0.733]\n",
      "Epoch 8/27 [VAL]: 100%|██████████| 113/113 [02:55<00:00,  1.56s/it, loss=0.73]\n"
     ]
    },
    {
     "name": "stdout",
     "output_type": "stream",
     "text": [
      "EarlyStopping: New best val_acc: 0.9637\n",
      "\n",
      "Epoch 8/27 | LR: 4.30e-04 | Teach: 0.53 | Scheduler: ReduceLROnPlateau\n",
      "  Train Loss: 0.7589 | Train Char Acc: 0.9784\n",
      "  Val Loss: 0.8080   | Val Acc (CRR): 0.9637\n",
      "  Val Exact Match Acc (E2E RR): 0.8236\n",
      "----------------------------------------------------------------------\n",
      "*** New best validation accuracy: 0.9637. Saving best_model.pth ***\n"
     ]
    },
    {
     "name": "stderr",
     "output_type": "stream",
     "text": [
      "Epoch 9/27 [TRAIN] LR: 4.30e-04 Teach: 0.50 Scheduler: ReduceLROnPlateau:   0%|          | 1/978 [00:05<1:33:19,  5.73s/it, loss=0.775]"
     ]
    },
    {
     "name": "stdout",
     "output_type": "stream",
     "text": [
      "\n",
      "--- Training Batch 0 Examples (Content Only) ---\n",
      "  Pred: '36A24073'\n",
      "  True: '36A24073'\n",
      "  Pred: '36N4700'\n",
      "  True: '36N4700'\n",
      "  Pred: '29A84092'\n",
      "  True: '29A84092'\n",
      "  Pred: '38K127364'\n",
      "  True: '38X127364'\n",
      "  Pred: '36B01497'\n",
      "  True: '36B01497'\n",
      "-------------------------------\n"
     ]
    },
    {
     "name": "stderr",
     "output_type": "stream",
     "text": [
      "Epoch 9/27 [TRAIN] LR: 4.30e-04 Teach: 0.50 Scheduler: ReduceLROnPlateau: 100%|██████████| 978/978 [21:48<00:00,  1.34s/it, loss=0.758]\n",
      "Epoch 9/27 [VAL]: 100%|██████████| 113/113 [02:57<00:00,  1.57s/it, loss=0.735]\n"
     ]
    },
    {
     "name": "stdout",
     "output_type": "stream",
     "text": [
      "EarlyStopping: New best val_acc: 0.9703\n",
      "\n",
      "Epoch 9/27 | LR: 4.30e-04 | Teach: 0.50 | Scheduler: ReduceLROnPlateau\n",
      "  Train Loss: 0.7501 | Train Char Acc: 0.9813\n",
      "  Val Loss: 0.7891   | Val Acc (CRR): 0.9703\n",
      "  Val Exact Match Acc (E2E RR): 0.8505\n",
      "----------------------------------------------------------------------\n",
      "*** New best validation accuracy: 0.9703. Saving best_model.pth ***\n"
     ]
    },
    {
     "name": "stderr",
     "output_type": "stream",
     "text": [
      "Epoch 10/27 [TRAIN] LR: 4.30e-04 Teach: 0.47 Scheduler: ReduceLROnPlateau:   0%|          | 1/978 [00:05<1:36:39,  5.94s/it, loss=0.722]"
     ]
    },
    {
     "name": "stdout",
     "output_type": "stream",
     "text": [
      "\n",
      "--- Training Batch 0 Examples (Content Only) ---\n",
      "  Pred: '36C06428'\n",
      "  True: '36C06428'\n",
      "  Pred: '36B00171'\n",
      "  True: '36B00171'\n",
      "  Pred: '36A22418'\n",
      "  True: '36A22418'\n",
      "  Pred: '29E167966'\n",
      "  True: '29E167966'\n",
      "  Pred: '36A01808'\n",
      "  True: '36A01808'\n",
      "-------------------------------\n"
     ]
    },
    {
     "name": "stderr",
     "output_type": "stream",
     "text": [
      "Epoch 10/27 [TRAIN] LR: 4.30e-04 Teach: 0.47 Scheduler: ReduceLROnPlateau: 100%|██████████| 978/978 [21:25<00:00,  1.31s/it, loss=0.729]\n",
      "Epoch 10/27 [VAL]: 100%|██████████| 113/113 [02:55<00:00,  1.55s/it, loss=0.73]\n"
     ]
    },
    {
     "name": "stdout",
     "output_type": "stream",
     "text": [
      "EarlyStopping counter: 1/7 (Best val_acc: 0.9703)\n",
      "\n",
      "Epoch 10/27 | LR: 4.30e-04 | Teach: 0.47 | Scheduler: ReduceLROnPlateau\n",
      "  Train Loss: 0.7449 | Train Char Acc: 0.9830\n",
      "  Val Loss: 0.7894   | Val Acc (CRR): 0.9697\n",
      "  Val Exact Match Acc (E2E RR): 0.8452\n",
      "----------------------------------------------------------------------\n"
     ]
    },
    {
     "name": "stderr",
     "output_type": "stream",
     "text": [
      "Epoch 11/27 [TRAIN] LR: 4.30e-04 Teach: 0.45 Scheduler: ReduceLROnPlateau:   0%|          | 1/978 [00:05<1:29:53,  5.52s/it, loss=0.736]"
     ]
    },
    {
     "name": "stdout",
     "output_type": "stream",
     "text": [
      "\n",
      "--- Training Batch 0 Examples (Content Only) ---\n",
      "  Pred: '36A23228'\n",
      "  True: '36A23228'\n",
      "  Pred: '29A81460'\n",
      "  True: '29A81460'\n",
      "  Pred: '36B02215'\n",
      "  True: '36B02215'\n",
      "  Pred: '30H83027'\n",
      "  True: '30H83027'\n",
      "  Pred: '29M158336'\n",
      "  True: '29M158336'\n",
      "-------------------------------\n"
     ]
    },
    {
     "name": "stderr",
     "output_type": "stream",
     "text": [
      "Epoch 11/27 [TRAIN] LR: 4.30e-04 Teach: 0.45 Scheduler: ReduceLROnPlateau: 100%|██████████| 978/978 [21:25<00:00,  1.31s/it, loss=0.748]\n",
      "Epoch 11/27 [VAL]: 100%|██████████| 113/113 [02:55<00:00,  1.55s/it, loss=0.728]\n"
     ]
    },
    {
     "name": "stdout",
     "output_type": "stream",
     "text": [
      "EarlyStopping: New best val_acc: 0.9732\n",
      "\n",
      "Epoch 11/27 | LR: 4.30e-04 | Teach: 0.45 | Scheduler: ReduceLROnPlateau\n",
      "  Train Loss: 0.7451 | Train Char Acc: 0.9826\n",
      "  Val Loss: 0.7844   | Val Acc (CRR): 0.9732\n",
      "  Val Exact Match Acc (E2E RR): 0.8566\n",
      "----------------------------------------------------------------------\n",
      "*** New best validation accuracy: 0.9732. Saving best_model.pth ***\n"
     ]
    },
    {
     "name": "stderr",
     "output_type": "stream",
     "text": [
      "Epoch 12/27 [TRAIN] LR: 4.30e-04 Teach: 0.42 Scheduler: ReduceLROnPlateau:   0%|          | 1/978 [00:06<1:46:01,  6.51s/it, loss=0.69]"
     ]
    },
    {
     "name": "stdout",
     "output_type": "stream",
     "text": [
      "\n",
      "--- Training Batch 0 Examples (Content Only) ---\n",
      "  Pred: '36C29245'\n",
      "  True: '36C29245'\n",
      "  Pred: '36C10567'\n",
      "  True: '36C10567'\n",
      "  Pred: '29A32311'\n",
      "  True: '29A32311'\n",
      "  Pred: '36A38557'\n",
      "  True: '36A38557'\n",
      "  Pred: '36A20996'\n",
      "  True: '36A20996'\n",
      "-------------------------------\n"
     ]
    },
    {
     "name": "stderr",
     "output_type": "stream",
     "text": [
      "Epoch 12/27 [TRAIN] LR: 4.30e-04 Teach: 0.42 Scheduler: ReduceLROnPlateau: 100%|██████████| 978/978 [22:24<00:00,  1.37s/it, loss=0.818]\n",
      "Epoch 12/27 [VAL]: 100%|██████████| 113/113 [03:07<00:00,  1.66s/it, loss=0.802]\n"
     ]
    },
    {
     "name": "stdout",
     "output_type": "stream",
     "text": [
      "EarlyStopping counter: 1/7 (Best val_acc: 0.9732)\n",
      "\n",
      "Epoch 12/27 | LR: 4.30e-04 | Teach: 0.42 | Scheduler: ReduceLROnPlateau\n",
      "  Train Loss: 0.7436 | Train Char Acc: 0.9832\n",
      "  Val Loss: 0.7905   | Val Acc (CRR): 0.9720\n",
      "  Val Exact Match Acc (E2E RR): 0.8558\n",
      "----------------------------------------------------------------------\n"
     ]
    },
    {
     "name": "stderr",
     "output_type": "stream",
     "text": [
      "Epoch 13/27 [TRAIN] LR: 4.30e-04 Teach: 0.40 Scheduler: ReduceLROnPlateau:   0%|          | 1/978 [00:06<1:39:22,  6.10s/it, loss=0.756]"
     ]
    },
    {
     "name": "stdout",
     "output_type": "stream",
     "text": [
      "\n",
      "--- Training Batch 0 Examples (Content Only) ---\n",
      "  Pred: '36B388833'\n",
      "  True: '98B329833'\n",
      "  Pred: '14P3910'\n",
      "  True: '14P3910'\n",
      "  Pred: '36B00351'\n",
      "  True: '36B00351'\n",
      "  Pred: '36A44291'\n",
      "  True: '36A44291'\n",
      "  Pred: '36B01118'\n",
      "  True: '36B01018'\n",
      "-------------------------------\n"
     ]
    },
    {
     "name": "stderr",
     "output_type": "stream",
     "text": [
      "Epoch 13/27 [TRAIN] LR: 4.30e-04 Teach: 0.40 Scheduler: ReduceLROnPlateau: 100%|██████████| 978/978 [22:43<00:00,  1.39s/it, loss=0.738]\n",
      "Epoch 13/27 [VAL]: 100%|██████████| 113/113 [02:58<00:00,  1.58s/it, loss=0.73]\n"
     ]
    },
    {
     "name": "stdout",
     "output_type": "stream",
     "text": [
      "EarlyStopping: New best val_acc: 0.9767\n",
      "\n",
      "Epoch 13/27 | LR: 4.30e-04 | Teach: 0.40 | Scheduler: ReduceLROnPlateau\n",
      "  Train Loss: 0.7396 | Train Char Acc: 0.9843\n",
      "  Val Loss: 0.7754   | Val Acc (CRR): 0.9767\n",
      "  Val Exact Match Acc (E2E RR): 0.8772\n",
      "----------------------------------------------------------------------\n",
      "*** New best validation accuracy: 0.9767. Saving best_model.pth ***\n"
     ]
    },
    {
     "name": "stderr",
     "output_type": "stream",
     "text": [
      "Epoch 14/27 [TRAIN] LR: 4.30e-04 Teach: 0.38 Scheduler: ReduceLROnPlateau:   0%|          | 1/978 [00:06<1:40:34,  6.18s/it, loss=0.726]"
     ]
    },
    {
     "name": "stdout",
     "output_type": "stream",
     "text": [
      "\n",
      "--- Training Batch 0 Examples (Content Only) ---\n",
      "  Pred: '29C115984'\n",
      "  True: '29C115984'\n",
      "  Pred: '36A38648'\n",
      "  True: '36A38648'\n",
      "  Pred: '36A43486'\n",
      "  True: '36A43486'\n",
      "  Pred: '36C00410'\n",
      "  True: '36C00410'\n",
      "  Pred: '35B210011'\n",
      "  True: '35B210011'\n",
      "-------------------------------\n"
     ]
    },
    {
     "name": "stderr",
     "output_type": "stream",
     "text": [
      "Epoch 14/27 [TRAIN] LR: 4.30e-04 Teach: 0.38 Scheduler: ReduceLROnPlateau: 100%|██████████| 978/978 [22:12<00:00,  1.36s/it, loss=0.719]\n",
      "Epoch 14/27 [VAL]: 100%|██████████| 113/113 [02:58<00:00,  1.58s/it, loss=0.746]\n"
     ]
    },
    {
     "name": "stdout",
     "output_type": "stream",
     "text": [
      "EarlyStopping counter: 1/7 (Best val_acc: 0.9767)\n",
      "\n",
      "Epoch 14/27 | LR: 4.30e-04 | Teach: 0.38 | Scheduler: ReduceLROnPlateau\n",
      "  Train Loss: 0.7366 | Train Char Acc: 0.9851\n",
      "  Val Loss: 0.7740   | Val Acc (CRR): 0.9765\n",
      "  Val Exact Match Acc (E2E RR): 0.8750\n",
      "----------------------------------------------------------------------\n"
     ]
    },
    {
     "name": "stderr",
     "output_type": "stream",
     "text": [
      "Epoch 15/27 [TRAIN] LR: 4.30e-04 Teach: 0.35 Scheduler: ReduceLROnPlateau:   0%|          | 1/978 [00:05<1:34:53,  5.83s/it, loss=0.753]"
     ]
    },
    {
     "name": "stdout",
     "output_type": "stream",
     "text": [
      "\n",
      "--- Training Batch 0 Examples (Content Only) ---\n",
      "  Pred: '36C27599'\n",
      "  True: '36C27599'\n",
      "  Pred: '36A20788'\n",
      "  True: '36A20788'\n",
      "  Pred: '15A01176'\n",
      "  True: '15A05176'\n",
      "  Pred: '36A30813'\n",
      "  True: '36A30813'\n",
      "  Pred: '29AA27840'\n",
      "  True: '29AA27840'\n",
      "-------------------------------\n"
     ]
    },
    {
     "name": "stderr",
     "output_type": "stream",
     "text": [
      "Epoch 15/27 [TRAIN] LR: 4.30e-04 Teach: 0.35 Scheduler: ReduceLROnPlateau: 100%|██████████| 978/978 [22:29<00:00,  1.38s/it, loss=0.712]\n",
      "Epoch 15/27 [VAL]: 100%|██████████| 113/113 [03:03<00:00,  1.62s/it, loss=0.723]\n"
     ]
    },
    {
     "name": "stdout",
     "output_type": "stream",
     "text": [
      "EarlyStopping counter: 2/7 (Best val_acc: 0.9767)\n",
      "\n",
      "Epoch 15/27 | LR: 4.30e-04 | Teach: 0.35 | Scheduler: ReduceLROnPlateau\n",
      "  Train Loss: 0.7353 | Train Char Acc: 0.9855\n",
      "  Val Loss: 0.7760   | Val Acc (CRR): 0.9754\n",
      "  Val Exact Match Acc (E2E RR): 0.8722\n",
      "----------------------------------------------------------------------\n"
     ]
    },
    {
     "name": "stderr",
     "output_type": "stream",
     "text": [
      "Epoch 16/27 [TRAIN] LR: 4.30e-04 Teach: 0.33 Scheduler: ReduceLROnPlateau:   0%|          | 1/978 [00:05<1:22:39,  5.08s/it, loss=0.736]"
     ]
    },
    {
     "name": "stdout",
     "output_type": "stream",
     "text": [
      "\n",
      "--- Training Batch 0 Examples (Content Only) ---\n",
      "  Pred: '36N0618'\n",
      "  True: '36N0618'\n",
      "  Pred: '90B177900'\n",
      "  True: '90B177900'\n",
      "  Pred: '36C08982'\n",
      "  True: '36C08982'\n",
      "  Pred: '36A36896'\n",
      "  True: '36A36896'\n",
      "  Pred: '36C25884'\n",
      "  True: '36C25884'\n",
      "-------------------------------\n"
     ]
    },
    {
     "name": "stderr",
     "output_type": "stream",
     "text": [
      "Epoch 16/27 [TRAIN] LR: 4.30e-04 Teach: 0.33 Scheduler: ReduceLROnPlateau: 100%|██████████| 978/978 [22:10<00:00,  1.36s/it, loss=0.798]\n",
      "Epoch 16/27 [VAL]: 100%|██████████| 113/113 [03:04<00:00,  1.63s/it, loss=0.721]\n"
     ]
    },
    {
     "name": "stdout",
     "output_type": "stream",
     "text": [
      "EarlyStopping counter: 3/7 (Best val_acc: 0.9767)\n",
      "\n",
      "Epoch 16/27 | LR: 4.30e-04 | Teach: 0.33 | Scheduler: ReduceLROnPlateau\n",
      "  Train Loss: 0.7346 | Train Char Acc: 0.9856\n",
      "  Val Loss: 0.7712   | Val Acc (CRR): 0.9771\n",
      "  Val Exact Match Acc (E2E RR): 0.8794\n",
      "----------------------------------------------------------------------\n",
      "*** New best validation accuracy: 0.9771. Saving best_model.pth ***\n"
     ]
    },
    {
     "name": "stderr",
     "output_type": "stream",
     "text": [
      "Epoch 17/27 [TRAIN] LR: 4.30e-04 Teach: 0.30 Scheduler: ReduceLROnPlateau:   0%|          | 1/978 [00:07<1:58:25,  7.27s/it, loss=0.725]"
     ]
    },
    {
     "name": "stdout",
     "output_type": "stream",
     "text": [
      "\n",
      "--- Training Batch 0 Examples (Content Only) ---\n",
      "  Pred: '34L1395'\n",
      "  True: '34L1395'\n",
      "  Pred: '36A42585'\n",
      "  True: '36A42585'\n",
      "  Pred: '36A23759'\n",
      "  True: '36A23759'\n",
      "  Pred: '36C09880'\n",
      "  True: '36C09880'\n",
      "  Pred: '29M154716'\n",
      "  True: '29M154716'\n",
      "-------------------------------\n"
     ]
    },
    {
     "name": "stderr",
     "output_type": "stream",
     "text": [
      "Epoch 17/27 [TRAIN] LR: 4.30e-04 Teach: 0.30 Scheduler: ReduceLROnPlateau: 100%|██████████| 978/978 [22:42<00:00,  1.39s/it, loss=0.749]\n",
      "Epoch 17/27 [VAL]: 100%|██████████| 113/113 [03:04<00:00,  1.63s/it, loss=0.746]\n"
     ]
    },
    {
     "name": "stdout",
     "output_type": "stream",
     "text": [
      "EarlyStopping counter: 4/7 (Best val_acc: 0.9767)\n",
      "\n",
      "Epoch 17/27 | LR: 4.30e-04 | Teach: 0.30 | Scheduler: ReduceLROnPlateau\n",
      "  Train Loss: 0.7345 | Train Char Acc: 0.9856\n",
      "  Val Loss: 0.7722   | Val Acc (CRR): 0.9766\n",
      "  Val Exact Match Acc (E2E RR): 0.8744\n",
      "----------------------------------------------------------------------\n"
     ]
    },
    {
     "name": "stderr",
     "output_type": "stream",
     "text": [
      "Epoch 18/27 [TRAIN] LR: 4.30e-04 Teach: 0.28 Scheduler: ReduceLROnPlateau:   0%|          | 1/978 [00:06<1:39:33,  6.11s/it, loss=0.707]"
     ]
    },
    {
     "name": "stdout",
     "output_type": "stream",
     "text": [
      "\n",
      "--- Training Batch 0 Examples (Content Only) ---\n",
      "  Pred: '36B2466'\n",
      "  True: '36B2466'\n",
      "  Pred: '36A42959'\n",
      "  True: '36A42959'\n",
      "  Pred: '36C18306'\n",
      "  True: '36C18306'\n",
      "  Pred: '36M9304'\n",
      "  True: '36M9304'\n",
      "  Pred: '36A15212'\n",
      "  True: '36A15212'\n",
      "-------------------------------\n"
     ]
    },
    {
     "name": "stderr",
     "output_type": "stream",
     "text": [
      "Epoch 18/27 [TRAIN] LR: 4.30e-04 Teach: 0.28 Scheduler: ReduceLROnPlateau: 100%|██████████| 978/978 [22:35<00:00,  1.39s/it, loss=0.709]\n",
      "Epoch 18/27 [VAL]: 100%|██████████| 113/113 [03:05<00:00,  1.64s/it, loss=0.722]\n"
     ]
    },
    {
     "name": "stdout",
     "output_type": "stream",
     "text": [
      "EarlyStopping: New best val_acc: 0.9777\n",
      "\n",
      "Epoch 18/27 | LR: 4.30e-04 | Teach: 0.28 | Scheduler: ReduceLROnPlateau\n",
      "  Train Loss: 0.7336 | Train Char Acc: 0.9860\n",
      "  Val Loss: 0.7660   | Val Acc (CRR): 0.9777\n",
      "  Val Exact Match Acc (E2E RR): 0.8836\n",
      "----------------------------------------------------------------------\n",
      "*** New best validation accuracy: 0.9777. Saving best_model.pth ***\n"
     ]
    },
    {
     "name": "stderr",
     "output_type": "stream",
     "text": [
      "Epoch 19/27 [TRAIN] LR: 4.30e-04 Teach: 0.25 Scheduler: ReduceLROnPlateau:   0%|          | 1/978 [00:06<1:50:18,  6.77s/it, loss=0.71]"
     ]
    },
    {
     "name": "stdout",
     "output_type": "stream",
     "text": [
      "\n",
      "--- Training Batch 0 Examples (Content Only) ---\n",
      "  Pred: '36C03340'\n",
      "  True: '36C03340'\n",
      "  Pred: '30A01670'\n",
      "  True: '30A01670'\n",
      "  Pred: '36A01207'\n",
      "  True: '36A01207'\n",
      "  Pred: '36A39053'\n",
      "  True: '36A39053'\n",
      "  Pred: '36A34301'\n",
      "  True: '36A34301'\n",
      "-------------------------------\n"
     ]
    },
    {
     "name": "stderr",
     "output_type": "stream",
     "text": [
      "Epoch 19/27 [TRAIN] LR: 4.30e-04 Teach: 0.25 Scheduler: ReduceLROnPlateau: 100%|██████████| 978/978 [22:46<00:00,  1.40s/it, loss=0.714]\n",
      "Epoch 19/27 [VAL]: 100%|██████████| 113/113 [03:03<00:00,  1.63s/it, loss=0.721]\n"
     ]
    },
    {
     "name": "stdout",
     "output_type": "stream",
     "text": [
      "EarlyStopping counter: 1/7 (Best val_acc: 0.9777)\n",
      "\n",
      "Epoch 19/27 | LR: 4.30e-04 | Teach: 0.25 | Scheduler: ReduceLROnPlateau\n",
      "  Train Loss: 0.7324 | Train Char Acc: 0.9862\n",
      "  Val Loss: 0.7725   | Val Acc (CRR): 0.9782\n",
      "  Val Exact Match Acc (E2E RR): 0.8858\n",
      "----------------------------------------------------------------------\n",
      "*** New best validation accuracy: 0.9782. Saving best_model.pth ***\n"
     ]
    },
    {
     "name": "stderr",
     "output_type": "stream",
     "text": [
      "Epoch 20/27 [TRAIN] LR: 4.30e-04 Teach: 0.23 Scheduler: ReduceLROnPlateau:   0%|          | 1/978 [00:06<1:39:16,  6.10s/it, loss=0.719]"
     ]
    },
    {
     "name": "stdout",
     "output_type": "stream",
     "text": [
      "\n",
      "--- Training Batch 0 Examples (Content Only) ---\n",
      "  Pred: '36A34201'\n",
      "  True: '36A34201'\n",
      "  Pred: '29M138199'\n",
      "  True: '29M138199'\n",
      "  Pred: '29A82436'\n",
      "  True: '29A82436'\n",
      "  Pred: '36A00469'\n",
      "  True: '36A00469'\n",
      "  Pred: '36C00187'\n",
      "  True: '36C00187'\n",
      "-------------------------------\n"
     ]
    },
    {
     "name": "stderr",
     "output_type": "stream",
     "text": [
      "Epoch 20/27 [TRAIN] LR: 4.30e-04 Teach: 0.23 Scheduler: ReduceLROnPlateau: 100%|██████████| 978/978 [22:34<00:00,  1.38s/it, loss=0.74]\n",
      "Epoch 20/27 [VAL]: 100%|██████████| 113/113 [03:03<00:00,  1.62s/it, loss=0.725]\n"
     ]
    },
    {
     "name": "stdout",
     "output_type": "stream",
     "text": [
      "EarlyStopping counter: 2/7 (Best val_acc: 0.9777)\n",
      "\n",
      "Epoch 20/27 | LR: 4.30e-04 | Teach: 0.23 | Scheduler: ReduceLROnPlateau\n",
      "  Train Loss: 0.7331 | Train Char Acc: 0.9859\n",
      "  Val Loss: 0.7741   | Val Acc (CRR): 0.9768\n",
      "  Val Exact Match Acc (E2E RR): 0.8839\n",
      "----------------------------------------------------------------------\n"
     ]
    },
    {
     "name": "stderr",
     "output_type": "stream",
     "text": [
      "Epoch 21/27 [TRAIN] LR: 4.30e-04 Teach: 0.20 Scheduler: ReduceLROnPlateau:   0%|          | 1/978 [00:05<1:36:49,  5.95s/it, loss=0.698]"
     ]
    },
    {
     "name": "stdout",
     "output_type": "stream",
     "text": [
      "\n",
      "--- Training Batch 0 Examples (Content Only) ---\n",
      "  Pred: '36C15646'\n",
      "  True: '36C15646'\n",
      "  Pred: '36C26020'\n",
      "  True: '36C26020'\n",
      "  Pred: '36A28708'\n",
      "  True: '36A28708'\n",
      "  Pred: '36C05700'\n",
      "  True: '36C05700'\n",
      "  Pred: '29E212409'\n",
      "  True: '29E212409'\n",
      "-------------------------------\n"
     ]
    },
    {
     "name": "stderr",
     "output_type": "stream",
     "text": [
      "Epoch 21/27 [TRAIN] LR: 4.30e-04 Teach: 0.20 Scheduler: ReduceLROnPlateau: 100%|██████████| 978/978 [23:09<00:00,  1.42s/it, loss=0.734]\n",
      "Epoch 21/27 [VAL]: 100%|██████████| 113/113 [03:04<00:00,  1.63s/it, loss=0.717]\n"
     ]
    },
    {
     "name": "stdout",
     "output_type": "stream",
     "text": [
      "EarlyStopping: New best val_acc: 0.9784\n",
      "\n",
      "Epoch 21/27 | LR: 4.30e-04 | Teach: 0.20 | Scheduler: ReduceLROnPlateau\n",
      "  Train Loss: 0.7318 | Train Char Acc: 0.9864\n",
      "  Val Loss: 0.7671   | Val Acc (CRR): 0.9784\n",
      "  Val Exact Match Acc (E2E RR): 0.8864\n",
      "----------------------------------------------------------------------\n",
      "*** New best validation accuracy: 0.9784. Saving best_model.pth ***\n"
     ]
    },
    {
     "name": "stderr",
     "output_type": "stream",
     "text": [
      "Epoch 22/27 [TRAIN] LR: 4.30e-04 Teach: 0.18 Scheduler: ReduceLROnPlateau:   0%|          | 1/978 [00:06<1:38:48,  6.07s/it, loss=0.762]"
     ]
    },
    {
     "name": "stdout",
     "output_type": "stream",
     "text": [
      "\n",
      "--- Training Batch 0 Examples (Content Only) ---\n",
      "  Pred: '36A13832'\n",
      "  True: '36A13832'\n",
      "  Pred: '36N3019'\n",
      "  True: '36N1799'\n",
      "  Pred: '36C08841'\n",
      "  True: '36C08841'\n",
      "  Pred: '36A39140'\n",
      "  True: '36A39140'\n",
      "  Pred: '51R34133'\n",
      "  True: '51R34133'\n",
      "-------------------------------\n"
     ]
    },
    {
     "name": "stderr",
     "output_type": "stream",
     "text": [
      "Epoch 22/27 [TRAIN] LR: 4.30e-04 Teach: 0.18 Scheduler: ReduceLROnPlateau: 100%|██████████| 978/978 [23:05<00:00,  1.42s/it, loss=0.725]\n",
      "Epoch 22/27 [VAL]: 100%|██████████| 113/113 [03:03<00:00,  1.62s/it, loss=0.721]\n"
     ]
    },
    {
     "name": "stdout",
     "output_type": "stream",
     "text": [
      "EarlyStopping: New best val_acc: 0.9800\n",
      "\n",
      "Epoch 22/27 | LR: 4.30e-04 | Teach: 0.18 | Scheduler: ReduceLROnPlateau\n",
      "  Train Loss: 0.7277 | Train Char Acc: 0.9878\n",
      "  Val Loss: 0.7630   | Val Acc (CRR): 0.9800\n",
      "  Val Exact Match Acc (E2E RR): 0.8914\n",
      "----------------------------------------------------------------------\n",
      "*** New best validation accuracy: 0.9800. Saving best_model.pth ***\n"
     ]
    },
    {
     "name": "stderr",
     "output_type": "stream",
     "text": [
      "Epoch 23/27 [TRAIN] LR: 4.30e-04 Teach: 0.15 Scheduler: ReduceLROnPlateau:   0%|          | 1/978 [00:05<1:28:50,  5.46s/it, loss=0.717]"
     ]
    },
    {
     "name": "stdout",
     "output_type": "stream",
     "text": [
      "\n",
      "--- Training Batch 0 Examples (Content Only) ---\n",
      "  Pred: '36A14325'\n",
      "  True: '36A14325'\n",
      "  Pred: '36C14623'\n",
      "  True: '36C14623'\n",
      "  Pred: '30F06474'\n",
      "  True: '30F06474'\n",
      "  Pred: '36C01460'\n",
      "  True: '36C01460'\n",
      "  Pred: '36C00718'\n",
      "  True: '36C00718'\n",
      "-------------------------------\n"
     ]
    },
    {
     "name": "stderr",
     "output_type": "stream",
     "text": [
      "Epoch 23/27 [TRAIN] LR: 4.30e-04 Teach: 0.15 Scheduler: ReduceLROnPlateau: 100%|██████████| 978/978 [22:31<00:00,  1.38s/it, loss=0.769]\n",
      "Epoch 23/27 [VAL]: 100%|██████████| 113/113 [03:04<00:00,  1.63s/it, loss=0.717]\n"
     ]
    },
    {
     "name": "stdout",
     "output_type": "stream",
     "text": [
      "EarlyStopping counter: 1/7 (Best val_acc: 0.9800)\n",
      "\n",
      "Epoch 23/27 | LR: 4.30e-04 | Teach: 0.15 | Scheduler: ReduceLROnPlateau\n",
      "  Train Loss: 0.7279 | Train Char Acc: 0.9874\n",
      "  Val Loss: 0.7629   | Val Acc (CRR): 0.9799\n",
      "  Val Exact Match Acc (E2E RR): 0.8941\n",
      "----------------------------------------------------------------------\n"
     ]
    },
    {
     "name": "stderr",
     "output_type": "stream",
     "text": [
      "Epoch 24/27 [TRAIN] LR: 4.30e-04 Teach: 0.13 Scheduler: ReduceLROnPlateau:   0%|          | 1/978 [00:06<1:40:34,  6.18s/it, loss=0.701]"
     ]
    },
    {
     "name": "stdout",
     "output_type": "stream",
     "text": [
      "\n",
      "--- Training Batch 0 Examples (Content Only) ---\n",
      "  Pred: '36A41457'\n",
      "  True: '36A41457'\n",
      "  Pred: '36A04610'\n",
      "  True: '36A04619'\n",
      "  Pred: '36A14763'\n",
      "  True: '36A14763'\n",
      "  Pred: '29X710580'\n",
      "  True: '29X710580'\n",
      "  Pred: '36A25293'\n",
      "  True: '36A25293'\n",
      "-------------------------------\n"
     ]
    },
    {
     "name": "stderr",
     "output_type": "stream",
     "text": [
      "Epoch 24/27 [TRAIN] LR: 4.30e-04 Teach: 0.13 Scheduler: ReduceLROnPlateau: 100%|██████████| 978/978 [22:20<00:00,  1.37s/it, loss=0.714]\n",
      "Epoch 24/27 [VAL]: 100%|██████████| 113/113 [03:04<00:00,  1.63s/it, loss=0.722]\n"
     ]
    },
    {
     "name": "stdout",
     "output_type": "stream",
     "text": [
      "EarlyStopping counter: 2/7 (Best val_acc: 0.9800)\n",
      "\n",
      "Epoch 24/27 | LR: 4.30e-04 | Teach: 0.13 | Scheduler: ReduceLROnPlateau\n",
      "  Train Loss: 0.7292 | Train Char Acc: 0.9874\n",
      "  Val Loss: 0.7664   | Val Acc (CRR): 0.9797\n",
      "  Val Exact Match Acc (E2E RR): 0.8930\n",
      "----------------------------------------------------------------------\n"
     ]
    },
    {
     "name": "stderr",
     "output_type": "stream",
     "text": [
      "Epoch 25/27 [TRAIN] LR: 4.30e-04 Teach: 0.10 Scheduler: ReduceLROnPlateau:   0%|          | 1/978 [00:06<1:39:01,  6.08s/it, loss=0.706]"
     ]
    },
    {
     "name": "stdout",
     "output_type": "stream",
     "text": [
      "\n",
      "--- Training Batch 0 Examples (Content Only) ---\n",
      "  Pred: '36C21589'\n",
      "  True: '36C21589'\n",
      "  Pred: '36A40502'\n",
      "  True: '36A40502'\n",
      "  Pred: '30M5945'\n",
      "  True: '30M5945'\n",
      "  Pred: '54S9449'\n",
      "  True: '54S9449'\n",
      "  Pred: '36A01075'\n",
      "  True: '36A01075'\n",
      "-------------------------------\n"
     ]
    },
    {
     "name": "stderr",
     "output_type": "stream",
     "text": [
      "Epoch 25/27 [TRAIN] LR: 4.30e-04 Teach: 0.10 Scheduler: ReduceLROnPlateau: 100%|██████████| 978/978 [21:55<00:00,  1.35s/it, loss=0.764]\n",
      "Epoch 25/27 [VAL]: 100%|██████████| 113/113 [03:04<00:00,  1.63s/it, loss=0.717]\n"
     ]
    },
    {
     "name": "stdout",
     "output_type": "stream",
     "text": [
      "EarlyStopping counter: 3/7 (Best val_acc: 0.9800)\n",
      "\n",
      "Epoch 25/27 | LR: 2.15e-04 | Teach: 0.10 | Scheduler: ReduceLROnPlateau\n",
      "  Train Loss: 0.7299 | Train Char Acc: 0.9869\n",
      "  Val Loss: 0.7675   | Val Acc (CRR): 0.9800\n",
      "  Val Exact Match Acc (E2E RR): 0.8964\n",
      "----------------------------------------------------------------------\n",
      "*** New best validation accuracy: 0.9800. Saving best_model.pth ***\n"
     ]
    },
    {
     "name": "stderr",
     "output_type": "stream",
     "text": [
      "Epoch 26/27 [TRAIN] LR: 2.15e-04 Teach: 0.08 Scheduler: ReduceLROnPlateau:   0%|          | 1/978 [00:05<1:28:28,  5.43s/it, loss=0.691]"
     ]
    },
    {
     "name": "stdout",
     "output_type": "stream",
     "text": [
      "\n",
      "--- Training Batch 0 Examples (Content Only) ---\n",
      "  Pred: '30M8812'\n",
      "  True: '30M8812'\n",
      "  Pred: '29D174372'\n",
      "  True: '29D174372'\n",
      "  Pred: '36A43868'\n",
      "  True: '36A43868'\n",
      "  Pred: '37N52133'\n",
      "  True: '37N52133'\n",
      "  Pred: '36A13091'\n",
      "  True: '36A13091'\n",
      "-------------------------------\n"
     ]
    },
    {
     "name": "stderr",
     "output_type": "stream",
     "text": [
      "Epoch 26/27 [TRAIN] LR: 2.15e-04 Teach: 0.08 Scheduler: ReduceLROnPlateau: 100%|██████████| 978/978 [22:45<00:00,  1.40s/it, loss=0.73]\n",
      "Epoch 26/27 [VAL]: 100%|██████████| 113/113 [03:04<00:00,  1.63s/it, loss=0.716]\n"
     ]
    },
    {
     "name": "stdout",
     "output_type": "stream",
     "text": [
      "EarlyStopping: New best val_acc: 0.9805\n",
      "\n",
      "Epoch 26/27 | LR: 2.15e-04 | Teach: 0.08 | Scheduler: ReduceLROnPlateau\n",
      "  Train Loss: 0.7271 | Train Char Acc: 0.9880\n",
      "  Val Loss: 0.7598   | Val Acc (CRR): 0.9805\n",
      "  Val Exact Match Acc (E2E RR): 0.8975\n",
      "----------------------------------------------------------------------\n",
      "*** New best validation accuracy: 0.9805. Saving best_model.pth ***\n"
     ]
    },
    {
     "name": "stderr",
     "output_type": "stream",
     "text": [
      "Epoch 27/27 [TRAIN] LR: 2.15e-04 Teach: 0.05 Scheduler: ReduceLROnPlateau:   0%|          | 1/978 [00:06<1:50:28,  6.78s/it, loss=0.72]"
     ]
    },
    {
     "name": "stdout",
     "output_type": "stream",
     "text": [
      "\n",
      "--- Training Batch 0 Examples (Content Only) ---\n",
      "  Pred: '36C01223'\n",
      "  True: '36C01223'\n",
      "  Pred: '36A40941'\n",
      "  True: '36A40941'\n",
      "  Pred: '36B02285'\n",
      "  True: '36B03285'\n",
      "  Pred: '36A42498'\n",
      "  True: '36A42498'\n",
      "  Pred: '36C02372'\n",
      "  True: '36C02372'\n",
      "-------------------------------\n"
     ]
    },
    {
     "name": "stderr",
     "output_type": "stream",
     "text": [
      "Epoch 27/27 [TRAIN] LR: 2.15e-04 Teach: 0.05 Scheduler: ReduceLROnPlateau: 100%|██████████| 978/978 [22:32<00:00,  1.38s/it, loss=0.733]\n",
      "Epoch 27/27 [VAL]: 100%|██████████| 113/113 [03:04<00:00,  1.63s/it, loss=0.715]\n"
     ]
    },
    {
     "name": "stdout",
     "output_type": "stream",
     "text": [
      "EarlyStopping: New best val_acc: 0.9815\n",
      "\n",
      "Epoch 27/27 | LR: 2.15e-04 | Teach: 0.05 | Scheduler: ReduceLROnPlateau\n",
      "  Train Loss: 0.7263 | Train Char Acc: 0.9882\n",
      "  Val Loss: 0.7576   | Val Acc (CRR): 0.9815\n",
      "  Val Exact Match Acc (E2E RR): 0.9003\n",
      "----------------------------------------------------------------------\n",
      "*** New best validation accuracy: 0.9815. Saving best_model.pth ***\n",
      "\n",
      "Training completed!\n",
      "Final val accuracy (Greedy Character Level): 0.9815\n",
      "Final val accuracy (Constrained Length Exact Match): 0.9003\n"
     ]
    },
    {
     "data": {
      "image/png": "[encoded data removed]",
      "text/plain": [
       "<Figure size 1800x1200 with 2 Axes>"
      ]
     },
     "metadata": {},
     "output_type": "display_data"
    },
    {
     "name": "stdout",
     "output_type": "stream",
     "text": [
      "Saved plots to performance_plots.png\n"
     ]
    }
   ],
   "source": [
    "import torch\n",
    "import torch.nn as nn\n",
    "from ultralytics import YOLO\n",
    "from torch.nn import MultiheadAttention\n",
    "from torchvision import transforms\n",
    "from PIL import Image\n",
    "import random\n",
    "import os\n",
    "from torch.utils.data import Dataset, DataLoader, Sampler, Subset, SubsetRandomSampler\n",
    "import numpy as np\n",
    "from tqdm import tqdm\n",
    "import matplotlib.pyplot as plt\n",
    "from torchtoolbox.tools import mixup_data, mixup_criterion\n",
    "\n",
    "#--- Constants ---\n",
    "CHARACTERS = '0123456789ABCDEFGHIJKLMNOPQRSTUVWXYZ'\n",
    "SOS_TOKEN = 36\n",
    "EOS_TOKEN = 37\n",
    "PAD_TOKEN = len(CHARACTERS) + 2\n",
    "NUM_CLASSES = len(CHARACTERS) + 3  # SOS, EOS, PAD\n",
    "DEVICE = 'cuda' if torch.cuda.is_available() else 'cpu'\n",
    "\n",
    "#--- Utility functions ---\n",
    "def index_to_char(indices, include_special_tokens=False):\n",
    "    result = []\n",
    "    for i in indices:\n",
    "        i = i.item() if torch.is_tensor(i) else i\n",
    "        if i == SOS_TOKEN:\n",
    "            if include_special_tokens: result.append('[SOS]')\n",
    "        elif i == EOS_TOKEN:\n",
    "            if include_special_tokens: result.append('[EOS]')\n",
    "            break\n",
    "        elif 0 <= i < len(CHARACTERS):\n",
    "            result.append(CHARACTERS[i])\n",
    "        else:\n",
    "            if include_special_tokens or i not in [SOS_TOKEN, EOS_TOKEN]:\n",
    "                result.append(f'[UNK_{i}]')\n",
    "    return ''.join(result)\n",
    "\n",
    "def char_to_indices(text):\n",
    "    indices = [SOS_TOKEN]\n",
    "    for c in text:\n",
    "        if c in CHARACTERS:\n",
    "            indices.append(CHARACTERS.index(c))\n",
    "        else:\n",
    "            indices.append(0)\n",
    "    indices.append(EOS_TOKEN)\n",
    "    return torch.tensor(indices, dtype=torch.long)\n",
    "\n",
    "#--- YOLO wrapper ---\n",
    "class YoloBackbone(nn.Module):\n",
    "    def __init__(self, model_path, target_feature_layer_index=9):\n",
    "        super().__init__()\n",
    "        _temp_yolo_instance = YOLO(model_path)\n",
    "        self.yolo_detection_model = _temp_yolo_instance.model\n",
    "        self.yolo_detection_model.to(DEVICE)\n",
    "        self.target_feature_layer_index = target_feature_layer_index\n",
    "\n",
    "        for name, param in self.yolo_detection_model.named_parameters():\n",
    "            param.requires_grad = True\n",
    "        \n",
    "        self._hook_handle = None\n",
    "        self._fmap_out_hook = []\n",
    "        \n",
    "        self._register_hook()\n",
    "\n",
    "    def _hook_fn_extractor(self, module, input_val, output_val):\n",
    "        if isinstance(output_val, torch.Tensor):\n",
    "            self._fmap_out_hook.append(output_val)\n",
    "        elif isinstance(output_val, (list, tuple)):\n",
    "            for item in output_val:\n",
    "                if isinstance(item, torch.Tensor):\n",
    "                    self._fmap_out_hook.append(item)\n",
    "                    break\n",
    "\n",
    "    def _register_hook(self):\n",
    "        layer_to_hook = self.yolo_detection_model.model[self.target_feature_layer_index]\n",
    "        self._hook_handle = layer_to_hook.register_forward_hook(self._hook_fn_extractor)\n",
    "\n",
    "    def _remove_hook(self):\n",
    "        if self._hook_handle:\n",
    "            self._hook_handle.remove()\n",
    "            self._hook_handle = None\n",
    "\n",
    "    def forward(self, x):\n",
    "        self._fmap_out_hook.clear()\n",
    "        _ = self.yolo_detection_model(x)\n",
    "        out_tensor = self._fmap_out_hook[0]\n",
    "        return out_tensor if out_tensor.dim() == 4 else out_tensor.unsqueeze(0)\n",
    "\n",
    "#--- Simplified RViT ---\n",
    "class RViT(nn.Module):\n",
    "    def __init__(self, yolo_channels=256, d_model=512, num_patches=1600, n_heads=8, num_encoder_layers=3, dim_feedforward=2048, dropout_rate=0.3):\n",
    "        super().__init__()\n",
    "        self.d_model = d_model\n",
    "        self.proj = nn.Sequential(\n",
    "            nn.Conv2d(yolo_channels, d_model, kernel_size=3, padding=1),\n",
    "            nn.BatchNorm2d(d_model),\n",
    "            nn.ReLU(),\n",
    "            nn.Dropout2d(dropout_rate if dropout_rate > 0 else 0)\n",
    "        )\n",
    "        encoder_layer = nn.TransformerEncoderLayer(\n",
    "            d_model=d_model, nhead=n_heads, dim_feedforward=dim_feedforward,\n",
    "            dropout=dropout_rate, batch_first=True, norm_first=True\n",
    "        )\n",
    "        self.encoder = nn.TransformerEncoder(encoder_layer, num_layers=num_encoder_layers)\n",
    "\n",
    "        self.pos_embed = nn.Parameter(torch.randn(1, num_patches + 1, d_model))\n",
    "        self.region_q = nn.Parameter(torch.zeros(1, 1, d_model))\n",
    "        \n",
    "        self.embed = nn.Embedding(NUM_CLASSES, d_model)\n",
    "        self.gru_num_layers = 1\n",
    "        self.gru = nn.GRU(d_model, d_model, num_layers=self.gru_num_layers, batch_first=True,\n",
    "                          dropout=dropout_rate if self.gru_num_layers > 1 else 0)\n",
    "        self.attn = MultiheadAttention(d_model, num_heads=n_heads, batch_first=True, dropout=dropout_rate)\n",
    "        self.fc = nn.Sequential(\n",
    "            nn.Dropout(dropout_rate if dropout_rate > 0 else 0),\n",
    "            nn.Linear(2 * d_model, NUM_CLASSES)\n",
    "        )\n",
    "\n",
    "    def forward(self, fmap, target=None, teach_ratio=0.5, forced_output_length=None):\n",
    "        b = fmap.size(0)\n",
    "        x = self.proj(fmap)\n",
    "        x = x.flatten(2).permute(0, 2, 1)\n",
    "\n",
    "        current_num_patches = x.size(1)\n",
    "        expected_pos_embed_len = current_num_patches + 1\n",
    "        \n",
    "        if self.pos_embed.size(1) != expected_pos_embed_len:\n",
    "            if self.pos_embed.size(1) > expected_pos_embed_len:\n",
    "                pos_embed_to_add = self.pos_embed[:, :expected_pos_embed_len, :]\n",
    "            else:\n",
    "                raise ValueError(f\"RViT pos_embed second dim {self.pos_embed.size(1)} is smaller than required {expected_pos_embed_len}\")\n",
    "        else:\n",
    "            pos_embed_to_add = self.pos_embed\n",
    "\n",
    "        q = self.region_q.expand(b, -1, -1)\n",
    "        x = torch.cat([q, x], dim=1)\n",
    "        x = x + pos_embed_to_add\n",
    "\n",
    "        enc = self.encoder(x)\n",
    "        region_feat, spatial_feats = enc[:, 0], enc[:, 1:]\n",
    "        \n",
    "        if forced_output_length is not None:\n",
    "            max_gen_len = forced_output_length\n",
    "        elif target is not None:\n",
    "            max_gen_len = target.size(1) - 1\n",
    "        else:\n",
    "            max_gen_len = MAX_SEQ_LENGTH - 1\n",
    "\n",
    "        h = region_feat.unsqueeze(0).contiguous()\n",
    "        current_input_tokens = torch.full((b,), SOS_TOKEN, device=DEVICE, dtype=torch.long)\n",
    "        outputs_logits = []\n",
    "\n",
    "        finished_sequences_tracker = None\n",
    "        if target is None and forced_output_length is None:\n",
    "            finished_sequences_tracker = torch.zeros(b, dtype=torch.bool, device=DEVICE)\n",
    "            \n",
    "        for t in range(max_gen_len):\n",
    "            emb = self.embed(current_input_tokens).unsqueeze(1)\n",
    "            g, h = self.gru(emb, h)\n",
    "            a, _ = self.attn(g, spatial_feats, spatial_feats)\n",
    "            comb = torch.cat([g.squeeze(1), a.squeeze(1)], dim=-1)\n",
    "            logits_step = self.fc(comb)\n",
    "            outputs_logits.append(logits_step)\n",
    "\n",
    "            if target is not None and random.random() < teach_ratio:\n",
    "                next_input_candidate = target[:, t + 1]\n",
    "            else:\n",
    "                next_input_candidate = logits_step.argmax(-1)\n",
    "\n",
    "            if finished_sequences_tracker is not None:\n",
    "                eos_predicted_this_step = (next_input_candidate == EOS_TOKEN)\n",
    "                finished_sequences_tracker |= eos_predicted_this_step\n",
    "                current_input_tokens = torch.where(finished_sequences_tracker,\n",
    "                                                 torch.tensor(EOS_TOKEN, device=DEVICE, dtype=torch.long),\n",
    "                                                 next_input_candidate)\n",
    "                if finished_sequences_tracker.all():\n",
    "                    break\n",
    "            else:\n",
    "                current_input_tokens = next_input_candidate\n",
    "        \n",
    "        return torch.stack(outputs_logits, dim=1)\n",
    "\n",
    "#--- Full model (YOLO_RViT) ---\n",
    "class YOLO_RViT(nn.Module):\n",
    "    def __init__(self, yolo_path, yolo_target_feature_layer_idx=9):\n",
    "        super().__init__()\n",
    "        self.backbone = YoloBackbone(yolo_path, target_feature_layer_index=yolo_target_feature_layer_idx)\n",
    "        dummy_input = torch.randn(1, 3, 640, 640).to(DEVICE)\n",
    "        \n",
    "        original_backbone_training_mode = self.backbone.training\n",
    "        with torch.no_grad():\n",
    "            dummy_feats = self.backbone(dummy_input)\n",
    "        \n",
    "        yolo_channels = dummy_feats.shape[1]\n",
    "        h_feat, w_feat = dummy_feats.shape[2], dummy_feats.shape[3]\n",
    "        num_patches = h_feat * w_feat\n",
    "        \n",
    "        self.rvit = RViT(yolo_channels=yolo_channels, num_patches=num_patches).to(DEVICE)\n",
    "\n",
    "    def forward(self, x, target=None, teach_ratio=0.5, forced_output_length=None):\n",
    "        x = x.to(DEVICE)\n",
    "        feats = self.backbone(x)\n",
    "        return self.rvit(feats, target, teach_ratio, forced_output_length)\n",
    "\n",
    "    def train(self, mode: bool = True):\n",
    "        super().train(mode)\n",
    "        self.rvit.train(mode)\n",
    "        self.backbone.train(mode)\n",
    "        return self\n",
    "\n",
    "    def eval(self):\n",
    "        super().eval()\n",
    "        self.rvit.eval()\n",
    "        self.backbone.eval()\n",
    "        return self\n",
    "\n",
    "#--- Dataset ---\n",
    "class LicensePlateDataset(Dataset):\n",
    "    def __init__(self, img_dir, license_dir, max_seq_length=15, is_train=True):\n",
    "        self.img_dir = img_dir\n",
    "        self.license_dir = license_dir\n",
    "        self.max_seq_length = max_seq_length\n",
    "        self.img_names = [f for f in os.listdir(self.img_dir) if f.endswith(('.jpg'))]\n",
    "        if is_train:\n",
    "            self.transform = transforms.Compose([\n",
    "                transforms.Resize((640, 640)),\n",
    "                transforms.RandomApply([\n",
    "                    transforms.RandomRotation(10),\n",
    "                    transforms.RandomAffine(degrees=8, translate=(0.03, 0.03), scale=(0.95, 1.05)),\n",
    "                    transforms.RandomPerspective(distortion_scale=0.05, p=0.3),\n",
    "                ], p=0.7),\n",
    "                transforms.ColorJitter(brightness=0.2, contrast=0.2, saturation=0.2, hue=0.05),\n",
    "                transforms.RandomApply([transforms.GaussianBlur(kernel_size=3, sigma=(0.1, 1.0))], p=0.25),\n",
    "                transforms.ToTensor(),\n",
    "                transforms.RandomErasing(p=0.2, scale=(0.01, 0.04), ratio=(0.3, 3.3)),\n",
    "                transforms.Normalize(mean=[0.485, 0.456, 0.406], std=[0.229, 0.224, 0.225])\n",
    "            ])\n",
    "        else:\n",
    "            self.transform = transforms.Compose([\n",
    "                transforms.Resize((640, 640)),\n",
    "                transforms.ToTensor(),\n",
    "                transforms.Normalize(mean=[0.485, 0.456, 0.406], std=[0.229, 0.224, 0.225])\n",
    "            ])\n",
    "            \n",
    "    def __len__(self):\n",
    "        return len(self.img_names)\n",
    "\n",
    "    def __getitem__(self, idx):\n",
    "        img_path = os.path.join(self.img_dir, self.img_names[idx])\n",
    "        img = Image.open(img_path).convert(\"RGB\")\n",
    "        img_tensor = self.transform(img)\n",
    "        \n",
    "        license_filename = os.path.splitext(self.img_names[idx])[0] + \".txt\"\n",
    "        license_path = os.path.join(self.license_dir, license_filename)\n",
    "        try:\n",
    "            with open(license_path, 'r', encoding='utf-8') as f:\n",
    "                license_text = f.read().upper().strip()\n",
    "        except FileNotFoundError:\n",
    "            return img_tensor, torch.full((self.max_seq_length,), EOS_TOKEN, dtype=torch.long)\n",
    "        \n",
    "        license_indices = char_to_indices(license_text)\n",
    "        target = torch.full((self.max_seq_length,), PAD_TOKEN, dtype=torch.long)\n",
    "        \n",
    "        actual_len = min(len(license_indices), self.max_seq_length)\n",
    "        target[:actual_len] = license_indices[:actual_len]\n",
    "        \n",
    "        return img_tensor, target\n",
    "\n",
    "    @staticmethod\n",
    "    def collate_fn(batch):\n",
    "        images = torch.stack([item[0] for item in batch])\n",
    "        targets = torch.stack([item[1] for item in batch])\n",
    "        return images, targets\n",
    "\n",
    "#--- Early Stopping ---\n",
    "class EarlyStopping:\n",
    "    def __init__(self, patience=10, min_delta=0.0, monitor_metric='val_acc', mode='max', verbose=True):\n",
    "        self.patience = patience\n",
    "        self.min_delta = min_delta\n",
    "        self.monitor_metric = monitor_metric\n",
    "        self.mode = mode\n",
    "        self.verbose = verbose\n",
    "\n",
    "        if self.mode == 'min':\n",
    "            self.best_metric_val = np.Inf\n",
    "        else:\n",
    "            self.best_metric_val = -np.Inf\n",
    "        self.counter = 0\n",
    "        self.early_stop = False\n",
    "\n",
    "    def __call__(self, current_metric_val):\n",
    "        improved = False\n",
    "        if self.mode == 'min':\n",
    "            if current_metric_val < self.best_metric_val - self.min_delta:\n",
    "                self.best_metric_val = current_metric_val\n",
    "                improved = True\n",
    "        else:\n",
    "            if current_metric_val > self.best_metric_val + self.min_delta:\n",
    "                self.best_metric_val = current_metric_val\n",
    "                improved = True\n",
    "        \n",
    "        if improved:\n",
    "            self.counter = 0\n",
    "            if self.verbose:\n",
    "                print(f\"EarlyStopping: New best {self.monitor_metric}: {self.best_metric_val:.4f}\")\n",
    "        else:\n",
    "            self.counter += 1\n",
    "\n",
    "        if self.verbose and self.counter > 0 and not improved:\n",
    "            print(f\"EarlyStopping counter: {self.counter}/{self.patience} (Best {self.monitor_metric}: {self.best_metric_val:.4f})\")\n",
    "        if self.counter >= self.patience:\n",
    "            self.early_stop = True\n",
    "            if self.verbose:\n",
    "                print(f\"Early stopping triggered for {self.monitor_metric}.\")\n",
    "        return self.counter\n",
    "\n",
    "#--- Training ---\n",
    "YOLO_MODEL_PATH = '/kaggle/input/yolov11/pytorch/default/1/best.pt'\n",
    "YOLO_TARGET_FEATURE_LAYER_INDEX = 13\n",
    "\n",
    "IMG_DIR_TRAIN = \"/kaggle/input/dataset-lpr-test/License_plate_data2/images/train\"\n",
    "LICENSE_DIR_TRAIN = \"/kaggle/input/dataset-lpr-test/License_plate_data2/text/train\"\n",
    "IMG_DIR_VAL = \"/kaggle/input/dataset-lpr-test/License_plate_data2/images/val\"\n",
    "LICENSE_DIR_VAL = \"/kaggle/input/dataset-lpr-test/License_plate_data2/text/val\"\n",
    "IMG_DIR_TEST = \"/kaggle/input/dataset-lpr-test/License_plate_data2/images/test\"\n",
    "LICENSE_DIR_TEST = \"/kaggle/input/dataset-lpr-test/License_plate_data2/text/test\"\n",
    "\n",
    "MAX_SEQ_LENGTH = 15\n",
    "BATCH_SIZE = 32\n",
    "NUM_WORKERS = 4\n",
    "LEARNING_RATE = 5e-5\n",
    "MAX_LR_SCHEDULER = 5e-4\n",
    "WEIGHT_DECAY = 5e-5\n",
    "NUM_EPOCHS = 27\n",
    "ACCUM_STEPS = 2\n",
    "PATIENCE_EARLY_STOP = 7\n",
    "TEACH_RATIO_START = 0.7\n",
    "TEACH_RATIO_END = 0.05\n",
    "LABEL_SMOOTHING = 0.1\n",
    "\n",
    "scaler = torch.amp.GradScaler(DEVICE)\n",
    "autocast_context = lambda: torch.amp.autocast(DEVICE)\n",
    "\n",
    "train_dataset_full = LicensePlateDataset(img_dir=IMG_DIR_TRAIN, license_dir=LICENSE_DIR_TRAIN, max_seq_length=MAX_SEQ_LENGTH, is_train=True)\n",
    "val_dataset = LicensePlateDataset(img_dir=IMG_DIR_VAL, license_dir=LICENSE_DIR_VAL, max_seq_length=MAX_SEQ_LENGTH, is_train=False)\n",
    "\n",
    "train_dataloader = DataLoader(train_dataset_full, batch_size=BATCH_SIZE, shuffle=True, num_workers=NUM_WORKERS, collate_fn=LicensePlateDataset.collate_fn, pin_memory=(DEVICE == 'cuda'), drop_last=True)\n",
    "val_dataloader = DataLoader(val_dataset, batch_size=BATCH_SIZE, shuffle=False, num_workers=NUM_WORKERS, collate_fn=LicensePlateDataset.collate_fn, pin_memory=(DEVICE == 'cuda'))\n",
    "\n",
    "model = YOLO_RViT(YOLO_MODEL_PATH, yolo_target_feature_layer_idx=YOLO_TARGET_FEATURE_LAYER_INDEX).to(DEVICE)\n",
    "\n",
    "optimizer = torch.optim.AdamW(\n",
    "    model.parameters(),\n",
    "    lr=LEARNING_RATE,\n",
    "    weight_decay=WEIGHT_DECAY\n",
    ")\n",
    "\n",
    "scheduler = torch.optim.lr_scheduler.OneCycleLR(\n",
    "    optimizer, max_lr=MAX_LR_SCHEDULER,\n",
    "    epochs=NUM_EPOCHS,\n",
    "    steps_per_epoch=(len(train_dataloader) + ACCUM_STEPS - 1) // ACCUM_STEPS,\n",
    "    pct_start=0.2,\n",
    "    div_factor=(MAX_LR_SCHEDULER / LEARNING_RATE) if MAX_LR_SCHEDULER > LEARNING_RATE else 10.0\n",
    ")\n",
    "scheduler_type = \"OneCycleLR\"\n",
    "\n",
    "loss_fn = nn.CrossEntropyLoss(ignore_index=PAD_TOKEN, label_smoothing=LABEL_SMOOTHING)\n",
    "early_stopper = EarlyStopping(patience=PATIENCE_EARLY_STOP, min_delta=0.0005, monitor_metric='val_acc', mode='max', verbose=True)\n",
    "\n",
    "checkpoint = torch.load(\"/kaggle/input/checkpoint_95/pytorch/default/1/final_yolo_rvit_model.pth\", map_location=DEVICE)\n",
    "model.load_state_dict(checkpoint['model_state_dict'])\n",
    "optimizer.load_state_dict(checkpoint['optimizer_state_dict'])\n",
    "\n",
    "train_loss_values, val_loss_values = [], []\n",
    "train_acc_values, val_acc_values, val_acc_constrained_values = [], [], []\n",
    "epoch_count_list = []\n",
    "best_val_acc = 0.0\n",
    "\n",
    "for epoch in range(NUM_EPOCHS):\n",
    "    epoch_count_list.append(epoch + 1)\n",
    "    model.train()\n",
    "    train_loss, train_correct, train_total_chars = 0, 0, 0\n",
    "\n",
    "    teach_ratio = TEACH_RATIO_START - (TEACH_RATIO_START - TEACH_RATIO_END) * (epoch / max(1, NUM_EPOCHS - 1))\n",
    "\n",
    "    optimizer.zero_grad()\n",
    "\n",
    "    pbar_train = tqdm(train_dataloader, desc=f\"Epoch {epoch+1}/{NUM_EPOCHS} [TRAIN] LR: {optimizer.param_groups[0]['lr']:.2e} Teach: {teach_ratio:.2f} Scheduler: {scheduler_type}\")\n",
    "    for batch_idx, (imgs, targets) in enumerate(pbar_train):\n",
    "        imgs, targets = imgs.to(DEVICE, non_blocking=True), targets.to(DEVICE, non_blocking=True)\n",
    "        \n",
    "        with autocast_context():\n",
    "            outputs = model(imgs, target=targets, teach_ratio=teach_ratio)\n",
    "            flat_outputs = outputs.reshape(-1, NUM_CLASSES)\n",
    "            flat_targets = targets[:, 1:].reshape(-1)\n",
    "            loss = loss_fn(flat_outputs, flat_targets)\n",
    "            loss = loss / ACCUM_STEPS\n",
    "            \n",
    "        scaler.scale(loss).backward()\n",
    "        \n",
    "        if (batch_idx + 1) % ACCUM_STEPS == 0 or (batch_idx + 1) == len(train_dataloader):\n",
    "            torch.nn.utils.clip_grad_norm_(filter(lambda p: p.requires_grad, model.parameters()), max_norm=1.0)\n",
    "            scaler.step(optimizer)\n",
    "            scaler.update()\n",
    "            optimizer.zero_grad()\n",
    "            if scheduler_type == \"OneCycleLR\":\n",
    "                scheduler.step()\n",
    "\n",
    "        train_loss += loss.item() * ACCUM_STEPS\n",
    "        with torch.no_grad():\n",
    "            preds = outputs.argmax(-1)\n",
    "            true_chars = targets[:, 1:]\n",
    "            for i in range(imgs.size(0)):\n",
    "                pred_seq_list_train = preds[i].tolist()\n",
    "                if EOS_TOKEN in pred_seq_list_train:\n",
    "                    pred_seq_list_train = pred_seq_list_train[:pred_seq_list_train.index(EOS_TOKEN)]\n",
    "                \n",
    "                true_seq_list_train = true_chars[i].tolist()\n",
    "                true_content_train = [x for x in true_seq_list_train if x not in [EOS_TOKEN, PAD_TOKEN]]\n",
    "                len_true_content_train = len(true_content_train)\n",
    "                \n",
    "                cmp_len = min(len(pred_seq_list_train), len_true_content_train)\n",
    "                if cmp_len > 0:\n",
    "                    train_correct += (torch.tensor(pred_seq_list_train[:cmp_len]) == torch.tensor(true_content_train[:cmp_len])).sum().item()\n",
    "                \n",
    "                train_total_chars += len_true_content_train\n",
    "\n",
    "            if batch_idx == 0 and epoch % 1 == 0 and imgs.size(0) > 0:\n",
    "                print(\"\\n--- Training Batch 0 Examples (Content Only) ---\")\n",
    "                for i in range(min(5, imgs.size(0))):\n",
    "                    pred_batch_i_list = preds[i].tolist()\n",
    "                    pred_example = index_to_char(pred_batch_i_list)\n",
    "                    true_batch_i_list = true_chars[i].tolist()\n",
    "                    true_example = index_to_char(true_batch_i_list)\n",
    "                    print(f\"  Pred: '{pred_example}'\")\n",
    "                    print(f\"  True: '{true_example}'\")\n",
    "                print(\"-------------------------------\")\n",
    "        \n",
    "        pbar_train.set_postfix(loss=loss.item() * ACCUM_STEPS)\n",
    "\n",
    "    avg_train_loss = train_loss / len(train_dataloader) if len(train_dataloader) > 0 else 0\n",
    "    avg_train_acc = train_correct / train_total_chars if train_total_chars > 0 else 0\n",
    "    train_loss_values.append(avg_train_loss)\n",
    "    train_acc_values.append(avg_train_acc)\n",
    "\n",
    "    # --- Validation Loop ---\n",
    "    model.eval()\n",
    "    val_loss, val_correct, val_total_chars, val_correct_constrained, val_total_sequences_constrained = 0, 0, 0, 0, 0\n",
    "    pbar_val = tqdm(val_dataloader, desc=f\"Epoch {epoch+1}/{NUM_EPOCHS} [VAL]\")\n",
    "    with torch.no_grad():\n",
    "        for imgs, targets in pbar_val:\n",
    "            imgs, targets = imgs.to(DEVICE, non_blocking=True), targets.to(DEVICE, non_blocking=True)\n",
    "            with autocast_context():\n",
    "                outputs = model(imgs, target=None, teach_ratio=0.0)\n",
    "                out_seq_len_val = outputs.size(1)\n",
    "                tgt_content_len_val = targets.size(1) - 1\n",
    "                if out_seq_len_val > tgt_content_len_val:\n",
    "                    outputs_for_loss_val = outputs[:, :tgt_content_len_val, :]\n",
    "                elif out_seq_len_val < tgt_content_len_val:\n",
    "                    padding_val_val = torch.zeros(outputs.size(0), tgt_content_len_val - out_seq_len_val, NUM_CLASSES, device=DEVICE)\n",
    "                    padding_val_val[:,:,PAD_TOKEN] = 1\n",
    "                    outputs_for_loss_val = torch.cat([outputs, padding_val_val], dim=1)\n",
    "                else:\n",
    "                    outputs_for_loss_val = outputs\n",
    "                flat_outputs_val = outputs_for_loss_val.reshape(-1, NUM_CLASSES)\n",
    "                flat_targets_val = targets[:, 1:].reshape(-1)\n",
    "                loss = loss_fn(flat_outputs_val, flat_targets_val)\n",
    "                \n",
    "            val_loss += loss.item()\n",
    "            preds_val = outputs_for_loss_val.argmax(-1)\n",
    "            true_chars_val = targets[:, 1:]\n",
    "            for i in range(imgs.size(0)):\n",
    "                pred_seq_val_list = preds_val[i].tolist()\n",
    "                if EOS_TOKEN in pred_seq_val_list:\n",
    "                    pred_seq_val_list = pred_seq_val_list[:pred_seq_val_list.index(EOS_TOKEN)]\n",
    "                \n",
    "                true_seq_val_list = true_chars_val[i].tolist()\n",
    "                true_content_val = [x for x in true_seq_val_list if x not in [EOS_TOKEN, PAD_TOKEN]]\n",
    "                len_true_content_val = len(true_content_val)\n",
    "\n",
    "                cmp_len_val = min(len(pred_seq_val_list), len_true_content_val)\n",
    "                if cmp_len_val > 0:\n",
    "                    val_correct += (torch.tensor(pred_seq_val_list[:cmp_len_val]) == torch.tensor(true_content_val[:cmp_len_val])).sum().item()\n",
    "                val_total_chars += len_true_content_val\n",
    "\n",
    "                if len_true_content_val > 0:\n",
    "                    with autocast_context():\n",
    "                        outputs_constrained_sample = model(imgs[i:i+1], target=None, teach_ratio=0.0, forced_output_length=len_true_content_val)\n",
    "                    preds_constrained_sample = outputs_constrained_sample.argmax(-1).squeeze(0).tolist()\n",
    "                    final_preds_constrained = []\n",
    "                    for tk_id in preds_constrained_sample:\n",
    "                        if tk_id == EOS_TOKEN:\n",
    "                            break\n",
    "                        final_preds_constrained.append(tk_id)\n",
    "                    if final_preds_constrained == true_content_val:\n",
    "                        val_correct_constrained += 1\n",
    "                val_total_sequences_constrained += 1\n",
    "            \n",
    "            pbar_val.set_postfix(loss=loss.item())\n",
    "\n",
    "    avg_val_loss = val_loss / len(val_dataloader) if len(val_dataloader) > 0 else 0\n",
    "    avg_val_acc = val_correct / val_total_chars if val_total_chars > 0 else 0\n",
    "    avg_val_acc_constrained = val_correct_constrained / val_total_sequences_constrained if val_total_sequences_constrained > 0 else 0\n",
    "    val_loss_values.append(avg_val_loss)\n",
    "    val_acc_values.append(avg_val_acc)\n",
    "    val_acc_constrained_values.append(avg_val_acc_constrained)\n",
    "    \n",
    "    # Chuyển sang ReduceLROnPlateau nếu val_acc chững lại\n",
    "    counter = early_stopper(avg_val_acc)\n",
    "    if counter >= 2 and scheduler_type == \"OneCycleLR\":\n",
    "        print(f\"Val Acc stalled for {PATIENCE_EARLY_STOP} epochs. Switching to ReduceLROnPlateau.\")\n",
    "        scheduler = torch.optim.lr_scheduler.ReduceLROnPlateau(optimizer, mode='max', factor=0.5, patience=2, verbose=True)\n",
    "        scheduler_type = \"ReduceLROnPlateau\"\n",
    "    \n",
    "    # Cập nhật scheduler\n",
    "    if scheduler_type == \"ReduceLROnPlateau\":\n",
    "        scheduler.step(avg_val_acc)\n",
    "\n",
    "    if early_stopper.early_stop:\n",
    "        print(f\"--> Early stopping at epoch {epoch+1}\")\n",
    "        break\n",
    "    \n",
    "    print(f\"\\nEpoch {epoch+1}/{NUM_EPOCHS} | LR: {optimizer.param_groups[0]['lr']:.2e} | Teach: {teach_ratio:.2f} | Scheduler: {scheduler_type}\")\n",
    "    print(f\"  Train Loss: {avg_train_loss:.4f} | Train Char Acc: {avg_train_acc:.4f}\")\n",
    "    print(f\"  Val Loss: {avg_val_loss:.4f}   | Val Acc (CRR): {avg_val_acc:.4f}\")\n",
    "    print(f\"  Val Exact Match Acc (E2E RR): {avg_val_acc_constrained:.4f}\")\n",
    "    print(\"-\" * 70)\n",
    "\n",
    "    checkpoint_path = f\"yolo_rvit_model_epoch_{epoch + 1}.pth\"\n",
    "    torch.save({\n",
    "        'epoch': epoch,\n",
    "        'model_state_dict': model.state_dict(),\n",
    "        'optimizer_state_dict': optimizer.state_dict(),\n",
    "        'scheduler_state_dict': scheduler.state_dict(),\n",
    "        'val_loss': avg_val_loss,\n",
    "        'val_acc': avg_val_acc,\n",
    "        'val_acc_constrained': avg_val_acc_constrained,\n",
    "    }, checkpoint_path)\n",
    "\n",
    "    if avg_val_acc > best_val_acc:\n",
    "        best_val_acc = avg_val_acc\n",
    "        print(f\"*** New best validation accuracy: {best_val_acc:.4f}. Saving best_model.pth ***\")\n",
    "        torch.save({\n",
    "            'epoch': epoch,\n",
    "            'model_state_dict': model.state_dict(),\n",
    "            'optimizer_state_dict': optimizer.state_dict(),\n",
    "            'scheduler_state_dict': scheduler.state_dict(),\n",
    "            'val_loss': avg_val_loss,\n",
    "            'val_acc': avg_val_acc,\n",
    "            'val_acc_constrained': avg_val_acc_constrained,\n",
    "        }, \"best_yolo_rvit_model.pth\")\n",
    "\n",
    "final_epoch_val = epoch if 'epoch' in locals() and epoch is not None else NUM_EPOCHS - 1\n",
    "torch.save({\n",
    "    'epoch': final_epoch_val,\n",
    "    'model_state_dict': model.state_dict(),\n",
    "    'optimizer_state_dict': optimizer.state_dict(),\n",
    "    'scheduler_state_dict': scheduler.state_dict(),\n",
    "    'train_loss_history': train_loss_values,\n",
    "    'val_loss_history': val_loss_values,\n",
    "    'train_acc_history': train_acc_values,\n",
    "    'val_acc_history': val_acc_values,\n",
    "    'val_acc_constrained_history': val_acc_constrained_values,\n",
    "}, \"final_yolo_rvit_model.pth\")\n",
    "\n",
    "print(\"\\nTraining completed!\")\n",
    "if val_acc_values:\n",
    "    print(f\"Final val accuracy (Greedy Character Level): {val_acc_values[-1]:.4f}\")\n",
    "if val_acc_constrained_values:\n",
    "    print(f\"Final val accuracy (Constrained Length Exact Match): {val_acc_constrained_values[-1]:.4f}\")\n",
    "\n",
    "# Plotting\n",
    "plt.figure(figsize=(18, 12))\n",
    "plt.subplot(2, 2, 1)\n",
    "plt.plot(epoch_count_list, train_loss_values, label='Train Loss', marker='o', linestyle='-')\n",
    "plt.plot(epoch_count_list, val_loss_values, label='Validation Loss', marker='s', linestyle='--')\n",
    "plt.title('Loss Curves')\n",
    "plt.xlabel('Epochs')\n",
    "plt.ylabel('Loss')\n",
    "plt.legend()\n",
    "plt.grid(True)\n",
    "\n",
    "plt.subplot(2, 2, 2)\n",
    "plt.plot(epoch_count_list, train_acc_values, label='Train Char Accuracy', marker='o', linestyle='-')\n",
    "plt.plot(epoch_count_list, val_acc_values, label='Validation Char Accuracy (Greedy)', marker='s', linestyle='--')\n",
    "plt.title('Character Accuracy')\n",
    "plt.xlabel('Epochs')\n",
    "plt.ylabel('Character Accuracy')\n",
    "plt.legend()\n",
    "plt.grid(True)\n",
    "\n",
    "plt.tight_layout()\n",
    "plt.savefig(\"performance_plots.png\")\n",
    "plt.show()\n",
    "print(\"Saved plots to performance_plots.png\")"
   ]
  },
  {
   "cell_type": "code",
   "execution_count": 3,
   "id": "6784571f",
   "metadata": {
    "_cell_guid": "aace12d3-0b70-4f7c-8d4d-92f0b75c7e79",
    "_uuid": "30ae8e36-6fba-49c8-bb2a-d741e2239b94",
    "collapsed": false,
    "execution": {
     "iopub.execute_input": "2025-05-30T00:40:44.816034Z",
     "iopub.status.busy": "2025-05-30T00:40:44.815649Z",
     "iopub.status.idle": "2025-05-30T00:40:45.832337Z",
     "shell.execute_reply": "2025-05-30T00:40:45.831540Z"
    },
    "jupyter": {
     "outputs_hidden": false
    },
    "papermill": {
     "duration": 3.790774,
     "end_time": "2025-05-30T00:40:45.834763",
     "exception": false,
     "start_time": "2025-05-30T00:40:42.043989",
     "status": "completed"
    },
    "tags": []
   },
   "outputs": [
    {
     "name": "stdout",
     "output_type": "stream",
     "text": [
      "Đang vẽ biểu đồ từ dữ liệu checkpoint...\n"
     ]
    },
    {
     "data": {
      "image/png": "[encoded data removed]",
      "text/plain": [
       "<Figure size 1800x1200 with 2 Axes>"
      ]
     },
     "metadata": {},
     "output_type": "display_data"
    },
    {
     "name": "stdout",
     "output_type": "stream",
     "text": [
      "Đã lưu biểu đồ vào checkpoint_performance_plots.png\n"
     ]
    }
   ],
   "source": [
    "#Vẽ biểu đồ\n",
    "import torch\n",
    "import matplotlib.pyplot as plt\n",
    "\n",
    "# --- Cấu hình ---\n",
    "file = \"/kaggle/working/final_yolo_rvit_model.pth\" # File chứa lịch sử\n",
    "\n",
    "# --- Tải Checkpoint ---\n",
    "checkpoint = torch.load(file, map_location=torch.device('cpu'))\n",
    "\n",
    "# --- Lấy dữ liệu lịch sử từ checkpoint ---\n",
    "train_loss_values = checkpoint.get('train_loss_history')\n",
    "val_loss_values = checkpoint.get('val_loss_history')\n",
    "test_loss_values = checkpoint.get('test_loss_history')\n",
    "\n",
    "train_acc_values = checkpoint.get('train_acc_history')\n",
    "val_acc_values = checkpoint.get('val_acc_history')\n",
    "test_acc_greedy_values = checkpoint.get('test_acc_greedy_history')\n",
    "\n",
    "\n",
    "# Tạo danh sách epoch_count_list dựa trên độ dài của dữ liệu lịch sử\n",
    "num_epochs_recorded = len(train_loss_values)\n",
    "epoch_count_list = list(range(1, num_epochs_recorded + 1))\n",
    "\n",
    "# --- Vẽ Biểu Đồ (tương tự code vẽ trước đó) ---\n",
    "print(\"Đang vẽ biểu đồ từ dữ liệu checkpoint...\")\n",
    "plt.figure(figsize=(18, 12))\n",
    "\n",
    "# Biểu đồ Loss\n",
    "plt.subplot(2, 2, 1)\n",
    "if train_loss_values:\n",
    "    plt.plot(epoch_count_list, train_loss_values, label='Train Loss', marker='o', linestyle='-')\n",
    "if val_loss_values:\n",
    "    plt.plot(epoch_count_list, val_loss_values, label='Validation Loss', marker='s', linestyle='--')\n",
    "if test_loss_values:\n",
    "    plt.plot(epoch_count_list, test_loss_values, label='Test Loss (Greedy)', marker='^', linestyle=':')\n",
    "plt.title('Loss Curves (from Checkpoint)')\n",
    "plt.xlabel('Epochs')\n",
    "plt.ylabel('Loss')\n",
    "plt.legend()\n",
    "plt.grid(True)\n",
    "\n",
    "# Biểu đồ Character Accuracy\n",
    "plt.subplot(2, 2, 2)\n",
    "if train_acc_values:\n",
    "    plt.plot(epoch_count_list, train_acc_values, label='Train Char Accuracy', marker='o', linestyle='-')\n",
    "if val_acc_values:\n",
    "    plt.plot(epoch_count_list, val_acc_values, label='Validation Char Accuracy (Greedy)', marker='s', linestyle='--')\n",
    "if test_acc_greedy_values:\n",
    "    plt.plot(epoch_count_list, test_acc_greedy_values, label='Test Char Accuracy (Greedy)', marker='^', linestyle=':')\n",
    "plt.title('Character Accuracy (from Checkpoint)')\n",
    "plt.xlabel('Epochs')\n",
    "plt.ylabel('Character Accuracy')\n",
    "plt.legend()\n",
    "plt.grid(True)\n",
    "\n",
    "\n",
    "plt.tight_layout()\n",
    "plt.savefig(\"checkpoint_performance_plots.png\")\n",
    "plt.show()\n",
    "print(\"Đã lưu biểu đồ vào checkpoint_performance_plots.png\")"
   ]
  },
  {
   "cell_type": "code",
   "execution_count": 4,
   "id": "87e38f82",
   "metadata": {
    "_cell_guid": "09967bd0-f260-4fc1-b19f-1eee192e8c9f",
    "_uuid": "d23b0a65-50e3-49ea-b0d5-8e1cdea845da",
    "collapsed": false,
    "execution": {
     "iopub.execute_input": "2025-05-30T00:40:51.189126Z",
     "iopub.status.busy": "2025-05-30T00:40:51.188818Z",
     "iopub.status.idle": "2025-05-30T00:40:51.193347Z",
     "shell.execute_reply": "2025-05-30T00:40:51.192783Z"
    },
    "jupyter": {
     "outputs_hidden": false
    },
    "papermill": {
     "duration": 2.663381,
     "end_time": "2025-05-30T00:40:51.194374",
     "exception": false,
     "start_time": "2025-05-30T00:40:48.530993",
     "status": "completed"
    },
    "tags": []
   },
   "outputs": [],
   "source": [
    "# import torch\n",
    "# from torchvision import transforms\n",
    "# from PIL import Image\n",
    "# import cv2\n",
    "\n",
    "# # --- Hàm tiền xử lý ảnh ---\n",
    "# def preprocess_image(image_path, image_size=(640, 640)):\n",
    "#     image = Image.open(image_path).convert(\"RGB\")\n",
    "#     plt.imshow(image)\n",
    "#     plt.axis('off')  # Tắt trục tọa độ\n",
    "#     plt.show()\n",
    "    \n",
    "#     transform = transforms.Compose([\n",
    "#         transforms.Resize(image_size),\n",
    "#         transforms.ToTensor(),\n",
    "#         transforms.Normalize(mean=[0.485, 0.456, 0.406], std=[0.229, 0.224, 0.225])\n",
    "#     ])\n",
    "#     img_tensor = transform(image)\n",
    "#     return img_tensor.unsqueeze(0) # Thêm batch dimension\n",
    "\n",
    "# # --- Hàm tải model và trọng số ---\n",
    "# def load_model_for_prediction(checkpoint_path, yolo_base_model_path, yolo_target_idx):\n",
    "#     model = YOLO_RViT(\n",
    "#         yolo_path=yolo_base_model_path,\n",
    "#         yolo_target_feature_layer_idx=yolo_target_idx\n",
    "#     )\n",
    "#     # Tải state_dict\n",
    "#     checkpoint = torch.load(checkpoint_path, map_location=torch.device(DEVICE))\n",
    "#     model.load_state_dict(checkpoint['model_state_dict'])\n",
    "           \n",
    "#     model.to(DEVICE)\n",
    "#     model.eval() # Chuyển model sang chế độ đánh giá (quan trọng!)\n",
    "#     return model\n",
    "\n",
    "# # --- Hàm dự đoán ---\n",
    "# def predict_license_plate(model, image_tensor, constrained_length=None):\n",
    "#     image_tensor = image_tensor.to(DEVICE)\n",
    "#     with torch.no_grad(): # Không cần tính gradient khi dự đoán\n",
    "#         # Cho dự đoán, target=None, teach_ratio=0.0\n",
    "#         # forced_output_length được sử dụng nếu bạn muốn kết quả có độ dài cố định\n",
    "#         outputs_logits = model(image_tensor, target=None, teach_ratio=0.0, forced_output_length=constrained_length)\n",
    "#         # outputs_logits có shape (batch_size, seq_len, num_classes)\n",
    "\n",
    "#     predicted_indices_tensor = outputs_logits.argmax(dim=-1)[0] # Shape: (seq_len,)\n",
    "#     predicted_indices_list = predicted_indices_tensor.cpu().tolist()\n",
    "\n",
    "#     predicted_text = index_to_char(predicted_indices_list, include_special_tokens=False)\n",
    "\n",
    "#     return predicted_text, predicted_indices_list\n",
    "\n",
    "\n",
    "\n",
    "# CHECKPOINT_TO_LOAD = \"/kaggle/working/best_yolo_rvit_model.pth\" # Đường dẫn đến model đã huấn luyện của bạn\n",
    "# YOLO_BASE_MODEL_PATH = \"/kaggle/input/yolov11s/Yolov11s.pt\" \n",
    "\n",
    "# IMAGE_TO_PREDICT = \"/kaggle/working/a_164337.jpg\" # THAY ĐỔI ĐƯỜNG DẪN NÀY\n",
    "\n",
    "# loaded_model = load_model_for_prediction(CHECKPOINT_TO_LOAD, YOLO_BASE_MODEL_PATH, 13)\n",
    "\n",
    "# input_tensor = preprocess_image(IMAGE_TO_PREDICT)\n",
    "\n",
    "# predicted_text, raw_indices = predict_license_plate(loaded_model, input_tensor)\n",
    "\n",
    "# print(f\"\\nẢnh đầu vào: {IMAGE_TO_PREDICT}\")\n",
    "# print(f\"Dự đoán biển số: '{predicted_text}'\")"
   ]
  }
 ],
 "metadata": {
  "kaggle": {
   "accelerator": "nvidiaTeslaT4",
   "dataSources": [
    {
     "datasetId": 7323875,
     "sourceId": 11670127,
     "sourceType": "datasetVersion"
    },
    {
     "datasetId": 7388550,
     "sourceId": 11768960,
     "sourceType": "datasetVersion"
    },
    {
     "datasetId": 7283240,
     "sourceId": 11903981,
     "sourceType": "datasetVersion"
    },
    {
     "isSourceIdPinned": true,
     "modelId": 360753,
     "modelInstanceId": 339649,
     "sourceId": 416302,
     "sourceType": "modelInstanceVersion"
    },
    {
     "isSourceIdPinned": true,
     "modelId": 361365,
     "modelInstanceId": 340249,
     "sourceId": 417060,
     "sourceType": "modelInstanceVersion"
    }
   ],
   "dockerImageVersionId": 31011,
   "isGpuEnabled": true,
   "isInternetEnabled": true,
   "language": "python",
   "sourceType": "notebook"
  },
  "kernelspec": {
   "display_name": "Python 3",
   "language": "python",
   "name": "python3"
  },
  "language_info": {
   "codemirror_mode": {
    "name": "ipython",
    "version": 3
   },
   "file_extension": ".py",
   "mimetype": "text/x-python",
   "name": "python",
   "nbconvert_exporter": "python",
   "pygments_lexer": "ipython3",
   "version": "3.11.11"
  },
  "papermill": {
   "default_parameters": {},
   "duration": 40870.059432,
   "end_time": "2025-05-30T00:40:56.406252",
   "environment_variables": {},
   "exception": null,
   "input_path": "__notebook__.ipynb",
   "output_path": "__notebook__.ipynb",
   "parameters": {},
   "start_time": "2025-05-29T13:19:46.346820",
   "version": "2.6.0"
  }
 },
 "nbformat": 4,
 "nbformat_minor": 5
}
