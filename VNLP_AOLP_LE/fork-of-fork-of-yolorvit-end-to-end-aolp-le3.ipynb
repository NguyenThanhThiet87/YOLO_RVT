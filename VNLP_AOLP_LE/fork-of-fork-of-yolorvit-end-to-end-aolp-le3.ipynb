{
 "cells": [
  {
   "cell_type": "code",
   "execution_count": 1,
   "id": "11c25bca",
   "metadata": {
    "_cell_guid": "55abfb31-1c60-49a5-a7cb-c41008cb6a59",
    "_uuid": "60cf27fe-3464-4b01-be91-8065751652e9",
    "collapsed": false,
    "execution": {
     "iopub.execute_input": "2025-08-27T14:54:43.903233Z",
     "iopub.status.busy": "2025-08-27T14:54:43.902959Z",
     "iopub.status.idle": "2025-08-27T14:56:10.048817Z",
     "shell.execute_reply": "2025-08-27T14:56:10.047827Z"
    },
    "jupyter": {
     "outputs_hidden": false
    },
    "papermill": {
     "duration": 86.151494,
     "end_time": "2025-08-27T14:56:10.050338",
     "exception": false,
     "start_time": "2025-08-27T14:54:43.898844",
     "status": "completed"
    },
    "tags": []
   },
   "outputs": [
    {
     "name": "stdout",
     "output_type": "stream",
     "text": [
      "Collecting ultralytics\r\n",
      "  Downloading ultralytics-8.3.187-py3-none-any.whl.metadata (37 kB)\r\n",
      "Requirement already satisfied: numpy>=1.23.0 in /usr/local/lib/python3.11/dist-packages (from ultralytics) (1.26.4)\r\n",
      "Requirement already satisfied: matplotlib>=3.3.0 in /usr/local/lib/python3.11/dist-packages (from ultralytics) (3.7.5)\r\n",
      "Requirement already satisfied: opencv-python>=4.6.0 in /usr/local/lib/python3.11/dist-packages (from ultralytics) (4.11.0.86)\r\n",
      "Requirement already satisfied: pillow>=7.1.2 in /usr/local/lib/python3.11/dist-packages (from ultralytics) (11.1.0)\r\n",
      "Requirement already satisfied: pyyaml>=5.3.1 in /usr/local/lib/python3.11/dist-packages (from ultralytics) (6.0.2)\r\n",
      "Requirement already satisfied: requests>=2.23.0 in /usr/local/lib/python3.11/dist-packages (from ultralytics) (2.32.3)\r\n",
      "Requirement already satisfied: scipy>=1.4.1 in /usr/local/lib/python3.11/dist-packages (from ultralytics) (1.15.2)\r\n",
      "Requirement already satisfied: torch>=1.8.0 in /usr/local/lib/python3.11/dist-packages (from ultralytics) (2.5.1+cu124)\r\n",
      "Requirement already satisfied: torchvision>=0.9.0 in /usr/local/lib/python3.11/dist-packages (from ultralytics) (0.20.1+cu124)\r\n",
      "Requirement already satisfied: psutil in /usr/local/lib/python3.11/dist-packages (from ultralytics) (7.0.0)\r\n",
      "Requirement already satisfied: py-cpuinfo in /usr/local/lib/python3.11/dist-packages (from ultralytics) (9.0.0)\r\n",
      "Requirement already satisfied: polars in /usr/local/lib/python3.11/dist-packages (from ultralytics) (1.9.0)\r\n",
      "Collecting ultralytics-thop>=2.0.0 (from ultralytics)\r\n",
      "  Downloading ultralytics_thop-2.0.16-py3-none-any.whl.metadata (14 kB)\r\n",
      "Requirement already satisfied: contourpy>=1.0.1 in /usr/local/lib/python3.11/dist-packages (from matplotlib>=3.3.0->ultralytics) (1.3.1)\r\n",
      "Requirement already satisfied: cycler>=0.10 in /usr/local/lib/python3.11/dist-packages (from matplotlib>=3.3.0->ultralytics) (0.12.1)\r\n",
      "Requirement already satisfied: fonttools>=4.22.0 in /usr/local/lib/python3.11/dist-packages (from matplotlib>=3.3.0->ultralytics) (4.56.0)\r\n",
      "Requirement already satisfied: kiwisolver>=1.0.1 in /usr/local/lib/python3.11/dist-packages (from matplotlib>=3.3.0->ultralytics) (1.4.8)\r\n",
      "Requirement already satisfied: packaging>=20.0 in /usr/local/lib/python3.11/dist-packages (from matplotlib>=3.3.0->ultralytics) (24.2)\r\n",
      "Requirement already satisfied: pyparsing>=2.3.1 in /usr/local/lib/python3.11/dist-packages (from matplotlib>=3.3.0->ultralytics) (3.2.1)\r\n",
      "Requirement already satisfied: python-dateutil>=2.7 in /usr/local/lib/python3.11/dist-packages (from matplotlib>=3.3.0->ultralytics) (2.9.0.post0)\r\n",
      "Requirement already satisfied: mkl_fft in /usr/local/lib/python3.11/dist-packages (from numpy>=1.23.0->ultralytics) (1.3.8)\r\n",
      "Requirement already satisfied: mkl_random in /usr/local/lib/python3.11/dist-packages (from numpy>=1.23.0->ultralytics) (1.2.4)\r\n",
      "Requirement already satisfied: mkl_umath in /usr/local/lib/python3.11/dist-packages (from numpy>=1.23.0->ultralytics) (0.1.1)\r\n",
      "Requirement already satisfied: mkl in /usr/local/lib/python3.11/dist-packages (from numpy>=1.23.0->ultralytics) (2025.1.0)\r\n",
      "Requirement already satisfied: tbb4py in /usr/local/lib/python3.11/dist-packages (from numpy>=1.23.0->ultralytics) (2022.1.0)\r\n",
      "Requirement already satisfied: mkl-service in /usr/local/lib/python3.11/dist-packages (from numpy>=1.23.0->ultralytics) (2.4.1)\r\n",
      "Requirement already satisfied: charset-normalizer<4,>=2 in /usr/local/lib/python3.11/dist-packages (from requests>=2.23.0->ultralytics) (3.4.1)\r\n",
      "Requirement already satisfied: idna<4,>=2.5 in /usr/local/lib/python3.11/dist-packages (from requests>=2.23.0->ultralytics) (3.10)\r\n",
      "Requirement already satisfied: urllib3<3,>=1.21.1 in /usr/local/lib/python3.11/dist-packages (from requests>=2.23.0->ultralytics) (2.3.0)\r\n",
      "Requirement already satisfied: certifi>=2017.4.17 in /usr/local/lib/python3.11/dist-packages (from requests>=2.23.0->ultralytics) (2025.1.31)\r\n",
      "Requirement already satisfied: filelock in /usr/local/lib/python3.11/dist-packages (from torch>=1.8.0->ultralytics) (3.18.0)\r\n",
      "Requirement already satisfied: typing-extensions>=4.8.0 in /usr/local/lib/python3.11/dist-packages (from torch>=1.8.0->ultralytics) (4.13.1)\r\n",
      "Requirement already satisfied: networkx in /usr/local/lib/python3.11/dist-packages (from torch>=1.8.0->ultralytics) (3.4.2)\r\n",
      "Requirement already satisfied: jinja2 in /usr/local/lib/python3.11/dist-packages (from torch>=1.8.0->ultralytics) (3.1.6)\r\n",
      "Requirement already satisfied: fsspec in /usr/local/lib/python3.11/dist-packages (from torch>=1.8.0->ultralytics) (2025.3.2)\r\n",
      "Requirement already satisfied: nvidia-cuda-nvrtc-cu12==12.4.127 in /usr/local/lib/python3.11/dist-packages (from torch>=1.8.0->ultralytics) (12.4.127)\r\n",
      "Requirement already satisfied: nvidia-cuda-runtime-cu12==12.4.127 in /usr/local/lib/python3.11/dist-packages (from torch>=1.8.0->ultralytics) (12.4.127)\r\n",
      "Requirement already satisfied: nvidia-cuda-cupti-cu12==12.4.127 in /usr/local/lib/python3.11/dist-packages (from torch>=1.8.0->ultralytics) (12.4.127)\r\n",
      "Collecting nvidia-cudnn-cu12==9.1.0.70 (from torch>=1.8.0->ultralytics)\r\n",
      "  Downloading nvidia_cudnn_cu12-9.1.0.70-py3-none-manylinux2014_x86_64.whl.metadata (1.6 kB)\r\n",
      "Collecting nvidia-cublas-cu12==12.4.5.8 (from torch>=1.8.0->ultralytics)\r\n",
      "  Downloading nvidia_cublas_cu12-12.4.5.8-py3-none-manylinux2014_x86_64.whl.metadata (1.5 kB)\r\n",
      "Collecting nvidia-cufft-cu12==11.2.1.3 (from torch>=1.8.0->ultralytics)\r\n",
      "  Downloading nvidia_cufft_cu12-11.2.1.3-py3-none-manylinux2014_x86_64.whl.metadata (1.5 kB)\r\n",
      "Collecting nvidia-curand-cu12==10.3.5.147 (from torch>=1.8.0->ultralytics)\r\n",
      "  Downloading nvidia_curand_cu12-10.3.5.147-py3-none-manylinux2014_x86_64.whl.metadata (1.5 kB)\r\n",
      "Collecting nvidia-cusolver-cu12==11.6.1.9 (from torch>=1.8.0->ultralytics)\r\n",
      "  Downloading nvidia_cusolver_cu12-11.6.1.9-py3-none-manylinux2014_x86_64.whl.metadata (1.6 kB)\r\n",
      "Collecting nvidia-cusparse-cu12==12.3.1.170 (from torch>=1.8.0->ultralytics)\r\n",
      "  Downloading nvidia_cusparse_cu12-12.3.1.170-py3-none-manylinux2014_x86_64.whl.metadata (1.6 kB)\r\n",
      "Requirement already satisfied: nvidia-nccl-cu12==2.21.5 in /usr/local/lib/python3.11/dist-packages (from torch>=1.8.0->ultralytics) (2.21.5)\r\n",
      "Requirement already satisfied: nvidia-nvtx-cu12==12.4.127 in /usr/local/lib/python3.11/dist-packages (from torch>=1.8.0->ultralytics) (12.4.127)\r\n",
      "Collecting nvidia-nvjitlink-cu12==12.4.127 (from torch>=1.8.0->ultralytics)\r\n",
      "  Downloading nvidia_nvjitlink_cu12-12.4.127-py3-none-manylinux2014_x86_64.whl.metadata (1.5 kB)\r\n",
      "Requirement already satisfied: triton==3.1.0 in /usr/local/lib/python3.11/dist-packages (from torch>=1.8.0->ultralytics) (3.1.0)\r\n",
      "Requirement already satisfied: sympy==1.13.1 in /usr/local/lib/python3.11/dist-packages (from torch>=1.8.0->ultralytics) (1.13.1)\r\n",
      "Requirement already satisfied: mpmath<1.4,>=1.1.0 in /usr/local/lib/python3.11/dist-packages (from sympy==1.13.1->torch>=1.8.0->ultralytics) (1.3.0)\r\n",
      "Requirement already satisfied: six>=1.5 in /usr/local/lib/python3.11/dist-packages (from python-dateutil>=2.7->matplotlib>=3.3.0->ultralytics) (1.17.0)\r\n",
      "Requirement already satisfied: MarkupSafe>=2.0 in /usr/local/lib/python3.11/dist-packages (from jinja2->torch>=1.8.0->ultralytics) (3.0.2)\r\n",
      "Requirement already satisfied: intel-openmp<2026,>=2024 in /usr/local/lib/python3.11/dist-packages (from mkl->numpy>=1.23.0->ultralytics) (2024.2.0)\r\n",
      "Requirement already satisfied: tbb==2022.* in /usr/local/lib/python3.11/dist-packages (from mkl->numpy>=1.23.0->ultralytics) (2022.1.0)\r\n",
      "Requirement already satisfied: tcmlib==1.* in /usr/local/lib/python3.11/dist-packages (from tbb==2022.*->mkl->numpy>=1.23.0->ultralytics) (1.2.0)\r\n",
      "Requirement already satisfied: intel-cmplr-lib-rt in /usr/local/lib/python3.11/dist-packages (from mkl_umath->numpy>=1.23.0->ultralytics) (2024.2.0)\r\n",
      "Requirement already satisfied: intel-cmplr-lib-ur==2024.2.0 in /usr/local/lib/python3.11/dist-packages (from intel-openmp<2026,>=2024->mkl->numpy>=1.23.0->ultralytics) (2024.2.0)\r\n",
      "Downloading ultralytics-8.3.187-py3-none-any.whl (1.1 MB)\r\n",
      "\u001b[2K   \u001b[90m━━━━━━━━━━━━━━━━━━━━━━━━━━━━━━━━━━━━━━━━\u001b[0m \u001b[32m1.1/1.1 MB\u001b[0m \u001b[31m18.8 MB/s\u001b[0m eta \u001b[36m0:00:00\u001b[0m\r\n",
      "\u001b[?25hDownloading nvidia_cublas_cu12-12.4.5.8-py3-none-manylinux2014_x86_64.whl (363.4 MB)\r\n",
      "\u001b[2K   \u001b[90m━━━━━━━━━━━━━━━━━━━━━━━━━━━━━━━━━━━━━━━━\u001b[0m \u001b[32m363.4/363.4 MB\u001b[0m \u001b[31m5.0 MB/s\u001b[0m eta \u001b[36m0:00:00\u001b[0m\r\n",
      "\u001b[?25hDownloading nvidia_cudnn_cu12-9.1.0.70-py3-none-manylinux2014_x86_64.whl (664.8 MB)\r\n",
      "\u001b[2K   \u001b[90m━━━━━━━━━━━━━━━━━━━━━━━━━━━━━━━━━━━━━━━━\u001b[0m \u001b[32m664.8/664.8 MB\u001b[0m \u001b[31m2.2 MB/s\u001b[0m eta \u001b[36m0:00:00\u001b[0m\r\n",
      "\u001b[?25hDownloading nvidia_cufft_cu12-11.2.1.3-py3-none-manylinux2014_x86_64.whl (211.5 MB)\r\n",
      "\u001b[2K   \u001b[90m━━━━━━━━━━━━━━━━━━━━━━━━━━━━━━━━━━━━━━━━\u001b[0m \u001b[32m211.5/211.5 MB\u001b[0m \u001b[31m5.2 MB/s\u001b[0m eta \u001b[36m0:00:00\u001b[0m\r\n",
      "\u001b[?25hDownloading nvidia_curand_cu12-10.3.5.147-py3-none-manylinux2014_x86_64.whl (56.3 MB)\r\n",
      "\u001b[2K   \u001b[90m━━━━━━━━━━━━━━━━━━━━━━━━━━━━━━━━━━━━━━━━\u001b[0m \u001b[32m56.3/56.3 MB\u001b[0m \u001b[31m3.1 MB/s\u001b[0m eta \u001b[36m0:00:00\u001b[0m\r\n",
      "\u001b[?25hDownloading nvidia_cusolver_cu12-11.6.1.9-py3-none-manylinux2014_x86_64.whl (127.9 MB)\r\n",
      "\u001b[2K   \u001b[90m━━━━━━━━━━━━━━━━━━━━━━━━━━━━━━━━━━━━━━━━\u001b[0m \u001b[32m127.9/127.9 MB\u001b[0m \u001b[31m11.2 MB/s\u001b[0m eta \u001b[36m0:00:00\u001b[0m\r\n",
      "\u001b[?25hDownloading nvidia_cusparse_cu12-12.3.1.170-py3-none-manylinux2014_x86_64.whl (207.5 MB)\r\n",
      "\u001b[2K   \u001b[90m━━━━━━━━━━━━━━━━━━━━━━━━━━━━━━━━━━━━━━━━\u001b[0m \u001b[32m207.5/207.5 MB\u001b[0m \u001b[31m8.2 MB/s\u001b[0m eta \u001b[36m0:00:00\u001b[0m\r\n",
      "\u001b[?25hDownloading nvidia_nvjitlink_cu12-12.4.127-py3-none-manylinux2014_x86_64.whl (21.1 MB)\r\n",
      "\u001b[2K   \u001b[90m━━━━━━━━━━━━━━━━━━━━━━━━━━━━━━━━━━━━━━━━\u001b[0m \u001b[32m21.1/21.1 MB\u001b[0m \u001b[31m82.8 MB/s\u001b[0m eta \u001b[36m0:00:00\u001b[0m\r\n",
      "\u001b[?25hDownloading ultralytics_thop-2.0.16-py3-none-any.whl (28 kB)\r\n",
      "Installing collected packages: nvidia-nvjitlink-cu12, nvidia-curand-cu12, nvidia-cufft-cu12, nvidia-cublas-cu12, nvidia-cusparse-cu12, nvidia-cudnn-cu12, nvidia-cusolver-cu12, ultralytics-thop, ultralytics\r\n",
      "  Attempting uninstall: nvidia-nvjitlink-cu12\r\n",
      "    Found existing installation: nvidia-nvjitlink-cu12 12.8.93\r\n",
      "    Uninstalling nvidia-nvjitlink-cu12-12.8.93:\r\n",
      "      Successfully uninstalled nvidia-nvjitlink-cu12-12.8.93\r\n",
      "  Attempting uninstall: nvidia-curand-cu12\r\n",
      "    Found existing installation: nvidia-curand-cu12 10.3.9.90\r\n",
      "    Uninstalling nvidia-curand-cu12-10.3.9.90:\r\n",
      "      Successfully uninstalled nvidia-curand-cu12-10.3.9.90\r\n",
      "  Attempting uninstall: nvidia-cufft-cu12\r\n",
      "    Found existing installation: nvidia-cufft-cu12 11.3.3.83\r\n",
      "    Uninstalling nvidia-cufft-cu12-11.3.3.83:\r\n",
      "      Successfully uninstalled nvidia-cufft-cu12-11.3.3.83\r\n",
      "  Attempting uninstall: nvidia-cublas-cu12\r\n",
      "    Found existing installation: nvidia-cublas-cu12 12.8.4.1\r\n",
      "    Uninstalling nvidia-cublas-cu12-12.8.4.1:\r\n",
      "      Successfully uninstalled nvidia-cublas-cu12-12.8.4.1\r\n",
      "  Attempting uninstall: nvidia-cusparse-cu12\r\n",
      "    Found existing installation: nvidia-cusparse-cu12 12.5.8.93\r\n",
      "    Uninstalling nvidia-cusparse-cu12-12.5.8.93:\r\n",
      "      Successfully uninstalled nvidia-cusparse-cu12-12.5.8.93\r\n",
      "  Attempting uninstall: nvidia-cudnn-cu12\r\n",
      "    Found existing installation: nvidia-cudnn-cu12 9.3.0.75\r\n",
      "    Uninstalling nvidia-cudnn-cu12-9.3.0.75:\r\n",
      "      Successfully uninstalled nvidia-cudnn-cu12-9.3.0.75\r\n",
      "  Attempting uninstall: nvidia-cusolver-cu12\r\n",
      "    Found existing installation: nvidia-cusolver-cu12 11.7.3.90\r\n",
      "    Uninstalling nvidia-cusolver-cu12-11.7.3.90:\r\n",
      "      Successfully uninstalled nvidia-cusolver-cu12-11.7.3.90\r\n",
      "\u001b[31mERROR: pip's dependency resolver does not currently take into account all the packages that are installed. This behaviour is the source of the following dependency conflicts.\r\n",
      "pylibcugraph-cu12 24.12.0 requires pylibraft-cu12==24.12.*, but you have pylibraft-cu12 25.2.0 which is incompatible.\r\n",
      "pylibcugraph-cu12 24.12.0 requires rmm-cu12==24.12.*, but you have rmm-cu12 25.2.0 which is incompatible.\u001b[0m\u001b[31m\r\n",
      "\u001b[0mSuccessfully installed nvidia-cublas-cu12-12.4.5.8 nvidia-cudnn-cu12-9.1.0.70 nvidia-cufft-cu12-11.2.1.3 nvidia-curand-cu12-10.3.5.147 nvidia-cusolver-cu12-11.6.1.9 nvidia-cusparse-cu12-12.3.1.170 nvidia-nvjitlink-cu12-12.4.127 ultralytics-8.3.187 ultralytics-thop-2.0.16\r\n",
      "Collecting torchtoolbox\r\n",
      "  Downloading torchtoolbox-0.1.8.2-py3-none-any.whl.metadata (15 kB)\r\n",
      "Requirement already satisfied: numpy in /usr/local/lib/python3.11/dist-packages (from torchtoolbox) (1.26.4)\r\n",
      "Requirement already satisfied: tqdm in /usr/local/lib/python3.11/dist-packages (from torchtoolbox) (4.67.1)\r\n",
      "Requirement already satisfied: pyarrow in /usr/local/lib/python3.11/dist-packages (from torchtoolbox) (19.0.1)\r\n",
      "Requirement already satisfied: six in /usr/local/lib/python3.11/dist-packages (from torchtoolbox) (1.17.0)\r\n",
      "Collecting lmdb (from torchtoolbox)\r\n",
      "  Downloading lmdb-1.7.3-cp311-cp311-manylinux_2_17_x86_64.manylinux2014_x86_64.whl.metadata (1.3 kB)\r\n",
      "Requirement already satisfied: scikit-learn in /usr/local/lib/python3.11/dist-packages (from torchtoolbox) (1.2.2)\r\n",
      "Requirement already satisfied: scipy in /usr/local/lib/python3.11/dist-packages (from torchtoolbox) (1.15.2)\r\n",
      "Requirement already satisfied: opencv-python in /usr/local/lib/python3.11/dist-packages (from torchtoolbox) (4.11.0.86)\r\n",
      "Requirement already satisfied: pyyaml in /usr/local/lib/python3.11/dist-packages (from torchtoolbox) (6.0.2)\r\n",
      "Requirement already satisfied: tensorboard in /usr/local/lib/python3.11/dist-packages (from torchtoolbox) (2.18.0)\r\n",
      "Requirement already satisfied: prettytable in /usr/local/lib/python3.11/dist-packages (from torchtoolbox) (3.14.0)\r\n",
      "Requirement already satisfied: transformers in /usr/local/lib/python3.11/dist-packages (from torchtoolbox) (4.51.1)\r\n",
      "Requirement already satisfied: mkl_fft in /usr/local/lib/python3.11/dist-packages (from numpy->torchtoolbox) (1.3.8)\r\n",
      "Requirement already satisfied: mkl_random in /usr/local/lib/python3.11/dist-packages (from numpy->torchtoolbox) (1.2.4)\r\n",
      "Requirement already satisfied: mkl_umath in /usr/local/lib/python3.11/dist-packages (from numpy->torchtoolbox) (0.1.1)\r\n",
      "Requirement already satisfied: mkl in /usr/local/lib/python3.11/dist-packages (from numpy->torchtoolbox) (2025.1.0)\r\n",
      "Requirement already satisfied: tbb4py in /usr/local/lib/python3.11/dist-packages (from numpy->torchtoolbox) (2022.1.0)\r\n",
      "Requirement already satisfied: mkl-service in /usr/local/lib/python3.11/dist-packages (from numpy->torchtoolbox) (2.4.1)\r\n",
      "Requirement already satisfied: wcwidth in /usr/local/lib/python3.11/dist-packages (from prettytable->torchtoolbox) (0.2.13)\r\n",
      "Requirement already satisfied: joblib>=1.1.1 in /usr/local/lib/python3.11/dist-packages (from scikit-learn->torchtoolbox) (1.4.2)\r\n",
      "Requirement already satisfied: threadpoolctl>=2.0.0 in /usr/local/lib/python3.11/dist-packages (from scikit-learn->torchtoolbox) (3.6.0)\r\n",
      "Requirement already satisfied: absl-py>=0.4 in /usr/local/lib/python3.11/dist-packages (from tensorboard->torchtoolbox) (1.4.0)\r\n",
      "Requirement already satisfied: grpcio>=1.48.2 in /usr/local/lib/python3.11/dist-packages (from tensorboard->torchtoolbox) (1.70.0)\r\n",
      "Requirement already satisfied: markdown>=2.6.8 in /usr/local/lib/python3.11/dist-packages (from tensorboard->torchtoolbox) (3.7)\r\n",
      "Requirement already satisfied: packaging in /usr/local/lib/python3.11/dist-packages (from tensorboard->torchtoolbox) (24.2)\r\n",
      "Requirement already satisfied: protobuf!=4.24.0,>=3.19.6 in /usr/local/lib/python3.11/dist-packages (from tensorboard->torchtoolbox) (3.20.3)\r\n",
      "Requirement already satisfied: setuptools>=41.0.0 in /usr/local/lib/python3.11/dist-packages (from tensorboard->torchtoolbox) (75.1.0)\r\n",
      "Requirement already satisfied: tensorboard-data-server<0.8.0,>=0.7.0 in /usr/local/lib/python3.11/dist-packages (from tensorboard->torchtoolbox) (0.7.2)\r\n",
      "Requirement already satisfied: werkzeug>=1.0.1 in /usr/local/lib/python3.11/dist-packages (from tensorboard->torchtoolbox) (3.1.3)\r\n",
      "Requirement already satisfied: filelock in /usr/local/lib/python3.11/dist-packages (from transformers->torchtoolbox) (3.18.0)\r\n",
      "Requirement already satisfied: huggingface-hub<1.0,>=0.30.0 in /usr/local/lib/python3.11/dist-packages (from transformers->torchtoolbox) (0.30.2)\r\n",
      "Requirement already satisfied: regex!=2019.12.17 in /usr/local/lib/python3.11/dist-packages (from transformers->torchtoolbox) (2024.11.6)\r\n",
      "Requirement already satisfied: requests in /usr/local/lib/python3.11/dist-packages (from transformers->torchtoolbox) (2.32.3)\r\n",
      "Requirement already satisfied: tokenizers<0.22,>=0.21 in /usr/local/lib/python3.11/dist-packages (from transformers->torchtoolbox) (0.21.0)\r\n",
      "Requirement already satisfied: safetensors>=0.4.3 in /usr/local/lib/python3.11/dist-packages (from transformers->torchtoolbox) (0.5.2)\r\n",
      "Requirement already satisfied: fsspec>=2023.5.0 in /usr/local/lib/python3.11/dist-packages (from huggingface-hub<1.0,>=0.30.0->transformers->torchtoolbox) (2025.3.2)\r\n",
      "Requirement already satisfied: typing-extensions>=3.7.4.3 in /usr/local/lib/python3.11/dist-packages (from huggingface-hub<1.0,>=0.30.0->transformers->torchtoolbox) (4.13.1)\r\n",
      "Requirement already satisfied: MarkupSafe>=2.1.1 in /usr/local/lib/python3.11/dist-packages (from werkzeug>=1.0.1->tensorboard->torchtoolbox) (3.0.2)\r\n",
      "Requirement already satisfied: intel-openmp<2026,>=2024 in /usr/local/lib/python3.11/dist-packages (from mkl->numpy->torchtoolbox) (2024.2.0)\r\n",
      "Requirement already satisfied: tbb==2022.* in /usr/local/lib/python3.11/dist-packages (from mkl->numpy->torchtoolbox) (2022.1.0)\r\n",
      "Requirement already satisfied: tcmlib==1.* in /usr/local/lib/python3.11/dist-packages (from tbb==2022.*->mkl->numpy->torchtoolbox) (1.2.0)\r\n",
      "Requirement already satisfied: intel-cmplr-lib-rt in /usr/local/lib/python3.11/dist-packages (from mkl_umath->numpy->torchtoolbox) (2024.2.0)\r\n",
      "Requirement already satisfied: charset-normalizer<4,>=2 in /usr/local/lib/python3.11/dist-packages (from requests->transformers->torchtoolbox) (3.4.1)\r\n",
      "Requirement already satisfied: idna<4,>=2.5 in /usr/local/lib/python3.11/dist-packages (from requests->transformers->torchtoolbox) (3.10)\r\n",
      "Requirement already satisfied: urllib3<3,>=1.21.1 in /usr/local/lib/python3.11/dist-packages (from requests->transformers->torchtoolbox) (2.3.0)\r\n",
      "Requirement already satisfied: certifi>=2017.4.17 in /usr/local/lib/python3.11/dist-packages (from requests->transformers->torchtoolbox) (2025.1.31)\r\n",
      "Requirement already satisfied: intel-cmplr-lib-ur==2024.2.0 in /usr/local/lib/python3.11/dist-packages (from intel-openmp<2026,>=2024->mkl->numpy->torchtoolbox) (2024.2.0)\r\n",
      "Downloading torchtoolbox-0.1.8.2-py3-none-any.whl (84 kB)\r\n",
      "\u001b[2K   \u001b[90m━━━━━━━━━━━━━━━━━━━━━━━━━━━━━━━━━━━━━━━━\u001b[0m \u001b[32m85.0/85.0 kB\u001b[0m \u001b[31m2.7 MB/s\u001b[0m eta \u001b[36m0:00:00\u001b[0m\r\n",
      "\u001b[?25hDownloading lmdb-1.7.3-cp311-cp311-manylinux_2_17_x86_64.manylinux2014_x86_64.whl (299 kB)\r\n",
      "\u001b[2K   \u001b[90m━━━━━━━━━━━━━━━━━━━━━━━━━━━━━━━━━━━━━━━━\u001b[0m \u001b[32m299.6/299.6 kB\u001b[0m \u001b[31m9.3 MB/s\u001b[0m eta \u001b[36m0:00:00\u001b[0m\r\n",
      "\u001b[?25hInstalling collected packages: lmdb, torchtoolbox\r\n",
      "Successfully installed lmdb-1.7.3 torchtoolbox-0.1.8.2\r\n"
     ]
    }
   ],
   "source": [
    "!pip install ultralytics\n",
    "!pip install torchtoolbox"
   ]
  },
  {
   "cell_type": "code",
   "execution_count": 2,
   "id": "4df17e85",
   "metadata": {
    "_cell_guid": "ce002dac-6244-4ae1-bb99-fe50fc16facf",
    "_uuid": "53cc777f-65c1-41dd-8651-81e1154c5272",
    "collapsed": false,
    "execution": {
     "iopub.execute_input": "2025-08-27T14:56:10.102036Z",
     "iopub.status.busy": "2025-08-27T14:56:10.101737Z",
     "iopub.status.idle": "2025-08-27T17:31:05.108922Z",
     "shell.execute_reply": "2025-08-27T17:31:05.108128Z"
    },
    "jupyter": {
     "outputs_hidden": false
    },
    "papermill": {
     "duration": 9295.037638,
     "end_time": "2025-08-27T17:31:05.111465",
     "exception": false,
     "start_time": "2025-08-27T14:56:10.073827",
     "status": "completed"
    },
    "tags": []
   },
   "outputs": [
    {
     "name": "stdout",
     "output_type": "stream",
     "text": [
      "Creating new Ultralytics Settings v0.0.6 file ✅ \n",
      "View Ultralytics Settings with 'yolo settings' or at '/root/.config/Ultralytics/settings.json'\n",
      "Update Settings with 'yolo settings key=value', i.e. 'yolo settings runs_dir=path/to/dir'. For help see https://docs.ultralytics.com/quickstart/#ultralytics-settings.\n"
     ]
    },
    {
     "name": "stderr",
     "output_type": "stream",
     "text": [
      "/usr/local/lib/python3.11/dist-packages/torch/nn/modules/transformer.py:379: UserWarning: enable_nested_tensor is True, but self.use_nested_tensor is False because encoder_layer.norm_first was True\n",
      "  warnings.warn(\n",
      "/tmp/ipykernel_19/3982803940.py:369: FutureWarning: You are using `torch.load` with `weights_only=False` (the current default value), which uses the default pickle module implicitly. It is possible to construct malicious pickle data which will execute arbitrary code during unpickling (See https://github.com/pytorch/pytorch/blob/main/SECURITY.md#untrusted-models for more details). In a future release, the default value for `weights_only` will be flipped to `True`. This limits the functions that could be executed during unpickling. Arbitrary objects will no longer be allowed to be loaded via this mode unless they are explicitly allowlisted by the user via `torch.serialization.add_safe_globals`. We recommend you start setting `weights_only=True` for any use case where you don't have full control of the loaded file. Please open an issue on GitHub for any issues related to this experimental feature.\n",
      "  checkpoint = torch.load(\"/kaggle/input/yolo_rvt_aolp_le_36/pytorch/default/1/best_yolo_rvit_model36.pth\", map_location=DEVICE)\n",
      "Epoch 1/100 [TRAIN] LR: 9.32e-05 Teach: 0.70 Scheduler: CosineAnnealingWarmRestarts:   2%|▎         | 1/40 [00:08<05:30,  8.47s/it, loss=0.201]"
     ]
    },
    {
     "name": "stdout",
     "output_type": "stream",
     "text": [
      "\n",
      "--- Training Batch 0 Examples (Content Only) ---\n",
      "  Pred: '6020MS'\n",
      "  True: '6020MS'\n",
      "  Pred: '8277MS'\n",
      "  True: '8277MS'\n",
      "  Pred: 'DF7686'\n",
      "  True: 'DF7686'\n",
      "  Pred: 'F83065'\n",
      "  True: 'F93065'\n",
      "  Pred: '3886EF'\n",
      "  True: '3886EF'\n",
      "-------------------------------\n"
     ]
    },
    {
     "name": "stderr",
     "output_type": "stream",
     "text": [
      "Epoch 1/100 [TRAIN] LR: 9.32e-05 Teach: 0.70 Scheduler: CosineAnnealingWarmRestarts: 100%|██████████| 40/40 [00:54<00:00,  1.37s/it, loss=0.116]\n",
      "Epoch 1/100 [VAL]: 100%|██████████| 24/24 [00:35<00:00,  1.49s/it, loss=0.322]\n"
     ]
    },
    {
     "name": "stdout",
     "output_type": "stream",
     "text": [
      "EarlyStopping: New best val_acc: 0.9549\n",
      "\n",
      "Epoch 1/100 | LR: 9.90e-06 | Teach: 0.70 | Scheduler: CosineAnnealingWarmRestarts\n",
      "  Train Loss: 0.1503 | Train Char Acc: 0.9911\n",
      "  Val Loss: 0.2532   | Val Acc (CRR): 0.9549\n",
      "  Val Exact Match Acc (E2E RR): 0.8190\n",
      "----------------------------------------------------------------------\n",
      "*** New best validation accuracy: 0.9549. Saving best_model.pth ***\n"
     ]
    },
    {
     "name": "stderr",
     "output_type": "stream",
     "text": [
      "Epoch 2/100 [TRAIN] LR: 9.90e-06 Teach: 0.69 Scheduler: CosineAnnealingWarmRestarts:   2%|▎         | 1/40 [00:05<03:38,  5.61s/it, loss=0.184]"
     ]
    },
    {
     "name": "stdout",
     "output_type": "stream",
     "text": [
      "\n",
      "--- Training Batch 0 Examples (Content Only) ---\n",
      "  Pred: '5011QT'\n",
      "  True: '5011QT'\n",
      "  Pred: 'X33558'\n",
      "  True: 'X33558'\n",
      "  Pred: 'BU8845'\n",
      "  True: 'BU8845'\n",
      "  Pred: 'DY7692'\n",
      "  True: 'DY7692'\n",
      "  Pred: '6237JJ'\n",
      "  True: '6237JJ'\n",
      "-------------------------------\n"
     ]
    },
    {
     "name": "stderr",
     "output_type": "stream",
     "text": [
      "Epoch 2/100 [TRAIN] LR: 9.90e-06 Teach: 0.69 Scheduler: CosineAnnealingWarmRestarts: 100%|██████████| 40/40 [00:52<00:00,  1.30s/it, loss=0.148]\n",
      "Epoch 2/100 [VAL]: 100%|██████████| 24/24 [00:35<00:00,  1.47s/it, loss=0.307]\n"
     ]
    },
    {
     "name": "stdout",
     "output_type": "stream",
     "text": [
      "EarlyStopping counter: 1/100 (Best val_acc: 0.9549)\n",
      "\n",
      "Epoch 2/100 | LR: 9.61e-06 | Teach: 0.69 | Scheduler: CosineAnnealingWarmRestarts\n",
      "  Train Loss: 0.1220 | Train Char Acc: 0.9934\n",
      "  Val Loss: 0.2494   | Val Acc (CRR): 0.9544\n",
      "  Val Exact Match Acc (E2E RR): 0.8230\n",
      "----------------------------------------------------------------------\n"
     ]
    },
    {
     "name": "stderr",
     "output_type": "stream",
     "text": [
      "Epoch 3/100 [TRAIN] LR: 9.61e-06 Teach: 0.69 Scheduler: CosineAnnealingWarmRestarts:   2%|▎         | 1/40 [00:06<03:58,  6.13s/it, loss=0.102]"
     ]
    },
    {
     "name": "stdout",
     "output_type": "stream",
     "text": [
      "\n",
      "--- Training Batch 0 Examples (Content Only) ---\n",
      "  Pred: '3131TM'\n",
      "  True: '3131TM'\n",
      "  Pred: '7G1333'\n",
      "  True: '7G1333'\n",
      "  Pred: '8728QE'\n",
      "  True: '8728QE'\n",
      "  Pred: '6060ER'\n",
      "  True: '6060ER'\n",
      "  Pred: 'F21180'\n",
      "  True: 'F21180'\n",
      "-------------------------------\n"
     ]
    },
    {
     "name": "stderr",
     "output_type": "stream",
     "text": [
      "Epoch 3/100 [TRAIN] LR: 9.61e-06 Teach: 0.69 Scheduler: CosineAnnealingWarmRestarts: 100%|██████████| 40/40 [00:56<00:00,  1.42s/it, loss=0.101]\n",
      "Epoch 3/100 [VAL]: 100%|██████████| 24/24 [00:35<00:00,  1.48s/it, loss=0.298]\n"
     ]
    },
    {
     "name": "stdout",
     "output_type": "stream",
     "text": [
      "EarlyStopping: New best val_acc: 0.9562\n",
      "\n",
      "Epoch 3/100 | LR: 9.14e-06 | Teach: 0.69 | Scheduler: CosineAnnealingWarmRestarts\n",
      "  Train Loss: 0.1174 | Train Char Acc: 0.9949\n",
      "  Val Loss: 0.2406   | Val Acc (CRR): 0.9562\n",
      "  Val Exact Match Acc (E2E RR): 0.8217\n",
      "----------------------------------------------------------------------\n",
      "*** New best validation accuracy: 0.9562. Saving best_model.pth ***\n"
     ]
    },
    {
     "name": "stderr",
     "output_type": "stream",
     "text": [
      "Epoch 4/100 [TRAIN] LR: 9.14e-06 Teach: 0.68 Scheduler: CosineAnnealingWarmRestarts:   2%|▎         | 1/40 [00:06<04:02,  6.21s/it, loss=0.111]"
     ]
    },
    {
     "name": "stdout",
     "output_type": "stream",
     "text": [
      "\n",
      "--- Training Batch 0 Examples (Content Only) ---\n",
      "  Pred: 'BB0D31'\n",
      "  True: 'BB0D31'\n",
      "  Pred: 'WH1425'\n",
      "  True: 'WH1425'\n",
      "  Pred: '1876UC'\n",
      "  True: '1876UC'\n",
      "  Pred: '8190DR'\n",
      "  True: '8190DR'\n",
      "  Pred: '7197QM'\n",
      "  True: '7197QM'\n",
      "-------------------------------\n"
     ]
    },
    {
     "name": "stderr",
     "output_type": "stream",
     "text": [
      "Epoch 4/100 [TRAIN] LR: 9.14e-06 Teach: 0.68 Scheduler: CosineAnnealingWarmRestarts: 100%|██████████| 40/40 [00:56<00:00,  1.41s/it, loss=0.104]\n",
      "Epoch 4/100 [VAL]: 100%|██████████| 24/24 [00:35<00:00,  1.48s/it, loss=0.244]\n"
     ]
    },
    {
     "name": "stdout",
     "output_type": "stream",
     "text": [
      "EarlyStopping: New best val_acc: 0.9595\n",
      "\n",
      "Epoch 4/100 | LR: 8.51e-06 | Teach: 0.68 | Scheduler: CosineAnnealingWarmRestarts\n",
      "  Train Loss: 0.1224 | Train Char Acc: 0.9923\n",
      "  Val Loss: 0.2334   | Val Acc (CRR): 0.9595\n",
      "  Val Exact Match Acc (E2E RR): 0.8269\n",
      "----------------------------------------------------------------------\n",
      "*** New best validation accuracy: 0.9595. Saving best_model.pth ***\n"
     ]
    },
    {
     "name": "stderr",
     "output_type": "stream",
     "text": [
      "Epoch 5/100 [TRAIN] LR: 8.51e-06 Teach: 0.67 Scheduler: CosineAnnealingWarmRestarts:   2%|▎         | 1/40 [00:05<03:48,  5.85s/it, loss=0.112]"
     ]
    },
    {
     "name": "stdout",
     "output_type": "stream",
     "text": [
      "\n",
      "--- Training Batch 0 Examples (Content Only) ---\n",
      "  Pred: '8571EA'\n",
      "  True: '8571EA'\n",
      "  Pred: 'HF2706'\n",
      "  True: 'HF2706'\n",
      "  Pred: '5297KH'\n",
      "  True: '5297KH'\n",
      "  Pred: 'DD8099'\n",
      "  True: 'DD8099'\n",
      "  Pred: 'EF1452'\n",
      "  True: 'EF1452'\n",
      "-------------------------------\n"
     ]
    },
    {
     "name": "stderr",
     "output_type": "stream",
     "text": [
      "Epoch 5/100 [TRAIN] LR: 8.51e-06 Teach: 0.67 Scheduler: CosineAnnealingWarmRestarts: 100%|██████████| 40/40 [00:56<00:00,  1.42s/it, loss=0.107]\n",
      "Epoch 5/100 [VAL]: 100%|██████████| 24/24 [00:35<00:00,  1.49s/it, loss=0.242]\n"
     ]
    },
    {
     "name": "stdout",
     "output_type": "stream",
     "text": [
      "EarlyStopping counter: 1/100 (Best val_acc: 0.9595)\n",
      "\n",
      "Epoch 5/100 | LR: 7.75e-06 | Teach: 0.67 | Scheduler: CosineAnnealingWarmRestarts\n",
      "  Train Loss: 0.1209 | Train Char Acc: 0.9926\n",
      "  Val Loss: 0.2352   | Val Acc (CRR): 0.9590\n",
      "  Val Exact Match Acc (E2E RR): 0.8256\n",
      "----------------------------------------------------------------------\n"
     ]
    },
    {
     "name": "stderr",
     "output_type": "stream",
     "text": [
      "Epoch 6/100 [TRAIN] LR: 7.75e-06 Teach: 0.67 Scheduler: CosineAnnealingWarmRestarts:   2%|▎         | 1/40 [00:06<03:56,  6.08s/it, loss=0.1]"
     ]
    },
    {
     "name": "stdout",
     "output_type": "stream",
     "text": [
      "\n",
      "--- Training Batch 0 Examples (Content Only) ---\n",
      "  Pred: '2938GC'\n",
      "  True: '2938GC'\n",
      "  Pred: '1129FE'\n",
      "  True: '1129FE'\n",
      "  Pred: '3G9088'\n",
      "  True: '3G9088'\n",
      "  Pred: '6T0626'\n",
      "  True: '6T0626'\n",
      "  Pred: '6878NB'\n",
      "  True: '6878NB'\n",
      "-------------------------------\n"
     ]
    },
    {
     "name": "stderr",
     "output_type": "stream",
     "text": [
      "Epoch 6/100 [TRAIN] LR: 7.75e-06 Teach: 0.67 Scheduler: CosineAnnealingWarmRestarts: 100%|██████████| 40/40 [00:57<00:00,  1.44s/it, loss=0.139]\n",
      "Epoch 6/100 [VAL]: 100%|██████████| 24/24 [00:35<00:00,  1.49s/it, loss=0.242]\n"
     ]
    },
    {
     "name": "stdout",
     "output_type": "stream",
     "text": [
      "EarlyStopping counter: 2/100 (Best val_acc: 0.9595)\n",
      "\n",
      "Epoch 6/100 | LR: 6.89e-06 | Teach: 0.67 | Scheduler: CosineAnnealingWarmRestarts\n",
      "  Train Loss: 0.1174 | Train Char Acc: 0.9932\n",
      "  Val Loss: 0.2357   | Val Acc (CRR): 0.9593\n",
      "  Val Exact Match Acc (E2E RR): 0.8269\n",
      "----------------------------------------------------------------------\n"
     ]
    },
    {
     "name": "stderr",
     "output_type": "stream",
     "text": [
      "Epoch 7/100 [TRAIN] LR: 6.89e-06 Teach: 0.66 Scheduler: CosineAnnealingWarmRestarts:   2%|▎         | 1/40 [00:05<03:45,  5.78s/it, loss=0.0992]"
     ]
    },
    {
     "name": "stdout",
     "output_type": "stream",
     "text": [
      "\n",
      "--- Training Batch 0 Examples (Content Only) ---\n",
      "  Pred: 'CS2399'\n",
      "  True: 'CS2399'\n",
      "  Pred: '5E5548'\n",
      "  True: '5E5548'\n",
      "  Pred: '7038DK'\n",
      "  True: '7038DK'\n",
      "  Pred: '5807NT'\n",
      "  True: '5807NT'\n",
      "  Pred: 'BZ4365'\n",
      "  True: 'BZ4365'\n",
      "-------------------------------\n"
     ]
    },
    {
     "name": "stderr",
     "output_type": "stream",
     "text": [
      "Epoch 7/100 [TRAIN] LR: 6.89e-06 Teach: 0.66 Scheduler: CosineAnnealingWarmRestarts: 100%|██████████| 40/40 [00:56<00:00,  1.42s/it, loss=0.153]\n",
      "Epoch 7/100 [VAL]: 100%|██████████| 24/24 [00:35<00:00,  1.49s/it, loss=0.24]\n"
     ]
    },
    {
     "name": "stdout",
     "output_type": "stream",
     "text": [
      "EarlyStopping counter: 3/100 (Best val_acc: 0.9595)\n",
      "\n",
      "Epoch 7/100 | LR: 5.97e-06 | Teach: 0.66 | Scheduler: CosineAnnealingWarmRestarts\n",
      "  Train Loss: 0.1277 | Train Char Acc: 0.9908\n",
      "  Val Loss: 0.2367   | Val Acc (CRR): 0.9590\n",
      "  Val Exact Match Acc (E2E RR): 0.8283\n",
      "----------------------------------------------------------------------\n"
     ]
    },
    {
     "name": "stderr",
     "output_type": "stream",
     "text": [
      "Epoch 8/100 [TRAIN] LR: 5.97e-06 Teach: 0.65 Scheduler: CosineAnnealingWarmRestarts:   2%|▎         | 1/40 [00:06<04:03,  6.23s/it, loss=0.11]"
     ]
    },
    {
     "name": "stdout",
     "output_type": "stream",
     "text": [
      "\n",
      "--- Training Batch 0 Examples (Content Only) ---\n",
      "  Pred: '1993QG'\n",
      "  True: '1993QG'\n",
      "  Pred: '6177MS'\n",
      "  True: '6177MS'\n",
      "  Pred: '3316JT'\n",
      "  True: '3316JT'\n",
      "  Pred: '6366DN'\n",
      "  True: '6366DN'\n",
      "  Pred: 'F90599'\n",
      "  True: 'F90599'\n",
      "-------------------------------\n"
     ]
    },
    {
     "name": "stderr",
     "output_type": "stream",
     "text": [
      "Epoch 8/100 [TRAIN] LR: 5.97e-06 Teach: 0.65 Scheduler: CosineAnnealingWarmRestarts: 100%|██████████| 40/40 [00:57<00:00,  1.45s/it, loss=0.138]\n",
      "Epoch 8/100 [VAL]: 100%|██████████| 24/24 [00:35<00:00,  1.48s/it, loss=0.24]\n"
     ]
    },
    {
     "name": "stdout",
     "output_type": "stream",
     "text": [
      "EarlyStopping counter: 4/100 (Best val_acc: 0.9595)\n",
      "\n",
      "Epoch 8/100 | LR: 5.03e-06 | Teach: 0.65 | Scheduler: CosineAnnealingWarmRestarts\n",
      "  Train Loss: 0.1209 | Train Char Acc: 0.9922\n",
      "  Val Loss: 0.2344   | Val Acc (CRR): 0.9597\n",
      "  Val Exact Match Acc (E2E RR): 0.8283\n",
      "----------------------------------------------------------------------\n",
      "*** New best validation accuracy: 0.9597. Saving best_model.pth ***\n"
     ]
    },
    {
     "name": "stderr",
     "output_type": "stream",
     "text": [
      "Epoch 9/100 [TRAIN] LR: 5.03e-06 Teach: 0.65 Scheduler: CosineAnnealingWarmRestarts:   2%|▎         | 1/40 [00:05<03:27,  5.32s/it, loss=0.103]"
     ]
    },
    {
     "name": "stdout",
     "output_type": "stream",
     "text": [
      "\n",
      "--- Training Batch 0 Examples (Content Only) ---\n",
      "  Pred: '6E9688'\n",
      "  True: '6E9688'\n",
      "  Pred: 'L60793'\n",
      "  True: 'L60793'\n",
      "  Pred: '6015RM'\n",
      "  True: '6015RM'\n",
      "  Pred: '8256KS'\n",
      "  True: '8256KS'\n",
      "  Pred: 'BE2157'\n",
      "  True: 'BE2157'\n",
      "-------------------------------\n"
     ]
    },
    {
     "name": "stderr",
     "output_type": "stream",
     "text": [
      "Epoch 9/100 [TRAIN] LR: 5.03e-06 Teach: 0.65 Scheduler: CosineAnnealingWarmRestarts: 100%|██████████| 40/40 [00:57<00:00,  1.43s/it, loss=0.103]\n",
      "Epoch 9/100 [VAL]: 100%|██████████| 24/24 [00:35<00:00,  1.48s/it, loss=0.241]\n"
     ]
    },
    {
     "name": "stdout",
     "output_type": "stream",
     "text": [
      "EarlyStopping counter: 5/100 (Best val_acc: 0.9595)\n",
      "\n",
      "Epoch 9/100 | LR: 4.11e-06 | Teach: 0.65 | Scheduler: CosineAnnealingWarmRestarts\n",
      "  Train Loss: 0.1152 | Train Char Acc: 0.9945\n",
      "  Val Loss: 0.2360   | Val Acc (CRR): 0.9584\n",
      "  Val Exact Match Acc (E2E RR): 0.8256\n",
      "----------------------------------------------------------------------\n"
     ]
    },
    {
     "name": "stderr",
     "output_type": "stream",
     "text": [
      "Epoch 10/100 [TRAIN] LR: 4.11e-06 Teach: 0.64 Scheduler: CosineAnnealingWarmRestarts:   2%|▎         | 1/40 [00:06<04:06,  6.32s/it, loss=0.173]"
     ]
    },
    {
     "name": "stdout",
     "output_type": "stream",
     "text": [
      "\n",
      "--- Training Batch 0 Examples (Content Only) ---\n",
      "  Pred: '3391UW'\n",
      "  True: '3391UW'\n",
      "  Pred: '6060ER'\n",
      "  True: '6060ER'\n",
      "  Pred: '4323DU'\n",
      "  True: '4323DU'\n",
      "  Pred: 'CN2950'\n",
      "  True: 'CN2950'\n",
      "  Pred: '2078FG'\n",
      "  True: '2078FG'\n",
      "-------------------------------\n"
     ]
    },
    {
     "name": "stderr",
     "output_type": "stream",
     "text": [
      "Epoch 10/100 [TRAIN] LR: 4.11e-06 Teach: 0.64 Scheduler: CosineAnnealingWarmRestarts: 100%|██████████| 40/40 [00:57<00:00,  1.44s/it, loss=0.136]\n",
      "Epoch 10/100 [VAL]: 100%|██████████| 24/24 [00:35<00:00,  1.49s/it, loss=0.24]\n"
     ]
    },
    {
     "name": "stdout",
     "output_type": "stream",
     "text": [
      "EarlyStopping counter: 6/100 (Best val_acc: 0.9595)\n",
      "\n",
      "Epoch 10/100 | LR: 3.25e-06 | Teach: 0.64 | Scheduler: CosineAnnealingWarmRestarts\n",
      "  Train Loss: 0.1182 | Train Char Acc: 0.9935\n",
      "  Val Loss: 0.2338   | Val Acc (CRR): 0.9590\n",
      "  Val Exact Match Acc (E2E RR): 0.8269\n",
      "----------------------------------------------------------------------\n"
     ]
    },
    {
     "name": "stderr",
     "output_type": "stream",
     "text": [
      "Epoch 11/100 [TRAIN] LR: 3.25e-06 Teach: 0.63 Scheduler: CosineAnnealingWarmRestarts:   2%|▎         | 1/40 [00:05<03:51,  5.93s/it, loss=0.215]"
     ]
    },
    {
     "name": "stdout",
     "output_type": "stream",
     "text": [
      "\n",
      "--- Training Batch 0 Examples (Content Only) ---\n",
      "  Pred: 'DF7736'\n",
      "  True: 'DF7436'\n",
      "  Pred: 'T41577'\n",
      "  True: 'T41577'\n",
      "  Pred: 'Y56653'\n",
      "  True: 'Y56653'\n",
      "  Pred: '6999TX'\n",
      "  True: '6999TX'\n",
      "  Pred: '2215LR'\n",
      "  True: '2215LR'\n",
      "-------------------------------\n"
     ]
    },
    {
     "name": "stderr",
     "output_type": "stream",
     "text": [
      "Epoch 11/100 [TRAIN] LR: 3.25e-06 Teach: 0.63 Scheduler: CosineAnnealingWarmRestarts: 100%|██████████| 40/40 [00:57<00:00,  1.45s/it, loss=0.137]\n",
      "Epoch 11/100 [VAL]: 100%|██████████| 24/24 [00:35<00:00,  1.48s/it, loss=0.239]\n"
     ]
    },
    {
     "name": "stdout",
     "output_type": "stream",
     "text": [
      "EarlyStopping counter: 7/100 (Best val_acc: 0.9595)\n",
      "\n",
      "Epoch 11/100 | LR: 2.49e-06 | Teach: 0.63 | Scheduler: CosineAnnealingWarmRestarts\n",
      "  Train Loss: 0.1226 | Train Char Acc: 0.9913\n",
      "  Val Loss: 0.2321   | Val Acc (CRR): 0.9599\n",
      "  Val Exact Match Acc (E2E RR): 0.8283\n",
      "----------------------------------------------------------------------\n",
      "*** New best validation accuracy: 0.9599. Saving best_model.pth ***\n"
     ]
    },
    {
     "name": "stderr",
     "output_type": "stream",
     "text": [
      "Epoch 12/100 [TRAIN] LR: 2.49e-06 Teach: 0.63 Scheduler: CosineAnnealingWarmRestarts:   2%|▎         | 1/40 [00:05<03:45,  5.78s/it, loss=0.112]"
     ]
    },
    {
     "name": "stdout",
     "output_type": "stream",
     "text": [
      "\n",
      "--- Training Batch 0 Examples (Content Only) ---\n",
      "  Pred: '6887DZ'\n",
      "  True: '6887DZ'\n",
      "  Pred: '8728QE'\n",
      "  True: '8728QE'\n",
      "  Pred: '6060ER'\n",
      "  True: '6060ER'\n",
      "  Pred: '3970EA'\n",
      "  True: '3970EA'\n",
      "  Pred: '8D7823'\n",
      "  True: '8D7829'\n",
      "-------------------------------\n"
     ]
    },
    {
     "name": "stderr",
     "output_type": "stream",
     "text": [
      "Epoch 12/100 [TRAIN] LR: 2.49e-06 Teach: 0.63 Scheduler: CosineAnnealingWarmRestarts: 100%|██████████| 40/40 [00:57<00:00,  1.44s/it, loss=0.101]\n",
      "Epoch 12/100 [VAL]: 100%|██████████| 24/24 [00:35<00:00,  1.49s/it, loss=0.238]\n"
     ]
    },
    {
     "name": "stdout",
     "output_type": "stream",
     "text": [
      "EarlyStopping counter: 8/100 (Best val_acc: 0.9595)\n",
      "\n",
      "Epoch 12/100 | LR: 1.86e-06 | Teach: 0.63 | Scheduler: CosineAnnealingWarmRestarts\n",
      "  Train Loss: 0.1213 | Train Char Acc: 0.9928\n",
      "  Val Loss: 0.2331   | Val Acc (CRR): 0.9597\n",
      "  Val Exact Match Acc (E2E RR): 0.8269\n",
      "----------------------------------------------------------------------\n"
     ]
    },
    {
     "name": "stderr",
     "output_type": "stream",
     "text": [
      "Epoch 13/100 [TRAIN] LR: 1.86e-06 Teach: 0.62 Scheduler: CosineAnnealingWarmRestarts:   2%|▎         | 1/40 [00:06<03:58,  6.12s/it, loss=0.101]"
     ]
    },
    {
     "name": "stdout",
     "output_type": "stream",
     "text": [
      "\n",
      "--- Training Batch 0 Examples (Content Only) ---\n",
      "  Pred: '0439EQ'\n",
      "  True: '0439EQ'\n",
      "  Pred: 'DE3718'\n",
      "  True: 'DE3718'\n",
      "  Pred: '2B5617'\n",
      "  True: '2B5617'\n",
      "  Pred: '5615JQ'\n",
      "  True: '5615JQ'\n",
      "  Pred: '5110EA'\n",
      "  True: '5110EA'\n",
      "-------------------------------\n"
     ]
    },
    {
     "name": "stderr",
     "output_type": "stream",
     "text": [
      "Epoch 13/100 [TRAIN] LR: 1.86e-06 Teach: 0.62 Scheduler: CosineAnnealingWarmRestarts: 100%|██████████| 40/40 [00:57<00:00,  1.44s/it, loss=0.136]\n",
      "Epoch 13/100 [VAL]: 100%|██████████| 24/24 [00:35<00:00,  1.48s/it, loss=0.238]\n"
     ]
    },
    {
     "name": "stdout",
     "output_type": "stream",
     "text": [
      "EarlyStopping counter: 9/100 (Best val_acc: 0.9595)\n",
      "\n",
      "Epoch 13/100 | LR: 1.39e-06 | Teach: 0.62 | Scheduler: CosineAnnealingWarmRestarts\n",
      "  Train Loss: 0.1172 | Train Char Acc: 0.9944\n",
      "  Val Loss: 0.2329   | Val Acc (CRR): 0.9597\n",
      "  Val Exact Match Acc (E2E RR): 0.8269\n",
      "----------------------------------------------------------------------\n"
     ]
    },
    {
     "name": "stderr",
     "output_type": "stream",
     "text": [
      "Epoch 14/100 [TRAIN] LR: 1.39e-06 Teach: 0.61 Scheduler: CosineAnnealingWarmRestarts:   2%|▎         | 1/40 [00:05<03:19,  5.12s/it, loss=0.159]"
     ]
    },
    {
     "name": "stdout",
     "output_type": "stream",
     "text": [
      "\n",
      "--- Training Batch 0 Examples (Content Only) ---\n",
      "  Pred: '7N8062'\n",
      "  True: '7N8062'\n",
      "  Pred: '1C0906'\n",
      "  True: '1C0906'\n",
      "  Pred: 'HZ0848'\n",
      "  True: 'HZ0848'\n",
      "  Pred: '2516RH'\n",
      "  True: '2516RH'\n",
      "  Pred: '3768RY'\n",
      "  True: '3768RY'\n",
      "-------------------------------\n"
     ]
    },
    {
     "name": "stderr",
     "output_type": "stream",
     "text": [
      "Epoch 14/100 [TRAIN] LR: 1.39e-06 Teach: 0.61 Scheduler: CosineAnnealingWarmRestarts: 100%|██████████| 40/40 [00:57<00:00,  1.43s/it, loss=0.149]\n",
      "Epoch 14/100 [VAL]: 100%|██████████| 24/24 [00:35<00:00,  1.48s/it, loss=0.238]\n"
     ]
    },
    {
     "name": "stdout",
     "output_type": "stream",
     "text": [
      "EarlyStopping counter: 10/100 (Best val_acc: 0.9595)\n",
      "\n",
      "Epoch 14/100 | LR: 1.10e-06 | Teach: 0.61 | Scheduler: CosineAnnealingWarmRestarts\n",
      "  Train Loss: 0.1193 | Train Char Acc: 0.9921\n",
      "  Val Loss: 0.2334   | Val Acc (CRR): 0.9595\n",
      "  Val Exact Match Acc (E2E RR): 0.8256\n",
      "----------------------------------------------------------------------\n"
     ]
    },
    {
     "name": "stderr",
     "output_type": "stream",
     "text": [
      "Epoch 15/100 [TRAIN] LR: 1.10e-06 Teach: 0.61 Scheduler: CosineAnnealingWarmRestarts:   2%|▎         | 1/40 [00:05<03:44,  5.75s/it, loss=0.101]"
     ]
    },
    {
     "name": "stdout",
     "output_type": "stream",
     "text": [
      "\n",
      "--- Training Batch 0 Examples (Content Only) ---\n",
      "  Pred: '47G8QN'\n",
      "  True: '47G8QN'\n",
      "  Pred: '3886EF'\n",
      "  True: '3886EF'\n",
      "  Pred: 'DY7692'\n",
      "  True: 'DY7692'\n",
      "  Pred: '5B7981'\n",
      "  True: '5B7981'\n",
      "  Pred: 'F91001'\n",
      "  True: 'F91001'\n",
      "-------------------------------\n"
     ]
    },
    {
     "name": "stderr",
     "output_type": "stream",
     "text": [
      "Epoch 15/100 [TRAIN] LR: 1.10e-06 Teach: 0.61 Scheduler: CosineAnnealingWarmRestarts: 100%|██████████| 40/40 [00:57<00:00,  1.44s/it, loss=0.0998]\n",
      "Epoch 15/100 [VAL]: 100%|██████████| 24/24 [00:35<00:00,  1.47s/it, loss=0.238]\n"
     ]
    },
    {
     "name": "stdout",
     "output_type": "stream",
     "text": [
      "EarlyStopping counter: 11/100 (Best val_acc: 0.9595)\n",
      "\n",
      "Epoch 15/100 | LR: 1.00e-05 | Teach: 0.61 | Scheduler: CosineAnnealingWarmRestarts\n",
      "  Train Loss: 0.1150 | Train Char Acc: 0.9944\n",
      "  Val Loss: 0.2344   | Val Acc (CRR): 0.9590\n",
      "  Val Exact Match Acc (E2E RR): 0.8256\n",
      "----------------------------------------------------------------------\n"
     ]
    },
    {
     "name": "stderr",
     "output_type": "stream",
     "text": [
      "Epoch 16/100 [TRAIN] LR: 1.00e-05 Teach: 0.60 Scheduler: CosineAnnealingWarmRestarts:   2%|▎         | 1/40 [00:05<03:25,  5.26s/it, loss=0.0977]"
     ]
    },
    {
     "name": "stdout",
     "output_type": "stream",
     "text": [
      "\n",
      "--- Training Batch 0 Examples (Content Only) ---\n",
      "  Pred: 'A49998'\n",
      "  True: 'A49998'\n",
      "  Pred: 'HL4408'\n",
      "  True: 'HL4408'\n",
      "  Pred: '2551JS'\n",
      "  True: '2551JS'\n",
      "  Pred: 'L08599'\n",
      "  True: 'L08599'\n",
      "  Pred: '6887DZ'\n",
      "  True: '6887DZ'\n",
      "-------------------------------\n"
     ]
    },
    {
     "name": "stderr",
     "output_type": "stream",
     "text": [
      "Epoch 16/100 [TRAIN] LR: 1.00e-05 Teach: 0.60 Scheduler: CosineAnnealingWarmRestarts: 100%|██████████| 40/40 [00:56<00:00,  1.42s/it, loss=0.162]\n",
      "Epoch 16/100 [VAL]: 100%|██████████| 24/24 [00:35<00:00,  1.47s/it, loss=0.235]\n"
     ]
    },
    {
     "name": "stdout",
     "output_type": "stream",
     "text": [
      "EarlyStopping counter: 12/100 (Best val_acc: 0.9595)\n",
      "\n",
      "Epoch 16/100 | LR: 9.90e-06 | Teach: 0.60 | Scheduler: CosineAnnealingWarmRestarts\n",
      "  Train Loss: 0.1226 | Train Char Acc: 0.9909\n",
      "  Val Loss: 0.2372   | Val Acc (CRR): 0.9586\n",
      "  Val Exact Match Acc (E2E RR): 0.8256\n",
      "----------------------------------------------------------------------\n"
     ]
    },
    {
     "name": "stderr",
     "output_type": "stream",
     "text": [
      "Epoch 17/100 [TRAIN] LR: 9.90e-06 Teach: 0.59 Scheduler: CosineAnnealingWarmRestarts:   2%|▎         | 1/40 [00:06<03:59,  6.14s/it, loss=0.11]"
     ]
    },
    {
     "name": "stdout",
     "output_type": "stream",
     "text": [
      "\n",
      "--- Training Batch 0 Examples (Content Only) ---\n",
      "  Pred: '4768QN'\n",
      "  True: '4768QN'\n",
      "  Pred: 'R50268'\n",
      "  True: 'R50268'\n",
      "  Pred: 'DV7098'\n",
      "  True: 'DV7098'\n",
      "  Pred: 'EZ1536'\n",
      "  True: 'EZ1536'\n",
      "  Pred: '9711KG'\n",
      "  True: '9711KG'\n",
      "-------------------------------\n"
     ]
    },
    {
     "name": "stderr",
     "output_type": "stream",
     "text": [
      "Epoch 17/100 [TRAIN] LR: 9.90e-06 Teach: 0.59 Scheduler: CosineAnnealingWarmRestarts: 100%|██████████| 40/40 [00:58<00:00,  1.45s/it, loss=0.146]\n",
      "Epoch 17/100 [VAL]: 100%|██████████| 24/24 [00:35<00:00,  1.47s/it, loss=0.234]\n"
     ]
    },
    {
     "name": "stdout",
     "output_type": "stream",
     "text": [
      "EarlyStopping counter: 13/100 (Best val_acc: 0.9595)\n",
      "\n",
      "Epoch 17/100 | LR: 9.61e-06 | Teach: 0.59 | Scheduler: CosineAnnealingWarmRestarts\n",
      "  Train Loss: 0.1168 | Train Char Acc: 0.9939\n",
      "  Val Loss: 0.2325   | Val Acc (CRR): 0.9597\n",
      "  Val Exact Match Acc (E2E RR): 0.8269\n",
      "----------------------------------------------------------------------\n"
     ]
    },
    {
     "name": "stderr",
     "output_type": "stream",
     "text": [
      "Epoch 18/100 [TRAIN] LR: 9.61e-06 Teach: 0.59 Scheduler: CosineAnnealingWarmRestarts:   2%|▎         | 1/40 [00:05<03:46,  5.81s/it, loss=0.103]"
     ]
    },
    {
     "name": "stdout",
     "output_type": "stream",
     "text": [
      "\n",
      "--- Training Batch 0 Examples (Content Only) ---\n",
      "  Pred: '1976VH'\n",
      "  True: '1976VH'\n",
      "  Pred: 'Y88096'\n",
      "  True: 'Y88096'\n",
      "  Pred: '6322DR'\n",
      "  True: '6322DR'\n",
      "  Pred: 'R27689'\n",
      "  True: 'R27689'\n",
      "  Pred: 'G92285'\n",
      "  True: 'G92285'\n",
      "-------------------------------\n"
     ]
    },
    {
     "name": "stderr",
     "output_type": "stream",
     "text": [
      "Epoch 18/100 [TRAIN] LR: 9.61e-06 Teach: 0.59 Scheduler: CosineAnnealingWarmRestarts: 100%|██████████| 40/40 [00:57<00:00,  1.44s/it, loss=0.101]\n",
      "Epoch 18/100 [VAL]: 100%|██████████| 24/24 [00:35<00:00,  1.48s/it, loss=0.236]\n"
     ]
    },
    {
     "name": "stdout",
     "output_type": "stream",
     "text": [
      "EarlyStopping: New best val_acc: 0.9615\n",
      "\n",
      "Epoch 18/100 | LR: 9.14e-06 | Teach: 0.59 | Scheduler: CosineAnnealingWarmRestarts\n",
      "  Train Loss: 0.1191 | Train Char Acc: 0.9932\n",
      "  Val Loss: 0.2297   | Val Acc (CRR): 0.9615\n",
      "  Val Exact Match Acc (E2E RR): 0.8336\n",
      "----------------------------------------------------------------------\n",
      "*** New best validation accuracy: 0.9615. Saving best_model.pth ***\n"
     ]
    },
    {
     "name": "stderr",
     "output_type": "stream",
     "text": [
      "Epoch 19/100 [TRAIN] LR: 9.14e-06 Teach: 0.58 Scheduler: CosineAnnealingWarmRestarts:   2%|▎         | 1/40 [00:05<03:35,  5.52s/it, loss=0.132]"
     ]
    },
    {
     "name": "stdout",
     "output_type": "stream",
     "text": [
      "\n",
      "--- Training Batch 0 Examples (Content Only) ---\n",
      "  Pred: '6999TX'\n",
      "  True: '6999TX'\n",
      "  Pred: '7672HV'\n",
      "  True: '7672HV'\n",
      "  Pred: '8C4095'\n",
      "  True: '8C4095'\n",
      "  Pred: '6322DR'\n",
      "  True: '6322DR'\n",
      "  Pred: 'CM9301'\n",
      "  True: 'CM9301'\n",
      "-------------------------------\n"
     ]
    },
    {
     "name": "stderr",
     "output_type": "stream",
     "text": [
      "Epoch 19/100 [TRAIN] LR: 9.14e-06 Teach: 0.58 Scheduler: CosineAnnealingWarmRestarts: 100%|██████████| 40/40 [00:57<00:00,  1.43s/it, loss=0.105]\n",
      "Epoch 19/100 [VAL]: 100%|██████████| 24/24 [00:35<00:00,  1.48s/it, loss=0.238]\n"
     ]
    },
    {
     "name": "stdout",
     "output_type": "stream",
     "text": [
      "EarlyStopping counter: 1/100 (Best val_acc: 0.9615)\n",
      "\n",
      "Epoch 19/100 | LR: 8.51e-06 | Teach: 0.58 | Scheduler: CosineAnnealingWarmRestarts\n",
      "  Train Loss: 0.1172 | Train Char Acc: 0.9940\n",
      "  Val Loss: 0.2288   | Val Acc (CRR): 0.9615\n",
      "  Val Exact Match Acc (E2E RR): 0.8322\n",
      "----------------------------------------------------------------------\n"
     ]
    },
    {
     "name": "stderr",
     "output_type": "stream",
     "text": [
      "Epoch 20/100 [TRAIN] LR: 8.51e-06 Teach: 0.58 Scheduler: CosineAnnealingWarmRestarts:   2%|▎         | 1/40 [00:06<04:05,  6.29s/it, loss=0.103]"
     ]
    },
    {
     "name": "stdout",
     "output_type": "stream",
     "text": [
      "\n",
      "--- Training Batch 0 Examples (Content Only) ---\n",
      "  Pred: '5D7379'\n",
      "  True: '5D7379'\n",
      "  Pred: '7427EA'\n",
      "  True: '7427EA'\n",
      "  Pred: 'Q29902'\n",
      "  True: 'Q29902'\n",
      "  Pred: '3335KD'\n",
      "  True: '3335KD'\n",
      "  Pred: '4323DU'\n",
      "  True: '4323DU'\n",
      "-------------------------------\n"
     ]
    },
    {
     "name": "stderr",
     "output_type": "stream",
     "text": [
      "Epoch 20/100 [TRAIN] LR: 8.51e-06 Teach: 0.58 Scheduler: CosineAnnealingWarmRestarts: 100%|██████████| 40/40 [00:58<00:00,  1.45s/it, loss=0.191]\n",
      "Epoch 20/100 [VAL]: 100%|██████████| 24/24 [00:35<00:00,  1.47s/it, loss=0.237]\n"
     ]
    },
    {
     "name": "stdout",
     "output_type": "stream",
     "text": [
      "EarlyStopping counter: 2/100 (Best val_acc: 0.9615)\n",
      "\n",
      "Epoch 20/100 | LR: 7.75e-06 | Teach: 0.58 | Scheduler: CosineAnnealingWarmRestarts\n",
      "  Train Loss: 0.1251 | Train Char Acc: 0.9909\n",
      "  Val Loss: 0.2327   | Val Acc (CRR): 0.9601\n",
      "  Val Exact Match Acc (E2E RR): 0.8296\n",
      "----------------------------------------------------------------------\n"
     ]
    },
    {
     "name": "stderr",
     "output_type": "stream",
     "text": [
      "Epoch 21/100 [TRAIN] LR: 7.75e-06 Teach: 0.57 Scheduler: CosineAnnealingWarmRestarts:   2%|▎         | 1/40 [00:05<03:32,  5.44s/it, loss=0.162]"
     ]
    },
    {
     "name": "stdout",
     "output_type": "stream",
     "text": [
      "\n",
      "--- Training Batch 0 Examples (Content Only) ---\n",
      "  Pred: 'CN0972'\n",
      "  True: 'CN0972'\n",
      "  Pred: '3153LU'\n",
      "  True: '3153LU'\n",
      "  Pred: 'P92580'\n",
      "  True: 'P92580'\n",
      "  Pred: '9815QW'\n",
      "  True: '9815QW'\n",
      "  Pred: '2209BB'\n",
      "  True: '2209BB'\n",
      "-------------------------------\n"
     ]
    },
    {
     "name": "stderr",
     "output_type": "stream",
     "text": [
      "Epoch 21/100 [TRAIN] LR: 7.75e-06 Teach: 0.57 Scheduler: CosineAnnealingWarmRestarts: 100%|██████████| 40/40 [00:57<00:00,  1.44s/it, loss=0.121]\n",
      "Epoch 21/100 [VAL]: 100%|██████████| 24/24 [00:35<00:00,  1.48s/it, loss=0.237]\n"
     ]
    },
    {
     "name": "stdout",
     "output_type": "stream",
     "text": [
      "EarlyStopping counter: 3/100 (Best val_acc: 0.9615)\n",
      "\n",
      "Epoch 21/100 | LR: 6.89e-06 | Teach: 0.57 | Scheduler: CosineAnnealingWarmRestarts\n",
      "  Train Loss: 0.1228 | Train Char Acc: 0.9909\n",
      "  Val Loss: 0.2347   | Val Acc (CRR): 0.9590\n",
      "  Val Exact Match Acc (E2E RR): 0.8269\n",
      "----------------------------------------------------------------------\n"
     ]
    },
    {
     "name": "stderr",
     "output_type": "stream",
     "text": [
      "Epoch 22/100 [TRAIN] LR: 6.89e-06 Teach: 0.56 Scheduler: CosineAnnealingWarmRestarts:   2%|▎         | 1/40 [00:05<03:44,  5.75s/it, loss=0.182]"
     ]
    },
    {
     "name": "stdout",
     "output_type": "stream",
     "text": [
      "\n",
      "--- Training Batch 0 Examples (Content Only) ---\n",
      "  Pred: '111286'\n",
      "  True: '1985GW'\n",
      "  Pred: '5287GZ'\n",
      "  True: '5287GZ'\n",
      "  Pred: '6327ER'\n",
      "  True: '6327ER'\n",
      "  Pred: '8917FE'\n",
      "  True: '8917FE'\n",
      "  Pred: '8160ET'\n",
      "  True: '8160ET'\n",
      "-------------------------------\n"
     ]
    },
    {
     "name": "stderr",
     "output_type": "stream",
     "text": [
      "Epoch 22/100 [TRAIN] LR: 6.89e-06 Teach: 0.56 Scheduler: CosineAnnealingWarmRestarts: 100%|██████████| 40/40 [00:57<00:00,  1.44s/it, loss=0.122]\n",
      "Epoch 22/100 [VAL]: 100%|██████████| 24/24 [00:35<00:00,  1.48s/it, loss=0.235]\n"
     ]
    },
    {
     "name": "stdout",
     "output_type": "stream",
     "text": [
      "EarlyStopping counter: 4/100 (Best val_acc: 0.9615)\n",
      "\n",
      "Epoch 22/100 | LR: 5.97e-06 | Teach: 0.56 | Scheduler: CosineAnnealingWarmRestarts\n",
      "  Train Loss: 0.1295 | Train Char Acc: 0.9883\n",
      "  Val Loss: 0.2358   | Val Acc (CRR): 0.9584\n",
      "  Val Exact Match Acc (E2E RR): 0.8256\n",
      "----------------------------------------------------------------------\n"
     ]
    },
    {
     "name": "stderr",
     "output_type": "stream",
     "text": [
      "Epoch 23/100 [TRAIN] LR: 5.97e-06 Teach: 0.56 Scheduler: CosineAnnealingWarmRestarts:   2%|▎         | 1/40 [00:05<03:52,  5.97s/it, loss=0.1]"
     ]
    },
    {
     "name": "stdout",
     "output_type": "stream",
     "text": [
      "\n",
      "--- Training Batch 0 Examples (Content Only) ---\n",
      "  Pred: '3391UW'\n",
      "  True: '3391UW'\n",
      "  Pred: 'C29126'\n",
      "  True: 'C29126'\n",
      "  Pred: 'CQ5546'\n",
      "  True: 'CQ5546'\n",
      "  Pred: '2516RH'\n",
      "  True: '2516RH'\n",
      "  Pred: '8032EA'\n",
      "  True: '8032EA'\n",
      "-------------------------------\n"
     ]
    },
    {
     "name": "stderr",
     "output_type": "stream",
     "text": [
      "Epoch 23/100 [TRAIN] LR: 5.97e-06 Teach: 0.56 Scheduler: CosineAnnealingWarmRestarts: 100%|██████████| 40/40 [00:57<00:00,  1.43s/it, loss=0.153]\n",
      "Epoch 23/100 [VAL]: 100%|██████████| 24/24 [00:35<00:00,  1.47s/it, loss=0.236]\n"
     ]
    },
    {
     "name": "stdout",
     "output_type": "stream",
     "text": [
      "EarlyStopping counter: 5/100 (Best val_acc: 0.9615)\n",
      "\n",
      "Epoch 23/100 | LR: 5.03e-06 | Teach: 0.56 | Scheduler: CosineAnnealingWarmRestarts\n",
      "  Train Loss: 0.1189 | Train Char Acc: 0.9928\n",
      "  Val Loss: 0.2349   | Val Acc (CRR): 0.9584\n",
      "  Val Exact Match Acc (E2E RR): 0.8230\n",
      "----------------------------------------------------------------------\n"
     ]
    },
    {
     "name": "stderr",
     "output_type": "stream",
     "text": [
      "Epoch 24/100 [TRAIN] LR: 5.03e-06 Teach: 0.55 Scheduler: CosineAnnealingWarmRestarts:   2%|▎         | 1/40 [00:05<03:50,  5.91s/it, loss=0.111]"
     ]
    },
    {
     "name": "stdout",
     "output_type": "stream",
     "text": [
      "\n",
      "--- Training Batch 0 Examples (Content Only) ---\n",
      "  Pred: '8190DR'\n",
      "  True: '819DDR'\n",
      "  Pred: 'HZ0848'\n",
      "  True: 'HZ0848'\n",
      "  Pred: '3131TM'\n",
      "  True: '3131TM'\n",
      "  Pred: '6C1699'\n",
      "  True: '6C1699'\n",
      "  Pred: 'DC1730'\n",
      "  True: 'DC1730'\n",
      "-------------------------------\n"
     ]
    },
    {
     "name": "stderr",
     "output_type": "stream",
     "text": [
      "Epoch 24/100 [TRAIN] LR: 5.03e-06 Teach: 0.55 Scheduler: CosineAnnealingWarmRestarts: 100%|██████████| 40/40 [00:57<00:00,  1.43s/it, loss=0.156]\n",
      "Epoch 24/100 [VAL]: 100%|██████████| 24/24 [00:35<00:00,  1.47s/it, loss=0.236]\n"
     ]
    },
    {
     "name": "stdout",
     "output_type": "stream",
     "text": [
      "EarlyStopping counter: 6/100 (Best val_acc: 0.9615)\n",
      "\n",
      "Epoch 24/100 | LR: 4.11e-06 | Teach: 0.55 | Scheduler: CosineAnnealingWarmRestarts\n",
      "  Train Loss: 0.1205 | Train Char Acc: 0.9924\n",
      "  Val Loss: 0.2333   | Val Acc (CRR): 0.9593\n",
      "  Val Exact Match Acc (E2E RR): 0.8269\n",
      "----------------------------------------------------------------------\n"
     ]
    },
    {
     "name": "stderr",
     "output_type": "stream",
     "text": [
      "Epoch 25/100 [TRAIN] LR: 4.11e-06 Teach: 0.54 Scheduler: CosineAnnealingWarmRestarts:   2%|▎         | 1/40 [00:05<03:52,  5.96s/it, loss=0.108]"
     ]
    },
    {
     "name": "stdout",
     "output_type": "stream",
     "text": [
      "\n",
      "--- Training Batch 0 Examples (Content Only) ---\n",
      "  Pred: '5390KH'\n",
      "  True: '5390KH'\n",
      "  Pred: '7385TH'\n",
      "  True: '7385TH'\n",
      "  Pred: '3131TM'\n",
      "  True: '3131TM'\n",
      "  Pred: '3G9088'\n",
      "  True: '3G9088'\n",
      "  Pred: '7197QM'\n",
      "  True: '7197QM'\n",
      "-------------------------------\n"
     ]
    },
    {
     "name": "stderr",
     "output_type": "stream",
     "text": [
      "Epoch 25/100 [TRAIN] LR: 4.11e-06 Teach: 0.54 Scheduler: CosineAnnealingWarmRestarts: 100%|██████████| 40/40 [00:56<00:00,  1.42s/it, loss=0.0999]\n",
      "Epoch 25/100 [VAL]: 100%|██████████| 24/24 [00:35<00:00,  1.47s/it, loss=0.236]\n"
     ]
    },
    {
     "name": "stdout",
     "output_type": "stream",
     "text": [
      "EarlyStopping counter: 7/100 (Best val_acc: 0.9615)\n",
      "\n",
      "Epoch 25/100 | LR: 3.25e-06 | Teach: 0.54 | Scheduler: CosineAnnealingWarmRestarts\n",
      "  Train Loss: 0.1202 | Train Char Acc: 0.9926\n",
      "  Val Loss: 0.2325   | Val Acc (CRR): 0.9595\n",
      "  Val Exact Match Acc (E2E RR): 0.8296\n",
      "----------------------------------------------------------------------\n"
     ]
    },
    {
     "name": "stderr",
     "output_type": "stream",
     "text": [
      "Epoch 26/100 [TRAIN] LR: 3.25e-06 Teach: 0.54 Scheduler: CosineAnnealingWarmRestarts:   2%|▎         | 1/40 [00:05<03:40,  5.65s/it, loss=0.106]"
     ]
    },
    {
     "name": "stdout",
     "output_type": "stream",
     "text": [
      "\n",
      "--- Training Batch 0 Examples (Content Only) ---\n",
      "  Pred: '2D2365'\n",
      "  True: '2D2365'\n",
      "  Pred: '2401LL'\n",
      "  True: '2401LL'\n",
      "  Pred: '8T0658'\n",
      "  True: '8T0658'\n",
      "  Pred: '8A6893'\n",
      "  True: '8A6893'\n",
      "  Pred: '9078RR'\n",
      "  True: '9078RR'\n",
      "-------------------------------\n"
     ]
    },
    {
     "name": "stderr",
     "output_type": "stream",
     "text": [
      "Epoch 26/100 [TRAIN] LR: 3.25e-06 Teach: 0.54 Scheduler: CosineAnnealingWarmRestarts: 100%|██████████| 40/40 [00:56<00:00,  1.42s/it, loss=0.0992]\n",
      "Epoch 26/100 [VAL]: 100%|██████████| 24/24 [00:35<00:00,  1.47s/it, loss=0.237]\n"
     ]
    },
    {
     "name": "stdout",
     "output_type": "stream",
     "text": [
      "EarlyStopping counter: 8/100 (Best val_acc: 0.9615)\n",
      "\n",
      "Epoch 26/100 | LR: 2.49e-06 | Teach: 0.54 | Scheduler: CosineAnnealingWarmRestarts\n",
      "  Train Loss: 0.1229 | Train Char Acc: 0.9910\n",
      "  Val Loss: 0.2327   | Val Acc (CRR): 0.9597\n",
      "  Val Exact Match Acc (E2E RR): 0.8283\n",
      "----------------------------------------------------------------------\n"
     ]
    },
    {
     "name": "stderr",
     "output_type": "stream",
     "text": [
      "Epoch 27/100 [TRAIN] LR: 2.49e-06 Teach: 0.53 Scheduler: CosineAnnealingWarmRestarts:   2%|▎         | 1/40 [00:05<03:53,  5.99s/it, loss=0.133]"
     ]
    },
    {
     "name": "stdout",
     "output_type": "stream",
     "text": [
      "\n",
      "--- Training Batch 0 Examples (Content Only) ---\n",
      "  Pred: 'AG5347'\n",
      "  True: 'AG5347'\n",
      "  Pred: '5962EP'\n",
      "  True: '5962EP'\n",
      "  Pred: 'U41288'\n",
      "  True: 'U41288'\n",
      "  Pred: '3812DM'\n",
      "  True: '3812DM'\n",
      "  Pred: 'X66006'\n",
      "  True: 'X66006'\n",
      "-------------------------------\n"
     ]
    },
    {
     "name": "stderr",
     "output_type": "stream",
     "text": [
      "Epoch 27/100 [TRAIN] LR: 2.49e-06 Teach: 0.53 Scheduler: CosineAnnealingWarmRestarts: 100%|██████████| 40/40 [00:57<00:00,  1.44s/it, loss=0.0999]\n",
      "Epoch 27/100 [VAL]: 100%|██████████| 24/24 [00:35<00:00,  1.48s/it, loss=0.237]\n"
     ]
    },
    {
     "name": "stdout",
     "output_type": "stream",
     "text": [
      "EarlyStopping counter: 9/100 (Best val_acc: 0.9615)\n",
      "\n",
      "Epoch 27/100 | LR: 1.86e-06 | Teach: 0.53 | Scheduler: CosineAnnealingWarmRestarts\n",
      "  Train Loss: 0.1224 | Train Char Acc: 0.9910\n",
      "  Val Loss: 0.2314   | Val Acc (CRR): 0.9590\n",
      "  Val Exact Match Acc (E2E RR): 0.8230\n",
      "----------------------------------------------------------------------\n"
     ]
    },
    {
     "name": "stderr",
     "output_type": "stream",
     "text": [
      "Epoch 28/100 [TRAIN] LR: 1.86e-06 Teach: 0.52 Scheduler: CosineAnnealingWarmRestarts:   2%|▎         | 1/40 [00:05<03:19,  5.11s/it, loss=0.103]"
     ]
    },
    {
     "name": "stdout",
     "output_type": "stream",
     "text": [
      "\n",
      "--- Training Batch 0 Examples (Content Only) ---\n",
      "  Pred: '2H0311'\n",
      "  True: '2H0311'\n",
      "  Pred: '9J3167'\n",
      "  True: '9J3167'\n",
      "  Pred: '9E1715'\n",
      "  True: '9E1715'\n",
      "  Pred: '9109QY'\n",
      "  True: '9109QY'\n",
      "  Pred: 'D41400'\n",
      "  True: 'D41400'\n",
      "-------------------------------\n"
     ]
    },
    {
     "name": "stderr",
     "output_type": "stream",
     "text": [
      "Epoch 28/100 [TRAIN] LR: 1.86e-06 Teach: 0.52 Scheduler: CosineAnnealingWarmRestarts: 100%|██████████| 40/40 [00:56<00:00,  1.41s/it, loss=0.0995]\n",
      "Epoch 28/100 [VAL]: 100%|██████████| 24/24 [00:35<00:00,  1.48s/it, loss=0.237]\n"
     ]
    },
    {
     "name": "stdout",
     "output_type": "stream",
     "text": [
      "EarlyStopping counter: 10/100 (Best val_acc: 0.9615)\n",
      "\n",
      "Epoch 28/100 | LR: 1.39e-06 | Teach: 0.52 | Scheduler: CosineAnnealingWarmRestarts\n",
      "  Train Loss: 0.1209 | Train Char Acc: 0.9917\n",
      "  Val Loss: 0.2336   | Val Acc (CRR): 0.9586\n",
      "  Val Exact Match Acc (E2E RR): 0.8230\n",
      "----------------------------------------------------------------------\n"
     ]
    },
    {
     "name": "stderr",
     "output_type": "stream",
     "text": [
      "Epoch 29/100 [TRAIN] LR: 1.39e-06 Teach: 0.52 Scheduler: CosineAnnealingWarmRestarts:   2%|▎         | 1/40 [00:06<03:57,  6.08s/it, loss=0.172]"
     ]
    },
    {
     "name": "stdout",
     "output_type": "stream",
     "text": [
      "\n",
      "--- Training Batch 0 Examples (Content Only) ---\n",
      "  Pred: 'V64351'\n",
      "  True: 'V64351'\n",
      "  Pred: '7379NN'\n",
      "  True: '7379NN'\n",
      "  Pred: '4321QD'\n",
      "  True: '4321QD'\n",
      "  Pred: '6C1699'\n",
      "  True: '6C1699'\n",
      "  Pred: '5L7223'\n",
      "  True: '5L7223'\n",
      "-------------------------------\n"
     ]
    },
    {
     "name": "stderr",
     "output_type": "stream",
     "text": [
      "Epoch 29/100 [TRAIN] LR: 1.39e-06 Teach: 0.52 Scheduler: CosineAnnealingWarmRestarts: 100%|██████████| 40/40 [00:57<00:00,  1.43s/it, loss=0.101]\n",
      "Epoch 29/100 [VAL]: 100%|██████████| 24/24 [00:35<00:00,  1.47s/it, loss=0.236]\n"
     ]
    },
    {
     "name": "stdout",
     "output_type": "stream",
     "text": [
      "EarlyStopping counter: 11/100 (Best val_acc: 0.9615)\n",
      "\n",
      "Epoch 29/100 | LR: 1.10e-06 | Teach: 0.52 | Scheduler: CosineAnnealingWarmRestarts\n",
      "  Train Loss: 0.1172 | Train Char Acc: 0.9937\n",
      "  Val Loss: 0.2334   | Val Acc (CRR): 0.9590\n",
      "  Val Exact Match Acc (E2E RR): 0.8243\n",
      "----------------------------------------------------------------------\n"
     ]
    },
    {
     "name": "stderr",
     "output_type": "stream",
     "text": [
      "Epoch 30/100 [TRAIN] LR: 1.10e-06 Teach: 0.51 Scheduler: CosineAnnealingWarmRestarts:   2%|▎         | 1/40 [00:05<03:36,  5.56s/it, loss=0.176]"
     ]
    },
    {
     "name": "stdout",
     "output_type": "stream",
     "text": [
      "\n",
      "--- Training Batch 0 Examples (Content Only) ---\n",
      "  Pred: '3852HG'\n",
      "  True: '3852HG'\n",
      "  Pred: '4329RG'\n",
      "  True: '4329RG'\n",
      "  Pred: 'T41577'\n",
      "  True: 'T41577'\n",
      "  Pred: 'FL0198'\n",
      "  True: 'FL0198'\n",
      "  Pred: 'CY9496'\n",
      "  True: 'CY9496'\n",
      "-------------------------------\n"
     ]
    },
    {
     "name": "stderr",
     "output_type": "stream",
     "text": [
      "Epoch 30/100 [TRAIN] LR: 1.10e-06 Teach: 0.51 Scheduler: CosineAnnealingWarmRestarts: 100%|██████████| 40/40 [00:57<00:00,  1.43s/it, loss=0.102]\n",
      "Epoch 30/100 [VAL]: 100%|██████████| 24/24 [00:35<00:00,  1.47s/it, loss=0.236]\n"
     ]
    },
    {
     "name": "stdout",
     "output_type": "stream",
     "text": [
      "EarlyStopping counter: 12/100 (Best val_acc: 0.9615)\n",
      "\n",
      "Epoch 30/100 | LR: 1.00e-05 | Teach: 0.51 | Scheduler: CosineAnnealingWarmRestarts\n",
      "  Train Loss: 0.1196 | Train Char Acc: 0.9923\n",
      "  Val Loss: 0.2336   | Val Acc (CRR): 0.9593\n",
      "  Val Exact Match Acc (E2E RR): 0.8256\n",
      "----------------------------------------------------------------------\n"
     ]
    },
    {
     "name": "stderr",
     "output_type": "stream",
     "text": [
      "Epoch 31/100 [TRAIN] LR: 1.00e-05 Teach: 0.50 Scheduler: CosineAnnealingWarmRestarts:   2%|▎         | 1/40 [00:06<04:03,  6.24s/it, loss=0.1]"
     ]
    },
    {
     "name": "stdout",
     "output_type": "stream",
     "text": [
      "\n",
      "--- Training Batch 0 Examples (Content Only) ---\n",
      "  Pred: '4460DR'\n",
      "  True: '4460DR'\n",
      "  Pred: '5261JJ'\n",
      "  True: '5261JJ'\n",
      "  Pred: '7866KR'\n",
      "  True: '7866KR'\n",
      "  Pred: '6276JJ'\n",
      "  True: '6276JJ'\n",
      "  Pred: 'E21530'\n",
      "  True: 'E21530'\n",
      "-------------------------------\n"
     ]
    },
    {
     "name": "stderr",
     "output_type": "stream",
     "text": [
      "Epoch 31/100 [TRAIN] LR: 1.00e-05 Teach: 0.50 Scheduler: CosineAnnealingWarmRestarts: 100%|██████████| 40/40 [00:57<00:00,  1.44s/it, loss=0.186]\n",
      "Epoch 31/100 [VAL]: 100%|██████████| 24/24 [00:35<00:00,  1.47s/it, loss=0.235]\n"
     ]
    },
    {
     "name": "stdout",
     "output_type": "stream",
     "text": [
      "EarlyStopping counter: 13/100 (Best val_acc: 0.9615)\n",
      "\n",
      "Epoch 31/100 | LR: 9.90e-06 | Teach: 0.50 | Scheduler: CosineAnnealingWarmRestarts\n",
      "  Train Loss: 0.1330 | Train Char Acc: 0.9871\n",
      "  Val Loss: 0.2331   | Val Acc (CRR): 0.9595\n",
      "  Val Exact Match Acc (E2E RR): 0.8283\n",
      "----------------------------------------------------------------------\n"
     ]
    },
    {
     "name": "stderr",
     "output_type": "stream",
     "text": [
      "Epoch 32/100 [TRAIN] LR: 9.90e-06 Teach: 0.50 Scheduler: CosineAnnealingWarmRestarts:   2%|▎         | 1/40 [00:05<03:52,  5.96s/it, loss=0.1]"
     ]
    },
    {
     "name": "stdout",
     "output_type": "stream",
     "text": [
      "\n",
      "--- Training Batch 0 Examples (Content Only) ---\n",
      "  Pred: '9601EC'\n",
      "  True: '9601EC'\n",
      "  Pred: 'HG2975'\n",
      "  True: 'HG2975'\n",
      "  Pred: 'L83183'\n",
      "  True: 'L83183'\n",
      "  Pred: '8486GG'\n",
      "  True: '8486GG'\n",
      "  Pred: 'DF7436'\n",
      "  True: 'DF7436'\n",
      "-------------------------------\n"
     ]
    },
    {
     "name": "stderr",
     "output_type": "stream",
     "text": [
      "Epoch 32/100 [TRAIN] LR: 9.90e-06 Teach: 0.50 Scheduler: CosineAnnealingWarmRestarts: 100%|██████████| 40/40 [00:57<00:00,  1.43s/it, loss=0.101]\n",
      "Epoch 32/100 [VAL]: 100%|██████████| 24/24 [00:35<00:00,  1.47s/it, loss=0.235]\n"
     ]
    },
    {
     "name": "stdout",
     "output_type": "stream",
     "text": [
      "EarlyStopping counter: 14/100 (Best val_acc: 0.9615)\n",
      "\n",
      "Epoch 32/100 | LR: 9.61e-06 | Teach: 0.50 | Scheduler: CosineAnnealingWarmRestarts\n",
      "  Train Loss: 0.1245 | Train Char Acc: 0.9911\n",
      "  Val Loss: 0.2314   | Val Acc (CRR): 0.9601\n",
      "  Val Exact Match Acc (E2E RR): 0.8309\n",
      "----------------------------------------------------------------------\n"
     ]
    },
    {
     "name": "stderr",
     "output_type": "stream",
     "text": [
      "Epoch 33/100 [TRAIN] LR: 9.61e-06 Teach: 0.49 Scheduler: CosineAnnealingWarmRestarts:   2%|▎         | 1/40 [00:05<03:40,  5.64s/it, loss=0.138]"
     ]
    },
    {
     "name": "stdout",
     "output_type": "stream",
     "text": [
      "\n",
      "--- Training Batch 0 Examples (Content Only) ---\n",
      "  Pred: '6695MS'\n",
      "  True: '6695MS'\n",
      "  Pred: '3H6970'\n",
      "  True: '3H6970'\n",
      "  Pred: '2775HK'\n",
      "  True: '2775HK'\n",
      "  Pred: '8277MS'\n",
      "  True: '8277MS'\n",
      "  Pred: '2257JT'\n",
      "  True: '2257JT'\n",
      "-------------------------------\n"
     ]
    },
    {
     "name": "stderr",
     "output_type": "stream",
     "text": [
      "Epoch 33/100 [TRAIN] LR: 9.61e-06 Teach: 0.49 Scheduler: CosineAnnealingWarmRestarts: 100%|██████████| 40/40 [00:56<00:00,  1.42s/it, loss=0.0999]\n",
      "Epoch 33/100 [VAL]: 100%|██████████| 24/24 [00:35<00:00,  1.47s/it, loss=0.231]\n"
     ]
    },
    {
     "name": "stdout",
     "output_type": "stream",
     "text": [
      "EarlyStopping counter: 15/100 (Best val_acc: 0.9615)\n",
      "\n",
      "Epoch 33/100 | LR: 9.14e-06 | Teach: 0.49 | Scheduler: CosineAnnealingWarmRestarts\n",
      "  Train Loss: 0.1114 | Train Char Acc: 0.9958\n",
      "  Val Loss: 0.2338   | Val Acc (CRR): 0.9597\n",
      "  Val Exact Match Acc (E2E RR): 0.8283\n",
      "----------------------------------------------------------------------\n"
     ]
    },
    {
     "name": "stderr",
     "output_type": "stream",
     "text": [
      "Epoch 34/100 [TRAIN] LR: 9.14e-06 Teach: 0.48 Scheduler: CosineAnnealingWarmRestarts:   2%|▎         | 1/40 [00:06<04:00,  6.17s/it, loss=0.101]"
     ]
    },
    {
     "name": "stdout",
     "output_type": "stream",
     "text": [
      "\n",
      "--- Training Batch 0 Examples (Content Only) ---\n",
      "  Pred: '9A3560'\n",
      "  True: '9A3560'\n",
      "  Pred: 'F26735'\n",
      "  True: 'F26735'\n",
      "  Pred: '1NT733'\n",
      "  True: '1NT733'\n",
      "  Pred: 'PD5327'\n",
      "  True: 'PD5327'\n",
      "  Pred: '7427EA'\n",
      "  True: '7427EA'\n",
      "-------------------------------\n"
     ]
    },
    {
     "name": "stderr",
     "output_type": "stream",
     "text": [
      "Epoch 34/100 [TRAIN] LR: 9.14e-06 Teach: 0.48 Scheduler: CosineAnnealingWarmRestarts: 100%|██████████| 40/40 [00:57<00:00,  1.44s/it, loss=0.101]\n",
      "Epoch 34/100 [VAL]: 100%|██████████| 24/24 [00:35<00:00,  1.46s/it, loss=0.228]\n"
     ]
    },
    {
     "name": "stdout",
     "output_type": "stream",
     "text": [
      "EarlyStopping counter: 16/100 (Best val_acc: 0.9615)\n",
      "\n",
      "Epoch 34/100 | LR: 8.51e-06 | Teach: 0.48 | Scheduler: CosineAnnealingWarmRestarts\n",
      "  Train Loss: 0.1223 | Train Char Acc: 0.9917\n",
      "  Val Loss: 0.2374   | Val Acc (CRR): 0.9584\n",
      "  Val Exact Match Acc (E2E RR): 0.8230\n",
      "----------------------------------------------------------------------\n"
     ]
    },
    {
     "name": "stderr",
     "output_type": "stream",
     "text": [
      "Epoch 35/100 [TRAIN] LR: 8.51e-06 Teach: 0.48 Scheduler: CosineAnnealingWarmRestarts:   2%|▎         | 1/40 [00:06<03:57,  6.08s/it, loss=0.099]"
     ]
    },
    {
     "name": "stdout",
     "output_type": "stream",
     "text": [
      "\n",
      "--- Training Batch 0 Examples (Content Only) ---\n",
      "  Pred: 'L55466'\n",
      "  True: 'L55466'\n",
      "  Pred: '7385TH'\n",
      "  True: '7385TH'\n",
      "  Pred: '9511DZ'\n",
      "  True: '9511DZ'\n",
      "  Pred: '3153LU'\n",
      "  True: '3153LU'\n",
      "  Pred: '9511DZ'\n",
      "  True: '9511DZ'\n",
      "-------------------------------\n"
     ]
    },
    {
     "name": "stderr",
     "output_type": "stream",
     "text": [
      "Epoch 35/100 [TRAIN] LR: 8.51e-06 Teach: 0.48 Scheduler: CosineAnnealingWarmRestarts: 100%|██████████| 40/40 [00:57<00:00,  1.43s/it, loss=0.101]\n",
      "Epoch 35/100 [VAL]: 100%|██████████| 24/24 [00:35<00:00,  1.47s/it, loss=0.229]\n"
     ]
    },
    {
     "name": "stdout",
     "output_type": "stream",
     "text": [
      "EarlyStopping counter: 17/100 (Best val_acc: 0.9615)\n",
      "\n",
      "Epoch 35/100 | LR: 7.75e-06 | Teach: 0.48 | Scheduler: CosineAnnealingWarmRestarts\n",
      "  Train Loss: 0.1201 | Train Char Acc: 0.9926\n",
      "  Val Loss: 0.2356   | Val Acc (CRR): 0.9590\n",
      "  Val Exact Match Acc (E2E RR): 0.8269\n",
      "----------------------------------------------------------------------\n"
     ]
    },
    {
     "name": "stderr",
     "output_type": "stream",
     "text": [
      "Epoch 36/100 [TRAIN] LR: 7.75e-06 Teach: 0.47 Scheduler: CosineAnnealingWarmRestarts:   2%|▎         | 1/40 [00:05<03:39,  5.63s/it, loss=0.0984]"
     ]
    },
    {
     "name": "stdout",
     "output_type": "stream",
     "text": [
      "\n",
      "--- Training Batch 0 Examples (Content Only) ---\n",
      "  Pred: 'K74111'\n",
      "  True: 'K74111'\n",
      "  Pred: 'CF5782'\n",
      "  True: 'CF5782'\n",
      "  Pred: '8578EX'\n",
      "  True: '8578EX'\n",
      "  Pred: '8160ET'\n",
      "  True: '8160ET'\n",
      "  Pred: '3335KD'\n",
      "  True: '3335KD'\n",
      "-------------------------------\n"
     ]
    },
    {
     "name": "stderr",
     "output_type": "stream",
     "text": [
      "Epoch 36/100 [TRAIN] LR: 7.75e-06 Teach: 0.47 Scheduler: CosineAnnealingWarmRestarts: 100%|██████████| 40/40 [00:57<00:00,  1.43s/it, loss=0.195]\n",
      "Epoch 36/100 [VAL]: 100%|██████████| 24/24 [00:35<00:00,  1.47s/it, loss=0.232]\n"
     ]
    },
    {
     "name": "stdout",
     "output_type": "stream",
     "text": [
      "EarlyStopping counter: 18/100 (Best val_acc: 0.9615)\n",
      "\n",
      "Epoch 36/100 | LR: 6.89e-06 | Teach: 0.47 | Scheduler: CosineAnnealingWarmRestarts\n",
      "  Train Loss: 0.1244 | Train Char Acc: 0.9917\n",
      "  Val Loss: 0.2328   | Val Acc (CRR): 0.9601\n",
      "  Val Exact Match Acc (E2E RR): 0.8283\n",
      "----------------------------------------------------------------------\n"
     ]
    },
    {
     "name": "stderr",
     "output_type": "stream",
     "text": [
      "Epoch 37/100 [TRAIN] LR: 6.89e-06 Teach: 0.46 Scheduler: CosineAnnealingWarmRestarts:   2%|▎         | 1/40 [00:05<03:37,  5.58s/it, loss=0.131]"
     ]
    },
    {
     "name": "stdout",
     "output_type": "stream",
     "text": [
      "\n",
      "--- Training Batch 0 Examples (Content Only) ---\n",
      "  Pred: '6887DZ'\n",
      "  True: '6887DZ'\n",
      "  Pred: '1996EQ'\n",
      "  True: '1996EQ'\n",
      "  Pred: '2L1336'\n",
      "  True: '2L1336'\n",
      "  Pred: 'KH6728'\n",
      "  True: 'KH6728'\n",
      "  Pred: '1035AB'\n",
      "  True: '1035AB'\n",
      "-------------------------------\n"
     ]
    },
    {
     "name": "stderr",
     "output_type": "stream",
     "text": [
      "Epoch 37/100 [TRAIN] LR: 6.89e-06 Teach: 0.46 Scheduler: CosineAnnealingWarmRestarts: 100%|██████████| 40/40 [00:57<00:00,  1.43s/it, loss=0.122]\n",
      "Epoch 37/100 [VAL]: 100%|██████████| 24/24 [00:35<00:00,  1.46s/it, loss=0.233]\n"
     ]
    },
    {
     "name": "stdout",
     "output_type": "stream",
     "text": [
      "EarlyStopping counter: 19/100 (Best val_acc: 0.9615)\n",
      "\n",
      "Epoch 37/100 | LR: 5.97e-06 | Teach: 0.46 | Scheduler: CosineAnnealingWarmRestarts\n",
      "  Train Loss: 0.1170 | Train Char Acc: 0.9936\n",
      "  Val Loss: 0.2328   | Val Acc (CRR): 0.9595\n",
      "  Val Exact Match Acc (E2E RR): 0.8283\n",
      "----------------------------------------------------------------------\n"
     ]
    },
    {
     "name": "stderr",
     "output_type": "stream",
     "text": [
      "Epoch 38/100 [TRAIN] LR: 5.97e-06 Teach: 0.46 Scheduler: CosineAnnealingWarmRestarts:   2%|▎         | 1/40 [00:06<03:54,  6.02s/it, loss=0.103]"
     ]
    },
    {
     "name": "stdout",
     "output_type": "stream",
     "text": [
      "\n",
      "--- Training Batch 0 Examples (Content Only) ---\n",
      "  Pred: '8881XD'\n",
      "  True: '8881XD'\n",
      "  Pred: 'DF9679'\n",
      "  True: 'DF9679'\n",
      "  Pred: 'L08599'\n",
      "  True: 'L08599'\n",
      "  Pred: '4088EV'\n",
      "  True: '4088EV'\n",
      "  Pred: '8179NN'\n",
      "  True: '8179NN'\n",
      "-------------------------------\n"
     ]
    },
    {
     "name": "stderr",
     "output_type": "stream",
     "text": [
      "Epoch 38/100 [TRAIN] LR: 5.97e-06 Teach: 0.46 Scheduler: CosineAnnealingWarmRestarts: 100%|██████████| 40/40 [00:57<00:00,  1.43s/it, loss=0.115]\n",
      "Epoch 38/100 [VAL]: 100%|██████████| 24/24 [00:35<00:00,  1.47s/it, loss=0.232]\n"
     ]
    },
    {
     "name": "stdout",
     "output_type": "stream",
     "text": [
      "EarlyStopping counter: 20/100 (Best val_acc: 0.9615)\n",
      "\n",
      "Epoch 38/100 | LR: 5.03e-06 | Teach: 0.46 | Scheduler: CosineAnnealingWarmRestarts\n",
      "  Train Loss: 0.1155 | Train Char Acc: 0.9930\n",
      "  Val Loss: 0.2340   | Val Acc (CRR): 0.9595\n",
      "  Val Exact Match Acc (E2E RR): 0.8283\n",
      "----------------------------------------------------------------------\n"
     ]
    },
    {
     "name": "stderr",
     "output_type": "stream",
     "text": [
      "Epoch 39/100 [TRAIN] LR: 5.03e-06 Teach: 0.45 Scheduler: CosineAnnealingWarmRestarts:   2%|▎         | 1/40 [00:05<03:44,  5.75s/it, loss=0.102]"
     ]
    },
    {
     "name": "stdout",
     "output_type": "stream",
     "text": [
      "\n",
      "--- Training Batch 0 Examples (Content Only) ---\n",
      "  Pred: '8190DR'\n",
      "  True: '8190DR'\n",
      "  Pred: 'CR3885'\n",
      "  True: 'CR3885'\n",
      "  Pred: 'T41577'\n",
      "  True: 'T41577'\n",
      "  Pred: 'E03786'\n",
      "  True: 'E03786'\n",
      "  Pred: '6587QE'\n",
      "  True: '6587QE'\n",
      "-------------------------------\n"
     ]
    },
    {
     "name": "stderr",
     "output_type": "stream",
     "text": [
      "Epoch 39/100 [TRAIN] LR: 5.03e-06 Teach: 0.45 Scheduler: CosineAnnealingWarmRestarts: 100%|██████████| 40/40 [00:56<00:00,  1.42s/it, loss=0.0985]\n",
      "Epoch 39/100 [VAL]: 100%|██████████| 24/24 [00:35<00:00,  1.48s/it, loss=0.232]\n"
     ]
    },
    {
     "name": "stdout",
     "output_type": "stream",
     "text": [
      "EarlyStopping counter: 21/100 (Best val_acc: 0.9615)\n",
      "\n",
      "Epoch 39/100 | LR: 4.11e-06 | Teach: 0.45 | Scheduler: CosineAnnealingWarmRestarts\n",
      "  Train Loss: 0.1242 | Train Char Acc: 0.9902\n",
      "  Val Loss: 0.2333   | Val Acc (CRR): 0.9601\n",
      "  Val Exact Match Acc (E2E RR): 0.8283\n",
      "----------------------------------------------------------------------\n"
     ]
    },
    {
     "name": "stderr",
     "output_type": "stream",
     "text": [
      "Epoch 40/100 [TRAIN] LR: 4.11e-06 Teach: 0.44 Scheduler: CosineAnnealingWarmRestarts:   2%|▎         | 1/40 [00:06<03:56,  6.07s/it, loss=0.142]"
     ]
    },
    {
     "name": "stdout",
     "output_type": "stream",
     "text": [
      "\n",
      "--- Training Batch 0 Examples (Content Only) ---\n",
      "  Pred: '9161KD'\n",
      "  True: '9161KD'\n",
      "  Pred: 'BBDD31'\n",
      "  True: 'BB0D31'\n",
      "  Pred: '2E5507'\n",
      "  True: '2E5507'\n",
      "  Pred: '8106TM'\n",
      "  True: '8106TM'\n",
      "  Pred: 'BU8845'\n",
      "  True: 'BU8845'\n",
      "-------------------------------\n"
     ]
    },
    {
     "name": "stderr",
     "output_type": "stream",
     "text": [
      "Epoch 40/100 [TRAIN] LR: 4.11e-06 Teach: 0.44 Scheduler: CosineAnnealingWarmRestarts: 100%|██████████| 40/40 [00:57<00:00,  1.44s/it, loss=0.0999]\n",
      "Epoch 40/100 [VAL]: 100%|██████████| 24/24 [00:35<00:00,  1.46s/it, loss=0.233]\n"
     ]
    },
    {
     "name": "stdout",
     "output_type": "stream",
     "text": [
      "EarlyStopping counter: 22/100 (Best val_acc: 0.9615)\n",
      "\n",
      "Epoch 40/100 | LR: 3.25e-06 | Teach: 0.44 | Scheduler: CosineAnnealingWarmRestarts\n",
      "  Train Loss: 0.1093 | Train Char Acc: 0.9958\n",
      "  Val Loss: 0.2331   | Val Acc (CRR): 0.9599\n",
      "  Val Exact Match Acc (E2E RR): 0.8283\n",
      "----------------------------------------------------------------------\n"
     ]
    },
    {
     "name": "stderr",
     "output_type": "stream",
     "text": [
      "Epoch 41/100 [TRAIN] LR: 3.25e-06 Teach: 0.44 Scheduler: CosineAnnealingWarmRestarts:   2%|▎         | 1/40 [00:05<03:19,  5.10s/it, loss=0.118]"
     ]
    },
    {
     "name": "stdout",
     "output_type": "stream",
     "text": [
      "\n",
      "--- Training Batch 0 Examples (Content Only) ---\n",
      "  Pred: '9932RK'\n",
      "  True: '9932RK'\n",
      "  Pred: '5788EX'\n",
      "  True: '5788EX'\n",
      "  Pred: '0157HF'\n",
      "  True: '0157HF'\n",
      "  Pred: '5325TM'\n",
      "  True: '5325TM'\n",
      "  Pred: '5090EF'\n",
      "  True: '5090EF'\n",
      "-------------------------------\n"
     ]
    },
    {
     "name": "stderr",
     "output_type": "stream",
     "text": [
      "Epoch 41/100 [TRAIN] LR: 3.25e-06 Teach: 0.44 Scheduler: CosineAnnealingWarmRestarts: 100%|██████████| 40/40 [00:57<00:00,  1.43s/it, loss=0.0988]\n",
      "Epoch 41/100 [VAL]: 100%|██████████| 24/24 [00:35<00:00,  1.46s/it, loss=0.234]\n"
     ]
    },
    {
     "name": "stdout",
     "output_type": "stream",
     "text": [
      "EarlyStopping counter: 23/100 (Best val_acc: 0.9615)\n",
      "\n",
      "Epoch 41/100 | LR: 2.49e-06 | Teach: 0.44 | Scheduler: CosineAnnealingWarmRestarts\n",
      "  Train Loss: 0.1230 | Train Char Acc: 0.9915\n",
      "  Val Loss: 0.2336   | Val Acc (CRR): 0.9595\n",
      "  Val Exact Match Acc (E2E RR): 0.8296\n",
      "----------------------------------------------------------------------\n"
     ]
    },
    {
     "name": "stderr",
     "output_type": "stream",
     "text": [
      "Epoch 42/100 [TRAIN] LR: 2.49e-06 Teach: 0.43 Scheduler: CosineAnnealingWarmRestarts:   2%|▎         | 1/40 [00:05<03:42,  5.70s/it, loss=0.109]"
     ]
    },
    {
     "name": "stdout",
     "output_type": "stream",
     "text": [
      "\n",
      "--- Training Batch 0 Examples (Content Only) ---\n",
      "  Pred: '7D1957'\n",
      "  True: '7D1957'\n",
      "  Pred: '4460DR'\n",
      "  True: '4460DR'\n",
      "  Pred: 'P62405'\n",
      "  True: 'P624D5'\n",
      "  Pred: '4329RG'\n",
      "  True: '4329RG'\n",
      "  Pred: '9863QX'\n",
      "  True: '9863QX'\n",
      "-------------------------------\n"
     ]
    },
    {
     "name": "stderr",
     "output_type": "stream",
     "text": [
      "Epoch 42/100 [TRAIN] LR: 2.49e-06 Teach: 0.43 Scheduler: CosineAnnealingWarmRestarts: 100%|██████████| 40/40 [00:56<00:00,  1.42s/it, loss=0.151]\n",
      "Epoch 42/100 [VAL]: 100%|██████████| 24/24 [00:35<00:00,  1.47s/it, loss=0.235]\n"
     ]
    },
    {
     "name": "stdout",
     "output_type": "stream",
     "text": [
      "EarlyStopping counter: 24/100 (Best val_acc: 0.9615)\n",
      "\n",
      "Epoch 42/100 | LR: 1.86e-06 | Teach: 0.43 | Scheduler: CosineAnnealingWarmRestarts\n",
      "  Train Loss: 0.1171 | Train Char Acc: 0.9930\n",
      "  Val Loss: 0.2332   | Val Acc (CRR): 0.9599\n",
      "  Val Exact Match Acc (E2E RR): 0.8322\n",
      "----------------------------------------------------------------------\n"
     ]
    },
    {
     "name": "stderr",
     "output_type": "stream",
     "text": [
      "Epoch 43/100 [TRAIN] LR: 1.86e-06 Teach: 0.42 Scheduler: CosineAnnealingWarmRestarts:   2%|▎         | 1/40 [00:05<03:50,  5.92s/it, loss=0.099]"
     ]
    },
    {
     "name": "stdout",
     "output_type": "stream",
     "text": [
      "\n",
      "--- Training Batch 0 Examples (Content Only) ---\n",
      "  Pred: '3257DB'\n",
      "  True: '3257DB'\n",
      "  Pred: '9989DW'\n",
      "  True: '9989DW'\n",
      "  Pred: '9K1551'\n",
      "  True: '9K1551'\n",
      "  Pred: 'V60257'\n",
      "  True: 'V60257'\n",
      "  Pred: '7K4755'\n",
      "  True: '7K4755'\n",
      "-------------------------------\n"
     ]
    },
    {
     "name": "stderr",
     "output_type": "stream",
     "text": [
      "Epoch 43/100 [TRAIN] LR: 1.86e-06 Teach: 0.42 Scheduler: CosineAnnealingWarmRestarts: 100%|██████████| 40/40 [00:57<00:00,  1.44s/it, loss=0.151]\n",
      "Epoch 43/100 [VAL]: 100%|██████████| 24/24 [00:35<00:00,  1.46s/it, loss=0.234]\n"
     ]
    },
    {
     "name": "stdout",
     "output_type": "stream",
     "text": [
      "EarlyStopping counter: 25/100 (Best val_acc: 0.9615)\n",
      "\n",
      "Epoch 43/100 | LR: 1.39e-06 | Teach: 0.42 | Scheduler: CosineAnnealingWarmRestarts\n",
      "  Train Loss: 0.1167 | Train Char Acc: 0.9943\n",
      "  Val Loss: 0.2327   | Val Acc (CRR): 0.9601\n",
      "  Val Exact Match Acc (E2E RR): 0.8322\n",
      "----------------------------------------------------------------------\n"
     ]
    },
    {
     "name": "stderr",
     "output_type": "stream",
     "text": [
      "Epoch 44/100 [TRAIN] LR: 1.39e-06 Teach: 0.42 Scheduler: CosineAnnealingWarmRestarts:   2%|▎         | 1/40 [00:06<03:54,  6.02s/it, loss=0.117]"
     ]
    },
    {
     "name": "stdout",
     "output_type": "stream",
     "text": [
      "\n",
      "--- Training Batch 0 Examples (Content Only) ---\n",
      "  Pred: '9711KG'\n",
      "  True: '9711KG'\n",
      "  Pred: '9511DZ'\n",
      "  True: '9511DZ'\n",
      "  Pred: 'T41577'\n",
      "  True: 'T41577'\n",
      "  Pred: '8676FE'\n",
      "  True: '8676FE'\n",
      "  Pred: 'DF2715'\n",
      "  True: 'DF2715'\n",
      "-------------------------------\n"
     ]
    },
    {
     "name": "stderr",
     "output_type": "stream",
     "text": [
      "Epoch 44/100 [TRAIN] LR: 1.39e-06 Teach: 0.42 Scheduler: CosineAnnealingWarmRestarts: 100%|██████████| 40/40 [00:57<00:00,  1.44s/it, loss=0.105]\n",
      "Epoch 44/100 [VAL]: 100%|██████████| 24/24 [00:35<00:00,  1.48s/it, loss=0.235]\n"
     ]
    },
    {
     "name": "stdout",
     "output_type": "stream",
     "text": [
      "EarlyStopping counter: 26/100 (Best val_acc: 0.9615)\n",
      "\n",
      "Epoch 44/100 | LR: 1.10e-06 | Teach: 0.42 | Scheduler: CosineAnnealingWarmRestarts\n",
      "  Train Loss: 0.1105 | Train Char Acc: 0.9960\n",
      "  Val Loss: 0.2333   | Val Acc (CRR): 0.9597\n",
      "  Val Exact Match Acc (E2E RR): 0.8309\n",
      "----------------------------------------------------------------------\n"
     ]
    },
    {
     "name": "stderr",
     "output_type": "stream",
     "text": [
      "Epoch 45/100 [TRAIN] LR: 1.10e-06 Teach: 0.41 Scheduler: CosineAnnealingWarmRestarts:   2%|▎         | 1/40 [00:05<03:32,  5.46s/it, loss=0.1]"
     ]
    },
    {
     "name": "stdout",
     "output_type": "stream",
     "text": [
      "\n",
      "--- Training Batch 0 Examples (Content Only) ---\n",
      "  Pred: 'L83183'\n",
      "  True: 'L83183'\n",
      "  Pred: '6C1699'\n",
      "  True: '6C1699'\n",
      "  Pred: '2E5319'\n",
      "  True: '2E5319'\n",
      "  Pred: '6280EK'\n",
      "  True: '6280EK'\n",
      "  Pred: '2852JH'\n",
      "  True: '2852JH'\n",
      "-------------------------------\n"
     ]
    },
    {
     "name": "stderr",
     "output_type": "stream",
     "text": [
      "Epoch 45/100 [TRAIN] LR: 1.10e-06 Teach: 0.41 Scheduler: CosineAnnealingWarmRestarts: 100%|██████████| 40/40 [00:57<00:00,  1.43s/it, loss=0.241]\n",
      "Epoch 45/100 [VAL]: 100%|██████████| 24/24 [00:35<00:00,  1.47s/it, loss=0.236]\n"
     ]
    },
    {
     "name": "stdout",
     "output_type": "stream",
     "text": [
      "EarlyStopping counter: 27/100 (Best val_acc: 0.9615)\n",
      "\n",
      "Epoch 45/100 | LR: 1.00e-05 | Teach: 0.41 | Scheduler: CosineAnnealingWarmRestarts\n",
      "  Train Loss: 0.1250 | Train Char Acc: 0.9904\n",
      "  Val Loss: 0.2338   | Val Acc (CRR): 0.9597\n",
      "  Val Exact Match Acc (E2E RR): 0.8309\n",
      "----------------------------------------------------------------------\n"
     ]
    },
    {
     "name": "stderr",
     "output_type": "stream",
     "text": [
      "Epoch 46/100 [TRAIN] LR: 1.00e-05 Teach: 0.40 Scheduler: CosineAnnealingWarmRestarts:   2%|▎         | 1/40 [00:05<03:17,  5.06s/it, loss=0.135]"
     ]
    },
    {
     "name": "stdout",
     "output_type": "stream",
     "text": [
      "\n",
      "--- Training Batch 0 Examples (Content Only) ---\n",
      "  Pred: 'V81501'\n",
      "  True: 'V81501'\n",
      "  Pred: '3E2365'\n",
      "  True: '3E2365'\n",
      "  Pred: 'PZ8543'\n",
      "  True: 'PZ8543'\n",
      "  Pred: '9001EX'\n",
      "  True: '9001EX'\n",
      "  Pred: 'R50268'\n",
      "  True: 'R50268'\n",
      "-------------------------------\n"
     ]
    },
    {
     "name": "stderr",
     "output_type": "stream",
     "text": [
      "Epoch 46/100 [TRAIN] LR: 1.00e-05 Teach: 0.40 Scheduler: CosineAnnealingWarmRestarts: 100%|██████████| 40/40 [00:56<00:00,  1.42s/it, loss=0.102]\n",
      "Epoch 46/100 [VAL]: 100%|██████████| 24/24 [00:35<00:00,  1.47s/it, loss=0.237]\n"
     ]
    },
    {
     "name": "stdout",
     "output_type": "stream",
     "text": [
      "EarlyStopping counter: 28/100 (Best val_acc: 0.9615)\n",
      "\n",
      "Epoch 46/100 | LR: 9.90e-06 | Teach: 0.40 | Scheduler: CosineAnnealingWarmRestarts\n",
      "  Train Loss: 0.1204 | Train Char Acc: 0.9927\n",
      "  Val Loss: 0.2344   | Val Acc (CRR): 0.9593\n",
      "  Val Exact Match Acc (E2E RR): 0.8296\n",
      "----------------------------------------------------------------------\n"
     ]
    },
    {
     "name": "stderr",
     "output_type": "stream",
     "text": [
      "Epoch 47/100 [TRAIN] LR: 9.90e-06 Teach: 0.40 Scheduler: CosineAnnealingWarmRestarts:   2%|▎         | 1/40 [00:05<03:44,  5.77s/it, loss=0.102]"
     ]
    },
    {
     "name": "stdout",
     "output_type": "stream",
     "text": [
      "\n",
      "--- Training Batch 0 Examples (Content Only) ---\n",
      "  Pred: '6366DN'\n",
      "  True: '6366DN'\n",
      "  Pred: '3H6970'\n",
      "  True: '3H6970'\n",
      "  Pred: 'F93065'\n",
      "  True: 'F93065'\n",
      "  Pred: '0218EY'\n",
      "  True: '0218EY'\n",
      "  Pred: '1035AB'\n",
      "  True: '1035AB'\n",
      "-------------------------------\n"
     ]
    },
    {
     "name": "stderr",
     "output_type": "stream",
     "text": [
      "Epoch 47/100 [TRAIN] LR: 9.90e-06 Teach: 0.40 Scheduler: CosineAnnealingWarmRestarts: 100%|██████████| 40/40 [00:57<00:00,  1.44s/it, loss=0.11]\n",
      "Epoch 47/100 [VAL]: 100%|██████████| 24/24 [00:35<00:00,  1.47s/it, loss=0.238]\n"
     ]
    },
    {
     "name": "stdout",
     "output_type": "stream",
     "text": [
      "EarlyStopping counter: 29/100 (Best val_acc: 0.9615)\n",
      "\n",
      "Epoch 47/100 | LR: 9.61e-06 | Teach: 0.40 | Scheduler: CosineAnnealingWarmRestarts\n",
      "  Train Loss: 0.1105 | Train Char Acc: 0.9962\n",
      "  Val Loss: 0.2341   | Val Acc (CRR): 0.9601\n",
      "  Val Exact Match Acc (E2E RR): 0.8309\n",
      "----------------------------------------------------------------------\n"
     ]
    },
    {
     "name": "stderr",
     "output_type": "stream",
     "text": [
      "Epoch 48/100 [TRAIN] LR: 9.61e-06 Teach: 0.39 Scheduler: CosineAnnealingWarmRestarts:   2%|▎         | 1/40 [00:05<03:17,  5.06s/it, loss=0.1]"
     ]
    },
    {
     "name": "stdout",
     "output_type": "stream",
     "text": [
      "\n",
      "--- Training Batch 0 Examples (Content Only) ---\n",
      "  Pred: 'G39750'\n",
      "  True: 'G39750'\n",
      "  Pred: '8728QE'\n",
      "  True: '8728QE'\n",
      "  Pred: '7N6161'\n",
      "  True: '7N6161'\n",
      "  Pred: '6060ER'\n",
      "  True: '6060ER'\n",
      "  Pred: 'AG5347'\n",
      "  True: 'AG5347'\n",
      "-------------------------------\n"
     ]
    },
    {
     "name": "stderr",
     "output_type": "stream",
     "text": [
      "Epoch 48/100 [TRAIN] LR: 9.61e-06 Teach: 0.39 Scheduler: CosineAnnealingWarmRestarts: 100%|██████████| 40/40 [00:56<00:00,  1.41s/it, loss=0.106]\n",
      "Epoch 48/100 [VAL]: 100%|██████████| 24/24 [00:35<00:00,  1.47s/it, loss=0.236]\n"
     ]
    },
    {
     "name": "stdout",
     "output_type": "stream",
     "text": [
      "EarlyStopping counter: 30/100 (Best val_acc: 0.9615)\n",
      "\n",
      "Epoch 48/100 | LR: 9.14e-06 | Teach: 0.39 | Scheduler: CosineAnnealingWarmRestarts\n",
      "  Train Loss: 0.1164 | Train Char Acc: 0.9939\n",
      "  Val Loss: 0.2341   | Val Acc (CRR): 0.9599\n",
      "  Val Exact Match Acc (E2E RR): 0.8296\n",
      "----------------------------------------------------------------------\n"
     ]
    },
    {
     "name": "stderr",
     "output_type": "stream",
     "text": [
      "Epoch 49/100 [TRAIN] LR: 9.14e-06 Teach: 0.38 Scheduler: CosineAnnealingWarmRestarts:   2%|▎         | 1/40 [00:05<03:45,  5.79s/it, loss=0.128]"
     ]
    },
    {
     "name": "stdout",
     "output_type": "stream",
     "text": [
      "\n",
      "--- Training Batch 0 Examples (Content Only) ---\n",
      "  Pred: 'L18850'\n",
      "  True: 'L18850'\n",
      "  Pred: 'EZ1536'\n",
      "  True: 'EZ1536'\n",
      "  Pred: 'PZ8543'\n",
      "  True: 'PZ8543'\n",
      "  Pred: 'DF2715'\n",
      "  True: 'DF2715'\n",
      "  Pred: '9F1381'\n",
      "  True: '9F1381'\n",
      "-------------------------------\n"
     ]
    },
    {
     "name": "stderr",
     "output_type": "stream",
     "text": [
      "Epoch 49/100 [TRAIN] LR: 9.14e-06 Teach: 0.38 Scheduler: CosineAnnealingWarmRestarts: 100%|██████████| 40/40 [00:57<00:00,  1.43s/it, loss=0.109]\n",
      "Epoch 49/100 [VAL]: 100%|██████████| 24/24 [00:35<00:00,  1.47s/it, loss=0.234]\n"
     ]
    },
    {
     "name": "stdout",
     "output_type": "stream",
     "text": [
      "EarlyStopping counter: 31/100 (Best val_acc: 0.9615)\n",
      "\n",
      "Epoch 49/100 | LR: 8.51e-06 | Teach: 0.38 | Scheduler: CosineAnnealingWarmRestarts\n",
      "  Train Loss: 0.1191 | Train Char Acc: 0.9931\n",
      "  Val Loss: 0.2322   | Val Acc (CRR): 0.9610\n",
      "  Val Exact Match Acc (E2E RR): 0.8336\n",
      "----------------------------------------------------------------------\n"
     ]
    },
    {
     "name": "stderr",
     "output_type": "stream",
     "text": [
      "Epoch 50/100 [TRAIN] LR: 8.51e-06 Teach: 0.38 Scheduler: CosineAnnealingWarmRestarts:   2%|▎         | 1/40 [00:05<03:51,  5.95s/it, loss=0.162]"
     ]
    },
    {
     "name": "stdout",
     "output_type": "stream",
     "text": [
      "\n",
      "--- Training Batch 0 Examples (Content Only) ---\n",
      "  Pred: 'DF7686'\n",
      "  True: 'DF7686'\n",
      "  Pred: '3886EF'\n",
      "  True: '3886EF'\n",
      "  Pred: 'L93183'\n",
      "  True: 'L93183'\n",
      "  Pred: '6P5013'\n",
      "  True: '6P5013'\n",
      "  Pred: '0F7686'\n",
      "  True: '0F7686'\n",
      "-------------------------------\n"
     ]
    },
    {
     "name": "stderr",
     "output_type": "stream",
     "text": [
      "Epoch 50/100 [TRAIN] LR: 8.51e-06 Teach: 0.38 Scheduler: CosineAnnealingWarmRestarts: 100%|██████████| 40/40 [00:57<00:00,  1.44s/it, loss=0.1]\n",
      "Epoch 50/100 [VAL]: 100%|██████████| 24/24 [00:35<00:00,  1.47s/it, loss=0.233]\n"
     ]
    },
    {
     "name": "stdout",
     "output_type": "stream",
     "text": [
      "EarlyStopping counter: 32/100 (Best val_acc: 0.9615)\n",
      "\n",
      "Epoch 50/100 | LR: 7.75e-06 | Teach: 0.38 | Scheduler: CosineAnnealingWarmRestarts\n",
      "  Train Loss: 0.1290 | Train Char Acc: 0.9887\n",
      "  Val Loss: 0.2330   | Val Acc (CRR): 0.9597\n",
      "  Val Exact Match Acc (E2E RR): 0.8283\n",
      "----------------------------------------------------------------------\n"
     ]
    },
    {
     "name": "stderr",
     "output_type": "stream",
     "text": [
      "Epoch 51/100 [TRAIN] LR: 7.75e-06 Teach: 0.37 Scheduler: CosineAnnealingWarmRestarts:   2%|▎         | 1/40 [00:05<03:46,  5.81s/it, loss=0.118]"
     ]
    },
    {
     "name": "stdout",
     "output_type": "stream",
     "text": [
      "\n",
      "--- Training Batch 0 Examples (Content Only) ---\n",
      "  Pred: '6280EK'\n",
      "  True: '6280EK'\n",
      "  Pred: '5F9677'\n",
      "  True: '5F9677'\n",
      "  Pred: '1985GH'\n",
      "  True: '1985GH'\n",
      "  Pred: '2712AA'\n",
      "  True: '2712AA'\n",
      "  Pred: 'GV9696'\n",
      "  True: 'GV9696'\n",
      "-------------------------------\n"
     ]
    },
    {
     "name": "stderr",
     "output_type": "stream",
     "text": [
      "Epoch 51/100 [TRAIN] LR: 7.75e-06 Teach: 0.37 Scheduler: CosineAnnealingWarmRestarts: 100%|██████████| 40/40 [00:57<00:00,  1.43s/it, loss=0.101]\n",
      "Epoch 51/100 [VAL]: 100%|██████████| 24/24 [00:35<00:00,  1.47s/it, loss=0.231]\n"
     ]
    },
    {
     "name": "stdout",
     "output_type": "stream",
     "text": [
      "EarlyStopping counter: 33/100 (Best val_acc: 0.9615)\n",
      "\n",
      "Epoch 51/100 | LR: 6.89e-06 | Teach: 0.37 | Scheduler: CosineAnnealingWarmRestarts\n",
      "  Train Loss: 0.1161 | Train Char Acc: 0.9939\n",
      "  Val Loss: 0.2365   | Val Acc (CRR): 0.9579\n",
      "  Val Exact Match Acc (E2E RR): 0.8243\n",
      "----------------------------------------------------------------------\n"
     ]
    },
    {
     "name": "stderr",
     "output_type": "stream",
     "text": [
      "Epoch 52/100 [TRAIN] LR: 6.89e-06 Teach: 0.37 Scheduler: CosineAnnealingWarmRestarts:   2%|▎         | 1/40 [00:05<03:32,  5.45s/it, loss=0.0989]"
     ]
    },
    {
     "name": "stdout",
     "output_type": "stream",
     "text": [
      "\n",
      "--- Training Batch 0 Examples (Content Only) ---\n",
      "  Pred: '5609ET'\n",
      "  True: '5609ET'\n",
      "  Pred: 'CN0972'\n",
      "  True: 'CN0972'\n",
      "  Pred: '8179NN'\n",
      "  True: '8179NN'\n",
      "  Pred: '9109QY'\n",
      "  True: '9109QY'\n",
      "  Pred: '2903RR'\n",
      "  True: '2903RR'\n",
      "-------------------------------\n"
     ]
    },
    {
     "name": "stderr",
     "output_type": "stream",
     "text": [
      "Epoch 52/100 [TRAIN] LR: 6.89e-06 Teach: 0.37 Scheduler: CosineAnnealingWarmRestarts: 100%|██████████| 40/40 [00:56<00:00,  1.42s/it, loss=0.113]\n",
      "Epoch 52/100 [VAL]: 100%|██████████| 24/24 [00:35<00:00,  1.47s/it, loss=0.23]\n"
     ]
    },
    {
     "name": "stdout",
     "output_type": "stream",
     "text": [
      "EarlyStopping counter: 34/100 (Best val_acc: 0.9615)\n",
      "\n",
      "Epoch 52/100 | LR: 5.97e-06 | Teach: 0.37 | Scheduler: CosineAnnealingWarmRestarts\n",
      "  Train Loss: 0.1137 | Train Char Acc: 0.9945\n",
      "  Val Loss: 0.2380   | Val Acc (CRR): 0.9575\n",
      "  Val Exact Match Acc (E2E RR): 0.8243\n",
      "----------------------------------------------------------------------\n"
     ]
    },
    {
     "name": "stderr",
     "output_type": "stream",
     "text": [
      "Epoch 53/100 [TRAIN] LR: 5.97e-06 Teach: 0.36 Scheduler: CosineAnnealingWarmRestarts:   2%|▎         | 1/40 [00:05<03:52,  5.97s/it, loss=0.107]"
     ]
    },
    {
     "name": "stdout",
     "output_type": "stream",
     "text": [
      "\n",
      "--- Training Batch 0 Examples (Content Only) ---\n",
      "  Pred: '3391UW'\n",
      "  True: '3391UW'\n",
      "  Pred: '2712AA'\n",
      "  True: '2712AA'\n",
      "  Pred: '5A0169'\n",
      "  True: '5A0169'\n",
      "  Pred: '5390KH'\n",
      "  True: '5390KH'\n",
      "  Pred: '7750GJ'\n",
      "  True: '7750GJ'\n",
      "-------------------------------\n"
     ]
    },
    {
     "name": "stderr",
     "output_type": "stream",
     "text": [
      "Epoch 53/100 [TRAIN] LR: 5.97e-06 Teach: 0.36 Scheduler: CosineAnnealingWarmRestarts: 100%|██████████| 40/40 [00:57<00:00,  1.44s/it, loss=0.104]\n",
      "Epoch 53/100 [VAL]: 100%|██████████| 24/24 [00:35<00:00,  1.47s/it, loss=0.229]\n"
     ]
    },
    {
     "name": "stdout",
     "output_type": "stream",
     "text": [
      "EarlyStopping counter: 35/100 (Best val_acc: 0.9615)\n",
      "\n",
      "Epoch 53/100 | LR: 5.03e-06 | Teach: 0.36 | Scheduler: CosineAnnealingWarmRestarts\n",
      "  Train Loss: 0.1138 | Train Char Acc: 0.9944\n",
      "  Val Loss: 0.2381   | Val Acc (CRR): 0.9579\n",
      "  Val Exact Match Acc (E2E RR): 0.8256\n",
      "----------------------------------------------------------------------\n"
     ]
    },
    {
     "name": "stderr",
     "output_type": "stream",
     "text": [
      "Epoch 54/100 [TRAIN] LR: 5.03e-06 Teach: 0.35 Scheduler: CosineAnnealingWarmRestarts:   2%|▎         | 1/40 [00:05<03:38,  5.61s/it, loss=0.149]"
     ]
    },
    {
     "name": "stdout",
     "output_type": "stream",
     "text": [
      "\n",
      "--- Training Batch 0 Examples (Content Only) ---\n",
      "  Pred: '3B1158'\n",
      "  True: '3B1158'\n",
      "  Pred: '9605EU'\n",
      "  True: '9605EU'\n",
      "  Pred: 'DF2715'\n",
      "  True: 'DF2715'\n",
      "  Pred: 'DE0251'\n",
      "  True: 'DE0251'\n",
      "  Pred: '9379QD'\n",
      "  True: '9379QD'\n",
      "-------------------------------\n"
     ]
    },
    {
     "name": "stderr",
     "output_type": "stream",
     "text": [
      "Epoch 54/100 [TRAIN] LR: 5.03e-06 Teach: 0.35 Scheduler: CosineAnnealingWarmRestarts: 100%|██████████| 40/40 [00:57<00:00,  1.43s/it, loss=0.101]\n",
      "Epoch 54/100 [VAL]: 100%|██████████| 24/24 [00:35<00:00,  1.47s/it, loss=0.229]\n"
     ]
    },
    {
     "name": "stdout",
     "output_type": "stream",
     "text": [
      "EarlyStopping counter: 36/100 (Best val_acc: 0.9615)\n",
      "\n",
      "Epoch 54/100 | LR: 4.11e-06 | Teach: 0.35 | Scheduler: CosineAnnealingWarmRestarts\n",
      "  Train Loss: 0.1135 | Train Char Acc: 0.9947\n",
      "  Val Loss: 0.2378   | Val Acc (CRR): 0.9579\n",
      "  Val Exact Match Acc (E2E RR): 0.8256\n",
      "----------------------------------------------------------------------\n"
     ]
    },
    {
     "name": "stderr",
     "output_type": "stream",
     "text": [
      "Epoch 55/100 [TRAIN] LR: 4.11e-06 Teach: 0.35 Scheduler: CosineAnnealingWarmRestarts:   2%|▎         | 1/40 [00:05<03:35,  5.53s/it, loss=0.13]"
     ]
    },
    {
     "name": "stdout",
     "output_type": "stream",
     "text": [
      "\n",
      "--- Training Batch 0 Examples (Content Only) ---\n",
      "  Pred: '8479GG'\n",
      "  True: '8479GG'\n",
      "  Pred: '1993QG'\n",
      "  True: '1993QG'\n",
      "  Pred: 'CP1455'\n",
      "  True: 'CP1455'\n",
      "  Pred: '5B7981'\n",
      "  True: '5B7981'\n",
      "  Pred: '3T5058'\n",
      "  True: '3T5058'\n",
      "-------------------------------\n"
     ]
    },
    {
     "name": "stderr",
     "output_type": "stream",
     "text": [
      "Epoch 55/100 [TRAIN] LR: 4.11e-06 Teach: 0.35 Scheduler: CosineAnnealingWarmRestarts: 100%|██████████| 40/40 [00:56<00:00,  1.42s/it, loss=0.103]\n",
      "Epoch 55/100 [VAL]: 100%|██████████| 24/24 [00:35<00:00,  1.46s/it, loss=0.229]\n"
     ]
    },
    {
     "name": "stdout",
     "output_type": "stream",
     "text": [
      "EarlyStopping counter: 37/100 (Best val_acc: 0.9615)\n",
      "\n",
      "Epoch 55/100 | LR: 3.25e-06 | Teach: 0.35 | Scheduler: CosineAnnealingWarmRestarts\n",
      "  Train Loss: 0.1197 | Train Char Acc: 0.9926\n",
      "  Val Loss: 0.2372   | Val Acc (CRR): 0.9582\n",
      "  Val Exact Match Acc (E2E RR): 0.8269\n",
      "----------------------------------------------------------------------\n"
     ]
    },
    {
     "name": "stderr",
     "output_type": "stream",
     "text": [
      "Epoch 56/100 [TRAIN] LR: 3.25e-06 Teach: 0.34 Scheduler: CosineAnnealingWarmRestarts:   2%|▎         | 1/40 [00:05<03:38,  5.61s/it, loss=0.0999]"
     ]
    },
    {
     "name": "stdout",
     "output_type": "stream",
     "text": [
      "\n",
      "--- Training Batch 0 Examples (Content Only) ---\n",
      "  Pred: '6C1699'\n",
      "  True: '6C1699'\n",
      "  Pred: '9109QY'\n",
      "  True: '9109QY'\n",
      "  Pred: '9932RK'\n",
      "  True: '9932RK'\n",
      "  Pred: '9490QE'\n",
      "  True: '9490QE'\n",
      "  Pred: '8C4095'\n",
      "  True: '8C4095'\n",
      "-------------------------------\n"
     ]
    },
    {
     "name": "stderr",
     "output_type": "stream",
     "text": [
      "Epoch 56/100 [TRAIN] LR: 3.25e-06 Teach: 0.34 Scheduler: CosineAnnealingWarmRestarts: 100%|██████████| 40/40 [00:57<00:00,  1.43s/it, loss=0.0978]\n",
      "Epoch 56/100 [VAL]: 100%|██████████| 24/24 [00:35<00:00,  1.47s/it, loss=0.229]\n"
     ]
    },
    {
     "name": "stdout",
     "output_type": "stream",
     "text": [
      "EarlyStopping counter: 38/100 (Best val_acc: 0.9615)\n",
      "\n",
      "Epoch 56/100 | LR: 2.49e-06 | Teach: 0.34 | Scheduler: CosineAnnealingWarmRestarts\n",
      "  Train Loss: 0.1160 | Train Char Acc: 0.9936\n",
      "  Val Loss: 0.2364   | Val Acc (CRR): 0.9586\n",
      "  Val Exact Match Acc (E2E RR): 0.8283\n",
      "----------------------------------------------------------------------\n"
     ]
    },
    {
     "name": "stderr",
     "output_type": "stream",
     "text": [
      "Epoch 57/100 [TRAIN] LR: 2.49e-06 Teach: 0.33 Scheduler: CosineAnnealingWarmRestarts:   2%|▎         | 1/40 [00:05<03:48,  5.86s/it, loss=0.1]"
     ]
    },
    {
     "name": "stdout",
     "output_type": "stream",
     "text": [
      "\n",
      "--- Training Batch 0 Examples (Content Only) ---\n",
      "  Pred: '9815QW'\n",
      "  True: '9815QW'\n",
      "  Pred: 'U41288'\n",
      "  True: 'U41288'\n",
      "  Pred: '5615JQ'\n",
      "  True: '5615JQ'\n",
      "  Pred: '0329HB'\n",
      "  True: '0329HB'\n",
      "  Pred: '5615JQ'\n",
      "  True: '5615JQ'\n",
      "-------------------------------\n"
     ]
    },
    {
     "name": "stderr",
     "output_type": "stream",
     "text": [
      "Epoch 57/100 [TRAIN] LR: 2.49e-06 Teach: 0.33 Scheduler: CosineAnnealingWarmRestarts: 100%|██████████| 40/40 [00:57<00:00,  1.43s/it, loss=0.102]\n",
      "Epoch 57/100 [VAL]: 100%|██████████| 24/24 [00:35<00:00,  1.47s/it, loss=0.229]\n"
     ]
    },
    {
     "name": "stdout",
     "output_type": "stream",
     "text": [
      "EarlyStopping counter: 39/100 (Best val_acc: 0.9615)\n",
      "\n",
      "Epoch 57/100 | LR: 1.86e-06 | Teach: 0.33 | Scheduler: CosineAnnealingWarmRestarts\n",
      "  Train Loss: 0.1225 | Train Char Acc: 0.9918\n",
      "  Val Loss: 0.2356   | Val Acc (CRR): 0.9588\n",
      "  Val Exact Match Acc (E2E RR): 0.8283\n",
      "----------------------------------------------------------------------\n"
     ]
    },
    {
     "name": "stderr",
     "output_type": "stream",
     "text": [
      "Epoch 58/100 [TRAIN] LR: 1.86e-06 Teach: 0.33 Scheduler: CosineAnnealingWarmRestarts:   2%|▎         | 1/40 [00:05<03:53,  6.00s/it, loss=0.18]"
     ]
    },
    {
     "name": "stdout",
     "output_type": "stream",
     "text": [
      "\n",
      "--- Training Batch 0 Examples (Content Only) ---\n",
      "  Pred: '3D0061'\n",
      "  True: '3D0061'\n",
      "  Pred: '7750GJ'\n",
      "  True: '7750GJ'\n",
      "  Pred: '3905RY'\n",
      "  True: '3905RY'\n",
      "  Pred: '7361HF'\n",
      "  True: '7361HF'\n",
      "  Pred: 'L18850'\n",
      "  True: 'L18850'\n",
      "-------------------------------\n"
     ]
    },
    {
     "name": "stderr",
     "output_type": "stream",
     "text": [
      "Epoch 58/100 [TRAIN] LR: 1.86e-06 Teach: 0.33 Scheduler: CosineAnnealingWarmRestarts: 100%|██████████| 40/40 [00:57<00:00,  1.43s/it, loss=0.113]\n",
      "Epoch 58/100 [VAL]: 100%|██████████| 24/24 [00:35<00:00,  1.48s/it, loss=0.23]\n"
     ]
    },
    {
     "name": "stdout",
     "output_type": "stream",
     "text": [
      "EarlyStopping counter: 40/100 (Best val_acc: 0.9615)\n",
      "\n",
      "Epoch 58/100 | LR: 1.39e-06 | Teach: 0.33 | Scheduler: CosineAnnealingWarmRestarts\n",
      "  Train Loss: 0.1239 | Train Char Acc: 0.9915\n",
      "  Val Loss: 0.2360   | Val Acc (CRR): 0.9584\n",
      "  Val Exact Match Acc (E2E RR): 0.8256\n",
      "----------------------------------------------------------------------\n"
     ]
    },
    {
     "name": "stderr",
     "output_type": "stream",
     "text": [
      "Epoch 59/100 [TRAIN] LR: 1.39e-06 Teach: 0.32 Scheduler: CosineAnnealingWarmRestarts:   2%|▎         | 1/40 [00:06<04:03,  6.24s/it, loss=0.101]"
     ]
    },
    {
     "name": "stdout",
     "output_type": "stream",
     "text": [
      "\n",
      "--- Training Batch 0 Examples (Content Only) ---\n",
      "  Pred: '8486GG'\n",
      "  True: '8486GG'\n",
      "  Pred: 'U71299'\n",
      "  True: 'U71299'\n",
      "  Pred: '1135DL'\n",
      "  True: '1135DL'\n",
      "  Pred: '6060ER'\n",
      "  True: '6060ER'\n",
      "  Pred: '2E1253'\n",
      "  True: '2E1253'\n",
      "-------------------------------\n"
     ]
    },
    {
     "name": "stderr",
     "output_type": "stream",
     "text": [
      "Epoch 59/100 [TRAIN] LR: 1.39e-06 Teach: 0.32 Scheduler: CosineAnnealingWarmRestarts: 100%|██████████| 40/40 [00:57<00:00,  1.44s/it, loss=0.148]\n",
      "Epoch 59/100 [VAL]: 100%|██████████| 24/24 [00:35<00:00,  1.47s/it, loss=0.231]\n"
     ]
    },
    {
     "name": "stdout",
     "output_type": "stream",
     "text": [
      "EarlyStopping counter: 41/100 (Best val_acc: 0.9615)\n",
      "\n",
      "Epoch 59/100 | LR: 1.10e-06 | Teach: 0.32 | Scheduler: CosineAnnealingWarmRestarts\n",
      "  Train Loss: 0.1207 | Train Char Acc: 0.9923\n",
      "  Val Loss: 0.2362   | Val Acc (CRR): 0.9577\n",
      "  Val Exact Match Acc (E2E RR): 0.8243\n",
      "----------------------------------------------------------------------\n"
     ]
    },
    {
     "name": "stderr",
     "output_type": "stream",
     "text": [
      "Epoch 60/100 [TRAIN] LR: 1.10e-06 Teach: 0.31 Scheduler: CosineAnnealingWarmRestarts:   2%|▎         | 1/40 [00:05<03:46,  5.80s/it, loss=0.102]"
     ]
    },
    {
     "name": "stdout",
     "output_type": "stream",
     "text": [
      "\n",
      "--- Training Batch 0 Examples (Content Only) ---\n",
      "  Pred: 'HY1182'\n",
      "  True: 'HY1182'\n",
      "  Pred: '4768QN'\n",
      "  True: '4768QN'\n",
      "  Pred: '3V0123'\n",
      "  True: '3V0123'\n",
      "  Pred: 'Z38213'\n",
      "  True: 'Z38213'\n",
      "  Pred: 'BB3519'\n",
      "  True: 'BB3519'\n",
      "-------------------------------\n"
     ]
    },
    {
     "name": "stderr",
     "output_type": "stream",
     "text": [
      "Epoch 60/100 [TRAIN] LR: 1.10e-06 Teach: 0.31 Scheduler: CosineAnnealingWarmRestarts: 100%|██████████| 40/40 [00:57<00:00,  1.44s/it, loss=0.107]\n",
      "Epoch 60/100 [VAL]: 100%|██████████| 24/24 [00:35<00:00,  1.47s/it, loss=0.23]\n"
     ]
    },
    {
     "name": "stdout",
     "output_type": "stream",
     "text": [
      "EarlyStopping counter: 42/100 (Best val_acc: 0.9615)\n",
      "\n",
      "Epoch 60/100 | LR: 1.00e-05 | Teach: 0.31 | Scheduler: CosineAnnealingWarmRestarts\n",
      "  Train Loss: 0.1148 | Train Char Acc: 0.9945\n",
      "  Val Loss: 0.2361   | Val Acc (CRR): 0.9582\n",
      "  Val Exact Match Acc (E2E RR): 0.8269\n",
      "----------------------------------------------------------------------\n"
     ]
    },
    {
     "name": "stderr",
     "output_type": "stream",
     "text": [
      "Epoch 61/100 [TRAIN] LR: 1.00e-05 Teach: 0.31 Scheduler: CosineAnnealingWarmRestarts:   2%|▎         | 1/40 [00:05<03:39,  5.62s/it, loss=0.105]"
     ]
    },
    {
     "name": "stdout",
     "output_type": "stream",
     "text": [
      "\n",
      "--- Training Batch 0 Examples (Content Only) ---\n",
      "  Pred: '215366'\n",
      "  True: '215366'\n",
      "  Pred: '2209BB'\n",
      "  True: '2209BB'\n",
      "  Pred: '6U3517'\n",
      "  True: '6U3517'\n",
      "  Pred: 'DF7686'\n",
      "  True: 'DF7686'\n",
      "  Pred: 'DR8139'\n",
      "  True: 'DR8139'\n",
      "-------------------------------\n"
     ]
    },
    {
     "name": "stderr",
     "output_type": "stream",
     "text": [
      "Epoch 61/100 [TRAIN] LR: 1.00e-05 Teach: 0.31 Scheduler: CosineAnnealingWarmRestarts: 100%|██████████| 40/40 [00:57<00:00,  1.43s/it, loss=0.105]\n",
      "Epoch 61/100 [VAL]: 100%|██████████| 24/24 [00:35<00:00,  1.48s/it, loss=0.23]\n"
     ]
    },
    {
     "name": "stdout",
     "output_type": "stream",
     "text": [
      "EarlyStopping counter: 43/100 (Best val_acc: 0.9615)\n",
      "\n",
      "Epoch 61/100 | LR: 9.90e-06 | Teach: 0.31 | Scheduler: CosineAnnealingWarmRestarts\n",
      "  Train Loss: 0.1242 | Train Char Acc: 0.9908\n",
      "  Val Loss: 0.2325   | Val Acc (CRR): 0.9599\n",
      "  Val Exact Match Acc (E2E RR): 0.8269\n",
      "----------------------------------------------------------------------\n"
     ]
    },
    {
     "name": "stderr",
     "output_type": "stream",
     "text": [
      "Epoch 62/100 [TRAIN] LR: 9.90e-06 Teach: 0.30 Scheduler: CosineAnnealingWarmRestarts:   2%|▎         | 1/40 [00:05<03:42,  5.71s/it, loss=0.0996]"
     ]
    },
    {
     "name": "stdout",
     "output_type": "stream",
     "text": [
      "\n",
      "--- Training Batch 0 Examples (Content Only) ---\n",
      "  Pred: 'V81041'\n",
      "  True: 'V81041'\n",
      "  Pred: '6E9688'\n",
      "  True: '6E9688'\n",
      "  Pred: '2E3345'\n",
      "  True: '2E3345'\n",
      "  Pred: '6185MX'\n",
      "  True: '6185MX'\n",
      "  Pred: '7780TK'\n",
      "  True: '7780TK'\n",
      "-------------------------------\n"
     ]
    },
    {
     "name": "stderr",
     "output_type": "stream",
     "text": [
      "Epoch 62/100 [TRAIN] LR: 9.90e-06 Teach: 0.30 Scheduler: CosineAnnealingWarmRestarts: 100%|██████████| 40/40 [00:57<00:00,  1.44s/it, loss=0.1]\n",
      "Epoch 62/100 [VAL]: 100%|██████████| 24/24 [00:35<00:00,  1.47s/it, loss=0.229]\n"
     ]
    },
    {
     "name": "stdout",
     "output_type": "stream",
     "text": [
      "EarlyStopping counter: 44/100 (Best val_acc: 0.9615)\n",
      "\n",
      "Epoch 62/100 | LR: 9.61e-06 | Teach: 0.30 | Scheduler: CosineAnnealingWarmRestarts\n",
      "  Train Loss: 0.1234 | Train Char Acc: 0.9911\n",
      "  Val Loss: 0.2344   | Val Acc (CRR): 0.9595\n",
      "  Val Exact Match Acc (E2E RR): 0.8283\n",
      "----------------------------------------------------------------------\n"
     ]
    },
    {
     "name": "stderr",
     "output_type": "stream",
     "text": [
      "Epoch 63/100 [TRAIN] LR: 9.61e-06 Teach: 0.29 Scheduler: CosineAnnealingWarmRestarts:   2%|▎         | 1/40 [00:05<03:22,  5.18s/it, loss=0.101]"
     ]
    },
    {
     "name": "stdout",
     "output_type": "stream",
     "text": [
      "\n",
      "--- Training Batch 0 Examples (Content Only) ---\n",
      "  Pred: '6015RM'\n",
      "  True: '6015RM'\n",
      "  Pred: '8C8313'\n",
      "  True: '8C8313'\n",
      "  Pred: '9K1551'\n",
      "  True: '9K1551'\n",
      "  Pred: '2927SA'\n",
      "  True: '2927SA'\n",
      "  Pred: '8F76EX'\n",
      "  True: '8F76EX'\n",
      "-------------------------------\n"
     ]
    },
    {
     "name": "stderr",
     "output_type": "stream",
     "text": [
      "Epoch 63/100 [TRAIN] LR: 9.61e-06 Teach: 0.29 Scheduler: CosineAnnealingWarmRestarts: 100%|██████████| 40/40 [00:56<00:00,  1.42s/it, loss=0.1]\n",
      "Epoch 63/100 [VAL]: 100%|██████████| 24/24 [00:35<00:00,  1.47s/it, loss=0.23]\n"
     ]
    },
    {
     "name": "stdout",
     "output_type": "stream",
     "text": [
      "EarlyStopping counter: 45/100 (Best val_acc: 0.9615)\n",
      "\n",
      "Epoch 63/100 | LR: 9.14e-06 | Teach: 0.29 | Scheduler: CosineAnnealingWarmRestarts\n",
      "  Train Loss: 0.1184 | Train Char Acc: 0.9930\n",
      "  Val Loss: 0.2393   | Val Acc (CRR): 0.9582\n",
      "  Val Exact Match Acc (E2E RR): 0.8269\n",
      "----------------------------------------------------------------------\n"
     ]
    },
    {
     "name": "stderr",
     "output_type": "stream",
     "text": [
      "Epoch 64/100 [TRAIN] LR: 9.14e-06 Teach: 0.29 Scheduler: CosineAnnealingWarmRestarts:   2%|▎         | 1/40 [00:05<03:44,  5.76s/it, loss=0.163]"
     ]
    },
    {
     "name": "stdout",
     "output_type": "stream",
     "text": [
      "\n",
      "--- Training Batch 0 Examples (Content Only) ---\n",
      "  Pred: '5609ET'\n",
      "  True: '5609ET'\n",
      "  Pred: 'LJ1668'\n",
      "  True: 'LJ1668'\n",
      "  Pred: 'GS3491'\n",
      "  True: 'GS3491'\n",
      "  Pred: '1463ES'\n",
      "  True: '1463ES'\n",
      "  Pred: '7N8062'\n",
      "  True: '7N8062'\n",
      "-------------------------------\n"
     ]
    },
    {
     "name": "stderr",
     "output_type": "stream",
     "text": [
      "Epoch 64/100 [TRAIN] LR: 9.14e-06 Teach: 0.29 Scheduler: CosineAnnealingWarmRestarts: 100%|██████████| 40/40 [00:57<00:00,  1.43s/it, loss=0.134]\n",
      "Epoch 64/100 [VAL]: 100%|██████████| 24/24 [00:35<00:00,  1.47s/it, loss=0.231]\n"
     ]
    },
    {
     "name": "stdout",
     "output_type": "stream",
     "text": [
      "EarlyStopping counter: 46/100 (Best val_acc: 0.9615)\n",
      "\n",
      "Epoch 64/100 | LR: 8.51e-06 | Teach: 0.29 | Scheduler: CosineAnnealingWarmRestarts\n",
      "  Train Loss: 0.1217 | Train Char Acc: 0.9923\n",
      "  Val Loss: 0.2368   | Val Acc (CRR): 0.9588\n",
      "  Val Exact Match Acc (E2E RR): 0.8269\n",
      "----------------------------------------------------------------------\n"
     ]
    },
    {
     "name": "stderr",
     "output_type": "stream",
     "text": [
      "Epoch 65/100 [TRAIN] LR: 8.51e-06 Teach: 0.28 Scheduler: CosineAnnealingWarmRestarts:   2%|▎         | 1/40 [00:05<03:44,  5.76s/it, loss=0.106]"
     ]
    },
    {
     "name": "stdout",
     "output_type": "stream",
     "text": [
      "\n",
      "--- Training Batch 0 Examples (Content Only) ---\n",
      "  Pred: 'HY1182'\n",
      "  True: 'HY1182'\n",
      "  Pred: 'DE0251'\n",
      "  True: 'DE0251'\n",
      "  Pred: '6S1000'\n",
      "  True: '6S1000'\n",
      "  Pred: '6831QJ'\n",
      "  True: '6831QJ'\n",
      "  Pred: 'L55466'\n",
      "  True: 'L55466'\n",
      "-------------------------------\n"
     ]
    },
    {
     "name": "stderr",
     "output_type": "stream",
     "text": [
      "Epoch 65/100 [TRAIN] LR: 8.51e-06 Teach: 0.28 Scheduler: CosineAnnealingWarmRestarts: 100%|██████████| 40/40 [00:57<00:00,  1.44s/it, loss=0.105]\n",
      "Epoch 65/100 [VAL]: 100%|██████████| 24/24 [00:35<00:00,  1.47s/it, loss=0.233]\n"
     ]
    },
    {
     "name": "stdout",
     "output_type": "stream",
     "text": [
      "EarlyStopping counter: 47/100 (Best val_acc: 0.9615)\n",
      "\n",
      "Epoch 65/100 | LR: 7.75e-06 | Teach: 0.28 | Scheduler: CosineAnnealingWarmRestarts\n",
      "  Train Loss: 0.1224 | Train Char Acc: 0.9914\n",
      "  Val Loss: 0.2348   | Val Acc (CRR): 0.9590\n",
      "  Val Exact Match Acc (E2E RR): 0.8283\n",
      "----------------------------------------------------------------------\n"
     ]
    },
    {
     "name": "stderr",
     "output_type": "stream",
     "text": [
      "Epoch 66/100 [TRAIN] LR: 7.75e-06 Teach: 0.27 Scheduler: CosineAnnealingWarmRestarts:   2%|▎         | 1/40 [00:05<03:41,  5.69s/it, loss=0.157]"
     ]
    },
    {
     "name": "stdout",
     "output_type": "stream",
     "text": [
      "\n",
      "--- Training Batch 0 Examples (Content Only) ---\n",
      "  Pred: 'CP1455'\n",
      "  True: 'CP1455'\n",
      "  Pred: '8327DT'\n",
      "  True: '8327DT'\n",
      "  Pred: '1471DV'\n",
      "  True: '1471DV'\n",
      "  Pred: '3316JT'\n",
      "  True: '3316JT'\n",
      "  Pred: '3092EY'\n",
      "  True: '3092EY'\n",
      "-------------------------------\n"
     ]
    },
    {
     "name": "stderr",
     "output_type": "stream",
     "text": [
      "Epoch 66/100 [TRAIN] LR: 7.75e-06 Teach: 0.27 Scheduler: CosineAnnealingWarmRestarts: 100%|██████████| 40/40 [00:57<00:00,  1.44s/it, loss=0.112]\n",
      "Epoch 66/100 [VAL]: 100%|██████████| 24/24 [00:35<00:00,  1.47s/it, loss=0.233]\n"
     ]
    },
    {
     "name": "stdout",
     "output_type": "stream",
     "text": [
      "EarlyStopping counter: 48/100 (Best val_acc: 0.9615)\n",
      "\n",
      "Epoch 66/100 | LR: 6.89e-06 | Teach: 0.27 | Scheduler: CosineAnnealingWarmRestarts\n",
      "  Train Loss: 0.1145 | Train Char Acc: 0.9943\n",
      "  Val Loss: 0.2347   | Val Acc (CRR): 0.9599\n",
      "  Val Exact Match Acc (E2E RR): 0.8309\n",
      "----------------------------------------------------------------------\n"
     ]
    },
    {
     "name": "stderr",
     "output_type": "stream",
     "text": [
      "Epoch 67/100 [TRAIN] LR: 6.89e-06 Teach: 0.27 Scheduler: CosineAnnealingWarmRestarts:   2%|▎         | 1/40 [00:06<04:08,  6.38s/it, loss=0.101]"
     ]
    },
    {
     "name": "stdout",
     "output_type": "stream",
     "text": [
      "\n",
      "--- Training Batch 0 Examples (Content Only) ---\n",
      "  Pred: 'DY7692'\n",
      "  True: 'DY7692'\n",
      "  Pred: 'GK9087'\n",
      "  True: 'GK9087'\n",
      "  Pred: 'DX7655'\n",
      "  True: 'DX7655'\n",
      "  Pred: '1996EQ'\n",
      "  True: '1996EQ'\n",
      "  Pred: '9109QY'\n",
      "  True: '9109QY'\n",
      "-------------------------------\n"
     ]
    },
    {
     "name": "stderr",
     "output_type": "stream",
     "text": [
      "Epoch 67/100 [TRAIN] LR: 6.89e-06 Teach: 0.27 Scheduler: CosineAnnealingWarmRestarts: 100%|██████████| 40/40 [00:58<00:00,  1.45s/it, loss=0.0985]\n",
      "Epoch 67/100 [VAL]: 100%|██████████| 24/24 [00:35<00:00,  1.47s/it, loss=0.231]\n"
     ]
    },
    {
     "name": "stdout",
     "output_type": "stream",
     "text": [
      "EarlyStopping counter: 49/100 (Best val_acc: 0.9615)\n",
      "\n",
      "Epoch 67/100 | LR: 5.97e-06 | Teach: 0.27 | Scheduler: CosineAnnealingWarmRestarts\n",
      "  Train Loss: 0.1219 | Train Char Acc: 0.9921\n",
      "  Val Loss: 0.2334   | Val Acc (CRR): 0.9599\n",
      "  Val Exact Match Acc (E2E RR): 0.8283\n",
      "----------------------------------------------------------------------\n"
     ]
    },
    {
     "name": "stderr",
     "output_type": "stream",
     "text": [
      "Epoch 68/100 [TRAIN] LR: 5.97e-06 Teach: 0.26 Scheduler: CosineAnnealingWarmRestarts:   2%|▎         | 1/40 [00:05<03:23,  5.21s/it, loss=0.105]"
     ]
    },
    {
     "name": "stdout",
     "output_type": "stream",
     "text": [
      "\n",
      "--- Training Batch 0 Examples (Content Only) ---\n",
      "  Pred: '3316JT'\n",
      "  True: '3316JT'\n",
      "  Pred: '5073MR'\n",
      "  True: '5073MR'\n",
      "  Pred: 'CB3652'\n",
      "  True: 'CB3652'\n",
      "  Pred: '8106TM'\n",
      "  True: '8106TM'\n",
      "  Pred: '1387QL'\n",
      "  True: '1387QL'\n",
      "-------------------------------\n"
     ]
    },
    {
     "name": "stderr",
     "output_type": "stream",
     "text": [
      "Epoch 68/100 [TRAIN] LR: 5.97e-06 Teach: 0.26 Scheduler: CosineAnnealingWarmRestarts: 100%|██████████| 40/40 [00:56<00:00,  1.42s/it, loss=0.137]\n",
      "Epoch 68/100 [VAL]: 100%|██████████| 24/24 [00:35<00:00,  1.48s/it, loss=0.231]\n"
     ]
    },
    {
     "name": "stdout",
     "output_type": "stream",
     "text": [
      "EarlyStopping counter: 50/100 (Best val_acc: 0.9615)\n",
      "\n",
      "Epoch 68/100 | LR: 5.03e-06 | Teach: 0.26 | Scheduler: CosineAnnealingWarmRestarts\n",
      "  Train Loss: 0.1278 | Train Char Acc: 0.9891\n",
      "  Val Loss: 0.2339   | Val Acc (CRR): 0.9599\n",
      "  Val Exact Match Acc (E2E RR): 0.8283\n",
      "----------------------------------------------------------------------\n"
     ]
    },
    {
     "name": "stderr",
     "output_type": "stream",
     "text": [
      "Epoch 69/100 [TRAIN] LR: 5.03e-06 Teach: 0.25 Scheduler: CosineAnnealingWarmRestarts:   2%|▎         | 1/40 [00:05<03:38,  5.61s/it, loss=0.0979]"
     ]
    },
    {
     "name": "stdout",
     "output_type": "stream",
     "text": [
      "\n",
      "--- Training Batch 0 Examples (Content Only) ---\n",
      "  Pred: '3970EA'\n",
      "  True: '3970EA'\n",
      "  Pred: '8429QW'\n",
      "  True: '8429QW'\n",
      "  Pred: '4926JS'\n",
      "  True: '4926JS'\n",
      "  Pred: 'A92746'\n",
      "  True: 'A92746'\n",
      "  Pred: '7G1333'\n",
      "  True: '7G1333'\n",
      "-------------------------------\n"
     ]
    },
    {
     "name": "stderr",
     "output_type": "stream",
     "text": [
      "Epoch 69/100 [TRAIN] LR: 5.03e-06 Teach: 0.25 Scheduler: CosineAnnealingWarmRestarts: 100%|██████████| 40/40 [00:57<00:00,  1.44s/it, loss=0.142]\n",
      "Epoch 69/100 [VAL]: 100%|██████████| 24/24 [00:35<00:00,  1.47s/it, loss=0.228]\n"
     ]
    },
    {
     "name": "stdout",
     "output_type": "stream",
     "text": [
      "EarlyStopping counter: 51/100 (Best val_acc: 0.9615)\n",
      "\n",
      "Epoch 69/100 | LR: 4.11e-06 | Teach: 0.25 | Scheduler: CosineAnnealingWarmRestarts\n",
      "  Train Loss: 0.1234 | Train Char Acc: 0.9904\n",
      "  Val Loss: 0.2319   | Val Acc (CRR): 0.9606\n",
      "  Val Exact Match Acc (E2E RR): 0.8283\n",
      "----------------------------------------------------------------------\n"
     ]
    },
    {
     "name": "stderr",
     "output_type": "stream",
     "text": [
      "Epoch 70/100 [TRAIN] LR: 4.11e-06 Teach: 0.25 Scheduler: CosineAnnealingWarmRestarts:   2%|▎         | 1/40 [00:05<03:32,  5.45s/it, loss=0.102]"
     ]
    },
    {
     "name": "stdout",
     "output_type": "stream",
     "text": [
      "\n",
      "--- Training Batch 0 Examples (Content Only) ---\n",
      "  Pred: 'L46261'\n",
      "  True: 'L46261'\n",
      "  Pred: 'CJ4846'\n",
      "  True: 'CJ4846'\n",
      "  Pred: '6999TX'\n",
      "  True: '6999TX'\n",
      "  Pred: '3852HG'\n",
      "  True: '3852HG'\n",
      "  Pred: '3335KD'\n",
      "  True: '3335KD'\n",
      "-------------------------------\n"
     ]
    },
    {
     "name": "stderr",
     "output_type": "stream",
     "text": [
      "Epoch 70/100 [TRAIN] LR: 4.11e-06 Teach: 0.25 Scheduler: CosineAnnealingWarmRestarts: 100%|██████████| 40/40 [00:57<00:00,  1.44s/it, loss=0.105]\n",
      "Epoch 70/100 [VAL]: 100%|██████████| 24/24 [00:35<00:00,  1.47s/it, loss=0.228]\n"
     ]
    },
    {
     "name": "stdout",
     "output_type": "stream",
     "text": [
      "EarlyStopping counter: 52/100 (Best val_acc: 0.9615)\n",
      "\n",
      "Epoch 70/100 | LR: 3.25e-06 | Teach: 0.25 | Scheduler: CosineAnnealingWarmRestarts\n",
      "  Train Loss: 0.1141 | Train Char Acc: 0.9948\n",
      "  Val Loss: 0.2314   | Val Acc (CRR): 0.9606\n",
      "  Val Exact Match Acc (E2E RR): 0.8283\n",
      "----------------------------------------------------------------------\n"
     ]
    },
    {
     "name": "stderr",
     "output_type": "stream",
     "text": [
      "Epoch 71/100 [TRAIN] LR: 3.25e-06 Teach: 0.24 Scheduler: CosineAnnealingWarmRestarts:   2%|▎         | 1/40 [00:05<03:41,  5.68s/it, loss=0.136]"
     ]
    },
    {
     "name": "stdout",
     "output_type": "stream",
     "text": [
      "\n",
      "--- Training Batch 0 Examples (Content Only) ---\n",
      "  Pred: 'Y88096'\n",
      "  True: 'Y88096'\n",
      "  Pred: 'CU6416'\n",
      "  True: 'CU6416'\n",
      "  Pred: 'LJ1668'\n",
      "  True: 'LJ1668'\n",
      "  Pred: 'CH6088'\n",
      "  True: 'CH6088'\n",
      "  Pred: 'EZ8402'\n",
      "  True: 'EZ8402'\n",
      "-------------------------------\n"
     ]
    },
    {
     "name": "stderr",
     "output_type": "stream",
     "text": [
      "Epoch 71/100 [TRAIN] LR: 3.25e-06 Teach: 0.24 Scheduler: CosineAnnealingWarmRestarts: 100%|██████████| 40/40 [00:57<00:00,  1.44s/it, loss=0.105]\n",
      "Epoch 71/100 [VAL]: 100%|██████████| 24/24 [00:35<00:00,  1.47s/it, loss=0.228]\n"
     ]
    },
    {
     "name": "stdout",
     "output_type": "stream",
     "text": [
      "EarlyStopping counter: 53/100 (Best val_acc: 0.9615)\n",
      "\n",
      "Epoch 71/100 | LR: 2.49e-06 | Teach: 0.24 | Scheduler: CosineAnnealingWarmRestarts\n",
      "  Train Loss: 0.1169 | Train Char Acc: 0.9935\n",
      "  Val Loss: 0.2321   | Val Acc (CRR): 0.9606\n",
      "  Val Exact Match Acc (E2E RR): 0.8283\n",
      "----------------------------------------------------------------------\n"
     ]
    },
    {
     "name": "stderr",
     "output_type": "stream",
     "text": [
      "Epoch 72/100 [TRAIN] LR: 2.49e-06 Teach: 0.23 Scheduler: CosineAnnealingWarmRestarts:   2%|▎         | 1/40 [00:06<03:57,  6.09s/it, loss=0.0991]"
     ]
    },
    {
     "name": "stdout",
     "output_type": "stream",
     "text": [
      "\n",
      "--- Training Batch 0 Examples (Content Only) ---\n",
      "  Pred: '5L7223'\n",
      "  True: '5L7223'\n",
      "  Pred: '7N6161'\n",
      "  True: '7N6161'\n",
      "  Pred: '8479GG'\n",
      "  True: '8479GG'\n",
      "  Pred: '6E2260'\n",
      "  True: '6E2260'\n",
      "  Pred: 'CF5225'\n",
      "  True: 'CF5225'\n",
      "-------------------------------\n"
     ]
    },
    {
     "name": "stderr",
     "output_type": "stream",
     "text": [
      "Epoch 72/100 [TRAIN] LR: 2.49e-06 Teach: 0.23 Scheduler: CosineAnnealingWarmRestarts: 100%|██████████| 40/40 [00:58<00:00,  1.45s/it, loss=0.18]\n",
      "Epoch 72/100 [VAL]: 100%|██████████| 24/24 [00:35<00:00,  1.48s/it, loss=0.228]\n"
     ]
    },
    {
     "name": "stdout",
     "output_type": "stream",
     "text": [
      "EarlyStopping counter: 54/100 (Best val_acc: 0.9615)\n",
      "\n",
      "Epoch 72/100 | LR: 1.86e-06 | Teach: 0.23 | Scheduler: CosineAnnealingWarmRestarts\n",
      "  Train Loss: 0.1147 | Train Char Acc: 0.9941\n",
      "  Val Loss: 0.2314   | Val Acc (CRR): 0.9604\n",
      "  Val Exact Match Acc (E2E RR): 0.8283\n",
      "----------------------------------------------------------------------\n"
     ]
    },
    {
     "name": "stderr",
     "output_type": "stream",
     "text": [
      "Epoch 73/100 [TRAIN] LR: 1.86e-06 Teach: 0.23 Scheduler: CosineAnnealingWarmRestarts:   2%|▎         | 1/40 [00:05<03:33,  5.47s/it, loss=0.0979]"
     ]
    },
    {
     "name": "stdout",
     "output_type": "stream",
     "text": [
      "\n",
      "--- Training Batch 0 Examples (Content Only) ---\n",
      "  Pred: '6S1000'\n",
      "  True: '6S1000'\n",
      "  Pred: 'CP7715'\n",
      "  True: 'CP7715'\n",
      "  Pred: '3206TW'\n",
      "  True: '3206TW'\n",
      "  Pred: '0A8980'\n",
      "  True: '0A8980'\n",
      "  Pred: 'BB7007'\n",
      "  True: 'BB7007'\n",
      "-------------------------------\n"
     ]
    },
    {
     "name": "stderr",
     "output_type": "stream",
     "text": [
      "Epoch 73/100 [TRAIN] LR: 1.86e-06 Teach: 0.23 Scheduler: CosineAnnealingWarmRestarts: 100%|██████████| 40/40 [00:57<00:00,  1.43s/it, loss=0.0987]\n",
      "Epoch 73/100 [VAL]: 100%|██████████| 24/24 [00:35<00:00,  1.48s/it, loss=0.228]\n"
     ]
    },
    {
     "name": "stdout",
     "output_type": "stream",
     "text": [
      "EarlyStopping counter: 55/100 (Best val_acc: 0.9615)\n",
      "\n",
      "Epoch 73/100 | LR: 1.39e-06 | Teach: 0.23 | Scheduler: CosineAnnealingWarmRestarts\n",
      "  Train Loss: 0.1157 | Train Char Acc: 0.9939\n",
      "  Val Loss: 0.2315   | Val Acc (CRR): 0.9604\n",
      "  Val Exact Match Acc (E2E RR): 0.8283\n",
      "----------------------------------------------------------------------\n"
     ]
    },
    {
     "name": "stderr",
     "output_type": "stream",
     "text": [
      "Epoch 74/100 [TRAIN] LR: 1.39e-06 Teach: 0.22 Scheduler: CosineAnnealingWarmRestarts:   2%|▎         | 1/40 [00:05<03:30,  5.40s/it, loss=0.143]"
     ]
    },
    {
     "name": "stdout",
     "output_type": "stream",
     "text": [
      "\n",
      "--- Training Batch 0 Examples (Content Only) ---\n",
      "  Pred: 'TN5148'\n",
      "  True: 'TN5148'\n",
      "  Pred: '0872HN'\n",
      "  True: '0872HN'\n",
      "  Pred: '9J3167'\n",
      "  True: '9J3167'\n",
      "  Pred: '8695LS'\n",
      "  True: '8695LS'\n",
      "  Pred: '11111Z'\n",
      "  True: '11111Z'\n",
      "-------------------------------\n"
     ]
    },
    {
     "name": "stderr",
     "output_type": "stream",
     "text": [
      "Epoch 74/100 [TRAIN] LR: 1.39e-06 Teach: 0.22 Scheduler: CosineAnnealingWarmRestarts: 100%|██████████| 40/40 [00:56<00:00,  1.42s/it, loss=0.108]\n",
      "Epoch 74/100 [VAL]: 100%|██████████| 24/24 [00:35<00:00,  1.49s/it, loss=0.228]\n"
     ]
    },
    {
     "name": "stdout",
     "output_type": "stream",
     "text": [
      "EarlyStopping counter: 56/100 (Best val_acc: 0.9615)\n",
      "\n",
      "Epoch 74/100 | LR: 1.10e-06 | Teach: 0.22 | Scheduler: CosineAnnealingWarmRestarts\n",
      "  Train Loss: 0.1204 | Train Char Acc: 0.9926\n",
      "  Val Loss: 0.2316   | Val Acc (CRR): 0.9604\n",
      "  Val Exact Match Acc (E2E RR): 0.8269\n",
      "----------------------------------------------------------------------\n"
     ]
    },
    {
     "name": "stderr",
     "output_type": "stream",
     "text": [
      "Epoch 75/100 [TRAIN] LR: 1.10e-06 Teach: 0.21 Scheduler: CosineAnnealingWarmRestarts:   2%|▎         | 1/40 [00:05<03:25,  5.27s/it, loss=0.108]"
     ]
    },
    {
     "name": "stdout",
     "output_type": "stream",
     "text": [
      "\n",
      "--- Training Batch 0 Examples (Content Only) ---\n",
      "  Pred: '7101DC'\n",
      "  True: '7101DC'\n",
      "  Pred: '3277DB'\n",
      "  True: '3257DB'\n",
      "  Pred: '4771DL'\n",
      "  True: '4771DL'\n",
      "  Pred: '7T6615'\n",
      "  True: '7T6615'\n",
      "  Pred: 'CH9698'\n",
      "  True: 'CH9698'\n",
      "-------------------------------\n"
     ]
    },
    {
     "name": "stderr",
     "output_type": "stream",
     "text": [
      "Epoch 75/100 [TRAIN] LR: 1.10e-06 Teach: 0.21 Scheduler: CosineAnnealingWarmRestarts: 100%|██████████| 40/40 [00:57<00:00,  1.43s/it, loss=0.102]\n",
      "Epoch 75/100 [VAL]: 100%|██████████| 24/24 [00:35<00:00,  1.49s/it, loss=0.227]\n"
     ]
    },
    {
     "name": "stdout",
     "output_type": "stream",
     "text": [
      "EarlyStopping counter: 57/100 (Best val_acc: 0.9615)\n",
      "\n",
      "Epoch 75/100 | LR: 1.00e-05 | Teach: 0.21 | Scheduler: CosineAnnealingWarmRestarts\n",
      "  Train Loss: 0.1170 | Train Char Acc: 0.9932\n",
      "  Val Loss: 0.2313   | Val Acc (CRR): 0.9604\n",
      "  Val Exact Match Acc (E2E RR): 0.8269\n",
      "----------------------------------------------------------------------\n"
     ]
    },
    {
     "name": "stderr",
     "output_type": "stream",
     "text": [
      "Epoch 76/100 [TRAIN] LR: 1.00e-05 Teach: 0.21 Scheduler: CosineAnnealingWarmRestarts:   2%|▎         | 1/40 [00:05<03:49,  5.90s/it, loss=0.173]"
     ]
    },
    {
     "name": "stdout",
     "output_type": "stream",
     "text": [
      "\n",
      "--- Training Batch 0 Examples (Content Only) ---\n",
      "  Pred: '6799LU'\n",
      "  True: '6799LU'\n",
      "  Pred: '6A7863'\n",
      "  True: '6A7863'\n",
      "  Pred: '6177MS'\n",
      "  True: '6177MS'\n",
      "  Pred: '8695LS'\n",
      "  True: '8695LS'\n",
      "  Pred: '7D1957'\n",
      "  True: '7D1957'\n",
      "-------------------------------\n"
     ]
    },
    {
     "name": "stderr",
     "output_type": "stream",
     "text": [
      "Epoch 76/100 [TRAIN] LR: 1.00e-05 Teach: 0.21 Scheduler: CosineAnnealingWarmRestarts: 100%|██████████| 40/40 [00:57<00:00,  1.44s/it, loss=0.101]\n",
      "Epoch 76/100 [VAL]: 100%|██████████| 24/24 [00:35<00:00,  1.48s/it, loss=0.227]\n"
     ]
    },
    {
     "name": "stdout",
     "output_type": "stream",
     "text": [
      "EarlyStopping counter: 58/100 (Best val_acc: 0.9615)\n",
      "\n",
      "Epoch 76/100 | LR: 9.90e-06 | Teach: 0.21 | Scheduler: CosineAnnealingWarmRestarts\n",
      "  Train Loss: 0.1159 | Train Char Acc: 0.9936\n",
      "  Val Loss: 0.2329   | Val Acc (CRR): 0.9604\n",
      "  Val Exact Match Acc (E2E RR): 0.8269\n",
      "----------------------------------------------------------------------\n"
     ]
    },
    {
     "name": "stderr",
     "output_type": "stream",
     "text": [
      "Epoch 77/100 [TRAIN] LR: 9.90e-06 Teach: 0.20 Scheduler: CosineAnnealingWarmRestarts:   2%|▎         | 1/40 [00:05<03:23,  5.22s/it, loss=0.101]"
     ]
    },
    {
     "name": "stdout",
     "output_type": "stream",
     "text": [
      "\n",
      "--- Training Batch 0 Examples (Content Only) ---\n",
      "  Pred: '0115JY'\n",
      "  True: '0115JY'\n",
      "  Pred: '2209BB'\n",
      "  True: '2209BB'\n",
      "  Pred: '8D9186'\n",
      "  True: '8D9186'\n",
      "  Pred: '1976VH'\n",
      "  True: '1976VH'\n",
      "  Pred: 'CR1296'\n",
      "  True: 'CR1296'\n",
      "-------------------------------\n"
     ]
    },
    {
     "name": "stderr",
     "output_type": "stream",
     "text": [
      "Epoch 77/100 [TRAIN] LR: 9.90e-06 Teach: 0.20 Scheduler: CosineAnnealingWarmRestarts: 100%|██████████| 40/40 [00:57<00:00,  1.44s/it, loss=0.168]\n",
      "Epoch 77/100 [VAL]: 100%|██████████| 24/24 [00:35<00:00,  1.48s/it, loss=0.229]\n"
     ]
    },
    {
     "name": "stdout",
     "output_type": "stream",
     "text": [
      "EarlyStopping counter: 59/100 (Best val_acc: 0.9615)\n",
      "\n",
      "Epoch 77/100 | LR: 9.61e-06 | Teach: 0.20 | Scheduler: CosineAnnealingWarmRestarts\n",
      "  Train Loss: 0.1136 | Train Char Acc: 0.9944\n",
      "  Val Loss: 0.2358   | Val Acc (CRR): 0.9597\n",
      "  Val Exact Match Acc (E2E RR): 0.8283\n",
      "----------------------------------------------------------------------\n"
     ]
    },
    {
     "name": "stderr",
     "output_type": "stream",
     "text": [
      "Epoch 78/100 [TRAIN] LR: 9.61e-06 Teach: 0.19 Scheduler: CosineAnnealingWarmRestarts:   2%|▎         | 1/40 [00:05<03:32,  5.44s/it, loss=0.154]"
     ]
    },
    {
     "name": "stdout",
     "output_type": "stream",
     "text": [
      "\n",
      "--- Training Batch 0 Examples (Content Only) ---\n",
      "  Pred: 'C29126'\n",
      "  True: 'C29126'\n",
      "  Pred: '9Z11KG'\n",
      "  True: '9Z11KG'\n",
      "  Pred: 'M72042'\n",
      "  True: 'M72042'\n",
      "  Pred: '5871HJ'\n",
      "  True: '5871HJ'\n",
      "  Pred: '1953QD'\n",
      "  True: '1953QD'\n",
      "-------------------------------\n"
     ]
    },
    {
     "name": "stderr",
     "output_type": "stream",
     "text": [
      "Epoch 78/100 [TRAIN] LR: 9.61e-06 Teach: 0.19 Scheduler: CosineAnnealingWarmRestarts: 100%|██████████| 40/40 [00:57<00:00,  1.44s/it, loss=0.105]\n",
      "Epoch 78/100 [VAL]: 100%|██████████| 24/24 [00:35<00:00,  1.49s/it, loss=0.227]\n"
     ]
    },
    {
     "name": "stdout",
     "output_type": "stream",
     "text": [
      "EarlyStopping counter: 60/100 (Best val_acc: 0.9615)\n",
      "\n",
      "Epoch 78/100 | LR: 9.14e-06 | Teach: 0.19 | Scheduler: CosineAnnealingWarmRestarts\n",
      "  Train Loss: 0.1092 | Train Char Acc: 0.9966\n",
      "  Val Loss: 0.2351   | Val Acc (CRR): 0.9595\n",
      "  Val Exact Match Acc (E2E RR): 0.8283\n",
      "----------------------------------------------------------------------\n"
     ]
    },
    {
     "name": "stderr",
     "output_type": "stream",
     "text": [
      "Epoch 79/100 [TRAIN] LR: 9.14e-06 Teach: 0.19 Scheduler: CosineAnnealingWarmRestarts:   2%|▎         | 1/40 [00:05<03:40,  5.67s/it, loss=0.0984]"
     ]
    },
    {
     "name": "stdout",
     "output_type": "stream",
     "text": [
      "\n",
      "--- Training Batch 0 Examples (Content Only) ---\n",
      "  Pred: 'AT9090'\n",
      "  True: 'AT9090'\n",
      "  Pred: '4926JS'\n",
      "  True: '4926JS'\n",
      "  Pred: '8A1085'\n",
      "  True: '8A1085'\n",
      "  Pred: '7N8062'\n",
      "  True: '7N8062'\n",
      "  Pred: '0265AA'\n",
      "  True: '0265AA'\n",
      "-------------------------------\n"
     ]
    },
    {
     "name": "stderr",
     "output_type": "stream",
     "text": [
      "Epoch 79/100 [TRAIN] LR: 9.14e-06 Teach: 0.19 Scheduler: CosineAnnealingWarmRestarts: 100%|██████████| 40/40 [00:57<00:00,  1.43s/it, loss=0.111]\n",
      "Epoch 79/100 [VAL]: 100%|██████████| 24/24 [00:35<00:00,  1.49s/it, loss=0.227]\n"
     ]
    },
    {
     "name": "stdout",
     "output_type": "stream",
     "text": [
      "EarlyStopping counter: 61/100 (Best val_acc: 0.9615)\n",
      "\n",
      "Epoch 79/100 | LR: 8.51e-06 | Teach: 0.19 | Scheduler: CosineAnnealingWarmRestarts\n",
      "  Train Loss: 0.1193 | Train Char Acc: 0.9927\n",
      "  Val Loss: 0.2327   | Val Acc (CRR): 0.9606\n",
      "  Val Exact Match Acc (E2E RR): 0.8296\n",
      "----------------------------------------------------------------------\n"
     ]
    },
    {
     "name": "stderr",
     "output_type": "stream",
     "text": [
      "Epoch 80/100 [TRAIN] LR: 8.51e-06 Teach: 0.18 Scheduler: CosineAnnealingWarmRestarts:   2%|▎         | 1/40 [00:06<04:04,  6.27s/it, loss=0.13]"
     ]
    },
    {
     "name": "stdout",
     "output_type": "stream",
     "text": [
      "\n",
      "--- Training Batch 0 Examples (Content Only) ---\n",
      "  Pred: 'DJ1589'\n",
      "  True: 'DJ1589'\n",
      "  Pred: 'U41288'\n",
      "  True: 'U41288'\n",
      "  Pred: '8967KG'\n",
      "  True: '8967KG'\n",
      "  Pred: '3327HK'\n",
      "  True: '3777HK'\n",
      "  Pred: 'BB0D31'\n",
      "  True: 'BB0D31'\n",
      "-------------------------------\n"
     ]
    },
    {
     "name": "stderr",
     "output_type": "stream",
     "text": [
      "Epoch 80/100 [TRAIN] LR: 8.51e-06 Teach: 0.18 Scheduler: CosineAnnealingWarmRestarts: 100%|██████████| 40/40 [00:57<00:00,  1.45s/it, loss=0.108]\n",
      "Epoch 80/100 [VAL]: 100%|██████████| 24/24 [00:35<00:00,  1.49s/it, loss=0.226]\n"
     ]
    },
    {
     "name": "stdout",
     "output_type": "stream",
     "text": [
      "EarlyStopping counter: 62/100 (Best val_acc: 0.9615)\n",
      "\n",
      "Epoch 80/100 | LR: 7.75e-06 | Teach: 0.18 | Scheduler: CosineAnnealingWarmRestarts\n",
      "  Train Loss: 0.1159 | Train Char Acc: 0.9944\n",
      "  Val Loss: 0.2350   | Val Acc (CRR): 0.9588\n",
      "  Val Exact Match Acc (E2E RR): 0.8269\n",
      "----------------------------------------------------------------------\n"
     ]
    },
    {
     "name": "stderr",
     "output_type": "stream",
     "text": [
      "Epoch 81/100 [TRAIN] LR: 7.75e-06 Teach: 0.17 Scheduler: CosineAnnealingWarmRestarts:   2%|▎         | 1/40 [00:05<03:36,  5.55s/it, loss=0.1]"
     ]
    },
    {
     "name": "stdout",
     "output_type": "stream",
     "text": [
      "\n",
      "--- Training Batch 0 Examples (Content Only) ---\n",
      "  Pred: '2078FG'\n",
      "  True: '2078FG'\n",
      "  Pred: 'LU5570'\n",
      "  True: 'LU5570'\n",
      "  Pred: '7622RZ'\n",
      "  True: '7622RZ'\n",
      "  Pred: '3932KK'\n",
      "  True: '3932KK'\n",
      "  Pred: 'Z38213'\n",
      "  True: 'Z38213'\n",
      "-------------------------------\n"
     ]
    },
    {
     "name": "stderr",
     "output_type": "stream",
     "text": [
      "Epoch 81/100 [TRAIN] LR: 7.75e-06 Teach: 0.17 Scheduler: CosineAnnealingWarmRestarts: 100%|██████████| 40/40 [00:57<00:00,  1.44s/it, loss=0.101]\n",
      "Epoch 81/100 [VAL]: 100%|██████████| 24/24 [00:35<00:00,  1.49s/it, loss=0.228]\n"
     ]
    },
    {
     "name": "stdout",
     "output_type": "stream",
     "text": [
      "EarlyStopping counter: 63/100 (Best val_acc: 0.9615)\n",
      "\n",
      "Epoch 81/100 | LR: 6.89e-06 | Teach: 0.17 | Scheduler: CosineAnnealingWarmRestarts\n",
      "  Train Loss: 0.1150 | Train Char Acc: 0.9947\n",
      "  Val Loss: 0.2357   | Val Acc (CRR): 0.9586\n",
      "  Val Exact Match Acc (E2E RR): 0.8283\n",
      "----------------------------------------------------------------------\n"
     ]
    },
    {
     "name": "stderr",
     "output_type": "stream",
     "text": [
      "Epoch 82/100 [TRAIN] LR: 6.89e-06 Teach: 0.17 Scheduler: CosineAnnealingWarmRestarts:   2%|▎         | 1/40 [00:05<03:49,  5.89s/it, loss=0.0995]"
     ]
    },
    {
     "name": "stdout",
     "output_type": "stream",
     "text": [
      "\n",
      "--- Training Batch 0 Examples (Content Only) ---\n",
      "  Pred: 'GK9087'\n",
      "  True: 'GK9087'\n",
      "  Pred: 'AT9090'\n",
      "  True: 'AT9090'\n",
      "  Pred: '9578VG'\n",
      "  True: '9578VG'\n",
      "  Pred: '4666JJ'\n",
      "  True: '4666JJ'\n",
      "  Pred: '2551JS'\n",
      "  True: '2551JS'\n",
      "-------------------------------\n"
     ]
    },
    {
     "name": "stderr",
     "output_type": "stream",
     "text": [
      "Epoch 82/100 [TRAIN] LR: 6.89e-06 Teach: 0.17 Scheduler: CosineAnnealingWarmRestarts: 100%|██████████| 40/40 [00:57<00:00,  1.43s/it, loss=0.0982]\n",
      "Epoch 82/100 [VAL]: 100%|██████████| 24/24 [00:35<00:00,  1.49s/it, loss=0.229]\n"
     ]
    },
    {
     "name": "stdout",
     "output_type": "stream",
     "text": [
      "EarlyStopping counter: 64/100 (Best val_acc: 0.9615)\n",
      "\n",
      "Epoch 82/100 | LR: 5.97e-06 | Teach: 0.17 | Scheduler: CosineAnnealingWarmRestarts\n",
      "  Train Loss: 0.1162 | Train Char Acc: 0.9943\n",
      "  Val Loss: 0.2356   | Val Acc (CRR): 0.9590\n",
      "  Val Exact Match Acc (E2E RR): 0.8296\n",
      "----------------------------------------------------------------------\n"
     ]
    },
    {
     "name": "stderr",
     "output_type": "stream",
     "text": [
      "Epoch 83/100 [TRAIN] LR: 5.97e-06 Teach: 0.16 Scheduler: CosineAnnealingWarmRestarts:   2%|▎         | 1/40 [00:05<03:48,  5.87s/it, loss=0.137]"
     ]
    },
    {
     "name": "stdout",
     "output_type": "stream",
     "text": [
      "\n",
      "--- Training Batch 0 Examples (Content Only) ---\n",
      "  Pred: 'RJ4721'\n",
      "  True: 'RJ4721'\n",
      "  Pred: '6322DR'\n",
      "  True: '6322DR'\n",
      "  Pred: 'DU0712'\n",
      "  True: 'DU0712'\n",
      "  Pred: '9N1197'\n",
      "  True: '9N1197'\n",
      "  Pred: '8C8313'\n",
      "  True: '8C8313'\n",
      "-------------------------------\n"
     ]
    },
    {
     "name": "stderr",
     "output_type": "stream",
     "text": [
      "Epoch 83/100 [TRAIN] LR: 5.97e-06 Teach: 0.16 Scheduler: CosineAnnealingWarmRestarts: 100%|██████████| 40/40 [00:57<00:00,  1.44s/it, loss=0.106]\n",
      "Epoch 83/100 [VAL]: 100%|██████████| 24/24 [00:35<00:00,  1.49s/it, loss=0.23]\n"
     ]
    },
    {
     "name": "stdout",
     "output_type": "stream",
     "text": [
      "EarlyStopping counter: 65/100 (Best val_acc: 0.9615)\n",
      "\n",
      "Epoch 83/100 | LR: 5.03e-06 | Teach: 0.16 | Scheduler: CosineAnnealingWarmRestarts\n",
      "  Train Loss: 0.1193 | Train Char Acc: 0.9926\n",
      "  Val Loss: 0.2322   | Val Acc (CRR): 0.9604\n",
      "  Val Exact Match Acc (E2E RR): 0.8336\n",
      "----------------------------------------------------------------------\n"
     ]
    },
    {
     "name": "stderr",
     "output_type": "stream",
     "text": [
      "Epoch 84/100 [TRAIN] LR: 5.03e-06 Teach: 0.16 Scheduler: CosineAnnealingWarmRestarts:   2%|▎         | 1/40 [00:06<04:07,  6.35s/it, loss=0.176]"
     ]
    },
    {
     "name": "stdout",
     "output_type": "stream",
     "text": [
      "\n",
      "--- Training Batch 0 Examples (Content Only) ---\n",
      "  Pred: '6027GT'\n",
      "  True: '6027GT'\n",
      "  Pred: '7291EV'\n",
      "  True: '7291EV'\n",
      "  Pred: 'UT7118'\n",
      "  True: 'UT7118'\n",
      "  Pred: 'CF5225'\n",
      "  True: 'CF5225'\n",
      "  Pred: '1C0906'\n",
      "  True: '1C0906'\n",
      "-------------------------------\n"
     ]
    },
    {
     "name": "stderr",
     "output_type": "stream",
     "text": [
      "Epoch 84/100 [TRAIN] LR: 5.03e-06 Teach: 0.16 Scheduler: CosineAnnealingWarmRestarts: 100%|██████████| 40/40 [00:58<00:00,  1.45s/it, loss=0.101]\n",
      "Epoch 84/100 [VAL]: 100%|██████████| 24/24 [00:35<00:00,  1.48s/it, loss=0.232]\n"
     ]
    },
    {
     "name": "stdout",
     "output_type": "stream",
     "text": [
      "EarlyStopping counter: 66/100 (Best val_acc: 0.9615)\n",
      "\n",
      "Epoch 84/100 | LR: 4.11e-06 | Teach: 0.16 | Scheduler: CosineAnnealingWarmRestarts\n",
      "  Train Loss: 0.1164 | Train Char Acc: 0.9937\n",
      "  Val Loss: 0.2331   | Val Acc (CRR): 0.9597\n",
      "  Val Exact Match Acc (E2E RR): 0.8322\n",
      "----------------------------------------------------------------------\n"
     ]
    },
    {
     "name": "stderr",
     "output_type": "stream",
     "text": [
      "Epoch 85/100 [TRAIN] LR: 4.11e-06 Teach: 0.15 Scheduler: CosineAnnealingWarmRestarts:   2%|▎         | 1/40 [00:06<03:59,  6.14s/it, loss=0.101]"
     ]
    },
    {
     "name": "stdout",
     "output_type": "stream",
     "text": [
      "\n",
      "--- Training Batch 0 Examples (Content Only) ---\n",
      "  Pred: '0723DW'\n",
      "  True: '0723DW'\n",
      "  Pred: 'U5570'\n",
      "  True: 'U5570'\n",
      "  Pred: 'CV6908'\n",
      "  True: 'CV6908'\n",
      "  Pred: '3257DB'\n",
      "  True: '3257DB'\n",
      "  Pred: 'CU6416'\n",
      "  True: 'CU6416'\n",
      "-------------------------------\n"
     ]
    },
    {
     "name": "stderr",
     "output_type": "stream",
     "text": [
      "Epoch 85/100 [TRAIN] LR: 4.11e-06 Teach: 0.15 Scheduler: CosineAnnealingWarmRestarts: 100%|██████████| 40/40 [00:57<00:00,  1.44s/it, loss=0.0983]\n",
      "Epoch 85/100 [VAL]: 100%|██████████| 24/24 [00:35<00:00,  1.48s/it, loss=0.233]\n"
     ]
    },
    {
     "name": "stdout",
     "output_type": "stream",
     "text": [
      "EarlyStopping counter: 67/100 (Best val_acc: 0.9615)\n",
      "\n",
      "Epoch 85/100 | LR: 3.25e-06 | Teach: 0.15 | Scheduler: CosineAnnealingWarmRestarts\n",
      "  Train Loss: 0.1188 | Train Char Acc: 0.9927\n",
      "  Val Loss: 0.2322   | Val Acc (CRR): 0.9604\n",
      "  Val Exact Match Acc (E2E RR): 0.8336\n",
      "----------------------------------------------------------------------\n"
     ]
    },
    {
     "name": "stderr",
     "output_type": "stream",
     "text": [
      "Epoch 86/100 [TRAIN] LR: 3.25e-06 Teach: 0.14 Scheduler: CosineAnnealingWarmRestarts:   2%|▎         | 1/40 [00:05<03:50,  5.91s/it, loss=0.101]"
     ]
    },
    {
     "name": "stdout",
     "output_type": "stream",
     "text": [
      "\n",
      "--- Training Batch 0 Examples (Content Only) ---\n",
      "  Pred: 'Q29902'\n",
      "  True: 'Q29902'\n",
      "  Pred: '9931MY'\n",
      "  True: '9931MY'\n",
      "  Pred: '0358DU'\n",
      "  True: '0358DU'\n",
      "  Pred: '5110EA'\n",
      "  True: '5110EA'\n",
      "  Pred: '7T6359'\n",
      "  True: '7T6359'\n",
      "-------------------------------\n"
     ]
    },
    {
     "name": "stderr",
     "output_type": "stream",
     "text": [
      "Epoch 86/100 [TRAIN] LR: 3.25e-06 Teach: 0.14 Scheduler: CosineAnnealingWarmRestarts: 100%|██████████| 40/40 [00:57<00:00,  1.44s/it, loss=0.0978]\n",
      "Epoch 86/100 [VAL]: 100%|██████████| 24/24 [00:35<00:00,  1.48s/it, loss=0.232]\n"
     ]
    },
    {
     "name": "stdout",
     "output_type": "stream",
     "text": [
      "EarlyStopping counter: 68/100 (Best val_acc: 0.9615)\n",
      "\n",
      "Epoch 86/100 | LR: 2.49e-06 | Teach: 0.14 | Scheduler: CosineAnnealingWarmRestarts\n",
      "  Train Loss: 0.1193 | Train Char Acc: 0.9924\n",
      "  Val Loss: 0.2322   | Val Acc (CRR): 0.9599\n",
      "  Val Exact Match Acc (E2E RR): 0.8322\n",
      "----------------------------------------------------------------------\n"
     ]
    },
    {
     "name": "stderr",
     "output_type": "stream",
     "text": [
      "Epoch 87/100 [TRAIN] LR: 2.49e-06 Teach: 0.14 Scheduler: CosineAnnealingWarmRestarts:   2%|▎         | 1/40 [00:05<03:32,  5.45s/it, loss=0.131]"
     ]
    },
    {
     "name": "stdout",
     "output_type": "stream",
     "text": [
      "\n",
      "--- Training Batch 0 Examples (Content Only) ---\n",
      "  Pred: '0366DM'\n",
      "  True: '0366DM'\n",
      "  Pred: '7D5452'\n",
      "  True: '7D5452'\n",
      "  Pred: '7101DC'\n",
      "  True: '7101DC'\n",
      "  Pred: 'CN9139'\n",
      "  True: 'CN9139'\n",
      "  Pred: 'CS2399'\n",
      "  True: 'CS2399'\n",
      "-------------------------------\n"
     ]
    },
    {
     "name": "stderr",
     "output_type": "stream",
     "text": [
      "Epoch 87/100 [TRAIN] LR: 2.49e-06 Teach: 0.14 Scheduler: CosineAnnealingWarmRestarts: 100%|██████████| 40/40 [00:57<00:00,  1.43s/it, loss=0.115]\n",
      "Epoch 87/100 [VAL]: 100%|██████████| 24/24 [00:35<00:00,  1.48s/it, loss=0.232]\n"
     ]
    },
    {
     "name": "stdout",
     "output_type": "stream",
     "text": [
      "EarlyStopping counter: 69/100 (Best val_acc: 0.9615)\n",
      "\n",
      "Epoch 87/100 | LR: 1.86e-06 | Teach: 0.14 | Scheduler: CosineAnnealingWarmRestarts\n",
      "  Train Loss: 0.1210 | Train Char Acc: 0.9915\n",
      "  Val Loss: 0.2316   | Val Acc (CRR): 0.9597\n",
      "  Val Exact Match Acc (E2E RR): 0.8283\n",
      "----------------------------------------------------------------------\n"
     ]
    },
    {
     "name": "stderr",
     "output_type": "stream",
     "text": [
      "Epoch 88/100 [TRAIN] LR: 1.86e-06 Teach: 0.13 Scheduler: CosineAnnealingWarmRestarts:   2%|▎         | 1/40 [00:05<03:42,  5.71s/it, loss=0.117]"
     ]
    },
    {
     "name": "stdout",
     "output_type": "stream",
     "text": [
      "\n",
      "--- Training Batch 0 Examples (Content Only) ---\n",
      "  Pred: '8T6210'\n",
      "  True: '8T6210'\n",
      "  Pred: '8Q9416'\n",
      "  True: '8Q9416'\n",
      "  Pred: '8D7829'\n",
      "  True: '8D7829'\n",
      "  Pred: '3262RH'\n",
      "  True: '3262RH'\n",
      "  Pred: '9C5669'\n",
      "  True: '9C5669'\n",
      "-------------------------------\n"
     ]
    },
    {
     "name": "stderr",
     "output_type": "stream",
     "text": [
      "Epoch 88/100 [TRAIN] LR: 1.86e-06 Teach: 0.13 Scheduler: CosineAnnealingWarmRestarts: 100%|██████████| 40/40 [00:57<00:00,  1.43s/it, loss=0.208]\n",
      "Epoch 88/100 [VAL]: 100%|██████████| 24/24 [00:35<00:00,  1.48s/it, loss=0.232]\n"
     ]
    },
    {
     "name": "stdout",
     "output_type": "stream",
     "text": [
      "EarlyStopping counter: 70/100 (Best val_acc: 0.9615)\n",
      "\n",
      "Epoch 88/100 | LR: 1.39e-06 | Teach: 0.13 | Scheduler: CosineAnnealingWarmRestarts\n",
      "  Train Loss: 0.1203 | Train Char Acc: 0.9918\n",
      "  Val Loss: 0.2320   | Val Acc (CRR): 0.9597\n",
      "  Val Exact Match Acc (E2E RR): 0.8283\n",
      "----------------------------------------------------------------------\n"
     ]
    },
    {
     "name": "stderr",
     "output_type": "stream",
     "text": [
      "Epoch 89/100 [TRAIN] LR: 1.39e-06 Teach: 0.12 Scheduler: CosineAnnealingWarmRestarts:   2%|▎         | 1/40 [00:05<03:35,  5.52s/it, loss=0.146]"
     ]
    },
    {
     "name": "stdout",
     "output_type": "stream",
     "text": [
      "\n",
      "--- Training Batch 0 Examples (Content Only) ---\n",
      "  Pred: 'YY8818'\n",
      "  True: 'YY8818'\n",
      "  Pred: '7C6856'\n",
      "  True: '7C6856'\n",
      "  Pred: 'HL4408'\n",
      "  True: 'HL4408'\n",
      "  Pred: 'CL5080'\n",
      "  True: 'CL5080'\n",
      "  Pred: '5B7981'\n",
      "  True: '5B7981'\n",
      "-------------------------------\n"
     ]
    },
    {
     "name": "stderr",
     "output_type": "stream",
     "text": [
      "Epoch 89/100 [TRAIN] LR: 1.39e-06 Teach: 0.12 Scheduler: CosineAnnealingWarmRestarts: 100%|██████████| 40/40 [00:57<00:00,  1.44s/it, loss=0.0984]\n",
      "Epoch 89/100 [VAL]: 100%|██████████| 24/24 [00:35<00:00,  1.48s/it, loss=0.233]\n"
     ]
    },
    {
     "name": "stdout",
     "output_type": "stream",
     "text": [
      "EarlyStopping counter: 71/100 (Best val_acc: 0.9615)\n",
      "\n",
      "Epoch 89/100 | LR: 1.10e-06 | Teach: 0.12 | Scheduler: CosineAnnealingWarmRestarts\n",
      "  Train Loss: 0.1134 | Train Char Acc: 0.9947\n",
      "  Val Loss: 0.2325   | Val Acc (CRR): 0.9595\n",
      "  Val Exact Match Acc (E2E RR): 0.8269\n",
      "----------------------------------------------------------------------\n"
     ]
    },
    {
     "name": "stderr",
     "output_type": "stream",
     "text": [
      "Epoch 90/100 [TRAIN] LR: 1.10e-06 Teach: 0.12 Scheduler: CosineAnnealingWarmRestarts:   2%|▎         | 1/40 [00:06<03:55,  6.03s/it, loss=0.099]"
     ]
    },
    {
     "name": "stdout",
     "output_type": "stream",
     "text": [
      "\n",
      "--- Training Batch 0 Examples (Content Only) ---\n",
      "  Pred: '6C3028'\n",
      "  True: '6C3028'\n",
      "  Pred: 'U34281'\n",
      "  True: 'U34281'\n",
      "  Pred: 'HF2706'\n",
      "  True: 'HF2706'\n",
      "  Pred: '8T6210'\n",
      "  True: '8T6210'\n",
      "  Pred: '9078RR'\n",
      "  True: '9078RR'\n",
      "-------------------------------\n"
     ]
    },
    {
     "name": "stderr",
     "output_type": "stream",
     "text": [
      "Epoch 90/100 [TRAIN] LR: 1.10e-06 Teach: 0.12 Scheduler: CosineAnnealingWarmRestarts: 100%|██████████| 40/40 [00:57<00:00,  1.44s/it, loss=0.175]\n",
      "Epoch 90/100 [VAL]: 100%|██████████| 24/24 [00:35<00:00,  1.49s/it, loss=0.232]\n"
     ]
    },
    {
     "name": "stdout",
     "output_type": "stream",
     "text": [
      "EarlyStopping counter: 72/100 (Best val_acc: 0.9615)\n",
      "\n",
      "Epoch 90/100 | LR: 1.00e-05 | Teach: 0.12 | Scheduler: CosineAnnealingWarmRestarts\n",
      "  Train Loss: 0.1185 | Train Char Acc: 0.9930\n",
      "  Val Loss: 0.2326   | Val Acc (CRR): 0.9593\n",
      "  Val Exact Match Acc (E2E RR): 0.8256\n",
      "----------------------------------------------------------------------\n"
     ]
    },
    {
     "name": "stderr",
     "output_type": "stream",
     "text": [
      "Epoch 91/100 [TRAIN] LR: 1.00e-05 Teach: 0.11 Scheduler: CosineAnnealingWarmRestarts:   2%|▎         | 1/40 [00:05<03:51,  5.93s/it, loss=0.111]"
     ]
    },
    {
     "name": "stdout",
     "output_type": "stream",
     "text": [
      "\n",
      "--- Training Batch 0 Examples (Content Only) ---\n",
      "  Pred: 'A83501'\n",
      "  True: 'A83501'\n",
      "  Pred: '1387QL'\n",
      "  True: '1387QL'\n",
      "  Pred: '6A7863'\n",
      "  True: '6A7863'\n",
      "  Pred: '0908VE'\n",
      "  True: '0908VE'\n",
      "  Pred: '5E5548'\n",
      "  True: '5E5548'\n",
      "-------------------------------\n"
     ]
    },
    {
     "name": "stderr",
     "output_type": "stream",
     "text": [
      "Epoch 91/100 [TRAIN] LR: 1.00e-05 Teach: 0.11 Scheduler: CosineAnnealingWarmRestarts: 100%|██████████| 40/40 [00:58<00:00,  1.46s/it, loss=0.101]\n",
      "Epoch 91/100 [VAL]: 100%|██████████| 24/24 [00:35<00:00,  1.49s/it, loss=0.236]\n"
     ]
    },
    {
     "name": "stdout",
     "output_type": "stream",
     "text": [
      "EarlyStopping counter: 73/100 (Best val_acc: 0.9615)\n",
      "\n",
      "Epoch 91/100 | LR: 9.90e-06 | Teach: 0.11 | Scheduler: CosineAnnealingWarmRestarts\n",
      "  Train Loss: 0.1188 | Train Char Acc: 0.9923\n",
      "  Val Loss: 0.2351   | Val Acc (CRR): 0.9595\n",
      "  Val Exact Match Acc (E2E RR): 0.8283\n",
      "----------------------------------------------------------------------\n"
     ]
    },
    {
     "name": "stderr",
     "output_type": "stream",
     "text": [
      "Epoch 92/100 [TRAIN] LR: 9.90e-06 Teach: 0.10 Scheduler: CosineAnnealingWarmRestarts:   2%|▎         | 1/40 [00:05<03:48,  5.87s/it, loss=0.11]"
     ]
    },
    {
     "name": "stdout",
     "output_type": "stream",
     "text": [
      "\n",
      "--- Training Batch 0 Examples (Content Only) ---\n",
      "  Pred: '5325TM'\n",
      "  True: '5325TM'\n",
      "  Pred: '1387QL'\n",
      "  True: '1387QL'\n",
      "  Pred: 'DY7692'\n",
      "  True: 'DY7692'\n",
      "  Pred: '4272DR'\n",
      "  True: '1272DR'\n",
      "  Pred: '6998DB'\n",
      "  True: '6998DB'\n",
      "-------------------------------\n"
     ]
    },
    {
     "name": "stderr",
     "output_type": "stream",
     "text": [
      "Epoch 92/100 [TRAIN] LR: 9.90e-06 Teach: 0.10 Scheduler: CosineAnnealingWarmRestarts: 100%|██████████| 40/40 [00:57<00:00,  1.45s/it, loss=0.181]\n",
      "Epoch 92/100 [VAL]: 100%|██████████| 24/24 [00:35<00:00,  1.48s/it, loss=0.239]\n"
     ]
    },
    {
     "name": "stdout",
     "output_type": "stream",
     "text": [
      "EarlyStopping counter: 74/100 (Best val_acc: 0.9615)\n",
      "\n",
      "Epoch 92/100 | LR: 9.61e-06 | Teach: 0.10 | Scheduler: CosineAnnealingWarmRestarts\n",
      "  Train Loss: 0.1216 | Train Char Acc: 0.9919\n",
      "  Val Loss: 0.2410   | Val Acc (CRR): 0.9584\n",
      "  Val Exact Match Acc (E2E RR): 0.8269\n",
      "----------------------------------------------------------------------\n"
     ]
    },
    {
     "name": "stderr",
     "output_type": "stream",
     "text": [
      "Epoch 93/100 [TRAIN] LR: 9.61e-06 Teach: 0.10 Scheduler: CosineAnnealingWarmRestarts:   2%|▎         | 1/40 [00:05<03:43,  5.73s/it, loss=0.106]"
     ]
    },
    {
     "name": "stdout",
     "output_type": "stream",
     "text": [
      "\n",
      "--- Training Batch 0 Examples (Content Only) ---\n",
      "  Pred: 'R28286'\n",
      "  True: 'R28286'\n",
      "  Pred: '7866KR'\n",
      "  True: '7866KR'\n",
      "  Pred: '1697QT'\n",
      "  True: '1697QT'\n",
      "  Pred: 'CH8196'\n",
      "  True: 'CH8196'\n",
      "  Pred: '0751QL'\n",
      "  True: '0751QL'\n",
      "-------------------------------\n"
     ]
    },
    {
     "name": "stderr",
     "output_type": "stream",
     "text": [
      "Epoch 93/100 [TRAIN] LR: 9.61e-06 Teach: 0.10 Scheduler: CosineAnnealingWarmRestarts: 100%|██████████| 40/40 [00:57<00:00,  1.44s/it, loss=0.0986]\n",
      "Epoch 93/100 [VAL]: 100%|██████████| 24/24 [00:35<00:00,  1.49s/it, loss=0.237]\n"
     ]
    },
    {
     "name": "stdout",
     "output_type": "stream",
     "text": [
      "EarlyStopping counter: 75/100 (Best val_acc: 0.9615)\n",
      "\n",
      "Epoch 93/100 | LR: 9.14e-06 | Teach: 0.10 | Scheduler: CosineAnnealingWarmRestarts\n",
      "  Train Loss: 0.1102 | Train Char Acc: 0.9960\n",
      "  Val Loss: 0.2374   | Val Acc (CRR): 0.9586\n",
      "  Val Exact Match Acc (E2E RR): 0.8283\n",
      "----------------------------------------------------------------------\n"
     ]
    },
    {
     "name": "stderr",
     "output_type": "stream",
     "text": [
      "Epoch 94/100 [TRAIN] LR: 9.14e-06 Teach: 0.09 Scheduler: CosineAnnealingWarmRestarts:   2%|▎         | 1/40 [00:05<03:33,  5.49s/it, loss=0.0993]"
     ]
    },
    {
     "name": "stdout",
     "output_type": "stream",
     "text": [
      "\n",
      "--- Training Batch 0 Examples (Content Only) ---\n",
      "  Pred: '1129FE'\n",
      "  True: '1129FE'\n",
      "  Pred: '2D2365'\n",
      "  True: '2D2365'\n",
      "  Pred: '8D9186'\n",
      "  True: '8D9186'\n",
      "  Pred: '3A7705'\n",
      "  True: '3A7705'\n",
      "  Pred: 'F21180'\n",
      "  True: 'F21180'\n",
      "-------------------------------\n"
     ]
    },
    {
     "name": "stderr",
     "output_type": "stream",
     "text": [
      "Epoch 94/100 [TRAIN] LR: 9.14e-06 Teach: 0.09 Scheduler: CosineAnnealingWarmRestarts: 100%|██████████| 40/40 [00:57<00:00,  1.43s/it, loss=0.154]\n",
      "Epoch 94/100 [VAL]: 100%|██████████| 24/24 [00:35<00:00,  1.49s/it, loss=0.236]\n"
     ]
    },
    {
     "name": "stdout",
     "output_type": "stream",
     "text": [
      "EarlyStopping counter: 76/100 (Best val_acc: 0.9615)\n",
      "\n",
      "Epoch 94/100 | LR: 8.51e-06 | Teach: 0.09 | Scheduler: CosineAnnealingWarmRestarts\n",
      "  Train Loss: 0.1233 | Train Char Acc: 0.9910\n",
      "  Val Loss: 0.2338   | Val Acc (CRR): 0.9595\n",
      "  Val Exact Match Acc (E2E RR): 0.8309\n",
      "----------------------------------------------------------------------\n"
     ]
    },
    {
     "name": "stderr",
     "output_type": "stream",
     "text": [
      "Epoch 95/100 [TRAIN] LR: 8.51e-06 Teach: 0.08 Scheduler: CosineAnnealingWarmRestarts:   2%|▎         | 1/40 [00:05<03:51,  5.95s/it, loss=0.104]"
     ]
    },
    {
     "name": "stdout",
     "output_type": "stream",
     "text": [
      "\n",
      "--- Training Batch 0 Examples (Content Only) ---\n",
      "  Pred: 'M52028'\n",
      "  True: 'M52028'\n",
      "  Pred: '6P5013'\n",
      "  True: '6P5013'\n",
      "  Pred: '5D7379'\n",
      "  True: '5D7379'\n",
      "  Pred: '9932RK'\n",
      "  True: '9932RK'\n",
      "  Pred: '9699VH'\n",
      "  True: '9699VH'\n",
      "-------------------------------\n"
     ]
    },
    {
     "name": "stderr",
     "output_type": "stream",
     "text": [
      "Epoch 95/100 [TRAIN] LR: 8.51e-06 Teach: 0.08 Scheduler: CosineAnnealingWarmRestarts: 100%|██████████| 40/40 [00:58<00:00,  1.45s/it, loss=0.143]\n",
      "Epoch 95/100 [VAL]: 100%|██████████| 24/24 [00:35<00:00,  1.48s/it, loss=0.235]\n"
     ]
    },
    {
     "name": "stdout",
     "output_type": "stream",
     "text": [
      "EarlyStopping counter: 77/100 (Best val_acc: 0.9615)\n",
      "\n",
      "Epoch 95/100 | LR: 7.75e-06 | Teach: 0.08 | Scheduler: CosineAnnealingWarmRestarts\n",
      "  Train Loss: 0.1175 | Train Char Acc: 0.9931\n",
      "  Val Loss: 0.2338   | Val Acc (CRR): 0.9593\n",
      "  Val Exact Match Acc (E2E RR): 0.8296\n",
      "----------------------------------------------------------------------\n"
     ]
    },
    {
     "name": "stderr",
     "output_type": "stream",
     "text": [
      "Epoch 96/100 [TRAIN] LR: 7.75e-06 Teach: 0.08 Scheduler: CosineAnnealingWarmRestarts:   2%|▎         | 1/40 [00:05<03:48,  5.86s/it, loss=0.254]"
     ]
    },
    {
     "name": "stdout",
     "output_type": "stream",
     "text": [
      "\n",
      "--- Training Batch 0 Examples (Content Only) ---\n",
      "  Pred: '8D9186'\n",
      "  True: '8D9186'\n",
      "  Pred: '4323DU'\n",
      "  True: '4323DU'\n",
      "  Pred: '7032KT'\n",
      "  True: '7032KT'\n",
      "  Pred: '9001EX'\n",
      "  True: '9001EX'\n",
      "  Pred: '8E2060'\n",
      "  True: 'BE2157'\n",
      "-------------------------------\n"
     ]
    },
    {
     "name": "stderr",
     "output_type": "stream",
     "text": [
      "Epoch 96/100 [TRAIN] LR: 7.75e-06 Teach: 0.08 Scheduler: CosineAnnealingWarmRestarts: 100%|██████████| 40/40 [00:57<00:00,  1.43s/it, loss=0.111]\n",
      "Epoch 96/100 [VAL]: 100%|██████████| 24/24 [00:35<00:00,  1.49s/it, loss=0.235]\n"
     ]
    },
    {
     "name": "stdout",
     "output_type": "stream",
     "text": [
      "EarlyStopping counter: 78/100 (Best val_acc: 0.9615)\n",
      "\n",
      "Epoch 96/100 | LR: 6.89e-06 | Teach: 0.08 | Scheduler: CosineAnnealingWarmRestarts\n",
      "  Train Loss: 0.1164 | Train Char Acc: 0.9928\n",
      "  Val Loss: 0.2332   | Val Acc (CRR): 0.9593\n",
      "  Val Exact Match Acc (E2E RR): 0.8296\n",
      "----------------------------------------------------------------------\n"
     ]
    },
    {
     "name": "stderr",
     "output_type": "stream",
     "text": [
      "Epoch 97/100 [TRAIN] LR: 6.89e-06 Teach: 0.07 Scheduler: CosineAnnealingWarmRestarts:   2%|▎         | 1/40 [00:05<03:52,  5.96s/it, loss=0.0978]"
     ]
    },
    {
     "name": "stdout",
     "output_type": "stream",
     "text": [
      "\n",
      "--- Training Batch 0 Examples (Content Only) ---\n",
      "  Pred: '1272DR'\n",
      "  True: '1272DR'\n",
      "  Pred: 'LU5570'\n",
      "  True: 'LU5570'\n",
      "  Pred: 'CY1757'\n",
      "  True: 'CY1757'\n",
      "  Pred: '3777HK'\n",
      "  True: '3777HK'\n",
      "  Pred: '1953QD'\n",
      "  True: '1953QD'\n",
      "-------------------------------\n"
     ]
    },
    {
     "name": "stderr",
     "output_type": "stream",
     "text": [
      "Epoch 97/100 [TRAIN] LR: 6.89e-06 Teach: 0.07 Scheduler: CosineAnnealingWarmRestarts: 100%|██████████| 40/40 [00:57<00:00,  1.43s/it, loss=0.105]\n",
      "Epoch 97/100 [VAL]: 100%|██████████| 24/24 [00:35<00:00,  1.48s/it, loss=0.233]\n"
     ]
    },
    {
     "name": "stdout",
     "output_type": "stream",
     "text": [
      "EarlyStopping counter: 79/100 (Best val_acc: 0.9615)\n",
      "\n",
      "Epoch 97/100 | LR: 5.97e-06 | Teach: 0.07 | Scheduler: CosineAnnealingWarmRestarts\n",
      "  Train Loss: 0.1136 | Train Char Acc: 0.9948\n",
      "  Val Loss: 0.2328   | Val Acc (CRR): 0.9593\n",
      "  Val Exact Match Acc (E2E RR): 0.8256\n",
      "----------------------------------------------------------------------\n"
     ]
    },
    {
     "name": "stderr",
     "output_type": "stream",
     "text": [
      "Epoch 98/100 [TRAIN] LR: 5.97e-06 Teach: 0.06 Scheduler: CosineAnnealingWarmRestarts:   2%|▎         | 1/40 [00:06<03:55,  6.04s/it, loss=0.0988]"
     ]
    },
    {
     "name": "stdout",
     "output_type": "stream",
     "text": [
      "\n",
      "--- Training Batch 0 Examples (Content Only) ---\n",
      "  Pred: '1697QT'\n",
      "  True: '1697QT'\n",
      "  Pred: '7G1333'\n",
      "  True: '7G1333'\n",
      "  Pred: '6327ER'\n",
      "  True: '6327ER'\n",
      "  Pred: '3986QG'\n",
      "  True: '3986QG'\n",
      "  Pred: '2N9379'\n",
      "  True: '2N9379'\n",
      "-------------------------------\n"
     ]
    },
    {
     "name": "stderr",
     "output_type": "stream",
     "text": [
      "Epoch 98/100 [TRAIN] LR: 5.97e-06 Teach: 0.06 Scheduler: CosineAnnealingWarmRestarts: 100%|██████████| 40/40 [00:57<00:00,  1.43s/it, loss=0.0993]\n",
      "Epoch 98/100 [VAL]: 100%|██████████| 24/24 [00:35<00:00,  1.47s/it, loss=0.231]\n"
     ]
    },
    {
     "name": "stdout",
     "output_type": "stream",
     "text": [
      "EarlyStopping counter: 80/100 (Best val_acc: 0.9615)\n",
      "\n",
      "Epoch 98/100 | LR: 5.03e-06 | Teach: 0.06 | Scheduler: CosineAnnealingWarmRestarts\n",
      "  Train Loss: 0.1157 | Train Char Acc: 0.9940\n",
      "  Val Loss: 0.2331   | Val Acc (CRR): 0.9595\n",
      "  Val Exact Match Acc (E2E RR): 0.8283\n",
      "----------------------------------------------------------------------\n"
     ]
    },
    {
     "name": "stderr",
     "output_type": "stream",
     "text": [
      "Epoch 99/100 [TRAIN] LR: 5.03e-06 Teach: 0.06 Scheduler: CosineAnnealingWarmRestarts:   2%|▎         | 1/40 [00:05<03:53,  5.99s/it, loss=0.0988]"
     ]
    },
    {
     "name": "stdout",
     "output_type": "stream",
     "text": [
      "\n",
      "--- Training Batch 0 Examples (Content Only) ---\n",
      "  Pred: '6237JJ'\n",
      "  True: '6237JJ'\n",
      "  Pred: '3F4277'\n",
      "  True: '3F4277'\n",
      "  Pred: '1P9968'\n",
      "  True: '1P9968'\n",
      "  Pred: '3131TM'\n",
      "  True: '3131TM'\n",
      "  Pred: '6221EY'\n",
      "  True: '6221EY'\n",
      "-------------------------------\n"
     ]
    },
    {
     "name": "stderr",
     "output_type": "stream",
     "text": [
      "Epoch 99/100 [TRAIN] LR: 5.03e-06 Teach: 0.06 Scheduler: CosineAnnealingWarmRestarts: 100%|██████████| 40/40 [00:57<00:00,  1.43s/it, loss=0.103]\n",
      "Epoch 99/100 [VAL]: 100%|██████████| 24/24 [00:35<00:00,  1.48s/it, loss=0.23]\n"
     ]
    },
    {
     "name": "stdout",
     "output_type": "stream",
     "text": [
      "EarlyStopping counter: 81/100 (Best val_acc: 0.9615)\n",
      "\n",
      "Epoch 99/100 | LR: 4.11e-06 | Teach: 0.06 | Scheduler: CosineAnnealingWarmRestarts\n",
      "  Train Loss: 0.1223 | Train Char Acc: 0.9909\n",
      "  Val Loss: 0.2328   | Val Acc (CRR): 0.9595\n",
      "  Val Exact Match Acc (E2E RR): 0.8283\n",
      "----------------------------------------------------------------------\n"
     ]
    },
    {
     "name": "stderr",
     "output_type": "stream",
     "text": [
      "Epoch 100/100 [TRAIN] LR: 4.11e-06 Teach: 0.05 Scheduler: CosineAnnealingWarmRestarts:   2%|▎         | 1/40 [00:05<03:49,  5.89s/it, loss=0.144]"
     ]
    },
    {
     "name": "stdout",
     "output_type": "stream",
     "text": [
      "\n",
      "--- Training Batch 0 Examples (Content Only) ---\n",
      "  Pred: '7A6988'\n",
      "  True: '7A6988'\n",
      "  Pred: '0329HB'\n",
      "  True: '0329HB'\n",
      "  Pred: '9236EC'\n",
      "  True: '9236EC'\n",
      "  Pred: '5J2251'\n",
      "  True: '5J2251'\n",
      "  Pred: '3990ED'\n",
      "  True: '3905RY'\n",
      "-------------------------------\n"
     ]
    },
    {
     "name": "stderr",
     "output_type": "stream",
     "text": [
      "Epoch 100/100 [TRAIN] LR: 4.11e-06 Teach: 0.05 Scheduler: CosineAnnealingWarmRestarts: 100%|██████████| 40/40 [00:57<00:00,  1.43s/it, loss=0.144]\n",
      "Epoch 100/100 [VAL]: 100%|██████████| 24/24 [00:35<00:00,  1.49s/it, loss=0.23]\n"
     ]
    },
    {
     "name": "stdout",
     "output_type": "stream",
     "text": [
      "EarlyStopping counter: 82/100 (Best val_acc: 0.9615)\n",
      "\n",
      "Epoch 100/100 | LR: 3.25e-06 | Teach: 0.05 | Scheduler: CosineAnnealingWarmRestarts\n",
      "  Train Loss: 0.1177 | Train Char Acc: 0.9930\n",
      "  Val Loss: 0.2335   | Val Acc (CRR): 0.9593\n",
      "  Val Exact Match Acc (E2E RR): 0.8256\n",
      "----------------------------------------------------------------------\n",
      "\n",
      "Training completed!\n",
      "Final val accuracy (Greedy Character Level): 0.9593\n",
      "Final val accuracy (Constrained Length Exact Match): 0.8256\n"
     ]
    },
    {
     "data": {
      "image/png": "[encoded data removed]",
      "text/plain": [
       "<Figure size 1800x1200 with 2 Axes>"
      ]
     },
     "metadata": {},
     "output_type": "display_data"
    },
    {
     "name": "stdout",
     "output_type": "stream",
     "text": [
      "Saved plots to performance_plots.png\n"
     ]
    }
   ],
   "source": [
    "import torch\n",
    "import torch.nn as nn\n",
    "from ultralytics import YOLO\n",
    "from torch.nn import MultiheadAttention\n",
    "from torchvision import transforms\n",
    "from PIL import Image\n",
    "import random\n",
    "import os\n",
    "from torch.utils.data import Dataset, DataLoader, Sampler, Subset, SubsetRandomSampler\n",
    "import numpy as np\n",
    "from tqdm import tqdm\n",
    "import matplotlib.pyplot as plt\n",
    "from torchtoolbox.tools import mixup_data, mixup_criterion\n",
    "\n",
    "#--- Constants ---\n",
    "CHARACTERS = '0123456789ABCDEFGHIJKLMNOPQRSTUVWXYZ'\n",
    "SOS_TOKEN = 36\n",
    "EOS_TOKEN = 37\n",
    "PAD_TOKEN = len(CHARACTERS) + 2\n",
    "NUM_CLASSES = len(CHARACTERS) + 3  # SOS, EOS, PAD\n",
    "DEVICE = 'cuda' if torch.cuda.is_available() else 'cpu'\n",
    "\n",
    "#--- Utility functions ---\n",
    "def index_to_char(indices, include_special_tokens=False):\n",
    "    result = []\n",
    "    for i in indices:\n",
    "        i = i.item() if torch.is_tensor(i) else i\n",
    "        if i == SOS_TOKEN:\n",
    "            if include_special_tokens: result.append('[SOS]')\n",
    "        elif i == EOS_TOKEN:\n",
    "            if include_special_tokens: result.append('[EOS]')\n",
    "            break\n",
    "        elif 0 <= i < len(CHARACTERS):\n",
    "            result.append(CHARACTERS[i])\n",
    "        else:\n",
    "            if include_special_tokens or i not in [SOS_TOKEN, EOS_TOKEN]:\n",
    "                result.append(f'[UNK_{i}]')\n",
    "    return ''.join(result)\n",
    "\n",
    "def char_to_indices(text):\n",
    "    indices = [SOS_TOKEN]\n",
    "    for c in text:\n",
    "        if c in CHARACTERS:\n",
    "            indices.append(CHARACTERS.index(c))\n",
    "    indices.append(EOS_TOKEN)\n",
    "    return torch.tensor(indices, dtype=torch.long)\n",
    "\n",
    "#--- YOLO wrapper ---\n",
    "class YoloBackbone(nn.Module):\n",
    "    def __init__(self, model_path, target_feature_layer_index=9):\n",
    "        super().__init__()\n",
    "        _temp_yolo_instance = YOLO(model_path)\n",
    "        self.yolo_detection_model = _temp_yolo_instance.model\n",
    "        self.yolo_detection_model.to(DEVICE)\n",
    "        self.target_feature_layer_index = target_feature_layer_index\n",
    "\n",
    "        for name, param in self.yolo_detection_model.named_parameters():\n",
    "            param.requires_grad = True\n",
    "        \n",
    "        self._hook_handle = None\n",
    "        self._fmap_out_hook = []\n",
    "        \n",
    "        self._register_hook()\n",
    "\n",
    "    def _hook_fn_extractor(self, module, input_val, output_val):\n",
    "        if isinstance(output_val, torch.Tensor):\n",
    "            self._fmap_out_hook.append(output_val)\n",
    "        elif isinstance(output_val, (list, tuple)):\n",
    "            for item in output_val:\n",
    "                if isinstance(item, torch.Tensor):\n",
    "                    self._fmap_out_hook.append(item)\n",
    "                    break\n",
    "\n",
    "    def _register_hook(self):\n",
    "        layer_to_hook = self.yolo_detection_model.model[self.target_feature_layer_index]\n",
    "        self._hook_handle = layer_to_hook.register_forward_hook(self._hook_fn_extractor)\n",
    "\n",
    "    def _remove_hook(self):\n",
    "        if self._hook_handle:\n",
    "            self._hook_handle.remove()\n",
    "            self._hook_handle = None\n",
    "\n",
    "    def forward(self, x):\n",
    "        self._fmap_out_hook.clear()\n",
    "        _ = self.yolo_detection_model(x)\n",
    "        out_tensor = self._fmap_out_hook[0]\n",
    "        return out_tensor if out_tensor.dim() == 4 else out_tensor.unsqueeze(0)\n",
    "\n",
    "#--- Simplified RViT ---\n",
    "class RViT(nn.Module):\n",
    "    def __init__(self, yolo_channels=256, d_model=512, num_patches=1600, n_heads=8, num_encoder_layers=3, dim_feedforward=2048, dropout_rate=0.3):\n",
    "        super().__init__()\n",
    "        self.d_model = d_model\n",
    "        self.proj = nn.Sequential(\n",
    "            nn.Conv2d(yolo_channels, d_model, kernel_size=3, padding=1),\n",
    "            nn.BatchNorm2d(d_model),\n",
    "            nn.ReLU(),\n",
    "            nn.Dropout2d(dropout_rate if dropout_rate > 0 else 0)\n",
    "        )\n",
    "        encoder_layer = nn.TransformerEncoderLayer(\n",
    "            d_model=d_model, nhead=n_heads, dim_feedforward=dim_feedforward,\n",
    "            dropout=dropout_rate, batch_first=True, norm_first=True\n",
    "        )\n",
    "        self.encoder = nn.TransformerEncoder(encoder_layer, num_layers=num_encoder_layers)\n",
    "\n",
    "        self.pos_embed = nn.Parameter(torch.randn(1, num_patches + 1, d_model))\n",
    "        self.region_q = nn.Parameter(torch.zeros(1, 1, d_model))\n",
    "        \n",
    "        self.embed = nn.Embedding(NUM_CLASSES, d_model)\n",
    "        self.gru_num_layers = 1\n",
    "        self.gru = nn.GRU(d_model, d_model, num_layers=self.gru_num_layers, batch_first=True,\n",
    "                          dropout=dropout_rate if self.gru_num_layers > 1 else 0)\n",
    "        self.attn = MultiheadAttention(d_model, num_heads=n_heads, batch_first=True, dropout=dropout_rate)\n",
    "        self.fc = nn.Sequential(\n",
    "            nn.Dropout(dropout_rate if dropout_rate > 0 else 0),\n",
    "            nn.Linear(2 * d_model, NUM_CLASSES)\n",
    "        )\n",
    "\n",
    "    def forward(self, fmap, target=None, teach_ratio=0.5, forced_output_length=None):\n",
    "        b = fmap.size(0)\n",
    "        x = self.proj(fmap)\n",
    "        x = x.flatten(2).permute(0, 2, 1)\n",
    "\n",
    "        current_num_patches = x.size(1)\n",
    "        expected_pos_embed_len = current_num_patches + 1\n",
    "        \n",
    "        if self.pos_embed.size(1) != expected_pos_embed_len:\n",
    "            if self.pos_embed.size(1) > expected_pos_embed_len:\n",
    "                pos_embed_to_add = self.pos_embed[:, :expected_pos_embed_len, :]\n",
    "            else:\n",
    "                raise ValueError(f\"RViT pos_embed second dim {self.pos_embed.size(1)} is smaller than required {expected_pos_embed_len}\")\n",
    "        else:\n",
    "            pos_embed_to_add = self.pos_embed\n",
    "\n",
    "        q = self.region_q.expand(b, -1, -1)\n",
    "        x = torch.cat([q, x], dim=1)\n",
    "        x = x + pos_embed_to_add\n",
    "\n",
    "        enc = self.encoder(x)\n",
    "        region_feat, spatial_feats = enc[:, 0], enc[:, 1:]\n",
    "        \n",
    "        if forced_output_length is not None:\n",
    "            max_gen_len = forced_output_length\n",
    "        elif target is not None:\n",
    "            max_gen_len = target.size(1) - 1\n",
    "        else:\n",
    "            max_gen_len = MAX_SEQ_LENGTH - 1\n",
    "\n",
    "        h = region_feat.unsqueeze(0).contiguous()\n",
    "        current_input_tokens = torch.full((b,), SOS_TOKEN, device=DEVICE, dtype=torch.long)\n",
    "        outputs_logits = []\n",
    "\n",
    "        finished_sequences_tracker = None\n",
    "        if target is None and forced_output_length is None:\n",
    "            finished_sequences_tracker = torch.zeros(b, dtype=torch.bool, device=DEVICE)\n",
    "            \n",
    "        for t in range(max_gen_len):\n",
    "            emb = self.embed(current_input_tokens).unsqueeze(1)\n",
    "            g, h = self.gru(emb, h)\n",
    "            a, _ = self.attn(g, spatial_feats, spatial_feats)\n",
    "            comb = torch.cat([g.squeeze(1), a.squeeze(1)], dim=-1)\n",
    "            logits_step = self.fc(comb)\n",
    "            outputs_logits.append(logits_step)\n",
    "\n",
    "            if target is not None and random.random() < teach_ratio:\n",
    "                next_input_candidate = target[:, t + 1]\n",
    "            else:\n",
    "                next_input_candidate = logits_step.argmax(-1)\n",
    "\n",
    "            if finished_sequences_tracker is not None:\n",
    "                eos_predicted_this_step = (next_input_candidate == EOS_TOKEN)\n",
    "                finished_sequences_tracker |= eos_predicted_this_step\n",
    "                current_input_tokens = torch.where(finished_sequences_tracker,\n",
    "                                                 torch.tensor(EOS_TOKEN, device=DEVICE, dtype=torch.long),\n",
    "                                                 next_input_candidate)\n",
    "                if finished_sequences_tracker.all():\n",
    "                    break\n",
    "            else:\n",
    "                current_input_tokens = next_input_candidate\n",
    "        \n",
    "        return torch.stack(outputs_logits, dim=1)\n",
    "\n",
    "#--- Full model (YOLO_RViT) ---\n",
    "class YOLO_RViT(nn.Module):\n",
    "    def __init__(self, yolo_path, yolo_target_feature_layer_idx=9):\n",
    "        super().__init__()\n",
    "        self.backbone = YoloBackbone(yolo_path, target_feature_layer_index=yolo_target_feature_layer_idx)\n",
    "        dummy_input = torch.randn(1, 3, 640, 640).to(DEVICE)\n",
    "        \n",
    "        original_backbone_training_mode = self.backbone.training\n",
    "        with torch.no_grad():\n",
    "            dummy_feats = self.backbone(dummy_input)\n",
    "        \n",
    "        yolo_channels = dummy_feats.shape[1]\n",
    "        h_feat, w_feat = dummy_feats.shape[2], dummy_feats.shape[3]\n",
    "        num_patches = h_feat * w_feat\n",
    "        \n",
    "        self.rvit = RViT(yolo_channels=yolo_channels, num_patches=num_patches).to(DEVICE)\n",
    "\n",
    "    def forward(self, x, target=None, teach_ratio=0.5, forced_output_length=None):\n",
    "        x = x.to(DEVICE)\n",
    "        feats = self.backbone(x)\n",
    "        return self.rvit(feats, target, teach_ratio, forced_output_length)\n",
    "\n",
    "    def train(self, mode: bool = True):\n",
    "        super().train(mode)\n",
    "        self.rvit.train(mode)\n",
    "        self.backbone.train(mode)\n",
    "        return self\n",
    "\n",
    "    def eval(self):\n",
    "        super().eval()\n",
    "        self.rvit.eval()\n",
    "        self.backbone.eval()\n",
    "        return self\n",
    "\n",
    "#--- Dataset ---\n",
    "class LicensePlateDataset(Dataset):\n",
    "    def __init__(self, img_dir, license_dir, max_seq_length=15, is_train=True):\n",
    "        self.img_dir = img_dir\n",
    "        self.license_dir = license_dir\n",
    "        self.max_seq_length = max_seq_length\n",
    "        self.img_names = [f for f in os.listdir(self.img_dir) if f.endswith(('.jpg'))]\n",
    "        if is_train:\n",
    "            self.transform = transforms.Compose([\n",
    "                transforms.Resize((640, 640)),\n",
    "                transforms.RandomApply([\n",
    "                    transforms.RandomRotation(10),\n",
    "                    transforms.RandomAffine(degrees=8, translate=(0.03, 0.03), scale=(0.95, 1.05)),\n",
    "                    transforms.RandomPerspective(distortion_scale=0.05, p=0.3),\n",
    "                ], p=0.7),\n",
    "                transforms.ColorJitter(brightness=0.2, contrast=0.2, saturation=0.2, hue=0.05),\n",
    "                transforms.RandomApply([transforms.GaussianBlur(kernel_size=3, sigma=(0.1, 1.0))], p=0.25),\n",
    "                transforms.ToTensor(),\n",
    "                transforms.RandomErasing(p=0.2, scale=(0.01, 0.04), ratio=(0.3, 3.3)),\n",
    "                transforms.Normalize(mean=[0.485, 0.456, 0.406], std=[0.229, 0.224, 0.225])\n",
    "            ])\n",
    "        else:\n",
    "            self.transform = transforms.Compose([\n",
    "                transforms.Resize((640, 640)),\n",
    "                transforms.ToTensor(),\n",
    "                transforms.Normalize(mean=[0.485, 0.456, 0.406], std=[0.229, 0.224, 0.225])\n",
    "            ])\n",
    "            \n",
    "    def __len__(self):\n",
    "        return len(self.img_names)\n",
    "\n",
    "    def __getitem__(self, idx):\n",
    "        img_path = os.path.join(self.img_dir, self.img_names[idx])\n",
    "        img = Image.open(img_path).convert(\"RGB\")\n",
    "        img_tensor = self.transform(img)\n",
    "        \n",
    "        license_filename = os.path.splitext(self.img_names[idx])[0] + \".txt\"\n",
    "        license_path = os.path.join(self.license_dir, license_filename)\n",
    "        try:\n",
    "            with open(license_path, 'r', encoding='utf-8') as f:\n",
    "                license_text = f.read().upper().strip()\n",
    "        except FileNotFoundError:\n",
    "            return img_tensor, torch.full((self.max_seq_length,), EOS_TOKEN, dtype=torch.long)\n",
    "\n",
    "        # print(f\"file: {self.img_names[idx]}, {license_text}\")\n",
    "        license_indices = char_to_indices(license_text)\n",
    "        target = torch.full((self.max_seq_length,), PAD_TOKEN, dtype=torch.long)\n",
    "        \n",
    "        actual_len = min(len(license_indices), self.max_seq_length)\n",
    "        target[:actual_len] = license_indices[:actual_len]\n",
    "        \n",
    "        return img_tensor, target\n",
    "\n",
    "\n",
    "    @staticmethod\n",
    "    def collate_fn(batch):\n",
    "        images = torch.stack([item[0] for item in batch])\n",
    "        targets = torch.stack([item[1] for item in batch])\n",
    "        return images, targets\n",
    "\n",
    "#--- Early Stopping ---\n",
    "class EarlyStopping:\n",
    "    def __init__(self, patience=10, min_delta=0.0, monitor_metric='val_acc', mode='max', verbose=True):\n",
    "        self.patience = patience\n",
    "        self.min_delta = min_delta\n",
    "        self.monitor_metric = monitor_metric\n",
    "        self.mode = mode\n",
    "        self.verbose = verbose\n",
    "\n",
    "        if self.mode == 'min':\n",
    "            self.best_metric_val = np.Inf\n",
    "        else:\n",
    "            self.best_metric_val = -np.Inf\n",
    "        self.counter = 0\n",
    "        self.early_stop = False\n",
    "\n",
    "    def __call__(self, current_metric_val):\n",
    "        improved = False\n",
    "        if self.mode == 'min':\n",
    "            if current_metric_val < self.best_metric_val - self.min_delta:\n",
    "                self.best_metric_val = current_metric_val\n",
    "                improved = True\n",
    "        else:\n",
    "            if current_metric_val > self.best_metric_val + self.min_delta:\n",
    "                self.best_metric_val = current_metric_val\n",
    "                improved = True\n",
    "        \n",
    "        if improved:\n",
    "            self.counter = 0\n",
    "            if self.verbose:\n",
    "                print(f\"EarlyStopping: New best {self.monitor_metric}: {self.best_metric_val:.4f}\")\n",
    "        else:\n",
    "            self.counter += 1\n",
    "\n",
    "        if self.verbose and self.counter > 0 and not improved:\n",
    "            print(f\"EarlyStopping counter: {self.counter}/{self.patience} (Best {self.monitor_metric}: {self.best_metric_val:.4f})\")\n",
    "        if self.counter >= self.patience:\n",
    "            self.early_stop = True\n",
    "            if self.verbose:\n",
    "                print(f\"Early stopping triggered for {self.monitor_metric}.\")\n",
    "        return self.counter\n",
    "\n",
    "#--- Training ---\n",
    "YOLO_MODEL_PATH = '/kaggle/input/m/thitenguyen/yolov11s/pytorch/default/1/best.pt'\n",
    "YOLO_TARGET_FEATURE_LAYER_INDEX = 13\n",
    "\n",
    "IMG_DIR_TRAIN = \"/kaggle/input/aolp-le-dataset/AOLP_LE/train/image\"\n",
    "LICENSE_DIR_TRAIN = \"/kaggle/input/aolp-le-dataset/AOLP_LE/train/text\"\n",
    "IMG_DIR_VAL = \"/kaggle/input/aolp-le-dataset/AOLP_LE/val/image\"\n",
    "LICENSE_DIR_VAL = \"/kaggle/input/aolp-le-dataset/AOLP_LE/val/text\"\n",
    "\n",
    "MAX_SEQ_LENGTH = 15\n",
    "BATCH_SIZE = 32\n",
    "NUM_WORKERS = 4\n",
    "LEARNING_RATE = 5e-5\n",
    "MAX_LR_SCHEDULER = 5e-4\n",
    "WEIGHT_DECAY = 5e-5\n",
    "NUM_EPOCHS = 100\n",
    "ACCUM_STEPS = 2\n",
    "PATIENCE_EARLY_STOP = 100\n",
    "TEACH_RATIO_START = 0.7\n",
    "TEACH_RATIO_END = 0.05\n",
    "LABEL_SMOOTHING = 0.01\n",
    "\n",
    "scaler = torch.amp.GradScaler(DEVICE)\n",
    "autocast_context = lambda: torch.amp.autocast(DEVICE)\n",
    "\n",
    "train_dataset_full = LicensePlateDataset(img_dir=IMG_DIR_TRAIN, license_dir=LICENSE_DIR_TRAIN, max_seq_length=MAX_SEQ_LENGTH, is_train=True)\n",
    "val_dataset = LicensePlateDataset(img_dir=IMG_DIR_VAL, license_dir=LICENSE_DIR_VAL, max_seq_length=MAX_SEQ_LENGTH, is_train=False)\n",
    "\n",
    "train_dataloader = DataLoader(train_dataset_full, batch_size=BATCH_SIZE, shuffle=True, num_workers=NUM_WORKERS, collate_fn=LicensePlateDataset.collate_fn, pin_memory=(DEVICE == 'cuda'), drop_last=True)\n",
    "val_dataloader = DataLoader(val_dataset, batch_size=BATCH_SIZE, shuffle=False, num_workers=NUM_WORKERS, collate_fn=LicensePlateDataset.collate_fn, pin_memory=(DEVICE == 'cuda'))\n",
    "\n",
    "model = YOLO_RViT(YOLO_MODEL_PATH, yolo_target_feature_layer_idx=YOLO_TARGET_FEATURE_LAYER_INDEX).to(DEVICE)\n",
    "\n",
    "optimizer = torch.optim.AdamW(\n",
    "    model.parameters(),\n",
    "    lr=1e-5,\n",
    "    weight_decay=WEIGHT_DECAY\n",
    ")\n",
    "\n",
    "scheduler = torch.optim.lr_scheduler.CosineAnnealingWarmRestarts(\n",
    "    optimizer,\n",
    "    T_0=15,  # Khởi động lại sau mỗi 15 epochs\n",
    "    T_mult=1, # Giữ chu kỳ không đổi\n",
    "    eta_min=1e-6 # LR tối thiểu\n",
    ")\n",
    "scheduler_type = \"CosineAnnealingWarmRestarts\"\n",
    "\n",
    "loss_fn = nn.CrossEntropyLoss(ignore_index=PAD_TOKEN, label_smoothing=LABEL_SMOOTHING)\n",
    "early_stopper = EarlyStopping(patience=PATIENCE_EARLY_STOP, min_delta=0.0005, monitor_metric='val_acc', mode='max', verbose=True)\n",
    "\n",
    "checkpoint = torch.load(\"/kaggle/input/yolo_rvt_aolp_le_36/pytorch/default/1/best_yolo_rvit_model36.pth\", map_location=DEVICE)\n",
    "model.load_state_dict(checkpoint['model_state_dict'])\n",
    "optimizer.load_state_dict(checkpoint['optimizer_state_dict'])\n",
    "\n",
    "train_loss_values, val_loss_values = [], []\n",
    "train_acc_values, val_acc_values, val_acc_constrained_values = [], [], []\n",
    "epoch_count_list = []\n",
    "best_val_acc = 0.0\n",
    "\n",
    "for epoch in range(NUM_EPOCHS):\n",
    "    epoch_count_list.append(epoch + 1)\n",
    "    model.train()\n",
    "    train_loss, train_correct, train_total_chars = 0, 0, 0\n",
    "\n",
    "    teach_ratio = TEACH_RATIO_START - (TEACH_RATIO_START - TEACH_RATIO_END) * (epoch / max(1, NUM_EPOCHS - 1))\n",
    "\n",
    "    optimizer.zero_grad()\n",
    "\n",
    "    pbar_train = tqdm(train_dataloader, desc=f\"Epoch {epoch+1}/{NUM_EPOCHS} [TRAIN] LR: {optimizer.param_groups[0]['lr']:.2e} Teach: {teach_ratio:.2f} Scheduler: {scheduler_type}\")\n",
    "    for batch_idx, (imgs, targets) in enumerate(pbar_train):\n",
    "        imgs, targets = imgs.to(DEVICE, non_blocking=True), targets.to(DEVICE, non_blocking=True)\n",
    "        \n",
    "        with autocast_context():\n",
    "            outputs = model(imgs, target=targets, teach_ratio=teach_ratio)\n",
    "            flat_outputs = outputs.reshape(-1, NUM_CLASSES)\n",
    "            flat_targets = targets[:, 1:].reshape(-1)\n",
    "            loss = loss_fn(flat_outputs, flat_targets)\n",
    "            loss = loss / ACCUM_STEPS\n",
    "            \n",
    "        scaler.scale(loss).backward()\n",
    "        \n",
    "        if (batch_idx + 1) % ACCUM_STEPS == 0 or (batch_idx + 1) == len(train_dataloader):\n",
    "            torch.nn.utils.clip_grad_norm_(filter(lambda p: p.requires_grad, model.parameters()), max_norm=1.0)\n",
    "            scaler.step(optimizer)\n",
    "            scaler.update()\n",
    "            optimizer.zero_grad()\n",
    "            if scheduler_type == \"OneCycleLR\":\n",
    "                scheduler.step()\n",
    "\n",
    "        train_loss += loss.item() * ACCUM_STEPS\n",
    "        with torch.no_grad():\n",
    "            preds = outputs.argmax(-1)\n",
    "            true_chars = targets[:, 1:]\n",
    "            for i in range(imgs.size(0)):\n",
    "                pred_seq_list_train = preds[i].tolist()\n",
    "                if EOS_TOKEN in pred_seq_list_train:\n",
    "                    pred_seq_list_train = pred_seq_list_train[:pred_seq_list_train.index(EOS_TOKEN)]\n",
    "                \n",
    "                true_seq_list_train = true_chars[i].tolist()\n",
    "                true_content_train = [x for x in true_seq_list_train if x not in [EOS_TOKEN, PAD_TOKEN]]\n",
    "                len_true_content_train = len(true_content_train)\n",
    "                \n",
    "                cmp_len = min(len(pred_seq_list_train), len_true_content_train)\n",
    "                if cmp_len > 0:\n",
    "                    train_correct += (torch.tensor(pred_seq_list_train[:cmp_len]) == torch.tensor(true_content_train[:cmp_len])).sum().item()\n",
    "                \n",
    "                train_total_chars += len_true_content_train\n",
    "\n",
    "            if batch_idx == 0 and epoch % 1 == 0 and imgs.size(0) > 0:\n",
    "                print(\"\\n--- Training Batch 0 Examples (Content Only) ---\")\n",
    "                for i in range(min(5, imgs.size(0))):\n",
    "                    pred_batch_i_list = preds[i].tolist()\n",
    "                    pred_example = index_to_char(pred_batch_i_list)\n",
    "                    true_batch_i_list = true_chars[i].tolist()\n",
    "                    true_example = index_to_char(true_batch_i_list)\n",
    "                    print(f\"  Pred: '{pred_example}'\")\n",
    "                    print(f\"  True: '{true_example}'\")\n",
    "                print(\"-------------------------------\")\n",
    "        \n",
    "        pbar_train.set_postfix(loss=loss.item() * ACCUM_STEPS)\n",
    "\n",
    "    avg_train_loss = train_loss / len(train_dataloader) if len(train_dataloader) > 0 else 0\n",
    "    avg_train_acc = train_correct / train_total_chars if train_total_chars > 0 else 0\n",
    "    train_loss_values.append(avg_train_loss)\n",
    "    train_acc_values.append(avg_train_acc)\n",
    "\n",
    "    # --- Validation Loop ---\n",
    "    model.eval()\n",
    "    val_loss, val_correct, val_total_chars, val_correct_constrained, val_total_sequences_constrained = 0, 0, 0, 0, 0\n",
    "    pbar_val = tqdm(val_dataloader, desc=f\"Epoch {epoch+1}/{NUM_EPOCHS} [VAL]\")\n",
    "    with torch.no_grad():\n",
    "        for imgs, targets in pbar_val:\n",
    "            imgs, targets = imgs.to(DEVICE, non_blocking=True), targets.to(DEVICE, non_blocking=True)\n",
    "            with autocast_context():\n",
    "                outputs = model(imgs, target=None, teach_ratio=0.0)\n",
    "                out_seq_len_val = outputs.size(1)\n",
    "                tgt_content_len_val = targets.size(1) - 1\n",
    "                if out_seq_len_val > tgt_content_len_val:\n",
    "                    outputs_for_loss_val = outputs[:, :tgt_content_len_val, :]\n",
    "                elif out_seq_len_val < tgt_content_len_val:\n",
    "                    padding_val_val = torch.zeros(outputs.size(0), tgt_content_len_val - out_seq_len_val, NUM_CLASSES, device=DEVICE)\n",
    "                    padding_val_val[:,:,PAD_TOKEN] = 1\n",
    "                    outputs_for_loss_val = torch.cat([outputs, padding_val_val], dim=1)\n",
    "                else:\n",
    "                    outputs_for_loss_val = outputs\n",
    "                flat_outputs_val = outputs_for_loss_val.reshape(-1, NUM_CLASSES)\n",
    "                flat_targets_val = targets[:, 1:].reshape(-1)\n",
    "                loss = loss_fn(flat_outputs_val, flat_targets_val)\n",
    "                \n",
    "            val_loss += loss.item()\n",
    "            preds_val = outputs_for_loss_val.argmax(-1)\n",
    "            true_chars_val = targets[:, 1:]\n",
    "            for i in range(imgs.size(0)):\n",
    "                pred_seq_val_list = preds_val[i].tolist()\n",
    "                if EOS_TOKEN in pred_seq_val_list:\n",
    "                    pred_seq_val_list = pred_seq_val_list[:pred_seq_val_list.index(EOS_TOKEN)]\n",
    "                \n",
    "                true_seq_val_list = true_chars_val[i].tolist()\n",
    "                true_content_val = [x for x in true_seq_val_list if x not in [EOS_TOKEN, PAD_TOKEN]]\n",
    "                len_true_content_val = len(true_content_val)\n",
    "\n",
    "                cmp_len_val = min(len(pred_seq_val_list), len_true_content_val)\n",
    "                if cmp_len_val > 0:\n",
    "                    val_correct += (torch.tensor(pred_seq_val_list[:cmp_len_val]) == torch.tensor(true_content_val[:cmp_len_val])).sum().item()\n",
    "                val_total_chars += len_true_content_val\n",
    "\n",
    "                if len_true_content_val > 0:\n",
    "                    with autocast_context():\n",
    "                        outputs_constrained_sample = model(imgs[i:i+1], target=None, teach_ratio=0.0, forced_output_length=len_true_content_val)\n",
    "                    preds_constrained_sample = outputs_constrained_sample.argmax(-1).squeeze(0).tolist()\n",
    "                    final_preds_constrained = []\n",
    "                    for tk_id in preds_constrained_sample:\n",
    "                        if tk_id == EOS_TOKEN:\n",
    "                            break\n",
    "                        final_preds_constrained.append(tk_id)\n",
    "                    if final_preds_constrained == true_content_val:\n",
    "                        val_correct_constrained += 1\n",
    "                val_total_sequences_constrained += 1\n",
    "            \n",
    "            pbar_val.set_postfix(loss=loss.item())\n",
    "\n",
    "    avg_val_loss = val_loss / len(val_dataloader) if len(val_dataloader) > 0 else 0\n",
    "    avg_val_acc = val_correct / val_total_chars if val_total_chars > 0 else 0\n",
    "    avg_val_acc_constrained = val_correct_constrained / val_total_sequences_constrained if val_total_sequences_constrained > 0 else 0\n",
    "    val_loss_values.append(avg_val_loss)\n",
    "    val_acc_values.append(avg_val_acc)\n",
    "    val_acc_constrained_values.append(avg_val_acc_constrained)\n",
    "    \n",
    "    # Chuyển sang ReduceLROnPlateau nếu val_acc chững lại\n",
    "    counter = early_stopper(avg_val_acc)\n",
    "    # if counter >= 15 and scheduler_type == \"OneCycleLR\":\n",
    "    #     print(f\"Val Acc stalled for {PATIENCE_EARLY_STOP} epochs. Switching to ReduceLROnPlateau.\")\n",
    "    #     scheduler = torch.optim.lr_scheduler.ReduceLROnPlateau(optimizer, mode='max', factor=0.5, patience=2, verbose=True)\n",
    "    #     scheduler_type = \"ReduceLROnPlateau\"\n",
    "    \n",
    "    # # Cập nhật scheduler\n",
    "    # if scheduler_type == \"ReduceLROnPlateau\":\n",
    "    #     scheduler.step(avg_val_acc)\n",
    "    scheduler.step()\n",
    "\n",
    "    if early_stopper.early_stop:\n",
    "        print(f\"--> Early stopping at epoch {epoch+1}\")\n",
    "        break\n",
    "    \n",
    "    print(f\"\\nEpoch {epoch+1}/{NUM_EPOCHS} | LR: {optimizer.param_groups[0]['lr']:.2e} | Teach: {teach_ratio:.2f} | Scheduler: {scheduler_type}\")\n",
    "    print(f\"  Train Loss: {avg_train_loss:.4f} | Train Char Acc: {avg_train_acc:.4f}\")\n",
    "    print(f\"  Val Loss: {avg_val_loss:.4f}   | Val Acc (CRR): {avg_val_acc:.4f}\")\n",
    "    print(f\"  Val Exact Match Acc (E2E RR): {avg_val_acc_constrained:.4f}\")\n",
    "    print(\"-\" * 70)\n",
    "\n",
    "    checkpoint_path = f\"yolo_rvit_model_epoch_{epoch + 1}.pth\"\n",
    "\n",
    "    if avg_val_acc > best_val_acc:\n",
    "        best_val_acc = avg_val_acc\n",
    "        print(f\"*** New best validation accuracy: {best_val_acc:.4f}. Saving best_model.pth ***\")\n",
    "        torch.save({\n",
    "            'epoch': epoch,\n",
    "            'model_state_dict': model.state_dict(),\n",
    "            'optimizer_state_dict': optimizer.state_dict(),\n",
    "            'scheduler_state_dict': scheduler.state_dict(),\n",
    "            'val_loss': avg_val_loss,\n",
    "            'val_acc': avg_val_acc,\n",
    "            'val_acc_constrained': avg_val_acc_constrained,\n",
    "        }, \"best_yolo_rvit_model.pth\")\n",
    "\n",
    "final_epoch_val = epoch if 'epoch' in locals() and epoch is not None else NUM_EPOCHS - 1\n",
    "torch.save({\n",
    "    'epoch': final_epoch_val,\n",
    "    'model_state_dict': model.state_dict(),\n",
    "    'optimizer_state_dict': optimizer.state_dict(),\n",
    "    'scheduler_state_dict': scheduler.state_dict(),\n",
    "    'train_loss_history': train_loss_values,\n",
    "    'val_loss_history': val_loss_values,\n",
    "    'train_acc_history': train_acc_values,\n",
    "    'val_acc_history': val_acc_values,\n",
    "    'val_acc_constrained_history': val_acc_constrained_values,\n",
    "}, \"final_yolo_rvit_model.pth\")\n",
    "\n",
    "print(\"\\nTraining completed!\")\n",
    "if val_acc_values:\n",
    "    print(f\"Final val accuracy (Greedy Character Level): {val_acc_values[-1]:.4f}\")\n",
    "if val_acc_constrained_values:\n",
    "    print(f\"Final val accuracy (Constrained Length Exact Match): {val_acc_constrained_values[-1]:.4f}\")\n",
    "\n",
    "# Plotting\n",
    "plt.figure(figsize=(18, 12))\n",
    "plt.subplot(2, 2, 1)\n",
    "plt.plot(epoch_count_list, train_loss_values, label='Train Loss', marker='o', linestyle='-')\n",
    "plt.plot(epoch_count_list, val_loss_values, label='Validation Loss', marker='s', linestyle='--')\n",
    "plt.title('Loss Curves')\n",
    "plt.xlabel('Epochs')\n",
    "plt.ylabel('Loss')\n",
    "plt.legend()\n",
    "plt.grid(True)\n",
    "\n",
    "plt.subplot(2, 2, 2)\n",
    "plt.plot(epoch_count_list, train_acc_values, label='Train Char Accuracy', marker='o', linestyle='-')\n",
    "plt.plot(epoch_count_list, val_acc_values, label='Validation Char Accuracy (Greedy)', marker='s', linestyle='--')\n",
    "plt.title('Character Accuracy')\n",
    "plt.xlabel('Epochs')\n",
    "plt.ylabel('Character Accuracy')\n",
    "plt.legend()\n",
    "plt.grid(True)\n",
    "\n",
    "plt.tight_layout()\n",
    "plt.savefig(\"performance_plots.png\")\n",
    "plt.show()\n",
    "print(\"Saved plots to performance_plots.png\")"
   ]
  }
 ],
 "metadata": {
  "kaggle": {
   "accelerator": "nvidiaTeslaT4",
   "dataSources": [
    {
     "datasetId": 4072694,
     "sourceId": 7073289,
     "sourceType": "datasetVersion"
    },
    {
     "datasetId": 7283240,
     "sourceId": 11903981,
     "sourceType": "datasetVersion"
    },
    {
     "datasetId": 7972570,
     "sourceId": 12619192,
     "sourceType": "datasetVersion"
    },
    {
     "datasetId": 7973485,
     "sourceId": 12855594,
     "sourceType": "datasetVersion"
    },
    {
     "datasetId": 7973472,
     "sourceId": 12855605,
     "sourceType": "datasetVersion"
    },
    {
     "datasetId": 7973494,
     "sourceId": 12856063,
     "sourceType": "datasetVersion"
    },
    {
     "datasetId": 8149553,
     "sourceId": 12881393,
     "sourceType": "datasetVersion"
    },
    {
     "modelId": 357248,
     "modelInstanceId": 336244,
     "sourceId": 411841,
     "sourceType": "modelInstanceVersion"
    },
    {
     "modelId": 357250,
     "modelInstanceId": 336246,
     "sourceId": 411843,
     "sourceType": "modelInstanceVersion"
    },
    {
     "modelId": 357253,
     "modelInstanceId": 336249,
     "sourceId": 411846,
     "sourceType": "modelInstanceVersion"
    },
    {
     "modelId": 372818,
     "modelInstanceId": 351568,
     "sourceId": 431310,
     "sourceType": "modelInstanceVersion"
    },
    {
     "modelId": 411842,
     "modelInstanceId": 393237,
     "sourceId": 495336,
     "sourceType": "modelInstanceVersion"
    },
    {
     "modelId": 414205,
     "modelInstanceId": 395656,
     "sourceId": 497961,
     "sourceType": "modelInstanceVersion"
    },
    {
     "modelId": 414935,
     "modelInstanceId": 396442,
     "sourceId": 499048,
     "sourceType": "modelInstanceVersion"
    },
    {
     "modelId": 414985,
     "modelInstanceId": 396502,
     "sourceId": 499146,
     "sourceType": "modelInstanceVersion"
    },
    {
     "modelId": 415717,
     "modelInstanceId": 397346,
     "sourceId": 500435,
     "sourceType": "modelInstanceVersion"
    },
    {
     "modelId": 415739,
     "modelInstanceId": 397374,
     "sourceId": 500494,
     "sourceType": "modelInstanceVersion"
    },
    {
     "modelId": 418381,
     "modelInstanceId": 400106,
     "sourceId": 503671,
     "sourceType": "modelInstanceVersion"
    },
    {
     "modelId": 418788,
     "modelInstanceId": 400566,
     "sourceId": 504301,
     "sourceType": "modelInstanceVersion"
    },
    {
     "modelId": 419064,
     "modelInstanceId": 400902,
     "sourceId": 504840,
     "sourceType": "modelInstanceVersion"
    },
    {
     "modelId": 419512,
     "modelInstanceId": 401440,
     "sourceId": 505494,
     "sourceType": "modelInstanceVersion"
    },
    {
     "modelId": 420644,
     "modelInstanceId": 402706,
     "sourceId": 507463,
     "sourceType": "modelInstanceVersion"
    },
    {
     "modelId": 420986,
     "modelInstanceId": 403051,
     "sourceId": 507881,
     "sourceType": "modelInstanceVersion"
    },
    {
     "modelId": 421528,
     "modelInstanceId": 403598,
     "sourceId": 508842,
     "sourceType": "modelInstanceVersion"
    },
    {
     "modelId": 422091,
     "modelInstanceId": 404176,
     "sourceId": 509670,
     "sourceType": "modelInstanceVersion"
    },
    {
     "modelId": 424619,
     "modelInstanceId": 406717,
     "sourceId": 514746,
     "sourceType": "modelInstanceVersion"
    },
    {
     "modelId": 426666,
     "modelInstanceId": 408804,
     "sourceId": 519196,
     "sourceType": "modelInstanceVersion"
    },
    {
     "modelId": 427524,
     "modelInstanceId": 409664,
     "sourceId": 520757,
     "sourceType": "modelInstanceVersion"
    },
    {
     "modelId": 429640,
     "modelInstanceId": 411844,
     "sourceId": 524801,
     "sourceType": "modelInstanceVersion"
    },
    {
     "modelId": 430106,
     "modelInstanceId": 412330,
     "sourceId": 526205,
     "sourceType": "modelInstanceVersion"
    },
    {
     "modelId": 430439,
     "modelInstanceId": 412677,
     "sourceId": 527056,
     "sourceType": "modelInstanceVersion"
    },
    {
     "modelId": 430512,
     "modelInstanceId": 412755,
     "sourceId": 527176,
     "sourceType": "modelInstanceVersion"
    },
    {
     "modelId": 430546,
     "modelInstanceId": 412790,
     "sourceId": 527255,
     "sourceType": "modelInstanceVersion"
    },
    {
     "modelId": 430574,
     "modelInstanceId": 412817,
     "sourceId": 527302,
     "sourceType": "modelInstanceVersion"
    },
    {
     "modelId": 430608,
     "modelInstanceId": 412853,
     "sourceId": 527367,
     "sourceType": "modelInstanceVersion"
    },
    {
     "modelId": 430784,
     "modelInstanceId": 413046,
     "sourceId": 528011,
     "sourceType": "modelInstanceVersion"
    },
    {
     "modelId": 430913,
     "modelInstanceId": 413167,
     "sourceId": 528150,
     "sourceType": "modelInstanceVersion"
    },
    {
     "modelId": 431017,
     "modelInstanceId": 413277,
     "sourceId": 528278,
     "sourceType": "modelInstanceVersion"
    },
    {
     "modelId": 431045,
     "modelInstanceId": 413306,
     "sourceId": 528313,
     "sourceType": "modelInstanceVersion"
    },
    {
     "modelId": 432832,
     "modelInstanceId": 415079,
     "sourceId": 530601,
     "sourceType": "modelInstanceVersion"
    },
    {
     "modelId": 433067,
     "modelInstanceId": 415306,
     "sourceId": 531568,
     "sourceType": "modelInstanceVersion"
    },
    {
     "modelId": 433425,
     "modelInstanceId": 415674,
     "sourceId": 532259,
     "sourceType": "modelInstanceVersion"
    },
    {
     "modelId": 433494,
     "modelInstanceId": 415745,
     "sourceId": 532387,
     "sourceType": "modelInstanceVersion"
    },
    {
     "modelId": 433523,
     "modelInstanceId": 415778,
     "sourceId": 532499,
     "sourceType": "modelInstanceVersion"
    },
    {
     "modelId": 434473,
     "modelInstanceId": 416755,
     "sourceId": 536188,
     "sourceType": "modelInstanceVersion"
    },
    {
     "modelId": 434546,
     "modelInstanceId": 416835,
     "sourceId": 536390,
     "sourceType": "modelInstanceVersion"
    },
    {
     "modelId": 434573,
     "modelInstanceId": 416866,
     "sourceId": 536489,
     "sourceType": "modelInstanceVersion"
    },
    {
     "modelId": 434616,
     "modelInstanceId": 416910,
     "sourceId": 536602,
     "sourceType": "modelInstanceVersion"
    },
    {
     "modelId": 434681,
     "modelInstanceId": 416976,
     "sourceId": 536732,
     "sourceType": "modelInstanceVersion"
    },
    {
     "isSourceIdPinned": true,
     "modelId": 436802,
     "modelInstanceId": 419142,
     "sourceId": 548449,
     "sourceType": "modelInstanceVersion"
    },
    {
     "isSourceIdPinned": true,
     "modelId": 437008,
     "modelInstanceId": 419350,
     "sourceId": 548703,
     "sourceType": "modelInstanceVersion"
    }
   ],
   "dockerImageVersionId": 31012,
   "isGpuEnabled": true,
   "isInternetEnabled": true,
   "language": "python",
   "sourceType": "notebook"
  },
  "kernelspec": {
   "display_name": "Python 3",
   "language": "python",
   "name": "python3"
  },
  "language_info": {
   "codemirror_mode": {
    "name": "ipython",
    "version": 3
   },
   "file_extension": ".py",
   "mimetype": "text/x-python",
   "name": "python",
   "nbconvert_exporter": "python",
   "pygments_lexer": "ipython3",
   "version": "3.11.11"
  },
  "papermill": {
   "default_parameters": {},
   "duration": 9390.321502,
   "end_time": "2025-08-27T17:31:08.663931",
   "environment_variables": {},
   "exception": null,
   "input_path": "__notebook__.ipynb",
   "output_path": "__notebook__.ipynb",
   "parameters": {},
   "start_time": "2025-08-27T14:54:38.342429",
   "version": "2.6.0"
  }
 },
 "nbformat": 4,
 "nbformat_minor": 5
}
