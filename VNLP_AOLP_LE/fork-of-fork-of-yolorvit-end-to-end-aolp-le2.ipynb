{
 "cells": [
  {
   "cell_type": "code",
   "execution_count": 1,
   "id": "b5b637b4",
   "metadata": {
    "_cell_guid": "55abfb31-1c60-49a5-a7cb-c41008cb6a59",
    "_uuid": "60cf27fe-3464-4b01-be91-8065751652e9",
    "collapsed": false,
    "execution": {
     "iopub.execute_input": "2025-08-26T09:55:46.573011Z",
     "iopub.status.busy": "2025-08-26T09:55:46.572809Z",
     "iopub.status.idle": "2025-08-26T09:57:06.846480Z",
     "shell.execute_reply": "2025-08-26T09:57:06.845740Z"
    },
    "jupyter": {
     "outputs_hidden": false
    },
    "papermill": {
     "duration": 80.278633,
     "end_time": "2025-08-26T09:57:06.847765",
     "exception": false,
     "start_time": "2025-08-26T09:55:46.569132",
     "status": "completed"
    },
    "tags": []
   },
   "outputs": [
    {
     "name": "stdout",
     "output_type": "stream",
     "text": [
      "Collecting ultralytics\r\n",
      "  Downloading ultralytics-8.3.186-py3-none-any.whl.metadata (37 kB)\r\n",
      "Requirement already satisfied: numpy>=1.23.0 in /usr/local/lib/python3.11/dist-packages (from ultralytics) (1.26.4)\r\n",
      "Requirement already satisfied: matplotlib>=3.3.0 in /usr/local/lib/python3.11/dist-packages (from ultralytics) (3.7.5)\r\n",
      "Requirement already satisfied: opencv-python>=4.6.0 in /usr/local/lib/python3.11/dist-packages (from ultralytics) (4.11.0.86)\r\n",
      "Requirement already satisfied: pillow>=7.1.2 in /usr/local/lib/python3.11/dist-packages (from ultralytics) (11.1.0)\r\n",
      "Requirement already satisfied: pyyaml>=5.3.1 in /usr/local/lib/python3.11/dist-packages (from ultralytics) (6.0.2)\r\n",
      "Requirement already satisfied: requests>=2.23.0 in /usr/local/lib/python3.11/dist-packages (from ultralytics) (2.32.3)\r\n",
      "Requirement already satisfied: scipy>=1.4.1 in /usr/local/lib/python3.11/dist-packages (from ultralytics) (1.15.2)\r\n",
      "Requirement already satisfied: torch>=1.8.0 in /usr/local/lib/python3.11/dist-packages (from ultralytics) (2.5.1+cu124)\r\n",
      "Requirement already satisfied: torchvision>=0.9.0 in /usr/local/lib/python3.11/dist-packages (from ultralytics) (0.20.1+cu124)\r\n",
      "Requirement already satisfied: psutil in /usr/local/lib/python3.11/dist-packages (from ultralytics) (7.0.0)\r\n",
      "Requirement already satisfied: py-cpuinfo in /usr/local/lib/python3.11/dist-packages (from ultralytics) (9.0.0)\r\n",
      "Requirement already satisfied: pandas>=1.1.4 in /usr/local/lib/python3.11/dist-packages (from ultralytics) (2.2.3)\r\n",
      "Collecting ultralytics-thop>=2.0.0 (from ultralytics)\r\n",
      "  Downloading ultralytics_thop-2.0.16-py3-none-any.whl.metadata (14 kB)\r\n",
      "Requirement already satisfied: contourpy>=1.0.1 in /usr/local/lib/python3.11/dist-packages (from matplotlib>=3.3.0->ultralytics) (1.3.1)\r\n",
      "Requirement already satisfied: cycler>=0.10 in /usr/local/lib/python3.11/dist-packages (from matplotlib>=3.3.0->ultralytics) (0.12.1)\r\n",
      "Requirement already satisfied: fonttools>=4.22.0 in /usr/local/lib/python3.11/dist-packages (from matplotlib>=3.3.0->ultralytics) (4.56.0)\r\n",
      "Requirement already satisfied: kiwisolver>=1.0.1 in /usr/local/lib/python3.11/dist-packages (from matplotlib>=3.3.0->ultralytics) (1.4.8)\r\n",
      "Requirement already satisfied: packaging>=20.0 in /usr/local/lib/python3.11/dist-packages (from matplotlib>=3.3.0->ultralytics) (24.2)\r\n",
      "Requirement already satisfied: pyparsing>=2.3.1 in /usr/local/lib/python3.11/dist-packages (from matplotlib>=3.3.0->ultralytics) (3.2.1)\r\n",
      "Requirement already satisfied: python-dateutil>=2.7 in /usr/local/lib/python3.11/dist-packages (from matplotlib>=3.3.0->ultralytics) (2.9.0.post0)\r\n",
      "Requirement already satisfied: mkl_fft in /usr/local/lib/python3.11/dist-packages (from numpy>=1.23.0->ultralytics) (1.3.8)\r\n",
      "Requirement already satisfied: mkl_random in /usr/local/lib/python3.11/dist-packages (from numpy>=1.23.0->ultralytics) (1.2.4)\r\n",
      "Requirement already satisfied: mkl_umath in /usr/local/lib/python3.11/dist-packages (from numpy>=1.23.0->ultralytics) (0.1.1)\r\n",
      "Requirement already satisfied: mkl in /usr/local/lib/python3.11/dist-packages (from numpy>=1.23.0->ultralytics) (2025.1.0)\r\n",
      "Requirement already satisfied: tbb4py in /usr/local/lib/python3.11/dist-packages (from numpy>=1.23.0->ultralytics) (2022.1.0)\r\n",
      "Requirement already satisfied: mkl-service in /usr/local/lib/python3.11/dist-packages (from numpy>=1.23.0->ultralytics) (2.4.1)\r\n",
      "Requirement already satisfied: pytz>=2020.1 in /usr/local/lib/python3.11/dist-packages (from pandas>=1.1.4->ultralytics) (2025.2)\r\n",
      "Requirement already satisfied: tzdata>=2022.7 in /usr/local/lib/python3.11/dist-packages (from pandas>=1.1.4->ultralytics) (2025.2)\r\n",
      "Requirement already satisfied: charset-normalizer<4,>=2 in /usr/local/lib/python3.11/dist-packages (from requests>=2.23.0->ultralytics) (3.4.1)\r\n",
      "Requirement already satisfied: idna<4,>=2.5 in /usr/local/lib/python3.11/dist-packages (from requests>=2.23.0->ultralytics) (3.10)\r\n",
      "Requirement already satisfied: urllib3<3,>=1.21.1 in /usr/local/lib/python3.11/dist-packages (from requests>=2.23.0->ultralytics) (2.3.0)\r\n",
      "Requirement already satisfied: certifi>=2017.4.17 in /usr/local/lib/python3.11/dist-packages (from requests>=2.23.0->ultralytics) (2025.1.31)\r\n",
      "Requirement already satisfied: filelock in /usr/local/lib/python3.11/dist-packages (from torch>=1.8.0->ultralytics) (3.18.0)\r\n",
      "Requirement already satisfied: typing-extensions>=4.8.0 in /usr/local/lib/python3.11/dist-packages (from torch>=1.8.0->ultralytics) (4.13.1)\r\n",
      "Requirement already satisfied: networkx in /usr/local/lib/python3.11/dist-packages (from torch>=1.8.0->ultralytics) (3.4.2)\r\n",
      "Requirement already satisfied: jinja2 in /usr/local/lib/python3.11/dist-packages (from torch>=1.8.0->ultralytics) (3.1.6)\r\n",
      "Requirement already satisfied: fsspec in /usr/local/lib/python3.11/dist-packages (from torch>=1.8.0->ultralytics) (2025.3.2)\r\n",
      "Requirement already satisfied: nvidia-cuda-nvrtc-cu12==12.4.127 in /usr/local/lib/python3.11/dist-packages (from torch>=1.8.0->ultralytics) (12.4.127)\r\n",
      "Requirement already satisfied: nvidia-cuda-runtime-cu12==12.4.127 in /usr/local/lib/python3.11/dist-packages (from torch>=1.8.0->ultralytics) (12.4.127)\r\n",
      "Requirement already satisfied: nvidia-cuda-cupti-cu12==12.4.127 in /usr/local/lib/python3.11/dist-packages (from torch>=1.8.0->ultralytics) (12.4.127)\r\n",
      "Collecting nvidia-cudnn-cu12==9.1.0.70 (from torch>=1.8.0->ultralytics)\r\n",
      "  Downloading nvidia_cudnn_cu12-9.1.0.70-py3-none-manylinux2014_x86_64.whl.metadata (1.6 kB)\r\n",
      "Collecting nvidia-cublas-cu12==12.4.5.8 (from torch>=1.8.0->ultralytics)\r\n",
      "  Downloading nvidia_cublas_cu12-12.4.5.8-py3-none-manylinux2014_x86_64.whl.metadata (1.5 kB)\r\n",
      "Collecting nvidia-cufft-cu12==11.2.1.3 (from torch>=1.8.0->ultralytics)\r\n",
      "  Downloading nvidia_cufft_cu12-11.2.1.3-py3-none-manylinux2014_x86_64.whl.metadata (1.5 kB)\r\n",
      "Collecting nvidia-curand-cu12==10.3.5.147 (from torch>=1.8.0->ultralytics)\r\n",
      "  Downloading nvidia_curand_cu12-10.3.5.147-py3-none-manylinux2014_x86_64.whl.metadata (1.5 kB)\r\n",
      "Collecting nvidia-cusolver-cu12==11.6.1.9 (from torch>=1.8.0->ultralytics)\r\n",
      "  Downloading nvidia_cusolver_cu12-11.6.1.9-py3-none-manylinux2014_x86_64.whl.metadata (1.6 kB)\r\n",
      "Collecting nvidia-cusparse-cu12==12.3.1.170 (from torch>=1.8.0->ultralytics)\r\n",
      "  Downloading nvidia_cusparse_cu12-12.3.1.170-py3-none-manylinux2014_x86_64.whl.metadata (1.6 kB)\r\n",
      "Requirement already satisfied: nvidia-nccl-cu12==2.21.5 in /usr/local/lib/python3.11/dist-packages (from torch>=1.8.0->ultralytics) (2.21.5)\r\n",
      "Requirement already satisfied: nvidia-nvtx-cu12==12.4.127 in /usr/local/lib/python3.11/dist-packages (from torch>=1.8.0->ultralytics) (12.4.127)\r\n",
      "Collecting nvidia-nvjitlink-cu12==12.4.127 (from torch>=1.8.0->ultralytics)\r\n",
      "  Downloading nvidia_nvjitlink_cu12-12.4.127-py3-none-manylinux2014_x86_64.whl.metadata (1.5 kB)\r\n",
      "Requirement already satisfied: triton==3.1.0 in /usr/local/lib/python3.11/dist-packages (from torch>=1.8.0->ultralytics) (3.1.0)\r\n",
      "Requirement already satisfied: sympy==1.13.1 in /usr/local/lib/python3.11/dist-packages (from torch>=1.8.0->ultralytics) (1.13.1)\r\n",
      "Requirement already satisfied: mpmath<1.4,>=1.1.0 in /usr/local/lib/python3.11/dist-packages (from sympy==1.13.1->torch>=1.8.0->ultralytics) (1.3.0)\r\n",
      "Requirement already satisfied: six>=1.5 in /usr/local/lib/python3.11/dist-packages (from python-dateutil>=2.7->matplotlib>=3.3.0->ultralytics) (1.17.0)\r\n",
      "Requirement already satisfied: MarkupSafe>=2.0 in /usr/local/lib/python3.11/dist-packages (from jinja2->torch>=1.8.0->ultralytics) (3.0.2)\r\n",
      "Requirement already satisfied: intel-openmp<2026,>=2024 in /usr/local/lib/python3.11/dist-packages (from mkl->numpy>=1.23.0->ultralytics) (2024.2.0)\r\n",
      "Requirement already satisfied: tbb==2022.* in /usr/local/lib/python3.11/dist-packages (from mkl->numpy>=1.23.0->ultralytics) (2022.1.0)\r\n",
      "Requirement already satisfied: tcmlib==1.* in /usr/local/lib/python3.11/dist-packages (from tbb==2022.*->mkl->numpy>=1.23.0->ultralytics) (1.2.0)\r\n",
      "Requirement already satisfied: intel-cmplr-lib-rt in /usr/local/lib/python3.11/dist-packages (from mkl_umath->numpy>=1.23.0->ultralytics) (2024.2.0)\r\n",
      "Requirement already satisfied: intel-cmplr-lib-ur==2024.2.0 in /usr/local/lib/python3.11/dist-packages (from intel-openmp<2026,>=2024->mkl->numpy>=1.23.0->ultralytics) (2024.2.0)\r\n",
      "Downloading ultralytics-8.3.186-py3-none-any.whl (1.1 MB)\r\n",
      "\u001b[2K   \u001b[90m━━━━━━━━━━━━━━━━━━━━━━━━━━━━━━━━━━━━━━━━\u001b[0m \u001b[32m1.1/1.1 MB\u001b[0m \u001b[31m18.4 MB/s\u001b[0m eta \u001b[36m0:00:00\u001b[0m\r\n",
      "\u001b[?25hDownloading nvidia_cublas_cu12-12.4.5.8-py3-none-manylinux2014_x86_64.whl (363.4 MB)\r\n",
      "\u001b[2K   \u001b[90m━━━━━━━━━━━━━━━━━━━━━━━━━━━━━━━━━━━━━━━━\u001b[0m \u001b[32m363.4/363.4 MB\u001b[0m \u001b[31m4.8 MB/s\u001b[0m eta \u001b[36m0:00:00\u001b[0m\r\n",
      "\u001b[?25hDownloading nvidia_cudnn_cu12-9.1.0.70-py3-none-manylinux2014_x86_64.whl (664.8 MB)\r\n",
      "\u001b[2K   \u001b[90m━━━━━━━━━━━━━━━━━━━━━━━━━━━━━━━━━━━━━━━━\u001b[0m \u001b[32m664.8/664.8 MB\u001b[0m \u001b[31m2.6 MB/s\u001b[0m eta \u001b[36m0:00:00\u001b[0m\r\n",
      "\u001b[?25hDownloading nvidia_cufft_cu12-11.2.1.3-py3-none-manylinux2014_x86_64.whl (211.5 MB)\r\n",
      "\u001b[2K   \u001b[90m━━━━━━━━━━━━━━━━━━━━━━━━━━━━━━━━━━━━━━━━\u001b[0m \u001b[32m211.5/211.5 MB\u001b[0m \u001b[31m8.1 MB/s\u001b[0m eta \u001b[36m0:00:00\u001b[0m\r\n",
      "\u001b[?25hDownloading nvidia_curand_cu12-10.3.5.147-py3-none-manylinux2014_x86_64.whl (56.3 MB)\r\n",
      "\u001b[2K   \u001b[90m━━━━━━━━━━━━━━━━━━━━━━━━━━━━━━━━━━━━━━━━\u001b[0m \u001b[32m56.3/56.3 MB\u001b[0m \u001b[31m29.2 MB/s\u001b[0m eta \u001b[36m0:00:00\u001b[0m\r\n",
      "\u001b[?25hDownloading nvidia_cusolver_cu12-11.6.1.9-py3-none-manylinux2014_x86_64.whl (127.9 MB)\r\n",
      "\u001b[2K   \u001b[90m━━━━━━━━━━━━━━━━━━━━━━━━━━━━━━━━━━━━━━━━\u001b[0m \u001b[32m127.9/127.9 MB\u001b[0m \u001b[31m13.6 MB/s\u001b[0m eta \u001b[36m0:00:00\u001b[0m\r\n",
      "\u001b[?25hDownloading nvidia_cusparse_cu12-12.3.1.170-py3-none-manylinux2014_x86_64.whl (207.5 MB)\r\n",
      "\u001b[2K   \u001b[90m━━━━━━━━━━━━━━━━━━━━━━━━━━━━━━━━━━━━━━━━\u001b[0m \u001b[32m207.5/207.5 MB\u001b[0m \u001b[31m8.3 MB/s\u001b[0m eta \u001b[36m0:00:00\u001b[0m\r\n",
      "\u001b[?25hDownloading nvidia_nvjitlink_cu12-12.4.127-py3-none-manylinux2014_x86_64.whl (21.1 MB)\r\n",
      "\u001b[2K   \u001b[90m━━━━━━━━━━━━━━━━━━━━━━━━━━━━━━━━━━━━━━━━\u001b[0m \u001b[32m21.1/21.1 MB\u001b[0m \u001b[31m69.1 MB/s\u001b[0m eta \u001b[36m0:00:00\u001b[0m\r\n",
      "\u001b[?25hDownloading ultralytics_thop-2.0.16-py3-none-any.whl (28 kB)\r\n",
      "Installing collected packages: nvidia-nvjitlink-cu12, nvidia-curand-cu12, nvidia-cufft-cu12, nvidia-cublas-cu12, nvidia-cusparse-cu12, nvidia-cudnn-cu12, nvidia-cusolver-cu12, ultralytics-thop, ultralytics\r\n",
      "  Attempting uninstall: nvidia-nvjitlink-cu12\r\n",
      "    Found existing installation: nvidia-nvjitlink-cu12 12.8.93\r\n",
      "    Uninstalling nvidia-nvjitlink-cu12-12.8.93:\r\n",
      "      Successfully uninstalled nvidia-nvjitlink-cu12-12.8.93\r\n",
      "  Attempting uninstall: nvidia-curand-cu12\r\n",
      "    Found existing installation: nvidia-curand-cu12 10.3.9.90\r\n",
      "    Uninstalling nvidia-curand-cu12-10.3.9.90:\r\n",
      "      Successfully uninstalled nvidia-curand-cu12-10.3.9.90\r\n",
      "  Attempting uninstall: nvidia-cufft-cu12\r\n",
      "    Found existing installation: nvidia-cufft-cu12 11.3.3.83\r\n",
      "    Uninstalling nvidia-cufft-cu12-11.3.3.83:\r\n",
      "      Successfully uninstalled nvidia-cufft-cu12-11.3.3.83\r\n",
      "  Attempting uninstall: nvidia-cublas-cu12\r\n",
      "    Found existing installation: nvidia-cublas-cu12 12.8.4.1\r\n",
      "    Uninstalling nvidia-cublas-cu12-12.8.4.1:\r\n",
      "      Successfully uninstalled nvidia-cublas-cu12-12.8.4.1\r\n",
      "  Attempting uninstall: nvidia-cusparse-cu12\r\n",
      "    Found existing installation: nvidia-cusparse-cu12 12.5.8.93\r\n",
      "    Uninstalling nvidia-cusparse-cu12-12.5.8.93:\r\n",
      "      Successfully uninstalled nvidia-cusparse-cu12-12.5.8.93\r\n",
      "  Attempting uninstall: nvidia-cudnn-cu12\r\n",
      "    Found existing installation: nvidia-cudnn-cu12 9.3.0.75\r\n",
      "    Uninstalling nvidia-cudnn-cu12-9.3.0.75:\r\n",
      "      Successfully uninstalled nvidia-cudnn-cu12-9.3.0.75\r\n",
      "  Attempting uninstall: nvidia-cusolver-cu12\r\n",
      "    Found existing installation: nvidia-cusolver-cu12 11.7.3.90\r\n",
      "    Uninstalling nvidia-cusolver-cu12-11.7.3.90:\r\n",
      "      Successfully uninstalled nvidia-cusolver-cu12-11.7.3.90\r\n",
      "\u001b[31mERROR: pip's dependency resolver does not currently take into account all the packages that are installed. This behaviour is the source of the following dependency conflicts.\r\n",
      "pylibcugraph-cu12 24.12.0 requires pylibraft-cu12==24.12.*, but you have pylibraft-cu12 25.2.0 which is incompatible.\r\n",
      "pylibcugraph-cu12 24.12.0 requires rmm-cu12==24.12.*, but you have rmm-cu12 25.2.0 which is incompatible.\u001b[0m\u001b[31m\r\n",
      "\u001b[0mSuccessfully installed nvidia-cublas-cu12-12.4.5.8 nvidia-cudnn-cu12-9.1.0.70 nvidia-cufft-cu12-11.2.1.3 nvidia-curand-cu12-10.3.5.147 nvidia-cusolver-cu12-11.6.1.9 nvidia-cusparse-cu12-12.3.1.170 nvidia-nvjitlink-cu12-12.4.127 ultralytics-8.3.186 ultralytics-thop-2.0.16\r\n",
      "Collecting torchtoolbox\r\n",
      "  Downloading torchtoolbox-0.1.8.2-py3-none-any.whl.metadata (15 kB)\r\n",
      "Requirement already satisfied: numpy in /usr/local/lib/python3.11/dist-packages (from torchtoolbox) (1.26.4)\r\n",
      "Requirement already satisfied: tqdm in /usr/local/lib/python3.11/dist-packages (from torchtoolbox) (4.67.1)\r\n",
      "Requirement already satisfied: pyarrow in /usr/local/lib/python3.11/dist-packages (from torchtoolbox) (19.0.1)\r\n",
      "Requirement already satisfied: six in /usr/local/lib/python3.11/dist-packages (from torchtoolbox) (1.17.0)\r\n",
      "Collecting lmdb (from torchtoolbox)\r\n",
      "  Downloading lmdb-1.7.3-cp311-cp311-manylinux_2_17_x86_64.manylinux2014_x86_64.whl.metadata (1.3 kB)\r\n",
      "Requirement already satisfied: scikit-learn in /usr/local/lib/python3.11/dist-packages (from torchtoolbox) (1.2.2)\r\n",
      "Requirement already satisfied: scipy in /usr/local/lib/python3.11/dist-packages (from torchtoolbox) (1.15.2)\r\n",
      "Requirement already satisfied: opencv-python in /usr/local/lib/python3.11/dist-packages (from torchtoolbox) (4.11.0.86)\r\n",
      "Requirement already satisfied: pyyaml in /usr/local/lib/python3.11/dist-packages (from torchtoolbox) (6.0.2)\r\n",
      "Requirement already satisfied: tensorboard in /usr/local/lib/python3.11/dist-packages (from torchtoolbox) (2.18.0)\r\n",
      "Requirement already satisfied: prettytable in /usr/local/lib/python3.11/dist-packages (from torchtoolbox) (3.14.0)\r\n",
      "Requirement already satisfied: transformers in /usr/local/lib/python3.11/dist-packages (from torchtoolbox) (4.51.1)\r\n",
      "Requirement already satisfied: mkl_fft in /usr/local/lib/python3.11/dist-packages (from numpy->torchtoolbox) (1.3.8)\r\n",
      "Requirement already satisfied: mkl_random in /usr/local/lib/python3.11/dist-packages (from numpy->torchtoolbox) (1.2.4)\r\n",
      "Requirement already satisfied: mkl_umath in /usr/local/lib/python3.11/dist-packages (from numpy->torchtoolbox) (0.1.1)\r\n",
      "Requirement already satisfied: mkl in /usr/local/lib/python3.11/dist-packages (from numpy->torchtoolbox) (2025.1.0)\r\n",
      "Requirement already satisfied: tbb4py in /usr/local/lib/python3.11/dist-packages (from numpy->torchtoolbox) (2022.1.0)\r\n",
      "Requirement already satisfied: mkl-service in /usr/local/lib/python3.11/dist-packages (from numpy->torchtoolbox) (2.4.1)\r\n",
      "Requirement already satisfied: wcwidth in /usr/local/lib/python3.11/dist-packages (from prettytable->torchtoolbox) (0.2.13)\r\n",
      "Requirement already satisfied: joblib>=1.1.1 in /usr/local/lib/python3.11/dist-packages (from scikit-learn->torchtoolbox) (1.4.2)\r\n",
      "Requirement already satisfied: threadpoolctl>=2.0.0 in /usr/local/lib/python3.11/dist-packages (from scikit-learn->torchtoolbox) (3.6.0)\r\n",
      "Requirement already satisfied: absl-py>=0.4 in /usr/local/lib/python3.11/dist-packages (from tensorboard->torchtoolbox) (1.4.0)\r\n",
      "Requirement already satisfied: grpcio>=1.48.2 in /usr/local/lib/python3.11/dist-packages (from tensorboard->torchtoolbox) (1.70.0)\r\n",
      "Requirement already satisfied: markdown>=2.6.8 in /usr/local/lib/python3.11/dist-packages (from tensorboard->torchtoolbox) (3.7)\r\n",
      "Requirement already satisfied: packaging in /usr/local/lib/python3.11/dist-packages (from tensorboard->torchtoolbox) (24.2)\r\n",
      "Requirement already satisfied: protobuf!=4.24.0,>=3.19.6 in /usr/local/lib/python3.11/dist-packages (from tensorboard->torchtoolbox) (3.20.3)\r\n",
      "Requirement already satisfied: setuptools>=41.0.0 in /usr/local/lib/python3.11/dist-packages (from tensorboard->torchtoolbox) (75.1.0)\r\n",
      "Requirement already satisfied: tensorboard-data-server<0.8.0,>=0.7.0 in /usr/local/lib/python3.11/dist-packages (from tensorboard->torchtoolbox) (0.7.2)\r\n",
      "Requirement already satisfied: werkzeug>=1.0.1 in /usr/local/lib/python3.11/dist-packages (from tensorboard->torchtoolbox) (3.1.3)\r\n",
      "Requirement already satisfied: filelock in /usr/local/lib/python3.11/dist-packages (from transformers->torchtoolbox) (3.18.0)\r\n",
      "Requirement already satisfied: huggingface-hub<1.0,>=0.30.0 in /usr/local/lib/python3.11/dist-packages (from transformers->torchtoolbox) (0.30.2)\r\n",
      "Requirement already satisfied: regex!=2019.12.17 in /usr/local/lib/python3.11/dist-packages (from transformers->torchtoolbox) (2024.11.6)\r\n",
      "Requirement already satisfied: requests in /usr/local/lib/python3.11/dist-packages (from transformers->torchtoolbox) (2.32.3)\r\n",
      "Requirement already satisfied: tokenizers<0.22,>=0.21 in /usr/local/lib/python3.11/dist-packages (from transformers->torchtoolbox) (0.21.0)\r\n",
      "Requirement already satisfied: safetensors>=0.4.3 in /usr/local/lib/python3.11/dist-packages (from transformers->torchtoolbox) (0.5.2)\r\n",
      "Requirement already satisfied: fsspec>=2023.5.0 in /usr/local/lib/python3.11/dist-packages (from huggingface-hub<1.0,>=0.30.0->transformers->torchtoolbox) (2025.3.2)\r\n",
      "Requirement already satisfied: typing-extensions>=3.7.4.3 in /usr/local/lib/python3.11/dist-packages (from huggingface-hub<1.0,>=0.30.0->transformers->torchtoolbox) (4.13.1)\r\n",
      "Requirement already satisfied: MarkupSafe>=2.1.1 in /usr/local/lib/python3.11/dist-packages (from werkzeug>=1.0.1->tensorboard->torchtoolbox) (3.0.2)\r\n",
      "Requirement already satisfied: intel-openmp<2026,>=2024 in /usr/local/lib/python3.11/dist-packages (from mkl->numpy->torchtoolbox) (2024.2.0)\r\n",
      "Requirement already satisfied: tbb==2022.* in /usr/local/lib/python3.11/dist-packages (from mkl->numpy->torchtoolbox) (2022.1.0)\r\n",
      "Requirement already satisfied: tcmlib==1.* in /usr/local/lib/python3.11/dist-packages (from tbb==2022.*->mkl->numpy->torchtoolbox) (1.2.0)\r\n",
      "Requirement already satisfied: intel-cmplr-lib-rt in /usr/local/lib/python3.11/dist-packages (from mkl_umath->numpy->torchtoolbox) (2024.2.0)\r\n",
      "Requirement already satisfied: charset-normalizer<4,>=2 in /usr/local/lib/python3.11/dist-packages (from requests->transformers->torchtoolbox) (3.4.1)\r\n",
      "Requirement already satisfied: idna<4,>=2.5 in /usr/local/lib/python3.11/dist-packages (from requests->transformers->torchtoolbox) (3.10)\r\n",
      "Requirement already satisfied: urllib3<3,>=1.21.1 in /usr/local/lib/python3.11/dist-packages (from requests->transformers->torchtoolbox) (2.3.0)\r\n",
      "Requirement already satisfied: certifi>=2017.4.17 in /usr/local/lib/python3.11/dist-packages (from requests->transformers->torchtoolbox) (2025.1.31)\r\n",
      "Requirement already satisfied: intel-cmplr-lib-ur==2024.2.0 in /usr/local/lib/python3.11/dist-packages (from intel-openmp<2026,>=2024->mkl->numpy->torchtoolbox) (2024.2.0)\r\n",
      "Downloading torchtoolbox-0.1.8.2-py3-none-any.whl (84 kB)\r\n",
      "\u001b[2K   \u001b[90m━━━━━━━━━━━━━━━━━━━━━━━━━━━━━━━━━━━━━━━━\u001b[0m \u001b[32m85.0/85.0 kB\u001b[0m \u001b[31m2.9 MB/s\u001b[0m eta \u001b[36m0:00:00\u001b[0m\r\n",
      "\u001b[?25hDownloading lmdb-1.7.3-cp311-cp311-manylinux_2_17_x86_64.manylinux2014_x86_64.whl (299 kB)\r\n",
      "\u001b[2K   \u001b[90m━━━━━━━━━━━━━━━━━━━━━━━━━━━━━━━━━━━━━━━━\u001b[0m \u001b[32m299.6/299.6 kB\u001b[0m \u001b[31m11.0 MB/s\u001b[0m eta \u001b[36m0:00:00\u001b[0m\r\n",
      "\u001b[?25hInstalling collected packages: lmdb, torchtoolbox\r\n",
      "Successfully installed lmdb-1.7.3 torchtoolbox-0.1.8.2\r\n"
     ]
    }
   ],
   "source": [
    "!pip install ultralytics\n",
    "!pip install torchtoolbox"
   ]
  },
  {
   "cell_type": "code",
   "execution_count": 2,
   "id": "9726d66b",
   "metadata": {
    "_cell_guid": "ce002dac-6244-4ae1-bb99-fe50fc16facf",
    "_uuid": "53cc777f-65c1-41dd-8651-81e1154c5272",
    "collapsed": false,
    "execution": {
     "iopub.execute_input": "2025-08-26T09:57:06.886110Z",
     "iopub.status.busy": "2025-08-26T09:57:06.885846Z",
     "iopub.status.idle": "2025-08-26T12:35:27.472953Z",
     "shell.execute_reply": "2025-08-26T12:35:27.472096Z"
    },
    "jupyter": {
     "outputs_hidden": false
    },
    "papermill": {
     "duration": 9500.608638,
     "end_time": "2025-08-26T12:35:27.474903",
     "exception": false,
     "start_time": "2025-08-26T09:57:06.866265",
     "status": "completed"
    },
    "tags": []
   },
   "outputs": [
    {
     "name": "stdout",
     "output_type": "stream",
     "text": [
      "Creating new Ultralytics Settings v0.0.6 file ✅ \n",
      "View Ultralytics Settings with 'yolo settings' or at '/root/.config/Ultralytics/settings.json'\n",
      "Update Settings with 'yolo settings key=value', i.e. 'yolo settings runs_dir=path/to/dir'. For help see https://docs.ultralytics.com/quickstart/#ultralytics-settings.\n"
     ]
    },
    {
     "name": "stderr",
     "output_type": "stream",
     "text": [
      "/usr/local/lib/python3.11/dist-packages/torch/nn/modules/transformer.py:379: UserWarning: enable_nested_tensor is True, but self.use_nested_tensor is False because encoder_layer.norm_first was True\n",
      "  warnings.warn(\n",
      "/tmp/ipykernel_19/1241315605.py:370: FutureWarning: You are using `torch.load` with `weights_only=False` (the current default value), which uses the default pickle module implicitly. It is possible to construct malicious pickle data which will execute arbitrary code during unpickling (See https://github.com/pytorch/pytorch/blob/main/SECURITY.md#untrusted-models for more details). In a future release, the default value for `weights_only` will be flipped to `True`. This limits the functions that could be executed during unpickling. Arbitrary objects will no longer be allowed to be loaded via this mode unless they are explicitly allowlisted by the user via `torch.serialization.add_safe_globals`. We recommend you start setting `weights_only=True` for any use case where you don't have full control of the loaded file. Please open an issue on GitHub for any issues related to this experimental feature.\n",
      "  checkpoint = torch.load(\"/kaggle/input/yolo_rvt_aolp_le35/pytorch/default/1/best_yolo_rvit_model35.pth\", map_location=DEVICE)\n",
      "Epoch 1/100 [TRAIN] LR: 3.24e-05 Teach: 0.70 Scheduler: OneCycleLR:   2%|▎         | 1/40 [00:07<05:00,  7.70s/it, loss=0.714]"
     ]
    },
    {
     "name": "stdout",
     "output_type": "stream",
     "text": [
      "\n",
      "--- Training Batch 0 Examples (Content Only) ---\n",
      "  Pred: 'Y74445'\n",
      "  True: 'Y74445'\n",
      "  Pred: 'DE4617'\n",
      "  True: 'DE4617'\n",
      "  Pred: '3329FJ'\n",
      "  True: '3329FJ'\n",
      "  Pred: 'L55466'\n",
      "  True: 'L55466'\n",
      "  Pred: 'GS3491'\n",
      "  True: 'GS3491'\n",
      "-------------------------------\n"
     ]
    },
    {
     "name": "stderr",
     "output_type": "stream",
     "text": [
      "Epoch 1/100 [TRAIN] LR: 3.24e-05 Teach: 0.70 Scheduler: OneCycleLR: 100%|██████████| 40/40 [00:54<00:00,  1.37s/it, loss=0.76]\n",
      "Epoch 1/100 [VAL]: 100%|██████████| 24/24 [00:35<00:00,  1.50s/it, loss=0.808]\n"
     ]
    },
    {
     "name": "stdout",
     "output_type": "stream",
     "text": [
      "EarlyStopping: New best val_acc: 0.9573\n",
      "\n",
      "Epoch 1/100 | LR: 5.28e-05 | Teach: 0.70 | Scheduler: OneCycleLR\n",
      "  Train Loss: 0.7288 | Train Char Acc: 0.9926\n",
      "  Val Loss: 0.8261   | Val Acc (CRR): 0.9573\n",
      "  Val Exact Match Acc (E2E RR): 0.8164\n",
      "----------------------------------------------------------------------\n",
      "*** New best validation accuracy: 0.9573. Saving best_model.pth ***\n"
     ]
    },
    {
     "name": "stderr",
     "output_type": "stream",
     "text": [
      "Epoch 2/100 [TRAIN] LR: 5.28e-05 Teach: 0.69 Scheduler: OneCycleLR:   2%|▎         | 1/40 [00:05<03:30,  5.41s/it, loss=0.766]"
     ]
    },
    {
     "name": "stdout",
     "output_type": "stream",
     "text": [
      "\n",
      "--- Training Batch 0 Examples (Content Only) ---\n",
      "  Pred: 'DX7655'\n",
      "  True: 'DX7655'\n",
      "  Pred: '5615JQ'\n",
      "  True: '5615JQ'\n",
      "  Pred: '9109QY'\n",
      "  True: '9109QY'\n",
      "  Pred: 'CY1757'\n",
      "  True: 'CY1757'\n",
      "  Pred: '8B1505'\n",
      "  True: '8B1505'\n",
      "-------------------------------\n"
     ]
    },
    {
     "name": "stderr",
     "output_type": "stream",
     "text": [
      "Epoch 2/100 [TRAIN] LR: 5.28e-05 Teach: 0.69 Scheduler: OneCycleLR: 100%|██████████| 40/40 [00:57<00:00,  1.44s/it, loss=0.709]\n",
      "Epoch 2/100 [VAL]: 100%|██████████| 24/24 [00:35<00:00,  1.49s/it, loss=0.814]\n"
     ]
    },
    {
     "name": "stdout",
     "output_type": "stream",
     "text": [
      "EarlyStopping: New best val_acc: 0.9584\n",
      "\n",
      "Epoch 2/100 | LR: 6.11e-05 | Teach: 0.69 | Scheduler: OneCycleLR\n",
      "  Train Loss: 0.7293 | Train Char Acc: 0.9917\n",
      "  Val Loss: 0.8240   | Val Acc (CRR): 0.9584\n",
      "  Val Exact Match Acc (E2E RR): 0.8203\n",
      "----------------------------------------------------------------------\n",
      "*** New best validation accuracy: 0.9584. Saving best_model.pth ***\n"
     ]
    },
    {
     "name": "stderr",
     "output_type": "stream",
     "text": [
      "Epoch 3/100 [TRAIN] LR: 6.11e-05 Teach: 0.69 Scheduler: OneCycleLR:   2%|▎         | 1/40 [00:06<03:54,  6.00s/it, loss=0.718]"
     ]
    },
    {
     "name": "stdout",
     "output_type": "stream",
     "text": [
      "\n",
      "--- Training Batch 0 Examples (Content Only) ---\n",
      "  Pred: 'CS2527'\n",
      "  True: 'CS2527'\n",
      "  Pred: 'S54578'\n",
      "  True: 'S54578'\n",
      "  Pred: '9161KD'\n",
      "  True: '9161KD'\n",
      "  Pred: '0366DM'\n",
      "  True: '0366DM'\n",
      "  Pred: 'HY1182'\n",
      "  True: 'HY1182'\n",
      "-------------------------------\n"
     ]
    },
    {
     "name": "stderr",
     "output_type": "stream",
     "text": [
      "Epoch 3/100 [TRAIN] LR: 6.11e-05 Teach: 0.69 Scheduler: OneCycleLR: 100%|██████████| 40/40 [00:59<00:00,  1.48s/it, loss=0.709]\n",
      "Epoch 3/100 [VAL]: 100%|██████████| 24/24 [00:35<00:00,  1.47s/it, loss=0.812]\n"
     ]
    },
    {
     "name": "stdout",
     "output_type": "stream",
     "text": [
      "EarlyStopping counter: 1/100 (Best val_acc: 0.9584)\n",
      "\n",
      "Epoch 3/100 | LR: 7.46e-05 | Teach: 0.69 | Scheduler: OneCycleLR\n",
      "  Train Loss: 0.7250 | Train Char Acc: 0.9934\n",
      "  Val Loss: 0.8254   | Val Acc (CRR): 0.9555\n",
      "  Val Exact Match Acc (E2E RR): 0.8164\n",
      "----------------------------------------------------------------------\n"
     ]
    },
    {
     "name": "stderr",
     "output_type": "stream",
     "text": [
      "Epoch 4/100 [TRAIN] LR: 7.46e-05 Teach: 0.68 Scheduler: OneCycleLR:   2%|▎         | 1/40 [00:05<03:52,  5.96s/it, loss=0.758]"
     ]
    },
    {
     "name": "stdout",
     "output_type": "stream",
     "text": [
      "\n",
      "--- Training Batch 0 Examples (Content Only) ---\n",
      "  Pred: '2286FE'\n",
      "  True: '2286FE'\n",
      "  Pred: '7750GJ'\n",
      "  True: '7750GJ'\n",
      "  Pred: '2209BB'\n",
      "  True: '2209BB'\n",
      "  Pred: '0982HJ'\n",
      "  True: '0982HJ'\n",
      "  Pred: '2B2439'\n",
      "  True: '2B2439'\n",
      "-------------------------------\n"
     ]
    },
    {
     "name": "stderr",
     "output_type": "stream",
     "text": [
      "Epoch 4/100 [TRAIN] LR: 7.46e-05 Teach: 0.68 Scheduler: OneCycleLR: 100%|██████████| 40/40 [00:59<00:00,  1.48s/it, loss=0.716]\n",
      "Epoch 4/100 [VAL]: 100%|██████████| 24/24 [00:35<00:00,  1.48s/it, loss=0.804]\n"
     ]
    },
    {
     "name": "stdout",
     "output_type": "stream",
     "text": [
      "EarlyStopping counter: 2/100 (Best val_acc: 0.9584)\n",
      "\n",
      "Epoch 4/100 | LR: 9.32e-05 | Teach: 0.68 | Scheduler: OneCycleLR\n",
      "  Train Loss: 0.7293 | Train Char Acc: 0.9921\n",
      "  Val Loss: 0.8246   | Val Acc (CRR): 0.9588\n",
      "  Val Exact Match Acc (E2E RR): 0.8230\n",
      "----------------------------------------------------------------------\n",
      "*** New best validation accuracy: 0.9588. Saving best_model.pth ***\n"
     ]
    },
    {
     "name": "stderr",
     "output_type": "stream",
     "text": [
      "Epoch 5/100 [TRAIN] LR: 9.32e-05 Teach: 0.67 Scheduler: OneCycleLR:   2%|▎         | 1/40 [00:06<03:54,  6.03s/it, loss=0.729]"
     ]
    },
    {
     "name": "stdout",
     "output_type": "stream",
     "text": [
      "\n",
      "--- Training Batch 0 Examples (Content Only) ---\n",
      "  Pred: '1837CC'\n",
      "  True: '1837CC'\n",
      "  Pred: '7556HL'\n",
      "  True: '7556HL'\n",
      "  Pred: 'U34281'\n",
      "  True: 'U34281'\n",
      "  Pred: 'BU3586'\n",
      "  True: 'BU3586'\n",
      "  Pred: 'Z81081'\n",
      "  True: 'Z81081'\n",
      "-------------------------------\n"
     ]
    },
    {
     "name": "stderr",
     "output_type": "stream",
     "text": [
      "Epoch 5/100 [TRAIN] LR: 9.32e-05 Teach: 0.67 Scheduler: OneCycleLR: 100%|██████████| 40/40 [00:59<00:00,  1.49s/it, loss=0.714]\n",
      "Epoch 5/100 [VAL]: 100%|██████████| 24/24 [00:35<00:00,  1.48s/it, loss=0.818]\n"
     ]
    },
    {
     "name": "stdout",
     "output_type": "stream",
     "text": [
      "EarlyStopping counter: 3/100 (Best val_acc: 0.9584)\n",
      "\n",
      "Epoch 5/100 | LR: 1.16e-04 | Teach: 0.67 | Scheduler: OneCycleLR\n",
      "  Train Loss: 0.7231 | Train Char Acc: 0.9948\n",
      "  Val Loss: 0.8340   | Val Acc (CRR): 0.9524\n",
      "  Val Exact Match Acc (E2E RR): 0.8032\n",
      "----------------------------------------------------------------------\n"
     ]
    },
    {
     "name": "stderr",
     "output_type": "stream",
     "text": [
      "Epoch 6/100 [TRAIN] LR: 1.16e-04 Teach: 0.67 Scheduler: OneCycleLR:   2%|▎         | 1/40 [00:05<03:30,  5.40s/it, loss=0.707]"
     ]
    },
    {
     "name": "stdout",
     "output_type": "stream",
     "text": [
      "\n",
      "--- Training Batch 0 Examples (Content Only) ---\n",
      "  Pred: '5613UF'\n",
      "  True: '5613UF'\n",
      "  Pred: '2A6132'\n",
      "  True: '2A6132'\n",
      "  Pred: '0982HJ'\n",
      "  True: '0982HJ'\n",
      "  Pred: '6060ER'\n",
      "  True: '6060ER'\n",
      "  Pred: '2256NU'\n",
      "  True: '2256NU'\n",
      "-------------------------------\n"
     ]
    },
    {
     "name": "stderr",
     "output_type": "stream",
     "text": [
      "Epoch 6/100 [TRAIN] LR: 1.16e-04 Teach: 0.67 Scheduler: OneCycleLR: 100%|██████████| 40/40 [00:58<00:00,  1.47s/it, loss=0.726]\n",
      "Epoch 6/100 [VAL]: 100%|██████████| 24/24 [00:35<00:00,  1.48s/it, loss=0.814]\n"
     ]
    },
    {
     "name": "stdout",
     "output_type": "stream",
     "text": [
      "EarlyStopping counter: 4/100 (Best val_acc: 0.9584)\n",
      "\n",
      "Epoch 6/100 | LR: 1.43e-04 | Teach: 0.67 | Scheduler: OneCycleLR\n",
      "  Train Loss: 0.7285 | Train Char Acc: 0.9935\n",
      "  Val Loss: 0.8377   | Val Acc (CRR): 0.9507\n",
      "  Val Exact Match Acc (E2E RR): 0.7952\n",
      "----------------------------------------------------------------------\n"
     ]
    },
    {
     "name": "stderr",
     "output_type": "stream",
     "text": [
      "Epoch 7/100 [TRAIN] LR: 1.43e-04 Teach: 0.66 Scheduler: OneCycleLR:   2%|▎         | 1/40 [00:05<03:31,  5.42s/it, loss=0.711]"
     ]
    },
    {
     "name": "stdout",
     "output_type": "stream",
     "text": [
      "\n",
      "--- Training Batch 0 Examples (Content Only) ---\n",
      "  Pred: '1985GW'\n",
      "  True: '1985GW'\n",
      "  Pred: '5638EF'\n",
      "  True: '5638EF'\n",
      "  Pred: '9E1715'\n",
      "  True: '9E1715'\n",
      "  Pred: 'DW8741'\n",
      "  True: 'DW8741'\n",
      "  Pred: '3382TR'\n",
      "  True: '3382TR'\n",
      "-------------------------------\n"
     ]
    },
    {
     "name": "stderr",
     "output_type": "stream",
     "text": [
      "Epoch 7/100 [TRAIN] LR: 1.43e-04 Teach: 0.66 Scheduler: OneCycleLR: 100%|██████████| 40/40 [00:58<00:00,  1.47s/it, loss=0.725]\n",
      "Epoch 7/100 [VAL]: 100%|██████████| 24/24 [00:35<00:00,  1.47s/it, loss=0.813]\n"
     ]
    },
    {
     "name": "stdout",
     "output_type": "stream",
     "text": [
      "EarlyStopping counter: 5/100 (Best val_acc: 0.9584)\n",
      "\n",
      "Epoch 7/100 | LR: 1.73e-04 | Teach: 0.66 | Scheduler: OneCycleLR\n",
      "  Train Loss: 0.7286 | Train Char Acc: 0.9923\n",
      "  Val Loss: 0.8357   | Val Acc (CRR): 0.9498\n",
      "  Val Exact Match Acc (E2E RR): 0.7952\n",
      "----------------------------------------------------------------------\n"
     ]
    },
    {
     "name": "stderr",
     "output_type": "stream",
     "text": [
      "Epoch 8/100 [TRAIN] LR: 1.73e-04 Teach: 0.65 Scheduler: OneCycleLR:   2%|▎         | 1/40 [00:05<03:33,  5.48s/it, loss=0.71]"
     ]
    },
    {
     "name": "stdout",
     "output_type": "stream",
     "text": [
      "\n",
      "--- Training Batch 0 Examples (Content Only) ---\n",
      "  Pred: '7F5053'\n",
      "  True: '7F5053'\n",
      "  Pred: '8327DT'\n",
      "  True: '8327DT'\n",
      "  Pred: '3970EA'\n",
      "  True: '3970EA'\n",
      "  Pred: '3368FK'\n",
      "  True: '3368FK'\n",
      "  Pred: 'KH6728'\n",
      "  True: 'KH6728'\n",
      "-------------------------------\n"
     ]
    },
    {
     "name": "stderr",
     "output_type": "stream",
     "text": [
      "Epoch 8/100 [TRAIN] LR: 1.73e-04 Teach: 0.65 Scheduler: OneCycleLR: 100%|██████████| 40/40 [00:59<00:00,  1.48s/it, loss=0.719]\n",
      "Epoch 8/100 [VAL]: 100%|██████████| 24/24 [00:35<00:00,  1.48s/it, loss=0.806]\n"
     ]
    },
    {
     "name": "stdout",
     "output_type": "stream",
     "text": [
      "EarlyStopping counter: 6/100 (Best val_acc: 0.9584)\n",
      "\n",
      "Epoch 8/100 | LR: 2.06e-04 | Teach: 0.65 | Scheduler: OneCycleLR\n",
      "  Train Loss: 0.7305 | Train Char Acc: 0.9915\n",
      "  Val Loss: 0.8267   | Val Acc (CRR): 0.9546\n",
      "  Val Exact Match Acc (E2E RR): 0.8190\n",
      "----------------------------------------------------------------------\n"
     ]
    },
    {
     "name": "stderr",
     "output_type": "stream",
     "text": [
      "Epoch 9/100 [TRAIN] LR: 2.06e-04 Teach: 0.65 Scheduler: OneCycleLR:   2%|▎         | 1/40 [00:05<03:49,  5.87s/it, loss=0.709]"
     ]
    },
    {
     "name": "stdout",
     "output_type": "stream",
     "text": [
      "\n",
      "--- Training Batch 0 Examples (Content Only) ---\n",
      "  Pred: '2B5617'\n",
      "  True: '2B5617'\n",
      "  Pred: 'CM9301'\n",
      "  True: 'CM9301'\n",
      "  Pred: 'CN2950'\n",
      "  True: 'CN2950'\n",
      "  Pred: '5609ET'\n",
      "  True: '5609ET'\n",
      "  Pred: '2H0311'\n",
      "  True: '2H0311'\n",
      "-------------------------------\n"
     ]
    },
    {
     "name": "stderr",
     "output_type": "stream",
     "text": [
      "Epoch 9/100 [TRAIN] LR: 2.06e-04 Teach: 0.65 Scheduler: OneCycleLR: 100%|██████████| 40/40 [00:59<00:00,  1.48s/it, loss=0.711]\n",
      "Epoch 9/100 [VAL]: 100%|██████████| 24/24 [00:35<00:00,  1.47s/it, loss=0.824]\n"
     ]
    },
    {
     "name": "stdout",
     "output_type": "stream",
     "text": [
      "EarlyStopping counter: 7/100 (Best val_acc: 0.9584)\n",
      "\n",
      "Epoch 9/100 | LR: 2.41e-04 | Teach: 0.65 | Scheduler: OneCycleLR\n",
      "  Train Loss: 0.7221 | Train Char Acc: 0.9957\n",
      "  Val Loss: 0.8370   | Val Acc (CRR): 0.9546\n",
      "  Val Exact Match Acc (E2E RR): 0.8098\n",
      "----------------------------------------------------------------------\n"
     ]
    },
    {
     "name": "stderr",
     "output_type": "stream",
     "text": [
      "Epoch 10/100 [TRAIN] LR: 2.41e-04 Teach: 0.64 Scheduler: OneCycleLR:   2%|▎         | 1/40 [00:05<03:49,  5.88s/it, loss=0.736]"
     ]
    },
    {
     "name": "stdout",
     "output_type": "stream",
     "text": [
      "\n",
      "--- Training Batch 0 Examples (Content Only) ---\n",
      "  Pred: '9109QY'\n",
      "  True: '9109QY'\n",
      "  Pred: 'CS2399'\n",
      "  True: 'CS2399'\n",
      "  Pred: 'YY7603'\n",
      "  True: 'YY7603'\n",
      "  Pred: '9553KD'\n",
      "  True: '9553KD'\n",
      "  Pred: 'N59145'\n",
      "  True: 'N59145'\n",
      "-------------------------------\n"
     ]
    },
    {
     "name": "stderr",
     "output_type": "stream",
     "text": [
      "Epoch 10/100 [TRAIN] LR: 2.41e-04 Teach: 0.64 Scheduler: OneCycleLR: 100%|██████████| 40/40 [00:59<00:00,  1.48s/it, loss=0.777]\n",
      "Epoch 10/100 [VAL]: 100%|██████████| 24/24 [00:35<00:00,  1.48s/it, loss=0.828]\n"
     ]
    },
    {
     "name": "stdout",
     "output_type": "stream",
     "text": [
      "EarlyStopping counter: 8/100 (Best val_acc: 0.9584)\n",
      "\n",
      "Epoch 10/100 | LR: 2.76e-04 | Teach: 0.64 | Scheduler: OneCycleLR\n",
      "  Train Loss: 0.7255 | Train Char Acc: 0.9937\n",
      "  Val Loss: 0.8495   | Val Acc (CRR): 0.9485\n",
      "  Val Exact Match Acc (E2E RR): 0.7847\n",
      "----------------------------------------------------------------------\n"
     ]
    },
    {
     "name": "stderr",
     "output_type": "stream",
     "text": [
      "Epoch 11/100 [TRAIN] LR: 2.76e-04 Teach: 0.63 Scheduler: OneCycleLR:   2%|▎         | 1/40 [00:05<03:34,  5.50s/it, loss=0.719]"
     ]
    },
    {
     "name": "stdout",
     "output_type": "stream",
     "text": [
      "\n",
      "--- Training Batch 0 Examples (Content Only) ---\n",
      "  Pred: '1552CC'\n",
      "  True: '1552CC'\n",
      "  Pred: '0358DU'\n",
      "  True: '0358DU'\n",
      "  Pred: '2257JT'\n",
      "  True: '2257JT'\n",
      "  Pred: '1837CC'\n",
      "  True: '1837CC'\n",
      "  Pred: '7C6856'\n",
      "  True: '7C6856'\n",
      "-------------------------------\n"
     ]
    },
    {
     "name": "stderr",
     "output_type": "stream",
     "text": [
      "Epoch 11/100 [TRAIN] LR: 2.76e-04 Teach: 0.63 Scheduler: OneCycleLR: 100%|██████████| 40/40 [00:58<00:00,  1.47s/it, loss=0.762]\n",
      "Epoch 11/100 [VAL]: 100%|██████████| 24/24 [00:35<00:00,  1.47s/it, loss=0.826]\n"
     ]
    },
    {
     "name": "stdout",
     "output_type": "stream",
     "text": [
      "EarlyStopping counter: 9/100 (Best val_acc: 0.9584)\n",
      "\n",
      "Epoch 11/100 | LR: 3.11e-04 | Teach: 0.63 | Scheduler: OneCycleLR\n",
      "  Train Loss: 0.7316 | Train Char Acc: 0.9927\n",
      "  Val Loss: 0.8260   | Val Acc (CRR): 0.9557\n",
      "  Val Exact Match Acc (E2E RR): 0.8032\n",
      "----------------------------------------------------------------------\n"
     ]
    },
    {
     "name": "stderr",
     "output_type": "stream",
     "text": [
      "Epoch 12/100 [TRAIN] LR: 3.11e-04 Teach: 0.63 Scheduler: OneCycleLR:   2%|▎         | 1/40 [00:05<03:50,  5.90s/it, loss=0.729]"
     ]
    },
    {
     "name": "stdout",
     "output_type": "stream",
     "text": [
      "\n",
      "--- Training Batch 0 Examples (Content Only) ---\n",
      "  Pred: '0A8980'\n",
      "  True: '0A8980'\n",
      "  Pred: '4586DP'\n",
      "  True: '4586DP'\n",
      "  Pred: '8327DT'\n",
      "  True: '8327DT'\n",
      "  Pred: 'DM1551'\n",
      "  True: 'DM1551'\n",
      "  Pred: '3886EF'\n",
      "  True: '3886EF'\n",
      "-------------------------------\n"
     ]
    },
    {
     "name": "stderr",
     "output_type": "stream",
     "text": [
      "Epoch 12/100 [TRAIN] LR: 3.11e-04 Teach: 0.63 Scheduler: OneCycleLR: 100%|██████████| 40/40 [00:59<00:00,  1.48s/it, loss=0.756]\n",
      "Epoch 12/100 [VAL]: 100%|██████████| 24/24 [00:35<00:00,  1.47s/it, loss=0.824]\n"
     ]
    },
    {
     "name": "stdout",
     "output_type": "stream",
     "text": [
      "EarlyStopping counter: 10/100 (Best val_acc: 0.9584)\n",
      "\n",
      "Epoch 12/100 | LR: 3.46e-04 | Teach: 0.63 | Scheduler: OneCycleLR\n",
      "  Train Loss: 0.7323 | Train Char Acc: 0.9927\n",
      "  Val Loss: 0.8369   | Val Acc (CRR): 0.9520\n",
      "  Val Exact Match Acc (E2E RR): 0.7979\n",
      "----------------------------------------------------------------------\n"
     ]
    },
    {
     "name": "stderr",
     "output_type": "stream",
     "text": [
      "Epoch 13/100 [TRAIN] LR: 3.46e-04 Teach: 0.62 Scheduler: OneCycleLR:   2%|▎         | 1/40 [00:06<03:55,  6.05s/it, loss=0.713]"
     ]
    },
    {
     "name": "stdout",
     "output_type": "stream",
     "text": [
      "\n",
      "--- Training Batch 0 Examples (Content Only) ---\n",
      "  Pred: 'GK9087'\n",
      "  True: 'GK9087'\n",
      "  Pred: 'CP1455'\n",
      "  True: 'CP1455'\n",
      "  Pred: '2D1873'\n",
      "  True: '2D1873'\n",
      "  Pred: '3E2365'\n",
      "  True: '3E2365'\n",
      "  Pred: '8075MV'\n",
      "  True: '8075MV'\n",
      "-------------------------------\n"
     ]
    },
    {
     "name": "stderr",
     "output_type": "stream",
     "text": [
      "Epoch 13/100 [TRAIN] LR: 3.46e-04 Teach: 0.62 Scheduler: OneCycleLR: 100%|██████████| 40/40 [00:59<00:00,  1.48s/it, loss=0.714]\n",
      "Epoch 13/100 [VAL]: 100%|██████████| 24/24 [00:35<00:00,  1.48s/it, loss=0.814]\n"
     ]
    },
    {
     "name": "stdout",
     "output_type": "stream",
     "text": [
      "EarlyStopping counter: 11/100 (Best val_acc: 0.9584)\n",
      "\n",
      "Epoch 13/100 | LR: 3.78e-04 | Teach: 0.62 | Scheduler: OneCycleLR\n",
      "  Train Loss: 0.7358 | Train Char Acc: 0.9910\n",
      "  Val Loss: 0.8406   | Val Acc (CRR): 0.9527\n",
      "  Val Exact Match Acc (E2E RR): 0.8045\n",
      "----------------------------------------------------------------------\n"
     ]
    },
    {
     "name": "stderr",
     "output_type": "stream",
     "text": [
      "Epoch 14/100 [TRAIN] LR: 3.78e-04 Teach: 0.61 Scheduler: OneCycleLR:   2%|▎         | 1/40 [00:05<03:29,  5.36s/it, loss=0.717]"
     ]
    },
    {
     "name": "stdout",
     "output_type": "stream",
     "text": [
      "\n",
      "--- Training Batch 0 Examples (Content Only) ---\n",
      "  Pred: '4926JS'\n",
      "  True: '4926JS'\n",
      "  Pred: '5G9803'\n",
      "  True: '5G9803'\n",
      "  Pred: '8C8313'\n",
      "  True: '8C8313'\n",
      "  Pred: 'PD5327'\n",
      "  True: 'PD5327'\n",
      "  Pred: '7N6161'\n",
      "  True: '7N6161'\n",
      "-------------------------------\n"
     ]
    },
    {
     "name": "stderr",
     "output_type": "stream",
     "text": [
      "Epoch 14/100 [TRAIN] LR: 3.78e-04 Teach: 0.61 Scheduler: OneCycleLR: 100%|██████████| 40/40 [00:58<00:00,  1.47s/it, loss=0.718]\n",
      "Epoch 14/100 [VAL]: 100%|██████████| 24/24 [00:35<00:00,  1.47s/it, loss=0.813]\n"
     ]
    },
    {
     "name": "stdout",
     "output_type": "stream",
     "text": [
      "EarlyStopping counter: 12/100 (Best val_acc: 0.9584)\n",
      "\n",
      "Epoch 14/100 | LR: 4.08e-04 | Teach: 0.61 | Scheduler: OneCycleLR\n",
      "  Train Loss: 0.7377 | Train Char Acc: 0.9904\n",
      "  Val Loss: 0.8439   | Val Acc (CRR): 0.9489\n",
      "  Val Exact Match Acc (E2E RR): 0.7979\n",
      "----------------------------------------------------------------------\n"
     ]
    },
    {
     "name": "stderr",
     "output_type": "stream",
     "text": [
      "Epoch 15/100 [TRAIN] LR: 4.08e-04 Teach: 0.61 Scheduler: OneCycleLR:   2%|▎         | 1/40 [00:05<03:15,  5.00s/it, loss=0.718]"
     ]
    },
    {
     "name": "stdout",
     "output_type": "stream",
     "text": [
      "\n",
      "--- Training Batch 0 Examples (Content Only) ---\n",
      "  Pred: 'CQ5546'\n",
      "  True: 'CQ5546'\n",
      "  Pred: 'CP4617'\n",
      "  True: 'CP4617'\n",
      "  Pred: 'V81041'\n",
      "  True: 'V81041'\n",
      "  Pred: '5676DM'\n",
      "  True: '5676DM'\n",
      "  Pred: '6T0626'\n",
      "  True: '6T0626'\n",
      "-------------------------------\n"
     ]
    },
    {
     "name": "stderr",
     "output_type": "stream",
     "text": [
      "Epoch 15/100 [TRAIN] LR: 4.08e-04 Teach: 0.61 Scheduler: OneCycleLR: 100%|██████████| 40/40 [00:58<00:00,  1.46s/it, loss=0.712]\n",
      "Epoch 15/100 [VAL]: 100%|██████████| 24/24 [00:35<00:00,  1.47s/it, loss=0.836]\n"
     ]
    },
    {
     "name": "stdout",
     "output_type": "stream",
     "text": [
      "EarlyStopping counter: 13/100 (Best val_acc: 0.9584)\n",
      "\n",
      "Epoch 15/100 | LR: 4.35e-04 | Teach: 0.61 | Scheduler: OneCycleLR\n",
      "  Train Loss: 0.7338 | Train Char Acc: 0.9922\n",
      "  Val Loss: 0.8630   | Val Acc (CRR): 0.9439\n",
      "  Val Exact Match Acc (E2E RR): 0.7517\n",
      "----------------------------------------------------------------------\n"
     ]
    },
    {
     "name": "stderr",
     "output_type": "stream",
     "text": [
      "Epoch 16/100 [TRAIN] LR: 4.35e-04 Teach: 0.60 Scheduler: OneCycleLR:   2%|▎         | 1/40 [00:05<03:36,  5.55s/it, loss=0.724]"
     ]
    },
    {
     "name": "stdout",
     "output_type": "stream",
     "text": [
      "\n",
      "--- Training Batch 0 Examples (Content Only) ---\n",
      "  Pred: 'X33558'\n",
      "  True: 'X33558'\n",
      "  Pred: 'R27689'\n",
      "  True: 'R27689'\n",
      "  Pred: '4932QX'\n",
      "  True: '4932QX'\n",
      "  Pred: '2E5319'\n",
      "  True: '2E5319'\n",
      "  Pred: '2403LL'\n",
      "  True: '2403LL'\n",
      "-------------------------------\n"
     ]
    },
    {
     "name": "stderr",
     "output_type": "stream",
     "text": [
      "Epoch 16/100 [TRAIN] LR: 4.35e-04 Teach: 0.60 Scheduler: OneCycleLR: 100%|██████████| 40/40 [00:58<00:00,  1.47s/it, loss=0.769]\n",
      "Epoch 16/100 [VAL]: 100%|██████████| 24/24 [00:35<00:00,  1.48s/it, loss=0.881]\n"
     ]
    },
    {
     "name": "stdout",
     "output_type": "stream",
     "text": [
      "EarlyStopping counter: 14/100 (Best val_acc: 0.9584)\n",
      "\n",
      "Epoch 16/100 | LR: 4.58e-04 | Teach: 0.60 | Scheduler: OneCycleLR\n",
      "  Train Loss: 0.7360 | Train Char Acc: 0.9914\n",
      "  Val Loss: 0.8550   | Val Acc (CRR): 0.9478\n",
      "  Val Exact Match Acc (E2E RR): 0.7873\n",
      "----------------------------------------------------------------------\n"
     ]
    },
    {
     "name": "stderr",
     "output_type": "stream",
     "text": [
      "Epoch 17/100 [TRAIN] LR: 4.58e-04 Teach: 0.59 Scheduler: OneCycleLR:   2%|▎         | 1/40 [00:05<03:50,  5.92s/it, loss=0.732]"
     ]
    },
    {
     "name": "stdout",
     "output_type": "stream",
     "text": [
      "\n",
      "--- Training Batch 0 Examples (Content Only) ---\n",
      "  Pred: '3812DM'\n",
      "  True: '3812DM'\n",
      "  Pred: '4321QD'\n",
      "  True: '4321QD'\n",
      "  Pred: 'GV9696'\n",
      "  True: 'GV9696'\n",
      "  Pred: '2E1253'\n",
      "  True: '2E1253'\n",
      "  Pred: '3812DM'\n",
      "  True: '3812DM'\n",
      "-------------------------------\n"
     ]
    },
    {
     "name": "stderr",
     "output_type": "stream",
     "text": [
      "Epoch 17/100 [TRAIN] LR: 4.58e-04 Teach: 0.59 Scheduler: OneCycleLR: 100%|██████████| 40/40 [00:59<00:00,  1.48s/it, loss=0.745]\n",
      "Epoch 17/100 [VAL]: 100%|██████████| 24/24 [00:35<00:00,  1.48s/it, loss=0.835]\n",
      "/usr/local/lib/python3.11/dist-packages/torch/optim/lr_scheduler.py:62: UserWarning: The verbose parameter is deprecated. Please use get_last_lr() to access the learning rate.\n",
      "  warnings.warn(\n"
     ]
    },
    {
     "name": "stdout",
     "output_type": "stream",
     "text": [
      "EarlyStopping counter: 15/100 (Best val_acc: 0.9584)\n",
      "Val Acc stalled for 100 epochs. Switching to ReduceLROnPlateau.\n",
      "\n",
      "Epoch 17/100 | LR: 4.76e-04 | Teach: 0.59 | Scheduler: ReduceLROnPlateau\n",
      "  Train Loss: 0.7345 | Train Char Acc: 0.9927\n",
      "  Val Loss: 0.8478   | Val Acc (CRR): 0.9507\n",
      "  Val Exact Match Acc (E2E RR): 0.7913\n",
      "----------------------------------------------------------------------\n"
     ]
    },
    {
     "name": "stderr",
     "output_type": "stream",
     "text": [
      "Epoch 18/100 [TRAIN] LR: 4.76e-04 Teach: 0.59 Scheduler: ReduceLROnPlateau:   2%|▎         | 1/40 [00:06<03:57,  6.08s/it, loss=0.747]"
     ]
    },
    {
     "name": "stdout",
     "output_type": "stream",
     "text": [
      "\n",
      "--- Training Batch 0 Examples (Content Only) ---\n",
      "  Pred: '7038DK'\n",
      "  True: '7038DK'\n",
      "  Pred: 'DC4099'\n",
      "  True: 'DC4099'\n",
      "  Pred: 'JZ0942'\n",
      "  True: 'JZ0942'\n",
      "  Pred: 'CV6908'\n",
      "  True: 'CV6908'\n",
      "  Pred: '8C8313'\n",
      "  True: '8C8313'\n",
      "-------------------------------\n"
     ]
    },
    {
     "name": "stderr",
     "output_type": "stream",
     "text": [
      "Epoch 18/100 [TRAIN] LR: 4.76e-04 Teach: 0.59 Scheduler: ReduceLROnPlateau: 100%|██████████| 40/40 [00:59<00:00,  1.49s/it, loss=0.852]\n",
      "Epoch 18/100 [VAL]: 100%|██████████| 24/24 [00:35<00:00,  1.47s/it, loss=0.822]\n"
     ]
    },
    {
     "name": "stdout",
     "output_type": "stream",
     "text": [
      "EarlyStopping counter: 16/100 (Best val_acc: 0.9584)\n",
      "\n",
      "Epoch 18/100 | LR: 4.76e-04 | Teach: 0.59 | Scheduler: ReduceLROnPlateau\n",
      "  Train Loss: 0.7449 | Train Char Acc: 0.9887\n",
      "  Val Loss: 0.8475   | Val Acc (CRR): 0.9487\n",
      "  Val Exact Match Acc (E2E RR): 0.7860\n",
      "----------------------------------------------------------------------\n"
     ]
    },
    {
     "name": "stderr",
     "output_type": "stream",
     "text": [
      "Epoch 19/100 [TRAIN] LR: 4.76e-04 Teach: 0.58 Scheduler: ReduceLROnPlateau:   2%|▎         | 1/40 [00:05<03:29,  5.36s/it, loss=0.72]"
     ]
    },
    {
     "name": "stdout",
     "output_type": "stream",
     "text": [
      "\n",
      "--- Training Batch 0 Examples (Content Only) ---\n",
      "  Pred: 'CY9496'\n",
      "  True: 'CY9496'\n",
      "  Pred: '9605EU'\n",
      "  True: '9605EU'\n",
      "  Pred: '5102JJ'\n",
      "  True: '5102JJ'\n",
      "  Pred: 'F93065'\n",
      "  True: 'F93065'\n",
      "  Pred: '8U8845'\n",
      "  True: 'BU8845'\n",
      "-------------------------------\n"
     ]
    },
    {
     "name": "stderr",
     "output_type": "stream",
     "text": [
      "Epoch 19/100 [TRAIN] LR: 4.76e-04 Teach: 0.58 Scheduler: ReduceLROnPlateau: 100%|██████████| 40/40 [00:58<00:00,  1.47s/it, loss=0.73]\n",
      "Epoch 19/100 [VAL]: 100%|██████████| 24/24 [00:35<00:00,  1.48s/it, loss=0.869]\n"
     ]
    },
    {
     "name": "stdout",
     "output_type": "stream",
     "text": [
      "EarlyStopping counter: 17/100 (Best val_acc: 0.9584)\n",
      "\n",
      "Epoch 19/100 | LR: 4.76e-04 | Teach: 0.58 | Scheduler: ReduceLROnPlateau\n",
      "  Train Loss: 0.7337 | Train Char Acc: 0.9935\n",
      "  Val Loss: 0.8453   | Val Acc (CRR): 0.9511\n",
      "  Val Exact Match Acc (E2E RR): 0.7966\n",
      "----------------------------------------------------------------------\n"
     ]
    },
    {
     "name": "stderr",
     "output_type": "stream",
     "text": [
      "Epoch 20/100 [TRAIN] LR: 4.76e-04 Teach: 0.58 Scheduler: ReduceLROnPlateau:   2%|▎         | 1/40 [00:05<03:33,  5.46s/it, loss=0.749]"
     ]
    },
    {
     "name": "stdout",
     "output_type": "stream",
     "text": [
      "\n",
      "--- Training Batch 0 Examples (Content Only) ---\n",
      "  Pred: '0329HB'\n",
      "  True: '0329HB'\n",
      "  Pred: '6837QJ'\n",
      "  True: '6831QJ'\n",
      "  Pred: 'FL0198'\n",
      "  True: 'FL0198'\n",
      "  Pred: '3128EY'\n",
      "  True: '3128EY'\n",
      "  Pred: 'BU3586'\n",
      "  True: 'BU3586'\n",
      "-------------------------------\n"
     ]
    },
    {
     "name": "stderr",
     "output_type": "stream",
     "text": [
      "Epoch 20/100 [TRAIN] LR: 4.76e-04 Teach: 0.58 Scheduler: ReduceLROnPlateau: 100%|██████████| 40/40 [00:58<00:00,  1.47s/it, loss=0.716]\n",
      "Epoch 20/100 [VAL]: 100%|██████████| 24/24 [00:35<00:00,  1.47s/it, loss=0.858]\n"
     ]
    },
    {
     "name": "stdout",
     "output_type": "stream",
     "text": [
      "EarlyStopping counter: 18/100 (Best val_acc: 0.9584)\n",
      "\n",
      "Epoch 20/100 | LR: 4.76e-04 | Teach: 0.58 | Scheduler: ReduceLROnPlateau\n",
      "  Train Loss: 0.7355 | Train Char Acc: 0.9917\n",
      "  Val Loss: 0.8292   | Val Acc (CRR): 0.9546\n",
      "  Val Exact Match Acc (E2E RR): 0.8071\n",
      "----------------------------------------------------------------------\n"
     ]
    },
    {
     "name": "stderr",
     "output_type": "stream",
     "text": [
      "Epoch 21/100 [TRAIN] LR: 4.76e-04 Teach: 0.57 Scheduler: ReduceLROnPlateau:   2%|▎         | 1/40 [00:05<03:31,  5.43s/it, loss=0.726]"
     ]
    },
    {
     "name": "stdout",
     "output_type": "stream",
     "text": [
      "\n",
      "--- Training Batch 0 Examples (Content Only) ---\n",
      "  Pred: 'CN2950'\n",
      "  True: 'CN2950'\n",
      "  Pred: '7D1957'\n",
      "  True: '7D1957'\n",
      "  Pred: 'CM9301'\n",
      "  True: 'CM9301'\n",
      "  Pred: 'EX6201'\n",
      "  True: 'EX6201'\n",
      "  Pred: '1632DY'\n",
      "  True: '1632DY'\n",
      "-------------------------------\n"
     ]
    },
    {
     "name": "stderr",
     "output_type": "stream",
     "text": [
      "Epoch 21/100 [TRAIN] LR: 4.76e-04 Teach: 0.57 Scheduler: ReduceLROnPlateau: 100%|██████████| 40/40 [00:58<00:00,  1.47s/it, loss=0.718]\n",
      "Epoch 21/100 [VAL]: 100%|██████████| 24/24 [00:35<00:00,  1.48s/it, loss=0.869]\n"
     ]
    },
    {
     "name": "stdout",
     "output_type": "stream",
     "text": [
      "EarlyStopping counter: 19/100 (Best val_acc: 0.9584)\n",
      "\n",
      "Epoch 21/100 | LR: 4.76e-04 | Teach: 0.57 | Scheduler: ReduceLROnPlateau\n",
      "  Train Loss: 0.7366 | Train Char Acc: 0.9911\n",
      "  Val Loss: 0.8430   | Val Acc (CRR): 0.9513\n",
      "  Val Exact Match Acc (E2E RR): 0.7952\n",
      "----------------------------------------------------------------------\n"
     ]
    },
    {
     "name": "stderr",
     "output_type": "stream",
     "text": [
      "Epoch 22/100 [TRAIN] LR: 4.76e-04 Teach: 0.56 Scheduler: ReduceLROnPlateau:   2%|▎         | 1/40 [00:05<03:39,  5.64s/it, loss=0.714]"
     ]
    },
    {
     "name": "stdout",
     "output_type": "stream",
     "text": [
      "\n",
      "--- Training Batch 0 Examples (Content Only) ---\n",
      "  Pred: '9863QX'\n",
      "  True: '9863QX'\n",
      "  Pred: '6C1699'\n",
      "  True: '6C1699'\n",
      "  Pred: 'DD3865'\n",
      "  True: 'DD3865'\n",
      "  Pred: '5697QZ'\n",
      "  True: '5697QZ'\n",
      "  Pred: '8C5812'\n",
      "  True: '8C5812'\n",
      "-------------------------------\n"
     ]
    },
    {
     "name": "stderr",
     "output_type": "stream",
     "text": [
      "Epoch 22/100 [TRAIN] LR: 4.76e-04 Teach: 0.56 Scheduler: ReduceLROnPlateau: 100%|██████████| 40/40 [00:58<00:00,  1.47s/it, loss=0.768]\n",
      "Epoch 22/100 [VAL]: 100%|██████████| 24/24 [00:35<00:00,  1.47s/it, loss=0.872]\n"
     ]
    },
    {
     "name": "stdout",
     "output_type": "stream",
     "text": [
      "EarlyStopping counter: 20/100 (Best val_acc: 0.9584)\n",
      "\n",
      "Epoch 22/100 | LR: 4.76e-04 | Teach: 0.56 | Scheduler: ReduceLROnPlateau\n",
      "  Train Loss: 0.7428 | Train Char Acc: 0.9888\n",
      "  Val Loss: 0.8451   | Val Acc (CRR): 0.9549\n",
      "  Val Exact Match Acc (E2E RR): 0.8018\n",
      "----------------------------------------------------------------------\n"
     ]
    },
    {
     "name": "stderr",
     "output_type": "stream",
     "text": [
      "Epoch 23/100 [TRAIN] LR: 4.76e-04 Teach: 0.56 Scheduler: ReduceLROnPlateau:   2%|▎         | 1/40 [00:05<03:48,  5.86s/it, loss=0.721]"
     ]
    },
    {
     "name": "stdout",
     "output_type": "stream",
     "text": [
      "\n",
      "--- Training Batch 0 Examples (Content Only) ---\n",
      "  Pred: 'CB3652'\n",
      "  True: 'CB3652'\n",
      "  Pred: 'CF4870'\n",
      "  True: 'CF4870'\n",
      "  Pred: '1697QT'\n",
      "  True: '1697QT'\n",
      "  Pred: '3257DB'\n",
      "  True: '3257DB'\n",
      "  Pred: '4666JJ'\n",
      "  True: '4666JJ'\n",
      "-------------------------------\n"
     ]
    },
    {
     "name": "stderr",
     "output_type": "stream",
     "text": [
      "Epoch 23/100 [TRAIN] LR: 4.76e-04 Teach: 0.56 Scheduler: ReduceLROnPlateau: 100%|██████████| 40/40 [00:59<00:00,  1.48s/it, loss=0.774]\n",
      "Epoch 23/100 [VAL]: 100%|██████████| 24/24 [00:35<00:00,  1.48s/it, loss=0.86]\n"
     ]
    },
    {
     "name": "stdout",
     "output_type": "stream",
     "text": [
      "EarlyStopping counter: 21/100 (Best val_acc: 0.9584)\n",
      "\n",
      "Epoch 23/100 | LR: 4.76e-04 | Teach: 0.56 | Scheduler: ReduceLROnPlateau\n",
      "  Train Loss: 0.7327 | Train Char Acc: 0.9935\n",
      "  Val Loss: 0.8582   | Val Acc (CRR): 0.9410\n",
      "  Val Exact Match Acc (E2E RR): 0.7622\n",
      "----------------------------------------------------------------------\n"
     ]
    },
    {
     "name": "stderr",
     "output_type": "stream",
     "text": [
      "Epoch 24/100 [TRAIN] LR: 4.76e-04 Teach: 0.55 Scheduler: ReduceLROnPlateau:   2%|▎         | 1/40 [00:05<03:52,  5.95s/it, loss=0.718]"
     ]
    },
    {
     "name": "stdout",
     "output_type": "stream",
     "text": [
      "\n",
      "--- Training Batch 0 Examples (Content Only) ---\n",
      "  Pred: '5A8830'\n",
      "  True: '5A8830'\n",
      "  Pred: '9C5669'\n",
      "  True: '9C5669'\n",
      "  Pred: 'HF2706'\n",
      "  True: 'HF2706'\n",
      "  Pred: '2403LL'\n",
      "  True: '2403LL'\n",
      "  Pred: '8429QW'\n",
      "  True: '8429QW'\n",
      "-------------------------------\n"
     ]
    },
    {
     "name": "stderr",
     "output_type": "stream",
     "text": [
      "Epoch 24/100 [TRAIN] LR: 4.76e-04 Teach: 0.55 Scheduler: ReduceLROnPlateau: 100%|██████████| 40/40 [00:59<00:00,  1.49s/it, loss=0.798]\n",
      "Epoch 24/100 [VAL]: 100%|██████████| 24/24 [00:35<00:00,  1.46s/it, loss=0.853]\n"
     ]
    },
    {
     "name": "stdout",
     "output_type": "stream",
     "text": [
      "EarlyStopping counter: 22/100 (Best val_acc: 0.9584)\n",
      "\n",
      "Epoch 24/100 | LR: 4.76e-04 | Teach: 0.55 | Scheduler: ReduceLROnPlateau\n",
      "  Train Loss: 0.7451 | Train Char Acc: 0.9888\n",
      "  Val Loss: 0.8534   | Val Acc (CRR): 0.9476\n",
      "  Val Exact Match Acc (E2E RR): 0.7820\n",
      "----------------------------------------------------------------------\n"
     ]
    },
    {
     "name": "stderr",
     "output_type": "stream",
     "text": [
      "Epoch 25/100 [TRAIN] LR: 4.76e-04 Teach: 0.54 Scheduler: ReduceLROnPlateau:   2%|▎         | 1/40 [00:05<03:44,  5.75s/it, loss=0.776]"
     ]
    },
    {
     "name": "stdout",
     "output_type": "stream",
     "text": [
      "\n",
      "--- Training Batch 0 Examples (Content Only) ---\n",
      "  Pred: 'CL5080'\n",
      "  True: 'CL5080'\n",
      "  Pred: '9490QE'\n",
      "  True: '9490QE'\n",
      "  Pred: '8C5812'\n",
      "  True: '8C5812'\n",
      "  Pred: '7N6161'\n",
      "  True: '7N6161'\n",
      "  Pred: '4586DP'\n",
      "  True: '4586DP'\n",
      "-------------------------------\n"
     ]
    },
    {
     "name": "stderr",
     "output_type": "stream",
     "text": [
      "Epoch 25/100 [TRAIN] LR: 4.76e-04 Teach: 0.54 Scheduler: ReduceLROnPlateau: 100%|██████████| 40/40 [00:59<00:00,  1.48s/it, loss=0.713]\n",
      "Epoch 25/100 [VAL]: 100%|██████████| 24/24 [00:35<00:00,  1.47s/it, loss=0.814]\n"
     ]
    },
    {
     "name": "stdout",
     "output_type": "stream",
     "text": [
      "EarlyStopping counter: 23/100 (Best val_acc: 0.9584)\n",
      "\n",
      "Epoch 25/100 | LR: 2.38e-04 | Teach: 0.54 | Scheduler: ReduceLROnPlateau\n",
      "  Train Loss: 0.7291 | Train Char Acc: 0.9948\n",
      "  Val Loss: 0.8373   | Val Acc (CRR): 0.9533\n",
      "  Val Exact Match Acc (E2E RR): 0.8058\n",
      "----------------------------------------------------------------------\n"
     ]
    },
    {
     "name": "stderr",
     "output_type": "stream",
     "text": [
      "Epoch 26/100 [TRAIN] LR: 2.38e-04 Teach: 0.54 Scheduler: ReduceLROnPlateau:   2%|▎         | 1/40 [00:06<03:55,  6.03s/it, loss=0.719]"
     ]
    },
    {
     "name": "stdout",
     "output_type": "stream",
     "text": [
      "\n",
      "--- Training Batch 0 Examples (Content Only) ---\n",
      "  Pred: 'YY8818'\n",
      "  True: 'YY8818'\n",
      "  Pred: '1137EC'\n",
      "  True: '1137EC'\n",
      "  Pred: '7A6988'\n",
      "  True: '7A6988'\n",
      "  Pred: '7528VR'\n",
      "  True: '7528VR'\n",
      "  Pred: '2A6132'\n",
      "  True: '2A6132'\n",
      "-------------------------------\n"
     ]
    },
    {
     "name": "stderr",
     "output_type": "stream",
     "text": [
      "Epoch 26/100 [TRAIN] LR: 2.38e-04 Teach: 0.54 Scheduler: ReduceLROnPlateau: 100%|██████████| 40/40 [00:59<00:00,  1.49s/it, loss=0.742]\n",
      "Epoch 26/100 [VAL]: 100%|██████████| 24/24 [00:35<00:00,  1.47s/it, loss=0.814]\n"
     ]
    },
    {
     "name": "stdout",
     "output_type": "stream",
     "text": [
      "EarlyStopping counter: 24/100 (Best val_acc: 0.9584)\n",
      "\n",
      "Epoch 26/100 | LR: 2.38e-04 | Teach: 0.54 | Scheduler: ReduceLROnPlateau\n",
      "  Train Loss: 0.7261 | Train Char Acc: 0.9941\n",
      "  Val Loss: 0.8408   | Val Acc (CRR): 0.9529\n",
      "  Val Exact Match Acc (E2E RR): 0.8045\n",
      "----------------------------------------------------------------------\n"
     ]
    },
    {
     "name": "stderr",
     "output_type": "stream",
     "text": [
      "Epoch 27/100 [TRAIN] LR: 2.38e-04 Teach: 0.53 Scheduler: ReduceLROnPlateau:   2%|▎         | 1/40 [00:05<03:49,  5.90s/it, loss=0.769]"
     ]
    },
    {
     "name": "stdout",
     "output_type": "stream",
     "text": [
      "\n",
      "--- Training Batch 0 Examples (Content Only) ---\n",
      "  Pred: '1866EB'\n",
      "  True: '1866EB'\n",
      "  Pred: '5B7036'\n",
      "  True: '5B7036'\n",
      "  Pred: 'GA5527'\n",
      "  True: 'GA5527'\n",
      "  Pred: 'CS2399'\n",
      "  True: 'CS2399'\n",
      "  Pred: '6P5013'\n",
      "  True: '6P5013'\n",
      "-------------------------------\n"
     ]
    },
    {
     "name": "stderr",
     "output_type": "stream",
     "text": [
      "Epoch 27/100 [TRAIN] LR: 2.38e-04 Teach: 0.53 Scheduler: ReduceLROnPlateau: 100%|██████████| 40/40 [00:59<00:00,  1.49s/it, loss=0.712]\n",
      "Epoch 27/100 [VAL]: 100%|██████████| 24/24 [00:35<00:00,  1.48s/it, loss=0.818]\n"
     ]
    },
    {
     "name": "stdout",
     "output_type": "stream",
     "text": [
      "EarlyStopping counter: 25/100 (Best val_acc: 0.9584)\n",
      "\n",
      "Epoch 27/100 | LR: 2.38e-04 | Teach: 0.53 | Scheduler: ReduceLROnPlateau\n",
      "  Train Loss: 0.7243 | Train Char Acc: 0.9937\n",
      "  Val Loss: 0.8414   | Val Acc (CRR): 0.9511\n",
      "  Val Exact Match Acc (E2E RR): 0.7952\n",
      "----------------------------------------------------------------------\n"
     ]
    },
    {
     "name": "stderr",
     "output_type": "stream",
     "text": [
      "Epoch 28/100 [TRAIN] LR: 2.38e-04 Teach: 0.52 Scheduler: ReduceLROnPlateau:   2%|▎         | 1/40 [00:05<03:46,  5.81s/it, loss=0.712]"
     ]
    },
    {
     "name": "stdout",
     "output_type": "stream",
     "text": [
      "\n",
      "--- Training Batch 0 Examples (Content Only) ---\n",
      "  Pred: 'L46261'\n",
      "  True: 'L46261'\n",
      "  Pred: '2712AA'\n",
      "  True: '2712AA'\n",
      "  Pred: '5B7036'\n",
      "  True: '5B7036'\n",
      "  Pred: '1C0906'\n",
      "  True: '1C0906'\n",
      "  Pred: '3F4277'\n",
      "  True: '3F4277'\n",
      "-------------------------------\n"
     ]
    },
    {
     "name": "stderr",
     "output_type": "stream",
     "text": [
      "Epoch 28/100 [TRAIN] LR: 2.38e-04 Teach: 0.52 Scheduler: ReduceLROnPlateau: 100%|██████████| 40/40 [00:59<00:00,  1.48s/it, loss=0.72]\n",
      "Epoch 28/100 [VAL]: 100%|██████████| 24/24 [00:35<00:00,  1.47s/it, loss=0.817]\n"
     ]
    },
    {
     "name": "stdout",
     "output_type": "stream",
     "text": [
      "EarlyStopping counter: 26/100 (Best val_acc: 0.9584)\n",
      "\n",
      "Epoch 28/100 | LR: 1.19e-04 | Teach: 0.52 | Scheduler: ReduceLROnPlateau\n",
      "  Train Loss: 0.7272 | Train Char Acc: 0.9928\n",
      "  Val Loss: 0.8361   | Val Acc (CRR): 0.9518\n",
      "  Val Exact Match Acc (E2E RR): 0.8058\n",
      "----------------------------------------------------------------------\n"
     ]
    },
    {
     "name": "stderr",
     "output_type": "stream",
     "text": [
      "Epoch 29/100 [TRAIN] LR: 1.19e-04 Teach: 0.52 Scheduler: ReduceLROnPlateau:   2%|▎         | 1/40 [00:05<03:38,  5.60s/it, loss=0.717]"
     ]
    },
    {
     "name": "stdout",
     "output_type": "stream",
     "text": [
      "\n",
      "--- Training Batch 0 Examples (Content Only) ---\n",
      "  Pred: '2816QQ'\n",
      "  True: '2816QD'\n",
      "  Pred: '0157HF'\n",
      "  True: '0157HF'\n",
      "  Pred: '5070RW'\n",
      "  True: '5070RW'\n",
      "  Pred: '9E7032'\n",
      "  True: '9E7032'\n",
      "  Pred: '4517NT'\n",
      "  True: '4517NT'\n",
      "-------------------------------\n"
     ]
    },
    {
     "name": "stderr",
     "output_type": "stream",
     "text": [
      "Epoch 29/100 [TRAIN] LR: 1.19e-04 Teach: 0.52 Scheduler: ReduceLROnPlateau: 100%|██████████| 40/40 [00:58<00:00,  1.47s/it, loss=0.708]\n",
      "Epoch 29/100 [VAL]: 100%|██████████| 24/24 [00:35<00:00,  1.47s/it, loss=0.844]\n"
     ]
    },
    {
     "name": "stdout",
     "output_type": "stream",
     "text": [
      "EarlyStopping counter: 27/100 (Best val_acc: 0.9584)\n",
      "\n",
      "Epoch 29/100 | LR: 1.19e-04 | Teach: 0.52 | Scheduler: ReduceLROnPlateau\n",
      "  Train Loss: 0.7227 | Train Char Acc: 0.9936\n",
      "  Val Loss: 0.8363   | Val Acc (CRR): 0.9502\n",
      "  Val Exact Match Acc (E2E RR): 0.7926\n",
      "----------------------------------------------------------------------\n"
     ]
    },
    {
     "name": "stderr",
     "output_type": "stream",
     "text": [
      "Epoch 30/100 [TRAIN] LR: 1.19e-04 Teach: 0.51 Scheduler: ReduceLROnPlateau:   2%|▎         | 1/40 [00:05<03:17,  5.06s/it, loss=0.707]"
     ]
    },
    {
     "name": "stdout",
     "output_type": "stream",
     "text": [
      "\n",
      "--- Training Batch 0 Examples (Content Only) ---\n",
      "  Pred: 'DR8139'\n",
      "  True: 'DR8139'\n",
      "  Pred: '3905RY'\n",
      "  True: '3905RY'\n",
      "  Pred: 'KH6757'\n",
      "  True: 'KH6757'\n",
      "  Pred: '7F6709'\n",
      "  True: '7F6709'\n",
      "  Pred: 'GK9087'\n",
      "  True: 'GK9087'\n",
      "-------------------------------\n"
     ]
    },
    {
     "name": "stderr",
     "output_type": "stream",
     "text": [
      "Epoch 30/100 [TRAIN] LR: 1.19e-04 Teach: 0.51 Scheduler: ReduceLROnPlateau: 100%|██████████| 40/40 [00:58<00:00,  1.46s/it, loss=0.753]\n",
      "Epoch 30/100 [VAL]: 100%|██████████| 24/24 [00:35<00:00,  1.48s/it, loss=0.813]\n"
     ]
    },
    {
     "name": "stdout",
     "output_type": "stream",
     "text": [
      "EarlyStopping counter: 28/100 (Best val_acc: 0.9584)\n",
      "\n",
      "Epoch 30/100 | LR: 1.19e-04 | Teach: 0.51 | Scheduler: ReduceLROnPlateau\n",
      "  Train Loss: 0.7210 | Train Char Acc: 0.9945\n",
      "  Val Loss: 0.8387   | Val Acc (CRR): 0.9500\n",
      "  Val Exact Match Acc (E2E RR): 0.7926\n",
      "----------------------------------------------------------------------\n"
     ]
    },
    {
     "name": "stderr",
     "output_type": "stream",
     "text": [
      "Epoch 31/100 [TRAIN] LR: 1.19e-04 Teach: 0.50 Scheduler: ReduceLROnPlateau:   2%|▎         | 1/40 [00:06<04:00,  6.18s/it, loss=0.709]"
     ]
    },
    {
     "name": "stdout",
     "output_type": "stream",
     "text": [
      "\n",
      "--- Training Batch 0 Examples (Content Only) ---\n",
      "  Pred: 'F91001'\n",
      "  True: 'F91001'\n",
      "  Pred: '5B7981'\n",
      "  True: '5B7981'\n",
      "  Pred: '7376HF'\n",
      "  True: '7376HF'\n",
      "  Pred: '5T4929'\n",
      "  True: '5T4929'\n",
      "  Pred: '3E2365'\n",
      "  True: '3E2365'\n",
      "-------------------------------\n"
     ]
    },
    {
     "name": "stderr",
     "output_type": "stream",
     "text": [
      "Epoch 31/100 [TRAIN] LR: 1.19e-04 Teach: 0.50 Scheduler: ReduceLROnPlateau: 100%|██████████| 40/40 [00:59<00:00,  1.49s/it, loss=0.721]\n",
      "Epoch 31/100 [VAL]: 100%|██████████| 24/24 [00:35<00:00,  1.46s/it, loss=0.797]\n"
     ]
    },
    {
     "name": "stdout",
     "output_type": "stream",
     "text": [
      "EarlyStopping counter: 29/100 (Best val_acc: 0.9584)\n",
      "\n",
      "Epoch 31/100 | LR: 5.95e-05 | Teach: 0.50 | Scheduler: ReduceLROnPlateau\n",
      "  Train Loss: 0.7190 | Train Char Acc: 0.9948\n",
      "  Val Loss: 0.8315   | Val Acc (CRR): 0.9538\n",
      "  Val Exact Match Acc (E2E RR): 0.8085\n",
      "----------------------------------------------------------------------\n"
     ]
    },
    {
     "name": "stderr",
     "output_type": "stream",
     "text": [
      "Epoch 32/100 [TRAIN] LR: 5.95e-05 Teach: 0.50 Scheduler: ReduceLROnPlateau:   2%|▎         | 1/40 [00:06<04:02,  6.23s/it, loss=0.707]"
     ]
    },
    {
     "name": "stdout",
     "output_type": "stream",
     "text": [
      "\n",
      "--- Training Batch 0 Examples (Content Only) ---\n",
      "  Pred: 'Y56653'\n",
      "  True: 'Y56653'\n",
      "  Pred: 'HZ6217'\n",
      "  True: 'HZ6217'\n",
      "  Pred: '3885QD'\n",
      "  True: '3885QD'\n",
      "  Pred: '9989DW'\n",
      "  True: '9989DW'\n",
      "  Pred: '7376HF'\n",
      "  True: '7376HF'\n",
      "-------------------------------\n"
     ]
    },
    {
     "name": "stderr",
     "output_type": "stream",
     "text": [
      "Epoch 32/100 [TRAIN] LR: 5.95e-05 Teach: 0.50 Scheduler: ReduceLROnPlateau: 100%|██████████| 40/40 [00:59<00:00,  1.49s/it, loss=0.715]\n",
      "Epoch 32/100 [VAL]: 100%|██████████| 24/24 [00:35<00:00,  1.47s/it, loss=0.799]\n"
     ]
    },
    {
     "name": "stdout",
     "output_type": "stream",
     "text": [
      "EarlyStopping counter: 30/100 (Best val_acc: 0.9584)\n",
      "\n",
      "Epoch 32/100 | LR: 5.95e-05 | Teach: 0.50 | Scheduler: ReduceLROnPlateau\n",
      "  Train Loss: 0.7253 | Train Char Acc: 0.9923\n",
      "  Val Loss: 0.8254   | Val Acc (CRR): 0.9573\n",
      "  Val Exact Match Acc (E2E RR): 0.8203\n",
      "----------------------------------------------------------------------\n"
     ]
    },
    {
     "name": "stderr",
     "output_type": "stream",
     "text": [
      "Epoch 33/100 [TRAIN] LR: 5.95e-05 Teach: 0.49 Scheduler: ReduceLROnPlateau:   2%|▎         | 1/40 [00:05<03:38,  5.60s/it, loss=0.722]"
     ]
    },
    {
     "name": "stdout",
     "output_type": "stream",
     "text": [
      "\n",
      "--- Training Batch 0 Examples (Content Only) ---\n",
      "  Pred: 'DV7098'\n",
      "  True: 'DV7098'\n",
      "  Pred: '6999TX'\n",
      "  True: '6999TX'\n",
      "  Pred: '2L1336'\n",
      "  True: '2L1336'\n",
      "  Pred: '4315RJ'\n",
      "  True: '4315RJ'\n",
      "  Pred: '7613FS'\n",
      "  True: '7613FS'\n",
      "-------------------------------\n"
     ]
    },
    {
     "name": "stderr",
     "output_type": "stream",
     "text": [
      "Epoch 33/100 [TRAIN] LR: 5.95e-05 Teach: 0.49 Scheduler: ReduceLROnPlateau: 100%|██████████| 40/40 [00:59<00:00,  1.48s/it, loss=0.709]\n",
      "Epoch 33/100 [VAL]: 100%|██████████| 24/24 [00:35<00:00,  1.48s/it, loss=0.802]\n"
     ]
    },
    {
     "name": "stdout",
     "output_type": "stream",
     "text": [
      "EarlyStopping counter: 31/100 (Best val_acc: 0.9584)\n",
      "\n",
      "Epoch 33/100 | LR: 5.95e-05 | Teach: 0.49 | Scheduler: ReduceLROnPlateau\n",
      "  Train Loss: 0.7185 | Train Char Acc: 0.9941\n",
      "  Val Loss: 0.8258   | Val Acc (CRR): 0.9568\n",
      "  Val Exact Match Acc (E2E RR): 0.8190\n",
      "----------------------------------------------------------------------\n"
     ]
    },
    {
     "name": "stderr",
     "output_type": "stream",
     "text": [
      "Epoch 34/100 [TRAIN] LR: 5.95e-05 Teach: 0.48 Scheduler: ReduceLROnPlateau:   2%|▎         | 1/40 [00:05<03:43,  5.74s/it, loss=0.764]"
     ]
    },
    {
     "name": "stdout",
     "output_type": "stream",
     "text": [
      "\n",
      "--- Training Batch 0 Examples (Content Only) ---\n",
      "  Pred: '3970EA'\n",
      "  True: '3970EA'\n",
      "  Pred: '2E3345'\n",
      "  True: '2E3345'\n",
      "  Pred: 'EX3301'\n",
      "  True: 'EX3301'\n",
      "  Pred: '9601EC'\n",
      "  True: '9601EC'\n",
      "  Pred: '5069UR'\n",
      "  True: '5069UR'\n",
      "-------------------------------\n"
     ]
    },
    {
     "name": "stderr",
     "output_type": "stream",
     "text": [
      "Epoch 34/100 [TRAIN] LR: 5.95e-05 Teach: 0.48 Scheduler: ReduceLROnPlateau: 100%|██████████| 40/40 [00:59<00:00,  1.48s/it, loss=0.728]\n",
      "Epoch 34/100 [VAL]: 100%|██████████| 24/24 [00:35<00:00,  1.49s/it, loss=0.797]\n"
     ]
    },
    {
     "name": "stdout",
     "output_type": "stream",
     "text": [
      "EarlyStopping counter: 32/100 (Best val_acc: 0.9584)\n",
      "\n",
      "Epoch 34/100 | LR: 5.95e-05 | Teach: 0.48 | Scheduler: ReduceLROnPlateau\n",
      "  Train Loss: 0.7214 | Train Char Acc: 0.9931\n",
      "  Val Loss: 0.8276   | Val Acc (CRR): 0.9542\n",
      "  Val Exact Match Acc (E2E RR): 0.8071\n",
      "----------------------------------------------------------------------\n"
     ]
    },
    {
     "name": "stderr",
     "output_type": "stream",
     "text": [
      "Epoch 35/100 [TRAIN] LR: 5.95e-05 Teach: 0.48 Scheduler: ReduceLROnPlateau:   2%|▎         | 1/40 [00:05<03:41,  5.67s/it, loss=0.706]"
     ]
    },
    {
     "name": "stdout",
     "output_type": "stream",
     "text": [
      "\n",
      "--- Training Batch 0 Examples (Content Only) ---\n",
      "  Pred: '5325TM'\n",
      "  True: '5325TM'\n",
      "  Pred: '8593FF'\n",
      "  True: '8593FF'\n",
      "  Pred: '1L9170'\n",
      "  True: '1L9170'\n",
      "  Pred: 'AR0416'\n",
      "  True: 'AR0416'\n",
      "  Pred: '6831QJ'\n",
      "  True: '6831QJ'\n",
      "-------------------------------\n"
     ]
    },
    {
     "name": "stderr",
     "output_type": "stream",
     "text": [
      "Epoch 35/100 [TRAIN] LR: 5.95e-05 Teach: 0.48 Scheduler: ReduceLROnPlateau: 100%|██████████| 40/40 [00:59<00:00,  1.48s/it, loss=0.732]\n",
      "Epoch 35/100 [VAL]: 100%|██████████| 24/24 [00:35<00:00,  1.48s/it, loss=0.797]\n"
     ]
    },
    {
     "name": "stdout",
     "output_type": "stream",
     "text": [
      "EarlyStopping counter: 33/100 (Best val_acc: 0.9584)\n",
      "\n",
      "Epoch 35/100 | LR: 2.98e-05 | Teach: 0.48 | Scheduler: ReduceLROnPlateau\n",
      "  Train Loss: 0.7208 | Train Char Acc: 0.9937\n",
      "  Val Loss: 0.8231   | Val Acc (CRR): 0.9573\n",
      "  Val Exact Match Acc (E2E RR): 0.8151\n",
      "----------------------------------------------------------------------\n"
     ]
    },
    {
     "name": "stderr",
     "output_type": "stream",
     "text": [
      "Epoch 36/100 [TRAIN] LR: 2.98e-05 Teach: 0.47 Scheduler: ReduceLROnPlateau:   2%|▎         | 1/40 [00:05<03:52,  5.97s/it, loss=0.707]"
     ]
    },
    {
     "name": "stdout",
     "output_type": "stream",
     "text": [
      "\n",
      "--- Training Batch 0 Examples (Content Only) ---\n",
      "  Pred: '8Q9416'\n",
      "  True: '8Q9416'\n",
      "  Pred: '8106TM'\n",
      "  True: '8106TM'\n",
      "  Pred: '5B7036'\n",
      "  True: '5B7036'\n",
      "  Pred: 'C10790'\n",
      "  True: 'C10790'\n",
      "  Pred: '5871HJ'\n",
      "  True: '5871HJ'\n",
      "-------------------------------\n"
     ]
    },
    {
     "name": "stderr",
     "output_type": "stream",
     "text": [
      "Epoch 36/100 [TRAIN] LR: 2.98e-05 Teach: 0.47 Scheduler: ReduceLROnPlateau: 100%|██████████| 40/40 [00:59<00:00,  1.49s/it, loss=0.712]\n",
      "Epoch 36/100 [VAL]: 100%|██████████| 24/24 [00:35<00:00,  1.48s/it, loss=0.8]\n"
     ]
    },
    {
     "name": "stdout",
     "output_type": "stream",
     "text": [
      "EarlyStopping counter: 34/100 (Best val_acc: 0.9584)\n",
      "\n",
      "Epoch 36/100 | LR: 2.98e-05 | Teach: 0.47 | Scheduler: ReduceLROnPlateau\n",
      "  Train Loss: 0.7161 | Train Char Acc: 0.9952\n",
      "  Val Loss: 0.8219   | Val Acc (CRR): 0.9573\n",
      "  Val Exact Match Acc (E2E RR): 0.8164\n",
      "----------------------------------------------------------------------\n"
     ]
    },
    {
     "name": "stderr",
     "output_type": "stream",
     "text": [
      "Epoch 37/100 [TRAIN] LR: 2.98e-05 Teach: 0.46 Scheduler: ReduceLROnPlateau:   2%|▎         | 1/40 [00:05<03:31,  5.42s/it, loss=0.764]"
     ]
    },
    {
     "name": "stdout",
     "output_type": "stream",
     "text": [
      "\n",
      "--- Training Batch 0 Examples (Content Only) ---\n",
      "  Pred: 'DC4099'\n",
      "  True: 'DC4099'\n",
      "  Pred: '1471DV'\n",
      "  True: '1471DV'\n",
      "  Pred: 'PV4299'\n",
      "  True: 'PV4299'\n",
      "  Pred: 'BN6240'\n",
      "  True: 'BN6240'\n",
      "  Pred: 'C29126'\n",
      "  True: 'C29126'\n",
      "-------------------------------\n"
     ]
    },
    {
     "name": "stderr",
     "output_type": "stream",
     "text": [
      "Epoch 37/100 [TRAIN] LR: 2.98e-05 Teach: 0.46 Scheduler: ReduceLROnPlateau: 100%|██████████| 40/40 [00:58<00:00,  1.47s/it, loss=0.741]\n",
      "Epoch 37/100 [VAL]: 100%|██████████| 24/24 [00:35<00:00,  1.48s/it, loss=0.8]\n"
     ]
    },
    {
     "name": "stdout",
     "output_type": "stream",
     "text": [
      "EarlyStopping counter: 35/100 (Best val_acc: 0.9584)\n",
      "\n",
      "Epoch 37/100 | LR: 2.98e-05 | Teach: 0.46 | Scheduler: ReduceLROnPlateau\n",
      "  Train Loss: 0.7210 | Train Char Acc: 0.9926\n",
      "  Val Loss: 0.8239   | Val Acc (CRR): 0.9575\n",
      "  Val Exact Match Acc (E2E RR): 0.8190\n",
      "----------------------------------------------------------------------\n"
     ]
    },
    {
     "name": "stderr",
     "output_type": "stream",
     "text": [
      "Epoch 38/100 [TRAIN] LR: 2.98e-05 Teach: 0.46 Scheduler: ReduceLROnPlateau:   2%|▎         | 1/40 [00:05<03:46,  5.81s/it, loss=0.74]"
     ]
    },
    {
     "name": "stdout",
     "output_type": "stream",
     "text": [
      "\n",
      "--- Training Batch 0 Examples (Content Only) ---\n",
      "  Pred: '0218EY'\n",
      "  True: '0218EY'\n",
      "  Pred: 'CR0073'\n",
      "  True: 'CR0073'\n",
      "  Pred: 'CB3652'\n",
      "  True: 'CB3652'\n",
      "  Pred: '1598KT'\n",
      "  True: '1598KT'\n",
      "  Pred: '9699VH'\n",
      "  True: '9699VH'\n",
      "-------------------------------\n"
     ]
    },
    {
     "name": "stderr",
     "output_type": "stream",
     "text": [
      "Epoch 38/100 [TRAIN] LR: 2.98e-05 Teach: 0.46 Scheduler: ReduceLROnPlateau: 100%|██████████| 40/40 [00:59<00:00,  1.49s/it, loss=0.711]\n",
      "Epoch 38/100 [VAL]: 100%|██████████| 24/24 [00:35<00:00,  1.49s/it, loss=0.8]\n"
     ]
    },
    {
     "name": "stdout",
     "output_type": "stream",
     "text": [
      "EarlyStopping counter: 36/100 (Best val_acc: 0.9584)\n",
      "\n",
      "Epoch 38/100 | LR: 2.98e-05 | Teach: 0.46 | Scheduler: ReduceLROnPlateau\n",
      "  Train Loss: 0.7144 | Train Char Acc: 0.9953\n",
      "  Val Loss: 0.8229   | Val Acc (CRR): 0.9582\n",
      "  Val Exact Match Acc (E2E RR): 0.8203\n",
      "----------------------------------------------------------------------\n"
     ]
    },
    {
     "name": "stderr",
     "output_type": "stream",
     "text": [
      "Epoch 39/100 [TRAIN] LR: 2.98e-05 Teach: 0.45 Scheduler: ReduceLROnPlateau:   2%|▎         | 1/40 [00:05<03:45,  5.79s/it, loss=0.708]"
     ]
    },
    {
     "name": "stdout",
     "output_type": "stream",
     "text": [
      "\n",
      "--- Training Batch 0 Examples (Content Only) ---\n",
      "  Pred: '8676FE'\n",
      "  True: '8676FE'\n",
      "  Pred: 'C29126'\n",
      "  True: 'C29126'\n",
      "  Pred: '3368FK'\n",
      "  True: '3368FK'\n",
      "  Pred: 'R50268'\n",
      "  True: 'R50268'\n",
      "  Pred: 'P62405'\n",
      "  True: 'P624D5'\n",
      "-------------------------------\n"
     ]
    },
    {
     "name": "stderr",
     "output_type": "stream",
     "text": [
      "Epoch 39/100 [TRAIN] LR: 2.98e-05 Teach: 0.45 Scheduler: ReduceLROnPlateau: 100%|██████████| 40/40 [00:59<00:00,  1.48s/it, loss=0.701]\n",
      "Epoch 39/100 [VAL]: 100%|██████████| 24/24 [00:35<00:00,  1.48s/it, loss=0.801]\n"
     ]
    },
    {
     "name": "stdout",
     "output_type": "stream",
     "text": [
      "EarlyStopping counter: 37/100 (Best val_acc: 0.9584)\n",
      "\n",
      "Epoch 39/100 | LR: 2.98e-05 | Teach: 0.45 | Scheduler: ReduceLROnPlateau\n",
      "  Train Loss: 0.7186 | Train Char Acc: 0.9937\n",
      "  Val Loss: 0.8214   | Val Acc (CRR): 0.9573\n",
      "  Val Exact Match Acc (E2E RR): 0.8217\n",
      "----------------------------------------------------------------------\n"
     ]
    },
    {
     "name": "stderr",
     "output_type": "stream",
     "text": [
      "Epoch 40/100 [TRAIN] LR: 2.98e-05 Teach: 0.44 Scheduler: ReduceLROnPlateau:   2%|▎         | 1/40 [00:05<03:44,  5.75s/it, loss=0.71]"
     ]
    },
    {
     "name": "stdout",
     "output_type": "stream",
     "text": [
      "\n",
      "--- Training Batch 0 Examples (Content Only) ---\n",
      "  Pred: 'EZ6142'\n",
      "  True: 'EZ6142'\n",
      "  Pred: '3G2217'\n",
      "  True: '3G2217'\n",
      "  Pred: 'L60793'\n",
      "  True: 'L60793'\n",
      "  Pred: '2P6613'\n",
      "  True: '2P6613'\n",
      "  Pred: '3768RY'\n",
      "  True: '3768RY'\n",
      "-------------------------------\n"
     ]
    },
    {
     "name": "stderr",
     "output_type": "stream",
     "text": [
      "Epoch 40/100 [TRAIN] LR: 2.98e-05 Teach: 0.44 Scheduler: ReduceLROnPlateau: 100%|██████████| 40/40 [00:59<00:00,  1.48s/it, loss=0.742]\n",
      "Epoch 40/100 [VAL]: 100%|██████████| 24/24 [00:35<00:00,  1.49s/it, loss=0.801]\n"
     ]
    },
    {
     "name": "stdout",
     "output_type": "stream",
     "text": [
      "EarlyStopping counter: 38/100 (Best val_acc: 0.9584)\n",
      "\n",
      "Epoch 40/100 | LR: 2.98e-05 | Teach: 0.44 | Scheduler: ReduceLROnPlateau\n",
      "  Train Loss: 0.7157 | Train Char Acc: 0.9947\n",
      "  Val Loss: 0.8247   | Val Acc (CRR): 0.9573\n",
      "  Val Exact Match Acc (E2E RR): 0.8164\n",
      "----------------------------------------------------------------------\n"
     ]
    },
    {
     "name": "stderr",
     "output_type": "stream",
     "text": [
      "Epoch 41/100 [TRAIN] LR: 2.98e-05 Teach: 0.44 Scheduler: ReduceLROnPlateau:   2%|▎         | 1/40 [00:05<03:25,  5.26s/it, loss=0.744]"
     ]
    },
    {
     "name": "stdout",
     "output_type": "stream",
     "text": [
      "\n",
      "--- Training Batch 0 Examples (Content Only) ---\n",
      "  Pred: '7780TK'\n",
      "  True: '7780TK'\n",
      "  Pred: '3F4277'\n",
      "  True: '3F4277'\n",
      "  Pred: '1035AB'\n",
      "  True: '1035AB'\n",
      "  Pred: '8858RH'\n",
      "  True: '8858RH'\n",
      "  Pred: '1C0906'\n",
      "  True: '1C0906'\n",
      "-------------------------------\n"
     ]
    },
    {
     "name": "stderr",
     "output_type": "stream",
     "text": [
      "Epoch 41/100 [TRAIN] LR: 2.98e-05 Teach: 0.44 Scheduler: ReduceLROnPlateau: 100%|██████████| 40/40 [00:58<00:00,  1.47s/it, loss=0.705]\n",
      "Epoch 41/100 [VAL]: 100%|██████████| 24/24 [00:35<00:00,  1.48s/it, loss=0.802]\n"
     ]
    },
    {
     "name": "stdout",
     "output_type": "stream",
     "text": [
      "EarlyStopping counter: 39/100 (Best val_acc: 0.9584)\n",
      "\n",
      "Epoch 41/100 | LR: 1.49e-05 | Teach: 0.44 | Scheduler: ReduceLROnPlateau\n",
      "  Train Loss: 0.7185 | Train Char Acc: 0.9936\n",
      "  Val Loss: 0.8221   | Val Acc (CRR): 0.9577\n",
      "  Val Exact Match Acc (E2E RR): 0.8190\n",
      "----------------------------------------------------------------------\n"
     ]
    },
    {
     "name": "stderr",
     "output_type": "stream",
     "text": [
      "Epoch 42/100 [TRAIN] LR: 1.49e-05 Teach: 0.43 Scheduler: ReduceLROnPlateau:   2%|▎         | 1/40 [00:06<04:01,  6.20s/it, loss=0.702]"
     ]
    },
    {
     "name": "stdout",
     "output_type": "stream",
     "text": [
      "\n",
      "--- Training Batch 0 Examples (Content Only) ---\n",
      "  Pred: '6N2932'\n",
      "  True: '6N2932'\n",
      "  Pred: '4637JJ'\n",
      "  True: '4637JJ'\n",
      "  Pred: '7962TH'\n",
      "  True: '7962TH'\n",
      "  Pred: '3982QT'\n",
      "  True: '3982QT'\n",
      "  Pred: 'DF8082'\n",
      "  True: 'DF8082'\n",
      "-------------------------------\n"
     ]
    },
    {
     "name": "stderr",
     "output_type": "stream",
     "text": [
      "Epoch 42/100 [TRAIN] LR: 1.49e-05 Teach: 0.43 Scheduler: ReduceLROnPlateau: 100%|██████████| 40/40 [00:59<00:00,  1.49s/it, loss=0.702]\n",
      "Epoch 42/100 [VAL]: 100%|██████████| 24/24 [00:35<00:00,  1.48s/it, loss=0.798]\n"
     ]
    },
    {
     "name": "stdout",
     "output_type": "stream",
     "text": [
      "EarlyStopping counter: 40/100 (Best val_acc: 0.9584)\n",
      "\n",
      "Epoch 42/100 | LR: 1.49e-05 | Teach: 0.43 | Scheduler: ReduceLROnPlateau\n",
      "  Train Loss: 0.7193 | Train Char Acc: 0.9930\n",
      "  Val Loss: 0.8202   | Val Acc (CRR): 0.9579\n",
      "  Val Exact Match Acc (E2E RR): 0.8203\n",
      "----------------------------------------------------------------------\n"
     ]
    },
    {
     "name": "stderr",
     "output_type": "stream",
     "text": [
      "Epoch 43/100 [TRAIN] LR: 1.49e-05 Teach: 0.42 Scheduler: ReduceLROnPlateau:   2%|▎         | 1/40 [00:05<03:47,  5.83s/it, loss=0.76]"
     ]
    },
    {
     "name": "stdout",
     "output_type": "stream",
     "text": [
      "\n",
      "--- Training Batch 0 Examples (Content Only) ---\n",
      "  Pred: '6015RM'\n",
      "  True: '6015RM'\n",
      "  Pred: '9F1381'\n",
      "  True: '9F1381'\n",
      "  Pred: '0127QG'\n",
      "  True: '0127QG'\n",
      "  Pred: '2551JS'\n",
      "  True: '2551JS'\n",
      "  Pred: '8D9186'\n",
      "  True: '8D9186'\n",
      "-------------------------------\n"
     ]
    },
    {
     "name": "stderr",
     "output_type": "stream",
     "text": [
      "Epoch 43/100 [TRAIN] LR: 1.49e-05 Teach: 0.42 Scheduler: ReduceLROnPlateau: 100%|██████████| 40/40 [00:59<00:00,  1.49s/it, loss=0.701]\n",
      "Epoch 43/100 [VAL]: 100%|██████████| 24/24 [00:35<00:00,  1.48s/it, loss=0.8]\n"
     ]
    },
    {
     "name": "stdout",
     "output_type": "stream",
     "text": [
      "EarlyStopping counter: 41/100 (Best val_acc: 0.9584)\n",
      "\n",
      "Epoch 43/100 | LR: 1.49e-05 | Teach: 0.42 | Scheduler: ReduceLROnPlateau\n",
      "  Train Loss: 0.7209 | Train Char Acc: 0.9923\n",
      "  Val Loss: 0.8209   | Val Acc (CRR): 0.9571\n",
      "  Val Exact Match Acc (E2E RR): 0.8190\n",
      "----------------------------------------------------------------------\n"
     ]
    },
    {
     "name": "stderr",
     "output_type": "stream",
     "text": [
      "Epoch 44/100 [TRAIN] LR: 1.49e-05 Teach: 0.42 Scheduler: ReduceLROnPlateau:   2%|▎         | 1/40 [00:05<03:16,  5.04s/it, loss=0.721]"
     ]
    },
    {
     "name": "stdout",
     "output_type": "stream",
     "text": [
      "\n",
      "--- Training Batch 0 Examples (Content Only) ---\n",
      "  Pred: 'AT9090'\n",
      "  True: 'AT9090'\n",
      "  Pred: '1129FE'\n",
      "  True: '1129FE'\n",
      "  Pred: 'HL4406'\n",
      "  True: 'HL4408'\n",
      "  Pred: '9815QW'\n",
      "  True: '9815QW'\n",
      "  Pred: '8676FE'\n",
      "  True: '8676FE'\n",
      "-------------------------------\n"
     ]
    },
    {
     "name": "stderr",
     "output_type": "stream",
     "text": [
      "Epoch 44/100 [TRAIN] LR: 1.49e-05 Teach: 0.42 Scheduler: ReduceLROnPlateau: 100%|██████████| 40/40 [00:58<00:00,  1.46s/it, loss=0.716]\n",
      "Epoch 44/100 [VAL]: 100%|██████████| 24/24 [00:35<00:00,  1.49s/it, loss=0.802]\n"
     ]
    },
    {
     "name": "stdout",
     "output_type": "stream",
     "text": [
      "EarlyStopping counter: 42/100 (Best val_acc: 0.9584)\n",
      "\n",
      "Epoch 44/100 | LR: 7.44e-06 | Teach: 0.42 | Scheduler: ReduceLROnPlateau\n",
      "  Train Loss: 0.7232 | Train Char Acc: 0.9923\n",
      "  Val Loss: 0.8231   | Val Acc (CRR): 0.9560\n",
      "  Val Exact Match Acc (E2E RR): 0.8124\n",
      "----------------------------------------------------------------------\n"
     ]
    },
    {
     "name": "stderr",
     "output_type": "stream",
     "text": [
      "Epoch 45/100 [TRAIN] LR: 7.44e-06 Teach: 0.41 Scheduler: ReduceLROnPlateau:   2%|▎         | 1/40 [00:06<04:00,  6.16s/it, loss=0.736]"
     ]
    },
    {
     "name": "stdout",
     "output_type": "stream",
     "text": [
      "\n",
      "--- Training Batch 0 Examples (Content Only) ---\n",
      "  Pred: '1837CC'\n",
      "  True: '1837CC'\n",
      "  Pred: '7101DC'\n",
      "  True: '7101DC'\n",
      "  Pred: 'LW3BD0'\n",
      "  True: 'LW3BD0'\n",
      "  Pred: '3970EA'\n",
      "  True: '3970EA'\n",
      "  Pred: '6E2260'\n",
      "  True: '6E2260'\n",
      "-------------------------------\n"
     ]
    },
    {
     "name": "stderr",
     "output_type": "stream",
     "text": [
      "Epoch 45/100 [TRAIN] LR: 7.44e-06 Teach: 0.41 Scheduler: ReduceLROnPlateau: 100%|██████████| 40/40 [00:59<00:00,  1.49s/it, loss=0.731]\n",
      "Epoch 45/100 [VAL]: 100%|██████████| 24/24 [00:35<00:00,  1.49s/it, loss=0.802]\n"
     ]
    },
    {
     "name": "stdout",
     "output_type": "stream",
     "text": [
      "EarlyStopping counter: 43/100 (Best val_acc: 0.9584)\n",
      "\n",
      "Epoch 45/100 | LR: 7.44e-06 | Teach: 0.41 | Scheduler: ReduceLROnPlateau\n",
      "  Train Loss: 0.7175 | Train Char Acc: 0.9937\n",
      "  Val Loss: 0.8227   | Val Acc (CRR): 0.9557\n",
      "  Val Exact Match Acc (E2E RR): 0.8111\n",
      "----------------------------------------------------------------------\n"
     ]
    },
    {
     "name": "stderr",
     "output_type": "stream",
     "text": [
      "Epoch 46/100 [TRAIN] LR: 7.44e-06 Teach: 0.40 Scheduler: ReduceLROnPlateau:   2%|▎         | 1/40 [00:05<03:51,  5.94s/it, loss=0.73]"
     ]
    },
    {
     "name": "stdout",
     "output_type": "stream",
     "text": [
      "\n",
      "--- Training Batch 0 Examples (Content Only) ---\n",
      "  Pred: '7N9790'\n",
      "  True: '7N9790'\n",
      "  Pred: '5807NT'\n",
      "  True: '5807NT'\n",
      "  Pred: 'R50268'\n",
      "  True: 'R50268'\n",
      "  Pred: '639669'\n",
      "  True: '9C5669'\n",
      "  Pred: '7526FS'\n",
      "  True: '7526FS'\n",
      "-------------------------------\n"
     ]
    },
    {
     "name": "stderr",
     "output_type": "stream",
     "text": [
      "Epoch 46/100 [TRAIN] LR: 7.44e-06 Teach: 0.40 Scheduler: ReduceLROnPlateau: 100%|██████████| 40/40 [00:59<00:00,  1.49s/it, loss=0.71]\n",
      "Epoch 46/100 [VAL]: 100%|██████████| 24/24 [00:35<00:00,  1.48s/it, loss=0.801]\n"
     ]
    },
    {
     "name": "stdout",
     "output_type": "stream",
     "text": [
      "EarlyStopping counter: 44/100 (Best val_acc: 0.9584)\n",
      "\n",
      "Epoch 46/100 | LR: 7.44e-06 | Teach: 0.40 | Scheduler: ReduceLROnPlateau\n",
      "  Train Loss: 0.7202 | Train Char Acc: 0.9919\n",
      "  Val Loss: 0.8210   | Val Acc (CRR): 0.9568\n",
      "  Val Exact Match Acc (E2E RR): 0.8177\n",
      "----------------------------------------------------------------------\n"
     ]
    },
    {
     "name": "stderr",
     "output_type": "stream",
     "text": [
      "Epoch 47/100 [TRAIN] LR: 7.44e-06 Teach: 0.40 Scheduler: ReduceLROnPlateau:   2%|▎         | 1/40 [00:05<03:33,  5.46s/it, loss=0.707]"
     ]
    },
    {
     "name": "stdout",
     "output_type": "stream",
     "text": [
      "\n",
      "--- Training Batch 0 Examples (Content Only) ---\n",
      "  Pred: '0056TK'\n",
      "  True: '0056TK'\n",
      "  Pred: '7G2323'\n",
      "  True: '7G2323'\n",
      "  Pred: '6558QE'\n",
      "  True: '6558QE'\n",
      "  Pred: 'HY6571'\n",
      "  True: 'HY6571'\n",
      "  Pred: 'CN0972'\n",
      "  True: 'CN0972'\n",
      "-------------------------------\n"
     ]
    },
    {
     "name": "stderr",
     "output_type": "stream",
     "text": [
      "Epoch 47/100 [TRAIN] LR: 7.44e-06 Teach: 0.40 Scheduler: ReduceLROnPlateau: 100%|██████████| 40/40 [00:58<00:00,  1.47s/it, loss=0.723]\n",
      "Epoch 47/100 [VAL]: 100%|██████████| 24/24 [00:35<00:00,  1.48s/it, loss=0.8]\n"
     ]
    },
    {
     "name": "stdout",
     "output_type": "stream",
     "text": [
      "EarlyStopping counter: 45/100 (Best val_acc: 0.9584)\n",
      "\n",
      "Epoch 47/100 | LR: 3.72e-06 | Teach: 0.40 | Scheduler: ReduceLROnPlateau\n",
      "  Train Loss: 0.7158 | Train Char Acc: 0.9944\n",
      "  Val Loss: 0.8214   | Val Acc (CRR): 0.9564\n",
      "  Val Exact Match Acc (E2E RR): 0.8177\n",
      "----------------------------------------------------------------------\n"
     ]
    },
    {
     "name": "stderr",
     "output_type": "stream",
     "text": [
      "Epoch 48/100 [TRAIN] LR: 3.72e-06 Teach: 0.39 Scheduler: ReduceLROnPlateau:   2%|▎         | 1/40 [00:05<03:30,  5.39s/it, loss=0.711]"
     ]
    },
    {
     "name": "stdout",
     "output_type": "stream",
     "text": [
      "\n",
      "--- Training Batch 0 Examples (Content Only) ---\n",
      "  Pred: '5073MR'\n",
      "  True: '5073MR'\n",
      "  Pred: 'LA6558'\n",
      "  True: 'LA6558'\n",
      "  Pred: '2286FE'\n",
      "  True: '2286FE'\n",
      "  Pred: '3092EY'\n",
      "  True: '3092EY'\n",
      "  Pred: '8429QW'\n",
      "  True: '8429QW'\n",
      "-------------------------------\n"
     ]
    },
    {
     "name": "stderr",
     "output_type": "stream",
     "text": [
      "Epoch 48/100 [TRAIN] LR: 3.72e-06 Teach: 0.39 Scheduler: ReduceLROnPlateau: 100%|██████████| 40/40 [00:58<00:00,  1.47s/it, loss=0.709]\n",
      "Epoch 48/100 [VAL]: 100%|██████████| 24/24 [00:35<00:00,  1.48s/it, loss=0.8]\n"
     ]
    },
    {
     "name": "stdout",
     "output_type": "stream",
     "text": [
      "EarlyStopping counter: 46/100 (Best val_acc: 0.9584)\n",
      "\n",
      "Epoch 48/100 | LR: 3.72e-06 | Teach: 0.39 | Scheduler: ReduceLROnPlateau\n",
      "  Train Loss: 0.7191 | Train Char Acc: 0.9930\n",
      "  Val Loss: 0.8220   | Val Acc (CRR): 0.9555\n",
      "  Val Exact Match Acc (E2E RR): 0.8124\n",
      "----------------------------------------------------------------------\n"
     ]
    },
    {
     "name": "stderr",
     "output_type": "stream",
     "text": [
      "Epoch 49/100 [TRAIN] LR: 3.72e-06 Teach: 0.38 Scheduler: ReduceLROnPlateau:   2%|▎         | 1/40 [00:05<03:23,  5.21s/it, loss=0.723]"
     ]
    },
    {
     "name": "stdout",
     "output_type": "stream",
     "text": [
      "\n",
      "--- Training Batch 0 Examples (Content Only) ---\n",
      "  Pred: '9109QY'\n",
      "  True: '9109QY'\n",
      "  Pred: '8962ED'\n",
      "  True: '8962ED'\n",
      "  Pred: '6N2932'\n",
      "  True: '6N2932'\n",
      "  Pred: '0127QG'\n",
      "  True: '0127QG'\n",
      "  Pred: '1976VH'\n",
      "  True: '1976VH'\n",
      "-------------------------------\n"
     ]
    },
    {
     "name": "stderr",
     "output_type": "stream",
     "text": [
      "Epoch 49/100 [TRAIN] LR: 3.72e-06 Teach: 0.38 Scheduler: ReduceLROnPlateau: 100%|██████████| 40/40 [00:58<00:00,  1.47s/it, loss=0.702]\n",
      "Epoch 49/100 [VAL]: 100%|██████████| 24/24 [00:35<00:00,  1.48s/it, loss=0.801]\n"
     ]
    },
    {
     "name": "stdout",
     "output_type": "stream",
     "text": [
      "EarlyStopping counter: 47/100 (Best val_acc: 0.9584)\n",
      "\n",
      "Epoch 49/100 | LR: 3.72e-06 | Teach: 0.38 | Scheduler: ReduceLROnPlateau\n",
      "  Train Loss: 0.7177 | Train Char Acc: 0.9939\n",
      "  Val Loss: 0.8217   | Val Acc (CRR): 0.9560\n",
      "  Val Exact Match Acc (E2E RR): 0.8124\n",
      "----------------------------------------------------------------------\n"
     ]
    },
    {
     "name": "stderr",
     "output_type": "stream",
     "text": [
      "Epoch 50/100 [TRAIN] LR: 3.72e-06 Teach: 0.38 Scheduler: ReduceLROnPlateau:   2%|▎         | 1/40 [00:05<03:43,  5.74s/it, loss=0.751]"
     ]
    },
    {
     "name": "stdout",
     "output_type": "stream",
     "text": [
      "\n",
      "--- Training Batch 0 Examples (Content Only) ---\n",
      "  Pred: '2E3345'\n",
      "  True: '2E3345'\n",
      "  Pred: 'BZ4365'\n",
      "  True: 'BZ4365'\n",
      "  Pred: '2D1873'\n",
      "  True: '2D1873'\n",
      "  Pred: '8593FF'\n",
      "  True: '8593FF'\n",
      "  Pred: '4926JS'\n",
      "  True: '4926JS'\n",
      "-------------------------------\n"
     ]
    },
    {
     "name": "stderr",
     "output_type": "stream",
     "text": [
      "Epoch 50/100 [TRAIN] LR: 3.72e-06 Teach: 0.38 Scheduler: ReduceLROnPlateau: 100%|██████████| 40/40 [00:59<00:00,  1.48s/it, loss=0.708]\n",
      "Epoch 50/100 [VAL]: 100%|██████████| 24/24 [00:35<00:00,  1.48s/it, loss=0.799]\n"
     ]
    },
    {
     "name": "stdout",
     "output_type": "stream",
     "text": [
      "EarlyStopping counter: 48/100 (Best val_acc: 0.9584)\n",
      "\n",
      "Epoch 50/100 | LR: 1.86e-06 | Teach: 0.38 | Scheduler: ReduceLROnPlateau\n",
      "  Train Loss: 0.7215 | Train Char Acc: 0.9922\n",
      "  Val Loss: 0.8221   | Val Acc (CRR): 0.9557\n",
      "  Val Exact Match Acc (E2E RR): 0.8111\n",
      "----------------------------------------------------------------------\n"
     ]
    },
    {
     "name": "stderr",
     "output_type": "stream",
     "text": [
      "Epoch 51/100 [TRAIN] LR: 1.86e-06 Teach: 0.37 Scheduler: ReduceLROnPlateau:   2%|▎         | 1/40 [00:05<03:31,  5.42s/it, loss=0.739]"
     ]
    },
    {
     "name": "stdout",
     "output_type": "stream",
     "text": [
      "\n",
      "--- Training Batch 0 Examples (Content Only) ---\n",
      "  Pred: '8571EA'\n",
      "  True: '8571EA'\n",
      "  Pred: '1985GW'\n",
      "  True: '1985GW'\n",
      "  Pred: '4517NT'\n",
      "  True: '4517NT'\n",
      "  Pred: '7N8062'\n",
      "  True: '7N8062'\n",
      "  Pred: '8190DR'\n",
      "  True: '819DDR'\n",
      "-------------------------------\n"
     ]
    },
    {
     "name": "stderr",
     "output_type": "stream",
     "text": [
      "Epoch 51/100 [TRAIN] LR: 1.86e-06 Teach: 0.37 Scheduler: ReduceLROnPlateau: 100%|██████████| 40/40 [00:58<00:00,  1.47s/it, loss=0.704]\n",
      "Epoch 51/100 [VAL]: 100%|██████████| 24/24 [00:35<00:00,  1.49s/it, loss=0.8]\n"
     ]
    },
    {
     "name": "stdout",
     "output_type": "stream",
     "text": [
      "EarlyStopping counter: 49/100 (Best val_acc: 0.9584)\n",
      "\n",
      "Epoch 51/100 | LR: 1.86e-06 | Teach: 0.37 | Scheduler: ReduceLROnPlateau\n",
      "  Train Loss: 0.7130 | Train Char Acc: 0.9956\n",
      "  Val Loss: 0.8218   | Val Acc (CRR): 0.9566\n",
      "  Val Exact Match Acc (E2E RR): 0.8151\n",
      "----------------------------------------------------------------------\n"
     ]
    },
    {
     "name": "stderr",
     "output_type": "stream",
     "text": [
      "Epoch 52/100 [TRAIN] LR: 1.86e-06 Teach: 0.37 Scheduler: ReduceLROnPlateau:   2%|▎         | 1/40 [00:06<03:54,  6.00s/it, loss=0.751]"
     ]
    },
    {
     "name": "stdout",
     "output_type": "stream",
     "text": [
      "\n",
      "--- Training Batch 0 Examples (Content Only) ---\n",
      "  Pred: 'CY9496'\n",
      "  True: 'CY9496'\n",
      "  Pred: 'GK9087'\n",
      "  True: 'GK9087'\n",
      "  Pred: 'BB0D31'\n",
      "  True: 'BB0D31'\n",
      "  Pred: '9278EM'\n",
      "  True: '9278EM'\n",
      "  Pred: '4088EV'\n",
      "  True: '4088EV'\n",
      "-------------------------------\n"
     ]
    },
    {
     "name": "stderr",
     "output_type": "stream",
     "text": [
      "Epoch 52/100 [TRAIN] LR: 1.86e-06 Teach: 0.37 Scheduler: ReduceLROnPlateau: 100%|██████████| 40/40 [00:59<00:00,  1.49s/it, loss=0.761]\n",
      "Epoch 52/100 [VAL]: 100%|██████████| 24/24 [00:35<00:00,  1.47s/it, loss=0.8]\n"
     ]
    },
    {
     "name": "stdout",
     "output_type": "stream",
     "text": [
      "EarlyStopping counter: 50/100 (Best val_acc: 0.9584)\n",
      "\n",
      "Epoch 52/100 | LR: 1.86e-06 | Teach: 0.37 | Scheduler: ReduceLROnPlateau\n",
      "  Train Loss: 0.7187 | Train Char Acc: 0.9931\n",
      "  Val Loss: 0.8215   | Val Acc (CRR): 0.9564\n",
      "  Val Exact Match Acc (E2E RR): 0.8137\n",
      "----------------------------------------------------------------------\n"
     ]
    },
    {
     "name": "stderr",
     "output_type": "stream",
     "text": [
      "Epoch 53/100 [TRAIN] LR: 1.86e-06 Teach: 0.36 Scheduler: ReduceLROnPlateau:   2%|▎         | 1/40 [00:05<03:42,  5.71s/it, loss=0.723]"
     ]
    },
    {
     "name": "stdout",
     "output_type": "stream",
     "text": [
      "\n",
      "--- Training Batch 0 Examples (Content Only) ---\n",
      "  Pred: '8Q9416'\n",
      "  True: '8Q9416'\n",
      "  Pred: '5G9803'\n",
      "  True: '5G9803'\n",
      "  Pred: 'ZZ4230'\n",
      "  True: 'ZZ4230'\n",
      "  Pred: 'F77607'\n",
      "  True: 'F77607'\n",
      "  Pred: '2401LL'\n",
      "  True: '2401LL'\n",
      "-------------------------------\n"
     ]
    },
    {
     "name": "stderr",
     "output_type": "stream",
     "text": [
      "Epoch 53/100 [TRAIN] LR: 1.86e-06 Teach: 0.36 Scheduler: ReduceLROnPlateau: 100%|██████████| 40/40 [00:59<00:00,  1.48s/it, loss=0.74]\n",
      "Epoch 53/100 [VAL]: 100%|██████████| 24/24 [00:35<00:00,  1.49s/it, loss=0.8]\n"
     ]
    },
    {
     "name": "stdout",
     "output_type": "stream",
     "text": [
      "EarlyStopping counter: 51/100 (Best val_acc: 0.9584)\n",
      "\n",
      "Epoch 53/100 | LR: 9.30e-07 | Teach: 0.36 | Scheduler: ReduceLROnPlateau\n",
      "  Train Loss: 0.7223 | Train Char Acc: 0.9921\n",
      "  Val Loss: 0.8213   | Val Acc (CRR): 0.9562\n",
      "  Val Exact Match Acc (E2E RR): 0.8111\n",
      "----------------------------------------------------------------------\n"
     ]
    },
    {
     "name": "stderr",
     "output_type": "stream",
     "text": [
      "Epoch 54/100 [TRAIN] LR: 9.30e-07 Teach: 0.35 Scheduler: ReduceLROnPlateau:   2%|▎         | 1/40 [00:05<03:48,  5.86s/it, loss=0.774]"
     ]
    },
    {
     "name": "stdout",
     "output_type": "stream",
     "text": [
      "\n",
      "--- Training Batch 0 Examples (Content Only) ---\n",
      "  Pred: '0112RN'\n",
      "  True: '0872HN'\n",
      "  Pred: '5D7379'\n",
      "  True: '5D7379'\n",
      "  Pred: '5405CC'\n",
      "  True: '5405CC'\n",
      "  Pred: '11111Z'\n",
      "  True: '11111Z'\n",
      "  Pred: '1876UC'\n",
      "  True: '1876UC'\n",
      "-------------------------------\n"
     ]
    },
    {
     "name": "stderr",
     "output_type": "stream",
     "text": [
      "Epoch 54/100 [TRAIN] LR: 9.30e-07 Teach: 0.35 Scheduler: ReduceLROnPlateau: 100%|██████████| 40/40 [00:59<00:00,  1.49s/it, loss=0.707]\n",
      "Epoch 54/100 [VAL]: 100%|██████████| 24/24 [00:35<00:00,  1.48s/it, loss=0.8]\n"
     ]
    },
    {
     "name": "stdout",
     "output_type": "stream",
     "text": [
      "EarlyStopping counter: 52/100 (Best val_acc: 0.9584)\n",
      "\n",
      "Epoch 54/100 | LR: 9.30e-07 | Teach: 0.35 | Scheduler: ReduceLROnPlateau\n",
      "  Train Loss: 0.7202 | Train Char Acc: 0.9921\n",
      "  Val Loss: 0.8215   | Val Acc (CRR): 0.9564\n",
      "  Val Exact Match Acc (E2E RR): 0.8124\n",
      "----------------------------------------------------------------------\n"
     ]
    },
    {
     "name": "stderr",
     "output_type": "stream",
     "text": [
      "Epoch 55/100 [TRAIN] LR: 9.30e-07 Teach: 0.35 Scheduler: ReduceLROnPlateau:   2%|▎         | 1/40 [00:06<04:00,  6.15s/it, loss=0.701]"
     ]
    },
    {
     "name": "stdout",
     "output_type": "stream",
     "text": [
      "\n",
      "--- Training Batch 0 Examples (Content Only) ---\n",
      "  Pred: '8695LS'\n",
      "  True: '8695LS'\n",
      "  Pred: '5073MR'\n",
      "  True: '5073MR'\n",
      "  Pred: '7090UJ'\n",
      "  True: '7090UJ'\n",
      "  Pred: '2582PK'\n",
      "  True: '2582PK'\n",
      "  Pred: 'CH6088'\n",
      "  True: 'CH6088'\n",
      "-------------------------------\n"
     ]
    },
    {
     "name": "stderr",
     "output_type": "stream",
     "text": [
      "Epoch 55/100 [TRAIN] LR: 9.30e-07 Teach: 0.35 Scheduler: ReduceLROnPlateau: 100%|██████████| 40/40 [00:59<00:00,  1.49s/it, loss=0.706]\n",
      "Epoch 55/100 [VAL]: 100%|██████████| 24/24 [00:35<00:00,  1.49s/it, loss=0.799]\n"
     ]
    },
    {
     "name": "stdout",
     "output_type": "stream",
     "text": [
      "EarlyStopping counter: 53/100 (Best val_acc: 0.9584)\n",
      "\n",
      "Epoch 55/100 | LR: 9.30e-07 | Teach: 0.35 | Scheduler: ReduceLROnPlateau\n",
      "  Train Loss: 0.7173 | Train Char Acc: 0.9936\n",
      "  Val Loss: 0.8213   | Val Acc (CRR): 0.9564\n",
      "  Val Exact Match Acc (E2E RR): 0.8137\n",
      "----------------------------------------------------------------------\n"
     ]
    },
    {
     "name": "stderr",
     "output_type": "stream",
     "text": [
      "Epoch 56/100 [TRAIN] LR: 9.30e-07 Teach: 0.34 Scheduler: ReduceLROnPlateau:   2%|▎         | 1/40 [00:05<03:53,  5.98s/it, loss=0.74]"
     ]
    },
    {
     "name": "stdout",
     "output_type": "stream",
     "text": [
      "\n",
      "--- Training Batch 0 Examples (Content Only) ---\n",
      "  Pred: '5871HJ'\n",
      "  True: '5871HJ'\n",
      "  Pred: '4315RJ'\n",
      "  True: '4315RJ'\n",
      "  Pred: '8828JZ'\n",
      "  True: '8828JZ'\n",
      "  Pred: '7672HV'\n",
      "  True: '7672HV'\n",
      "  Pred: 'GA5527'\n",
      "  True: 'GA5527'\n",
      "-------------------------------\n"
     ]
    },
    {
     "name": "stderr",
     "output_type": "stream",
     "text": [
      "Epoch 56/100 [TRAIN] LR: 9.30e-07 Teach: 0.34 Scheduler: ReduceLROnPlateau: 100%|██████████| 40/40 [00:59<00:00,  1.50s/it, loss=0.705]\n",
      "Epoch 56/100 [VAL]: 100%|██████████| 24/24 [00:35<00:00,  1.48s/it, loss=0.8]\n"
     ]
    },
    {
     "name": "stdout",
     "output_type": "stream",
     "text": [
      "EarlyStopping counter: 54/100 (Best val_acc: 0.9584)\n",
      "\n",
      "Epoch 56/100 | LR: 4.65e-07 | Teach: 0.34 | Scheduler: ReduceLROnPlateau\n",
      "  Train Loss: 0.7160 | Train Char Acc: 0.9948\n",
      "  Val Loss: 0.8212   | Val Acc (CRR): 0.9564\n",
      "  Val Exact Match Acc (E2E RR): 0.8151\n",
      "----------------------------------------------------------------------\n"
     ]
    },
    {
     "name": "stderr",
     "output_type": "stream",
     "text": [
      "Epoch 57/100 [TRAIN] LR: 4.65e-07 Teach: 0.33 Scheduler: ReduceLROnPlateau:   2%|▎         | 1/40 [00:05<03:49,  5.89s/it, loss=0.739]"
     ]
    },
    {
     "name": "stdout",
     "output_type": "stream",
     "text": [
      "\n",
      "--- Training Batch 0 Examples (Content Only) ---\n",
      "  Pred: 'CR0073'\n",
      "  True: 'CR0073'\n",
      "  Pred: '0622QE'\n",
      "  True: '0622QE'\n",
      "  Pred: 'X23189'\n",
      "  True: 'X23189'\n",
      "  Pred: '9511DZ'\n",
      "  True: '9511DZ'\n",
      "  Pred: '8E2157'\n",
      "  True: '8E2157'\n",
      "-------------------------------\n"
     ]
    },
    {
     "name": "stderr",
     "output_type": "stream",
     "text": [
      "Epoch 57/100 [TRAIN] LR: 4.65e-07 Teach: 0.33 Scheduler: ReduceLROnPlateau: 100%|██████████| 40/40 [00:59<00:00,  1.49s/it, loss=0.711]\n",
      "Epoch 57/100 [VAL]: 100%|██████████| 24/24 [00:35<00:00,  1.48s/it, loss=0.8]\n"
     ]
    },
    {
     "name": "stdout",
     "output_type": "stream",
     "text": [
      "EarlyStopping counter: 55/100 (Best val_acc: 0.9584)\n",
      "\n",
      "Epoch 57/100 | LR: 4.65e-07 | Teach: 0.33 | Scheduler: ReduceLROnPlateau\n",
      "  Train Loss: 0.7207 | Train Char Acc: 0.9924\n",
      "  Val Loss: 0.8211   | Val Acc (CRR): 0.9566\n",
      "  Val Exact Match Acc (E2E RR): 0.8137\n",
      "----------------------------------------------------------------------\n"
     ]
    },
    {
     "name": "stderr",
     "output_type": "stream",
     "text": [
      "Epoch 58/100 [TRAIN] LR: 4.65e-07 Teach: 0.33 Scheduler: ReduceLROnPlateau:   2%|▎         | 1/40 [00:06<03:57,  6.10s/it, loss=0.702]"
     ]
    },
    {
     "name": "stdout",
     "output_type": "stream",
     "text": [
      "\n",
      "--- Training Batch 0 Examples (Content Only) ---\n",
      "  Pred: 'RZ2901'\n",
      "  True: 'RZ2901'\n",
      "  Pred: '0872HN'\n",
      "  True: '0872HN'\n",
      "  Pred: '6C1699'\n",
      "  True: '6C1699'\n",
      "  Pred: '6878NB'\n",
      "  True: '6878NB'\n",
      "  Pred: '7385TH'\n",
      "  True: '7385TH'\n",
      "-------------------------------\n"
     ]
    },
    {
     "name": "stderr",
     "output_type": "stream",
     "text": [
      "Epoch 58/100 [TRAIN] LR: 4.65e-07 Teach: 0.33 Scheduler: ReduceLROnPlateau: 100%|██████████| 40/40 [00:59<00:00,  1.49s/it, loss=0.701]\n",
      "Epoch 58/100 [VAL]: 100%|██████████| 24/24 [00:35<00:00,  1.48s/it, loss=0.8]\n"
     ]
    },
    {
     "name": "stdout",
     "output_type": "stream",
     "text": [
      "EarlyStopping counter: 56/100 (Best val_acc: 0.9584)\n",
      "\n",
      "Epoch 58/100 | LR: 4.65e-07 | Teach: 0.33 | Scheduler: ReduceLROnPlateau\n",
      "  Train Loss: 0.7231 | Train Char Acc: 0.9915\n",
      "  Val Loss: 0.8212   | Val Acc (CRR): 0.9564\n",
      "  Val Exact Match Acc (E2E RR): 0.8137\n",
      "----------------------------------------------------------------------\n"
     ]
    },
    {
     "name": "stderr",
     "output_type": "stream",
     "text": [
      "Epoch 59/100 [TRAIN] LR: 4.65e-07 Teach: 0.32 Scheduler: ReduceLROnPlateau:   2%|▎         | 1/40 [00:05<03:52,  5.96s/it, loss=0.712]"
     ]
    },
    {
     "name": "stdout",
     "output_type": "stream",
     "text": [
      "\n",
      "--- Training Batch 0 Examples (Content Only) ---\n",
      "  Pred: '1225CC'\n",
      "  True: '1225CC'\n",
      "  Pred: '5T4929'\n",
      "  True: '5T4929'\n",
      "  Pred: '2N4202'\n",
      "  True: '2N4202'\n",
      "  Pred: '6799LU'\n",
      "  True: '6799LU'\n",
      "  Pred: 'F98367'\n",
      "  True: 'F98367'\n",
      "-------------------------------\n"
     ]
    },
    {
     "name": "stderr",
     "output_type": "stream",
     "text": [
      "Epoch 59/100 [TRAIN] LR: 4.65e-07 Teach: 0.32 Scheduler: ReduceLROnPlateau: 100%|██████████| 40/40 [00:59<00:00,  1.48s/it, loss=0.707]\n",
      "Epoch 59/100 [VAL]: 100%|██████████| 24/24 [00:35<00:00,  1.48s/it, loss=0.8]\n"
     ]
    },
    {
     "name": "stdout",
     "output_type": "stream",
     "text": [
      "EarlyStopping counter: 57/100 (Best val_acc: 0.9584)\n",
      "\n",
      "Epoch 59/100 | LR: 2.32e-07 | Teach: 0.32 | Scheduler: ReduceLROnPlateau\n",
      "  Train Loss: 0.7170 | Train Char Acc: 0.9939\n",
      "  Val Loss: 0.8212   | Val Acc (CRR): 0.9566\n",
      "  Val Exact Match Acc (E2E RR): 0.8137\n",
      "----------------------------------------------------------------------\n"
     ]
    },
    {
     "name": "stderr",
     "output_type": "stream",
     "text": [
      "Epoch 60/100 [TRAIN] LR: 2.32e-07 Teach: 0.31 Scheduler: ReduceLROnPlateau:   2%|▎         | 1/40 [00:05<03:28,  5.36s/it, loss=0.75]"
     ]
    },
    {
     "name": "stdout",
     "output_type": "stream",
     "text": [
      "\n",
      "--- Training Batch 0 Examples (Content Only) ---\n",
      "  Pred: '1225CC'\n",
      "  True: '1225CC'\n",
      "  Pred: '3982QT'\n",
      "  True: '3982QT'\n",
      "  Pred: '0329HB'\n",
      "  True: '0329HB'\n",
      "  Pred: '2959JJ'\n",
      "  True: '2959JJ'\n",
      "  Pred: '6C3028'\n",
      "  True: '6C3028'\n",
      "-------------------------------\n"
     ]
    },
    {
     "name": "stderr",
     "output_type": "stream",
     "text": [
      "Epoch 60/100 [TRAIN] LR: 2.32e-07 Teach: 0.31 Scheduler: ReduceLROnPlateau: 100%|██████████| 40/40 [00:58<00:00,  1.47s/it, loss=0.734]\n",
      "Epoch 60/100 [VAL]: 100%|██████████| 24/24 [00:35<00:00,  1.48s/it, loss=0.8]\n"
     ]
    },
    {
     "name": "stdout",
     "output_type": "stream",
     "text": [
      "EarlyStopping counter: 58/100 (Best val_acc: 0.9584)\n",
      "\n",
      "Epoch 60/100 | LR: 2.32e-07 | Teach: 0.31 | Scheduler: ReduceLROnPlateau\n",
      "  Train Loss: 0.7199 | Train Char Acc: 0.9934\n",
      "  Val Loss: 0.8212   | Val Acc (CRR): 0.9564\n",
      "  Val Exact Match Acc (E2E RR): 0.8151\n",
      "----------------------------------------------------------------------\n"
     ]
    },
    {
     "name": "stderr",
     "output_type": "stream",
     "text": [
      "Epoch 61/100 [TRAIN] LR: 2.32e-07 Teach: 0.31 Scheduler: ReduceLROnPlateau:   2%|▎         | 1/40 [00:06<03:58,  6.10s/it, loss=0.705]"
     ]
    },
    {
     "name": "stdout",
     "output_type": "stream",
     "text": [
      "\n",
      "--- Training Batch 0 Examples (Content Only) ---\n",
      "  Pred: '3V0123'\n",
      "  True: '3V0123'\n",
      "  Pred: 'CW9539'\n",
      "  True: 'CW9539'\n",
      "  Pred: '6799LU'\n",
      "  True: '6799LU'\n",
      "  Pred: '8D7829'\n",
      "  True: '8D7829'\n",
      "  Pred: '0329HB'\n",
      "  True: '0329HB'\n",
      "-------------------------------\n"
     ]
    },
    {
     "name": "stderr",
     "output_type": "stream",
     "text": [
      "Epoch 61/100 [TRAIN] LR: 2.32e-07 Teach: 0.31 Scheduler: ReduceLROnPlateau: 100%|██████████| 40/40 [00:59<00:00,  1.49s/it, loss=0.819]\n",
      "Epoch 61/100 [VAL]: 100%|██████████| 24/24 [00:35<00:00,  1.48s/it, loss=0.8]\n"
     ]
    },
    {
     "name": "stdout",
     "output_type": "stream",
     "text": [
      "EarlyStopping counter: 59/100 (Best val_acc: 0.9584)\n",
      "\n",
      "Epoch 61/100 | LR: 2.32e-07 | Teach: 0.31 | Scheduler: ReduceLROnPlateau\n",
      "  Train Loss: 0.7200 | Train Char Acc: 0.9921\n",
      "  Val Loss: 0.8210   | Val Acc (CRR): 0.9564\n",
      "  Val Exact Match Acc (E2E RR): 0.8137\n",
      "----------------------------------------------------------------------\n"
     ]
    },
    {
     "name": "stderr",
     "output_type": "stream",
     "text": [
      "Epoch 62/100 [TRAIN] LR: 2.32e-07 Teach: 0.30 Scheduler: ReduceLROnPlateau:   2%|▎         | 1/40 [00:05<03:44,  5.75s/it, loss=0.728]"
     ]
    },
    {
     "name": "stdout",
     "output_type": "stream",
     "text": [
      "\n",
      "--- Training Batch 0 Examples (Content Only) ---\n",
      "  Pred: '7197QM'\n",
      "  True: '7197QM'\n",
      "  Pred: 'G26178'\n",
      "  True: 'G26178'\n",
      "  Pred: '4323DU'\n",
      "  True: '4323DU'\n",
      "  Pred: '2551JS'\n",
      "  True: '2551JS'\n",
      "  Pred: '5772BB'\n",
      "  True: '5772BB'\n",
      "-------------------------------\n"
     ]
    },
    {
     "name": "stderr",
     "output_type": "stream",
     "text": [
      "Epoch 62/100 [TRAIN] LR: 2.32e-07 Teach: 0.30 Scheduler: ReduceLROnPlateau: 100%|██████████| 40/40 [00:59<00:00,  1.48s/it, loss=0.709]\n",
      "Epoch 62/100 [VAL]: 100%|██████████| 24/24 [00:35<00:00,  1.48s/it, loss=0.8]\n"
     ]
    },
    {
     "name": "stdout",
     "output_type": "stream",
     "text": [
      "EarlyStopping counter: 60/100 (Best val_acc: 0.9584)\n",
      "\n",
      "Epoch 62/100 | LR: 1.16e-07 | Teach: 0.30 | Scheduler: ReduceLROnPlateau\n",
      "  Train Loss: 0.7153 | Train Char Acc: 0.9949\n",
      "  Val Loss: 0.8211   | Val Acc (CRR): 0.9566\n",
      "  Val Exact Match Acc (E2E RR): 0.8137\n",
      "----------------------------------------------------------------------\n"
     ]
    },
    {
     "name": "stderr",
     "output_type": "stream",
     "text": [
      "Epoch 63/100 [TRAIN] LR: 1.16e-07 Teach: 0.29 Scheduler: ReduceLROnPlateau:   2%|▎         | 1/40 [00:05<03:42,  5.70s/it, loss=0.713]"
     ]
    },
    {
     "name": "stdout",
     "output_type": "stream",
     "text": [
      "\n",
      "--- Training Batch 0 Examples (Content Only) ---\n",
      "  Pred: '0A8980'\n",
      "  True: '0A8980'\n",
      "  Pred: '8479GG'\n",
      "  True: '8479GG'\n",
      "  Pred: '1976VH'\n",
      "  True: '1976VH'\n",
      "  Pred: 'S54578'\n",
      "  True: 'S54578'\n",
      "  Pred: '2N4202'\n",
      "  True: '2N4202'\n",
      "-------------------------------\n"
     ]
    },
    {
     "name": "stderr",
     "output_type": "stream",
     "text": [
      "Epoch 63/100 [TRAIN] LR: 1.16e-07 Teach: 0.29 Scheduler: ReduceLROnPlateau: 100%|██████████| 40/40 [00:59<00:00,  1.48s/it, loss=0.709]\n",
      "Epoch 63/100 [VAL]: 100%|██████████| 24/24 [00:35<00:00,  1.48s/it, loss=0.801]\n"
     ]
    },
    {
     "name": "stdout",
     "output_type": "stream",
     "text": [
      "EarlyStopping counter: 61/100 (Best val_acc: 0.9584)\n",
      "\n",
      "Epoch 63/100 | LR: 1.16e-07 | Teach: 0.29 | Scheduler: ReduceLROnPlateau\n",
      "  Train Loss: 0.7164 | Train Char Acc: 0.9947\n",
      "  Val Loss: 0.8211   | Val Acc (CRR): 0.9566\n",
      "  Val Exact Match Acc (E2E RR): 0.8151\n",
      "----------------------------------------------------------------------\n"
     ]
    },
    {
     "name": "stderr",
     "output_type": "stream",
     "text": [
      "Epoch 64/100 [TRAIN] LR: 1.16e-07 Teach: 0.29 Scheduler: ReduceLROnPlateau:   2%|▎         | 1/40 [00:06<04:09,  6.39s/it, loss=0.745]"
     ]
    },
    {
     "name": "stdout",
     "output_type": "stream",
     "text": [
      "\n",
      "--- Training Batch 0 Examples (Content Only) ---\n",
      "  Pred: '6831QJ'\n",
      "  True: '6831QJ'\n",
      "  Pred: '3335KD'\n",
      "  True: '3335KD'\n",
      "  Pred: '0358RK'\n",
      "  True: '0358RK'\n",
      "  Pred: '6A7863'\n",
      "  True: '6A7863'\n",
      "  Pred: 'HL4408'\n",
      "  True: 'HL4408'\n",
      "-------------------------------\n"
     ]
    },
    {
     "name": "stderr",
     "output_type": "stream",
     "text": [
      "Epoch 64/100 [TRAIN] LR: 1.16e-07 Teach: 0.29 Scheduler: ReduceLROnPlateau: 100%|██████████| 40/40 [00:59<00:00,  1.49s/it, loss=0.706]\n",
      "Epoch 64/100 [VAL]: 100%|██████████| 24/24 [00:35<00:00,  1.48s/it, loss=0.8]\n"
     ]
    },
    {
     "name": "stdout",
     "output_type": "stream",
     "text": [
      "EarlyStopping counter: 62/100 (Best val_acc: 0.9584)\n",
      "\n",
      "Epoch 64/100 | LR: 1.16e-07 | Teach: 0.29 | Scheduler: ReduceLROnPlateau\n",
      "  Train Loss: 0.7185 | Train Char Acc: 0.9934\n",
      "  Val Loss: 0.8212   | Val Acc (CRR): 0.9566\n",
      "  Val Exact Match Acc (E2E RR): 0.8151\n",
      "----------------------------------------------------------------------\n"
     ]
    },
    {
     "name": "stderr",
     "output_type": "stream",
     "text": [
      "Epoch 65/100 [TRAIN] LR: 1.16e-07 Teach: 0.28 Scheduler: ReduceLROnPlateau:   2%|▎         | 1/40 [00:05<03:52,  5.96s/it, loss=0.7]"
     ]
    },
    {
     "name": "stdout",
     "output_type": "stream",
     "text": [
      "\n",
      "--- Training Batch 0 Examples (Content Only) ---\n",
      "  Pred: 'H88282'\n",
      "  True: 'H88282'\n",
      "  Pred: 'EZ6142'\n",
      "  True: 'EZ6142'\n",
      "  Pred: 'DF2715'\n",
      "  True: 'DF2715'\n",
      "  Pred: '3852HG'\n",
      "  True: '3852HG'\n",
      "  Pred: '9161KD'\n",
      "  True: '9161KD'\n",
      "-------------------------------\n"
     ]
    },
    {
     "name": "stderr",
     "output_type": "stream",
     "text": [
      "Epoch 65/100 [TRAIN] LR: 1.16e-07 Teach: 0.28 Scheduler: ReduceLROnPlateau: 100%|██████████| 40/40 [00:59<00:00,  1.48s/it, loss=0.705]\n",
      "Epoch 65/100 [VAL]: 100%|██████████| 24/24 [00:35<00:00,  1.50s/it, loss=0.8]\n"
     ]
    },
    {
     "name": "stdout",
     "output_type": "stream",
     "text": [
      "EarlyStopping counter: 63/100 (Best val_acc: 0.9584)\n",
      "\n",
      "Epoch 65/100 | LR: 5.81e-08 | Teach: 0.28 | Scheduler: ReduceLROnPlateau\n",
      "  Train Loss: 0.7167 | Train Char Acc: 0.9949\n",
      "  Val Loss: 0.8212   | Val Acc (CRR): 0.9566\n",
      "  Val Exact Match Acc (E2E RR): 0.8137\n",
      "----------------------------------------------------------------------\n"
     ]
    },
    {
     "name": "stderr",
     "output_type": "stream",
     "text": [
      "Epoch 66/100 [TRAIN] LR: 5.81e-08 Teach: 0.27 Scheduler: ReduceLROnPlateau:   2%|▎         | 1/40 [00:06<03:54,  6.01s/it, loss=0.7]"
     ]
    },
    {
     "name": "stdout",
     "output_type": "stream",
     "text": [
      "\n",
      "--- Training Batch 0 Examples (Content Only) ---\n",
      "  Pred: 'V81041'\n",
      "  True: 'V81041'\n",
      "  Pred: 'CV6908'\n",
      "  True: 'CV6908'\n",
      "  Pred: '0862QT'\n",
      "  True: '0862QT'\n",
      "  Pred: 'BQ9416'\n",
      "  True: 'BQ9416'\n",
      "  Pred: '9N1197'\n",
      "  True: '9N1197'\n",
      "-------------------------------\n"
     ]
    },
    {
     "name": "stderr",
     "output_type": "stream",
     "text": [
      "Epoch 66/100 [TRAIN] LR: 5.81e-08 Teach: 0.27 Scheduler: ReduceLROnPlateau: 100%|██████████| 40/40 [00:59<00:00,  1.48s/it, loss=0.702]\n",
      "Epoch 66/100 [VAL]: 100%|██████████| 24/24 [00:35<00:00,  1.50s/it, loss=0.8]\n"
     ]
    },
    {
     "name": "stdout",
     "output_type": "stream",
     "text": [
      "EarlyStopping counter: 64/100 (Best val_acc: 0.9584)\n",
      "\n",
      "Epoch 66/100 | LR: 5.81e-08 | Teach: 0.27 | Scheduler: ReduceLROnPlateau\n",
      "  Train Loss: 0.7194 | Train Char Acc: 0.9928\n",
      "  Val Loss: 0.8214   | Val Acc (CRR): 0.9566\n",
      "  Val Exact Match Acc (E2E RR): 0.8164\n",
      "----------------------------------------------------------------------\n"
     ]
    },
    {
     "name": "stderr",
     "output_type": "stream",
     "text": [
      "Epoch 67/100 [TRAIN] LR: 5.81e-08 Teach: 0.27 Scheduler: ReduceLROnPlateau:   2%|▎         | 1/40 [00:05<03:40,  5.67s/it, loss=0.702]"
     ]
    },
    {
     "name": "stdout",
     "output_type": "stream",
     "text": [
      "\n",
      "--- Training Batch 0 Examples (Content Only) ---\n",
      "  Pred: '6E9688'\n",
      "  True: '6E9688'\n",
      "  Pred: 'T51735'\n",
      "  True: 'T51735'\n",
      "  Pred: '6U3609'\n",
      "  True: '6U3609'\n",
      "  Pred: '7T6359'\n",
      "  True: '7T6359'\n",
      "  Pred: '8106TM'\n",
      "  True: '8106TM'\n",
      "-------------------------------\n"
     ]
    },
    {
     "name": "stderr",
     "output_type": "stream",
     "text": [
      "Epoch 67/100 [TRAIN] LR: 5.81e-08 Teach: 0.27 Scheduler: ReduceLROnPlateau: 100%|██████████| 40/40 [00:59<00:00,  1.48s/it, loss=0.724]\n",
      "Epoch 67/100 [VAL]: 100%|██████████| 24/24 [00:35<00:00,  1.49s/it, loss=0.801]\n"
     ]
    },
    {
     "name": "stdout",
     "output_type": "stream",
     "text": [
      "EarlyStopping counter: 65/100 (Best val_acc: 0.9584)\n",
      "\n",
      "Epoch 67/100 | LR: 5.81e-08 | Teach: 0.27 | Scheduler: ReduceLROnPlateau\n",
      "  Train Loss: 0.7198 | Train Char Acc: 0.9932\n",
      "  Val Loss: 0.8211   | Val Acc (CRR): 0.9566\n",
      "  Val Exact Match Acc (E2E RR): 0.8124\n",
      "----------------------------------------------------------------------\n"
     ]
    },
    {
     "name": "stderr",
     "output_type": "stream",
     "text": [
      "Epoch 68/100 [TRAIN] LR: 5.81e-08 Teach: 0.26 Scheduler: ReduceLROnPlateau:   2%|▎         | 1/40 [00:05<03:43,  5.72s/it, loss=0.729]"
     ]
    },
    {
     "name": "stdout",
     "output_type": "stream",
     "text": [
      "\n",
      "--- Training Batch 0 Examples (Content Only) ---\n",
      "  Pred: 'YY8825'\n",
      "  True: 'YY8825'\n",
      "  Pred: 'JZ0942'\n",
      "  True: 'JZ0942'\n",
      "  Pred: '6998DB'\n",
      "  True: '6998DB'\n",
      "  Pred: '2P2121'\n",
      "  True: '2P2121'\n",
      "  Pred: '3368FK'\n",
      "  True: '3368FK'\n",
      "-------------------------------\n"
     ]
    },
    {
     "name": "stderr",
     "output_type": "stream",
     "text": [
      "Epoch 68/100 [TRAIN] LR: 5.81e-08 Teach: 0.26 Scheduler: ReduceLROnPlateau: 100%|██████████| 40/40 [00:59<00:00,  1.48s/it, loss=0.716]\n",
      "Epoch 68/100 [VAL]: 100%|██████████| 24/24 [00:35<00:00,  1.50s/it, loss=0.8]\n"
     ]
    },
    {
     "name": "stdout",
     "output_type": "stream",
     "text": [
      "EarlyStopping counter: 66/100 (Best val_acc: 0.9584)\n",
      "\n",
      "Epoch 68/100 | LR: 2.91e-08 | Teach: 0.26 | Scheduler: ReduceLROnPlateau\n",
      "  Train Loss: 0.7184 | Train Char Acc: 0.9932\n",
      "  Val Loss: 0.8213   | Val Acc (CRR): 0.9564\n",
      "  Val Exact Match Acc (E2E RR): 0.8124\n",
      "----------------------------------------------------------------------\n"
     ]
    },
    {
     "name": "stderr",
     "output_type": "stream",
     "text": [
      "Epoch 69/100 [TRAIN] LR: 2.91e-08 Teach: 0.25 Scheduler: ReduceLROnPlateau:   2%|▎         | 1/40 [00:05<03:44,  5.74s/it, loss=0.704]"
     ]
    },
    {
     "name": "stdout",
     "output_type": "stream",
     "text": [
      "\n",
      "--- Training Batch 0 Examples (Content Only) ---\n",
      "  Pred: 'GP9056'\n",
      "  True: 'GP9056'\n",
      "  Pred: '7A6988'\n",
      "  True: '7A6988'\n",
      "  Pred: '2551JS'\n",
      "  True: '2551JS'\n",
      "  Pred: '7962TH'\n",
      "  True: '7962TH'\n",
      "  Pred: 'ZZ7691'\n",
      "  True: 'ZZ7691'\n",
      "-------------------------------\n"
     ]
    },
    {
     "name": "stderr",
     "output_type": "stream",
     "text": [
      "Epoch 69/100 [TRAIN] LR: 2.91e-08 Teach: 0.25 Scheduler: ReduceLROnPlateau: 100%|██████████| 40/40 [00:59<00:00,  1.48s/it, loss=0.704]\n",
      "Epoch 69/100 [VAL]: 100%|██████████| 24/24 [00:35<00:00,  1.48s/it, loss=0.8]\n"
     ]
    },
    {
     "name": "stdout",
     "output_type": "stream",
     "text": [
      "EarlyStopping counter: 67/100 (Best val_acc: 0.9584)\n",
      "\n",
      "Epoch 69/100 | LR: 2.91e-08 | Teach: 0.25 | Scheduler: ReduceLROnPlateau\n",
      "  Train Loss: 0.7190 | Train Char Acc: 0.9939\n",
      "  Val Loss: 0.8212   | Val Acc (CRR): 0.9566\n",
      "  Val Exact Match Acc (E2E RR): 0.8137\n",
      "----------------------------------------------------------------------\n"
     ]
    },
    {
     "name": "stderr",
     "output_type": "stream",
     "text": [
      "Epoch 70/100 [TRAIN] LR: 2.91e-08 Teach: 0.25 Scheduler: ReduceLROnPlateau:   2%|▎         | 1/40 [00:05<03:53,  6.00s/it, loss=0.734]"
     ]
    },
    {
     "name": "stdout",
     "output_type": "stream",
     "text": [
      "\n",
      "--- Training Batch 0 Examples (Content Only) ---\n",
      "  Pred: '7556HL'\n",
      "  True: '7556HL'\n",
      "  Pred: '6S1000'\n",
      "  True: '6S1000'\n",
      "  Pred: 'CY9496'\n",
      "  True: 'CY9496'\n",
      "  Pred: '1866EB'\n",
      "  True: '1866EB'\n",
      "  Pred: 'CG9987'\n",
      "  True: 'GK9087'\n",
      "-------------------------------\n"
     ]
    },
    {
     "name": "stderr",
     "output_type": "stream",
     "text": [
      "Epoch 70/100 [TRAIN] LR: 2.91e-08 Teach: 0.25 Scheduler: ReduceLROnPlateau: 100%|██████████| 40/40 [00:59<00:00,  1.49s/it, loss=0.706]\n",
      "Epoch 70/100 [VAL]: 100%|██████████| 24/24 [00:35<00:00,  1.48s/it, loss=0.8]\n"
     ]
    },
    {
     "name": "stdout",
     "output_type": "stream",
     "text": [
      "EarlyStopping counter: 68/100 (Best val_acc: 0.9584)\n",
      "\n",
      "Epoch 70/100 | LR: 2.91e-08 | Teach: 0.25 | Scheduler: ReduceLROnPlateau\n",
      "  Train Loss: 0.7251 | Train Char Acc: 0.9905\n",
      "  Val Loss: 0.8210   | Val Acc (CRR): 0.9566\n",
      "  Val Exact Match Acc (E2E RR): 0.8151\n",
      "----------------------------------------------------------------------\n"
     ]
    },
    {
     "name": "stderr",
     "output_type": "stream",
     "text": [
      "Epoch 71/100 [TRAIN] LR: 2.91e-08 Teach: 0.24 Scheduler: ReduceLROnPlateau:   2%|▎         | 1/40 [00:05<03:39,  5.62s/it, loss=0.729]"
     ]
    },
    {
     "name": "stdout",
     "output_type": "stream",
     "text": [
      "\n",
      "--- Training Batch 0 Examples (Content Only) ---\n",
      "  Pred: '5B7981'\n",
      "  True: '5B7981'\n",
      "  Pred: '6736DL'\n",
      "  True: '6736DL'\n",
      "  Pred: 'JZ0942'\n",
      "  True: 'JZ0942'\n",
      "  Pred: 'L60793'\n",
      "  True: 'L60793'\n",
      "  Pred: '3885QD'\n",
      "  True: '3885QD'\n",
      "-------------------------------\n"
     ]
    },
    {
     "name": "stderr",
     "output_type": "stream",
     "text": [
      "Epoch 71/100 [TRAIN] LR: 2.91e-08 Teach: 0.24 Scheduler: ReduceLROnPlateau: 100%|██████████| 40/40 [00:59<00:00,  1.48s/it, loss=0.732]\n",
      "Epoch 71/100 [VAL]: 100%|██████████| 24/24 [00:35<00:00,  1.49s/it, loss=0.8]\n"
     ]
    },
    {
     "name": "stdout",
     "output_type": "stream",
     "text": [
      "EarlyStopping counter: 69/100 (Best val_acc: 0.9584)\n",
      "\n",
      "Epoch 71/100 | LR: 1.45e-08 | Teach: 0.24 | Scheduler: ReduceLROnPlateau\n",
      "  Train Loss: 0.7225 | Train Char Acc: 0.9915\n",
      "  Val Loss: 0.8210   | Val Acc (CRR): 0.9568\n",
      "  Val Exact Match Acc (E2E RR): 0.8151\n",
      "----------------------------------------------------------------------\n"
     ]
    },
    {
     "name": "stderr",
     "output_type": "stream",
     "text": [
      "Epoch 72/100 [TRAIN] LR: 1.45e-08 Teach: 0.23 Scheduler: ReduceLROnPlateau:   2%|▎         | 1/40 [00:06<04:06,  6.32s/it, loss=0.704]"
     ]
    },
    {
     "name": "stdout",
     "output_type": "stream",
     "text": [
      "\n",
      "--- Training Batch 0 Examples (Content Only) ---\n",
      "  Pred: '6280EK'\n",
      "  True: '6280EK'\n",
      "  Pred: '9C5669'\n",
      "  True: '9C5669'\n",
      "  Pred: 'A92746'\n",
      "  True: 'A92746'\n",
      "  Pred: '9K5595'\n",
      "  True: '9K5595'\n",
      "  Pred: '5637LL'\n",
      "  True: '5637LL'\n",
      "-------------------------------\n"
     ]
    },
    {
     "name": "stderr",
     "output_type": "stream",
     "text": [
      "Epoch 72/100 [TRAIN] LR: 1.45e-08 Teach: 0.23 Scheduler: ReduceLROnPlateau: 100%|██████████| 40/40 [00:59<00:00,  1.50s/it, loss=0.811]\n",
      "Epoch 72/100 [VAL]: 100%|██████████| 24/24 [00:35<00:00,  1.48s/it, loss=0.8]\n"
     ]
    },
    {
     "name": "stdout",
     "output_type": "stream",
     "text": [
      "EarlyStopping counter: 70/100 (Best val_acc: 0.9584)\n",
      "\n",
      "Epoch 72/100 | LR: 1.45e-08 | Teach: 0.23 | Scheduler: ReduceLROnPlateau\n",
      "  Train Loss: 0.7241 | Train Char Acc: 0.9909\n",
      "  Val Loss: 0.8214   | Val Acc (CRR): 0.9564\n",
      "  Val Exact Match Acc (E2E RR): 0.8124\n",
      "----------------------------------------------------------------------\n"
     ]
    },
    {
     "name": "stderr",
     "output_type": "stream",
     "text": [
      "Epoch 73/100 [TRAIN] LR: 1.45e-08 Teach: 0.23 Scheduler: ReduceLROnPlateau:   2%|▎         | 1/40 [00:06<04:03,  6.25s/it, loss=0.703]"
     ]
    },
    {
     "name": "stdout",
     "output_type": "stream",
     "text": [
      "\n",
      "--- Training Batch 0 Examples (Content Only) ---\n",
      "  Pred: 'PZ8543'\n",
      "  True: 'PZ8543'\n",
      "  Pred: 'CC9956'\n",
      "  True: 'CC9956'\n",
      "  Pred: '9161KD'\n",
      "  True: '9161KD'\n",
      "  Pred: '5D7379'\n",
      "  True: '5D7379'\n",
      "  Pred: 'GP9056'\n",
      "  True: 'GP9056'\n",
      "-------------------------------\n"
     ]
    },
    {
     "name": "stderr",
     "output_type": "stream",
     "text": [
      "Epoch 73/100 [TRAIN] LR: 1.45e-08 Teach: 0.23 Scheduler: ReduceLROnPlateau: 100%|██████████| 40/40 [01:00<00:00,  1.50s/it, loss=0.72]\n",
      "Epoch 73/100 [VAL]: 100%|██████████| 24/24 [00:35<00:00,  1.49s/it, loss=0.8]\n"
     ]
    },
    {
     "name": "stdout",
     "output_type": "stream",
     "text": [
      "EarlyStopping counter: 71/100 (Best val_acc: 0.9584)\n",
      "\n",
      "Epoch 73/100 | LR: 1.45e-08 | Teach: 0.23 | Scheduler: ReduceLROnPlateau\n",
      "  Train Loss: 0.7209 | Train Char Acc: 0.9926\n",
      "  Val Loss: 0.8212   | Val Acc (CRR): 0.9566\n",
      "  Val Exact Match Acc (E2E RR): 0.8151\n",
      "----------------------------------------------------------------------\n"
     ]
    },
    {
     "name": "stderr",
     "output_type": "stream",
     "text": [
      "Epoch 74/100 [TRAIN] LR: 1.45e-08 Teach: 0.22 Scheduler: ReduceLROnPlateau:   2%|▎         | 1/40 [00:06<04:06,  6.32s/it, loss=0.707]"
     ]
    },
    {
     "name": "stdout",
     "output_type": "stream",
     "text": [
      "\n",
      "--- Training Batch 0 Examples (Content Only) ---\n",
      "  Pred: '9601EC'\n",
      "  True: '9601EC'\n",
      "  Pred: '4517NT'\n",
      "  True: '4517NT'\n",
      "  Pred: '9K3865'\n",
      "  True: '9K3865'\n",
      "  Pred: '5B2191'\n",
      "  True: '5B2191'\n",
      "  Pred: '8917FE'\n",
      "  True: '8917FE'\n",
      "-------------------------------\n"
     ]
    },
    {
     "name": "stderr",
     "output_type": "stream",
     "text": [
      "Epoch 74/100 [TRAIN] LR: 1.45e-08 Teach: 0.22 Scheduler: ReduceLROnPlateau: 100%|██████████| 40/40 [01:00<00:00,  1.51s/it, loss=0.732]\n",
      "Epoch 74/100 [VAL]: 100%|██████████| 24/24 [00:35<00:00,  1.50s/it, loss=0.8]\n"
     ]
    },
    {
     "name": "stdout",
     "output_type": "stream",
     "text": [
      "EarlyStopping counter: 72/100 (Best val_acc: 0.9584)\n",
      "\n",
      "Epoch 74/100 | LR: 1.45e-08 | Teach: 0.22 | Scheduler: ReduceLROnPlateau\n",
      "  Train Loss: 0.7135 | Train Char Acc: 0.9960\n",
      "  Val Loss: 0.8213   | Val Acc (CRR): 0.9564\n",
      "  Val Exact Match Acc (E2E RR): 0.8137\n",
      "----------------------------------------------------------------------\n"
     ]
    },
    {
     "name": "stderr",
     "output_type": "stream",
     "text": [
      "Epoch 75/100 [TRAIN] LR: 1.45e-08 Teach: 0.21 Scheduler: ReduceLROnPlateau:   2%|▎         | 1/40 [00:06<04:05,  6.29s/it, loss=0.705]"
     ]
    },
    {
     "name": "stdout",
     "output_type": "stream",
     "text": [
      "\n",
      "--- Training Batch 0 Examples (Content Only) ---\n",
      "  Pred: 'DU0712'\n",
      "  True: 'DU0712'\n",
      "  Pred: '8179NN'\n",
      "  True: '8179NN'\n",
      "  Pred: 'T41577'\n",
      "  True: 'T41577'\n",
      "  Pred: '7528VR'\n",
      "  True: '7528VR'\n",
      "  Pred: '5B56ED'\n",
      "  True: '5B56ED'\n",
      "-------------------------------\n"
     ]
    },
    {
     "name": "stderr",
     "output_type": "stream",
     "text": [
      "Epoch 75/100 [TRAIN] LR: 1.45e-08 Teach: 0.21 Scheduler: ReduceLROnPlateau: 100%|██████████| 40/40 [01:00<00:00,  1.50s/it, loss=0.703]\n",
      "Epoch 75/100 [VAL]: 100%|██████████| 24/24 [00:35<00:00,  1.49s/it, loss=0.8]\n"
     ]
    },
    {
     "name": "stdout",
     "output_type": "stream",
     "text": [
      "EarlyStopping counter: 73/100 (Best val_acc: 0.9584)\n",
      "\n",
      "Epoch 75/100 | LR: 1.45e-08 | Teach: 0.21 | Scheduler: ReduceLROnPlateau\n",
      "  Train Loss: 0.7125 | Train Char Acc: 0.9966\n",
      "  Val Loss: 0.8213   | Val Acc (CRR): 0.9566\n",
      "  Val Exact Match Acc (E2E RR): 0.8151\n",
      "----------------------------------------------------------------------\n"
     ]
    },
    {
     "name": "stderr",
     "output_type": "stream",
     "text": [
      "Epoch 76/100 [TRAIN] LR: 1.45e-08 Teach: 0.21 Scheduler: ReduceLROnPlateau:   2%|▎         | 1/40 [00:06<04:03,  6.25s/it, loss=0.727]"
     ]
    },
    {
     "name": "stdout",
     "output_type": "stream",
     "text": [
      "\n",
      "--- Training Batch 0 Examples (Content Only) ---\n",
      "  Pred: '7F6709'\n",
      "  True: '7F6709'\n",
      "  Pred: '8160ET'\n",
      "  True: '8160ET'\n",
      "  Pred: 'EX3301'\n",
      "  True: 'EX3301'\n",
      "  Pred: 'DX651'\n",
      "  True: 'DX651'\n",
      "  Pred: 'L55466'\n",
      "  True: 'L55466'\n",
      "-------------------------------\n"
     ]
    },
    {
     "name": "stderr",
     "output_type": "stream",
     "text": [
      "Epoch 76/100 [TRAIN] LR: 1.45e-08 Teach: 0.21 Scheduler: ReduceLROnPlateau: 100%|██████████| 40/40 [01:00<00:00,  1.50s/it, loss=0.73]\n",
      "Epoch 76/100 [VAL]: 100%|██████████| 24/24 [00:35<00:00,  1.49s/it, loss=0.8]\n"
     ]
    },
    {
     "name": "stdout",
     "output_type": "stream",
     "text": [
      "EarlyStopping counter: 74/100 (Best val_acc: 0.9584)\n",
      "\n",
      "Epoch 76/100 | LR: 1.45e-08 | Teach: 0.21 | Scheduler: ReduceLROnPlateau\n",
      "  Train Loss: 0.7191 | Train Char Acc: 0.9935\n",
      "  Val Loss: 0.8214   | Val Acc (CRR): 0.9564\n",
      "  Val Exact Match Acc (E2E RR): 0.8124\n",
      "----------------------------------------------------------------------\n"
     ]
    },
    {
     "name": "stderr",
     "output_type": "stream",
     "text": [
      "Epoch 77/100 [TRAIN] LR: 1.45e-08 Teach: 0.20 Scheduler: ReduceLROnPlateau:   2%|▎         | 1/40 [00:05<03:21,  5.15s/it, loss=0.724]"
     ]
    },
    {
     "name": "stdout",
     "output_type": "stream",
     "text": [
      "\n",
      "--- Training Batch 0 Examples (Content Only) ---\n",
      "  Pred: '7R2019'\n",
      "  True: '7R2019'\n",
      "  Pred: '6878NB'\n",
      "  True: '6878NB'\n",
      "  Pred: '7291EV'\n",
      "  True: '7291EV'\n",
      "  Pred: 'X23189'\n",
      "  True: 'X23189'\n",
      "  Pred: '8075MV'\n",
      "  True: '8075MV'\n",
      "-------------------------------\n"
     ]
    },
    {
     "name": "stderr",
     "output_type": "stream",
     "text": [
      "Epoch 77/100 [TRAIN] LR: 1.45e-08 Teach: 0.20 Scheduler: ReduceLROnPlateau: 100%|██████████| 40/40 [00:58<00:00,  1.47s/it, loss=0.708]\n",
      "Epoch 77/100 [VAL]: 100%|██████████| 24/24 [00:36<00:00,  1.50s/it, loss=0.8]\n"
     ]
    },
    {
     "name": "stdout",
     "output_type": "stream",
     "text": [
      "EarlyStopping counter: 75/100 (Best val_acc: 0.9584)\n",
      "\n",
      "Epoch 77/100 | LR: 1.45e-08 | Teach: 0.20 | Scheduler: ReduceLROnPlateau\n",
      "  Train Loss: 0.7224 | Train Char Acc: 0.9918\n",
      "  Val Loss: 0.8212   | Val Acc (CRR): 0.9562\n",
      "  Val Exact Match Acc (E2E RR): 0.8124\n",
      "----------------------------------------------------------------------\n"
     ]
    },
    {
     "name": "stderr",
     "output_type": "stream",
     "text": [
      "Epoch 78/100 [TRAIN] LR: 1.45e-08 Teach: 0.19 Scheduler: ReduceLROnPlateau:   2%|▎         | 1/40 [00:06<03:56,  6.08s/it, loss=0.704]"
     ]
    },
    {
     "name": "stdout",
     "output_type": "stream",
     "text": [
      "\n",
      "--- Training Batch 0 Examples (Content Only) ---\n",
      "  Pred: '1339HF'\n",
      "  True: '1339HF'\n",
      "  Pred: '0557JZ'\n",
      "  True: '0557JZ'\n",
      "  Pred: '6515JJ'\n",
      "  True: '6515JJ'\n",
      "  Pred: '2267HH'\n",
      "  True: '2267HH'\n",
      "  Pred: '4158DR'\n",
      "  True: '4158DR'\n",
      "-------------------------------\n"
     ]
    },
    {
     "name": "stderr",
     "output_type": "stream",
     "text": [
      "Epoch 78/100 [TRAIN] LR: 1.45e-08 Teach: 0.19 Scheduler: ReduceLROnPlateau: 100%|██████████| 40/40 [00:59<00:00,  1.49s/it, loss=0.731]\n",
      "Epoch 78/100 [VAL]: 100%|██████████| 24/24 [00:35<00:00,  1.49s/it, loss=0.8]\n"
     ]
    },
    {
     "name": "stdout",
     "output_type": "stream",
     "text": [
      "EarlyStopping counter: 76/100 (Best val_acc: 0.9584)\n",
      "\n",
      "Epoch 78/100 | LR: 1.45e-08 | Teach: 0.19 | Scheduler: ReduceLROnPlateau\n",
      "  Train Loss: 0.7215 | Train Char Acc: 0.9930\n",
      "  Val Loss: 0.8214   | Val Acc (CRR): 0.9562\n",
      "  Val Exact Match Acc (E2E RR): 0.8137\n",
      "----------------------------------------------------------------------\n"
     ]
    },
    {
     "name": "stderr",
     "output_type": "stream",
     "text": [
      "Epoch 79/100 [TRAIN] LR: 1.45e-08 Teach: 0.19 Scheduler: ReduceLROnPlateau:   2%|▎         | 1/40 [00:05<03:45,  5.77s/it, loss=0.724]"
     ]
    },
    {
     "name": "stdout",
     "output_type": "stream",
     "text": [
      "\n",
      "--- Training Batch 0 Examples (Content Only) ---\n",
      "  Pred: '1697QT'\n",
      "  True: '1697QT'\n",
      "  Pred: '8A6893'\n",
      "  True: '8A6893'\n",
      "  Pred: 'RE1180'\n",
      "  True: 'RE1180'\n",
      "  Pred: 'EP5167'\n",
      "  True: 'EP5167'\n",
      "  Pred: '3L2556'\n",
      "  True: '3L2556'\n",
      "-------------------------------\n"
     ]
    },
    {
     "name": "stderr",
     "output_type": "stream",
     "text": [
      "Epoch 79/100 [TRAIN] LR: 1.45e-08 Teach: 0.19 Scheduler: ReduceLROnPlateau: 100%|██████████| 40/40 [00:59<00:00,  1.48s/it, loss=0.723]\n",
      "Epoch 79/100 [VAL]: 100%|██████████| 24/24 [00:35<00:00,  1.49s/it, loss=0.8]\n"
     ]
    },
    {
     "name": "stdout",
     "output_type": "stream",
     "text": [
      "EarlyStopping counter: 77/100 (Best val_acc: 0.9584)\n",
      "\n",
      "Epoch 79/100 | LR: 1.45e-08 | Teach: 0.19 | Scheduler: ReduceLROnPlateau\n",
      "  Train Loss: 0.7250 | Train Char Acc: 0.9904\n",
      "  Val Loss: 0.8212   | Val Acc (CRR): 0.9566\n",
      "  Val Exact Match Acc (E2E RR): 0.8151\n",
      "----------------------------------------------------------------------\n"
     ]
    },
    {
     "name": "stderr",
     "output_type": "stream",
     "text": [
      "Epoch 80/100 [TRAIN] LR: 1.45e-08 Teach: 0.18 Scheduler: ReduceLROnPlateau:   2%|▎         | 1/40 [00:06<03:59,  6.14s/it, loss=0.749]"
     ]
    },
    {
     "name": "stdout",
     "output_type": "stream",
     "text": [
      "\n",
      "--- Training Batch 0 Examples (Content Only) ---\n",
      "  Pred: 'AG5347'\n",
      "  True: 'AG5347'\n",
      "  Pred: '2N4202'\n",
      "  True: '2N4202'\n",
      "  Pred: 'LD8599'\n",
      "  True: 'LD8599'\n",
      "  Pred: '6N2932'\n",
      "  True: '6N2932'\n",
      "  Pred: 'Q79115'\n",
      "  True: 'Q79115'\n",
      "-------------------------------\n"
     ]
    },
    {
     "name": "stderr",
     "output_type": "stream",
     "text": [
      "Epoch 80/100 [TRAIN] LR: 1.45e-08 Teach: 0.18 Scheduler: ReduceLROnPlateau: 100%|██████████| 40/40 [00:59<00:00,  1.49s/it, loss=0.733]\n",
      "Epoch 80/100 [VAL]: 100%|██████████| 24/24 [00:35<00:00,  1.48s/it, loss=0.8]\n"
     ]
    },
    {
     "name": "stdout",
     "output_type": "stream",
     "text": [
      "EarlyStopping counter: 78/100 (Best val_acc: 0.9584)\n",
      "\n",
      "Epoch 80/100 | LR: 1.45e-08 | Teach: 0.18 | Scheduler: ReduceLROnPlateau\n",
      "  Train Loss: 0.7188 | Train Char Acc: 0.9932\n",
      "  Val Loss: 0.8213   | Val Acc (CRR): 0.9564\n",
      "  Val Exact Match Acc (E2E RR): 0.8137\n",
      "----------------------------------------------------------------------\n"
     ]
    },
    {
     "name": "stderr",
     "output_type": "stream",
     "text": [
      "Epoch 81/100 [TRAIN] LR: 1.45e-08 Teach: 0.17 Scheduler: ReduceLROnPlateau:   2%|▎         | 1/40 [00:06<03:55,  6.03s/it, loss=0.725]"
     ]
    },
    {
     "name": "stdout",
     "output_type": "stream",
     "text": [
      "\n",
      "--- Training Batch 0 Examples (Content Only) ---\n",
      "  Pred: 'LA6558'\n",
      "  True: 'LA6558'\n",
      "  Pred: '9553KD'\n",
      "  True: '9553KD'\n",
      "  Pred: '4810DG'\n",
      "  True: '4810DG'\n",
      "  Pred: '7568RK'\n",
      "  True: '7568RK'\n",
      "  Pred: 'T41577'\n",
      "  True: 'T41577'\n",
      "-------------------------------\n"
     ]
    },
    {
     "name": "stderr",
     "output_type": "stream",
     "text": [
      "Epoch 81/100 [TRAIN] LR: 1.45e-08 Teach: 0.17 Scheduler: ReduceLROnPlateau: 100%|██████████| 40/40 [00:59<00:00,  1.48s/it, loss=0.725]\n",
      "Epoch 81/100 [VAL]: 100%|██████████| 24/24 [00:35<00:00,  1.48s/it, loss=0.8]\n"
     ]
    },
    {
     "name": "stdout",
     "output_type": "stream",
     "text": [
      "EarlyStopping counter: 79/100 (Best val_acc: 0.9584)\n",
      "\n",
      "Epoch 81/100 | LR: 1.45e-08 | Teach: 0.17 | Scheduler: ReduceLROnPlateau\n",
      "  Train Loss: 0.7244 | Train Char Acc: 0.9906\n",
      "  Val Loss: 0.8215   | Val Acc (CRR): 0.9566\n",
      "  Val Exact Match Acc (E2E RR): 0.8137\n",
      "----------------------------------------------------------------------\n"
     ]
    },
    {
     "name": "stderr",
     "output_type": "stream",
     "text": [
      "Epoch 82/100 [TRAIN] LR: 1.45e-08 Teach: 0.17 Scheduler: ReduceLROnPlateau:   2%|▎         | 1/40 [00:06<03:58,  6.11s/it, loss=0.702]"
     ]
    },
    {
     "name": "stdout",
     "output_type": "stream",
     "text": [
      "\n",
      "--- Training Batch 0 Examples (Content Only) ---\n",
      "  Pred: '7197QM'\n",
      "  True: '7197QM'\n",
      "  Pred: 'P92580'\n",
      "  True: 'P92580'\n",
      "  Pred: '3905RY'\n",
      "  True: '3905RY'\n",
      "  Pred: 'AT9090'\n",
      "  True: 'AT9090'\n",
      "  Pred: 'G39750'\n",
      "  True: 'G39750'\n",
      "-------------------------------\n"
     ]
    },
    {
     "name": "stderr",
     "output_type": "stream",
     "text": [
      "Epoch 82/100 [TRAIN] LR: 1.45e-08 Teach: 0.17 Scheduler: ReduceLROnPlateau: 100%|██████████| 40/40 [00:59<00:00,  1.49s/it, loss=0.74]\n",
      "Epoch 82/100 [VAL]: 100%|██████████| 24/24 [00:35<00:00,  1.48s/it, loss=0.8]\n"
     ]
    },
    {
     "name": "stdout",
     "output_type": "stream",
     "text": [
      "EarlyStopping counter: 80/100 (Best val_acc: 0.9584)\n",
      "\n",
      "Epoch 82/100 | LR: 1.45e-08 | Teach: 0.17 | Scheduler: ReduceLROnPlateau\n",
      "  Train Loss: 0.7167 | Train Char Acc: 0.9943\n",
      "  Val Loss: 0.8211   | Val Acc (CRR): 0.9571\n",
      "  Val Exact Match Acc (E2E RR): 0.8164\n",
      "----------------------------------------------------------------------\n"
     ]
    },
    {
     "name": "stderr",
     "output_type": "stream",
     "text": [
      "Epoch 83/100 [TRAIN] LR: 1.45e-08 Teach: 0.16 Scheduler: ReduceLROnPlateau:   2%|▎         | 1/40 [00:05<03:40,  5.64s/it, loss=0.7]"
     ]
    },
    {
     "name": "stdout",
     "output_type": "stream",
     "text": [
      "\n",
      "--- Training Batch 0 Examples (Content Only) ---\n",
      "  Pred: '8190DR'\n",
      "  True: '8190DR'\n",
      "  Pred: 'CH8196'\n",
      "  True: 'CH8196'\n",
      "  Pred: '8106TM'\n",
      "  True: '8106TM'\n",
      "  Pred: 'A49998'\n",
      "  True: 'A49998'\n",
      "  Pred: '7962TH'\n",
      "  True: '7962TH'\n",
      "-------------------------------\n"
     ]
    },
    {
     "name": "stderr",
     "output_type": "stream",
     "text": [
      "Epoch 83/100 [TRAIN] LR: 1.45e-08 Teach: 0.16 Scheduler: ReduceLROnPlateau: 100%|██████████| 40/40 [00:59<00:00,  1.48s/it, loss=0.7]\n",
      "Epoch 83/100 [VAL]: 100%|██████████| 24/24 [00:35<00:00,  1.49s/it, loss=0.8]\n"
     ]
    },
    {
     "name": "stdout",
     "output_type": "stream",
     "text": [
      "EarlyStopping counter: 81/100 (Best val_acc: 0.9584)\n",
      "\n",
      "Epoch 83/100 | LR: 1.45e-08 | Teach: 0.16 | Scheduler: ReduceLROnPlateau\n",
      "  Train Loss: 0.7183 | Train Char Acc: 0.9939\n",
      "  Val Loss: 0.8212   | Val Acc (CRR): 0.9564\n",
      "  Val Exact Match Acc (E2E RR): 0.8137\n",
      "----------------------------------------------------------------------\n"
     ]
    },
    {
     "name": "stderr",
     "output_type": "stream",
     "text": [
      "Epoch 84/100 [TRAIN] LR: 1.45e-08 Teach: 0.16 Scheduler: ReduceLROnPlateau:   2%|▎         | 1/40 [00:06<04:14,  6.54s/it, loss=0.717]"
     ]
    },
    {
     "name": "stdout",
     "output_type": "stream",
     "text": [
      "\n",
      "--- Training Batch 0 Examples (Content Only) ---\n",
      "  Pred: 'K56155'\n",
      "  True: 'K56155'\n",
      "  Pred: 'HY6571'\n",
      "  True: 'HY6571'\n",
      "  Pred: 'DQ0798'\n",
      "  True: 'DQ0798'\n",
      "  Pred: '1837CC'\n",
      "  True: '1837CC'\n",
      "  Pred: '8199QY'\n",
      "  True: '9109QY'\n",
      "-------------------------------\n"
     ]
    },
    {
     "name": "stderr",
     "output_type": "stream",
     "text": [
      "Epoch 84/100 [TRAIN] LR: 1.45e-08 Teach: 0.16 Scheduler: ReduceLROnPlateau: 100%|██████████| 40/40 [00:59<00:00,  1.50s/it, loss=0.704]\n",
      "Epoch 84/100 [VAL]: 100%|██████████| 24/24 [00:36<00:00,  1.51s/it, loss=0.799]\n"
     ]
    },
    {
     "name": "stdout",
     "output_type": "stream",
     "text": [
      "EarlyStopping counter: 82/100 (Best val_acc: 0.9584)\n",
      "\n",
      "Epoch 84/100 | LR: 1.45e-08 | Teach: 0.16 | Scheduler: ReduceLROnPlateau\n",
      "  Train Loss: 0.7158 | Train Char Acc: 0.9947\n",
      "  Val Loss: 0.8215   | Val Acc (CRR): 0.9564\n",
      "  Val Exact Match Acc (E2E RR): 0.8124\n",
      "----------------------------------------------------------------------\n"
     ]
    },
    {
     "name": "stderr",
     "output_type": "stream",
     "text": [
      "Epoch 85/100 [TRAIN] LR: 1.45e-08 Teach: 0.15 Scheduler: ReduceLROnPlateau:   2%|▎         | 1/40 [00:06<04:04,  6.26s/it, loss=0.702]"
     ]
    },
    {
     "name": "stdout",
     "output_type": "stream",
     "text": [
      "\n",
      "--- Training Batch 0 Examples (Content Only) ---\n",
      "  Pred: 'CY9496'\n",
      "  True: 'CY9496'\n",
      "  Pred: '9109QY'\n",
      "  True: '9109QY'\n",
      "  Pred: '6E9688'\n",
      "  True: '6E9688'\n",
      "  Pred: 'CQ5546'\n",
      "  True: 'CQ5546'\n",
      "  Pred: 'GR4522'\n",
      "  True: 'GR4522'\n",
      "-------------------------------\n"
     ]
    },
    {
     "name": "stderr",
     "output_type": "stream",
     "text": [
      "Epoch 85/100 [TRAIN] LR: 1.45e-08 Teach: 0.15 Scheduler: ReduceLROnPlateau: 100%|██████████| 40/40 [00:59<00:00,  1.49s/it, loss=0.724]\n",
      "Epoch 85/100 [VAL]: 100%|██████████| 24/24 [00:35<00:00,  1.50s/it, loss=0.8]\n"
     ]
    },
    {
     "name": "stdout",
     "output_type": "stream",
     "text": [
      "EarlyStopping counter: 83/100 (Best val_acc: 0.9584)\n",
      "\n",
      "Epoch 85/100 | LR: 1.45e-08 | Teach: 0.15 | Scheduler: ReduceLROnPlateau\n",
      "  Train Loss: 0.7176 | Train Char Acc: 0.9935\n",
      "  Val Loss: 0.8213   | Val Acc (CRR): 0.9562\n",
      "  Val Exact Match Acc (E2E RR): 0.8124\n",
      "----------------------------------------------------------------------\n"
     ]
    },
    {
     "name": "stderr",
     "output_type": "stream",
     "text": [
      "Epoch 86/100 [TRAIN] LR: 1.45e-08 Teach: 0.14 Scheduler: ReduceLROnPlateau:   2%|▎         | 1/40 [00:06<04:01,  6.19s/it, loss=0.722]"
     ]
    },
    {
     "name": "stdout",
     "output_type": "stream",
     "text": [
      "\n",
      "--- Training Batch 0 Examples (Content Only) ---\n",
      "  Pred: 'Y56653'\n",
      "  True: 'Y56653'\n",
      "  Pred: '6678FG'\n",
      "  True: '6678FG'\n",
      "  Pred: 'EF1452'\n",
      "  True: 'EF1452'\n",
      "  Pred: '6322DR'\n",
      "  True: '6322DR'\n",
      "  Pred: '4517NT'\n",
      "  True: '4517NT'\n",
      "-------------------------------\n"
     ]
    },
    {
     "name": "stderr",
     "output_type": "stream",
     "text": [
      "Epoch 86/100 [TRAIN] LR: 1.45e-08 Teach: 0.14 Scheduler: ReduceLROnPlateau: 100%|██████████| 40/40 [00:59<00:00,  1.49s/it, loss=0.713]\n",
      "Epoch 86/100 [VAL]: 100%|██████████| 24/24 [00:35<00:00,  1.48s/it, loss=0.8]\n"
     ]
    },
    {
     "name": "stdout",
     "output_type": "stream",
     "text": [
      "EarlyStopping counter: 84/100 (Best val_acc: 0.9584)\n",
      "\n",
      "Epoch 86/100 | LR: 1.45e-08 | Teach: 0.14 | Scheduler: ReduceLROnPlateau\n",
      "  Train Loss: 0.7227 | Train Char Acc: 0.9914\n",
      "  Val Loss: 0.8215   | Val Acc (CRR): 0.9564\n",
      "  Val Exact Match Acc (E2E RR): 0.8137\n",
      "----------------------------------------------------------------------\n"
     ]
    },
    {
     "name": "stderr",
     "output_type": "stream",
     "text": [
      "Epoch 87/100 [TRAIN] LR: 1.45e-08 Teach: 0.14 Scheduler: ReduceLROnPlateau:   2%|▎         | 1/40 [00:05<03:17,  5.05s/it, loss=0.702]"
     ]
    },
    {
     "name": "stdout",
     "output_type": "stream",
     "text": [
      "\n",
      "--- Training Batch 0 Examples (Content Only) ---\n",
      "  Pred: 'YY9119'\n",
      "  True: 'YY9119'\n",
      "  Pred: '2T5366'\n",
      "  True: '2T5366'\n",
      "  Pred: 'CR1296'\n",
      "  True: 'CR1296'\n",
      "  Pred: '4315RJ'\n",
      "  True: '4315RJ'\n",
      "  Pred: 'CN9139'\n",
      "  True: 'CN9139'\n",
      "-------------------------------\n"
     ]
    },
    {
     "name": "stderr",
     "output_type": "stream",
     "text": [
      "Epoch 87/100 [TRAIN] LR: 1.45e-08 Teach: 0.14 Scheduler: ReduceLROnPlateau: 100%|██████████| 40/40 [00:58<00:00,  1.46s/it, loss=0.704]\n",
      "Epoch 87/100 [VAL]: 100%|██████████| 24/24 [00:35<00:00,  1.47s/it, loss=0.8]\n"
     ]
    },
    {
     "name": "stdout",
     "output_type": "stream",
     "text": [
      "EarlyStopping counter: 85/100 (Best val_acc: 0.9584)\n",
      "\n",
      "Epoch 87/100 | LR: 1.45e-08 | Teach: 0.14 | Scheduler: ReduceLROnPlateau\n",
      "  Train Loss: 0.7180 | Train Char Acc: 0.9928\n",
      "  Val Loss: 0.8211   | Val Acc (CRR): 0.9566\n",
      "  Val Exact Match Acc (E2E RR): 0.8137\n",
      "----------------------------------------------------------------------\n"
     ]
    },
    {
     "name": "stderr",
     "output_type": "stream",
     "text": [
      "Epoch 88/100 [TRAIN] LR: 1.45e-08 Teach: 0.13 Scheduler: ReduceLROnPlateau:   2%|▎         | 1/40 [00:05<03:39,  5.63s/it, loss=0.706]"
     ]
    },
    {
     "name": "stdout",
     "output_type": "stream",
     "text": [
      "\n",
      "--- Training Batch 0 Examples (Content Only) ---\n",
      "  Pred: '8695LS'\n",
      "  True: '8695LS'\n",
      "  Pred: 'T41577'\n",
      "  True: 'T41577'\n",
      "  Pred: '0751QL'\n",
      "  True: '0751QL'\n",
      "  Pred: 'F21180'\n",
      "  True: 'F21180'\n",
      "  Pred: 'CU6416'\n",
      "  True: 'CU6416'\n",
      "-------------------------------\n"
     ]
    },
    {
     "name": "stderr",
     "output_type": "stream",
     "text": [
      "Epoch 88/100 [TRAIN] LR: 1.45e-08 Teach: 0.13 Scheduler: ReduceLROnPlateau: 100%|██████████| 40/40 [00:58<00:00,  1.47s/it, loss=0.794]\n",
      "Epoch 88/100 [VAL]: 100%|██████████| 24/24 [00:35<00:00,  1.49s/it, loss=0.8]\n"
     ]
    },
    {
     "name": "stdout",
     "output_type": "stream",
     "text": [
      "EarlyStopping counter: 86/100 (Best val_acc: 0.9584)\n",
      "\n",
      "Epoch 88/100 | LR: 1.45e-08 | Teach: 0.13 | Scheduler: ReduceLROnPlateau\n",
      "  Train Loss: 0.7191 | Train Char Acc: 0.9930\n",
      "  Val Loss: 0.8211   | Val Acc (CRR): 0.9566\n",
      "  Val Exact Match Acc (E2E RR): 0.8151\n",
      "----------------------------------------------------------------------\n"
     ]
    },
    {
     "name": "stderr",
     "output_type": "stream",
     "text": [
      "Epoch 89/100 [TRAIN] LR: 1.45e-08 Teach: 0.12 Scheduler: ReduceLROnPlateau:   2%|▎         | 1/40 [00:06<03:58,  6.11s/it, loss=0.708]"
     ]
    },
    {
     "name": "stdout",
     "output_type": "stream",
     "text": [
      "\n",
      "--- Training Batch 0 Examples (Content Only) ---\n",
      "  Pred: '0872HN'\n",
      "  True: '0872HN'\n",
      "  Pred: '7C8991'\n",
      "  True: '7C8991'\n",
      "  Pred: '8P0542'\n",
      "  True: '8P0542'\n",
      "  Pred: '6327ER'\n",
      "  True: '6327ER'\n",
      "  Pred: '6587QE'\n",
      "  True: '6587QE'\n",
      "-------------------------------\n"
     ]
    },
    {
     "name": "stderr",
     "output_type": "stream",
     "text": [
      "Epoch 89/100 [TRAIN] LR: 1.45e-08 Teach: 0.12 Scheduler: ReduceLROnPlateau: 100%|██████████| 40/40 [00:59<00:00,  1.49s/it, loss=0.702]\n",
      "Epoch 89/100 [VAL]: 100%|██████████| 24/24 [00:35<00:00,  1.49s/it, loss=0.8]\n"
     ]
    },
    {
     "name": "stdout",
     "output_type": "stream",
     "text": [
      "EarlyStopping counter: 87/100 (Best val_acc: 0.9584)\n",
      "\n",
      "Epoch 89/100 | LR: 1.45e-08 | Teach: 0.12 | Scheduler: ReduceLROnPlateau\n",
      "  Train Loss: 0.7166 | Train Char Acc: 0.9940\n",
      "  Val Loss: 0.8212   | Val Acc (CRR): 0.9566\n",
      "  Val Exact Match Acc (E2E RR): 0.8137\n",
      "----------------------------------------------------------------------\n"
     ]
    },
    {
     "name": "stderr",
     "output_type": "stream",
     "text": [
      "Epoch 90/100 [TRAIN] LR: 1.45e-08 Teach: 0.12 Scheduler: ReduceLROnPlateau:   2%|▎         | 1/40 [00:05<03:49,  5.88s/it, loss=0.7]"
     ]
    },
    {
     "name": "stdout",
     "output_type": "stream",
     "text": [
      "\n",
      "--- Training Batch 0 Examples (Content Only) ---\n",
      "  Pred: 'LA6558'\n",
      "  True: 'LA6558'\n",
      "  Pred: '5325TM'\n",
      "  True: '5325TM'\n",
      "  Pred: 'HG2975'\n",
      "  True: 'HG2975'\n",
      "  Pred: '7556HL'\n",
      "  True: '7556HL'\n",
      "  Pred: '5613UF'\n",
      "  True: '5613UF'\n",
      "-------------------------------\n"
     ]
    },
    {
     "name": "stderr",
     "output_type": "stream",
     "text": [
      "Epoch 90/100 [TRAIN] LR: 1.45e-08 Teach: 0.12 Scheduler: ReduceLROnPlateau: 100%|██████████| 40/40 [00:59<00:00,  1.48s/it, loss=0.754]\n",
      "Epoch 90/100 [VAL]: 100%|██████████| 24/24 [00:35<00:00,  1.49s/it, loss=0.8]\n"
     ]
    },
    {
     "name": "stdout",
     "output_type": "stream",
     "text": [
      "EarlyStopping counter: 88/100 (Best val_acc: 0.9584)\n",
      "\n",
      "Epoch 90/100 | LR: 1.45e-08 | Teach: 0.12 | Scheduler: ReduceLROnPlateau\n",
      "  Train Loss: 0.7204 | Train Char Acc: 0.9924\n",
      "  Val Loss: 0.8212   | Val Acc (CRR): 0.9566\n",
      "  Val Exact Match Acc (E2E RR): 0.8137\n",
      "----------------------------------------------------------------------\n"
     ]
    },
    {
     "name": "stderr",
     "output_type": "stream",
     "text": [
      "Epoch 91/100 [TRAIN] LR: 1.45e-08 Teach: 0.11 Scheduler: ReduceLROnPlateau:   2%|▎         | 1/40 [00:05<03:49,  5.89s/it, loss=0.704]"
     ]
    },
    {
     "name": "stdout",
     "output_type": "stream",
     "text": [
      "\n",
      "--- Training Batch 0 Examples (Content Only) ---\n",
      "  Pred: '5A8830'\n",
      "  True: '5A8830'\n",
      "  Pred: '5J2251'\n",
      "  True: '5J2251'\n",
      "  Pred: '8160ET'\n",
      "  True: '8160ET'\n",
      "  Pred: 'ZZ4230'\n",
      "  True: 'ZZ4230'\n",
      "  Pred: '3T5058'\n",
      "  True: '3T5058'\n",
      "-------------------------------\n"
     ]
    },
    {
     "name": "stderr",
     "output_type": "stream",
     "text": [
      "Epoch 91/100 [TRAIN] LR: 1.45e-08 Teach: 0.11 Scheduler: ReduceLROnPlateau: 100%|██████████| 40/40 [00:59<00:00,  1.48s/it, loss=0.731]\n",
      "Epoch 91/100 [VAL]: 100%|██████████| 24/24 [00:35<00:00,  1.49s/it, loss=0.8]\n"
     ]
    },
    {
     "name": "stdout",
     "output_type": "stream",
     "text": [
      "EarlyStopping counter: 89/100 (Best val_acc: 0.9584)\n",
      "\n",
      "Epoch 91/100 | LR: 1.45e-08 | Teach: 0.11 | Scheduler: ReduceLROnPlateau\n",
      "  Train Loss: 0.7205 | Train Char Acc: 0.9928\n",
      "  Val Loss: 0.8212   | Val Acc (CRR): 0.9564\n",
      "  Val Exact Match Acc (E2E RR): 0.8137\n",
      "----------------------------------------------------------------------\n"
     ]
    },
    {
     "name": "stderr",
     "output_type": "stream",
     "text": [
      "Epoch 92/100 [TRAIN] LR: 1.45e-08 Teach: 0.10 Scheduler: ReduceLROnPlateau:   2%|▎         | 1/40 [00:05<03:50,  5.92s/it, loss=0.713]"
     ]
    },
    {
     "name": "stdout",
     "output_type": "stream",
     "text": [
      "\n",
      "--- Training Batch 0 Examples (Content Only) ---\n",
      "  Pred: '8106TM'\n",
      "  True: '8106TM'\n",
      "  Pred: '8T6210'\n",
      "  True: '8T6210'\n",
      "  Pred: '9553KD'\n",
      "  True: '9553KD'\n",
      "  Pred: '9109QY'\n",
      "  True: '9109QY'\n",
      "  Pred: 'CJ4846'\n",
      "  True: 'CJ4846'\n",
      "-------------------------------\n"
     ]
    },
    {
     "name": "stderr",
     "output_type": "stream",
     "text": [
      "Epoch 92/100 [TRAIN] LR: 1.45e-08 Teach: 0.10 Scheduler: ReduceLROnPlateau: 100%|██████████| 40/40 [01:00<00:00,  1.50s/it, loss=0.703]\n",
      "Epoch 92/100 [VAL]: 100%|██████████| 24/24 [00:35<00:00,  1.49s/it, loss=0.8]\n"
     ]
    },
    {
     "name": "stdout",
     "output_type": "stream",
     "text": [
      "EarlyStopping counter: 90/100 (Best val_acc: 0.9584)\n",
      "\n",
      "Epoch 92/100 | LR: 1.45e-08 | Teach: 0.10 | Scheduler: ReduceLROnPlateau\n",
      "  Train Loss: 0.7159 | Train Char Acc: 0.9941\n",
      "  Val Loss: 0.8213   | Val Acc (CRR): 0.9568\n",
      "  Val Exact Match Acc (E2E RR): 0.8151\n",
      "----------------------------------------------------------------------\n"
     ]
    },
    {
     "name": "stderr",
     "output_type": "stream",
     "text": [
      "Epoch 93/100 [TRAIN] LR: 1.45e-08 Teach: 0.10 Scheduler: ReduceLROnPlateau:   2%|▎         | 1/40 [00:05<03:50,  5.90s/it, loss=0.74]"
     ]
    },
    {
     "name": "stdout",
     "output_type": "stream",
     "text": [
      "\n",
      "--- Training Batch 0 Examples (Content Only) ---\n",
      "  Pred: 'G26178'\n",
      "  True: 'G26178'\n",
      "  Pred: '1937EH'\n",
      "  True: '1937EH'\n",
      "  Pred: 'OH1357'\n",
      "  True: 'OH1357'\n",
      "  Pred: 'A92746'\n",
      "  True: 'A92746'\n",
      "  Pred: 'DF2715'\n",
      "  True: 'DF2715'\n",
      "-------------------------------\n"
     ]
    },
    {
     "name": "stderr",
     "output_type": "stream",
     "text": [
      "Epoch 93/100 [TRAIN] LR: 1.45e-08 Teach: 0.10 Scheduler: ReduceLROnPlateau: 100%|██████████| 40/40 [00:59<00:00,  1.49s/it, loss=0.708]\n",
      "Epoch 93/100 [VAL]: 100%|██████████| 24/24 [00:36<00:00,  1.51s/it, loss=0.8]\n"
     ]
    },
    {
     "name": "stdout",
     "output_type": "stream",
     "text": [
      "EarlyStopping counter: 91/100 (Best val_acc: 0.9584)\n",
      "\n",
      "Epoch 93/100 | LR: 1.45e-08 | Teach: 0.10 | Scheduler: ReduceLROnPlateau\n",
      "  Train Loss: 0.7210 | Train Char Acc: 0.9926\n",
      "  Val Loss: 0.8212   | Val Acc (CRR): 0.9568\n",
      "  Val Exact Match Acc (E2E RR): 0.8151\n",
      "----------------------------------------------------------------------\n"
     ]
    },
    {
     "name": "stderr",
     "output_type": "stream",
     "text": [
      "Epoch 94/100 [TRAIN] LR: 1.45e-08 Teach: 0.09 Scheduler: ReduceLROnPlateau:   2%|▎         | 1/40 [00:05<03:53,  5.98s/it, loss=0.732]"
     ]
    },
    {
     "name": "stdout",
     "output_type": "stream",
     "text": [
      "\n",
      "--- Training Batch 0 Examples (Content Only) ---\n",
      "  Pred: 'CN0031'\n",
      "  True: 'CN0972'\n",
      "  Pred: '0X6511'\n",
      "  True: '0X6511'\n",
      "  Pred: '2078FG'\n",
      "  True: '2078FG'\n",
      "  Pred: '8106TM'\n",
      "  True: '8106TM'\n",
      "  Pred: 'CR1296'\n",
      "  True: 'CR1296'\n",
      "-------------------------------\n"
     ]
    },
    {
     "name": "stderr",
     "output_type": "stream",
     "text": [
      "Epoch 94/100 [TRAIN] LR: 1.45e-08 Teach: 0.09 Scheduler: ReduceLROnPlateau: 100%|██████████| 40/40 [00:59<00:00,  1.49s/it, loss=0.707]\n",
      "Epoch 94/100 [VAL]: 100%|██████████| 24/24 [00:35<00:00,  1.49s/it, loss=0.801]\n"
     ]
    },
    {
     "name": "stdout",
     "output_type": "stream",
     "text": [
      "EarlyStopping counter: 92/100 (Best val_acc: 0.9584)\n",
      "\n",
      "Epoch 94/100 | LR: 1.45e-08 | Teach: 0.09 | Scheduler: ReduceLROnPlateau\n",
      "  Train Loss: 0.7166 | Train Char Acc: 0.9944\n",
      "  Val Loss: 0.8213   | Val Acc (CRR): 0.9568\n",
      "  Val Exact Match Acc (E2E RR): 0.8151\n",
      "----------------------------------------------------------------------\n"
     ]
    },
    {
     "name": "stderr",
     "output_type": "stream",
     "text": [
      "Epoch 95/100 [TRAIN] LR: 1.45e-08 Teach: 0.08 Scheduler: ReduceLROnPlateau:   2%|▎         | 1/40 [00:06<03:59,  6.14s/it, loss=0.706]"
     ]
    },
    {
     "name": "stdout",
     "output_type": "stream",
     "text": [
      "\n",
      "--- Training Batch 0 Examples (Content Only) ---\n",
      "  Pred: '8D9186'\n",
      "  True: '8D9186'\n",
      "  Pred: '3A7705'\n",
      "  True: '3A7705'\n",
      "  Pred: '9109QY'\n",
      "  True: '9109QY'\n",
      "  Pred: 'CF4870'\n",
      "  True: 'CF4870'\n",
      "  Pred: '5609ET'\n",
      "  True: '5609ET'\n",
      "-------------------------------\n"
     ]
    },
    {
     "name": "stderr",
     "output_type": "stream",
     "text": [
      "Epoch 95/100 [TRAIN] LR: 1.45e-08 Teach: 0.08 Scheduler: ReduceLROnPlateau: 100%|██████████| 40/40 [00:59<00:00,  1.49s/it, loss=0.707]\n",
      "Epoch 95/100 [VAL]: 100%|██████████| 24/24 [00:35<00:00,  1.50s/it, loss=0.8]\n"
     ]
    },
    {
     "name": "stdout",
     "output_type": "stream",
     "text": [
      "EarlyStopping counter: 93/100 (Best val_acc: 0.9584)\n",
      "\n",
      "Epoch 95/100 | LR: 1.45e-08 | Teach: 0.08 | Scheduler: ReduceLROnPlateau\n",
      "  Train Loss: 0.7192 | Train Char Acc: 0.9936\n",
      "  Val Loss: 0.8212   | Val Acc (CRR): 0.9566\n",
      "  Val Exact Match Acc (E2E RR): 0.8164\n",
      "----------------------------------------------------------------------\n"
     ]
    },
    {
     "name": "stderr",
     "output_type": "stream",
     "text": [
      "Epoch 96/100 [TRAIN] LR: 1.45e-08 Teach: 0.08 Scheduler: ReduceLROnPlateau:   2%|▎         | 1/40 [00:06<03:56,  6.05s/it, loss=0.7]"
     ]
    },
    {
     "name": "stdout",
     "output_type": "stream",
     "text": [
      "\n",
      "--- Training Batch 0 Examples (Content Only) ---\n",
      "  Pred: '2E5507'\n",
      "  True: '2E5507'\n",
      "  Pred: '2852JH'\n",
      "  True: '2852JH'\n",
      "  Pred: '8C8313'\n",
      "  True: '8C8313'\n",
      "  Pred: 'DV7098'\n",
      "  True: 'DV7098'\n",
      "  Pred: 'CR3885'\n",
      "  True: 'CR3885'\n",
      "-------------------------------\n"
     ]
    },
    {
     "name": "stderr",
     "output_type": "stream",
     "text": [
      "Epoch 96/100 [TRAIN] LR: 1.45e-08 Teach: 0.08 Scheduler: ReduceLROnPlateau: 100%|██████████| 40/40 [00:59<00:00,  1.49s/it, loss=0.723]\n",
      "Epoch 96/100 [VAL]: 100%|██████████| 24/24 [00:35<00:00,  1.49s/it, loss=0.8]\n"
     ]
    },
    {
     "name": "stdout",
     "output_type": "stream",
     "text": [
      "EarlyStopping counter: 94/100 (Best val_acc: 0.9584)\n",
      "\n",
      "Epoch 96/100 | LR: 1.45e-08 | Teach: 0.08 | Scheduler: ReduceLROnPlateau\n",
      "  Train Loss: 0.7189 | Train Char Acc: 0.9935\n",
      "  Val Loss: 0.8213   | Val Acc (CRR): 0.9571\n",
      "  Val Exact Match Acc (E2E RR): 0.8177\n",
      "----------------------------------------------------------------------\n"
     ]
    },
    {
     "name": "stderr",
     "output_type": "stream",
     "text": [
      "Epoch 97/100 [TRAIN] LR: 1.45e-08 Teach: 0.07 Scheduler: ReduceLROnPlateau:   2%|▎         | 1/40 [00:05<03:36,  5.55s/it, loss=0.71]"
     ]
    },
    {
     "name": "stdout",
     "output_type": "stream",
     "text": [
      "\n",
      "--- Training Batch 0 Examples (Content Only) ---\n",
      "  Pred: '9605EU'\n",
      "  True: '9605EU'\n",
      "  Pred: '6177MS'\n",
      "  True: '6177MS'\n",
      "  Pred: 'BU8845'\n",
      "  True: 'BU8845'\n",
      "  Pred: 'LE7857'\n",
      "  True: 'LE7857'\n",
      "  Pred: '1312KD'\n",
      "  True: '1312KD'\n",
      "-------------------------------\n"
     ]
    },
    {
     "name": "stderr",
     "output_type": "stream",
     "text": [
      "Epoch 97/100 [TRAIN] LR: 1.45e-08 Teach: 0.07 Scheduler: ReduceLROnPlateau: 100%|██████████| 40/40 [00:59<00:00,  1.49s/it, loss=0.705]\n",
      "Epoch 97/100 [VAL]: 100%|██████████| 24/24 [00:35<00:00,  1.49s/it, loss=0.8]\n"
     ]
    },
    {
     "name": "stdout",
     "output_type": "stream",
     "text": [
      "EarlyStopping counter: 95/100 (Best val_acc: 0.9584)\n",
      "\n",
      "Epoch 97/100 | LR: 1.45e-08 | Teach: 0.07 | Scheduler: ReduceLROnPlateau\n",
      "  Train Loss: 0.7162 | Train Char Acc: 0.9945\n",
      "  Val Loss: 0.8212   | Val Acc (CRR): 0.9564\n",
      "  Val Exact Match Acc (E2E RR): 0.8151\n",
      "----------------------------------------------------------------------\n"
     ]
    },
    {
     "name": "stderr",
     "output_type": "stream",
     "text": [
      "Epoch 98/100 [TRAIN] LR: 1.45e-08 Teach: 0.06 Scheduler: ReduceLROnPlateau:   2%|▎         | 1/40 [00:06<03:54,  6.01s/it, loss=0.707]"
     ]
    },
    {
     "name": "stdout",
     "output_type": "stream",
     "text": [
      "\n",
      "--- Training Batch 0 Examples (Content Only) ---\n",
      "  Pred: '9863QX'\n",
      "  True: '9863QX'\n",
      "  Pred: '6G4892'\n",
      "  True: '6G4892'\n",
      "  Pred: '9553KD'\n",
      "  True: '9553KD'\n",
      "  Pred: 'CR0073'\n",
      "  True: 'CR0073'\n",
      "  Pred: '3206TW'\n",
      "  True: '3206TW'\n",
      "-------------------------------\n"
     ]
    },
    {
     "name": "stderr",
     "output_type": "stream",
     "text": [
      "Epoch 98/100 [TRAIN] LR: 1.45e-08 Teach: 0.06 Scheduler: ReduceLROnPlateau: 100%|██████████| 40/40 [00:59<00:00,  1.48s/it, loss=0.73]\n",
      "Epoch 98/100 [VAL]: 100%|██████████| 24/24 [00:35<00:00,  1.49s/it, loss=0.8]\n"
     ]
    },
    {
     "name": "stdout",
     "output_type": "stream",
     "text": [
      "EarlyStopping counter: 96/100 (Best val_acc: 0.9584)\n",
      "\n",
      "Epoch 98/100 | LR: 1.45e-08 | Teach: 0.06 | Scheduler: ReduceLROnPlateau\n",
      "  Train Loss: 0.7232 | Train Char Acc: 0.9909\n",
      "  Val Loss: 0.8212   | Val Acc (CRR): 0.9564\n",
      "  Val Exact Match Acc (E2E RR): 0.8151\n",
      "----------------------------------------------------------------------\n"
     ]
    },
    {
     "name": "stderr",
     "output_type": "stream",
     "text": [
      "Epoch 99/100 [TRAIN] LR: 1.45e-08 Teach: 0.06 Scheduler: ReduceLROnPlateau:   2%|▎         | 1/40 [00:06<03:58,  6.13s/it, loss=0.751]"
     ]
    },
    {
     "name": "stdout",
     "output_type": "stream",
     "text": [
      "\n",
      "--- Training Batch 0 Examples (Content Only) ---\n",
      "  Pred: '5297KH'\n",
      "  True: '5297KH'\n",
      "  Pred: '3456DT'\n",
      "  True: '3456DT'\n",
      "  Pred: '1387QL'\n",
      "  True: '1387QL'\n",
      "  Pred: '5871HJ'\n",
      "  True: '5871HJ'\n",
      "  Pred: '8C8313'\n",
      "  True: '8C8313'\n",
      "-------------------------------\n"
     ]
    },
    {
     "name": "stderr",
     "output_type": "stream",
     "text": [
      "Epoch 99/100 [TRAIN] LR: 1.45e-08 Teach: 0.06 Scheduler: ReduceLROnPlateau: 100%|██████████| 40/40 [00:59<00:00,  1.49s/it, loss=0.727]\n",
      "Epoch 99/100 [VAL]: 100%|██████████| 24/24 [00:36<00:00,  1.50s/it, loss=0.8]\n"
     ]
    },
    {
     "name": "stdout",
     "output_type": "stream",
     "text": [
      "EarlyStopping counter: 97/100 (Best val_acc: 0.9584)\n",
      "\n",
      "Epoch 99/100 | LR: 1.45e-08 | Teach: 0.06 | Scheduler: ReduceLROnPlateau\n",
      "  Train Loss: 0.7246 | Train Char Acc: 0.9911\n",
      "  Val Loss: 0.8217   | Val Acc (CRR): 0.9564\n",
      "  Val Exact Match Acc (E2E RR): 0.8124\n",
      "----------------------------------------------------------------------\n"
     ]
    },
    {
     "name": "stderr",
     "output_type": "stream",
     "text": [
      "Epoch 100/100 [TRAIN] LR: 1.45e-08 Teach: 0.05 Scheduler: ReduceLROnPlateau:   2%|▎         | 1/40 [00:05<03:49,  5.88s/it, loss=0.709]"
     ]
    },
    {
     "name": "stdout",
     "output_type": "stream",
     "text": [
      "\n",
      "--- Training Batch 0 Examples (Content Only) ---\n",
      "  Pred: '3D0061'\n",
      "  True: '3D0061'\n",
      "  Pred: 'JZ0942'\n",
      "  True: 'JZ0942'\n",
      "  Pred: '8190DR'\n",
      "  True: '8190DR'\n",
      "  Pred: '7263KT'\n",
      "  True: '7263KT'\n",
      "  Pred: '1937EH'\n",
      "  True: '1937EH'\n",
      "-------------------------------\n"
     ]
    },
    {
     "name": "stderr",
     "output_type": "stream",
     "text": [
      "Epoch 100/100 [TRAIN] LR: 1.45e-08 Teach: 0.05 Scheduler: ReduceLROnPlateau: 100%|██████████| 40/40 [00:59<00:00,  1.49s/it, loss=0.703]\n",
      "Epoch 100/100 [VAL]: 100%|██████████| 24/24 [00:35<00:00,  1.50s/it, loss=0.8]\n"
     ]
    },
    {
     "name": "stdout",
     "output_type": "stream",
     "text": [
      "EarlyStopping counter: 98/100 (Best val_acc: 0.9584)\n",
      "\n",
      "Epoch 100/100 | LR: 1.45e-08 | Teach: 0.05 | Scheduler: ReduceLROnPlateau\n",
      "  Train Loss: 0.7152 | Train Char Acc: 0.9948\n",
      "  Val Loss: 0.8215   | Val Acc (CRR): 0.9566\n",
      "  Val Exact Match Acc (E2E RR): 0.8137\n",
      "----------------------------------------------------------------------\n",
      "\n",
      "Training completed!\n",
      "Final val accuracy (Greedy Character Level): 0.9566\n",
      "Final val accuracy (Constrained Length Exact Match): 0.8137\n"
     ]
    },
    {
     "data": {
      "image/png": "[encoded data removed]",
      "text/plain": [
       "<Figure size 1800x1200 with 2 Axes>"
      ]
     },
     "metadata": {},
     "output_type": "display_data"
    },
    {
     "name": "stdout",
     "output_type": "stream",
     "text": [
      "Saved plots to performance_plots.png\n"
     ]
    }
   ],
   "source": [
    "import torch\n",
    "import torch.nn as nn\n",
    "from ultralytics import YOLO\n",
    "from torch.nn import MultiheadAttention\n",
    "from torchvision import transforms\n",
    "from PIL import Image\n",
    "import random\n",
    "import os\n",
    "from torch.utils.data import Dataset, DataLoader, Sampler, Subset, SubsetRandomSampler\n",
    "import numpy as np\n",
    "from tqdm import tqdm\n",
    "import matplotlib.pyplot as plt\n",
    "from torchtoolbox.tools import mixup_data, mixup_criterion\n",
    "\n",
    "#--- Constants ---\n",
    "CHARACTERS = '0123456789ABCDEFGHIJKLMNOPQRSTUVWXYZ'\n",
    "SOS_TOKEN = 36\n",
    "EOS_TOKEN = 37\n",
    "PAD_TOKEN = len(CHARACTERS) + 2\n",
    "NUM_CLASSES = len(CHARACTERS) + 3  # SOS, EOS, PAD\n",
    "DEVICE = 'cuda' if torch.cuda.is_available() else 'cpu'\n",
    "\n",
    "#--- Utility functions ---\n",
    "def index_to_char(indices, include_special_tokens=False):\n",
    "    result = []\n",
    "    for i in indices:\n",
    "        i = i.item() if torch.is_tensor(i) else i\n",
    "        if i == SOS_TOKEN:\n",
    "            if include_special_tokens: result.append('[SOS]')\n",
    "        elif i == EOS_TOKEN:\n",
    "            if include_special_tokens: result.append('[EOS]')\n",
    "            break\n",
    "        elif 0 <= i < len(CHARACTERS):\n",
    "            result.append(CHARACTERS[i])\n",
    "        else:\n",
    "            if include_special_tokens or i not in [SOS_TOKEN, EOS_TOKEN]:\n",
    "                result.append(f'[UNK_{i}]')\n",
    "    return ''.join(result)\n",
    "\n",
    "def char_to_indices(text):\n",
    "    indices = [SOS_TOKEN]\n",
    "    for c in text:\n",
    "        if c in CHARACTERS:\n",
    "            indices.append(CHARACTERS.index(c))\n",
    "    indices.append(EOS_TOKEN)\n",
    "    return torch.tensor(indices, dtype=torch.long)\n",
    "\n",
    "#--- YOLO wrapper ---\n",
    "class YoloBackbone(nn.Module):\n",
    "    def __init__(self, model_path, target_feature_layer_index=9):\n",
    "        super().__init__()\n",
    "        _temp_yolo_instance = YOLO(model_path)\n",
    "        self.yolo_detection_model = _temp_yolo_instance.model\n",
    "        self.yolo_detection_model.to(DEVICE)\n",
    "        self.target_feature_layer_index = target_feature_layer_index\n",
    "\n",
    "        for name, param in self.yolo_detection_model.named_parameters():\n",
    "            param.requires_grad = True\n",
    "        \n",
    "        self._hook_handle = None\n",
    "        self._fmap_out_hook = []\n",
    "        \n",
    "        self._register_hook()\n",
    "\n",
    "    def _hook_fn_extractor(self, module, input_val, output_val):\n",
    "        if isinstance(output_val, torch.Tensor):\n",
    "            self._fmap_out_hook.append(output_val)\n",
    "        elif isinstance(output_val, (list, tuple)):\n",
    "            for item in output_val:\n",
    "                if isinstance(item, torch.Tensor):\n",
    "                    self._fmap_out_hook.append(item)\n",
    "                    break\n",
    "\n",
    "    def _register_hook(self):\n",
    "        layer_to_hook = self.yolo_detection_model.model[self.target_feature_layer_index]\n",
    "        self._hook_handle = layer_to_hook.register_forward_hook(self._hook_fn_extractor)\n",
    "\n",
    "    def _remove_hook(self):\n",
    "        if self._hook_handle:\n",
    "            self._hook_handle.remove()\n",
    "            self._hook_handle = None\n",
    "\n",
    "    def forward(self, x):\n",
    "        self._fmap_out_hook.clear()\n",
    "        _ = self.yolo_detection_model(x)\n",
    "        out_tensor = self._fmap_out_hook[0]\n",
    "        return out_tensor if out_tensor.dim() == 4 else out_tensor.unsqueeze(0)\n",
    "\n",
    "#--- Simplified RViT ---\n",
    "class RViT(nn.Module):\n",
    "    def __init__(self, yolo_channels=256, d_model=512, num_patches=1600, n_heads=8, num_encoder_layers=3, dim_feedforward=2048, dropout_rate=0.3):\n",
    "        super().__init__()\n",
    "        self.d_model = d_model\n",
    "        self.proj = nn.Sequential(\n",
    "            nn.Conv2d(yolo_channels, d_model, kernel_size=3, padding=1),\n",
    "            nn.BatchNorm2d(d_model),\n",
    "            nn.ReLU(),\n",
    "            nn.Dropout2d(dropout_rate if dropout_rate > 0 else 0)\n",
    "        )\n",
    "        encoder_layer = nn.TransformerEncoderLayer(\n",
    "            d_model=d_model, nhead=n_heads, dim_feedforward=dim_feedforward,\n",
    "            dropout=dropout_rate, batch_first=True, norm_first=True\n",
    "        )\n",
    "        self.encoder = nn.TransformerEncoder(encoder_layer, num_layers=num_encoder_layers)\n",
    "\n",
    "        self.pos_embed = nn.Parameter(torch.randn(1, num_patches + 1, d_model))\n",
    "        self.region_q = nn.Parameter(torch.zeros(1, 1, d_model))\n",
    "        \n",
    "        self.embed = nn.Embedding(NUM_CLASSES, d_model)\n",
    "        self.gru_num_layers = 1\n",
    "        self.gru = nn.GRU(d_model, d_model, num_layers=self.gru_num_layers, batch_first=True,\n",
    "                          dropout=dropout_rate if self.gru_num_layers > 1 else 0)\n",
    "        self.attn = MultiheadAttention(d_model, num_heads=n_heads, batch_first=True, dropout=dropout_rate)\n",
    "        self.fc = nn.Sequential(\n",
    "            nn.Dropout(dropout_rate if dropout_rate > 0 else 0),\n",
    "            nn.Linear(2 * d_model, NUM_CLASSES)\n",
    "        )\n",
    "\n",
    "    def forward(self, fmap, target=None, teach_ratio=0.5, forced_output_length=None):\n",
    "        b = fmap.size(0)\n",
    "        x = self.proj(fmap)\n",
    "        x = x.flatten(2).permute(0, 2, 1)\n",
    "\n",
    "        current_num_patches = x.size(1)\n",
    "        expected_pos_embed_len = current_num_patches + 1\n",
    "        \n",
    "        if self.pos_embed.size(1) != expected_pos_embed_len:\n",
    "            if self.pos_embed.size(1) > expected_pos_embed_len:\n",
    "                pos_embed_to_add = self.pos_embed[:, :expected_pos_embed_len, :]\n",
    "            else:\n",
    "                raise ValueError(f\"RViT pos_embed second dim {self.pos_embed.size(1)} is smaller than required {expected_pos_embed_len}\")\n",
    "        else:\n",
    "            pos_embed_to_add = self.pos_embed\n",
    "\n",
    "        q = self.region_q.expand(b, -1, -1)\n",
    "        x = torch.cat([q, x], dim=1)\n",
    "        x = x + pos_embed_to_add\n",
    "\n",
    "        enc = self.encoder(x)\n",
    "        region_feat, spatial_feats = enc[:, 0], enc[:, 1:]\n",
    "        \n",
    "        if forced_output_length is not None:\n",
    "            max_gen_len = forced_output_length\n",
    "        elif target is not None:\n",
    "            max_gen_len = target.size(1) - 1\n",
    "        else:\n",
    "            max_gen_len = MAX_SEQ_LENGTH - 1\n",
    "\n",
    "        h = region_feat.unsqueeze(0).contiguous()\n",
    "        current_input_tokens = torch.full((b,), SOS_TOKEN, device=DEVICE, dtype=torch.long)\n",
    "        outputs_logits = []\n",
    "\n",
    "        finished_sequences_tracker = None\n",
    "        if target is None and forced_output_length is None:\n",
    "            finished_sequences_tracker = torch.zeros(b, dtype=torch.bool, device=DEVICE)\n",
    "            \n",
    "        for t in range(max_gen_len):\n",
    "            emb = self.embed(current_input_tokens).unsqueeze(1)\n",
    "            g, h = self.gru(emb, h)\n",
    "            a, _ = self.attn(g, spatial_feats, spatial_feats)\n",
    "            comb = torch.cat([g.squeeze(1), a.squeeze(1)], dim=-1)\n",
    "            logits_step = self.fc(comb)\n",
    "            outputs_logits.append(logits_step)\n",
    "\n",
    "            if target is not None and random.random() < teach_ratio:\n",
    "                next_input_candidate = target[:, t + 1]\n",
    "            else:\n",
    "                next_input_candidate = logits_step.argmax(-1)\n",
    "\n",
    "            if finished_sequences_tracker is not None:\n",
    "                eos_predicted_this_step = (next_input_candidate == EOS_TOKEN)\n",
    "                finished_sequences_tracker |= eos_predicted_this_step\n",
    "                current_input_tokens = torch.where(finished_sequences_tracker,\n",
    "                                                 torch.tensor(EOS_TOKEN, device=DEVICE, dtype=torch.long),\n",
    "                                                 next_input_candidate)\n",
    "                if finished_sequences_tracker.all():\n",
    "                    break\n",
    "            else:\n",
    "                current_input_tokens = next_input_candidate\n",
    "        \n",
    "        return torch.stack(outputs_logits, dim=1)\n",
    "\n",
    "#--- Full model (YOLO_RViT) ---\n",
    "class YOLO_RViT(nn.Module):\n",
    "    def __init__(self, yolo_path, yolo_target_feature_layer_idx=9):\n",
    "        super().__init__()\n",
    "        self.backbone = YoloBackbone(yolo_path, target_feature_layer_index=yolo_target_feature_layer_idx)\n",
    "        dummy_input = torch.randn(1, 3, 640, 640).to(DEVICE)\n",
    "        \n",
    "        original_backbone_training_mode = self.backbone.training\n",
    "        with torch.no_grad():\n",
    "            dummy_feats = self.backbone(dummy_input)\n",
    "        \n",
    "        yolo_channels = dummy_feats.shape[1]\n",
    "        h_feat, w_feat = dummy_feats.shape[2], dummy_feats.shape[3]\n",
    "        num_patches = h_feat * w_feat\n",
    "        \n",
    "        self.rvit = RViT(yolo_channels=yolo_channels, num_patches=num_patches).to(DEVICE)\n",
    "\n",
    "    def forward(self, x, target=None, teach_ratio=0.5, forced_output_length=None):\n",
    "        x = x.to(DEVICE)\n",
    "        feats = self.backbone(x)\n",
    "        return self.rvit(feats, target, teach_ratio, forced_output_length)\n",
    "\n",
    "    def train(self, mode: bool = True):\n",
    "        super().train(mode)\n",
    "        self.rvit.train(mode)\n",
    "        self.backbone.train(mode)\n",
    "        return self\n",
    "\n",
    "    def eval(self):\n",
    "        super().eval()\n",
    "        self.rvit.eval()\n",
    "        self.backbone.eval()\n",
    "        return self\n",
    "\n",
    "#--- Dataset ---\n",
    "class LicensePlateDataset(Dataset):\n",
    "    def __init__(self, img_dir, license_dir, max_seq_length=15, is_train=True):\n",
    "        self.img_dir = img_dir\n",
    "        self.license_dir = license_dir\n",
    "        self.max_seq_length = max_seq_length\n",
    "        self.img_names = [f for f in os.listdir(self.img_dir) if f.endswith(('.jpg'))]\n",
    "        if is_train:\n",
    "            self.transform = transforms.Compose([\n",
    "                transforms.Resize((640, 640)),\n",
    "                transforms.RandomApply([\n",
    "                    transforms.RandomRotation(10),\n",
    "                    transforms.RandomAffine(degrees=8, translate=(0.03, 0.03), scale=(0.95, 1.05)),\n",
    "                    transforms.RandomPerspective(distortion_scale=0.05, p=0.3),\n",
    "                ], p=0.7),\n",
    "                transforms.ColorJitter(brightness=0.2, contrast=0.2, saturation=0.2, hue=0.05),\n",
    "                transforms.RandomApply([transforms.GaussianBlur(kernel_size=3, sigma=(0.1, 1.0))], p=0.25),\n",
    "                transforms.ToTensor(),\n",
    "                transforms.RandomErasing(p=0.2, scale=(0.01, 0.04), ratio=(0.3, 3.3)),\n",
    "                transforms.Normalize(mean=[0.485, 0.456, 0.406], std=[0.229, 0.224, 0.225])\n",
    "            ])\n",
    "        else:\n",
    "            self.transform = transforms.Compose([\n",
    "                transforms.Resize((640, 640)),\n",
    "                transforms.ToTensor(),\n",
    "                transforms.Normalize(mean=[0.485, 0.456, 0.406], std=[0.229, 0.224, 0.225])\n",
    "            ])\n",
    "            \n",
    "    def __len__(self):\n",
    "        return len(self.img_names)\n",
    "\n",
    "    def __getitem__(self, idx):\n",
    "        img_path = os.path.join(self.img_dir, self.img_names[idx])\n",
    "        img = Image.open(img_path).convert(\"RGB\")\n",
    "        img_tensor = self.transform(img)\n",
    "        \n",
    "        license_filename = os.path.splitext(self.img_names[idx])[0] + \".txt\"\n",
    "        license_path = os.path.join(self.license_dir, license_filename)\n",
    "        try:\n",
    "            with open(license_path, 'r', encoding='utf-8') as f:\n",
    "                license_text = f.read().upper().strip()\n",
    "        except FileNotFoundError:\n",
    "            return img_tensor, torch.full((self.max_seq_length,), EOS_TOKEN, dtype=torch.long)\n",
    "\n",
    "        # print(f\"file: {self.img_names[idx]}, {license_text}\")\n",
    "        license_indices = char_to_indices(license_text)\n",
    "        target = torch.full((self.max_seq_length,), PAD_TOKEN, dtype=torch.long)\n",
    "        \n",
    "        actual_len = min(len(license_indices), self.max_seq_length)\n",
    "        target[:actual_len] = license_indices[:actual_len]\n",
    "        \n",
    "        return img_tensor, target\n",
    "\n",
    "\n",
    "    @staticmethod\n",
    "    def collate_fn(batch):\n",
    "        images = torch.stack([item[0] for item in batch])\n",
    "        targets = torch.stack([item[1] for item in batch])\n",
    "        return images, targets\n",
    "\n",
    "#--- Early Stopping ---\n",
    "class EarlyStopping:\n",
    "    def __init__(self, patience=10, min_delta=0.0, monitor_metric='val_acc', mode='max', verbose=True):\n",
    "        self.patience = patience\n",
    "        self.min_delta = min_delta\n",
    "        self.monitor_metric = monitor_metric\n",
    "        self.mode = mode\n",
    "        self.verbose = verbose\n",
    "\n",
    "        if self.mode == 'min':\n",
    "            self.best_metric_val = np.Inf\n",
    "        else:\n",
    "            self.best_metric_val = -np.Inf\n",
    "        self.counter = 0\n",
    "        self.early_stop = False\n",
    "\n",
    "    def __call__(self, current_metric_val):\n",
    "        improved = False\n",
    "        if self.mode == 'min':\n",
    "            if current_metric_val < self.best_metric_val - self.min_delta:\n",
    "                self.best_metric_val = current_metric_val\n",
    "                improved = True\n",
    "        else:\n",
    "            if current_metric_val > self.best_metric_val + self.min_delta:\n",
    "                self.best_metric_val = current_metric_val\n",
    "                improved = True\n",
    "        \n",
    "        if improved:\n",
    "            self.counter = 0\n",
    "            if self.verbose:\n",
    "                print(f\"EarlyStopping: New best {self.monitor_metric}: {self.best_metric_val:.4f}\")\n",
    "        else:\n",
    "            self.counter += 1\n",
    "\n",
    "        if self.verbose and self.counter > 0 and not improved:\n",
    "            print(f\"EarlyStopping counter: {self.counter}/{self.patience} (Best {self.monitor_metric}: {self.best_metric_val:.4f})\")\n",
    "        if self.counter >= self.patience:\n",
    "            self.early_stop = True\n",
    "            if self.verbose:\n",
    "                print(f\"Early stopping triggered for {self.monitor_metric}.\")\n",
    "        return self.counter\n",
    "\n",
    "#--- Training ---\n",
    "YOLO_MODEL_PATH = '/kaggle/input/m/thitenguyen/yolov11s/pytorch/default/1/best.pt'\n",
    "YOLO_TARGET_FEATURE_LAYER_INDEX = 13\n",
    "\n",
    "IMG_DIR_TRAIN = \"/kaggle/input/aolp-le-dataset/AOLP_LE/train/image\"\n",
    "LICENSE_DIR_TRAIN = \"/kaggle/input/aolp-le-dataset/AOLP_LE/train/text\"\n",
    "IMG_DIR_VAL = \"/kaggle/input/aolp-le-dataset/AOLP_LE/val/image\"\n",
    "LICENSE_DIR_VAL = \"/kaggle/input/aolp-le-dataset/AOLP_LE/val/text\"\n",
    "\n",
    "MAX_SEQ_LENGTH = 15\n",
    "BATCH_SIZE = 32\n",
    "NUM_WORKERS = 4\n",
    "LEARNING_RATE = 5e-5\n",
    "MAX_LR_SCHEDULER = 5e-4\n",
    "WEIGHT_DECAY = 5e-5\n",
    "NUM_EPOCHS = 100\n",
    "ACCUM_STEPS = 2\n",
    "PATIENCE_EARLY_STOP = 100\n",
    "TEACH_RATIO_START = 0.7\n",
    "TEACH_RATIO_END = 0.05\n",
    "LABEL_SMOOTHING = 0.1\n",
    "\n",
    "scaler = torch.amp.GradScaler(DEVICE)\n",
    "autocast_context = lambda: torch.amp.autocast(DEVICE)\n",
    "\n",
    "train_dataset_full = LicensePlateDataset(img_dir=IMG_DIR_TRAIN, license_dir=LICENSE_DIR_TRAIN, max_seq_length=MAX_SEQ_LENGTH, is_train=True)\n",
    "val_dataset = LicensePlateDataset(img_dir=IMG_DIR_VAL, license_dir=LICENSE_DIR_VAL, max_seq_length=MAX_SEQ_LENGTH, is_train=False)\n",
    "\n",
    "train_dataloader = DataLoader(train_dataset_full, batch_size=BATCH_SIZE, shuffle=True, num_workers=NUM_WORKERS, collate_fn=LicensePlateDataset.collate_fn, pin_memory=(DEVICE == 'cuda'), drop_last=True)\n",
    "val_dataloader = DataLoader(val_dataset, batch_size=BATCH_SIZE, shuffle=False, num_workers=NUM_WORKERS, collate_fn=LicensePlateDataset.collate_fn, pin_memory=(DEVICE == 'cuda'))\n",
    "\n",
    "model = YOLO_RViT(YOLO_MODEL_PATH, yolo_target_feature_layer_idx=YOLO_TARGET_FEATURE_LAYER_INDEX).to(DEVICE)\n",
    "\n",
    "optimizer = torch.optim.AdamW(\n",
    "    model.parameters(),\n",
    "    lr=LEARNING_RATE,\n",
    "    weight_decay=WEIGHT_DECAY\n",
    ")\n",
    "\n",
    "scheduler = torch.optim.lr_scheduler.OneCycleLR(\n",
    "    optimizer, max_lr=MAX_LR_SCHEDULER,\n",
    "    epochs=NUM_EPOCHS,\n",
    "    steps_per_epoch=(len(train_dataloader) + ACCUM_STEPS - 1) // ACCUM_STEPS,\n",
    "    pct_start=0.2,\n",
    "    div_factor=(MAX_LR_SCHEDULER / LEARNING_RATE) if MAX_LR_SCHEDULER > LEARNING_RATE else 10.0\n",
    ")\n",
    "scheduler_type = \"OneCycleLR\"\n",
    "\n",
    "loss_fn = nn.CrossEntropyLoss(ignore_index=PAD_TOKEN, label_smoothing=LABEL_SMOOTHING)\n",
    "early_stopper = EarlyStopping(patience=PATIENCE_EARLY_STOP, min_delta=0.0005, monitor_metric='val_acc', mode='max', verbose=True)\n",
    "\n",
    "checkpoint = torch.load(\"/kaggle/input/yolo_rvt_aolp_le35/pytorch/default/1/best_yolo_rvit_model35.pth\", map_location=DEVICE)\n",
    "model.load_state_dict(checkpoint['model_state_dict'])\n",
    "optimizer.load_state_dict(checkpoint['optimizer_state_dict'])\n",
    "\n",
    "train_loss_values, val_loss_values = [], []\n",
    "train_acc_values, val_acc_values, val_acc_constrained_values = [], [], []\n",
    "epoch_count_list = []\n",
    "best_val_acc = 0.0\n",
    "\n",
    "for epoch in range(NUM_EPOCHS):\n",
    "    epoch_count_list.append(epoch + 1)\n",
    "    model.train()\n",
    "    train_loss, train_correct, train_total_chars = 0, 0, 0\n",
    "\n",
    "    teach_ratio = TEACH_RATIO_START - (TEACH_RATIO_START - TEACH_RATIO_END) * (epoch / max(1, NUM_EPOCHS - 1))\n",
    "\n",
    "    optimizer.zero_grad()\n",
    "\n",
    "    pbar_train = tqdm(train_dataloader, desc=f\"Epoch {epoch+1}/{NUM_EPOCHS} [TRAIN] LR: {optimizer.param_groups[0]['lr']:.2e} Teach: {teach_ratio:.2f} Scheduler: {scheduler_type}\")\n",
    "    for batch_idx, (imgs, targets) in enumerate(pbar_train):\n",
    "        imgs, targets = imgs.to(DEVICE, non_blocking=True), targets.to(DEVICE, non_blocking=True)\n",
    "        \n",
    "        with autocast_context():\n",
    "            outputs = model(imgs, target=targets, teach_ratio=teach_ratio)\n",
    "            flat_outputs = outputs.reshape(-1, NUM_CLASSES)\n",
    "            flat_targets = targets[:, 1:].reshape(-1)\n",
    "            loss = loss_fn(flat_outputs, flat_targets)\n",
    "            loss = loss / ACCUM_STEPS\n",
    "            \n",
    "        scaler.scale(loss).backward()\n",
    "        \n",
    "        if (batch_idx + 1) % ACCUM_STEPS == 0 or (batch_idx + 1) == len(train_dataloader):\n",
    "            torch.nn.utils.clip_grad_norm_(filter(lambda p: p.requires_grad, model.parameters()), max_norm=1.0)\n",
    "            scaler.step(optimizer)\n",
    "            scaler.update()\n",
    "            optimizer.zero_grad()\n",
    "            if scheduler_type == \"OneCycleLR\":\n",
    "                scheduler.step()\n",
    "\n",
    "        train_loss += loss.item() * ACCUM_STEPS\n",
    "        with torch.no_grad():\n",
    "            preds = outputs.argmax(-1)\n",
    "            true_chars = targets[:, 1:]\n",
    "            for i in range(imgs.size(0)):\n",
    "                pred_seq_list_train = preds[i].tolist()\n",
    "                if EOS_TOKEN in pred_seq_list_train:\n",
    "                    pred_seq_list_train = pred_seq_list_train[:pred_seq_list_train.index(EOS_TOKEN)]\n",
    "                \n",
    "                true_seq_list_train = true_chars[i].tolist()\n",
    "                true_content_train = [x for x in true_seq_list_train if x not in [EOS_TOKEN, PAD_TOKEN]]\n",
    "                len_true_content_train = len(true_content_train)\n",
    "                \n",
    "                cmp_len = min(len(pred_seq_list_train), len_true_content_train)\n",
    "                if cmp_len > 0:\n",
    "                    train_correct += (torch.tensor(pred_seq_list_train[:cmp_len]) == torch.tensor(true_content_train[:cmp_len])).sum().item()\n",
    "                \n",
    "                train_total_chars += len_true_content_train\n",
    "\n",
    "            if batch_idx == 0 and epoch % 1 == 0 and imgs.size(0) > 0:\n",
    "                print(\"\\n--- Training Batch 0 Examples (Content Only) ---\")\n",
    "                for i in range(min(5, imgs.size(0))):\n",
    "                    pred_batch_i_list = preds[i].tolist()\n",
    "                    pred_example = index_to_char(pred_batch_i_list)\n",
    "                    true_batch_i_list = true_chars[i].tolist()\n",
    "                    true_example = index_to_char(true_batch_i_list)\n",
    "                    print(f\"  Pred: '{pred_example}'\")\n",
    "                    print(f\"  True: '{true_example}'\")\n",
    "                print(\"-------------------------------\")\n",
    "        \n",
    "        pbar_train.set_postfix(loss=loss.item() * ACCUM_STEPS)\n",
    "\n",
    "    avg_train_loss = train_loss / len(train_dataloader) if len(train_dataloader) > 0 else 0\n",
    "    avg_train_acc = train_correct / train_total_chars if train_total_chars > 0 else 0\n",
    "    train_loss_values.append(avg_train_loss)\n",
    "    train_acc_values.append(avg_train_acc)\n",
    "\n",
    "    # --- Validation Loop ---\n",
    "    model.eval()\n",
    "    val_loss, val_correct, val_total_chars, val_correct_constrained, val_total_sequences_constrained = 0, 0, 0, 0, 0\n",
    "    pbar_val = tqdm(val_dataloader, desc=f\"Epoch {epoch+1}/{NUM_EPOCHS} [VAL]\")\n",
    "    with torch.no_grad():\n",
    "        for imgs, targets in pbar_val:\n",
    "            imgs, targets = imgs.to(DEVICE, non_blocking=True), targets.to(DEVICE, non_blocking=True)\n",
    "            with autocast_context():\n",
    "                outputs = model(imgs, target=None, teach_ratio=0.0)\n",
    "                out_seq_len_val = outputs.size(1)\n",
    "                tgt_content_len_val = targets.size(1) - 1\n",
    "                if out_seq_len_val > tgt_content_len_val:\n",
    "                    outputs_for_loss_val = outputs[:, :tgt_content_len_val, :]\n",
    "                elif out_seq_len_val < tgt_content_len_val:\n",
    "                    padding_val_val = torch.zeros(outputs.size(0), tgt_content_len_val - out_seq_len_val, NUM_CLASSES, device=DEVICE)\n",
    "                    padding_val_val[:,:,PAD_TOKEN] = 1\n",
    "                    outputs_for_loss_val = torch.cat([outputs, padding_val_val], dim=1)\n",
    "                else:\n",
    "                    outputs_for_loss_val = outputs\n",
    "                flat_outputs_val = outputs_for_loss_val.reshape(-1, NUM_CLASSES)\n",
    "                flat_targets_val = targets[:, 1:].reshape(-1)\n",
    "                loss = loss_fn(flat_outputs_val, flat_targets_val)\n",
    "                \n",
    "            val_loss += loss.item()\n",
    "            preds_val = outputs_for_loss_val.argmax(-1)\n",
    "            true_chars_val = targets[:, 1:]\n",
    "            for i in range(imgs.size(0)):\n",
    "                pred_seq_val_list = preds_val[i].tolist()\n",
    "                if EOS_TOKEN in pred_seq_val_list:\n",
    "                    pred_seq_val_list = pred_seq_val_list[:pred_seq_val_list.index(EOS_TOKEN)]\n",
    "                \n",
    "                true_seq_val_list = true_chars_val[i].tolist()\n",
    "                true_content_val = [x for x in true_seq_val_list if x not in [EOS_TOKEN, PAD_TOKEN]]\n",
    "                len_true_content_val = len(true_content_val)\n",
    "\n",
    "                cmp_len_val = min(len(pred_seq_val_list), len_true_content_val)\n",
    "                if cmp_len_val > 0:\n",
    "                    val_correct += (torch.tensor(pred_seq_val_list[:cmp_len_val]) == torch.tensor(true_content_val[:cmp_len_val])).sum().item()\n",
    "                val_total_chars += len_true_content_val\n",
    "\n",
    "                if len_true_content_val > 0:\n",
    "                    with autocast_context():\n",
    "                        outputs_constrained_sample = model(imgs[i:i+1], target=None, teach_ratio=0.0, forced_output_length=len_true_content_val)\n",
    "                    preds_constrained_sample = outputs_constrained_sample.argmax(-1).squeeze(0).tolist()\n",
    "                    final_preds_constrained = []\n",
    "                    for tk_id in preds_constrained_sample:\n",
    "                        if tk_id == EOS_TOKEN:\n",
    "                            break\n",
    "                        final_preds_constrained.append(tk_id)\n",
    "                    if final_preds_constrained == true_content_val:\n",
    "                        val_correct_constrained += 1\n",
    "                val_total_sequences_constrained += 1\n",
    "            \n",
    "            pbar_val.set_postfix(loss=loss.item())\n",
    "\n",
    "    avg_val_loss = val_loss / len(val_dataloader) if len(val_dataloader) > 0 else 0\n",
    "    avg_val_acc = val_correct / val_total_chars if val_total_chars > 0 else 0\n",
    "    avg_val_acc_constrained = val_correct_constrained / val_total_sequences_constrained if val_total_sequences_constrained > 0 else 0\n",
    "    val_loss_values.append(avg_val_loss)\n",
    "    val_acc_values.append(avg_val_acc)\n",
    "    val_acc_constrained_values.append(avg_val_acc_constrained)\n",
    "    \n",
    "    # Chuyển sang ReduceLROnPlateau nếu val_acc chững lại\n",
    "    counter = early_stopper(avg_val_acc)\n",
    "    if counter >= 15 and scheduler_type == \"OneCycleLR\":\n",
    "        print(f\"Val Acc stalled for {PATIENCE_EARLY_STOP} epochs. Switching to ReduceLROnPlateau.\")\n",
    "        scheduler = torch.optim.lr_scheduler.ReduceLROnPlateau(optimizer, mode='max', factor=0.5, patience=2, verbose=True)\n",
    "        scheduler_type = \"ReduceLROnPlateau\"\n",
    "    \n",
    "    # Cập nhật scheduler\n",
    "    if scheduler_type == \"ReduceLROnPlateau\":\n",
    "        scheduler.step(avg_val_acc)\n",
    "\n",
    "    if early_stopper.early_stop:\n",
    "        print(f\"--> Early stopping at epoch {epoch+1}\")\n",
    "        break\n",
    "    \n",
    "    print(f\"\\nEpoch {epoch+1}/{NUM_EPOCHS} | LR: {optimizer.param_groups[0]['lr']:.2e} | Teach: {teach_ratio:.2f} | Scheduler: {scheduler_type}\")\n",
    "    print(f\"  Train Loss: {avg_train_loss:.4f} | Train Char Acc: {avg_train_acc:.4f}\")\n",
    "    print(f\"  Val Loss: {avg_val_loss:.4f}   | Val Acc (CRR): {avg_val_acc:.4f}\")\n",
    "    print(f\"  Val Exact Match Acc (E2E RR): {avg_val_acc_constrained:.4f}\")\n",
    "    print(\"-\" * 70)\n",
    "\n",
    "    checkpoint_path = f\"yolo_rvit_model_epoch_{epoch + 1}.pth\"\n",
    "\n",
    "    if avg_val_acc > best_val_acc:\n",
    "        best_val_acc = avg_val_acc\n",
    "        print(f\"*** New best validation accuracy: {best_val_acc:.4f}. Saving best_model.pth ***\")\n",
    "        torch.save({\n",
    "            'epoch': epoch,\n",
    "            'model_state_dict': model.state_dict(),\n",
    "            'optimizer_state_dict': optimizer.state_dict(),\n",
    "            'scheduler_state_dict': scheduler.state_dict(),\n",
    "            'val_loss': avg_val_loss,\n",
    "            'val_acc': avg_val_acc,\n",
    "            'val_acc_constrained': avg_val_acc_constrained,\n",
    "        }, \"best_yolo_rvit_model.pth\")\n",
    "\n",
    "final_epoch_val = epoch if 'epoch' in locals() and epoch is not None else NUM_EPOCHS - 1\n",
    "torch.save({\n",
    "    'epoch': final_epoch_val,\n",
    "    'model_state_dict': model.state_dict(),\n",
    "    'optimizer_state_dict': optimizer.state_dict(),\n",
    "    'scheduler_state_dict': scheduler.state_dict(),\n",
    "    'train_loss_history': train_loss_values,\n",
    "    'val_loss_history': val_loss_values,\n",
    "    'train_acc_history': train_acc_values,\n",
    "    'val_acc_history': val_acc_values,\n",
    "    'val_acc_constrained_history': val_acc_constrained_values,\n",
    "}, \"final_yolo_rvit_model.pth\")\n",
    "\n",
    "print(\"\\nTraining completed!\")\n",
    "if val_acc_values:\n",
    "    print(f\"Final val accuracy (Greedy Character Level): {val_acc_values[-1]:.4f}\")\n",
    "if val_acc_constrained_values:\n",
    "    print(f\"Final val accuracy (Constrained Length Exact Match): {val_acc_constrained_values[-1]:.4f}\")\n",
    "\n",
    "# Plotting\n",
    "plt.figure(figsize=(18, 12))\n",
    "plt.subplot(2, 2, 1)\n",
    "plt.plot(epoch_count_list, train_loss_values, label='Train Loss', marker='o', linestyle='-')\n",
    "plt.plot(epoch_count_list, val_loss_values, label='Validation Loss', marker='s', linestyle='--')\n",
    "plt.title('Loss Curves')\n",
    "plt.xlabel('Epochs')\n",
    "plt.ylabel('Loss')\n",
    "plt.legend()\n",
    "plt.grid(True)\n",
    "\n",
    "plt.subplot(2, 2, 2)\n",
    "plt.plot(epoch_count_list, train_acc_values, label='Train Char Accuracy', marker='o', linestyle='-')\n",
    "plt.plot(epoch_count_list, val_acc_values, label='Validation Char Accuracy (Greedy)', marker='s', linestyle='--')\n",
    "plt.title('Character Accuracy')\n",
    "plt.xlabel('Epochs')\n",
    "plt.ylabel('Character Accuracy')\n",
    "plt.legend()\n",
    "plt.grid(True)\n",
    "\n",
    "plt.tight_layout()\n",
    "plt.savefig(\"performance_plots.png\")\n",
    "plt.show()\n",
    "print(\"Saved plots to performance_plots.png\")"
   ]
  }
 ],
 "metadata": {
  "kaggle": {
   "accelerator": "nvidiaTeslaT4",
   "dataSources": [
    {
     "datasetId": 4072694,
     "sourceId": 7073289,
     "sourceType": "datasetVersion"
    },
    {
     "datasetId": 7283240,
     "sourceId": 11903981,
     "sourceType": "datasetVersion"
    },
    {
     "datasetId": 7972570,
     "sourceId": 12619192,
     "sourceType": "datasetVersion"
    },
    {
     "datasetId": 7973485,
     "sourceId": 12855594,
     "sourceType": "datasetVersion"
    },
    {
     "datasetId": 7973472,
     "sourceId": 12855605,
     "sourceType": "datasetVersion"
    },
    {
     "datasetId": 7973494,
     "sourceId": 12856063,
     "sourceType": "datasetVersion"
    },
    {
     "modelId": 357248,
     "modelInstanceId": 336244,
     "sourceId": 411841,
     "sourceType": "modelInstanceVersion"
    },
    {
     "modelId": 357250,
     "modelInstanceId": 336246,
     "sourceId": 411843,
     "sourceType": "modelInstanceVersion"
    },
    {
     "modelId": 357253,
     "modelInstanceId": 336249,
     "sourceId": 411846,
     "sourceType": "modelInstanceVersion"
    },
    {
     "modelId": 372818,
     "modelInstanceId": 351568,
     "sourceId": 431310,
     "sourceType": "modelInstanceVersion"
    },
    {
     "modelId": 411842,
     "modelInstanceId": 393237,
     "sourceId": 495336,
     "sourceType": "modelInstanceVersion"
    },
    {
     "modelId": 414205,
     "modelInstanceId": 395656,
     "sourceId": 497961,
     "sourceType": "modelInstanceVersion"
    },
    {
     "modelId": 414935,
     "modelInstanceId": 396442,
     "sourceId": 499048,
     "sourceType": "modelInstanceVersion"
    },
    {
     "modelId": 414985,
     "modelInstanceId": 396502,
     "sourceId": 499146,
     "sourceType": "modelInstanceVersion"
    },
    {
     "modelId": 415717,
     "modelInstanceId": 397346,
     "sourceId": 500435,
     "sourceType": "modelInstanceVersion"
    },
    {
     "modelId": 415739,
     "modelInstanceId": 397374,
     "sourceId": 500494,
     "sourceType": "modelInstanceVersion"
    },
    {
     "modelId": 418381,
     "modelInstanceId": 400106,
     "sourceId": 503671,
     "sourceType": "modelInstanceVersion"
    },
    {
     "modelId": 418788,
     "modelInstanceId": 400566,
     "sourceId": 504301,
     "sourceType": "modelInstanceVersion"
    },
    {
     "modelId": 419064,
     "modelInstanceId": 400902,
     "sourceId": 504840,
     "sourceType": "modelInstanceVersion"
    },
    {
     "modelId": 419512,
     "modelInstanceId": 401440,
     "sourceId": 505494,
     "sourceType": "modelInstanceVersion"
    },
    {
     "modelId": 420644,
     "modelInstanceId": 402706,
     "sourceId": 507463,
     "sourceType": "modelInstanceVersion"
    },
    {
     "modelId": 420986,
     "modelInstanceId": 403051,
     "sourceId": 507881,
     "sourceType": "modelInstanceVersion"
    },
    {
     "modelId": 421528,
     "modelInstanceId": 403598,
     "sourceId": 508842,
     "sourceType": "modelInstanceVersion"
    },
    {
     "modelId": 422091,
     "modelInstanceId": 404176,
     "sourceId": 509670,
     "sourceType": "modelInstanceVersion"
    },
    {
     "modelId": 424619,
     "modelInstanceId": 406717,
     "sourceId": 514746,
     "sourceType": "modelInstanceVersion"
    },
    {
     "modelId": 426666,
     "modelInstanceId": 408804,
     "sourceId": 519196,
     "sourceType": "modelInstanceVersion"
    },
    {
     "modelId": 427524,
     "modelInstanceId": 409664,
     "sourceId": 520757,
     "sourceType": "modelInstanceVersion"
    },
    {
     "modelId": 429640,
     "modelInstanceId": 411844,
     "sourceId": 524801,
     "sourceType": "modelInstanceVersion"
    },
    {
     "modelId": 430106,
     "modelInstanceId": 412330,
     "sourceId": 526205,
     "sourceType": "modelInstanceVersion"
    },
    {
     "modelId": 430439,
     "modelInstanceId": 412677,
     "sourceId": 527056,
     "sourceType": "modelInstanceVersion"
    },
    {
     "modelId": 430512,
     "modelInstanceId": 412755,
     "sourceId": 527176,
     "sourceType": "modelInstanceVersion"
    },
    {
     "modelId": 430546,
     "modelInstanceId": 412790,
     "sourceId": 527255,
     "sourceType": "modelInstanceVersion"
    },
    {
     "modelId": 430574,
     "modelInstanceId": 412817,
     "sourceId": 527302,
     "sourceType": "modelInstanceVersion"
    },
    {
     "modelId": 430608,
     "modelInstanceId": 412853,
     "sourceId": 527367,
     "sourceType": "modelInstanceVersion"
    },
    {
     "modelId": 430784,
     "modelInstanceId": 413046,
     "sourceId": 528011,
     "sourceType": "modelInstanceVersion"
    },
    {
     "modelId": 430913,
     "modelInstanceId": 413167,
     "sourceId": 528150,
     "sourceType": "modelInstanceVersion"
    },
    {
     "modelId": 431017,
     "modelInstanceId": 413277,
     "sourceId": 528278,
     "sourceType": "modelInstanceVersion"
    },
    {
     "modelId": 431045,
     "modelInstanceId": 413306,
     "sourceId": 528313,
     "sourceType": "modelInstanceVersion"
    },
    {
     "modelId": 432832,
     "modelInstanceId": 415079,
     "sourceId": 530601,
     "sourceType": "modelInstanceVersion"
    },
    {
     "modelId": 434278,
     "modelInstanceId": 416551,
     "sourceId": 535552,
     "sourceType": "modelInstanceVersion"
    },
    {
     "modelId": 436111,
     "modelInstanceId": 418453,
     "sourceId": 544328,
     "sourceType": "modelInstanceVersion"
    },
    {
     "isSourceIdPinned": true,
     "modelId": 436119,
     "modelInstanceId": 418460,
     "sourceId": 544357,
     "sourceType": "modelInstanceVersion"
    }
   ],
   "dockerImageVersionId": 31012,
   "isGpuEnabled": true,
   "isInternetEnabled": true,
   "language": "python",
   "sourceType": "notebook"
  },
  "kernelspec": {
   "display_name": "Python 3",
   "language": "python",
   "name": "python3"
  },
  "language_info": {
   "codemirror_mode": {
    "name": "ipython",
    "version": 3
   },
   "file_extension": ".py",
   "mimetype": "text/x-python",
   "name": "python",
   "nbconvert_exporter": "python",
   "pygments_lexer": "ipython3",
   "version": "3.11.11"
  },
  "papermill": {
   "default_parameters": {},
   "duration": 9587.98436,
   "end_time": "2025-08-26T12:35:30.458885",
   "environment_variables": {},
   "exception": null,
   "input_path": "__notebook__.ipynb",
   "output_path": "__notebook__.ipynb",
   "parameters": {},
   "start_time": "2025-08-26T09:55:42.474525",
   "version": "2.6.0"
  }
 },
 "nbformat": 4,
 "nbformat_minor": 5
}
