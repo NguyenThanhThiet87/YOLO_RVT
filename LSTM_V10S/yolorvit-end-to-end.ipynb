{
 "cells": [
  {
   "cell_type": "code",
   "execution_count": 1,
   "id": "03907d32",
   "metadata": {
    "_cell_guid": "1e03a5ab-62e6-4517-939d-ed7e0f558f66",
    "_uuid": "61a5e676-9f66-4731-8312-16c844126c97",
    "collapsed": false,
    "execution": {
     "iopub.execute_input": "2025-06-08T04:56:39.722125Z",
     "iopub.status.busy": "2025-06-08T04:56:39.721882Z",
     "iopub.status.idle": "2025-06-08T04:58:01.777566Z",
     "shell.execute_reply": "2025-06-08T04:58:01.776755Z"
    },
    "jupyter": {
     "outputs_hidden": false
    },
    "papermill": {
     "duration": 82.061397,
     "end_time": "2025-06-08T04:58:01.779095",
     "exception": false,
     "start_time": "2025-06-08T04:56:39.717698",
     "status": "completed"
    },
    "tags": []
   },
   "outputs": [
    {
     "name": "stdout",
     "output_type": "stream",
     "text": [
      "Collecting ultralytics\r\n",
      "  Downloading ultralytics-8.3.152-py3-none-any.whl.metadata (37 kB)\r\n",
      "Requirement already satisfied: numpy>=1.23.0 in /usr/local/lib/python3.11/dist-packages (from ultralytics) (1.26.4)\r\n",
      "Requirement already satisfied: matplotlib>=3.3.0 in /usr/local/lib/python3.11/dist-packages (from ultralytics) (3.7.5)\r\n",
      "Requirement already satisfied: opencv-python>=4.6.0 in /usr/local/lib/python3.11/dist-packages (from ultralytics) (4.11.0.86)\r\n",
      "Requirement already satisfied: pillow>=7.1.2 in /usr/local/lib/python3.11/dist-packages (from ultralytics) (11.1.0)\r\n",
      "Requirement already satisfied: pyyaml>=5.3.1 in /usr/local/lib/python3.11/dist-packages (from ultralytics) (6.0.2)\r\n",
      "Requirement already satisfied: requests>=2.23.0 in /usr/local/lib/python3.11/dist-packages (from ultralytics) (2.32.3)\r\n",
      "Requirement already satisfied: scipy>=1.4.1 in /usr/local/lib/python3.11/dist-packages (from ultralytics) (1.15.2)\r\n",
      "Requirement already satisfied: torch>=1.8.0 in /usr/local/lib/python3.11/dist-packages (from ultralytics) (2.5.1+cu124)\r\n",
      "Requirement already satisfied: torchvision>=0.9.0 in /usr/local/lib/python3.11/dist-packages (from ultralytics) (0.20.1+cu124)\r\n",
      "Requirement already satisfied: tqdm>=4.64.0 in /usr/local/lib/python3.11/dist-packages (from ultralytics) (4.67.1)\r\n",
      "Requirement already satisfied: psutil in /usr/local/lib/python3.11/dist-packages (from ultralytics) (7.0.0)\r\n",
      "Requirement already satisfied: py-cpuinfo in /usr/local/lib/python3.11/dist-packages (from ultralytics) (9.0.0)\r\n",
      "Requirement already satisfied: pandas>=1.1.4 in /usr/local/lib/python3.11/dist-packages (from ultralytics) (2.2.3)\r\n",
      "Collecting ultralytics-thop>=2.0.0 (from ultralytics)\r\n",
      "  Downloading ultralytics_thop-2.0.14-py3-none-any.whl.metadata (9.4 kB)\r\n",
      "Requirement already satisfied: contourpy>=1.0.1 in /usr/local/lib/python3.11/dist-packages (from matplotlib>=3.3.0->ultralytics) (1.3.1)\r\n",
      "Requirement already satisfied: cycler>=0.10 in /usr/local/lib/python3.11/dist-packages (from matplotlib>=3.3.0->ultralytics) (0.12.1)\r\n",
      "Requirement already satisfied: fonttools>=4.22.0 in /usr/local/lib/python3.11/dist-packages (from matplotlib>=3.3.0->ultralytics) (4.56.0)\r\n",
      "Requirement already satisfied: kiwisolver>=1.0.1 in /usr/local/lib/python3.11/dist-packages (from matplotlib>=3.3.0->ultralytics) (1.4.8)\r\n",
      "Requirement already satisfied: packaging>=20.0 in /usr/local/lib/python3.11/dist-packages (from matplotlib>=3.3.0->ultralytics) (24.2)\r\n",
      "Requirement already satisfied: pyparsing>=2.3.1 in /usr/local/lib/python3.11/dist-packages (from matplotlib>=3.3.0->ultralytics) (3.2.1)\r\n",
      "Requirement already satisfied: python-dateutil>=2.7 in /usr/local/lib/python3.11/dist-packages (from matplotlib>=3.3.0->ultralytics) (2.9.0.post0)\r\n",
      "Requirement already satisfied: mkl_fft in /usr/local/lib/python3.11/dist-packages (from numpy>=1.23.0->ultralytics) (1.3.8)\r\n",
      "Requirement already satisfied: mkl_random in /usr/local/lib/python3.11/dist-packages (from numpy>=1.23.0->ultralytics) (1.2.4)\r\n",
      "Requirement already satisfied: mkl_umath in /usr/local/lib/python3.11/dist-packages (from numpy>=1.23.0->ultralytics) (0.1.1)\r\n",
      "Requirement already satisfied: mkl in /usr/local/lib/python3.11/dist-packages (from numpy>=1.23.0->ultralytics) (2025.1.0)\r\n",
      "Requirement already satisfied: tbb4py in /usr/local/lib/python3.11/dist-packages (from numpy>=1.23.0->ultralytics) (2022.1.0)\r\n",
      "Requirement already satisfied: mkl-service in /usr/local/lib/python3.11/dist-packages (from numpy>=1.23.0->ultralytics) (2.4.1)\r\n",
      "Requirement already satisfied: pytz>=2020.1 in /usr/local/lib/python3.11/dist-packages (from pandas>=1.1.4->ultralytics) (2025.2)\r\n",
      "Requirement already satisfied: tzdata>=2022.7 in /usr/local/lib/python3.11/dist-packages (from pandas>=1.1.4->ultralytics) (2025.2)\r\n",
      "Requirement already satisfied: charset-normalizer<4,>=2 in /usr/local/lib/python3.11/dist-packages (from requests>=2.23.0->ultralytics) (3.4.1)\r\n",
      "Requirement already satisfied: idna<4,>=2.5 in /usr/local/lib/python3.11/dist-packages (from requests>=2.23.0->ultralytics) (3.10)\r\n",
      "Requirement already satisfied: urllib3<3,>=1.21.1 in /usr/local/lib/python3.11/dist-packages (from requests>=2.23.0->ultralytics) (2.3.0)\r\n",
      "Requirement already satisfied: certifi>=2017.4.17 in /usr/local/lib/python3.11/dist-packages (from requests>=2.23.0->ultralytics) (2025.1.31)\r\n",
      "Requirement already satisfied: filelock in /usr/local/lib/python3.11/dist-packages (from torch>=1.8.0->ultralytics) (3.18.0)\r\n",
      "Requirement already satisfied: typing-extensions>=4.8.0 in /usr/local/lib/python3.11/dist-packages (from torch>=1.8.0->ultralytics) (4.13.1)\r\n",
      "Requirement already satisfied: networkx in /usr/local/lib/python3.11/dist-packages (from torch>=1.8.0->ultralytics) (3.4.2)\r\n",
      "Requirement already satisfied: jinja2 in /usr/local/lib/python3.11/dist-packages (from torch>=1.8.0->ultralytics) (3.1.6)\r\n",
      "Requirement already satisfied: fsspec in /usr/local/lib/python3.11/dist-packages (from torch>=1.8.0->ultralytics) (2025.3.2)\r\n",
      "Requirement already satisfied: nvidia-cuda-nvrtc-cu12==12.4.127 in /usr/local/lib/python3.11/dist-packages (from torch>=1.8.0->ultralytics) (12.4.127)\r\n",
      "Requirement already satisfied: nvidia-cuda-runtime-cu12==12.4.127 in /usr/local/lib/python3.11/dist-packages (from torch>=1.8.0->ultralytics) (12.4.127)\r\n",
      "Requirement already satisfied: nvidia-cuda-cupti-cu12==12.4.127 in /usr/local/lib/python3.11/dist-packages (from torch>=1.8.0->ultralytics) (12.4.127)\r\n",
      "Collecting nvidia-cudnn-cu12==9.1.0.70 (from torch>=1.8.0->ultralytics)\r\n",
      "  Downloading nvidia_cudnn_cu12-9.1.0.70-py3-none-manylinux2014_x86_64.whl.metadata (1.6 kB)\r\n",
      "Collecting nvidia-cublas-cu12==12.4.5.8 (from torch>=1.8.0->ultralytics)\r\n",
      "  Downloading nvidia_cublas_cu12-12.4.5.8-py3-none-manylinux2014_x86_64.whl.metadata (1.5 kB)\r\n",
      "Collecting nvidia-cufft-cu12==11.2.1.3 (from torch>=1.8.0->ultralytics)\r\n",
      "  Downloading nvidia_cufft_cu12-11.2.1.3-py3-none-manylinux2014_x86_64.whl.metadata (1.5 kB)\r\n",
      "Collecting nvidia-curand-cu12==10.3.5.147 (from torch>=1.8.0->ultralytics)\r\n",
      "  Downloading nvidia_curand_cu12-10.3.5.147-py3-none-manylinux2014_x86_64.whl.metadata (1.5 kB)\r\n",
      "Collecting nvidia-cusolver-cu12==11.6.1.9 (from torch>=1.8.0->ultralytics)\r\n",
      "  Downloading nvidia_cusolver_cu12-11.6.1.9-py3-none-manylinux2014_x86_64.whl.metadata (1.6 kB)\r\n",
      "Collecting nvidia-cusparse-cu12==12.3.1.170 (from torch>=1.8.0->ultralytics)\r\n",
      "  Downloading nvidia_cusparse_cu12-12.3.1.170-py3-none-manylinux2014_x86_64.whl.metadata (1.6 kB)\r\n",
      "Requirement already satisfied: nvidia-nccl-cu12==2.21.5 in /usr/local/lib/python3.11/dist-packages (from torch>=1.8.0->ultralytics) (2.21.5)\r\n",
      "Requirement already satisfied: nvidia-nvtx-cu12==12.4.127 in /usr/local/lib/python3.11/dist-packages (from torch>=1.8.0->ultralytics) (12.4.127)\r\n",
      "Collecting nvidia-nvjitlink-cu12==12.4.127 (from torch>=1.8.0->ultralytics)\r\n",
      "  Downloading nvidia_nvjitlink_cu12-12.4.127-py3-none-manylinux2014_x86_64.whl.metadata (1.5 kB)\r\n",
      "Requirement already satisfied: triton==3.1.0 in /usr/local/lib/python3.11/dist-packages (from torch>=1.8.0->ultralytics) (3.1.0)\r\n",
      "Requirement already satisfied: sympy==1.13.1 in /usr/local/lib/python3.11/dist-packages (from torch>=1.8.0->ultralytics) (1.13.1)\r\n",
      "Requirement already satisfied: mpmath<1.4,>=1.1.0 in /usr/local/lib/python3.11/dist-packages (from sympy==1.13.1->torch>=1.8.0->ultralytics) (1.3.0)\r\n",
      "Requirement already satisfied: six>=1.5 in /usr/local/lib/python3.11/dist-packages (from python-dateutil>=2.7->matplotlib>=3.3.0->ultralytics) (1.17.0)\r\n",
      "Requirement already satisfied: MarkupSafe>=2.0 in /usr/local/lib/python3.11/dist-packages (from jinja2->torch>=1.8.0->ultralytics) (3.0.2)\r\n",
      "Requirement already satisfied: intel-openmp<2026,>=2024 in /usr/local/lib/python3.11/dist-packages (from mkl->numpy>=1.23.0->ultralytics) (2024.2.0)\r\n",
      "Requirement already satisfied: tbb==2022.* in /usr/local/lib/python3.11/dist-packages (from mkl->numpy>=1.23.0->ultralytics) (2022.1.0)\r\n",
      "Requirement already satisfied: tcmlib==1.* in /usr/local/lib/python3.11/dist-packages (from tbb==2022.*->mkl->numpy>=1.23.0->ultralytics) (1.2.0)\r\n",
      "Requirement already satisfied: intel-cmplr-lib-rt in /usr/local/lib/python3.11/dist-packages (from mkl_umath->numpy>=1.23.0->ultralytics) (2024.2.0)\r\n",
      "Requirement already satisfied: intel-cmplr-lib-ur==2024.2.0 in /usr/local/lib/python3.11/dist-packages (from intel-openmp<2026,>=2024->mkl->numpy>=1.23.0->ultralytics) (2024.2.0)\r\n",
      "Downloading ultralytics-8.3.152-py3-none-any.whl (1.0 MB)\r\n",
      "\u001b[2K   \u001b[90m━━━━━━━━━━━━━━━━━━━━━━━━━━━━━━━━━━━━━━━━\u001b[0m \u001b[32m1.0/1.0 MB\u001b[0m \u001b[31m20.6 MB/s\u001b[0m eta \u001b[36m0:00:00\u001b[0m\r\n",
      "\u001b[?25hDownloading nvidia_cublas_cu12-12.4.5.8-py3-none-manylinux2014_x86_64.whl (363.4 MB)\r\n",
      "\u001b[2K   \u001b[90m━━━━━━━━━━━━━━━━━━━━━━━━━━━━━━━━━━━━━━━━\u001b[0m \u001b[32m363.4/363.4 MB\u001b[0m \u001b[31m4.6 MB/s\u001b[0m eta \u001b[36m0:00:00\u001b[0m\r\n",
      "\u001b[?25hDownloading nvidia_cudnn_cu12-9.1.0.70-py3-none-manylinux2014_x86_64.whl (664.8 MB)\r\n",
      "\u001b[2K   \u001b[90m━━━━━━━━━━━━━━━━━━━━━━━━━━━━━━━━━━━━━━━━\u001b[0m \u001b[32m664.8/664.8 MB\u001b[0m \u001b[31m2.3 MB/s\u001b[0m eta \u001b[36m0:00:00\u001b[0m\r\n",
      "\u001b[?25hDownloading nvidia_cufft_cu12-11.2.1.3-py3-none-manylinux2014_x86_64.whl (211.5 MB)\r\n",
      "\u001b[2K   \u001b[90m━━━━━━━━━━━━━━━━━━━━━━━━━━━━━━━━━━━━━━━━\u001b[0m \u001b[32m211.5/211.5 MB\u001b[0m \u001b[31m3.0 MB/s\u001b[0m eta \u001b[36m0:00:00\u001b[0m\r\n",
      "\u001b[?25hDownloading nvidia_curand_cu12-10.3.5.147-py3-none-manylinux2014_x86_64.whl (56.3 MB)\r\n",
      "\u001b[2K   \u001b[90m━━━━━━━━━━━━━━━━━━━━━━━━━━━━━━━━━━━━━━━━\u001b[0m \u001b[32m56.3/56.3 MB\u001b[0m \u001b[31m4.3 MB/s\u001b[0m eta \u001b[36m0:00:00\u001b[0m\r\n",
      "\u001b[?25hDownloading nvidia_cusolver_cu12-11.6.1.9-py3-none-manylinux2014_x86_64.whl (127.9 MB)\r\n",
      "\u001b[2K   \u001b[90m━━━━━━━━━━━━━━━━━━━━━━━━━━━━━━━━━━━━━━━━\u001b[0m \u001b[32m127.9/127.9 MB\u001b[0m \u001b[31m13.3 MB/s\u001b[0m eta \u001b[36m0:00:00\u001b[0m\r\n",
      "\u001b[?25hDownloading nvidia_cusparse_cu12-12.3.1.170-py3-none-manylinux2014_x86_64.whl (207.5 MB)\r\n",
      "\u001b[2K   \u001b[90m━━━━━━━━━━━━━━━━━━━━━━━━━━━━━━━━━━━━━━━━\u001b[0m \u001b[32m207.5/207.5 MB\u001b[0m \u001b[31m8.2 MB/s\u001b[0m eta \u001b[36m0:00:00\u001b[0m\r\n",
      "\u001b[?25hDownloading nvidia_nvjitlink_cu12-12.4.127-py3-none-manylinux2014_x86_64.whl (21.1 MB)\r\n",
      "\u001b[2K   \u001b[90m━━━━━━━━━━━━━━━━━━━━━━━━━━━━━━━━━━━━━━━━\u001b[0m \u001b[32m21.1/21.1 MB\u001b[0m \u001b[31m68.8 MB/s\u001b[0m eta \u001b[36m0:00:00\u001b[0m\r\n",
      "\u001b[?25hDownloading ultralytics_thop-2.0.14-py3-none-any.whl (26 kB)\r\n",
      "Installing collected packages: nvidia-nvjitlink-cu12, nvidia-curand-cu12, nvidia-cufft-cu12, nvidia-cublas-cu12, nvidia-cusparse-cu12, nvidia-cudnn-cu12, nvidia-cusolver-cu12, ultralytics-thop, ultralytics\r\n",
      "  Attempting uninstall: nvidia-nvjitlink-cu12\r\n",
      "    Found existing installation: nvidia-nvjitlink-cu12 12.8.93\r\n",
      "    Uninstalling nvidia-nvjitlink-cu12-12.8.93:\r\n",
      "      Successfully uninstalled nvidia-nvjitlink-cu12-12.8.93\r\n",
      "  Attempting uninstall: nvidia-curand-cu12\r\n",
      "    Found existing installation: nvidia-curand-cu12 10.3.9.90\r\n",
      "    Uninstalling nvidia-curand-cu12-10.3.9.90:\r\n",
      "      Successfully uninstalled nvidia-curand-cu12-10.3.9.90\r\n",
      "  Attempting uninstall: nvidia-cufft-cu12\r\n",
      "    Found existing installation: nvidia-cufft-cu12 11.3.3.83\r\n",
      "    Uninstalling nvidia-cufft-cu12-11.3.3.83:\r\n",
      "      Successfully uninstalled nvidia-cufft-cu12-11.3.3.83\r\n",
      "  Attempting uninstall: nvidia-cublas-cu12\r\n",
      "    Found existing installation: nvidia-cublas-cu12 12.8.4.1\r\n",
      "    Uninstalling nvidia-cublas-cu12-12.8.4.1:\r\n",
      "      Successfully uninstalled nvidia-cublas-cu12-12.8.4.1\r\n",
      "  Attempting uninstall: nvidia-cusparse-cu12\r\n",
      "    Found existing installation: nvidia-cusparse-cu12 12.5.8.93\r\n",
      "    Uninstalling nvidia-cusparse-cu12-12.5.8.93:\r\n",
      "      Successfully uninstalled nvidia-cusparse-cu12-12.5.8.93\r\n",
      "  Attempting uninstall: nvidia-cudnn-cu12\r\n",
      "    Found existing installation: nvidia-cudnn-cu12 9.3.0.75\r\n",
      "    Uninstalling nvidia-cudnn-cu12-9.3.0.75:\r\n",
      "      Successfully uninstalled nvidia-cudnn-cu12-9.3.0.75\r\n",
      "  Attempting uninstall: nvidia-cusolver-cu12\r\n",
      "    Found existing installation: nvidia-cusolver-cu12 11.7.3.90\r\n",
      "    Uninstalling nvidia-cusolver-cu12-11.7.3.90:\r\n",
      "      Successfully uninstalled nvidia-cusolver-cu12-11.7.3.90\r\n",
      "\u001b[31mERROR: pip's dependency resolver does not currently take into account all the packages that are installed. This behaviour is the source of the following dependency conflicts.\r\n",
      "pylibcugraph-cu12 24.12.0 requires pylibraft-cu12==24.12.*, but you have pylibraft-cu12 25.2.0 which is incompatible.\r\n",
      "pylibcugraph-cu12 24.12.0 requires rmm-cu12==24.12.*, but you have rmm-cu12 25.2.0 which is incompatible.\u001b[0m\u001b[31m\r\n",
      "\u001b[0mSuccessfully installed nvidia-cublas-cu12-12.4.5.8 nvidia-cudnn-cu12-9.1.0.70 nvidia-cufft-cu12-11.2.1.3 nvidia-curand-cu12-10.3.5.147 nvidia-cusolver-cu12-11.6.1.9 nvidia-cusparse-cu12-12.3.1.170 nvidia-nvjitlink-cu12-12.4.127 ultralytics-8.3.152 ultralytics-thop-2.0.14\r\n",
      "Collecting torchtoolbox\r\n",
      "  Downloading torchtoolbox-0.1.8.2-py3-none-any.whl.metadata (15 kB)\r\n",
      "Requirement already satisfied: numpy in /usr/local/lib/python3.11/dist-packages (from torchtoolbox) (1.26.4)\r\n",
      "Requirement already satisfied: tqdm in /usr/local/lib/python3.11/dist-packages (from torchtoolbox) (4.67.1)\r\n",
      "Requirement already satisfied: pyarrow in /usr/local/lib/python3.11/dist-packages (from torchtoolbox) (19.0.1)\r\n",
      "Requirement already satisfied: six in /usr/local/lib/python3.11/dist-packages (from torchtoolbox) (1.17.0)\r\n",
      "Collecting lmdb (from torchtoolbox)\r\n",
      "  Downloading lmdb-1.6.2-cp311-cp311-manylinux_2_17_x86_64.manylinux2014_x86_64.whl.metadata (1.1 kB)\r\n",
      "Requirement already satisfied: scikit-learn in /usr/local/lib/python3.11/dist-packages (from torchtoolbox) (1.2.2)\r\n",
      "Requirement already satisfied: scipy in /usr/local/lib/python3.11/dist-packages (from torchtoolbox) (1.15.2)\r\n",
      "Requirement already satisfied: opencv-python in /usr/local/lib/python3.11/dist-packages (from torchtoolbox) (4.11.0.86)\r\n",
      "Requirement already satisfied: pyyaml in /usr/local/lib/python3.11/dist-packages (from torchtoolbox) (6.0.2)\r\n",
      "Requirement already satisfied: tensorboard in /usr/local/lib/python3.11/dist-packages (from torchtoolbox) (2.18.0)\r\n",
      "Requirement already satisfied: prettytable in /usr/local/lib/python3.11/dist-packages (from torchtoolbox) (3.14.0)\r\n",
      "Requirement already satisfied: transformers in /usr/local/lib/python3.11/dist-packages (from torchtoolbox) (4.51.1)\r\n",
      "Requirement already satisfied: mkl_fft in /usr/local/lib/python3.11/dist-packages (from numpy->torchtoolbox) (1.3.8)\r\n",
      "Requirement already satisfied: mkl_random in /usr/local/lib/python3.11/dist-packages (from numpy->torchtoolbox) (1.2.4)\r\n",
      "Requirement already satisfied: mkl_umath in /usr/local/lib/python3.11/dist-packages (from numpy->torchtoolbox) (0.1.1)\r\n",
      "Requirement already satisfied: mkl in /usr/local/lib/python3.11/dist-packages (from numpy->torchtoolbox) (2025.1.0)\r\n",
      "Requirement already satisfied: tbb4py in /usr/local/lib/python3.11/dist-packages (from numpy->torchtoolbox) (2022.1.0)\r\n",
      "Requirement already satisfied: mkl-service in /usr/local/lib/python3.11/dist-packages (from numpy->torchtoolbox) (2.4.1)\r\n",
      "Requirement already satisfied: wcwidth in /usr/local/lib/python3.11/dist-packages (from prettytable->torchtoolbox) (0.2.13)\r\n",
      "Requirement already satisfied: joblib>=1.1.1 in /usr/local/lib/python3.11/dist-packages (from scikit-learn->torchtoolbox) (1.4.2)\r\n",
      "Requirement already satisfied: threadpoolctl>=2.0.0 in /usr/local/lib/python3.11/dist-packages (from scikit-learn->torchtoolbox) (3.6.0)\r\n",
      "Requirement already satisfied: absl-py>=0.4 in /usr/local/lib/python3.11/dist-packages (from tensorboard->torchtoolbox) (1.4.0)\r\n",
      "Requirement already satisfied: grpcio>=1.48.2 in /usr/local/lib/python3.11/dist-packages (from tensorboard->torchtoolbox) (1.70.0)\r\n",
      "Requirement already satisfied: markdown>=2.6.8 in /usr/local/lib/python3.11/dist-packages (from tensorboard->torchtoolbox) (3.7)\r\n",
      "Requirement already satisfied: packaging in /usr/local/lib/python3.11/dist-packages (from tensorboard->torchtoolbox) (24.2)\r\n",
      "Requirement already satisfied: protobuf!=4.24.0,>=3.19.6 in /usr/local/lib/python3.11/dist-packages (from tensorboard->torchtoolbox) (3.20.3)\r\n",
      "Requirement already satisfied: setuptools>=41.0.0 in /usr/local/lib/python3.11/dist-packages (from tensorboard->torchtoolbox) (75.1.0)\r\n",
      "Requirement already satisfied: tensorboard-data-server<0.8.0,>=0.7.0 in /usr/local/lib/python3.11/dist-packages (from tensorboard->torchtoolbox) (0.7.2)\r\n",
      "Requirement already satisfied: werkzeug>=1.0.1 in /usr/local/lib/python3.11/dist-packages (from tensorboard->torchtoolbox) (3.1.3)\r\n",
      "Requirement already satisfied: filelock in /usr/local/lib/python3.11/dist-packages (from transformers->torchtoolbox) (3.18.0)\r\n",
      "Requirement already satisfied: huggingface-hub<1.0,>=0.30.0 in /usr/local/lib/python3.11/dist-packages (from transformers->torchtoolbox) (0.30.2)\r\n",
      "Requirement already satisfied: regex!=2019.12.17 in /usr/local/lib/python3.11/dist-packages (from transformers->torchtoolbox) (2024.11.6)\r\n",
      "Requirement already satisfied: requests in /usr/local/lib/python3.11/dist-packages (from transformers->torchtoolbox) (2.32.3)\r\n",
      "Requirement already satisfied: tokenizers<0.22,>=0.21 in /usr/local/lib/python3.11/dist-packages (from transformers->torchtoolbox) (0.21.0)\r\n",
      "Requirement already satisfied: safetensors>=0.4.3 in /usr/local/lib/python3.11/dist-packages (from transformers->torchtoolbox) (0.5.2)\r\n",
      "Requirement already satisfied: fsspec>=2023.5.0 in /usr/local/lib/python3.11/dist-packages (from huggingface-hub<1.0,>=0.30.0->transformers->torchtoolbox) (2025.3.2)\r\n",
      "Requirement already satisfied: typing-extensions>=3.7.4.3 in /usr/local/lib/python3.11/dist-packages (from huggingface-hub<1.0,>=0.30.0->transformers->torchtoolbox) (4.13.1)\r\n",
      "Requirement already satisfied: MarkupSafe>=2.1.1 in /usr/local/lib/python3.11/dist-packages (from werkzeug>=1.0.1->tensorboard->torchtoolbox) (3.0.2)\r\n",
      "Requirement already satisfied: intel-openmp<2026,>=2024 in /usr/local/lib/python3.11/dist-packages (from mkl->numpy->torchtoolbox) (2024.2.0)\r\n",
      "Requirement already satisfied: tbb==2022.* in /usr/local/lib/python3.11/dist-packages (from mkl->numpy->torchtoolbox) (2022.1.0)\r\n",
      "Requirement already satisfied: tcmlib==1.* in /usr/local/lib/python3.11/dist-packages (from tbb==2022.*->mkl->numpy->torchtoolbox) (1.2.0)\r\n",
      "Requirement already satisfied: intel-cmplr-lib-rt in /usr/local/lib/python3.11/dist-packages (from mkl_umath->numpy->torchtoolbox) (2024.2.0)\r\n",
      "Requirement already satisfied: charset-normalizer<4,>=2 in /usr/local/lib/python3.11/dist-packages (from requests->transformers->torchtoolbox) (3.4.1)\r\n",
      "Requirement already satisfied: idna<4,>=2.5 in /usr/local/lib/python3.11/dist-packages (from requests->transformers->torchtoolbox) (3.10)\r\n",
      "Requirement already satisfied: urllib3<3,>=1.21.1 in /usr/local/lib/python3.11/dist-packages (from requests->transformers->torchtoolbox) (2.3.0)\r\n",
      "Requirement already satisfied: certifi>=2017.4.17 in /usr/local/lib/python3.11/dist-packages (from requests->transformers->torchtoolbox) (2025.1.31)\r\n",
      "Requirement already satisfied: intel-cmplr-lib-ur==2024.2.0 in /usr/local/lib/python3.11/dist-packages (from intel-openmp<2026,>=2024->mkl->numpy->torchtoolbox) (2024.2.0)\r\n",
      "Downloading torchtoolbox-0.1.8.2-py3-none-any.whl (84 kB)\r\n",
      "\u001b[2K   \u001b[90m━━━━━━━━━━━━━━━━━━━━━━━━━━━━━━━━━━━━━━━━\u001b[0m \u001b[32m85.0/85.0 kB\u001b[0m \u001b[31m3.5 MB/s\u001b[0m eta \u001b[36m0:00:00\u001b[0m\r\n",
      "\u001b[?25hDownloading lmdb-1.6.2-cp311-cp311-manylinux_2_17_x86_64.manylinux2014_x86_64.whl (297 kB)\r\n",
      "\u001b[2K   \u001b[90m━━━━━━━━━━━━━━━━━━━━━━━━━━━━━━━━━━━━━━━━\u001b[0m \u001b[32m297.8/297.8 kB\u001b[0m \u001b[31m12.1 MB/s\u001b[0m eta \u001b[36m0:00:00\u001b[0m\r\n",
      "\u001b[?25hInstalling collected packages: lmdb, torchtoolbox\r\n",
      "Successfully installed lmdb-1.6.2 torchtoolbox-0.1.8.2\r\n"
     ]
    }
   ],
   "source": [
    "!pip install ultralytics\n",
    "!pip install torchtoolbox"
   ]
  },
  {
   "cell_type": "code",
   "execution_count": 2,
   "id": "1c1689c4",
   "metadata": {
    "_cell_guid": "8f272705-9c88-4ee8-9c0c-da74382b4fec",
    "_uuid": "49a88463-382d-4d83-8d08-7cb1e03afc9f",
    "collapsed": false,
    "execution": {
     "iopub.execute_input": "2025-06-08T04:58:01.828850Z",
     "iopub.status.busy": "2025-06-08T04:58:01.828567Z",
     "iopub.status.idle": "2025-06-08T16:28:42.881898Z",
     "shell.execute_reply": "2025-06-08T16:28:42.881018Z"
    },
    "jupyter": {
     "outputs_hidden": false
    },
    "papermill": {
     "duration": 41441.081189,
     "end_time": "2025-06-08T16:28:42.884643",
     "exception": false,
     "start_time": "2025-06-08T04:58:01.803454",
     "status": "completed"
    },
    "tags": []
   },
   "outputs": [
    {
     "name": "stdout",
     "output_type": "stream",
     "text": [
      "Creating new Ultralytics Settings v0.0.6 file ✅ \n",
      "View Ultralytics Settings with 'yolo settings' or at '/root/.config/Ultralytics/settings.json'\n",
      "Update Settings with 'yolo settings key=value', i.e. 'yolo settings runs_dir=path/to/dir'. For help see https://docs.ultralytics.com/quickstart/#ultralytics-settings.\n"
     ]
    },
    {
     "name": "stderr",
     "output_type": "stream",
     "text": [
      "/usr/local/lib/python3.11/dist-packages/torch/nn/modules/transformer.py:379: UserWarning: enable_nested_tensor is True, but self.use_nested_tensor is False because encoder_layer.norm_first was True\n",
      "  warnings.warn(\n",
      "Epoch 1/27 [TRAIN] LR: 5.00e-05 Teach: 0.70 Scheduler: OneCycleLR:   0%|          | 1/978 [00:09<2:28:58,  9.15s/it, loss=3.65]"
     ]
    },
    {
     "name": "stdout",
     "output_type": "stream",
     "text": [
      "\n",
      "--- Training Batch 0 Examples (Content Only) ---\n",
      "  Pred: 'YU[UNK_38]5[UNK_38]5[UNK_38]44AU[UNK_38]5G'\n",
      "  True: '36A21452'\n",
      "  Pred: '55DD5R7UDU55UU'\n",
      "  True: '36B02759'\n",
      "  Pred: '3[UNK_38]A4[UNK_38]LU[UNK_38][UNK_38]9[UNK_38]X[UNK_38]'\n",
      "  True: '99K127010'\n",
      "  Pred: '3A13359[UNK_38]I9LA95'\n",
      "  True: '36A07099'\n",
      "  Pred: 'AAHAA[UNK_38]A9[UNK_38]4[UNK_38]5AH'\n",
      "  True: '36A12578'\n",
      "-------------------------------\n"
     ]
    },
    {
     "name": "stderr",
     "output_type": "stream",
     "text": [
      "Epoch 1/27 [TRAIN] LR: 5.00e-05 Teach: 0.70 Scheduler: OneCycleLR: 100%|██████████| 978/978 [22:27<00:00,  1.38s/it, loss=2.18]\n",
      "Epoch 1/27 [VAL]: 100%|██████████| 113/113 [03:19<00:00,  1.76s/it, loss=2.11]\n"
     ]
    },
    {
     "name": "stdout",
     "output_type": "stream",
     "text": [
      "EarlyStopping: New best val_acc: 0.3360\n",
      "\n",
      "Epoch 1/27 | LR: 8.70e-05 | Teach: 0.70 | Scheduler: OneCycleLR\n",
      "  Train Loss: 2.4884 | Train Char Acc: 0.2791\n",
      "  Val Loss: 2.2545   | Val Acc (CRR): 0.3360\n",
      "  Val Exact Match Acc (E2E RR): 0.0000\n",
      "  Inference time avg: 13.1629\n",
      "  FPS: 75.9713\n",
      "----------------------------------------------------------------------\n",
      "*** New best validation accuracy: 0.3360. Saving best_model.pth ***\n"
     ]
    },
    {
     "name": "stderr",
     "output_type": "stream",
     "text": [
      "Epoch 2/27 [TRAIN] LR: 8.70e-05 Teach: 0.67 Scheduler: OneCycleLR:   0%|          | 1/978 [00:06<1:38:23,  6.04s/it, loss=2.06]"
     ]
    },
    {
     "name": "stdout",
     "output_type": "stream",
     "text": [
      "\n",
      "--- Training Batch 0 Examples (Content Only) ---\n",
      "  Pred: '36C19015'\n",
      "  True: '36C28911'\n",
      "  Pred: '36C000'\n",
      "  True: '36C16559'\n",
      "  Pred: '36A103'\n",
      "  True: '36A41411'\n",
      "  Pred: '36C2299'\n",
      "  True: '36C11132'\n",
      "  Pred: '36C129'\n",
      "  True: '36M8835'\n",
      "-------------------------------\n"
     ]
    },
    {
     "name": "stderr",
     "output_type": "stream",
     "text": [
      "Epoch 2/27 [TRAIN] LR: 8.70e-05 Teach: 0.67 Scheduler: OneCycleLR: 100%|██████████| 978/978 [22:14<00:00,  1.36s/it, loss=2.04]\n",
      "Epoch 2/27 [VAL]: 100%|██████████| 113/113 [03:14<00:00,  1.72s/it, loss=2.03]\n"
     ]
    },
    {
     "name": "stdout",
     "output_type": "stream",
     "text": [
      "EarlyStopping: New best val_acc: 0.3700\n",
      "\n",
      "Epoch 2/27 | LR: 1.86e-04 | Teach: 0.67 | Scheduler: OneCycleLR\n",
      "  Train Loss: 2.0640 | Train Char Acc: 0.3796\n",
      "  Val Loss: 2.0970   | Val Acc (CRR): 0.3700\n",
      "  Val Exact Match Acc (E2E RR): 0.0000\n",
      "  Inference time avg: 13.1403\n",
      "  FPS: 76.1018\n",
      "----------------------------------------------------------------------\n",
      "*** New best validation accuracy: 0.3700. Saving best_model.pth ***\n"
     ]
    },
    {
     "name": "stderr",
     "output_type": "stream",
     "text": [
      "Epoch 3/27 [TRAIN] LR: 1.86e-04 Teach: 0.65 Scheduler: OneCycleLR:   0%|          | 1/978 [00:06<1:46:59,  6.57s/it, loss=1.93]"
     ]
    },
    {
     "name": "stdout",
     "output_type": "stream",
     "text": [
      "\n",
      "--- Training Batch 0 Examples (Content Only) ---\n",
      "  Pred: '36A21586'\n",
      "  True: '36A25080'\n",
      "  Pred: '36A4234'\n",
      "  True: '36A43634'\n",
      "  Pred: '36A42444'\n",
      "  True: '36A43260'\n",
      "  Pred: '36A00803'\n",
      "  True: '36A06531'\n",
      "  Pred: '36C24444'\n",
      "  True: '36C29473'\n",
      "-------------------------------\n"
     ]
    },
    {
     "name": "stderr",
     "output_type": "stream",
     "text": [
      "Epoch 3/27 [TRAIN] LR: 1.86e-04 Teach: 0.65 Scheduler: OneCycleLR: 100%|██████████| 978/978 [22:05<00:00,  1.36s/it, loss=1.75]\n",
      "Epoch 3/27 [VAL]: 100%|██████████| 113/113 [03:14<00:00,  1.72s/it, loss=1.98]\n"
     ]
    },
    {
     "name": "stdout",
     "output_type": "stream",
     "text": [
      "EarlyStopping: New best val_acc: 0.4054\n",
      "\n",
      "Epoch 3/27 | LR: 3.14e-04 | Teach: 0.65 | Scheduler: OneCycleLR\n",
      "  Train Loss: 1.8586 | Train Char Acc: 0.4637\n",
      "  Val Loss: 2.0417   | Val Acc (CRR): 0.4054\n",
      "  Val Exact Match Acc (E2E RR): 0.0000\n",
      "  Inference time avg: 13.1103\n",
      "  FPS: 76.2758\n",
      "----------------------------------------------------------------------\n",
      "*** New best validation accuracy: 0.4054. Saving best_model.pth ***\n"
     ]
    },
    {
     "name": "stderr",
     "output_type": "stream",
     "text": [
      "Epoch 4/27 [TRAIN] LR: 3.14e-04 Teach: 0.62 Scheduler: OneCycleLR:   0%|          | 1/978 [00:06<1:44:19,  6.41s/it, loss=1.54]"
     ]
    },
    {
     "name": "stdout",
     "output_type": "stream",
     "text": [
      "\n",
      "--- Training Batch 0 Examples (Content Only) ---\n",
      "  Pred: '36A38351'\n",
      "  True: '36A38591'\n",
      "  Pred: '36C28449'\n",
      "  True: '36C23486'\n",
      "  Pred: '36C00026'\n",
      "  True: '36C02815'\n",
      "  Pred: '36A42340'\n",
      "  True: '36A44415'\n",
      "  Pred: '36A42200'\n",
      "  True: '36A42720'\n",
      "-------------------------------\n"
     ]
    },
    {
     "name": "stderr",
     "output_type": "stream",
     "text": [
      "Epoch 4/27 [TRAIN] LR: 3.14e-04 Teach: 0.62 Scheduler: OneCycleLR: 100%|██████████| 978/978 [22:14<00:00,  1.36s/it, loss=1.38]\n",
      "Epoch 4/27 [VAL]: 100%|██████████| 113/113 [03:12<00:00,  1.71s/it, loss=1.82]\n"
     ]
    },
    {
     "name": "stdout",
     "output_type": "stream",
     "text": [
      "EarlyStopping: New best val_acc: 0.4632\n",
      "\n",
      "Epoch 4/27 | LR: 4.30e-04 | Teach: 0.62 | Scheduler: OneCycleLR\n",
      "  Train Loss: 1.4835 | Train Char Acc: 0.6535\n",
      "  Val Loss: 1.9172   | Val Acc (CRR): 0.4632\n",
      "  Val Exact Match Acc (E2E RR): 0.0417\n",
      "  Inference time avg: 12.9965\n",
      "  FPS: 76.9438\n",
      "----------------------------------------------------------------------\n",
      "*** New best validation accuracy: 0.4632. Saving best_model.pth ***\n"
     ]
    },
    {
     "name": "stderr",
     "output_type": "stream",
     "text": [
      "Epoch 5/27 [TRAIN] LR: 4.30e-04 Teach: 0.60 Scheduler: OneCycleLR:   0%|          | 1/978 [00:06<1:45:03,  6.45s/it, loss=1.42]"
     ]
    },
    {
     "name": "stdout",
     "output_type": "stream",
     "text": [
      "\n",
      "--- Training Batch 0 Examples (Content Only) ---\n",
      "  Pred: '17B13233'\n",
      "  True: '18F53436'\n",
      "  Pred: '36A25533'\n",
      "  True: '36M3226'\n",
      "  Pred: '36A40927'\n",
      "  True: '36A40927'\n",
      "  Pred: '29C09635'\n",
      "  True: '29C09835'\n",
      "  Pred: '36A4249'\n",
      "  True: '36A20291'\n",
      "-------------------------------\n"
     ]
    },
    {
     "name": "stderr",
     "output_type": "stream",
     "text": [
      "Epoch 5/27 [TRAIN] LR: 4.30e-04 Teach: 0.60 Scheduler: OneCycleLR: 100%|██████████| 978/978 [22:20<00:00,  1.37s/it, loss=1.34]\n",
      "Epoch 5/27 [VAL]: 100%|██████████| 113/113 [03:14<00:00,  1.72s/it, loss=1.66]\n"
     ]
    },
    {
     "name": "stdout",
     "output_type": "stream",
     "text": [
      "EarlyStopping: New best val_acc: 0.5771\n",
      "\n",
      "Epoch 5/27 | LR: 4.94e-04 | Teach: 0.60 | Scheduler: OneCycleLR\n",
      "  Train Loss: 1.2001 | Train Char Acc: 0.7904\n",
      "  Val Loss: 1.7015   | Val Acc (CRR): 0.5771\n",
      "  Val Exact Match Acc (E2E RR): 0.0639\n",
      "  Inference time avg: 13.1415\n",
      "  FPS: 76.0950\n",
      "----------------------------------------------------------------------\n",
      "*** New best validation accuracy: 0.5771. Saving best_model.pth ***\n"
     ]
    },
    {
     "name": "stderr",
     "output_type": "stream",
     "text": [
      "Epoch 6/27 [TRAIN] LR: 4.94e-04 Teach: 0.57 Scheduler: OneCycleLR:   0%|          | 1/978 [00:05<1:34:00,  5.77s/it, loss=1.16]"
     ]
    },
    {
     "name": "stdout",
     "output_type": "stream",
     "text": [
      "\n",
      "--- Training Batch 0 Examples (Content Only) ---\n",
      "  Pred: '36A25566'\n",
      "  True: '36A20750'\n",
      "  Pred: '30N27743'\n",
      "  True: '36B477453'\n",
      "  Pred: '54M7332'\n",
      "  True: '74K7332'\n",
      "  Pred: '36A08980'\n",
      "  True: '36A08980'\n",
      "  Pred: '36A42555'\n",
      "  True: '36A42955'\n",
      "-------------------------------\n"
     ]
    },
    {
     "name": "stderr",
     "output_type": "stream",
     "text": [
      "Epoch 6/27 [TRAIN] LR: 4.94e-04 Teach: 0.57 Scheduler: OneCycleLR: 100%|██████████| 978/978 [21:51<00:00,  1.34s/it, loss=1.22]\n",
      "Epoch 6/27 [VAL]: 100%|██████████| 113/113 [03:13<00:00,  1.72s/it, loss=1.5]\n"
     ]
    },
    {
     "name": "stdout",
     "output_type": "stream",
     "text": [
      "EarlyStopping: New best val_acc: 0.6400\n",
      "\n",
      "Epoch 6/27 | LR: 4.99e-04 | Teach: 0.57 | Scheduler: OneCycleLR\n",
      "  Train Loss: 1.0994 | Train Char Acc: 0.8348\n",
      "  Val Loss: 1.5491   | Val Acc (CRR): 0.6400\n",
      "  Val Exact Match Acc (E2E RR): 0.0900\n",
      "  Inference time avg: 13.1373\n",
      "  FPS: 76.1193\n",
      "----------------------------------------------------------------------\n",
      "*** New best validation accuracy: 0.6400. Saving best_model.pth ***\n"
     ]
    },
    {
     "name": "stderr",
     "output_type": "stream",
     "text": [
      "Epoch 7/27 [TRAIN] LR: 4.99e-04 Teach: 0.55 Scheduler: OneCycleLR:   0%|          | 1/978 [00:06<1:41:48,  6.25s/it, loss=1.05]"
     ]
    },
    {
     "name": "stdout",
     "output_type": "stream",
     "text": [
      "\n",
      "--- Training Batch 0 Examples (Content Only) ---\n",
      "  Pred: '14C10390'\n",
      "  True: '14C10390'\n",
      "  Pred: '36C15069'\n",
      "  True: '36C15069'\n",
      "  Pred: '36A04488'\n",
      "  True: '36A19528'\n",
      "  Pred: '36B0584'\n",
      "  True: '36B0584'\n",
      "  Pred: '29E138178'\n",
      "  True: '29G139618'\n",
      "-------------------------------\n"
     ]
    },
    {
     "name": "stderr",
     "output_type": "stream",
     "text": [
      "Epoch 7/27 [TRAIN] LR: 4.99e-04 Teach: 0.55 Scheduler: OneCycleLR: 100%|██████████| 978/978 [22:11<00:00,  1.36s/it, loss=0.984]\n",
      "Epoch 7/27 [VAL]: 100%|██████████| 113/113 [03:14<00:00,  1.72s/it, loss=1.31]\n"
     ]
    },
    {
     "name": "stdout",
     "output_type": "stream",
     "text": [
      "EarlyStopping: New best val_acc: 0.7236\n",
      "\n",
      "Epoch 7/27 | LR: 4.93e-04 | Teach: 0.55 | Scheduler: OneCycleLR\n",
      "  Train Loss: 1.0237 | Train Char Acc: 0.8672\n",
      "  Val Loss: 1.3512   | Val Acc (CRR): 0.7236\n",
      "  Val Exact Match Acc (E2E RR): 0.1556\n",
      "  Inference time avg: 13.1486\n",
      "  FPS: 76.0538\n",
      "----------------------------------------------------------------------\n",
      "*** New best validation accuracy: 0.7236. Saving best_model.pth ***\n"
     ]
    },
    {
     "name": "stderr",
     "output_type": "stream",
     "text": [
      "Epoch 8/27 [TRAIN] LR: 4.93e-04 Teach: 0.53 Scheduler: OneCycleLR:   0%|          | 1/978 [00:06<1:51:57,  6.88s/it, loss=1]"
     ]
    },
    {
     "name": "stdout",
     "output_type": "stream",
     "text": [
      "\n",
      "--- Training Batch 0 Examples (Content Only) ---\n",
      "  Pred: '34A13491'\n",
      "  True: '14A13847'\n",
      "  Pred: '36C27920'\n",
      "  True: '36C27920'\n",
      "  Pred: '39A07137'\n",
      "  True: '36A07137'\n",
      "  Pred: '30E71286'\n",
      "  True: '30F71286'\n",
      "  Pred: '36M6525'\n",
      "  True: '36M6525'\n",
      "-------------------------------\n"
     ]
    },
    {
     "name": "stderr",
     "output_type": "stream",
     "text": [
      "Epoch 8/27 [TRAIN] LR: 4.93e-04 Teach: 0.53 Scheduler: OneCycleLR: 100%|██████████| 978/978 [22:29<00:00,  1.38s/it, loss=0.959]\n",
      "Epoch 8/27 [VAL]: 100%|██████████| 113/113 [03:14<00:00,  1.72s/it, loss=1.1]\n"
     ]
    },
    {
     "name": "stdout",
     "output_type": "stream",
     "text": [
      "EarlyStopping: New best val_acc: 0.7681\n",
      "\n",
      "Epoch 8/27 | LR: 4.82e-04 | Teach: 0.53 | Scheduler: OneCycleLR\n",
      "  Train Loss: 0.9640 | Train Char Acc: 0.8923\n",
      "  Val Loss: 1.2353   | Val Acc (CRR): 0.7681\n",
      "  Val Exact Match Acc (E2E RR): 0.2145\n",
      "  Inference time avg: 13.1597\n",
      "  FPS: 75.9898\n",
      "----------------------------------------------------------------------\n",
      "*** New best validation accuracy: 0.7681. Saving best_model.pth ***\n"
     ]
    },
    {
     "name": "stderr",
     "output_type": "stream",
     "text": [
      "Epoch 9/27 [TRAIN] LR: 4.82e-04 Teach: 0.50 Scheduler: OneCycleLR:   0%|          | 1/978 [00:06<1:42:17,  6.28s/it, loss=0.956]"
     ]
    },
    {
     "name": "stdout",
     "output_type": "stream",
     "text": [
      "\n",
      "--- Training Batch 0 Examples (Content Only) ---\n",
      "  Pred: '29A113873'\n",
      "  True: '29I113873'\n",
      "  Pred: '36A06611'\n",
      "  True: '36D00611'\n",
      "  Pred: '36A42753'\n",
      "  True: '36A42755'\n",
      "  Pred: '36A38659'\n",
      "  True: '36A38659'\n",
      "  Pred: '39H19235'\n",
      "  True: '16N19235'\n",
      "-------------------------------\n"
     ]
    },
    {
     "name": "stderr",
     "output_type": "stream",
     "text": [
      "Epoch 9/27 [TRAIN] LR: 4.82e-04 Teach: 0.50 Scheduler: OneCycleLR: 100%|██████████| 978/978 [21:59<00:00,  1.35s/it, loss=0.822]\n",
      "Epoch 9/27 [VAL]: 100%|██████████| 113/113 [03:13<00:00,  1.71s/it, loss=0.982]\n"
     ]
    },
    {
     "name": "stdout",
     "output_type": "stream",
     "text": [
      "EarlyStopping: New best val_acc: 0.8243\n",
      "\n",
      "Epoch 9/27 | LR: 4.66e-04 | Teach: 0.50 | Scheduler: OneCycleLR\n",
      "  Train Loss: 0.9049 | Train Char Acc: 0.9161\n",
      "  Val Loss: 1.1081   | Val Acc (CRR): 0.8243\n",
      "  Val Exact Match Acc (E2E RR): 0.3265\n",
      "  Inference time avg: 13.1449\n",
      "  FPS: 76.0749\n",
      "----------------------------------------------------------------------\n",
      "*** New best validation accuracy: 0.8243. Saving best_model.pth ***\n"
     ]
    },
    {
     "name": "stderr",
     "output_type": "stream",
     "text": [
      "Epoch 10/27 [TRAIN] LR: 4.66e-04 Teach: 0.47 Scheduler: OneCycleLR:   0%|          | 1/978 [00:07<1:57:24,  7.21s/it, loss=0.855]"
     ]
    },
    {
     "name": "stdout",
     "output_type": "stream",
     "text": [
      "\n",
      "--- Training Batch 0 Examples (Content Only) ---\n",
      "  Pred: '30P68333'\n",
      "  True: '30X68333'\n",
      "  Pred: '36A43457'\n",
      "  True: '36A43457'\n",
      "  Pred: '36B0977'\n",
      "  True: '36B0977'\n",
      "  Pred: '36C29558'\n",
      "  True: '36C29558'\n",
      "  Pred: '36C24052'\n",
      "  True: '36C24052'\n",
      "-------------------------------\n"
     ]
    },
    {
     "name": "stderr",
     "output_type": "stream",
     "text": [
      "Epoch 10/27 [TRAIN] LR: 4.66e-04 Teach: 0.47 Scheduler: OneCycleLR: 100%|██████████| 978/978 [22:19<00:00,  1.37s/it, loss=0.841]\n",
      "Epoch 10/27 [VAL]: 100%|██████████| 113/113 [03:14<00:00,  1.73s/it, loss=1]\n"
     ]
    },
    {
     "name": "stdout",
     "output_type": "stream",
     "text": [
      "EarlyStopping: New best val_acc: 0.8417\n",
      "\n",
      "Epoch 10/27 | LR: 4.46e-04 | Teach: 0.47 | Scheduler: OneCycleLR\n",
      "  Train Loss: 0.8744 | Train Char Acc: 0.9289\n",
      "  Val Loss: 1.0672   | Val Acc (CRR): 0.8417\n",
      "  Val Exact Match Acc (E2E RR): 0.3693\n",
      "  Inference time avg: 13.1302\n",
      "  FPS: 76.1602\n",
      "----------------------------------------------------------------------\n",
      "*** New best validation accuracy: 0.8417. Saving best_model.pth ***\n"
     ]
    },
    {
     "name": "stderr",
     "output_type": "stream",
     "text": [
      "Epoch 11/27 [TRAIN] LR: 4.46e-04 Teach: 0.45 Scheduler: OneCycleLR:   0%|          | 1/978 [00:06<1:43:41,  6.37s/it, loss=0.908]"
     ]
    },
    {
     "name": "stdout",
     "output_type": "stream",
     "text": [
      "\n",
      "--- Training Batch 0 Examples (Content Only) ---\n",
      "  Pred: '36A39447'\n",
      "  True: '36A39447'\n",
      "  Pred: '30S4008'\n",
      "  True: '30P4008'\n",
      "  Pred: '29H196743'\n",
      "  True: '29H196743'\n",
      "  Pred: '36A14854'\n",
      "  True: '36A14854'\n",
      "  Pred: '36C12228'\n",
      "  True: '36C12143'\n",
      "-------------------------------\n"
     ]
    },
    {
     "name": "stderr",
     "output_type": "stream",
     "text": [
      "Epoch 11/27 [TRAIN] LR: 4.46e-04 Teach: 0.45 Scheduler: OneCycleLR: 100%|██████████| 978/978 [22:37<00:00,  1.39s/it, loss=0.946]\n",
      "Epoch 11/27 [VAL]: 100%|██████████| 113/113 [03:17<00:00,  1.75s/it, loss=0.962]\n"
     ]
    },
    {
     "name": "stdout",
     "output_type": "stream",
     "text": [
      "EarlyStopping: New best val_acc: 0.8498\n",
      "\n",
      "Epoch 11/27 | LR: 4.22e-04 | Teach: 0.45 | Scheduler: OneCycleLR\n",
      "  Train Loss: 0.8583 | Train Char Acc: 0.9354\n",
      "  Val Loss: 1.0475   | Val Acc (CRR): 0.8498\n",
      "  Val Exact Match Acc (E2E RR): 0.3818\n",
      "  Inference time avg: 13.1493\n",
      "  FPS: 76.0495\n",
      "----------------------------------------------------------------------\n",
      "*** New best validation accuracy: 0.8498. Saving best_model.pth ***\n"
     ]
    },
    {
     "name": "stderr",
     "output_type": "stream",
     "text": [
      "Epoch 12/27 [TRAIN] LR: 4.22e-04 Teach: 0.42 Scheduler: OneCycleLR:   0%|          | 1/978 [00:06<1:38:56,  6.08s/it, loss=0.787]"
     ]
    },
    {
     "name": "stdout",
     "output_type": "stream",
     "text": [
      "\n",
      "--- Training Batch 0 Examples (Content Only) ---\n",
      "  Pred: '36A43771'\n",
      "  True: '36A43771'\n",
      "  Pred: '36A23570'\n",
      "  True: '36A23570'\n",
      "  Pred: '36C22592'\n",
      "  True: '36C22592'\n",
      "  Pred: '29T153661'\n",
      "  True: '29T153661'\n",
      "  Pred: '37A09190'\n",
      "  True: '37A09190'\n",
      "-------------------------------\n"
     ]
    },
    {
     "name": "stderr",
     "output_type": "stream",
     "text": [
      "Epoch 12/27 [TRAIN] LR: 4.22e-04 Teach: 0.42 Scheduler: OneCycleLR: 100%|██████████| 978/978 [21:33<00:00,  1.32s/it, loss=0.797]\n",
      "Epoch 12/27 [VAL]: 100%|██████████| 113/113 [03:15<00:00,  1.73s/it, loss=0.967]\n"
     ]
    },
    {
     "name": "stdout",
     "output_type": "stream",
     "text": [
      "EarlyStopping: New best val_acc: 0.8704\n",
      "\n",
      "Epoch 12/27 | LR: 3.93e-04 | Teach: 0.42 | Scheduler: OneCycleLR\n",
      "  Train Loss: 0.8422 | Train Char Acc: 0.9415\n",
      "  Val Loss: 1.0065   | Val Acc (CRR): 0.8704\n",
      "  Val Exact Match Acc (E2E RR): 0.4576\n",
      "  Inference time avg: 13.1438\n",
      "  FPS: 76.0816\n",
      "----------------------------------------------------------------------\n",
      "*** New best validation accuracy: 0.8704. Saving best_model.pth ***\n"
     ]
    },
    {
     "name": "stderr",
     "output_type": "stream",
     "text": [
      "Epoch 13/27 [TRAIN] LR: 3.93e-04 Teach: 0.40 Scheduler: OneCycleLR:   0%|          | 1/978 [00:06<1:53:47,  6.99s/it, loss=0.826]"
     ]
    },
    {
     "name": "stdout",
     "output_type": "stream",
     "text": [
      "\n",
      "--- Training Batch 0 Examples (Content Only) ---\n",
      "  Pred: '36C12280'\n",
      "  True: '36C12280'\n",
      "  Pred: '29B10884'\n",
      "  True: '29B10964'\n",
      "  Pred: '36B591953'\n",
      "  True: '36B591953'\n",
      "  Pred: '29H156766'\n",
      "  True: '29H156766'\n",
      "  Pred: '36A21315'\n",
      "  True: '36A21315'\n",
      "-------------------------------\n"
     ]
    },
    {
     "name": "stderr",
     "output_type": "stream",
     "text": [
      "Epoch 13/27 [TRAIN] LR: 3.93e-04 Teach: 0.40 Scheduler: OneCycleLR: 100%|██████████| 978/978 [22:16<00:00,  1.37s/it, loss=0.886]\n",
      "Epoch 13/27 [VAL]: 100%|██████████| 113/113 [03:14<00:00,  1.72s/it, loss=0.926]\n"
     ]
    },
    {
     "name": "stdout",
     "output_type": "stream",
     "text": [
      "EarlyStopping: New best val_acc: 0.8824\n",
      "\n",
      "Epoch 13/27 | LR: 3.62e-04 | Teach: 0.40 | Scheduler: OneCycleLR\n",
      "  Train Loss: 0.8255 | Train Char Acc: 0.9483\n",
      "  Val Loss: 0.9783   | Val Acc (CRR): 0.8824\n",
      "  Val Exact Match Acc (E2E RR): 0.4932\n",
      "  Inference time avg: 13.1324\n",
      "  FPS: 76.1476\n",
      "----------------------------------------------------------------------\n",
      "*** New best validation accuracy: 0.8824. Saving best_model.pth ***\n"
     ]
    },
    {
     "name": "stderr",
     "output_type": "stream",
     "text": [
      "Epoch 14/27 [TRAIN] LR: 3.62e-04 Teach: 0.38 Scheduler: OneCycleLR:   0%|          | 1/978 [00:06<1:40:58,  6.20s/it, loss=0.788]"
     ]
    },
    {
     "name": "stdout",
     "output_type": "stream",
     "text": [
      "\n",
      "--- Training Batch 0 Examples (Content Only) ---\n",
      "  Pred: '36A08711'\n",
      "  True: '36A08711'\n",
      "  Pred: '89K99571'\n",
      "  True: '89K99571'\n",
      "  Pred: '36A38166'\n",
      "  True: '36A38166'\n",
      "  Pred: '80H10469'\n",
      "  True: '80H10469'\n",
      "  Pred: '36B03452'\n",
      "  True: '36B03452'\n",
      "-------------------------------\n"
     ]
    },
    {
     "name": "stderr",
     "output_type": "stream",
     "text": [
      "Epoch 14/27 [TRAIN] LR: 3.62e-04 Teach: 0.38 Scheduler: OneCycleLR: 100%|██████████| 978/978 [21:45<00:00,  1.34s/it, loss=0.806]\n",
      "Epoch 14/27 [VAL]: 100%|██████████| 113/113 [03:15<00:00,  1.73s/it, loss=0.945]\n"
     ]
    },
    {
     "name": "stdout",
     "output_type": "stream",
     "text": [
      "EarlyStopping: New best val_acc: 0.8862\n",
      "\n",
      "Epoch 14/27 | LR: 3.29e-04 | Teach: 0.38 | Scheduler: OneCycleLR\n",
      "  Train Loss: 0.8184 | Train Char Acc: 0.9515\n",
      "  Val Loss: 0.9743   | Val Acc (CRR): 0.8862\n",
      "  Val Exact Match Acc (E2E RR): 0.4951\n",
      "  Inference time avg: 13.1323\n",
      "  FPS: 76.1481\n",
      "----------------------------------------------------------------------\n",
      "*** New best validation accuracy: 0.8862. Saving best_model.pth ***\n"
     ]
    },
    {
     "name": "stderr",
     "output_type": "stream",
     "text": [
      "Epoch 15/27 [TRAIN] LR: 3.29e-04 Teach: 0.35 Scheduler: OneCycleLR:   0%|          | 1/978 [00:06<1:52:28,  6.91s/it, loss=0.815]"
     ]
    },
    {
     "name": "stdout",
     "output_type": "stream",
     "text": [
      "\n",
      "--- Training Batch 0 Examples (Content Only) ---\n",
      "  Pred: '36C24012'\n",
      "  True: '36C24012'\n",
      "  Pred: '30M52234'\n",
      "  True: '30N52234'\n",
      "  Pred: '36A04605'\n",
      "  True: '36A04605'\n",
      "  Pred: '36C28427'\n",
      "  True: '36C28427'\n",
      "  Pred: '36L8126'\n",
      "  True: '36L8126'\n",
      "-------------------------------\n"
     ]
    },
    {
     "name": "stderr",
     "output_type": "stream",
     "text": [
      "Epoch 15/27 [TRAIN] LR: 3.29e-04 Teach: 0.35 Scheduler: OneCycleLR: 100%|██████████| 978/978 [22:41<00:00,  1.39s/it, loss=0.777]\n",
      "Epoch 15/27 [VAL]: 100%|██████████| 113/113 [03:16<00:00,  1.74s/it, loss=0.875]\n"
     ]
    },
    {
     "name": "stdout",
     "output_type": "stream",
     "text": [
      "EarlyStopping: New best val_acc: 0.8975\n",
      "\n",
      "Epoch 15/27 | LR: 2.93e-04 | Teach: 0.35 | Scheduler: OneCycleLR\n",
      "  Train Loss: 0.8116 | Train Char Acc: 0.9542\n",
      "  Val Loss: 0.9457   | Val Acc (CRR): 0.8975\n",
      "  Val Exact Match Acc (E2E RR): 0.5376\n",
      "  Inference time avg: 13.1457\n",
      "  FPS: 76.0706\n",
      "----------------------------------------------------------------------\n",
      "*** New best validation accuracy: 0.8975. Saving best_model.pth ***\n"
     ]
    },
    {
     "name": "stderr",
     "output_type": "stream",
     "text": [
      "Epoch 16/27 [TRAIN] LR: 2.93e-04 Teach: 0.33 Scheduler: OneCycleLR:   0%|          | 1/978 [00:06<1:42:07,  6.27s/it, loss=0.76]"
     ]
    },
    {
     "name": "stdout",
     "output_type": "stream",
     "text": [
      "\n",
      "--- Training Batch 0 Examples (Content Only) ---\n",
      "  Pred: '36A43008'\n",
      "  True: '36A43008'\n",
      "  Pred: '36C12628'\n",
      "  True: '36C12628'\n",
      "  Pred: '37K10994'\n",
      "  True: '37K50991'\n",
      "  Pred: '36C13010'\n",
      "  True: '36C13010'\n",
      "  Pred: '36C04429'\n",
      "  True: '36C04242'\n",
      "-------------------------------\n"
     ]
    },
    {
     "name": "stderr",
     "output_type": "stream",
     "text": [
      "Epoch 16/27 [TRAIN] LR: 2.93e-04 Teach: 0.33 Scheduler: OneCycleLR: 100%|██████████| 978/978 [22:29<00:00,  1.38s/it, loss=0.802]\n",
      "Epoch 16/27 [VAL]: 100%|██████████| 113/113 [03:14<00:00,  1.72s/it, loss=0.863]\n"
     ]
    },
    {
     "name": "stdout",
     "output_type": "stream",
     "text": [
      "EarlyStopping: New best val_acc: 0.9018\n",
      "\n",
      "Epoch 16/27 | LR: 2.57e-04 | Teach: 0.33 | Scheduler: OneCycleLR\n",
      "  Train Loss: 0.8015 | Train Char Acc: 0.9586\n",
      "  Val Loss: 0.9331   | Val Acc (CRR): 0.9018\n",
      "  Val Exact Match Acc (E2E RR): 0.5590\n",
      "  Inference time avg: 13.1483\n",
      "  FPS: 76.0553\n",
      "----------------------------------------------------------------------\n",
      "*** New best validation accuracy: 0.9018. Saving best_model.pth ***\n"
     ]
    },
    {
     "name": "stderr",
     "output_type": "stream",
     "text": [
      "Epoch 17/27 [TRAIN] LR: 2.57e-04 Teach: 0.30 Scheduler: OneCycleLR:   0%|          | 1/978 [00:05<1:31:46,  5.64s/it, loss=0.784]"
     ]
    },
    {
     "name": "stdout",
     "output_type": "stream",
     "text": [
      "\n",
      "--- Training Batch 0 Examples (Content Only) ---\n",
      "  Pred: '36C00572'\n",
      "  True: '36C00572'\n",
      "  Pred: '29B154945'\n",
      "  True: '29B154945'\n",
      "  Pred: '36M9821'\n",
      "  True: '36M9821'\n",
      "  Pred: '36A28248'\n",
      "  True: '36A28248'\n",
      "  Pred: '36A29334'\n",
      "  True: '36A29334'\n",
      "-------------------------------\n"
     ]
    },
    {
     "name": "stderr",
     "output_type": "stream",
     "text": [
      "Epoch 17/27 [TRAIN] LR: 2.57e-04 Teach: 0.30 Scheduler: OneCycleLR: 100%|██████████| 978/978 [21:43<00:00,  1.33s/it, loss=0.745]\n",
      "Epoch 17/27 [VAL]: 100%|██████████| 113/113 [03:18<00:00,  1.76s/it, loss=0.847]\n"
     ]
    },
    {
     "name": "stdout",
     "output_type": "stream",
     "text": [
      "EarlyStopping: New best val_acc: 0.9148\n",
      "\n",
      "Epoch 17/27 | LR: 2.21e-04 | Teach: 0.30 | Scheduler: OneCycleLR\n",
      "  Train Loss: 0.7948 | Train Char Acc: 0.9609\n",
      "  Val Loss: 0.9106   | Val Acc (CRR): 0.9148\n",
      "  Val Exact Match Acc (E2E RR): 0.6041\n",
      "  Inference time avg: 13.1370\n",
      "  FPS: 76.1206\n",
      "----------------------------------------------------------------------\n",
      "*** New best validation accuracy: 0.9148. Saving best_model.pth ***\n"
     ]
    },
    {
     "name": "stderr",
     "output_type": "stream",
     "text": [
      "Epoch 18/27 [TRAIN] LR: 2.21e-04 Teach: 0.28 Scheduler: OneCycleLR:   0%|          | 1/978 [00:06<1:43:36,  6.36s/it, loss=0.744]"
     ]
    },
    {
     "name": "stdout",
     "output_type": "stream",
     "text": [
      "\n",
      "--- Training Batch 0 Examples (Content Only) ---\n",
      "  Pred: '36A41387'\n",
      "  True: '36A41387'\n",
      "  Pred: '36C27897'\n",
      "  True: '36C27897'\n",
      "  Pred: '20E116420'\n",
      "  True: '20E116420'\n",
      "  Pred: '36A39576'\n",
      "  True: '36A39576'\n",
      "  Pred: '36C29351'\n",
      "  True: '36C29351'\n",
      "-------------------------------\n"
     ]
    },
    {
     "name": "stderr",
     "output_type": "stream",
     "text": [
      "Epoch 18/27 [TRAIN] LR: 2.21e-04 Teach: 0.28 Scheduler: OneCycleLR: 100%|██████████| 978/978 [22:31<00:00,  1.38s/it, loss=0.73]\n",
      "Epoch 18/27 [VAL]: 100%|██████████| 113/113 [03:18<00:00,  1.75s/it, loss=0.874]\n"
     ]
    },
    {
     "name": "stdout",
     "output_type": "stream",
     "text": [
      "EarlyStopping: New best val_acc: 0.9231\n",
      "\n",
      "Epoch 18/27 | LR: 1.85e-04 | Teach: 0.28 | Scheduler: OneCycleLR\n",
      "  Train Loss: 0.7837 | Train Char Acc: 0.9653\n",
      "  Val Loss: 0.8895   | Val Acc (CRR): 0.9231\n",
      "  Val Exact Match Acc (E2E RR): 0.6402\n",
      "  Inference time avg: 13.1612\n",
      "  FPS: 75.9807\n",
      "----------------------------------------------------------------------\n",
      "*** New best validation accuracy: 0.9231. Saving best_model.pth ***\n"
     ]
    },
    {
     "name": "stderr",
     "output_type": "stream",
     "text": [
      "Epoch 19/27 [TRAIN] LR: 1.85e-04 Teach: 0.25 Scheduler: OneCycleLR:   0%|          | 1/978 [00:06<1:41:16,  6.22s/it, loss=0.733]"
     ]
    },
    {
     "name": "stdout",
     "output_type": "stream",
     "text": [
      "\n",
      "--- Training Batch 0 Examples (Content Only) ---\n",
      "  Pred: '36M9821'\n",
      "  True: '36M9821'\n",
      "  Pred: '36A16937'\n",
      "  True: '36A16937'\n",
      "  Pred: '36C29964'\n",
      "  True: '36C29964'\n",
      "  Pred: '34L8977'\n",
      "  True: '34L8977'\n",
      "  Pred: '36C15994'\n",
      "  True: '36C15994'\n",
      "-------------------------------\n"
     ]
    },
    {
     "name": "stderr",
     "output_type": "stream",
     "text": [
      "Epoch 19/27 [TRAIN] LR: 1.85e-04 Teach: 0.25 Scheduler: OneCycleLR: 100%|██████████| 978/978 [22:27<00:00,  1.38s/it, loss=0.754]\n",
      "Epoch 19/27 [VAL]: 100%|██████████| 113/113 [03:17<00:00,  1.75s/it, loss=0.876]\n"
     ]
    },
    {
     "name": "stdout",
     "output_type": "stream",
     "text": [
      "EarlyStopping: New best val_acc: 0.9259\n",
      "\n",
      "Epoch 19/27 | LR: 1.51e-04 | Teach: 0.25 | Scheduler: OneCycleLR\n",
      "  Train Loss: 0.7824 | Train Char Acc: 0.9659\n",
      "  Val Loss: 0.8860   | Val Acc (CRR): 0.9259\n",
      "  Val Exact Match Acc (E2E RR): 0.6527\n",
      "  Inference time avg: 13.1567\n",
      "  FPS: 76.0072\n",
      "----------------------------------------------------------------------\n",
      "*** New best validation accuracy: 0.9259. Saving best_model.pth ***\n"
     ]
    },
    {
     "name": "stderr",
     "output_type": "stream",
     "text": [
      "Epoch 20/27 [TRAIN] LR: 1.51e-04 Teach: 0.23 Scheduler: OneCycleLR:   0%|          | 1/978 [00:06<1:40:47,  6.19s/it, loss=0.761]"
     ]
    },
    {
     "name": "stdout",
     "output_type": "stream",
     "text": [
      "\n",
      "--- Training Batch 0 Examples (Content Only) ---\n",
      "  Pred: '36A20761'\n",
      "  True: '36A20761'\n",
      "  Pred: '36C27499'\n",
      "  True: '36C27499'\n",
      "  Pred: '36A37797'\n",
      "  True: '36A37797'\n",
      "  Pred: '36C28329'\n",
      "  True: '36C28329'\n",
      "  Pred: '36B2177'\n",
      "  True: '36B2177'\n",
      "-------------------------------\n"
     ]
    },
    {
     "name": "stderr",
     "output_type": "stream",
     "text": [
      "Epoch 20/27 [TRAIN] LR: 1.51e-04 Teach: 0.23 Scheduler: OneCycleLR: 100%|██████████| 978/978 [22:42<00:00,  1.39s/it, loss=0.751]\n",
      "Epoch 20/27 [VAL]: 100%|██████████| 113/113 [03:17<00:00,  1.75s/it, loss=0.877]\n"
     ]
    },
    {
     "name": "stdout",
     "output_type": "stream",
     "text": [
      "EarlyStopping: New best val_acc: 0.9273\n",
      "\n",
      "Epoch 20/27 | LR: 1.19e-04 | Teach: 0.23 | Scheduler: OneCycleLR\n",
      "  Train Loss: 0.7782 | Train Char Acc: 0.9675\n",
      "  Val Loss: 0.8799   | Val Acc (CRR): 0.9273\n",
      "  Val Exact Match Acc (E2E RR): 0.6546\n",
      "  Inference time avg: 13.1451\n",
      "  FPS: 76.0741\n",
      "----------------------------------------------------------------------\n",
      "*** New best validation accuracy: 0.9273. Saving best_model.pth ***\n"
     ]
    },
    {
     "name": "stderr",
     "output_type": "stream",
     "text": [
      "Epoch 21/27 [TRAIN] LR: 1.19e-04 Teach: 0.20 Scheduler: OneCycleLR:   0%|          | 1/978 [00:06<1:50:59,  6.82s/it, loss=0.753]"
     ]
    },
    {
     "name": "stdout",
     "output_type": "stream",
     "text": [
      "\n",
      "--- Training Batch 0 Examples (Content Only) ---\n",
      "  Pred: '36A10011'\n",
      "  True: '36A10011'\n",
      "  Pred: '36N1459'\n",
      "  True: '36N1459'\n",
      "  Pred: '30A11423'\n",
      "  True: '30A12423'\n",
      "  Pred: '36C02163'\n",
      "  True: '36C02163'\n",
      "  Pred: '30E32705'\n",
      "  True: '30E32705'\n",
      "-------------------------------\n"
     ]
    },
    {
     "name": "stderr",
     "output_type": "stream",
     "text": [
      "Epoch 21/27 [TRAIN] LR: 1.19e-04 Teach: 0.20 Scheduler: OneCycleLR: 100%|██████████| 978/978 [22:40<00:00,  1.39s/it, loss=0.772]\n",
      "Epoch 21/27 [VAL]: 100%|██████████| 113/113 [03:17<00:00,  1.75s/it, loss=0.863]\n"
     ]
    },
    {
     "name": "stdout",
     "output_type": "stream",
     "text": [
      "EarlyStopping: New best val_acc: 0.9287\n",
      "\n",
      "Epoch 21/27 | LR: 8.93e-05 | Teach: 0.20 | Scheduler: OneCycleLR\n",
      "  Train Loss: 0.7773 | Train Char Acc: 0.9675\n",
      "  Val Loss: 0.8736   | Val Acc (CRR): 0.9287\n",
      "  Val Exact Match Acc (E2E RR): 0.6593\n",
      "  Inference time avg: 13.1403\n",
      "  FPS: 76.1019\n",
      "----------------------------------------------------------------------\n",
      "*** New best validation accuracy: 0.9287. Saving best_model.pth ***\n"
     ]
    },
    {
     "name": "stderr",
     "output_type": "stream",
     "text": [
      "Epoch 22/27 [TRAIN] LR: 8.93e-05 Teach: 0.18 Scheduler: OneCycleLR:   0%|          | 1/978 [00:06<1:45:58,  6.51s/it, loss=0.716]"
     ]
    },
    {
     "name": "stdout",
     "output_type": "stream",
     "text": [
      "\n",
      "--- Training Batch 0 Examples (Content Only) ---\n",
      "  Pred: '36B01937'\n",
      "  True: '36B01937'\n",
      "  Pred: '36C01819'\n",
      "  True: '36C01819'\n",
      "  Pred: '61N7590'\n",
      "  True: '61N7590'\n",
      "  Pred: '36A20005'\n",
      "  True: '36A20005'\n",
      "  Pred: '29M132839'\n",
      "  True: '29M132839'\n",
      "-------------------------------\n"
     ]
    },
    {
     "name": "stderr",
     "output_type": "stream",
     "text": [
      "Epoch 22/27 [TRAIN] LR: 8.93e-05 Teach: 0.18 Scheduler: OneCycleLR: 100%|██████████| 978/978 [22:23<00:00,  1.37s/it, loss=0.72]\n",
      "Epoch 22/27 [VAL]: 100%|██████████| 113/113 [03:19<00:00,  1.76s/it, loss=0.877]\n"
     ]
    },
    {
     "name": "stdout",
     "output_type": "stream",
     "text": [
      "EarlyStopping: New best val_acc: 0.9293\n",
      "\n",
      "Epoch 22/27 | LR: 6.32e-05 | Teach: 0.18 | Scheduler: OneCycleLR\n",
      "  Train Loss: 0.7761 | Train Char Acc: 0.9681\n",
      "  Val Loss: 0.8732   | Val Acc (CRR): 0.9293\n",
      "  Val Exact Match Acc (E2E RR): 0.6671\n",
      "  Inference time avg: 13.1443\n",
      "  FPS: 76.0787\n",
      "----------------------------------------------------------------------\n",
      "*** New best validation accuracy: 0.9293. Saving best_model.pth ***\n"
     ]
    },
    {
     "name": "stderr",
     "output_type": "stream",
     "text": [
      "Epoch 23/27 [TRAIN] LR: 6.32e-05 Teach: 0.15 Scheduler: OneCycleLR:   0%|          | 1/978 [00:05<1:34:56,  5.83s/it, loss=0.769]"
     ]
    },
    {
     "name": "stdout",
     "output_type": "stream",
     "text": [
      "\n",
      "--- Training Batch 0 Examples (Content Only) ---\n",
      "  Pred: '36L9732'\n",
      "  True: '36L9732'\n",
      "  Pred: '36B01680'\n",
      "  True: '36B01680'\n",
      "  Pred: '29M139789'\n",
      "  True: '29M139789'\n",
      "  Pred: '36A05680'\n",
      "  True: '36A05680'\n",
      "  Pred: '36C29418'\n",
      "  True: '36C29418'\n",
      "-------------------------------\n"
     ]
    },
    {
     "name": "stderr",
     "output_type": "stream",
     "text": [
      "Epoch 23/27 [TRAIN] LR: 6.32e-05 Teach: 0.15 Scheduler: OneCycleLR: 100%|██████████| 978/978 [23:21<00:00,  1.43s/it, loss=0.877]\n",
      "Epoch 23/27 [VAL]: 100%|██████████| 113/113 [03:19<00:00,  1.76s/it, loss=0.866]\n"
     ]
    },
    {
     "name": "stdout",
     "output_type": "stream",
     "text": [
      "EarlyStopping counter: 1/7 (Best val_acc: 0.9293)\n",
      "\n",
      "Epoch 23/27 | LR: 4.11e-05 | Teach: 0.15 | Scheduler: OneCycleLR\n",
      "  Train Loss: 0.7736 | Train Char Acc: 0.9691\n",
      "  Val Loss: 0.8712   | Val Acc (CRR): 0.9296\n",
      "  Val Exact Match Acc (E2E RR): 0.6680\n",
      "  Inference time avg: 13.1532\n",
      "  FPS: 76.0270\n",
      "----------------------------------------------------------------------\n",
      "*** New best validation accuracy: 0.9296. Saving best_model.pth ***\n"
     ]
    },
    {
     "name": "stderr",
     "output_type": "stream",
     "text": [
      "Epoch 24/27 [TRAIN] LR: 4.11e-05 Teach: 0.13 Scheduler: OneCycleLR:   0%|          | 1/978 [00:06<1:46:03,  6.51s/it, loss=0.738]"
     ]
    },
    {
     "name": "stdout",
     "output_type": "stream",
     "text": [
      "\n",
      "--- Training Batch 0 Examples (Content Only) ---\n",
      "  Pred: '36A25605'\n",
      "  True: '36A25605'\n",
      "  Pred: '36C07050'\n",
      "  True: '36C07050'\n",
      "  Pred: '36B02482'\n",
      "  True: '36B02482'\n",
      "  Pred: '36A38648'\n",
      "  True: '36A38648'\n",
      "  Pred: '36A38461'\n",
      "  True: '36A38461'\n",
      "-------------------------------\n"
     ]
    },
    {
     "name": "stderr",
     "output_type": "stream",
     "text": [
      "Epoch 24/27 [TRAIN] LR: 4.11e-05 Teach: 0.13 Scheduler: OneCycleLR: 100%|██████████| 978/978 [21:35<00:00,  1.33s/it, loss=0.847]\n",
      "Epoch 24/27 [VAL]: 100%|██████████| 113/113 [03:15<00:00,  1.73s/it, loss=0.868]\n"
     ]
    },
    {
     "name": "stdout",
     "output_type": "stream",
     "text": [
      "EarlyStopping: New best val_acc: 0.9305\n",
      "\n",
      "Epoch 24/27 | LR: 2.34e-05 | Teach: 0.13 | Scheduler: OneCycleLR\n",
      "  Train Loss: 0.7723 | Train Char Acc: 0.9698\n",
      "  Val Loss: 0.8692   | Val Acc (CRR): 0.9305\n",
      "  Val Exact Match Acc (E2E RR): 0.6746\n",
      "  Inference time avg: 13.1306\n",
      "  FPS: 76.1582\n",
      "----------------------------------------------------------------------\n",
      "*** New best validation accuracy: 0.9305. Saving best_model.pth ***\n"
     ]
    },
    {
     "name": "stderr",
     "output_type": "stream",
     "text": [
      "Epoch 25/27 [TRAIN] LR: 2.34e-05 Teach: 0.10 Scheduler: OneCycleLR:   0%|          | 1/978 [00:07<1:54:05,  7.01s/it, loss=0.723]"
     ]
    },
    {
     "name": "stdout",
     "output_type": "stream",
     "text": [
      "\n",
      "--- Training Batch 0 Examples (Content Only) ---\n",
      "  Pred: '29X163449'\n",
      "  True: '29X163449'\n",
      "  Pred: '36D00928'\n",
      "  True: '36D00928'\n",
      "  Pred: '36A39662'\n",
      "  True: '36A39662'\n",
      "  Pred: '29Y54896'\n",
      "  True: '29Y54896'\n",
      "  Pred: '36A07351'\n",
      "  True: '36A07351'\n",
      "-------------------------------\n"
     ]
    },
    {
     "name": "stderr",
     "output_type": "stream",
     "text": [
      "Epoch 25/27 [TRAIN] LR: 2.34e-05 Teach: 0.10 Scheduler: OneCycleLR: 100%|██████████| 978/978 [22:26<00:00,  1.38s/it, loss=0.86]\n",
      "Epoch 25/27 [VAL]: 100%|██████████| 113/113 [03:15<00:00,  1.73s/it, loss=0.869]\n"
     ]
    },
    {
     "name": "stdout",
     "output_type": "stream",
     "text": [
      "EarlyStopping counter: 1/7 (Best val_acc: 0.9305)\n",
      "\n",
      "Epoch 25/27 | LR: 1.05e-05 | Teach: 0.10 | Scheduler: OneCycleLR\n",
      "  Train Loss: 0.7721 | Train Char Acc: 0.9701\n",
      "  Val Loss: 0.8690   | Val Acc (CRR): 0.9307\n",
      "  Val Exact Match Acc (E2E RR): 0.6749\n",
      "  Inference time avg: 13.1384\n",
      "  FPS: 76.1127\n",
      "----------------------------------------------------------------------\n",
      "*** New best validation accuracy: 0.9307. Saving best_model.pth ***\n"
     ]
    },
    {
     "name": "stderr",
     "output_type": "stream",
     "text": [
      "Epoch 26/27 [TRAIN] LR: 1.05e-05 Teach: 0.08 Scheduler: OneCycleLR:   0%|          | 1/978 [00:06<1:48:29,  6.66s/it, loss=0.847]"
     ]
    },
    {
     "name": "stdout",
     "output_type": "stream",
     "text": [
      "\n",
      "--- Training Batch 0 Examples (Content Only) ---\n",
      "  Pred: '29Z0831'\n",
      "  True: '29Z0831'\n",
      "  Pred: '36A08565'\n",
      "  True: '36A08565'\n",
      "  Pred: '30X7838'\n",
      "  True: '30X7838'\n",
      "  Pred: '29C29981'\n",
      "  True: '29C29891'\n",
      "  Pred: '36B00055'\n",
      "  True: '36B00055'\n",
      "-------------------------------\n"
     ]
    },
    {
     "name": "stderr",
     "output_type": "stream",
     "text": [
      "Epoch 26/27 [TRAIN] LR: 1.05e-05 Teach: 0.08 Scheduler: OneCycleLR: 100%|██████████| 978/978 [22:22<00:00,  1.37s/it, loss=0.758]\n",
      "Epoch 26/27 [VAL]: 100%|██████████| 113/113 [03:17<00:00,  1.75s/it, loss=0.864]\n"
     ]
    },
    {
     "name": "stdout",
     "output_type": "stream",
     "text": [
      "EarlyStopping: New best val_acc: 0.9312\n",
      "\n",
      "Epoch 26/27 | LR: 2.63e-06 | Teach: 0.08 | Scheduler: OneCycleLR\n",
      "  Train Loss: 0.7726 | Train Char Acc: 0.9699\n",
      "  Val Loss: 0.8677   | Val Acc (CRR): 0.9312\n",
      "  Val Exact Match Acc (E2E RR): 0.6760\n",
      "  Inference time avg: 13.1291\n",
      "  FPS: 76.1665\n",
      "----------------------------------------------------------------------\n",
      "*** New best validation accuracy: 0.9312. Saving best_model.pth ***\n"
     ]
    },
    {
     "name": "stderr",
     "output_type": "stream",
     "text": [
      "Epoch 27/27 [TRAIN] LR: 2.63e-06 Teach: 0.05 Scheduler: OneCycleLR:   0%|          | 1/978 [00:05<1:32:31,  5.68s/it, loss=0.821]"
     ]
    },
    {
     "name": "stdout",
     "output_type": "stream",
     "text": [
      "\n",
      "--- Training Batch 0 Examples (Content Only) ---\n",
      "  Pred: '36C12891'\n",
      "  True: '36C12891'\n",
      "  Pred: '37K50991'\n",
      "  True: '37K50991'\n",
      "  Pred: '34D106496'\n",
      "  True: '34D106496'\n",
      "  Pred: '36D00929'\n",
      "  True: '36D00929'\n",
      "  Pred: '36C27544'\n",
      "  True: '36C27544'\n",
      "-------------------------------\n"
     ]
    },
    {
     "name": "stderr",
     "output_type": "stream",
     "text": [
      "Epoch 27/27 [TRAIN] LR: 2.63e-06 Teach: 0.05 Scheduler: OneCycleLR: 100%|██████████| 978/978 [21:52<00:00,  1.34s/it, loss=0.785]\n",
      "Epoch 27/27 [VAL]: 100%|██████████| 113/113 [03:18<00:00,  1.76s/it, loss=0.863]\n"
     ]
    },
    {
     "name": "stdout",
     "output_type": "stream",
     "text": [
      "EarlyStopping counter: 1/7 (Best val_acc: 0.9312)\n",
      "\n",
      "Epoch 27/27 | LR: 5.01e-09 | Teach: 0.05 | Scheduler: OneCycleLR\n",
      "  Train Loss: 0.7719 | Train Char Acc: 0.9704\n",
      "  Val Loss: 0.8674   | Val Acc (CRR): 0.9309\n",
      "  Val Exact Match Acc (E2E RR): 0.6763\n",
      "  Inference time avg: 13.1432\n",
      "  FPS: 76.0852\n",
      "----------------------------------------------------------------------\n",
      "\n",
      "Training completed!\n",
      "Final val accuracy (Greedy Character Level): 0.9309\n",
      "Final val accuracy (Constrained Length Exact Match): 0.6763\n"
     ]
    },
    {
     "data": {
      "image/png": "[encoded data removed]",
      "text/plain": [
       "<Figure size 1800x1200 with 2 Axes>"
      ]
     },
     "metadata": {},
     "output_type": "display_data"
    },
    {
     "name": "stdout",
     "output_type": "stream",
     "text": [
      "Saved plots to performance_plots.png\n"
     ]
    }
   ],
   "source": [
    "import torch\n",
    "import torch.nn as nn\n",
    "from ultralytics import YOLO\n",
    "from torch.nn import MultiheadAttention\n",
    "from torchvision import transforms\n",
    "from PIL import Image\n",
    "import random\n",
    "import os\n",
    "from torch.utils.data import Dataset, DataLoader, Sampler, Subset, SubsetRandomSampler\n",
    "import numpy as np\n",
    "from tqdm import tqdm\n",
    "import matplotlib.pyplot as plt\n",
    "from torchtoolbox.tools import mixup_data, mixup_criterion\n",
    "\n",
    "#--- Constants ---\n",
    "CHARACTERS = '0123456789ABCDEFGHIJKLMNOPQRSTUVWXYZ'\n",
    "SOS_TOKEN = 36\n",
    "EOS_TOKEN = 37\n",
    "PAD_TOKEN = len(CHARACTERS) + 2\n",
    "NUM_CLASSES = len(CHARACTERS) + 3  # SOS, EOS, PAD\n",
    "DEVICE = 'cuda' if torch.cuda.is_available() else 'cpu'\n",
    "\n",
    "#--- Utility functions ---\n",
    "def index_to_char(indices, include_special_tokens=False):\n",
    "    result = []\n",
    "    for i in indices:\n",
    "        i = i.item() if torch.is_tensor(i) else i\n",
    "        if i == SOS_TOKEN:\n",
    "            if include_special_tokens: result.append('[SOS]')\n",
    "        elif i == EOS_TOKEN:\n",
    "            if include_special_tokens: result.append('[EOS]')\n",
    "            break\n",
    "        elif 0 <= i < len(CHARACTERS):\n",
    "            result.append(CHARACTERS[i])\n",
    "        else:\n",
    "            if include_special_tokens or i not in [SOS_TOKEN, EOS_TOKEN]:\n",
    "                result.append(f'[UNK_{i}]')\n",
    "    return ''.join(result)\n",
    "\n",
    "def char_to_indices(text):\n",
    "    indices = [SOS_TOKEN]\n",
    "    for c in text:\n",
    "        if c in CHARACTERS:\n",
    "            indices.append(CHARACTERS.index(c))\n",
    "        else:\n",
    "            indices.append(0)\n",
    "    indices.append(EOS_TOKEN)\n",
    "    return torch.tensor(indices, dtype=torch.long)\n",
    "\n",
    "#--- YOLO wrapper ---\n",
    "class YoloBackbone(nn.Module):\n",
    "    def __init__(self, model_path, target_feature_layer_index=9):\n",
    "        super().__init__()\n",
    "        _temp_yolo_instance = YOLO(model_path)\n",
    "        self.yolo_detection_model = _temp_yolo_instance.model\n",
    "        self.yolo_detection_model.to(DEVICE)\n",
    "        self.target_feature_layer_index = target_feature_layer_index\n",
    "\n",
    "        for name, param in self.yolo_detection_model.named_parameters():\n",
    "            param.requires_grad = True\n",
    "        \n",
    "        self._hook_handle = None\n",
    "        self._fmap_out_hook = []\n",
    "        \n",
    "        self._register_hook()\n",
    "\n",
    "    def _hook_fn_extractor(self, module, input_val, output_val):\n",
    "        if isinstance(output_val, torch.Tensor):\n",
    "            self._fmap_out_hook.append(output_val)\n",
    "        elif isinstance(output_val, (list, tuple)):\n",
    "            for item in output_val:\n",
    "                if isinstance(item, torch.Tensor):\n",
    "                    self._fmap_out_hook.append(item)\n",
    "                    break\n",
    "\n",
    "    def _register_hook(self):\n",
    "        layer_to_hook = self.yolo_detection_model.model[self.target_feature_layer_index]\n",
    "        self._hook_handle = layer_to_hook.register_forward_hook(self._hook_fn_extractor)\n",
    "\n",
    "    def _remove_hook(self):\n",
    "        if self._hook_handle:\n",
    "            self._hook_handle.remove()\n",
    "            self._hook_handle = None\n",
    "\n",
    "    def forward(self, x):\n",
    "        self._fmap_out_hook.clear()\n",
    "        _ = self.yolo_detection_model(x)\n",
    "        out_tensor = self._fmap_out_hook[0]\n",
    "        return out_tensor if out_tensor.dim() == 4 else out_tensor.unsqueeze(0)\n",
    "\n",
    "#--- Simplified RViT ---\n",
    "class RViT(nn.Module):\n",
    "    def __init__(self, yolo_channels=256, d_model=512, num_patches=1600, n_heads=8, num_encoder_layers=3, dim_feedforward=2048, dropout_rate=0.3):\n",
    "        super().__init__()\n",
    "        self.d_model = d_model\n",
    "        self.proj = nn.Sequential(\n",
    "            nn.Conv2d(yolo_channels, d_model, kernel_size=3, padding=1),\n",
    "            nn.BatchNorm2d(d_model),\n",
    "            nn.ReLU(),\n",
    "            nn.Dropout2d(dropout_rate if dropout_rate > 0 else 0)\n",
    "        )\n",
    "        encoder_layer = nn.TransformerEncoderLayer(\n",
    "            d_model=d_model, nhead=n_heads, dim_feedforward=dim_feedforward,\n",
    "            dropout=dropout_rate, batch_first=True, norm_first=True\n",
    "        )\n",
    "        self.encoder = nn.TransformerEncoder(encoder_layer, num_layers=num_encoder_layers)\n",
    "\n",
    "        self.pos_embed = nn.Parameter(torch.randn(1, num_patches + 1, d_model))\n",
    "        self.region_q = nn.Parameter(torch.zeros(1, 1, d_model))\n",
    "        \n",
    "        self.embed = nn.Embedding(NUM_CLASSES, d_model)\n",
    "        self.lstm_num_layers = 1\n",
    "        self.lstm = nn.LSTM(d_model, d_model, num_layers=self.lstm_num_layers, batch_first=True,\n",
    "                          dropout=dropout_rate if self.lstm_num_layers > 1 else 0)\n",
    "        self.attn = MultiheadAttention(d_model, num_heads=n_heads, batch_first=True, dropout=dropout_rate)\n",
    "        self.fc = nn.Sequential(\n",
    "            nn.Dropout(dropout_rate if dropout_rate > 0 else 0),\n",
    "            nn.Linear(2 * d_model, NUM_CLASSES)\n",
    "        )\n",
    "\n",
    "    def forward(self, fmap, target=None, teach_ratio=0.5, forced_output_length=None):\n",
    "        b = fmap.size(0)\n",
    "        x = self.proj(fmap)\n",
    "        x = x.flatten(2).permute(0, 2, 1)\n",
    "\n",
    "        current_num_patches = x.size(1)\n",
    "        expected_pos_embed_len = current_num_patches + 1\n",
    "        \n",
    "        if self.pos_embed.size(1) != expected_pos_embed_len:\n",
    "            if self.pos_embed.size(1) > expected_pos_embed_len:\n",
    "                pos_embed_to_add = self.pos_embed[:, :expected_pos_embed_len, :]\n",
    "            else:\n",
    "                raise ValueError(f\"RViT pos_embed second dim {self.pos_embed.size(1)} is smaller than required {expected_pos_embed_len}\")\n",
    "        else:\n",
    "            pos_embed_to_add = self.pos_embed\n",
    "\n",
    "        q = self.region_q.expand(b, -1, -1)\n",
    "        x = torch.cat([q, x], dim=1)\n",
    "        x = x + pos_embed_to_add\n",
    "\n",
    "        enc = self.encoder(x)\n",
    "        region_feat, spatial_feats = enc[:, 0], enc[:, 1:]\n",
    "        \n",
    "        if forced_output_length is not None:\n",
    "            max_gen_len = forced_output_length\n",
    "        elif target is not None:\n",
    "            max_gen_len = target.size(1) - 1\n",
    "        else:\n",
    "            max_gen_len = MAX_SEQ_LENGTH - 1\n",
    "\n",
    "        h = region_feat.unsqueeze(0).contiguous()\n",
    "        c = torch.zeros_like(h)\n",
    "        current_input_tokens = torch.full((b,), SOS_TOKEN, device=DEVICE, dtype=torch.long)\n",
    "        outputs_logits = []\n",
    "\n",
    "        finished_sequences_tracker = None\n",
    "        if target is None and forced_output_length is None:\n",
    "            finished_sequences_tracker = torch.zeros(b, dtype=torch.bool, device=DEVICE)\n",
    "            \n",
    "        for t in range(max_gen_len):\n",
    "            emb = self.embed(current_input_tokens).unsqueeze(1)\n",
    "            g, (h,c) = self.lstm(emb, (h,c))\n",
    "            a, _ = self.attn(g, spatial_feats, spatial_feats)\n",
    "            comb = torch.cat([g.squeeze(1), a.squeeze(1)], dim=-1)\n",
    "            logits_step = self.fc(comb)\n",
    "            outputs_logits.append(logits_step)\n",
    "\n",
    "            if target is not None and random.random() < teach_ratio:\n",
    "                next_input_candidate = target[:, t + 1]\n",
    "            else:\n",
    "                next_input_candidate = logits_step.argmax(-1)\n",
    "\n",
    "            if finished_sequences_tracker is not None:\n",
    "                eos_predicted_this_step = (next_input_candidate == EOS_TOKEN)\n",
    "                finished_sequences_tracker |= eos_predicted_this_step\n",
    "                current_input_tokens = torch.where(finished_sequences_tracker,\n",
    "                                                 torch.tensor(EOS_TOKEN, device=DEVICE, dtype=torch.long),\n",
    "                                                 next_input_candidate)\n",
    "                if finished_sequences_tracker.all():\n",
    "                    break\n",
    "            else:\n",
    "                current_input_tokens = next_input_candidate\n",
    "        \n",
    "        return torch.stack(outputs_logits, dim=1)\n",
    "\n",
    "#--- Full model (YOLO_RViT) ---\n",
    "class YOLO_RViT(nn.Module):\n",
    "    def __init__(self, yolo_path, yolo_target_feature_layer_idx=9):\n",
    "        super().__init__()\n",
    "        self.backbone = YoloBackbone(yolo_path, target_feature_layer_index=yolo_target_feature_layer_idx)\n",
    "        dummy_input = torch.randn(1, 3, 640, 640).to(DEVICE)\n",
    "        \n",
    "        original_backbone_training_mode = self.backbone.training\n",
    "        with torch.no_grad():\n",
    "            dummy_feats = self.backbone(dummy_input)\n",
    "        \n",
    "        yolo_channels = dummy_feats.shape[1]\n",
    "        h_feat, w_feat = dummy_feats.shape[2], dummy_feats.shape[3]\n",
    "        num_patches = h_feat * w_feat\n",
    "        \n",
    "        self.rvit = RViT(yolo_channels=yolo_channels, num_patches=num_patches).to(DEVICE)\n",
    "\n",
    "    def forward(self, x, target=None, teach_ratio=0.5, forced_output_length=None):\n",
    "        x = x.to(DEVICE)\n",
    "        feats = self.backbone(x)\n",
    "        return self.rvit(feats, target, teach_ratio, forced_output_length)\n",
    "\n",
    "    def train(self, mode: bool = True):\n",
    "        super().train(mode)\n",
    "        self.rvit.train(mode)\n",
    "        self.backbone.train(mode)\n",
    "        return self\n",
    "\n",
    "    def eval(self):\n",
    "        super().eval()\n",
    "        self.rvit.eval()\n",
    "        self.backbone.eval()\n",
    "        return self\n",
    "\n",
    "#--- Dataset ---\n",
    "class LicensePlateDataset(Dataset):\n",
    "    def __init__(self, img_dir, license_dir, max_seq_length=15, is_train=True):\n",
    "        self.img_dir = img_dir\n",
    "        self.license_dir = license_dir\n",
    "        self.max_seq_length = max_seq_length\n",
    "        self.img_names = [f for f in os.listdir(self.img_dir) if f.endswith(('.jpg'))]\n",
    "        if is_train:\n",
    "            self.transform = transforms.Compose([\n",
    "                transforms.Resize((640, 640)),\n",
    "                transforms.RandomApply([\n",
    "                    transforms.RandomRotation(10),\n",
    "                    transforms.RandomAffine(degrees=8, translate=(0.03, 0.03), scale=(0.95, 1.05)),\n",
    "                    transforms.RandomPerspective(distortion_scale=0.05, p=0.3),\n",
    "                ], p=0.7),\n",
    "                transforms.ColorJitter(brightness=0.2, contrast=0.2, saturation=0.2, hue=0.05),\n",
    "                transforms.RandomApply([transforms.GaussianBlur(kernel_size=3, sigma=(0.1, 1.0))], p=0.25),\n",
    "                transforms.ToTensor(),\n",
    "                transforms.RandomErasing(p=0.2, scale=(0.01, 0.04), ratio=(0.3, 3.3)),\n",
    "                transforms.Normalize(mean=[0.485, 0.456, 0.406], std=[0.229, 0.224, 0.225])\n",
    "            ])\n",
    "        else:\n",
    "            self.transform = transforms.Compose([\n",
    "                transforms.Resize((640, 640)),\n",
    "                transforms.ToTensor(),\n",
    "                transforms.Normalize(mean=[0.485, 0.456, 0.406], std=[0.229, 0.224, 0.225])\n",
    "            ])\n",
    "            \n",
    "    def __len__(self):\n",
    "        return len(self.img_names)\n",
    "\n",
    "    def __getitem__(self, idx):\n",
    "        img_path = os.path.join(self.img_dir, self.img_names[idx])\n",
    "        img = Image.open(img_path).convert(\"RGB\")\n",
    "        img_tensor = self.transform(img)\n",
    "        \n",
    "        license_filename = os.path.splitext(self.img_names[idx])[0] + \".txt\"\n",
    "        license_path = os.path.join(self.license_dir, license_filename)\n",
    "        try:\n",
    "            with open(license_path, 'r', encoding='utf-8') as f:\n",
    "                license_text = f.read().upper().strip()\n",
    "        except FileNotFoundError:\n",
    "            return img_tensor, torch.full((self.max_seq_length,), EOS_TOKEN, dtype=torch.long)\n",
    "        \n",
    "        license_indices = char_to_indices(license_text)\n",
    "        target = torch.full((self.max_seq_length,), PAD_TOKEN, dtype=torch.long)\n",
    "        \n",
    "        actual_len = min(len(license_indices), self.max_seq_length)\n",
    "        target[:actual_len] = license_indices[:actual_len]\n",
    "        \n",
    "        return img_tensor, target\n",
    "\n",
    "    @staticmethod\n",
    "    def collate_fn(batch):\n",
    "        images = torch.stack([item[0] for item in batch])\n",
    "        targets = torch.stack([item[1] for item in batch])\n",
    "        return images, targets\n",
    "\n",
    "#--- Early Stopping ---\n",
    "class EarlyStopping:\n",
    "    def __init__(self, patience=10, min_delta=0.0, monitor_metric='val_acc', mode='max', verbose=True):\n",
    "        self.patience = patience\n",
    "        self.min_delta = min_delta\n",
    "        self.monitor_metric = monitor_metric\n",
    "        self.mode = mode\n",
    "        self.verbose = verbose\n",
    "\n",
    "        if self.mode == 'min':\n",
    "            self.best_metric_val = np.Inf\n",
    "        else:\n",
    "            self.best_metric_val = -np.Inf\n",
    "        self.counter = 0\n",
    "        self.early_stop = False\n",
    "\n",
    "    def __call__(self, current_metric_val):\n",
    "        improved = False\n",
    "        if self.mode == 'min':\n",
    "            if current_metric_val < self.best_metric_val - self.min_delta:\n",
    "                self.best_metric_val = current_metric_val\n",
    "                improved = True\n",
    "        else:\n",
    "            if current_metric_val > self.best_metric_val + self.min_delta:\n",
    "                self.best_metric_val = current_metric_val\n",
    "                improved = True\n",
    "        \n",
    "        if improved:\n",
    "            self.counter = 0\n",
    "            if self.verbose:\n",
    "                print(f\"EarlyStopping: New best {self.monitor_metric}: {self.best_metric_val:.4f}\")\n",
    "        else:\n",
    "            self.counter += 1\n",
    "\n",
    "        if self.verbose and self.counter > 0 and not improved:\n",
    "            print(f\"EarlyStopping counter: {self.counter}/{self.patience} (Best {self.monitor_metric}: {self.best_metric_val:.4f})\")\n",
    "        if self.counter >= self.patience:\n",
    "            self.early_stop = True\n",
    "            if self.verbose:\n",
    "                print(f\"Early stopping triggered for {self.monitor_metric}.\")\n",
    "        return self.counter\n",
    "\n",
    "#--- Training ---\n",
    "YOLO_MODEL_PATH = '/kaggle/input/yolov10s/pytorch/default/1/best.pt'\n",
    "YOLO_TARGET_FEATURE_LAYER_INDEX = 13\n",
    "\n",
    "IMG_DIR_TRAIN = \"/kaggle/input/dataset-lpr-test/License_plate_data2/images/train\"\n",
    "LICENSE_DIR_TRAIN = \"/kaggle/input/dataset-lpr-test/License_plate_data2/text/train\"\n",
    "IMG_DIR_VAL = \"/kaggle/input/dataset-lpr-test/License_plate_data2/images/val\"\n",
    "LICENSE_DIR_VAL = \"/kaggle/input/dataset-lpr-test/License_plate_data2/text/val\"\n",
    "IMG_DIR_TEST = \"/kaggle/input/dataset-lpr-test/License_plate_data2/images/test\"\n",
    "LICENSE_DIR_TEST = \"/kaggle/input/dataset-lpr-test/License_plate_data2/text/test\"\n",
    "\n",
    "MAX_SEQ_LENGTH = 15\n",
    "BATCH_SIZE = 32\n",
    "NUM_WORKERS = 4\n",
    "LEARNING_RATE = 5e-5\n",
    "MAX_LR_SCHEDULER = 5e-4\n",
    "WEIGHT_DECAY = 5e-5\n",
    "NUM_EPOCHS = 27\n",
    "ACCUM_STEPS = 2\n",
    "PATIENCE_EARLY_STOP = 7\n",
    "TEACH_RATIO_START = 0.7\n",
    "TEACH_RATIO_END = 0.05\n",
    "LABEL_SMOOTHING = 0.1\n",
    "\n",
    "scaler = torch.amp.GradScaler(DEVICE)\n",
    "autocast_context = lambda: torch.amp.autocast(DEVICE)\n",
    "\n",
    "train_dataset_full = LicensePlateDataset(img_dir=IMG_DIR_TRAIN, license_dir=LICENSE_DIR_TRAIN, max_seq_length=MAX_SEQ_LENGTH, is_train=True)\n",
    "val_dataset = LicensePlateDataset(img_dir=IMG_DIR_VAL, license_dir=LICENSE_DIR_VAL, max_seq_length=MAX_SEQ_LENGTH, is_train=False)\n",
    "\n",
    "train_dataloader = DataLoader(train_dataset_full, batch_size=BATCH_SIZE, shuffle=True, num_workers=NUM_WORKERS, collate_fn=LicensePlateDataset.collate_fn, pin_memory=(DEVICE == 'cuda'), drop_last=True)\n",
    "val_dataloader = DataLoader(val_dataset, batch_size=BATCH_SIZE, shuffle=False, num_workers=NUM_WORKERS, collate_fn=LicensePlateDataset.collate_fn, pin_memory=(DEVICE == 'cuda'))\n",
    "\n",
    "model = YOLO_RViT(YOLO_MODEL_PATH, yolo_target_feature_layer_idx=YOLO_TARGET_FEATURE_LAYER_INDEX).to(DEVICE)\n",
    "\n",
    "optimizer = torch.optim.AdamW(\n",
    "    model.parameters(),\n",
    "    lr=LEARNING_RATE,\n",
    "    weight_decay=WEIGHT_DECAY\n",
    ")\n",
    "\n",
    "scheduler = torch.optim.lr_scheduler.OneCycleLR(\n",
    "    optimizer, max_lr=MAX_LR_SCHEDULER,\n",
    "    epochs=NUM_EPOCHS,\n",
    "    steps_per_epoch=(len(train_dataloader) + ACCUM_STEPS - 1) // ACCUM_STEPS,\n",
    "    pct_start=0.2,\n",
    "    div_factor=(MAX_LR_SCHEDULER / LEARNING_RATE) if MAX_LR_SCHEDULER > LEARNING_RATE else 10.0\n",
    ")\n",
    "scheduler_type = \"OneCycleLR\"\n",
    "\n",
    "loss_fn = nn.CrossEntropyLoss(ignore_index=PAD_TOKEN, label_smoothing=LABEL_SMOOTHING)\n",
    "early_stopper = EarlyStopping(patience=PATIENCE_EARLY_STOP, min_delta=0.0005, monitor_metric='val_acc', mode='max', verbose=True)\n",
    "\n",
    "train_loss_values, val_loss_values = [], []\n",
    "train_acc_values, val_acc_values, val_acc_constrained_values = [], [], []\n",
    "epoch_count_list = []\n",
    "best_val_acc = 0.0\n",
    "\n",
    "for epoch in range(NUM_EPOCHS):\n",
    "    epoch_count_list.append(epoch + 1)\n",
    "    model.train()\n",
    "    train_loss, train_correct, train_total_chars = 0, 0, 0\n",
    "\n",
    "    teach_ratio = TEACH_RATIO_START - (TEACH_RATIO_START - TEACH_RATIO_END) * (epoch / max(1, NUM_EPOCHS - 1))\n",
    "\n",
    "    optimizer.zero_grad()\n",
    "\n",
    "    pbar_train = tqdm(train_dataloader, desc=f\"Epoch {epoch+1}/{NUM_EPOCHS} [TRAIN] LR: {optimizer.param_groups[0]['lr']:.2e} Teach: {teach_ratio:.2f} Scheduler: {scheduler_type}\")\n",
    "    for batch_idx, (imgs, targets) in enumerate(pbar_train):\n",
    "        imgs, targets = imgs.to(DEVICE, non_blocking=True), targets.to(DEVICE, non_blocking=True)\n",
    "        \n",
    "        with autocast_context():\n",
    "            outputs = model(imgs, target=targets, teach_ratio=teach_ratio)\n",
    "            flat_outputs = outputs.reshape(-1, NUM_CLASSES)\n",
    "            flat_targets = targets[:, 1:].reshape(-1)\n",
    "            loss = loss_fn(flat_outputs, flat_targets)\n",
    "            loss = loss / ACCUM_STEPS\n",
    "            \n",
    "        scaler.scale(loss).backward()\n",
    "        \n",
    "        if (batch_idx + 1) % ACCUM_STEPS == 0 or (batch_idx + 1) == len(train_dataloader):\n",
    "            torch.nn.utils.clip_grad_norm_(filter(lambda p: p.requires_grad, model.parameters()), max_norm=1.0)\n",
    "            scaler.step(optimizer)\n",
    "            scaler.update()\n",
    "            optimizer.zero_grad()\n",
    "            if scheduler_type == \"OneCycleLR\":\n",
    "                scheduler.step()\n",
    "\n",
    "        train_loss += loss.item() * ACCUM_STEPS\n",
    "        with torch.no_grad():\n",
    "            preds = outputs.argmax(-1)\n",
    "            true_chars = targets[:, 1:]\n",
    "            for i in range(imgs.size(0)):\n",
    "                pred_seq_list_train = preds[i].tolist()\n",
    "                if EOS_TOKEN in pred_seq_list_train:\n",
    "                    pred_seq_list_train = pred_seq_list_train[:pred_seq_list_train.index(EOS_TOKEN)]\n",
    "                \n",
    "                true_seq_list_train = true_chars[i].tolist()\n",
    "                true_content_train = [x for x in true_seq_list_train if x not in [EOS_TOKEN, PAD_TOKEN]]\n",
    "                len_true_content_train = len(true_content_train)\n",
    "                \n",
    "                cmp_len = min(len(pred_seq_list_train), len_true_content_train)\n",
    "                if cmp_len > 0:\n",
    "                    train_correct += (torch.tensor(pred_seq_list_train[:cmp_len]) == torch.tensor(true_content_train[:cmp_len])).sum().item()\n",
    "                \n",
    "                train_total_chars += len_true_content_train\n",
    "\n",
    "            if batch_idx == 0 and epoch % 1 == 0 and imgs.size(0) > 0:\n",
    "                print(\"\\n--- Training Batch 0 Examples (Content Only) ---\")\n",
    "                for i in range(min(5, imgs.size(0))):\n",
    "                    pred_batch_i_list = preds[i].tolist()\n",
    "                    pred_example = index_to_char(pred_batch_i_list)\n",
    "                    true_batch_i_list = true_chars[i].tolist()\n",
    "                    true_example = index_to_char(true_batch_i_list)\n",
    "                    print(f\"  Pred: '{pred_example}'\")\n",
    "                    print(f\"  True: '{true_example}'\")\n",
    "                print(\"-------------------------------\")\n",
    "        \n",
    "        pbar_train.set_postfix(loss=loss.item() * ACCUM_STEPS)\n",
    "\n",
    "    avg_train_loss = train_loss / len(train_dataloader) if len(train_dataloader) > 0 else 0\n",
    "    avg_train_acc = train_correct / train_total_chars if train_total_chars > 0 else 0\n",
    "    train_loss_values.append(avg_train_loss)\n",
    "    train_acc_values.append(avg_train_acc)\n",
    "\n",
    "    # --- Validation Loop ---\n",
    "    model.eval()\n",
    "    val_loss, val_correct, val_total_chars, val_correct_constrained, val_total_sequences_constrained = 0, 0, 0, 0, 0\n",
    "    total_inference_time = 0  # Biến để tính tổng thời gian suy luận\n",
    "    num_samples = 0  # Đếm số mẫu để tính FPS\n",
    "    pbar_val = tqdm(val_dataloader, desc=f\"Epoch {epoch+1}/{NUM_EPOCHS} [VAL]\")\n",
    "    with torch.no_grad():\n",
    "        for imgs, targets in pbar_val:\n",
    "            imgs, targets = imgs.to(DEVICE, non_blocking=True), targets.to(DEVICE, non_blocking=True)\n",
    "\n",
    "            batch_size = imgs.size(0)\n",
    "            num_samples += batch_size\n",
    "            # Đo thời gian suy luận\n",
    "            start_event = torch.cuda.Event(enable_timing=True)\n",
    "            end_event = torch.cuda.Event(enable_timing=True)\n",
    "            start_event.record()\n",
    "            \n",
    "            with autocast_context():\n",
    "                outputs = model(imgs, target=None, teach_ratio=0.0)\n",
    "                out_seq_len_val = outputs.size(1)\n",
    "                tgt_content_len_val = targets.size(1) - 1\n",
    "                if out_seq_len_val > tgt_content_len_val:\n",
    "                    outputs_for_loss_val = outputs[:, :tgt_content_len_val, :]\n",
    "                elif out_seq_len_val < tgt_content_len_val:\n",
    "                    padding_val_val = torch.zeros(outputs.size(0), tgt_content_len_val - out_seq_len_val, NUM_CLASSES, device=DEVICE)\n",
    "                    padding_val_val[:,:,PAD_TOKEN] = 1\n",
    "                    outputs_for_loss_val = torch.cat([outputs, padding_val_val], dim=1)\n",
    "                else:\n",
    "                    outputs_for_loss_val = outputs\n",
    "                flat_outputs_val = outputs_for_loss_val.reshape(-1, NUM_CLASSES)\n",
    "                flat_targets_val = targets[:, 1:].reshape(-1)\n",
    "                loss = loss_fn(flat_outputs_val, flat_targets_val)\n",
    "            \n",
    "            end_event.record()\n",
    "            torch.cuda.synchronize()\n",
    "            inference_time_ms = start_event.elapsed_time(end_event)\n",
    "            total_inference_time += inference_time_ms\n",
    "        \n",
    "            val_loss += loss.item()\n",
    "            preds_val = outputs_for_loss_val.argmax(-1)\n",
    "            true_chars_val = targets[:, 1:]\n",
    "            for i in range(imgs.size(0)):\n",
    "                pred_seq_val_list = preds_val[i].tolist()\n",
    "                if EOS_TOKEN in pred_seq_val_list:\n",
    "                    pred_seq_val_list = pred_seq_val_list[:pred_seq_val_list.index(EOS_TOKEN)]\n",
    "                \n",
    "                true_seq_val_list = true_chars_val[i].tolist()\n",
    "                true_content_val = [x for x in true_seq_val_list if x not in [EOS_TOKEN, PAD_TOKEN]]\n",
    "                len_true_content_val = len(true_content_val)\n",
    "\n",
    "                cmp_len_val = min(len(pred_seq_val_list), len_true_content_val)\n",
    "                if cmp_len_val > 0:\n",
    "                    val_correct += (torch.tensor(pred_seq_val_list[:cmp_len_val]) == torch.tensor(true_content_val[:cmp_len_val])).sum().item()\n",
    "                val_total_chars += len_true_content_val\n",
    "\n",
    "                if len_true_content_val > 0:\n",
    "                    with autocast_context():\n",
    "                        outputs_constrained_sample = model(imgs[i:i+1], target=None, teach_ratio=0.0, forced_output_length=len_true_content_val)\n",
    "                    preds_constrained_sample = outputs_constrained_sample.argmax(-1).squeeze(0).tolist()\n",
    "                    final_preds_constrained = []\n",
    "                    for tk_id in preds_constrained_sample:\n",
    "                        if tk_id == EOS_TOKEN:\n",
    "                            break\n",
    "                        final_preds_constrained.append(tk_id)\n",
    "                    if final_preds_constrained == true_content_val:\n",
    "                        val_correct_constrained += 1\n",
    "                val_total_sequences_constrained += 1\n",
    "            \n",
    "            pbar_val.set_postfix(loss=loss.item())\n",
    "\n",
    "    avg_val_loss = val_loss / len(val_dataloader) if len(val_dataloader) > 0 else 0\n",
    "    avg_val_acc = val_correct / val_total_chars if val_total_chars > 0 else 0\n",
    "    avg_val_acc_constrained = val_correct_constrained / val_total_sequences_constrained if val_total_sequences_constrained > 0 else 0\n",
    "\n",
    "    avg_inference_time = total_inference_time / num_samples if num_samples > 0 else 0  # ms/sample\n",
    "    fps = 1000 / avg_inference_time if avg_inference_time > 0 else 0  # FPS = 1000ms / (ms/sample)\n",
    "    \n",
    "    val_loss_values.append(avg_val_loss)\n",
    "    val_acc_values.append(avg_val_acc)\n",
    "    val_acc_constrained_values.append(avg_val_acc_constrained)\n",
    "    \n",
    "    # Chuyển sang ReduceLROnPlateau nếu val_acc chững lại\n",
    "    counter = early_stopper(avg_val_acc)\n",
    "    if counter >= 2 and scheduler_type == \"OneCycleLR\":\n",
    "        print(f\"Val Acc stalled for {PATIENCE_EARLY_STOP} epochs. Switching to ReduceLROnPlateau.\")\n",
    "        scheduler = torch.optim.lr_scheduler.ReduceLROnPlateau(optimizer, mode='max', factor=0.5, patience=2, verbose=True)\n",
    "        scheduler_type = \"ReduceLROnPlateau\"\n",
    "    \n",
    "    # Cập nhật scheduler\n",
    "    if scheduler_type == \"ReduceLROnPlateau\":\n",
    "        scheduler.step(avg_val_acc)\n",
    "\n",
    "    if early_stopper.early_stop:\n",
    "        print(f\"--> Early stopping at epoch {epoch+1}\")\n",
    "        break\n",
    "    \n",
    "    print(f\"\\nEpoch {epoch+1}/{NUM_EPOCHS} | LR: {optimizer.param_groups[0]['lr']:.2e} | Teach: {teach_ratio:.2f} | Scheduler: {scheduler_type}\")\n",
    "    print(f\"  Train Loss: {avg_train_loss:.4f} | Train Char Acc: {avg_train_acc:.4f}\")\n",
    "    print(f\"  Val Loss: {avg_val_loss:.4f}   | Val Acc (CRR): {avg_val_acc:.4f}\")\n",
    "    print(f\"  Val Exact Match Acc (E2E RR): {avg_val_acc_constrained:.4f}\")\n",
    "    print(f\"  Inference time avg: {avg_inference_time:.4f}\")\n",
    "    print(f\"  FPS: {fps:.4f}\")\n",
    "    print(\"-\" * 70)\n",
    "\n",
    "    checkpoint_path = f\"yolo_rvit_model_epoch_{epoch + 1}.pth\"\n",
    "    torch.save({\n",
    "        'epoch': epoch,\n",
    "        'model_state_dict': model.state_dict(),\n",
    "        'optimizer_state_dict': optimizer.state_dict(),\n",
    "        'scheduler_state_dict': scheduler.state_dict(),\n",
    "        'val_loss': avg_val_loss,\n",
    "        'val_acc': avg_val_acc,\n",
    "        'val_acc_constrained': avg_val_acc_constrained,\n",
    "        'avg_inference_time': avg_inference_time,\n",
    "        'fps': fps\n",
    "    }, checkpoint_path)\n",
    "\n",
    "    if avg_val_acc > best_val_acc:\n",
    "        best_val_acc = avg_val_acc\n",
    "        print(f\"*** New best validation accuracy: {best_val_acc:.4f}. Saving best_model.pth ***\")\n",
    "        torch.save({\n",
    "            'epoch': epoch,\n",
    "            'model_state_dict': model.state_dict(),\n",
    "            'optimizer_state_dict': optimizer.state_dict(),\n",
    "            'scheduler_state_dict': scheduler.state_dict(),\n",
    "            'val_loss': avg_val_loss,\n",
    "            'val_acc': avg_val_acc,\n",
    "            'val_acc_constrained': avg_val_acc_constrained,\n",
    "            'avg_inference_time': avg_inference_time,\n",
    "            'fps': fps\n",
    "        }, \"best_yolo_rvit_model.pth\")\n",
    "\n",
    "final_epoch_val = epoch if 'epoch' in locals() and epoch is not None else NUM_EPOCHS - 1\n",
    "torch.save({\n",
    "    'epoch': final_epoch_val,\n",
    "    'model_state_dict': model.state_dict(),\n",
    "    'optimizer_state_dict': optimizer.state_dict(),\n",
    "    'scheduler_state_dict': scheduler.state_dict(),\n",
    "    'train_loss_history': train_loss_values,\n",
    "    'val_loss_history': val_loss_values,\n",
    "    'train_acc_history': train_acc_values,\n",
    "    'val_acc_history': val_acc_values,\n",
    "    'val_acc_constrained_history': val_acc_constrained_values,\n",
    "    'avg_inference_time': avg_inference_time,\n",
    "    'fps': fps\n",
    "}, \"final_yolo_rvit_model.pth\")\n",
    "\n",
    "print(\"\\nTraining completed!\")\n",
    "if val_acc_values:\n",
    "    print(f\"Final val accuracy (Greedy Character Level): {val_acc_values[-1]:.4f}\")\n",
    "if val_acc_constrained_values:\n",
    "    print(f\"Final val accuracy (Constrained Length Exact Match): {val_acc_constrained_values[-1]:.4f}\")\n",
    "\n",
    "# Plotting\n",
    "plt.figure(figsize=(18, 12))\n",
    "plt.subplot(2, 2, 1)\n",
    "plt.plot(epoch_count_list, train_loss_values, label='Train Loss', marker='o', linestyle='-')\n",
    "plt.plot(epoch_count_list, val_loss_values, label='Validation Loss', marker='s', linestyle='--')\n",
    "plt.title('Loss Curves')\n",
    "plt.xlabel('Epochs')\n",
    "plt.ylabel('Loss')\n",
    "plt.legend()\n",
    "plt.grid(True)\n",
    "\n",
    "plt.subplot(2, 2, 2)\n",
    "plt.plot(epoch_count_list, train_acc_values, label='Train Char Accuracy', marker='o', linestyle='-')\n",
    "plt.plot(epoch_count_list, val_acc_values, label='Validation Char Accuracy (Greedy)', marker='s', linestyle='--')\n",
    "plt.title('Character Accuracy')\n",
    "plt.xlabel('Epochs')\n",
    "plt.ylabel('Character Accuracy')\n",
    "plt.legend()\n",
    "plt.grid(True)\n",
    "\n",
    "plt.tight_layout()\n",
    "plt.savefig(\"performance_plots.png\")\n",
    "plt.show()\n",
    "print(\"Saved plots to performance_plots.png\")"
   ]
  },
  {
   "cell_type": "code",
   "execution_count": 3,
   "id": "3991b596",
   "metadata": {
    "_cell_guid": "c6156882-d802-4ac6-9e9d-ba6319169141",
    "_uuid": "4c9db39d-5e37-418e-8dbc-2034de3f3f5c",
    "collapsed": false,
    "execution": {
     "iopub.execute_input": "2025-06-08T16:28:48.394565Z",
     "iopub.status.busy": "2025-06-08T16:28:48.394102Z",
     "iopub.status.idle": "2025-06-08T16:28:49.421627Z",
     "shell.execute_reply": "2025-06-08T16:28:49.420860Z"
    },
    "jupyter": {
     "outputs_hidden": false
    },
    "papermill": {
     "duration": 3.765759,
     "end_time": "2025-06-08T16:28:49.424607",
     "exception": false,
     "start_time": "2025-06-08T16:28:45.658848",
     "status": "completed"
    },
    "tags": []
   },
   "outputs": [
    {
     "name": "stdout",
     "output_type": "stream",
     "text": [
      "Đang vẽ biểu đồ từ dữ liệu checkpoint...\n"
     ]
    },
    {
     "data": {
      "image/png": "[encoded data removed]",
      "text/plain": [
       "<Figure size 1800x1200 with 2 Axes>"
      ]
     },
     "metadata": {},
     "output_type": "display_data"
    },
    {
     "name": "stdout",
     "output_type": "stream",
     "text": [
      "Đã lưu biểu đồ vào checkpoint_performance_plots.png\n"
     ]
    }
   ],
   "source": [
    "#Vẽ biểu đồ\n",
    "import torch\n",
    "import matplotlib.pyplot as plt\n",
    "\n",
    "# --- Cấu hình ---\n",
    "file = \"/kaggle/working/final_yolo_rvit_model.pth\" # File chứa lịch sử\n",
    "\n",
    "# --- Tải Checkpoint ---\n",
    "checkpoint = torch.load(file, map_location=torch.device('cpu'))\n",
    "\n",
    "# --- Lấy dữ liệu lịch sử từ checkpoint ---\n",
    "train_loss_values = checkpoint.get('train_loss_history')\n",
    "val_loss_values = checkpoint.get('val_loss_history')\n",
    "test_loss_values = checkpoint.get('test_loss_history')\n",
    "\n",
    "train_acc_values = checkpoint.get('train_acc_history')\n",
    "val_acc_values = checkpoint.get('val_acc_history')\n",
    "test_acc_greedy_values = checkpoint.get('test_acc_greedy_history')\n",
    "\n",
    "\n",
    "# Tạo danh sách epoch_count_list dựa trên độ dài của dữ liệu lịch sử\n",
    "num_epochs_recorded = len(train_loss_values)\n",
    "epoch_count_list = list(range(1, num_epochs_recorded + 1))\n",
    "\n",
    "# --- Vẽ Biểu Đồ (tương tự code vẽ trước đó) ---\n",
    "print(\"Đang vẽ biểu đồ từ dữ liệu checkpoint...\")\n",
    "plt.figure(figsize=(18, 12))\n",
    "\n",
    "# Biểu đồ Loss\n",
    "plt.subplot(2, 2, 1)\n",
    "if train_loss_values:\n",
    "    plt.plot(epoch_count_list, train_loss_values, label='Train Loss', marker='o', linestyle='-')\n",
    "if val_loss_values:\n",
    "    plt.plot(epoch_count_list, val_loss_values, label='Validation Loss', marker='s', linestyle='--')\n",
    "if test_loss_values:\n",
    "    plt.plot(epoch_count_list, test_loss_values, label='Test Loss (Greedy)', marker='^', linestyle=':')\n",
    "plt.title('Loss Curves (from Checkpoint)')\n",
    "plt.xlabel('Epochs')\n",
    "plt.ylabel('Loss')\n",
    "plt.legend()\n",
    "plt.grid(True)\n",
    "\n",
    "# Biểu đồ Character Accuracy\n",
    "plt.subplot(2, 2, 2)\n",
    "if train_acc_values:\n",
    "    plt.plot(epoch_count_list, train_acc_values, label='Train Char Accuracy', marker='o', linestyle='-')\n",
    "if val_acc_values:\n",
    "    plt.plot(epoch_count_list, val_acc_values, label='Validation Char Accuracy (Greedy)', marker='s', linestyle='--')\n",
    "if test_acc_greedy_values:\n",
    "    plt.plot(epoch_count_list, test_acc_greedy_values, label='Test Char Accuracy (Greedy)', marker='^', linestyle=':')\n",
    "plt.title('Character Accuracy (from Checkpoint)')\n",
    "plt.xlabel('Epochs')\n",
    "plt.ylabel('Character Accuracy')\n",
    "plt.legend()\n",
    "plt.grid(True)\n",
    "\n",
    "\n",
    "plt.tight_layout()\n",
    "plt.savefig(\"checkpoint_performance_plots.png\")\n",
    "plt.show()\n",
    "print(\"Đã lưu biểu đồ vào checkpoint_performance_plots.png\")"
   ]
  },
  {
   "cell_type": "code",
   "execution_count": 4,
   "id": "1a10e51c",
   "metadata": {
    "_cell_guid": "1628c97f-bd95-40ab-9c22-a8bbca362ad6",
    "_uuid": "6c1e9df5-7b8f-4738-a947-2bd831283d4e",
    "collapsed": false,
    "execution": {
     "iopub.execute_input": "2025-06-08T16:28:54.931036Z",
     "iopub.status.busy": "2025-06-08T16:28:54.930613Z",
     "iopub.status.idle": "2025-06-08T16:28:54.938346Z",
     "shell.execute_reply": "2025-06-08T16:28:54.937707Z"
    },
    "jupyter": {
     "outputs_hidden": false
    },
    "papermill": {
     "duration": 2.7199,
     "end_time": "2025-06-08T16:28:54.939401",
     "exception": false,
     "start_time": "2025-06-08T16:28:52.219501",
     "status": "completed"
    },
    "tags": []
   },
   "outputs": [],
   "source": [
    "# import torch\n",
    "# from torchvision import transforms\n",
    "# from PIL import Image\n",
    "# import cv2\n",
    "\n",
    "# # --- Hàm tiền xử lý ảnh ---\n",
    "# def preprocess_image(image_path, image_size=(640, 640)):\n",
    "#     image = Image.open(image_path).convert(\"RGB\")\n",
    "#     plt.imshow(image)\n",
    "#     plt.axis('off')  # Tắt trục tọa độ\n",
    "#     plt.show()\n",
    "    \n",
    "#     transform = transforms.Compose([\n",
    "#         transforms.Resize(image_size),\n",
    "#         transforms.ToTensor(),\n",
    "#         transforms.Normalize(mean=[0.485, 0.456, 0.406], std=[0.229, 0.224, 0.225])\n",
    "#     ])\n",
    "#     img_tensor = transform(image)\n",
    "#     return img_tensor.unsqueeze(0) # Thêm batch dimension\n",
    "\n",
    "# # --- Hàm tải model và trọng số ---\n",
    "# def load_model_for_prediction(checkpoint_path, yolo_base_model_path, yolo_target_idx):\n",
    "#     model = YOLO_RViT(\n",
    "#         yolo_path=yolo_base_model_path,\n",
    "#         yolo_target_feature_layer_idx=yolo_target_idx\n",
    "#     )\n",
    "#     # Tải state_dict\n",
    "#     checkpoint = torch.load(checkpoint_path, map_location=torch.device(DEVICE))\n",
    "#     model.load_state_dict(checkpoint['model_state_dict'])\n",
    "           \n",
    "#     model.to(DEVICE)\n",
    "#     model.eval() # Chuyển model sang chế độ đánh giá (quan trọng!)\n",
    "#     return model\n",
    "\n",
    "# # --- Hàm dự đoán ---\n",
    "# def predict_license_plate(model, image_tensor, constrained_length=None):\n",
    "#     image_tensor = image_tensor.to(DEVICE)\n",
    "#     with torch.no_grad(): # Không cần tính gradient khi dự đoán\n",
    "#         # Cho dự đoán, target=None, teach_ratio=0.0\n",
    "#         # forced_output_length được sử dụng nếu bạn muốn kết quả có độ dài cố định\n",
    "#         outputs_logits = model(image_tensor, target=None, teach_ratio=0.0, forced_output_length=constrained_length)\n",
    "#         # outputs_logits có shape (batch_size, seq_len, num_classes)\n",
    "\n",
    "#     predicted_indices_tensor = outputs_logits.argmax(dim=-1)[0] # Shape: (seq_len,)\n",
    "#     predicted_indices_list = predicted_indices_tensor.cpu().tolist()\n",
    "\n",
    "#     predicted_text = index_to_char(predicted_indices_list, include_special_tokens=False)\n",
    "\n",
    "#     return predicted_text, predicted_indices_list\n",
    "\n",
    "\n",
    "\n",
    "# CHECKPOINT_TO_LOAD = \"/kaggle/working/best_yolo_rvit_model.pth\" # Đường dẫn đến model đã huấn luyện của bạn\n",
    "# YOLO_BASE_MODEL_PATH = \"/kaggle/input/yolov11s/Yolov11s.pt\" \n",
    "\n",
    "# IMAGE_TO_PREDICT = \"/kaggle/working/a_164337.jpg\" # THAY ĐỔI ĐƯỜNG DẪN NÀY\n",
    "\n",
    "# loaded_model = load_model_for_prediction(CHECKPOINT_TO_LOAD, YOLO_BASE_MODEL_PATH, 13)\n",
    "\n",
    "# input_tensor = preprocess_image(IMAGE_TO_PREDICT)\n",
    "\n",
    "# predicted_text, raw_indices = predict_license_plate(loaded_model, input_tensor)\n",
    "\n",
    "# print(f\"\\nẢnh đầu vào: {IMAGE_TO_PREDICT}\")\n",
    "# print(f\"Dự đoán biển số: '{predicted_text}'\")"
   ]
  }
 ],
 "metadata": {
  "kaggle": {
   "accelerator": "nvidiaTeslaT4",
   "dataSources": [
    {
     "datasetId": 7283240,
     "sourceId": 11903981,
     "sourceType": "datasetVersion"
    },
    {
     "isSourceIdPinned": false,
     "modelId": 342930,
     "modelInstanceId": 322242,
     "sourceId": 391359,
     "sourceType": "modelInstanceVersion"
    },
    {
     "isSourceIdPinned": false,
     "modelId": 354687,
     "modelInstanceId": 333688,
     "sourceId": 408422,
     "sourceType": "modelInstanceVersion"
    },
    {
     "isSourceIdPinned": false,
     "modelId": 354688,
     "modelInstanceId": 333689,
     "sourceId": 408424,
     "sourceType": "modelInstanceVersion"
    },
    {
     "isSourceIdPinned": true,
     "modelId": 354690,
     "modelInstanceId": 333691,
     "sourceId": 408426,
     "sourceType": "modelInstanceVersion"
    }
   ],
   "dockerImageVersionId": 31012,
   "isGpuEnabled": true,
   "isInternetEnabled": true,
   "language": "python",
   "sourceType": "notebook"
  },
  "kernelspec": {
   "display_name": "Python 3",
   "language": "python",
   "name": "python3"
  },
  "language_info": {
   "codemirror_mode": {
    "name": "ipython",
    "version": 3
   },
   "file_extension": ".py",
   "mimetype": "text/x-python",
   "name": "python",
   "nbconvert_exporter": "python",
   "pygments_lexer": "ipython3",
   "version": "3.11.11"
  },
  "papermill": {
   "default_parameters": {},
   "duration": 41545.562851,
   "end_time": "2025-06-08T16:29:01.146201",
   "environment_variables": {},
   "exception": null,
   "input_path": "__notebook__.ipynb",
   "output_path": "__notebook__.ipynb",
   "parameters": {},
   "start_time": "2025-06-08T04:56:35.583350",
   "version": "2.6.0"
  }
 },
 "nbformat": 4,
 "nbformat_minor": 5
}
