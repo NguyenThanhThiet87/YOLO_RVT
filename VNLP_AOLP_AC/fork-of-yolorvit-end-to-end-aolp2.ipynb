{
 "cells": [
  {
   "cell_type": "code",
   "execution_count": 1,
   "id": "492dc099",
   "metadata": {
    "_cell_guid": "f9bc56b4-79c1-49b6-9c94-f38f0cff9be5",
    "_uuid": "0842bc2c-9fe4-4931-accc-87cf5dc5e055",
    "collapsed": false,
    "execution": {
     "iopub.execute_input": "2025-08-26T00:18:30.294739Z",
     "iopub.status.busy": "2025-08-26T00:18:30.294526Z",
     "iopub.status.idle": "2025-08-26T00:19:50.743882Z",
     "shell.execute_reply": "2025-08-26T00:19:50.742881Z"
    },
    "jupyter": {
     "outputs_hidden": false
    },
    "papermill": {
     "duration": 80.455367,
     "end_time": "2025-08-26T00:19:50.745462",
     "exception": false,
     "start_time": "2025-08-26T00:18:30.290095",
     "status": "completed"
    },
    "tags": []
   },
   "outputs": [
    {
     "name": "stdout",
     "output_type": "stream",
     "text": [
      "Collecting ultralytics\r\n",
      "  Downloading ultralytics-8.3.186-py3-none-any.whl.metadata (37 kB)\r\n",
      "Requirement already satisfied: numpy>=1.23.0 in /usr/local/lib/python3.11/dist-packages (from ultralytics) (1.26.4)\r\n",
      "Requirement already satisfied: matplotlib>=3.3.0 in /usr/local/lib/python3.11/dist-packages (from ultralytics) (3.7.5)\r\n",
      "Requirement already satisfied: opencv-python>=4.6.0 in /usr/local/lib/python3.11/dist-packages (from ultralytics) (4.11.0.86)\r\n",
      "Requirement already satisfied: pillow>=7.1.2 in /usr/local/lib/python3.11/dist-packages (from ultralytics) (11.1.0)\r\n",
      "Requirement already satisfied: pyyaml>=5.3.1 in /usr/local/lib/python3.11/dist-packages (from ultralytics) (6.0.2)\r\n",
      "Requirement already satisfied: requests>=2.23.0 in /usr/local/lib/python3.11/dist-packages (from ultralytics) (2.32.3)\r\n",
      "Requirement already satisfied: scipy>=1.4.1 in /usr/local/lib/python3.11/dist-packages (from ultralytics) (1.15.2)\r\n",
      "Requirement already satisfied: torch>=1.8.0 in /usr/local/lib/python3.11/dist-packages (from ultralytics) (2.5.1+cu124)\r\n",
      "Requirement already satisfied: torchvision>=0.9.0 in /usr/local/lib/python3.11/dist-packages (from ultralytics) (0.20.1+cu124)\r\n",
      "Requirement already satisfied: psutil in /usr/local/lib/python3.11/dist-packages (from ultralytics) (7.0.0)\r\n",
      "Requirement already satisfied: py-cpuinfo in /usr/local/lib/python3.11/dist-packages (from ultralytics) (9.0.0)\r\n",
      "Requirement already satisfied: pandas>=1.1.4 in /usr/local/lib/python3.11/dist-packages (from ultralytics) (2.2.3)\r\n",
      "Collecting ultralytics-thop>=2.0.0 (from ultralytics)\r\n",
      "  Downloading ultralytics_thop-2.0.16-py3-none-any.whl.metadata (14 kB)\r\n",
      "Requirement already satisfied: contourpy>=1.0.1 in /usr/local/lib/python3.11/dist-packages (from matplotlib>=3.3.0->ultralytics) (1.3.1)\r\n",
      "Requirement already satisfied: cycler>=0.10 in /usr/local/lib/python3.11/dist-packages (from matplotlib>=3.3.0->ultralytics) (0.12.1)\r\n",
      "Requirement already satisfied: fonttools>=4.22.0 in /usr/local/lib/python3.11/dist-packages (from matplotlib>=3.3.0->ultralytics) (4.56.0)\r\n",
      "Requirement already satisfied: kiwisolver>=1.0.1 in /usr/local/lib/python3.11/dist-packages (from matplotlib>=3.3.0->ultralytics) (1.4.8)\r\n",
      "Requirement already satisfied: packaging>=20.0 in /usr/local/lib/python3.11/dist-packages (from matplotlib>=3.3.0->ultralytics) (24.2)\r\n",
      "Requirement already satisfied: pyparsing>=2.3.1 in /usr/local/lib/python3.11/dist-packages (from matplotlib>=3.3.0->ultralytics) (3.2.1)\r\n",
      "Requirement already satisfied: python-dateutil>=2.7 in /usr/local/lib/python3.11/dist-packages (from matplotlib>=3.3.0->ultralytics) (2.9.0.post0)\r\n",
      "Requirement already satisfied: mkl_fft in /usr/local/lib/python3.11/dist-packages (from numpy>=1.23.0->ultralytics) (1.3.8)\r\n",
      "Requirement already satisfied: mkl_random in /usr/local/lib/python3.11/dist-packages (from numpy>=1.23.0->ultralytics) (1.2.4)\r\n",
      "Requirement already satisfied: mkl_umath in /usr/local/lib/python3.11/dist-packages (from numpy>=1.23.0->ultralytics) (0.1.1)\r\n",
      "Requirement already satisfied: mkl in /usr/local/lib/python3.11/dist-packages (from numpy>=1.23.0->ultralytics) (2025.1.0)\r\n",
      "Requirement already satisfied: tbb4py in /usr/local/lib/python3.11/dist-packages (from numpy>=1.23.0->ultralytics) (2022.1.0)\r\n",
      "Requirement already satisfied: mkl-service in /usr/local/lib/python3.11/dist-packages (from numpy>=1.23.0->ultralytics) (2.4.1)\r\n",
      "Requirement already satisfied: pytz>=2020.1 in /usr/local/lib/python3.11/dist-packages (from pandas>=1.1.4->ultralytics) (2025.2)\r\n",
      "Requirement already satisfied: tzdata>=2022.7 in /usr/local/lib/python3.11/dist-packages (from pandas>=1.1.4->ultralytics) (2025.2)\r\n",
      "Requirement already satisfied: charset-normalizer<4,>=2 in /usr/local/lib/python3.11/dist-packages (from requests>=2.23.0->ultralytics) (3.4.1)\r\n",
      "Requirement already satisfied: idna<4,>=2.5 in /usr/local/lib/python3.11/dist-packages (from requests>=2.23.0->ultralytics) (3.10)\r\n",
      "Requirement already satisfied: urllib3<3,>=1.21.1 in /usr/local/lib/python3.11/dist-packages (from requests>=2.23.0->ultralytics) (2.3.0)\r\n",
      "Requirement already satisfied: certifi>=2017.4.17 in /usr/local/lib/python3.11/dist-packages (from requests>=2.23.0->ultralytics) (2025.1.31)\r\n",
      "Requirement already satisfied: filelock in /usr/local/lib/python3.11/dist-packages (from torch>=1.8.0->ultralytics) (3.18.0)\r\n",
      "Requirement already satisfied: typing-extensions>=4.8.0 in /usr/local/lib/python3.11/dist-packages (from torch>=1.8.0->ultralytics) (4.13.1)\r\n",
      "Requirement already satisfied: networkx in /usr/local/lib/python3.11/dist-packages (from torch>=1.8.0->ultralytics) (3.4.2)\r\n",
      "Requirement already satisfied: jinja2 in /usr/local/lib/python3.11/dist-packages (from torch>=1.8.0->ultralytics) (3.1.6)\r\n",
      "Requirement already satisfied: fsspec in /usr/local/lib/python3.11/dist-packages (from torch>=1.8.0->ultralytics) (2025.3.2)\r\n",
      "Requirement already satisfied: nvidia-cuda-nvrtc-cu12==12.4.127 in /usr/local/lib/python3.11/dist-packages (from torch>=1.8.0->ultralytics) (12.4.127)\r\n",
      "Requirement already satisfied: nvidia-cuda-runtime-cu12==12.4.127 in /usr/local/lib/python3.11/dist-packages (from torch>=1.8.0->ultralytics) (12.4.127)\r\n",
      "Requirement already satisfied: nvidia-cuda-cupti-cu12==12.4.127 in /usr/local/lib/python3.11/dist-packages (from torch>=1.8.0->ultralytics) (12.4.127)\r\n",
      "Collecting nvidia-cudnn-cu12==9.1.0.70 (from torch>=1.8.0->ultralytics)\r\n",
      "  Downloading nvidia_cudnn_cu12-9.1.0.70-py3-none-manylinux2014_x86_64.whl.metadata (1.6 kB)\r\n",
      "Collecting nvidia-cublas-cu12==12.4.5.8 (from torch>=1.8.0->ultralytics)\r\n",
      "  Downloading nvidia_cublas_cu12-12.4.5.8-py3-none-manylinux2014_x86_64.whl.metadata (1.5 kB)\r\n",
      "Collecting nvidia-cufft-cu12==11.2.1.3 (from torch>=1.8.0->ultralytics)\r\n",
      "  Downloading nvidia_cufft_cu12-11.2.1.3-py3-none-manylinux2014_x86_64.whl.metadata (1.5 kB)\r\n",
      "Collecting nvidia-curand-cu12==10.3.5.147 (from torch>=1.8.0->ultralytics)\r\n",
      "  Downloading nvidia_curand_cu12-10.3.5.147-py3-none-manylinux2014_x86_64.whl.metadata (1.5 kB)\r\n",
      "Collecting nvidia-cusolver-cu12==11.6.1.9 (from torch>=1.8.0->ultralytics)\r\n",
      "  Downloading nvidia_cusolver_cu12-11.6.1.9-py3-none-manylinux2014_x86_64.whl.metadata (1.6 kB)\r\n",
      "Collecting nvidia-cusparse-cu12==12.3.1.170 (from torch>=1.8.0->ultralytics)\r\n",
      "  Downloading nvidia_cusparse_cu12-12.3.1.170-py3-none-manylinux2014_x86_64.whl.metadata (1.6 kB)\r\n",
      "Requirement already satisfied: nvidia-nccl-cu12==2.21.5 in /usr/local/lib/python3.11/dist-packages (from torch>=1.8.0->ultralytics) (2.21.5)\r\n",
      "Requirement already satisfied: nvidia-nvtx-cu12==12.4.127 in /usr/local/lib/python3.11/dist-packages (from torch>=1.8.0->ultralytics) (12.4.127)\r\n",
      "Collecting nvidia-nvjitlink-cu12==12.4.127 (from torch>=1.8.0->ultralytics)\r\n",
      "  Downloading nvidia_nvjitlink_cu12-12.4.127-py3-none-manylinux2014_x86_64.whl.metadata (1.5 kB)\r\n",
      "Requirement already satisfied: triton==3.1.0 in /usr/local/lib/python3.11/dist-packages (from torch>=1.8.0->ultralytics) (3.1.0)\r\n",
      "Requirement already satisfied: sympy==1.13.1 in /usr/local/lib/python3.11/dist-packages (from torch>=1.8.0->ultralytics) (1.13.1)\r\n",
      "Requirement already satisfied: mpmath<1.4,>=1.1.0 in /usr/local/lib/python3.11/dist-packages (from sympy==1.13.1->torch>=1.8.0->ultralytics) (1.3.0)\r\n",
      "Requirement already satisfied: six>=1.5 in /usr/local/lib/python3.11/dist-packages (from python-dateutil>=2.7->matplotlib>=3.3.0->ultralytics) (1.17.0)\r\n",
      "Requirement already satisfied: MarkupSafe>=2.0 in /usr/local/lib/python3.11/dist-packages (from jinja2->torch>=1.8.0->ultralytics) (3.0.2)\r\n",
      "Requirement already satisfied: intel-openmp<2026,>=2024 in /usr/local/lib/python3.11/dist-packages (from mkl->numpy>=1.23.0->ultralytics) (2024.2.0)\r\n",
      "Requirement already satisfied: tbb==2022.* in /usr/local/lib/python3.11/dist-packages (from mkl->numpy>=1.23.0->ultralytics) (2022.1.0)\r\n",
      "Requirement already satisfied: tcmlib==1.* in /usr/local/lib/python3.11/dist-packages (from tbb==2022.*->mkl->numpy>=1.23.0->ultralytics) (1.2.0)\r\n",
      "Requirement already satisfied: intel-cmplr-lib-rt in /usr/local/lib/python3.11/dist-packages (from mkl_umath->numpy>=1.23.0->ultralytics) (2024.2.0)\r\n",
      "Requirement already satisfied: intel-cmplr-lib-ur==2024.2.0 in /usr/local/lib/python3.11/dist-packages (from intel-openmp<2026,>=2024->mkl->numpy>=1.23.0->ultralytics) (2024.2.0)\r\n",
      "Downloading ultralytics-8.3.186-py3-none-any.whl (1.1 MB)\r\n",
      "\u001b[2K   \u001b[90m━━━━━━━━━━━━━━━━━━━━━━━━━━━━━━━━━━━━━━━━\u001b[0m \u001b[32m1.1/1.1 MB\u001b[0m \u001b[31m18.6 MB/s\u001b[0m eta \u001b[36m0:00:00\u001b[0m\r\n",
      "\u001b[?25hDownloading nvidia_cublas_cu12-12.4.5.8-py3-none-manylinux2014_x86_64.whl (363.4 MB)\r\n",
      "\u001b[2K   \u001b[90m━━━━━━━━━━━━━━━━━━━━━━━━━━━━━━━━━━━━━━━━\u001b[0m \u001b[32m363.4/363.4 MB\u001b[0m \u001b[31m4.0 MB/s\u001b[0m eta \u001b[36m0:00:00\u001b[0m\r\n",
      "\u001b[?25hDownloading nvidia_cudnn_cu12-9.1.0.70-py3-none-manylinux2014_x86_64.whl (664.8 MB)\r\n",
      "\u001b[2K   \u001b[90m━━━━━━━━━━━━━━━━━━━━━━━━━━━━━━━━━━━━━━━━\u001b[0m \u001b[32m664.8/664.8 MB\u001b[0m \u001b[31m2.3 MB/s\u001b[0m eta \u001b[36m0:00:00\u001b[0m\r\n",
      "\u001b[?25hDownloading nvidia_cufft_cu12-11.2.1.3-py3-none-manylinux2014_x86_64.whl (211.5 MB)\r\n",
      "\u001b[2K   \u001b[90m━━━━━━━━━━━━━━━━━━━━━━━━━━━━━━━━━━━━━━━━\u001b[0m \u001b[32m211.5/211.5 MB\u001b[0m \u001b[31m8.1 MB/s\u001b[0m eta \u001b[36m0:00:00\u001b[0m\r\n",
      "\u001b[?25hDownloading nvidia_curand_cu12-10.3.5.147-py3-none-manylinux2014_x86_64.whl (56.3 MB)\r\n",
      "\u001b[2K   \u001b[90m━━━━━━━━━━━━━━━━━━━━━━━━━━━━━━━━━━━━━━━━\u001b[0m \u001b[32m56.3/56.3 MB\u001b[0m \u001b[31m31.2 MB/s\u001b[0m eta \u001b[36m0:00:00\u001b[0m\r\n",
      "\u001b[?25hDownloading nvidia_cusolver_cu12-11.6.1.9-py3-none-manylinux2014_x86_64.whl (127.9 MB)\r\n",
      "\u001b[2K   \u001b[90m━━━━━━━━━━━━━━━━━━━━━━━━━━━━━━━━━━━━━━━━\u001b[0m \u001b[32m127.9/127.9 MB\u001b[0m \u001b[31m13.7 MB/s\u001b[0m eta \u001b[36m0:00:00\u001b[0m\r\n",
      "\u001b[?25hDownloading nvidia_cusparse_cu12-12.3.1.170-py3-none-manylinux2014_x86_64.whl (207.5 MB)\r\n",
      "\u001b[2K   \u001b[90m━━━━━━━━━━━━━━━━━━━━━━━━━━━━━━━━━━━━━━━━\u001b[0m \u001b[32m207.5/207.5 MB\u001b[0m \u001b[31m7.3 MB/s\u001b[0m eta \u001b[36m0:00:00\u001b[0m\r\n",
      "\u001b[?25hDownloading nvidia_nvjitlink_cu12-12.4.127-py3-none-manylinux2014_x86_64.whl (21.1 MB)\r\n",
      "\u001b[2K   \u001b[90m━━━━━━━━━━━━━━━━━━━━━━━━━━━━━━━━━━━━━━━━\u001b[0m \u001b[32m21.1/21.1 MB\u001b[0m \u001b[31m18.1 MB/s\u001b[0m eta \u001b[36m0:00:00\u001b[0m\r\n",
      "\u001b[?25hDownloading ultralytics_thop-2.0.16-py3-none-any.whl (28 kB)\r\n",
      "Installing collected packages: nvidia-nvjitlink-cu12, nvidia-curand-cu12, nvidia-cufft-cu12, nvidia-cublas-cu12, nvidia-cusparse-cu12, nvidia-cudnn-cu12, nvidia-cusolver-cu12, ultralytics-thop, ultralytics\r\n",
      "  Attempting uninstall: nvidia-nvjitlink-cu12\r\n",
      "    Found existing installation: nvidia-nvjitlink-cu12 12.8.93\r\n",
      "    Uninstalling nvidia-nvjitlink-cu12-12.8.93:\r\n",
      "      Successfully uninstalled nvidia-nvjitlink-cu12-12.8.93\r\n",
      "  Attempting uninstall: nvidia-curand-cu12\r\n",
      "    Found existing installation: nvidia-curand-cu12 10.3.9.90\r\n",
      "    Uninstalling nvidia-curand-cu12-10.3.9.90:\r\n",
      "      Successfully uninstalled nvidia-curand-cu12-10.3.9.90\r\n",
      "  Attempting uninstall: nvidia-cufft-cu12\r\n",
      "    Found existing installation: nvidia-cufft-cu12 11.3.3.83\r\n",
      "    Uninstalling nvidia-cufft-cu12-11.3.3.83:\r\n",
      "      Successfully uninstalled nvidia-cufft-cu12-11.3.3.83\r\n",
      "  Attempting uninstall: nvidia-cublas-cu12\r\n",
      "    Found existing installation: nvidia-cublas-cu12 12.8.4.1\r\n",
      "    Uninstalling nvidia-cublas-cu12-12.8.4.1:\r\n",
      "      Successfully uninstalled nvidia-cublas-cu12-12.8.4.1\r\n",
      "  Attempting uninstall: nvidia-cusparse-cu12\r\n",
      "    Found existing installation: nvidia-cusparse-cu12 12.5.8.93\r\n",
      "    Uninstalling nvidia-cusparse-cu12-12.5.8.93:\r\n",
      "      Successfully uninstalled nvidia-cusparse-cu12-12.5.8.93\r\n",
      "  Attempting uninstall: nvidia-cudnn-cu12\r\n",
      "    Found existing installation: nvidia-cudnn-cu12 9.3.0.75\r\n",
      "    Uninstalling nvidia-cudnn-cu12-9.3.0.75:\r\n",
      "      Successfully uninstalled nvidia-cudnn-cu12-9.3.0.75\r\n",
      "  Attempting uninstall: nvidia-cusolver-cu12\r\n",
      "    Found existing installation: nvidia-cusolver-cu12 11.7.3.90\r\n",
      "    Uninstalling nvidia-cusolver-cu12-11.7.3.90:\r\n",
      "      Successfully uninstalled nvidia-cusolver-cu12-11.7.3.90\r\n",
      "\u001b[31mERROR: pip's dependency resolver does not currently take into account all the packages that are installed. This behaviour is the source of the following dependency conflicts.\r\n",
      "pylibcugraph-cu12 24.12.0 requires pylibraft-cu12==24.12.*, but you have pylibraft-cu12 25.2.0 which is incompatible.\r\n",
      "pylibcugraph-cu12 24.12.0 requires rmm-cu12==24.12.*, but you have rmm-cu12 25.2.0 which is incompatible.\u001b[0m\u001b[31m\r\n",
      "\u001b[0mSuccessfully installed nvidia-cublas-cu12-12.4.5.8 nvidia-cudnn-cu12-9.1.0.70 nvidia-cufft-cu12-11.2.1.3 nvidia-curand-cu12-10.3.5.147 nvidia-cusolver-cu12-11.6.1.9 nvidia-cusparse-cu12-12.3.1.170 nvidia-nvjitlink-cu12-12.4.127 ultralytics-8.3.186 ultralytics-thop-2.0.16\r\n",
      "Collecting torchtoolbox\r\n",
      "  Downloading torchtoolbox-0.1.8.2-py3-none-any.whl.metadata (15 kB)\r\n",
      "Requirement already satisfied: numpy in /usr/local/lib/python3.11/dist-packages (from torchtoolbox) (1.26.4)\r\n",
      "Requirement already satisfied: tqdm in /usr/local/lib/python3.11/dist-packages (from torchtoolbox) (4.67.1)\r\n",
      "Requirement already satisfied: pyarrow in /usr/local/lib/python3.11/dist-packages (from torchtoolbox) (19.0.1)\r\n",
      "Requirement already satisfied: six in /usr/local/lib/python3.11/dist-packages (from torchtoolbox) (1.17.0)\r\n",
      "Collecting lmdb (from torchtoolbox)\r\n",
      "  Downloading lmdb-1.7.3-cp311-cp311-manylinux_2_17_x86_64.manylinux2014_x86_64.whl.metadata (1.3 kB)\r\n",
      "Requirement already satisfied: scikit-learn in /usr/local/lib/python3.11/dist-packages (from torchtoolbox) (1.2.2)\r\n",
      "Requirement already satisfied: scipy in /usr/local/lib/python3.11/dist-packages (from torchtoolbox) (1.15.2)\r\n",
      "Requirement already satisfied: opencv-python in /usr/local/lib/python3.11/dist-packages (from torchtoolbox) (4.11.0.86)\r\n",
      "Requirement already satisfied: pyyaml in /usr/local/lib/python3.11/dist-packages (from torchtoolbox) (6.0.2)\r\n",
      "Requirement already satisfied: tensorboard in /usr/local/lib/python3.11/dist-packages (from torchtoolbox) (2.18.0)\r\n",
      "Requirement already satisfied: prettytable in /usr/local/lib/python3.11/dist-packages (from torchtoolbox) (3.14.0)\r\n",
      "Requirement already satisfied: transformers in /usr/local/lib/python3.11/dist-packages (from torchtoolbox) (4.51.1)\r\n",
      "Requirement already satisfied: mkl_fft in /usr/local/lib/python3.11/dist-packages (from numpy->torchtoolbox) (1.3.8)\r\n",
      "Requirement already satisfied: mkl_random in /usr/local/lib/python3.11/dist-packages (from numpy->torchtoolbox) (1.2.4)\r\n",
      "Requirement already satisfied: mkl_umath in /usr/local/lib/python3.11/dist-packages (from numpy->torchtoolbox) (0.1.1)\r\n",
      "Requirement already satisfied: mkl in /usr/local/lib/python3.11/dist-packages (from numpy->torchtoolbox) (2025.1.0)\r\n",
      "Requirement already satisfied: tbb4py in /usr/local/lib/python3.11/dist-packages (from numpy->torchtoolbox) (2022.1.0)\r\n",
      "Requirement already satisfied: mkl-service in /usr/local/lib/python3.11/dist-packages (from numpy->torchtoolbox) (2.4.1)\r\n",
      "Requirement already satisfied: wcwidth in /usr/local/lib/python3.11/dist-packages (from prettytable->torchtoolbox) (0.2.13)\r\n",
      "Requirement already satisfied: joblib>=1.1.1 in /usr/local/lib/python3.11/dist-packages (from scikit-learn->torchtoolbox) (1.4.2)\r\n",
      "Requirement already satisfied: threadpoolctl>=2.0.0 in /usr/local/lib/python3.11/dist-packages (from scikit-learn->torchtoolbox) (3.6.0)\r\n",
      "Requirement already satisfied: absl-py>=0.4 in /usr/local/lib/python3.11/dist-packages (from tensorboard->torchtoolbox) (1.4.0)\r\n",
      "Requirement already satisfied: grpcio>=1.48.2 in /usr/local/lib/python3.11/dist-packages (from tensorboard->torchtoolbox) (1.70.0)\r\n",
      "Requirement already satisfied: markdown>=2.6.8 in /usr/local/lib/python3.11/dist-packages (from tensorboard->torchtoolbox) (3.7)\r\n",
      "Requirement already satisfied: packaging in /usr/local/lib/python3.11/dist-packages (from tensorboard->torchtoolbox) (24.2)\r\n",
      "Requirement already satisfied: protobuf!=4.24.0,>=3.19.6 in /usr/local/lib/python3.11/dist-packages (from tensorboard->torchtoolbox) (3.20.3)\r\n",
      "Requirement already satisfied: setuptools>=41.0.0 in /usr/local/lib/python3.11/dist-packages (from tensorboard->torchtoolbox) (75.1.0)\r\n",
      "Requirement already satisfied: tensorboard-data-server<0.8.0,>=0.7.0 in /usr/local/lib/python3.11/dist-packages (from tensorboard->torchtoolbox) (0.7.2)\r\n",
      "Requirement already satisfied: werkzeug>=1.0.1 in /usr/local/lib/python3.11/dist-packages (from tensorboard->torchtoolbox) (3.1.3)\r\n",
      "Requirement already satisfied: filelock in /usr/local/lib/python3.11/dist-packages (from transformers->torchtoolbox) (3.18.0)\r\n",
      "Requirement already satisfied: huggingface-hub<1.0,>=0.30.0 in /usr/local/lib/python3.11/dist-packages (from transformers->torchtoolbox) (0.30.2)\r\n",
      "Requirement already satisfied: regex!=2019.12.17 in /usr/local/lib/python3.11/dist-packages (from transformers->torchtoolbox) (2024.11.6)\r\n",
      "Requirement already satisfied: requests in /usr/local/lib/python3.11/dist-packages (from transformers->torchtoolbox) (2.32.3)\r\n",
      "Requirement already satisfied: tokenizers<0.22,>=0.21 in /usr/local/lib/python3.11/dist-packages (from transformers->torchtoolbox) (0.21.0)\r\n",
      "Requirement already satisfied: safetensors>=0.4.3 in /usr/local/lib/python3.11/dist-packages (from transformers->torchtoolbox) (0.5.2)\r\n",
      "Requirement already satisfied: fsspec>=2023.5.0 in /usr/local/lib/python3.11/dist-packages (from huggingface-hub<1.0,>=0.30.0->transformers->torchtoolbox) (2025.3.2)\r\n",
      "Requirement already satisfied: typing-extensions>=3.7.4.3 in /usr/local/lib/python3.11/dist-packages (from huggingface-hub<1.0,>=0.30.0->transformers->torchtoolbox) (4.13.1)\r\n",
      "Requirement already satisfied: MarkupSafe>=2.1.1 in /usr/local/lib/python3.11/dist-packages (from werkzeug>=1.0.1->tensorboard->torchtoolbox) (3.0.2)\r\n",
      "Requirement already satisfied: intel-openmp<2026,>=2024 in /usr/local/lib/python3.11/dist-packages (from mkl->numpy->torchtoolbox) (2024.2.0)\r\n",
      "Requirement already satisfied: tbb==2022.* in /usr/local/lib/python3.11/dist-packages (from mkl->numpy->torchtoolbox) (2022.1.0)\r\n",
      "Requirement already satisfied: tcmlib==1.* in /usr/local/lib/python3.11/dist-packages (from tbb==2022.*->mkl->numpy->torchtoolbox) (1.2.0)\r\n",
      "Requirement already satisfied: intel-cmplr-lib-rt in /usr/local/lib/python3.11/dist-packages (from mkl_umath->numpy->torchtoolbox) (2024.2.0)\r\n",
      "Requirement already satisfied: charset-normalizer<4,>=2 in /usr/local/lib/python3.11/dist-packages (from requests->transformers->torchtoolbox) (3.4.1)\r\n",
      "Requirement already satisfied: idna<4,>=2.5 in /usr/local/lib/python3.11/dist-packages (from requests->transformers->torchtoolbox) (3.10)\r\n",
      "Requirement already satisfied: urllib3<3,>=1.21.1 in /usr/local/lib/python3.11/dist-packages (from requests->transformers->torchtoolbox) (2.3.0)\r\n",
      "Requirement already satisfied: certifi>=2017.4.17 in /usr/local/lib/python3.11/dist-packages (from requests->transformers->torchtoolbox) (2025.1.31)\r\n",
      "Requirement already satisfied: intel-cmplr-lib-ur==2024.2.0 in /usr/local/lib/python3.11/dist-packages (from intel-openmp<2026,>=2024->mkl->numpy->torchtoolbox) (2024.2.0)\r\n",
      "Downloading torchtoolbox-0.1.8.2-py3-none-any.whl (84 kB)\r\n",
      "\u001b[2K   \u001b[90m━━━━━━━━━━━━━━━━━━━━━━━━━━━━━━━━━━━━━━━━\u001b[0m \u001b[32m85.0/85.0 kB\u001b[0m \u001b[31m2.7 MB/s\u001b[0m eta \u001b[36m0:00:00\u001b[0m\r\n",
      "\u001b[?25hDownloading lmdb-1.7.3-cp311-cp311-manylinux_2_17_x86_64.manylinux2014_x86_64.whl (299 kB)\r\n",
      "\u001b[2K   \u001b[90m━━━━━━━━━━━━━━━━━━━━━━━━━━━━━━━━━━━━━━━━\u001b[0m \u001b[32m299.6/299.6 kB\u001b[0m \u001b[31m11.1 MB/s\u001b[0m eta \u001b[36m0:00:00\u001b[0m\r\n",
      "\u001b[?25hInstalling collected packages: lmdb, torchtoolbox\r\n",
      "Successfully installed lmdb-1.7.3 torchtoolbox-0.1.8.2\r\n"
     ]
    }
   ],
   "source": [
    "!pip install ultralytics\n",
    "!pip install torchtoolbox"
   ]
  },
  {
   "cell_type": "code",
   "execution_count": 2,
   "id": "3452fa27",
   "metadata": {
    "_cell_guid": "84fcc004-fbc4-45ee-8515-c7236b01c92d",
    "_uuid": "bf984101-9292-4f3b-bd92-c553c275e436",
    "collapsed": false,
    "execution": {
     "iopub.execute_input": "2025-08-26T00:19:50.789628Z",
     "iopub.status.busy": "2025-08-26T00:19:50.789381Z",
     "iopub.status.idle": "2025-08-26T02:48:29.437046Z",
     "shell.execute_reply": "2025-08-26T02:48:29.436178Z"
    },
    "jupyter": {
     "outputs_hidden": false
    },
    "papermill": {
     "duration": 8918.673367,
     "end_time": "2025-08-26T02:48:29.440381",
     "exception": false,
     "start_time": "2025-08-26T00:19:50.767014",
     "status": "completed"
    },
    "tags": []
   },
   "outputs": [
    {
     "name": "stdout",
     "output_type": "stream",
     "text": [
      "Creating new Ultralytics Settings v0.0.6 file ✅ \n",
      "View Ultralytics Settings with 'yolo settings' or at '/root/.config/Ultralytics/settings.json'\n",
      "Update Settings with 'yolo settings key=value', i.e. 'yolo settings runs_dir=path/to/dir'. For help see https://docs.ultralytics.com/quickstart/#ultralytics-settings.\n"
     ]
    },
    {
     "name": "stderr",
     "output_type": "stream",
     "text": [
      "/usr/local/lib/python3.11/dist-packages/torch/nn/modules/transformer.py:379: UserWarning: enable_nested_tensor is True, but self.use_nested_tensor is False because encoder_layer.norm_first was True\n",
      "  warnings.warn(\n",
      "/tmp/ipykernel_19/3121364338.py:370: FutureWarning: You are using `torch.load` with `weights_only=False` (the current default value), which uses the default pickle module implicitly. It is possible to construct malicious pickle data which will execute arbitrary code during unpickling (See https://github.com/pytorch/pytorch/blob/main/SECURITY.md#untrusted-models for more details). In a future release, the default value for `weights_only` will be flipped to `True`. This limits the functions that could be executed during unpickling. Arbitrary objects will no longer be allowed to be loaded via this mode unless they are explicitly allowlisted by the user via `torch.serialization.add_safe_globals`. We recommend you start setting `weights_only=True` for any use case where you don't have full control of the loaded file. Please open an issue on GitHub for any issues related to this experimental feature.\n",
      "  checkpoint = torch.load(\"/kaggle/input/yolo_rvt_aolp52_good/pytorch/default/1/final_yolo_rvit_model52.pth\", map_location=DEVICE)\n",
      "Epoch 1/100 [TRAIN] LR: 4.04e-04 Teach: 0.70 Scheduler: OneCycleLR:   2%|▏         | 1/42 [00:08<05:43,  8.37s/it, loss=0.727]"
     ]
    },
    {
     "name": "stdout",
     "output_type": "stream",
     "text": [
      "\n",
      "--- Training Batch 0 Examples (Content Only) ---\n",
      "  Pred: '5D7379'\n",
      "  True: '5D7379'\n",
      "  Pred: 'HY6571'\n",
      "  True: 'HY6571'\n",
      "  Pred: 'P63791'\n",
      "  True: 'P63791'\n",
      "  Pred: 'YN7539'\n",
      "  True: 'YN7539'\n",
      "  Pred: '9J3167'\n",
      "  True: '9J3167'\n",
      "-------------------------------\n"
     ]
    },
    {
     "name": "stderr",
     "output_type": "stream",
     "text": [
      "Epoch 1/100 [TRAIN] LR: 4.04e-04 Teach: 0.70 Scheduler: OneCycleLR: 100%|██████████| 42/42 [00:57<00:00,  1.38s/it, loss=0.746]\n",
      "Epoch 1/100 [VAL]: 100%|██████████| 22/22 [00:32<00:00,  1.47s/it, loss=0.837]\n"
     ]
    },
    {
     "name": "stdout",
     "output_type": "stream",
     "text": [
      "EarlyStopping: New best val_acc: 0.9902\n",
      "\n",
      "Epoch 1/100 | LR: 5.28e-05 | Teach: 0.70 | Scheduler: OneCycleLR\n",
      "  Train Loss: 0.7572 | Train Char Acc: 0.9916\n",
      "  Val Loss: 0.7580   | Val Acc (CRR): 0.9902\n",
      "  Val Exact Match Acc (E2E RR): 0.9501\n",
      "----------------------------------------------------------------------\n",
      "*** New best validation accuracy: 0.9902. Saving best_model.pth ***\n"
     ]
    },
    {
     "name": "stderr",
     "output_type": "stream",
     "text": [
      "Epoch 2/100 [TRAIN] LR: 5.28e-05 Teach: 0.69 Scheduler: OneCycleLR:   2%|▏         | 1/42 [00:05<03:54,  5.71s/it, loss=0.764]"
     ]
    },
    {
     "name": "stdout",
     "output_type": "stream",
     "text": [
      "\n",
      "--- Training Batch 0 Examples (Content Only) ---\n",
      "  Pred: '8828JZ'\n",
      "  True: '8828JZ'\n",
      "  Pred: '0550EK'\n",
      "  True: '0550EK'\n",
      "  Pred: '7A6988'\n",
      "  True: '7A6988'\n",
      "  Pred: 'CF5782'\n",
      "  True: 'CF5782'\n",
      "  Pred: 'Y52510'\n",
      "  True: 'Y52510'\n",
      "-------------------------------\n"
     ]
    },
    {
     "name": "stderr",
     "output_type": "stream",
     "text": [
      "Epoch 2/100 [TRAIN] LR: 5.28e-05 Teach: 0.69 Scheduler: OneCycleLR: 100%|██████████| 42/42 [00:59<00:00,  1.41s/it, loss=0.75]\n",
      "Epoch 2/100 [VAL]: 100%|██████████| 22/22 [00:31<00:00,  1.42s/it, loss=0.826]\n"
     ]
    },
    {
     "name": "stdout",
     "output_type": "stream",
     "text": [
      "EarlyStopping counter: 1/100 (Best val_acc: 0.9902)\n",
      "\n",
      "Epoch 2/100 | LR: 6.11e-05 | Teach: 0.69 | Scheduler: OneCycleLR\n",
      "  Train Loss: 0.7550 | Train Char Acc: 0.9912\n",
      "  Val Loss: 0.7572   | Val Acc (CRR): 0.9905\n",
      "  Val Exact Match Acc (E2E RR): 0.9501\n",
      "----------------------------------------------------------------------\n",
      "*** New best validation accuracy: 0.9905. Saving best_model.pth ***\n"
     ]
    },
    {
     "name": "stderr",
     "output_type": "stream",
     "text": [
      "Epoch 3/100 [TRAIN] LR: 6.11e-05 Teach: 0.69 Scheduler: OneCycleLR:   2%|▏         | 1/42 [00:05<03:35,  5.26s/it, loss=0.743]"
     ]
    },
    {
     "name": "stdout",
     "output_type": "stream",
     "text": [
      "\n",
      "--- Training Batch 0 Examples (Content Only) ---\n",
      "  Pred: 'QG4655'\n",
      "  True: 'QG4655'\n",
      "  Pred: '4468QD'\n",
      "  True: '4468QD'\n",
      "  Pred: '6A9141'\n",
      "  True: '6A9141'\n",
      "  Pred: '7563DM'\n",
      "  True: '7563DM'\n",
      "  Pred: '6335UR'\n",
      "  True: '6335UR'\n",
      "-------------------------------\n"
     ]
    },
    {
     "name": "stderr",
     "output_type": "stream",
     "text": [
      "Epoch 3/100 [TRAIN] LR: 6.11e-05 Teach: 0.69 Scheduler: OneCycleLR: 100%|██████████| 42/42 [00:57<00:00,  1.37s/it, loss=0.728]\n",
      "Epoch 3/100 [VAL]: 100%|██████████| 22/22 [00:31<00:00,  1.42s/it, loss=0.82]\n"
     ]
    },
    {
     "name": "stdout",
     "output_type": "stream",
     "text": [
      "EarlyStopping: New best val_acc: 0.9909\n",
      "\n",
      "Epoch 3/100 | LR: 7.46e-05 | Teach: 0.69 | Scheduler: OneCycleLR\n",
      "  Train Loss: 0.7553 | Train Char Acc: 0.9891\n",
      "  Val Loss: 0.7567   | Val Acc (CRR): 0.9909\n",
      "  Val Exact Match Acc (E2E RR): 0.9530\n",
      "----------------------------------------------------------------------\n",
      "*** New best validation accuracy: 0.9909. Saving best_model.pth ***\n"
     ]
    },
    {
     "name": "stderr",
     "output_type": "stream",
     "text": [
      "Epoch 4/100 [TRAIN] LR: 7.46e-05 Teach: 0.68 Scheduler: OneCycleLR:   2%|▏         | 1/42 [00:06<04:17,  6.28s/it, loss=0.739]"
     ]
    },
    {
     "name": "stdout",
     "output_type": "stream",
     "text": [
      "\n",
      "--- Training Batch 0 Examples (Content Only) ---\n",
      "  Pred: '8489A3'\n",
      "  True: '8489A3'\n",
      "  Pred: '7291EV'\n",
      "  True: '7291EV'\n",
      "  Pred: 'BJ0036'\n",
      "  True: 'BJ0036'\n",
      "  Pred: '8269ED'\n",
      "  True: '8269ED'\n",
      "  Pred: '6U7129'\n",
      "  True: '6U7129'\n",
      "-------------------------------\n"
     ]
    },
    {
     "name": "stderr",
     "output_type": "stream",
     "text": [
      "Epoch 4/100 [TRAIN] LR: 7.46e-05 Teach: 0.68 Scheduler: OneCycleLR: 100%|██████████| 42/42 [00:58<00:00,  1.39s/it, loss=0.741]\n",
      "Epoch 4/100 [VAL]: 100%|██████████| 22/22 [00:30<00:00,  1.40s/it, loss=0.826]\n"
     ]
    },
    {
     "name": "stdout",
     "output_type": "stream",
     "text": [
      "EarlyStopping counter: 1/100 (Best val_acc: 0.9909)\n",
      "\n",
      "Epoch 4/100 | LR: 9.32e-05 | Teach: 0.68 | Scheduler: OneCycleLR\n",
      "  Train Loss: 0.7516 | Train Char Acc: 0.9905\n",
      "  Val Loss: 0.7542   | Val Acc (CRR): 0.9907\n",
      "  Val Exact Match Acc (E2E RR): 0.9515\n",
      "----------------------------------------------------------------------\n"
     ]
    },
    {
     "name": "stderr",
     "output_type": "stream",
     "text": [
      "Epoch 5/100 [TRAIN] LR: 9.32e-05 Teach: 0.67 Scheduler: OneCycleLR:   2%|▏         | 1/42 [00:05<04:01,  5.90s/it, loss=0.765]"
     ]
    },
    {
     "name": "stdout",
     "output_type": "stream",
     "text": [
      "\n",
      "--- Training Batch 0 Examples (Content Only) ---\n",
      "  Pred: '8K3466'\n",
      "  True: '8K3466'\n",
      "  Pred: '9L5427'\n",
      "  True: '9L5427'\n",
      "  Pred: 'AN3348'\n",
      "  True: 'AN3348'\n",
      "  Pred: '2160YR'\n",
      "  True: '2160YR'\n",
      "  Pred: '0321ER'\n",
      "  True: '0321ER'\n",
      "-------------------------------\n"
     ]
    },
    {
     "name": "stderr",
     "output_type": "stream",
     "text": [
      "Epoch 5/100 [TRAIN] LR: 9.32e-05 Teach: 0.67 Scheduler: OneCycleLR: 100%|██████████| 42/42 [00:57<00:00,  1.37s/it, loss=0.769]\n",
      "Epoch 5/100 [VAL]: 100%|██████████| 22/22 [00:31<00:00,  1.41s/it, loss=0.821]\n"
     ]
    },
    {
     "name": "stdout",
     "output_type": "stream",
     "text": [
      "EarlyStopping counter: 2/100 (Best val_acc: 0.9909)\n",
      "\n",
      "Epoch 5/100 | LR: 1.16e-04 | Teach: 0.67 | Scheduler: OneCycleLR\n",
      "  Train Loss: 0.7545 | Train Char Acc: 0.9896\n",
      "  Val Loss: 0.7497   | Val Acc (CRR): 0.9907\n",
      "  Val Exact Match Acc (E2E RR): 0.9530\n",
      "----------------------------------------------------------------------\n"
     ]
    },
    {
     "name": "stderr",
     "output_type": "stream",
     "text": [
      "Epoch 6/100 [TRAIN] LR: 1.16e-04 Teach: 0.67 Scheduler: OneCycleLR:   2%|▏         | 1/42 [00:05<03:55,  5.73s/it, loss=0.751]"
     ]
    },
    {
     "name": "stdout",
     "output_type": "stream",
     "text": [
      "\n",
      "--- Training Batch 0 Examples (Content Only) ---\n",
      "  Pred: 'W70426'\n",
      "  True: 'W70426'\n",
      "  Pred: '6001EC'\n",
      "  True: '9601EC'\n",
      "  Pred: '3D0061'\n",
      "  True: '3D0061'\n",
      "  Pred: '9863QX'\n",
      "  True: '9863QX'\n",
      "  Pred: '3391UW'\n",
      "  True: '3391UW'\n",
      "-------------------------------\n"
     ]
    },
    {
     "name": "stderr",
     "output_type": "stream",
     "text": [
      "Epoch 6/100 [TRAIN] LR: 1.16e-04 Teach: 0.67 Scheduler: OneCycleLR: 100%|██████████| 42/42 [00:57<00:00,  1.37s/it, loss=0.736]\n",
      "Epoch 6/100 [VAL]: 100%|██████████| 22/22 [00:31<00:00,  1.41s/it, loss=0.823]\n"
     ]
    },
    {
     "name": "stdout",
     "output_type": "stream",
     "text": [
      "EarlyStopping counter: 3/100 (Best val_acc: 0.9909)\n",
      "\n",
      "Epoch 6/100 | LR: 1.43e-04 | Teach: 0.67 | Scheduler: OneCycleLR\n",
      "  Train Loss: 0.7482 | Train Char Acc: 0.9913\n",
      "  Val Loss: 0.7556   | Val Acc (CRR): 0.9895\n",
      "  Val Exact Match Acc (E2E RR): 0.9486\n",
      "----------------------------------------------------------------------\n"
     ]
    },
    {
     "name": "stderr",
     "output_type": "stream",
     "text": [
      "Epoch 7/100 [TRAIN] LR: 1.43e-04 Teach: 0.66 Scheduler: OneCycleLR:   2%|▏         | 1/42 [00:05<03:49,  5.61s/it, loss=0.72]"
     ]
    },
    {
     "name": "stdout",
     "output_type": "stream",
     "text": [
      "\n",
      "--- Training Batch 0 Examples (Content Only) ---\n",
      "  Pred: '9188ER'\n",
      "  True: '9188ER'\n",
      "  Pred: '2170EM'\n",
      "  True: '2170EM'\n",
      "  Pred: '4236YD'\n",
      "  True: '4236YD'\n",
      "  Pred: 'CN9139'\n",
      "  True: 'CN9139'\n",
      "  Pred: 'CJ4846'\n",
      "  True: 'CJ4846'\n",
      "-------------------------------\n"
     ]
    },
    {
     "name": "stderr",
     "output_type": "stream",
     "text": [
      "Epoch 7/100 [TRAIN] LR: 1.43e-04 Teach: 0.66 Scheduler: OneCycleLR: 100%|██████████| 42/42 [00:57<00:00,  1.36s/it, loss=0.794]\n",
      "Epoch 7/100 [VAL]: 100%|██████████| 22/22 [00:31<00:00,  1.41s/it, loss=0.843]\n"
     ]
    },
    {
     "name": "stdout",
     "output_type": "stream",
     "text": [
      "EarlyStopping counter: 4/100 (Best val_acc: 0.9909)\n",
      "\n",
      "Epoch 7/100 | LR: 1.73e-04 | Teach: 0.66 | Scheduler: OneCycleLR\n",
      "  Train Loss: 0.7543 | Train Char Acc: 0.9895\n",
      "  Val Loss: 0.7565   | Val Acc (CRR): 0.9905\n",
      "  Val Exact Match Acc (E2E RR): 0.9501\n",
      "----------------------------------------------------------------------\n"
     ]
    },
    {
     "name": "stderr",
     "output_type": "stream",
     "text": [
      "Epoch 8/100 [TRAIN] LR: 1.73e-04 Teach: 0.65 Scheduler: OneCycleLR:   2%|▏         | 1/42 [00:05<03:55,  5.73s/it, loss=0.757]"
     ]
    },
    {
     "name": "stdout",
     "output_type": "stream",
     "text": [
      "\n",
      "--- Training Batch 0 Examples (Content Only) ---\n",
      "  Pred: 'B23101'\n",
      "  True: 'B23101'\n",
      "  Pred: '9280WW'\n",
      "  True: '9280WW'\n",
      "  Pred: 'ZN9120'\n",
      "  True: 'ZN9120'\n",
      "  Pred: '8489A3'\n",
      "  True: '8489A3'\n",
      "  Pred: '8722FP'\n",
      "  True: '8722FP'\n",
      "-------------------------------\n"
     ]
    },
    {
     "name": "stderr",
     "output_type": "stream",
     "text": [
      "Epoch 8/100 [TRAIN] LR: 1.73e-04 Teach: 0.65 Scheduler: OneCycleLR: 100%|██████████| 42/42 [00:57<00:00,  1.37s/it, loss=0.728]\n",
      "Epoch 8/100 [VAL]: 100%|██████████| 22/22 [00:31<00:00,  1.42s/it, loss=0.831]\n"
     ]
    },
    {
     "name": "stdout",
     "output_type": "stream",
     "text": [
      "EarlyStopping counter: 5/100 (Best val_acc: 0.9909)\n",
      "\n",
      "Epoch 8/100 | LR: 2.06e-04 | Teach: 0.65 | Scheduler: OneCycleLR\n",
      "  Train Loss: 0.7501 | Train Char Acc: 0.9906\n",
      "  Val Loss: 0.7500   | Val Acc (CRR): 0.9902\n",
      "  Val Exact Match Acc (E2E RR): 0.9501\n",
      "----------------------------------------------------------------------\n"
     ]
    },
    {
     "name": "stderr",
     "output_type": "stream",
     "text": [
      "Epoch 9/100 [TRAIN] LR: 2.06e-04 Teach: 0.65 Scheduler: OneCycleLR:   2%|▏         | 1/42 [00:05<03:37,  5.30s/it, loss=0.728]"
     ]
    },
    {
     "name": "stdout",
     "output_type": "stream",
     "text": [
      "\n",
      "--- Training Batch 0 Examples (Content Only) ---\n",
      "  Pred: '9C0807'\n",
      "  True: '9C0807'\n",
      "  Pred: '2193DU'\n",
      "  True: '2193DU'\n",
      "  Pred: '6951A7'\n",
      "  True: '6951A7'\n",
      "  Pred: 'DH4886'\n",
      "  True: 'DH4886'\n",
      "  Pred: '3487QD'\n",
      "  True: '3487QD'\n",
      "-------------------------------\n"
     ]
    },
    {
     "name": "stderr",
     "output_type": "stream",
     "text": [
      "Epoch 9/100 [TRAIN] LR: 2.06e-04 Teach: 0.65 Scheduler: OneCycleLR: 100%|██████████| 42/42 [00:57<00:00,  1.36s/it, loss=0.724]\n",
      "Epoch 9/100 [VAL]: 100%|██████████| 22/22 [00:31<00:00,  1.42s/it, loss=0.833]\n"
     ]
    },
    {
     "name": "stdout",
     "output_type": "stream",
     "text": [
      "EarlyStopping counter: 6/100 (Best val_acc: 0.9909)\n",
      "\n",
      "Epoch 9/100 | LR: 2.41e-04 | Teach: 0.65 | Scheduler: OneCycleLR\n",
      "  Train Loss: 0.7509 | Train Char Acc: 0.9902\n",
      "  Val Loss: 0.7526   | Val Acc (CRR): 0.9907\n",
      "  Val Exact Match Acc (E2E RR): 0.9515\n",
      "----------------------------------------------------------------------\n"
     ]
    },
    {
     "name": "stderr",
     "output_type": "stream",
     "text": [
      "Epoch 10/100 [TRAIN] LR: 2.41e-04 Teach: 0.64 Scheduler: OneCycleLR:   2%|▏         | 1/42 [00:06<04:14,  6.21s/it, loss=0.737]"
     ]
    },
    {
     "name": "stdout",
     "output_type": "stream",
     "text": [
      "\n",
      "--- Training Batch 0 Examples (Content Only) ---\n",
      "  Pred: '9012VR'\n",
      "  True: '9012VR'\n",
      "  Pred: '2938GC'\n",
      "  True: '2938GC'\n",
      "  Pred: '9699VH'\n",
      "  True: '9699VH'\n",
      "  Pred: '6906ZT'\n",
      "  True: '6906ZT'\n",
      "  Pred: '1471DV'\n",
      "  True: '1471DV'\n",
      "-------------------------------\n"
     ]
    },
    {
     "name": "stderr",
     "output_type": "stream",
     "text": [
      "Epoch 10/100 [TRAIN] LR: 2.41e-04 Teach: 0.64 Scheduler: OneCycleLR: 100%|██████████| 42/42 [00:57<00:00,  1.38s/it, loss=0.785]\n",
      "Epoch 10/100 [VAL]: 100%|██████████| 22/22 [00:30<00:00,  1.41s/it, loss=0.822]\n"
     ]
    },
    {
     "name": "stdout",
     "output_type": "stream",
     "text": [
      "EarlyStopping: New best val_acc: 0.9917\n",
      "\n",
      "Epoch 10/100 | LR: 2.76e-04 | Teach: 0.64 | Scheduler: OneCycleLR\n",
      "  Train Loss: 0.7446 | Train Char Acc: 0.9927\n",
      "  Val Loss: 0.7547   | Val Acc (CRR): 0.9917\n",
      "  Val Exact Match Acc (E2E RR): 0.9574\n",
      "----------------------------------------------------------------------\n",
      "*** New best validation accuracy: 0.9917. Saving best_model.pth ***\n"
     ]
    },
    {
     "name": "stderr",
     "output_type": "stream",
     "text": [
      "Epoch 11/100 [TRAIN] LR: 2.76e-04 Teach: 0.63 Scheduler: OneCycleLR:   2%|▏         | 1/42 [00:05<03:58,  5.82s/it, loss=0.76]"
     ]
    },
    {
     "name": "stdout",
     "output_type": "stream",
     "text": [
      "\n",
      "--- Training Batch 0 Examples (Content Only) ---\n",
      "  Pred: '3E2268'\n",
      "  True: '3E2268'\n",
      "  Pred: '3905RY'\n",
      "  True: '3905RY'\n",
      "  Pred: '3086RG'\n",
      "  True: '3086RG'\n",
      "  Pred: '6Q4961'\n",
      "  True: '6Q4961'\n",
      "  Pred: 'H39977'\n",
      "  True: 'H39977'\n",
      "-------------------------------\n"
     ]
    },
    {
     "name": "stderr",
     "output_type": "stream",
     "text": [
      "Epoch 11/100 [TRAIN] LR: 2.76e-04 Teach: 0.63 Scheduler: OneCycleLR: 100%|██████████| 42/42 [00:57<00:00,  1.37s/it, loss=0.73]\n",
      "Epoch 11/100 [VAL]: 100%|██████████| 22/22 [00:31<00:00,  1.41s/it, loss=0.858]\n"
     ]
    },
    {
     "name": "stdout",
     "output_type": "stream",
     "text": [
      "EarlyStopping counter: 1/100 (Best val_acc: 0.9917)\n",
      "\n",
      "Epoch 11/100 | LR: 3.11e-04 | Teach: 0.63 | Scheduler: OneCycleLR\n",
      "  Train Loss: 0.7531 | Train Char Acc: 0.9885\n",
      "  Val Loss: 0.7567   | Val Acc (CRR): 0.9917\n",
      "  Val Exact Match Acc (E2E RR): 0.9559\n",
      "----------------------------------------------------------------------\n"
     ]
    },
    {
     "name": "stderr",
     "output_type": "stream",
     "text": [
      "Epoch 12/100 [TRAIN] LR: 3.11e-04 Teach: 0.63 Scheduler: OneCycleLR:   2%|▏         | 1/42 [00:05<03:58,  5.81s/it, loss=0.733]"
     ]
    },
    {
     "name": "stdout",
     "output_type": "stream",
     "text": [
      "\n",
      "--- Training Batch 0 Examples (Content Only) ---\n",
      "  Pred: '1557VP'\n",
      "  True: '1557VP'\n",
      "  Pred: '5325TM'\n",
      "  True: '5325TM'\n",
      "  Pred: '4323DU'\n",
      "  True: '4323DU'\n",
      "  Pred: 'U41288'\n",
      "  True: 'U41288'\n",
      "  Pred: '8190DR'\n",
      "  True: '819DDR'\n",
      "-------------------------------\n"
     ]
    },
    {
     "name": "stderr",
     "output_type": "stream",
     "text": [
      "Epoch 12/100 [TRAIN] LR: 3.11e-04 Teach: 0.63 Scheduler: OneCycleLR: 100%|██████████| 42/42 [00:57<00:00,  1.38s/it, loss=0.784]\n",
      "Epoch 12/100 [VAL]: 100%|██████████| 22/22 [00:31<00:00,  1.41s/it, loss=0.855]\n"
     ]
    },
    {
     "name": "stdout",
     "output_type": "stream",
     "text": [
      "EarlyStopping counter: 2/100 (Best val_acc: 0.9917)\n",
      "\n",
      "Epoch 12/100 | LR: 3.45e-04 | Teach: 0.63 | Scheduler: OneCycleLR\n",
      "  Train Loss: 0.7487 | Train Char Acc: 0.9918\n",
      "  Val Loss: 0.7534   | Val Acc (CRR): 0.9907\n",
      "  Val Exact Match Acc (E2E RR): 0.9545\n",
      "----------------------------------------------------------------------\n"
     ]
    },
    {
     "name": "stderr",
     "output_type": "stream",
     "text": [
      "Epoch 13/100 [TRAIN] LR: 3.45e-04 Teach: 0.62 Scheduler: OneCycleLR:   2%|▏         | 1/42 [00:05<03:53,  5.70s/it, loss=0.745]"
     ]
    },
    {
     "name": "stdout",
     "output_type": "stream",
     "text": [
      "\n",
      "--- Training Batch 0 Examples (Content Only) ---\n",
      "  Pred: '8829QW'\n",
      "  True: '8429QW'\n",
      "  Pred: 'L48379'\n",
      "  True: 'L48379'\n",
      "  Pred: '1866EB'\n",
      "  True: '1866EB'\n",
      "  Pred: '6366DN'\n",
      "  True: '6366DN'\n",
      "  Pred: '7A6988'\n",
      "  True: '7A6988'\n",
      "-------------------------------\n"
     ]
    },
    {
     "name": "stderr",
     "output_type": "stream",
     "text": [
      "Epoch 13/100 [TRAIN] LR: 3.45e-04 Teach: 0.62 Scheduler: OneCycleLR: 100%|██████████| 42/42 [00:57<00:00,  1.37s/it, loss=0.76]\n",
      "Epoch 13/100 [VAL]: 100%|██████████| 22/22 [00:30<00:00,  1.41s/it, loss=0.887]\n"
     ]
    },
    {
     "name": "stdout",
     "output_type": "stream",
     "text": [
      "EarlyStopping counter: 3/100 (Best val_acc: 0.9917)\n",
      "\n",
      "Epoch 13/100 | LR: 3.78e-04 | Teach: 0.62 | Scheduler: OneCycleLR\n",
      "  Train Loss: 0.7511 | Train Char Acc: 0.9911\n",
      "  Val Loss: 0.7517   | Val Acc (CRR): 0.9900\n",
      "  Val Exact Match Acc (E2E RR): 0.9471\n",
      "----------------------------------------------------------------------\n"
     ]
    },
    {
     "name": "stderr",
     "output_type": "stream",
     "text": [
      "Epoch 14/100 [TRAIN] LR: 3.78e-04 Teach: 0.61 Scheduler: OneCycleLR:   2%|▏         | 1/42 [00:05<03:56,  5.76s/it, loss=0.726]"
     ]
    },
    {
     "name": "stdout",
     "output_type": "stream",
     "text": [
      "\n",
      "--- Training Batch 0 Examples (Content Only) ---\n",
      "  Pred: 'AT9090'\n",
      "  True: 'AT9090'\n",
      "  Pred: 'HV3390'\n",
      "  True: 'HV3390'\n",
      "  Pred: 'CZ9987'\n",
      "  True: 'CZ9987'\n",
      "  Pred: '7B6999'\n",
      "  True: '7B6999'\n",
      "  Pred: 'U66487'\n",
      "  True: 'U66487'\n",
      "-------------------------------\n"
     ]
    },
    {
     "name": "stderr",
     "output_type": "stream",
     "text": [
      "Epoch 14/100 [TRAIN] LR: 3.78e-04 Teach: 0.61 Scheduler: OneCycleLR: 100%|██████████| 42/42 [00:57<00:00,  1.37s/it, loss=0.764]\n",
      "Epoch 14/100 [VAL]: 100%|██████████| 22/22 [00:30<00:00,  1.41s/it, loss=0.875]\n"
     ]
    },
    {
     "name": "stdout",
     "output_type": "stream",
     "text": [
      "EarlyStopping counter: 4/100 (Best val_acc: 0.9917)\n",
      "\n",
      "Epoch 14/100 | LR: 4.08e-04 | Teach: 0.61 | Scheduler: OneCycleLR\n",
      "  Train Loss: 0.7551 | Train Char Acc: 0.9887\n",
      "  Val Loss: 0.7614   | Val Acc (CRR): 0.9885\n",
      "  Val Exact Match Acc (E2E RR): 0.9427\n",
      "----------------------------------------------------------------------\n"
     ]
    },
    {
     "name": "stderr",
     "output_type": "stream",
     "text": [
      "Epoch 15/100 [TRAIN] LR: 4.08e-04 Teach: 0.61 Scheduler: OneCycleLR:   2%|▏         | 1/42 [00:05<03:56,  5.77s/it, loss=0.795]"
     ]
    },
    {
     "name": "stdout",
     "output_type": "stream",
     "text": [
      "\n",
      "--- Training Batch 0 Examples (Content Only) ---\n",
      "  Pred: 'D41400'\n",
      "  True: 'D41400'\n",
      "  Pred: '3638VG'\n",
      "  True: '3638VG'\n",
      "  Pred: '6T0626'\n",
      "  True: '6T0626'\n",
      "  Pred: 'VD3441'\n",
      "  True: 'VD3441'\n",
      "  Pred: '9C0807'\n",
      "  True: '9C0807'\n",
      "-------------------------------\n"
     ]
    },
    {
     "name": "stderr",
     "output_type": "stream",
     "text": [
      "Epoch 15/100 [TRAIN] LR: 4.08e-04 Teach: 0.61 Scheduler: OneCycleLR: 100%|██████████| 42/42 [00:58<00:00,  1.38s/it, loss=0.791]\n",
      "Epoch 15/100 [VAL]: 100%|██████████| 22/22 [00:31<00:00,  1.42s/it, loss=0.884]\n"
     ]
    },
    {
     "name": "stdout",
     "output_type": "stream",
     "text": [
      "EarlyStopping counter: 5/100 (Best val_acc: 0.9917)\n",
      "\n",
      "Epoch 15/100 | LR: 4.35e-04 | Teach: 0.61 | Scheduler: OneCycleLR\n",
      "  Train Loss: 0.7593 | Train Char Acc: 0.9888\n",
      "  Val Loss: 0.7602   | Val Acc (CRR): 0.9895\n",
      "  Val Exact Match Acc (E2E RR): 0.9471\n",
      "----------------------------------------------------------------------\n"
     ]
    },
    {
     "name": "stderr",
     "output_type": "stream",
     "text": [
      "Epoch 16/100 [TRAIN] LR: 4.35e-04 Teach: 0.60 Scheduler: OneCycleLR:   2%|▏         | 1/42 [00:06<04:09,  6.08s/it, loss=0.729]"
     ]
    },
    {
     "name": "stdout",
     "output_type": "stream",
     "text": [
      "\n",
      "--- Training Batch 0 Examples (Content Only) ---\n",
      "  Pred: '1692B6'\n",
      "  True: '1692B6'\n",
      "  Pred: '6020MS'\n",
      "  True: '6020MS'\n",
      "  Pred: 'RU3359'\n",
      "  True: 'RU3359'\n",
      "  Pred: 'RX5646'\n",
      "  True: 'RX5646'\n",
      "  Pred: 'GK9087'\n",
      "  True: 'GK9087'\n",
      "-------------------------------\n"
     ]
    },
    {
     "name": "stderr",
     "output_type": "stream",
     "text": [
      "Epoch 16/100 [TRAIN] LR: 4.35e-04 Teach: 0.60 Scheduler: OneCycleLR: 100%|██████████| 42/42 [00:57<00:00,  1.38s/it, loss=0.738]\n",
      "Epoch 16/100 [VAL]: 100%|██████████| 22/22 [00:31<00:00,  1.41s/it, loss=0.857]\n"
     ]
    },
    {
     "name": "stdout",
     "output_type": "stream",
     "text": [
      "EarlyStopping counter: 6/100 (Best val_acc: 0.9917)\n",
      "\n",
      "Epoch 16/100 | LR: 4.58e-04 | Teach: 0.60 | Scheduler: OneCycleLR\n",
      "  Train Loss: 0.7606 | Train Char Acc: 0.9887\n",
      "  Val Loss: 0.7646   | Val Acc (CRR): 0.9868\n",
      "  Val Exact Match Acc (E2E RR): 0.9369\n",
      "----------------------------------------------------------------------\n"
     ]
    },
    {
     "name": "stderr",
     "output_type": "stream",
     "text": [
      "Epoch 17/100 [TRAIN] LR: 4.58e-04 Teach: 0.59 Scheduler: OneCycleLR:   2%|▏         | 1/42 [00:06<04:08,  6.06s/it, loss=0.739]"
     ]
    },
    {
     "name": "stdout",
     "output_type": "stream",
     "text": [
      "\n",
      "--- Training Batch 0 Examples (Content Only) ---\n",
      "  Pred: '7662QX'\n",
      "  True: '7662QX'\n",
      "  Pred: '4998RY'\n",
      "  True: '4998RY'\n",
      "  Pred: 'DW8741'\n",
      "  True: 'DW8741'\n",
      "  Pred: '9L2298'\n",
      "  True: '9L2298'\n",
      "  Pred: 'HL4408'\n",
      "  True: 'HL4408'\n",
      "-------------------------------\n"
     ]
    },
    {
     "name": "stderr",
     "output_type": "stream",
     "text": [
      "Epoch 17/100 [TRAIN] LR: 4.58e-04 Teach: 0.59 Scheduler: OneCycleLR: 100%|██████████| 42/42 [00:57<00:00,  1.37s/it, loss=0.806]\n",
      "Epoch 17/100 [VAL]: 100%|██████████| 22/22 [00:31<00:00,  1.41s/it, loss=0.829]\n"
     ]
    },
    {
     "name": "stdout",
     "output_type": "stream",
     "text": [
      "EarlyStopping counter: 7/100 (Best val_acc: 0.9917)\n",
      "\n",
      "Epoch 17/100 | LR: 4.76e-04 | Teach: 0.59 | Scheduler: OneCycleLR\n",
      "  Train Loss: 0.7535 | Train Char Acc: 0.9909\n",
      "  Val Loss: 0.7609   | Val Acc (CRR): 0.9895\n",
      "  Val Exact Match Acc (E2E RR): 0.9442\n",
      "----------------------------------------------------------------------\n"
     ]
    },
    {
     "name": "stderr",
     "output_type": "stream",
     "text": [
      "Epoch 18/100 [TRAIN] LR: 4.76e-04 Teach: 0.59 Scheduler: OneCycleLR:   2%|▏         | 1/42 [00:05<03:50,  5.63s/it, loss=0.767]"
     ]
    },
    {
     "name": "stdout",
     "output_type": "stream",
     "text": [
      "\n",
      "--- Training Batch 0 Examples (Content Only) ---\n",
      "  Pred: '7735UW'\n",
      "  True: '7735UW'\n",
      "  Pred: 'T39169'\n",
      "  True: 'T39169'\n",
      "  Pred: '3206TW'\n",
      "  True: '3206TW'\n",
      "  Pred: 'U52980'\n",
      "  True: 'U52980'\n",
      "  Pred: 'SC3251'\n",
      "  True: 'SC3251'\n",
      "-------------------------------\n"
     ]
    },
    {
     "name": "stderr",
     "output_type": "stream",
     "text": [
      "Epoch 18/100 [TRAIN] LR: 4.76e-04 Teach: 0.59 Scheduler: OneCycleLR: 100%|██████████| 42/42 [00:57<00:00,  1.37s/it, loss=0.751]\n",
      "Epoch 18/100 [VAL]: 100%|██████████| 22/22 [00:30<00:00,  1.41s/it, loss=0.911]\n"
     ]
    },
    {
     "name": "stdout",
     "output_type": "stream",
     "text": [
      "EarlyStopping counter: 8/100 (Best val_acc: 0.9917)\n",
      "\n",
      "Epoch 18/100 | LR: 4.89e-04 | Teach: 0.59 | Scheduler: OneCycleLR\n",
      "  Train Loss: 0.7538 | Train Char Acc: 0.9906\n",
      "  Val Loss: 0.7645   | Val Acc (CRR): 0.9887\n",
      "  Val Exact Match Acc (E2E RR): 0.9457\n",
      "----------------------------------------------------------------------\n"
     ]
    },
    {
     "name": "stderr",
     "output_type": "stream",
     "text": [
      "Epoch 19/100 [TRAIN] LR: 4.89e-04 Teach: 0.58 Scheduler: OneCycleLR:   2%|▏         | 1/42 [00:04<03:22,  4.94s/it, loss=0.744]"
     ]
    },
    {
     "name": "stdout",
     "output_type": "stream",
     "text": [
      "\n",
      "--- Training Batch 0 Examples (Content Only) ---\n",
      "  Pred: '8985QZ'\n",
      "  True: '8985QZ'\n",
      "  Pred: '3923DE'\n",
      "  True: '3923DE'\n",
      "  Pred: '0560MS'\n",
      "  True: '0560MS'\n",
      "  Pred: '1268GE'\n",
      "  True: '1268GE'\n",
      "  Pred: '6998DB'\n",
      "  True: '6998DB'\n",
      "-------------------------------\n"
     ]
    },
    {
     "name": "stderr",
     "output_type": "stream",
     "text": [
      "Epoch 19/100 [TRAIN] LR: 4.89e-04 Teach: 0.58 Scheduler: OneCycleLR: 100%|██████████| 42/42 [00:56<00:00,  1.35s/it, loss=0.795]\n",
      "Epoch 19/100 [VAL]: 100%|██████████| 22/22 [00:31<00:00,  1.41s/it, loss=0.887]\n"
     ]
    },
    {
     "name": "stdout",
     "output_type": "stream",
     "text": [
      "EarlyStopping counter: 9/100 (Best val_acc: 0.9917)\n",
      "\n",
      "Epoch 19/100 | LR: 4.97e-04 | Teach: 0.58 | Scheduler: OneCycleLR\n",
      "  Train Loss: 0.7644 | Train Char Acc: 0.9867\n",
      "  Val Loss: 0.7527   | Val Acc (CRR): 0.9907\n",
      "  Val Exact Match Acc (E2E RR): 0.9530\n",
      "----------------------------------------------------------------------\n"
     ]
    },
    {
     "name": "stderr",
     "output_type": "stream",
     "text": [
      "Epoch 20/100 [TRAIN] LR: 4.97e-04 Teach: 0.58 Scheduler: OneCycleLR:   2%|▏         | 1/42 [00:05<03:42,  5.42s/it, loss=0.732]"
     ]
    },
    {
     "name": "stdout",
     "output_type": "stream",
     "text": [
      "\n",
      "--- Training Batch 0 Examples (Content Only) ---\n",
      "  Pred: 'G28599'\n",
      "  True: 'G28599'\n",
      "  Pred: 'Z36472'\n",
      "  True: 'Z36472'\n",
      "  Pred: '7159QN'\n",
      "  True: '7159QN'\n",
      "  Pred: '3487QD'\n",
      "  True: '3487QD'\n",
      "  Pred: 'HZ0848'\n",
      "  True: 'HZ0848'\n",
      "-------------------------------\n"
     ]
    },
    {
     "name": "stderr",
     "output_type": "stream",
     "text": [
      "Epoch 20/100 [TRAIN] LR: 4.97e-04 Teach: 0.58 Scheduler: OneCycleLR: 100%|██████████| 42/42 [00:57<00:00,  1.36s/it, loss=0.734]\n",
      "Epoch 20/100 [VAL]: 100%|██████████| 22/22 [00:31<00:00,  1.42s/it, loss=0.875]\n"
     ]
    },
    {
     "name": "stdout",
     "output_type": "stream",
     "text": [
      "EarlyStopping counter: 10/100 (Best val_acc: 0.9917)\n",
      "\n",
      "Epoch 20/100 | LR: 5.00e-04 | Teach: 0.58 | Scheduler: OneCycleLR\n",
      "  Train Loss: 0.7505 | Train Char Acc: 0.9924\n",
      "  Val Loss: 0.7688   | Val Acc (CRR): 0.9887\n",
      "  Val Exact Match Acc (E2E RR): 0.9413\n",
      "----------------------------------------------------------------------\n"
     ]
    },
    {
     "name": "stderr",
     "output_type": "stream",
     "text": [
      "Epoch 21/100 [TRAIN] LR: 5.00e-04 Teach: 0.57 Scheduler: OneCycleLR:   2%|▏         | 1/42 [00:05<03:47,  5.56s/it, loss=0.731]"
     ]
    },
    {
     "name": "stdout",
     "output_type": "stream",
     "text": [
      "\n",
      "--- Training Batch 0 Examples (Content Only) ---\n",
      "  Pred: '6678FG'\n",
      "  True: '6678FG'\n",
      "  Pred: 'DE3718'\n",
      "  True: 'DE3718'\n",
      "  Pred: '3487QD'\n",
      "  True: '3487QD'\n",
      "  Pred: '3203KT'\n",
      "  True: '3203KT'\n",
      "  Pred: '4722MU'\n",
      "  True: '4722MU'\n",
      "-------------------------------\n"
     ]
    },
    {
     "name": "stderr",
     "output_type": "stream",
     "text": [
      "Epoch 21/100 [TRAIN] LR: 5.00e-04 Teach: 0.57 Scheduler: OneCycleLR: 100%|██████████| 42/42 [00:57<00:00,  1.37s/it, loss=0.733]\n",
      "Epoch 21/100 [VAL]: 100%|██████████| 22/22 [00:31<00:00,  1.41s/it, loss=0.852]\n"
     ]
    },
    {
     "name": "stdout",
     "output_type": "stream",
     "text": [
      "EarlyStopping counter: 11/100 (Best val_acc: 0.9917)\n",
      "\n",
      "Epoch 21/100 | LR: 5.00e-04 | Teach: 0.57 | Scheduler: OneCycleLR\n",
      "  Train Loss: 0.7625 | Train Char Acc: 0.9867\n",
      "  Val Loss: 0.7627   | Val Acc (CRR): 0.9880\n",
      "  Val Exact Match Acc (E2E RR): 0.9413\n",
      "----------------------------------------------------------------------\n"
     ]
    },
    {
     "name": "stderr",
     "output_type": "stream",
     "text": [
      "Epoch 22/100 [TRAIN] LR: 5.00e-04 Teach: 0.56 Scheduler: OneCycleLR:   2%|▏         | 1/42 [00:05<03:58,  5.81s/it, loss=0.736]"
     ]
    },
    {
     "name": "stdout",
     "output_type": "stream",
     "text": [
      "\n",
      "--- Training Batch 0 Examples (Content Only) ---\n",
      "  Pred: 'U41288'\n",
      "  True: 'U41288'\n",
      "  Pred: '7D1957'\n",
      "  True: '7D1957'\n",
      "  Pred: '6222QT'\n",
      "  True: '6222QT'\n",
      "  Pred: 'P624D5'\n",
      "  True: 'P624D5'\n",
      "  Pred: 'D06949'\n",
      "  True: 'D06949'\n",
      "-------------------------------\n"
     ]
    },
    {
     "name": "stderr",
     "output_type": "stream",
     "text": [
      "Epoch 22/100 [TRAIN] LR: 5.00e-04 Teach: 0.56 Scheduler: OneCycleLR: 100%|██████████| 42/42 [00:57<00:00,  1.37s/it, loss=0.734]\n",
      "Epoch 22/100 [VAL]: 100%|██████████| 22/22 [00:31<00:00,  1.42s/it, loss=0.871]\n"
     ]
    },
    {
     "name": "stdout",
     "output_type": "stream",
     "text": [
      "EarlyStopping counter: 12/100 (Best val_acc: 0.9917)\n",
      "\n",
      "Epoch 22/100 | LR: 4.99e-04 | Teach: 0.56 | Scheduler: OneCycleLR\n",
      "  Train Loss: 0.7628 | Train Char Acc: 0.9870\n",
      "  Val Loss: 0.7613   | Val Acc (CRR): 0.9890\n",
      "  Val Exact Match Acc (E2E RR): 0.9442\n",
      "----------------------------------------------------------------------\n"
     ]
    },
    {
     "name": "stderr",
     "output_type": "stream",
     "text": [
      "Epoch 23/100 [TRAIN] LR: 4.99e-04 Teach: 0.56 Scheduler: OneCycleLR:   2%|▏         | 1/42 [00:05<04:04,  5.95s/it, loss=0.741]"
     ]
    },
    {
     "name": "stdout",
     "output_type": "stream",
     "text": [
      "\n",
      "--- Training Batch 0 Examples (Content Only) ---\n",
      "  Pred: '0677QW'\n",
      "  True: '0677QW'\n",
      "  Pred: 'LD8599'\n",
      "  True: 'LD8599'\n",
      "  Pred: 'F26735'\n",
      "  True: 'F26735'\n",
      "  Pred: '8185ES'\n",
      "  True: '8185ES'\n",
      "  Pred: '5871HJ'\n",
      "  True: '5871HJ'\n",
      "-------------------------------\n"
     ]
    },
    {
     "name": "stderr",
     "output_type": "stream",
     "text": [
      "Epoch 23/100 [TRAIN] LR: 4.99e-04 Teach: 0.56 Scheduler: OneCycleLR: 100%|██████████| 42/42 [00:58<00:00,  1.38s/it, loss=0.733]\n",
      "Epoch 23/100 [VAL]: 100%|██████████| 22/22 [00:31<00:00,  1.41s/it, loss=0.872]\n"
     ]
    },
    {
     "name": "stdout",
     "output_type": "stream",
     "text": [
      "EarlyStopping counter: 13/100 (Best val_acc: 0.9917)\n",
      "\n",
      "Epoch 23/100 | LR: 4.98e-04 | Teach: 0.56 | Scheduler: OneCycleLR\n",
      "  Train Loss: 0.7531 | Train Char Acc: 0.9901\n",
      "  Val Loss: 0.7635   | Val Acc (CRR): 0.9892\n",
      "  Val Exact Match Acc (E2E RR): 0.9486\n",
      "----------------------------------------------------------------------\n"
     ]
    },
    {
     "name": "stderr",
     "output_type": "stream",
     "text": [
      "Epoch 24/100 [TRAIN] LR: 4.98e-04 Teach: 0.55 Scheduler: OneCycleLR:   2%|▏         | 1/42 [00:05<03:58,  5.83s/it, loss=0.759]"
     ]
    },
    {
     "name": "stdout",
     "output_type": "stream",
     "text": [
      "\n",
      "--- Training Batch 0 Examples (Content Only) ---\n",
      "  Pred: 'G28599'\n",
      "  True: 'G28599'\n",
      "  Pred: '0560MS'\n",
      "  True: '0560MS'\n",
      "  Pred: 'DB9200'\n",
      "  True: 'DB9200'\n",
      "  Pred: '0329HB'\n",
      "  True: '0329HB'\n",
      "  Pred: '6713UY'\n",
      "  True: '6713UY'\n",
      "-------------------------------\n"
     ]
    },
    {
     "name": "stderr",
     "output_type": "stream",
     "text": [
      "Epoch 24/100 [TRAIN] LR: 4.98e-04 Teach: 0.55 Scheduler: OneCycleLR: 100%|██████████| 42/42 [00:57<00:00,  1.38s/it, loss=0.778]\n",
      "Epoch 24/100 [VAL]: 100%|██████████| 22/22 [00:30<00:00,  1.40s/it, loss=0.949]\n"
     ]
    },
    {
     "name": "stdout",
     "output_type": "stream",
     "text": [
      "EarlyStopping counter: 14/100 (Best val_acc: 0.9917)\n",
      "\n",
      "Epoch 24/100 | LR: 4.97e-04 | Teach: 0.55 | Scheduler: OneCycleLR\n",
      "  Train Loss: 0.7504 | Train Char Acc: 0.9917\n",
      "  Val Loss: 0.7598   | Val Acc (CRR): 0.9885\n",
      "  Val Exact Match Acc (E2E RR): 0.9442\n",
      "----------------------------------------------------------------------\n"
     ]
    },
    {
     "name": "stderr",
     "output_type": "stream",
     "text": [
      "Epoch 25/100 [TRAIN] LR: 4.97e-04 Teach: 0.54 Scheduler: OneCycleLR:   2%|▏         | 1/42 [00:06<04:08,  6.07s/it, loss=0.731]"
     ]
    },
    {
     "name": "stdout",
     "output_type": "stream",
     "text": [
      "\n",
      "--- Training Batch 0 Examples (Content Only) ---\n",
      "  Pred: '1U8735'\n",
      "  True: '1U8735'\n",
      "  Pred: 'LU5613'\n",
      "  True: 'LU5613'\n",
      "  Pred: '3B1158'\n",
      "  True: '3B1158'\n",
      "  Pred: 'H34949'\n",
      "  True: 'H34949'\n",
      "  Pred: 'C28922'\n",
      "  True: 'C28922'\n",
      "-------------------------------\n"
     ]
    },
    {
     "name": "stderr",
     "output_type": "stream",
     "text": [
      "Epoch 25/100 [TRAIN] LR: 4.97e-04 Teach: 0.54 Scheduler: OneCycleLR: 100%|██████████| 42/42 [00:57<00:00,  1.37s/it, loss=0.742]\n",
      "Epoch 25/100 [VAL]: 100%|██████████| 22/22 [00:30<00:00,  1.41s/it, loss=0.837]\n",
      "/usr/local/lib/python3.11/dist-packages/torch/optim/lr_scheduler.py:62: UserWarning: The verbose parameter is deprecated. Please use get_last_lr() to access the learning rate.\n",
      "  warnings.warn(\n"
     ]
    },
    {
     "name": "stdout",
     "output_type": "stream",
     "text": [
      "EarlyStopping counter: 15/100 (Best val_acc: 0.9917)\n",
      "Val Acc stalled for 100 epochs. Switching to ReduceLROnPlateau.\n",
      "\n",
      "Epoch 25/100 | LR: 4.95e-04 | Teach: 0.54 | Scheduler: ReduceLROnPlateau\n",
      "  Train Loss: 0.7468 | Train Char Acc: 0.9923\n",
      "  Val Loss: 0.7577   | Val Acc (CRR): 0.9880\n",
      "  Val Exact Match Acc (E2E RR): 0.9427\n",
      "----------------------------------------------------------------------\n"
     ]
    },
    {
     "name": "stderr",
     "output_type": "stream",
     "text": [
      "Epoch 26/100 [TRAIN] LR: 4.95e-04 Teach: 0.54 Scheduler: ReduceLROnPlateau:   2%|▏         | 1/42 [00:05<03:37,  5.30s/it, loss=0.784]"
     ]
    },
    {
     "name": "stdout",
     "output_type": "stream",
     "text": [
      "\n",
      "--- Training Batch 0 Examples (Content Only) ---\n",
      "  Pred: 'WZ1252'\n",
      "  True: 'WZ1252'\n",
      "  Pred: '0236XX'\n",
      "  True: '0236XX'\n",
      "  Pred: 'P87795'\n",
      "  True: 'P87795'\n",
      "  Pred: '7101DC'\n",
      "  True: '7101DC'\n",
      "  Pred: '3852HG'\n",
      "  True: '3852HG'\n",
      "-------------------------------\n"
     ]
    },
    {
     "name": "stderr",
     "output_type": "stream",
     "text": [
      "Epoch 26/100 [TRAIN] LR: 4.95e-04 Teach: 0.54 Scheduler: ReduceLROnPlateau: 100%|██████████| 42/42 [00:57<00:00,  1.36s/it, loss=0.728]\n",
      "Epoch 26/100 [VAL]: 100%|██████████| 22/22 [00:31<00:00,  1.43s/it, loss=0.839]\n"
     ]
    },
    {
     "name": "stdout",
     "output_type": "stream",
     "text": [
      "EarlyStopping counter: 16/100 (Best val_acc: 0.9917)\n",
      "\n",
      "Epoch 26/100 | LR: 4.95e-04 | Teach: 0.54 | Scheduler: ReduceLROnPlateau\n",
      "  Train Loss: 0.7508 | Train Char Acc: 0.9898\n",
      "  Val Loss: 0.7537   | Val Acc (CRR): 0.9880\n",
      "  Val Exact Match Acc (E2E RR): 0.9486\n",
      "----------------------------------------------------------------------\n"
     ]
    },
    {
     "name": "stderr",
     "output_type": "stream",
     "text": [
      "Epoch 27/100 [TRAIN] LR: 4.95e-04 Teach: 0.53 Scheduler: ReduceLROnPlateau:   2%|▏         | 1/42 [00:05<03:58,  5.83s/it, loss=0.745]"
     ]
    },
    {
     "name": "stdout",
     "output_type": "stream",
     "text": [
      "\n",
      "--- Training Batch 0 Examples (Content Only) ---\n",
      "  Pred: 'RS9732'\n",
      "  True: 'RS9732'\n",
      "  Pred: '3H9368'\n",
      "  True: '3H9368'\n",
      "  Pred: '4722MU'\n",
      "  True: '4722MU'\n",
      "  Pred: '2016UX'\n",
      "  True: '2016UX'\n",
      "  Pred: 'BU8596'\n",
      "  True: 'BU8596'\n",
      "-------------------------------\n"
     ]
    },
    {
     "name": "stderr",
     "output_type": "stream",
     "text": [
      "Epoch 27/100 [TRAIN] LR: 4.95e-04 Teach: 0.53 Scheduler: ReduceLROnPlateau: 100%|██████████| 42/42 [00:57<00:00,  1.37s/it, loss=0.733]\n",
      "Epoch 27/100 [VAL]: 100%|██████████| 22/22 [00:30<00:00,  1.41s/it, loss=0.927]\n"
     ]
    },
    {
     "name": "stdout",
     "output_type": "stream",
     "text": [
      "EarlyStopping counter: 17/100 (Best val_acc: 0.9917)\n",
      "\n",
      "Epoch 27/100 | LR: 4.95e-04 | Teach: 0.53 | Scheduler: ReduceLROnPlateau\n",
      "  Train Loss: 0.7523 | Train Char Acc: 0.9886\n",
      "  Val Loss: 0.7608   | Val Acc (CRR): 0.9892\n",
      "  Val Exact Match Acc (E2E RR): 0.9471\n",
      "----------------------------------------------------------------------\n"
     ]
    },
    {
     "name": "stderr",
     "output_type": "stream",
     "text": [
      "Epoch 28/100 [TRAIN] LR: 4.95e-04 Teach: 0.52 Scheduler: ReduceLROnPlateau:   2%|▏         | 1/42 [00:04<03:24,  5.00s/it, loss=0.73]"
     ]
    },
    {
     "name": "stdout",
     "output_type": "stream",
     "text": [
      "\n",
      "--- Training Batch 0 Examples (Content Only) ---\n",
      "  Pred: '6122QU'\n",
      "  True: '6122QU'\n",
      "  Pred: 'UR5216'\n",
      "  True: 'UR5216'\n",
      "  Pred: '1387QL'\n",
      "  True: '1387QL'\n",
      "  Pred: '4468QD'\n",
      "  True: '4468QD'\n",
      "  Pred: '9C0807'\n",
      "  True: '9C0807'\n",
      "-------------------------------\n"
     ]
    },
    {
     "name": "stderr",
     "output_type": "stream",
     "text": [
      "Epoch 28/100 [TRAIN] LR: 4.95e-04 Teach: 0.52 Scheduler: ReduceLROnPlateau: 100%|██████████| 42/42 [00:56<00:00,  1.36s/it, loss=0.751]\n",
      "Epoch 28/100 [VAL]: 100%|██████████| 22/22 [00:31<00:00,  1.42s/it, loss=0.867]\n"
     ]
    },
    {
     "name": "stdout",
     "output_type": "stream",
     "text": [
      "EarlyStopping counter: 18/100 (Best val_acc: 0.9917)\n",
      "\n",
      "Epoch 28/100 | LR: 4.95e-04 | Teach: 0.52 | Scheduler: ReduceLROnPlateau\n",
      "  Train Loss: 0.7524 | Train Char Acc: 0.9896\n",
      "  Val Loss: 0.7569   | Val Acc (CRR): 0.9897\n",
      "  Val Exact Match Acc (E2E RR): 0.9457\n",
      "----------------------------------------------------------------------\n"
     ]
    },
    {
     "name": "stderr",
     "output_type": "stream",
     "text": [
      "Epoch 29/100 [TRAIN] LR: 4.95e-04 Teach: 0.52 Scheduler: ReduceLROnPlateau:   2%|▏         | 1/42 [00:05<03:29,  5.11s/it, loss=0.741]"
     ]
    },
    {
     "name": "stdout",
     "output_type": "stream",
     "text": [
      "\n",
      "--- Training Batch 0 Examples (Content Only) ---\n",
      "  Pred: 'F93065'\n",
      "  True: 'F93065'\n",
      "  Pred: 'G31122'\n",
      "  True: 'G31122'\n",
      "  Pred: '9D6221'\n",
      "  True: '9D6221'\n",
      "  Pred: 'N30237'\n",
      "  True: 'N30237'\n",
      "  Pred: 'DZ2971'\n",
      "  True: 'DZ2971'\n",
      "-------------------------------\n"
     ]
    },
    {
     "name": "stderr",
     "output_type": "stream",
     "text": [
      "Epoch 29/100 [TRAIN] LR: 4.95e-04 Teach: 0.52 Scheduler: ReduceLROnPlateau: 100%|██████████| 42/42 [00:57<00:00,  1.37s/it, loss=0.747]\n",
      "Epoch 29/100 [VAL]: 100%|██████████| 22/22 [00:31<00:00,  1.41s/it, loss=0.868]\n"
     ]
    },
    {
     "name": "stdout",
     "output_type": "stream",
     "text": [
      "EarlyStopping counter: 19/100 (Best val_acc: 0.9917)\n",
      "\n",
      "Epoch 29/100 | LR: 4.95e-04 | Teach: 0.52 | Scheduler: ReduceLROnPlateau\n",
      "  Train Loss: 0.7497 | Train Char Acc: 0.9911\n",
      "  Val Loss: 0.7548   | Val Acc (CRR): 0.9897\n",
      "  Val Exact Match Acc (E2E RR): 0.9515\n",
      "----------------------------------------------------------------------\n"
     ]
    },
    {
     "name": "stderr",
     "output_type": "stream",
     "text": [
      "Epoch 30/100 [TRAIN] LR: 4.95e-04 Teach: 0.51 Scheduler: ReduceLROnPlateau:   2%|▏         | 1/42 [00:05<03:57,  5.80s/it, loss=0.766]"
     ]
    },
    {
     "name": "stdout",
     "output_type": "stream",
     "text": [
      "\n",
      "--- Training Batch 0 Examples (Content Only) ---\n",
      "  Pred: 'CP4617'\n",
      "  True: 'CP4617'\n",
      "  Pred: 'R01789'\n",
      "  True: 'R01789'\n",
      "  Pred: '1976VH'\n",
      "  True: '1976VH'\n",
      "  Pred: '6810RR'\n",
      "  True: '6810RR'\n",
      "  Pred: '2368QD'\n",
      "  True: '2368QD'\n",
      "-------------------------------\n"
     ]
    },
    {
     "name": "stderr",
     "output_type": "stream",
     "text": [
      "Epoch 30/100 [TRAIN] LR: 4.95e-04 Teach: 0.51 Scheduler: ReduceLROnPlateau: 100%|██████████| 42/42 [00:57<00:00,  1.37s/it, loss=0.734]\n",
      "Epoch 30/100 [VAL]: 100%|██████████| 22/22 [00:31<00:00,  1.44s/it, loss=0.87]\n"
     ]
    },
    {
     "name": "stdout",
     "output_type": "stream",
     "text": [
      "EarlyStopping counter: 20/100 (Best val_acc: 0.9917)\n",
      "\n",
      "Epoch 30/100 | LR: 4.95e-04 | Teach: 0.51 | Scheduler: ReduceLROnPlateau\n",
      "  Train Loss: 0.7537 | Train Char Acc: 0.9892\n",
      "  Val Loss: 0.7471   | Val Acc (CRR): 0.9870\n",
      "  Val Exact Match Acc (E2E RR): 0.9325\n",
      "----------------------------------------------------------------------\n"
     ]
    },
    {
     "name": "stderr",
     "output_type": "stream",
     "text": [
      "Epoch 31/100 [TRAIN] LR: 4.95e-04 Teach: 0.50 Scheduler: ReduceLROnPlateau:   2%|▏         | 1/42 [00:05<03:52,  5.67s/it, loss=0.774]"
     ]
    },
    {
     "name": "stdout",
     "output_type": "stream",
     "text": [
      "\n",
      "--- Training Batch 0 Examples (Content Only) ---\n",
      "  Pred: '3E2365'\n",
      "  True: '3E2365'\n",
      "  Pred: '6V4536'\n",
      "  True: '6V4536'\n",
      "  Pred: 'AG5347'\n",
      "  True: 'AG5347'\n",
      "  Pred: '7R7583'\n",
      "  True: '7R7583'\n",
      "  Pred: 'G28599'\n",
      "  True: 'G28599'\n",
      "-------------------------------\n"
     ]
    },
    {
     "name": "stderr",
     "output_type": "stream",
     "text": [
      "Epoch 31/100 [TRAIN] LR: 4.95e-04 Teach: 0.50 Scheduler: ReduceLROnPlateau: 100%|██████████| 42/42 [00:57<00:00,  1.36s/it, loss=0.761]\n",
      "Epoch 31/100 [VAL]: 100%|██████████| 22/22 [00:31<00:00,  1.42s/it, loss=0.933]\n"
     ]
    },
    {
     "name": "stdout",
     "output_type": "stream",
     "text": [
      "EarlyStopping counter: 21/100 (Best val_acc: 0.9917)\n",
      "\n",
      "Epoch 31/100 | LR: 2.48e-04 | Teach: 0.50 | Scheduler: ReduceLROnPlateau\n",
      "  Train Loss: 0.7427 | Train Char Acc: 0.9928\n",
      "  Val Loss: 0.7670   | Val Acc (CRR): 0.9875\n",
      "  Val Exact Match Acc (E2E RR): 0.9383\n",
      "----------------------------------------------------------------------\n"
     ]
    },
    {
     "name": "stderr",
     "output_type": "stream",
     "text": [
      "Epoch 32/100 [TRAIN] LR: 2.48e-04 Teach: 0.50 Scheduler: ReduceLROnPlateau:   2%|▏         | 1/42 [00:05<03:43,  5.45s/it, loss=0.722]"
     ]
    },
    {
     "name": "stdout",
     "output_type": "stream",
     "text": [
      "\n",
      "--- Training Batch 0 Examples (Content Only) ---\n",
      "  Pred: 'BT3933'\n",
      "  True: 'BT3933'\n",
      "  Pred: '9012VR'\n",
      "  True: '9012VR'\n",
      "  Pred: '6603ED'\n",
      "  True: '6603ED'\n",
      "  Pred: 'CF5225'\n",
      "  True: 'CF5225'\n",
      "  Pred: 'AT9090'\n",
      "  True: 'AT9090'\n",
      "-------------------------------\n"
     ]
    },
    {
     "name": "stderr",
     "output_type": "stream",
     "text": [
      "Epoch 32/100 [TRAIN] LR: 2.48e-04 Teach: 0.50 Scheduler: ReduceLROnPlateau: 100%|██████████| 42/42 [00:57<00:00,  1.36s/it, loss=0.727]\n",
      "Epoch 32/100 [VAL]: 100%|██████████| 22/22 [00:31<00:00,  1.43s/it, loss=0.902]\n"
     ]
    },
    {
     "name": "stdout",
     "output_type": "stream",
     "text": [
      "EarlyStopping counter: 22/100 (Best val_acc: 0.9917)\n",
      "\n",
      "Epoch 32/100 | LR: 2.48e-04 | Teach: 0.50 | Scheduler: ReduceLROnPlateau\n",
      "  Train Loss: 0.7413 | Train Char Acc: 0.9914\n",
      "  Val Loss: 0.7544   | Val Acc (CRR): 0.9892\n",
      "  Val Exact Match Acc (E2E RR): 0.9442\n",
      "----------------------------------------------------------------------\n"
     ]
    },
    {
     "name": "stderr",
     "output_type": "stream",
     "text": [
      "Epoch 33/100 [TRAIN] LR: 2.48e-04 Teach: 0.49 Scheduler: ReduceLROnPlateau:   2%|▏         | 1/42 [00:05<03:45,  5.50s/it, loss=0.761]"
     ]
    },
    {
     "name": "stdout",
     "output_type": "stream",
     "text": [
      "\n",
      "--- Training Batch 0 Examples (Content Only) ---\n",
      "  Pred: 'ES8855'\n",
      "  True: 'ES8855'\n",
      "  Pred: 'ZN9120'\n",
      "  True: 'ZN9120'\n",
      "  Pred: '8962ED'\n",
      "  True: '8962ED'\n",
      "  Pred: '0056TK'\n",
      "  True: '0056TK'\n",
      "  Pred: '8A6893'\n",
      "  True: '8A6893'\n",
      "-------------------------------\n"
     ]
    },
    {
     "name": "stderr",
     "output_type": "stream",
     "text": [
      "Epoch 33/100 [TRAIN] LR: 2.48e-04 Teach: 0.49 Scheduler: ReduceLROnPlateau: 100%|██████████| 42/42 [00:57<00:00,  1.37s/it, loss=0.719]\n",
      "Epoch 33/100 [VAL]: 100%|██████████| 22/22 [00:31<00:00,  1.44s/it, loss=0.898]\n"
     ]
    },
    {
     "name": "stdout",
     "output_type": "stream",
     "text": [
      "EarlyStopping counter: 23/100 (Best val_acc: 0.9917)\n",
      "\n",
      "Epoch 33/100 | LR: 2.48e-04 | Teach: 0.49 | Scheduler: ReduceLROnPlateau\n",
      "  Train Loss: 0.7421 | Train Char Acc: 0.9906\n",
      "  Val Loss: 0.7492   | Val Acc (CRR): 0.9892\n",
      "  Val Exact Match Acc (E2E RR): 0.9486\n",
      "----------------------------------------------------------------------\n"
     ]
    },
    {
     "name": "stderr",
     "output_type": "stream",
     "text": [
      "Epoch 34/100 [TRAIN] LR: 2.48e-04 Teach: 0.48 Scheduler: ReduceLROnPlateau:   2%|▏         | 1/42 [00:05<03:50,  5.63s/it, loss=0.717]"
     ]
    },
    {
     "name": "stdout",
     "output_type": "stream",
     "text": [
      "\n",
      "--- Training Batch 0 Examples (Content Only) ---\n",
      "  Pred: '2E4268'\n",
      "  True: '2E4268'\n",
      "  Pred: '6016YM'\n",
      "  True: '6016YM'\n",
      "  Pred: '1P9968'\n",
      "  True: '1P9968'\n",
      "  Pred: '2H0311'\n",
      "  True: '2H0311'\n",
      "  Pred: 'L931B3'\n",
      "  True: 'L931B3'\n",
      "-------------------------------\n"
     ]
    },
    {
     "name": "stderr",
     "output_type": "stream",
     "text": [
      "Epoch 34/100 [TRAIN] LR: 2.48e-04 Teach: 0.48 Scheduler: ReduceLROnPlateau: 100%|██████████| 42/42 [00:57<00:00,  1.37s/it, loss=0.752]\n",
      "Epoch 34/100 [VAL]: 100%|██████████| 22/22 [00:31<00:00,  1.42s/it, loss=0.867]\n"
     ]
    },
    {
     "name": "stdout",
     "output_type": "stream",
     "text": [
      "EarlyStopping counter: 24/100 (Best val_acc: 0.9917)\n",
      "\n",
      "Epoch 34/100 | LR: 2.48e-04 | Teach: 0.48 | Scheduler: ReduceLROnPlateau\n",
      "  Train Loss: 0.7375 | Train Char Acc: 0.9919\n",
      "  Val Loss: 0.7500   | Val Acc (CRR): 0.9900\n",
      "  Val Exact Match Acc (E2E RR): 0.9486\n",
      "----------------------------------------------------------------------\n"
     ]
    },
    {
     "name": "stderr",
     "output_type": "stream",
     "text": [
      "Epoch 35/100 [TRAIN] LR: 2.48e-04 Teach: 0.48 Scheduler: ReduceLROnPlateau:   2%|▏         | 1/42 [00:06<04:06,  6.01s/it, loss=0.72]"
     ]
    },
    {
     "name": "stdout",
     "output_type": "stream",
     "text": [
      "\n",
      "--- Training Batch 0 Examples (Content Only) ---\n",
      "  Pred: 'CR0073'\n",
      "  True: 'CR0073'\n",
      "  Pred: '3D4402'\n",
      "  True: '3D4402'\n",
      "  Pred: '1387QL'\n",
      "  True: '1387QL'\n",
      "  Pred: 'GK9087'\n",
      "  True: 'GK9087'\n",
      "  Pred: '0865DM'\n",
      "  True: '0865DM'\n",
      "-------------------------------\n"
     ]
    },
    {
     "name": "stderr",
     "output_type": "stream",
     "text": [
      "Epoch 35/100 [TRAIN] LR: 2.48e-04 Teach: 0.48 Scheduler: ReduceLROnPlateau: 100%|██████████| 42/42 [00:57<00:00,  1.37s/it, loss=0.741]\n",
      "Epoch 35/100 [VAL]: 100%|██████████| 22/22 [00:30<00:00,  1.41s/it, loss=0.87]\n"
     ]
    },
    {
     "name": "stdout",
     "output_type": "stream",
     "text": [
      "EarlyStopping counter: 25/100 (Best val_acc: 0.9917)\n",
      "\n",
      "Epoch 35/100 | LR: 2.48e-04 | Teach: 0.48 | Scheduler: ReduceLROnPlateau\n",
      "  Train Loss: 0.7401 | Train Char Acc: 0.9908\n",
      "  Val Loss: 0.7517   | Val Acc (CRR): 0.9892\n",
      "  Val Exact Match Acc (E2E RR): 0.9457\n",
      "----------------------------------------------------------------------\n"
     ]
    },
    {
     "name": "stderr",
     "output_type": "stream",
     "text": [
      "Epoch 36/100 [TRAIN] LR: 2.48e-04 Teach: 0.47 Scheduler: ReduceLROnPlateau:   2%|▏         | 1/42 [00:05<04:03,  5.95s/it, loss=0.72]"
     ]
    },
    {
     "name": "stdout",
     "output_type": "stream",
     "text": [
      "\n",
      "--- Training Batch 0 Examples (Content Only) ---\n",
      "  Pred: '3586EW'\n",
      "  True: '3586EW'\n",
      "  Pred: '3391UW'\n",
      "  True: '3391UW'\n",
      "  Pred: '5008QX'\n",
      "  True: '5008QX'\n",
      "  Pred: '8179NN'\n",
      "  True: '8179NN'\n",
      "  Pred: '9626YD'\n",
      "  True: '9626YD'\n",
      "-------------------------------\n"
     ]
    },
    {
     "name": "stderr",
     "output_type": "stream",
     "text": [
      "Epoch 36/100 [TRAIN] LR: 2.48e-04 Teach: 0.47 Scheduler: ReduceLROnPlateau: 100%|██████████| 42/42 [00:57<00:00,  1.37s/it, loss=0.791]\n",
      "Epoch 36/100 [VAL]: 100%|██████████| 22/22 [00:30<00:00,  1.40s/it, loss=0.837]\n"
     ]
    },
    {
     "name": "stdout",
     "output_type": "stream",
     "text": [
      "EarlyStopping counter: 26/100 (Best val_acc: 0.9917)\n",
      "\n",
      "Epoch 36/100 | LR: 2.48e-04 | Teach: 0.47 | Scheduler: ReduceLROnPlateau\n",
      "  Train Loss: 0.7361 | Train Char Acc: 0.9911\n",
      "  Val Loss: 0.7515   | Val Acc (CRR): 0.9882\n",
      "  Val Exact Match Acc (E2E RR): 0.9413\n",
      "----------------------------------------------------------------------\n"
     ]
    },
    {
     "name": "stderr",
     "output_type": "stream",
     "text": [
      "Epoch 37/100 [TRAIN] LR: 2.48e-04 Teach: 0.46 Scheduler: ReduceLROnPlateau:   2%|▏         | 1/42 [00:05<04:01,  5.89s/it, loss=0.732]"
     ]
    },
    {
     "name": "stdout",
     "output_type": "stream",
     "text": [
      "\n",
      "--- Training Batch 0 Examples (Content Only) ---\n",
      "  Pred: 'G28715'\n",
      "  True: 'G28715'\n",
      "  Pred: '5499FS'\n",
      "  True: '5499FS'\n",
      "  Pred: '0915GZ'\n",
      "  True: '0915GZ'\n",
      "  Pred: 'Z81081'\n",
      "  True: 'Z81081'\n",
      "  Pred: '3580DX'\n",
      "  True: '3580DX'\n",
      "-------------------------------\n"
     ]
    },
    {
     "name": "stderr",
     "output_type": "stream",
     "text": [
      "Epoch 37/100 [TRAIN] LR: 2.48e-04 Teach: 0.46 Scheduler: ReduceLROnPlateau: 100%|██████████| 42/42 [00:57<00:00,  1.37s/it, loss=0.731]\n",
      "Epoch 37/100 [VAL]: 100%|██████████| 22/22 [00:31<00:00,  1.41s/it, loss=0.874]\n"
     ]
    },
    {
     "name": "stdout",
     "output_type": "stream",
     "text": [
      "EarlyStopping counter: 27/100 (Best val_acc: 0.9917)\n",
      "\n",
      "Epoch 37/100 | LR: 1.24e-04 | Teach: 0.46 | Scheduler: ReduceLROnPlateau\n",
      "  Train Loss: 0.7339 | Train Char Acc: 0.9923\n",
      "  Val Loss: 0.7539   | Val Acc (CRR): 0.9895\n",
      "  Val Exact Match Acc (E2E RR): 0.9486\n",
      "----------------------------------------------------------------------\n"
     ]
    },
    {
     "name": "stderr",
     "output_type": "stream",
     "text": [
      "Epoch 38/100 [TRAIN] LR: 1.24e-04 Teach: 0.46 Scheduler: ReduceLROnPlateau:   2%|▏         | 1/42 [00:05<03:37,  5.31s/it, loss=0.714]"
     ]
    },
    {
     "name": "stdout",
     "output_type": "stream",
     "text": [
      "\n",
      "--- Training Batch 0 Examples (Content Only) ---\n",
      "  Pred: 'UR6170'\n",
      "  True: 'UR6170'\n",
      "  Pred: '9490QE'\n",
      "  True: '9490QE'\n",
      "  Pred: 'BU8596'\n",
      "  True: 'BU8596'\n",
      "  Pred: 'DY9978'\n",
      "  True: 'DY9978'\n",
      "  Pred: '7096DN'\n",
      "  True: '7096DN'\n",
      "-------------------------------\n"
     ]
    },
    {
     "name": "stderr",
     "output_type": "stream",
     "text": [
      "Epoch 38/100 [TRAIN] LR: 1.24e-04 Teach: 0.46 Scheduler: ReduceLROnPlateau: 100%|██████████| 42/42 [00:57<00:00,  1.36s/it, loss=0.753]\n",
      "Epoch 38/100 [VAL]: 100%|██████████| 22/22 [00:31<00:00,  1.41s/it, loss=0.868]\n"
     ]
    },
    {
     "name": "stdout",
     "output_type": "stream",
     "text": [
      "EarlyStopping counter: 28/100 (Best val_acc: 0.9917)\n",
      "\n",
      "Epoch 38/100 | LR: 1.24e-04 | Teach: 0.46 | Scheduler: ReduceLROnPlateau\n",
      "  Train Loss: 0.7368 | Train Char Acc: 0.9911\n",
      "  Val Loss: 0.7477   | Val Acc (CRR): 0.9900\n",
      "  Val Exact Match Acc (E2E RR): 0.9471\n",
      "----------------------------------------------------------------------\n"
     ]
    },
    {
     "name": "stderr",
     "output_type": "stream",
     "text": [
      "Epoch 39/100 [TRAIN] LR: 1.24e-04 Teach: 0.45 Scheduler: ReduceLROnPlateau:   2%|▏         | 1/42 [00:05<03:43,  5.46s/it, loss=0.72]"
     ]
    },
    {
     "name": "stdout",
     "output_type": "stream",
     "text": [
      "\n",
      "--- Training Batch 0 Examples (Content Only) ---\n",
      "  Pred: '3E8922'\n",
      "  True: '3E8922'\n",
      "  Pred: 'C10790'\n",
      "  True: 'C10790'\n",
      "  Pred: '2551JS'\n",
      "  True: '2551JS'\n",
      "  Pred: '8853DW'\n",
      "  True: '8853DW'\n",
      "  Pred: 'BT2018'\n",
      "  True: 'BT2018'\n",
      "-------------------------------\n"
     ]
    },
    {
     "name": "stderr",
     "output_type": "stream",
     "text": [
      "Epoch 39/100 [TRAIN] LR: 1.24e-04 Teach: 0.45 Scheduler: ReduceLROnPlateau: 100%|██████████| 42/42 [00:57<00:00,  1.36s/it, loss=0.719]\n",
      "Epoch 39/100 [VAL]: 100%|██████████| 22/22 [00:31<00:00,  1.42s/it, loss=0.873]\n"
     ]
    },
    {
     "name": "stdout",
     "output_type": "stream",
     "text": [
      "EarlyStopping counter: 29/100 (Best val_acc: 0.9917)\n",
      "\n",
      "Epoch 39/100 | LR: 1.24e-04 | Teach: 0.45 | Scheduler: ReduceLROnPlateau\n",
      "  Train Loss: 0.7308 | Train Char Acc: 0.9936\n",
      "  Val Loss: 0.7507   | Val Acc (CRR): 0.9892\n",
      "  Val Exact Match Acc (E2E RR): 0.9442\n",
      "----------------------------------------------------------------------\n"
     ]
    },
    {
     "name": "stderr",
     "output_type": "stream",
     "text": [
      "Epoch 40/100 [TRAIN] LR: 1.24e-04 Teach: 0.44 Scheduler: ReduceLROnPlateau:   2%|▏         | 1/42 [00:05<03:57,  5.80s/it, loss=0.78]"
     ]
    },
    {
     "name": "stdout",
     "output_type": "stream",
     "text": [
      "\n",
      "--- Training Batch 0 Examples (Content Only) ---\n",
      "  Pred: 'EP5167'\n",
      "  True: 'EP5167'\n",
      "  Pred: '1P9968'\n",
      "  True: '1P9968'\n",
      "  Pred: '9K1720'\n",
      "  True: '9K1720'\n",
      "  Pred: '8T6210'\n",
      "  True: '8T6210'\n",
      "  Pred: '5110EA'\n",
      "  True: '5110EA'\n",
      "-------------------------------\n"
     ]
    },
    {
     "name": "stderr",
     "output_type": "stream",
     "text": [
      "Epoch 40/100 [TRAIN] LR: 1.24e-04 Teach: 0.44 Scheduler: ReduceLROnPlateau: 100%|██████████| 42/42 [00:57<00:00,  1.37s/it, loss=0.727]\n",
      "Epoch 40/100 [VAL]: 100%|██████████| 22/22 [00:31<00:00,  1.42s/it, loss=0.859]\n"
     ]
    },
    {
     "name": "stdout",
     "output_type": "stream",
     "text": [
      "EarlyStopping counter: 30/100 (Best val_acc: 0.9917)\n",
      "\n",
      "Epoch 40/100 | LR: 6.19e-05 | Teach: 0.44 | Scheduler: ReduceLROnPlateau\n",
      "  Train Loss: 0.7296 | Train Char Acc: 0.9934\n",
      "  Val Loss: 0.7499   | Val Acc (CRR): 0.9892\n",
      "  Val Exact Match Acc (E2E RR): 0.9442\n",
      "----------------------------------------------------------------------\n"
     ]
    },
    {
     "name": "stderr",
     "output_type": "stream",
     "text": [
      "Epoch 41/100 [TRAIN] LR: 6.19e-05 Teach: 0.44 Scheduler: ReduceLROnPlateau:   2%|▏         | 1/42 [00:05<03:52,  5.68s/it, loss=0.712]"
     ]
    },
    {
     "name": "stdout",
     "output_type": "stream",
     "text": [
      "\n",
      "--- Training Batch 0 Examples (Content Only) ---\n",
      "  Pred: '4323DU'\n",
      "  True: '4323DU'\n",
      "  Pred: '9L5722'\n",
      "  True: '9L5722'\n",
      "  Pred: '6906ZT'\n",
      "  True: '6906ZT'\n",
      "  Pred: '3968XJ'\n",
      "  True: '3968XJ'\n",
      "  Pred: 'HL4408'\n",
      "  True: 'HL4408'\n",
      "-------------------------------\n"
     ]
    },
    {
     "name": "stderr",
     "output_type": "stream",
     "text": [
      "Epoch 41/100 [TRAIN] LR: 6.19e-05 Teach: 0.44 Scheduler: ReduceLROnPlateau: 100%|██████████| 42/42 [00:57<00:00,  1.36s/it, loss=0.734]\n",
      "Epoch 41/100 [VAL]: 100%|██████████| 22/22 [00:31<00:00,  1.42s/it, loss=0.867]\n"
     ]
    },
    {
     "name": "stdout",
     "output_type": "stream",
     "text": [
      "EarlyStopping counter: 31/100 (Best val_acc: 0.9917)\n",
      "\n",
      "Epoch 41/100 | LR: 6.19e-05 | Teach: 0.44 | Scheduler: ReduceLROnPlateau\n",
      "  Train Loss: 0.7367 | Train Char Acc: 0.9892\n",
      "  Val Loss: 0.7499   | Val Acc (CRR): 0.9900\n",
      "  Val Exact Match Acc (E2E RR): 0.9486\n",
      "----------------------------------------------------------------------\n"
     ]
    },
    {
     "name": "stderr",
     "output_type": "stream",
     "text": [
      "Epoch 42/100 [TRAIN] LR: 6.19e-05 Teach: 0.43 Scheduler: ReduceLROnPlateau:   2%|▏         | 1/42 [00:05<03:48,  5.57s/it, loss=0.712]"
     ]
    },
    {
     "name": "stdout",
     "output_type": "stream",
     "text": [
      "\n",
      "--- Training Batch 0 Examples (Content Only) ---\n",
      "  Pred: 'X33890'\n",
      "  True: 'X33890'\n",
      "  Pred: '2215LR'\n",
      "  True: '2215LR'\n",
      "  Pred: '3970EA'\n",
      "  True: '3970EA'\n",
      "  Pred: '9711KG'\n",
      "  True: '9711KG'\n",
      "  Pred: '1582YH'\n",
      "  True: '1582YH'\n",
      "-------------------------------\n"
     ]
    },
    {
     "name": "stderr",
     "output_type": "stream",
     "text": [
      "Epoch 42/100 [TRAIN] LR: 6.19e-05 Teach: 0.43 Scheduler: ReduceLROnPlateau: 100%|██████████| 42/42 [00:57<00:00,  1.36s/it, loss=0.713]\n",
      "Epoch 42/100 [VAL]: 100%|██████████| 22/22 [00:30<00:00,  1.41s/it, loss=0.869]\n"
     ]
    },
    {
     "name": "stdout",
     "output_type": "stream",
     "text": [
      "EarlyStopping counter: 32/100 (Best val_acc: 0.9917)\n",
      "\n",
      "Epoch 42/100 | LR: 6.19e-05 | Teach: 0.43 | Scheduler: ReduceLROnPlateau\n",
      "  Train Loss: 0.7313 | Train Char Acc: 0.9916\n",
      "  Val Loss: 0.7475   | Val Acc (CRR): 0.9895\n",
      "  Val Exact Match Acc (E2E RR): 0.9457\n",
      "----------------------------------------------------------------------\n"
     ]
    },
    {
     "name": "stderr",
     "output_type": "stream",
     "text": [
      "Epoch 43/100 [TRAIN] LR: 6.19e-05 Teach: 0.42 Scheduler: ReduceLROnPlateau:   2%|▏         | 1/42 [00:05<03:44,  5.47s/it, loss=0.773]"
     ]
    },
    {
     "name": "stdout",
     "output_type": "stream",
     "text": [
      "\n",
      "--- Training Batch 0 Examples (Content Only) ---\n",
      "  Pred: '9K5595'\n",
      "  True: '9K5595'\n",
      "  Pred: 'C59631'\n",
      "  True: 'C59631'\n",
      "  Pred: '3391UW'\n",
      "  True: '3391UW'\n",
      "  Pred: '6899YH'\n",
      "  True: '6899YH'\n",
      "  Pred: '6378JJ'\n",
      "  True: '6378JJ'\n",
      "-------------------------------\n"
     ]
    },
    {
     "name": "stderr",
     "output_type": "stream",
     "text": [
      "Epoch 43/100 [TRAIN] LR: 6.19e-05 Teach: 0.42 Scheduler: ReduceLROnPlateau: 100%|██████████| 42/42 [00:57<00:00,  1.37s/it, loss=0.729]\n",
      "Epoch 43/100 [VAL]: 100%|██████████| 22/22 [00:30<00:00,  1.41s/it, loss=0.864]\n"
     ]
    },
    {
     "name": "stdout",
     "output_type": "stream",
     "text": [
      "EarlyStopping counter: 33/100 (Best val_acc: 0.9917)\n",
      "\n",
      "Epoch 43/100 | LR: 3.09e-05 | Teach: 0.42 | Scheduler: ReduceLROnPlateau\n",
      "  Train Loss: 0.7289 | Train Char Acc: 0.9931\n",
      "  Val Loss: 0.7481   | Val Acc (CRR): 0.9900\n",
      "  Val Exact Match Acc (E2E RR): 0.9486\n",
      "----------------------------------------------------------------------\n"
     ]
    },
    {
     "name": "stderr",
     "output_type": "stream",
     "text": [
      "Epoch 44/100 [TRAIN] LR: 3.09e-05 Teach: 0.42 Scheduler: ReduceLROnPlateau:   2%|▏         | 1/42 [00:05<03:42,  5.44s/it, loss=0.706]"
     ]
    },
    {
     "name": "stdout",
     "output_type": "stream",
     "text": [
      "\n",
      "--- Training Batch 0 Examples (Content Only) ---\n",
      "  Pred: '2563ET'\n",
      "  True: '2563ET'\n",
      "  Pred: '8E2157'\n",
      "  True: '8E2157'\n",
      "  Pred: '6878NB'\n",
      "  True: '6878NB'\n",
      "  Pred: '0M9311'\n",
      "  True: '0M9311'\n",
      "  Pred: '1567A5'\n",
      "  True: '1567A5'\n",
      "-------------------------------\n"
     ]
    },
    {
     "name": "stderr",
     "output_type": "stream",
     "text": [
      "Epoch 44/100 [TRAIN] LR: 3.09e-05 Teach: 0.42 Scheduler: ReduceLROnPlateau: 100%|██████████| 42/42 [00:57<00:00,  1.36s/it, loss=0.743]\n",
      "Epoch 44/100 [VAL]: 100%|██████████| 22/22 [00:31<00:00,  1.42s/it, loss=0.865]\n"
     ]
    },
    {
     "name": "stdout",
     "output_type": "stream",
     "text": [
      "EarlyStopping counter: 34/100 (Best val_acc: 0.9917)\n",
      "\n",
      "Epoch 44/100 | LR: 3.09e-05 | Teach: 0.42 | Scheduler: ReduceLROnPlateau\n",
      "  Train Loss: 0.7269 | Train Char Acc: 0.9932\n",
      "  Val Loss: 0.7471   | Val Acc (CRR): 0.9897\n",
      "  Val Exact Match Acc (E2E RR): 0.9471\n",
      "----------------------------------------------------------------------\n"
     ]
    },
    {
     "name": "stderr",
     "output_type": "stream",
     "text": [
      "Epoch 45/100 [TRAIN] LR: 3.09e-05 Teach: 0.41 Scheduler: ReduceLROnPlateau:   2%|▏         | 1/42 [00:05<03:54,  5.72s/it, loss=0.742]"
     ]
    },
    {
     "name": "stdout",
     "output_type": "stream",
     "text": [
      "\n",
      "--- Training Batch 0 Examples (Content Only) ---\n",
      "  Pred: 'T51593'\n",
      "  True: 'T51593'\n",
      "  Pred: '9403PD'\n",
      "  True: '9403PD'\n",
      "  Pred: '8799TT'\n",
      "  True: '8799TT'\n",
      "  Pred: 'DV8078'\n",
      "  True: 'DV8078'\n",
      "  Pred: 'DV3133'\n",
      "  True: 'DV3133'\n",
      "-------------------------------\n"
     ]
    },
    {
     "name": "stderr",
     "output_type": "stream",
     "text": [
      "Epoch 45/100 [TRAIN] LR: 3.09e-05 Teach: 0.41 Scheduler: ReduceLROnPlateau: 100%|██████████| 42/42 [00:57<00:00,  1.37s/it, loss=0.753]\n",
      "Epoch 45/100 [VAL]: 100%|██████████| 22/22 [00:31<00:00,  1.42s/it, loss=0.859]\n"
     ]
    },
    {
     "name": "stdout",
     "output_type": "stream",
     "text": [
      "EarlyStopping counter: 35/100 (Best val_acc: 0.9917)\n",
      "\n",
      "Epoch 45/100 | LR: 3.09e-05 | Teach: 0.41 | Scheduler: ReduceLROnPlateau\n",
      "  Train Loss: 0.7370 | Train Char Acc: 0.9891\n",
      "  Val Loss: 0.7462   | Val Acc (CRR): 0.9900\n",
      "  Val Exact Match Acc (E2E RR): 0.9486\n",
      "----------------------------------------------------------------------\n"
     ]
    },
    {
     "name": "stderr",
     "output_type": "stream",
     "text": [
      "Epoch 46/100 [TRAIN] LR: 3.09e-05 Teach: 0.40 Scheduler: ReduceLROnPlateau:   2%|▏         | 1/42 [00:05<03:42,  5.44s/it, loss=0.718]"
     ]
    },
    {
     "name": "stdout",
     "output_type": "stream",
     "text": [
      "\n",
      "--- Training Batch 0 Examples (Content Only) ---\n",
      "  Pred: '1985GW'\n",
      "  True: '1985GW'\n",
      "  Pred: '0872HN'\n",
      "  True: '0872HN'\n",
      "  Pred: 'N59145'\n",
      "  True: 'N59145'\n",
      "  Pred: '9012VR'\n",
      "  True: '9012VR'\n",
      "  Pred: '6378JJ'\n",
      "  True: '6378JJ'\n",
      "-------------------------------\n"
     ]
    },
    {
     "name": "stderr",
     "output_type": "stream",
     "text": [
      "Epoch 46/100 [TRAIN] LR: 3.09e-05 Teach: 0.40 Scheduler: ReduceLROnPlateau: 100%|██████████| 42/42 [00:57<00:00,  1.36s/it, loss=0.738]\n",
      "Epoch 46/100 [VAL]: 100%|██████████| 22/22 [00:30<00:00,  1.40s/it, loss=0.865]\n"
     ]
    },
    {
     "name": "stdout",
     "output_type": "stream",
     "text": [
      "EarlyStopping counter: 36/100 (Best val_acc: 0.9917)\n",
      "\n",
      "Epoch 46/100 | LR: 1.55e-05 | Teach: 0.40 | Scheduler: ReduceLROnPlateau\n",
      "  Train Loss: 0.7309 | Train Char Acc: 0.9916\n",
      "  Val Loss: 0.7474   | Val Acc (CRR): 0.9895\n",
      "  Val Exact Match Acc (E2E RR): 0.9457\n",
      "----------------------------------------------------------------------\n"
     ]
    },
    {
     "name": "stderr",
     "output_type": "stream",
     "text": [
      "Epoch 47/100 [TRAIN] LR: 1.55e-05 Teach: 0.40 Scheduler: ReduceLROnPlateau:   2%|▏         | 1/42 [00:05<03:49,  5.60s/it, loss=0.764]"
     ]
    },
    {
     "name": "stdout",
     "output_type": "stream",
     "text": [
      "\n",
      "--- Training Batch 0 Examples (Content Only) ---\n",
      "  Pred: '1728QW'\n",
      "  True: '1728QW'\n",
      "  Pred: '6C1699'\n",
      "  True: '6C1699'\n",
      "  Pred: '7250EK'\n",
      "  True: '7250EK'\n",
      "  Pred: 'BT3933'\n",
      "  True: 'BT3933'\n",
      "  Pred: 'U66487'\n",
      "  True: 'U66487'\n",
      "-------------------------------\n"
     ]
    },
    {
     "name": "stderr",
     "output_type": "stream",
     "text": [
      "Epoch 47/100 [TRAIN] LR: 1.55e-05 Teach: 0.40 Scheduler: ReduceLROnPlateau: 100%|██████████| 42/42 [00:57<00:00,  1.37s/it, loss=0.708]\n",
      "Epoch 47/100 [VAL]: 100%|██████████| 22/22 [00:31<00:00,  1.41s/it, loss=0.874]\n"
     ]
    },
    {
     "name": "stdout",
     "output_type": "stream",
     "text": [
      "EarlyStopping counter: 37/100 (Best val_acc: 0.9917)\n",
      "\n",
      "Epoch 47/100 | LR: 1.55e-05 | Teach: 0.40 | Scheduler: ReduceLROnPlateau\n",
      "  Train Loss: 0.7260 | Train Char Acc: 0.9938\n",
      "  Val Loss: 0.7480   | Val Acc (CRR): 0.9890\n",
      "  Val Exact Match Acc (E2E RR): 0.9427\n",
      "----------------------------------------------------------------------\n"
     ]
    },
    {
     "name": "stderr",
     "output_type": "stream",
     "text": [
      "Epoch 48/100 [TRAIN] LR: 1.55e-05 Teach: 0.39 Scheduler: ReduceLROnPlateau:   2%|▏         | 1/42 [00:05<04:01,  5.88s/it, loss=0.732]"
     ]
    },
    {
     "name": "stdout",
     "output_type": "stream",
     "text": [
      "\n",
      "--- Training Batch 0 Examples (Content Only) ---\n",
      "  Pred: '2016UX'\n",
      "  True: '2016UX'\n",
      "  Pred: '8190DR'\n",
      "  True: '8190DR'\n",
      "  Pred: '7735UW'\n",
      "  True: '7735UW'\n",
      "  Pred: 'BZ4365'\n",
      "  True: 'BZ4365'\n",
      "  Pred: 'BB0D31'\n",
      "  True: 'BB0D31'\n",
      "-------------------------------\n"
     ]
    },
    {
     "name": "stderr",
     "output_type": "stream",
     "text": [
      "Epoch 48/100 [TRAIN] LR: 1.55e-05 Teach: 0.39 Scheduler: ReduceLROnPlateau: 100%|██████████| 42/42 [00:57<00:00,  1.37s/it, loss=0.716]\n",
      "Epoch 48/100 [VAL]: 100%|██████████| 22/22 [00:31<00:00,  1.41s/it, loss=0.867]\n"
     ]
    },
    {
     "name": "stdout",
     "output_type": "stream",
     "text": [
      "EarlyStopping counter: 38/100 (Best val_acc: 0.9917)\n",
      "\n",
      "Epoch 48/100 | LR: 1.55e-05 | Teach: 0.39 | Scheduler: ReduceLROnPlateau\n",
      "  Train Loss: 0.7304 | Train Char Acc: 0.9922\n",
      "  Val Loss: 0.7473   | Val Acc (CRR): 0.9895\n",
      "  Val Exact Match Acc (E2E RR): 0.9457\n",
      "----------------------------------------------------------------------\n"
     ]
    },
    {
     "name": "stderr",
     "output_type": "stream",
     "text": [
      "Epoch 49/100 [TRAIN] LR: 1.55e-05 Teach: 0.38 Scheduler: ReduceLROnPlateau:   2%|▏         | 1/42 [00:06<04:09,  6.08s/it, loss=0.707]"
     ]
    },
    {
     "name": "stdout",
     "output_type": "stream",
     "text": [
      "\n",
      "--- Training Batch 0 Examples (Content Only) ---\n",
      "  Pred: '9490QE'\n",
      "  True: '9490QE'\n",
      "  Pred: 'GP9056'\n",
      "  True: 'GP9056'\n",
      "  Pred: '9815QW'\n",
      "  True: '9815QW'\n",
      "  Pred: 'ZN9120'\n",
      "  True: 'ZN9120'\n",
      "  Pred: 'CB3652'\n",
      "  True: 'CB3652'\n",
      "-------------------------------\n"
     ]
    },
    {
     "name": "stderr",
     "output_type": "stream",
     "text": [
      "Epoch 49/100 [TRAIN] LR: 1.55e-05 Teach: 0.38 Scheduler: ReduceLROnPlateau: 100%|██████████| 42/42 [00:57<00:00,  1.38s/it, loss=0.716]\n",
      "Epoch 49/100 [VAL]: 100%|██████████| 22/22 [00:31<00:00,  1.41s/it, loss=0.865]\n"
     ]
    },
    {
     "name": "stdout",
     "output_type": "stream",
     "text": [
      "EarlyStopping counter: 39/100 (Best val_acc: 0.9917)\n",
      "\n",
      "Epoch 49/100 | LR: 7.74e-06 | Teach: 0.38 | Scheduler: ReduceLROnPlateau\n",
      "  Train Loss: 0.7214 | Train Char Acc: 0.9955\n",
      "  Val Loss: 0.7460   | Val Acc (CRR): 0.9892\n",
      "  Val Exact Match Acc (E2E RR): 0.9442\n",
      "----------------------------------------------------------------------\n"
     ]
    },
    {
     "name": "stderr",
     "output_type": "stream",
     "text": [
      "Epoch 50/100 [TRAIN] LR: 7.74e-06 Teach: 0.38 Scheduler: ReduceLROnPlateau:   2%|▏         | 1/42 [00:05<03:48,  5.58s/it, loss=0.713]"
     ]
    },
    {
     "name": "stdout",
     "output_type": "stream",
     "text": [
      "\n",
      "--- Training Batch 0 Examples (Content Only) ---\n",
      "  Pred: 'B50102'\n",
      "  True: 'B50102'\n",
      "  Pred: '4400DC'\n",
      "  True: '4400DC'\n",
      "  Pred: 'VD3441'\n",
      "  True: 'VD3441'\n",
      "  Pred: 'ET8199'\n",
      "  True: 'ET8199'\n",
      "  Pred: '9188ER'\n",
      "  True: '9188ER'\n",
      "-------------------------------\n"
     ]
    },
    {
     "name": "stderr",
     "output_type": "stream",
     "text": [
      "Epoch 50/100 [TRAIN] LR: 7.74e-06 Teach: 0.38 Scheduler: ReduceLROnPlateau: 100%|██████████| 42/42 [00:57<00:00,  1.36s/it, loss=0.731]\n",
      "Epoch 50/100 [VAL]: 100%|██████████| 22/22 [00:30<00:00,  1.40s/it, loss=0.865]\n"
     ]
    },
    {
     "name": "stdout",
     "output_type": "stream",
     "text": [
      "EarlyStopping counter: 40/100 (Best val_acc: 0.9917)\n",
      "\n",
      "Epoch 50/100 | LR: 7.74e-06 | Teach: 0.38 | Scheduler: ReduceLROnPlateau\n",
      "  Train Loss: 0.7265 | Train Char Acc: 0.9932\n",
      "  Val Loss: 0.7462   | Val Acc (CRR): 0.9895\n",
      "  Val Exact Match Acc (E2E RR): 0.9457\n",
      "----------------------------------------------------------------------\n"
     ]
    },
    {
     "name": "stderr",
     "output_type": "stream",
     "text": [
      "Epoch 51/100 [TRAIN] LR: 7.74e-06 Teach: 0.37 Scheduler: ReduceLROnPlateau:   2%|▏         | 1/42 [00:05<03:53,  5.69s/it, loss=0.721]"
     ]
    },
    {
     "name": "stdout",
     "output_type": "stream",
     "text": [
      "\n",
      "--- Training Batch 0 Examples (Content Only) ---\n",
      "  Pred: 'KY2880'\n",
      "  True: 'KY2880'\n",
      "  Pred: '0202YS'\n",
      "  True: '0202YS'\n",
      "  Pred: '6587QE'\n",
      "  True: '6587QE'\n",
      "  Pred: 'CN9139'\n",
      "  True: 'CN9139'\n",
      "  Pred: '7291EV'\n",
      "  True: '7291EV'\n",
      "-------------------------------\n"
     ]
    },
    {
     "name": "stderr",
     "output_type": "stream",
     "text": [
      "Epoch 51/100 [TRAIN] LR: 7.74e-06 Teach: 0.37 Scheduler: ReduceLROnPlateau: 100%|██████████| 42/42 [00:57<00:00,  1.37s/it, loss=0.712]\n",
      "Epoch 51/100 [VAL]: 100%|██████████| 22/22 [00:30<00:00,  1.41s/it, loss=0.866]\n"
     ]
    },
    {
     "name": "stdout",
     "output_type": "stream",
     "text": [
      "EarlyStopping counter: 41/100 (Best val_acc: 0.9917)\n",
      "\n",
      "Epoch 51/100 | LR: 7.74e-06 | Teach: 0.37 | Scheduler: ReduceLROnPlateau\n",
      "  Train Loss: 0.7264 | Train Char Acc: 0.9942\n",
      "  Val Loss: 0.7472   | Val Acc (CRR): 0.9890\n",
      "  Val Exact Match Acc (E2E RR): 0.9427\n",
      "----------------------------------------------------------------------\n"
     ]
    },
    {
     "name": "stderr",
     "output_type": "stream",
     "text": [
      "Epoch 52/100 [TRAIN] LR: 7.74e-06 Teach: 0.37 Scheduler: ReduceLROnPlateau:   2%|▏         | 1/42 [00:05<04:02,  5.90s/it, loss=0.738]"
     ]
    },
    {
     "name": "stdout",
     "output_type": "stream",
     "text": [
      "\n",
      "--- Training Batch 0 Examples (Content Only) ---\n",
      "  Pred: 'Z36472'\n",
      "  True: 'Z36472'\n",
      "  Pred: '4372XT'\n",
      "  True: '4372XT'\n",
      "  Pred: '3970EA'\n",
      "  True: '3970EA'\n",
      "  Pred: 'S61848'\n",
      "  True: 'S61848'\n",
      "  Pred: 'CP1091'\n",
      "  True: 'CP1091'\n",
      "-------------------------------\n"
     ]
    },
    {
     "name": "stderr",
     "output_type": "stream",
     "text": [
      "Epoch 52/100 [TRAIN] LR: 7.74e-06 Teach: 0.37 Scheduler: ReduceLROnPlateau: 100%|██████████| 42/42 [00:57<00:00,  1.37s/it, loss=0.715]\n",
      "Epoch 52/100 [VAL]: 100%|██████████| 22/22 [00:30<00:00,  1.41s/it, loss=0.867]\n"
     ]
    },
    {
     "name": "stdout",
     "output_type": "stream",
     "text": [
      "EarlyStopping counter: 42/100 (Best val_acc: 0.9917)\n",
      "\n",
      "Epoch 52/100 | LR: 3.87e-06 | Teach: 0.37 | Scheduler: ReduceLROnPlateau\n",
      "  Train Loss: 0.7237 | Train Char Acc: 0.9949\n",
      "  Val Loss: 0.7474   | Val Acc (CRR): 0.9892\n",
      "  Val Exact Match Acc (E2E RR): 0.9442\n",
      "----------------------------------------------------------------------\n"
     ]
    },
    {
     "name": "stderr",
     "output_type": "stream",
     "text": [
      "Epoch 53/100 [TRAIN] LR: 3.87e-06 Teach: 0.36 Scheduler: ReduceLROnPlateau:   2%|▏         | 1/42 [00:05<03:55,  5.74s/it, loss=0.706]"
     ]
    },
    {
     "name": "stdout",
     "output_type": "stream",
     "text": [
      "\n",
      "--- Training Batch 0 Examples (Content Only) ---\n",
      "  Pred: 'GV9696'\n",
      "  True: 'GV9696'\n",
      "  Pred: 'DJ6081'\n",
      "  True: 'DJ6081'\n",
      "  Pred: '3980LC'\n",
      "  True: '3980LC'\n",
      "  Pred: 'BN6341'\n",
      "  True: 'BN6341'\n",
      "  Pred: '1557VP'\n",
      "  True: '1557VP'\n",
      "-------------------------------\n"
     ]
    },
    {
     "name": "stderr",
     "output_type": "stream",
     "text": [
      "Epoch 53/100 [TRAIN] LR: 3.87e-06 Teach: 0.36 Scheduler: ReduceLROnPlateau: 100%|██████████| 42/42 [00:57<00:00,  1.37s/it, loss=0.743]\n",
      "Epoch 53/100 [VAL]: 100%|██████████| 22/22 [00:30<00:00,  1.40s/it, loss=0.863]\n"
     ]
    },
    {
     "name": "stdout",
     "output_type": "stream",
     "text": [
      "EarlyStopping counter: 43/100 (Best val_acc: 0.9917)\n",
      "\n",
      "Epoch 53/100 | LR: 3.87e-06 | Teach: 0.36 | Scheduler: ReduceLROnPlateau\n",
      "  Train Loss: 0.7298 | Train Char Acc: 0.9912\n",
      "  Val Loss: 0.7467   | Val Acc (CRR): 0.9890\n",
      "  Val Exact Match Acc (E2E RR): 0.9427\n",
      "----------------------------------------------------------------------\n"
     ]
    },
    {
     "name": "stderr",
     "output_type": "stream",
     "text": [
      "Epoch 54/100 [TRAIN] LR: 3.87e-06 Teach: 0.35 Scheduler: ReduceLROnPlateau:   2%|▏         | 1/42 [00:06<04:14,  6.20s/it, loss=0.756]"
     ]
    },
    {
     "name": "stdout",
     "output_type": "stream",
     "text": [
      "\n",
      "--- Training Batch 0 Examples (Content Only) ---\n",
      "  Pred: '6N2932'\n",
      "  True: '6N2932'\n",
      "  Pred: '9C0560'\n",
      "  True: '9C0560'\n",
      "  Pred: 'JT0350'\n",
      "  True: 'JT0350'\n",
      "  Pred: '9601EC'\n",
      "  True: '9601EC'\n",
      "  Pred: 'P87795'\n",
      "  True: 'P87795'\n",
      "-------------------------------\n"
     ]
    },
    {
     "name": "stderr",
     "output_type": "stream",
     "text": [
      "Epoch 54/100 [TRAIN] LR: 3.87e-06 Teach: 0.35 Scheduler: ReduceLROnPlateau: 100%|██████████| 42/42 [00:58<00:00,  1.38s/it, loss=0.747]\n",
      "Epoch 54/100 [VAL]: 100%|██████████| 22/22 [00:31<00:00,  1.42s/it, loss=0.863]\n"
     ]
    },
    {
     "name": "stdout",
     "output_type": "stream",
     "text": [
      "EarlyStopping counter: 44/100 (Best val_acc: 0.9917)\n",
      "\n",
      "Epoch 54/100 | LR: 3.87e-06 | Teach: 0.35 | Scheduler: ReduceLROnPlateau\n",
      "  Train Loss: 0.7238 | Train Char Acc: 0.9939\n",
      "  Val Loss: 0.7464   | Val Acc (CRR): 0.9892\n",
      "  Val Exact Match Acc (E2E RR): 0.9442\n",
      "----------------------------------------------------------------------\n"
     ]
    },
    {
     "name": "stderr",
     "output_type": "stream",
     "text": [
      "Epoch 55/100 [TRAIN] LR: 3.87e-06 Teach: 0.35 Scheduler: ReduceLROnPlateau:   2%|▏         | 1/42 [00:05<03:59,  5.85s/it, loss=0.711]"
     ]
    },
    {
     "name": "stdout",
     "output_type": "stream",
     "text": [
      "\n",
      "--- Training Batch 0 Examples (Content Only) ---\n",
      "  Pred: '2253YA'\n",
      "  True: '2253YA'\n",
      "  Pred: 'N44916'\n",
      "  True: 'N44916'\n",
      "  Pred: '2H0311'\n",
      "  True: '2H0311'\n",
      "  Pred: '8765DT'\n",
      "  True: '8765DT'\n",
      "  Pred: '4998RY'\n",
      "  True: '4998RY'\n",
      "-------------------------------\n"
     ]
    },
    {
     "name": "stderr",
     "output_type": "stream",
     "text": [
      "Epoch 55/100 [TRAIN] LR: 3.87e-06 Teach: 0.35 Scheduler: ReduceLROnPlateau: 100%|██████████| 42/42 [00:57<00:00,  1.38s/it, loss=0.71]\n",
      "Epoch 55/100 [VAL]: 100%|██████████| 22/22 [00:31<00:00,  1.42s/it, loss=0.863]\n"
     ]
    },
    {
     "name": "stdout",
     "output_type": "stream",
     "text": [
      "EarlyStopping counter: 45/100 (Best val_acc: 0.9917)\n",
      "\n",
      "Epoch 55/100 | LR: 1.93e-06 | Teach: 0.35 | Scheduler: ReduceLROnPlateau\n",
      "  Train Loss: 0.7325 | Train Char Acc: 0.9908\n",
      "  Val Loss: 0.7466   | Val Acc (CRR): 0.9890\n",
      "  Val Exact Match Acc (E2E RR): 0.9427\n",
      "----------------------------------------------------------------------\n"
     ]
    },
    {
     "name": "stderr",
     "output_type": "stream",
     "text": [
      "Epoch 56/100 [TRAIN] LR: 1.93e-06 Teach: 0.34 Scheduler: ReduceLROnPlateau:   2%|▏         | 1/42 [00:05<03:59,  5.84s/it, loss=0.715]"
     ]
    },
    {
     "name": "stdout",
     "output_type": "stream",
     "text": [
      "\n",
      "--- Training Batch 0 Examples (Content Only) ---\n",
      "  Pred: '5608ZT'\n",
      "  True: '5608ZT'\n",
      "  Pred: 'UR6710'\n",
      "  True: 'UR6710'\n",
      "  Pred: '3316JT'\n",
      "  True: '3316JT'\n",
      "  Pred: '2368QD'\n",
      "  True: '2368QD'\n",
      "  Pred: '3905RY'\n",
      "  True: '3905RY'\n",
      "-------------------------------\n"
     ]
    },
    {
     "name": "stderr",
     "output_type": "stream",
     "text": [
      "Epoch 56/100 [TRAIN] LR: 1.93e-06 Teach: 0.34 Scheduler: ReduceLROnPlateau: 100%|██████████| 42/42 [00:57<00:00,  1.37s/it, loss=0.711]\n",
      "Epoch 56/100 [VAL]: 100%|██████████| 22/22 [00:31<00:00,  1.45s/it, loss=0.862]\n"
     ]
    },
    {
     "name": "stdout",
     "output_type": "stream",
     "text": [
      "EarlyStopping counter: 46/100 (Best val_acc: 0.9917)\n",
      "\n",
      "Epoch 56/100 | LR: 1.93e-06 | Teach: 0.34 | Scheduler: ReduceLROnPlateau\n",
      "  Train Loss: 0.7281 | Train Char Acc: 0.9928\n",
      "  Val Loss: 0.7465   | Val Acc (CRR): 0.9890\n",
      "  Val Exact Match Acc (E2E RR): 0.9427\n",
      "----------------------------------------------------------------------\n"
     ]
    },
    {
     "name": "stderr",
     "output_type": "stream",
     "text": [
      "Epoch 57/100 [TRAIN] LR: 1.93e-06 Teach: 0.33 Scheduler: ReduceLROnPlateau:   2%|▏         | 1/42 [00:05<03:51,  5.65s/it, loss=0.716]"
     ]
    },
    {
     "name": "stdout",
     "output_type": "stream",
     "text": [
      "\n",
      "--- Training Batch 0 Examples (Content Only) ---\n",
      "  Pred: 'N44916'\n",
      "  True: 'N44916'\n",
      "  Pred: '4085HG'\n",
      "  True: '4085HG'\n",
      "  Pred: '5763EQ'\n",
      "  True: '5763EQ'\n",
      "  Pred: '6716QL'\n",
      "  True: '6716QL'\n",
      "  Pred: '8222TK'\n",
      "  True: '8222TK'\n",
      "-------------------------------\n"
     ]
    },
    {
     "name": "stderr",
     "output_type": "stream",
     "text": [
      "Epoch 57/100 [TRAIN] LR: 1.93e-06 Teach: 0.33 Scheduler: ReduceLROnPlateau: 100%|██████████| 42/42 [00:57<00:00,  1.37s/it, loss=0.742]\n",
      "Epoch 57/100 [VAL]: 100%|██████████| 22/22 [00:31<00:00,  1.45s/it, loss=0.863]\n"
     ]
    },
    {
     "name": "stdout",
     "output_type": "stream",
     "text": [
      "EarlyStopping counter: 47/100 (Best val_acc: 0.9917)\n",
      "\n",
      "Epoch 57/100 | LR: 1.93e-06 | Teach: 0.33 | Scheduler: ReduceLROnPlateau\n",
      "  Train Loss: 0.7281 | Train Char Acc: 0.9923\n",
      "  Val Loss: 0.7467   | Val Acc (CRR): 0.9892\n",
      "  Val Exact Match Acc (E2E RR): 0.9442\n",
      "----------------------------------------------------------------------\n"
     ]
    },
    {
     "name": "stderr",
     "output_type": "stream",
     "text": [
      "Epoch 58/100 [TRAIN] LR: 1.93e-06 Teach: 0.33 Scheduler: ReduceLROnPlateau:   2%|▏         | 1/42 [00:05<03:48,  5.58s/it, loss=0.713]"
     ]
    },
    {
     "name": "stdout",
     "output_type": "stream",
     "text": [
      "\n",
      "--- Training Batch 0 Examples (Content Only) ---\n",
      "  Pred: '2662DQ'\n",
      "  True: '2662DQ'\n",
      "  Pred: 'C38166'\n",
      "  True: 'C38166'\n",
      "  Pred: '6216QE'\n",
      "  True: '6216QE'\n",
      "  Pred: '1367EW'\n",
      "  True: '1367EW'\n",
      "  Pred: 'CU6416'\n",
      "  True: 'CU6416'\n",
      "-------------------------------\n"
     ]
    },
    {
     "name": "stderr",
     "output_type": "stream",
     "text": [
      "Epoch 58/100 [TRAIN] LR: 1.93e-06 Teach: 0.33 Scheduler: ReduceLROnPlateau: 100%|██████████| 42/42 [00:57<00:00,  1.37s/it, loss=0.704]\n",
      "Epoch 58/100 [VAL]: 100%|██████████| 22/22 [00:32<00:00,  1.47s/it, loss=0.863]\n"
     ]
    },
    {
     "name": "stdout",
     "output_type": "stream",
     "text": [
      "EarlyStopping counter: 48/100 (Best val_acc: 0.9917)\n",
      "\n",
      "Epoch 58/100 | LR: 9.67e-07 | Teach: 0.33 | Scheduler: ReduceLROnPlateau\n",
      "  Train Loss: 0.7240 | Train Char Acc: 0.9938\n",
      "  Val Loss: 0.7465   | Val Acc (CRR): 0.9892\n",
      "  Val Exact Match Acc (E2E RR): 0.9442\n",
      "----------------------------------------------------------------------\n"
     ]
    },
    {
     "name": "stderr",
     "output_type": "stream",
     "text": [
      "Epoch 59/100 [TRAIN] LR: 9.67e-07 Teach: 0.32 Scheduler: ReduceLROnPlateau:   2%|▏         | 1/42 [00:05<03:30,  5.14s/it, loss=0.739]"
     ]
    },
    {
     "name": "stdout",
     "output_type": "stream",
     "text": [
      "\n",
      "--- Training Batch 0 Examples (Content Only) ---\n",
      "  Pred: '2E1920'\n",
      "  True: '2E1920'\n",
      "  Pred: '7F1156'\n",
      "  True: '7F1156'\n",
      "  Pred: '1362DU'\n",
      "  True: '1362DU'\n",
      "  Pred: '2236TQ'\n",
      "  True: '2236TQ'\n",
      "  Pred: '6216QE'\n",
      "  True: '6216QE'\n",
      "-------------------------------\n"
     ]
    },
    {
     "name": "stderr",
     "output_type": "stream",
     "text": [
      "Epoch 59/100 [TRAIN] LR: 9.67e-07 Teach: 0.32 Scheduler: ReduceLROnPlateau: 100%|██████████| 42/42 [00:57<00:00,  1.37s/it, loss=0.706]\n",
      "Epoch 59/100 [VAL]: 100%|██████████| 22/22 [00:32<00:00,  1.46s/it, loss=0.863]\n"
     ]
    },
    {
     "name": "stdout",
     "output_type": "stream",
     "text": [
      "EarlyStopping counter: 49/100 (Best val_acc: 0.9917)\n",
      "\n",
      "Epoch 59/100 | LR: 9.67e-07 | Teach: 0.32 | Scheduler: ReduceLROnPlateau\n",
      "  Train Loss: 0.7262 | Train Char Acc: 0.9927\n",
      "  Val Loss: 0.7467   | Val Acc (CRR): 0.9892\n",
      "  Val Exact Match Acc (E2E RR): 0.9442\n",
      "----------------------------------------------------------------------\n"
     ]
    },
    {
     "name": "stderr",
     "output_type": "stream",
     "text": [
      "Epoch 60/100 [TRAIN] LR: 9.67e-07 Teach: 0.31 Scheduler: ReduceLROnPlateau:   2%|▏         | 1/42 [00:05<03:32,  5.18s/it, loss=0.722]"
     ]
    },
    {
     "name": "stdout",
     "output_type": "stream",
     "text": [
      "\n",
      "--- Training Batch 0 Examples (Content Only) ---\n",
      "  Pred: '5570HW'\n",
      "  True: '5570HW'\n",
      "  Pred: '4998RY'\n",
      "  True: '4998RY'\n",
      "  Pred: '6528SS'\n",
      "  True: '6528SS'\n",
      "  Pred: 'TJ6877'\n",
      "  True: 'TJ6877'\n",
      "  Pred: 'DK0532'\n",
      "  True: 'DK0532'\n",
      "-------------------------------\n"
     ]
    },
    {
     "name": "stderr",
     "output_type": "stream",
     "text": [
      "Epoch 60/100 [TRAIN] LR: 9.67e-07 Teach: 0.31 Scheduler: ReduceLROnPlateau: 100%|██████████| 42/42 [00:57<00:00,  1.36s/it, loss=0.746]\n",
      "Epoch 60/100 [VAL]: 100%|██████████| 22/22 [00:31<00:00,  1.45s/it, loss=0.863]\n"
     ]
    },
    {
     "name": "stdout",
     "output_type": "stream",
     "text": [
      "EarlyStopping counter: 50/100 (Best val_acc: 0.9917)\n",
      "\n",
      "Epoch 60/100 | LR: 9.67e-07 | Teach: 0.31 | Scheduler: ReduceLROnPlateau\n",
      "  Train Loss: 0.7260 | Train Char Acc: 0.9931\n",
      "  Val Loss: 0.7467   | Val Acc (CRR): 0.9892\n",
      "  Val Exact Match Acc (E2E RR): 0.9442\n",
      "----------------------------------------------------------------------\n"
     ]
    },
    {
     "name": "stderr",
     "output_type": "stream",
     "text": [
      "Epoch 61/100 [TRAIN] LR: 9.67e-07 Teach: 0.31 Scheduler: ReduceLROnPlateau:   2%|▏         | 1/42 [00:05<03:47,  5.55s/it, loss=0.704]"
     ]
    },
    {
     "name": "stdout",
     "output_type": "stream",
     "text": [
      "\n",
      "--- Training Batch 0 Examples (Content Only) ---\n",
      "  Pred: '0336EQ'\n",
      "  True: '0336EQ'\n",
      "  Pred: '9J3167'\n",
      "  True: '9J3167'\n",
      "  Pred: '6831QJ'\n",
      "  True: '6831QJ'\n",
      "  Pred: 'B40913'\n",
      "  True: 'B40913'\n",
      "  Pred: '2D9773'\n",
      "  True: '2D9773'\n",
      "-------------------------------\n"
     ]
    },
    {
     "name": "stderr",
     "output_type": "stream",
     "text": [
      "Epoch 61/100 [TRAIN] LR: 9.67e-07 Teach: 0.31 Scheduler: ReduceLROnPlateau: 100%|██████████| 42/42 [00:57<00:00,  1.36s/it, loss=0.717]\n",
      "Epoch 61/100 [VAL]: 100%|██████████| 22/22 [00:32<00:00,  1.47s/it, loss=0.863]\n"
     ]
    },
    {
     "name": "stdout",
     "output_type": "stream",
     "text": [
      "EarlyStopping counter: 51/100 (Best val_acc: 0.9917)\n",
      "\n",
      "Epoch 61/100 | LR: 4.84e-07 | Teach: 0.31 | Scheduler: ReduceLROnPlateau\n",
      "  Train Loss: 0.7265 | Train Char Acc: 0.9933\n",
      "  Val Loss: 0.7467   | Val Acc (CRR): 0.9892\n",
      "  Val Exact Match Acc (E2E RR): 0.9442\n",
      "----------------------------------------------------------------------\n"
     ]
    },
    {
     "name": "stderr",
     "output_type": "stream",
     "text": [
      "Epoch 62/100 [TRAIN] LR: 4.84e-07 Teach: 0.30 Scheduler: ReduceLROnPlateau:   2%|▏         | 1/42 [00:05<03:30,  5.12s/it, loss=0.75]"
     ]
    },
    {
     "name": "stdout",
     "output_type": "stream",
     "text": [
      "\n",
      "--- Training Batch 0 Examples (Content Only) ---\n",
      "  Pred: '1035AB'\n",
      "  True: '1035AB'\n",
      "  Pred: 'DL2229'\n",
      "  True: 'DL2229'\n",
      "  Pred: '2257JT'\n",
      "  True: '2257JT'\n",
      "  Pred: '1953QD'\n",
      "  True: '1953QD'\n",
      "  Pred: '6906ZT'\n",
      "  True: '6906ZT'\n",
      "-------------------------------\n"
     ]
    },
    {
     "name": "stderr",
     "output_type": "stream",
     "text": [
      "Epoch 62/100 [TRAIN] LR: 4.84e-07 Teach: 0.30 Scheduler: ReduceLROnPlateau: 100%|██████████| 42/42 [00:56<00:00,  1.36s/it, loss=0.715]\n",
      "Epoch 62/100 [VAL]: 100%|██████████| 22/22 [00:32<00:00,  1.47s/it, loss=0.862]\n"
     ]
    },
    {
     "name": "stdout",
     "output_type": "stream",
     "text": [
      "EarlyStopping counter: 52/100 (Best val_acc: 0.9917)\n",
      "\n",
      "Epoch 62/100 | LR: 4.84e-07 | Teach: 0.30 | Scheduler: ReduceLROnPlateau\n",
      "  Train Loss: 0.7248 | Train Char Acc: 0.9934\n",
      "  Val Loss: 0.7466   | Val Acc (CRR): 0.9892\n",
      "  Val Exact Match Acc (E2E RR): 0.9442\n",
      "----------------------------------------------------------------------\n"
     ]
    },
    {
     "name": "stderr",
     "output_type": "stream",
     "text": [
      "Epoch 63/100 [TRAIN] LR: 4.84e-07 Teach: 0.29 Scheduler: ReduceLROnPlateau:   2%|▏         | 1/42 [00:05<03:44,  5.47s/it, loss=0.724]"
     ]
    },
    {
     "name": "stdout",
     "output_type": "stream",
     "text": [
      "\n",
      "--- Training Batch 0 Examples (Content Only) ---\n",
      "  Pred: '3K3860'\n",
      "  True: '3K3860'\n",
      "  Pred: '2658MP'\n",
      "  True: '2658MP'\n",
      "  Pred: '4998RY'\n",
      "  True: '4998RY'\n",
      "  Pred: '2650VM'\n",
      "  True: '2650VM'\n",
      "  Pred: '9109QY'\n",
      "  True: '9109QY'\n",
      "-------------------------------\n"
     ]
    },
    {
     "name": "stderr",
     "output_type": "stream",
     "text": [
      "Epoch 63/100 [TRAIN] LR: 4.84e-07 Teach: 0.29 Scheduler: ReduceLROnPlateau: 100%|██████████| 42/42 [00:57<00:00,  1.36s/it, loss=0.897]\n",
      "Epoch 63/100 [VAL]: 100%|██████████| 22/22 [00:32<00:00,  1.46s/it, loss=0.862]\n"
     ]
    },
    {
     "name": "stdout",
     "output_type": "stream",
     "text": [
      "EarlyStopping counter: 53/100 (Best val_acc: 0.9917)\n",
      "\n",
      "Epoch 63/100 | LR: 4.84e-07 | Teach: 0.29 | Scheduler: ReduceLROnPlateau\n",
      "  Train Loss: 0.7293 | Train Char Acc: 0.9912\n",
      "  Val Loss: 0.7467   | Val Acc (CRR): 0.9892\n",
      "  Val Exact Match Acc (E2E RR): 0.9442\n",
      "----------------------------------------------------------------------\n"
     ]
    },
    {
     "name": "stderr",
     "output_type": "stream",
     "text": [
      "Epoch 64/100 [TRAIN] LR: 4.84e-07 Teach: 0.29 Scheduler: ReduceLROnPlateau:   2%|▏         | 1/42 [00:05<03:51,  5.63s/it, loss=0.725]"
     ]
    },
    {
     "name": "stdout",
     "output_type": "stream",
     "text": [
      "\n",
      "--- Training Batch 0 Examples (Content Only) ---\n",
      "  Pred: '9188ER'\n",
      "  True: '9188ER'\n",
      "  Pred: '6906ET'\n",
      "  True: '6906ZT'\n",
      "  Pred: '3886EF'\n",
      "  True: '3886EF'\n",
      "  Pred: '0865DM'\n",
      "  True: '0865DM'\n",
      "  Pred: 'HG4699'\n",
      "  True: 'HG4699'\n",
      "-------------------------------\n"
     ]
    },
    {
     "name": "stderr",
     "output_type": "stream",
     "text": [
      "Epoch 64/100 [TRAIN] LR: 4.84e-07 Teach: 0.29 Scheduler: ReduceLROnPlateau: 100%|██████████| 42/42 [00:57<00:00,  1.36s/it, loss=0.711]\n",
      "Epoch 64/100 [VAL]: 100%|██████████| 22/22 [00:31<00:00,  1.45s/it, loss=0.863]\n"
     ]
    },
    {
     "name": "stdout",
     "output_type": "stream",
     "text": [
      "EarlyStopping counter: 54/100 (Best val_acc: 0.9917)\n",
      "\n",
      "Epoch 64/100 | LR: 2.42e-07 | Teach: 0.29 | Scheduler: ReduceLROnPlateau\n",
      "  Train Loss: 0.7243 | Train Char Acc: 0.9940\n",
      "  Val Loss: 0.7466   | Val Acc (CRR): 0.9892\n",
      "  Val Exact Match Acc (E2E RR): 0.9442\n",
      "----------------------------------------------------------------------\n"
     ]
    },
    {
     "name": "stderr",
     "output_type": "stream",
     "text": [
      "Epoch 65/100 [TRAIN] LR: 2.42e-07 Teach: 0.28 Scheduler: ReduceLROnPlateau:   2%|▏         | 1/42 [00:05<03:48,  5.57s/it, loss=0.716]"
     ]
    },
    {
     "name": "stdout",
     "output_type": "stream",
     "text": [
      "\n",
      "--- Training Batch 0 Examples (Content Only) ---\n",
      "  Pred: '3886EF'\n",
      "  True: '3886EF'\n",
      "  Pred: 'RK4050'\n",
      "  True: 'RK4050'\n",
      "  Pred: 'F26735'\n",
      "  True: 'F26735'\n",
      "  Pred: '2W1785'\n",
      "  True: '2W1785'\n",
      "  Pred: 'DJ1589'\n",
      "  True: 'DJ1589'\n",
      "-------------------------------\n"
     ]
    },
    {
     "name": "stderr",
     "output_type": "stream",
     "text": [
      "Epoch 65/100 [TRAIN] LR: 2.42e-07 Teach: 0.28 Scheduler: ReduceLROnPlateau: 100%|██████████| 42/42 [00:57<00:00,  1.38s/it, loss=0.715]\n",
      "Epoch 65/100 [VAL]: 100%|██████████| 22/22 [00:31<00:00,  1.45s/it, loss=0.862]\n"
     ]
    },
    {
     "name": "stdout",
     "output_type": "stream",
     "text": [
      "EarlyStopping counter: 55/100 (Best val_acc: 0.9917)\n",
      "\n",
      "Epoch 65/100 | LR: 2.42e-07 | Teach: 0.28 | Scheduler: ReduceLROnPlateau\n",
      "  Train Loss: 0.7249 | Train Char Acc: 0.9940\n",
      "  Val Loss: 0.7464   | Val Acc (CRR): 0.9892\n",
      "  Val Exact Match Acc (E2E RR): 0.9442\n",
      "----------------------------------------------------------------------\n"
     ]
    },
    {
     "name": "stderr",
     "output_type": "stream",
     "text": [
      "Epoch 66/100 [TRAIN] LR: 2.42e-07 Teach: 0.27 Scheduler: ReduceLROnPlateau:   2%|▏         | 1/42 [00:05<03:42,  5.42s/it, loss=0.738]"
     ]
    },
    {
     "name": "stdout",
     "output_type": "stream",
     "text": [
      "\n",
      "--- Training Batch 0 Examples (Content Only) ---\n",
      "  Pred: 'TJ6877'\n",
      "  True: 'TJ6877'\n",
      "  Pred: 'QG4655'\n",
      "  True: 'QG4655'\n",
      "  Pred: '5E3772'\n",
      "  True: '5E3772'\n",
      "  Pred: 'DJ6081'\n",
      "  True: 'DJ6081'\n",
      "  Pred: '5600VG'\n",
      "  True: '5600VG'\n",
      "-------------------------------\n"
     ]
    },
    {
     "name": "stderr",
     "output_type": "stream",
     "text": [
      "Epoch 66/100 [TRAIN] LR: 2.42e-07 Teach: 0.27 Scheduler: ReduceLROnPlateau: 100%|██████████| 42/42 [00:57<00:00,  1.36s/it, loss=0.71]\n",
      "Epoch 66/100 [VAL]: 100%|██████████| 22/22 [00:31<00:00,  1.45s/it, loss=0.862]\n"
     ]
    },
    {
     "name": "stdout",
     "output_type": "stream",
     "text": [
      "EarlyStopping counter: 56/100 (Best val_acc: 0.9917)\n",
      "\n",
      "Epoch 66/100 | LR: 2.42e-07 | Teach: 0.27 | Scheduler: ReduceLROnPlateau\n",
      "  Train Loss: 0.7215 | Train Char Acc: 0.9952\n",
      "  Val Loss: 0.7466   | Val Acc (CRR): 0.9892\n",
      "  Val Exact Match Acc (E2E RR): 0.9442\n",
      "----------------------------------------------------------------------\n"
     ]
    },
    {
     "name": "stderr",
     "output_type": "stream",
     "text": [
      "Epoch 67/100 [TRAIN] LR: 2.42e-07 Teach: 0.27 Scheduler: ReduceLROnPlateau:   2%|▏         | 1/42 [00:05<03:47,  5.54s/it, loss=0.77]"
     ]
    },
    {
     "name": "stdout",
     "output_type": "stream",
     "text": [
      "\n",
      "--- Training Batch 0 Examples (Content Only) ---\n",
      "  Pred: '9825YY'\n",
      "  True: '9825YY'\n",
      "  Pred: 'F21180'\n",
      "  True: 'F21180'\n",
      "  Pred: 'T67752'\n",
      "  True: 'T67752'\n",
      "  Pred: 'GK9087'\n",
      "  True: 'GK9087'\n",
      "  Pred: 'DB9200'\n",
      "  True: 'DB9200'\n",
      "-------------------------------\n"
     ]
    },
    {
     "name": "stderr",
     "output_type": "stream",
     "text": [
      "Epoch 67/100 [TRAIN] LR: 2.42e-07 Teach: 0.27 Scheduler: ReduceLROnPlateau: 100%|██████████| 42/42 [00:57<00:00,  1.36s/it, loss=0.744]\n",
      "Epoch 67/100 [VAL]: 100%|██████████| 22/22 [00:32<00:00,  1.46s/it, loss=0.863]\n"
     ]
    },
    {
     "name": "stdout",
     "output_type": "stream",
     "text": [
      "EarlyStopping counter: 57/100 (Best val_acc: 0.9917)\n",
      "\n",
      "Epoch 67/100 | LR: 1.21e-07 | Teach: 0.27 | Scheduler: ReduceLROnPlateau\n",
      "  Train Loss: 0.7260 | Train Char Acc: 0.9936\n",
      "  Val Loss: 0.7465   | Val Acc (CRR): 0.9892\n",
      "  Val Exact Match Acc (E2E RR): 0.9442\n",
      "----------------------------------------------------------------------\n"
     ]
    },
    {
     "name": "stderr",
     "output_type": "stream",
     "text": [
      "Epoch 68/100 [TRAIN] LR: 1.21e-07 Teach: 0.26 Scheduler: ReduceLROnPlateau:   2%|▏         | 1/42 [00:05<03:41,  5.39s/it, loss=0.776]"
     ]
    },
    {
     "name": "stdout",
     "output_type": "stream",
     "text": [
      "\n",
      "--- Training Batch 0 Examples (Content Only) ---\n",
      "  Pred: '4323DU'\n",
      "  True: '4323DU'\n",
      "  Pred: '2852JH'\n",
      "  True: '2852JH'\n",
      "  Pred: '2236TQ'\n",
      "  True: '2236TQ'\n",
      "  Pred: '7513GZ'\n",
      "  True: '7513GZ'\n",
      "  Pred: '3876NN'\n",
      "  True: '3876NN'\n",
      "-------------------------------\n"
     ]
    },
    {
     "name": "stderr",
     "output_type": "stream",
     "text": [
      "Epoch 68/100 [TRAIN] LR: 1.21e-07 Teach: 0.26 Scheduler: ReduceLROnPlateau: 100%|██████████| 42/42 [00:57<00:00,  1.36s/it, loss=0.722]\n",
      "Epoch 68/100 [VAL]: 100%|██████████| 22/22 [00:31<00:00,  1.45s/it, loss=0.863]\n"
     ]
    },
    {
     "name": "stdout",
     "output_type": "stream",
     "text": [
      "EarlyStopping counter: 58/100 (Best val_acc: 0.9917)\n",
      "\n",
      "Epoch 68/100 | LR: 1.21e-07 | Teach: 0.26 | Scheduler: ReduceLROnPlateau\n",
      "  Train Loss: 0.7287 | Train Char Acc: 0.9918\n",
      "  Val Loss: 0.7466   | Val Acc (CRR): 0.9892\n",
      "  Val Exact Match Acc (E2E RR): 0.9442\n",
      "----------------------------------------------------------------------\n"
     ]
    },
    {
     "name": "stderr",
     "output_type": "stream",
     "text": [
      "Epoch 69/100 [TRAIN] LR: 1.21e-07 Teach: 0.25 Scheduler: ReduceLROnPlateau:   2%|▏         | 1/42 [00:06<04:06,  6.00s/it, loss=0.707]"
     ]
    },
    {
     "name": "stdout",
     "output_type": "stream",
     "text": [
      "\n",
      "--- Training Batch 0 Examples (Content Only) ---\n",
      "  Pred: 'CQ5546'\n",
      "  True: 'CQ5546'\n",
      "  Pred: '7912YN'\n",
      "  True: '7912YN'\n",
      "  Pred: '2900QK'\n",
      "  True: '2900QK'\n",
      "  Pred: '9N0876'\n",
      "  True: '9N0876'\n",
      "  Pred: 'V60257'\n",
      "  True: 'V60257'\n",
      "-------------------------------\n"
     ]
    },
    {
     "name": "stderr",
     "output_type": "stream",
     "text": [
      "Epoch 69/100 [TRAIN] LR: 1.21e-07 Teach: 0.25 Scheduler: ReduceLROnPlateau: 100%|██████████| 42/42 [00:58<00:00,  1.38s/it, loss=0.712]\n",
      "Epoch 69/100 [VAL]: 100%|██████████| 22/22 [00:32<00:00,  1.46s/it, loss=0.863]\n"
     ]
    },
    {
     "name": "stdout",
     "output_type": "stream",
     "text": [
      "EarlyStopping counter: 59/100 (Best val_acc: 0.9917)\n",
      "\n",
      "Epoch 69/100 | LR: 1.21e-07 | Teach: 0.25 | Scheduler: ReduceLROnPlateau\n",
      "  Train Loss: 0.7235 | Train Char Acc: 0.9947\n",
      "  Val Loss: 0.7465   | Val Acc (CRR): 0.9892\n",
      "  Val Exact Match Acc (E2E RR): 0.9442\n",
      "----------------------------------------------------------------------\n"
     ]
    },
    {
     "name": "stderr",
     "output_type": "stream",
     "text": [
      "Epoch 70/100 [TRAIN] LR: 1.21e-07 Teach: 0.25 Scheduler: ReduceLROnPlateau:   2%|▏         | 1/42 [00:05<03:25,  5.02s/it, loss=0.71]"
     ]
    },
    {
     "name": "stdout",
     "output_type": "stream",
     "text": [
      "\n",
      "--- Training Batch 0 Examples (Content Only) ---\n",
      "  Pred: '5256EH'\n",
      "  True: '5256EH'\n",
      "  Pred: '8455NN'\n",
      "  True: '8455NN'\n",
      "  Pred: '8D7829'\n",
      "  True: '8D7829'\n",
      "  Pred: 'EX3301'\n",
      "  True: 'EX3301'\n",
      "  Pred: '1U8735'\n",
      "  True: '1U8735'\n",
      "-------------------------------\n"
     ]
    },
    {
     "name": "stderr",
     "output_type": "stream",
     "text": [
      "Epoch 70/100 [TRAIN] LR: 1.21e-07 Teach: 0.25 Scheduler: ReduceLROnPlateau: 100%|██████████| 42/42 [00:57<00:00,  1.37s/it, loss=0.717]\n",
      "Epoch 70/100 [VAL]: 100%|██████████| 22/22 [00:31<00:00,  1.45s/it, loss=0.863]\n"
     ]
    },
    {
     "name": "stdout",
     "output_type": "stream",
     "text": [
      "EarlyStopping counter: 60/100 (Best val_acc: 0.9917)\n",
      "\n",
      "Epoch 70/100 | LR: 6.04e-08 | Teach: 0.25 | Scheduler: ReduceLROnPlateau\n",
      "  Train Loss: 0.7274 | Train Char Acc: 0.9936\n",
      "  Val Loss: 0.7465   | Val Acc (CRR): 0.9892\n",
      "  Val Exact Match Acc (E2E RR): 0.9442\n",
      "----------------------------------------------------------------------\n"
     ]
    },
    {
     "name": "stderr",
     "output_type": "stream",
     "text": [
      "Epoch 71/100 [TRAIN] LR: 6.04e-08 Teach: 0.24 Scheduler: ReduceLROnPlateau:   2%|▏         | 1/42 [00:05<03:25,  5.01s/it, loss=0.718]"
     ]
    },
    {
     "name": "stdout",
     "output_type": "stream",
     "text": [
      "\n",
      "--- Training Batch 0 Examples (Content Only) ---\n",
      "  Pred: '2B6449'\n",
      "  True: '2B6449'\n",
      "  Pred: '8190DR'\n",
      "  True: '819DDR'\n",
      "  Pred: '3H9368'\n",
      "  True: '3H9368'\n",
      "  Pred: '4381EA'\n",
      "  True: '4381EA'\n",
      "  Pred: 'R28286'\n",
      "  True: 'R28286'\n",
      "-------------------------------\n"
     ]
    },
    {
     "name": "stderr",
     "output_type": "stream",
     "text": [
      "Epoch 71/100 [TRAIN] LR: 6.04e-08 Teach: 0.24 Scheduler: ReduceLROnPlateau: 100%|██████████| 42/42 [00:56<00:00,  1.35s/it, loss=0.711]\n",
      "Epoch 71/100 [VAL]: 100%|██████████| 22/22 [00:31<00:00,  1.45s/it, loss=0.863]\n"
     ]
    },
    {
     "name": "stdout",
     "output_type": "stream",
     "text": [
      "EarlyStopping counter: 61/100 (Best val_acc: 0.9917)\n",
      "\n",
      "Epoch 71/100 | LR: 6.04e-08 | Teach: 0.24 | Scheduler: ReduceLROnPlateau\n",
      "  Train Loss: 0.7303 | Train Char Acc: 0.9916\n",
      "  Val Loss: 0.7467   | Val Acc (CRR): 0.9892\n",
      "  Val Exact Match Acc (E2E RR): 0.9442\n",
      "----------------------------------------------------------------------\n"
     ]
    },
    {
     "name": "stderr",
     "output_type": "stream",
     "text": [
      "Epoch 72/100 [TRAIN] LR: 6.04e-08 Teach: 0.23 Scheduler: ReduceLROnPlateau:   2%|▏         | 1/42 [00:05<04:05,  5.99s/it, loss=0.715]"
     ]
    },
    {
     "name": "stdout",
     "output_type": "stream",
     "text": [
      "\n",
      "--- Training Batch 0 Examples (Content Only) ---\n",
      "  Pred: '1728QW'\n",
      "  True: '1728QW'\n",
      "  Pred: '0336EQ'\n",
      "  True: '0336EQ'\n",
      "  Pred: 'UR2068'\n",
      "  True: 'UR2068'\n",
      "  Pred: '3456DT'\n",
      "  True: '3456DT'\n",
      "  Pred: '1177VG'\n",
      "  True: '1177VG'\n",
      "-------------------------------\n"
     ]
    },
    {
     "name": "stderr",
     "output_type": "stream",
     "text": [
      "Epoch 72/100 [TRAIN] LR: 6.04e-08 Teach: 0.23 Scheduler: ReduceLROnPlateau: 100%|██████████| 42/42 [00:58<00:00,  1.38s/it, loss=0.714]\n",
      "Epoch 72/100 [VAL]: 100%|██████████| 22/22 [00:31<00:00,  1.45s/it, loss=0.863]\n"
     ]
    },
    {
     "name": "stdout",
     "output_type": "stream",
     "text": [
      "EarlyStopping counter: 62/100 (Best val_acc: 0.9917)\n",
      "\n",
      "Epoch 72/100 | LR: 6.04e-08 | Teach: 0.23 | Scheduler: ReduceLROnPlateau\n",
      "  Train Loss: 0.7285 | Train Char Acc: 0.9927\n",
      "  Val Loss: 0.7466   | Val Acc (CRR): 0.9892\n",
      "  Val Exact Match Acc (E2E RR): 0.9442\n",
      "----------------------------------------------------------------------\n"
     ]
    },
    {
     "name": "stderr",
     "output_type": "stream",
     "text": [
      "Epoch 73/100 [TRAIN] LR: 6.04e-08 Teach: 0.23 Scheduler: ReduceLROnPlateau:   2%|▏         | 1/42 [00:05<03:51,  5.66s/it, loss=0.722]"
     ]
    },
    {
     "name": "stdout",
     "output_type": "stream",
     "text": [
      "\n",
      "--- Training Batch 0 Examples (Content Only) ---\n",
      "  Pred: '6678FG'\n",
      "  True: '6678FG'\n",
      "  Pred: 'HY1182'\n",
      "  True: 'HY1182'\n",
      "  Pred: '4636DK'\n",
      "  True: '4636DK'\n",
      "  Pred: '6810RR'\n",
      "  True: '6810RR'\n",
      "  Pred: '6787VF'\n",
      "  True: '6787VF'\n",
      "-------------------------------\n"
     ]
    },
    {
     "name": "stderr",
     "output_type": "stream",
     "text": [
      "Epoch 73/100 [TRAIN] LR: 6.04e-08 Teach: 0.23 Scheduler: ReduceLROnPlateau: 100%|██████████| 42/42 [00:57<00:00,  1.37s/it, loss=0.709]\n",
      "Epoch 73/100 [VAL]: 100%|██████████| 22/22 [00:32<00:00,  1.46s/it, loss=0.862]\n"
     ]
    },
    {
     "name": "stdout",
     "output_type": "stream",
     "text": [
      "EarlyStopping counter: 63/100 (Best val_acc: 0.9917)\n",
      "\n",
      "Epoch 73/100 | LR: 3.02e-08 | Teach: 0.23 | Scheduler: ReduceLROnPlateau\n",
      "  Train Loss: 0.7354 | Train Char Acc: 0.9898\n",
      "  Val Loss: 0.7467   | Val Acc (CRR): 0.9892\n",
      "  Val Exact Match Acc (E2E RR): 0.9442\n",
      "----------------------------------------------------------------------\n"
     ]
    },
    {
     "name": "stderr",
     "output_type": "stream",
     "text": [
      "Epoch 74/100 [TRAIN] LR: 3.02e-08 Teach: 0.22 Scheduler: ReduceLROnPlateau:   2%|▏         | 1/42 [00:06<04:13,  6.18s/it, loss=0.709]"
     ]
    },
    {
     "name": "stdout",
     "output_type": "stream",
     "text": [
      "\n",
      "--- Training Batch 0 Examples (Content Only) ---\n",
      "  Pred: '2C1749'\n",
      "  True: '2C1749'\n",
      "  Pred: '215366'\n",
      "  True: '215366'\n",
      "  Pred: 'UR5216'\n",
      "  True: 'UR5216'\n",
      "  Pred: '5866DT'\n",
      "  True: '5866DT'\n",
      "  Pred: '3W9997'\n",
      "  True: '3W9997'\n",
      "-------------------------------\n"
     ]
    },
    {
     "name": "stderr",
     "output_type": "stream",
     "text": [
      "Epoch 74/100 [TRAIN] LR: 3.02e-08 Teach: 0.22 Scheduler: ReduceLROnPlateau: 100%|██████████| 42/42 [00:57<00:00,  1.38s/it, loss=0.722]\n",
      "Epoch 74/100 [VAL]: 100%|██████████| 22/22 [00:32<00:00,  1.46s/it, loss=0.862]\n"
     ]
    },
    {
     "name": "stdout",
     "output_type": "stream",
     "text": [
      "EarlyStopping counter: 64/100 (Best val_acc: 0.9917)\n",
      "\n",
      "Epoch 74/100 | LR: 3.02e-08 | Teach: 0.22 | Scheduler: ReduceLROnPlateau\n",
      "  Train Loss: 0.7285 | Train Char Acc: 0.9926\n",
      "  Val Loss: 0.7462   | Val Acc (CRR): 0.9892\n",
      "  Val Exact Match Acc (E2E RR): 0.9442\n",
      "----------------------------------------------------------------------\n"
     ]
    },
    {
     "name": "stderr",
     "output_type": "stream",
     "text": [
      "Epoch 75/100 [TRAIN] LR: 3.02e-08 Teach: 0.21 Scheduler: ReduceLROnPlateau:   2%|▏         | 1/42 [00:05<04:02,  5.91s/it, loss=0.765]"
     ]
    },
    {
     "name": "stdout",
     "output_type": "stream",
     "text": [
      "\n",
      "--- Training Batch 0 Examples (Content Only) ---\n",
      "  Pred: '3726ES'\n",
      "  True: '3726ES'\n",
      "  Pred: '3111QH'\n",
      "  True: '5591QH'\n",
      "  Pred: '2W6553'\n",
      "  True: '2W6553'\n",
      "  Pred: 'S95890'\n",
      "  True: 'S95890'\n",
      "  Pred: '5L4666'\n",
      "  True: '5L4666'\n",
      "-------------------------------\n"
     ]
    },
    {
     "name": "stderr",
     "output_type": "stream",
     "text": [
      "Epoch 75/100 [TRAIN] LR: 3.02e-08 Teach: 0.21 Scheduler: ReduceLROnPlateau: 100%|██████████| 42/42 [00:58<00:00,  1.38s/it, loss=0.718]\n",
      "Epoch 75/100 [VAL]: 100%|██████████| 22/22 [00:31<00:00,  1.45s/it, loss=0.863]\n"
     ]
    },
    {
     "name": "stdout",
     "output_type": "stream",
     "text": [
      "EarlyStopping counter: 65/100 (Best val_acc: 0.9917)\n",
      "\n",
      "Epoch 75/100 | LR: 3.02e-08 | Teach: 0.21 | Scheduler: ReduceLROnPlateau\n",
      "  Train Loss: 0.7246 | Train Char Acc: 0.9945\n",
      "  Val Loss: 0.7463   | Val Acc (CRR): 0.9892\n",
      "  Val Exact Match Acc (E2E RR): 0.9442\n",
      "----------------------------------------------------------------------\n"
     ]
    },
    {
     "name": "stderr",
     "output_type": "stream",
     "text": [
      "Epoch 76/100 [TRAIN] LR: 3.02e-08 Teach: 0.21 Scheduler: ReduceLROnPlateau:   2%|▏         | 1/42 [00:05<03:59,  5.84s/it, loss=0.715]"
     ]
    },
    {
     "name": "stdout",
     "output_type": "stream",
     "text": [
      "\n",
      "--- Training Batch 0 Examples (Content Only) ---\n",
      "  Pred: '9C1280'\n",
      "  True: '9C1280'\n",
      "  Pred: 'S61593'\n",
      "  True: 'S61593'\n",
      "  Pred: '4872HB'\n",
      "  True: '4872HB'\n",
      "  Pred: 'CY7655'\n",
      "  True: 'CY7655'\n",
      "  Pred: '2E1920'\n",
      "  True: '2E1920'\n",
      "-------------------------------\n"
     ]
    },
    {
     "name": "stderr",
     "output_type": "stream",
     "text": [
      "Epoch 76/100 [TRAIN] LR: 3.02e-08 Teach: 0.21 Scheduler: ReduceLROnPlateau: 100%|██████████| 42/42 [00:57<00:00,  1.37s/it, loss=0.724]\n",
      "Epoch 76/100 [VAL]: 100%|██████████| 22/22 [00:31<00:00,  1.45s/it, loss=0.863]\n"
     ]
    },
    {
     "name": "stdout",
     "output_type": "stream",
     "text": [
      "EarlyStopping counter: 66/100 (Best val_acc: 0.9917)\n",
      "\n",
      "Epoch 76/100 | LR: 1.51e-08 | Teach: 0.21 | Scheduler: ReduceLROnPlateau\n",
      "  Train Loss: 0.7244 | Train Char Acc: 0.9947\n",
      "  Val Loss: 0.7464   | Val Acc (CRR): 0.9892\n",
      "  Val Exact Match Acc (E2E RR): 0.9442\n",
      "----------------------------------------------------------------------\n"
     ]
    },
    {
     "name": "stderr",
     "output_type": "stream",
     "text": [
      "Epoch 77/100 [TRAIN] LR: 1.51e-08 Teach: 0.20 Scheduler: ReduceLROnPlateau:   2%|▏         | 1/42 [00:06<04:07,  6.04s/it, loss=0.746]"
     ]
    },
    {
     "name": "stdout",
     "output_type": "stream",
     "text": [
      "\n",
      "--- Training Batch 0 Examples (Content Only) ---\n",
      "  Pred: 'R27689'\n",
      "  True: 'R27689'\n",
      "  Pred: '1129FE'\n",
      "  True: '1129FE'\n",
      "  Pred: 'N38759'\n",
      "  True: 'N38759'\n",
      "  Pred: '5609ET'\n",
      "  True: '5609ET'\n",
      "  Pred: 'B79080'\n",
      "  True: 'B79080'\n",
      "-------------------------------\n"
     ]
    },
    {
     "name": "stderr",
     "output_type": "stream",
     "text": [
      "Epoch 77/100 [TRAIN] LR: 1.51e-08 Teach: 0.20 Scheduler: ReduceLROnPlateau: 100%|██████████| 42/42 [00:57<00:00,  1.37s/it, loss=0.741]\n",
      "Epoch 77/100 [VAL]: 100%|██████████| 22/22 [00:32<00:00,  1.46s/it, loss=0.862]\n"
     ]
    },
    {
     "name": "stdout",
     "output_type": "stream",
     "text": [
      "EarlyStopping counter: 67/100 (Best val_acc: 0.9917)\n",
      "\n",
      "Epoch 77/100 | LR: 1.51e-08 | Teach: 0.20 | Scheduler: ReduceLROnPlateau\n",
      "  Train Loss: 0.7261 | Train Char Acc: 0.9932\n",
      "  Val Loss: 0.7464   | Val Acc (CRR): 0.9892\n",
      "  Val Exact Match Acc (E2E RR): 0.9442\n",
      "----------------------------------------------------------------------\n"
     ]
    },
    {
     "name": "stderr",
     "output_type": "stream",
     "text": [
      "Epoch 78/100 [TRAIN] LR: 1.51e-08 Teach: 0.19 Scheduler: ReduceLROnPlateau:   2%|▏         | 1/42 [00:05<03:49,  5.60s/it, loss=0.724]"
     ]
    },
    {
     "name": "stdout",
     "output_type": "stream",
     "text": [
      "\n",
      "--- Training Batch 0 Examples (Content Only) ---\n",
      "  Pred: 'DC4099'\n",
      "  True: 'DC4099'\n",
      "  Pred: '6568NX'\n",
      "  True: '6568NX'\n",
      "  Pred: '2256NU'\n",
      "  True: '2256NU'\n",
      "  Pred: 'C25337'\n",
      "  True: 'C25337'\n",
      "  Pred: '6989DP'\n",
      "  True: '6909DP'\n",
      "-------------------------------\n"
     ]
    },
    {
     "name": "stderr",
     "output_type": "stream",
     "text": [
      "Epoch 78/100 [TRAIN] LR: 1.51e-08 Teach: 0.19 Scheduler: ReduceLROnPlateau: 100%|██████████| 42/42 [00:57<00:00,  1.37s/it, loss=0.824]\n",
      "Epoch 78/100 [VAL]: 100%|██████████| 22/22 [00:32<00:00,  1.46s/it, loss=0.862]\n"
     ]
    },
    {
     "name": "stdout",
     "output_type": "stream",
     "text": [
      "EarlyStopping counter: 68/100 (Best val_acc: 0.9917)\n",
      "\n",
      "Epoch 78/100 | LR: 1.51e-08 | Teach: 0.19 | Scheduler: ReduceLROnPlateau\n",
      "  Train Loss: 0.7317 | Train Char Acc: 0.9911\n",
      "  Val Loss: 0.7466   | Val Acc (CRR): 0.9892\n",
      "  Val Exact Match Acc (E2E RR): 0.9442\n",
      "----------------------------------------------------------------------\n"
     ]
    },
    {
     "name": "stderr",
     "output_type": "stream",
     "text": [
      "Epoch 79/100 [TRAIN] LR: 1.51e-08 Teach: 0.19 Scheduler: ReduceLROnPlateau:   2%|▏         | 1/42 [00:05<03:43,  5.44s/it, loss=0.706]"
     ]
    },
    {
     "name": "stdout",
     "output_type": "stream",
     "text": [
      "\n",
      "--- Training Batch 0 Examples (Content Only) ---\n",
      "  Pred: '8106TM'\n",
      "  True: '8106TM'\n",
      "  Pred: '2257JT'\n",
      "  True: '2257JT'\n",
      "  Pred: '7005D5'\n",
      "  True: '7005D5'\n",
      "  Pred: '4872HB'\n",
      "  True: '4872HB'\n",
      "  Pred: 'M52028'\n",
      "  True: 'M52028'\n",
      "-------------------------------\n"
     ]
    },
    {
     "name": "stderr",
     "output_type": "stream",
     "text": [
      "Epoch 79/100 [TRAIN] LR: 1.51e-08 Teach: 0.19 Scheduler: ReduceLROnPlateau: 100%|██████████| 42/42 [00:57<00:00,  1.36s/it, loss=0.785]\n",
      "Epoch 79/100 [VAL]: 100%|██████████| 22/22 [00:32<00:00,  1.46s/it, loss=0.863]\n"
     ]
    },
    {
     "name": "stdout",
     "output_type": "stream",
     "text": [
      "EarlyStopping counter: 69/100 (Best val_acc: 0.9917)\n",
      "\n",
      "Epoch 79/100 | LR: 1.51e-08 | Teach: 0.19 | Scheduler: ReduceLROnPlateau\n",
      "  Train Loss: 0.7304 | Train Char Acc: 0.9913\n",
      "  Val Loss: 0.7466   | Val Acc (CRR): 0.9892\n",
      "  Val Exact Match Acc (E2E RR): 0.9442\n",
      "----------------------------------------------------------------------\n"
     ]
    },
    {
     "name": "stderr",
     "output_type": "stream",
     "text": [
      "Epoch 80/100 [TRAIN] LR: 1.51e-08 Teach: 0.18 Scheduler: ReduceLROnPlateau:   2%|▏         | 1/42 [00:05<03:59,  5.85s/it, loss=0.717]"
     ]
    },
    {
     "name": "stdout",
     "output_type": "stream",
     "text": [
      "\n",
      "--- Training Batch 0 Examples (Content Only) ---\n",
      "  Pred: '0202YS'\n",
      "  True: '0202YS'\n",
      "  Pred: 'JT0350'\n",
      "  True: 'JT0350'\n",
      "  Pred: 'N30237'\n",
      "  True: 'N30237'\n",
      "  Pred: '2258DK'\n",
      "  True: '2258DK'\n",
      "  Pred: '8530VD'\n",
      "  True: '8530VD'\n",
      "-------------------------------\n"
     ]
    },
    {
     "name": "stderr",
     "output_type": "stream",
     "text": [
      "Epoch 80/100 [TRAIN] LR: 1.51e-08 Teach: 0.18 Scheduler: ReduceLROnPlateau: 100%|██████████| 42/42 [00:57<00:00,  1.37s/it, loss=0.715]\n",
      "Epoch 80/100 [VAL]: 100%|██████████| 22/22 [00:32<00:00,  1.46s/it, loss=0.863]\n"
     ]
    },
    {
     "name": "stdout",
     "output_type": "stream",
     "text": [
      "EarlyStopping counter: 70/100 (Best val_acc: 0.9917)\n",
      "\n",
      "Epoch 80/100 | LR: 1.51e-08 | Teach: 0.18 | Scheduler: ReduceLROnPlateau\n",
      "  Train Loss: 0.7249 | Train Char Acc: 0.9940\n",
      "  Val Loss: 0.7466   | Val Acc (CRR): 0.9892\n",
      "  Val Exact Match Acc (E2E RR): 0.9442\n",
      "----------------------------------------------------------------------\n"
     ]
    },
    {
     "name": "stderr",
     "output_type": "stream",
     "text": [
      "Epoch 81/100 [TRAIN] LR: 1.51e-08 Teach: 0.17 Scheduler: ReduceLROnPlateau:   2%|▏         | 1/42 [00:05<03:48,  5.58s/it, loss=0.713]"
     ]
    },
    {
     "name": "stdout",
     "output_type": "stream",
     "text": [
      "\n",
      "--- Training Batch 0 Examples (Content Only) ---\n",
      "  Pred: '7N8062'\n",
      "  True: '7N8062'\n",
      "  Pred: '5615JQ'\n",
      "  True: '5615JQ'\n",
      "  Pred: 'K86721'\n",
      "  True: 'K86721'\n",
      "  Pred: '9161KD'\n",
      "  True: '9161KD'\n",
      "  Pred: 'EZ6142'\n",
      "  True: 'EZ6142'\n",
      "-------------------------------\n"
     ]
    },
    {
     "name": "stderr",
     "output_type": "stream",
     "text": [
      "Epoch 81/100 [TRAIN] LR: 1.51e-08 Teach: 0.17 Scheduler: ReduceLROnPlateau: 100%|██████████| 42/42 [00:57<00:00,  1.36s/it, loss=0.716]\n",
      "Epoch 81/100 [VAL]: 100%|██████████| 22/22 [00:31<00:00,  1.43s/it, loss=0.862]\n"
     ]
    },
    {
     "name": "stdout",
     "output_type": "stream",
     "text": [
      "EarlyStopping counter: 71/100 (Best val_acc: 0.9917)\n",
      "\n",
      "Epoch 81/100 | LR: 1.51e-08 | Teach: 0.17 | Scheduler: ReduceLROnPlateau\n",
      "  Train Loss: 0.7275 | Train Char Acc: 0.9931\n",
      "  Val Loss: 0.7466   | Val Acc (CRR): 0.9892\n",
      "  Val Exact Match Acc (E2E RR): 0.9442\n",
      "----------------------------------------------------------------------\n"
     ]
    },
    {
     "name": "stderr",
     "output_type": "stream",
     "text": [
      "Epoch 82/100 [TRAIN] LR: 1.51e-08 Teach: 0.17 Scheduler: ReduceLROnPlateau:   2%|▏         | 1/42 [00:05<03:59,  5.84s/it, loss=0.718]"
     ]
    },
    {
     "name": "stdout",
     "output_type": "stream",
     "text": [
      "\n",
      "--- Training Batch 0 Examples (Content Only) ---\n",
      "  Pred: '2193DU'\n",
      "  True: '2193DU'\n",
      "  Pred: 'BN6341'\n",
      "  True: 'BN6341'\n",
      "  Pred: '5011QT'\n",
      "  True: '5011QT'\n",
      "  Pred: '9213YG'\n",
      "  True: '9213YG'\n",
      "  Pred: '8222TK'\n",
      "  True: '8222TK'\n",
      "-------------------------------\n"
     ]
    },
    {
     "name": "stderr",
     "output_type": "stream",
     "text": [
      "Epoch 82/100 [TRAIN] LR: 1.51e-08 Teach: 0.17 Scheduler: ReduceLROnPlateau: 100%|██████████| 42/42 [00:57<00:00,  1.38s/it, loss=0.71]\n",
      "Epoch 82/100 [VAL]: 100%|██████████| 22/22 [00:31<00:00,  1.45s/it, loss=0.863]\n"
     ]
    },
    {
     "name": "stdout",
     "output_type": "stream",
     "text": [
      "EarlyStopping counter: 72/100 (Best val_acc: 0.9917)\n",
      "\n",
      "Epoch 82/100 | LR: 1.51e-08 | Teach: 0.17 | Scheduler: ReduceLROnPlateau\n",
      "  Train Loss: 0.7287 | Train Char Acc: 0.9916\n",
      "  Val Loss: 0.7465   | Val Acc (CRR): 0.9892\n",
      "  Val Exact Match Acc (E2E RR): 0.9442\n",
      "----------------------------------------------------------------------\n"
     ]
    },
    {
     "name": "stderr",
     "output_type": "stream",
     "text": [
      "Epoch 83/100 [TRAIN] LR: 1.51e-08 Teach: 0.16 Scheduler: ReduceLROnPlateau:   2%|▏         | 1/42 [00:05<03:59,  5.84s/it, loss=0.709]"
     ]
    },
    {
     "name": "stdout",
     "output_type": "stream",
     "text": [
      "\n",
      "--- Training Batch 0 Examples (Content Only) ---\n",
      "  Pred: '4323DU'\n",
      "  True: '4323DU'\n",
      "  Pred: '6327EY'\n",
      "  True: '6327EY'\n",
      "  Pred: '7C6856'\n",
      "  True: '7C6856'\n",
      "  Pred: '8072DQ'\n",
      "  True: '8072DQ'\n",
      "  Pred: '6799LU'\n",
      "  True: '6799LU'\n",
      "-------------------------------\n"
     ]
    },
    {
     "name": "stderr",
     "output_type": "stream",
     "text": [
      "Epoch 83/100 [TRAIN] LR: 1.51e-08 Teach: 0.16 Scheduler: ReduceLROnPlateau: 100%|██████████| 42/42 [00:58<00:00,  1.39s/it, loss=0.722]\n",
      "Epoch 83/100 [VAL]: 100%|██████████| 22/22 [00:32<00:00,  1.46s/it, loss=0.863]\n"
     ]
    },
    {
     "name": "stdout",
     "output_type": "stream",
     "text": [
      "EarlyStopping counter: 73/100 (Best val_acc: 0.9917)\n",
      "\n",
      "Epoch 83/100 | LR: 1.51e-08 | Teach: 0.16 | Scheduler: ReduceLROnPlateau\n",
      "  Train Loss: 0.7276 | Train Char Acc: 0.9931\n",
      "  Val Loss: 0.7464   | Val Acc (CRR): 0.9892\n",
      "  Val Exact Match Acc (E2E RR): 0.9442\n",
      "----------------------------------------------------------------------\n"
     ]
    },
    {
     "name": "stderr",
     "output_type": "stream",
     "text": [
      "Epoch 84/100 [TRAIN] LR: 1.51e-08 Teach: 0.16 Scheduler: ReduceLROnPlateau:   2%|▏         | 1/42 [00:05<03:43,  5.46s/it, loss=0.719]"
     ]
    },
    {
     "name": "stdout",
     "output_type": "stream",
     "text": [
      "\n",
      "--- Training Batch 0 Examples (Content Only) ---\n",
      "  Pred: '1731VF'\n",
      "  True: '1731VF'\n",
      "  Pred: '3886EF'\n",
      "  True: '3886EF'\n",
      "  Pred: 'AK8699'\n",
      "  True: 'AK8699'\n",
      "  Pred: 'C43806'\n",
      "  True: 'C43806'\n",
      "  Pred: 'CU6416'\n",
      "  True: 'CU6416'\n",
      "-------------------------------\n"
     ]
    },
    {
     "name": "stderr",
     "output_type": "stream",
     "text": [
      "Epoch 84/100 [TRAIN] LR: 1.51e-08 Teach: 0.16 Scheduler: ReduceLROnPlateau: 100%|██████████| 42/42 [00:57<00:00,  1.37s/it, loss=0.71]\n",
      "Epoch 84/100 [VAL]: 100%|██████████| 22/22 [00:31<00:00,  1.42s/it, loss=0.863]\n"
     ]
    },
    {
     "name": "stdout",
     "output_type": "stream",
     "text": [
      "EarlyStopping counter: 74/100 (Best val_acc: 0.9917)\n",
      "\n",
      "Epoch 84/100 | LR: 1.51e-08 | Teach: 0.16 | Scheduler: ReduceLROnPlateau\n",
      "  Train Loss: 0.7271 | Train Char Acc: 0.9927\n",
      "  Val Loss: 0.7464   | Val Acc (CRR): 0.9892\n",
      "  Val Exact Match Acc (E2E RR): 0.9442\n",
      "----------------------------------------------------------------------\n"
     ]
    },
    {
     "name": "stderr",
     "output_type": "stream",
     "text": [
      "Epoch 85/100 [TRAIN] LR: 1.51e-08 Teach: 0.15 Scheduler: ReduceLROnPlateau:   2%|▏         | 1/42 [00:05<03:40,  5.38s/it, loss=0.756]"
     ]
    },
    {
     "name": "stdout",
     "output_type": "stream",
     "text": [
      "\n",
      "--- Training Batch 0 Examples (Content Only) ---\n",
      "  Pred: '7C8991'\n",
      "  True: '7C8991'\n",
      "  Pred: 'LW3BD0'\n",
      "  True: 'LW3BD0'\n",
      "  Pred: '8T6210'\n",
      "  True: '8T6210'\n",
      "  Pred: 'N36190'\n",
      "  True: 'N36190'\n",
      "  Pred: 'GP9056'\n",
      "  True: 'GP9056'\n",
      "-------------------------------\n"
     ]
    },
    {
     "name": "stderr",
     "output_type": "stream",
     "text": [
      "Epoch 85/100 [TRAIN] LR: 1.51e-08 Teach: 0.15 Scheduler: ReduceLROnPlateau: 100%|██████████| 42/42 [00:57<00:00,  1.36s/it, loss=0.707]\n",
      "Epoch 85/100 [VAL]: 100%|██████████| 22/22 [00:31<00:00,  1.42s/it, loss=0.863]\n"
     ]
    },
    {
     "name": "stdout",
     "output_type": "stream",
     "text": [
      "EarlyStopping counter: 75/100 (Best val_acc: 0.9917)\n",
      "\n",
      "Epoch 85/100 | LR: 1.51e-08 | Teach: 0.15 | Scheduler: ReduceLROnPlateau\n",
      "  Train Loss: 0.7273 | Train Char Acc: 0.9922\n",
      "  Val Loss: 0.7466   | Val Acc (CRR): 0.9892\n",
      "  Val Exact Match Acc (E2E RR): 0.9442\n",
      "----------------------------------------------------------------------\n"
     ]
    },
    {
     "name": "stderr",
     "output_type": "stream",
     "text": [
      "Epoch 86/100 [TRAIN] LR: 1.51e-08 Teach: 0.14 Scheduler: ReduceLROnPlateau:   2%|▏         | 1/42 [00:05<03:46,  5.52s/it, loss=0.739]"
     ]
    },
    {
     "name": "stdout",
     "output_type": "stream",
     "text": [
      "\n",
      "--- Training Batch 0 Examples (Content Only) ---\n",
      "  Pred: '6A9141'\n",
      "  True: '6A9141'\n",
      "  Pred: 'G33868'\n",
      "  True: 'G39750'\n",
      "  Pred: 'SB5471'\n",
      "  True: 'SB5471'\n",
      "  Pred: 'G39750'\n",
      "  True: 'G39750'\n",
      "  Pred: 'B40913'\n",
      "  True: 'B40913'\n",
      "-------------------------------\n"
     ]
    },
    {
     "name": "stderr",
     "output_type": "stream",
     "text": [
      "Epoch 86/100 [TRAIN] LR: 1.51e-08 Teach: 0.14 Scheduler: ReduceLROnPlateau: 100%|██████████| 42/42 [00:57<00:00,  1.36s/it, loss=0.771]\n",
      "Epoch 86/100 [VAL]: 100%|██████████| 22/22 [00:30<00:00,  1.41s/it, loss=0.863]\n"
     ]
    },
    {
     "name": "stdout",
     "output_type": "stream",
     "text": [
      "EarlyStopping counter: 76/100 (Best val_acc: 0.9917)\n",
      "\n",
      "Epoch 86/100 | LR: 1.51e-08 | Teach: 0.14 | Scheduler: ReduceLROnPlateau\n",
      "  Train Loss: 0.7339 | Train Char Acc: 0.9900\n",
      "  Val Loss: 0.7466   | Val Acc (CRR): 0.9892\n",
      "  Val Exact Match Acc (E2E RR): 0.9442\n",
      "----------------------------------------------------------------------\n"
     ]
    },
    {
     "name": "stderr",
     "output_type": "stream",
     "text": [
      "Epoch 87/100 [TRAIN] LR: 1.51e-08 Teach: 0.14 Scheduler: ReduceLROnPlateau:   2%|▏         | 1/42 [00:05<03:57,  5.79s/it, loss=0.771]"
     ]
    },
    {
     "name": "stdout",
     "output_type": "stream",
     "text": [
      "\n",
      "--- Training Batch 0 Examples (Content Only) ---\n",
      "  Pred: '9711KG'\n",
      "  True: '9711KG'\n",
      "  Pred: '2551JS'\n",
      "  True: '2551JS'\n",
      "  Pred: '8C5812'\n",
      "  True: '8C5812'\n",
      "  Pred: 'CH8196'\n",
      "  True: 'CH8196'\n",
      "  Pred: '3968JJ'\n",
      "  True: '3968JX'\n",
      "-------------------------------\n"
     ]
    },
    {
     "name": "stderr",
     "output_type": "stream",
     "text": [
      "Epoch 87/100 [TRAIN] LR: 1.51e-08 Teach: 0.14 Scheduler: ReduceLROnPlateau: 100%|██████████| 42/42 [00:57<00:00,  1.37s/it, loss=0.717]\n",
      "Epoch 87/100 [VAL]: 100%|██████████| 22/22 [00:30<00:00,  1.41s/it, loss=0.863]\n"
     ]
    },
    {
     "name": "stdout",
     "output_type": "stream",
     "text": [
      "EarlyStopping counter: 77/100 (Best val_acc: 0.9917)\n",
      "\n",
      "Epoch 87/100 | LR: 1.51e-08 | Teach: 0.14 | Scheduler: ReduceLROnPlateau\n",
      "  Train Loss: 0.7364 | Train Char Acc: 0.9883\n",
      "  Val Loss: 0.7465   | Val Acc (CRR): 0.9892\n",
      "  Val Exact Match Acc (E2E RR): 0.9442\n",
      "----------------------------------------------------------------------\n"
     ]
    },
    {
     "name": "stderr",
     "output_type": "stream",
     "text": [
      "Epoch 88/100 [TRAIN] LR: 1.51e-08 Teach: 0.13 Scheduler: ReduceLROnPlateau:   2%|▏         | 1/42 [00:05<03:54,  5.73s/it, loss=0.749]"
     ]
    },
    {
     "name": "stdout",
     "output_type": "stream",
     "text": [
      "\n",
      "--- Training Batch 0 Examples (Content Only) ---\n",
      "  Pred: '2E1920'\n",
      "  True: '2E1920'\n",
      "  Pred: 'P624D5'\n",
      "  True: 'P624D5'\n",
      "  Pred: '1C0906'\n",
      "  True: '1C0906'\n",
      "  Pred: '6V4536'\n",
      "  True: '6V4536'\n",
      "  Pred: '6C2932'\n",
      "  True: '6C2932'\n",
      "-------------------------------\n"
     ]
    },
    {
     "name": "stderr",
     "output_type": "stream",
     "text": [
      "Epoch 88/100 [TRAIN] LR: 1.51e-08 Teach: 0.13 Scheduler: ReduceLROnPlateau: 100%|██████████| 42/42 [00:57<00:00,  1.36s/it, loss=0.711]\n",
      "Epoch 88/100 [VAL]: 100%|██████████| 22/22 [00:31<00:00,  1.42s/it, loss=0.862]\n"
     ]
    },
    {
     "name": "stdout",
     "output_type": "stream",
     "text": [
      "EarlyStopping counter: 78/100 (Best val_acc: 0.9917)\n",
      "\n",
      "Epoch 88/100 | LR: 1.51e-08 | Teach: 0.13 | Scheduler: ReduceLROnPlateau\n",
      "  Train Loss: 0.7296 | Train Char Acc: 0.9919\n",
      "  Val Loss: 0.7466   | Val Acc (CRR): 0.9892\n",
      "  Val Exact Match Acc (E2E RR): 0.9442\n",
      "----------------------------------------------------------------------\n"
     ]
    },
    {
     "name": "stderr",
     "output_type": "stream",
     "text": [
      "Epoch 89/100 [TRAIN] LR: 1.51e-08 Teach: 0.12 Scheduler: ReduceLROnPlateau:   2%|▏         | 1/42 [00:05<03:40,  5.37s/it, loss=0.718]"
     ]
    },
    {
     "name": "stdout",
     "output_type": "stream",
     "text": [
      "\n",
      "--- Training Batch 0 Examples (Content Only) ---\n",
      "  Pred: '3B1158'\n",
      "  True: '3B1158'\n",
      "  Pred: '0251HP'\n",
      "  True: '0251HP'\n",
      "  Pred: '4468QD'\n",
      "  True: '4468QD'\n",
      "  Pred: '4768QN'\n",
      "  True: '4768QN'\n",
      "  Pred: '3677EM'\n",
      "  True: '3677FM'\n",
      "-------------------------------\n"
     ]
    },
    {
     "name": "stderr",
     "output_type": "stream",
     "text": [
      "Epoch 89/100 [TRAIN] LR: 1.51e-08 Teach: 0.12 Scheduler: ReduceLROnPlateau: 100%|██████████| 42/42 [00:56<00:00,  1.36s/it, loss=0.757]\n",
      "Epoch 89/100 [VAL]: 100%|██████████| 22/22 [00:31<00:00,  1.41s/it, loss=0.862]\n"
     ]
    },
    {
     "name": "stdout",
     "output_type": "stream",
     "text": [
      "EarlyStopping counter: 79/100 (Best val_acc: 0.9917)\n",
      "\n",
      "Epoch 89/100 | LR: 1.51e-08 | Teach: 0.12 | Scheduler: ReduceLROnPlateau\n",
      "  Train Loss: 0.7298 | Train Char Acc: 0.9917\n",
      "  Val Loss: 0.7464   | Val Acc (CRR): 0.9892\n",
      "  Val Exact Match Acc (E2E RR): 0.9442\n",
      "----------------------------------------------------------------------\n"
     ]
    },
    {
     "name": "stderr",
     "output_type": "stream",
     "text": [
      "Epoch 90/100 [TRAIN] LR: 1.51e-08 Teach: 0.12 Scheduler: ReduceLROnPlateau:   2%|▏         | 1/42 [00:05<03:39,  5.36s/it, loss=0.709]"
     ]
    },
    {
     "name": "stdout",
     "output_type": "stream",
     "text": [
      "\n",
      "--- Training Batch 0 Examples (Content Only) ---\n",
      "  Pred: '7456TH'\n",
      "  True: '7456TH'\n",
      "  Pred: '4329RG'\n",
      "  True: '4329RG'\n",
      "  Pred: '3980LC'\n",
      "  True: '3980LC'\n",
      "  Pred: 'U66487'\n",
      "  True: 'U66487'\n",
      "  Pred: '5110EA'\n",
      "  True: '5110EA'\n",
      "-------------------------------\n"
     ]
    },
    {
     "name": "stderr",
     "output_type": "stream",
     "text": [
      "Epoch 90/100 [TRAIN] LR: 1.51e-08 Teach: 0.12 Scheduler: ReduceLROnPlateau: 100%|██████████| 42/42 [00:57<00:00,  1.38s/it, loss=0.721]\n",
      "Epoch 90/100 [VAL]: 100%|██████████| 22/22 [00:31<00:00,  1.41s/it, loss=0.863]\n"
     ]
    },
    {
     "name": "stdout",
     "output_type": "stream",
     "text": [
      "EarlyStopping counter: 80/100 (Best val_acc: 0.9917)\n",
      "\n",
      "Epoch 90/100 | LR: 1.51e-08 | Teach: 0.12 | Scheduler: ReduceLROnPlateau\n",
      "  Train Loss: 0.7260 | Train Char Acc: 0.9932\n",
      "  Val Loss: 0.7464   | Val Acc (CRR): 0.9892\n",
      "  Val Exact Match Acc (E2E RR): 0.9442\n",
      "----------------------------------------------------------------------\n"
     ]
    },
    {
     "name": "stderr",
     "output_type": "stream",
     "text": [
      "Epoch 91/100 [TRAIN] LR: 1.51e-08 Teach: 0.11 Scheduler: ReduceLROnPlateau:   2%|▏         | 1/42 [00:05<03:48,  5.58s/it, loss=0.711]"
     ]
    },
    {
     "name": "stdout",
     "output_type": "stream",
     "text": [
      "\n",
      "--- Training Batch 0 Examples (Content Only) ---\n",
      "  Pred: '6020MS'\n",
      "  True: '6020MS'\n",
      "  Pred: 'JT0350'\n",
      "  True: 'JT0350'\n",
      "  Pred: 'Z81081'\n",
      "  True: 'Z81081'\n",
      "  Pred: '5D7379'\n",
      "  True: '5D7379'\n",
      "  Pred: 'B67CFX'\n",
      "  True: 'B67CFX'\n",
      "-------------------------------\n"
     ]
    },
    {
     "name": "stderr",
     "output_type": "stream",
     "text": [
      "Epoch 91/100 [TRAIN] LR: 1.51e-08 Teach: 0.11 Scheduler: ReduceLROnPlateau: 100%|██████████| 42/42 [00:57<00:00,  1.36s/it, loss=0.709]\n",
      "Epoch 91/100 [VAL]: 100%|██████████| 22/22 [00:31<00:00,  1.42s/it, loss=0.864]\n"
     ]
    },
    {
     "name": "stdout",
     "output_type": "stream",
     "text": [
      "EarlyStopping counter: 81/100 (Best val_acc: 0.9917)\n",
      "\n",
      "Epoch 91/100 | LR: 1.51e-08 | Teach: 0.11 | Scheduler: ReduceLROnPlateau\n",
      "  Train Loss: 0.7219 | Train Char Acc: 0.9957\n",
      "  Val Loss: 0.7466   | Val Acc (CRR): 0.9892\n",
      "  Val Exact Match Acc (E2E RR): 0.9442\n",
      "----------------------------------------------------------------------\n"
     ]
    },
    {
     "name": "stderr",
     "output_type": "stream",
     "text": [
      "Epoch 92/100 [TRAIN] LR: 1.51e-08 Teach: 0.10 Scheduler: ReduceLROnPlateau:   2%|▏         | 1/42 [00:05<03:59,  5.84s/it, loss=0.712]"
     ]
    },
    {
     "name": "stdout",
     "output_type": "stream",
     "text": [
      "\n",
      "--- Training Batch 0 Examples (Content Only) ---\n",
      "  Pred: '6335UR'\n",
      "  True: '6335UR'\n",
      "  Pred: '6878NB'\n",
      "  True: '6878NB'\n",
      "  Pred: '6T8378'\n",
      "  True: '6T8378'\n",
      "  Pred: '7D1957'\n",
      "  True: '7D1957'\n",
      "  Pred: 'L83086'\n",
      "  True: 'L83086'\n",
      "-------------------------------\n"
     ]
    },
    {
     "name": "stderr",
     "output_type": "stream",
     "text": [
      "Epoch 92/100 [TRAIN] LR: 1.51e-08 Teach: 0.10 Scheduler: ReduceLROnPlateau: 100%|██████████| 42/42 [00:57<00:00,  1.37s/it, loss=0.72]\n",
      "Epoch 92/100 [VAL]: 100%|██████████| 22/22 [00:31<00:00,  1.41s/it, loss=0.864]\n"
     ]
    },
    {
     "name": "stdout",
     "output_type": "stream",
     "text": [
      "EarlyStopping counter: 82/100 (Best val_acc: 0.9917)\n",
      "\n",
      "Epoch 92/100 | LR: 1.51e-08 | Teach: 0.10 | Scheduler: ReduceLROnPlateau\n",
      "  Train Loss: 0.7262 | Train Char Acc: 0.9929\n",
      "  Val Loss: 0.7466   | Val Acc (CRR): 0.9892\n",
      "  Val Exact Match Acc (E2E RR): 0.9442\n",
      "----------------------------------------------------------------------\n"
     ]
    },
    {
     "name": "stderr",
     "output_type": "stream",
     "text": [
      "Epoch 93/100 [TRAIN] LR: 1.51e-08 Teach: 0.10 Scheduler: ReduceLROnPlateau:   2%|▏         | 1/42 [00:05<03:48,  5.56s/it, loss=0.735]"
     ]
    },
    {
     "name": "stdout",
     "output_type": "stream",
     "text": [
      "\n",
      "--- Training Batch 0 Examples (Content Only) ---\n",
      "  Pred: '9723DP'\n",
      "  True: '9723DP'\n",
      "  Pred: '2218TV'\n",
      "  True: '2218TV'\n",
      "  Pred: 'CF5225'\n",
      "  True: 'CF5225'\n",
      "  Pred: '2D2365'\n",
      "  True: '2D2365'\n",
      "  Pred: 'N30237'\n",
      "  True: 'N30237'\n",
      "-------------------------------\n"
     ]
    },
    {
     "name": "stderr",
     "output_type": "stream",
     "text": [
      "Epoch 93/100 [TRAIN] LR: 1.51e-08 Teach: 0.10 Scheduler: ReduceLROnPlateau: 100%|██████████| 42/42 [00:57<00:00,  1.36s/it, loss=0.714]\n",
      "Epoch 93/100 [VAL]: 100%|██████████| 22/22 [00:30<00:00,  1.41s/it, loss=0.864]\n"
     ]
    },
    {
     "name": "stdout",
     "output_type": "stream",
     "text": [
      "EarlyStopping counter: 83/100 (Best val_acc: 0.9917)\n",
      "\n",
      "Epoch 93/100 | LR: 1.51e-08 | Teach: 0.10 | Scheduler: ReduceLROnPlateau\n",
      "  Train Loss: 0.7250 | Train Char Acc: 0.9938\n",
      "  Val Loss: 0.7466   | Val Acc (CRR): 0.9892\n",
      "  Val Exact Match Acc (E2E RR): 0.9442\n",
      "----------------------------------------------------------------------\n"
     ]
    },
    {
     "name": "stderr",
     "output_type": "stream",
     "text": [
      "Epoch 94/100 [TRAIN] LR: 1.51e-08 Teach: 0.09 Scheduler: ReduceLROnPlateau:   2%|▏         | 1/42 [00:05<03:48,  5.56s/it, loss=0.758]"
     ]
    },
    {
     "name": "stdout",
     "output_type": "stream",
     "text": [
      "\n",
      "--- Training Batch 0 Examples (Content Only) ---\n",
      "  Pred: '6713UY'\n",
      "  True: '6713UY'\n",
      "  Pred: '5499FS'\n",
      "  True: '5499FS'\n",
      "  Pred: '5871HJ'\n",
      "  True: '5871HJ'\n",
      "  Pred: '3812DM'\n",
      "  True: '3812DM'\n",
      "  Pred: '3456DT'\n",
      "  True: '3456DT'\n",
      "-------------------------------\n"
     ]
    },
    {
     "name": "stderr",
     "output_type": "stream",
     "text": [
      "Epoch 94/100 [TRAIN] LR: 1.51e-08 Teach: 0.09 Scheduler: ReduceLROnPlateau: 100%|██████████| 42/42 [00:57<00:00,  1.36s/it, loss=0.747]\n",
      "Epoch 94/100 [VAL]: 100%|██████████| 22/22 [00:31<00:00,  1.45s/it, loss=0.863]\n"
     ]
    },
    {
     "name": "stdout",
     "output_type": "stream",
     "text": [
      "EarlyStopping counter: 84/100 (Best val_acc: 0.9917)\n",
      "\n",
      "Epoch 94/100 | LR: 1.51e-08 | Teach: 0.09 | Scheduler: ReduceLROnPlateau\n",
      "  Train Loss: 0.7308 | Train Char Acc: 0.9919\n",
      "  Val Loss: 0.7464   | Val Acc (CRR): 0.9892\n",
      "  Val Exact Match Acc (E2E RR): 0.9442\n",
      "----------------------------------------------------------------------\n"
     ]
    },
    {
     "name": "stderr",
     "output_type": "stream",
     "text": [
      "Epoch 95/100 [TRAIN] LR: 1.51e-08 Teach: 0.08 Scheduler: ReduceLROnPlateau:   2%|▏         | 1/42 [00:05<03:56,  5.76s/it, loss=0.721]"
     ]
    },
    {
     "name": "stdout",
     "output_type": "stream",
     "text": [
      "\n",
      "--- Training Batch 0 Examples (Content Only) ---\n",
      "  Pred: '7617YM'\n",
      "  True: '7617YM'\n",
      "  Pred: '4468QD'\n",
      "  True: '4468QD'\n",
      "  Pred: '4400DC'\n",
      "  True: '4400DC'\n",
      "  Pred: '1976VH'\n",
      "  True: '1976VH'\n",
      "  Pred: '6A9141'\n",
      "  True: '6A9141'\n",
      "-------------------------------\n"
     ]
    },
    {
     "name": "stderr",
     "output_type": "stream",
     "text": [
      "Epoch 95/100 [TRAIN] LR: 1.51e-08 Teach: 0.08 Scheduler: ReduceLROnPlateau: 100%|██████████| 42/42 [00:58<00:00,  1.39s/it, loss=0.711]\n",
      "Epoch 95/100 [VAL]: 100%|██████████| 22/22 [00:31<00:00,  1.45s/it, loss=0.863]\n"
     ]
    },
    {
     "name": "stdout",
     "output_type": "stream",
     "text": [
      "EarlyStopping counter: 85/100 (Best val_acc: 0.9917)\n",
      "\n",
      "Epoch 95/100 | LR: 1.51e-08 | Teach: 0.08 | Scheduler: ReduceLROnPlateau\n",
      "  Train Loss: 0.7318 | Train Char Acc: 0.9909\n",
      "  Val Loss: 0.7465   | Val Acc (CRR): 0.9892\n",
      "  Val Exact Match Acc (E2E RR): 0.9442\n",
      "----------------------------------------------------------------------\n"
     ]
    },
    {
     "name": "stderr",
     "output_type": "stream",
     "text": [
      "Epoch 96/100 [TRAIN] LR: 1.51e-08 Teach: 0.08 Scheduler: ReduceLROnPlateau:   2%|▏         | 1/42 [00:05<03:52,  5.68s/it, loss=0.724]"
     ]
    },
    {
     "name": "stdout",
     "output_type": "stream",
     "text": [
      "\n",
      "--- Training Batch 0 Examples (Content Only) ---\n",
      "  Pred: 'L931B3'\n",
      "  True: 'L931B3'\n",
      "  Pred: 'CN2950'\n",
      "  True: 'CN2950'\n",
      "  Pred: 'T50269'\n",
      "  True: 'T50269'\n",
      "  Pred: 'DM1551'\n",
      "  True: 'DM1551'\n",
      "  Pred: '6060KL'\n",
      "  True: '6060KL'\n",
      "-------------------------------\n"
     ]
    },
    {
     "name": "stderr",
     "output_type": "stream",
     "text": [
      "Epoch 96/100 [TRAIN] LR: 1.51e-08 Teach: 0.08 Scheduler: ReduceLROnPlateau: 100%|██████████| 42/42 [00:57<00:00,  1.37s/it, loss=0.71]\n",
      "Epoch 96/100 [VAL]: 100%|██████████| 22/22 [00:32<00:00,  1.47s/it, loss=0.863]\n"
     ]
    },
    {
     "name": "stdout",
     "output_type": "stream",
     "text": [
      "EarlyStopping counter: 86/100 (Best val_acc: 0.9917)\n",
      "\n",
      "Epoch 96/100 | LR: 1.51e-08 | Teach: 0.08 | Scheduler: ReduceLROnPlateau\n",
      "  Train Loss: 0.7222 | Train Char Acc: 0.9955\n",
      "  Val Loss: 0.7466   | Val Acc (CRR): 0.9892\n",
      "  Val Exact Match Acc (E2E RR): 0.9442\n",
      "----------------------------------------------------------------------\n"
     ]
    },
    {
     "name": "stderr",
     "output_type": "stream",
     "text": [
      "Epoch 97/100 [TRAIN] LR: 1.51e-08 Teach: 0.07 Scheduler: ReduceLROnPlateau:   2%|▏         | 1/42 [00:05<03:32,  5.19s/it, loss=0.714]"
     ]
    },
    {
     "name": "stdout",
     "output_type": "stream",
     "text": [
      "\n",
      "--- Training Batch 0 Examples (Content Only) ---\n",
      "  Pred: '5615JQ'\n",
      "  True: '5615JQ'\n",
      "  Pred: '2E1920'\n",
      "  True: '2E1920'\n",
      "  Pred: '2W6017'\n",
      "  True: '2W6017'\n",
      "  Pred: 'GX3020'\n",
      "  True: 'GX3020'\n",
      "  Pred: '0396KG'\n",
      "  True: '0396KG'\n",
      "-------------------------------\n"
     ]
    },
    {
     "name": "stderr",
     "output_type": "stream",
     "text": [
      "Epoch 97/100 [TRAIN] LR: 1.51e-08 Teach: 0.07 Scheduler: ReduceLROnPlateau: 100%|██████████| 42/42 [00:57<00:00,  1.37s/it, loss=0.742]\n",
      "Epoch 97/100 [VAL]: 100%|██████████| 22/22 [00:32<00:00,  1.47s/it, loss=0.862]\n"
     ]
    },
    {
     "name": "stdout",
     "output_type": "stream",
     "text": [
      "EarlyStopping counter: 87/100 (Best val_acc: 0.9917)\n",
      "\n",
      "Epoch 97/100 | LR: 1.51e-08 | Teach: 0.07 | Scheduler: ReduceLROnPlateau\n",
      "  Train Loss: 0.7232 | Train Char Acc: 0.9945\n",
      "  Val Loss: 0.7466   | Val Acc (CRR): 0.9892\n",
      "  Val Exact Match Acc (E2E RR): 0.9442\n",
      "----------------------------------------------------------------------\n"
     ]
    },
    {
     "name": "stderr",
     "output_type": "stream",
     "text": [
      "Epoch 98/100 [TRAIN] LR: 1.51e-08 Teach: 0.06 Scheduler: ReduceLROnPlateau:   2%|▏         | 1/42 [00:05<03:44,  5.48s/it, loss=0.713]"
     ]
    },
    {
     "name": "stdout",
     "output_type": "stream",
     "text": [
      "\n",
      "--- Training Batch 0 Examples (Content Only) ---\n",
      "  Pred: '7662QX'\n",
      "  True: '7662QX'\n",
      "  Pred: '9G1582'\n",
      "  True: '9G1582'\n",
      "  Pred: '6016YM'\n",
      "  True: '6016YM'\n",
      "  Pred: 'CH8196'\n",
      "  True: 'CH8196'\n",
      "  Pred: '9188ER'\n",
      "  True: '9188ER'\n",
      "-------------------------------\n"
     ]
    },
    {
     "name": "stderr",
     "output_type": "stream",
     "text": [
      "Epoch 98/100 [TRAIN] LR: 1.51e-08 Teach: 0.06 Scheduler: ReduceLROnPlateau: 100%|██████████| 42/42 [00:59<00:00,  1.41s/it, loss=0.732]\n",
      "Epoch 98/100 [VAL]: 100%|██████████| 22/22 [00:32<00:00,  1.48s/it, loss=0.863]\n"
     ]
    },
    {
     "name": "stdout",
     "output_type": "stream",
     "text": [
      "EarlyStopping counter: 88/100 (Best val_acc: 0.9917)\n",
      "\n",
      "Epoch 98/100 | LR: 1.51e-08 | Teach: 0.06 | Scheduler: ReduceLROnPlateau\n",
      "  Train Loss: 0.7361 | Train Char Acc: 0.9895\n",
      "  Val Loss: 0.7468   | Val Acc (CRR): 0.9892\n",
      "  Val Exact Match Acc (E2E RR): 0.9442\n",
      "----------------------------------------------------------------------\n"
     ]
    },
    {
     "name": "stderr",
     "output_type": "stream",
     "text": [
      "Epoch 99/100 [TRAIN] LR: 1.51e-08 Teach: 0.06 Scheduler: ReduceLROnPlateau:   2%|▏         | 1/42 [00:05<04:00,  5.86s/it, loss=0.713]"
     ]
    },
    {
     "name": "stdout",
     "output_type": "stream",
     "text": [
      "\n",
      "--- Training Batch 0 Examples (Content Only) ---\n",
      "  Pred: '7397GV'\n",
      "  True: '7397GV'\n",
      "  Pred: '9666TK'\n",
      "  True: '9666TK'\n",
      "  Pred: '8A1085'\n",
      "  True: '8A1085'\n",
      "  Pred: '5T4929'\n",
      "  True: '5T4929'\n",
      "  Pred: 'L16366'\n",
      "  True: 'L16366'\n",
      "-------------------------------\n"
     ]
    },
    {
     "name": "stderr",
     "output_type": "stream",
     "text": [
      "Epoch 99/100 [TRAIN] LR: 1.51e-08 Teach: 0.06 Scheduler: ReduceLROnPlateau: 100%|██████████| 42/42 [00:57<00:00,  1.38s/it, loss=0.709]\n",
      "Epoch 99/100 [VAL]: 100%|██████████| 22/22 [00:32<00:00,  1.48s/it, loss=0.862]\n"
     ]
    },
    {
     "name": "stdout",
     "output_type": "stream",
     "text": [
      "EarlyStopping counter: 89/100 (Best val_acc: 0.9917)\n",
      "\n",
      "Epoch 99/100 | LR: 1.51e-08 | Teach: 0.06 | Scheduler: ReduceLROnPlateau\n",
      "  Train Loss: 0.7307 | Train Char Acc: 0.9912\n",
      "  Val Loss: 0.7463   | Val Acc (CRR): 0.9892\n",
      "  Val Exact Match Acc (E2E RR): 0.9442\n",
      "----------------------------------------------------------------------\n"
     ]
    },
    {
     "name": "stderr",
     "output_type": "stream",
     "text": [
      "Epoch 100/100 [TRAIN] LR: 1.51e-08 Teach: 0.05 Scheduler: ReduceLROnPlateau:   2%|▏         | 1/42 [00:06<04:06,  6.01s/it, loss=0.786]"
     ]
    },
    {
     "name": "stdout",
     "output_type": "stream",
     "text": [
      "\n",
      "--- Training Batch 0 Examples (Content Only) ---\n",
      "  Pred: 'BQ1491'\n",
      "  True: 'BQ1491'\n",
      "  Pred: 'UQ8698'\n",
      "  True: 'UQ8698'\n",
      "  Pred: '9612ZU'\n",
      "  True: '1362DU'\n",
      "  Pred: 'A57269'\n",
      "  True: 'A57269'\n",
      "  Pred: '5910DU'\n",
      "  True: '5985YJ'\n",
      "-------------------------------\n"
     ]
    },
    {
     "name": "stderr",
     "output_type": "stream",
     "text": [
      "Epoch 100/100 [TRAIN] LR: 1.51e-08 Teach: 0.05 Scheduler: ReduceLROnPlateau: 100%|██████████| 42/42 [00:58<00:00,  1.38s/it, loss=0.706]\n",
      "Epoch 100/100 [VAL]: 100%|██████████| 22/22 [00:32<00:00,  1.47s/it, loss=0.862]\n"
     ]
    },
    {
     "name": "stdout",
     "output_type": "stream",
     "text": [
      "EarlyStopping counter: 90/100 (Best val_acc: 0.9917)\n",
      "\n",
      "Epoch 100/100 | LR: 1.51e-08 | Teach: 0.05 | Scheduler: ReduceLROnPlateau\n",
      "  Train Loss: 0.7293 | Train Char Acc: 0.9917\n",
      "  Val Loss: 0.7464   | Val Acc (CRR): 0.9892\n",
      "  Val Exact Match Acc (E2E RR): 0.9442\n",
      "----------------------------------------------------------------------\n",
      "\n",
      "Training completed!\n",
      "Final val accuracy (Greedy Character Level): 0.9892\n",
      "Final val accuracy (Constrained Length Exact Match): 0.9442\n"
     ]
    },
    {
     "data": {
      "image/png": "[encoded data removed]",
      "text/plain": [
       "<Figure size 1800x1200 with 2 Axes>"
      ]
     },
     "metadata": {},
     "output_type": "display_data"
    },
    {
     "name": "stdout",
     "output_type": "stream",
     "text": [
      "Saved plots to performance_plots.png\n"
     ]
    }
   ],
   "source": [
    "import torch\n",
    "import torch.nn as nn\n",
    "from ultralytics import YOLO\n",
    "from torch.nn import MultiheadAttention\n",
    "from torchvision import transforms\n",
    "from PIL import Image\n",
    "import random\n",
    "import os\n",
    "from torch.utils.data import Dataset, DataLoader, Sampler, Subset, SubsetRandomSampler\n",
    "import numpy as np\n",
    "from tqdm import tqdm\n",
    "import matplotlib.pyplot as plt\n",
    "from torchtoolbox.tools import mixup_data, mixup_criterion\n",
    "\n",
    "#--- Constants ---\n",
    "CHARACTERS = '0123456789ABCDEFGHIJKLMNOPQRSTUVWXYZ'\n",
    "SOS_TOKEN = 36\n",
    "EOS_TOKEN = 37\n",
    "PAD_TOKEN = len(CHARACTERS) + 2\n",
    "NUM_CLASSES = len(CHARACTERS) + 3  # SOS, EOS, PAD\n",
    "DEVICE = 'cuda' if torch.cuda.is_available() else 'cpu'\n",
    "\n",
    "#--- Utility functions ---\n",
    "def index_to_char(indices, include_special_tokens=False):\n",
    "    result = []\n",
    "    for i in indices:\n",
    "        i = i.item() if torch.is_tensor(i) else i\n",
    "        if i == SOS_TOKEN:\n",
    "            if include_special_tokens: result.append('[SOS]')\n",
    "        elif i == EOS_TOKEN:\n",
    "            if include_special_tokens: result.append('[EOS]')\n",
    "            break\n",
    "        elif 0 <= i < len(CHARACTERS):\n",
    "            result.append(CHARACTERS[i])\n",
    "        else:\n",
    "            if include_special_tokens or i not in [SOS_TOKEN, EOS_TOKEN]:\n",
    "                result.append(f'[UNK_{i}]')\n",
    "    return ''.join(result)\n",
    "\n",
    "def char_to_indices(text):\n",
    "    indices = [SOS_TOKEN]\n",
    "    for c in text:\n",
    "        if c in CHARACTERS:\n",
    "            indices.append(CHARACTERS.index(c))\n",
    "    indices.append(EOS_TOKEN)\n",
    "    return torch.tensor(indices, dtype=torch.long)\n",
    "\n",
    "#--- YOLO wrapper ---\n",
    "class YoloBackbone(nn.Module):\n",
    "    def __init__(self, model_path, target_feature_layer_index=9):\n",
    "        super().__init__()\n",
    "        _temp_yolo_instance = YOLO(model_path)\n",
    "        self.yolo_detection_model = _temp_yolo_instance.model\n",
    "        self.yolo_detection_model.to(DEVICE)\n",
    "        self.target_feature_layer_index = target_feature_layer_index\n",
    "\n",
    "        for name, param in self.yolo_detection_model.named_parameters():\n",
    "            param.requires_grad = True\n",
    "        \n",
    "        self._hook_handle = None\n",
    "        self._fmap_out_hook = []\n",
    "        \n",
    "        self._register_hook()\n",
    "\n",
    "    def _hook_fn_extractor(self, module, input_val, output_val):\n",
    "        if isinstance(output_val, torch.Tensor):\n",
    "            self._fmap_out_hook.append(output_val)\n",
    "        elif isinstance(output_val, (list, tuple)):\n",
    "            for item in output_val:\n",
    "                if isinstance(item, torch.Tensor):\n",
    "                    self._fmap_out_hook.append(item)\n",
    "                    break\n",
    "\n",
    "    def _register_hook(self):\n",
    "        layer_to_hook = self.yolo_detection_model.model[self.target_feature_layer_index]\n",
    "        self._hook_handle = layer_to_hook.register_forward_hook(self._hook_fn_extractor)\n",
    "\n",
    "    def _remove_hook(self):\n",
    "        if self._hook_handle:\n",
    "            self._hook_handle.remove()\n",
    "            self._hook_handle = None\n",
    "\n",
    "    def forward(self, x):\n",
    "        self._fmap_out_hook.clear()\n",
    "        _ = self.yolo_detection_model(x)\n",
    "        out_tensor = self._fmap_out_hook[0]\n",
    "        return out_tensor if out_tensor.dim() == 4 else out_tensor.unsqueeze(0)\n",
    "\n",
    "#--- Simplified RViT ---\n",
    "class RViT(nn.Module):\n",
    "    def __init__(self, yolo_channels=256, d_model=512, num_patches=1600, n_heads=8, num_encoder_layers=3, dim_feedforward=2048, dropout_rate=0.3):\n",
    "        super().__init__()\n",
    "        self.d_model = d_model\n",
    "        self.proj = nn.Sequential(\n",
    "            nn.Conv2d(yolo_channels, d_model, kernel_size=3, padding=1),\n",
    "            nn.BatchNorm2d(d_model),\n",
    "            nn.ReLU(),\n",
    "            nn.Dropout2d(dropout_rate if dropout_rate > 0 else 0)\n",
    "        )\n",
    "        encoder_layer = nn.TransformerEncoderLayer(\n",
    "            d_model=d_model, nhead=n_heads, dim_feedforward=dim_feedforward,\n",
    "            dropout=dropout_rate, batch_first=True, norm_first=True\n",
    "        )\n",
    "        self.encoder = nn.TransformerEncoder(encoder_layer, num_layers=num_encoder_layers)\n",
    "\n",
    "        self.pos_embed = nn.Parameter(torch.randn(1, num_patches + 1, d_model))\n",
    "        self.region_q = nn.Parameter(torch.zeros(1, 1, d_model))\n",
    "        \n",
    "        self.embed = nn.Embedding(NUM_CLASSES, d_model)\n",
    "        self.gru_num_layers = 1\n",
    "        self.gru = nn.GRU(d_model, d_model, num_layers=self.gru_num_layers, batch_first=True,\n",
    "                          dropout=dropout_rate if self.gru_num_layers > 1 else 0)\n",
    "        self.attn = MultiheadAttention(d_model, num_heads=n_heads, batch_first=True, dropout=dropout_rate)\n",
    "        self.fc = nn.Sequential(\n",
    "            nn.Dropout(dropout_rate if dropout_rate > 0 else 0),\n",
    "            nn.Linear(2 * d_model, NUM_CLASSES)\n",
    "        )\n",
    "\n",
    "    def forward(self, fmap, target=None, teach_ratio=0.5, forced_output_length=None):\n",
    "        b = fmap.size(0)\n",
    "        x = self.proj(fmap)\n",
    "        x = x.flatten(2).permute(0, 2, 1)\n",
    "\n",
    "        current_num_patches = x.size(1)\n",
    "        expected_pos_embed_len = current_num_patches + 1\n",
    "        \n",
    "        if self.pos_embed.size(1) != expected_pos_embed_len:\n",
    "            if self.pos_embed.size(1) > expected_pos_embed_len:\n",
    "                pos_embed_to_add = self.pos_embed[:, :expected_pos_embed_len, :]\n",
    "            else:\n",
    "                raise ValueError(f\"RViT pos_embed second dim {self.pos_embed.size(1)} is smaller than required {expected_pos_embed_len}\")\n",
    "        else:\n",
    "            pos_embed_to_add = self.pos_embed\n",
    "\n",
    "        q = self.region_q.expand(b, -1, -1)\n",
    "        x = torch.cat([q, x], dim=1)\n",
    "        x = x + pos_embed_to_add\n",
    "\n",
    "        enc = self.encoder(x)\n",
    "        region_feat, spatial_feats = enc[:, 0], enc[:, 1:]\n",
    "        \n",
    "        if forced_output_length is not None:\n",
    "            max_gen_len = forced_output_length\n",
    "        elif target is not None:\n",
    "            max_gen_len = target.size(1) - 1\n",
    "        else:\n",
    "            max_gen_len = MAX_SEQ_LENGTH - 1\n",
    "\n",
    "        h = region_feat.unsqueeze(0).contiguous()\n",
    "        current_input_tokens = torch.full((b,), SOS_TOKEN, device=DEVICE, dtype=torch.long)\n",
    "        outputs_logits = []\n",
    "\n",
    "        finished_sequences_tracker = None\n",
    "        if target is None and forced_output_length is None:\n",
    "            finished_sequences_tracker = torch.zeros(b, dtype=torch.bool, device=DEVICE)\n",
    "            \n",
    "        for t in range(max_gen_len):\n",
    "            emb = self.embed(current_input_tokens).unsqueeze(1)\n",
    "            g, h = self.gru(emb, h)\n",
    "            a, _ = self.attn(g, spatial_feats, spatial_feats)\n",
    "            comb = torch.cat([g.squeeze(1), a.squeeze(1)], dim=-1)\n",
    "            logits_step = self.fc(comb)\n",
    "            outputs_logits.append(logits_step)\n",
    "\n",
    "            if target is not None and random.random() < teach_ratio:\n",
    "                next_input_candidate = target[:, t + 1]\n",
    "            else:\n",
    "                next_input_candidate = logits_step.argmax(-1)\n",
    "\n",
    "            if finished_sequences_tracker is not None:\n",
    "                eos_predicted_this_step = (next_input_candidate == EOS_TOKEN)\n",
    "                finished_sequences_tracker |= eos_predicted_this_step\n",
    "                current_input_tokens = torch.where(finished_sequences_tracker,\n",
    "                                                 torch.tensor(EOS_TOKEN, device=DEVICE, dtype=torch.long),\n",
    "                                                 next_input_candidate)\n",
    "                if finished_sequences_tracker.all():\n",
    "                    break\n",
    "            else:\n",
    "                current_input_tokens = next_input_candidate\n",
    "        \n",
    "        return torch.stack(outputs_logits, dim=1)\n",
    "\n",
    "#--- Full model (YOLO_RViT) ---\n",
    "class YOLO_RViT(nn.Module):\n",
    "    def __init__(self, yolo_path, yolo_target_feature_layer_idx=9):\n",
    "        super().__init__()\n",
    "        self.backbone = YoloBackbone(yolo_path, target_feature_layer_index=yolo_target_feature_layer_idx)\n",
    "        dummy_input = torch.randn(1, 3, 640, 640).to(DEVICE)\n",
    "        \n",
    "        original_backbone_training_mode = self.backbone.training\n",
    "        with torch.no_grad():\n",
    "            dummy_feats = self.backbone(dummy_input)\n",
    "        \n",
    "        yolo_channels = dummy_feats.shape[1]\n",
    "        h_feat, w_feat = dummy_feats.shape[2], dummy_feats.shape[3]\n",
    "        num_patches = h_feat * w_feat\n",
    "        \n",
    "        self.rvit = RViT(yolo_channels=yolo_channels, num_patches=num_patches).to(DEVICE)\n",
    "\n",
    "    def forward(self, x, target=None, teach_ratio=0.5, forced_output_length=None):\n",
    "        x = x.to(DEVICE)\n",
    "        feats = self.backbone(x)\n",
    "        return self.rvit(feats, target, teach_ratio, forced_output_length)\n",
    "\n",
    "    def train(self, mode: bool = True):\n",
    "        super().train(mode)\n",
    "        self.rvit.train(mode)\n",
    "        self.backbone.train(mode)\n",
    "        return self\n",
    "\n",
    "    def eval(self):\n",
    "        super().eval()\n",
    "        self.rvit.eval()\n",
    "        self.backbone.eval()\n",
    "        return self\n",
    "\n",
    "#--- Dataset ---\n",
    "class LicensePlateDataset(Dataset):\n",
    "    def __init__(self, img_dir, license_dir, max_seq_length=15, is_train=True):\n",
    "        self.img_dir = img_dir\n",
    "        self.license_dir = license_dir\n",
    "        self.max_seq_length = max_seq_length\n",
    "        self.img_names = [f for f in os.listdir(self.img_dir) if f.endswith(('.jpg'))]\n",
    "        if is_train:\n",
    "            self.transform = transforms.Compose([\n",
    "                transforms.Resize((640, 640)),\n",
    "                transforms.RandomApply([\n",
    "                    transforms.RandomRotation(10),\n",
    "                    transforms.RandomAffine(degrees=8, translate=(0.03, 0.03), scale=(0.95, 1.05)),\n",
    "                    transforms.RandomPerspective(distortion_scale=0.05, p=0.3),\n",
    "                ], p=0.7),\n",
    "                transforms.ColorJitter(brightness=0.2, contrast=0.2, saturation=0.2, hue=0.05),\n",
    "                transforms.RandomApply([transforms.GaussianBlur(kernel_size=3, sigma=(0.1, 1.0))], p=0.25),\n",
    "                transforms.ToTensor(),\n",
    "                transforms.RandomErasing(p=0.2, scale=(0.01, 0.04), ratio=(0.3, 3.3)),\n",
    "                transforms.Normalize(mean=[0.485, 0.456, 0.406], std=[0.229, 0.224, 0.225])\n",
    "            ])\n",
    "        else:\n",
    "            self.transform = transforms.Compose([\n",
    "                transforms.Resize((640, 640)),\n",
    "                transforms.ToTensor(),\n",
    "                transforms.Normalize(mean=[0.485, 0.456, 0.406], std=[0.229, 0.224, 0.225])\n",
    "            ])\n",
    "            \n",
    "    def __len__(self):\n",
    "        return len(self.img_names)\n",
    "\n",
    "    def __getitem__(self, idx):\n",
    "        img_path = os.path.join(self.img_dir, self.img_names[idx])\n",
    "        img = Image.open(img_path).convert(\"RGB\")\n",
    "        img_tensor = self.transform(img)\n",
    "        \n",
    "        license_filename = os.path.splitext(self.img_names[idx])[0] + \".txt\"\n",
    "        license_path = os.path.join(self.license_dir, license_filename)\n",
    "        try:\n",
    "            with open(license_path, 'r', encoding='utf-8') as f:\n",
    "                license_text = f.read().upper().strip()\n",
    "        except FileNotFoundError:\n",
    "            return img_tensor, torch.full((self.max_seq_length,), EOS_TOKEN, dtype=torch.long)\n",
    "\n",
    "        # print(f\"file: {self.img_names[idx]}, {license_text}\")\n",
    "        license_indices = char_to_indices(license_text)\n",
    "        target = torch.full((self.max_seq_length,), PAD_TOKEN, dtype=torch.long)\n",
    "        \n",
    "        actual_len = min(len(license_indices), self.max_seq_length)\n",
    "        target[:actual_len] = license_indices[:actual_len]\n",
    "        \n",
    "        return img_tensor, target\n",
    "\n",
    "\n",
    "    @staticmethod\n",
    "    def collate_fn(batch):\n",
    "        images = torch.stack([item[0] for item in batch])\n",
    "        targets = torch.stack([item[1] for item in batch])\n",
    "        return images, targets\n",
    "\n",
    "#--- Early Stopping ---\n",
    "class EarlyStopping:\n",
    "    def __init__(self, patience=10, min_delta=0.0, monitor_metric='val_acc', mode='max', verbose=True):\n",
    "        self.patience = patience\n",
    "        self.min_delta = min_delta\n",
    "        self.monitor_metric = monitor_metric\n",
    "        self.mode = mode\n",
    "        self.verbose = verbose\n",
    "\n",
    "        if self.mode == 'min':\n",
    "            self.best_metric_val = np.Inf\n",
    "        else:\n",
    "            self.best_metric_val = -np.Inf\n",
    "        self.counter = 0\n",
    "        self.early_stop = False\n",
    "\n",
    "    def __call__(self, current_metric_val):\n",
    "        improved = False\n",
    "        if self.mode == 'min':\n",
    "            if current_metric_val < self.best_metric_val - self.min_delta:\n",
    "                self.best_metric_val = current_metric_val\n",
    "                improved = True\n",
    "        else:\n",
    "            if current_metric_val > self.best_metric_val + self.min_delta:\n",
    "                self.best_metric_val = current_metric_val\n",
    "                improved = True\n",
    "        \n",
    "        if improved:\n",
    "            self.counter = 0\n",
    "            if self.verbose:\n",
    "                print(f\"EarlyStopping: New best {self.monitor_metric}: {self.best_metric_val:.4f}\")\n",
    "        else:\n",
    "            self.counter += 1\n",
    "\n",
    "        if self.verbose and self.counter > 0 and not improved:\n",
    "            print(f\"EarlyStopping counter: {self.counter}/{self.patience} (Best {self.monitor_metric}: {self.best_metric_val:.4f})\")\n",
    "        if self.counter >= self.patience:\n",
    "            self.early_stop = True\n",
    "            if self.verbose:\n",
    "                print(f\"Early stopping triggered for {self.monitor_metric}.\")\n",
    "        return self.counter\n",
    "\n",
    "#--- Training ---\n",
    "YOLO_MODEL_PATH = '/kaggle/input/m/thitenguyen/yolov11s/pytorch/default/1/best.pt'\n",
    "YOLO_TARGET_FEATURE_LAYER_INDEX = 13\n",
    "\n",
    "IMG_DIR_TRAIN = \"/kaggle/input/aolp-ac-dataset/AOLP_AC/train/image\"\n",
    "LICENSE_DIR_TRAIN = \"/kaggle/input/aolp-ac-dataset/AOLP_AC/train/text\"\n",
    "IMG_DIR_VAL = \"/kaggle/input/aolp-ac-dataset/AOLP_AC/val/image\"\n",
    "LICENSE_DIR_VAL = \"/kaggle/input/aolp-ac-dataset/AOLP_AC/val/text\"\n",
    "\n",
    "MAX_SEQ_LENGTH = 15\n",
    "BATCH_SIZE = 32\n",
    "NUM_WORKERS = 4\n",
    "LEARNING_RATE = 5e-5\n",
    "MAX_LR_SCHEDULER = 5e-4\n",
    "WEIGHT_DECAY = 5e-5\n",
    "NUM_EPOCHS = 100\n",
    "ACCUM_STEPS = 2\n",
    "PATIENCE_EARLY_STOP = 100\n",
    "TEACH_RATIO_START = 0.7\n",
    "TEACH_RATIO_END = 0.05\n",
    "LABEL_SMOOTHING = 0.1\n",
    "\n",
    "scaler = torch.amp.GradScaler(DEVICE)\n",
    "autocast_context = lambda: torch.amp.autocast(DEVICE)\n",
    "\n",
    "train_dataset_full = LicensePlateDataset(img_dir=IMG_DIR_TRAIN, license_dir=LICENSE_DIR_TRAIN, max_seq_length=MAX_SEQ_LENGTH, is_train=True)\n",
    "val_dataset = LicensePlateDataset(img_dir=IMG_DIR_VAL, license_dir=LICENSE_DIR_VAL, max_seq_length=MAX_SEQ_LENGTH, is_train=False)\n",
    "\n",
    "train_dataloader = DataLoader(train_dataset_full, batch_size=BATCH_SIZE, shuffle=True, num_workers=NUM_WORKERS, collate_fn=LicensePlateDataset.collate_fn, pin_memory=(DEVICE == 'cuda'), drop_last=True)\n",
    "val_dataloader = DataLoader(val_dataset, batch_size=BATCH_SIZE, shuffle=False, num_workers=NUM_WORKERS, collate_fn=LicensePlateDataset.collate_fn, pin_memory=(DEVICE == 'cuda'))\n",
    "\n",
    "model = YOLO_RViT(YOLO_MODEL_PATH, yolo_target_feature_layer_idx=YOLO_TARGET_FEATURE_LAYER_INDEX).to(DEVICE)\n",
    "\n",
    "optimizer = torch.optim.AdamW(\n",
    "    model.parameters(),\n",
    "    lr=LEARNING_RATE,\n",
    "    weight_decay=WEIGHT_DECAY\n",
    ")\n",
    "\n",
    "scheduler = torch.optim.lr_scheduler.OneCycleLR(\n",
    "    optimizer, max_lr=MAX_LR_SCHEDULER,\n",
    "    epochs=NUM_EPOCHS,\n",
    "    steps_per_epoch=(len(train_dataloader) + ACCUM_STEPS - 1) // ACCUM_STEPS,\n",
    "    pct_start=0.2,\n",
    "    div_factor=(MAX_LR_SCHEDULER / LEARNING_RATE) if MAX_LR_SCHEDULER > LEARNING_RATE else 10.0\n",
    ")\n",
    "scheduler_type = \"OneCycleLR\"\n",
    "\n",
    "loss_fn = nn.CrossEntropyLoss(ignore_index=PAD_TOKEN, label_smoothing=LABEL_SMOOTHING)\n",
    "early_stopper = EarlyStopping(patience=PATIENCE_EARLY_STOP, min_delta=0.0005, monitor_metric='val_acc', mode='max', verbose=True)\n",
    "\n",
    "checkpoint = torch.load(\"/kaggle/input/yolo_rvt_aolp52_good/pytorch/default/1/final_yolo_rvit_model52.pth\", map_location=DEVICE)\n",
    "model.load_state_dict(checkpoint['model_state_dict'])\n",
    "optimizer.load_state_dict(checkpoint['optimizer_state_dict'])\n",
    "\n",
    "train_loss_values, val_loss_values = [], []\n",
    "train_acc_values, val_acc_values, val_acc_constrained_values = [], [], []\n",
    "epoch_count_list = []\n",
    "best_val_acc = 0.0\n",
    "\n",
    "for epoch in range(NUM_EPOCHS):\n",
    "    epoch_count_list.append(epoch + 1)\n",
    "    model.train()\n",
    "    train_loss, train_correct, train_total_chars = 0, 0, 0\n",
    "\n",
    "    teach_ratio = TEACH_RATIO_START - (TEACH_RATIO_START - TEACH_RATIO_END) * (epoch / max(1, NUM_EPOCHS - 1))\n",
    "\n",
    "    optimizer.zero_grad()\n",
    "\n",
    "    pbar_train = tqdm(train_dataloader, desc=f\"Epoch {epoch+1}/{NUM_EPOCHS} [TRAIN] LR: {optimizer.param_groups[0]['lr']:.2e} Teach: {teach_ratio:.2f} Scheduler: {scheduler_type}\")\n",
    "    for batch_idx, (imgs, targets) in enumerate(pbar_train):\n",
    "        imgs, targets = imgs.to(DEVICE, non_blocking=True), targets.to(DEVICE, non_blocking=True)\n",
    "        \n",
    "        with autocast_context():\n",
    "            outputs = model(imgs, target=targets, teach_ratio=teach_ratio)\n",
    "            flat_outputs = outputs.reshape(-1, NUM_CLASSES)\n",
    "            flat_targets = targets[:, 1:].reshape(-1)\n",
    "            loss = loss_fn(flat_outputs, flat_targets)\n",
    "            loss = loss / ACCUM_STEPS\n",
    "            \n",
    "        scaler.scale(loss).backward()\n",
    "        \n",
    "        if (batch_idx + 1) % ACCUM_STEPS == 0 or (batch_idx + 1) == len(train_dataloader):\n",
    "            torch.nn.utils.clip_grad_norm_(filter(lambda p: p.requires_grad, model.parameters()), max_norm=1.0)\n",
    "            scaler.step(optimizer)\n",
    "            scaler.update()\n",
    "            optimizer.zero_grad()\n",
    "            if scheduler_type == \"OneCycleLR\":\n",
    "                scheduler.step()\n",
    "\n",
    "        train_loss += loss.item() * ACCUM_STEPS\n",
    "        with torch.no_grad():\n",
    "            preds = outputs.argmax(-1)\n",
    "            true_chars = targets[:, 1:]\n",
    "            for i in range(imgs.size(0)):\n",
    "                pred_seq_list_train = preds[i].tolist()\n",
    "                if EOS_TOKEN in pred_seq_list_train:\n",
    "                    pred_seq_list_train = pred_seq_list_train[:pred_seq_list_train.index(EOS_TOKEN)]\n",
    "                \n",
    "                true_seq_list_train = true_chars[i].tolist()\n",
    "                true_content_train = [x for x in true_seq_list_train if x not in [EOS_TOKEN, PAD_TOKEN]]\n",
    "                len_true_content_train = len(true_content_train)\n",
    "                \n",
    "                cmp_len = min(len(pred_seq_list_train), len_true_content_train)\n",
    "                if cmp_len > 0:\n",
    "                    train_correct += (torch.tensor(pred_seq_list_train[:cmp_len]) == torch.tensor(true_content_train[:cmp_len])).sum().item()\n",
    "                \n",
    "                train_total_chars += len_true_content_train\n",
    "\n",
    "            if batch_idx == 0 and epoch % 1 == 0 and imgs.size(0) > 0:\n",
    "                print(\"\\n--- Training Batch 0 Examples (Content Only) ---\")\n",
    "                for i in range(min(5, imgs.size(0))):\n",
    "                    pred_batch_i_list = preds[i].tolist()\n",
    "                    pred_example = index_to_char(pred_batch_i_list)\n",
    "                    true_batch_i_list = true_chars[i].tolist()\n",
    "                    true_example = index_to_char(true_batch_i_list)\n",
    "                    print(f\"  Pred: '{pred_example}'\")\n",
    "                    print(f\"  True: '{true_example}'\")\n",
    "                print(\"-------------------------------\")\n",
    "        \n",
    "        pbar_train.set_postfix(loss=loss.item() * ACCUM_STEPS)\n",
    "\n",
    "    avg_train_loss = train_loss / len(train_dataloader) if len(train_dataloader) > 0 else 0\n",
    "    avg_train_acc = train_correct / train_total_chars if train_total_chars > 0 else 0\n",
    "    train_loss_values.append(avg_train_loss)\n",
    "    train_acc_values.append(avg_train_acc)\n",
    "\n",
    "    # --- Validation Loop ---\n",
    "    model.eval()\n",
    "    val_loss, val_correct, val_total_chars, val_correct_constrained, val_total_sequences_constrained = 0, 0, 0, 0, 0\n",
    "    pbar_val = tqdm(val_dataloader, desc=f\"Epoch {epoch+1}/{NUM_EPOCHS} [VAL]\")\n",
    "    with torch.no_grad():\n",
    "        for imgs, targets in pbar_val:\n",
    "            imgs, targets = imgs.to(DEVICE, non_blocking=True), targets.to(DEVICE, non_blocking=True)\n",
    "            with autocast_context():\n",
    "                outputs = model(imgs, target=None, teach_ratio=0.0)\n",
    "                out_seq_len_val = outputs.size(1)\n",
    "                tgt_content_len_val = targets.size(1) - 1\n",
    "                if out_seq_len_val > tgt_content_len_val:\n",
    "                    outputs_for_loss_val = outputs[:, :tgt_content_len_val, :]\n",
    "                elif out_seq_len_val < tgt_content_len_val:\n",
    "                    padding_val_val = torch.zeros(outputs.size(0), tgt_content_len_val - out_seq_len_val, NUM_CLASSES, device=DEVICE)\n",
    "                    padding_val_val[:,:,PAD_TOKEN] = 1\n",
    "                    outputs_for_loss_val = torch.cat([outputs, padding_val_val], dim=1)\n",
    "                else:\n",
    "                    outputs_for_loss_val = outputs\n",
    "                flat_outputs_val = outputs_for_loss_val.reshape(-1, NUM_CLASSES)\n",
    "                flat_targets_val = targets[:, 1:].reshape(-1)\n",
    "                loss = loss_fn(flat_outputs_val, flat_targets_val)\n",
    "                \n",
    "            val_loss += loss.item()\n",
    "            preds_val = outputs_for_loss_val.argmax(-1)\n",
    "            true_chars_val = targets[:, 1:]\n",
    "            for i in range(imgs.size(0)):\n",
    "                pred_seq_val_list = preds_val[i].tolist()\n",
    "                if EOS_TOKEN in pred_seq_val_list:\n",
    "                    pred_seq_val_list = pred_seq_val_list[:pred_seq_val_list.index(EOS_TOKEN)]\n",
    "                \n",
    "                true_seq_val_list = true_chars_val[i].tolist()\n",
    "                true_content_val = [x for x in true_seq_val_list if x not in [EOS_TOKEN, PAD_TOKEN]]\n",
    "                len_true_content_val = len(true_content_val)\n",
    "\n",
    "                cmp_len_val = min(len(pred_seq_val_list), len_true_content_val)\n",
    "                if cmp_len_val > 0:\n",
    "                    val_correct += (torch.tensor(pred_seq_val_list[:cmp_len_val]) == torch.tensor(true_content_val[:cmp_len_val])).sum().item()\n",
    "                val_total_chars += len_true_content_val\n",
    "\n",
    "                if len_true_content_val > 0:\n",
    "                    with autocast_context():\n",
    "                        outputs_constrained_sample = model(imgs[i:i+1], target=None, teach_ratio=0.0, forced_output_length=len_true_content_val)\n",
    "                    preds_constrained_sample = outputs_constrained_sample.argmax(-1).squeeze(0).tolist()\n",
    "                    final_preds_constrained = []\n",
    "                    for tk_id in preds_constrained_sample:\n",
    "                        if tk_id == EOS_TOKEN:\n",
    "                            break\n",
    "                        final_preds_constrained.append(tk_id)\n",
    "                    if final_preds_constrained == true_content_val:\n",
    "                        val_correct_constrained += 1\n",
    "                val_total_sequences_constrained += 1\n",
    "            \n",
    "            pbar_val.set_postfix(loss=loss.item())\n",
    "\n",
    "    avg_val_loss = val_loss / len(val_dataloader) if len(val_dataloader) > 0 else 0\n",
    "    avg_val_acc = val_correct / val_total_chars if val_total_chars > 0 else 0\n",
    "    avg_val_acc_constrained = val_correct_constrained / val_total_sequences_constrained if val_total_sequences_constrained > 0 else 0\n",
    "    val_loss_values.append(avg_val_loss)\n",
    "    val_acc_values.append(avg_val_acc)\n",
    "    val_acc_constrained_values.append(avg_val_acc_constrained)\n",
    "    \n",
    "    # Chuyển sang ReduceLROnPlateau nếu val_acc chững lại\n",
    "    counter = early_stopper(avg_val_acc)\n",
    "    if counter >= 15 and scheduler_type == \"OneCycleLR\":\n",
    "        print(f\"Val Acc stalled for {PATIENCE_EARLY_STOP} epochs. Switching to ReduceLROnPlateau.\")\n",
    "        scheduler = torch.optim.lr_scheduler.ReduceLROnPlateau(optimizer, mode='max', factor=0.5, patience=2, verbose=True)\n",
    "        scheduler_type = \"ReduceLROnPlateau\"\n",
    "    \n",
    "    # Cập nhật scheduler\n",
    "    if scheduler_type == \"ReduceLROnPlateau\":\n",
    "        scheduler.step(avg_val_acc)\n",
    "\n",
    "    if early_stopper.early_stop:\n",
    "        print(f\"--> Early stopping at epoch {epoch+1}\")\n",
    "        break\n",
    "    \n",
    "    print(f\"\\nEpoch {epoch+1}/{NUM_EPOCHS} | LR: {optimizer.param_groups[0]['lr']:.2e} | Teach: {teach_ratio:.2f} | Scheduler: {scheduler_type}\")\n",
    "    print(f\"  Train Loss: {avg_train_loss:.4f} | Train Char Acc: {avg_train_acc:.4f}\")\n",
    "    print(f\"  Val Loss: {avg_val_loss:.4f}   | Val Acc (CRR): {avg_val_acc:.4f}\")\n",
    "    print(f\"  Val Exact Match Acc (E2E RR): {avg_val_acc_constrained:.4f}\")\n",
    "    print(\"-\" * 70)\n",
    "\n",
    "    checkpoint_path = f\"yolo_rvit_model_epoch_{epoch + 1}.pth\"\n",
    "    # torch.save({\n",
    "    #     'epoch': epoch,\n",
    "    #     'model_state_dict': model.state_dict(),\n",
    "    #     'optimizer_state_dict': optimizer.state_dict(),\n",
    "    #     'scheduler_state_dict': scheduler.state_dict(),\n",
    "    #     'val_loss': avg_val_loss,\n",
    "    #     'val_acc': avg_val_acc,\n",
    "    #     'val_acc_constrained': avg_val_acc_constrained,\n",
    "    # }, checkpoint_path)\n",
    "\n",
    "    if avg_val_acc > best_val_acc:\n",
    "        best_val_acc = avg_val_acc\n",
    "        print(f\"*** New best validation accuracy: {best_val_acc:.4f}. Saving best_model.pth ***\")\n",
    "        torch.save({\n",
    "            'epoch': epoch,\n",
    "            'model_state_dict': model.state_dict(),\n",
    "            'optimizer_state_dict': optimizer.state_dict(),\n",
    "            'scheduler_state_dict': scheduler.state_dict(),\n",
    "            'val_loss': avg_val_loss,\n",
    "            'val_acc': avg_val_acc,\n",
    "            'val_acc_constrained': avg_val_acc_constrained,\n",
    "        }, \"best_yolo_rvit_model.pth\")\n",
    "\n",
    "final_epoch_val = epoch if 'epoch' in locals() and epoch is not None else NUM_EPOCHS - 1\n",
    "torch.save({\n",
    "    'epoch': final_epoch_val,\n",
    "    'model_state_dict': model.state_dict(),\n",
    "    'optimizer_state_dict': optimizer.state_dict(),\n",
    "    'scheduler_state_dict': scheduler.state_dict(),\n",
    "    'train_loss_history': train_loss_values,\n",
    "    'val_loss_history': val_loss_values,\n",
    "    'train_acc_history': train_acc_values,\n",
    "    'val_acc_history': val_acc_values,\n",
    "    'val_acc_constrained_history': val_acc_constrained_values,\n",
    "}, \"final_yolo_rvit_model.pth\")\n",
    "\n",
    "print(\"\\nTraining completed!\")\n",
    "if val_acc_values:\n",
    "    print(f\"Final val accuracy (Greedy Character Level): {val_acc_values[-1]:.4f}\")\n",
    "if val_acc_constrained_values:\n",
    "    print(f\"Final val accuracy (Constrained Length Exact Match): {val_acc_constrained_values[-1]:.4f}\")\n",
    "\n",
    "# Plotting\n",
    "plt.figure(figsize=(18, 12))\n",
    "plt.subplot(2, 2, 1)\n",
    "plt.plot(epoch_count_list, train_loss_values, label='Train Loss', marker='o', linestyle='-')\n",
    "plt.plot(epoch_count_list, val_loss_values, label='Validation Loss', marker='s', linestyle='--')\n",
    "plt.title('Loss Curves')\n",
    "plt.xlabel('Epochs')\n",
    "plt.ylabel('Loss')\n",
    "plt.legend()\n",
    "plt.grid(True)\n",
    "\n",
    "plt.subplot(2, 2, 2)\n",
    "plt.plot(epoch_count_list, train_acc_values, label='Train Char Accuracy', marker='o', linestyle='-')\n",
    "plt.plot(epoch_count_list, val_acc_values, label='Validation Char Accuracy (Greedy)', marker='s', linestyle='--')\n",
    "plt.title('Character Accuracy')\n",
    "plt.xlabel('Epochs')\n",
    "plt.ylabel('Character Accuracy')\n",
    "plt.legend()\n",
    "plt.grid(True)\n",
    "\n",
    "plt.tight_layout()\n",
    "plt.savefig(\"performance_plots.png\")\n",
    "plt.show()\n",
    "print(\"Saved plots to performance_plots.png\")"
   ]
  },
  {
   "cell_type": "code",
   "execution_count": 3,
   "id": "d6ac1de6",
   "metadata": {
    "_cell_guid": "1d3766ab-2fb4-45c1-9457-20eb4b41dd57",
    "_uuid": "74cb270e-b704-4ab5-8b6b-d6d645d376b2",
    "collapsed": false,
    "execution": {
     "iopub.execute_input": "2025-08-26T02:48:30.693145Z",
     "iopub.status.busy": "2025-08-26T02:48:30.692715Z",
     "iopub.status.idle": "2025-08-26T02:48:31.671629Z",
     "shell.execute_reply": "2025-08-26T02:48:31.670868Z"
    },
    "jupyter": {
     "outputs_hidden": false
    },
    "papermill": {
     "duration": 1.65305,
     "end_time": "2025-08-26T02:48:31.675703",
     "exception": false,
     "start_time": "2025-08-26T02:48:30.022653",
     "status": "completed"
    },
    "tags": []
   },
   "outputs": [
    {
     "name": "stderr",
     "output_type": "stream",
     "text": [
      "/tmp/ipykernel_19/2383404097.py:9: FutureWarning: You are using `torch.load` with `weights_only=False` (the current default value), which uses the default pickle module implicitly. It is possible to construct malicious pickle data which will execute arbitrary code during unpickling (See https://github.com/pytorch/pytorch/blob/main/SECURITY.md#untrusted-models for more details). In a future release, the default value for `weights_only` will be flipped to `True`. This limits the functions that could be executed during unpickling. Arbitrary objects will no longer be allowed to be loaded via this mode unless they are explicitly allowlisted by the user via `torch.serialization.add_safe_globals`. We recommend you start setting `weights_only=True` for any use case where you don't have full control of the loaded file. Please open an issue on GitHub for any issues related to this experimental feature.\n",
      "  checkpoint = torch.load(file, map_location=torch.device('cpu'))\n"
     ]
    },
    {
     "name": "stdout",
     "output_type": "stream",
     "text": [
      "Đang vẽ biểu đồ từ dữ liệu checkpoint...\n"
     ]
    },
    {
     "data": {
      "image/png": "[encoded data removed]",
      "text/plain": [
       "<Figure size 1800x1200 with 2 Axes>"
      ]
     },
     "metadata": {},
     "output_type": "display_data"
    },
    {
     "name": "stdout",
     "output_type": "stream",
     "text": [
      "Đã lưu biểu đồ vào checkpoint_performance_plots.png\n"
     ]
    }
   ],
   "source": [
    "#Vẽ biểu đồ\n",
    "import torch\n",
    "import matplotlib.pyplot as plt\n",
    "\n",
    "# --- Cấu hình ---\n",
    "file = \"/kaggle/working/final_yolo_rvit_model.pth\" # File chứa lịch sử\n",
    "\n",
    "# --- Tải Checkpoint ---\n",
    "checkpoint = torch.load(file, map_location=torch.device('cpu'))\n",
    "\n",
    "# --- Lấy dữ liệu lịch sử từ checkpoint ---\n",
    "train_loss_values = checkpoint.get('train_loss_history')\n",
    "val_loss_values = checkpoint.get('val_loss_history')\n",
    "test_loss_values = checkpoint.get('test_loss_history')\n",
    "\n",
    "train_acc_values = checkpoint.get('train_acc_history')\n",
    "val_acc_values = checkpoint.get('val_acc_history')\n",
    "test_acc_greedy_values = checkpoint.get('test_acc_greedy_history')\n",
    "\n",
    "\n",
    "# Tạo danh sách epoch_count_list dựa trên độ dài của dữ liệu lịch sử\n",
    "num_epochs_recorded = len(train_loss_values)\n",
    "epoch_count_list = list(range(1, num_epochs_recorded + 1))\n",
    "\n",
    "# --- Vẽ Biểu Đồ (tương tự code vẽ trước đó) ---\n",
    "print(\"Đang vẽ biểu đồ từ dữ liệu checkpoint...\")\n",
    "plt.figure(figsize=(18, 12))\n",
    "\n",
    "# Biểu đồ Loss\n",
    "plt.subplot(2, 2, 1)\n",
    "if train_loss_values:\n",
    "    plt.plot(epoch_count_list, train_loss_values, label='Train Loss', marker='o', linestyle='-')\n",
    "if val_loss_values:\n",
    "    plt.plot(epoch_count_list, val_loss_values, label='Validation Loss', marker='s', linestyle='--')\n",
    "if test_loss_values:\n",
    "    plt.plot(epoch_count_list, test_loss_values, label='Test Loss (Greedy)', marker='^', linestyle=':')\n",
    "plt.title('Loss Curves (from Checkpoint)')\n",
    "plt.xlabel('Epochs')\n",
    "plt.ylabel('Loss')\n",
    "plt.legend()\n",
    "plt.grid(True)\n",
    "\n",
    "# Biểu đồ Character Accuracy\n",
    "plt.subplot(2, 2, 2)\n",
    "if train_acc_values:\n",
    "    plt.plot(epoch_count_list, train_acc_values, label='Train Char Accuracy', marker='o', linestyle='-')\n",
    "if val_acc_values:\n",
    "    plt.plot(epoch_count_list, val_acc_values, label='Validation Char Accuracy (Greedy)', marker='s', linestyle='--')\n",
    "if test_acc_greedy_values:\n",
    "    plt.plot(epoch_count_list, test_acc_greedy_values, label='Test Char Accuracy (Greedy)', marker='^', linestyle=':')\n",
    "plt.title('Character Accuracy (from Checkpoint)')\n",
    "plt.xlabel('Epochs')\n",
    "plt.ylabel('Character Accuracy')\n",
    "plt.legend()\n",
    "plt.grid(True)\n",
    "\n",
    "\n",
    "plt.tight_layout()\n",
    "plt.savefig(\"checkpoint_performance_plots.png\")\n",
    "plt.show()\n",
    "print(\"Đã lưu biểu đồ vào checkpoint_performance_plots.png\")"
   ]
  },
  {
   "cell_type": "code",
   "execution_count": 4,
   "id": "4d5fa0ae",
   "metadata": {
    "_cell_guid": "3e882787-ce5e-428c-9562-d406249aa52a",
    "_uuid": "05539837-8164-4bf0-be8e-237893b37661",
    "collapsed": false,
    "execution": {
     "iopub.execute_input": "2025-08-26T02:48:32.907186Z",
     "iopub.status.busy": "2025-08-26T02:48:32.906493Z",
     "iopub.status.idle": "2025-08-26T02:48:32.911408Z",
     "shell.execute_reply": "2025-08-26T02:48:32.910752Z"
    },
    "jupyter": {
     "outputs_hidden": false
    },
    "papermill": {
     "duration": 0.654158,
     "end_time": "2025-08-26T02:48:32.912542",
     "exception": false,
     "start_time": "2025-08-26T02:48:32.258384",
     "status": "completed"
    },
    "tags": []
   },
   "outputs": [],
   "source": [
    "# import torch\n",
    "# from torchvision import transforms\n",
    "# from PIL import Image\n",
    "# import cv2\n",
    "\n",
    "# # --- Hàm tiền xử lý ảnh ---\n",
    "# def preprocess_image(image_path, image_size=(640, 640)):\n",
    "#     image = Image.open(image_path).convert(\"RGB\")\n",
    "#     plt.imshow(image)\n",
    "#     plt.axis('off')  # Tắt trục tọa độ\n",
    "#     plt.show()\n",
    "    \n",
    "#     transform = transforms.Compose([\n",
    "#         transforms.Resize(image_size),\n",
    "#         transforms.ToTensor(),\n",
    "#         transforms.Normalize(mean=[0.485, 0.456, 0.406], std=[0.229, 0.224, 0.225])\n",
    "#     ])\n",
    "#     img_tensor = transform(image)\n",
    "#     return img_tensor.unsqueeze(0) # Thêm batch dimension\n",
    "\n",
    "# # --- Hàm tải model và trọng số ---\n",
    "# def load_model_for_prediction(checkpoint_path, yolo_base_model_path, yolo_target_idx):\n",
    "#     model = YOLO_RViT(\n",
    "#         yolo_path=yolo_base_model_path,\n",
    "#         yolo_target_feature_layer_idx=yolo_target_idx\n",
    "#     )\n",
    "#     # Tải state_dict\n",
    "#     checkpoint = torch.load(checkpoint_path, map_location=torch.device(DEVICE))\n",
    "#     model.load_state_dict(checkpoint['model_state_dict'])\n",
    "           \n",
    "#     model.to(DEVICE)\n",
    "#     model.eval() # Chuyển model sang chế độ đánh giá (quan trọng!)\n",
    "#     return model\n",
    "\n",
    "# # --- Hàm dự đoán ---\n",
    "# def predict_license_plate(model, image_tensor, constrained_length=None):\n",
    "#     image_tensor = image_tensor.to(DEVICE)\n",
    "#     with torch.no_grad(): # Không cần tính gradient khi dự đoán\n",
    "#         # Cho dự đoán, target=None, teach_ratio=0.0\n",
    "#         # forced_output_length được sử dụng nếu bạn muốn kết quả có độ dài cố định\n",
    "#         outputs_logits = model(image_tensor, target=None, teach_ratio=0.0, forced_output_length=constrained_length)\n",
    "#         # outputs_logits có shape (batch_size, seq_len, num_classes)\n",
    "\n",
    "#     predicted_indices_tensor = outputs_logits.argmax(dim=-1)[0] # Shape: (seq_len,)\n",
    "#     predicted_indices_list = predicted_indices_tensor.cpu().tolist()\n",
    "\n",
    "#     predicted_text = index_to_char(predicted_indices_list, include_special_tokens=False)\n",
    "\n",
    "#     return predicted_text, predicted_indices_list\n",
    "\n",
    "\n",
    "\n",
    "# CHECKPOINT_TO_LOAD = \"/kaggle/working/best_yolo_rvit_model.pth\" # Đường dẫn đến model đã huấn luyện của bạn\n",
    "# YOLO_BASE_MODEL_PATH = \"/kaggle/input/yolov11s/Yolov11s.pt\" \n",
    "\n",
    "# IMAGE_TO_PREDICT = \"/kaggle/working/a_164337.jpg\" # THAY ĐỔI ĐƯỜNG DẪN NÀY\n",
    "\n",
    "# loaded_model = load_model_for_prediction(CHECKPOINT_TO_LOAD, YOLO_BASE_MODEL_PATH, 13)\n",
    "\n",
    "# input_tensor = preprocess_image(IMAGE_TO_PREDICT)\n",
    "\n",
    "# predicted_text, raw_indices = predict_license_plate(loaded_model, input_tensor)\n",
    "\n",
    "# print(f\"\\nẢnh đầu vào: {IMAGE_TO_PREDICT}\")\n",
    "# print(f\"Dự đoán biển số: '{predicted_text}'\")"
   ]
  }
 ],
 "metadata": {
  "kaggle": {
   "accelerator": "nvidiaTeslaT4",
   "dataSources": [
    {
     "datasetId": 4072694,
     "sourceId": 7073289,
     "sourceType": "datasetVersion"
    },
    {
     "datasetId": 7283240,
     "sourceId": 11903981,
     "sourceType": "datasetVersion"
    },
    {
     "datasetId": 7972570,
     "sourceId": 12619192,
     "sourceType": "datasetVersion"
    },
    {
     "datasetId": 7973485,
     "sourceId": 12855594,
     "sourceType": "datasetVersion"
    },
    {
     "datasetId": 7973472,
     "sourceId": 12855605,
     "sourceType": "datasetVersion"
    },
    {
     "datasetId": 7973494,
     "sourceId": 12856063,
     "sourceType": "datasetVersion"
    },
    {
     "modelId": 357248,
     "modelInstanceId": 336244,
     "sourceId": 411841,
     "sourceType": "modelInstanceVersion"
    },
    {
     "modelId": 357250,
     "modelInstanceId": 336246,
     "sourceId": 411843,
     "sourceType": "modelInstanceVersion"
    },
    {
     "modelId": 357253,
     "modelInstanceId": 336249,
     "sourceId": 411846,
     "sourceType": "modelInstanceVersion"
    },
    {
     "modelId": 372818,
     "modelInstanceId": 351568,
     "sourceId": 431310,
     "sourceType": "modelInstanceVersion"
    },
    {
     "modelId": 411842,
     "modelInstanceId": 393237,
     "sourceId": 495336,
     "sourceType": "modelInstanceVersion"
    },
    {
     "modelId": 414205,
     "modelInstanceId": 395656,
     "sourceId": 497961,
     "sourceType": "modelInstanceVersion"
    },
    {
     "modelId": 414935,
     "modelInstanceId": 396442,
     "sourceId": 499048,
     "sourceType": "modelInstanceVersion"
    },
    {
     "modelId": 414985,
     "modelInstanceId": 396502,
     "sourceId": 499146,
     "sourceType": "modelInstanceVersion"
    },
    {
     "modelId": 415717,
     "modelInstanceId": 397346,
     "sourceId": 500435,
     "sourceType": "modelInstanceVersion"
    },
    {
     "modelId": 415739,
     "modelInstanceId": 397374,
     "sourceId": 500494,
     "sourceType": "modelInstanceVersion"
    },
    {
     "modelId": 418381,
     "modelInstanceId": 400106,
     "sourceId": 503671,
     "sourceType": "modelInstanceVersion"
    },
    {
     "modelId": 418786,
     "modelInstanceId": 400564,
     "sourceId": 504298,
     "sourceType": "modelInstanceVersion"
    },
    {
     "modelId": 419067,
     "modelInstanceId": 400906,
     "sourceId": 504844,
     "sourceType": "modelInstanceVersion"
    },
    {
     "modelId": 420651,
     "modelInstanceId": 402713,
     "sourceId": 507470,
     "sourceType": "modelInstanceVersion"
    },
    {
     "modelId": 420991,
     "modelInstanceId": 403056,
     "sourceId": 507886,
     "sourceType": "modelInstanceVersion"
    },
    {
     "modelId": 421529,
     "modelInstanceId": 403599,
     "sourceId": 508844,
     "sourceType": "modelInstanceVersion"
    },
    {
     "modelId": 424620,
     "modelInstanceId": 406718,
     "sourceId": 514748,
     "sourceType": "modelInstanceVersion"
    },
    {
     "modelId": 426668,
     "modelInstanceId": 408806,
     "sourceId": 519201,
     "sourceType": "modelInstanceVersion"
    },
    {
     "modelId": 427526,
     "modelInstanceId": 409666,
     "sourceId": 520766,
     "sourceType": "modelInstanceVersion"
    },
    {
     "modelId": 429644,
     "modelInstanceId": 411848,
     "sourceId": 524805,
     "sourceType": "modelInstanceVersion"
    },
    {
     "modelId": 430105,
     "modelInstanceId": 412329,
     "sourceId": 526202,
     "sourceType": "modelInstanceVersion"
    },
    {
     "modelId": 430786,
     "modelInstanceId": 413048,
     "sourceId": 528015,
     "sourceType": "modelInstanceVersion"
    },
    {
     "modelId": 430907,
     "modelInstanceId": 413161,
     "sourceId": 528144,
     "sourceType": "modelInstanceVersion"
    },
    {
     "modelId": 431015,
     "modelInstanceId": 413275,
     "sourceId": 528276,
     "sourceType": "modelInstanceVersion"
    },
    {
     "modelId": 431042,
     "modelInstanceId": 413303,
     "sourceId": 528309,
     "sourceType": "modelInstanceVersion"
    },
    {
     "modelId": 432445,
     "modelInstanceId": 414675,
     "sourceId": 530107,
     "sourceType": "modelInstanceVersion"
    },
    {
     "modelId": 432830,
     "modelInstanceId": 415075,
     "sourceId": 530596,
     "sourceType": "modelInstanceVersion"
    },
    {
     "modelId": 433065,
     "modelInstanceId": 415304,
     "sourceId": 531565,
     "sourceType": "modelInstanceVersion"
    },
    {
     "modelId": 433297,
     "modelInstanceId": 415546,
     "sourceId": 532000,
     "sourceType": "modelInstanceVersion"
    },
    {
     "modelId": 433988,
     "modelInstanceId": 416254,
     "sourceId": 535019,
     "sourceType": "modelInstanceVersion"
    },
    {
     "modelId": 433990,
     "modelInstanceId": 416256,
     "sourceId": 535029,
     "sourceType": "modelInstanceVersion"
    },
    {
     "modelId": 434051,
     "modelInstanceId": 416319,
     "sourceId": 535167,
     "sourceType": "modelInstanceVersion"
    },
    {
     "modelId": 434081,
     "modelInstanceId": 416349,
     "sourceId": 535224,
     "sourceType": "modelInstanceVersion"
    },
    {
     "modelId": 434330,
     "modelInstanceId": 416604,
     "sourceId": 535653,
     "sourceType": "modelInstanceVersion"
    },
    {
     "modelId": 434469,
     "modelInstanceId": 416751,
     "sourceId": 536180,
     "sourceType": "modelInstanceVersion"
    },
    {
     "modelId": 434497,
     "modelInstanceId": 416779,
     "sourceId": 536239,
     "sourceType": "modelInstanceVersion"
    },
    {
     "modelId": 434542,
     "modelInstanceId": 416831,
     "sourceId": 536381,
     "sourceType": "modelInstanceVersion"
    },
    {
     "modelId": 434560,
     "modelInstanceId": 416852,
     "sourceId": 536441,
     "sourceType": "modelInstanceVersion"
    },
    {
     "modelId": 434572,
     "modelInstanceId": 416865,
     "sourceId": 536486,
     "sourceType": "modelInstanceVersion"
    },
    {
     "modelId": 434607,
     "modelInstanceId": 416900,
     "sourceId": 536579,
     "sourceType": "modelInstanceVersion"
    },
    {
     "modelId": 434685,
     "modelInstanceId": 416980,
     "sourceId": 536738,
     "sourceType": "modelInstanceVersion"
    },
    {
     "modelId": 434712,
     "modelInstanceId": 417007,
     "sourceId": 536818,
     "sourceType": "modelInstanceVersion"
    },
    {
     "isSourceIdPinned": true,
     "modelId": 435083,
     "modelInstanceId": 417396,
     "sourceId": 538186,
     "sourceType": "modelInstanceVersion"
    },
    {
     "isSourceIdPinned": true,
     "modelId": 435861,
     "modelInstanceId": 418197,
     "sourceId": 542922,
     "sourceType": "modelInstanceVersion"
    }
   ],
   "dockerImageVersionId": 31011,
   "isGpuEnabled": true,
   "isInternetEnabled": true,
   "language": "python",
   "sourceType": "notebook"
  },
  "kernelspec": {
   "display_name": "Python 3",
   "language": "python",
   "name": "python3"
  },
  "language_info": {
   "codemirror_mode": {
    "name": "ipython",
    "version": 3
   },
   "file_extension": ".py",
   "mimetype": "text/x-python",
   "name": "python",
   "nbconvert_exporter": "python",
   "pygments_lexer": "ipython3",
   "version": "3.11.11"
  },
  "papermill": {
   "default_parameters": {},
   "duration": 9010.567166,
   "end_time": "2025-08-26T02:48:36.643251",
   "environment_variables": {},
   "exception": null,
   "input_path": "__notebook__.ipynb",
   "output_path": "__notebook__.ipynb",
   "parameters": {},
   "start_time": "2025-08-26T00:18:26.076085",
   "version": "2.6.0"
  }
 },
 "nbformat": 4,
 "nbformat_minor": 5
}
