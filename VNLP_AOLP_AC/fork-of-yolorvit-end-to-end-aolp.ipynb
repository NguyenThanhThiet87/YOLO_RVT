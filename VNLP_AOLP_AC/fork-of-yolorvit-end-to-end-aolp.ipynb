{
 "cells": [
  {
   "cell_type": "code",
   "execution_count": 1,
   "id": "543b3da2",
   "metadata": {
    "_cell_guid": "fea88a53-adc2-4db9-a8ae-7436b89c8b4a",
    "_uuid": "04e508c1-d331-40e2-816f-6d13abe6aca6",
    "collapsed": false,
    "execution": {
     "iopub.execute_input": "2025-08-25T17:33:28.816493Z",
     "iopub.status.busy": "2025-08-25T17:33:28.816235Z",
     "iopub.status.idle": "2025-08-25T17:34:50.966415Z",
     "shell.execute_reply": "2025-08-25T17:34:50.965682Z"
    },
    "jupyter": {
     "outputs_hidden": false
    },
    "papermill": {
     "duration": 82.15568,
     "end_time": "2025-08-25T17:34:50.967756",
     "exception": false,
     "start_time": "2025-08-25T17:33:28.812076",
     "status": "completed"
    },
    "tags": []
   },
   "outputs": [
    {
     "name": "stdout",
     "output_type": "stream",
     "text": [
      "Collecting ultralytics\r\n",
      "  Downloading ultralytics-8.3.185-py3-none-any.whl.metadata (37 kB)\r\n",
      "Requirement already satisfied: numpy>=1.23.0 in /usr/local/lib/python3.11/dist-packages (from ultralytics) (1.26.4)\r\n",
      "Requirement already satisfied: matplotlib>=3.3.0 in /usr/local/lib/python3.11/dist-packages (from ultralytics) (3.7.5)\r\n",
      "Requirement already satisfied: opencv-python>=4.6.0 in /usr/local/lib/python3.11/dist-packages (from ultralytics) (4.11.0.86)\r\n",
      "Requirement already satisfied: pillow>=7.1.2 in /usr/local/lib/python3.11/dist-packages (from ultralytics) (11.1.0)\r\n",
      "Requirement already satisfied: pyyaml>=5.3.1 in /usr/local/lib/python3.11/dist-packages (from ultralytics) (6.0.2)\r\n",
      "Requirement already satisfied: requests>=2.23.0 in /usr/local/lib/python3.11/dist-packages (from ultralytics) (2.32.3)\r\n",
      "Requirement already satisfied: scipy>=1.4.1 in /usr/local/lib/python3.11/dist-packages (from ultralytics) (1.15.2)\r\n",
      "Requirement already satisfied: torch>=1.8.0 in /usr/local/lib/python3.11/dist-packages (from ultralytics) (2.5.1+cu124)\r\n",
      "Requirement already satisfied: torchvision>=0.9.0 in /usr/local/lib/python3.11/dist-packages (from ultralytics) (0.20.1+cu124)\r\n",
      "Requirement already satisfied: tqdm>=4.64.0 in /usr/local/lib/python3.11/dist-packages (from ultralytics) (4.67.1)\r\n",
      "Requirement already satisfied: psutil in /usr/local/lib/python3.11/dist-packages (from ultralytics) (7.0.0)\r\n",
      "Requirement already satisfied: py-cpuinfo in /usr/local/lib/python3.11/dist-packages (from ultralytics) (9.0.0)\r\n",
      "Requirement already satisfied: pandas>=1.1.4 in /usr/local/lib/python3.11/dist-packages (from ultralytics) (2.2.3)\r\n",
      "Collecting ultralytics-thop>=2.0.0 (from ultralytics)\r\n",
      "  Downloading ultralytics_thop-2.0.16-py3-none-any.whl.metadata (14 kB)\r\n",
      "Requirement already satisfied: contourpy>=1.0.1 in /usr/local/lib/python3.11/dist-packages (from matplotlib>=3.3.0->ultralytics) (1.3.1)\r\n",
      "Requirement already satisfied: cycler>=0.10 in /usr/local/lib/python3.11/dist-packages (from matplotlib>=3.3.0->ultralytics) (0.12.1)\r\n",
      "Requirement already satisfied: fonttools>=4.22.0 in /usr/local/lib/python3.11/dist-packages (from matplotlib>=3.3.0->ultralytics) (4.56.0)\r\n",
      "Requirement already satisfied: kiwisolver>=1.0.1 in /usr/local/lib/python3.11/dist-packages (from matplotlib>=3.3.0->ultralytics) (1.4.8)\r\n",
      "Requirement already satisfied: packaging>=20.0 in /usr/local/lib/python3.11/dist-packages (from matplotlib>=3.3.0->ultralytics) (24.2)\r\n",
      "Requirement already satisfied: pyparsing>=2.3.1 in /usr/local/lib/python3.11/dist-packages (from matplotlib>=3.3.0->ultralytics) (3.2.1)\r\n",
      "Requirement already satisfied: python-dateutil>=2.7 in /usr/local/lib/python3.11/dist-packages (from matplotlib>=3.3.0->ultralytics) (2.9.0.post0)\r\n",
      "Requirement already satisfied: mkl_fft in /usr/local/lib/python3.11/dist-packages (from numpy>=1.23.0->ultralytics) (1.3.8)\r\n",
      "Requirement already satisfied: mkl_random in /usr/local/lib/python3.11/dist-packages (from numpy>=1.23.0->ultralytics) (1.2.4)\r\n",
      "Requirement already satisfied: mkl_umath in /usr/local/lib/python3.11/dist-packages (from numpy>=1.23.0->ultralytics) (0.1.1)\r\n",
      "Requirement already satisfied: mkl in /usr/local/lib/python3.11/dist-packages (from numpy>=1.23.0->ultralytics) (2025.1.0)\r\n",
      "Requirement already satisfied: tbb4py in /usr/local/lib/python3.11/dist-packages (from numpy>=1.23.0->ultralytics) (2022.1.0)\r\n",
      "Requirement already satisfied: mkl-service in /usr/local/lib/python3.11/dist-packages (from numpy>=1.23.0->ultralytics) (2.4.1)\r\n",
      "Requirement already satisfied: pytz>=2020.1 in /usr/local/lib/python3.11/dist-packages (from pandas>=1.1.4->ultralytics) (2025.2)\r\n",
      "Requirement already satisfied: tzdata>=2022.7 in /usr/local/lib/python3.11/dist-packages (from pandas>=1.1.4->ultralytics) (2025.2)\r\n",
      "Requirement already satisfied: charset-normalizer<4,>=2 in /usr/local/lib/python3.11/dist-packages (from requests>=2.23.0->ultralytics) (3.4.1)\r\n",
      "Requirement already satisfied: idna<4,>=2.5 in /usr/local/lib/python3.11/dist-packages (from requests>=2.23.0->ultralytics) (3.10)\r\n",
      "Requirement already satisfied: urllib3<3,>=1.21.1 in /usr/local/lib/python3.11/dist-packages (from requests>=2.23.0->ultralytics) (2.3.0)\r\n",
      "Requirement already satisfied: certifi>=2017.4.17 in /usr/local/lib/python3.11/dist-packages (from requests>=2.23.0->ultralytics) (2025.1.31)\r\n",
      "Requirement already satisfied: filelock in /usr/local/lib/python3.11/dist-packages (from torch>=1.8.0->ultralytics) (3.18.0)\r\n",
      "Requirement already satisfied: typing-extensions>=4.8.0 in /usr/local/lib/python3.11/dist-packages (from torch>=1.8.0->ultralytics) (4.13.1)\r\n",
      "Requirement already satisfied: networkx in /usr/local/lib/python3.11/dist-packages (from torch>=1.8.0->ultralytics) (3.4.2)\r\n",
      "Requirement already satisfied: jinja2 in /usr/local/lib/python3.11/dist-packages (from torch>=1.8.0->ultralytics) (3.1.6)\r\n",
      "Requirement already satisfied: fsspec in /usr/local/lib/python3.11/dist-packages (from torch>=1.8.0->ultralytics) (2025.3.2)\r\n",
      "Requirement already satisfied: nvidia-cuda-nvrtc-cu12==12.4.127 in /usr/local/lib/python3.11/dist-packages (from torch>=1.8.0->ultralytics) (12.4.127)\r\n",
      "Requirement already satisfied: nvidia-cuda-runtime-cu12==12.4.127 in /usr/local/lib/python3.11/dist-packages (from torch>=1.8.0->ultralytics) (12.4.127)\r\n",
      "Requirement already satisfied: nvidia-cuda-cupti-cu12==12.4.127 in /usr/local/lib/python3.11/dist-packages (from torch>=1.8.0->ultralytics) (12.4.127)\r\n",
      "Collecting nvidia-cudnn-cu12==9.1.0.70 (from torch>=1.8.0->ultralytics)\r\n",
      "  Downloading nvidia_cudnn_cu12-9.1.0.70-py3-none-manylinux2014_x86_64.whl.metadata (1.6 kB)\r\n",
      "Collecting nvidia-cublas-cu12==12.4.5.8 (from torch>=1.8.0->ultralytics)\r\n",
      "  Downloading nvidia_cublas_cu12-12.4.5.8-py3-none-manylinux2014_x86_64.whl.metadata (1.5 kB)\r\n",
      "Collecting nvidia-cufft-cu12==11.2.1.3 (from torch>=1.8.0->ultralytics)\r\n",
      "  Downloading nvidia_cufft_cu12-11.2.1.3-py3-none-manylinux2014_x86_64.whl.metadata (1.5 kB)\r\n",
      "Collecting nvidia-curand-cu12==10.3.5.147 (from torch>=1.8.0->ultralytics)\r\n",
      "  Downloading nvidia_curand_cu12-10.3.5.147-py3-none-manylinux2014_x86_64.whl.metadata (1.5 kB)\r\n",
      "Collecting nvidia-cusolver-cu12==11.6.1.9 (from torch>=1.8.0->ultralytics)\r\n",
      "  Downloading nvidia_cusolver_cu12-11.6.1.9-py3-none-manylinux2014_x86_64.whl.metadata (1.6 kB)\r\n",
      "Collecting nvidia-cusparse-cu12==12.3.1.170 (from torch>=1.8.0->ultralytics)\r\n",
      "  Downloading nvidia_cusparse_cu12-12.3.1.170-py3-none-manylinux2014_x86_64.whl.metadata (1.6 kB)\r\n",
      "Requirement already satisfied: nvidia-nccl-cu12==2.21.5 in /usr/local/lib/python3.11/dist-packages (from torch>=1.8.0->ultralytics) (2.21.5)\r\n",
      "Requirement already satisfied: nvidia-nvtx-cu12==12.4.127 in /usr/local/lib/python3.11/dist-packages (from torch>=1.8.0->ultralytics) (12.4.127)\r\n",
      "Collecting nvidia-nvjitlink-cu12==12.4.127 (from torch>=1.8.0->ultralytics)\r\n",
      "  Downloading nvidia_nvjitlink_cu12-12.4.127-py3-none-manylinux2014_x86_64.whl.metadata (1.5 kB)\r\n",
      "Requirement already satisfied: triton==3.1.0 in /usr/local/lib/python3.11/dist-packages (from torch>=1.8.0->ultralytics) (3.1.0)\r\n",
      "Requirement already satisfied: sympy==1.13.1 in /usr/local/lib/python3.11/dist-packages (from torch>=1.8.0->ultralytics) (1.13.1)\r\n",
      "Requirement already satisfied: mpmath<1.4,>=1.1.0 in /usr/local/lib/python3.11/dist-packages (from sympy==1.13.1->torch>=1.8.0->ultralytics) (1.3.0)\r\n",
      "Requirement already satisfied: six>=1.5 in /usr/local/lib/python3.11/dist-packages (from python-dateutil>=2.7->matplotlib>=3.3.0->ultralytics) (1.17.0)\r\n",
      "Requirement already satisfied: MarkupSafe>=2.0 in /usr/local/lib/python3.11/dist-packages (from jinja2->torch>=1.8.0->ultralytics) (3.0.2)\r\n",
      "Requirement already satisfied: intel-openmp<2026,>=2024 in /usr/local/lib/python3.11/dist-packages (from mkl->numpy>=1.23.0->ultralytics) (2024.2.0)\r\n",
      "Requirement already satisfied: tbb==2022.* in /usr/local/lib/python3.11/dist-packages (from mkl->numpy>=1.23.0->ultralytics) (2022.1.0)\r\n",
      "Requirement already satisfied: tcmlib==1.* in /usr/local/lib/python3.11/dist-packages (from tbb==2022.*->mkl->numpy>=1.23.0->ultralytics) (1.2.0)\r\n",
      "Requirement already satisfied: intel-cmplr-lib-rt in /usr/local/lib/python3.11/dist-packages (from mkl_umath->numpy>=1.23.0->ultralytics) (2024.2.0)\r\n",
      "Requirement already satisfied: intel-cmplr-lib-ur==2024.2.0 in /usr/local/lib/python3.11/dist-packages (from intel-openmp<2026,>=2024->mkl->numpy>=1.23.0->ultralytics) (2024.2.0)\r\n",
      "Downloading ultralytics-8.3.185-py3-none-any.whl (1.1 MB)\r\n",
      "\u001b[2K   \u001b[90m━━━━━━━━━━━━━━━━━━━━━━━━━━━━━━━━━━━━━━━━\u001b[0m \u001b[32m1.1/1.1 MB\u001b[0m \u001b[31m20.0 MB/s\u001b[0m eta \u001b[36m0:00:00\u001b[0m\r\n",
      "\u001b[?25hDownloading nvidia_cublas_cu12-12.4.5.8-py3-none-manylinux2014_x86_64.whl (363.4 MB)\r\n",
      "\u001b[2K   \u001b[90m━━━━━━━━━━━━━━━━━━━━━━━━━━━━━━━━━━━━━━━━\u001b[0m \u001b[32m363.4/363.4 MB\u001b[0m \u001b[31m4.7 MB/s\u001b[0m eta \u001b[36m0:00:00\u001b[0m\r\n",
      "\u001b[?25hDownloading nvidia_cudnn_cu12-9.1.0.70-py3-none-manylinux2014_x86_64.whl (664.8 MB)\r\n",
      "\u001b[2K   \u001b[90m━━━━━━━━━━━━━━━━━━━━━━━━━━━━━━━━━━━━━━━━\u001b[0m \u001b[32m664.8/664.8 MB\u001b[0m \u001b[31m2.2 MB/s\u001b[0m eta \u001b[36m0:00:00\u001b[0m\r\n",
      "\u001b[?25hDownloading nvidia_cufft_cu12-11.2.1.3-py3-none-manylinux2014_x86_64.whl (211.5 MB)\r\n",
      "\u001b[2K   \u001b[90m━━━━━━━━━━━━━━━━━━━━━━━━━━━━━━━━━━━━━━━━\u001b[0m \u001b[32m211.5/211.5 MB\u001b[0m \u001b[31m4.0 MB/s\u001b[0m eta \u001b[36m0:00:00\u001b[0m\r\n",
      "\u001b[?25hDownloading nvidia_curand_cu12-10.3.5.147-py3-none-manylinux2014_x86_64.whl (56.3 MB)\r\n",
      "\u001b[2K   \u001b[90m━━━━━━━━━━━━━━━━━━━━━━━━━━━━━━━━━━━━━━━━\u001b[0m \u001b[32m56.3/56.3 MB\u001b[0m \u001b[31m3.3 MB/s\u001b[0m eta \u001b[36m0:00:00\u001b[0m\r\n",
      "\u001b[?25hDownloading nvidia_cusolver_cu12-11.6.1.9-py3-none-manylinux2014_x86_64.whl (127.9 MB)\r\n",
      "\u001b[2K   \u001b[90m━━━━━━━━━━━━━━━━━━━━━━━━━━━━━━━━━━━━━━━━\u001b[0m \u001b[32m127.9/127.9 MB\u001b[0m \u001b[31m13.4 MB/s\u001b[0m eta \u001b[36m0:00:00\u001b[0m\r\n",
      "\u001b[?25hDownloading nvidia_cusparse_cu12-12.3.1.170-py3-none-manylinux2014_x86_64.whl (207.5 MB)\r\n",
      "\u001b[2K   \u001b[90m━━━━━━━━━━━━━━━━━━━━━━━━━━━━━━━━━━━━━━━━\u001b[0m \u001b[32m207.5/207.5 MB\u001b[0m \u001b[31m8.2 MB/s\u001b[0m eta \u001b[36m0:00:00\u001b[0m\r\n",
      "\u001b[?25hDownloading nvidia_nvjitlink_cu12-12.4.127-py3-none-manylinux2014_x86_64.whl (21.1 MB)\r\n",
      "\u001b[2K   \u001b[90m━━━━━━━━━━━━━━━━━━━━━━━━━━━━━━━━━━━━━━━━\u001b[0m \u001b[32m21.1/21.1 MB\u001b[0m \u001b[31m68.2 MB/s\u001b[0m eta \u001b[36m0:00:00\u001b[0m\r\n",
      "\u001b[?25hDownloading ultralytics_thop-2.0.16-py3-none-any.whl (28 kB)\r\n",
      "Installing collected packages: nvidia-nvjitlink-cu12, nvidia-curand-cu12, nvidia-cufft-cu12, nvidia-cublas-cu12, nvidia-cusparse-cu12, nvidia-cudnn-cu12, nvidia-cusolver-cu12, ultralytics-thop, ultralytics\r\n",
      "  Attempting uninstall: nvidia-nvjitlink-cu12\r\n",
      "    Found existing installation: nvidia-nvjitlink-cu12 12.8.93\r\n",
      "    Uninstalling nvidia-nvjitlink-cu12-12.8.93:\r\n",
      "      Successfully uninstalled nvidia-nvjitlink-cu12-12.8.93\r\n",
      "  Attempting uninstall: nvidia-curand-cu12\r\n",
      "    Found existing installation: nvidia-curand-cu12 10.3.9.90\r\n",
      "    Uninstalling nvidia-curand-cu12-10.3.9.90:\r\n",
      "      Successfully uninstalled nvidia-curand-cu12-10.3.9.90\r\n",
      "  Attempting uninstall: nvidia-cufft-cu12\r\n",
      "    Found existing installation: nvidia-cufft-cu12 11.3.3.83\r\n",
      "    Uninstalling nvidia-cufft-cu12-11.3.3.83:\r\n",
      "      Successfully uninstalled nvidia-cufft-cu12-11.3.3.83\r\n",
      "  Attempting uninstall: nvidia-cublas-cu12\r\n",
      "    Found existing installation: nvidia-cublas-cu12 12.8.4.1\r\n",
      "    Uninstalling nvidia-cublas-cu12-12.8.4.1:\r\n",
      "      Successfully uninstalled nvidia-cublas-cu12-12.8.4.1\r\n",
      "  Attempting uninstall: nvidia-cusparse-cu12\r\n",
      "    Found existing installation: nvidia-cusparse-cu12 12.5.8.93\r\n",
      "    Uninstalling nvidia-cusparse-cu12-12.5.8.93:\r\n",
      "      Successfully uninstalled nvidia-cusparse-cu12-12.5.8.93\r\n",
      "  Attempting uninstall: nvidia-cudnn-cu12\r\n",
      "    Found existing installation: nvidia-cudnn-cu12 9.3.0.75\r\n",
      "    Uninstalling nvidia-cudnn-cu12-9.3.0.75:\r\n",
      "      Successfully uninstalled nvidia-cudnn-cu12-9.3.0.75\r\n",
      "  Attempting uninstall: nvidia-cusolver-cu12\r\n",
      "    Found existing installation: nvidia-cusolver-cu12 11.7.3.90\r\n",
      "    Uninstalling nvidia-cusolver-cu12-11.7.3.90:\r\n",
      "      Successfully uninstalled nvidia-cusolver-cu12-11.7.3.90\r\n",
      "\u001b[31mERROR: pip's dependency resolver does not currently take into account all the packages that are installed. This behaviour is the source of the following dependency conflicts.\r\n",
      "pylibcugraph-cu12 24.12.0 requires pylibraft-cu12==24.12.*, but you have pylibraft-cu12 25.2.0 which is incompatible.\r\n",
      "pylibcugraph-cu12 24.12.0 requires rmm-cu12==24.12.*, but you have rmm-cu12 25.2.0 which is incompatible.\u001b[0m\u001b[31m\r\n",
      "\u001b[0mSuccessfully installed nvidia-cublas-cu12-12.4.5.8 nvidia-cudnn-cu12-9.1.0.70 nvidia-cufft-cu12-11.2.1.3 nvidia-curand-cu12-10.3.5.147 nvidia-cusolver-cu12-11.6.1.9 nvidia-cusparse-cu12-12.3.1.170 nvidia-nvjitlink-cu12-12.4.127 ultralytics-8.3.185 ultralytics-thop-2.0.16\r\n",
      "Collecting torchtoolbox\r\n",
      "  Downloading torchtoolbox-0.1.8.2-py3-none-any.whl.metadata (15 kB)\r\n",
      "Requirement already satisfied: numpy in /usr/local/lib/python3.11/dist-packages (from torchtoolbox) (1.26.4)\r\n",
      "Requirement already satisfied: tqdm in /usr/local/lib/python3.11/dist-packages (from torchtoolbox) (4.67.1)\r\n",
      "Requirement already satisfied: pyarrow in /usr/local/lib/python3.11/dist-packages (from torchtoolbox) (19.0.1)\r\n",
      "Requirement already satisfied: six in /usr/local/lib/python3.11/dist-packages (from torchtoolbox) (1.17.0)\r\n",
      "Collecting lmdb (from torchtoolbox)\r\n",
      "  Downloading lmdb-1.7.3-cp311-cp311-manylinux_2_17_x86_64.manylinux2014_x86_64.whl.metadata (1.3 kB)\r\n",
      "Requirement already satisfied: scikit-learn in /usr/local/lib/python3.11/dist-packages (from torchtoolbox) (1.2.2)\r\n",
      "Requirement already satisfied: scipy in /usr/local/lib/python3.11/dist-packages (from torchtoolbox) (1.15.2)\r\n",
      "Requirement already satisfied: opencv-python in /usr/local/lib/python3.11/dist-packages (from torchtoolbox) (4.11.0.86)\r\n",
      "Requirement already satisfied: pyyaml in /usr/local/lib/python3.11/dist-packages (from torchtoolbox) (6.0.2)\r\n",
      "Requirement already satisfied: tensorboard in /usr/local/lib/python3.11/dist-packages (from torchtoolbox) (2.18.0)\r\n",
      "Requirement already satisfied: prettytable in /usr/local/lib/python3.11/dist-packages (from torchtoolbox) (3.14.0)\r\n",
      "Requirement already satisfied: transformers in /usr/local/lib/python3.11/dist-packages (from torchtoolbox) (4.51.1)\r\n",
      "Requirement already satisfied: mkl_fft in /usr/local/lib/python3.11/dist-packages (from numpy->torchtoolbox) (1.3.8)\r\n",
      "Requirement already satisfied: mkl_random in /usr/local/lib/python3.11/dist-packages (from numpy->torchtoolbox) (1.2.4)\r\n",
      "Requirement already satisfied: mkl_umath in /usr/local/lib/python3.11/dist-packages (from numpy->torchtoolbox) (0.1.1)\r\n",
      "Requirement already satisfied: mkl in /usr/local/lib/python3.11/dist-packages (from numpy->torchtoolbox) (2025.1.0)\r\n",
      "Requirement already satisfied: tbb4py in /usr/local/lib/python3.11/dist-packages (from numpy->torchtoolbox) (2022.1.0)\r\n",
      "Requirement already satisfied: mkl-service in /usr/local/lib/python3.11/dist-packages (from numpy->torchtoolbox) (2.4.1)\r\n",
      "Requirement already satisfied: wcwidth in /usr/local/lib/python3.11/dist-packages (from prettytable->torchtoolbox) (0.2.13)\r\n",
      "Requirement already satisfied: joblib>=1.1.1 in /usr/local/lib/python3.11/dist-packages (from scikit-learn->torchtoolbox) (1.4.2)\r\n",
      "Requirement already satisfied: threadpoolctl>=2.0.0 in /usr/local/lib/python3.11/dist-packages (from scikit-learn->torchtoolbox) (3.6.0)\r\n",
      "Requirement already satisfied: absl-py>=0.4 in /usr/local/lib/python3.11/dist-packages (from tensorboard->torchtoolbox) (1.4.0)\r\n",
      "Requirement already satisfied: grpcio>=1.48.2 in /usr/local/lib/python3.11/dist-packages (from tensorboard->torchtoolbox) (1.70.0)\r\n",
      "Requirement already satisfied: markdown>=2.6.8 in /usr/local/lib/python3.11/dist-packages (from tensorboard->torchtoolbox) (3.7)\r\n",
      "Requirement already satisfied: packaging in /usr/local/lib/python3.11/dist-packages (from tensorboard->torchtoolbox) (24.2)\r\n",
      "Requirement already satisfied: protobuf!=4.24.0,>=3.19.6 in /usr/local/lib/python3.11/dist-packages (from tensorboard->torchtoolbox) (3.20.3)\r\n",
      "Requirement already satisfied: setuptools>=41.0.0 in /usr/local/lib/python3.11/dist-packages (from tensorboard->torchtoolbox) (75.1.0)\r\n",
      "Requirement already satisfied: tensorboard-data-server<0.8.0,>=0.7.0 in /usr/local/lib/python3.11/dist-packages (from tensorboard->torchtoolbox) (0.7.2)\r\n",
      "Requirement already satisfied: werkzeug>=1.0.1 in /usr/local/lib/python3.11/dist-packages (from tensorboard->torchtoolbox) (3.1.3)\r\n",
      "Requirement already satisfied: filelock in /usr/local/lib/python3.11/dist-packages (from transformers->torchtoolbox) (3.18.0)\r\n",
      "Requirement already satisfied: huggingface-hub<1.0,>=0.30.0 in /usr/local/lib/python3.11/dist-packages (from transformers->torchtoolbox) (0.30.2)\r\n",
      "Requirement already satisfied: regex!=2019.12.17 in /usr/local/lib/python3.11/dist-packages (from transformers->torchtoolbox) (2024.11.6)\r\n",
      "Requirement already satisfied: requests in /usr/local/lib/python3.11/dist-packages (from transformers->torchtoolbox) (2.32.3)\r\n",
      "Requirement already satisfied: tokenizers<0.22,>=0.21 in /usr/local/lib/python3.11/dist-packages (from transformers->torchtoolbox) (0.21.0)\r\n",
      "Requirement already satisfied: safetensors>=0.4.3 in /usr/local/lib/python3.11/dist-packages (from transformers->torchtoolbox) (0.5.2)\r\n",
      "Requirement already satisfied: fsspec>=2023.5.0 in /usr/local/lib/python3.11/dist-packages (from huggingface-hub<1.0,>=0.30.0->transformers->torchtoolbox) (2025.3.2)\r\n",
      "Requirement already satisfied: typing-extensions>=3.7.4.3 in /usr/local/lib/python3.11/dist-packages (from huggingface-hub<1.0,>=0.30.0->transformers->torchtoolbox) (4.13.1)\r\n",
      "Requirement already satisfied: MarkupSafe>=2.1.1 in /usr/local/lib/python3.11/dist-packages (from werkzeug>=1.0.1->tensorboard->torchtoolbox) (3.0.2)\r\n",
      "Requirement already satisfied: intel-openmp<2026,>=2024 in /usr/local/lib/python3.11/dist-packages (from mkl->numpy->torchtoolbox) (2024.2.0)\r\n",
      "Requirement already satisfied: tbb==2022.* in /usr/local/lib/python3.11/dist-packages (from mkl->numpy->torchtoolbox) (2022.1.0)\r\n",
      "Requirement already satisfied: tcmlib==1.* in /usr/local/lib/python3.11/dist-packages (from tbb==2022.*->mkl->numpy->torchtoolbox) (1.2.0)\r\n",
      "Requirement already satisfied: intel-cmplr-lib-rt in /usr/local/lib/python3.11/dist-packages (from mkl_umath->numpy->torchtoolbox) (2024.2.0)\r\n",
      "Requirement already satisfied: charset-normalizer<4,>=2 in /usr/local/lib/python3.11/dist-packages (from requests->transformers->torchtoolbox) (3.4.1)\r\n",
      "Requirement already satisfied: idna<4,>=2.5 in /usr/local/lib/python3.11/dist-packages (from requests->transformers->torchtoolbox) (3.10)\r\n",
      "Requirement already satisfied: urllib3<3,>=1.21.1 in /usr/local/lib/python3.11/dist-packages (from requests->transformers->torchtoolbox) (2.3.0)\r\n",
      "Requirement already satisfied: certifi>=2017.4.17 in /usr/local/lib/python3.11/dist-packages (from requests->transformers->torchtoolbox) (2025.1.31)\r\n",
      "Requirement already satisfied: intel-cmplr-lib-ur==2024.2.0 in /usr/local/lib/python3.11/dist-packages (from intel-openmp<2026,>=2024->mkl->numpy->torchtoolbox) (2024.2.0)\r\n",
      "Downloading torchtoolbox-0.1.8.2-py3-none-any.whl (84 kB)\r\n",
      "\u001b[2K   \u001b[90m━━━━━━━━━━━━━━━━━━━━━━━━━━━━━━━━━━━━━━━━\u001b[0m \u001b[32m85.0/85.0 kB\u001b[0m \u001b[31m3.4 MB/s\u001b[0m eta \u001b[36m0:00:00\u001b[0m\r\n",
      "\u001b[?25hDownloading lmdb-1.7.3-cp311-cp311-manylinux_2_17_x86_64.manylinux2014_x86_64.whl (299 kB)\r\n",
      "\u001b[2K   \u001b[90m━━━━━━━━━━━━━━━━━━━━━━━━━━━━━━━━━━━━━━━━\u001b[0m \u001b[32m299.6/299.6 kB\u001b[0m \u001b[31m11.9 MB/s\u001b[0m eta \u001b[36m0:00:00\u001b[0m\r\n",
      "\u001b[?25hInstalling collected packages: lmdb, torchtoolbox\r\n",
      "Successfully installed lmdb-1.7.3 torchtoolbox-0.1.8.2\r\n"
     ]
    }
   ],
   "source": [
    "!pip install ultralytics\n",
    "!pip install torchtoolbox"
   ]
  },
  {
   "cell_type": "code",
   "execution_count": 2,
   "id": "945b4628",
   "metadata": {
    "_cell_guid": "08b55ba1-f587-403c-8701-17a3031a2ed3",
    "_uuid": "4fe1a706-b404-4645-b580-5428f9d4bef3",
    "collapsed": false,
    "execution": {
     "iopub.execute_input": "2025-08-25T17:34:51.016575Z",
     "iopub.status.busy": "2025-08-25T17:34:51.016357Z",
     "iopub.status.idle": "2025-08-25T18:49:45.658329Z",
     "shell.execute_reply": "2025-08-25T18:49:45.657460Z"
    },
    "jupyter": {
     "outputs_hidden": false
    },
    "papermill": {
     "duration": 4494.668622,
     "end_time": "2025-08-25T18:49:45.659815",
     "exception": false,
     "start_time": "2025-08-25T17:34:50.991193",
     "status": "completed"
    },
    "tags": []
   },
   "outputs": [
    {
     "name": "stdout",
     "output_type": "stream",
     "text": [
      "Creating new Ultralytics Settings v0.0.6 file ✅ \n",
      "View Ultralytics Settings with 'yolo settings' or at '/root/.config/Ultralytics/settings.json'\n",
      "Update Settings with 'yolo settings key=value', i.e. 'yolo settings runs_dir=path/to/dir'. For help see https://docs.ultralytics.com/quickstart/#ultralytics-settings.\n"
     ]
    },
    {
     "name": "stderr",
     "output_type": "stream",
     "text": [
      "/usr/local/lib/python3.11/dist-packages/torch/nn/modules/transformer.py:379: UserWarning: enable_nested_tensor is True, but self.use_nested_tensor is False because encoder_layer.norm_first was True\n",
      "  warnings.warn(\n",
      "/tmp/ipykernel_18/2891342090.py:370: FutureWarning: You are using `torch.load` with `weights_only=False` (the current default value), which uses the default pickle module implicitly. It is possible to construct malicious pickle data which will execute arbitrary code during unpickling (See https://github.com/pytorch/pytorch/blob/main/SECURITY.md#untrusted-models for more details). In a future release, the default value for `weights_only` will be flipped to `True`. This limits the functions that could be executed during unpickling. Arbitrary objects will no longer be allowed to be loaded via this mode unless they are explicitly allowlisted by the user via `torch.serialization.add_safe_globals`. We recommend you start setting `weights_only=True` for any use case where you don't have full control of the loaded file. Please open an issue on GitHub for any issues related to this experimental feature.\n",
      "  checkpoint = torch.load(\"/kaggle/input/yolo_rvt_good/pytorch/default/2/best_yolo_rvit_model.pth\", map_location=DEVICE)\n",
      "Epoch 1/100 [TRAIN] LR: 2.15e-04 Teach: 0.70 Scheduler: OneCycleLR:   2%|▏         | 1/42 [00:07<05:22,  7.86s/it, loss=3.84]"
     ]
    },
    {
     "name": "stdout",
     "output_type": "stream",
     "text": [
      "\n",
      "--- Training Batch 0 Examples (Content Only) ---\n",
      "  Pred: '33C43310'\n",
      "  True: '4323DU'\n",
      "  Pred: '36A98161'\n",
      "  True: '9K1551'\n",
      "  Pred: '30C0455'\n",
      "  True: 'C04525'\n",
      "  Pred: '17C33011'\n",
      "  True: '4323DU'\n",
      "  Pred: '36A52233'\n",
      "  True: '3572YB'\n",
      "-------------------------------\n"
     ]
    },
    {
     "name": "stderr",
     "output_type": "stream",
     "text": [
      "Epoch 1/100 [TRAIN] LR: 2.15e-04 Teach: 0.70 Scheduler: OneCycleLR: 100%|██████████| 42/42 [00:57<00:00,  1.36s/it, loss=2.51]\n",
      "Epoch 1/100 [VAL]: 100%|██████████| 22/22 [00:32<00:00,  1.50s/it, loss=2.35]\n"
     ]
    },
    {
     "name": "stdout",
     "output_type": "stream",
     "text": [
      "EarlyStopping: New best val_acc: 0.4179\n",
      "\n",
      "Epoch 1/100 | LR: 5.28e-05 | Teach: 0.70 | Scheduler: OneCycleLR\n",
      "  Train Loss: 3.1482 | Train Char Acc: 0.2834\n",
      "  Val Loss: 2.3773   | Val Acc (CRR): 0.4179\n",
      "  Val Exact Match Acc (E2E RR): 0.0000\n",
      "----------------------------------------------------------------------\n",
      "*** New best validation accuracy: 0.4179. Saving best_model.pth ***\n"
     ]
    },
    {
     "name": "stderr",
     "output_type": "stream",
     "text": [
      "Epoch 2/100 [TRAIN] LR: 5.28e-05 Teach: 0.69 Scheduler: OneCycleLR:   2%|▏         | 1/42 [00:06<04:06,  6.01s/it, loss=2.4]"
     ]
    },
    {
     "name": "stdout",
     "output_type": "stream",
     "text": [
      "\n",
      "--- Training Batch 0 Examples (Content Only) ---\n",
      "  Pred: '89C5'\n",
      "  True: '8695LS'\n",
      "  Pred: '36599'\n",
      "  True: '5785QG'\n",
      "  Pred: '9900'\n",
      "  True: '9490QE'\n",
      "  Pred: '0511'\n",
      "  True: '0506YE'\n",
      "  Pred: '001005'\n",
      "  True: 'DM1551'\n",
      "-------------------------------\n"
     ]
    },
    {
     "name": "stderr",
     "output_type": "stream",
     "text": [
      "Epoch 2/100 [TRAIN] LR: 5.28e-05 Teach: 0.69 Scheduler: OneCycleLR: 100%|██████████| 42/42 [01:01<00:00,  1.46s/it, loss=1.84]\n",
      "Epoch 2/100 [VAL]: 100%|██████████| 22/22 [00:32<00:00,  1.47s/it, loss=1.61]\n"
     ]
    },
    {
     "name": "stdout",
     "output_type": "stream",
     "text": [
      "EarlyStopping: New best val_acc: 0.6649\n",
      "\n",
      "Epoch 2/100 | LR: 6.11e-05 | Teach: 0.69 | Scheduler: OneCycleLR\n",
      "  Train Loss: 2.1220 | Train Char Acc: 0.5102\n",
      "  Val Loss: 1.6585   | Val Acc (CRR): 0.6649\n",
      "  Val Exact Match Acc (E2E RR): 0.0015\n",
      "----------------------------------------------------------------------\n",
      "*** New best validation accuracy: 0.6649. Saving best_model.pth ***\n"
     ]
    },
    {
     "name": "stderr",
     "output_type": "stream",
     "text": [
      "Epoch 3/100 [TRAIN] LR: 6.11e-05 Teach: 0.69 Scheduler: OneCycleLR:   2%|▏         | 1/42 [00:06<04:13,  6.19s/it, loss=1.82]"
     ]
    },
    {
     "name": "stdout",
     "output_type": "stream",
     "text": [
      "\n",
      "--- Training Batch 0 Examples (Content Only) ---\n",
      "  Pred: '736672'\n",
      "  True: 'Z36472'\n",
      "  Pred: '009099'\n",
      "  True: 'DC4099'\n",
      "  Pred: '7D185'\n",
      "  True: 'DH1853'\n",
      "  Pred: '02558'\n",
      "  True: '0251HP'\n",
      "  Pred: '556827'\n",
      "  True: '5608ZT'\n",
      "-------------------------------\n"
     ]
    },
    {
     "name": "stderr",
     "output_type": "stream",
     "text": [
      "Epoch 3/100 [TRAIN] LR: 6.11e-05 Teach: 0.69 Scheduler: OneCycleLR: 100%|██████████| 42/42 [01:01<00:00,  1.46s/it, loss=1.63]\n",
      "Epoch 3/100 [VAL]: 100%|██████████| 22/22 [00:32<00:00,  1.48s/it, loss=1.53]\n"
     ]
    },
    {
     "name": "stdout",
     "output_type": "stream",
     "text": [
      "EarlyStopping: New best val_acc: 0.6722\n",
      "\n",
      "Epoch 3/100 | LR: 7.46e-05 | Teach: 0.69 | Scheduler: OneCycleLR\n",
      "  Train Loss: 1.6964 | Train Char Acc: 0.6579\n",
      "  Val Loss: 1.5353   | Val Acc (CRR): 0.6722\n",
      "  Val Exact Match Acc (E2E RR): 0.0073\n",
      "----------------------------------------------------------------------\n",
      "*** New best validation accuracy: 0.6722. Saving best_model.pth ***\n"
     ]
    },
    {
     "name": "stderr",
     "output_type": "stream",
     "text": [
      "Epoch 4/100 [TRAIN] LR: 7.46e-05 Teach: 0.68 Scheduler: OneCycleLR:   2%|▏         | 1/42 [00:05<03:46,  5.52s/it, loss=1.56]"
     ]
    },
    {
     "name": "stdout",
     "output_type": "stream",
     "text": [
      "\n",
      "--- Training Batch 0 Examples (Content Only) ---\n",
      "  Pred: '22620'\n",
      "  True: '2662DQ'\n",
      "  Pred: '448699'\n",
      "  True: 'AK8699'\n",
      "  Pred: 'CV4655'\n",
      "  True: 'QG4655'\n",
      "  Pred: '50117'\n",
      "  True: '5011QT'\n",
      "  Pred: '841369'\n",
      "  True: '8413C9'\n",
      "-------------------------------\n"
     ]
    },
    {
     "name": "stderr",
     "output_type": "stream",
     "text": [
      "Epoch 4/100 [TRAIN] LR: 7.46e-05 Teach: 0.68 Scheduler: OneCycleLR: 100%|██████████| 42/42 [01:00<00:00,  1.44s/it, loss=1.25]\n",
      "Epoch 4/100 [VAL]: 100%|██████████| 22/22 [00:32<00:00,  1.48s/it, loss=1.35]\n"
     ]
    },
    {
     "name": "stdout",
     "output_type": "stream",
     "text": [
      "EarlyStopping: New best val_acc: 0.7770\n",
      "\n",
      "Epoch 4/100 | LR: 9.32e-05 | Teach: 0.68 | Scheduler: OneCycleLR\n",
      "  Train Loss: 1.4215 | Train Char Acc: 0.7295\n",
      "  Val Loss: 1.2732   | Val Acc (CRR): 0.7770\n",
      "  Val Exact Match Acc (E2E RR): 0.1175\n",
      "----------------------------------------------------------------------\n",
      "*** New best validation accuracy: 0.7770. Saving best_model.pth ***\n"
     ]
    },
    {
     "name": "stderr",
     "output_type": "stream",
     "text": [
      "Epoch 5/100 [TRAIN] LR: 9.32e-05 Teach: 0.67 Scheduler: OneCycleLR:   2%|▏         | 1/42 [00:04<03:24,  4.99s/it, loss=1.25]"
     ]
    },
    {
     "name": "stdout",
     "output_type": "stream",
     "text": [
      "\n",
      "--- Training Batch 0 Examples (Content Only) ---\n",
      "  Pred: '89091D'\n",
      "  True: '8909JD'\n",
      "  Pred: '6998D8'\n",
      "  True: '6998D8'\n",
      "  Pred: '830897'\n",
      "  True: 'N30897'\n",
      "  Pred: '141288'\n",
      "  True: 'U41288'\n",
      "  Pred: '3622D1'\n",
      "  True: '3222QM'\n",
      "-------------------------------\n"
     ]
    },
    {
     "name": "stderr",
     "output_type": "stream",
     "text": [
      "Epoch 5/100 [TRAIN] LR: 9.32e-05 Teach: 0.67 Scheduler: OneCycleLR: 100%|██████████| 42/42 [00:59<00:00,  1.42s/it, loss=1.2]\n",
      "Epoch 5/100 [VAL]: 100%|██████████| 22/22 [00:32<00:00,  1.48s/it, loss=1.18]\n"
     ]
    },
    {
     "name": "stdout",
     "output_type": "stream",
     "text": [
      "EarlyStopping: New best val_acc: 0.8685\n",
      "\n",
      "Epoch 5/100 | LR: 1.16e-04 | Teach: 0.67 | Scheduler: OneCycleLR\n",
      "  Train Loss: 1.2782 | Train Char Acc: 0.7853\n",
      "  Val Loss: 1.1213   | Val Acc (CRR): 0.8685\n",
      "  Val Exact Match Acc (E2E RR): 0.3818\n",
      "----------------------------------------------------------------------\n",
      "*** New best validation accuracy: 0.8685. Saving best_model.pth ***\n"
     ]
    },
    {
     "name": "stderr",
     "output_type": "stream",
     "text": [
      "Epoch 6/100 [TRAIN] LR: 1.16e-04 Teach: 0.67 Scheduler: OneCycleLR:   2%|▏         | 1/42 [00:06<04:23,  6.43s/it, loss=1.29]"
     ]
    },
    {
     "name": "stdout",
     "output_type": "stream",
     "text": [
      "\n",
      "--- Training Batch 0 Examples (Content Only) ---\n",
      "  Pred: 'AB0416'\n",
      "  True: 'AR0416'\n",
      "  Pred: '21891T'\n",
      "  True: '2189TT'\n",
      "  Pred: '70624L'\n",
      "  True: '7062LL'\n",
      "  Pred: '910901'\n",
      "  True: '9109QY'\n",
      "  Pred: '711957'\n",
      "  True: '7D1957'\n",
      "-------------------------------\n"
     ]
    },
    {
     "name": "stderr",
     "output_type": "stream",
     "text": [
      "Epoch 6/100 [TRAIN] LR: 1.16e-04 Teach: 0.67 Scheduler: OneCycleLR: 100%|██████████| 42/42 [01:01<00:00,  1.46s/it, loss=1.17]\n",
      "Epoch 6/100 [VAL]: 100%|██████████| 22/22 [00:32<00:00,  1.48s/it, loss=1.12]\n"
     ]
    },
    {
     "name": "stdout",
     "output_type": "stream",
     "text": [
      "EarlyStopping: New best val_acc: 0.9055\n",
      "\n",
      "Epoch 6/100 | LR: 1.43e-04 | Teach: 0.67 | Scheduler: OneCycleLR\n",
      "  Train Loss: 1.1828 | Train Char Acc: 0.8358\n",
      "  Val Loss: 1.0334   | Val Acc (CRR): 0.9055\n",
      "  Val Exact Match Acc (E2E RR): 0.5389\n",
      "----------------------------------------------------------------------\n",
      "*** New best validation accuracy: 0.9055. Saving best_model.pth ***\n"
     ]
    },
    {
     "name": "stderr",
     "output_type": "stream",
     "text": [
      "Epoch 7/100 [TRAIN] LR: 1.43e-04 Teach: 0.66 Scheduler: OneCycleLR:   2%|▏         | 1/42 [00:05<03:47,  5.54s/it, loss=1.1]"
     ]
    },
    {
     "name": "stdout",
     "output_type": "stream",
     "text": [
      "\n",
      "--- Training Batch 0 Examples (Content Only) ---\n",
      "  Pred: 'U5298D'\n",
      "  True: 'U52980'\n",
      "  Pred: '9371QW'\n",
      "  True: '9371QW'\n",
      "  Pred: '9711KG'\n",
      "  True: '9711KG'\n",
      "  Pred: '6366DN'\n",
      "  True: '6366DN'\n",
      "  Pred: '7V6276'\n",
      "  True: 'ZV6276'\n",
      "-------------------------------\n"
     ]
    },
    {
     "name": "stderr",
     "output_type": "stream",
     "text": [
      "Epoch 7/100 [TRAIN] LR: 1.43e-04 Teach: 0.66 Scheduler: OneCycleLR: 100%|██████████| 42/42 [01:00<00:00,  1.45s/it, loss=1.09]\n",
      "Epoch 7/100 [VAL]: 100%|██████████| 22/22 [00:32<00:00,  1.46s/it, loss=1.03]\n"
     ]
    },
    {
     "name": "stdout",
     "output_type": "stream",
     "text": [
      "EarlyStopping: New best val_acc: 0.9344\n",
      "\n",
      "Epoch 7/100 | LR: 1.73e-04 | Teach: 0.66 | Scheduler: OneCycleLR\n",
      "  Train Loss: 1.1168 | Train Char Acc: 0.8692\n",
      "  Val Loss: 0.9685   | Val Acc (CRR): 0.9344\n",
      "  Val Exact Match Acc (E2E RR): 0.6769\n",
      "----------------------------------------------------------------------\n",
      "*** New best validation accuracy: 0.9344. Saving best_model.pth ***\n"
     ]
    },
    {
     "name": "stderr",
     "output_type": "stream",
     "text": [
      "Epoch 8/100 [TRAIN] LR: 1.73e-04 Teach: 0.65 Scheduler: OneCycleLR:   2%|▏         | 1/42 [00:06<04:06,  6.01s/it, loss=1.11]"
     ]
    },
    {
     "name": "stdout",
     "output_type": "stream",
     "text": [
      "\n",
      "--- Training Batch 0 Examples (Content Only) ---\n",
      "  Pred: '43017W'\n",
      "  True: '4301TW'\n",
      "  Pred: '6C3028'\n",
      "  True: '6C3028'\n",
      "  Pred: '9119DF'\n",
      "  True: '9119DF'\n",
      "  Pred: 'Q31122'\n",
      "  True: 'G31122'\n",
      "  Pred: '171935'\n",
      "  True: 'J71935'\n",
      "-------------------------------\n"
     ]
    },
    {
     "name": "stderr",
     "output_type": "stream",
     "text": [
      "Epoch 8/100 [TRAIN] LR: 1.73e-04 Teach: 0.65 Scheduler: OneCycleLR: 100%|██████████| 42/42 [01:00<00:00,  1.45s/it, loss=0.988]\n",
      "Epoch 8/100 [VAL]: 100%|██████████| 22/22 [00:32<00:00,  1.48s/it, loss=0.99]\n"
     ]
    },
    {
     "name": "stdout",
     "output_type": "stream",
     "text": [
      "EarlyStopping: New best val_acc: 0.9471\n",
      "\n",
      "Epoch 8/100 | LR: 2.06e-04 | Teach: 0.65 | Scheduler: OneCycleLR\n",
      "  Train Loss: 1.0542 | Train Char Acc: 0.8998\n",
      "  Val Loss: 0.9358   | Val Acc (CRR): 0.9471\n",
      "  Val Exact Match Acc (E2E RR): 0.7460\n",
      "----------------------------------------------------------------------\n",
      "*** New best validation accuracy: 0.9471. Saving best_model.pth ***\n"
     ]
    },
    {
     "name": "stderr",
     "output_type": "stream",
     "text": [
      "Epoch 9/100 [TRAIN] LR: 2.06e-04 Teach: 0.65 Scheduler: OneCycleLR:   2%|▏         | 1/42 [00:05<03:57,  5.79s/it, loss=0.977]"
     ]
    },
    {
     "name": "stdout",
     "output_type": "stream",
     "text": [
      "\n",
      "--- Training Batch 0 Examples (Content Only) ---\n",
      "  Pred: 'AE9471'\n",
      "  True: '8E9471'\n",
      "  Pred: '5E5548'\n",
      "  True: '5E5548'\n",
      "  Pred: '91099Y'\n",
      "  True: '9109QY'\n",
      "  Pred: '8917FE'\n",
      "  True: '8917FE'\n",
      "  Pred: '3852HG'\n",
      "  True: '3852HG'\n",
      "-------------------------------\n"
     ]
    },
    {
     "name": "stderr",
     "output_type": "stream",
     "text": [
      "Epoch 9/100 [TRAIN] LR: 2.06e-04 Teach: 0.65 Scheduler: OneCycleLR: 100%|██████████| 42/42 [01:00<00:00,  1.45s/it, loss=1.05]\n",
      "Epoch 9/100 [VAL]: 100%|██████████| 22/22 [00:32<00:00,  1.47s/it, loss=0.95]\n"
     ]
    },
    {
     "name": "stdout",
     "output_type": "stream",
     "text": [
      "EarlyStopping: New best val_acc: 0.9528\n",
      "\n",
      "Epoch 9/100 | LR: 2.41e-04 | Teach: 0.65 | Scheduler: OneCycleLR\n",
      "  Train Loss: 1.0175 | Train Char Acc: 0.9159\n",
      "  Val Loss: 0.9144   | Val Acc (CRR): 0.9528\n",
      "  Val Exact Match Acc (E2E RR): 0.7724\n",
      "----------------------------------------------------------------------\n",
      "*** New best validation accuracy: 0.9528. Saving best_model.pth ***\n"
     ]
    },
    {
     "name": "stderr",
     "output_type": "stream",
     "text": [
      "Epoch 10/100 [TRAIN] LR: 2.41e-04 Teach: 0.64 Scheduler: OneCycleLR:   2%|▏         | 1/42 [00:06<04:12,  6.16s/it, loss=0.992]"
     ]
    },
    {
     "name": "stdout",
     "output_type": "stream",
     "text": [
      "\n",
      "--- Training Batch 0 Examples (Content Only) ---\n",
      "  Pred: '7528VR'\n",
      "  True: '7528VR'\n",
      "  Pred: '2Y0887'\n",
      "  True: 'ZY0887'\n",
      "  Pred: 'RN6240'\n",
      "  True: 'BN6240'\n",
      "  Pred: '1582YH'\n",
      "  True: '1582YH'\n",
      "  Pred: '2538DG'\n",
      "  True: '2538DC'\n",
      "-------------------------------\n"
     ]
    },
    {
     "name": "stderr",
     "output_type": "stream",
     "text": [
      "Epoch 10/100 [TRAIN] LR: 2.41e-04 Teach: 0.64 Scheduler: OneCycleLR: 100%|██████████| 42/42 [01:00<00:00,  1.45s/it, loss=1.09]\n",
      "Epoch 10/100 [VAL]: 100%|██████████| 22/22 [00:32<00:00,  1.48s/it, loss=0.957]\n"
     ]
    },
    {
     "name": "stdout",
     "output_type": "stream",
     "text": [
      "EarlyStopping counter: 1/20 (Best val_acc: 0.9528)\n",
      "\n",
      "Epoch 10/100 | LR: 2.76e-04 | Teach: 0.64 | Scheduler: OneCycleLR\n",
      "  Train Loss: 0.9983 | Train Char Acc: 0.9232\n",
      "  Val Loss: 0.9085   | Val Acc (CRR): 0.9506\n",
      "  Val Exact Match Acc (E2E RR): 0.7504\n",
      "----------------------------------------------------------------------\n"
     ]
    },
    {
     "name": "stderr",
     "output_type": "stream",
     "text": [
      "Epoch 11/100 [TRAIN] LR: 2.76e-04 Teach: 0.63 Scheduler: OneCycleLR:   2%|▏         | 1/42 [00:05<03:53,  5.70s/it, loss=0.945]"
     ]
    },
    {
     "name": "stdout",
     "output_type": "stream",
     "text": [
      "\n",
      "--- Training Batch 0 Examples (Content Only) ---\n",
      "  Pred: '6366DN'\n",
      "  True: '6366DN'\n",
      "  Pred: '7K0369'\n",
      "  True: '7K0369'\n",
      "  Pred: 'SC4928'\n",
      "  True: 'SC4928'\n",
      "  Pred: '4468QD'\n",
      "  True: '4468QD'\n",
      "  Pred: '169286'\n",
      "  True: '1692B6'\n",
      "-------------------------------\n"
     ]
    },
    {
     "name": "stderr",
     "output_type": "stream",
     "text": [
      "Epoch 11/100 [TRAIN] LR: 2.76e-04 Teach: 0.63 Scheduler: OneCycleLR: 100%|██████████| 42/42 [01:00<00:00,  1.44s/it, loss=0.979]\n",
      "Epoch 11/100 [VAL]: 100%|██████████| 22/22 [00:32<00:00,  1.47s/it, loss=0.948]\n"
     ]
    },
    {
     "name": "stdout",
     "output_type": "stream",
     "text": [
      "EarlyStopping: New best val_acc: 0.9652\n",
      "\n",
      "Epoch 11/100 | LR: 3.11e-04 | Teach: 0.63 | Scheduler: OneCycleLR\n",
      "  Train Loss: 0.9817 | Train Char Acc: 0.9296\n",
      "  Val Loss: 0.8875   | Val Acc (CRR): 0.9652\n",
      "  Val Exact Match Acc (E2E RR): 0.8223\n",
      "----------------------------------------------------------------------\n",
      "*** New best validation accuracy: 0.9652. Saving best_model.pth ***\n"
     ]
    },
    {
     "name": "stderr",
     "output_type": "stream",
     "text": [
      "Epoch 12/100 [TRAIN] LR: 3.11e-04 Teach: 0.63 Scheduler: OneCycleLR:   2%|▏         | 1/42 [00:05<03:58,  5.83s/it, loss=0.956]"
     ]
    },
    {
     "name": "stdout",
     "output_type": "stream",
     "text": [
      "\n",
      "--- Training Batch 0 Examples (Content Only) ---\n",
      "  Pred: '292121'\n",
      "  True: '2P2121'\n",
      "  Pred: '8185ES'\n",
      "  True: '8185ES'\n",
      "  Pred: '4872LB'\n",
      "  True: '4872HB'\n",
      "  Pred: '863791'\n",
      "  True: 'P63791'\n",
      "  Pred: 'B1900R'\n",
      "  True: '8190DR'\n",
      "-------------------------------\n"
     ]
    },
    {
     "name": "stderr",
     "output_type": "stream",
     "text": [
      "Epoch 12/100 [TRAIN] LR: 3.11e-04 Teach: 0.63 Scheduler: OneCycleLR: 100%|██████████| 42/42 [01:00<00:00,  1.44s/it, loss=0.952]\n",
      "Epoch 12/100 [VAL]: 100%|██████████| 22/22 [00:32<00:00,  1.48s/it, loss=0.924]\n"
     ]
    },
    {
     "name": "stdout",
     "output_type": "stream",
     "text": [
      "EarlyStopping: New best val_acc: 0.9662\n",
      "\n",
      "Epoch 12/100 | LR: 3.45e-04 | Teach: 0.63 | Scheduler: OneCycleLR\n",
      "  Train Loss: 0.9632 | Train Char Acc: 0.9403\n",
      "  Val Loss: 0.8764   | Val Acc (CRR): 0.9662\n",
      "  Val Exact Match Acc (E2E RR): 0.8370\n",
      "----------------------------------------------------------------------\n",
      "*** New best validation accuracy: 0.9662. Saving best_model.pth ***\n"
     ]
    },
    {
     "name": "stderr",
     "output_type": "stream",
     "text": [
      "Epoch 13/100 [TRAIN] LR: 3.45e-04 Teach: 0.62 Scheduler: OneCycleLR:   2%|▏         | 1/42 [00:05<03:37,  5.32s/it, loss=0.947]"
     ]
    },
    {
     "name": "stdout",
     "output_type": "stream",
     "text": [
      "\n",
      "--- Training Batch 0 Examples (Content Only) ---\n",
      "  Pred: '9197YR'\n",
      "  True: '9197YR'\n",
      "  Pred: '5960XA'\n",
      "  True: '5960XA'\n",
      "  Pred: 'EX3301'\n",
      "  True: 'EX3301'\n",
      "  Pred: '0531FL'\n",
      "  True: '0531FL'\n",
      "  Pred: '9L0549'\n",
      "  True: '9L0549'\n",
      "-------------------------------\n"
     ]
    },
    {
     "name": "stderr",
     "output_type": "stream",
     "text": [
      "Epoch 13/100 [TRAIN] LR: 3.45e-04 Teach: 0.62 Scheduler: OneCycleLR: 100%|██████████| 42/42 [01:00<00:00,  1.43s/it, loss=0.934]\n",
      "Epoch 13/100 [VAL]: 100%|██████████| 22/22 [00:32<00:00,  1.48s/it, loss=0.913]\n"
     ]
    },
    {
     "name": "stdout",
     "output_type": "stream",
     "text": [
      "EarlyStopping: New best val_acc: 0.9738\n",
      "\n",
      "Epoch 13/100 | LR: 3.78e-04 | Teach: 0.62 | Scheduler: OneCycleLR\n",
      "  Train Loss: 0.9435 | Train Char Acc: 0.9482\n",
      "  Val Loss: 0.8698   | Val Acc (CRR): 0.9738\n",
      "  Val Exact Match Acc (E2E RR): 0.8708\n",
      "----------------------------------------------------------------------\n",
      "*** New best validation accuracy: 0.9738. Saving best_model.pth ***\n"
     ]
    },
    {
     "name": "stderr",
     "output_type": "stream",
     "text": [
      "Epoch 14/100 [TRAIN] LR: 3.78e-04 Teach: 0.61 Scheduler: OneCycleLR:   2%|▏         | 1/42 [00:05<03:59,  5.83s/it, loss=0.963]"
     ]
    },
    {
     "name": "stdout",
     "output_type": "stream",
     "text": [
      "\n",
      "--- Training Batch 0 Examples (Content Only) ---\n",
      "  Pred: 'CX3020'\n",
      "  True: 'CX3020'\n",
      "  Pred: 'AK8699'\n",
      "  True: 'AK8699'\n",
      "  Pred: '840913'\n",
      "  True: 'B40913'\n",
      "  Pred: 'HL4408'\n",
      "  True: 'HL4408'\n",
      "  Pred: '4075VL'\n",
      "  True: '4075VL'\n",
      "-------------------------------\n"
     ]
    },
    {
     "name": "stderr",
     "output_type": "stream",
     "text": [
      "Epoch 14/100 [TRAIN] LR: 3.78e-04 Teach: 0.61 Scheduler: OneCycleLR: 100%|██████████| 42/42 [01:00<00:00,  1.44s/it, loss=0.901]\n",
      "Epoch 14/100 [VAL]: 100%|██████████| 22/22 [00:32<00:00,  1.48s/it, loss=0.903]\n"
     ]
    },
    {
     "name": "stdout",
     "output_type": "stream",
     "text": [
      "EarlyStopping: New best val_acc: 0.9807\n",
      "\n",
      "Epoch 14/100 | LR: 4.08e-04 | Teach: 0.61 | Scheduler: OneCycleLR\n",
      "  Train Loss: 0.9355 | Train Char Acc: 0.9545\n",
      "  Val Loss: 0.8550   | Val Acc (CRR): 0.9807\n",
      "  Val Exact Match Acc (E2E RR): 0.9104\n",
      "----------------------------------------------------------------------\n",
      "*** New best validation accuracy: 0.9807. Saving best_model.pth ***\n"
     ]
    },
    {
     "name": "stderr",
     "output_type": "stream",
     "text": [
      "Epoch 15/100 [TRAIN] LR: 4.08e-04 Teach: 0.61 Scheduler: OneCycleLR:   2%|▏         | 1/42 [00:05<03:40,  5.37s/it, loss=0.879]"
     ]
    },
    {
     "name": "stdout",
     "output_type": "stream",
     "text": [
      "\n",
      "--- Training Batch 0 Examples (Content Only) ---\n",
      "  Pred: '6016YM'\n",
      "  True: '6016YM'\n",
      "  Pred: '5565EY'\n",
      "  True: '5565EY'\n",
      "  Pred: '0397EV'\n",
      "  True: '0397EV'\n",
      "  Pred: 'C04525'\n",
      "  True: 'C04525'\n",
      "  Pred: 'G31122'\n",
      "  True: 'G31122'\n",
      "-------------------------------\n"
     ]
    },
    {
     "name": "stderr",
     "output_type": "stream",
     "text": [
      "Epoch 15/100 [TRAIN] LR: 4.08e-04 Teach: 0.61 Scheduler: OneCycleLR: 100%|██████████| 42/42 [01:00<00:00,  1.43s/it, loss=0.885]\n",
      "Epoch 15/100 [VAL]: 100%|██████████| 22/22 [00:32<00:00,  1.46s/it, loss=0.931]\n"
     ]
    },
    {
     "name": "stdout",
     "output_type": "stream",
     "text": [
      "EarlyStopping counter: 1/20 (Best val_acc: 0.9807)\n",
      "\n",
      "Epoch 15/100 | LR: 4.35e-04 | Teach: 0.61 | Scheduler: OneCycleLR\n",
      "  Train Loss: 0.9218 | Train Char Acc: 0.9575\n",
      "  Val Loss: 0.8604   | Val Acc (CRR): 0.9743\n",
      "  Val Exact Match Acc (E2E RR): 0.8708\n",
      "----------------------------------------------------------------------\n"
     ]
    },
    {
     "name": "stderr",
     "output_type": "stream",
     "text": [
      "Epoch 16/100 [TRAIN] LR: 4.35e-04 Teach: 0.60 Scheduler: OneCycleLR:   2%|▏         | 1/42 [00:06<04:07,  6.04s/it, loss=0.882]"
     ]
    },
    {
     "name": "stdout",
     "output_type": "stream",
     "text": [
      "\n",
      "--- Training Batch 0 Examples (Content Only) ---\n",
      "  Pred: '3168VD'\n",
      "  True: '3168VD'\n",
      "  Pred: '7528VR'\n",
      "  True: '7528VR'\n",
      "  Pred: '9L2298'\n",
      "  True: '9L2298'\n",
      "  Pred: 'EW9246'\n",
      "  True: 'EW9246'\n",
      "  Pred: '7D6823'\n",
      "  True: '7D6823'\n",
      "-------------------------------\n"
     ]
    },
    {
     "name": "stderr",
     "output_type": "stream",
     "text": [
      "Epoch 16/100 [TRAIN] LR: 4.35e-04 Teach: 0.60 Scheduler: OneCycleLR: 100%|██████████| 42/42 [01:01<00:00,  1.45s/it, loss=0.885]\n",
      "Epoch 16/100 [VAL]: 100%|██████████| 22/22 [00:32<00:00,  1.48s/it, loss=0.887]\n"
     ]
    },
    {
     "name": "stdout",
     "output_type": "stream",
     "text": [
      "EarlyStopping counter: 2/20 (Best val_acc: 0.9807)\n",
      "\n",
      "Epoch 16/100 | LR: 4.58e-04 | Teach: 0.60 | Scheduler: OneCycleLR\n",
      "  Train Loss: 0.9016 | Train Char Acc: 0.9655\n",
      "  Val Loss: 0.8446   | Val Acc (CRR): 0.9799\n",
      "  Val Exact Match Acc (E2E RR): 0.9001\n",
      "----------------------------------------------------------------------\n"
     ]
    },
    {
     "name": "stderr",
     "output_type": "stream",
     "text": [
      "Epoch 17/100 [TRAIN] LR: 4.58e-04 Teach: 0.59 Scheduler: OneCycleLR:   2%|▏         | 1/42 [00:05<03:33,  5.20s/it, loss=0.927]"
     ]
    },
    {
     "name": "stdout",
     "output_type": "stream",
     "text": [
      "\n",
      "--- Training Batch 0 Examples (Content Only) ---\n",
      "  Pred: '3619DA'\n",
      "  True: '3619DN'\n",
      "  Pred: '0A8980'\n",
      "  True: '0A8980'\n",
      "  Pred: 'R07979'\n",
      "  True: 'R07979'\n",
      "  Pred: 'N59145'\n",
      "  True: 'N59145'\n",
      "  Pred: '7296GD'\n",
      "  True: '7296GD'\n",
      "-------------------------------\n"
     ]
    },
    {
     "name": "stderr",
     "output_type": "stream",
     "text": [
      "Epoch 17/100 [TRAIN] LR: 4.58e-04 Teach: 0.59 Scheduler: OneCycleLR: 100%|██████████| 42/42 [01:00<00:00,  1.43s/it, loss=0.844]\n",
      "Epoch 17/100 [VAL]: 100%|██████████| 22/22 [00:32<00:00,  1.47s/it, loss=0.906]\n"
     ]
    },
    {
     "name": "stdout",
     "output_type": "stream",
     "text": [
      "EarlyStopping counter: 3/20 (Best val_acc: 0.9807)\n",
      "\n",
      "Epoch 17/100 | LR: 4.76e-04 | Teach: 0.59 | Scheduler: OneCycleLR\n",
      "  Train Loss: 0.8961 | Train Char Acc: 0.9653\n",
      "  Val Loss: 0.8461   | Val Acc (CRR): 0.9809\n",
      "  Val Exact Match Acc (E2E RR): 0.9104\n",
      "----------------------------------------------------------------------\n",
      "*** New best validation accuracy: 0.9809. Saving best_model.pth ***\n"
     ]
    },
    {
     "name": "stderr",
     "output_type": "stream",
     "text": [
      "Epoch 18/100 [TRAIN] LR: 4.76e-04 Teach: 0.59 Scheduler: OneCycleLR:   2%|▏         | 1/42 [00:05<03:40,  5.38s/it, loss=0.971]"
     ]
    },
    {
     "name": "stdout",
     "output_type": "stream",
     "text": [
      "\n",
      "--- Training Batch 0 Examples (Content Only) ---\n",
      "  Pred: '850102'\n",
      "  True: 'B50102'\n",
      "  Pred: 'GK9087'\n",
      "  True: 'GK9087'\n",
      "  Pred: 'C38700'\n",
      "  True: 'C38166'\n",
      "  Pred: '6280EK'\n",
      "  True: '6280EK'\n",
      "  Pred: '1976VH'\n",
      "  True: '1976VH'\n",
      "-------------------------------\n"
     ]
    },
    {
     "name": "stderr",
     "output_type": "stream",
     "text": [
      "Epoch 18/100 [TRAIN] LR: 4.76e-04 Teach: 0.59 Scheduler: OneCycleLR: 100%|██████████| 42/42 [01:00<00:00,  1.44s/it, loss=0.887]\n",
      "Epoch 18/100 [VAL]: 100%|██████████| 22/22 [00:32<00:00,  1.48s/it, loss=0.928]\n"
     ]
    },
    {
     "name": "stdout",
     "output_type": "stream",
     "text": [
      "EarlyStopping counter: 4/20 (Best val_acc: 0.9807)\n",
      "\n",
      "Epoch 18/100 | LR: 4.89e-04 | Teach: 0.59 | Scheduler: OneCycleLR\n",
      "  Train Loss: 0.8922 | Train Char Acc: 0.9681\n",
      "  Val Loss: 0.8588   | Val Acc (CRR): 0.9721\n",
      "  Val Exact Match Acc (E2E RR): 0.8664\n",
      "----------------------------------------------------------------------\n"
     ]
    },
    {
     "name": "stderr",
     "output_type": "stream",
     "text": [
      "Epoch 19/100 [TRAIN] LR: 4.89e-04 Teach: 0.58 Scheduler: OneCycleLR:   2%|▏         | 1/42 [00:06<04:16,  6.24s/it, loss=0.841]"
     ]
    },
    {
     "name": "stdout",
     "output_type": "stream",
     "text": [
      "\n",
      "--- Training Batch 0 Examples (Content Only) ---\n",
      "  Pred: '728543'\n",
      "  True: 'PZ8543'\n",
      "  Pred: 'S66202'\n",
      "  True: 'S66202'\n",
      "  Pred: '9490QE'\n",
      "  True: '9490QE'\n",
      "  Pred: '3E2365'\n",
      "  True: '3E2365'\n",
      "  Pred: '9C1280'\n",
      "  True: '9C1280'\n",
      "-------------------------------\n"
     ]
    },
    {
     "name": "stderr",
     "output_type": "stream",
     "text": [
      "Epoch 19/100 [TRAIN] LR: 4.89e-04 Teach: 0.58 Scheduler: OneCycleLR: 100%|██████████| 42/42 [01:00<00:00,  1.45s/it, loss=0.976]\n",
      "Epoch 19/100 [VAL]: 100%|██████████| 22/22 [00:32<00:00,  1.46s/it, loss=0.91]\n"
     ]
    },
    {
     "name": "stdout",
     "output_type": "stream",
     "text": [
      "EarlyStopping: New best val_acc: 0.9819\n",
      "\n",
      "Epoch 19/100 | LR: 4.97e-04 | Teach: 0.58 | Scheduler: OneCycleLR\n",
      "  Train Loss: 0.8869 | Train Char Acc: 0.9676\n",
      "  Val Loss: 0.8295   | Val Acc (CRR): 0.9819\n",
      "  Val Exact Match Acc (E2E RR): 0.9090\n",
      "----------------------------------------------------------------------\n",
      "*** New best validation accuracy: 0.9819. Saving best_model.pth ***\n"
     ]
    },
    {
     "name": "stderr",
     "output_type": "stream",
     "text": [
      "Epoch 20/100 [TRAIN] LR: 4.97e-04 Teach: 0.58 Scheduler: OneCycleLR:   2%|▏         | 1/42 [00:06<04:13,  6.17s/it, loss=0.853]"
     ]
    },
    {
     "name": "stdout",
     "output_type": "stream",
     "text": [
      "\n",
      "--- Training Batch 0 Examples (Content Only) ---\n",
      "  Pred: '33031J'\n",
      "  True: '3303NJ'\n",
      "  Pred: '7E8476'\n",
      "  True: '7E8476'\n",
      "  Pred: '2C1749'\n",
      "  True: '2C1749'\n",
      "  Pred: '3667HM'\n",
      "  True: '3667HM'\n",
      "  Pred: '3580DX'\n",
      "  True: '3580DX'\n",
      "-------------------------------\n"
     ]
    },
    {
     "name": "stderr",
     "output_type": "stream",
     "text": [
      "Epoch 20/100 [TRAIN] LR: 4.97e-04 Teach: 0.58 Scheduler: OneCycleLR: 100%|██████████| 42/42 [01:01<00:00,  1.45s/it, loss=0.949]\n",
      "Epoch 20/100 [VAL]: 100%|██████████| 22/22 [00:32<00:00,  1.48s/it, loss=0.903]\n"
     ]
    },
    {
     "name": "stdout",
     "output_type": "stream",
     "text": [
      "EarlyStopping: New best val_acc: 0.9843\n",
      "\n",
      "Epoch 20/100 | LR: 5.00e-04 | Teach: 0.58 | Scheduler: OneCycleLR\n",
      "  Train Loss: 0.8775 | Train Char Acc: 0.9715\n",
      "  Val Loss: 0.8335   | Val Acc (CRR): 0.9843\n",
      "  Val Exact Match Acc (E2E RR): 0.9280\n",
      "----------------------------------------------------------------------\n",
      "*** New best validation accuracy: 0.9843. Saving best_model.pth ***\n"
     ]
    },
    {
     "name": "stderr",
     "output_type": "stream",
     "text": [
      "Epoch 21/100 [TRAIN] LR: 5.00e-04 Teach: 0.57 Scheduler: OneCycleLR:   2%|▏         | 1/42 [00:05<04:00,  5.87s/it, loss=0.892]"
     ]
    },
    {
     "name": "stdout",
     "output_type": "stream",
     "text": [
      "\n",
      "--- Training Batch 0 Examples (Content Only) ---\n",
      "  Pred: 'RS2506'\n",
      "  True: 'RS2506'\n",
      "  Pred: '401299'\n",
      "  True: '6U7129'\n",
      "  Pred: '1697QT'\n",
      "  True: '1697QT'\n",
      "  Pred: 'GS3491'\n",
      "  True: 'GS3491'\n",
      "  Pred: '0257HP'\n",
      "  True: '0251HP'\n",
      "-------------------------------\n"
     ]
    },
    {
     "name": "stderr",
     "output_type": "stream",
     "text": [
      "Epoch 21/100 [TRAIN] LR: 5.00e-04 Teach: 0.57 Scheduler: OneCycleLR: 100%|██████████| 42/42 [01:00<00:00,  1.44s/it, loss=0.85]\n",
      "Epoch 21/100 [VAL]: 100%|██████████| 22/22 [00:32<00:00,  1.48s/it, loss=0.893]\n"
     ]
    },
    {
     "name": "stdout",
     "output_type": "stream",
     "text": [
      "EarlyStopping counter: 1/20 (Best val_acc: 0.9843)\n",
      "\n",
      "Epoch 21/100 | LR: 5.00e-04 | Teach: 0.57 | Scheduler: OneCycleLR\n",
      "  Train Loss: 0.8770 | Train Char Acc: 0.9684\n",
      "  Val Loss: 0.8345   | Val Acc (CRR): 0.9809\n",
      "  Val Exact Match Acc (E2E RR): 0.9075\n",
      "----------------------------------------------------------------------\n"
     ]
    },
    {
     "name": "stderr",
     "output_type": "stream",
     "text": [
      "Epoch 22/100 [TRAIN] LR: 5.00e-04 Teach: 0.56 Scheduler: OneCycleLR:   2%|▏         | 1/42 [00:06<04:12,  6.16s/it, loss=0.867]"
     ]
    },
    {
     "name": "stdout",
     "output_type": "stream",
     "text": [
      "\n",
      "--- Training Batch 0 Examples (Content Only) ---\n",
      "  Pred: '7569VK'\n",
      "  True: '7569VK'\n",
      "  Pred: '6998DB'\n",
      "  True: '6998D8'\n",
      "  Pred: '3086RG'\n",
      "  True: '3086RG'\n",
      "  Pred: 'R28286'\n",
      "  True: 'R28286'\n",
      "  Pred: '7960ZR'\n",
      "  True: '7960ZR'\n",
      "-------------------------------\n"
     ]
    },
    {
     "name": "stderr",
     "output_type": "stream",
     "text": [
      "Epoch 22/100 [TRAIN] LR: 5.00e-04 Teach: 0.56 Scheduler: OneCycleLR: 100%|██████████| 42/42 [01:00<00:00,  1.45s/it, loss=0.875]\n",
      "Epoch 22/100 [VAL]: 100%|██████████| 22/22 [00:32<00:00,  1.48s/it, loss=0.86]\n"
     ]
    },
    {
     "name": "stdout",
     "output_type": "stream",
     "text": [
      "EarlyStopping counter: 2/20 (Best val_acc: 0.9843)\n",
      "\n",
      "Epoch 22/100 | LR: 4.99e-04 | Teach: 0.56 | Scheduler: OneCycleLR\n",
      "  Train Loss: 0.8663 | Train Char Acc: 0.9722\n",
      "  Val Loss: 0.8095   | Val Acc (CRR): 0.9829\n",
      "  Val Exact Match Acc (E2E RR): 0.9163\n",
      "----------------------------------------------------------------------\n"
     ]
    },
    {
     "name": "stderr",
     "output_type": "stream",
     "text": [
      "Epoch 23/100 [TRAIN] LR: 4.99e-04 Teach: 0.56 Scheduler: OneCycleLR:   2%|▏         | 1/42 [00:05<03:59,  5.84s/it, loss=0.86]"
     ]
    },
    {
     "name": "stdout",
     "output_type": "stream",
     "text": [
      "\n",
      "--- Training Batch 0 Examples (Content Only) ---\n",
      "  Pred: '3905RY'\n",
      "  True: '3905RY'\n",
      "  Pred: 'CY9496'\n",
      "  True: 'CY9496'\n",
      "  Pred: '7376HF'\n",
      "  True: '7376HF'\n",
      "  Pred: '8676FX'\n",
      "  True: 'B67CFX'\n",
      "  Pred: '7263KT'\n",
      "  True: '7263KT'\n",
      "-------------------------------\n"
     ]
    },
    {
     "name": "stderr",
     "output_type": "stream",
     "text": [
      "Epoch 23/100 [TRAIN] LR: 4.99e-04 Teach: 0.56 Scheduler: OneCycleLR: 100%|██████████| 42/42 [01:00<00:00,  1.44s/it, loss=0.824]\n",
      "Epoch 23/100 [VAL]: 100%|██████████| 22/22 [00:32<00:00,  1.48s/it, loss=0.887]\n"
     ]
    },
    {
     "name": "stdout",
     "output_type": "stream",
     "text": [
      "EarlyStopping: New best val_acc: 0.9887\n",
      "\n",
      "Epoch 23/100 | LR: 4.98e-04 | Teach: 0.56 | Scheduler: OneCycleLR\n",
      "  Train Loss: 0.8544 | Train Char Acc: 0.9758\n",
      "  Val Loss: 0.8196   | Val Acc (CRR): 0.9887\n",
      "  Val Exact Match Acc (E2E RR): 0.9427\n",
      "----------------------------------------------------------------------\n",
      "*** New best validation accuracy: 0.9887. Saving best_model.pth ***\n"
     ]
    },
    {
     "name": "stderr",
     "output_type": "stream",
     "text": [
      "Epoch 24/100 [TRAIN] LR: 4.98e-04 Teach: 0.55 Scheduler: OneCycleLR:   2%|▏         | 1/42 [00:05<03:56,  5.76s/it, loss=0.856]"
     ]
    },
    {
     "name": "stdout",
     "output_type": "stream",
     "text": [
      "\n",
      "--- Training Batch 0 Examples (Content Only) ---\n",
      "  Pred: '6A9141'\n",
      "  True: '6A9141'\n",
      "  Pred: '3592FL'\n",
      "  True: '3592FL'\n",
      "  Pred: '2Q2528'\n",
      "  True: '2Q2528'\n",
      "  Pred: '0127QG'\n",
      "  True: '0127QG'\n",
      "  Pred: '4636DK'\n",
      "  True: '4636DK'\n",
      "-------------------------------\n"
     ]
    },
    {
     "name": "stderr",
     "output_type": "stream",
     "text": [
      "Epoch 24/100 [TRAIN] LR: 4.98e-04 Teach: 0.55 Scheduler: OneCycleLR: 100%|██████████| 42/42 [01:00<00:00,  1.44s/it, loss=0.846]\n",
      "Epoch 24/100 [VAL]: 100%|██████████| 22/22 [00:32<00:00,  1.47s/it, loss=0.882]\n"
     ]
    },
    {
     "name": "stdout",
     "output_type": "stream",
     "text": [
      "EarlyStopping counter: 1/20 (Best val_acc: 0.9887)\n",
      "\n",
      "Epoch 24/100 | LR: 4.97e-04 | Teach: 0.55 | Scheduler: OneCycleLR\n",
      "  Train Loss: 0.8475 | Train Char Acc: 0.9768\n",
      "  Val Loss: 0.8125   | Val Acc (CRR): 0.9856\n",
      "  Val Exact Match Acc (E2E RR): 0.9280\n",
      "----------------------------------------------------------------------\n"
     ]
    },
    {
     "name": "stderr",
     "output_type": "stream",
     "text": [
      "Epoch 25/100 [TRAIN] LR: 4.97e-04 Teach: 0.54 Scheduler: OneCycleLR:   2%|▏         | 1/42 [00:05<03:56,  5.78s/it, loss=0.85]"
     ]
    },
    {
     "name": "stdout",
     "output_type": "stream",
     "text": [
      "\n",
      "--- Training Batch 0 Examples (Content Only) ---\n",
      "  Pred: '7783VB'\n",
      "  True: '7783VB'\n",
      "  Pred: '7622RZ'\n",
      "  True: '7622RZ'\n",
      "  Pred: '7D1957'\n",
      "  True: '7D1957'\n",
      "  Pred: 'HL4408'\n",
      "  True: 'HL4408'\n",
      "  Pred: '9318VE'\n",
      "  True: '9318VE'\n",
      "-------------------------------\n"
     ]
    },
    {
     "name": "stderr",
     "output_type": "stream",
     "text": [
      "Epoch 25/100 [TRAIN] LR: 4.97e-04 Teach: 0.54 Scheduler: OneCycleLR: 100%|██████████| 42/42 [01:00<00:00,  1.45s/it, loss=0.796]\n",
      "Epoch 25/100 [VAL]: 100%|██████████| 22/22 [00:32<00:00,  1.46s/it, loss=0.861]\n"
     ]
    },
    {
     "name": "stdout",
     "output_type": "stream",
     "text": [
      "EarlyStopping counter: 2/20 (Best val_acc: 0.9887)\n",
      "\n",
      "Epoch 25/100 | LR: 4.95e-04 | Teach: 0.54 | Scheduler: OneCycleLR\n",
      "  Train Loss: 0.8333 | Train Char Acc: 0.9824\n",
      "  Val Loss: 0.8043   | Val Acc (CRR): 0.9890\n",
      "  Val Exact Match Acc (E2E RR): 0.9442\n",
      "----------------------------------------------------------------------\n",
      "*** New best validation accuracy: 0.9890. Saving best_model.pth ***\n"
     ]
    },
    {
     "name": "stderr",
     "output_type": "stream",
     "text": [
      "Epoch 26/100 [TRAIN] LR: 4.95e-04 Teach: 0.54 Scheduler: OneCycleLR:   2%|▏         | 1/42 [00:05<03:50,  5.63s/it, loss=0.86]"
     ]
    },
    {
     "name": "stdout",
     "output_type": "stream",
     "text": [
      "\n",
      "--- Training Batch 0 Examples (Content Only) ---\n",
      "  Pred: 'CV6908'\n",
      "  True: 'CV6908'\n",
      "  Pred: '6831QJ'\n",
      "  True: '6831QJ'\n",
      "  Pred: '9553KD'\n",
      "  True: '9553KD'\n",
      "  Pred: 'N30897'\n",
      "  True: 'N30897'\n",
      "  Pred: '3203KT'\n",
      "  True: '3203KT'\n",
      "-------------------------------\n"
     ]
    },
    {
     "name": "stderr",
     "output_type": "stream",
     "text": [
      "Epoch 26/100 [TRAIN] LR: 4.95e-04 Teach: 0.54 Scheduler: OneCycleLR: 100%|██████████| 42/42 [01:00<00:00,  1.44s/it, loss=0.826]\n",
      "Epoch 26/100 [VAL]: 100%|██████████| 22/22 [00:32<00:00,  1.48s/it, loss=0.874]\n"
     ]
    },
    {
     "name": "stdout",
     "output_type": "stream",
     "text": [
      "EarlyStopping counter: 3/20 (Best val_acc: 0.9887)\n",
      "\n",
      "Epoch 26/100 | LR: 4.93e-04 | Teach: 0.54 | Scheduler: OneCycleLR\n",
      "  Train Loss: 0.8395 | Train Char Acc: 0.9779\n",
      "  Val Loss: 0.8096   | Val Acc (CRR): 0.9882\n",
      "  Val Exact Match Acc (E2E RR): 0.9369\n",
      "----------------------------------------------------------------------\n"
     ]
    },
    {
     "name": "stderr",
     "output_type": "stream",
     "text": [
      "Epoch 27/100 [TRAIN] LR: 4.93e-04 Teach: 0.53 Scheduler: OneCycleLR:   2%|▏         | 1/42 [00:06<04:18,  6.31s/it, loss=0.784]"
     ]
    },
    {
     "name": "stdout",
     "output_type": "stream",
     "text": [
      "\n",
      "--- Training Batch 0 Examples (Content Only) ---\n",
      "  Pred: '4932QX'\n",
      "  True: '4932QX'\n",
      "  Pred: 'CN9139'\n",
      "  True: 'CN9139'\n",
      "  Pred: '6122QU'\n",
      "  True: '6122QU'\n",
      "  Pred: 'L48379'\n",
      "  True: 'L48379'\n",
      "  Pred: '2257JT'\n",
      "  True: '2257JT'\n",
      "-------------------------------\n"
     ]
    },
    {
     "name": "stderr",
     "output_type": "stream",
     "text": [
      "Epoch 27/100 [TRAIN] LR: 4.93e-04 Teach: 0.53 Scheduler: OneCycleLR: 100%|██████████| 42/42 [01:00<00:00,  1.45s/it, loss=0.834]\n",
      "Epoch 27/100 [VAL]: 100%|██████████| 22/22 [00:32<00:00,  1.47s/it, loss=0.845]\n"
     ]
    },
    {
     "name": "stdout",
     "output_type": "stream",
     "text": [
      "EarlyStopping: New best val_acc: 0.9900\n",
      "\n",
      "Epoch 27/100 | LR: 4.90e-04 | Teach: 0.53 | Scheduler: OneCycleLR\n",
      "  Train Loss: 0.8362 | Train Char Acc: 0.9778\n",
      "  Val Loss: 0.7922   | Val Acc (CRR): 0.9900\n",
      "  Val Exact Match Acc (E2E RR): 0.9471\n",
      "----------------------------------------------------------------------\n",
      "*** New best validation accuracy: 0.9900. Saving best_model.pth ***\n"
     ]
    },
    {
     "name": "stderr",
     "output_type": "stream",
     "text": [
      "Epoch 28/100 [TRAIN] LR: 4.90e-04 Teach: 0.52 Scheduler: OneCycleLR:   2%|▏         | 1/42 [00:05<03:50,  5.63s/it, loss=0.798]"
     ]
    },
    {
     "name": "stdout",
     "output_type": "stream",
     "text": [
      "\n",
      "--- Training Batch 0 Examples (Content Only) ---\n",
      "  Pred: '9493HM'\n",
      "  True: '9493HM'\n",
      "  Pred: 'CF5225'\n",
      "  True: 'CF5225'\n",
      "  Pred: '2E6319'\n",
      "  True: '2E5319'\n",
      "  Pred: '7367ZR'\n",
      "  True: '7367ZR'\n",
      "  Pred: '3677FM'\n",
      "  True: '3677FM'\n",
      "-------------------------------\n"
     ]
    },
    {
     "name": "stderr",
     "output_type": "stream",
     "text": [
      "Epoch 28/100 [TRAIN] LR: 4.90e-04 Teach: 0.52 Scheduler: OneCycleLR: 100%|██████████| 42/42 [01:00<00:00,  1.45s/it, loss=0.844]\n",
      "Epoch 28/100 [VAL]: 100%|██████████| 22/22 [00:32<00:00,  1.46s/it, loss=0.83]\n"
     ]
    },
    {
     "name": "stdout",
     "output_type": "stream",
     "text": [
      "EarlyStopping: New best val_acc: 0.9907\n",
      "\n",
      "Epoch 28/100 | LR: 4.88e-04 | Teach: 0.52 | Scheduler: OneCycleLR\n",
      "  Train Loss: 0.8242 | Train Char Acc: 0.9803\n",
      "  Val Loss: 0.7906   | Val Acc (CRR): 0.9907\n",
      "  Val Exact Match Acc (E2E RR): 0.9501\n",
      "----------------------------------------------------------------------\n",
      "*** New best validation accuracy: 0.9907. Saving best_model.pth ***\n"
     ]
    },
    {
     "name": "stderr",
     "output_type": "stream",
     "text": [
      "Epoch 29/100 [TRAIN] LR: 4.88e-04 Teach: 0.52 Scheduler: OneCycleLR:   2%|▏         | 1/42 [00:05<03:50,  5.62s/it, loss=0.834]"
     ]
    },
    {
     "name": "stdout",
     "output_type": "stream",
     "text": [
      "\n",
      "--- Training Batch 0 Examples (Content Only) ---\n",
      "  Pred: 'KY3657'\n",
      "  True: 'NY3657'\n",
      "  Pred: '2208DW'\n",
      "  True: '2208DW'\n",
      "  Pred: '8A1009'\n",
      "  True: '8A1085'\n",
      "  Pred: 'K86721'\n",
      "  True: 'K86721'\n",
      "  Pred: '2E3345'\n",
      "  True: '2E3345'\n",
      "-------------------------------\n"
     ]
    },
    {
     "name": "stderr",
     "output_type": "stream",
     "text": [
      "Epoch 29/100 [TRAIN] LR: 4.88e-04 Teach: 0.52 Scheduler: OneCycleLR: 100%|██████████| 42/42 [01:00<00:00,  1.44s/it, loss=0.801]\n",
      "Epoch 29/100 [VAL]: 100%|██████████| 22/22 [00:32<00:00,  1.47s/it, loss=0.837]\n"
     ]
    },
    {
     "name": "stdout",
     "output_type": "stream",
     "text": [
      "EarlyStopping counter: 1/20 (Best val_acc: 0.9907)\n",
      "\n",
      "Epoch 29/100 | LR: 4.84e-04 | Teach: 0.52 | Scheduler: OneCycleLR\n",
      "  Train Loss: 0.8174 | Train Char Acc: 0.9835\n",
      "  Val Loss: 0.7854   | Val Acc (CRR): 0.9892\n",
      "  Val Exact Match Acc (E2E RR): 0.9442\n",
      "----------------------------------------------------------------------\n"
     ]
    },
    {
     "name": "stderr",
     "output_type": "stream",
     "text": [
      "Epoch 30/100 [TRAIN] LR: 4.84e-04 Teach: 0.51 Scheduler: OneCycleLR:   2%|▏         | 1/42 [00:05<03:58,  5.82s/it, loss=0.805]"
     ]
    },
    {
     "name": "stdout",
     "output_type": "stream",
     "text": [
      "\n",
      "--- Training Batch 0 Examples (Content Only) ---\n",
      "  Pred: 'RV6252'\n",
      "  True: 'RV6252'\n",
      "  Pred: 'CU4875'\n",
      "  True: 'CU4875'\n",
      "  Pred: 'HZ0848'\n",
      "  True: 'HZ0848'\n",
      "  Pred: '0622QE'\n",
      "  True: '0622QE'\n",
      "  Pred: '1264D6'\n",
      "  True: 'T26406'\n",
      "-------------------------------\n"
     ]
    },
    {
     "name": "stderr",
     "output_type": "stream",
     "text": [
      "Epoch 30/100 [TRAIN] LR: 4.84e-04 Teach: 0.51 Scheduler: OneCycleLR: 100%|██████████| 42/42 [01:00<00:00,  1.44s/it, loss=0.779]\n",
      "Epoch 30/100 [VAL]: 100%|██████████| 22/22 [00:32<00:00,  1.46s/it, loss=0.836]\n"
     ]
    },
    {
     "name": "stdout",
     "output_type": "stream",
     "text": [
      "EarlyStopping counter: 2/20 (Best val_acc: 0.9907)\n",
      "\n",
      "Epoch 30/100 | LR: 4.81e-04 | Teach: 0.51 | Scheduler: OneCycleLR\n",
      "  Train Loss: 0.8180 | Train Char Acc: 0.9803\n",
      "  Val Loss: 0.7820   | Val Acc (CRR): 0.9892\n",
      "  Val Exact Match Acc (E2E RR): 0.9486\n",
      "----------------------------------------------------------------------\n"
     ]
    },
    {
     "name": "stderr",
     "output_type": "stream",
     "text": [
      "Epoch 31/100 [TRAIN] LR: 4.81e-04 Teach: 0.50 Scheduler: OneCycleLR:   2%|▏         | 1/42 [00:05<03:50,  5.63s/it, loss=0.789]"
     ]
    },
    {
     "name": "stdout",
     "output_type": "stream",
     "text": [
      "\n",
      "--- Training Batch 0 Examples (Content Only) ---\n",
      "  Pred: '2516RH'\n",
      "  True: '2516RH'\n",
      "  Pred: '9511DZ'\n",
      "  True: '9511DZ'\n",
      "  Pred: '7G1333'\n",
      "  True: '7G1333'\n",
      "  Pred: 'HY6571'\n",
      "  True: 'HY6571'\n",
      "  Pred: '2193DU'\n",
      "  True: '2193DU'\n",
      "-------------------------------\n"
     ]
    },
    {
     "name": "stderr",
     "output_type": "stream",
     "text": [
      "Epoch 31/100 [TRAIN] LR: 4.81e-04 Teach: 0.50 Scheduler: OneCycleLR: 100%|██████████| 42/42 [01:00<00:00,  1.44s/it, loss=0.822]\n",
      "Epoch 31/100 [VAL]: 100%|██████████| 22/22 [00:32<00:00,  1.47s/it, loss=0.854]\n"
     ]
    },
    {
     "name": "stdout",
     "output_type": "stream",
     "text": [
      "EarlyStopping counter: 3/20 (Best val_acc: 0.9907)\n",
      "\n",
      "Epoch 31/100 | LR: 4.77e-04 | Teach: 0.50 | Scheduler: OneCycleLR\n",
      "  Train Loss: 0.8045 | Train Char Acc: 0.9850\n",
      "  Val Loss: 0.7820   | Val Acc (CRR): 0.9897\n",
      "  Val Exact Match Acc (E2E RR): 0.9427\n",
      "----------------------------------------------------------------------\n"
     ]
    },
    {
     "name": "stderr",
     "output_type": "stream",
     "text": [
      "Epoch 32/100 [TRAIN] LR: 4.77e-04 Teach: 0.50 Scheduler: OneCycleLR:   2%|▏         | 1/42 [00:06<04:09,  6.08s/it, loss=0.794]"
     ]
    },
    {
     "name": "stdout",
     "output_type": "stream",
     "text": [
      "\n",
      "--- Training Batch 0 Examples (Content Only) ---\n",
      "  Pred: '8T0658'\n",
      "  True: '8T0658'\n",
      "  Pred: '7528VR'\n",
      "  True: '7528VR'\n",
      "  Pred: 'RW3066'\n",
      "  True: 'RW3066'\n",
      "  Pred: 'CY7655'\n",
      "  True: 'CY7655'\n",
      "  Pred: 'L48379'\n",
      "  True: 'L48379'\n",
      "-------------------------------\n"
     ]
    },
    {
     "name": "stderr",
     "output_type": "stream",
     "text": [
      "Epoch 32/100 [TRAIN] LR: 4.77e-04 Teach: 0.50 Scheduler: OneCycleLR: 100%|██████████| 42/42 [01:00<00:00,  1.45s/it, loss=0.837]\n",
      "Epoch 32/100 [VAL]: 100%|██████████| 22/22 [00:32<00:00,  1.47s/it, loss=0.823]\n"
     ]
    },
    {
     "name": "stdout",
     "output_type": "stream",
     "text": [
      "EarlyStopping counter: 4/20 (Best val_acc: 0.9907)\n",
      "\n",
      "Epoch 32/100 | LR: 4.73e-04 | Teach: 0.50 | Scheduler: OneCycleLR\n",
      "  Train Loss: 0.8094 | Train Char Acc: 0.9821\n",
      "  Val Loss: 0.7727   | Val Acc (CRR): 0.9875\n",
      "  Val Exact Match Acc (E2E RR): 0.9413\n",
      "----------------------------------------------------------------------\n"
     ]
    },
    {
     "name": "stderr",
     "output_type": "stream",
     "text": [
      "Epoch 33/100 [TRAIN] LR: 4.73e-04 Teach: 0.49 Scheduler: OneCycleLR:   2%|▏         | 1/42 [00:05<03:32,  5.19s/it, loss=0.865]"
     ]
    },
    {
     "name": "stdout",
     "output_type": "stream",
     "text": [
      "\n",
      "--- Training Batch 0 Examples (Content Only) ---\n",
      "  Pred: '8D7829'\n",
      "  True: '8D7829'\n",
      "  Pred: '9R0810'\n",
      "  True: '9R0810'\n",
      "  Pred: '6687PH'\n",
      "  True: '6587QE'\n",
      "  Pred: '8962ED'\n",
      "  True: '8962ED'\n",
      "  Pred: '7425EU'\n",
      "  True: '7425EU'\n",
      "-------------------------------\n"
     ]
    },
    {
     "name": "stderr",
     "output_type": "stream",
     "text": [
      "Epoch 33/100 [TRAIN] LR: 4.73e-04 Teach: 0.49 Scheduler: OneCycleLR: 100%|██████████| 42/42 [00:59<00:00,  1.42s/it, loss=0.773]\n",
      "Epoch 33/100 [VAL]: 100%|██████████| 22/22 [00:32<00:00,  1.48s/it, loss=0.853]\n"
     ]
    },
    {
     "name": "stdout",
     "output_type": "stream",
     "text": [
      "EarlyStopping counter: 5/20 (Best val_acc: 0.9907)\n",
      "\n",
      "Epoch 33/100 | LR: 4.68e-04 | Teach: 0.49 | Scheduler: OneCycleLR\n",
      "  Train Loss: 0.8059 | Train Char Acc: 0.9816\n",
      "  Val Loss: 0.7822   | Val Acc (CRR): 0.9907\n",
      "  Val Exact Match Acc (E2E RR): 0.9530\n",
      "----------------------------------------------------------------------\n"
     ]
    },
    {
     "name": "stderr",
     "output_type": "stream",
     "text": [
      "Epoch 34/100 [TRAIN] LR: 4.68e-04 Teach: 0.48 Scheduler: OneCycleLR:   2%|▏         | 1/42 [00:05<03:28,  5.07s/it, loss=0.774]"
     ]
    },
    {
     "name": "stdout",
     "output_type": "stream",
     "text": [
      "\n",
      "--- Training Batch 0 Examples (Content Only) ---\n",
      "  Pred: 'BT3933'\n",
      "  True: 'BT3933'\n",
      "  Pred: '1329HA'\n",
      "  True: '1329HA'\n",
      "  Pred: '1866EB'\n",
      "  True: '1866EB'\n",
      "  Pred: 'Y86953'\n",
      "  True: 'Y86953'\n",
      "  Pred: '9G1582'\n",
      "  True: '9G1582'\n",
      "-------------------------------\n"
     ]
    },
    {
     "name": "stderr",
     "output_type": "stream",
     "text": [
      "Epoch 34/100 [TRAIN] LR: 4.68e-04 Teach: 0.48 Scheduler: OneCycleLR: 100%|██████████| 42/42 [00:59<00:00,  1.42s/it, loss=0.799]\n",
      "Epoch 34/100 [VAL]: 100%|██████████| 22/22 [00:32<00:00,  1.47s/it, loss=0.842]\n"
     ]
    },
    {
     "name": "stdout",
     "output_type": "stream",
     "text": [
      "EarlyStopping counter: 6/20 (Best val_acc: 0.9907)\n",
      "\n",
      "Epoch 34/100 | LR: 4.63e-04 | Teach: 0.48 | Scheduler: OneCycleLR\n",
      "  Train Loss: 0.8003 | Train Char Acc: 0.9844\n",
      "  Val Loss: 0.7749   | Val Acc (CRR): 0.9895\n",
      "  Val Exact Match Acc (E2E RR): 0.9515\n",
      "----------------------------------------------------------------------\n"
     ]
    },
    {
     "name": "stderr",
     "output_type": "stream",
     "text": [
      "Epoch 35/100 [TRAIN] LR: 4.63e-04 Teach: 0.48 Scheduler: OneCycleLR:   2%|▏         | 1/42 [00:06<04:20,  6.35s/it, loss=0.799]"
     ]
    },
    {
     "name": "stdout",
     "output_type": "stream",
     "text": [
      "\n",
      "--- Training Batch 0 Examples (Content Only) ---\n",
      "  Pred: '7197QM'\n",
      "  True: '7197QM'\n",
      "  Pred: '5325TM'\n",
      "  True: '5325TM'\n",
      "  Pred: '6931EM'\n",
      "  True: '6931EM'\n",
      "  Pred: '9C1280'\n",
      "  True: '9C1280'\n",
      "  Pred: '3876NN'\n",
      "  True: '3876NN'\n",
      "-------------------------------\n"
     ]
    },
    {
     "name": "stderr",
     "output_type": "stream",
     "text": [
      "Epoch 35/100 [TRAIN] LR: 4.63e-04 Teach: 0.48 Scheduler: OneCycleLR: 100%|██████████| 42/42 [01:01<00:00,  1.46s/it, loss=0.78]\n",
      "Epoch 35/100 [VAL]: 100%|██████████| 22/22 [00:32<00:00,  1.48s/it, loss=0.875]\n"
     ]
    },
    {
     "name": "stdout",
     "output_type": "stream",
     "text": [
      "EarlyStopping counter: 7/20 (Best val_acc: 0.9907)\n",
      "\n",
      "Epoch 35/100 | LR: 4.58e-04 | Teach: 0.48 | Scheduler: OneCycleLR\n",
      "  Train Loss: 0.7888 | Train Char Acc: 0.9869\n",
      "  Val Loss: 0.7724   | Val Acc (CRR): 0.9897\n",
      "  Val Exact Match Acc (E2E RR): 0.9486\n",
      "----------------------------------------------------------------------\n"
     ]
    },
    {
     "name": "stderr",
     "output_type": "stream",
     "text": [
      "Epoch 36/100 [TRAIN] LR: 4.58e-04 Teach: 0.47 Scheduler: OneCycleLR:   2%|▏         | 1/42 [00:06<04:22,  6.40s/it, loss=0.76]"
     ]
    },
    {
     "name": "stdout",
     "output_type": "stream",
     "text": [
      "\n",
      "--- Training Batch 0 Examples (Content Only) ---\n",
      "  Pred: '1985GW'\n",
      "  True: '1985GW'\n",
      "  Pred: '6C3028'\n",
      "  True: '6C3028'\n",
      "  Pred: '7397GV'\n",
      "  True: '7397GV'\n",
      "  Pred: '1C0906'\n",
      "  True: '1C0906'\n",
      "  Pred: '5R9523'\n",
      "  True: '5R9523'\n",
      "-------------------------------\n"
     ]
    },
    {
     "name": "stderr",
     "output_type": "stream",
     "text": [
      "Epoch 36/100 [TRAIN] LR: 4.58e-04 Teach: 0.47 Scheduler: OneCycleLR: 100%|██████████| 42/42 [01:01<00:00,  1.46s/it, loss=0.798]\n",
      "Epoch 36/100 [VAL]: 100%|██████████| 22/22 [00:32<00:00,  1.48s/it, loss=0.862]\n"
     ]
    },
    {
     "name": "stdout",
     "output_type": "stream",
     "text": [
      "EarlyStopping counter: 8/20 (Best val_acc: 0.9907)\n",
      "\n",
      "Epoch 36/100 | LR: 4.52e-04 | Teach: 0.47 | Scheduler: OneCycleLR\n",
      "  Train Loss: 0.7886 | Train Char Acc: 0.9877\n",
      "  Val Loss: 0.7740   | Val Acc (CRR): 0.9882\n",
      "  Val Exact Match Acc (E2E RR): 0.9471\n",
      "----------------------------------------------------------------------\n"
     ]
    },
    {
     "name": "stderr",
     "output_type": "stream",
     "text": [
      "Epoch 37/100 [TRAIN] LR: 4.52e-04 Teach: 0.46 Scheduler: OneCycleLR:   2%|▏         | 1/42 [00:05<04:03,  5.94s/it, loss=0.771]"
     ]
    },
    {
     "name": "stdout",
     "output_type": "stream",
     "text": [
      "\n",
      "--- Training Batch 0 Examples (Content Only) ---\n",
      "  Pred: '8A6893'\n",
      "  True: '8A6893'\n",
      "  Pred: '8D7829'\n",
      "  True: '8D7829'\n",
      "  Pred: '5866DT'\n",
      "  True: '5866DT'\n",
      "  Pred: 'AN3348'\n",
      "  True: 'AN3348'\n",
      "  Pred: 'C59631'\n",
      "  True: 'C59631'\n",
      "-------------------------------\n"
     ]
    },
    {
     "name": "stderr",
     "output_type": "stream",
     "text": [
      "Epoch 37/100 [TRAIN] LR: 4.52e-04 Teach: 0.46 Scheduler: OneCycleLR: 100%|██████████| 42/42 [01:00<00:00,  1.45s/it, loss=0.835]\n",
      "Epoch 37/100 [VAL]: 100%|██████████| 22/22 [00:32<00:00,  1.47s/it, loss=0.816]\n"
     ]
    },
    {
     "name": "stdout",
     "output_type": "stream",
     "text": [
      "EarlyStopping counter: 9/20 (Best val_acc: 0.9907)\n",
      "\n",
      "Epoch 37/100 | LR: 4.46e-04 | Teach: 0.46 | Scheduler: OneCycleLR\n",
      "  Train Loss: 0.7969 | Train Char Acc: 0.9815\n",
      "  Val Loss: 0.7667   | Val Acc (CRR): 0.9897\n",
      "  Val Exact Match Acc (E2E RR): 0.9486\n",
      "----------------------------------------------------------------------\n"
     ]
    },
    {
     "name": "stderr",
     "output_type": "stream",
     "text": [
      "Epoch 38/100 [TRAIN] LR: 4.46e-04 Teach: 0.46 Scheduler: OneCycleLR:   2%|▏         | 1/42 [00:06<04:15,  6.22s/it, loss=0.752]"
     ]
    },
    {
     "name": "stdout",
     "output_type": "stream",
     "text": [
      "\n",
      "--- Training Batch 0 Examples (Content Only) ---\n",
      "  Pred: '2808XX'\n",
      "  True: '2808XX'\n",
      "  Pred: '8160ET'\n",
      "  True: '8160ET'\n",
      "  Pred: '6V4536'\n",
      "  True: '6V4536'\n",
      "  Pred: '3980LC'\n",
      "  True: '3980LC'\n",
      "  Pred: 'EW9246'\n",
      "  True: 'EW9246'\n",
      "-------------------------------\n"
     ]
    },
    {
     "name": "stderr",
     "output_type": "stream",
     "text": [
      "Epoch 38/100 [TRAIN] LR: 4.46e-04 Teach: 0.46 Scheduler: OneCycleLR: 100%|██████████| 42/42 [01:00<00:00,  1.45s/it, loss=0.823]\n",
      "Epoch 38/100 [VAL]: 100%|██████████| 22/22 [00:32<00:00,  1.48s/it, loss=0.854]\n"
     ]
    },
    {
     "name": "stdout",
     "output_type": "stream",
     "text": [
      "EarlyStopping counter: 10/20 (Best val_acc: 0.9907)\n",
      "\n",
      "Epoch 38/100 | LR: 4.40e-04 | Teach: 0.46 | Scheduler: OneCycleLR\n",
      "  Train Loss: 0.7883 | Train Char Acc: 0.9854\n",
      "  Val Loss: 0.7740   | Val Acc (CRR): 0.9887\n",
      "  Val Exact Match Acc (E2E RR): 0.9442\n",
      "----------------------------------------------------------------------\n"
     ]
    },
    {
     "name": "stderr",
     "output_type": "stream",
     "text": [
      "Epoch 39/100 [TRAIN] LR: 4.40e-04 Teach: 0.45 Scheduler: OneCycleLR:   2%|▏         | 1/42 [00:05<04:03,  5.94s/it, loss=0.785]"
     ]
    },
    {
     "name": "stdout",
     "output_type": "stream",
     "text": [
      "\n",
      "--- Training Batch 0 Examples (Content Only) ---\n",
      "  Pred: '5A8896'\n",
      "  True: '5A8896'\n",
      "  Pred: '6757KH'\n",
      "  True: '6757KH'\n",
      "  Pred: '1471DV'\n",
      "  True: '1471DV'\n",
      "  Pred: '5871HJ'\n",
      "  True: '5871HJ'\n",
      "  Pred: '5412YS'\n",
      "  True: '5412YS'\n",
      "-------------------------------\n"
     ]
    },
    {
     "name": "stderr",
     "output_type": "stream",
     "text": [
      "Epoch 39/100 [TRAIN] LR: 4.40e-04 Teach: 0.45 Scheduler: OneCycleLR: 100%|██████████| 42/42 [01:00<00:00,  1.44s/it, loss=0.764]\n",
      "Epoch 39/100 [VAL]: 100%|██████████| 22/22 [00:32<00:00,  1.49s/it, loss=0.846]\n"
     ]
    },
    {
     "name": "stdout",
     "output_type": "stream",
     "text": [
      "EarlyStopping counter: 11/20 (Best val_acc: 0.9907)\n",
      "\n",
      "Epoch 39/100 | LR: 4.33e-04 | Teach: 0.45 | Scheduler: OneCycleLR\n",
      "  Train Loss: 0.7794 | Train Char Acc: 0.9873\n",
      "  Val Loss: 0.7694   | Val Acc (CRR): 0.9895\n",
      "  Val Exact Match Acc (E2E RR): 0.9545\n",
      "----------------------------------------------------------------------\n"
     ]
    },
    {
     "name": "stderr",
     "output_type": "stream",
     "text": [
      "Epoch 40/100 [TRAIN] LR: 4.33e-04 Teach: 0.44 Scheduler: OneCycleLR:   2%|▏         | 1/42 [00:06<04:28,  6.55s/it, loss=0.783]"
     ]
    },
    {
     "name": "stdout",
     "output_type": "stream",
     "text": [
      "\n",
      "--- Training Batch 0 Examples (Content Only) ---\n",
      "  Pred: '3391UW'\n",
      "  True: '3391UW'\n",
      "  Pred: 'RU9932'\n",
      "  True: 'RU9932'\n",
      "  Pred: 'YN7539'\n",
      "  True: 'YN7539'\n",
      "  Pred: 'G26178'\n",
      "  True: 'G26178'\n",
      "  Pred: '2170EM'\n",
      "  True: '2170EM'\n",
      "-------------------------------\n"
     ]
    },
    {
     "name": "stderr",
     "output_type": "stream",
     "text": [
      "Epoch 40/100 [TRAIN] LR: 4.33e-04 Teach: 0.44 Scheduler: OneCycleLR: 100%|██████████| 42/42 [01:01<00:00,  1.46s/it, loss=0.799]\n",
      "Epoch 40/100 [VAL]: 100%|██████████| 22/22 [00:32<00:00,  1.46s/it, loss=0.843]\n"
     ]
    },
    {
     "name": "stdout",
     "output_type": "stream",
     "text": [
      "EarlyStopping counter: 12/20 (Best val_acc: 0.9907)\n",
      "\n",
      "Epoch 40/100 | LR: 4.26e-04 | Teach: 0.44 | Scheduler: OneCycleLR\n",
      "  Train Loss: 0.7851 | Train Char Acc: 0.9844\n",
      "  Val Loss: 0.7830   | Val Acc (CRR): 0.9887\n",
      "  Val Exact Match Acc (E2E RR): 0.9442\n",
      "----------------------------------------------------------------------\n"
     ]
    },
    {
     "name": "stderr",
     "output_type": "stream",
     "text": [
      "Epoch 41/100 [TRAIN] LR: 4.26e-04 Teach: 0.44 Scheduler: OneCycleLR:   2%|▏         | 1/42 [00:06<04:15,  6.24s/it, loss=0.759]"
     ]
    },
    {
     "name": "stdout",
     "output_type": "stream",
     "text": [
      "\n",
      "--- Training Batch 0 Examples (Content Only) ---\n",
      "  Pred: '7456TH'\n",
      "  True: '7456TH'\n",
      "  Pred: 'DE3718'\n",
      "  True: 'DE3718'\n",
      "  Pred: '3079DF'\n",
      "  True: '3079DF'\n",
      "  Pred: '7617YM'\n",
      "  True: '7617YM'\n",
      "  Pred: '7987QH'\n",
      "  True: '7987QH'\n",
      "-------------------------------\n"
     ]
    },
    {
     "name": "stderr",
     "output_type": "stream",
     "text": [
      "Epoch 41/100 [TRAIN] LR: 4.26e-04 Teach: 0.44 Scheduler: OneCycleLR: 100%|██████████| 42/42 [01:01<00:00,  1.47s/it, loss=0.744]\n",
      "Epoch 41/100 [VAL]: 100%|██████████| 22/22 [00:32<00:00,  1.48s/it, loss=0.821]\n"
     ]
    },
    {
     "name": "stdout",
     "output_type": "stream",
     "text": [
      "EarlyStopping counter: 13/20 (Best val_acc: 0.9907)\n",
      "\n",
      "Epoch 41/100 | LR: 4.19e-04 | Teach: 0.44 | Scheduler: OneCycleLR\n",
      "  Train Loss: 0.7800 | Train Char Acc: 0.9872\n",
      "  Val Loss: 0.7592   | Val Acc (CRR): 0.9912\n",
      "  Val Exact Match Acc (E2E RR): 0.9545\n",
      "----------------------------------------------------------------------\n",
      "*** New best validation accuracy: 0.9912. Saving best_model.pth ***\n"
     ]
    },
    {
     "name": "stderr",
     "output_type": "stream",
     "text": [
      "Epoch 42/100 [TRAIN] LR: 4.19e-04 Teach: 0.43 Scheduler: OneCycleLR:   2%|▏         | 1/42 [00:05<04:05,  5.98s/it, loss=0.772]"
     ]
    },
    {
     "name": "stdout",
     "output_type": "stream",
     "text": [
      "\n",
      "--- Training Batch 0 Examples (Content Only) ---\n",
      "  Pred: '8312YQ'\n",
      "  True: '8312YQ'\n",
      "  Pred: 'CW9539'\n",
      "  True: 'CW9539'\n",
      "  Pred: 'DZ3456'\n",
      "  True: 'DZ3456'\n",
      "  Pred: 'L46261'\n",
      "  True: 'L46261'\n",
      "  Pred: '7939VJ'\n",
      "  True: '7939VJ'\n",
      "-------------------------------\n"
     ]
    },
    {
     "name": "stderr",
     "output_type": "stream",
     "text": [
      "Epoch 42/100 [TRAIN] LR: 4.19e-04 Teach: 0.43 Scheduler: OneCycleLR: 100%|██████████| 42/42 [01:00<00:00,  1.45s/it, loss=0.753]\n",
      "Epoch 42/100 [VAL]: 100%|██████████| 22/22 [00:32<00:00,  1.48s/it, loss=0.799]\n"
     ]
    },
    {
     "name": "stdout",
     "output_type": "stream",
     "text": [
      "EarlyStopping counter: 14/20 (Best val_acc: 0.9907)\n",
      "\n",
      "Epoch 42/100 | LR: 4.12e-04 | Teach: 0.43 | Scheduler: OneCycleLR\n",
      "  Train Loss: 0.7742 | Train Char Acc: 0.9882\n",
      "  Val Loss: 0.7587   | Val Acc (CRR): 0.9895\n",
      "  Val Exact Match Acc (E2E RR): 0.9486\n",
      "----------------------------------------------------------------------\n"
     ]
    },
    {
     "name": "stderr",
     "output_type": "stream",
     "text": [
      "Epoch 43/100 [TRAIN] LR: 4.12e-04 Teach: 0.42 Scheduler: OneCycleLR:   2%|▏         | 1/42 [00:05<04:03,  5.93s/it, loss=0.768]"
     ]
    },
    {
     "name": "stdout",
     "output_type": "stream",
     "text": [
      "\n",
      "--- Training Batch 0 Examples (Content Only) ---\n",
      "  Pred: 'DL2229'\n",
      "  True: 'DL2229'\n",
      "  Pred: 'CE5782'\n",
      "  True: 'CF5782'\n",
      "  Pred: '6757HH'\n",
      "  True: '6767KH'\n",
      "  Pred: '2715DK'\n",
      "  True: '2715DK'\n",
      "  Pred: 'RS5007'\n",
      "  True: 'RS5007'\n",
      "-------------------------------\n"
     ]
    },
    {
     "name": "stderr",
     "output_type": "stream",
     "text": [
      "Epoch 43/100 [TRAIN] LR: 4.12e-04 Teach: 0.42 Scheduler: OneCycleLR: 100%|██████████| 42/42 [01:00<00:00,  1.44s/it, loss=0.753]\n",
      "Epoch 43/100 [VAL]: 100%|██████████| 22/22 [00:32<00:00,  1.49s/it, loss=0.837]\n",
      "/usr/local/lib/python3.11/dist-packages/torch/optim/lr_scheduler.py:62: UserWarning: The verbose parameter is deprecated. Please use get_last_lr() to access the learning rate.\n",
      "  warnings.warn(\n"
     ]
    },
    {
     "name": "stdout",
     "output_type": "stream",
     "text": [
      "EarlyStopping counter: 15/20 (Best val_acc: 0.9907)\n",
      "Val Acc stalled for 20 epochs. Switching to ReduceLROnPlateau.\n",
      "\n",
      "Epoch 43/100 | LR: 4.04e-04 | Teach: 0.42 | Scheduler: ReduceLROnPlateau\n",
      "  Train Loss: 0.7702 | Train Char Acc: 0.9886\n",
      "  Val Loss: 0.7650   | Val Acc (CRR): 0.9892\n",
      "  Val Exact Match Acc (E2E RR): 0.9457\n",
      "----------------------------------------------------------------------\n"
     ]
    },
    {
     "name": "stderr",
     "output_type": "stream",
     "text": [
      "Epoch 44/100 [TRAIN] LR: 4.04e-04 Teach: 0.42 Scheduler: ReduceLROnPlateau:   2%|▏         | 1/42 [00:05<03:55,  5.75s/it, loss=0.768]"
     ]
    },
    {
     "name": "stdout",
     "output_type": "stream",
     "text": [
      "\n",
      "--- Training Batch 0 Examples (Content Only) ---\n",
      "  Pred: '2125YN'\n",
      "  True: '2125YN'\n",
      "  Pred: 'T26406'\n",
      "  True: 'T26406'\n",
      "  Pred: 'CU6416'\n",
      "  True: 'CU6416'\n",
      "  Pred: '7305VR'\n",
      "  True: '7305VP'\n",
      "  Pred: 'HU8107'\n",
      "  True: 'HU8107'\n",
      "-------------------------------\n"
     ]
    },
    {
     "name": "stderr",
     "output_type": "stream",
     "text": [
      "Epoch 44/100 [TRAIN] LR: 4.04e-04 Teach: 0.42 Scheduler: ReduceLROnPlateau: 100%|██████████| 42/42 [01:00<00:00,  1.44s/it, loss=0.758]\n",
      "Epoch 44/100 [VAL]: 100%|██████████| 22/22 [00:32<00:00,  1.48s/it, loss=0.836]\n"
     ]
    },
    {
     "name": "stdout",
     "output_type": "stream",
     "text": [
      "EarlyStopping counter: 16/20 (Best val_acc: 0.9907)\n",
      "\n",
      "Epoch 44/100 | LR: 4.04e-04 | Teach: 0.42 | Scheduler: ReduceLROnPlateau\n",
      "  Train Loss: 0.7664 | Train Char Acc: 0.9887\n",
      "  Val Loss: 0.7724   | Val Acc (CRR): 0.9897\n",
      "  Val Exact Match Acc (E2E RR): 0.9471\n",
      "----------------------------------------------------------------------\n"
     ]
    },
    {
     "name": "stderr",
     "output_type": "stream",
     "text": [
      "Epoch 45/100 [TRAIN] LR: 4.04e-04 Teach: 0.41 Scheduler: ReduceLROnPlateau:   2%|▏         | 1/42 [00:06<04:23,  6.42s/it, loss=0.764]"
     ]
    },
    {
     "name": "stdout",
     "output_type": "stream",
     "text": [
      "\n",
      "--- Training Batch 0 Examples (Content Only) ---\n",
      "  Pred: '5107DG'\n",
      "  True: '5107DG'\n",
      "  Pred: '2H0311'\n",
      "  True: '2H0311'\n",
      "  Pred: '6909DP'\n",
      "  True: '6909DP'\n",
      "  Pred: '2W5256'\n",
      "  True: '2W5256'\n",
      "  Pred: 'LE1187'\n",
      "  True: 'LE1187'\n",
      "-------------------------------\n"
     ]
    },
    {
     "name": "stderr",
     "output_type": "stream",
     "text": [
      "Epoch 45/100 [TRAIN] LR: 4.04e-04 Teach: 0.41 Scheduler: ReduceLROnPlateau: 100%|██████████| 42/42 [01:01<00:00,  1.45s/it, loss=0.784]\n",
      "Epoch 45/100 [VAL]: 100%|██████████| 22/22 [00:32<00:00,  1.47s/it, loss=0.821]\n"
     ]
    },
    {
     "name": "stdout",
     "output_type": "stream",
     "text": [
      "EarlyStopping counter: 17/20 (Best val_acc: 0.9907)\n",
      "\n",
      "Epoch 45/100 | LR: 4.04e-04 | Teach: 0.41 | Scheduler: ReduceLROnPlateau\n",
      "  Train Loss: 0.7633 | Train Char Acc: 0.9898\n",
      "  Val Loss: 0.7633   | Val Acc (CRR): 0.9900\n",
      "  Val Exact Match Acc (E2E RR): 0.9501\n",
      "----------------------------------------------------------------------\n"
     ]
    },
    {
     "name": "stderr",
     "output_type": "stream",
     "text": [
      "Epoch 46/100 [TRAIN] LR: 4.04e-04 Teach: 0.40 Scheduler: ReduceLROnPlateau:   2%|▏         | 1/42 [00:05<03:42,  5.42s/it, loss=0.765]"
     ]
    },
    {
     "name": "stdout",
     "output_type": "stream",
     "text": [
      "\n",
      "--- Training Batch 0 Examples (Content Only) ---\n",
      "  Pred: 'ES8855'\n",
      "  True: 'ES8855'\n",
      "  Pred: 'C28922'\n",
      "  True: 'C28922'\n",
      "  Pred: '7723VV'\n",
      "  True: '7723VV'\n",
      "  Pred: 'P97165'\n",
      "  True: 'P97165'\n",
      "  Pred: 'C59631'\n",
      "  True: 'C59631'\n",
      "-------------------------------\n"
     ]
    },
    {
     "name": "stderr",
     "output_type": "stream",
     "text": [
      "Epoch 46/100 [TRAIN] LR: 4.04e-04 Teach: 0.40 Scheduler: ReduceLROnPlateau: 100%|██████████| 42/42 [01:00<00:00,  1.43s/it, loss=0.755]\n",
      "Epoch 46/100 [VAL]: 100%|██████████| 22/22 [00:32<00:00,  1.47s/it, loss=0.849]\n"
     ]
    },
    {
     "name": "stdout",
     "output_type": "stream",
     "text": [
      "EarlyStopping counter: 18/20 (Best val_acc: 0.9907)\n",
      "\n",
      "Epoch 46/100 | LR: 4.04e-04 | Teach: 0.40 | Scheduler: ReduceLROnPlateau\n",
      "  Train Loss: 0.7645 | Train Char Acc: 0.9882\n",
      "  Val Loss: 0.7669   | Val Acc (CRR): 0.9905\n",
      "  Val Exact Match Acc (E2E RR): 0.9545\n",
      "----------------------------------------------------------------------\n"
     ]
    },
    {
     "name": "stderr",
     "output_type": "stream",
     "text": [
      "Epoch 47/100 [TRAIN] LR: 4.04e-04 Teach: 0.40 Scheduler: ReduceLROnPlateau:   2%|▏         | 1/42 [00:05<03:50,  5.62s/it, loss=0.786]"
     ]
    },
    {
     "name": "stdout",
     "output_type": "stream",
     "text": [
      "\n",
      "--- Training Batch 0 Examples (Content Only) ---\n",
      "  Pred: '8E2157'\n",
      "  True: 'BE2157'\n",
      "  Pred: '9560QD'\n",
      "  True: '9560QD'\n",
      "  Pred: 'D41400'\n",
      "  True: 'D41400'\n",
      "  Pred: 'C04525'\n",
      "  True: 'C04525'\n",
      "  Pred: 'NS7991'\n",
      "  True: 'NS7991'\n",
      "-------------------------------\n"
     ]
    },
    {
     "name": "stderr",
     "output_type": "stream",
     "text": [
      "Epoch 47/100 [TRAIN] LR: 4.04e-04 Teach: 0.40 Scheduler: ReduceLROnPlateau: 100%|██████████| 42/42 [01:00<00:00,  1.44s/it, loss=0.76]\n",
      "Epoch 47/100 [VAL]: 100%|██████████| 22/22 [00:32<00:00,  1.47s/it, loss=0.855]\n"
     ]
    },
    {
     "name": "stdout",
     "output_type": "stream",
     "text": [
      "EarlyStopping counter: 19/20 (Best val_acc: 0.9907)\n",
      "\n",
      "Epoch 47/100 | LR: 4.04e-04 | Teach: 0.40 | Scheduler: ReduceLROnPlateau\n",
      "  Train Loss: 0.7722 | Train Char Acc: 0.9875\n",
      "  Val Loss: 0.7665   | Val Acc (CRR): 0.9902\n",
      "  Val Exact Match Acc (E2E RR): 0.9486\n",
      "----------------------------------------------------------------------\n"
     ]
    },
    {
     "name": "stderr",
     "output_type": "stream",
     "text": [
      "Epoch 48/100 [TRAIN] LR: 4.04e-04 Teach: 0.39 Scheduler: ReduceLROnPlateau:   2%|▏         | 1/42 [00:05<03:45,  5.51s/it, loss=0.762]"
     ]
    },
    {
     "name": "stdout",
     "output_type": "stream",
     "text": [
      "\n",
      "--- Training Batch 0 Examples (Content Only) ---\n",
      "  Pred: '8609QH'\n",
      "  True: '8609QH'\n",
      "  Pred: 'NY3657'\n",
      "  True: 'NY3657'\n",
      "  Pred: '2538DC'\n",
      "  True: '2538DC'\n",
      "  Pred: '9493HM'\n",
      "  True: '9493HM'\n",
      "  Pred: '5E5548'\n",
      "  True: '5E5548'\n",
      "-------------------------------\n"
     ]
    },
    {
     "name": "stderr",
     "output_type": "stream",
     "text": [
      "Epoch 48/100 [TRAIN] LR: 4.04e-04 Teach: 0.39 Scheduler: ReduceLROnPlateau: 100%|██████████| 42/42 [01:00<00:00,  1.44s/it, loss=0.757]\n",
      "Epoch 48/100 [VAL]: 100%|██████████| 22/22 [00:32<00:00,  1.48s/it, loss=0.842]\n"
     ]
    },
    {
     "name": "stdout",
     "output_type": "stream",
     "text": [
      "EarlyStopping counter: 20/20 (Best val_acc: 0.9907)\n",
      "Early stopping triggered for val_acc.\n",
      "--> Early stopping at epoch 48\n",
      "\n",
      "Training completed!\n",
      "Final val accuracy (Greedy Character Level): 0.9907\n",
      "Final val accuracy (Constrained Length Exact Match): 0.9530\n"
     ]
    },
    {
     "data": {
      "image/png": "[encoded data removed]",
      "text/plain": [
       "<Figure size 1800x1200 with 2 Axes>"
      ]
     },
     "metadata": {},
     "output_type": "display_data"
    },
    {
     "name": "stdout",
     "output_type": "stream",
     "text": [
      "Saved plots to performance_plots.png\n"
     ]
    }
   ],
   "source": [
    "import torch\n",
    "import torch.nn as nn\n",
    "from ultralytics import YOLO\n",
    "from torch.nn import MultiheadAttention\n",
    "from torchvision import transforms\n",
    "from PIL import Image\n",
    "import random\n",
    "import os\n",
    "from torch.utils.data import Dataset, DataLoader, Sampler, Subset, SubsetRandomSampler\n",
    "import numpy as np\n",
    "from tqdm import tqdm\n",
    "import matplotlib.pyplot as plt\n",
    "from torchtoolbox.tools import mixup_data, mixup_criterion\n",
    "\n",
    "#--- Constants ---\n",
    "CHARACTERS = '0123456789ABCDEFGHIJKLMNOPQRSTUVWXYZ'\n",
    "SOS_TOKEN = 36\n",
    "EOS_TOKEN = 37\n",
    "PAD_TOKEN = len(CHARACTERS) + 2\n",
    "NUM_CLASSES = len(CHARACTERS) + 3  # SOS, EOS, PAD\n",
    "DEVICE = 'cuda' if torch.cuda.is_available() else 'cpu'\n",
    "\n",
    "#--- Utility functions ---\n",
    "def index_to_char(indices, include_special_tokens=False):\n",
    "    result = []\n",
    "    for i in indices:\n",
    "        i = i.item() if torch.is_tensor(i) else i\n",
    "        if i == SOS_TOKEN:\n",
    "            if include_special_tokens: result.append('[SOS]')\n",
    "        elif i == EOS_TOKEN:\n",
    "            if include_special_tokens: result.append('[EOS]')\n",
    "            break\n",
    "        elif 0 <= i < len(CHARACTERS):\n",
    "            result.append(CHARACTERS[i])\n",
    "        else:\n",
    "            if include_special_tokens or i not in [SOS_TOKEN, EOS_TOKEN]:\n",
    "                result.append(f'[UNK_{i}]')\n",
    "    return ''.join(result)\n",
    "\n",
    "def char_to_indices(text):\n",
    "    indices = [SOS_TOKEN]\n",
    "    for c in text:\n",
    "        if c in CHARACTERS:\n",
    "            indices.append(CHARACTERS.index(c))\n",
    "    indices.append(EOS_TOKEN)\n",
    "    return torch.tensor(indices, dtype=torch.long)\n",
    "\n",
    "#--- YOLO wrapper ---\n",
    "class YoloBackbone(nn.Module):\n",
    "    def __init__(self, model_path, target_feature_layer_index=9):\n",
    "        super().__init__()\n",
    "        _temp_yolo_instance = YOLO(model_path)\n",
    "        self.yolo_detection_model = _temp_yolo_instance.model\n",
    "        self.yolo_detection_model.to(DEVICE)\n",
    "        self.target_feature_layer_index = target_feature_layer_index\n",
    "\n",
    "        for name, param in self.yolo_detection_model.named_parameters():\n",
    "            param.requires_grad = True\n",
    "        \n",
    "        self._hook_handle = None\n",
    "        self._fmap_out_hook = []\n",
    "        \n",
    "        self._register_hook()\n",
    "\n",
    "    def _hook_fn_extractor(self, module, input_val, output_val):\n",
    "        if isinstance(output_val, torch.Tensor):\n",
    "            self._fmap_out_hook.append(output_val)\n",
    "        elif isinstance(output_val, (list, tuple)):\n",
    "            for item in output_val:\n",
    "                if isinstance(item, torch.Tensor):\n",
    "                    self._fmap_out_hook.append(item)\n",
    "                    break\n",
    "\n",
    "    def _register_hook(self):\n",
    "        layer_to_hook = self.yolo_detection_model.model[self.target_feature_layer_index]\n",
    "        self._hook_handle = layer_to_hook.register_forward_hook(self._hook_fn_extractor)\n",
    "\n",
    "    def _remove_hook(self):\n",
    "        if self._hook_handle:\n",
    "            self._hook_handle.remove()\n",
    "            self._hook_handle = None\n",
    "\n",
    "    def forward(self, x):\n",
    "        self._fmap_out_hook.clear()\n",
    "        _ = self.yolo_detection_model(x)\n",
    "        out_tensor = self._fmap_out_hook[0]\n",
    "        return out_tensor if out_tensor.dim() == 4 else out_tensor.unsqueeze(0)\n",
    "\n",
    "#--- Simplified RViT ---\n",
    "class RViT(nn.Module):\n",
    "    def __init__(self, yolo_channels=256, d_model=512, num_patches=1600, n_heads=8, num_encoder_layers=3, dim_feedforward=2048, dropout_rate=0.3):\n",
    "        super().__init__()\n",
    "        self.d_model = d_model\n",
    "        self.proj = nn.Sequential(\n",
    "            nn.Conv2d(yolo_channels, d_model, kernel_size=3, padding=1),\n",
    "            nn.BatchNorm2d(d_model),\n",
    "            nn.ReLU(),\n",
    "            nn.Dropout2d(dropout_rate if dropout_rate > 0 else 0)\n",
    "        )\n",
    "        encoder_layer = nn.TransformerEncoderLayer(\n",
    "            d_model=d_model, nhead=n_heads, dim_feedforward=dim_feedforward,\n",
    "            dropout=dropout_rate, batch_first=True, norm_first=True\n",
    "        )\n",
    "        self.encoder = nn.TransformerEncoder(encoder_layer, num_layers=num_encoder_layers)\n",
    "\n",
    "        self.pos_embed = nn.Parameter(torch.randn(1, num_patches + 1, d_model))\n",
    "        self.region_q = nn.Parameter(torch.zeros(1, 1, d_model))\n",
    "        \n",
    "        self.embed = nn.Embedding(NUM_CLASSES, d_model)\n",
    "        self.gru_num_layers = 1\n",
    "        self.gru = nn.GRU(d_model, d_model, num_layers=self.gru_num_layers, batch_first=True,\n",
    "                          dropout=dropout_rate if self.gru_num_layers > 1 else 0)\n",
    "        self.attn = MultiheadAttention(d_model, num_heads=n_heads, batch_first=True, dropout=dropout_rate)\n",
    "        self.fc = nn.Sequential(\n",
    "            nn.Dropout(dropout_rate if dropout_rate > 0 else 0),\n",
    "            nn.Linear(2 * d_model, NUM_CLASSES)\n",
    "        )\n",
    "\n",
    "    def forward(self, fmap, target=None, teach_ratio=0.5, forced_output_length=None):\n",
    "        b = fmap.size(0)\n",
    "        x = self.proj(fmap)\n",
    "        x = x.flatten(2).permute(0, 2, 1)\n",
    "\n",
    "        current_num_patches = x.size(1)\n",
    "        expected_pos_embed_len = current_num_patches + 1\n",
    "        \n",
    "        if self.pos_embed.size(1) != expected_pos_embed_len:\n",
    "            if self.pos_embed.size(1) > expected_pos_embed_len:\n",
    "                pos_embed_to_add = self.pos_embed[:, :expected_pos_embed_len, :]\n",
    "            else:\n",
    "                raise ValueError(f\"RViT pos_embed second dim {self.pos_embed.size(1)} is smaller than required {expected_pos_embed_len}\")\n",
    "        else:\n",
    "            pos_embed_to_add = self.pos_embed\n",
    "\n",
    "        q = self.region_q.expand(b, -1, -1)\n",
    "        x = torch.cat([q, x], dim=1)\n",
    "        x = x + pos_embed_to_add\n",
    "\n",
    "        enc = self.encoder(x)\n",
    "        region_feat, spatial_feats = enc[:, 0], enc[:, 1:]\n",
    "        \n",
    "        if forced_output_length is not None:\n",
    "            max_gen_len = forced_output_length\n",
    "        elif target is not None:\n",
    "            max_gen_len = target.size(1) - 1\n",
    "        else:\n",
    "            max_gen_len = MAX_SEQ_LENGTH - 1\n",
    "\n",
    "        h = region_feat.unsqueeze(0).contiguous()\n",
    "        current_input_tokens = torch.full((b,), SOS_TOKEN, device=DEVICE, dtype=torch.long)\n",
    "        outputs_logits = []\n",
    "\n",
    "        finished_sequences_tracker = None\n",
    "        if target is None and forced_output_length is None:\n",
    "            finished_sequences_tracker = torch.zeros(b, dtype=torch.bool, device=DEVICE)\n",
    "            \n",
    "        for t in range(max_gen_len):\n",
    "            emb = self.embed(current_input_tokens).unsqueeze(1)\n",
    "            g, h = self.gru(emb, h)\n",
    "            a, _ = self.attn(g, spatial_feats, spatial_feats)\n",
    "            comb = torch.cat([g.squeeze(1), a.squeeze(1)], dim=-1)\n",
    "            logits_step = self.fc(comb)\n",
    "            outputs_logits.append(logits_step)\n",
    "\n",
    "            if target is not None and random.random() < teach_ratio:\n",
    "                next_input_candidate = target[:, t + 1]\n",
    "            else:\n",
    "                next_input_candidate = logits_step.argmax(-1)\n",
    "\n",
    "            if finished_sequences_tracker is not None:\n",
    "                eos_predicted_this_step = (next_input_candidate == EOS_TOKEN)\n",
    "                finished_sequences_tracker |= eos_predicted_this_step\n",
    "                current_input_tokens = torch.where(finished_sequences_tracker,\n",
    "                                                 torch.tensor(EOS_TOKEN, device=DEVICE, dtype=torch.long),\n",
    "                                                 next_input_candidate)\n",
    "                if finished_sequences_tracker.all():\n",
    "                    break\n",
    "            else:\n",
    "                current_input_tokens = next_input_candidate\n",
    "        \n",
    "        return torch.stack(outputs_logits, dim=1)\n",
    "\n",
    "#--- Full model (YOLO_RViT) ---\n",
    "class YOLO_RViT(nn.Module):\n",
    "    def __init__(self, yolo_path, yolo_target_feature_layer_idx=9):\n",
    "        super().__init__()\n",
    "        self.backbone = YoloBackbone(yolo_path, target_feature_layer_index=yolo_target_feature_layer_idx)\n",
    "        dummy_input = torch.randn(1, 3, 640, 640).to(DEVICE)\n",
    "        \n",
    "        original_backbone_training_mode = self.backbone.training\n",
    "        with torch.no_grad():\n",
    "            dummy_feats = self.backbone(dummy_input)\n",
    "        \n",
    "        yolo_channels = dummy_feats.shape[1]\n",
    "        h_feat, w_feat = dummy_feats.shape[2], dummy_feats.shape[3]\n",
    "        num_patches = h_feat * w_feat\n",
    "        \n",
    "        self.rvit = RViT(yolo_channels=yolo_channels, num_patches=num_patches).to(DEVICE)\n",
    "\n",
    "    def forward(self, x, target=None, teach_ratio=0.5, forced_output_length=None):\n",
    "        x = x.to(DEVICE)\n",
    "        feats = self.backbone(x)\n",
    "        return self.rvit(feats, target, teach_ratio, forced_output_length)\n",
    "\n",
    "    def train(self, mode: bool = True):\n",
    "        super().train(mode)\n",
    "        self.rvit.train(mode)\n",
    "        self.backbone.train(mode)\n",
    "        return self\n",
    "\n",
    "    def eval(self):\n",
    "        super().eval()\n",
    "        self.rvit.eval()\n",
    "        self.backbone.eval()\n",
    "        return self\n",
    "\n",
    "#--- Dataset ---\n",
    "class LicensePlateDataset(Dataset):\n",
    "    def __init__(self, img_dir, license_dir, max_seq_length=15, is_train=True):\n",
    "        self.img_dir = img_dir\n",
    "        self.license_dir = license_dir\n",
    "        self.max_seq_length = max_seq_length\n",
    "        self.img_names = [f for f in os.listdir(self.img_dir) if f.endswith(('.jpg'))]\n",
    "        if is_train:\n",
    "            self.transform = transforms.Compose([\n",
    "                transforms.Resize((640, 640)),\n",
    "                transforms.RandomApply([\n",
    "                    transforms.RandomRotation(10),\n",
    "                    transforms.RandomAffine(degrees=8, translate=(0.03, 0.03), scale=(0.95, 1.05)),\n",
    "                    transforms.RandomPerspective(distortion_scale=0.05, p=0.3),\n",
    "                ], p=0.7),\n",
    "                transforms.ColorJitter(brightness=0.2, contrast=0.2, saturation=0.2, hue=0.05),\n",
    "                transforms.RandomApply([transforms.GaussianBlur(kernel_size=3, sigma=(0.1, 1.0))], p=0.25),\n",
    "                transforms.ToTensor(),\n",
    "                transforms.RandomErasing(p=0.2, scale=(0.01, 0.04), ratio=(0.3, 3.3)),\n",
    "                transforms.Normalize(mean=[0.485, 0.456, 0.406], std=[0.229, 0.224, 0.225])\n",
    "            ])\n",
    "        else:\n",
    "            self.transform = transforms.Compose([\n",
    "                transforms.Resize((640, 640)),\n",
    "                transforms.ToTensor(),\n",
    "                transforms.Normalize(mean=[0.485, 0.456, 0.406], std=[0.229, 0.224, 0.225])\n",
    "            ])\n",
    "            \n",
    "    def __len__(self):\n",
    "        return len(self.img_names)\n",
    "\n",
    "    def __getitem__(self, idx):\n",
    "        img_path = os.path.join(self.img_dir, self.img_names[idx])\n",
    "        img = Image.open(img_path).convert(\"RGB\")\n",
    "        img_tensor = self.transform(img)\n",
    "        \n",
    "        license_filename = os.path.splitext(self.img_names[idx])[0] + \".txt\"\n",
    "        license_path = os.path.join(self.license_dir, license_filename)\n",
    "        try:\n",
    "            with open(license_path, 'r', encoding='utf-8') as f:\n",
    "                license_text = f.read().upper().strip()\n",
    "        except FileNotFoundError:\n",
    "            return img_tensor, torch.full((self.max_seq_length,), EOS_TOKEN, dtype=torch.long)\n",
    "\n",
    "        # print(f\"file: {self.img_names[idx]}, {license_text}\")\n",
    "        license_indices = char_to_indices(license_text)\n",
    "        target = torch.full((self.max_seq_length,), PAD_TOKEN, dtype=torch.long)\n",
    "        \n",
    "        actual_len = min(len(license_indices), self.max_seq_length)\n",
    "        target[:actual_len] = license_indices[:actual_len]\n",
    "        \n",
    "        return img_tensor, target\n",
    "\n",
    "\n",
    "    @staticmethod\n",
    "    def collate_fn(batch):\n",
    "        images = torch.stack([item[0] for item in batch])\n",
    "        targets = torch.stack([item[1] for item in batch])\n",
    "        return images, targets\n",
    "\n",
    "#--- Early Stopping ---\n",
    "class EarlyStopping:\n",
    "    def __init__(self, patience=10, min_delta=0.0, monitor_metric='val_acc', mode='max', verbose=True):\n",
    "        self.patience = patience\n",
    "        self.min_delta = min_delta\n",
    "        self.monitor_metric = monitor_metric\n",
    "        self.mode = mode\n",
    "        self.verbose = verbose\n",
    "\n",
    "        if self.mode == 'min':\n",
    "            self.best_metric_val = np.Inf\n",
    "        else:\n",
    "            self.best_metric_val = -np.Inf\n",
    "        self.counter = 0\n",
    "        self.early_stop = False\n",
    "\n",
    "    def __call__(self, current_metric_val):\n",
    "        improved = False\n",
    "        if self.mode == 'min':\n",
    "            if current_metric_val < self.best_metric_val - self.min_delta:\n",
    "                self.best_metric_val = current_metric_val\n",
    "                improved = True\n",
    "        else:\n",
    "            if current_metric_val > self.best_metric_val + self.min_delta:\n",
    "                self.best_metric_val = current_metric_val\n",
    "                improved = True\n",
    "        \n",
    "        if improved:\n",
    "            self.counter = 0\n",
    "            if self.verbose:\n",
    "                print(f\"EarlyStopping: New best {self.monitor_metric}: {self.best_metric_val:.4f}\")\n",
    "        else:\n",
    "            self.counter += 1\n",
    "\n",
    "        if self.verbose and self.counter > 0 and not improved:\n",
    "            print(f\"EarlyStopping counter: {self.counter}/{self.patience} (Best {self.monitor_metric}: {self.best_metric_val:.4f})\")\n",
    "        if self.counter >= self.patience:\n",
    "            self.early_stop = True\n",
    "            if self.verbose:\n",
    "                print(f\"Early stopping triggered for {self.monitor_metric}.\")\n",
    "        return self.counter\n",
    "\n",
    "#--- Training ---\n",
    "YOLO_MODEL_PATH = '/kaggle/input/m/thitenguyen/yolov11s/pytorch/default/1/best.pt'\n",
    "YOLO_TARGET_FEATURE_LAYER_INDEX = 13\n",
    "\n",
    "IMG_DIR_TRAIN = \"/kaggle/input/aolp-ac-dataset/AOLP_AC/train/image\"\n",
    "LICENSE_DIR_TRAIN = \"/kaggle/input/aolp-ac-dataset/AOLP_AC/train/text\"\n",
    "IMG_DIR_VAL = \"/kaggle/input/aolp-ac-dataset/AOLP_AC/val/image\"\n",
    "LICENSE_DIR_VAL = \"/kaggle/input/aolp-ac-dataset/AOLP_AC/val/text\"\n",
    "\n",
    "MAX_SEQ_LENGTH = 15\n",
    "BATCH_SIZE = 32\n",
    "NUM_WORKERS = 4\n",
    "LEARNING_RATE = 5e-5\n",
    "MAX_LR_SCHEDULER = 5e-4\n",
    "WEIGHT_DECAY = 5e-5\n",
    "NUM_EPOCHS = 100\n",
    "ACCUM_STEPS = 2\n",
    "PATIENCE_EARLY_STOP = 20\n",
    "TEACH_RATIO_START = 0.7\n",
    "TEACH_RATIO_END = 0.05\n",
    "LABEL_SMOOTHING = 0.1\n",
    "\n",
    "scaler = torch.amp.GradScaler(DEVICE)\n",
    "autocast_context = lambda: torch.amp.autocast(DEVICE)\n",
    "\n",
    "train_dataset_full = LicensePlateDataset(img_dir=IMG_DIR_TRAIN, license_dir=LICENSE_DIR_TRAIN, max_seq_length=MAX_SEQ_LENGTH, is_train=True)\n",
    "val_dataset = LicensePlateDataset(img_dir=IMG_DIR_VAL, license_dir=LICENSE_DIR_VAL, max_seq_length=MAX_SEQ_LENGTH, is_train=False)\n",
    "\n",
    "train_dataloader = DataLoader(train_dataset_full, batch_size=BATCH_SIZE, shuffle=True, num_workers=NUM_WORKERS, collate_fn=LicensePlateDataset.collate_fn, pin_memory=(DEVICE == 'cuda'), drop_last=True)\n",
    "val_dataloader = DataLoader(val_dataset, batch_size=BATCH_SIZE, shuffle=False, num_workers=NUM_WORKERS, collate_fn=LicensePlateDataset.collate_fn, pin_memory=(DEVICE == 'cuda'))\n",
    "\n",
    "model = YOLO_RViT(YOLO_MODEL_PATH, yolo_target_feature_layer_idx=YOLO_TARGET_FEATURE_LAYER_INDEX).to(DEVICE)\n",
    "\n",
    "optimizer = torch.optim.AdamW(\n",
    "    model.parameters(),\n",
    "    lr=LEARNING_RATE,\n",
    "    weight_decay=WEIGHT_DECAY\n",
    ")\n",
    "\n",
    "scheduler = torch.optim.lr_scheduler.OneCycleLR(\n",
    "    optimizer, max_lr=MAX_LR_SCHEDULER,\n",
    "    epochs=NUM_EPOCHS,\n",
    "    steps_per_epoch=(len(train_dataloader) + ACCUM_STEPS - 1) // ACCUM_STEPS,\n",
    "    pct_start=0.2,\n",
    "    div_factor=(MAX_LR_SCHEDULER / LEARNING_RATE) if MAX_LR_SCHEDULER > LEARNING_RATE else 10.0\n",
    ")\n",
    "scheduler_type = \"OneCycleLR\"\n",
    "\n",
    "loss_fn = nn.CrossEntropyLoss(ignore_index=PAD_TOKEN, label_smoothing=LABEL_SMOOTHING)\n",
    "early_stopper = EarlyStopping(patience=PATIENCE_EARLY_STOP, min_delta=0.0005, monitor_metric='val_acc', mode='max', verbose=True)\n",
    "\n",
    "checkpoint = torch.load(\"/kaggle/input/yolo_rvt_good/pytorch/default/2/best_yolo_rvit_model.pth\", map_location=DEVICE)\n",
    "model.load_state_dict(checkpoint['model_state_dict'])\n",
    "optimizer.load_state_dict(checkpoint['optimizer_state_dict'])\n",
    "\n",
    "train_loss_values, val_loss_values = [], []\n",
    "train_acc_values, val_acc_values, val_acc_constrained_values = [], [], []\n",
    "epoch_count_list = []\n",
    "best_val_acc = 0.0\n",
    "\n",
    "for epoch in range(NUM_EPOCHS):\n",
    "    epoch_count_list.append(epoch + 1)\n",
    "    model.train()\n",
    "    train_loss, train_correct, train_total_chars = 0, 0, 0\n",
    "\n",
    "    teach_ratio = TEACH_RATIO_START - (TEACH_RATIO_START - TEACH_RATIO_END) * (epoch / max(1, NUM_EPOCHS - 1))\n",
    "\n",
    "    optimizer.zero_grad()\n",
    "\n",
    "    pbar_train = tqdm(train_dataloader, desc=f\"Epoch {epoch+1}/{NUM_EPOCHS} [TRAIN] LR: {optimizer.param_groups[0]['lr']:.2e} Teach: {teach_ratio:.2f} Scheduler: {scheduler_type}\")\n",
    "    for batch_idx, (imgs, targets) in enumerate(pbar_train):\n",
    "        imgs, targets = imgs.to(DEVICE, non_blocking=True), targets.to(DEVICE, non_blocking=True)\n",
    "        \n",
    "        with autocast_context():\n",
    "            outputs = model(imgs, target=targets, teach_ratio=teach_ratio)\n",
    "            flat_outputs = outputs.reshape(-1, NUM_CLASSES)\n",
    "            flat_targets = targets[:, 1:].reshape(-1)\n",
    "            loss = loss_fn(flat_outputs, flat_targets)\n",
    "            loss = loss / ACCUM_STEPS\n",
    "            \n",
    "        scaler.scale(loss).backward()\n",
    "        \n",
    "        if (batch_idx + 1) % ACCUM_STEPS == 0 or (batch_idx + 1) == len(train_dataloader):\n",
    "            torch.nn.utils.clip_grad_norm_(filter(lambda p: p.requires_grad, model.parameters()), max_norm=1.0)\n",
    "            scaler.step(optimizer)\n",
    "            scaler.update()\n",
    "            optimizer.zero_grad()\n",
    "            if scheduler_type == \"OneCycleLR\":\n",
    "                scheduler.step()\n",
    "\n",
    "        train_loss += loss.item() * ACCUM_STEPS\n",
    "        with torch.no_grad():\n",
    "            preds = outputs.argmax(-1)\n",
    "            true_chars = targets[:, 1:]\n",
    "            for i in range(imgs.size(0)):\n",
    "                pred_seq_list_train = preds[i].tolist()\n",
    "                if EOS_TOKEN in pred_seq_list_train:\n",
    "                    pred_seq_list_train = pred_seq_list_train[:pred_seq_list_train.index(EOS_TOKEN)]\n",
    "                \n",
    "                true_seq_list_train = true_chars[i].tolist()\n",
    "                true_content_train = [x for x in true_seq_list_train if x not in [EOS_TOKEN, PAD_TOKEN]]\n",
    "                len_true_content_train = len(true_content_train)\n",
    "                \n",
    "                cmp_len = min(len(pred_seq_list_train), len_true_content_train)\n",
    "                if cmp_len > 0:\n",
    "                    train_correct += (torch.tensor(pred_seq_list_train[:cmp_len]) == torch.tensor(true_content_train[:cmp_len])).sum().item()\n",
    "                \n",
    "                train_total_chars += len_true_content_train\n",
    "\n",
    "            if batch_idx == 0 and epoch % 1 == 0 and imgs.size(0) > 0:\n",
    "                print(\"\\n--- Training Batch 0 Examples (Content Only) ---\")\n",
    "                for i in range(min(5, imgs.size(0))):\n",
    "                    pred_batch_i_list = preds[i].tolist()\n",
    "                    pred_example = index_to_char(pred_batch_i_list)\n",
    "                    true_batch_i_list = true_chars[i].tolist()\n",
    "                    true_example = index_to_char(true_batch_i_list)\n",
    "                    print(f\"  Pred: '{pred_example}'\")\n",
    "                    print(f\"  True: '{true_example}'\")\n",
    "                print(\"-------------------------------\")\n",
    "        \n",
    "        pbar_train.set_postfix(loss=loss.item() * ACCUM_STEPS)\n",
    "\n",
    "    avg_train_loss = train_loss / len(train_dataloader) if len(train_dataloader) > 0 else 0\n",
    "    avg_train_acc = train_correct / train_total_chars if train_total_chars > 0 else 0\n",
    "    train_loss_values.append(avg_train_loss)\n",
    "    train_acc_values.append(avg_train_acc)\n",
    "\n",
    "    # --- Validation Loop ---\n",
    "    model.eval()\n",
    "    val_loss, val_correct, val_total_chars, val_correct_constrained, val_total_sequences_constrained = 0, 0, 0, 0, 0\n",
    "    pbar_val = tqdm(val_dataloader, desc=f\"Epoch {epoch+1}/{NUM_EPOCHS} [VAL]\")\n",
    "    with torch.no_grad():\n",
    "        for imgs, targets in pbar_val:\n",
    "            imgs, targets = imgs.to(DEVICE, non_blocking=True), targets.to(DEVICE, non_blocking=True)\n",
    "            with autocast_context():\n",
    "                outputs = model(imgs, target=None, teach_ratio=0.0)\n",
    "                out_seq_len_val = outputs.size(1)\n",
    "                tgt_content_len_val = targets.size(1) - 1\n",
    "                if out_seq_len_val > tgt_content_len_val:\n",
    "                    outputs_for_loss_val = outputs[:, :tgt_content_len_val, :]\n",
    "                elif out_seq_len_val < tgt_content_len_val:\n",
    "                    padding_val_val = torch.zeros(outputs.size(0), tgt_content_len_val - out_seq_len_val, NUM_CLASSES, device=DEVICE)\n",
    "                    padding_val_val[:,:,PAD_TOKEN] = 1\n",
    "                    outputs_for_loss_val = torch.cat([outputs, padding_val_val], dim=1)\n",
    "                else:\n",
    "                    outputs_for_loss_val = outputs\n",
    "                flat_outputs_val = outputs_for_loss_val.reshape(-1, NUM_CLASSES)\n",
    "                flat_targets_val = targets[:, 1:].reshape(-1)\n",
    "                loss = loss_fn(flat_outputs_val, flat_targets_val)\n",
    "                \n",
    "            val_loss += loss.item()\n",
    "            preds_val = outputs_for_loss_val.argmax(-1)\n",
    "            true_chars_val = targets[:, 1:]\n",
    "            for i in range(imgs.size(0)):\n",
    "                pred_seq_val_list = preds_val[i].tolist()\n",
    "                if EOS_TOKEN in pred_seq_val_list:\n",
    "                    pred_seq_val_list = pred_seq_val_list[:pred_seq_val_list.index(EOS_TOKEN)]\n",
    "                \n",
    "                true_seq_val_list = true_chars_val[i].tolist()\n",
    "                true_content_val = [x for x in true_seq_val_list if x not in [EOS_TOKEN, PAD_TOKEN]]\n",
    "                len_true_content_val = len(true_content_val)\n",
    "\n",
    "                cmp_len_val = min(len(pred_seq_val_list), len_true_content_val)\n",
    "                if cmp_len_val > 0:\n",
    "                    val_correct += (torch.tensor(pred_seq_val_list[:cmp_len_val]) == torch.tensor(true_content_val[:cmp_len_val])).sum().item()\n",
    "                val_total_chars += len_true_content_val\n",
    "\n",
    "                if len_true_content_val > 0:\n",
    "                    with autocast_context():\n",
    "                        outputs_constrained_sample = model(imgs[i:i+1], target=None, teach_ratio=0.0, forced_output_length=len_true_content_val)\n",
    "                    preds_constrained_sample = outputs_constrained_sample.argmax(-1).squeeze(0).tolist()\n",
    "                    final_preds_constrained = []\n",
    "                    for tk_id in preds_constrained_sample:\n",
    "                        if tk_id == EOS_TOKEN:\n",
    "                            break\n",
    "                        final_preds_constrained.append(tk_id)\n",
    "                    if final_preds_constrained == true_content_val:\n",
    "                        val_correct_constrained += 1\n",
    "                val_total_sequences_constrained += 1\n",
    "            \n",
    "            pbar_val.set_postfix(loss=loss.item())\n",
    "\n",
    "    avg_val_loss = val_loss / len(val_dataloader) if len(val_dataloader) > 0 else 0\n",
    "    avg_val_acc = val_correct / val_total_chars if val_total_chars > 0 else 0\n",
    "    avg_val_acc_constrained = val_correct_constrained / val_total_sequences_constrained if val_total_sequences_constrained > 0 else 0\n",
    "    val_loss_values.append(avg_val_loss)\n",
    "    val_acc_values.append(avg_val_acc)\n",
    "    val_acc_constrained_values.append(avg_val_acc_constrained)\n",
    "    \n",
    "    # Chuyển sang ReduceLROnPlateau nếu val_acc chững lại\n",
    "    counter = early_stopper(avg_val_acc)\n",
    "    if counter >= 15 and scheduler_type == \"OneCycleLR\":\n",
    "        print(f\"Val Acc stalled for {PATIENCE_EARLY_STOP} epochs. Switching to ReduceLROnPlateau.\")\n",
    "        scheduler = torch.optim.lr_scheduler.ReduceLROnPlateau(optimizer, mode='max', factor=0.5, patience=2, verbose=True)\n",
    "        scheduler_type = \"ReduceLROnPlateau\"\n",
    "    \n",
    "    # Cập nhật scheduler\n",
    "    if scheduler_type == \"ReduceLROnPlateau\":\n",
    "        scheduler.step(avg_val_acc)\n",
    "\n",
    "    if early_stopper.early_stop:\n",
    "        print(f\"--> Early stopping at epoch {epoch+1}\")\n",
    "        break\n",
    "    \n",
    "    print(f\"\\nEpoch {epoch+1}/{NUM_EPOCHS} | LR: {optimizer.param_groups[0]['lr']:.2e} | Teach: {teach_ratio:.2f} | Scheduler: {scheduler_type}\")\n",
    "    print(f\"  Train Loss: {avg_train_loss:.4f} | Train Char Acc: {avg_train_acc:.4f}\")\n",
    "    print(f\"  Val Loss: {avg_val_loss:.4f}   | Val Acc (CRR): {avg_val_acc:.4f}\")\n",
    "    print(f\"  Val Exact Match Acc (E2E RR): {avg_val_acc_constrained:.4f}\")\n",
    "    print(\"-\" * 70)\n",
    "\n",
    "    checkpoint_path = f\"yolo_rvit_model_epoch_{epoch + 1}.pth\"\n",
    "    # torch.save({\n",
    "    #     'epoch': epoch,\n",
    "    #     'model_state_dict': model.state_dict(),\n",
    "    #     'optimizer_state_dict': optimizer.state_dict(),\n",
    "    #     'scheduler_state_dict': scheduler.state_dict(),\n",
    "    #     'val_loss': avg_val_loss,\n",
    "    #     'val_acc': avg_val_acc,\n",
    "    #     'val_acc_constrained': avg_val_acc_constrained,\n",
    "    # }, checkpoint_path)\n",
    "\n",
    "    if avg_val_acc > best_val_acc:\n",
    "        best_val_acc = avg_val_acc\n",
    "        print(f\"*** New best validation accuracy: {best_val_acc:.4f}. Saving best_model.pth ***\")\n",
    "        torch.save({\n",
    "            'epoch': epoch,\n",
    "            'model_state_dict': model.state_dict(),\n",
    "            'optimizer_state_dict': optimizer.state_dict(),\n",
    "            'scheduler_state_dict': scheduler.state_dict(),\n",
    "            'val_loss': avg_val_loss,\n",
    "            'val_acc': avg_val_acc,\n",
    "            'val_acc_constrained': avg_val_acc_constrained,\n",
    "        }, \"best_yolo_rvit_model.pth\")\n",
    "\n",
    "final_epoch_val = epoch if 'epoch' in locals() and epoch is not None else NUM_EPOCHS - 1\n",
    "torch.save({\n",
    "    'epoch': final_epoch_val,\n",
    "    'model_state_dict': model.state_dict(),\n",
    "    'optimizer_state_dict': optimizer.state_dict(),\n",
    "    'scheduler_state_dict': scheduler.state_dict(),\n",
    "    'train_loss_history': train_loss_values,\n",
    "    'val_loss_history': val_loss_values,\n",
    "    'train_acc_history': train_acc_values,\n",
    "    'val_acc_history': val_acc_values,\n",
    "    'val_acc_constrained_history': val_acc_constrained_values,\n",
    "}, \"final_yolo_rvit_model.pth\")\n",
    "\n",
    "print(\"\\nTraining completed!\")\n",
    "if val_acc_values:\n",
    "    print(f\"Final val accuracy (Greedy Character Level): {val_acc_values[-1]:.4f}\")\n",
    "if val_acc_constrained_values:\n",
    "    print(f\"Final val accuracy (Constrained Length Exact Match): {val_acc_constrained_values[-1]:.4f}\")\n",
    "\n",
    "# Plotting\n",
    "plt.figure(figsize=(18, 12))\n",
    "plt.subplot(2, 2, 1)\n",
    "plt.plot(epoch_count_list, train_loss_values, label='Train Loss', marker='o', linestyle='-')\n",
    "plt.plot(epoch_count_list, val_loss_values, label='Validation Loss', marker='s', linestyle='--')\n",
    "plt.title('Loss Curves')\n",
    "plt.xlabel('Epochs')\n",
    "plt.ylabel('Loss')\n",
    "plt.legend()\n",
    "plt.grid(True)\n",
    "\n",
    "plt.subplot(2, 2, 2)\n",
    "plt.plot(epoch_count_list, train_acc_values, label='Train Char Accuracy', marker='o', linestyle='-')\n",
    "plt.plot(epoch_count_list, val_acc_values, label='Validation Char Accuracy (Greedy)', marker='s', linestyle='--')\n",
    "plt.title('Character Accuracy')\n",
    "plt.xlabel('Epochs')\n",
    "plt.ylabel('Character Accuracy')\n",
    "plt.legend()\n",
    "plt.grid(True)\n",
    "\n",
    "plt.tight_layout()\n",
    "plt.savefig(\"performance_plots.png\")\n",
    "plt.show()\n",
    "print(\"Saved plots to performance_plots.png\")"
   ]
  },
  {
   "cell_type": "code",
   "execution_count": 3,
   "id": "6fee0b40",
   "metadata": {
    "_cell_guid": "b76551e4-c533-4cba-a7f2-136eb89bb668",
    "_uuid": "bee3ff45-cff7-46ea-9562-a34c7f0c3a97",
    "collapsed": false,
    "execution": {
     "iopub.execute_input": "2025-08-25T18:49:46.299757Z",
     "iopub.status.busy": "2025-08-25T18:49:46.299363Z",
     "iopub.status.idle": "2025-08-25T18:49:47.259475Z",
     "shell.execute_reply": "2025-08-25T18:49:47.258749Z"
    },
    "jupyter": {
     "outputs_hidden": false
    },
    "papermill": {
     "duration": 1.322545,
     "end_time": "2025-08-25T18:49:47.262001",
     "exception": false,
     "start_time": "2025-08-25T18:49:45.939456",
     "status": "completed"
    },
    "tags": []
   },
   "outputs": [
    {
     "name": "stderr",
     "output_type": "stream",
     "text": [
      "/tmp/ipykernel_18/2383404097.py:9: FutureWarning: You are using `torch.load` with `weights_only=False` (the current default value), which uses the default pickle module implicitly. It is possible to construct malicious pickle data which will execute arbitrary code during unpickling (See https://github.com/pytorch/pytorch/blob/main/SECURITY.md#untrusted-models for more details). In a future release, the default value for `weights_only` will be flipped to `True`. This limits the functions that could be executed during unpickling. Arbitrary objects will no longer be allowed to be loaded via this mode unless they are explicitly allowlisted by the user via `torch.serialization.add_safe_globals`. We recommend you start setting `weights_only=True` for any use case where you don't have full control of the loaded file. Please open an issue on GitHub for any issues related to this experimental feature.\n",
      "  checkpoint = torch.load(file, map_location=torch.device('cpu'))\n"
     ]
    },
    {
     "name": "stdout",
     "output_type": "stream",
     "text": [
      "Đang vẽ biểu đồ từ dữ liệu checkpoint...\n"
     ]
    },
    {
     "data": {
      "image/png": "[encoded data removed]",
      "text/plain": [
       "<Figure size 1800x1200 with 2 Axes>"
      ]
     },
     "metadata": {},
     "output_type": "display_data"
    },
    {
     "name": "stdout",
     "output_type": "stream",
     "text": [
      "Đã lưu biểu đồ vào checkpoint_performance_plots.png\n"
     ]
    }
   ],
   "source": [
    "#Vẽ biểu đồ\n",
    "import torch\n",
    "import matplotlib.pyplot as plt\n",
    "\n",
    "# --- Cấu hình ---\n",
    "file = \"/kaggle/working/final_yolo_rvit_model.pth\" # File chứa lịch sử\n",
    "\n",
    "# --- Tải Checkpoint ---\n",
    "checkpoint = torch.load(file, map_location=torch.device('cpu'))\n",
    "\n",
    "# --- Lấy dữ liệu lịch sử từ checkpoint ---\n",
    "train_loss_values = checkpoint.get('train_loss_history')\n",
    "val_loss_values = checkpoint.get('val_loss_history')\n",
    "test_loss_values = checkpoint.get('test_loss_history')\n",
    "\n",
    "train_acc_values = checkpoint.get('train_acc_history')\n",
    "val_acc_values = checkpoint.get('val_acc_history')\n",
    "test_acc_greedy_values = checkpoint.get('test_acc_greedy_history')\n",
    "\n",
    "\n",
    "# Tạo danh sách epoch_count_list dựa trên độ dài của dữ liệu lịch sử\n",
    "num_epochs_recorded = len(train_loss_values)\n",
    "epoch_count_list = list(range(1, num_epochs_recorded + 1))\n",
    "\n",
    "# --- Vẽ Biểu Đồ (tương tự code vẽ trước đó) ---\n",
    "print(\"Đang vẽ biểu đồ từ dữ liệu checkpoint...\")\n",
    "plt.figure(figsize=(18, 12))\n",
    "\n",
    "# Biểu đồ Loss\n",
    "plt.subplot(2, 2, 1)\n",
    "if train_loss_values:\n",
    "    plt.plot(epoch_count_list, train_loss_values, label='Train Loss', marker='o', linestyle='-')\n",
    "if val_loss_values:\n",
    "    plt.plot(epoch_count_list, val_loss_values, label='Validation Loss', marker='s', linestyle='--')\n",
    "if test_loss_values:\n",
    "    plt.plot(epoch_count_list, test_loss_values, label='Test Loss (Greedy)', marker='^', linestyle=':')\n",
    "plt.title('Loss Curves (from Checkpoint)')\n",
    "plt.xlabel('Epochs')\n",
    "plt.ylabel('Loss')\n",
    "plt.legend()\n",
    "plt.grid(True)\n",
    "\n",
    "# Biểu đồ Character Accuracy\n",
    "plt.subplot(2, 2, 2)\n",
    "if train_acc_values:\n",
    "    plt.plot(epoch_count_list, train_acc_values, label='Train Char Accuracy', marker='o', linestyle='-')\n",
    "if val_acc_values:\n",
    "    plt.plot(epoch_count_list, val_acc_values, label='Validation Char Accuracy (Greedy)', marker='s', linestyle='--')\n",
    "if test_acc_greedy_values:\n",
    "    plt.plot(epoch_count_list, test_acc_greedy_values, label='Test Char Accuracy (Greedy)', marker='^', linestyle=':')\n",
    "plt.title('Character Accuracy (from Checkpoint)')\n",
    "plt.xlabel('Epochs')\n",
    "plt.ylabel('Character Accuracy')\n",
    "plt.legend()\n",
    "plt.grid(True)\n",
    "\n",
    "\n",
    "plt.tight_layout()\n",
    "plt.savefig(\"checkpoint_performance_plots.png\")\n",
    "plt.show()\n",
    "print(\"Đã lưu biểu đồ vào checkpoint_performance_plots.png\")"
   ]
  },
  {
   "cell_type": "code",
   "execution_count": 4,
   "id": "c77e9636",
   "metadata": {
    "_cell_guid": "03d1fab1-d3b5-42b4-8009-863e29d35694",
    "_uuid": "82ef33b2-6e9b-40ea-a2b4-2c90d2a780f7",
    "collapsed": false,
    "execution": {
     "iopub.execute_input": "2025-08-25T18:49:47.819753Z",
     "iopub.status.busy": "2025-08-25T18:49:47.819484Z",
     "iopub.status.idle": "2025-08-25T18:49:47.823674Z",
     "shell.execute_reply": "2025-08-25T18:49:47.823044Z"
    },
    "jupyter": {
     "outputs_hidden": false
    },
    "papermill": {
     "duration": 0.281817,
     "end_time": "2025-08-25T18:49:47.824855",
     "exception": false,
     "start_time": "2025-08-25T18:49:47.543038",
     "status": "completed"
    },
    "tags": []
   },
   "outputs": [],
   "source": [
    "# import torch\n",
    "# from torchvision import transforms\n",
    "# from PIL import Image\n",
    "# import cv2\n",
    "\n",
    "# # --- Hàm tiền xử lý ảnh ---\n",
    "# def preprocess_image(image_path, image_size=(640, 640)):\n",
    "#     image = Image.open(image_path).convert(\"RGB\")\n",
    "#     plt.imshow(image)\n",
    "#     plt.axis('off')  # Tắt trục tọa độ\n",
    "#     plt.show()\n",
    "    \n",
    "#     transform = transforms.Compose([\n",
    "#         transforms.Resize(image_size),\n",
    "#         transforms.ToTensor(),\n",
    "#         transforms.Normalize(mean=[0.485, 0.456, 0.406], std=[0.229, 0.224, 0.225])\n",
    "#     ])\n",
    "#     img_tensor = transform(image)\n",
    "#     return img_tensor.unsqueeze(0) # Thêm batch dimension\n",
    "\n",
    "# # --- Hàm tải model và trọng số ---\n",
    "# def load_model_for_prediction(checkpoint_path, yolo_base_model_path, yolo_target_idx):\n",
    "#     model = YOLO_RViT(\n",
    "#         yolo_path=yolo_base_model_path,\n",
    "#         yolo_target_feature_layer_idx=yolo_target_idx\n",
    "#     )\n",
    "#     # Tải state_dict\n",
    "#     checkpoint = torch.load(checkpoint_path, map_location=torch.device(DEVICE))\n",
    "#     model.load_state_dict(checkpoint['model_state_dict'])\n",
    "           \n",
    "#     model.to(DEVICE)\n",
    "#     model.eval() # Chuyển model sang chế độ đánh giá (quan trọng!)\n",
    "#     return model\n",
    "\n",
    "# # --- Hàm dự đoán ---\n",
    "# def predict_license_plate(model, image_tensor, constrained_length=None):\n",
    "#     image_tensor = image_tensor.to(DEVICE)\n",
    "#     with torch.no_grad(): # Không cần tính gradient khi dự đoán\n",
    "#         # Cho dự đoán, target=None, teach_ratio=0.0\n",
    "#         # forced_output_length được sử dụng nếu bạn muốn kết quả có độ dài cố định\n",
    "#         outputs_logits = model(image_tensor, target=None, teach_ratio=0.0, forced_output_length=constrained_length)\n",
    "#         # outputs_logits có shape (batch_size, seq_len, num_classes)\n",
    "\n",
    "#     predicted_indices_tensor = outputs_logits.argmax(dim=-1)[0] # Shape: (seq_len,)\n",
    "#     predicted_indices_list = predicted_indices_tensor.cpu().tolist()\n",
    "\n",
    "#     predicted_text = index_to_char(predicted_indices_list, include_special_tokens=False)\n",
    "\n",
    "#     return predicted_text, predicted_indices_list\n",
    "\n",
    "\n",
    "\n",
    "# CHECKPOINT_TO_LOAD = \"/kaggle/working/best_yolo_rvit_model.pth\" # Đường dẫn đến model đã huấn luyện của bạn\n",
    "# YOLO_BASE_MODEL_PATH = \"/kaggle/input/yolov11s/Yolov11s.pt\" \n",
    "\n",
    "# IMAGE_TO_PREDICT = \"/kaggle/working/a_164337.jpg\" # THAY ĐỔI ĐƯỜNG DẪN NÀY\n",
    "\n",
    "# loaded_model = load_model_for_prediction(CHECKPOINT_TO_LOAD, YOLO_BASE_MODEL_PATH, 13)\n",
    "\n",
    "# input_tensor = preprocess_image(IMAGE_TO_PREDICT)\n",
    "\n",
    "# predicted_text, raw_indices = predict_license_plate(loaded_model, input_tensor)\n",
    "\n",
    "# print(f\"\\nẢnh đầu vào: {IMAGE_TO_PREDICT}\")\n",
    "# print(f\"Dự đoán biển số: '{predicted_text}'\")"
   ]
  }
 ],
 "metadata": {
  "kaggle": {
   "accelerator": "nvidiaTeslaT4",
   "dataSources": [
    {
     "databundleVersionId": 13219085,
     "datasetId": 7972570,
     "sourceId": 12619192,
     "sourceType": "datasetVersion"
    },
    {
     "databundleVersionId": 13494581,
     "datasetId": 7973472,
     "sourceId": 12855605,
     "sourceType": "datasetVersion"
    },
    {
     "databundleVersionId": 13494569,
     "datasetId": 7973485,
     "sourceId": 12855594,
     "sourceType": "datasetVersion"
    },
    {
     "databundleVersionId": 13495091,
     "datasetId": 7973494,
     "sourceId": 12856063,
     "sourceType": "datasetVersion"
    },
    {
     "databundleVersionId": 7160888,
     "datasetId": 4072694,
     "sourceId": 7073289,
     "sourceType": "datasetVersion"
    },
    {
     "databundleVersionId": 12409637,
     "datasetId": 7283240,
     "sourceId": 11903981,
     "sourceType": "datasetVersion"
    },
    {
     "databundleVersionId": 13228117,
     "modelInstanceId": 396442,
     "sourceId": 499048,
     "sourceType": "modelInstanceVersion"
    },
    {
     "databundleVersionId": 13239183,
     "modelInstanceId": 397346,
     "sourceId": 500435,
     "sourceType": "modelInstanceVersion"
    },
    {
     "databundleVersionId": 13295143,
     "modelInstanceId": 403599,
     "sourceId": 508844,
     "sourceType": "modelInstanceVersion"
    },
    {
     "databundleVersionId": 13337948,
     "modelInstanceId": 406718,
     "sourceId": 514748,
     "sourceType": "modelInstanceVersion"
    },
    {
     "databundleVersionId": 13368670,
     "modelInstanceId": 408806,
     "sourceId": 519201,
     "sourceType": "modelInstanceVersion"
    },
    {
     "databundleVersionId": 13381048,
     "modelInstanceId": 409666,
     "sourceId": 520766,
     "sourceType": "modelInstanceVersion"
    },
    {
     "databundleVersionId": 13411731,
     "modelInstanceId": 411848,
     "sourceId": 524805,
     "sourceType": "modelInstanceVersion"
    },
    {
     "databundleVersionId": 13419489,
     "modelInstanceId": 412329,
     "sourceId": 526202,
     "sourceType": "modelInstanceVersion"
    },
    {
     "databundleVersionId": 13228802,
     "modelInstanceId": 396502,
     "sourceId": 499146,
     "sourceType": "modelInstanceVersion"
    },
    {
     "databundleVersionId": 13430706,
     "modelInstanceId": 413048,
     "sourceId": 528015,
     "sourceType": "modelInstanceVersion"
    },
    {
     "databundleVersionId": 13432475,
     "modelInstanceId": 413161,
     "sourceId": 528144,
     "sourceType": "modelInstanceVersion"
    },
    {
     "databundleVersionId": 13434085,
     "modelInstanceId": 413275,
     "sourceId": 528276,
     "sourceType": "modelInstanceVersion"
    },
    {
     "databundleVersionId": 13434511,
     "modelInstanceId": 413303,
     "sourceId": 528309,
     "sourceType": "modelInstanceVersion"
    },
    {
     "databundleVersionId": 13455052,
     "modelInstanceId": 414675,
     "sourceId": 530107,
     "sourceType": "modelInstanceVersion"
    },
    {
     "databundleVersionId": 13461093,
     "modelInstanceId": 415075,
     "sourceId": 530596,
     "sourceType": "modelInstanceVersion"
    },
    {
     "databundleVersionId": 13239535,
     "modelInstanceId": 397374,
     "sourceId": 500494,
     "sourceType": "modelInstanceVersion"
    },
    {
     "databundleVersionId": 13251681,
     "modelInstanceId": 400106,
     "sourceId": 503671,
     "sourceType": "modelInstanceVersion"
    },
    {
     "databundleVersionId": 13256630,
     "modelInstanceId": 400564,
     "sourceId": 504298,
     "sourceType": "modelInstanceVersion"
    },
    {
     "databundleVersionId": 13260465,
     "modelInstanceId": 400906,
     "sourceId": 504844,
     "sourceType": "modelInstanceVersion"
    },
    {
     "databundleVersionId": 13283094,
     "modelInstanceId": 402713,
     "sourceId": 507470,
     "sourceType": "modelInstanceVersion"
    },
    {
     "databundleVersionId": 13287954,
     "modelInstanceId": 403056,
     "sourceId": 507886,
     "sourceType": "modelInstanceVersion"
    },
    {
     "databundleVersionId": 13211873,
     "modelInstanceId": 393237,
     "sourceId": 495336,
     "sourceType": "modelInstanceVersion"
    },
    {
     "databundleVersionId": 13218631,
     "modelInstanceId": 395656,
     "sourceId": 497961,
     "sourceType": "modelInstanceVersion"
    },
    {
     "databundleVersionId": 12653994,
     "modelInstanceId": 351568,
     "sourceId": 431310,
     "sourceType": "modelInstanceVersion"
    },
    {
     "databundleVersionId": 12459400,
     "modelInstanceId": 336246,
     "sourceId": 411843,
     "sourceType": "modelInstanceVersion"
    },
    {
     "databundleVersionId": 12459392,
     "modelInstanceId": 336244,
     "sourceId": 411841,
     "sourceType": "modelInstanceVersion"
    },
    {
     "databundleVersionId": 12459412,
     "modelInstanceId": 336249,
     "sourceId": 411846,
     "sourceType": "modelInstanceVersion"
    }
   ],
   "dockerImageVersionId": 31011,
   "isGpuEnabled": true,
   "isInternetEnabled": true,
   "language": "python",
   "sourceType": "notebook"
  },
  "kernelspec": {
   "display_name": "Python 3",
   "language": "python",
   "name": "python3"
  },
  "language_info": {
   "codemirror_mode": {
    "name": "ipython",
    "version": 3
   },
   "file_extension": ".py",
   "mimetype": "text/x-python",
   "name": "python",
   "nbconvert_exporter": "python",
   "pygments_lexer": "ipython3",
   "version": "3.11.11"
  },
  "papermill": {
   "default_parameters": {},
   "duration": 4585.773675,
   "end_time": "2025-08-25T18:49:50.599195",
   "environment_variables": {},
   "exception": null,
   "input_path": "__notebook__.ipynb",
   "output_path": "__notebook__.ipynb",
   "parameters": {},
   "start_time": "2025-08-25T17:33:24.825520",
   "version": "2.6.0"
  }
 },
 "nbformat": 4,
 "nbformat_minor": 5
}
