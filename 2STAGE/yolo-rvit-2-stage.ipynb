{
 "cells": [
  {
   "cell_type": "code",
   "execution_count": 1,
   "id": "a333bbd2",
   "metadata": {
    "execution": {
     "iopub.execute_input": "2025-06-03T07:20:26.982568Z",
     "iopub.status.busy": "2025-06-03T07:20:26.982306Z",
     "iopub.status.idle": "2025-06-03T07:21:52.311923Z",
     "shell.execute_reply": "2025-06-03T07:21:52.311178Z"
    },
    "papermill": {
     "duration": 85.334181,
     "end_time": "2025-06-03T07:21:52.313394",
     "exception": false,
     "start_time": "2025-06-03T07:20:26.979213",
     "status": "completed"
    },
    "tags": []
   },
   "outputs": [
    {
     "name": "stdout",
     "output_type": "stream",
     "text": [
      "Collecting ultralytics\r\n",
      "  Downloading ultralytics-8.3.148-py3-none-any.whl.metadata (37 kB)\r\n",
      "Requirement already satisfied: numpy>=1.23.0 in /usr/local/lib/python3.11/dist-packages (from ultralytics) (1.26.4)\r\n",
      "Requirement already satisfied: matplotlib>=3.3.0 in /usr/local/lib/python3.11/dist-packages (from ultralytics) (3.7.5)\r\n",
      "Requirement already satisfied: opencv-python>=4.6.0 in /usr/local/lib/python3.11/dist-packages (from ultralytics) (4.11.0.86)\r\n",
      "Requirement already satisfied: pillow>=7.1.2 in /usr/local/lib/python3.11/dist-packages (from ultralytics) (11.1.0)\r\n",
      "Requirement already satisfied: pyyaml>=5.3.1 in /usr/local/lib/python3.11/dist-packages (from ultralytics) (6.0.2)\r\n",
      "Requirement already satisfied: requests>=2.23.0 in /usr/local/lib/python3.11/dist-packages (from ultralytics) (2.32.3)\r\n",
      "Requirement already satisfied: scipy>=1.4.1 in /usr/local/lib/python3.11/dist-packages (from ultralytics) (1.15.2)\r\n",
      "Requirement already satisfied: torch>=1.8.0 in /usr/local/lib/python3.11/dist-packages (from ultralytics) (2.5.1+cu124)\r\n",
      "Requirement already satisfied: torchvision>=0.9.0 in /usr/local/lib/python3.11/dist-packages (from ultralytics) (0.20.1+cu124)\r\n",
      "Requirement already satisfied: tqdm>=4.64.0 in /usr/local/lib/python3.11/dist-packages (from ultralytics) (4.67.1)\r\n",
      "Requirement already satisfied: psutil in /usr/local/lib/python3.11/dist-packages (from ultralytics) (7.0.0)\r\n",
      "Requirement already satisfied: py-cpuinfo in /usr/local/lib/python3.11/dist-packages (from ultralytics) (9.0.0)\r\n",
      "Requirement already satisfied: pandas>=1.1.4 in /usr/local/lib/python3.11/dist-packages (from ultralytics) (2.2.3)\r\n",
      "Collecting ultralytics-thop>=2.0.0 (from ultralytics)\r\n",
      "  Downloading ultralytics_thop-2.0.14-py3-none-any.whl.metadata (9.4 kB)\r\n",
      "Requirement already satisfied: contourpy>=1.0.1 in /usr/local/lib/python3.11/dist-packages (from matplotlib>=3.3.0->ultralytics) (1.3.1)\r\n",
      "Requirement already satisfied: cycler>=0.10 in /usr/local/lib/python3.11/dist-packages (from matplotlib>=3.3.0->ultralytics) (0.12.1)\r\n",
      "Requirement already satisfied: fonttools>=4.22.0 in /usr/local/lib/python3.11/dist-packages (from matplotlib>=3.3.0->ultralytics) (4.56.0)\r\n",
      "Requirement already satisfied: kiwisolver>=1.0.1 in /usr/local/lib/python3.11/dist-packages (from matplotlib>=3.3.0->ultralytics) (1.4.8)\r\n",
      "Requirement already satisfied: packaging>=20.0 in /usr/local/lib/python3.11/dist-packages (from matplotlib>=3.3.0->ultralytics) (24.2)\r\n",
      "Requirement already satisfied: pyparsing>=2.3.1 in /usr/local/lib/python3.11/dist-packages (from matplotlib>=3.3.0->ultralytics) (3.2.1)\r\n",
      "Requirement already satisfied: python-dateutil>=2.7 in /usr/local/lib/python3.11/dist-packages (from matplotlib>=3.3.0->ultralytics) (2.9.0.post0)\r\n",
      "Requirement already satisfied: mkl_fft in /usr/local/lib/python3.11/dist-packages (from numpy>=1.23.0->ultralytics) (1.3.8)\r\n",
      "Requirement already satisfied: mkl_random in /usr/local/lib/python3.11/dist-packages (from numpy>=1.23.0->ultralytics) (1.2.4)\r\n",
      "Requirement already satisfied: mkl_umath in /usr/local/lib/python3.11/dist-packages (from numpy>=1.23.0->ultralytics) (0.1.1)\r\n",
      "Requirement already satisfied: mkl in /usr/local/lib/python3.11/dist-packages (from numpy>=1.23.0->ultralytics) (2025.1.0)\r\n",
      "Requirement already satisfied: tbb4py in /usr/local/lib/python3.11/dist-packages (from numpy>=1.23.0->ultralytics) (2022.1.0)\r\n",
      "Requirement already satisfied: mkl-service in /usr/local/lib/python3.11/dist-packages (from numpy>=1.23.0->ultralytics) (2.4.1)\r\n",
      "Requirement already satisfied: pytz>=2020.1 in /usr/local/lib/python3.11/dist-packages (from pandas>=1.1.4->ultralytics) (2025.2)\r\n",
      "Requirement already satisfied: tzdata>=2022.7 in /usr/local/lib/python3.11/dist-packages (from pandas>=1.1.4->ultralytics) (2025.2)\r\n",
      "Requirement already satisfied: charset-normalizer<4,>=2 in /usr/local/lib/python3.11/dist-packages (from requests>=2.23.0->ultralytics) (3.4.1)\r\n",
      "Requirement already satisfied: idna<4,>=2.5 in /usr/local/lib/python3.11/dist-packages (from requests>=2.23.0->ultralytics) (3.10)\r\n",
      "Requirement already satisfied: urllib3<3,>=1.21.1 in /usr/local/lib/python3.11/dist-packages (from requests>=2.23.0->ultralytics) (2.3.0)\r\n",
      "Requirement already satisfied: certifi>=2017.4.17 in /usr/local/lib/python3.11/dist-packages (from requests>=2.23.0->ultralytics) (2025.1.31)\r\n",
      "Requirement already satisfied: filelock in /usr/local/lib/python3.11/dist-packages (from torch>=1.8.0->ultralytics) (3.18.0)\r\n",
      "Requirement already satisfied: typing-extensions>=4.8.0 in /usr/local/lib/python3.11/dist-packages (from torch>=1.8.0->ultralytics) (4.13.1)\r\n",
      "Requirement already satisfied: networkx in /usr/local/lib/python3.11/dist-packages (from torch>=1.8.0->ultralytics) (3.4.2)\r\n",
      "Requirement already satisfied: jinja2 in /usr/local/lib/python3.11/dist-packages (from torch>=1.8.0->ultralytics) (3.1.6)\r\n",
      "Requirement already satisfied: fsspec in /usr/local/lib/python3.11/dist-packages (from torch>=1.8.0->ultralytics) (2025.3.2)\r\n",
      "Requirement already satisfied: nvidia-cuda-nvrtc-cu12==12.4.127 in /usr/local/lib/python3.11/dist-packages (from torch>=1.8.0->ultralytics) (12.4.127)\r\n",
      "Requirement already satisfied: nvidia-cuda-runtime-cu12==12.4.127 in /usr/local/lib/python3.11/dist-packages (from torch>=1.8.0->ultralytics) (12.4.127)\r\n",
      "Requirement already satisfied: nvidia-cuda-cupti-cu12==12.4.127 in /usr/local/lib/python3.11/dist-packages (from torch>=1.8.0->ultralytics) (12.4.127)\r\n",
      "Collecting nvidia-cudnn-cu12==9.1.0.70 (from torch>=1.8.0->ultralytics)\r\n",
      "  Downloading nvidia_cudnn_cu12-9.1.0.70-py3-none-manylinux2014_x86_64.whl.metadata (1.6 kB)\r\n",
      "Collecting nvidia-cublas-cu12==12.4.5.8 (from torch>=1.8.0->ultralytics)\r\n",
      "  Downloading nvidia_cublas_cu12-12.4.5.8-py3-none-manylinux2014_x86_64.whl.metadata (1.5 kB)\r\n",
      "Collecting nvidia-cufft-cu12==11.2.1.3 (from torch>=1.8.0->ultralytics)\r\n",
      "  Downloading nvidia_cufft_cu12-11.2.1.3-py3-none-manylinux2014_x86_64.whl.metadata (1.5 kB)\r\n",
      "Collecting nvidia-curand-cu12==10.3.5.147 (from torch>=1.8.0->ultralytics)\r\n",
      "  Downloading nvidia_curand_cu12-10.3.5.147-py3-none-manylinux2014_x86_64.whl.metadata (1.5 kB)\r\n",
      "Collecting nvidia-cusolver-cu12==11.6.1.9 (from torch>=1.8.0->ultralytics)\r\n",
      "  Downloading nvidia_cusolver_cu12-11.6.1.9-py3-none-manylinux2014_x86_64.whl.metadata (1.6 kB)\r\n",
      "Collecting nvidia-cusparse-cu12==12.3.1.170 (from torch>=1.8.0->ultralytics)\r\n",
      "  Downloading nvidia_cusparse_cu12-12.3.1.170-py3-none-manylinux2014_x86_64.whl.metadata (1.6 kB)\r\n",
      "Requirement already satisfied: nvidia-nccl-cu12==2.21.5 in /usr/local/lib/python3.11/dist-packages (from torch>=1.8.0->ultralytics) (2.21.5)\r\n",
      "Requirement already satisfied: nvidia-nvtx-cu12==12.4.127 in /usr/local/lib/python3.11/dist-packages (from torch>=1.8.0->ultralytics) (12.4.127)\r\n",
      "Collecting nvidia-nvjitlink-cu12==12.4.127 (from torch>=1.8.0->ultralytics)\r\n",
      "  Downloading nvidia_nvjitlink_cu12-12.4.127-py3-none-manylinux2014_x86_64.whl.metadata (1.5 kB)\r\n",
      "Requirement already satisfied: triton==3.1.0 in /usr/local/lib/python3.11/dist-packages (from torch>=1.8.0->ultralytics) (3.1.0)\r\n",
      "Requirement already satisfied: sympy==1.13.1 in /usr/local/lib/python3.11/dist-packages (from torch>=1.8.0->ultralytics) (1.13.1)\r\n",
      "Requirement already satisfied: mpmath<1.4,>=1.1.0 in /usr/local/lib/python3.11/dist-packages (from sympy==1.13.1->torch>=1.8.0->ultralytics) (1.3.0)\r\n",
      "Requirement already satisfied: six>=1.5 in /usr/local/lib/python3.11/dist-packages (from python-dateutil>=2.7->matplotlib>=3.3.0->ultralytics) (1.17.0)\r\n",
      "Requirement already satisfied: MarkupSafe>=2.0 in /usr/local/lib/python3.11/dist-packages (from jinja2->torch>=1.8.0->ultralytics) (3.0.2)\r\n",
      "Requirement already satisfied: intel-openmp<2026,>=2024 in /usr/local/lib/python3.11/dist-packages (from mkl->numpy>=1.23.0->ultralytics) (2024.2.0)\r\n",
      "Requirement already satisfied: tbb==2022.* in /usr/local/lib/python3.11/dist-packages (from mkl->numpy>=1.23.0->ultralytics) (2022.1.0)\r\n",
      "Requirement already satisfied: tcmlib==1.* in /usr/local/lib/python3.11/dist-packages (from tbb==2022.*->mkl->numpy>=1.23.0->ultralytics) (1.2.0)\r\n",
      "Requirement already satisfied: intel-cmplr-lib-rt in /usr/local/lib/python3.11/dist-packages (from mkl_umath->numpy>=1.23.0->ultralytics) (2024.2.0)\r\n",
      "Requirement already satisfied: intel-cmplr-lib-ur==2024.2.0 in /usr/local/lib/python3.11/dist-packages (from intel-openmp<2026,>=2024->mkl->numpy>=1.23.0->ultralytics) (2024.2.0)\r\n",
      "Downloading ultralytics-8.3.148-py3-none-any.whl (1.0 MB)\r\n",
      "\u001b[2K   \u001b[90m━━━━━━━━━━━━━━━━━━━━━━━━━━━━━━━━━━━━━━━━\u001b[0m \u001b[32m1.0/1.0 MB\u001b[0m \u001b[31m23.1 MB/s\u001b[0m eta \u001b[36m0:00:00\u001b[0m\r\n",
      "\u001b[?25hDownloading nvidia_cublas_cu12-12.4.5.8-py3-none-manylinux2014_x86_64.whl (363.4 MB)\r\n",
      "\u001b[2K   \u001b[90m━━━━━━━━━━━━━━━━━━━━━━━━━━━━━━━━━━━━━━━━\u001b[0m \u001b[32m363.4/363.4 MB\u001b[0m \u001b[31m3.8 MB/s\u001b[0m eta \u001b[36m0:00:00\u001b[0m\r\n",
      "\u001b[?25hDownloading nvidia_cudnn_cu12-9.1.0.70-py3-none-manylinux2014_x86_64.whl (664.8 MB)\r\n",
      "\u001b[2K   \u001b[90m━━━━━━━━━━━━━━━━━━━━━━━━━━━━━━━━━━━━━━━━\u001b[0m \u001b[32m664.8/664.8 MB\u001b[0m \u001b[31m2.1 MB/s\u001b[0m eta \u001b[36m0:00:00\u001b[0m\r\n",
      "\u001b[?25hDownloading nvidia_cufft_cu12-11.2.1.3-py3-none-manylinux2014_x86_64.whl (211.5 MB)\r\n",
      "\u001b[2K   \u001b[90m━━━━━━━━━━━━━━━━━━━━━━━━━━━━━━━━━━━━━━━━\u001b[0m \u001b[32m211.5/211.5 MB\u001b[0m \u001b[31m8.0 MB/s\u001b[0m eta \u001b[36m0:00:00\u001b[0m\r\n",
      "\u001b[?25hDownloading nvidia_curand_cu12-10.3.5.147-py3-none-manylinux2014_x86_64.whl (56.3 MB)\r\n",
      "\u001b[2K   \u001b[90m━━━━━━━━━━━━━━━━━━━━━━━━━━━━━━━━━━━━━━━━\u001b[0m \u001b[32m56.3/56.3 MB\u001b[0m \u001b[31m28.3 MB/s\u001b[0m eta \u001b[36m0:00:00\u001b[0m\r\n",
      "\u001b[?25hDownloading nvidia_cusolver_cu12-11.6.1.9-py3-none-manylinux2014_x86_64.whl (127.9 MB)\r\n",
      "\u001b[2K   \u001b[90m━━━━━━━━━━━━━━━━━━━━━━━━━━━━━━━━━━━━━━━━\u001b[0m \u001b[32m127.9/127.9 MB\u001b[0m \u001b[31m12.8 MB/s\u001b[0m eta \u001b[36m0:00:00\u001b[0m\r\n",
      "\u001b[?25hDownloading nvidia_cusparse_cu12-12.3.1.170-py3-none-manylinux2014_x86_64.whl (207.5 MB)\r\n",
      "\u001b[2K   \u001b[90m━━━━━━━━━━━━━━━━━━━━━━━━━━━━━━━━━━━━━━━━\u001b[0m \u001b[32m207.5/207.5 MB\u001b[0m \u001b[31m7.9 MB/s\u001b[0m eta \u001b[36m0:00:00\u001b[0m\r\n",
      "\u001b[?25hDownloading nvidia_nvjitlink_cu12-12.4.127-py3-none-manylinux2014_x86_64.whl (21.1 MB)\r\n",
      "\u001b[2K   \u001b[90m━━━━━━━━━━━━━━━━━━━━━━━━━━━━━━━━━━━━━━━━\u001b[0m \u001b[32m21.1/21.1 MB\u001b[0m \u001b[31m59.7 MB/s\u001b[0m eta \u001b[36m0:00:00\u001b[0m\r\n",
      "\u001b[?25hDownloading ultralytics_thop-2.0.14-py3-none-any.whl (26 kB)\r\n",
      "Installing collected packages: nvidia-nvjitlink-cu12, nvidia-curand-cu12, nvidia-cufft-cu12, nvidia-cublas-cu12, nvidia-cusparse-cu12, nvidia-cudnn-cu12, nvidia-cusolver-cu12, ultralytics-thop, ultralytics\r\n",
      "  Attempting uninstall: nvidia-nvjitlink-cu12\r\n",
      "    Found existing installation: nvidia-nvjitlink-cu12 12.8.93\r\n",
      "    Uninstalling nvidia-nvjitlink-cu12-12.8.93:\r\n",
      "      Successfully uninstalled nvidia-nvjitlink-cu12-12.8.93\r\n",
      "  Attempting uninstall: nvidia-curand-cu12\r\n",
      "    Found existing installation: nvidia-curand-cu12 10.3.9.90\r\n",
      "    Uninstalling nvidia-curand-cu12-10.3.9.90:\r\n",
      "      Successfully uninstalled nvidia-curand-cu12-10.3.9.90\r\n",
      "  Attempting uninstall: nvidia-cufft-cu12\r\n",
      "    Found existing installation: nvidia-cufft-cu12 11.3.3.83\r\n",
      "    Uninstalling nvidia-cufft-cu12-11.3.3.83:\r\n",
      "      Successfully uninstalled nvidia-cufft-cu12-11.3.3.83\r\n",
      "  Attempting uninstall: nvidia-cublas-cu12\r\n",
      "    Found existing installation: nvidia-cublas-cu12 12.8.4.1\r\n",
      "    Uninstalling nvidia-cublas-cu12-12.8.4.1:\r\n",
      "      Successfully uninstalled nvidia-cublas-cu12-12.8.4.1\r\n",
      "  Attempting uninstall: nvidia-cusparse-cu12\r\n",
      "    Found existing installation: nvidia-cusparse-cu12 12.5.8.93\r\n",
      "    Uninstalling nvidia-cusparse-cu12-12.5.8.93:\r\n",
      "      Successfully uninstalled nvidia-cusparse-cu12-12.5.8.93\r\n",
      "  Attempting uninstall: nvidia-cudnn-cu12\r\n",
      "    Found existing installation: nvidia-cudnn-cu12 9.3.0.75\r\n",
      "    Uninstalling nvidia-cudnn-cu12-9.3.0.75:\r\n",
      "      Successfully uninstalled nvidia-cudnn-cu12-9.3.0.75\r\n",
      "  Attempting uninstall: nvidia-cusolver-cu12\r\n",
      "    Found existing installation: nvidia-cusolver-cu12 11.7.3.90\r\n",
      "    Uninstalling nvidia-cusolver-cu12-11.7.3.90:\r\n",
      "      Successfully uninstalled nvidia-cusolver-cu12-11.7.3.90\r\n",
      "\u001b[31mERROR: pip's dependency resolver does not currently take into account all the packages that are installed. This behaviour is the source of the following dependency conflicts.\r\n",
      "pylibcugraph-cu12 24.12.0 requires pylibraft-cu12==24.12.*, but you have pylibraft-cu12 25.2.0 which is incompatible.\r\n",
      "pylibcugraph-cu12 24.12.0 requires rmm-cu12==24.12.*, but you have rmm-cu12 25.2.0 which is incompatible.\u001b[0m\u001b[31m\r\n",
      "\u001b[0mSuccessfully installed nvidia-cublas-cu12-12.4.5.8 nvidia-cudnn-cu12-9.1.0.70 nvidia-cufft-cu12-11.2.1.3 nvidia-curand-cu12-10.3.5.147 nvidia-cusolver-cu12-11.6.1.9 nvidia-cusparse-cu12-12.3.1.170 nvidia-nvjitlink-cu12-12.4.127 ultralytics-8.3.148 ultralytics-thop-2.0.14\r\n",
      "Collecting torchtoolbox\r\n",
      "  Downloading torchtoolbox-0.1.8.2-py3-none-any.whl.metadata (15 kB)\r\n",
      "Requirement already satisfied: numpy in /usr/local/lib/python3.11/dist-packages (from torchtoolbox) (1.26.4)\r\n",
      "Requirement already satisfied: tqdm in /usr/local/lib/python3.11/dist-packages (from torchtoolbox) (4.67.1)\r\n",
      "Requirement already satisfied: pyarrow in /usr/local/lib/python3.11/dist-packages (from torchtoolbox) (19.0.1)\r\n",
      "Requirement already satisfied: six in /usr/local/lib/python3.11/dist-packages (from torchtoolbox) (1.17.0)\r\n",
      "Collecting lmdb (from torchtoolbox)\r\n",
      "  Downloading lmdb-1.6.2-cp311-cp311-manylinux_2_17_x86_64.manylinux2014_x86_64.whl.metadata (1.1 kB)\r\n",
      "Requirement already satisfied: scikit-learn in /usr/local/lib/python3.11/dist-packages (from torchtoolbox) (1.2.2)\r\n",
      "Requirement already satisfied: scipy in /usr/local/lib/python3.11/dist-packages (from torchtoolbox) (1.15.2)\r\n",
      "Requirement already satisfied: opencv-python in /usr/local/lib/python3.11/dist-packages (from torchtoolbox) (4.11.0.86)\r\n",
      "Requirement already satisfied: pyyaml in /usr/local/lib/python3.11/dist-packages (from torchtoolbox) (6.0.2)\r\n",
      "Requirement already satisfied: tensorboard in /usr/local/lib/python3.11/dist-packages (from torchtoolbox) (2.18.0)\r\n",
      "Requirement already satisfied: prettytable in /usr/local/lib/python3.11/dist-packages (from torchtoolbox) (3.14.0)\r\n",
      "Requirement already satisfied: transformers in /usr/local/lib/python3.11/dist-packages (from torchtoolbox) (4.51.1)\r\n",
      "Requirement already satisfied: mkl_fft in /usr/local/lib/python3.11/dist-packages (from numpy->torchtoolbox) (1.3.8)\r\n",
      "Requirement already satisfied: mkl_random in /usr/local/lib/python3.11/dist-packages (from numpy->torchtoolbox) (1.2.4)\r\n",
      "Requirement already satisfied: mkl_umath in /usr/local/lib/python3.11/dist-packages (from numpy->torchtoolbox) (0.1.1)\r\n",
      "Requirement already satisfied: mkl in /usr/local/lib/python3.11/dist-packages (from numpy->torchtoolbox) (2025.1.0)\r\n",
      "Requirement already satisfied: tbb4py in /usr/local/lib/python3.11/dist-packages (from numpy->torchtoolbox) (2022.1.0)\r\n",
      "Requirement already satisfied: mkl-service in /usr/local/lib/python3.11/dist-packages (from numpy->torchtoolbox) (2.4.1)\r\n",
      "Requirement already satisfied: wcwidth in /usr/local/lib/python3.11/dist-packages (from prettytable->torchtoolbox) (0.2.13)\r\n",
      "Requirement already satisfied: joblib>=1.1.1 in /usr/local/lib/python3.11/dist-packages (from scikit-learn->torchtoolbox) (1.4.2)\r\n",
      "Requirement already satisfied: threadpoolctl>=2.0.0 in /usr/local/lib/python3.11/dist-packages (from scikit-learn->torchtoolbox) (3.6.0)\r\n",
      "Requirement already satisfied: absl-py>=0.4 in /usr/local/lib/python3.11/dist-packages (from tensorboard->torchtoolbox) (1.4.0)\r\n",
      "Requirement already satisfied: grpcio>=1.48.2 in /usr/local/lib/python3.11/dist-packages (from tensorboard->torchtoolbox) (1.70.0)\r\n",
      "Requirement already satisfied: markdown>=2.6.8 in /usr/local/lib/python3.11/dist-packages (from tensorboard->torchtoolbox) (3.7)\r\n",
      "Requirement already satisfied: packaging in /usr/local/lib/python3.11/dist-packages (from tensorboard->torchtoolbox) (24.2)\r\n",
      "Requirement already satisfied: protobuf!=4.24.0,>=3.19.6 in /usr/local/lib/python3.11/dist-packages (from tensorboard->torchtoolbox) (3.20.3)\r\n",
      "Requirement already satisfied: setuptools>=41.0.0 in /usr/local/lib/python3.11/dist-packages (from tensorboard->torchtoolbox) (75.1.0)\r\n",
      "Requirement already satisfied: tensorboard-data-server<0.8.0,>=0.7.0 in /usr/local/lib/python3.11/dist-packages (from tensorboard->torchtoolbox) (0.7.2)\r\n",
      "Requirement already satisfied: werkzeug>=1.0.1 in /usr/local/lib/python3.11/dist-packages (from tensorboard->torchtoolbox) (3.1.3)\r\n",
      "Requirement already satisfied: filelock in /usr/local/lib/python3.11/dist-packages (from transformers->torchtoolbox) (3.18.0)\r\n",
      "Requirement already satisfied: huggingface-hub<1.0,>=0.30.0 in /usr/local/lib/python3.11/dist-packages (from transformers->torchtoolbox) (0.30.2)\r\n",
      "Requirement already satisfied: regex!=2019.12.17 in /usr/local/lib/python3.11/dist-packages (from transformers->torchtoolbox) (2024.11.6)\r\n",
      "Requirement already satisfied: requests in /usr/local/lib/python3.11/dist-packages (from transformers->torchtoolbox) (2.32.3)\r\n",
      "Requirement already satisfied: tokenizers<0.22,>=0.21 in /usr/local/lib/python3.11/dist-packages (from transformers->torchtoolbox) (0.21.0)\r\n",
      "Requirement already satisfied: safetensors>=0.4.3 in /usr/local/lib/python3.11/dist-packages (from transformers->torchtoolbox) (0.5.2)\r\n",
      "Requirement already satisfied: fsspec>=2023.5.0 in /usr/local/lib/python3.11/dist-packages (from huggingface-hub<1.0,>=0.30.0->transformers->torchtoolbox) (2025.3.2)\r\n",
      "Requirement already satisfied: typing-extensions>=3.7.4.3 in /usr/local/lib/python3.11/dist-packages (from huggingface-hub<1.0,>=0.30.0->transformers->torchtoolbox) (4.13.1)\r\n",
      "Requirement already satisfied: MarkupSafe>=2.1.1 in /usr/local/lib/python3.11/dist-packages (from werkzeug>=1.0.1->tensorboard->torchtoolbox) (3.0.2)\r\n",
      "Requirement already satisfied: intel-openmp<2026,>=2024 in /usr/local/lib/python3.11/dist-packages (from mkl->numpy->torchtoolbox) (2024.2.0)\r\n",
      "Requirement already satisfied: tbb==2022.* in /usr/local/lib/python3.11/dist-packages (from mkl->numpy->torchtoolbox) (2022.1.0)\r\n",
      "Requirement already satisfied: tcmlib==1.* in /usr/local/lib/python3.11/dist-packages (from tbb==2022.*->mkl->numpy->torchtoolbox) (1.2.0)\r\n",
      "Requirement already satisfied: intel-cmplr-lib-rt in /usr/local/lib/python3.11/dist-packages (from mkl_umath->numpy->torchtoolbox) (2024.2.0)\r\n",
      "Requirement already satisfied: charset-normalizer<4,>=2 in /usr/local/lib/python3.11/dist-packages (from requests->transformers->torchtoolbox) (3.4.1)\r\n",
      "Requirement already satisfied: idna<4,>=2.5 in /usr/local/lib/python3.11/dist-packages (from requests->transformers->torchtoolbox) (3.10)\r\n",
      "Requirement already satisfied: urllib3<3,>=1.21.1 in /usr/local/lib/python3.11/dist-packages (from requests->transformers->torchtoolbox) (2.3.0)\r\n",
      "Requirement already satisfied: certifi>=2017.4.17 in /usr/local/lib/python3.11/dist-packages (from requests->transformers->torchtoolbox) (2025.1.31)\r\n",
      "Requirement already satisfied: intel-cmplr-lib-ur==2024.2.0 in /usr/local/lib/python3.11/dist-packages (from intel-openmp<2026,>=2024->mkl->numpy->torchtoolbox) (2024.2.0)\r\n",
      "Downloading torchtoolbox-0.1.8.2-py3-none-any.whl (84 kB)\r\n",
      "\u001b[2K   \u001b[90m━━━━━━━━━━━━━━━━━━━━━━━━━━━━━━━━━━━━━━━━\u001b[0m \u001b[32m85.0/85.0 kB\u001b[0m \u001b[31m2.6 MB/s\u001b[0m eta \u001b[36m0:00:00\u001b[0m\r\n",
      "\u001b[?25hDownloading lmdb-1.6.2-cp311-cp311-manylinux_2_17_x86_64.manylinux2014_x86_64.whl (297 kB)\r\n",
      "\u001b[2K   \u001b[90m━━━━━━━━━━━━━━━━━━━━━━━━━━━━━━━━━━━━━━━━\u001b[0m \u001b[32m297.8/297.8 kB\u001b[0m \u001b[31m10.3 MB/s\u001b[0m eta \u001b[36m0:00:00\u001b[0m\r\n",
      "\u001b[?25hInstalling collected packages: lmdb, torchtoolbox\r\n",
      "Successfully installed lmdb-1.6.2 torchtoolbox-0.1.8.2\r\n"
     ]
    }
   ],
   "source": [
    "!pip install ultralytics\n",
    "!pip install torchtoolbox"
   ]
  },
  {
   "cell_type": "code",
   "execution_count": 2,
   "id": "f8af2607",
   "metadata": {
    "execution": {
     "iopub.execute_input": "2025-06-03T07:21:52.356014Z",
     "iopub.status.busy": "2025-06-03T07:21:52.355789Z",
     "iopub.status.idle": "2025-06-03T17:45:14.316055Z",
     "shell.execute_reply": "2025-06-03T17:45:14.315173Z"
    },
    "papermill": {
     "duration": 37401.984432,
     "end_time": "2025-06-03T17:45:14.318512",
     "exception": false,
     "start_time": "2025-06-03T07:21:52.334080",
     "status": "completed"
    },
    "tags": []
   },
   "outputs": [
    {
     "name": "stdout",
     "output_type": "stream",
     "text": [
      "Creating new Ultralytics Settings v0.0.6 file ✅ \n",
      "View Ultralytics Settings with 'yolo settings' or at '/root/.config/Ultralytics/settings.json'\n",
      "Update Settings with 'yolo settings key=value', i.e. 'yolo settings runs_dir=path/to/dir'. For help see https://docs.ultralytics.com/quickstart/#ultralytics-settings.\n"
     ]
    },
    {
     "name": "stderr",
     "output_type": "stream",
     "text": [
      "/usr/local/lib/python3.11/dist-packages/torch/nn/modules/transformer.py:379: UserWarning: enable_nested_tensor is True, but self.use_nested_tensor is False because encoder_layer.norm_first was True\n",
      "  warnings.warn(\n",
      "Epoch 1/27 [TRAIN] LR: 5.00e-05 Teach: 0.70 Scheduler: OneCycleLR:   0%|          | 1/978 [00:10<2:47:09, 10.27s/it, loss=3.68]"
     ]
    },
    {
     "name": "stdout",
     "output_type": "stream",
     "text": [
      "\n",
      "--- Training Batch 0 Examples (Content Only) ---\n",
      "  Pred: '55'\n",
      "  True: '29C61595'\n",
      "  Pred: 'AM'\n",
      "  True: '36C02655'\n",
      "  Pred: '555'\n",
      "  True: '36A42928'\n",
      "  Pred: 'U5691[UNK_38]ILX8PGLG'\n",
      "  True: '36D00869'\n",
      "  Pred: '5Z5'\n",
      "  True: '30H46232'\n",
      "-------------------------------\n"
     ]
    },
    {
     "name": "stderr",
     "output_type": "stream",
     "text": [
      "Epoch 1/27 [TRAIN] LR: 5.00e-05 Teach: 0.70 Scheduler: OneCycleLR: 100%|██████████| 978/978 [20:08<00:00,  1.24s/it, loss=2.15]\n",
      "Epoch 1/27 [VAL]: 100%|██████████| 113/113 [03:06<00:00,  1.65s/it, loss=2.38]\n"
     ]
    },
    {
     "name": "stdout",
     "output_type": "stream",
     "text": [
      "EarlyStopping: New best val_acc: 0.3070\n",
      "\n",
      "Epoch 1/27 | LR: 8.70e-05 | Teach: 0.70 | Scheduler: OneCycleLR\n",
      "  Train Loss: 2.3708 | Train Char Acc: 0.2976\n",
      "  Val Loss: 2.5121   | Val Acc (CRR): 0.3070\n",
      "  Val Exact Match Acc (E2E RR): 0.0000\n",
      "  Inference time avg: 15.0990\n",
      "  FPS: 66.2294\n",
      "----------------------------------------------------------------------\n",
      "*** New best validation accuracy: 0.3070. Saving best_model.pth ***\n"
     ]
    },
    {
     "name": "stderr",
     "output_type": "stream",
     "text": [
      "Epoch 2/27 [TRAIN] LR: 8.70e-05 Teach: 0.67 Scheduler: OneCycleLR:   0%|          | 1/978 [00:05<1:34:19,  5.79s/it, loss=2.21]"
     ]
    },
    {
     "name": "stdout",
     "output_type": "stream",
     "text": [
      "\n",
      "--- Training Batch 0 Examples (Content Only) ---\n",
      "  Pred: '39111759'\n",
      "  True: '29D177089'\n",
      "  Pred: '36A429'\n",
      "  True: '36A23994'\n",
      "  Pred: '39910569'\n",
      "  True: '21B111288'\n",
      "  Pred: '36A1305'\n",
      "  True: '36A12546'\n",
      "  Pred: '3A11026'\n",
      "  True: '61C17338'\n",
      "-------------------------------\n"
     ]
    },
    {
     "name": "stderr",
     "output_type": "stream",
     "text": [
      "Epoch 2/27 [TRAIN] LR: 8.70e-05 Teach: 0.67 Scheduler: OneCycleLR: 100%|██████████| 978/978 [20:22<00:00,  1.25s/it, loss=2.02]\n",
      "Epoch 2/27 [VAL]: 100%|██████████| 113/113 [01:03<00:00,  1.77it/s, loss=2.08]\n"
     ]
    },
    {
     "name": "stdout",
     "output_type": "stream",
     "text": [
      "EarlyStopping: New best val_acc: 0.3323\n",
      "\n",
      "Epoch 2/27 | LR: 1.86e-04 | Teach: 0.67 | Scheduler: OneCycleLR\n",
      "  Train Loss: 2.1139 | Train Char Acc: 0.3398\n",
      "  Val Loss: 2.1870   | Val Acc (CRR): 0.3323\n",
      "  Inference time avg: 16.5708\n",
      "  FPS: 60.3473\n",
      "----------------------------------------------------------------------\n",
      "*** New best validation accuracy: 0.3323. Saving best_model.pth ***\n"
     ]
    },
    {
     "name": "stderr",
     "output_type": "stream",
     "text": [
      "Epoch 3/27 [TRAIN] LR: 1.86e-04 Teach: 0.65 Scheduler: OneCycleLR:   0%|          | 1/978 [00:05<1:33:13,  5.72s/it, loss=1.96]"
     ]
    },
    {
     "name": "stdout",
     "output_type": "stream",
     "text": [
      "\n",
      "--- Training Batch 0 Examples (Content Only) ---\n",
      "  Pred: '36610030'\n",
      "  True: '33R56836'\n",
      "  Pred: '39B10005'\n",
      "  True: '29C25962'\n",
      "  Pred: '36A29854'\n",
      "  True: '36C29253'\n",
      "  Pred: '36A11255'\n",
      "  True: '30H99611'\n",
      "  Pred: '29B11525'\n",
      "  True: '29G126635'\n",
      "-------------------------------\n"
     ]
    },
    {
     "name": "stderr",
     "output_type": "stream",
     "text": [
      "Epoch 3/27 [TRAIN] LR: 1.86e-04 Teach: 0.65 Scheduler: OneCycleLR: 100%|██████████| 978/978 [20:46<00:00,  1.27s/it, loss=2.08]\n",
      "Epoch 3/27 [VAL]: 100%|██████████| 113/113 [03:03<00:00,  1.62s/it, loss=2.04]\n"
     ]
    },
    {
     "name": "stdout",
     "output_type": "stream",
     "text": [
      "EarlyStopping: New best val_acc: 0.3372\n",
      "\n",
      "Epoch 3/27 | LR: 3.14e-04 | Teach: 0.65 | Scheduler: OneCycleLR\n",
      "  Train Loss: 2.0451 | Train Char Acc: 0.3655\n",
      "  Val Loss: 2.1523   | Val Acc (CRR): 0.3372\n",
      "  Val Exact Match Acc (E2E RR): 0.0000\n",
      "  Inference time avg: 15.5276\n",
      "  FPS: 64.4014\n",
      "----------------------------------------------------------------------\n",
      "*** New best validation accuracy: 0.3372. Saving best_model.pth ***\n"
     ]
    },
    {
     "name": "stderr",
     "output_type": "stream",
     "text": [
      "Epoch 4/27 [TRAIN] LR: 3.14e-04 Teach: 0.62 Scheduler: OneCycleLR:   0%|          | 1/978 [00:05<1:33:26,  5.74s/it, loss=2.23]"
     ]
    },
    {
     "name": "stdout",
     "output_type": "stream",
     "text": [
      "\n",
      "--- Training Batch 0 Examples (Content Only) ---\n",
      "  Pred: '36A42251'\n",
      "  True: '36C21562'\n",
      "  Pred: '36A42216'\n",
      "  True: '36A28373'\n",
      "  Pred: '29B115922'\n",
      "  True: '35N113292'\n",
      "  Pred: '36C0018'\n",
      "  True: '36M6195'\n",
      "  Pred: '36A0210'\n",
      "  True: '36A42345'\n",
      "-------------------------------\n"
     ]
    },
    {
     "name": "stderr",
     "output_type": "stream",
     "text": [
      "Epoch 4/27 [TRAIN] LR: 3.14e-04 Teach: 0.62 Scheduler: OneCycleLR: 100%|██████████| 978/978 [20:27<00:00,  1.26s/it, loss=2.03]\n",
      "Epoch 4/27 [VAL]: 100%|██████████| 113/113 [01:04<00:00,  1.76it/s, loss=2.07]\n"
     ]
    },
    {
     "name": "stdout",
     "output_type": "stream",
     "text": [
      "EarlyStopping: New best val_acc: 0.3470\n",
      "\n",
      "Epoch 4/27 | LR: 4.30e-04 | Teach: 0.62 | Scheduler: OneCycleLR\n",
      "  Train Loss: 1.9912 | Train Char Acc: 0.3899\n",
      "  Val Loss: 2.1501   | Val Acc (CRR): 0.3470\n",
      "  Inference time avg: 16.6741\n",
      "  FPS: 59.9733\n",
      "----------------------------------------------------------------------\n",
      "*** New best validation accuracy: 0.3470. Saving best_model.pth ***\n"
     ]
    },
    {
     "name": "stderr",
     "output_type": "stream",
     "text": [
      "Epoch 5/27 [TRAIN] LR: 4.30e-04 Teach: 0.60 Scheduler: OneCycleLR:   0%|          | 1/978 [00:05<1:30:16,  5.54s/it, loss=2.05]"
     ]
    },
    {
     "name": "stdout",
     "output_type": "stream",
     "text": [
      "\n",
      "--- Training Batch 0 Examples (Content Only) ---\n",
      "  Pred: '36C00222'\n",
      "  True: '36C09631'\n",
      "  Pred: '36A42232'\n",
      "  True: '29Y126455'\n",
      "  Pred: '36C29992'\n",
      "  True: '36C16975'\n",
      "  Pred: '36A22222'\n",
      "  True: '29E228302'\n",
      "  Pred: '36M2029'\n",
      "  True: '30M5945'\n",
      "-------------------------------\n"
     ]
    },
    {
     "name": "stderr",
     "output_type": "stream",
     "text": [
      "Epoch 5/27 [TRAIN] LR: 4.30e-04 Teach: 0.60 Scheduler: OneCycleLR: 100%|██████████| 978/978 [20:44<00:00,  1.27s/it, loss=1.92]\n",
      "Epoch 5/27 [VAL]: 100%|██████████| 113/113 [03:07<00:00,  1.66s/it, loss=2.02]\n"
     ]
    },
    {
     "name": "stdout",
     "output_type": "stream",
     "text": [
      "EarlyStopping: New best val_acc: 0.3538\n",
      "\n",
      "Epoch 5/27 | LR: 4.94e-04 | Teach: 0.60 | Scheduler: OneCycleLR\n",
      "  Train Loss: 1.9356 | Train Char Acc: 0.4180\n",
      "  Val Loss: 2.1367   | Val Acc (CRR): 0.3538\n",
      "  Val Exact Match Acc (E2E RR): 0.0000\n",
      "  Inference time avg: 15.7061\n",
      "  FPS: 63.6694\n",
      "----------------------------------------------------------------------\n",
      "*** New best validation accuracy: 0.3538. Saving best_model.pth ***\n"
     ]
    },
    {
     "name": "stderr",
     "output_type": "stream",
     "text": [
      "Epoch 6/27 [TRAIN] LR: 4.94e-04 Teach: 0.57 Scheduler: OneCycleLR:   0%|          | 1/978 [00:05<1:35:57,  5.89s/it, loss=1.85]"
     ]
    },
    {
     "name": "stdout",
     "output_type": "stream",
     "text": [
      "\n",
      "--- Training Batch 0 Examples (Content Only) ---\n",
      "  Pred: '36C10033'\n",
      "  True: '36C02876'\n",
      "  Pred: '29G11433'\n",
      "  True: '29X104617'\n",
      "  Pred: '36A09500'\n",
      "  True: '36C28426'\n",
      "  Pred: '36A01348'\n",
      "  True: '36A08129'\n",
      "  Pred: '36A1411'\n",
      "  True: '36N5699'\n",
      "-------------------------------\n"
     ]
    },
    {
     "name": "stderr",
     "output_type": "stream",
     "text": [
      "Epoch 6/27 [TRAIN] LR: 4.94e-04 Teach: 0.57 Scheduler: OneCycleLR: 100%|██████████| 978/978 [20:51<00:00,  1.28s/it, loss=1.75]\n",
      "Epoch 6/27 [VAL]: 100%|██████████| 113/113 [01:03<00:00,  1.79it/s, loss=2.06]\n"
     ]
    },
    {
     "name": "stdout",
     "output_type": "stream",
     "text": [
      "EarlyStopping: New best val_acc: 0.3689\n",
      "\n",
      "Epoch 6/27 | LR: 4.99e-04 | Teach: 0.57 | Scheduler: OneCycleLR\n",
      "  Train Loss: 1.8873 | Train Char Acc: 0.4456\n",
      "  Val Loss: 2.1119   | Val Acc (CRR): 0.3689\n",
      "  Inference time avg: 16.3472\n",
      "  FPS: 61.1724\n",
      "----------------------------------------------------------------------\n",
      "*** New best validation accuracy: 0.3689. Saving best_model.pth ***\n"
     ]
    },
    {
     "name": "stderr",
     "output_type": "stream",
     "text": [
      "Epoch 7/27 [TRAIN] LR: 4.99e-04 Teach: 0.55 Scheduler: OneCycleLR:   0%|          | 1/978 [00:06<1:50:32,  6.79s/it, loss=1.82]"
     ]
    },
    {
     "name": "stdout",
     "output_type": "stream",
     "text": [
      "\n",
      "--- Training Batch 0 Examples (Content Only) ---\n",
      "  Pred: '36M43171'\n",
      "  True: '36A24584'\n",
      "  Pred: '36A02539'\n",
      "  True: '36A07507'\n",
      "  Pred: '39M11444'\n",
      "  True: '29M120326'\n",
      "  Pred: '36M1095'\n",
      "  True: '36N1805'\n",
      "  Pred: '36A11999'\n",
      "  True: '36A17559'\n",
      "-------------------------------\n"
     ]
    },
    {
     "name": "stderr",
     "output_type": "stream",
     "text": [
      "Epoch 7/27 [TRAIN] LR: 4.99e-04 Teach: 0.55 Scheduler: OneCycleLR: 100%|██████████| 978/978 [20:51<00:00,  1.28s/it, loss=1.82]\n",
      "Epoch 7/27 [VAL]: 100%|██████████| 113/113 [03:03<00:00,  1.63s/it, loss=2.01]\n"
     ]
    },
    {
     "name": "stdout",
     "output_type": "stream",
     "text": [
      "EarlyStopping: New best val_acc: 0.3727\n",
      "\n",
      "Epoch 7/27 | LR: 4.93e-04 | Teach: 0.55 | Scheduler: OneCycleLR\n",
      "  Train Loss: 1.8207 | Train Char Acc: 0.4841\n",
      "  Val Loss: 2.1114   | Val Acc (CRR): 0.3727\n",
      "  Val Exact Match Acc (E2E RR): 0.0000\n",
      "  Inference time avg: 15.5413\n",
      "  FPS: 64.3448\n",
      "----------------------------------------------------------------------\n",
      "*** New best validation accuracy: 0.3727. Saving best_model.pth ***\n"
     ]
    },
    {
     "name": "stderr",
     "output_type": "stream",
     "text": [
      "Epoch 8/27 [TRAIN] LR: 4.93e-04 Teach: 0.53 Scheduler: OneCycleLR:   0%|          | 1/978 [00:05<1:30:00,  5.53s/it, loss=1.67]"
     ]
    },
    {
     "name": "stdout",
     "output_type": "stream",
     "text": [
      "\n",
      "--- Training Batch 0 Examples (Content Only) ---\n",
      "  Pred: '29G11114'\n",
      "  True: '29Y524246'\n",
      "  Pred: '36C06540'\n",
      "  True: '36C16525'\n",
      "  Pred: '20K1112'\n",
      "  True: '30P72987'\n",
      "  Pred: '36A00722'\n",
      "  True: '36A00714'\n",
      "  Pred: '36A23072'\n",
      "  True: '36A23887'\n",
      "-------------------------------\n"
     ]
    },
    {
     "name": "stderr",
     "output_type": "stream",
     "text": [
      "Epoch 8/27 [TRAIN] LR: 4.93e-04 Teach: 0.53 Scheduler: OneCycleLR: 100%|██████████| 978/978 [20:18<00:00,  1.25s/it, loss=1.59]\n",
      "Epoch 8/27 [VAL]: 100%|██████████| 113/113 [01:03<00:00,  1.78it/s, loss=2.01]\n"
     ]
    },
    {
     "name": "stdout",
     "output_type": "stream",
     "text": [
      "EarlyStopping: New best val_acc: 0.3899\n",
      "\n",
      "Epoch 8/27 | LR: 4.82e-04 | Teach: 0.53 | Scheduler: OneCycleLR\n",
      "  Train Loss: 1.7414 | Train Char Acc: 0.5288\n",
      "  Val Loss: 2.0586   | Val Acc (CRR): 0.3899\n",
      "  Inference time avg: 16.5745\n",
      "  FPS: 60.3336\n",
      "----------------------------------------------------------------------\n",
      "*** New best validation accuracy: 0.3899. Saving best_model.pth ***\n"
     ]
    },
    {
     "name": "stderr",
     "output_type": "stream",
     "text": [
      "Epoch 9/27 [TRAIN] LR: 4.82e-04 Teach: 0.50 Scheduler: OneCycleLR:   0%|          | 1/978 [00:06<1:39:02,  6.08s/it, loss=1.61]"
     ]
    },
    {
     "name": "stdout",
     "output_type": "stream",
     "text": [
      "\n",
      "--- Training Batch 0 Examples (Content Only) ---\n",
      "  Pred: '36A3690'\n",
      "  True: '36N2225'\n",
      "  Pred: '36A03679'\n",
      "  True: '36A43676'\n",
      "  Pred: '36B03334'\n",
      "  True: '36B03334'\n",
      "  Pred: '36A35948'\n",
      "  True: '36A16040'\n",
      "  Pred: '36A39336'\n",
      "  True: '36A37968'\n",
      "-------------------------------\n"
     ]
    },
    {
     "name": "stderr",
     "output_type": "stream",
     "text": [
      "Epoch 9/27 [TRAIN] LR: 4.82e-04 Teach: 0.50 Scheduler: OneCycleLR: 100%|██████████| 978/978 [21:00<00:00,  1.29s/it, loss=1.67]\n",
      "Epoch 9/27 [VAL]: 100%|██████████| 113/113 [03:05<00:00,  1.64s/it, loss=1.95]\n"
     ]
    },
    {
     "name": "stdout",
     "output_type": "stream",
     "text": [
      "EarlyStopping: New best val_acc: 0.4214\n",
      "\n",
      "Epoch 9/27 | LR: 4.66e-04 | Teach: 0.50 | Scheduler: OneCycleLR\n",
      "  Train Loss: 1.6655 | Train Char Acc: 0.5685\n",
      "  Val Loss: 2.0071   | Val Acc (CRR): 0.4214\n",
      "  Val Exact Match Acc (E2E RR): 0.0011\n",
      "  Inference time avg: 15.5151\n",
      "  FPS: 64.4533\n",
      "----------------------------------------------------------------------\n",
      "*** New best validation accuracy: 0.4214. Saving best_model.pth ***\n"
     ]
    },
    {
     "name": "stderr",
     "output_type": "stream",
     "text": [
      "Epoch 10/27 [TRAIN] LR: 4.66e-04 Teach: 0.47 Scheduler: OneCycleLR:   0%|          | 1/978 [00:06<1:41:04,  6.21s/it, loss=1.59]"
     ]
    },
    {
     "name": "stdout",
     "output_type": "stream",
     "text": [
      "\n",
      "--- Training Batch 0 Examples (Content Only) ---\n",
      "  Pred: '36C04587'\n",
      "  True: '36C04967'\n",
      "  Pred: '36B00914'\n",
      "  True: '36D00912'\n",
      "  Pred: '36C07773'\n",
      "  True: '36C07783'\n",
      "  Pred: '36C27770'\n",
      "  True: '36C27276'\n",
      "  Pred: '36C21374'\n",
      "  True: '36C11246'\n",
      "-------------------------------\n"
     ]
    },
    {
     "name": "stderr",
     "output_type": "stream",
     "text": [
      "Epoch 10/27 [TRAIN] LR: 4.66e-04 Teach: 0.47 Scheduler: OneCycleLR: 100%|██████████| 978/978 [20:38<00:00,  1.27s/it, loss=1.76]\n",
      "Epoch 10/27 [VAL]: 100%|██████████| 113/113 [01:05<00:00,  1.72it/s, loss=1.9]\n"
     ]
    },
    {
     "name": "stdout",
     "output_type": "stream",
     "text": [
      "EarlyStopping: New best val_acc: 0.4626\n",
      "\n",
      "Epoch 10/27 | LR: 4.46e-04 | Teach: 0.47 | Scheduler: OneCycleLR\n",
      "  Train Loss: 1.6269 | Train Char Acc: 0.5895\n",
      "  Val Loss: 1.9435   | Val Acc (CRR): 0.4626\n",
      "  Inference time avg: 17.0809\n",
      "  FPS: 58.5451\n",
      "----------------------------------------------------------------------\n",
      "*** New best validation accuracy: 0.4626. Saving best_model.pth ***\n"
     ]
    },
    {
     "name": "stderr",
     "output_type": "stream",
     "text": [
      "Epoch 11/27 [TRAIN] LR: 4.46e-04 Teach: 0.45 Scheduler: OneCycleLR:   0%|          | 1/978 [00:06<1:46:08,  6.52s/it, loss=1.66]"
     ]
    },
    {
     "name": "stdout",
     "output_type": "stream",
     "text": [
      "\n",
      "--- Training Batch 0 Examples (Content Only) ---\n",
      "  Pred: '39A6233'\n",
      "  True: '29M2338'\n",
      "  Pred: '39B11888'\n",
      "  True: '29Y510214'\n",
      "  Pred: '36A04543'\n",
      "  True: '36A08562'\n",
      "  Pred: '29G128246'\n",
      "  True: '29V700488'\n",
      "  Pred: '36C00866'\n",
      "  True: '36C08656'\n",
      "-------------------------------\n"
     ]
    },
    {
     "name": "stderr",
     "output_type": "stream",
     "text": [
      "Epoch 11/27 [TRAIN] LR: 4.46e-04 Teach: 0.45 Scheduler: OneCycleLR: 100%|██████████| 978/978 [21:01<00:00,  1.29s/it, loss=1.61]\n",
      "Epoch 11/27 [VAL]: 100%|██████████| 113/113 [03:06<00:00,  1.65s/it, loss=1.84]\n"
     ]
    },
    {
     "name": "stdout",
     "output_type": "stream",
     "text": [
      "EarlyStopping: New best val_acc: 0.5026\n",
      "\n",
      "Epoch 11/27 | LR: 4.22e-04 | Teach: 0.45 | Scheduler: OneCycleLR\n",
      "  Train Loss: 1.5983 | Train Char Acc: 0.6072\n",
      "  Val Loss: 1.8844   | Val Acc (CRR): 0.5026\n",
      "  Val Exact Match Acc (E2E RR): 0.0056\n",
      "  Inference time avg: 15.7193\n",
      "  FPS: 63.6161\n",
      "----------------------------------------------------------------------\n",
      "*** New best validation accuracy: 0.5026. Saving best_model.pth ***\n"
     ]
    },
    {
     "name": "stderr",
     "output_type": "stream",
     "text": [
      "Epoch 12/27 [TRAIN] LR: 4.22e-04 Teach: 0.42 Scheduler: OneCycleLR:   0%|          | 1/978 [00:05<1:25:13,  5.23s/it, loss=1.67]"
     ]
    },
    {
     "name": "stdout",
     "output_type": "stream",
     "text": [
      "\n",
      "--- Training Batch 0 Examples (Content Only) ---\n",
      "  Pred: '36C24795'\n",
      "  True: '36C29293'\n",
      "  Pred: '36B1786'\n",
      "  True: '36B2177'\n",
      "  Pred: '36A00019'\n",
      "  True: '36A41088'\n",
      "  Pred: '36A22438'\n",
      "  True: '36A17082'\n",
      "  Pred: '30L12274'\n",
      "  True: '30K12241'\n",
      "-------------------------------\n"
     ]
    },
    {
     "name": "stderr",
     "output_type": "stream",
     "text": [
      "Epoch 12/27 [TRAIN] LR: 4.22e-04 Teach: 0.42 Scheduler: OneCycleLR: 100%|██████████| 978/978 [20:43<00:00,  1.27s/it, loss=1.36]\n",
      "Epoch 12/27 [VAL]: 100%|██████████| 113/113 [01:03<00:00,  1.77it/s, loss=1.67]\n"
     ]
    },
    {
     "name": "stdout",
     "output_type": "stream",
     "text": [
      "EarlyStopping: New best val_acc: 0.5653\n",
      "\n",
      "Epoch 12/27 | LR: 3.93e-04 | Teach: 0.42 | Scheduler: OneCycleLR\n",
      "  Train Loss: 1.5676 | Train Char Acc: 0.6231\n",
      "  Val Loss: 1.7520   | Val Acc (CRR): 0.5653\n",
      "  Inference time avg: 16.7288\n",
      "  FPS: 59.7773\n",
      "----------------------------------------------------------------------\n",
      "*** New best validation accuracy: 0.5653. Saving best_model.pth ***\n"
     ]
    },
    {
     "name": "stderr",
     "output_type": "stream",
     "text": [
      "Epoch 13/27 [TRAIN] LR: 3.93e-04 Teach: 0.40 Scheduler: OneCycleLR:   0%|          | 1/978 [00:06<1:43:39,  6.37s/it, loss=1.53]"
     ]
    },
    {
     "name": "stdout",
     "output_type": "stream",
     "text": [
      "\n",
      "--- Training Batch 0 Examples (Content Only) ---\n",
      "  Pred: '36A23569'\n",
      "  True: '36A12590'\n",
      "  Pred: '36C29199'\n",
      "  True: '36C29199'\n",
      "  Pred: '29E105226'\n",
      "  True: '29D170136'\n",
      "  Pred: '29C17867'\n",
      "  True: '29D30850'\n",
      "  Pred: '36A02839'\n",
      "  True: '36A02839'\n",
      "-------------------------------\n"
     ]
    },
    {
     "name": "stderr",
     "output_type": "stream",
     "text": [
      "Epoch 13/27 [TRAIN] LR: 3.93e-04 Teach: 0.40 Scheduler: OneCycleLR: 100%|██████████| 978/978 [21:14<00:00,  1.30s/it, loss=1.5]\n",
      "Epoch 13/27 [VAL]: 100%|██████████| 113/113 [03:07<00:00,  1.66s/it, loss=1.57]\n"
     ]
    },
    {
     "name": "stdout",
     "output_type": "stream",
     "text": [
      "EarlyStopping: New best val_acc: 0.6094\n",
      "\n",
      "Epoch 13/27 | LR: 3.62e-04 | Teach: 0.40 | Scheduler: OneCycleLR\n",
      "  Train Loss: 1.5304 | Train Char Acc: 0.6445\n",
      "  Val Loss: 1.6586   | Val Acc (CRR): 0.6094\n",
      "  Val Exact Match Acc (E2E RR): 0.0378\n",
      "  Inference time avg: 15.7539\n",
      "  FPS: 63.4762\n",
      "----------------------------------------------------------------------\n",
      "*** New best validation accuracy: 0.6094. Saving best_model.pth ***\n"
     ]
    },
    {
     "name": "stderr",
     "output_type": "stream",
     "text": [
      "Epoch 14/27 [TRAIN] LR: 3.62e-04 Teach: 0.38 Scheduler: OneCycleLR:   0%|          | 1/978 [00:05<1:26:55,  5.34s/it, loss=1.47]"
     ]
    },
    {
     "name": "stdout",
     "output_type": "stream",
     "text": [
      "\n",
      "--- Training Batch 0 Examples (Content Only) ---\n",
      "  Pred: '36B02090'\n",
      "  True: '36B03090'\n",
      "  Pred: '36A42806'\n",
      "  True: '36C28808'\n",
      "  Pred: '36A11012'\n",
      "  True: '36A11812'\n",
      "  Pred: '36A12427'\n",
      "  True: '36A04647'\n",
      "  Pred: '36C07139'\n",
      "  True: '36C07139'\n",
      "-------------------------------\n"
     ]
    },
    {
     "name": "stderr",
     "output_type": "stream",
     "text": [
      "Epoch 14/27 [TRAIN] LR: 3.62e-04 Teach: 0.38 Scheduler: OneCycleLR: 100%|██████████| 978/978 [20:50<00:00,  1.28s/it, loss=1.52]\n",
      "Epoch 14/27 [VAL]: 100%|██████████| 113/113 [01:03<00:00,  1.77it/s, loss=1.51]\n"
     ]
    },
    {
     "name": "stdout",
     "output_type": "stream",
     "text": [
      "EarlyStopping: New best val_acc: 0.6395\n",
      "\n",
      "Epoch 14/27 | LR: 3.29e-04 | Teach: 0.38 | Scheduler: OneCycleLR\n",
      "  Train Loss: 1.5111 | Train Char Acc: 0.6551\n",
      "  Val Loss: 1.6043   | Val Acc (CRR): 0.6395\n",
      "  Inference time avg: 16.6901\n",
      "  FPS: 59.9157\n",
      "----------------------------------------------------------------------\n",
      "*** New best validation accuracy: 0.6395. Saving best_model.pth ***\n"
     ]
    },
    {
     "name": "stderr",
     "output_type": "stream",
     "text": [
      "Epoch 15/27 [TRAIN] LR: 3.29e-04 Teach: 0.35 Scheduler: OneCycleLR:   0%|          | 1/978 [00:05<1:28:49,  5.45s/it, loss=1.44]"
     ]
    },
    {
     "name": "stdout",
     "output_type": "stream",
     "text": [
      "\n",
      "--- Training Batch 0 Examples (Content Only) ---\n",
      "  Pred: '36A42534'\n",
      "  True: '36A42534'\n",
      "  Pred: '36A31687'\n",
      "  True: '36A41087'\n",
      "  Pred: '36C13204'\n",
      "  True: '36A13204'\n",
      "  Pred: '36A38576'\n",
      "  True: '36A05576'\n",
      "  Pred: '36A34293'\n",
      "  True: '30L4254'\n",
      "-------------------------------\n"
     ]
    },
    {
     "name": "stderr",
     "output_type": "stream",
     "text": [
      "Epoch 15/27 [TRAIN] LR: 3.29e-04 Teach: 0.35 Scheduler: OneCycleLR: 100%|██████████| 978/978 [21:14<00:00,  1.30s/it, loss=1.58]\n",
      "Epoch 15/27 [VAL]: 100%|██████████| 113/113 [03:07<00:00,  1.66s/it, loss=1.48]\n"
     ]
    },
    {
     "name": "stdout",
     "output_type": "stream",
     "text": [
      "EarlyStopping: New best val_acc: 0.6601\n",
      "\n",
      "Epoch 15/27 | LR: 2.93e-04 | Teach: 0.35 | Scheduler: OneCycleLR\n",
      "  Train Loss: 1.4945 | Train Char Acc: 0.6640\n",
      "  Val Loss: 1.5559   | Val Acc (CRR): 0.6601\n",
      "  Val Exact Match Acc (E2E RR): 0.0803\n",
      "  Inference time avg: 15.7062\n",
      "  FPS: 63.6692\n",
      "----------------------------------------------------------------------\n",
      "*** New best validation accuracy: 0.6601. Saving best_model.pth ***\n"
     ]
    },
    {
     "name": "stderr",
     "output_type": "stream",
     "text": [
      "Epoch 16/27 [TRAIN] LR: 2.93e-04 Teach: 0.33 Scheduler: OneCycleLR:   0%|          | 1/978 [00:05<1:28:08,  5.41s/it, loss=1.38]"
     ]
    },
    {
     "name": "stdout",
     "output_type": "stream",
     "text": [
      "\n",
      "--- Training Batch 0 Examples (Content Only) ---\n",
      "  Pred: '36C05599'\n",
      "  True: '36C05529'\n",
      "  Pred: '36A11898'\n",
      "  True: '36A11996'\n",
      "  Pred: '39G111154'\n",
      "  True: '29E174420'\n",
      "  Pred: '36C27791'\n",
      "  True: '36C27791'\n",
      "  Pred: '29G125390'\n",
      "  True: '29N125380'\n",
      "-------------------------------\n"
     ]
    },
    {
     "name": "stderr",
     "output_type": "stream",
     "text": [
      "Epoch 16/27 [TRAIN] LR: 2.93e-04 Teach: 0.33 Scheduler: OneCycleLR: 100%|██████████| 978/978 [20:45<00:00,  1.27s/it, loss=1.42]\n",
      "Epoch 16/27 [VAL]: 100%|██████████| 113/113 [01:04<00:00,  1.75it/s, loss=1.45]\n"
     ]
    },
    {
     "name": "stdout",
     "output_type": "stream",
     "text": [
      "EarlyStopping: New best val_acc: 0.6723\n",
      "\n",
      "Epoch 16/27 | LR: 2.57e-04 | Teach: 0.33 | Scheduler: OneCycleLR\n",
      "  Train Loss: 1.4762 | Train Char Acc: 0.6735\n",
      "  Val Loss: 1.5273   | Val Acc (CRR): 0.6723\n",
      "  Inference time avg: 16.7719\n",
      "  FPS: 59.6236\n",
      "----------------------------------------------------------------------\n",
      "*** New best validation accuracy: 0.6723. Saving best_model.pth ***\n"
     ]
    },
    {
     "name": "stderr",
     "output_type": "stream",
     "text": [
      "Epoch 17/27 [TRAIN] LR: 2.57e-04 Teach: 0.30 Scheduler: OneCycleLR:   0%|          | 1/978 [00:05<1:35:13,  5.85s/it, loss=1.63]"
     ]
    },
    {
     "name": "stdout",
     "output_type": "stream",
     "text": [
      "\n",
      "--- Training Batch 0 Examples (Content Only) ---\n",
      "  Pred: '29M11211'\n",
      "  True: '88H54214'\n",
      "  Pred: '36M9224'\n",
      "  True: '36M9224'\n",
      "  Pred: '29G113143'\n",
      "  True: '29D159748'\n",
      "  Pred: '36C00580'\n",
      "  True: '36A11504'\n",
      "  Pred: '29D140440'\n",
      "  True: '29L156449'\n",
      "-------------------------------\n"
     ]
    },
    {
     "name": "stderr",
     "output_type": "stream",
     "text": [
      "Epoch 17/27 [TRAIN] LR: 2.57e-04 Teach: 0.30 Scheduler: OneCycleLR: 100%|██████████| 978/978 [21:18<00:00,  1.31s/it, loss=1.43]\n",
      "Epoch 17/27 [VAL]: 100%|██████████| 113/113 [03:08<00:00,  1.67s/it, loss=1.43]\n"
     ]
    },
    {
     "name": "stdout",
     "output_type": "stream",
     "text": [
      "EarlyStopping: New best val_acc: 0.6819\n",
      "\n",
      "Epoch 17/27 | LR: 2.21e-04 | Teach: 0.30 | Scheduler: OneCycleLR\n",
      "  Train Loss: 1.4662 | Train Char Acc: 0.6797\n",
      "  Val Loss: 1.4992   | Val Acc (CRR): 0.6819\n",
      "  Val Exact Match Acc (E2E RR): 0.1139\n",
      "  Inference time avg: 15.7111\n",
      "  FPS: 63.6493\n",
      "----------------------------------------------------------------------\n",
      "*** New best validation accuracy: 0.6819. Saving best_model.pth ***\n"
     ]
    },
    {
     "name": "stderr",
     "output_type": "stream",
     "text": [
      "Epoch 18/27 [TRAIN] LR: 2.21e-04 Teach: 0.28 Scheduler: OneCycleLR:   0%|          | 1/978 [00:05<1:28:53,  5.46s/it, loss=1.49]"
     ]
    },
    {
     "name": "stdout",
     "output_type": "stream",
     "text": [
      "\n",
      "--- Training Batch 0 Examples (Content Only) ---\n",
      "  Pred: '29T139526'\n",
      "  True: '29P139526'\n",
      "  Pred: '39B02800'\n",
      "  True: '88A07801'\n",
      "  Pred: '36A13506'\n",
      "  True: '36A13506'\n",
      "  Pred: '36C26584'\n",
      "  True: '36C26384'\n",
      "  Pred: '36B01042'\n",
      "  True: '36B01042'\n",
      "-------------------------------\n"
     ]
    },
    {
     "name": "stderr",
     "output_type": "stream",
     "text": [
      "Epoch 18/27 [TRAIN] LR: 2.21e-04 Teach: 0.28 Scheduler: OneCycleLR: 100%|██████████| 978/978 [21:16<00:00,  1.31s/it, loss=1.45]\n",
      "Epoch 18/27 [VAL]: 100%|██████████| 113/113 [01:03<00:00,  1.77it/s, loss=1.4]\n"
     ]
    },
    {
     "name": "stdout",
     "output_type": "stream",
     "text": [
      "EarlyStopping: New best val_acc: 0.7013\n",
      "\n",
      "Epoch 18/27 | LR: 1.85e-04 | Teach: 0.28 | Scheduler: OneCycleLR\n",
      "  Train Loss: 1.4543 | Train Char Acc: 0.6862\n",
      "  Val Loss: 1.4670   | Val Acc (CRR): 0.7013\n",
      "  Inference time avg: 16.6836\n",
      "  FPS: 59.9392\n",
      "----------------------------------------------------------------------\n",
      "*** New best validation accuracy: 0.7013. Saving best_model.pth ***\n"
     ]
    },
    {
     "name": "stderr",
     "output_type": "stream",
     "text": [
      "Epoch 19/27 [TRAIN] LR: 1.85e-04 Teach: 0.25 Scheduler: OneCycleLR:   0%|          | 1/978 [00:06<1:40:01,  6.14s/it, loss=1.38]"
     ]
    },
    {
     "name": "stdout",
     "output_type": "stream",
     "text": [
      "\n",
      "--- Training Batch 0 Examples (Content Only) ---\n",
      "  Pred: '36A05234'\n",
      "  True: '36A04320'\n",
      "  Pred: '27B111406'\n",
      "  True: '37D171406'\n",
      "  Pred: '36A43243'\n",
      "  True: '36A15448'\n",
      "  Pred: '36A37167'\n",
      "  True: '36A27102'\n",
      "  Pred: '36A01518'\n",
      "  True: '35A01518'\n",
      "-------------------------------\n"
     ]
    },
    {
     "name": "stderr",
     "output_type": "stream",
     "text": [
      "Epoch 19/27 [TRAIN] LR: 1.85e-04 Teach: 0.25 Scheduler: OneCycleLR: 100%|██████████| 978/978 [22:09<00:00,  1.36s/it, loss=1.43]\n",
      "Epoch 19/27 [VAL]: 100%|██████████| 113/113 [03:06<00:00,  1.65s/it, loss=1.37]\n"
     ]
    },
    {
     "name": "stdout",
     "output_type": "stream",
     "text": [
      "EarlyStopping: New best val_acc: 0.7063\n",
      "\n",
      "Epoch 19/27 | LR: 1.51e-04 | Teach: 0.25 | Scheduler: OneCycleLR\n",
      "  Train Loss: 1.4418 | Train Char Acc: 0.6931\n",
      "  Val Loss: 1.4487   | Val Acc (CRR): 0.7063\n",
      "  Val Exact Match Acc (E2E RR): 0.1531\n",
      "  Inference time avg: 15.7685\n",
      "  FPS: 63.4174\n",
      "----------------------------------------------------------------------\n",
      "*** New best validation accuracy: 0.7063. Saving best_model.pth ***\n"
     ]
    },
    {
     "name": "stderr",
     "output_type": "stream",
     "text": [
      "Epoch 20/27 [TRAIN] LR: 1.51e-04 Teach: 0.23 Scheduler: OneCycleLR:   0%|          | 1/978 [00:05<1:30:31,  5.56s/it, loss=1.54]"
     ]
    },
    {
     "name": "stdout",
     "output_type": "stream",
     "text": [
      "\n",
      "--- Training Batch 0 Examples (Content Only) ---\n",
      "  Pred: '36A27374'\n",
      "  True: '36A27374'\n",
      "  Pred: '36C27310'\n",
      "  True: '36C22319'\n",
      "  Pred: '36M4366'\n",
      "  True: '30T4355'\n",
      "  Pred: '36A43710'\n",
      "  True: '36A43718'\n",
      "  Pred: '36A07300'\n",
      "  True: '36A07300'\n",
      "-------------------------------\n"
     ]
    },
    {
     "name": "stderr",
     "output_type": "stream",
     "text": [
      "Epoch 20/27 [TRAIN] LR: 1.51e-04 Teach: 0.23 Scheduler: OneCycleLR: 100%|██████████| 978/978 [21:00<00:00,  1.29s/it, loss=1.36]\n",
      "Epoch 20/27 [VAL]: 100%|██████████| 113/113 [01:04<00:00,  1.74it/s, loss=1.37]\n"
     ]
    },
    {
     "name": "stdout",
     "output_type": "stream",
     "text": [
      "EarlyStopping: New best val_acc: 0.7142\n",
      "\n",
      "Epoch 20/27 | LR: 1.19e-04 | Teach: 0.23 | Scheduler: OneCycleLR\n",
      "  Train Loss: 1.4373 | Train Char Acc: 0.6950\n",
      "  Val Loss: 1.4257   | Val Acc (CRR): 0.7142\n",
      "  Inference time avg: 16.9514\n",
      "  FPS: 58.9923\n",
      "----------------------------------------------------------------------\n",
      "*** New best validation accuracy: 0.7142. Saving best_model.pth ***\n"
     ]
    },
    {
     "name": "stderr",
     "output_type": "stream",
     "text": [
      "Epoch 21/27 [TRAIN] LR: 1.19e-04 Teach: 0.20 Scheduler: OneCycleLR:   0%|          | 1/978 [00:05<1:30:55,  5.58s/it, loss=1.58]"
     ]
    },
    {
     "name": "stdout",
     "output_type": "stream",
     "text": [
      "\n",
      "--- Training Batch 0 Examples (Content Only) ---\n",
      "  Pred: '36A16712'\n",
      "  True: '34C16717'\n",
      "  Pred: '36D01101'\n",
      "  True: '36B01501'\n",
      "  Pred: '29N116555'\n",
      "  True: '37N110815'\n",
      "  Pred: '36A25015'\n",
      "  True: '36A25015'\n",
      "  Pred: '29T159665'\n",
      "  True: '29P156596'\n",
      "-------------------------------\n"
     ]
    },
    {
     "name": "stderr",
     "output_type": "stream",
     "text": [
      "Epoch 21/27 [TRAIN] LR: 1.19e-04 Teach: 0.20 Scheduler: OneCycleLR: 100%|██████████| 978/978 [20:52<00:00,  1.28s/it, loss=1.3]\n",
      "Epoch 21/27 [VAL]: 100%|██████████| 113/113 [03:04<00:00,  1.63s/it, loss=1.37]\n"
     ]
    },
    {
     "name": "stdout",
     "output_type": "stream",
     "text": [
      "EarlyStopping: New best val_acc: 0.7227\n",
      "\n",
      "Epoch 21/27 | LR: 8.93e-05 | Teach: 0.20 | Scheduler: OneCycleLR\n",
      "  Train Loss: 1.4279 | Train Char Acc: 0.6995\n",
      "  Val Loss: 1.4107   | Val Acc (CRR): 0.7227\n",
      "  Val Exact Match Acc (E2E RR): 0.1864\n",
      "  Inference time avg: 15.6856\n",
      "  FPS: 63.7526\n",
      "----------------------------------------------------------------------\n",
      "*** New best validation accuracy: 0.7227. Saving best_model.pth ***\n"
     ]
    },
    {
     "name": "stderr",
     "output_type": "stream",
     "text": [
      "Epoch 22/27 [TRAIN] LR: 8.93e-05 Teach: 0.18 Scheduler: OneCycleLR:   0%|          | 1/978 [00:06<1:39:50,  6.13s/it, loss=1.38]"
     ]
    },
    {
     "name": "stdout",
     "output_type": "stream",
     "text": [
      "\n",
      "--- Training Batch 0 Examples (Content Only) ---\n",
      "  Pred: '36A03915'\n",
      "  True: '36A03915'\n",
      "  Pred: '36A20291'\n",
      "  True: '36A20291'\n",
      "  Pred: '36A37716'\n",
      "  True: '36A37716'\n",
      "  Pred: '15B00843'\n",
      "  True: '75B00843'\n",
      "  Pred: '36M4750'\n",
      "  True: '36M4756'\n",
      "-------------------------------\n"
     ]
    },
    {
     "name": "stderr",
     "output_type": "stream",
     "text": [
      "Epoch 22/27 [TRAIN] LR: 8.93e-05 Teach: 0.18 Scheduler: OneCycleLR: 100%|██████████| 978/978 [20:51<00:00,  1.28s/it, loss=1.27]\n",
      "Epoch 22/27 [VAL]: 100%|██████████| 113/113 [01:05<00:00,  1.71it/s, loss=1.34]\n"
     ]
    },
    {
     "name": "stdout",
     "output_type": "stream",
     "text": [
      "EarlyStopping: New best val_acc: 0.7256\n",
      "\n",
      "Epoch 22/27 | LR: 6.32e-05 | Teach: 0.18 | Scheduler: OneCycleLR\n",
      "  Train Loss: 1.4243 | Train Char Acc: 0.7027\n",
      "  Val Loss: 1.4043   | Val Acc (CRR): 0.7256\n",
      "  Inference time avg: 17.1437\n",
      "  FPS: 58.3303\n",
      "----------------------------------------------------------------------\n",
      "*** New best validation accuracy: 0.7256. Saving best_model.pth ***\n"
     ]
    },
    {
     "name": "stderr",
     "output_type": "stream",
     "text": [
      "Epoch 23/27 [TRAIN] LR: 6.32e-05 Teach: 0.15 Scheduler: OneCycleLR:   0%|          | 1/978 [00:06<1:46:48,  6.56s/it, loss=1.08]"
     ]
    },
    {
     "name": "stdout",
     "output_type": "stream",
     "text": [
      "\n",
      "--- Training Batch 0 Examples (Content Only) ---\n",
      "  Pred: '36C11518'\n",
      "  True: '36C11518'\n",
      "  Pred: '36A49000'\n",
      "  True: '36A43000'\n",
      "  Pred: '36A07949'\n",
      "  True: '36A07949'\n",
      "  Pred: '36A40338'\n",
      "  True: '36A40339'\n",
      "  Pred: '36C16920'\n",
      "  True: '36C16920'\n",
      "-------------------------------\n"
     ]
    },
    {
     "name": "stderr",
     "output_type": "stream",
     "text": [
      "Epoch 23/27 [TRAIN] LR: 6.32e-05 Teach: 0.15 Scheduler: OneCycleLR: 100%|██████████| 978/978 [21:34<00:00,  1.32s/it, loss=1.67]\n",
      "Epoch 23/27 [VAL]: 100%|██████████| 113/113 [03:07<00:00,  1.66s/it, loss=1.34]\n"
     ]
    },
    {
     "name": "stdout",
     "output_type": "stream",
     "text": [
      "EarlyStopping: New best val_acc: 0.7293\n",
      "\n",
      "Epoch 23/27 | LR: 4.11e-05 | Teach: 0.15 | Scheduler: OneCycleLR\n",
      "  Train Loss: 1.4212 | Train Char Acc: 0.7036\n",
      "  Val Loss: 1.4042   | Val Acc (CRR): 0.7293\n",
      "  Val Exact Match Acc (E2E RR): 0.2009\n",
      "  Inference time avg: 15.7590\n",
      "  FPS: 63.4557\n",
      "----------------------------------------------------------------------\n",
      "*** New best validation accuracy: 0.7293. Saving best_model.pth ***\n"
     ]
    },
    {
     "name": "stderr",
     "output_type": "stream",
     "text": [
      "Epoch 24/27 [TRAIN] LR: 4.11e-05 Teach: 0.13 Scheduler: OneCycleLR:   0%|          | 1/978 [00:05<1:34:14,  5.79s/it, loss=1.5]"
     ]
    },
    {
     "name": "stdout",
     "output_type": "stream",
     "text": [
      "\n",
      "--- Training Batch 0 Examples (Content Only) ---\n",
      "  Pred: '29C18476'\n",
      "  True: '18B146676'\n",
      "  Pred: '29C00145'\n",
      "  True: '29C80145'\n",
      "  Pred: '29B02602'\n",
      "  True: '29B07604'\n",
      "  Pred: '36A27950'\n",
      "  True: '36A37950'\n",
      "  Pred: '36C00716'\n",
      "  True: '36C00718'\n",
      "-------------------------------\n"
     ]
    },
    {
     "name": "stderr",
     "output_type": "stream",
     "text": [
      "Epoch 24/27 [TRAIN] LR: 4.11e-05 Teach: 0.13 Scheduler: OneCycleLR: 100%|██████████| 978/978 [20:59<00:00,  1.29s/it, loss=1.26]\n",
      "Epoch 24/27 [VAL]: 100%|██████████| 113/113 [01:04<00:00,  1.75it/s, loss=1.33]\n"
     ]
    },
    {
     "name": "stdout",
     "output_type": "stream",
     "text": [
      "EarlyStopping: New best val_acc: 0.7354\n",
      "\n",
      "Epoch 24/27 | LR: 2.34e-05 | Teach: 0.13 | Scheduler: OneCycleLR\n",
      "  Train Loss: 1.4204 | Train Char Acc: 0.7033\n",
      "  Val Loss: 1.3915   | Val Acc (CRR): 0.7354\n",
      "  Inference time avg: 16.7791\n",
      "  FPS: 59.5981\n",
      "----------------------------------------------------------------------\n",
      "*** New best validation accuracy: 0.7354. Saving best_model.pth ***\n"
     ]
    },
    {
     "name": "stderr",
     "output_type": "stream",
     "text": [
      "Epoch 25/27 [TRAIN] LR: 2.34e-05 Teach: 0.10 Scheduler: OneCycleLR:   0%|          | 1/978 [00:06<1:41:19,  6.22s/it, loss=1.43]"
     ]
    },
    {
     "name": "stdout",
     "output_type": "stream",
     "text": [
      "\n",
      "--- Training Batch 0 Examples (Content Only) ---\n",
      "  Pred: '36A09635'\n",
      "  True: '36A09635'\n",
      "  Pred: '36A2139'\n",
      "  True: '36A39883'\n",
      "  Pred: '36A21201'\n",
      "  True: '36A20441'\n",
      "  Pred: '36A25521'\n",
      "  True: '36A25571'\n",
      "  Pred: '36N3304'\n",
      "  True: '36N3301'\n",
      "-------------------------------\n"
     ]
    },
    {
     "name": "stderr",
     "output_type": "stream",
     "text": [
      "Epoch 25/27 [TRAIN] LR: 2.34e-05 Teach: 0.10 Scheduler: OneCycleLR: 100%|██████████| 978/978 [21:25<00:00,  1.31s/it, loss=1.46]\n",
      "Epoch 25/27 [VAL]: 100%|██████████| 113/113 [03:06<00:00,  1.65s/it, loss=1.33]\n"
     ]
    },
    {
     "name": "stdout",
     "output_type": "stream",
     "text": [
      "EarlyStopping counter: 1/7 (Best val_acc: 0.7354)\n",
      "\n",
      "Epoch 25/27 | LR: 1.05e-05 | Teach: 0.10 | Scheduler: OneCycleLR\n",
      "  Train Loss: 1.4175 | Train Char Acc: 0.7060\n",
      "  Val Loss: 1.3879   | Val Acc (CRR): 0.7348\n",
      "  Val Exact Match Acc (E2E RR): 0.2112\n",
      "  Inference time avg: 15.7369\n",
      "  FPS: 63.5450\n",
      "----------------------------------------------------------------------\n"
     ]
    },
    {
     "name": "stderr",
     "output_type": "stream",
     "text": [
      "Epoch 26/27 [TRAIN] LR: 1.05e-05 Teach: 0.08 Scheduler: OneCycleLR:   0%|          | 1/978 [00:05<1:33:54,  5.77s/it, loss=1.39]"
     ]
    },
    {
     "name": "stdout",
     "output_type": "stream",
     "text": [
      "\n",
      "--- Training Batch 0 Examples (Content Only) ---\n",
      "  Pred: '36A43951'\n",
      "  True: '36A44250'\n",
      "  Pred: '30B11471'\n",
      "  True: '30M86121'\n",
      "  Pred: '30C27756'\n",
      "  True: '30F32756'\n",
      "  Pred: '36A38950'\n",
      "  True: '36A38950'\n",
      "  Pred: '36A42564'\n",
      "  True: '36A42565'\n",
      "-------------------------------\n"
     ]
    },
    {
     "name": "stderr",
     "output_type": "stream",
     "text": [
      "Epoch 26/27 [TRAIN] LR: 1.05e-05 Teach: 0.08 Scheduler: OneCycleLR: 100%|██████████| 978/978 [21:14<00:00,  1.30s/it, loss=1.49]\n",
      "Epoch 26/27 [VAL]: 100%|██████████| 113/113 [01:04<00:00,  1.76it/s, loss=1.33]\n"
     ]
    },
    {
     "name": "stdout",
     "output_type": "stream",
     "text": [
      "EarlyStopping: New best val_acc: 0.7366\n",
      "\n",
      "Epoch 26/27 | LR: 2.63e-06 | Teach: 0.08 | Scheduler: OneCycleLR\n",
      "  Train Loss: 1.4151 | Train Char Acc: 0.7076\n",
      "  Val Loss: 1.3860   | Val Acc (CRR): 0.7366\n",
      "  Inference time avg: 16.7645\n",
      "  FPS: 59.6499\n",
      "----------------------------------------------------------------------\n",
      "*** New best validation accuracy: 0.7366. Saving best_model.pth ***\n"
     ]
    },
    {
     "name": "stderr",
     "output_type": "stream",
     "text": [
      "Epoch 27/27 [TRAIN] LR: 2.63e-06 Teach: 0.05 Scheduler: OneCycleLR:   0%|          | 1/978 [00:06<1:41:10,  6.21s/it, loss=1.54]"
     ]
    },
    {
     "name": "stdout",
     "output_type": "stream",
     "text": [
      "\n",
      "--- Training Batch 0 Examples (Content Only) ---\n",
      "  Pred: '36C05210'\n",
      "  True: '36C05210'\n",
      "  Pred: '36A21455'\n",
      "  True: '36A21466'\n",
      "  Pred: '36N1198'\n",
      "  True: '36N1099'\n",
      "  Pred: '36A1841'\n",
      "  True: '36C19888'\n",
      "  Pred: '36A12988'\n",
      "  True: '36A22088'\n",
      "-------------------------------\n"
     ]
    },
    {
     "name": "stderr",
     "output_type": "stream",
     "text": [
      "Epoch 27/27 [TRAIN] LR: 2.63e-06 Teach: 0.05 Scheduler: OneCycleLR: 100%|██████████| 978/978 [20:41<00:00,  1.27s/it, loss=1.51]\n",
      "Epoch 27/27 [VAL]: 100%|██████████| 113/113 [03:07<00:00,  1.66s/it, loss=1.33]\n"
     ]
    },
    {
     "name": "stdout",
     "output_type": "stream",
     "text": [
      "EarlyStopping counter: 1/7 (Best val_acc: 0.7366)\n",
      "\n",
      "Epoch 27/27 | LR: 5.01e-09 | Teach: 0.05 | Scheduler: OneCycleLR\n",
      "  Train Loss: 1.4213 | Train Char Acc: 0.7055\n",
      "  Val Loss: 1.3859   | Val Acc (CRR): 0.7367\n",
      "  Val Exact Match Acc (E2E RR): 0.2139\n",
      "  Inference time avg: 15.7464\n",
      "  FPS: 63.5065\n",
      "----------------------------------------------------------------------\n",
      "*** New best validation accuracy: 0.7367. Saving best_model.pth ***\n",
      "\n",
      "Training completed!\n",
      "Final val accuracy (Greedy Character Level): 0.7367\n",
      "Final val accuracy (Constrained Length Exact Match): 0.2139\n"
     ]
    },
    {
     "data": {
      "image/png": "[encoded data removed]",
      "text/plain": [
       "<Figure size 1800x1200 with 2 Axes>"
      ]
     },
     "metadata": {},
     "output_type": "display_data"
    },
    {
     "name": "stdout",
     "output_type": "stream",
     "text": [
      "Saved plots to performance_plots.png\n"
     ]
    }
   ],
   "source": [
    "import os\n",
    "os.environ[\"PYTORCH_CUDA_ALLOC_CONF\"] = \"expandable_segments:True\"\n",
    "\n",
    "import torch\n",
    "import torch.nn as nn\n",
    "from ultralytics import YOLO\n",
    "from torch.nn import MultiheadAttention\n",
    "from torchvision import transforms\n",
    "from PIL import Image\n",
    "import random\n",
    "import os\n",
    "from torch.utils.data import Dataset, DataLoader, Sampler, Subset, SubsetRandomSampler\n",
    "import numpy as np\n",
    "from tqdm import tqdm\n",
    "import matplotlib.pyplot as plt\n",
    "from torchtoolbox.tools import mixup_data, mixup_criterion\n",
    "from ultralytics.utils import LOGGER\n",
    "import logging\n",
    "import torchvision.transforms.functional as TF\n",
    "\n",
    "LOGGER.setLevel(logging.WARNING)\n",
    "\n",
    "#--- Constants ---\n",
    "CHARACTERS = '0123456789ABCDEFGHIJKLMNOPQRSTUVWXYZ'\n",
    "SOS_TOKEN = 36\n",
    "EOS_TOKEN = 37\n",
    "PAD_TOKEN = len(CHARACTERS) + 2\n",
    "NUM_CLASSES = len(CHARACTERS) + 3  # SOS, EOS, PAD\n",
    "DEVICE = 'cuda' if torch.cuda.is_available() else 'cpu'\n",
    "\n",
    "#--- Utility functions ---\n",
    "def index_to_char(indices, include_special_tokens=False):\n",
    "    result = []\n",
    "    for i in indices:\n",
    "        i = i.item() if torch.is_tensor(i) else i\n",
    "        if i == SOS_TOKEN:\n",
    "            if include_special_tokens: result.append('[SOS]')\n",
    "        elif i == EOS_TOKEN:\n",
    "            if include_special_tokens: result.append('[EOS]')\n",
    "            break\n",
    "        elif 0 <= i < len(CHARACTERS):\n",
    "            result.append(CHARACTERS[i])\n",
    "        else:\n",
    "            if include_special_tokens or i not in [SOS_TOKEN, EOS_TOKEN]:\n",
    "                result.append(f'[UNK_{i}]')\n",
    "    return ''.join(result)\n",
    "\n",
    "def char_to_indices(text):\n",
    "    indices = [SOS_TOKEN]\n",
    "    for c in text:\n",
    "        if c in CHARACTERS:\n",
    "            indices.append(CHARACTERS.index(c))\n",
    "        else:\n",
    "            indices.append(0)\n",
    "    indices.append(EOS_TOKEN)\n",
    "    return torch.tensor(indices, dtype=torch.long)\n",
    "\n",
    "#--- YOLO wrapper ---\n",
    "class YoloDetector(nn.Module):\n",
    "    def __init__(self, model_path):\n",
    "        super(YoloDetector, self).__init__()\n",
    "        self.yolo = YOLO(model_path)\n",
    "        self.yolo_model = self.yolo.model.to(DEVICE)\n",
    "        for param in self.yolo_model.parameters():\n",
    "            param.requires_grad = False  # Không cần huấn luyện YOLO\n",
    "\n",
    "    def forward(self, x):\n",
    "        with torch.no_grad():\n",
    "            results = self.yolo(x)\n",
    "        boxes = [result.boxes.xyxy.cpu().numpy() for result in results]\n",
    "        confidences = [result.boxes.conf.cpu().numpy() for result in results]\n",
    "        return boxes, confidences\n",
    "        \n",
    "    def train(self, mode: bool = True):\n",
    "        self.training = False  # Luôn giữ YOLO ở chế độ eval vì đóng băng\n",
    "        self.yolo_model.train(False)  # Chỉ gọi train trên yolo_model, không phải yolo\n",
    "        return self\n",
    "\n",
    "    def eval(self):\n",
    "        self.training = False\n",
    "        self.yolo_model.eval()\n",
    "        return self \n",
    "        \n",
    "#--- Simplified RViT ---\n",
    "class RViT(nn.Module):\n",
    "    def __init__(self, yolo_channels=3, d_model=512, num_patches=1600, n_heads=8, num_encoder_layers=3, dim_feedforward=2048, dropout_rate=0.3):\n",
    "        super().__init__()\n",
    "        self.d_model = d_model\n",
    "        self.proj = nn.Sequential(\n",
    "            nn.Conv2d(yolo_channels, d_model, kernel_size=3, padding=1),\n",
    "            nn.BatchNorm2d(d_model),\n",
    "            nn.ReLU(),\n",
    "            nn.Dropout2d(dropout_rate if dropout_rate > 0 else 0)\n",
    "        )\n",
    "        encoder_layer = nn.TransformerEncoderLayer(\n",
    "            d_model=d_model, nhead=n_heads, dim_feedforward=dim_feedforward,\n",
    "            dropout=dropout_rate, batch_first=True, norm_first=True\n",
    "        )\n",
    "        self.encoder = nn.TransformerEncoder(encoder_layer, num_layers=num_encoder_layers)\n",
    "\n",
    "        self.pos_embed = nn.Parameter(torch.randn(1, num_patches + 1, d_model))\n",
    "        self.region_q = nn.Parameter(torch.zeros(1, 1, d_model))\n",
    "        \n",
    "        self.embed = nn.Embedding(NUM_CLASSES, d_model)\n",
    "        self.gru_num_layers = 1\n",
    "        self.gru = nn.GRU(d_model, d_model, num_layers=self.gru_num_layers, batch_first=True,\n",
    "                          dropout=dropout_rate if self.gru_num_layers > 1 else 0)\n",
    "        self.attn = MultiheadAttention(d_model, num_heads=n_heads, batch_first=True, dropout=dropout_rate)\n",
    "        self.fc = nn.Sequential(\n",
    "            nn.Dropout(dropout_rate if dropout_rate > 0 else 0),\n",
    "            nn.Linear(2 * d_model, NUM_CLASSES)\n",
    "        )\n",
    "\n",
    "    def forward(self, fmap, target=None, teach_ratio=0.5, forced_output_length=None):\n",
    "        b = fmap.size(0)\n",
    "        x = self.proj(fmap)\n",
    "        x = x.flatten(2).permute(0, 2, 1)\n",
    "\n",
    "        current_num_patches = x.size(1)\n",
    "        expected_pos_embed_len = current_num_patches + 1\n",
    "        \n",
    "        if self.pos_embed.size(1) != expected_pos_embed_len:\n",
    "            if self.pos_embed.size(1) > expected_pos_embed_len:\n",
    "                pos_embed_to_add = self.pos_embed[:, :expected_pos_embed_len, :]\n",
    "            else:\n",
    "                raise ValueError(f\"RViT pos_embed second dim {self.pos_embed.size(1)} is smaller than required {expected_pos_embed_len}\")\n",
    "        else:\n",
    "            pos_embed_to_add = self.pos_embed\n",
    "\n",
    "        q = self.region_q.expand(b, -1, -1)\n",
    "        x = torch.cat([q, x], dim=1)\n",
    "        x = x + pos_embed_to_add\n",
    "\n",
    "        enc = self.encoder(x)\n",
    "        region_feat, spatial_feats = enc[:, 0], enc[:, 1:]\n",
    "        \n",
    "        if forced_output_length is not None:\n",
    "            max_gen_len = forced_output_length\n",
    "        elif target is not None:\n",
    "            max_gen_len = target.size(1) - 1\n",
    "        else:\n",
    "            max_gen_len = MAX_SEQ_LENGTH - 1\n",
    "\n",
    "        h = region_feat.unsqueeze(0).contiguous()\n",
    "        current_input_tokens = torch.full((b,), SOS_TOKEN, device=DEVICE, dtype=torch.long)\n",
    "        outputs_logits = []\n",
    "\n",
    "        finished_sequences_tracker = None\n",
    "        if target is None and forced_output_length is None:\n",
    "            finished_sequences_tracker = torch.zeros(b, dtype=torch.bool, device=DEVICE)\n",
    "            \n",
    "        for t in range(max_gen_len):\n",
    "            emb = self.embed(current_input_tokens).unsqueeze(1)\n",
    "            g, h = self.gru(emb, h)\n",
    "            a, _ = self.attn(g, spatial_feats, spatial_feats)\n",
    "            comb = torch.cat([g.squeeze(1), a.squeeze(1)], dim=-1)\n",
    "            logits_step = self.fc(comb)\n",
    "            outputs_logits.append(logits_step)\n",
    "\n",
    "            if target is not None and random.random() < teach_ratio:\n",
    "                next_input_candidate = target[:, t + 1]\n",
    "            else:\n",
    "                next_input_candidate = logits_step.argmax(-1)\n",
    "\n",
    "            if finished_sequences_tracker is not None:\n",
    "                eos_predicted_this_step = (next_input_candidate == EOS_TOKEN)\n",
    "                finished_sequences_tracker |= eos_predicted_this_step\n",
    "                current_input_tokens = torch.where(finished_sequences_tracker,\n",
    "                                                 torch.tensor(EOS_TOKEN, device=DEVICE, dtype=torch.long),\n",
    "                                                 next_input_candidate)\n",
    "                if finished_sequences_tracker.all():\n",
    "                    break\n",
    "            else:\n",
    "                current_input_tokens = next_input_candidate\n",
    "        \n",
    "        return torch.stack(outputs_logits, dim=1)\n",
    "\n",
    "#--- Full model (YOLO_RViT) ---\n",
    "class YOLO_RViT(nn.Module):\n",
    "    def __init__(self, yolo_path):\n",
    "        super().__init__()\n",
    "        self.detector = YoloDetector(yolo_path)\n",
    "        # RViT sẽ nhận đầu vào 3 kênh (ảnh crop RGB đã resize)\n",
    "        # và num_patches được giữ nguyên là 1600 trong RViT\n",
    "        self.rvit = RViT(yolo_channels=3, num_patches=1600).to(DEVICE) # yolo_channels=3 vì input là ảnh crop RGB\n",
    "\n",
    "    def forward(self, x, target=None, teach_ratio=0.5, forced_output_length=None):\n",
    "        x = x.to(DEVICE) # x là (B, 3, H_orig, W_orig), ví dụ (B, 3, 640, 640)\n",
    "        boxes, confidences = self.detector(x)\n",
    "        cropped_images_list = []\n",
    "\n",
    "        for i in range(x.size(0)):\n",
    "            # Lấy box, nếu không có box thì dùng toàn bộ ảnh\n",
    "            img_h, img_w = x.shape[2], x.shape[3]\n",
    "            if len(boxes[i]) > 0 and len(boxes[i][0]) == 4:\n",
    "                box_coords = boxes[i][0]\n",
    "                x1_b, y1_b, x2_b, y2_b = map(int, box_coords)\n",
    "                # Validate box\n",
    "                x1_v = max(0, min(x1_b, img_w - 1))\n",
    "                y1_v = max(0, min(y1_b, img_h - 1))\n",
    "                x2_v = max(x1_v + 1, min(x2_b, img_w))\n",
    "                y2_v = max(y1_v + 1, min(y2_b, img_h))\n",
    "                if x1_v >= x2_v or y1_v >= y2_v:\n",
    "                    final_box = [0, 0, img_w, img_h]\n",
    "                else:\n",
    "                    final_box = [x1_v, y1_v, x2_v, y2_v]\n",
    "            else:\n",
    "                final_box = [0, 0, img_w, img_h] # Default to full image\n",
    "\n",
    "            # crop_image nhận tensor (C, H_orig, W_orig)\n",
    "            cropped_resized_tensor = crop_image(x[i], final_box) # Output sẽ là (3, RViT_INPUT_SIZE[0], RViT_INPUT_SIZE[1])\n",
    "            cropped_images_list.append(cropped_resized_tensor)\n",
    "\n",
    "        if not cropped_images_list:\n",
    "             # Xử lý trường hợp batch rỗng nếu cần\n",
    "            expected_seq_len = MAX_SEQ_LENGTH -1 if target is None else target.size(1) -1\n",
    "            if forced_output_length is not None: expected_seq_len = forced_output_length\n",
    "            return torch.empty(0, expected_seq_len, NUM_CLASSES, device=DEVICE, dtype=x.dtype)\n",
    "\n",
    "\n",
    "        cropped_images_tensor = torch.stack(cropped_images_list).to(DEVICE) # Sẽ có shape (B, 3, 40, 40)\n",
    "\n",
    "        # Stage 2: RViT prediction\n",
    "        # RViT.proj sẽ biến (B, 3, 40, 40) -> (B, 512, 40, 40)\n",
    "        # Sau đó flatten sẽ thành (B, 1600, 512), khớp với pos_embed\n",
    "        return self.rvit(cropped_images_tensor, target, teach_ratio, forced_output_length)\n",
    "        \n",
    "\n",
    "RViT_INPUT_SIZE = (40, 40)\n",
    "#--- Crop function ---\n",
    "def crop_image(image_tensor, bbox): # image_tensor là (C, H, W)\n",
    "    x1, y1, x2, y2 = map(int, bbox)\n",
    "    # Lấy kích thước ảnh gốc từ tensor\n",
    "    original_h, original_w = image_tensor.size(1), image_tensor.size(2)\n",
    "    # Đảm bảo bbox nằm trong giới hạn ảnh\n",
    "    x1, y1 = max(0, x1), max(0, y1)\n",
    "    x2, y2 = min(original_w, x2), min(original_h, y2)\n",
    "    if x2 <= x1 or y2 <= y1:\n",
    "        cropped = image_tensor # Sử dụng toàn bộ ảnh nếu box không hợp lệ\n",
    "    else:\n",
    "        cropped = image_tensor[:, y1:y2, x1:x2]\n",
    "    # Resize về kích thước mà RViT mong đợi\n",
    "    cropped_resized = transforms.Resize(RViT_INPUT_SIZE)(cropped)\n",
    "    return cropped_resized\n",
    "\n",
    "#--- Dataset ---\n",
    "class LicensePlateDataset(Dataset):\n",
    "    def __init__(self, img_dir, license_dir, max_seq_length=15, is_train=True):\n",
    "        self.img_dir = img_dir\n",
    "        self.license_dir = license_dir\n",
    "        self.max_seq_length = max_seq_length\n",
    "        self.img_names = [f for f in os.listdir(self.img_dir) if f.endswith(('.jpg'))]\n",
    "        if is_train:\n",
    "            self.transform = transforms.Compose([\n",
    "                transforms.Resize((640, 640)),\n",
    "                transforms.RandomApply([\n",
    "                    transforms.RandomRotation(10),\n",
    "                    transforms.RandomAffine(degrees=8, translate=(0.03, 0.03), scale=(0.95, 1.05)),\n",
    "                    transforms.RandomPerspective(distortion_scale=0.05, p=0.3),\n",
    "                ], p=0.7),\n",
    "                transforms.ColorJitter(brightness=0.2, contrast=0.2, saturation=0.2, hue=0.05),\n",
    "                transforms.RandomApply([transforms.GaussianBlur(kernel_size=3, sigma=(0.1, 1.0))], p=0.25),\n",
    "                transforms.ToTensor(),\n",
    "                transforms.RandomErasing(p=0.2, scale=(0.01, 0.04), ratio=(0.3, 3.3)),\n",
    "                # transforms.Normalize(mean=[0.485, 0.456, 0.406], std=[0.229, 0.224, 0.225])\n",
    "            ])\n",
    "        else:\n",
    "            self.transform = transforms.Compose([\n",
    "                transforms.Resize((640, 640)),\n",
    "                transforms.ToTensor(),\n",
    "                # transforms.Normalize(mean=[0.485, 0.456, 0.406], std=[0.229, 0.224, 0.225])\n",
    "            ])\n",
    "            \n",
    "    def __len__(self):\n",
    "        return len(self.img_names)\n",
    "\n",
    "    def __getitem__(self, idx):\n",
    "        img_path = os.path.join(self.img_dir, self.img_names[idx])\n",
    "        img = Image.open(img_path).convert(\"RGB\")\n",
    "        img_tensor = self.transform(img)\n",
    "        \n",
    "        license_filename = os.path.splitext(self.img_names[idx])[0] + \".txt\"\n",
    "        license_path = os.path.join(self.license_dir, license_filename)\n",
    "        try:\n",
    "            with open(license_path, 'r', encoding='utf-8') as f:\n",
    "                license_text = f.read().upper().strip()\n",
    "        except FileNotFoundError:\n",
    "            return img_tensor, torch.full((self.max_seq_length,), EOS_TOKEN, dtype=torch.long)\n",
    "        \n",
    "        license_indices = char_to_indices(license_text)\n",
    "        target = torch.full((self.max_seq_length,), PAD_TOKEN, dtype=torch.long)\n",
    "        \n",
    "        actual_len = min(len(license_indices), self.max_seq_length)\n",
    "        target[:actual_len] = license_indices[:actual_len]\n",
    "        \n",
    "        return img_tensor, target\n",
    "\n",
    "    @staticmethod\n",
    "    def collate_fn(batch):\n",
    "        images = torch.stack([item[0] for item in batch])\n",
    "        targets = torch.stack([item[1] for item in batch])\n",
    "        return images, targets\n",
    "\n",
    "#--- Early Stopping ---\n",
    "class EarlyStopping:\n",
    "    def __init__(self, patience=10, min_delta=0.0, monitor_metric='val_acc', mode='max', verbose=True):\n",
    "        self.patience = patience\n",
    "        self.min_delta = min_delta\n",
    "        self.monitor_metric = monitor_metric\n",
    "        self.mode = mode\n",
    "        self.verbose = verbose\n",
    "\n",
    "        if self.mode == 'min':\n",
    "            self.best_metric_val = np.Inf\n",
    "        else:\n",
    "            self.best_metric_val = -np.Inf\n",
    "        self.counter = 0\n",
    "        self.early_stop = False\n",
    "\n",
    "    def __call__(self, current_metric_val):\n",
    "        improved = False\n",
    "        if self.mode == 'min':\n",
    "            if current_metric_val < self.best_metric_val - self.min_delta:\n",
    "                self.best_metric_val = current_metric_val\n",
    "                improved = True\n",
    "        else:\n",
    "            if current_metric_val > self.best_metric_val + self.min_delta:\n",
    "                self.best_metric_val = current_metric_val\n",
    "                improved = True\n",
    "        \n",
    "        if improved:\n",
    "            self.counter = 0\n",
    "            if self.verbose:\n",
    "                print(f\"EarlyStopping: New best {self.monitor_metric}: {self.best_metric_val:.4f}\")\n",
    "        else:\n",
    "            self.counter += 1\n",
    "\n",
    "        if self.verbose and self.counter > 0 and not improved:\n",
    "            print(f\"EarlyStopping counter: {self.counter}/{self.patience} (Best {self.monitor_metric}: {self.best_metric_val:.4f})\")\n",
    "        if self.counter >= self.patience:\n",
    "            self.early_stop = True\n",
    "            if self.verbose:\n",
    "                print(f\"Early stopping triggered for {self.monitor_metric}.\")\n",
    "        return self.counter\n",
    "\n",
    "#--- Training ---\n",
    "YOLO_MODEL_PATH = '/kaggle/input/yolov11/pytorch/default/1/best.pt'\n",
    "\n",
    "IMG_DIR_TRAIN = \"/kaggle/input/dataset-lpr-test/License_plate_data2/images/train\"\n",
    "LICENSE_DIR_TRAIN = \"/kaggle/input/dataset-lpr-test/License_plate_data2/text/train\"\n",
    "IMG_DIR_VAL = \"/kaggle/input/dataset-lpr-test/License_plate_data2/images/val\"\n",
    "LICENSE_DIR_VAL = \"/kaggle/input/dataset-lpr-test/License_plate_data2/text/val\"\n",
    "IMG_DIR_TEST = \"/kaggle/input/dataset-lpr-test/License_plate_data2/images/test\"\n",
    "LICENSE_DIR_TEST = \"/kaggle/input/dataset-lpr-test/License_plate_data2/text/test\"\n",
    "\n",
    "MAX_SEQ_LENGTH = 15\n",
    "BATCH_SIZE = 32\n",
    "NUM_WORKERS = 4\n",
    "LEARNING_RATE = 5e-5\n",
    "MAX_LR_SCHEDULER = 5e-4\n",
    "WEIGHT_DECAY = 5e-5\n",
    "NUM_EPOCHS = 27\n",
    "ACCUM_STEPS = 2\n",
    "PATIENCE_EARLY_STOP = 7\n",
    "TEACH_RATIO_START = 0.7\n",
    "TEACH_RATIO_END = 0.05\n",
    "LABEL_SMOOTHING = 0.1\n",
    "\n",
    "scaler = torch.amp.GradScaler(DEVICE)\n",
    "autocast_context = lambda: torch.amp.autocast(DEVICE)\n",
    "\n",
    "train_dataset_full = LicensePlateDataset(img_dir=IMG_DIR_TRAIN, license_dir=LICENSE_DIR_TRAIN, max_seq_length=MAX_SEQ_LENGTH, is_train=True)\n",
    "val_dataset = LicensePlateDataset(img_dir=IMG_DIR_VAL, license_dir=LICENSE_DIR_VAL, max_seq_length=MAX_SEQ_LENGTH, is_train=False)\n",
    "\n",
    "train_dataloader = DataLoader(train_dataset_full, batch_size=BATCH_SIZE, shuffle=True, num_workers=NUM_WORKERS, collate_fn=LicensePlateDataset.collate_fn, pin_memory=(DEVICE == 'cuda'), drop_last=True)\n",
    "val_dataloader = DataLoader(val_dataset, batch_size=BATCH_SIZE, shuffle=False, num_workers=NUM_WORKERS, collate_fn=LicensePlateDataset.collate_fn, pin_memory=(DEVICE == 'cuda'))\n",
    "\n",
    "model = YOLO_RViT(YOLO_MODEL_PATH).to(DEVICE)\n",
    "\n",
    "optimizer = torch.optim.AdamW(\n",
    "    model.rvit.parameters(),\n",
    "    lr=LEARNING_RATE,\n",
    "    weight_decay=WEIGHT_DECAY\n",
    ")\n",
    "\n",
    "scheduler = torch.optim.lr_scheduler.OneCycleLR(\n",
    "    optimizer, max_lr=MAX_LR_SCHEDULER,\n",
    "    epochs=NUM_EPOCHS,\n",
    "    steps_per_epoch=(len(train_dataloader) + ACCUM_STEPS - 1) // ACCUM_STEPS,\n",
    "    pct_start=0.2,\n",
    "    div_factor=(MAX_LR_SCHEDULER / LEARNING_RATE) if MAX_LR_SCHEDULER > LEARNING_RATE else 10.0\n",
    ")\n",
    "scheduler_type = \"OneCycleLR\"\n",
    "\n",
    "loss_fn = nn.CrossEntropyLoss(ignore_index=PAD_TOKEN, label_smoothing=LABEL_SMOOTHING)\n",
    "early_stopper = EarlyStopping(patience=PATIENCE_EARLY_STOP, min_delta=0.0005, monitor_metric='val_acc', mode='max', verbose=True)\n",
    "\n",
    "train_loss_values, val_loss_values = [], []\n",
    "train_acc_values, val_acc_values, val_acc_constrained_values = [], [], []\n",
    "epoch_count_list = []\n",
    "best_val_acc = 0.0\n",
    "\n",
    "for epoch in range(NUM_EPOCHS):\n",
    "    torch.cuda.empty_cache()\n",
    "    epoch_count_list.append(epoch + 1)\n",
    "    model.train()\n",
    "    train_loss, train_correct, train_total_chars = 0, 0, 0\n",
    "\n",
    "    teach_ratio = TEACH_RATIO_START - (TEACH_RATIO_START - TEACH_RATIO_END) * (epoch / max(1, NUM_EPOCHS - 1))\n",
    "\n",
    "    optimizer.zero_grad()\n",
    "\n",
    "    \n",
    "    pbar_train = tqdm(train_dataloader, desc=f\"Epoch {epoch+1}/{NUM_EPOCHS} [TRAIN] LR: {optimizer.param_groups[0]['lr']:.2e} Teach: {teach_ratio:.2f} Scheduler: {scheduler_type}\")\n",
    "    for batch_idx, (imgs, targets) in enumerate(pbar_train):\n",
    "        imgs, targets = imgs.to(DEVICE, non_blocking=True), targets.to(DEVICE, non_blocking=True)\n",
    "        \n",
    "        with autocast_context():\n",
    "            outputs = model(imgs, target=targets, teach_ratio=teach_ratio)\n",
    "            flat_outputs = outputs.reshape(-1, NUM_CLASSES)\n",
    "            flat_targets = targets[:, 1:].reshape(-1)\n",
    "            loss = loss_fn(flat_outputs, flat_targets)\n",
    "            loss = loss / ACCUM_STEPS\n",
    "            \n",
    "        scaler.scale(loss).backward()\n",
    "        \n",
    "        if (batch_idx + 1) % ACCUM_STEPS == 0 or (batch_idx + 1) == len(train_dataloader):\n",
    "            torch.nn.utils.clip_grad_norm_(filter(lambda p: p.requires_grad, model.parameters()), max_norm=1.0)\n",
    "            scaler.step(optimizer)\n",
    "            scaler.update()\n",
    "            optimizer.zero_grad()\n",
    "            if scheduler_type == \"OneCycleLR\":\n",
    "                scheduler.step()\n",
    "\n",
    "        train_loss += loss.item() * ACCUM_STEPS\n",
    "        with torch.no_grad():\n",
    "            preds = outputs.argmax(-1)\n",
    "            true_chars = targets[:, 1:]\n",
    "            for i in range(imgs.size(0)):\n",
    "                pred_seq_list_train = preds[i].tolist()\n",
    "                if EOS_TOKEN in pred_seq_list_train:\n",
    "                    pred_seq_list_train = pred_seq_list_train[:pred_seq_list_train.index(EOS_TOKEN)]\n",
    "                \n",
    "                true_seq_list_train = true_chars[i].tolist()\n",
    "                true_content_train = [x for x in true_seq_list_train if x not in [EOS_TOKEN, PAD_TOKEN]]\n",
    "                len_true_content_train = len(true_content_train)\n",
    "                \n",
    "                cmp_len = min(len(pred_seq_list_train), len_true_content_train)\n",
    "                if cmp_len > 0:\n",
    "                    train_correct += (torch.tensor(pred_seq_list_train[:cmp_len]) == torch.tensor(true_content_train[:cmp_len])).sum().item()\n",
    "                \n",
    "                train_total_chars += len_true_content_train\n",
    "\n",
    "            if batch_idx == 0 and epoch % 1 == 0 and imgs.size(0) > 0:\n",
    "                print(\"\\n--- Training Batch 0 Examples (Content Only) ---\")\n",
    "                for i in range(min(5, imgs.size(0))):\n",
    "                    pred_batch_i_list = preds[i].tolist()\n",
    "                    pred_example = index_to_char(pred_batch_i_list)\n",
    "                    true_batch_i_list = true_chars[i].tolist()\n",
    "                    true_example = index_to_char(true_batch_i_list)\n",
    "                    print(f\"  Pred: '{pred_example}'\")\n",
    "                    print(f\"  True: '{true_example}'\")\n",
    "                print(\"-------------------------------\")\n",
    "        \n",
    "        pbar_train.set_postfix(loss=loss.item() * ACCUM_STEPS)\n",
    "\n",
    "    avg_train_loss = train_loss / len(train_dataloader) if len(train_dataloader) > 0 else 0\n",
    "    avg_train_acc = train_correct / train_total_chars if train_total_chars > 0 else 0\n",
    "    train_loss_values.append(avg_train_loss)\n",
    "    train_acc_values.append(avg_train_acc)\n",
    "\n",
    "    # --- Validation Loop ---\n",
    "    model.eval()\n",
    "    val_loss, val_correct, val_total_chars, val_correct_constrained, val_total_sequences_constrained = 0, 0, 0, 0, 0\n",
    "    total_inference_time = 0  # Biến để tính tổng thời gian suy luận\n",
    "    num_samples = 0  # Đếm số mẫu để tính FPS\n",
    "    pbar_val = tqdm(val_dataloader, desc=f\"Epoch {epoch+1}/{NUM_EPOCHS} [VAL]\")\n",
    "    with torch.no_grad():\n",
    "        for imgs, targets in pbar_val:\n",
    "            imgs, targets = imgs.to(DEVICE, non_blocking=True), targets.to(DEVICE, non_blocking=True)\n",
    "\n",
    "            batch_size = imgs.size(0)\n",
    "            num_samples += batch_size\n",
    "            # Đo thời gian suy luận\n",
    "            start_event = torch.cuda.Event(enable_timing=True)\n",
    "            end_event = torch.cuda.Event(enable_timing=True)\n",
    "            start_event.record()\n",
    "            \n",
    "            with autocast_context():\n",
    "                outputs = model(imgs, target=None, teach_ratio=0.0)\n",
    "                out_seq_len_val = outputs.size(1)\n",
    "                tgt_content_len_val = targets.size(1) - 1\n",
    "                if out_seq_len_val > tgt_content_len_val:\n",
    "                    outputs_for_loss_val = outputs[:, :tgt_content_len_val, :]\n",
    "                elif out_seq_len_val < tgt_content_len_val:\n",
    "                    padding_val_val = torch.zeros(outputs.size(0), tgt_content_len_val - out_seq_len_val, NUM_CLASSES, device=DEVICE)\n",
    "                    padding_val_val[:,:,PAD_TOKEN] = 1\n",
    "                    outputs_for_loss_val = torch.cat([outputs, padding_val_val], dim=1)\n",
    "                else:\n",
    "                    outputs_for_loss_val = outputs\n",
    "                flat_outputs_val = outputs_for_loss_val.reshape(-1, NUM_CLASSES)\n",
    "                flat_targets_val = targets[:, 1:].reshape(-1)\n",
    "                loss = loss_fn(flat_outputs_val, flat_targets_val)\n",
    "            \n",
    "            end_event.record()\n",
    "            torch.cuda.synchronize()\n",
    "            inference_time_ms = start_event.elapsed_time(end_event)\n",
    "            total_inference_time += inference_time_ms\n",
    "        \n",
    "            val_loss += loss.item()\n",
    "            preds_val = outputs_for_loss_val.argmax(-1)\n",
    "            true_chars_val = targets[:, 1:]\n",
    "            for i in range(imgs.size(0)):\n",
    "                pred_seq_val_list = preds_val[i].tolist()\n",
    "                if EOS_TOKEN in pred_seq_val_list:\n",
    "                    pred_seq_val_list = pred_seq_val_list[:pred_seq_val_list.index(EOS_TOKEN)]\n",
    "                \n",
    "                true_seq_val_list = true_chars_val[i].tolist()\n",
    "                true_content_val = [x for x in true_seq_val_list if x not in [EOS_TOKEN, PAD_TOKEN]]\n",
    "                len_true_content_val = len(true_content_val)\n",
    "\n",
    "                cmp_len_val = min(len(pred_seq_val_list), len_true_content_val)\n",
    "                if cmp_len_val > 0:\n",
    "                    val_correct += (torch.tensor(pred_seq_val_list[:cmp_len_val]) == torch.tensor(true_content_val[:cmp_len_val])).sum().item()\n",
    "                val_total_chars += len_true_content_val\n",
    "\n",
    "                #tính e2e rr \n",
    "                if len_true_content_val > 0 and epoch%2 ==0 :\n",
    "                    with autocast_context():\n",
    "                        outputs_constrained_sample = model(imgs[i:i+1], target=None, teach_ratio=0.0, forced_output_length=len_true_content_val)\n",
    "                    preds_constrained_sample = outputs_constrained_sample.argmax(-1).squeeze(0).tolist()\n",
    "                    final_preds_constrained = []\n",
    "                    for tk_id in preds_constrained_sample:\n",
    "                        if tk_id == EOS_TOKEN:\n",
    "                            break\n",
    "                        final_preds_constrained.append(tk_id)\n",
    "                    if final_preds_constrained == true_content_val:\n",
    "                        val_correct_constrained += 1\n",
    "                val_total_sequences_constrained += 1\n",
    "            \n",
    "            pbar_val.set_postfix(loss=loss.item())\n",
    "\n",
    "    avg_val_loss = val_loss / len(val_dataloader) if len(val_dataloader) > 0 else 0\n",
    "    avg_val_acc = val_correct / val_total_chars if val_total_chars > 0 else 0\n",
    "    avg_val_acc_constrained = val_correct_constrained / val_total_sequences_constrained if val_total_sequences_constrained > 0 else 0\n",
    "\n",
    "    avg_inference_time = total_inference_time / num_samples if num_samples > 0 else 0  # ms/sample\n",
    "    fps = 1000 / avg_inference_time if avg_inference_time > 0 else 0  # FPS = 1000ms / (ms/sample)\n",
    "    \n",
    "    val_loss_values.append(avg_val_loss)\n",
    "    val_acc_values.append(avg_val_acc)\n",
    "    val_acc_constrained_values.append(avg_val_acc_constrained)\n",
    "    \n",
    "    # Chuyển sang ReduceLROnPlateau nếu val_acc chững lại\n",
    "    counter = early_stopper(avg_val_acc)\n",
    "    if counter >= 2 and scheduler_type == \"OneCycleLR\":\n",
    "        print(f\"Val Acc stalled for {PATIENCE_EARLY_STOP} epochs. Switching to ReduceLROnPlateau.\")\n",
    "        scheduler = torch.optim.lr_scheduler.ReduceLROnPlateau(optimizer, mode='max', factor=0.5, patience=2, verbose=True)\n",
    "        scheduler_type = \"ReduceLROnPlateau\"\n",
    "    \n",
    "    # Cập nhật scheduler\n",
    "    if scheduler_type == \"ReduceLROnPlateau\":\n",
    "        scheduler.step(avg_val_acc)\n",
    "\n",
    "    if early_stopper.early_stop:\n",
    "        print(f\"--> Early stopping at epoch {epoch+1}\")\n",
    "        break\n",
    "    \n",
    "    print(f\"\\nEpoch {epoch+1}/{NUM_EPOCHS} | LR: {optimizer.param_groups[0]['lr']:.2e} | Teach: {teach_ratio:.2f} | Scheduler: {scheduler_type}\")\n",
    "    print(f\"  Train Loss: {avg_train_loss:.4f} | Train Char Acc: {avg_train_acc:.4f}\")\n",
    "    print(f\"  Val Loss: {avg_val_loss:.4f}   | Val Acc (CRR): {avg_val_acc:.4f}\")\n",
    "    if(epoch%2==0):\n",
    "       print(f\"  Val Exact Match Acc (E2E RR): {avg_val_acc_constrained:.4f}\")\n",
    "    print(f\"  Inference time avg: {avg_inference_time:.4f}\")\n",
    "    print(f\"  FPS: {fps:.4f}\")\n",
    "    print(\"-\" * 70)\n",
    "\n",
    "    checkpoint_path = f\"yolo_rvit_model_epoch_{epoch + 1}.pth\"\n",
    "    torch.save({\n",
    "        'epoch': epoch,\n",
    "        'model_state_dict': model.state_dict(),\n",
    "        'optimizer_state_dict': optimizer.state_dict(),\n",
    "        'scheduler_state_dict': scheduler.state_dict(),\n",
    "        'val_loss': avg_val_loss,\n",
    "        'val_acc': avg_val_acc,\n",
    "        'val_acc_constrained': avg_val_acc_constrained,\n",
    "        'avg_inference_time': avg_inference_time,\n",
    "        'fps': fps\n",
    "    }, checkpoint_path)\n",
    "\n",
    "    if avg_val_acc > best_val_acc:\n",
    "        best_val_acc = avg_val_acc\n",
    "        print(f\"*** New best validation accuracy: {best_val_acc:.4f}. Saving best_model.pth ***\")\n",
    "        torch.save({\n",
    "            'epoch': epoch,\n",
    "            'model_state_dict': model.state_dict(),\n",
    "            'optimizer_state_dict': optimizer.state_dict(),\n",
    "            'scheduler_state_dict': scheduler.state_dict(),\n",
    "            'val_loss': avg_val_loss,\n",
    "            'val_acc': avg_val_acc,\n",
    "            'val_acc_constrained': avg_val_acc_constrained,\n",
    "            'avg_inference_time': avg_inference_time,\n",
    "            'fps': fps\n",
    "        }, \"best_yolo_rvit_model.pth\")\n",
    "\n",
    "final_epoch_val = epoch if 'epoch' in locals() and epoch is not None else NUM_EPOCHS - 1\n",
    "torch.save({\n",
    "    'epoch': final_epoch_val,\n",
    "    'model_state_dict': model.state_dict(),\n",
    "    'optimizer_state_dict': optimizer.state_dict(),\n",
    "    'scheduler_state_dict': scheduler.state_dict(),\n",
    "    'train_loss_history': train_loss_values,\n",
    "    'val_loss_history': val_loss_values,\n",
    "    'train_acc_history': train_acc_values,\n",
    "    'val_acc_history': val_acc_values,\n",
    "    'val_acc_constrained_history': val_acc_constrained_values,\n",
    "    'avg_inference_time': avg_inference_time,\n",
    "    'fps': fps\n",
    "}, \"final_yolo_rvit_model.pth\")\n",
    "\n",
    "print(\"\\nTraining completed!\")\n",
    "if val_acc_values:\n",
    "    print(f\"Final val accuracy (Greedy Character Level): {val_acc_values[-1]:.4f}\")\n",
    "if val_acc_constrained_values:\n",
    "    print(f\"Final val accuracy (Constrained Length Exact Match): {val_acc_constrained_values[-1]:.4f}\")\n",
    "\n",
    "# Plotting\n",
    "plt.figure(figsize=(18, 12))\n",
    "plt.subplot(2, 2, 1)\n",
    "plt.plot(epoch_count_list, train_loss_values, label='Train Loss', marker='o', linestyle='-')\n",
    "plt.plot(epoch_count_list, val_loss_values, label='Validation Loss', marker='s', linestyle='--')\n",
    "plt.title('Loss Curves')\n",
    "plt.xlabel('Epochs')\n",
    "plt.ylabel('Loss')\n",
    "plt.legend()\n",
    "plt.grid(True)\n",
    "\n",
    "plt.subplot(2, 2, 2)\n",
    "plt.plot(epoch_count_list, train_acc_values, label='Train Char Accuracy', marker='o', linestyle='-')\n",
    "plt.plot(epoch_count_list, val_acc_values, label='Validation Char Accuracy (Greedy)', marker='s', linestyle='--')\n",
    "plt.title('Character Accuracy')\n",
    "plt.xlabel('Epochs')\n",
    "plt.ylabel('Character Accuracy')\n",
    "plt.legend()\n",
    "plt.grid(True)\n",
    "\n",
    "plt.tight_layout()\n",
    "plt.savefig(\"performance_plots.png\")\n",
    "plt.show()\n",
    "print(\"Saved plots to performance_plots.png\")"
   ]
  }
 ],
 "metadata": {
  "kaggle": {
   "accelerator": "nvidiaTeslaT4",
   "dataSources": [
    {
     "datasetId": 7323875,
     "sourceId": 11670127,
     "sourceType": "datasetVersion"
    },
    {
     "datasetId": 7283240,
     "sourceId": 11903981,
     "sourceType": "datasetVersion"
    },
    {
     "isSourceIdPinned": false,
     "modelId": 364998,
     "modelInstanceId": 343719,
     "sourceId": 421795,
     "sourceType": "modelInstanceVersion"
    }
   ],
   "dockerImageVersionId": 31011,
   "isGpuEnabled": true,
   "isInternetEnabled": true,
   "language": "python",
   "sourceType": "notebook"
  },
  "kernelspec": {
   "display_name": "Python 3",
   "language": "python",
   "name": "python3"
  },
  "language_info": {
   "codemirror_mode": {
    "name": "ipython",
    "version": 3
   },
   "file_extension": ".py",
   "mimetype": "text/x-python",
   "name": "python",
   "nbconvert_exporter": "python",
   "pygments_lexer": "ipython3",
   "version": "3.11.11"
  },
  "papermill": {
   "default_parameters": {},
   "duration": 37498.254297,
   "end_time": "2025-06-03T17:45:20.828731",
   "environment_variables": {},
   "exception": null,
   "input_path": "__notebook__.ipynb",
   "output_path": "__notebook__.ipynb",
   "parameters": {},
   "start_time": "2025-06-03T07:20:22.574434",
   "version": "2.6.0"
  }
 },
 "nbformat": 4,
 "nbformat_minor": 5
}
