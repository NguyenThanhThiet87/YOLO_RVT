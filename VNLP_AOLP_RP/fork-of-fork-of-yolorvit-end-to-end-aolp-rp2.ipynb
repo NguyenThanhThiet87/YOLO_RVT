{
 "cells": [
  {
   "cell_type": "code",
   "execution_count": 1,
   "id": "c843a583",
   "metadata": {
    "_cell_guid": "16e39135-a25c-495c-bce6-68aeeba62ab3",
    "_uuid": "fb2d2f9a-dd07-4008-b742-19d8a0374673",
    "collapsed": false,
    "execution": {
     "iopub.execute_input": "2025-08-26T08:31:36.718168Z",
     "iopub.status.busy": "2025-08-26T08:31:36.717364Z",
     "iopub.status.idle": "2025-08-26T08:33:07.997632Z",
     "shell.execute_reply": "2025-08-26T08:33:07.996589Z"
    },
    "jupyter": {
     "outputs_hidden": false
    },
    "papermill": {
     "duration": 91.285757,
     "end_time": "2025-08-26T08:33:07.999366",
     "exception": false,
     "start_time": "2025-08-26T08:31:36.713609",
     "status": "completed"
    },
    "tags": []
   },
   "outputs": [
    {
     "name": "stdout",
     "output_type": "stream",
     "text": [
      "Collecting ultralytics\r\n",
      "  Downloading ultralytics-8.3.186-py3-none-any.whl.metadata (37 kB)\r\n",
      "Requirement already satisfied: numpy>=1.23.0 in /usr/local/lib/python3.11/dist-packages (from ultralytics) (1.26.4)\r\n",
      "Requirement already satisfied: matplotlib>=3.3.0 in /usr/local/lib/python3.11/dist-packages (from ultralytics) (3.7.5)\r\n",
      "Requirement already satisfied: opencv-python>=4.6.0 in /usr/local/lib/python3.11/dist-packages (from ultralytics) (4.11.0.86)\r\n",
      "Requirement already satisfied: pillow>=7.1.2 in /usr/local/lib/python3.11/dist-packages (from ultralytics) (11.1.0)\r\n",
      "Requirement already satisfied: pyyaml>=5.3.1 in /usr/local/lib/python3.11/dist-packages (from ultralytics) (6.0.2)\r\n",
      "Requirement already satisfied: requests>=2.23.0 in /usr/local/lib/python3.11/dist-packages (from ultralytics) (2.32.3)\r\n",
      "Requirement already satisfied: scipy>=1.4.1 in /usr/local/lib/python3.11/dist-packages (from ultralytics) (1.15.2)\r\n",
      "Requirement already satisfied: torch>=1.8.0 in /usr/local/lib/python3.11/dist-packages (from ultralytics) (2.5.1+cu124)\r\n",
      "Requirement already satisfied: torchvision>=0.9.0 in /usr/local/lib/python3.11/dist-packages (from ultralytics) (0.20.1+cu124)\r\n",
      "Requirement already satisfied: psutil in /usr/local/lib/python3.11/dist-packages (from ultralytics) (7.0.0)\r\n",
      "Requirement already satisfied: py-cpuinfo in /usr/local/lib/python3.11/dist-packages (from ultralytics) (9.0.0)\r\n",
      "Requirement already satisfied: pandas>=1.1.4 in /usr/local/lib/python3.11/dist-packages (from ultralytics) (2.2.3)\r\n",
      "Collecting ultralytics-thop>=2.0.0 (from ultralytics)\r\n",
      "  Downloading ultralytics_thop-2.0.16-py3-none-any.whl.metadata (14 kB)\r\n",
      "Requirement already satisfied: contourpy>=1.0.1 in /usr/local/lib/python3.11/dist-packages (from matplotlib>=3.3.0->ultralytics) (1.3.1)\r\n",
      "Requirement already satisfied: cycler>=0.10 in /usr/local/lib/python3.11/dist-packages (from matplotlib>=3.3.0->ultralytics) (0.12.1)\r\n",
      "Requirement already satisfied: fonttools>=4.22.0 in /usr/local/lib/python3.11/dist-packages (from matplotlib>=3.3.0->ultralytics) (4.56.0)\r\n",
      "Requirement already satisfied: kiwisolver>=1.0.1 in /usr/local/lib/python3.11/dist-packages (from matplotlib>=3.3.0->ultralytics) (1.4.8)\r\n",
      "Requirement already satisfied: packaging>=20.0 in /usr/local/lib/python3.11/dist-packages (from matplotlib>=3.3.0->ultralytics) (24.2)\r\n",
      "Requirement already satisfied: pyparsing>=2.3.1 in /usr/local/lib/python3.11/dist-packages (from matplotlib>=3.3.0->ultralytics) (3.2.1)\r\n",
      "Requirement already satisfied: python-dateutil>=2.7 in /usr/local/lib/python3.11/dist-packages (from matplotlib>=3.3.0->ultralytics) (2.9.0.post0)\r\n",
      "Requirement already satisfied: mkl_fft in /usr/local/lib/python3.11/dist-packages (from numpy>=1.23.0->ultralytics) (1.3.8)\r\n",
      "Requirement already satisfied: mkl_random in /usr/local/lib/python3.11/dist-packages (from numpy>=1.23.0->ultralytics) (1.2.4)\r\n",
      "Requirement already satisfied: mkl_umath in /usr/local/lib/python3.11/dist-packages (from numpy>=1.23.0->ultralytics) (0.1.1)\r\n",
      "Requirement already satisfied: mkl in /usr/local/lib/python3.11/dist-packages (from numpy>=1.23.0->ultralytics) (2025.1.0)\r\n",
      "Requirement already satisfied: tbb4py in /usr/local/lib/python3.11/dist-packages (from numpy>=1.23.0->ultralytics) (2022.1.0)\r\n",
      "Requirement already satisfied: mkl-service in /usr/local/lib/python3.11/dist-packages (from numpy>=1.23.0->ultralytics) (2.4.1)\r\n",
      "Requirement already satisfied: pytz>=2020.1 in /usr/local/lib/python3.11/dist-packages (from pandas>=1.1.4->ultralytics) (2025.2)\r\n",
      "Requirement already satisfied: tzdata>=2022.7 in /usr/local/lib/python3.11/dist-packages (from pandas>=1.1.4->ultralytics) (2025.2)\r\n",
      "Requirement already satisfied: charset-normalizer<4,>=2 in /usr/local/lib/python3.11/dist-packages (from requests>=2.23.0->ultralytics) (3.4.1)\r\n",
      "Requirement already satisfied: idna<4,>=2.5 in /usr/local/lib/python3.11/dist-packages (from requests>=2.23.0->ultralytics) (3.10)\r\n",
      "Requirement already satisfied: urllib3<3,>=1.21.1 in /usr/local/lib/python3.11/dist-packages (from requests>=2.23.0->ultralytics) (2.3.0)\r\n",
      "Requirement already satisfied: certifi>=2017.4.17 in /usr/local/lib/python3.11/dist-packages (from requests>=2.23.0->ultralytics) (2025.1.31)\r\n",
      "Requirement already satisfied: filelock in /usr/local/lib/python3.11/dist-packages (from torch>=1.8.0->ultralytics) (3.18.0)\r\n",
      "Requirement already satisfied: typing-extensions>=4.8.0 in /usr/local/lib/python3.11/dist-packages (from torch>=1.8.0->ultralytics) (4.13.1)\r\n",
      "Requirement already satisfied: networkx in /usr/local/lib/python3.11/dist-packages (from torch>=1.8.0->ultralytics) (3.4.2)\r\n",
      "Requirement already satisfied: jinja2 in /usr/local/lib/python3.11/dist-packages (from torch>=1.8.0->ultralytics) (3.1.6)\r\n",
      "Requirement already satisfied: fsspec in /usr/local/lib/python3.11/dist-packages (from torch>=1.8.0->ultralytics) (2025.3.2)\r\n",
      "Requirement already satisfied: nvidia-cuda-nvrtc-cu12==12.4.127 in /usr/local/lib/python3.11/dist-packages (from torch>=1.8.0->ultralytics) (12.4.127)\r\n",
      "Requirement already satisfied: nvidia-cuda-runtime-cu12==12.4.127 in /usr/local/lib/python3.11/dist-packages (from torch>=1.8.0->ultralytics) (12.4.127)\r\n",
      "Requirement already satisfied: nvidia-cuda-cupti-cu12==12.4.127 in /usr/local/lib/python3.11/dist-packages (from torch>=1.8.0->ultralytics) (12.4.127)\r\n",
      "Collecting nvidia-cudnn-cu12==9.1.0.70 (from torch>=1.8.0->ultralytics)\r\n",
      "  Downloading nvidia_cudnn_cu12-9.1.0.70-py3-none-manylinux2014_x86_64.whl.metadata (1.6 kB)\r\n",
      "Collecting nvidia-cublas-cu12==12.4.5.8 (from torch>=1.8.0->ultralytics)\r\n",
      "  Downloading nvidia_cublas_cu12-12.4.5.8-py3-none-manylinux2014_x86_64.whl.metadata (1.5 kB)\r\n",
      "Collecting nvidia-cufft-cu12==11.2.1.3 (from torch>=1.8.0->ultralytics)\r\n",
      "  Downloading nvidia_cufft_cu12-11.2.1.3-py3-none-manylinux2014_x86_64.whl.metadata (1.5 kB)\r\n",
      "Collecting nvidia-curand-cu12==10.3.5.147 (from torch>=1.8.0->ultralytics)\r\n",
      "  Downloading nvidia_curand_cu12-10.3.5.147-py3-none-manylinux2014_x86_64.whl.metadata (1.5 kB)\r\n",
      "Collecting nvidia-cusolver-cu12==11.6.1.9 (from torch>=1.8.0->ultralytics)\r\n",
      "  Downloading nvidia_cusolver_cu12-11.6.1.9-py3-none-manylinux2014_x86_64.whl.metadata (1.6 kB)\r\n",
      "Collecting nvidia-cusparse-cu12==12.3.1.170 (from torch>=1.8.0->ultralytics)\r\n",
      "  Downloading nvidia_cusparse_cu12-12.3.1.170-py3-none-manylinux2014_x86_64.whl.metadata (1.6 kB)\r\n",
      "Requirement already satisfied: nvidia-nccl-cu12==2.21.5 in /usr/local/lib/python3.11/dist-packages (from torch>=1.8.0->ultralytics) (2.21.5)\r\n",
      "Requirement already satisfied: nvidia-nvtx-cu12==12.4.127 in /usr/local/lib/python3.11/dist-packages (from torch>=1.8.0->ultralytics) (12.4.127)\r\n",
      "Collecting nvidia-nvjitlink-cu12==12.4.127 (from torch>=1.8.0->ultralytics)\r\n",
      "  Downloading nvidia_nvjitlink_cu12-12.4.127-py3-none-manylinux2014_x86_64.whl.metadata (1.5 kB)\r\n",
      "Requirement already satisfied: triton==3.1.0 in /usr/local/lib/python3.11/dist-packages (from torch>=1.8.0->ultralytics) (3.1.0)\r\n",
      "Requirement already satisfied: sympy==1.13.1 in /usr/local/lib/python3.11/dist-packages (from torch>=1.8.0->ultralytics) (1.13.1)\r\n",
      "Requirement already satisfied: mpmath<1.4,>=1.1.0 in /usr/local/lib/python3.11/dist-packages (from sympy==1.13.1->torch>=1.8.0->ultralytics) (1.3.0)\r\n",
      "Requirement already satisfied: six>=1.5 in /usr/local/lib/python3.11/dist-packages (from python-dateutil>=2.7->matplotlib>=3.3.0->ultralytics) (1.17.0)\r\n",
      "Requirement already satisfied: MarkupSafe>=2.0 in /usr/local/lib/python3.11/dist-packages (from jinja2->torch>=1.8.0->ultralytics) (3.0.2)\r\n",
      "Requirement already satisfied: intel-openmp<2026,>=2024 in /usr/local/lib/python3.11/dist-packages (from mkl->numpy>=1.23.0->ultralytics) (2024.2.0)\r\n",
      "Requirement already satisfied: tbb==2022.* in /usr/local/lib/python3.11/dist-packages (from mkl->numpy>=1.23.0->ultralytics) (2022.1.0)\r\n",
      "Requirement already satisfied: tcmlib==1.* in /usr/local/lib/python3.11/dist-packages (from tbb==2022.*->mkl->numpy>=1.23.0->ultralytics) (1.2.0)\r\n",
      "Requirement already satisfied: intel-cmplr-lib-rt in /usr/local/lib/python3.11/dist-packages (from mkl_umath->numpy>=1.23.0->ultralytics) (2024.2.0)\r\n",
      "Requirement already satisfied: intel-cmplr-lib-ur==2024.2.0 in /usr/local/lib/python3.11/dist-packages (from intel-openmp<2026,>=2024->mkl->numpy>=1.23.0->ultralytics) (2024.2.0)\r\n",
      "Downloading ultralytics-8.3.186-py3-none-any.whl (1.1 MB)\r\n",
      "\u001b[2K   \u001b[90m━━━━━━━━━━━━━━━━━━━━━━━━━━━━━━━━━━━━━━━━\u001b[0m \u001b[32m1.1/1.1 MB\u001b[0m \u001b[31m18.4 MB/s\u001b[0m eta \u001b[36m0:00:00\u001b[0m\r\n",
      "\u001b[?25hDownloading nvidia_cublas_cu12-12.4.5.8-py3-none-manylinux2014_x86_64.whl (363.4 MB)\r\n",
      "\u001b[2K   \u001b[90m━━━━━━━━━━━━━━━━━━━━━━━━━━━━━━━━━━━━━━━━\u001b[0m \u001b[32m363.4/363.4 MB\u001b[0m \u001b[31m4.7 MB/s\u001b[0m eta \u001b[36m0:00:00\u001b[0m\r\n",
      "\u001b[?25hDownloading nvidia_cudnn_cu12-9.1.0.70-py3-none-manylinux2014_x86_64.whl (664.8 MB)\r\n",
      "\u001b[2K   \u001b[90m━━━━━━━━━━━━━━━━━━━━━━━━━━━━━━━━━━━━━━━━\u001b[0m \u001b[32m664.8/664.8 MB\u001b[0m \u001b[31m2.6 MB/s\u001b[0m eta \u001b[36m0:00:00\u001b[0m\r\n",
      "\u001b[?25hDownloading nvidia_cufft_cu12-11.2.1.3-py3-none-manylinux2014_x86_64.whl (211.5 MB)\r\n",
      "\u001b[2K   \u001b[90m━━━━━━━━━━━━━━━━━━━━━━━━━━━━━━━━━━━━━━━━\u001b[0m \u001b[32m211.5/211.5 MB\u001b[0m \u001b[31m7.9 MB/s\u001b[0m eta \u001b[36m0:00:00\u001b[0m\r\n",
      "\u001b[?25hDownloading nvidia_curand_cu12-10.3.5.147-py3-none-manylinux2014_x86_64.whl (56.3 MB)\r\n",
      "\u001b[2K   \u001b[90m━━━━━━━━━━━━━━━━━━━━━━━━━━━━━━━━━━━━━━━━\u001b[0m \u001b[32m56.3/56.3 MB\u001b[0m \u001b[31m29.8 MB/s\u001b[0m eta \u001b[36m0:00:00\u001b[0m\r\n",
      "\u001b[?25hDownloading nvidia_cusolver_cu12-11.6.1.9-py3-none-manylinux2014_x86_64.whl (127.9 MB)\r\n",
      "\u001b[2K   \u001b[90m━━━━━━━━━━━━━━━━━━━━━━━━━━━━━━━━━━━━━━━━\u001b[0m \u001b[32m127.9/127.9 MB\u001b[0m \u001b[31m12.9 MB/s\u001b[0m eta \u001b[36m0:00:00\u001b[0m\r\n",
      "\u001b[?25hDownloading nvidia_cusparse_cu12-12.3.1.170-py3-none-manylinux2014_x86_64.whl (207.5 MB)\r\n",
      "\u001b[2K   \u001b[90m━━━━━━━━━━━━━━━━━━━━━━━━━━━━━━━━━━━━━━━━\u001b[0m \u001b[32m207.5/207.5 MB\u001b[0m \u001b[31m8.0 MB/s\u001b[0m eta \u001b[36m0:00:00\u001b[0m\r\n",
      "\u001b[?25hDownloading nvidia_nvjitlink_cu12-12.4.127-py3-none-manylinux2014_x86_64.whl (21.1 MB)\r\n",
      "\u001b[2K   \u001b[90m━━━━━━━━━━━━━━━━━━━━━━━━━━━━━━━━━━━━━━━━\u001b[0m \u001b[32m21.1/21.1 MB\u001b[0m \u001b[31m76.9 MB/s\u001b[0m eta \u001b[36m0:00:00\u001b[0m\r\n",
      "\u001b[?25hDownloading ultralytics_thop-2.0.16-py3-none-any.whl (28 kB)\r\n",
      "Installing collected packages: nvidia-nvjitlink-cu12, nvidia-curand-cu12, nvidia-cufft-cu12, nvidia-cublas-cu12, nvidia-cusparse-cu12, nvidia-cudnn-cu12, nvidia-cusolver-cu12, ultralytics-thop, ultralytics\r\n",
      "  Attempting uninstall: nvidia-nvjitlink-cu12\r\n",
      "    Found existing installation: nvidia-nvjitlink-cu12 12.8.93\r\n",
      "    Uninstalling nvidia-nvjitlink-cu12-12.8.93:\r\n",
      "      Successfully uninstalled nvidia-nvjitlink-cu12-12.8.93\r\n",
      "  Attempting uninstall: nvidia-curand-cu12\r\n",
      "    Found existing installation: nvidia-curand-cu12 10.3.9.90\r\n",
      "    Uninstalling nvidia-curand-cu12-10.3.9.90:\r\n",
      "      Successfully uninstalled nvidia-curand-cu12-10.3.9.90\r\n",
      "  Attempting uninstall: nvidia-cufft-cu12\r\n",
      "    Found existing installation: nvidia-cufft-cu12 11.3.3.83\r\n",
      "    Uninstalling nvidia-cufft-cu12-11.3.3.83:\r\n",
      "      Successfully uninstalled nvidia-cufft-cu12-11.3.3.83\r\n",
      "  Attempting uninstall: nvidia-cublas-cu12\r\n",
      "    Found existing installation: nvidia-cublas-cu12 12.8.4.1\r\n",
      "    Uninstalling nvidia-cublas-cu12-12.8.4.1:\r\n",
      "      Successfully uninstalled nvidia-cublas-cu12-12.8.4.1\r\n",
      "  Attempting uninstall: nvidia-cusparse-cu12\r\n",
      "    Found existing installation: nvidia-cusparse-cu12 12.5.8.93\r\n",
      "    Uninstalling nvidia-cusparse-cu12-12.5.8.93:\r\n",
      "      Successfully uninstalled nvidia-cusparse-cu12-12.5.8.93\r\n",
      "  Attempting uninstall: nvidia-cudnn-cu12\r\n",
      "    Found existing installation: nvidia-cudnn-cu12 9.3.0.75\r\n",
      "    Uninstalling nvidia-cudnn-cu12-9.3.0.75:\r\n",
      "      Successfully uninstalled nvidia-cudnn-cu12-9.3.0.75\r\n",
      "  Attempting uninstall: nvidia-cusolver-cu12\r\n",
      "    Found existing installation: nvidia-cusolver-cu12 11.7.3.90\r\n",
      "    Uninstalling nvidia-cusolver-cu12-11.7.3.90:\r\n",
      "      Successfully uninstalled nvidia-cusolver-cu12-11.7.3.90\r\n",
      "\u001b[31mERROR: pip's dependency resolver does not currently take into account all the packages that are installed. This behaviour is the source of the following dependency conflicts.\r\n",
      "pylibcugraph-cu12 24.12.0 requires pylibraft-cu12==24.12.*, but you have pylibraft-cu12 25.2.0 which is incompatible.\r\n",
      "pylibcugraph-cu12 24.12.0 requires rmm-cu12==24.12.*, but you have rmm-cu12 25.2.0 which is incompatible.\u001b[0m\u001b[31m\r\n",
      "\u001b[0mSuccessfully installed nvidia-cublas-cu12-12.4.5.8 nvidia-cudnn-cu12-9.1.0.70 nvidia-cufft-cu12-11.2.1.3 nvidia-curand-cu12-10.3.5.147 nvidia-cusolver-cu12-11.6.1.9 nvidia-cusparse-cu12-12.3.1.170 nvidia-nvjitlink-cu12-12.4.127 ultralytics-8.3.186 ultralytics-thop-2.0.16\r\n",
      "Collecting torchtoolbox\r\n",
      "  Downloading torchtoolbox-0.1.8.2-py3-none-any.whl.metadata (15 kB)\r\n",
      "Requirement already satisfied: numpy in /usr/local/lib/python3.11/dist-packages (from torchtoolbox) (1.26.4)\r\n",
      "Requirement already satisfied: tqdm in /usr/local/lib/python3.11/dist-packages (from torchtoolbox) (4.67.1)\r\n",
      "Requirement already satisfied: pyarrow in /usr/local/lib/python3.11/dist-packages (from torchtoolbox) (19.0.1)\r\n",
      "Requirement already satisfied: six in /usr/local/lib/python3.11/dist-packages (from torchtoolbox) (1.17.0)\r\n",
      "Collecting lmdb (from torchtoolbox)\r\n",
      "  Downloading lmdb-1.7.3-cp311-cp311-manylinux_2_17_x86_64.manylinux2014_x86_64.whl.metadata (1.3 kB)\r\n",
      "Requirement already satisfied: scikit-learn in /usr/local/lib/python3.11/dist-packages (from torchtoolbox) (1.2.2)\r\n",
      "Requirement already satisfied: scipy in /usr/local/lib/python3.11/dist-packages (from torchtoolbox) (1.15.2)\r\n",
      "Requirement already satisfied: opencv-python in /usr/local/lib/python3.11/dist-packages (from torchtoolbox) (4.11.0.86)\r\n",
      "Requirement already satisfied: pyyaml in /usr/local/lib/python3.11/dist-packages (from torchtoolbox) (6.0.2)\r\n",
      "Requirement already satisfied: tensorboard in /usr/local/lib/python3.11/dist-packages (from torchtoolbox) (2.18.0)\r\n",
      "Requirement already satisfied: prettytable in /usr/local/lib/python3.11/dist-packages (from torchtoolbox) (3.14.0)\r\n",
      "Requirement already satisfied: transformers in /usr/local/lib/python3.11/dist-packages (from torchtoolbox) (4.51.1)\r\n",
      "Requirement already satisfied: mkl_fft in /usr/local/lib/python3.11/dist-packages (from numpy->torchtoolbox) (1.3.8)\r\n",
      "Requirement already satisfied: mkl_random in /usr/local/lib/python3.11/dist-packages (from numpy->torchtoolbox) (1.2.4)\r\n",
      "Requirement already satisfied: mkl_umath in /usr/local/lib/python3.11/dist-packages (from numpy->torchtoolbox) (0.1.1)\r\n",
      "Requirement already satisfied: mkl in /usr/local/lib/python3.11/dist-packages (from numpy->torchtoolbox) (2025.1.0)\r\n",
      "Requirement already satisfied: tbb4py in /usr/local/lib/python3.11/dist-packages (from numpy->torchtoolbox) (2022.1.0)\r\n",
      "Requirement already satisfied: mkl-service in /usr/local/lib/python3.11/dist-packages (from numpy->torchtoolbox) (2.4.1)\r\n",
      "Requirement already satisfied: wcwidth in /usr/local/lib/python3.11/dist-packages (from prettytable->torchtoolbox) (0.2.13)\r\n",
      "Requirement already satisfied: joblib>=1.1.1 in /usr/local/lib/python3.11/dist-packages (from scikit-learn->torchtoolbox) (1.4.2)\r\n",
      "Requirement already satisfied: threadpoolctl>=2.0.0 in /usr/local/lib/python3.11/dist-packages (from scikit-learn->torchtoolbox) (3.6.0)\r\n",
      "Requirement already satisfied: absl-py>=0.4 in /usr/local/lib/python3.11/dist-packages (from tensorboard->torchtoolbox) (1.4.0)\r\n",
      "Requirement already satisfied: grpcio>=1.48.2 in /usr/local/lib/python3.11/dist-packages (from tensorboard->torchtoolbox) (1.70.0)\r\n",
      "Requirement already satisfied: markdown>=2.6.8 in /usr/local/lib/python3.11/dist-packages (from tensorboard->torchtoolbox) (3.7)\r\n",
      "Requirement already satisfied: packaging in /usr/local/lib/python3.11/dist-packages (from tensorboard->torchtoolbox) (24.2)\r\n",
      "Requirement already satisfied: protobuf!=4.24.0,>=3.19.6 in /usr/local/lib/python3.11/dist-packages (from tensorboard->torchtoolbox) (3.20.3)\r\n",
      "Requirement already satisfied: setuptools>=41.0.0 in /usr/local/lib/python3.11/dist-packages (from tensorboard->torchtoolbox) (75.1.0)\r\n",
      "Requirement already satisfied: tensorboard-data-server<0.8.0,>=0.7.0 in /usr/local/lib/python3.11/dist-packages (from tensorboard->torchtoolbox) (0.7.2)\r\n",
      "Requirement already satisfied: werkzeug>=1.0.1 in /usr/local/lib/python3.11/dist-packages (from tensorboard->torchtoolbox) (3.1.3)\r\n",
      "Requirement already satisfied: filelock in /usr/local/lib/python3.11/dist-packages (from transformers->torchtoolbox) (3.18.0)\r\n",
      "Requirement already satisfied: huggingface-hub<1.0,>=0.30.0 in /usr/local/lib/python3.11/dist-packages (from transformers->torchtoolbox) (0.30.2)\r\n",
      "Requirement already satisfied: regex!=2019.12.17 in /usr/local/lib/python3.11/dist-packages (from transformers->torchtoolbox) (2024.11.6)\r\n",
      "Requirement already satisfied: requests in /usr/local/lib/python3.11/dist-packages (from transformers->torchtoolbox) (2.32.3)\r\n",
      "Requirement already satisfied: tokenizers<0.22,>=0.21 in /usr/local/lib/python3.11/dist-packages (from transformers->torchtoolbox) (0.21.0)\r\n",
      "Requirement already satisfied: safetensors>=0.4.3 in /usr/local/lib/python3.11/dist-packages (from transformers->torchtoolbox) (0.5.2)\r\n",
      "Requirement already satisfied: fsspec>=2023.5.0 in /usr/local/lib/python3.11/dist-packages (from huggingface-hub<1.0,>=0.30.0->transformers->torchtoolbox) (2025.3.2)\r\n",
      "Requirement already satisfied: typing-extensions>=3.7.4.3 in /usr/local/lib/python3.11/dist-packages (from huggingface-hub<1.0,>=0.30.0->transformers->torchtoolbox) (4.13.1)\r\n",
      "Requirement already satisfied: MarkupSafe>=2.1.1 in /usr/local/lib/python3.11/dist-packages (from werkzeug>=1.0.1->tensorboard->torchtoolbox) (3.0.2)\r\n",
      "Requirement already satisfied: intel-openmp<2026,>=2024 in /usr/local/lib/python3.11/dist-packages (from mkl->numpy->torchtoolbox) (2024.2.0)\r\n",
      "Requirement already satisfied: tbb==2022.* in /usr/local/lib/python3.11/dist-packages (from mkl->numpy->torchtoolbox) (2022.1.0)\r\n",
      "Requirement already satisfied: tcmlib==1.* in /usr/local/lib/python3.11/dist-packages (from tbb==2022.*->mkl->numpy->torchtoolbox) (1.2.0)\r\n",
      "Requirement already satisfied: intel-cmplr-lib-rt in /usr/local/lib/python3.11/dist-packages (from mkl_umath->numpy->torchtoolbox) (2024.2.0)\r\n",
      "Requirement already satisfied: charset-normalizer<4,>=2 in /usr/local/lib/python3.11/dist-packages (from requests->transformers->torchtoolbox) (3.4.1)\r\n",
      "Requirement already satisfied: idna<4,>=2.5 in /usr/local/lib/python3.11/dist-packages (from requests->transformers->torchtoolbox) (3.10)\r\n",
      "Requirement already satisfied: urllib3<3,>=1.21.1 in /usr/local/lib/python3.11/dist-packages (from requests->transformers->torchtoolbox) (2.3.0)\r\n",
      "Requirement already satisfied: certifi>=2017.4.17 in /usr/local/lib/python3.11/dist-packages (from requests->transformers->torchtoolbox) (2025.1.31)\r\n",
      "Requirement already satisfied: intel-cmplr-lib-ur==2024.2.0 in /usr/local/lib/python3.11/dist-packages (from intel-openmp<2026,>=2024->mkl->numpy->torchtoolbox) (2024.2.0)\r\n",
      "Downloading torchtoolbox-0.1.8.2-py3-none-any.whl (84 kB)\r\n",
      "\u001b[2K   \u001b[90m━━━━━━━━━━━━━━━━━━━━━━━━━━━━━━━━━━━━━━━━\u001b[0m \u001b[32m85.0/85.0 kB\u001b[0m \u001b[31m2.8 MB/s\u001b[0m eta \u001b[36m0:00:00\u001b[0m\r\n",
      "\u001b[?25hDownloading lmdb-1.7.3-cp311-cp311-manylinux_2_17_x86_64.manylinux2014_x86_64.whl (299 kB)\r\n",
      "\u001b[2K   \u001b[90m━━━━━━━━━━━━━━━━━━━━━━━━━━━━━━━━━━━━━━━━\u001b[0m \u001b[32m299.6/299.6 kB\u001b[0m \u001b[31m9.6 MB/s\u001b[0m eta \u001b[36m0:00:00\u001b[0m\r\n",
      "\u001b[?25hInstalling collected packages: lmdb, torchtoolbox\r\n",
      "Successfully installed lmdb-1.7.3 torchtoolbox-0.1.8.2\r\n"
     ]
    }
   ],
   "source": [
    "!pip install ultralytics\n",
    "!pip install torchtoolbox"
   ]
  },
  {
   "cell_type": "code",
   "execution_count": 2,
   "id": "62ef2c16",
   "metadata": {
    "_cell_guid": "fe9b86dd-6ef0-40b1-b6ff-486e1e1990e6",
    "_uuid": "0db5545a-017e-4a3f-9fda-b64d11c8b205",
    "collapsed": false,
    "execution": {
     "iopub.execute_input": "2025-08-26T08:33:08.040742Z",
     "iopub.status.busy": "2025-08-26T08:33:08.040463Z",
     "iopub.status.idle": "2025-08-26T11:06:56.942988Z",
     "shell.execute_reply": "2025-08-26T11:06:56.942103Z"
    },
    "jupyter": {
     "outputs_hidden": false
    },
    "papermill": {
     "duration": 9229.517832,
     "end_time": "2025-08-26T11:06:57.536846",
     "exception": false,
     "start_time": "2025-08-26T08:33:08.019014",
     "status": "completed"
    },
    "tags": []
   },
   "outputs": [
    {
     "name": "stdout",
     "output_type": "stream",
     "text": [
      "Creating new Ultralytics Settings v0.0.6 file ✅ \n",
      "View Ultralytics Settings with 'yolo settings' or at '/root/.config/Ultralytics/settings.json'\n",
      "Update Settings with 'yolo settings key=value', i.e. 'yolo settings runs_dir=path/to/dir'. For help see https://docs.ultralytics.com/quickstart/#ultralytics-settings.\n"
     ]
    },
    {
     "name": "stderr",
     "output_type": "stream",
     "text": [
      "/usr/local/lib/python3.11/dist-packages/torch/nn/modules/transformer.py:379: UserWarning: enable_nested_tensor is True, but self.use_nested_tensor is False because encoder_layer.norm_first was True\n",
      "  warnings.warn(\n",
      "/tmp/ipykernel_19/2880456825.py:370: FutureWarning: You are using `torch.load` with `weights_only=False` (the current default value), which uses the default pickle module implicitly. It is possible to construct malicious pickle data which will execute arbitrary code during unpickling (See https://github.com/pytorch/pytorch/blob/main/SECURITY.md#untrusted-models for more details). In a future release, the default value for `weights_only` will be flipped to `True`. This limits the functions that could be executed during unpickling. Arbitrary objects will no longer be allowed to be loaded via this mode unless they are explicitly allowlisted by the user via `torch.serialization.add_safe_globals`. We recommend you start setting `weights_only=True` for any use case where you don't have full control of the loaded file. Please open an issue on GitHub for any issues related to this experimental feature.\n",
      "  checkpoint = torch.load(\"/kaggle/input/yolo_rvt_aolp_rp47/pytorch/default/1/best_yolo_rvit_model47.pth\", map_location=DEVICE)\n",
      "Epoch 1/100 [TRAIN] LR: 2.02e-04 Teach: 0.70 Scheduler: OneCycleLR:   2%|▏         | 1/44 [00:08<06:19,  8.83s/it, loss=0.725]"
     ]
    },
    {
     "name": "stdout",
     "output_type": "stream",
     "text": [
      "\n",
      "--- Training Batch 0 Examples (Content Only) ---\n",
      "  Pred: '2W2899'\n",
      "  True: '2W2899'\n",
      "  Pred: '1329HA'\n",
      "  True: '1329HA'\n",
      "  Pred: '7E6536'\n",
      "  True: '7E6536'\n",
      "  Pred: 'L83086'\n",
      "  True: 'L83086'\n",
      "  Pred: 'CU6416'\n",
      "  True: 'CU6416'\n",
      "-------------------------------\n"
     ]
    },
    {
     "name": "stderr",
     "output_type": "stream",
     "text": [
      "Epoch 1/100 [TRAIN] LR: 2.02e-04 Teach: 0.70 Scheduler: OneCycleLR: 100%|██████████| 44/44 [01:01<00:00,  1.41s/it, loss=0.739]\n",
      "Epoch 1/100 [VAL]: 100%|██████████| 20/20 [00:31<00:00,  1.57s/it, loss=0.713]\n"
     ]
    },
    {
     "name": "stdout",
     "output_type": "stream",
     "text": [
      "EarlyStopping: New best val_acc: 0.9817\n",
      "\n",
      "Epoch 1/100 | LR: 5.28e-05 | Teach: 0.70 | Scheduler: OneCycleLR\n",
      "  Train Loss: 0.7337 | Train Char Acc: 0.9951\n",
      "  Val Loss: 0.7836   | Val Acc (CRR): 0.9817\n",
      "  Val Exact Match Acc (E2E RR): 0.9264\n",
      "----------------------------------------------------------------------\n",
      "*** New best validation accuracy: 0.9817. Saving best_model.pth ***\n"
     ]
    },
    {
     "name": "stderr",
     "output_type": "stream",
     "text": [
      "Epoch 2/100 [TRAIN] LR: 5.28e-05 Teach: 0.69 Scheduler: OneCycleLR:   2%|▏         | 1/44 [00:06<04:40,  6.53s/it, loss=0.722]"
     ]
    },
    {
     "name": "stdout",
     "output_type": "stream",
     "text": [
      "\n",
      "--- Training Batch 0 Examples (Content Only) ---\n",
      "  Pred: '0531FL'\n",
      "  True: '0531FL'\n",
      "  Pred: '2277XY'\n",
      "  True: '2277XY'\n",
      "  Pred: 'J26655'\n",
      "  True: 'J26655'\n",
      "  Pred: '6237JJ'\n",
      "  True: '6237JJ'\n",
      "  Pred: '9L9835'\n",
      "  True: '9L9835'\n",
      "-------------------------------\n"
     ]
    },
    {
     "name": "stderr",
     "output_type": "stream",
     "text": [
      "Epoch 2/100 [TRAIN] LR: 5.28e-05 Teach: 0.69 Scheduler: OneCycleLR: 100%|██████████| 44/44 [01:02<00:00,  1.43s/it, loss=0.713]\n",
      "Epoch 2/100 [VAL]: 100%|██████████| 20/20 [00:30<00:00,  1.52s/it, loss=0.714]\n"
     ]
    },
    {
     "name": "stdout",
     "output_type": "stream",
     "text": [
      "EarlyStopping: New best val_acc: 0.9825\n",
      "\n",
      "Epoch 2/100 | LR: 6.11e-05 | Teach: 0.69 | Scheduler: OneCycleLR\n",
      "  Train Loss: 0.7383 | Train Char Acc: 0.9910\n",
      "  Val Loss: 0.7862   | Val Acc (CRR): 0.9825\n",
      "  Val Exact Match Acc (E2E RR): 0.9313\n",
      "----------------------------------------------------------------------\n",
      "*** New best validation accuracy: 0.9825. Saving best_model.pth ***\n"
     ]
    },
    {
     "name": "stderr",
     "output_type": "stream",
     "text": [
      "Epoch 3/100 [TRAIN] LR: 6.11e-05 Teach: 0.69 Scheduler: OneCycleLR:   2%|▏         | 1/44 [00:06<04:36,  6.44s/it, loss=0.746]"
     ]
    },
    {
     "name": "stdout",
     "output_type": "stream",
     "text": [
      "\n",
      "--- Training Batch 0 Examples (Content Only) ---\n",
      "  Pred: '8962ED'\n",
      "  True: '8962ED'\n",
      "  Pred: '6457FK'\n",
      "  True: '6457FK'\n",
      "  Pred: 'AN3348'\n",
      "  True: 'AN3348'\n",
      "  Pred: '3572YB'\n",
      "  True: '3572YB'\n",
      "  Pred: 'DZ2971'\n",
      "  True: 'DZ2971'\n",
      "-------------------------------\n"
     ]
    },
    {
     "name": "stderr",
     "output_type": "stream",
     "text": [
      "Epoch 3/100 [TRAIN] LR: 6.11e-05 Teach: 0.69 Scheduler: OneCycleLR: 100%|██████████| 44/44 [01:01<00:00,  1.39s/it, loss=0.728]\n",
      "Epoch 3/100 [VAL]: 100%|██████████| 20/20 [00:30<00:00,  1.53s/it, loss=0.718]\n"
     ]
    },
    {
     "name": "stdout",
     "output_type": "stream",
     "text": [
      "EarlyStopping counter: 1/100 (Best val_acc: 0.9825)\n",
      "\n",
      "Epoch 3/100 | LR: 7.46e-05 | Teach: 0.69 | Scheduler: OneCycleLR\n",
      "  Train Loss: 0.7360 | Train Char Acc: 0.9924\n",
      "  Val Loss: 0.7858   | Val Acc (CRR): 0.9817\n",
      "  Val Exact Match Acc (E2E RR): 0.9264\n",
      "----------------------------------------------------------------------\n"
     ]
    },
    {
     "name": "stderr",
     "output_type": "stream",
     "text": [
      "Epoch 4/100 [TRAIN] LR: 7.46e-05 Teach: 0.68 Scheduler: OneCycleLR:   2%|▏         | 1/44 [00:05<04:09,  5.81s/it, loss=0.718]"
     ]
    },
    {
     "name": "stdout",
     "output_type": "stream",
     "text": [
      "\n",
      "--- Training Batch 0 Examples (Content Only) ---\n",
      "  Pred: '8765DT'\n",
      "  True: '8765DT'\n",
      "  Pred: '8987MP'\n",
      "  True: '8987MP'\n",
      "  Pred: '5R9523'\n",
      "  True: '5R9523'\n",
      "  Pred: '1350HZ'\n",
      "  True: '1350HZ'\n",
      "  Pred: '5A8896'\n",
      "  True: '5A8896'\n",
      "-------------------------------\n"
     ]
    },
    {
     "name": "stderr",
     "output_type": "stream",
     "text": [
      "Epoch 4/100 [TRAIN] LR: 7.46e-05 Teach: 0.68 Scheduler: OneCycleLR: 100%|██████████| 44/44 [01:02<00:00,  1.42s/it, loss=0.74]\n",
      "Epoch 4/100 [VAL]: 100%|██████████| 20/20 [00:30<00:00,  1.51s/it, loss=0.715]\n"
     ]
    },
    {
     "name": "stdout",
     "output_type": "stream",
     "text": [
      "EarlyStopping counter: 2/100 (Best val_acc: 0.9825)\n",
      "\n",
      "Epoch 4/100 | LR: 9.32e-05 | Teach: 0.68 | Scheduler: OneCycleLR\n",
      "  Train Loss: 0.7439 | Train Char Acc: 0.9902\n",
      "  Val Loss: 0.7863   | Val Acc (CRR): 0.9828\n",
      "  Val Exact Match Acc (E2E RR): 0.9329\n",
      "----------------------------------------------------------------------\n",
      "*** New best validation accuracy: 0.9828. Saving best_model.pth ***\n"
     ]
    },
    {
     "name": "stderr",
     "output_type": "stream",
     "text": [
      "Epoch 5/100 [TRAIN] LR: 9.32e-05 Teach: 0.67 Scheduler: OneCycleLR:   2%|▏         | 1/44 [00:05<04:07,  5.76s/it, loss=0.754]"
     ]
    },
    {
     "name": "stdout",
     "output_type": "stream",
     "text": [
      "\n",
      "--- Training Batch 0 Examples (Content Only) ---\n",
      "  Pred: 'AN6971'\n",
      "  True: 'AN6971'\n",
      "  Pred: 'DC1759'\n",
      "  True: 'DC1759'\n",
      "  Pred: '0608TW'\n",
      "  True: '0608TW'\n",
      "  Pred: '9139SX'\n",
      "  True: '9139SX'\n",
      "  Pred: '5102JJ'\n",
      "  True: '5102JJ'\n",
      "-------------------------------\n"
     ]
    },
    {
     "name": "stderr",
     "output_type": "stream",
     "text": [
      "Epoch 5/100 [TRAIN] LR: 9.32e-05 Teach: 0.67 Scheduler: OneCycleLR: 100%|██████████| 44/44 [01:02<00:00,  1.42s/it, loss=0.787]\n",
      "Epoch 5/100 [VAL]: 100%|██████████| 20/20 [00:30<00:00,  1.52s/it, loss=0.719]\n"
     ]
    },
    {
     "name": "stdout",
     "output_type": "stream",
     "text": [
      "EarlyStopping counter: 3/100 (Best val_acc: 0.9825)\n",
      "\n",
      "Epoch 5/100 | LR: 1.16e-04 | Teach: 0.67 | Scheduler: OneCycleLR\n",
      "  Train Loss: 0.7448 | Train Char Acc: 0.9896\n",
      "  Val Loss: 0.7877   | Val Acc (CRR): 0.9817\n",
      "  Val Exact Match Acc (E2E RR): 0.9280\n",
      "----------------------------------------------------------------------\n"
     ]
    },
    {
     "name": "stderr",
     "output_type": "stream",
     "text": [
      "Epoch 6/100 [TRAIN] LR: 1.16e-04 Teach: 0.67 Scheduler: OneCycleLR:   2%|▏         | 1/44 [00:06<04:24,  6.14s/it, loss=0.716]"
     ]
    },
    {
     "name": "stdout",
     "output_type": "stream",
     "text": [
      "\n",
      "--- Training Batch 0 Examples (Content Only) ---\n",
      "  Pred: '7197QM'\n",
      "  True: '7197QM'\n",
      "  Pred: 'RU2627'\n",
      "  True: 'RU2627'\n",
      "  Pred: '2A5596'\n",
      "  True: '2A5596'\n",
      "  Pred: '2267HH'\n",
      "  True: '2267HH'\n",
      "  Pred: 'M52028'\n",
      "  True: 'M52028'\n",
      "-------------------------------\n"
     ]
    },
    {
     "name": "stderr",
     "output_type": "stream",
     "text": [
      "Epoch 6/100 [TRAIN] LR: 1.16e-04 Teach: 0.67 Scheduler: OneCycleLR: 100%|██████████| 44/44 [01:01<00:00,  1.39s/it, loss=0.72]\n",
      "Epoch 6/100 [VAL]: 100%|██████████| 20/20 [00:30<00:00,  1.51s/it, loss=0.719]\n"
     ]
    },
    {
     "name": "stdout",
     "output_type": "stream",
     "text": [
      "EarlyStopping counter: 4/100 (Best val_acc: 0.9825)\n",
      "\n",
      "Epoch 6/100 | LR: 1.43e-04 | Teach: 0.67 | Scheduler: OneCycleLR\n",
      "  Train Loss: 0.7345 | Train Char Acc: 0.9933\n",
      "  Val Loss: 0.7887   | Val Acc (CRR): 0.9828\n",
      "  Val Exact Match Acc (E2E RR): 0.9313\n",
      "----------------------------------------------------------------------\n"
     ]
    },
    {
     "name": "stderr",
     "output_type": "stream",
     "text": [
      "Epoch 7/100 [TRAIN] LR: 1.43e-04 Teach: 0.66 Scheduler: OneCycleLR:   2%|▏         | 1/44 [00:06<04:22,  6.11s/it, loss=0.725]"
     ]
    },
    {
     "name": "stdout",
     "output_type": "stream",
     "text": [
      "\n",
      "--- Training Batch 0 Examples (Content Only) ---\n",
      "  Pred: '7N8062'\n",
      "  True: '7N8062'\n",
      "  Pred: '2W1785'\n",
      "  True: '2W1785'\n",
      "  Pred: '2189TT'\n",
      "  True: '2189TT'\n",
      "  Pred: 'DF7686'\n",
      "  True: 'DF7686'\n",
      "  Pred: '6E1507'\n",
      "  True: '6E1507'\n",
      "-------------------------------\n"
     ]
    },
    {
     "name": "stderr",
     "output_type": "stream",
     "text": [
      "Epoch 7/100 [TRAIN] LR: 1.43e-04 Teach: 0.66 Scheduler: OneCycleLR: 100%|██████████| 44/44 [01:02<00:00,  1.43s/it, loss=0.762]\n",
      "Epoch 7/100 [VAL]: 100%|██████████| 20/20 [00:30<00:00,  1.52s/it, loss=0.718]\n"
     ]
    },
    {
     "name": "stdout",
     "output_type": "stream",
     "text": [
      "EarlyStopping counter: 5/100 (Best val_acc: 0.9825)\n",
      "\n",
      "Epoch 7/100 | LR: 1.73e-04 | Teach: 0.66 | Scheduler: OneCycleLR\n",
      "  Train Loss: 0.7440 | Train Char Acc: 0.9886\n",
      "  Val Loss: 0.7890   | Val Acc (CRR): 0.9814\n",
      "  Val Exact Match Acc (E2E RR): 0.9264\n",
      "----------------------------------------------------------------------\n"
     ]
    },
    {
     "name": "stderr",
     "output_type": "stream",
     "text": [
      "Epoch 8/100 [TRAIN] LR: 1.73e-04 Teach: 0.65 Scheduler: OneCycleLR:   2%|▏         | 1/44 [00:05<04:13,  5.89s/it, loss=0.729]"
     ]
    },
    {
     "name": "stdout",
     "output_type": "stream",
     "text": [
      "\n",
      "--- Training Batch 0 Examples (Content Only) ---\n",
      "  Pred: 'C28988'\n",
      "  True: 'C28988'\n",
      "  Pred: '2N4202'\n",
      "  True: '2N4202'\n",
      "  Pred: '1L9170'\n",
      "  True: '1L9170'\n",
      "  Pred: '2D9320'\n",
      "  True: '2D9320'\n",
      "  Pred: 'QR8001'\n",
      "  True: 'QR8001'\n",
      "-------------------------------\n"
     ]
    },
    {
     "name": "stderr",
     "output_type": "stream",
     "text": [
      "Epoch 8/100 [TRAIN] LR: 1.73e-04 Teach: 0.65 Scheduler: OneCycleLR: 100%|██████████| 44/44 [01:01<00:00,  1.39s/it, loss=0.721]\n",
      "Epoch 8/100 [VAL]: 100%|██████████| 20/20 [00:30<00:00,  1.53s/it, loss=0.719]\n"
     ]
    },
    {
     "name": "stdout",
     "output_type": "stream",
     "text": [
      "EarlyStopping counter: 6/100 (Best val_acc: 0.9825)\n",
      "\n",
      "Epoch 8/100 | LR: 2.06e-04 | Teach: 0.65 | Scheduler: OneCycleLR\n",
      "  Train Loss: 0.7363 | Train Char Acc: 0.9928\n",
      "  Val Loss: 0.7843   | Val Acc (CRR): 0.9823\n",
      "  Val Exact Match Acc (E2E RR): 0.9280\n",
      "----------------------------------------------------------------------\n"
     ]
    },
    {
     "name": "stderr",
     "output_type": "stream",
     "text": [
      "Epoch 9/100 [TRAIN] LR: 2.06e-04 Teach: 0.65 Scheduler: OneCycleLR:   2%|▏         | 1/44 [00:06<04:33,  6.36s/it, loss=0.712]"
     ]
    },
    {
     "name": "stdout",
     "output_type": "stream",
     "text": [
      "\n",
      "--- Training Batch 0 Examples (Content Only) ---\n",
      "  Pred: '4615C7'\n",
      "  True: '4615C7'\n",
      "  Pred: '9C9893'\n",
      "  True: '9C9893'\n",
      "  Pred: 'P92580'\n",
      "  True: 'P92580'\n",
      "  Pred: '7331EP'\n",
      "  True: '7331EP'\n",
      "  Pred: 'HF2706'\n",
      "  True: 'HF2706'\n",
      "-------------------------------\n"
     ]
    },
    {
     "name": "stderr",
     "output_type": "stream",
     "text": [
      "Epoch 9/100 [TRAIN] LR: 2.06e-04 Teach: 0.65 Scheduler: OneCycleLR: 100%|██████████| 44/44 [01:01<00:00,  1.41s/it, loss=0.743]\n",
      "Epoch 9/100 [VAL]: 100%|██████████| 20/20 [00:30<00:00,  1.52s/it, loss=0.707]\n"
     ]
    },
    {
     "name": "stdout",
     "output_type": "stream",
     "text": [
      "EarlyStopping counter: 7/100 (Best val_acc: 0.9825)\n",
      "\n",
      "Epoch 9/100 | LR: 2.41e-04 | Teach: 0.65 | Scheduler: OneCycleLR\n",
      "  Train Loss: 0.7397 | Train Char Acc: 0.9911\n",
      "  Val Loss: 0.7868   | Val Acc (CRR): 0.9817\n",
      "  Val Exact Match Acc (E2E RR): 0.9247\n",
      "----------------------------------------------------------------------\n"
     ]
    },
    {
     "name": "stderr",
     "output_type": "stream",
     "text": [
      "Epoch 10/100 [TRAIN] LR: 2.41e-04 Teach: 0.64 Scheduler: OneCycleLR:   2%|▏         | 1/44 [00:05<04:07,  5.75s/it, loss=0.746]"
     ]
    },
    {
     "name": "stdout",
     "output_type": "stream",
     "text": [
      "\n",
      "--- Training Batch 0 Examples (Content Only) ---\n",
      "  Pred: 'ZV0720'\n",
      "  True: 'ZV0720'\n",
      "  Pred: '7095VR'\n",
      "  True: '7096DN'\n",
      "  Pred: '0751QL'\n",
      "  True: '0751QL'\n",
      "  Pred: 'OH1357'\n",
      "  True: 'OH1357'\n",
      "  Pred: '9932RK'\n",
      "  True: '9932RK'\n",
      "-------------------------------\n"
     ]
    },
    {
     "name": "stderr",
     "output_type": "stream",
     "text": [
      "Epoch 10/100 [TRAIN] LR: 2.41e-04 Teach: 0.64 Scheduler: OneCycleLR: 100%|██████████| 44/44 [01:02<00:00,  1.42s/it, loss=0.779]\n",
      "Epoch 10/100 [VAL]: 100%|██████████| 20/20 [00:30<00:00,  1.52s/it, loss=0.719]\n"
     ]
    },
    {
     "name": "stdout",
     "output_type": "stream",
     "text": [
      "EarlyStopping counter: 8/100 (Best val_acc: 0.9825)\n",
      "\n",
      "Epoch 10/100 | LR: 2.76e-04 | Teach: 0.64 | Scheduler: OneCycleLR\n",
      "  Train Loss: 0.7366 | Train Char Acc: 0.9936\n",
      "  Val Loss: 0.7896   | Val Acc (CRR): 0.9812\n",
      "  Val Exact Match Acc (E2E RR): 0.9214\n",
      "----------------------------------------------------------------------\n"
     ]
    },
    {
     "name": "stderr",
     "output_type": "stream",
     "text": [
      "Epoch 11/100 [TRAIN] LR: 2.76e-04 Teach: 0.63 Scheduler: OneCycleLR:   2%|▏         | 1/44 [00:06<04:24,  6.15s/it, loss=0.732]"
     ]
    },
    {
     "name": "stdout",
     "output_type": "stream",
     "text": [
      "\n",
      "--- Training Batch 0 Examples (Content Only) ---\n",
      "  Pred: '2A6132'\n",
      "  True: '2A6132'\n",
      "  Pred: '1B8566'\n",
      "  True: '1B8566'\n",
      "  Pred: 'CL5080'\n",
      "  True: 'CL5080'\n",
      "  Pred: '5J2251'\n",
      "  True: '5J2251'\n",
      "  Pred: '7G1333'\n",
      "  True: '7G1333'\n",
      "-------------------------------\n"
     ]
    },
    {
     "name": "stderr",
     "output_type": "stream",
     "text": [
      "Epoch 11/100 [TRAIN] LR: 2.76e-04 Teach: 0.63 Scheduler: OneCycleLR: 100%|██████████| 44/44 [01:02<00:00,  1.43s/it, loss=0.722]\n",
      "Epoch 11/100 [VAL]: 100%|██████████| 20/20 [00:29<00:00,  1.50s/it, loss=0.733]\n"
     ]
    },
    {
     "name": "stdout",
     "output_type": "stream",
     "text": [
      "EarlyStopping counter: 9/100 (Best val_acc: 0.9825)\n",
      "\n",
      "Epoch 11/100 | LR: 3.11e-04 | Teach: 0.63 | Scheduler: OneCycleLR\n",
      "  Train Loss: 0.7393 | Train Char Acc: 0.9921\n",
      "  Val Loss: 0.7902   | Val Acc (CRR): 0.9817\n",
      "  Val Exact Match Acc (E2E RR): 0.9231\n",
      "----------------------------------------------------------------------\n"
     ]
    },
    {
     "name": "stderr",
     "output_type": "stream",
     "text": [
      "Epoch 12/100 [TRAIN] LR: 3.11e-04 Teach: 0.63 Scheduler: OneCycleLR:   2%|▏         | 1/44 [00:05<04:04,  5.68s/it, loss=0.723]"
     ]
    },
    {
     "name": "stdout",
     "output_type": "stream",
     "text": [
      "\n",
      "--- Training Batch 0 Examples (Content Only) ---\n",
      "  Pred: '1312KD'\n",
      "  True: '1312KD'\n",
      "  Pred: 'B79080'\n",
      "  True: 'B79080'\n",
      "  Pred: '1225CC'\n",
      "  True: '1225CC'\n",
      "  Pred: '4771DL'\n",
      "  True: '4771DL'\n",
      "  Pred: '8055PC'\n",
      "  True: '8055PC'\n",
      "-------------------------------\n"
     ]
    },
    {
     "name": "stderr",
     "output_type": "stream",
     "text": [
      "Epoch 12/100 [TRAIN] LR: 3.11e-04 Teach: 0.63 Scheduler: OneCycleLR: 100%|██████████| 44/44 [01:00<00:00,  1.36s/it, loss=0.802]\n",
      "Epoch 12/100 [VAL]: 100%|██████████| 20/20 [00:30<00:00,  1.51s/it, loss=0.728]\n"
     ]
    },
    {
     "name": "stdout",
     "output_type": "stream",
     "text": [
      "EarlyStopping counter: 10/100 (Best val_acc: 0.9825)\n",
      "\n",
      "Epoch 12/100 | LR: 3.45e-04 | Teach: 0.63 | Scheduler: OneCycleLR\n",
      "  Train Loss: 0.7370 | Train Char Acc: 0.9929\n",
      "  Val Loss: 0.7947   | Val Acc (CRR): 0.9798\n",
      "  Val Exact Match Acc (E2E RR): 0.9198\n",
      "----------------------------------------------------------------------\n"
     ]
    },
    {
     "name": "stderr",
     "output_type": "stream",
     "text": [
      "Epoch 13/100 [TRAIN] LR: 3.45e-04 Teach: 0.62 Scheduler: OneCycleLR:   2%|▏         | 1/44 [00:05<04:07,  5.77s/it, loss=0.722]"
     ]
    },
    {
     "name": "stdout",
     "output_type": "stream",
     "text": [
      "\n",
      "--- Training Batch 0 Examples (Content Only) ---\n",
      "  Pred: '3G9088'\n",
      "  True: '3G9088'\n",
      "  Pred: '2670EW'\n",
      "  True: '2670EW'\n",
      "  Pred: '6B6617'\n",
      "  True: '6B6617'\n",
      "  Pred: 'H39977'\n",
      "  True: 'H39977'\n",
      "  Pred: '2B6449'\n",
      "  True: '2B6449'\n",
      "-------------------------------\n"
     ]
    },
    {
     "name": "stderr",
     "output_type": "stream",
     "text": [
      "Epoch 13/100 [TRAIN] LR: 3.45e-04 Teach: 0.62 Scheduler: OneCycleLR: 100%|██████████| 44/44 [01:01<00:00,  1.40s/it, loss=0.789]\n",
      "Epoch 13/100 [VAL]: 100%|██████████| 20/20 [00:29<00:00,  1.49s/it, loss=0.72]\n"
     ]
    },
    {
     "name": "stdout",
     "output_type": "stream",
     "text": [
      "EarlyStopping counter: 11/100 (Best val_acc: 0.9825)\n",
      "\n",
      "Epoch 13/100 | LR: 3.78e-04 | Teach: 0.62 | Scheduler: OneCycleLR\n",
      "  Train Loss: 0.7383 | Train Char Acc: 0.9929\n",
      "  Val Loss: 0.7895   | Val Acc (CRR): 0.9798\n",
      "  Val Exact Match Acc (E2E RR): 0.9198\n",
      "----------------------------------------------------------------------\n"
     ]
    },
    {
     "name": "stderr",
     "output_type": "stream",
     "text": [
      "Epoch 14/100 [TRAIN] LR: 3.78e-04 Teach: 0.61 Scheduler: OneCycleLR:   2%|▏         | 1/44 [00:05<03:46,  5.28s/it, loss=0.774]"
     ]
    },
    {
     "name": "stdout",
     "output_type": "stream",
     "text": [
      "\n",
      "--- Training Batch 0 Examples (Content Only) ---\n",
      "  Pred: 'KH6728'\n",
      "  True: 'KH6728'\n",
      "  Pred: '3203KT'\n",
      "  True: '3203KT'\n",
      "  Pred: '1557VP'\n",
      "  True: '1557VP'\n",
      "  Pred: '9560QD'\n",
      "  True: '9560QD'\n",
      "  Pred: '0865DM'\n",
      "  True: '0865DM'\n",
      "-------------------------------\n"
     ]
    },
    {
     "name": "stderr",
     "output_type": "stream",
     "text": [
      "Epoch 14/100 [TRAIN] LR: 3.78e-04 Teach: 0.61 Scheduler: OneCycleLR: 100%|██████████| 44/44 [01:00<00:00,  1.37s/it, loss=0.785]\n",
      "Epoch 14/100 [VAL]: 100%|██████████| 20/20 [00:29<00:00,  1.50s/it, loss=0.724]\n"
     ]
    },
    {
     "name": "stdout",
     "output_type": "stream",
     "text": [
      "EarlyStopping counter: 12/100 (Best val_acc: 0.9825)\n",
      "\n",
      "Epoch 14/100 | LR: 4.08e-04 | Teach: 0.61 | Scheduler: OneCycleLR\n",
      "  Train Loss: 0.7467 | Train Char Acc: 0.9905\n",
      "  Val Loss: 0.7927   | Val Acc (CRR): 0.9806\n",
      "  Val Exact Match Acc (E2E RR): 0.9198\n",
      "----------------------------------------------------------------------\n"
     ]
    },
    {
     "name": "stderr",
     "output_type": "stream",
     "text": [
      "Epoch 15/100 [TRAIN] LR: 4.08e-04 Teach: 0.61 Scheduler: OneCycleLR:   2%|▏         | 1/44 [00:05<03:58,  5.55s/it, loss=0.744]"
     ]
    },
    {
     "name": "stdout",
     "output_type": "stream",
     "text": [
      "\n",
      "--- Training Batch 0 Examples (Content Only) ---\n",
      "  Pred: 'R50268'\n",
      "  True: 'R50268'\n",
      "  Pred: '4158DR'\n",
      "  True: '4158DR'\n",
      "  Pred: 'RU9932'\n",
      "  True: 'RU9932'\n",
      "  Pred: '9A8153'\n",
      "  True: '9A8153'\n",
      "  Pred: '6899YH'\n",
      "  True: '6899YH'\n",
      "-------------------------------\n"
     ]
    },
    {
     "name": "stderr",
     "output_type": "stream",
     "text": [
      "Epoch 15/100 [TRAIN] LR: 4.08e-04 Teach: 0.61 Scheduler: OneCycleLR: 100%|██████████| 44/44 [01:00<00:00,  1.37s/it, loss=0.734]\n",
      "Epoch 15/100 [VAL]: 100%|██████████| 20/20 [00:29<00:00,  1.50s/it, loss=0.72]\n"
     ]
    },
    {
     "name": "stdout",
     "output_type": "stream",
     "text": [
      "EarlyStopping counter: 13/100 (Best val_acc: 0.9825)\n",
      "\n",
      "Epoch 15/100 | LR: 4.35e-04 | Teach: 0.61 | Scheduler: OneCycleLR\n",
      "  Train Loss: 0.7456 | Train Char Acc: 0.9912\n",
      "  Val Loss: 0.7919   | Val Acc (CRR): 0.9790\n",
      "  Val Exact Match Acc (E2E RR): 0.9149\n",
      "----------------------------------------------------------------------\n"
     ]
    },
    {
     "name": "stderr",
     "output_type": "stream",
     "text": [
      "Epoch 16/100 [TRAIN] LR: 4.35e-04 Teach: 0.60 Scheduler: OneCycleLR:   2%|▏         | 1/44 [00:05<04:11,  5.85s/it, loss=0.727]"
     ]
    },
    {
     "name": "stdout",
     "output_type": "stream",
     "text": [
      "\n",
      "--- Training Batch 0 Examples (Content Only) ---\n",
      "  Pred: '0865DM'\n",
      "  True: '0865DM'\n",
      "  Pred: '3131TM'\n",
      "  True: '3131TM'\n",
      "  Pred: 'N30237'\n",
      "  True: 'N30237'\n",
      "  Pred: '3168VD'\n",
      "  True: '3168VD'\n",
      "  Pred: '7C6856'\n",
      "  True: '7C6856'\n",
      "-------------------------------\n"
     ]
    },
    {
     "name": "stderr",
     "output_type": "stream",
     "text": [
      "Epoch 16/100 [TRAIN] LR: 4.35e-04 Teach: 0.60 Scheduler: OneCycleLR: 100%|██████████| 44/44 [01:00<00:00,  1.37s/it, loss=0.748]\n",
      "Epoch 16/100 [VAL]: 100%|██████████| 20/20 [00:29<00:00,  1.48s/it, loss=0.728]\n"
     ]
    },
    {
     "name": "stdout",
     "output_type": "stream",
     "text": [
      "EarlyStopping counter: 14/100 (Best val_acc: 0.9825)\n",
      "\n",
      "Epoch 16/100 | LR: 4.58e-04 | Teach: 0.60 | Scheduler: OneCycleLR\n",
      "  Train Loss: 0.7448 | Train Char Acc: 0.9908\n",
      "  Val Loss: 0.7925   | Val Acc (CRR): 0.9809\n",
      "  Val Exact Match Acc (E2E RR): 0.9247\n",
      "----------------------------------------------------------------------\n"
     ]
    },
    {
     "name": "stderr",
     "output_type": "stream",
     "text": [
      "Epoch 17/100 [TRAIN] LR: 4.58e-04 Teach: 0.59 Scheduler: OneCycleLR:   2%|▏         | 1/44 [00:06<04:33,  6.37s/it, loss=0.781]"
     ]
    },
    {
     "name": "stdout",
     "output_type": "stream",
     "text": [
      "\n",
      "--- Training Batch 0 Examples (Content Only) ---\n",
      "  Pred: 'CE2655'\n",
      "  True: 'CE2655'\n",
      "  Pred: '5697QZ'\n",
      "  True: '5697QZ'\n",
      "  Pred: '9L5777'\n",
      "  True: '9L5722'\n",
      "  Pred: '1367EW'\n",
      "  True: '1367EW'\n",
      "  Pred: '1866EB'\n",
      "  True: '1866EB'\n",
      "-------------------------------\n"
     ]
    },
    {
     "name": "stderr",
     "output_type": "stream",
     "text": [
      "Epoch 17/100 [TRAIN] LR: 4.58e-04 Teach: 0.59 Scheduler: OneCycleLR: 100%|██████████| 44/44 [01:01<00:00,  1.40s/it, loss=0.723]\n",
      "Epoch 17/100 [VAL]: 100%|██████████| 20/20 [00:29<00:00,  1.49s/it, loss=0.736]\n",
      "/usr/local/lib/python3.11/dist-packages/torch/optim/lr_scheduler.py:62: UserWarning: The verbose parameter is deprecated. Please use get_last_lr() to access the learning rate.\n",
      "  warnings.warn(\n"
     ]
    },
    {
     "name": "stdout",
     "output_type": "stream",
     "text": [
      "EarlyStopping counter: 15/100 (Best val_acc: 0.9825)\n",
      "Val Acc stalled for 100 epochs. Switching to ReduceLROnPlateau.\n",
      "\n",
      "Epoch 17/100 | LR: 4.76e-04 | Teach: 0.59 | Scheduler: ReduceLROnPlateau\n",
      "  Train Loss: 0.7522 | Train Char Acc: 0.9871\n",
      "  Val Loss: 0.7976   | Val Acc (CRR): 0.9798\n",
      "  Val Exact Match Acc (E2E RR): 0.9165\n",
      "----------------------------------------------------------------------\n"
     ]
    },
    {
     "name": "stderr",
     "output_type": "stream",
     "text": [
      "Epoch 18/100 [TRAIN] LR: 4.76e-04 Teach: 0.59 Scheduler: ReduceLROnPlateau:   2%|▏         | 1/44 [00:06<04:35,  6.40s/it, loss=0.743]"
     ]
    },
    {
     "name": "stdout",
     "output_type": "stream",
     "text": [
      "\n",
      "--- Training Batch 0 Examples (Content Only) ---\n",
      "  Pred: '8E2157'\n",
      "  True: '8E2157'\n",
      "  Pred: 'AG5347'\n",
      "  True: 'AG5347'\n",
      "  Pred: '7718RV'\n",
      "  True: '3718RV'\n",
      "  Pred: '2715DK'\n",
      "  True: '2715DK'\n",
      "  Pred: '8858RH'\n",
      "  True: '8858RH'\n",
      "-------------------------------\n"
     ]
    },
    {
     "name": "stderr",
     "output_type": "stream",
     "text": [
      "Epoch 18/100 [TRAIN] LR: 4.76e-04 Teach: 0.59 Scheduler: ReduceLROnPlateau: 100%|██████████| 44/44 [01:02<00:00,  1.42s/it, loss=0.722]\n",
      "Epoch 18/100 [VAL]: 100%|██████████| 20/20 [00:29<00:00,  1.49s/it, loss=0.724]\n"
     ]
    },
    {
     "name": "stdout",
     "output_type": "stream",
     "text": [
      "EarlyStopping counter: 16/100 (Best val_acc: 0.9825)\n",
      "\n",
      "Epoch 18/100 | LR: 4.76e-04 | Teach: 0.59 | Scheduler: ReduceLROnPlateau\n",
      "  Train Loss: 0.7457 | Train Char Acc: 0.9905\n",
      "  Val Loss: 0.7955   | Val Acc (CRR): 0.9774\n",
      "  Val Exact Match Acc (E2E RR): 0.9100\n",
      "----------------------------------------------------------------------\n"
     ]
    },
    {
     "name": "stderr",
     "output_type": "stream",
     "text": [
      "Epoch 19/100 [TRAIN] LR: 4.76e-04 Teach: 0.58 Scheduler: ReduceLROnPlateau:   2%|▏         | 1/44 [00:05<04:00,  5.60s/it, loss=0.797]"
     ]
    },
    {
     "name": "stdout",
     "output_type": "stream",
     "text": [
      "\n",
      "--- Training Batch 0 Examples (Content Only) ---\n",
      "  Pred: '0329HB'\n",
      "  True: '0329HB'\n",
      "  Pred: '2236TQ'\n",
      "  True: '2236TQ'\n",
      "  Pred: 'CP4617'\n",
      "  True: 'CP4617'\n",
      "  Pred: '9119DF'\n",
      "  True: '9119DF'\n",
      "  Pred: '7873HK'\n",
      "  True: '7873HK'\n",
      "-------------------------------\n"
     ]
    },
    {
     "name": "stderr",
     "output_type": "stream",
     "text": [
      "Epoch 19/100 [TRAIN] LR: 4.76e-04 Teach: 0.58 Scheduler: ReduceLROnPlateau: 100%|██████████| 44/44 [01:01<00:00,  1.41s/it, loss=0.751]\n",
      "Epoch 19/100 [VAL]: 100%|██████████| 20/20 [00:30<00:00,  1.51s/it, loss=0.722]\n"
     ]
    },
    {
     "name": "stdout",
     "output_type": "stream",
     "text": [
      "EarlyStopping counter: 17/100 (Best val_acc: 0.9825)\n",
      "\n",
      "Epoch 19/100 | LR: 4.76e-04 | Teach: 0.58 | Scheduler: ReduceLROnPlateau\n",
      "  Train Loss: 0.7498 | Train Char Acc: 0.9883\n",
      "  Val Loss: 0.7868   | Val Acc (CRR): 0.9814\n",
      "  Val Exact Match Acc (E2E RR): 0.9247\n",
      "----------------------------------------------------------------------\n"
     ]
    },
    {
     "name": "stderr",
     "output_type": "stream",
     "text": [
      "Epoch 20/100 [TRAIN] LR: 4.76e-04 Teach: 0.58 Scheduler: ReduceLROnPlateau:   2%|▏         | 1/44 [00:06<04:18,  6.01s/it, loss=0.768]"
     ]
    },
    {
     "name": "stdout",
     "output_type": "stream",
     "text": [
      "\n",
      "--- Training Batch 0 Examples (Content Only) ---\n",
      "  Pred: 'AK8699'\n",
      "  True: 'AK8699'\n",
      "  Pred: '7960ZR'\n",
      "  True: '7960ZR'\n",
      "  Pred: '0678VE'\n",
      "  True: '0908VE'\n",
      "  Pred: 'BU8596'\n",
      "  True: 'BU8596'\n",
      "  Pred: '6E1507'\n",
      "  True: '6E1507'\n",
      "-------------------------------\n"
     ]
    },
    {
     "name": "stderr",
     "output_type": "stream",
     "text": [
      "Epoch 20/100 [TRAIN] LR: 4.76e-04 Teach: 0.58 Scheduler: ReduceLROnPlateau: 100%|██████████| 44/44 [01:00<00:00,  1.36s/it, loss=0.764]\n",
      "Epoch 20/100 [VAL]: 100%|██████████| 20/20 [00:30<00:00,  1.51s/it, loss=0.719]\n"
     ]
    },
    {
     "name": "stdout",
     "output_type": "stream",
     "text": [
      "EarlyStopping counter: 18/100 (Best val_acc: 0.9825)\n",
      "\n",
      "Epoch 20/100 | LR: 4.76e-04 | Teach: 0.58 | Scheduler: ReduceLROnPlateau\n",
      "  Train Loss: 0.7411 | Train Char Acc: 0.9927\n",
      "  Val Loss: 0.7962   | Val Acc (CRR): 0.9801\n",
      "  Val Exact Match Acc (E2E RR): 0.9198\n",
      "----------------------------------------------------------------------\n"
     ]
    },
    {
     "name": "stderr",
     "output_type": "stream",
     "text": [
      "Epoch 21/100 [TRAIN] LR: 4.76e-04 Teach: 0.57 Scheduler: ReduceLROnPlateau:   2%|▏         | 1/44 [00:05<04:12,  5.87s/it, loss=0.764]"
     ]
    },
    {
     "name": "stdout",
     "output_type": "stream",
     "text": [
      "\n",
      "--- Training Batch 0 Examples (Content Only) ---\n",
      "  Pred: '1B8566'\n",
      "  True: '1B8566'\n",
      "  Pred: '5385EL'\n",
      "  True: '5385EL'\n",
      "  Pred: '6027GT'\n",
      "  True: '6027GT'\n",
      "  Pred: 'ES8855'\n",
      "  True: 'ES8855'\n",
      "  Pred: '8U3886'\n",
      "  True: '8U3886'\n",
      "-------------------------------\n"
     ]
    },
    {
     "name": "stderr",
     "output_type": "stream",
     "text": [
      "Epoch 21/100 [TRAIN] LR: 4.76e-04 Teach: 0.57 Scheduler: ReduceLROnPlateau: 100%|██████████| 44/44 [01:01<00:00,  1.39s/it, loss=0.727]\n",
      "Epoch 21/100 [VAL]: 100%|██████████| 20/20 [00:30<00:00,  1.52s/it, loss=0.71]\n"
     ]
    },
    {
     "name": "stdout",
     "output_type": "stream",
     "text": [
      "EarlyStopping counter: 19/100 (Best val_acc: 0.9825)\n",
      "\n",
      "Epoch 21/100 | LR: 4.76e-04 | Teach: 0.57 | Scheduler: ReduceLROnPlateau\n",
      "  Train Loss: 0.7404 | Train Char Acc: 0.9931\n",
      "  Val Loss: 0.7829   | Val Acc (CRR): 0.9817\n",
      "  Val Exact Match Acc (E2E RR): 0.9280\n",
      "----------------------------------------------------------------------\n"
     ]
    },
    {
     "name": "stderr",
     "output_type": "stream",
     "text": [
      "Epoch 22/100 [TRAIN] LR: 4.76e-04 Teach: 0.56 Scheduler: ReduceLROnPlateau:   2%|▏         | 1/44 [00:05<04:15,  5.93s/it, loss=0.758]"
     ]
    },
    {
     "name": "stdout",
     "output_type": "stream",
     "text": [
      "\n",
      "--- Training Batch 0 Examples (Content Only) ---\n",
      "  Pred: '8232EC'\n",
      "  True: '8232EC'\n",
      "  Pred: 'BB3519'\n",
      "  True: 'BB3519'\n",
      "  Pred: '9A8153'\n",
      "  True: '9A8153'\n",
      "  Pred: '2318XX'\n",
      "  True: '2318XX'\n",
      "  Pred: 'Z36472'\n",
      "  True: 'Z36472'\n",
      "-------------------------------\n"
     ]
    },
    {
     "name": "stderr",
     "output_type": "stream",
     "text": [
      "Epoch 22/100 [TRAIN] LR: 4.76e-04 Teach: 0.56 Scheduler: ReduceLROnPlateau: 100%|██████████| 44/44 [01:01<00:00,  1.39s/it, loss=0.744]\n",
      "Epoch 22/100 [VAL]: 100%|██████████| 20/20 [00:30<00:00,  1.51s/it, loss=0.73]\n"
     ]
    },
    {
     "name": "stdout",
     "output_type": "stream",
     "text": [
      "EarlyStopping counter: 20/100 (Best val_acc: 0.9825)\n",
      "\n",
      "Epoch 22/100 | LR: 4.76e-04 | Teach: 0.56 | Scheduler: ReduceLROnPlateau\n",
      "  Train Loss: 0.7457 | Train Char Acc: 0.9892\n",
      "  Val Loss: 0.7959   | Val Acc (CRR): 0.9798\n",
      "  Val Exact Match Acc (E2E RR): 0.9198\n",
      "----------------------------------------------------------------------\n"
     ]
    },
    {
     "name": "stderr",
     "output_type": "stream",
     "text": [
      "Epoch 23/100 [TRAIN] LR: 4.76e-04 Teach: 0.56 Scheduler: ReduceLROnPlateau:   2%|▏         | 1/44 [00:05<04:10,  5.82s/it, loss=0.747]"
     ]
    },
    {
     "name": "stdout",
     "output_type": "stream",
     "text": [
      "\n",
      "--- Training Batch 0 Examples (Content Only) ---\n",
      "  Pred: 'YY2755'\n",
      "  True: 'YY2755'\n",
      "  Pred: 'K56155'\n",
      "  True: 'K56155'\n",
      "  Pred: '4771EH'\n",
      "  True: '4771EH'\n",
      "  Pred: '5697QZ'\n",
      "  True: '5697QZ'\n",
      "  Pred: '0550EK'\n",
      "  True: '0550EK'\n",
      "-------------------------------\n"
     ]
    },
    {
     "name": "stderr",
     "output_type": "stream",
     "text": [
      "Epoch 23/100 [TRAIN] LR: 4.76e-04 Teach: 0.56 Scheduler: ReduceLROnPlateau: 100%|██████████| 44/44 [01:02<00:00,  1.42s/it, loss=0.721]\n",
      "Epoch 23/100 [VAL]: 100%|██████████| 20/20 [00:30<00:00,  1.50s/it, loss=0.748]\n"
     ]
    },
    {
     "name": "stdout",
     "output_type": "stream",
     "text": [
      "EarlyStopping counter: 21/100 (Best val_acc: 0.9825)\n",
      "\n",
      "Epoch 23/100 | LR: 4.76e-04 | Teach: 0.56 | Scheduler: ReduceLROnPlateau\n",
      "  Train Loss: 0.7376 | Train Char Acc: 0.9924\n",
      "  Val Loss: 0.7938   | Val Acc (CRR): 0.9793\n",
      "  Val Exact Match Acc (E2E RR): 0.9198\n",
      "----------------------------------------------------------------------\n"
     ]
    },
    {
     "name": "stderr",
     "output_type": "stream",
     "text": [
      "Epoch 24/100 [TRAIN] LR: 4.76e-04 Teach: 0.55 Scheduler: ReduceLROnPlateau:   2%|▏         | 1/44 [00:06<04:29,  6.27s/it, loss=0.735]"
     ]
    },
    {
     "name": "stdout",
     "output_type": "stream",
     "text": [
      "\n",
      "--- Training Batch 0 Examples (Content Only) ---\n",
      "  Pred: '4587KK'\n",
      "  True: '4587KK'\n",
      "  Pred: 'P87795'\n",
      "  True: 'P87795'\n",
      "  Pred: '3572YB'\n",
      "  True: '3572YB'\n",
      "  Pred: '7096DN'\n",
      "  True: '7096DN'\n",
      "  Pred: '7367ZR'\n",
      "  True: '7367ZR'\n",
      "-------------------------------\n"
     ]
    },
    {
     "name": "stderr",
     "output_type": "stream",
     "text": [
      "Epoch 24/100 [TRAIN] LR: 4.76e-04 Teach: 0.55 Scheduler: ReduceLROnPlateau: 100%|██████████| 44/44 [01:00<00:00,  1.37s/it, loss=0.723]\n",
      "Epoch 24/100 [VAL]: 100%|██████████| 20/20 [00:29<00:00,  1.50s/it, loss=0.731]\n"
     ]
    },
    {
     "name": "stdout",
     "output_type": "stream",
     "text": [
      "EarlyStopping counter: 22/100 (Best val_acc: 0.9825)\n",
      "\n",
      "Epoch 24/100 | LR: 2.38e-04 | Teach: 0.55 | Scheduler: ReduceLROnPlateau\n",
      "  Train Loss: 0.7402 | Train Char Acc: 0.9909\n",
      "  Val Loss: 0.8030   | Val Acc (CRR): 0.9798\n",
      "  Val Exact Match Acc (E2E RR): 0.9198\n",
      "----------------------------------------------------------------------\n"
     ]
    },
    {
     "name": "stderr",
     "output_type": "stream",
     "text": [
      "Epoch 25/100 [TRAIN] LR: 2.38e-04 Teach: 0.54 Scheduler: ReduceLROnPlateau:   2%|▏         | 1/44 [00:06<04:28,  6.25s/it, loss=0.715]"
     ]
    },
    {
     "name": "stdout",
     "output_type": "stream",
     "text": [
      "\n",
      "--- Training Batch 0 Examples (Content Only) ---\n",
      "  Pred: 'GX3020'\n",
      "  True: 'GX3020'\n",
      "  Pred: 'RS9732'\n",
      "  True: 'RS9732'\n",
      "  Pred: '2001A9'\n",
      "  True: '2001A9'\n",
      "  Pred: '6810RR'\n",
      "  True: '6810RR'\n",
      "  Pred: '3923DE'\n",
      "  True: '3923DE'\n",
      "-------------------------------\n"
     ]
    },
    {
     "name": "stderr",
     "output_type": "stream",
     "text": [
      "Epoch 25/100 [TRAIN] LR: 2.38e-04 Teach: 0.54 Scheduler: ReduceLROnPlateau: 100%|██████████| 44/44 [01:03<00:00,  1.44s/it, loss=0.762]\n",
      "Epoch 25/100 [VAL]: 100%|██████████| 20/20 [00:30<00:00,  1.50s/it, loss=0.707]\n"
     ]
    },
    {
     "name": "stdout",
     "output_type": "stream",
     "text": [
      "EarlyStopping counter: 23/100 (Best val_acc: 0.9825)\n",
      "\n",
      "Epoch 25/100 | LR: 2.38e-04 | Teach: 0.54 | Scheduler: ReduceLROnPlateau\n",
      "  Train Loss: 0.7373 | Train Char Acc: 0.9910\n",
      "  Val Loss: 0.7867   | Val Acc (CRR): 0.9801\n",
      "  Val Exact Match Acc (E2E RR): 0.9198\n",
      "----------------------------------------------------------------------\n"
     ]
    },
    {
     "name": "stderr",
     "output_type": "stream",
     "text": [
      "Epoch 26/100 [TRAIN] LR: 2.38e-04 Teach: 0.54 Scheduler: ReduceLROnPlateau:   2%|▏         | 1/44 [00:06<04:19,  6.03s/it, loss=0.722]"
     ]
    },
    {
     "name": "stdout",
     "output_type": "stream",
     "text": [
      "\n",
      "--- Training Batch 0 Examples (Content Only) ---\n",
      "  Pred: 'DE1550'\n",
      "  True: 'DE1550'\n",
      "  Pred: '0251HP'\n",
      "  True: '0251HP'\n",
      "  Pred: '3003NJ'\n",
      "  True: '3303NJ'\n",
      "  Pred: '1587QZ'\n",
      "  True: '1587QZ'\n",
      "  Pred: '2H4773'\n",
      "  True: '2H4773'\n",
      "-------------------------------\n"
     ]
    },
    {
     "name": "stderr",
     "output_type": "stream",
     "text": [
      "Epoch 26/100 [TRAIN] LR: 2.38e-04 Teach: 0.54 Scheduler: ReduceLROnPlateau: 100%|██████████| 44/44 [01:01<00:00,  1.41s/it, loss=0.715]\n",
      "Epoch 26/100 [VAL]: 100%|██████████| 20/20 [00:30<00:00,  1.51s/it, loss=0.723]\n"
     ]
    },
    {
     "name": "stdout",
     "output_type": "stream",
     "text": [
      "EarlyStopping counter: 24/100 (Best val_acc: 0.9825)\n",
      "\n",
      "Epoch 26/100 | LR: 2.38e-04 | Teach: 0.54 | Scheduler: ReduceLROnPlateau\n",
      "  Train Loss: 0.7306 | Train Char Acc: 0.9946\n",
      "  Val Loss: 0.7861   | Val Acc (CRR): 0.9809\n",
      "  Val Exact Match Acc (E2E RR): 0.9214\n",
      "----------------------------------------------------------------------\n"
     ]
    },
    {
     "name": "stderr",
     "output_type": "stream",
     "text": [
      "Epoch 27/100 [TRAIN] LR: 2.38e-04 Teach: 0.53 Scheduler: ReduceLROnPlateau:   2%|▏         | 1/44 [00:05<04:12,  5.87s/it, loss=0.777]"
     ]
    },
    {
     "name": "stdout",
     "output_type": "stream",
     "text": [
      "\n",
      "--- Training Batch 0 Examples (Content Only) ---\n",
      "  Pred: 'CS2399'\n",
      "  True: 'CS2399'\n",
      "  Pred: '1956LH'\n",
      "  True: '1956LH'\n",
      "  Pred: '5871HJ'\n",
      "  True: '5871HJ'\n",
      "  Pred: '2209BB'\n",
      "  True: '2209BB'\n",
      "  Pred: '2B4070'\n",
      "  True: '2B4070'\n",
      "-------------------------------\n"
     ]
    },
    {
     "name": "stderr",
     "output_type": "stream",
     "text": [
      "Epoch 27/100 [TRAIN] LR: 2.38e-04 Teach: 0.53 Scheduler: ReduceLROnPlateau: 100%|██████████| 44/44 [01:01<00:00,  1.41s/it, loss=0.747]\n",
      "Epoch 27/100 [VAL]: 100%|██████████| 20/20 [00:30<00:00,  1.52s/it, loss=0.723]\n"
     ]
    },
    {
     "name": "stdout",
     "output_type": "stream",
     "text": [
      "EarlyStopping counter: 25/100 (Best val_acc: 0.9825)\n",
      "\n",
      "Epoch 27/100 | LR: 2.38e-04 | Teach: 0.53 | Scheduler: ReduceLROnPlateau\n",
      "  Train Loss: 0.7331 | Train Char Acc: 0.9925\n",
      "  Val Loss: 0.7895   | Val Acc (CRR): 0.9820\n",
      "  Val Exact Match Acc (E2E RR): 0.9296\n",
      "----------------------------------------------------------------------\n"
     ]
    },
    {
     "name": "stderr",
     "output_type": "stream",
     "text": [
      "Epoch 28/100 [TRAIN] LR: 2.38e-04 Teach: 0.52 Scheduler: ReduceLROnPlateau:   2%|▏         | 1/44 [00:05<04:14,  5.92s/it, loss=0.718]"
     ]
    },
    {
     "name": "stdout",
     "output_type": "stream",
     "text": [
      "\n",
      "--- Training Batch 0 Examples (Content Only) ---\n",
      "  Pred: '7090JJ'\n",
      "  True: '7090UJ'\n",
      "  Pred: '2257JT'\n",
      "  True: '2257JT'\n",
      "  Pred: '3768RY'\n",
      "  True: '3768RY'\n",
      "  Pred: '9511DZ'\n",
      "  True: '9511DZ'\n",
      "  Pred: 'L46261'\n",
      "  True: 'L46261'\n",
      "-------------------------------\n"
     ]
    },
    {
     "name": "stderr",
     "output_type": "stream",
     "text": [
      "Epoch 28/100 [TRAIN] LR: 2.38e-04 Teach: 0.52 Scheduler: ReduceLROnPlateau: 100%|██████████| 44/44 [01:00<00:00,  1.37s/it, loss=0.733]\n",
      "Epoch 28/100 [VAL]: 100%|██████████| 20/20 [00:30<00:00,  1.52s/it, loss=0.718]\n"
     ]
    },
    {
     "name": "stdout",
     "output_type": "stream",
     "text": [
      "EarlyStopping counter: 26/100 (Best val_acc: 0.9825)\n",
      "\n",
      "Epoch 28/100 | LR: 2.38e-04 | Teach: 0.52 | Scheduler: ReduceLROnPlateau\n",
      "  Train Loss: 0.7322 | Train Char Acc: 0.9922\n",
      "  Val Loss: 0.7848   | Val Acc (CRR): 0.9812\n",
      "  Val Exact Match Acc (E2E RR): 0.9231\n",
      "----------------------------------------------------------------------\n"
     ]
    },
    {
     "name": "stderr",
     "output_type": "stream",
     "text": [
      "Epoch 29/100 [TRAIN] LR: 2.38e-04 Teach: 0.52 Scheduler: ReduceLROnPlateau:   2%|▏         | 1/44 [00:06<04:56,  6.90s/it, loss=0.713]"
     ]
    },
    {
     "name": "stdout",
     "output_type": "stream",
     "text": [
      "\n",
      "--- Training Batch 0 Examples (Content Only) ---\n",
      "  Pred: 'BU8845'\n",
      "  True: 'BU8845'\n",
      "  Pred: '1907VL'\n",
      "  True: '1907VL'\n",
      "  Pred: 'K56155'\n",
      "  True: 'K56155'\n",
      "  Pred: '0325DM'\n",
      "  True: '0325DM'\n",
      "  Pred: '5763EQ'\n",
      "  True: '5763EQ'\n",
      "-------------------------------\n"
     ]
    },
    {
     "name": "stderr",
     "output_type": "stream",
     "text": [
      "Epoch 29/100 [TRAIN] LR: 2.38e-04 Teach: 0.52 Scheduler: ReduceLROnPlateau: 100%|██████████| 44/44 [01:01<00:00,  1.40s/it, loss=0.751]\n",
      "Epoch 29/100 [VAL]: 100%|██████████| 20/20 [00:30<00:00,  1.52s/it, loss=0.711]\n"
     ]
    },
    {
     "name": "stdout",
     "output_type": "stream",
     "text": [
      "EarlyStopping: New best val_acc: 0.9831\n",
      "\n",
      "Epoch 29/100 | LR: 2.38e-04 | Teach: 0.52 | Scheduler: ReduceLROnPlateau\n",
      "  Train Loss: 0.7318 | Train Char Acc: 0.9925\n",
      "  Val Loss: 0.7787   | Val Acc (CRR): 0.9831\n",
      "  Val Exact Match Acc (E2E RR): 0.9313\n",
      "----------------------------------------------------------------------\n",
      "*** New best validation accuracy: 0.9831. Saving best_model.pth ***\n"
     ]
    },
    {
     "name": "stderr",
     "output_type": "stream",
     "text": [
      "Epoch 30/100 [TRAIN] LR: 2.38e-04 Teach: 0.51 Scheduler: ReduceLROnPlateau:   2%|▏         | 1/44 [00:06<04:40,  6.52s/it, loss=0.714]"
     ]
    },
    {
     "name": "stdout",
     "output_type": "stream",
     "text": [
      "\n",
      "--- Training Batch 0 Examples (Content Only) ---\n",
      "  Pred: 'DE3132'\n",
      "  True: 'DE3132'\n",
      "  Pred: 'BT3933'\n",
      "  True: 'BT3933'\n",
      "  Pred: 'RM5635'\n",
      "  True: 'RM5635'\n",
      "  Pred: 'CP4617'\n",
      "  True: 'CP4617'\n",
      "  Pred: '6016YM'\n",
      "  True: '6016YM'\n",
      "-------------------------------\n"
     ]
    },
    {
     "name": "stderr",
     "output_type": "stream",
     "text": [
      "Epoch 30/100 [TRAIN] LR: 2.38e-04 Teach: 0.51 Scheduler: ReduceLROnPlateau: 100%|██████████| 44/44 [01:02<00:00,  1.43s/it, loss=0.732]\n",
      "Epoch 30/100 [VAL]: 100%|██████████| 20/20 [00:30<00:00,  1.51s/it, loss=0.712]\n"
     ]
    },
    {
     "name": "stdout",
     "output_type": "stream",
     "text": [
      "EarlyStopping counter: 1/100 (Best val_acc: 0.9831)\n",
      "\n",
      "Epoch 30/100 | LR: 2.38e-04 | Teach: 0.51 | Scheduler: ReduceLROnPlateau\n",
      "  Train Loss: 0.7244 | Train Char Acc: 0.9947\n",
      "  Val Loss: 0.7804   | Val Acc (CRR): 0.9820\n",
      "  Val Exact Match Acc (E2E RR): 0.9296\n",
      "----------------------------------------------------------------------\n"
     ]
    },
    {
     "name": "stderr",
     "output_type": "stream",
     "text": [
      "Epoch 31/100 [TRAIN] LR: 2.38e-04 Teach: 0.50 Scheduler: ReduceLROnPlateau:   2%|▏         | 1/44 [00:05<03:50,  5.36s/it, loss=0.729]"
     ]
    },
    {
     "name": "stdout",
     "output_type": "stream",
     "text": [
      "\n",
      "--- Training Batch 0 Examples (Content Only) ---\n",
      "  Pred: 'RS9732'\n",
      "  True: 'RS9732'\n",
      "  Pred: 'DE3132'\n",
      "  True: 'DE3132'\n",
      "  Pred: 'OH1357'\n",
      "  True: 'OH1357'\n",
      "  Pred: 'RV2350'\n",
      "  True: 'RV2350'\n",
      "  Pred: 'S66969'\n",
      "  True: 'S66969'\n",
      "-------------------------------\n"
     ]
    },
    {
     "name": "stderr",
     "output_type": "stream",
     "text": [
      "Epoch 31/100 [TRAIN] LR: 2.38e-04 Teach: 0.50 Scheduler: ReduceLROnPlateau: 100%|██████████| 44/44 [01:01<00:00,  1.40s/it, loss=0.715]\n",
      "Epoch 31/100 [VAL]: 100%|██████████| 20/20 [00:30<00:00,  1.52s/it, loss=0.719]\n"
     ]
    },
    {
     "name": "stdout",
     "output_type": "stream",
     "text": [
      "EarlyStopping counter: 2/100 (Best val_acc: 0.9831)\n",
      "\n",
      "Epoch 31/100 | LR: 2.38e-04 | Teach: 0.50 | Scheduler: ReduceLROnPlateau\n",
      "  Train Loss: 0.7328 | Train Char Acc: 0.9918\n",
      "  Val Loss: 0.7820   | Val Acc (CRR): 0.9825\n",
      "  Val Exact Match Acc (E2E RR): 0.9296\n",
      "----------------------------------------------------------------------\n"
     ]
    },
    {
     "name": "stderr",
     "output_type": "stream",
     "text": [
      "Epoch 32/100 [TRAIN] LR: 2.38e-04 Teach: 0.50 Scheduler: ReduceLROnPlateau:   2%|▏         | 1/44 [00:06<04:38,  6.47s/it, loss=0.716]"
     ]
    },
    {
     "name": "stdout",
     "output_type": "stream",
     "text": [
      "\n",
      "--- Training Batch 0 Examples (Content Only) ---\n",
      "  Pred: 'DD3865'\n",
      "  True: 'DD3865'\n",
      "  Pred: 'DE9838'\n",
      "  True: 'DE9838'\n",
      "  Pred: '5073MR'\n",
      "  True: '5073MR'\n",
      "  Pred: 'CF5782'\n",
      "  True: 'CF5782'\n",
      "  Pred: '1602EA'\n",
      "  True: '1602EA'\n",
      "-------------------------------\n"
     ]
    },
    {
     "name": "stderr",
     "output_type": "stream",
     "text": [
      "Epoch 32/100 [TRAIN] LR: 2.38e-04 Teach: 0.50 Scheduler: ReduceLROnPlateau: 100%|██████████| 44/44 [01:01<00:00,  1.40s/it, loss=0.711]\n",
      "Epoch 32/100 [VAL]: 100%|██████████| 20/20 [00:29<00:00,  1.49s/it, loss=0.709]\n"
     ]
    },
    {
     "name": "stdout",
     "output_type": "stream",
     "text": [
      "EarlyStopping counter: 3/100 (Best val_acc: 0.9831)\n",
      "\n",
      "Epoch 32/100 | LR: 1.19e-04 | Teach: 0.50 | Scheduler: ReduceLROnPlateau\n",
      "  Train Loss: 0.7323 | Train Char Acc: 0.9910\n",
      "  Val Loss: 0.7805   | Val Acc (CRR): 0.9823\n",
      "  Val Exact Match Acc (E2E RR): 0.9296\n",
      "----------------------------------------------------------------------\n"
     ]
    },
    {
     "name": "stderr",
     "output_type": "stream",
     "text": [
      "Epoch 33/100 [TRAIN] LR: 1.19e-04 Teach: 0.49 Scheduler: ReduceLROnPlateau:   2%|▏         | 1/44 [00:05<04:10,  5.82s/it, loss=0.844]"
     ]
    },
    {
     "name": "stdout",
     "output_type": "stream",
     "text": [
      "\n",
      "--- Training Batch 0 Examples (Content Only) ---\n",
      "  Pred: 'DP4846'\n",
      "  True: 'DP4846'\n",
      "  Pred: 'L08599'\n",
      "  True: 'L08599'\n",
      "  Pred: 'K46670'\n",
      "  True: 'K46670'\n",
      "  Pred: '5R9523'\n",
      "  True: '5R9523'\n",
      "  Pred: 'RS2506'\n",
      "  True: 'RS2506'\n",
      "-------------------------------\n"
     ]
    },
    {
     "name": "stderr",
     "output_type": "stream",
     "text": [
      "Epoch 33/100 [TRAIN] LR: 1.19e-04 Teach: 0.49 Scheduler: ReduceLROnPlateau: 100%|██████████| 44/44 [01:01<00:00,  1.39s/it, loss=0.776]\n",
      "Epoch 33/100 [VAL]: 100%|██████████| 20/20 [00:30<00:00,  1.50s/it, loss=0.721]\n"
     ]
    },
    {
     "name": "stdout",
     "output_type": "stream",
     "text": [
      "EarlyStopping: New best val_acc: 0.9842\n",
      "\n",
      "Epoch 33/100 | LR: 1.19e-04 | Teach: 0.49 | Scheduler: ReduceLROnPlateau\n",
      "  Train Loss: 0.7321 | Train Char Acc: 0.9906\n",
      "  Val Loss: 0.7814   | Val Acc (CRR): 0.9842\n",
      "  Val Exact Match Acc (E2E RR): 0.9378\n",
      "----------------------------------------------------------------------\n",
      "*** New best validation accuracy: 0.9842. Saving best_model.pth ***\n"
     ]
    },
    {
     "name": "stderr",
     "output_type": "stream",
     "text": [
      "Epoch 34/100 [TRAIN] LR: 1.19e-04 Teach: 0.48 Scheduler: ReduceLROnPlateau:   2%|▏         | 1/44 [00:05<04:14,  5.92s/it, loss=0.712]"
     ]
    },
    {
     "name": "stdout",
     "output_type": "stream",
     "text": [
      "\n",
      "--- Training Batch 0 Examples (Content Only) ---\n",
      "  Pred: '3825YY'\n",
      "  True: '3825YY'\n",
      "  Pred: '8321GJ'\n",
      "  True: '8321GJ'\n",
      "  Pred: 'Y86953'\n",
      "  True: 'Y86953'\n",
      "  Pred: '3222QM'\n",
      "  True: '3222QM'\n",
      "  Pred: '4722MU'\n",
      "  True: '4722MU'\n",
      "-------------------------------\n"
     ]
    },
    {
     "name": "stderr",
     "output_type": "stream",
     "text": [
      "Epoch 34/100 [TRAIN] LR: 1.19e-04 Teach: 0.48 Scheduler: ReduceLROnPlateau: 100%|██████████| 44/44 [01:01<00:00,  1.41s/it, loss=0.729]\n",
      "Epoch 34/100 [VAL]: 100%|██████████| 20/20 [00:30<00:00,  1.51s/it, loss=0.716]\n"
     ]
    },
    {
     "name": "stdout",
     "output_type": "stream",
     "text": [
      "EarlyStopping counter: 1/100 (Best val_acc: 0.9842)\n",
      "\n",
      "Epoch 34/100 | LR: 1.19e-04 | Teach: 0.48 | Scheduler: ReduceLROnPlateau\n",
      "  Train Loss: 0.7311 | Train Char Acc: 0.9908\n",
      "  Val Loss: 0.7822   | Val Acc (CRR): 0.9809\n",
      "  Val Exact Match Acc (E2E RR): 0.9231\n",
      "----------------------------------------------------------------------\n"
     ]
    },
    {
     "name": "stderr",
     "output_type": "stream",
     "text": [
      "Epoch 35/100 [TRAIN] LR: 1.19e-04 Teach: 0.48 Scheduler: ReduceLROnPlateau:   2%|▏         | 1/44 [00:06<04:21,  6.08s/it, loss=0.707]"
     ]
    },
    {
     "name": "stdout",
     "output_type": "stream",
     "text": [
      "\n",
      "--- Training Batch 0 Examples (Content Only) ---\n",
      "  Pred: 'CG9940'\n",
      "  True: 'CG9940'\n",
      "  Pred: '7780TK'\n",
      "  True: '7780TK'\n",
      "  Pred: '4926JS'\n",
      "  True: '4926JS'\n",
      "  Pred: '9N1197'\n",
      "  True: '9N1197'\n",
      "  Pred: '2551JS'\n",
      "  True: '2551JS'\n",
      "-------------------------------\n"
     ]
    },
    {
     "name": "stderr",
     "output_type": "stream",
     "text": [
      "Epoch 35/100 [TRAIN] LR: 1.19e-04 Teach: 0.48 Scheduler: ReduceLROnPlateau: 100%|██████████| 44/44 [01:02<00:00,  1.43s/it, loss=0.712]\n",
      "Epoch 35/100 [VAL]: 100%|██████████| 20/20 [00:30<00:00,  1.50s/it, loss=0.721]\n"
     ]
    },
    {
     "name": "stdout",
     "output_type": "stream",
     "text": [
      "EarlyStopping counter: 2/100 (Best val_acc: 0.9842)\n",
      "\n",
      "Epoch 35/100 | LR: 1.19e-04 | Teach: 0.48 | Scheduler: ReduceLROnPlateau\n",
      "  Train Loss: 0.7184 | Train Char Acc: 0.9955\n",
      "  Val Loss: 0.7805   | Val Acc (CRR): 0.9831\n",
      "  Val Exact Match Acc (E2E RR): 0.9345\n",
      "----------------------------------------------------------------------\n"
     ]
    },
    {
     "name": "stderr",
     "output_type": "stream",
     "text": [
      "Epoch 36/100 [TRAIN] LR: 1.19e-04 Teach: 0.47 Scheduler: ReduceLROnPlateau:   2%|▏         | 1/44 [00:05<03:55,  5.49s/it, loss=0.71]"
     ]
    },
    {
     "name": "stdout",
     "output_type": "stream",
     "text": [
      "\n",
      "--- Training Batch 0 Examples (Content Only) ---\n",
      "  Pred: '7T6615'\n",
      "  True: '7T6615'\n",
      "  Pred: '4722MU'\n",
      "  True: '4722MU'\n",
      "  Pred: '6P5013'\n",
      "  True: '6P5013'\n",
      "  Pred: 'RU3359'\n",
      "  True: 'RU3359'\n",
      "  Pred: '3160ZB'\n",
      "  True: '3160ZB'\n",
      "-------------------------------\n"
     ]
    },
    {
     "name": "stderr",
     "output_type": "stream",
     "text": [
      "Epoch 36/100 [TRAIN] LR: 1.19e-04 Teach: 0.47 Scheduler: ReduceLROnPlateau: 100%|██████████| 44/44 [01:01<00:00,  1.39s/it, loss=0.723]\n",
      "Epoch 36/100 [VAL]: 100%|██████████| 20/20 [00:30<00:00,  1.51s/it, loss=0.714]\n"
     ]
    },
    {
     "name": "stdout",
     "output_type": "stream",
     "text": [
      "EarlyStopping counter: 3/100 (Best val_acc: 0.9842)\n",
      "\n",
      "Epoch 36/100 | LR: 5.95e-05 | Teach: 0.47 | Scheduler: ReduceLROnPlateau\n",
      "  Train Loss: 0.7258 | Train Char Acc: 0.9928\n",
      "  Val Loss: 0.7818   | Val Acc (CRR): 0.9828\n",
      "  Val Exact Match Acc (E2E RR): 0.9345\n",
      "----------------------------------------------------------------------\n"
     ]
    },
    {
     "name": "stderr",
     "output_type": "stream",
     "text": [
      "Epoch 37/100 [TRAIN] LR: 5.95e-05 Teach: 0.46 Scheduler: ReduceLROnPlateau:   2%|▏         | 1/44 [00:06<04:49,  6.73s/it, loss=0.735]"
     ]
    },
    {
     "name": "stdout",
     "output_type": "stream",
     "text": [
      "\n",
      "--- Training Batch 0 Examples (Content Only) ---\n",
      "  Pred: '6C1699'\n",
      "  True: '6C1699'\n",
      "  Pred: '4618JJ'\n",
      "  True: '4618JJ'\n",
      "  Pred: 'Q79115'\n",
      "  True: 'Q79115'\n",
      "  Pred: '6237JJ'\n",
      "  True: '6237JJ'\n",
      "  Pred: 'P63791'\n",
      "  True: 'P63791'\n",
      "-------------------------------\n"
     ]
    },
    {
     "name": "stderr",
     "output_type": "stream",
     "text": [
      "Epoch 37/100 [TRAIN] LR: 5.95e-05 Teach: 0.46 Scheduler: ReduceLROnPlateau: 100%|██████████| 44/44 [01:03<00:00,  1.44s/it, loss=0.711]\n",
      "Epoch 37/100 [VAL]: 100%|██████████| 20/20 [00:30<00:00,  1.52s/it, loss=0.712]\n"
     ]
    },
    {
     "name": "stdout",
     "output_type": "stream",
     "text": [
      "EarlyStopping counter: 4/100 (Best val_acc: 0.9842)\n",
      "\n",
      "Epoch 37/100 | LR: 5.95e-05 | Teach: 0.46 | Scheduler: ReduceLROnPlateau\n",
      "  Train Loss: 0.7259 | Train Char Acc: 0.9925\n",
      "  Val Loss: 0.7802   | Val Acc (CRR): 0.9831\n",
      "  Val Exact Match Acc (E2E RR): 0.9313\n",
      "----------------------------------------------------------------------\n"
     ]
    },
    {
     "name": "stderr",
     "output_type": "stream",
     "text": [
      "Epoch 38/100 [TRAIN] LR: 5.95e-05 Teach: 0.46 Scheduler: ReduceLROnPlateau:   2%|▏         | 1/44 [00:05<04:05,  5.71s/it, loss=0.715]"
     ]
    },
    {
     "name": "stdout",
     "output_type": "stream",
     "text": [
      "\n",
      "--- Training Batch 0 Examples (Content Only) ---\n",
      "  Pred: '1012F6'\n",
      "  True: '1012F6'\n",
      "  Pred: '8609QH'\n",
      "  True: '8609QH'\n",
      "  Pred: '9493HM'\n",
      "  True: '9493HM'\n",
      "  Pred: '6678FG'\n",
      "  True: '6678FG'\n",
      "  Pred: '8106TM'\n",
      "  True: '8106TM'\n",
      "-------------------------------\n"
     ]
    },
    {
     "name": "stderr",
     "output_type": "stream",
     "text": [
      "Epoch 38/100 [TRAIN] LR: 5.95e-05 Teach: 0.46 Scheduler: ReduceLROnPlateau: 100%|██████████| 44/44 [01:01<00:00,  1.41s/it, loss=0.787]\n",
      "Epoch 38/100 [VAL]: 100%|██████████| 20/20 [00:30<00:00,  1.50s/it, loss=0.715]\n"
     ]
    },
    {
     "name": "stdout",
     "output_type": "stream",
     "text": [
      "EarlyStopping counter: 5/100 (Best val_acc: 0.9842)\n",
      "\n",
      "Epoch 38/100 | LR: 5.95e-05 | Teach: 0.46 | Scheduler: ReduceLROnPlateau\n",
      "  Train Loss: 0.7250 | Train Char Acc: 0.9924\n",
      "  Val Loss: 0.7780   | Val Acc (CRR): 0.9831\n",
      "  Val Exact Match Acc (E2E RR): 0.9313\n",
      "----------------------------------------------------------------------\n"
     ]
    },
    {
     "name": "stderr",
     "output_type": "stream",
     "text": [
      "Epoch 39/100 [TRAIN] LR: 5.95e-05 Teach: 0.45 Scheduler: ReduceLROnPlateau:   2%|▏         | 1/44 [00:05<04:09,  5.81s/it, loss=0.715]"
     ]
    },
    {
     "name": "stdout",
     "output_type": "stream",
     "text": [
      "\n",
      "--- Training Batch 0 Examples (Content Only) ---\n",
      "  Pred: '0557JZ'\n",
      "  True: '0557JZ'\n",
      "  Pred: '2R4231'\n",
      "  True: '2R4231'\n",
      "  Pred: '7E7273'\n",
      "  True: '7E7273'\n",
      "  Pred: '3968XJ'\n",
      "  True: '3968XJ'\n",
      "  Pred: 'DH1853'\n",
      "  True: 'DH1853'\n",
      "-------------------------------\n"
     ]
    },
    {
     "name": "stderr",
     "output_type": "stream",
     "text": [
      "Epoch 39/100 [TRAIN] LR: 5.95e-05 Teach: 0.45 Scheduler: ReduceLROnPlateau: 100%|██████████| 44/44 [01:01<00:00,  1.40s/it, loss=0.707]\n",
      "Epoch 39/100 [VAL]: 100%|██████████| 20/20 [00:30<00:00,  1.50s/it, loss=0.714]\n"
     ]
    },
    {
     "name": "stdout",
     "output_type": "stream",
     "text": [
      "EarlyStopping counter: 6/100 (Best val_acc: 0.9842)\n",
      "\n",
      "Epoch 39/100 | LR: 2.98e-05 | Teach: 0.45 | Scheduler: ReduceLROnPlateau\n",
      "  Train Loss: 0.7215 | Train Char Acc: 0.9943\n",
      "  Val Loss: 0.7811   | Val Acc (CRR): 0.9834\n",
      "  Val Exact Match Acc (E2E RR): 0.9329\n",
      "----------------------------------------------------------------------\n"
     ]
    },
    {
     "name": "stderr",
     "output_type": "stream",
     "text": [
      "Epoch 40/100 [TRAIN] LR: 2.98e-05 Teach: 0.44 Scheduler: ReduceLROnPlateau:   2%|▏         | 1/44 [00:05<04:15,  5.94s/it, loss=0.718]"
     ]
    },
    {
     "name": "stdout",
     "output_type": "stream",
     "text": [
      "\n",
      "--- Training Batch 0 Examples (Content Only) ---\n",
      "  Pred: '9D6221'\n",
      "  True: '9D6221'\n",
      "  Pred: '9605EU'\n",
      "  True: '9605EU'\n",
      "  Pred: '1B8566'\n",
      "  True: '1B8566'\n",
      "  Pred: '9012VR'\n",
      "  True: '9012VR'\n",
      "  Pred: 'DN6559'\n",
      "  True: 'DN6559'\n",
      "-------------------------------\n"
     ]
    },
    {
     "name": "stderr",
     "output_type": "stream",
     "text": [
      "Epoch 40/100 [TRAIN] LR: 2.98e-05 Teach: 0.44 Scheduler: ReduceLROnPlateau: 100%|██████████| 44/44 [00:59<00:00,  1.35s/it, loss=0.736]\n",
      "Epoch 40/100 [VAL]: 100%|██████████| 20/20 [00:29<00:00,  1.50s/it, loss=0.711]\n"
     ]
    },
    {
     "name": "stdout",
     "output_type": "stream",
     "text": [
      "EarlyStopping counter: 7/100 (Best val_acc: 0.9842)\n",
      "\n",
      "Epoch 40/100 | LR: 2.98e-05 | Teach: 0.44 | Scheduler: ReduceLROnPlateau\n",
      "  Train Loss: 0.7239 | Train Char Acc: 0.9930\n",
      "  Val Loss: 0.7775   | Val Acc (CRR): 0.9836\n",
      "  Val Exact Match Acc (E2E RR): 0.9345\n",
      "----------------------------------------------------------------------\n"
     ]
    },
    {
     "name": "stderr",
     "output_type": "stream",
     "text": [
      "Epoch 41/100 [TRAIN] LR: 2.98e-05 Teach: 0.44 Scheduler: ReduceLROnPlateau:   2%|▏         | 1/44 [00:06<04:22,  6.11s/it, loss=0.704]"
     ]
    },
    {
     "name": "stdout",
     "output_type": "stream",
     "text": [
      "\n",
      "--- Training Batch 0 Examples (Content Only) ---\n",
      "  Pred: '9N1197'\n",
      "  True: '9N1197'\n",
      "  Pred: 'HY1182'\n",
      "  True: 'HY1182'\n",
      "  Pred: '2D9320'\n",
      "  True: '2D9320'\n",
      "  Pred: '6931EM'\n",
      "  True: '6931EM'\n",
      "  Pred: '7528VR'\n",
      "  True: '7528VR'\n",
      "-------------------------------\n"
     ]
    },
    {
     "name": "stderr",
     "output_type": "stream",
     "text": [
      "Epoch 41/100 [TRAIN] LR: 2.98e-05 Teach: 0.44 Scheduler: ReduceLROnPlateau: 100%|██████████| 44/44 [01:00<00:00,  1.38s/it, loss=0.702]\n",
      "Epoch 41/100 [VAL]: 100%|██████████| 20/20 [00:29<00:00,  1.49s/it, loss=0.713]\n"
     ]
    },
    {
     "name": "stdout",
     "output_type": "stream",
     "text": [
      "EarlyStopping counter: 8/100 (Best val_acc: 0.9842)\n",
      "\n",
      "Epoch 41/100 | LR: 2.98e-05 | Teach: 0.44 | Scheduler: ReduceLROnPlateau\n",
      "  Train Loss: 0.7174 | Train Char Acc: 0.9959\n",
      "  Val Loss: 0.7770   | Val Acc (CRR): 0.9834\n",
      "  Val Exact Match Acc (E2E RR): 0.9329\n",
      "----------------------------------------------------------------------\n"
     ]
    },
    {
     "name": "stderr",
     "output_type": "stream",
     "text": [
      "Epoch 42/100 [TRAIN] LR: 2.98e-05 Teach: 0.43 Scheduler: ReduceLROnPlateau:   2%|▏         | 1/44 [00:05<04:15,  5.94s/it, loss=0.707]"
     ]
    },
    {
     "name": "stdout",
     "output_type": "stream",
     "text": [
      "\n",
      "--- Training Batch 0 Examples (Content Only) ---\n",
      "  Pred: 'ZZ5908'\n",
      "  True: 'ZZ5908'\n",
      "  Pred: 'A92746'\n",
      "  True: 'A92746'\n",
      "  Pred: '7613FS'\n",
      "  True: '7613FS'\n",
      "  Pred: '4810DG'\n",
      "  True: '4810DG'\n",
      "  Pred: '0X6511'\n",
      "  True: '0X6511'\n",
      "-------------------------------\n"
     ]
    },
    {
     "name": "stderr",
     "output_type": "stream",
     "text": [
      "Epoch 42/100 [TRAIN] LR: 2.98e-05 Teach: 0.43 Scheduler: ReduceLROnPlateau: 100%|██████████| 44/44 [01:01<00:00,  1.40s/it, loss=0.704]\n",
      "Epoch 42/100 [VAL]: 100%|██████████| 20/20 [00:29<00:00,  1.50s/it, loss=0.711]\n"
     ]
    },
    {
     "name": "stdout",
     "output_type": "stream",
     "text": [
      "EarlyStopping counter: 9/100 (Best val_acc: 0.9842)\n",
      "\n",
      "Epoch 42/100 | LR: 1.49e-05 | Teach: 0.43 | Scheduler: ReduceLROnPlateau\n",
      "  Train Loss: 0.7263 | Train Char Acc: 0.9918\n",
      "  Val Loss: 0.7767   | Val Acc (CRR): 0.9831\n",
      "  Val Exact Match Acc (E2E RR): 0.9313\n",
      "----------------------------------------------------------------------\n"
     ]
    },
    {
     "name": "stderr",
     "output_type": "stream",
     "text": [
      "Epoch 43/100 [TRAIN] LR: 1.49e-05 Teach: 0.42 Scheduler: ReduceLROnPlateau:   2%|▏         | 1/44 [00:05<04:02,  5.63s/it, loss=0.706]"
     ]
    },
    {
     "name": "stdout",
     "output_type": "stream",
     "text": [
      "\n",
      "--- Training Batch 0 Examples (Content Only) ---\n",
      "  Pred: 'SC2819'\n",
      "  True: 'SC2819'\n",
      "  Pred: 'K86721'\n",
      "  True: 'K86721'\n",
      "  Pred: 'EF1452'\n",
      "  True: 'EF1452'\n",
      "  Pred: 'P62405'\n",
      "  True: 'P62405'\n",
      "  Pred: 'OG1985'\n",
      "  True: 'OG1985'\n",
      "-------------------------------\n"
     ]
    },
    {
     "name": "stderr",
     "output_type": "stream",
     "text": [
      "Epoch 43/100 [TRAIN] LR: 1.49e-05 Teach: 0.42 Scheduler: ReduceLROnPlateau: 100%|██████████| 44/44 [01:02<00:00,  1.42s/it, loss=0.773]\n",
      "Epoch 43/100 [VAL]: 100%|██████████| 20/20 [00:29<00:00,  1.50s/it, loss=0.713]\n"
     ]
    },
    {
     "name": "stdout",
     "output_type": "stream",
     "text": [
      "EarlyStopping counter: 10/100 (Best val_acc: 0.9842)\n",
      "\n",
      "Epoch 43/100 | LR: 1.49e-05 | Teach: 0.42 | Scheduler: ReduceLROnPlateau\n",
      "  Train Loss: 0.7257 | Train Char Acc: 0.9917\n",
      "  Val Loss: 0.7771   | Val Acc (CRR): 0.9834\n",
      "  Val Exact Match Acc (E2E RR): 0.9329\n",
      "----------------------------------------------------------------------\n"
     ]
    },
    {
     "name": "stderr",
     "output_type": "stream",
     "text": [
      "Epoch 44/100 [TRAIN] LR: 1.49e-05 Teach: 0.42 Scheduler: ReduceLROnPlateau:   2%|▏         | 1/44 [00:06<04:23,  6.14s/it, loss=0.711]"
     ]
    },
    {
     "name": "stdout",
     "output_type": "stream",
     "text": [
      "\n",
      "--- Training Batch 0 Examples (Content Only) ---\n",
      "  Pred: '3128EY'\n",
      "  True: '3128EY'\n",
      "  Pred: '4752DR'\n",
      "  True: '4752DR'\n",
      "  Pred: 'T41577'\n",
      "  True: 'T41577'\n",
      "  Pred: '8987MP'\n",
      "  True: '8987MP'\n",
      "  Pred: 'R07979'\n",
      "  True: 'R07979'\n",
      "-------------------------------\n"
     ]
    },
    {
     "name": "stderr",
     "output_type": "stream",
     "text": [
      "Epoch 44/100 [TRAIN] LR: 1.49e-05 Teach: 0.42 Scheduler: ReduceLROnPlateau: 100%|██████████| 44/44 [01:02<00:00,  1.43s/it, loss=0.738]\n",
      "Epoch 44/100 [VAL]: 100%|██████████| 20/20 [00:30<00:00,  1.51s/it, loss=0.713]\n"
     ]
    },
    {
     "name": "stdout",
     "output_type": "stream",
     "text": [
      "EarlyStopping counter: 11/100 (Best val_acc: 0.9842)\n",
      "\n",
      "Epoch 44/100 | LR: 1.49e-05 | Teach: 0.42 | Scheduler: ReduceLROnPlateau\n",
      "  Train Loss: 0.7229 | Train Char Acc: 0.9930\n",
      "  Val Loss: 0.7770   | Val Acc (CRR): 0.9836\n",
      "  Val Exact Match Acc (E2E RR): 0.9345\n",
      "----------------------------------------------------------------------\n"
     ]
    },
    {
     "name": "stderr",
     "output_type": "stream",
     "text": [
      "Epoch 45/100 [TRAIN] LR: 1.49e-05 Teach: 0.41 Scheduler: ReduceLROnPlateau:   2%|▏         | 1/44 [00:06<04:23,  6.14s/it, loss=0.706]"
     ]
    },
    {
     "name": "stdout",
     "output_type": "stream",
     "text": [
      "\n",
      "--- Training Batch 0 Examples (Content Only) ---\n",
      "  Pred: 'CQ5546'\n",
      "  True: 'CQ5546'\n",
      "  Pred: 'YY7603'\n",
      "  True: 'YY7603'\n",
      "  Pred: '7538A2'\n",
      "  True: '7538A2'\n",
      "  Pred: '8A6893'\n",
      "  True: '8A6893'\n",
      "  Pred: 'C04525'\n",
      "  True: 'C04525'\n",
      "-------------------------------\n"
     ]
    },
    {
     "name": "stderr",
     "output_type": "stream",
     "text": [
      "Epoch 45/100 [TRAIN] LR: 1.49e-05 Teach: 0.41 Scheduler: ReduceLROnPlateau: 100%|██████████| 44/44 [01:02<00:00,  1.43s/it, loss=0.741]\n",
      "Epoch 45/100 [VAL]: 100%|██████████| 20/20 [00:30<00:00,  1.51s/it, loss=0.713]\n"
     ]
    },
    {
     "name": "stdout",
     "output_type": "stream",
     "text": [
      "EarlyStopping counter: 12/100 (Best val_acc: 0.9842)\n",
      "\n",
      "Epoch 45/100 | LR: 7.44e-06 | Teach: 0.41 | Scheduler: ReduceLROnPlateau\n",
      "  Train Loss: 0.7222 | Train Char Acc: 0.9936\n",
      "  Val Loss: 0.7785   | Val Acc (CRR): 0.9836\n",
      "  Val Exact Match Acc (E2E RR): 0.9345\n",
      "----------------------------------------------------------------------\n"
     ]
    },
    {
     "name": "stderr",
     "output_type": "stream",
     "text": [
      "Epoch 46/100 [TRAIN] LR: 7.44e-06 Teach: 0.40 Scheduler: ReduceLROnPlateau:   2%|▏         | 1/44 [00:06<04:46,  6.66s/it, loss=0.707]"
     ]
    },
    {
     "name": "stdout",
     "output_type": "stream",
     "text": [
      "\n",
      "--- Training Batch 0 Examples (Content Only) ---\n",
      "  Pred: 'ET8199'\n",
      "  True: 'ET8199'\n",
      "  Pred: 'CS6616'\n",
      "  True: 'CS6616'\n",
      "  Pred: '2095VC'\n",
      "  True: '2095VC'\n",
      "  Pred: 'U34281'\n",
      "  True: 'U34281'\n",
      "  Pred: '8962ED'\n",
      "  True: '8962ED'\n",
      "-------------------------------\n"
     ]
    },
    {
     "name": "stderr",
     "output_type": "stream",
     "text": [
      "Epoch 46/100 [TRAIN] LR: 7.44e-06 Teach: 0.40 Scheduler: ReduceLROnPlateau: 100%|██████████| 44/44 [01:01<00:00,  1.40s/it, loss=0.711]\n",
      "Epoch 46/100 [VAL]: 100%|██████████| 20/20 [00:29<00:00,  1.49s/it, loss=0.713]\n"
     ]
    },
    {
     "name": "stdout",
     "output_type": "stream",
     "text": [
      "EarlyStopping counter: 13/100 (Best val_acc: 0.9842)\n",
      "\n",
      "Epoch 46/100 | LR: 7.44e-06 | Teach: 0.40 | Scheduler: ReduceLROnPlateau\n",
      "  Train Loss: 0.7211 | Train Char Acc: 0.9933\n",
      "  Val Loss: 0.7788   | Val Acc (CRR): 0.9834\n",
      "  Val Exact Match Acc (E2E RR): 0.9329\n",
      "----------------------------------------------------------------------\n"
     ]
    },
    {
     "name": "stderr",
     "output_type": "stream",
     "text": [
      "Epoch 47/100 [TRAIN] LR: 7.44e-06 Teach: 0.40 Scheduler: ReduceLROnPlateau:   2%|▏         | 1/44 [00:06<04:49,  6.73s/it, loss=0.713]"
     ]
    },
    {
     "name": "stdout",
     "output_type": "stream",
     "text": [
      "\n",
      "--- Training Batch 0 Examples (Content Only) ---\n",
      "  Pred: 'P92580'\n",
      "  True: 'P92580'\n",
      "  Pred: 'R69576'\n",
      "  True: 'R69576'\n",
      "  Pred: 'JT0350'\n",
      "  True: 'JT0350'\n",
      "  Pred: '5819VN'\n",
      "  True: '5819VN'\n",
      "  Pred: '4771EH'\n",
      "  True: '4771EH'\n",
      "-------------------------------\n"
     ]
    },
    {
     "name": "stderr",
     "output_type": "stream",
     "text": [
      "Epoch 47/100 [TRAIN] LR: 7.44e-06 Teach: 0.40 Scheduler: ReduceLROnPlateau: 100%|██████████| 44/44 [01:03<00:00,  1.45s/it, loss=0.784]\n",
      "Epoch 47/100 [VAL]: 100%|██████████| 20/20 [00:30<00:00,  1.50s/it, loss=0.711]\n"
     ]
    },
    {
     "name": "stdout",
     "output_type": "stream",
     "text": [
      "EarlyStopping counter: 14/100 (Best val_acc: 0.9842)\n",
      "\n",
      "Epoch 47/100 | LR: 7.44e-06 | Teach: 0.40 | Scheduler: ReduceLROnPlateau\n",
      "  Train Loss: 0.7269 | Train Char Acc: 0.9909\n",
      "  Val Loss: 0.7778   | Val Acc (CRR): 0.9836\n",
      "  Val Exact Match Acc (E2E RR): 0.9345\n",
      "----------------------------------------------------------------------\n"
     ]
    },
    {
     "name": "stderr",
     "output_type": "stream",
     "text": [
      "Epoch 48/100 [TRAIN] LR: 7.44e-06 Teach: 0.39 Scheduler: ReduceLROnPlateau:   2%|▏         | 1/44 [00:05<04:08,  5.78s/it, loss=0.735]"
     ]
    },
    {
     "name": "stdout",
     "output_type": "stream",
     "text": [
      "\n",
      "--- Training Batch 0 Examples (Content Only) ---\n",
      "  Pred: 'K74111'\n",
      "  True: 'K74111'\n",
      "  Pred: '5107DG'\n",
      "  True: '5107DG'\n",
      "  Pred: 'UR6710'\n",
      "  True: 'UR6710'\n",
      "  Pred: '2837NC'\n",
      "  True: '2837NC'\n",
      "  Pred: '8985QZ'\n",
      "  True: '8985QZ'\n",
      "-------------------------------\n"
     ]
    },
    {
     "name": "stderr",
     "output_type": "stream",
     "text": [
      "Epoch 48/100 [TRAIN] LR: 7.44e-06 Teach: 0.39 Scheduler: ReduceLROnPlateau: 100%|██████████| 44/44 [01:02<00:00,  1.42s/it, loss=0.706]\n",
      "Epoch 48/100 [VAL]: 100%|██████████| 20/20 [00:30<00:00,  1.52s/it, loss=0.713]\n"
     ]
    },
    {
     "name": "stdout",
     "output_type": "stream",
     "text": [
      "EarlyStopping counter: 15/100 (Best val_acc: 0.9842)\n",
      "\n",
      "Epoch 48/100 | LR: 3.72e-06 | Teach: 0.39 | Scheduler: ReduceLROnPlateau\n",
      "  Train Loss: 0.7229 | Train Char Acc: 0.9923\n",
      "  Val Loss: 0.7779   | Val Acc (CRR): 0.9834\n",
      "  Val Exact Match Acc (E2E RR): 0.9329\n",
      "----------------------------------------------------------------------\n"
     ]
    },
    {
     "name": "stderr",
     "output_type": "stream",
     "text": [
      "Epoch 49/100 [TRAIN] LR: 3.72e-06 Teach: 0.38 Scheduler: ReduceLROnPlateau:   2%|▏         | 1/44 [00:06<04:39,  6.50s/it, loss=0.708]"
     ]
    },
    {
     "name": "stdout",
     "output_type": "stream",
     "text": [
      "\n",
      "--- Training Batch 0 Examples (Content Only) ---\n",
      "  Pred: '2E3345'\n",
      "  True: '2E3345'\n",
      "  Pred: 'CF7575'\n",
      "  True: 'CF7575'\n",
      "  Pred: '3083DE'\n",
      "  True: '3083DE'\n",
      "  Pred: 'CH2518'\n",
      "  True: 'CH2518'\n",
      "  Pred: '6402C3'\n",
      "  True: '6402C3'\n",
      "-------------------------------\n"
     ]
    },
    {
     "name": "stderr",
     "output_type": "stream",
     "text": [
      "Epoch 49/100 [TRAIN] LR: 3.72e-06 Teach: 0.38 Scheduler: ReduceLROnPlateau: 100%|██████████| 44/44 [01:01<00:00,  1.41s/it, loss=0.741]\n",
      "Epoch 49/100 [VAL]: 100%|██████████| 20/20 [00:30<00:00,  1.51s/it, loss=0.713]\n"
     ]
    },
    {
     "name": "stdout",
     "output_type": "stream",
     "text": [
      "EarlyStopping counter: 16/100 (Best val_acc: 0.9842)\n",
      "\n",
      "Epoch 49/100 | LR: 3.72e-06 | Teach: 0.38 | Scheduler: ReduceLROnPlateau\n",
      "  Train Loss: 0.7279 | Train Char Acc: 0.9902\n",
      "  Val Loss: 0.7782   | Val Acc (CRR): 0.9836\n",
      "  Val Exact Match Acc (E2E RR): 0.9345\n",
      "----------------------------------------------------------------------\n"
     ]
    },
    {
     "name": "stderr",
     "output_type": "stream",
     "text": [
      "Epoch 50/100 [TRAIN] LR: 3.72e-06 Teach: 0.38 Scheduler: ReduceLROnPlateau:   2%|▏         | 1/44 [00:06<04:40,  6.51s/it, loss=0.751]"
     ]
    },
    {
     "name": "stdout",
     "output_type": "stream",
     "text": [
      "\n",
      "--- Training Batch 0 Examples (Content Only) ---\n",
      "  Pred: '3808B9'\n",
      "  True: '3808B9'\n",
      "  Pred: '5B7036'\n",
      "  True: '5B7036'\n",
      "  Pred: '4998RY'\n",
      "  True: '4998RY'\n",
      "  Pred: 'P87795'\n",
      "  True: 'P87795'\n",
      "  Pred: '8075MV'\n",
      "  True: '8075MV'\n",
      "-------------------------------\n"
     ]
    },
    {
     "name": "stderr",
     "output_type": "stream",
     "text": [
      "Epoch 50/100 [TRAIN] LR: 3.72e-06 Teach: 0.38 Scheduler: ReduceLROnPlateau: 100%|██████████| 44/44 [01:01<00:00,  1.40s/it, loss=0.711]\n",
      "Epoch 50/100 [VAL]: 100%|██████████| 20/20 [00:30<00:00,  1.50s/it, loss=0.712]\n"
     ]
    },
    {
     "name": "stdout",
     "output_type": "stream",
     "text": [
      "EarlyStopping counter: 17/100 (Best val_acc: 0.9842)\n",
      "\n",
      "Epoch 50/100 | LR: 3.72e-06 | Teach: 0.38 | Scheduler: ReduceLROnPlateau\n",
      "  Train Loss: 0.7192 | Train Char Acc: 0.9944\n",
      "  Val Loss: 0.7782   | Val Acc (CRR): 0.9836\n",
      "  Val Exact Match Acc (E2E RR): 0.9345\n",
      "----------------------------------------------------------------------\n"
     ]
    },
    {
     "name": "stderr",
     "output_type": "stream",
     "text": [
      "Epoch 51/100 [TRAIN] LR: 3.72e-06 Teach: 0.37 Scheduler: ReduceLROnPlateau:   2%|▏         | 1/44 [00:05<04:06,  5.74s/it, loss=0.723]"
     ]
    },
    {
     "name": "stdout",
     "output_type": "stream",
     "text": [
      "\n",
      "--- Training Batch 0 Examples (Content Only) ---\n",
      "  Pred: 'S54578'\n",
      "  True: 'S54578'\n",
      "  Pred: '8765DT'\n",
      "  True: '8765DT'\n",
      "  Pred: '9B5905'\n",
      "  True: '9B5905'\n",
      "  Pred: '8106EJ'\n",
      "  True: '8106EJ'\n",
      "  Pred: 'J26655'\n",
      "  True: 'J26655'\n",
      "-------------------------------\n"
     ]
    },
    {
     "name": "stderr",
     "output_type": "stream",
     "text": [
      "Epoch 51/100 [TRAIN] LR: 3.72e-06 Teach: 0.37 Scheduler: ReduceLROnPlateau: 100%|██████████| 44/44 [01:01<00:00,  1.39s/it, loss=0.716]\n",
      "Epoch 51/100 [VAL]: 100%|██████████| 20/20 [00:29<00:00,  1.49s/it, loss=0.712]\n"
     ]
    },
    {
     "name": "stdout",
     "output_type": "stream",
     "text": [
      "EarlyStopping counter: 18/100 (Best val_acc: 0.9842)\n",
      "\n",
      "Epoch 51/100 | LR: 1.86e-06 | Teach: 0.37 | Scheduler: ReduceLROnPlateau\n",
      "  Train Loss: 0.7126 | Train Char Acc: 0.9975\n",
      "  Val Loss: 0.7783   | Val Acc (CRR): 0.9834\n",
      "  Val Exact Match Acc (E2E RR): 0.9329\n",
      "----------------------------------------------------------------------\n"
     ]
    },
    {
     "name": "stderr",
     "output_type": "stream",
     "text": [
      "Epoch 52/100 [TRAIN] LR: 1.86e-06 Teach: 0.37 Scheduler: ReduceLROnPlateau:   2%|▏         | 1/44 [00:06<04:20,  6.05s/it, loss=0.721]"
     ]
    },
    {
     "name": "stdout",
     "output_type": "stream",
     "text": [
      "\n",
      "--- Training Batch 0 Examples (Content Only) ---\n",
      "  Pred: '6A7008'\n",
      "  True: '6A7008'\n",
      "  Pred: 'V60257'\n",
      "  True: 'V60257'\n",
      "  Pred: 'T41577'\n",
      "  True: 'T41577'\n",
      "  Pred: '2B5459'\n",
      "  True: '2B5459'\n",
      "  Pred: '9A8153'\n",
      "  True: '9A8153'\n",
      "-------------------------------\n"
     ]
    },
    {
     "name": "stderr",
     "output_type": "stream",
     "text": [
      "Epoch 52/100 [TRAIN] LR: 1.86e-06 Teach: 0.37 Scheduler: ReduceLROnPlateau: 100%|██████████| 44/44 [01:01<00:00,  1.40s/it, loss=0.702]\n",
      "Epoch 52/100 [VAL]: 100%|██████████| 20/20 [00:30<00:00,  1.51s/it, loss=0.712]\n"
     ]
    },
    {
     "name": "stdout",
     "output_type": "stream",
     "text": [
      "EarlyStopping counter: 19/100 (Best val_acc: 0.9842)\n",
      "\n",
      "Epoch 52/100 | LR: 1.86e-06 | Teach: 0.37 | Scheduler: ReduceLROnPlateau\n",
      "  Train Loss: 0.7250 | Train Char Acc: 0.9921\n",
      "  Val Loss: 0.7780   | Val Acc (CRR): 0.9834\n",
      "  Val Exact Match Acc (E2E RR): 0.9329\n",
      "----------------------------------------------------------------------\n"
     ]
    },
    {
     "name": "stderr",
     "output_type": "stream",
     "text": [
      "Epoch 53/100 [TRAIN] LR: 1.86e-06 Teach: 0.36 Scheduler: ReduceLROnPlateau:   2%|▏         | 1/44 [00:05<04:03,  5.65s/it, loss=0.721]"
     ]
    },
    {
     "name": "stdout",
     "output_type": "stream",
     "text": [
      "\n",
      "--- Training Batch 0 Examples (Content Only) ---\n",
      "  Pred: 'V81501'\n",
      "  True: 'V81501'\n",
      "  Pred: '7R7583'\n",
      "  True: '7R7583'\n",
      "  Pred: '2159PE'\n",
      "  True: '2159PE'\n",
      "  Pred: '0F7686'\n",
      "  True: '0F7686'\n",
      "  Pred: '1692DP'\n",
      "  True: '1692DP'\n",
      "-------------------------------\n"
     ]
    },
    {
     "name": "stderr",
     "output_type": "stream",
     "text": [
      "Epoch 53/100 [TRAIN] LR: 1.86e-06 Teach: 0.36 Scheduler: ReduceLROnPlateau: 100%|██████████| 44/44 [01:02<00:00,  1.42s/it, loss=0.709]\n",
      "Epoch 53/100 [VAL]: 100%|██████████| 20/20 [00:30<00:00,  1.51s/it, loss=0.712]\n"
     ]
    },
    {
     "name": "stdout",
     "output_type": "stream",
     "text": [
      "EarlyStopping counter: 20/100 (Best val_acc: 0.9842)\n",
      "\n",
      "Epoch 53/100 | LR: 1.86e-06 | Teach: 0.36 | Scheduler: ReduceLROnPlateau\n",
      "  Train Loss: 0.7292 | Train Char Acc: 0.9904\n",
      "  Val Loss: 0.7779   | Val Acc (CRR): 0.9834\n",
      "  Val Exact Match Acc (E2E RR): 0.9329\n",
      "----------------------------------------------------------------------\n"
     ]
    },
    {
     "name": "stderr",
     "output_type": "stream",
     "text": [
      "Epoch 54/100 [TRAIN] LR: 1.86e-06 Teach: 0.35 Scheduler: ReduceLROnPlateau:   2%|▏         | 1/44 [00:05<04:11,  5.84s/it, loss=0.705]"
     ]
    },
    {
     "name": "stdout",
     "output_type": "stream",
     "text": [
      "\n",
      "--- Training Batch 0 Examples (Content Only) ---\n",
      "  Pred: '9C0560'\n",
      "  True: '9C0560'\n",
      "  Pred: '7557JE'\n",
      "  True: '7557JE'\n",
      "  Pred: '1589QZ'\n",
      "  True: '1589QZ'\n",
      "  Pred: 'CY9496'\n",
      "  True: 'CY9496'\n",
      "  Pred: '6376YH'\n",
      "  True: '6376YH'\n",
      "-------------------------------\n"
     ]
    },
    {
     "name": "stderr",
     "output_type": "stream",
     "text": [
      "Epoch 54/100 [TRAIN] LR: 1.86e-06 Teach: 0.35 Scheduler: ReduceLROnPlateau: 100%|██████████| 44/44 [00:59<00:00,  1.36s/it, loss=0.773]\n",
      "Epoch 54/100 [VAL]: 100%|██████████| 20/20 [00:30<00:00,  1.51s/it, loss=0.713]\n"
     ]
    },
    {
     "name": "stdout",
     "output_type": "stream",
     "text": [
      "EarlyStopping counter: 21/100 (Best val_acc: 0.9842)\n",
      "\n",
      "Epoch 54/100 | LR: 9.30e-07 | Teach: 0.35 | Scheduler: ReduceLROnPlateau\n",
      "  Train Loss: 0.7241 | Train Char Acc: 0.9916\n",
      "  Val Loss: 0.7780   | Val Acc (CRR): 0.9834\n",
      "  Val Exact Match Acc (E2E RR): 0.9329\n",
      "----------------------------------------------------------------------\n"
     ]
    },
    {
     "name": "stderr",
     "output_type": "stream",
     "text": [
      "Epoch 55/100 [TRAIN] LR: 9.30e-07 Teach: 0.35 Scheduler: ReduceLROnPlateau:   2%|▏         | 1/44 [00:05<04:14,  5.91s/it, loss=0.739]"
     ]
    },
    {
     "name": "stdout",
     "output_type": "stream",
     "text": [
      "\n",
      "--- Training Batch 0 Examples (Content Only) ---\n",
      "  Pred: '5288B7'\n",
      "  True: '5288B7'\n",
      "  Pred: 'BQ1491'\n",
      "  True: 'BQ1491'\n",
      "  Pred: '0397EV'\n",
      "  True: '0397EV'\n",
      "  Pred: '0397EV'\n",
      "  True: '0397EV'\n",
      "  Pred: '9361B9'\n",
      "  True: '9361B9'\n",
      "-------------------------------\n"
     ]
    },
    {
     "name": "stderr",
     "output_type": "stream",
     "text": [
      "Epoch 55/100 [TRAIN] LR: 9.30e-07 Teach: 0.35 Scheduler: ReduceLROnPlateau: 100%|██████████| 44/44 [01:02<00:00,  1.42s/it, loss=0.747]\n",
      "Epoch 55/100 [VAL]: 100%|██████████| 20/20 [00:29<00:00,  1.50s/it, loss=0.712]\n"
     ]
    },
    {
     "name": "stdout",
     "output_type": "stream",
     "text": [
      "EarlyStopping counter: 22/100 (Best val_acc: 0.9842)\n",
      "\n",
      "Epoch 55/100 | LR: 9.30e-07 | Teach: 0.35 | Scheduler: ReduceLROnPlateau\n",
      "  Train Loss: 0.7230 | Train Char Acc: 0.9931\n",
      "  Val Loss: 0.7780   | Val Acc (CRR): 0.9834\n",
      "  Val Exact Match Acc (E2E RR): 0.9329\n",
      "----------------------------------------------------------------------\n"
     ]
    },
    {
     "name": "stderr",
     "output_type": "stream",
     "text": [
      "Epoch 56/100 [TRAIN] LR: 9.30e-07 Teach: 0.34 Scheduler: ReduceLROnPlateau:   2%|▏         | 1/44 [00:05<03:49,  5.34s/it, loss=0.755]"
     ]
    },
    {
     "name": "stdout",
     "output_type": "stream",
     "text": [
      "\n",
      "--- Training Batch 0 Examples (Content Only) ---\n",
      "  Pred: 'BW3066'\n",
      "  True: 'RW3066'\n",
      "  Pred: 'K86721'\n",
      "  True: 'K86721'\n",
      "  Pred: '4128QW'\n",
      "  True: '4128QW'\n",
      "  Pred: 'P92580'\n",
      "  True: 'P92580'\n",
      "  Pred: 'F91001'\n",
      "  True: 'F91001'\n",
      "-------------------------------\n"
     ]
    },
    {
     "name": "stderr",
     "output_type": "stream",
     "text": [
      "Epoch 56/100 [TRAIN] LR: 9.30e-07 Teach: 0.34 Scheduler: ReduceLROnPlateau: 100%|██████████| 44/44 [01:02<00:00,  1.41s/it, loss=0.709]\n",
      "Epoch 56/100 [VAL]: 100%|██████████| 20/20 [00:29<00:00,  1.50s/it, loss=0.712]\n"
     ]
    },
    {
     "name": "stdout",
     "output_type": "stream",
     "text": [
      "EarlyStopping counter: 23/100 (Best val_acc: 0.9842)\n",
      "\n",
      "Epoch 56/100 | LR: 9.30e-07 | Teach: 0.34 | Scheduler: ReduceLROnPlateau\n",
      "  Train Loss: 0.7279 | Train Char Acc: 0.9905\n",
      "  Val Loss: 0.7777   | Val Acc (CRR): 0.9834\n",
      "  Val Exact Match Acc (E2E RR): 0.9329\n",
      "----------------------------------------------------------------------\n"
     ]
    },
    {
     "name": "stderr",
     "output_type": "stream",
     "text": [
      "Epoch 57/100 [TRAIN] LR: 9.30e-07 Teach: 0.33 Scheduler: ReduceLROnPlateau:   2%|▏         | 1/44 [00:06<04:23,  6.12s/it, loss=0.757]"
     ]
    },
    {
     "name": "stdout",
     "output_type": "stream",
     "text": [
      "\n",
      "--- Training Batch 0 Examples (Content Only) ---\n",
      "  Pred: '7331EP'\n",
      "  True: '7331EP'\n",
      "  Pred: 'V57356'\n",
      "  True: 'V57356'\n",
      "  Pred: '4926JS'\n",
      "  True: '4926JS'\n",
      "  Pred: '8106EJ'\n",
      "  True: '8106EJ'\n",
      "  Pred: 'CH6088'\n",
      "  True: 'CH6088'\n",
      "-------------------------------\n"
     ]
    },
    {
     "name": "stderr",
     "output_type": "stream",
     "text": [
      "Epoch 57/100 [TRAIN] LR: 9.30e-07 Teach: 0.33 Scheduler: ReduceLROnPlateau: 100%|██████████| 44/44 [01:01<00:00,  1.39s/it, loss=0.705]\n",
      "Epoch 57/100 [VAL]: 100%|██████████| 20/20 [00:29<00:00,  1.48s/it, loss=0.712]\n"
     ]
    },
    {
     "name": "stdout",
     "output_type": "stream",
     "text": [
      "EarlyStopping counter: 24/100 (Best val_acc: 0.9842)\n",
      "\n",
      "Epoch 57/100 | LR: 4.65e-07 | Teach: 0.33 | Scheduler: ReduceLROnPlateau\n",
      "  Train Loss: 0.7227 | Train Char Acc: 0.9933\n",
      "  Val Loss: 0.7779   | Val Acc (CRR): 0.9834\n",
      "  Val Exact Match Acc (E2E RR): 0.9329\n",
      "----------------------------------------------------------------------\n"
     ]
    },
    {
     "name": "stderr",
     "output_type": "stream",
     "text": [
      "Epoch 58/100 [TRAIN] LR: 4.65e-07 Teach: 0.33 Scheduler: ReduceLROnPlateau:   2%|▏         | 1/44 [00:05<03:58,  5.56s/it, loss=0.709]"
     ]
    },
    {
     "name": "stdout",
     "output_type": "stream",
     "text": [
      "\n",
      "--- Training Batch 0 Examples (Content Only) ---\n",
      "  Pred: '9K3865'\n",
      "  True: '9K3865'\n",
      "  Pred: '1552CC'\n",
      "  True: '1552CC'\n",
      "  Pred: '2959JJ'\n",
      "  True: '2959JJ'\n",
      "  Pred: '3F4277'\n",
      "  True: '3F4277'\n",
      "  Pred: '2P6613'\n",
      "  True: '2P6613'\n",
      "-------------------------------\n"
     ]
    },
    {
     "name": "stderr",
     "output_type": "stream",
     "text": [
      "Epoch 58/100 [TRAIN] LR: 4.65e-07 Teach: 0.33 Scheduler: ReduceLROnPlateau: 100%|██████████| 44/44 [01:01<00:00,  1.40s/it, loss=0.736]\n",
      "Epoch 58/100 [VAL]: 100%|██████████| 20/20 [00:30<00:00,  1.51s/it, loss=0.712]\n"
     ]
    },
    {
     "name": "stdout",
     "output_type": "stream",
     "text": [
      "EarlyStopping counter: 25/100 (Best val_acc: 0.9842)\n",
      "\n",
      "Epoch 58/100 | LR: 4.65e-07 | Teach: 0.33 | Scheduler: ReduceLROnPlateau\n",
      "  Train Loss: 0.7236 | Train Char Acc: 0.9923\n",
      "  Val Loss: 0.7779   | Val Acc (CRR): 0.9834\n",
      "  Val Exact Match Acc (E2E RR): 0.9329\n",
      "----------------------------------------------------------------------\n"
     ]
    },
    {
     "name": "stderr",
     "output_type": "stream",
     "text": [
      "Epoch 59/100 [TRAIN] LR: 4.65e-07 Teach: 0.32 Scheduler: ReduceLROnPlateau:   2%|▏         | 1/44 [00:06<04:18,  6.01s/it, loss=0.701]"
     ]
    },
    {
     "name": "stdout",
     "output_type": "stream",
     "text": [
      "\n",
      "--- Training Batch 0 Examples (Content Only) ---\n",
      "  Pred: '7F6709'\n",
      "  True: '7F6709'\n",
      "  Pred: 'G125KS'\n",
      "  True: 'G125KS'\n",
      "  Pred: '4226ES'\n",
      "  True: '4226ES'\n",
      "  Pred: '2H4773'\n",
      "  True: '2H4773'\n",
      "  Pred: 'Y74445'\n",
      "  True: 'Y74445'\n",
      "-------------------------------\n"
     ]
    },
    {
     "name": "stderr",
     "output_type": "stream",
     "text": [
      "Epoch 59/100 [TRAIN] LR: 4.65e-07 Teach: 0.32 Scheduler: ReduceLROnPlateau: 100%|██████████| 44/44 [01:01<00:00,  1.41s/it, loss=0.741]\n",
      "Epoch 59/100 [VAL]: 100%|██████████| 20/20 [00:30<00:00,  1.51s/it, loss=0.712]\n"
     ]
    },
    {
     "name": "stdout",
     "output_type": "stream",
     "text": [
      "EarlyStopping counter: 26/100 (Best val_acc: 0.9842)\n",
      "\n",
      "Epoch 59/100 | LR: 4.65e-07 | Teach: 0.32 | Scheduler: ReduceLROnPlateau\n",
      "  Train Loss: 0.7186 | Train Char Acc: 0.9949\n",
      "  Val Loss: 0.7775   | Val Acc (CRR): 0.9834\n",
      "  Val Exact Match Acc (E2E RR): 0.9329\n",
      "----------------------------------------------------------------------\n"
     ]
    },
    {
     "name": "stderr",
     "output_type": "stream",
     "text": [
      "Epoch 60/100 [TRAIN] LR: 4.65e-07 Teach: 0.31 Scheduler: ReduceLROnPlateau:   2%|▏         | 1/44 [00:06<04:18,  6.01s/it, loss=0.707]"
     ]
    },
    {
     "name": "stdout",
     "output_type": "stream",
     "text": [
      "\n",
      "--- Training Batch 0 Examples (Content Only) ---\n",
      "  Pred: 'BN6341'\n",
      "  True: 'BN6341'\n",
      "  Pred: '9357EX'\n",
      "  True: '9357EX'\n",
      "  Pred: '7538A2'\n",
      "  True: '7538A2'\n",
      "  Pred: 'RK4050'\n",
      "  True: 'RK4050'\n",
      "  Pred: 'N30237'\n",
      "  True: 'N30237'\n",
      "-------------------------------\n"
     ]
    },
    {
     "name": "stderr",
     "output_type": "stream",
     "text": [
      "Epoch 60/100 [TRAIN] LR: 4.65e-07 Teach: 0.31 Scheduler: ReduceLROnPlateau: 100%|██████████| 44/44 [01:03<00:00,  1.44s/it, loss=0.721]\n",
      "Epoch 60/100 [VAL]: 100%|██████████| 20/20 [00:30<00:00,  1.51s/it, loss=0.712]\n"
     ]
    },
    {
     "name": "stdout",
     "output_type": "stream",
     "text": [
      "EarlyStopping counter: 27/100 (Best val_acc: 0.9842)\n",
      "\n",
      "Epoch 60/100 | LR: 2.32e-07 | Teach: 0.31 | Scheduler: ReduceLROnPlateau\n",
      "  Train Loss: 0.7175 | Train Char Acc: 0.9960\n",
      "  Val Loss: 0.7777   | Val Acc (CRR): 0.9834\n",
      "  Val Exact Match Acc (E2E RR): 0.9329\n",
      "----------------------------------------------------------------------\n"
     ]
    },
    {
     "name": "stderr",
     "output_type": "stream",
     "text": [
      "Epoch 61/100 [TRAIN] LR: 2.32e-07 Teach: 0.31 Scheduler: ReduceLROnPlateau:   2%|▏         | 1/44 [00:05<04:07,  5.76s/it, loss=0.734]"
     ]
    },
    {
     "name": "stdout",
     "output_type": "stream",
     "text": [
      "\n",
      "--- Training Batch 0 Examples (Content Only) ---\n",
      "  Pred: 'N44916'\n",
      "  True: 'N44916'\n",
      "  Pred: '8621PC'\n",
      "  True: '8621PC'\n",
      "  Pred: '6016YM'\n",
      "  True: '6016YM'\n",
      "  Pred: 'CR1296'\n",
      "  True: 'CR1296'\n",
      "  Pred: '5E3772'\n",
      "  True: '5E3772'\n",
      "-------------------------------\n"
     ]
    },
    {
     "name": "stderr",
     "output_type": "stream",
     "text": [
      "Epoch 61/100 [TRAIN] LR: 2.32e-07 Teach: 0.31 Scheduler: ReduceLROnPlateau: 100%|██████████| 44/44 [01:01<00:00,  1.41s/it, loss=0.708]\n",
      "Epoch 61/100 [VAL]: 100%|██████████| 20/20 [00:30<00:00,  1.51s/it, loss=0.712]\n"
     ]
    },
    {
     "name": "stdout",
     "output_type": "stream",
     "text": [
      "EarlyStopping counter: 28/100 (Best val_acc: 0.9842)\n",
      "\n",
      "Epoch 61/100 | LR: 2.32e-07 | Teach: 0.31 | Scheduler: ReduceLROnPlateau\n",
      "  Train Loss: 0.7177 | Train Char Acc: 0.9957\n",
      "  Val Loss: 0.7778   | Val Acc (CRR): 0.9834\n",
      "  Val Exact Match Acc (E2E RR): 0.9329\n",
      "----------------------------------------------------------------------\n"
     ]
    },
    {
     "name": "stderr",
     "output_type": "stream",
     "text": [
      "Epoch 62/100 [TRAIN] LR: 2.32e-07 Teach: 0.30 Scheduler: ReduceLROnPlateau:   2%|▏         | 1/44 [00:06<04:22,  6.11s/it, loss=0.72]"
     ]
    },
    {
     "name": "stdout",
     "output_type": "stream",
     "text": [
      "\n",
      "--- Training Batch 0 Examples (Content Only) ---\n",
      "  Pred: 'H39977'\n",
      "  True: 'H39977'\n",
      "  Pred: 'ZZ5908'\n",
      "  True: 'ZZ5908'\n",
      "  Pred: 'F23057'\n",
      "  True: 'F23057'\n",
      "  Pred: 'KH6728'\n",
      "  True: 'KH6728'\n",
      "  Pred: '8987MP'\n",
      "  True: '8987MP'\n",
      "-------------------------------\n"
     ]
    },
    {
     "name": "stderr",
     "output_type": "stream",
     "text": [
      "Epoch 62/100 [TRAIN] LR: 2.32e-07 Teach: 0.30 Scheduler: ReduceLROnPlateau: 100%|██████████| 44/44 [01:03<00:00,  1.43s/it, loss=0.706]\n",
      "Epoch 62/100 [VAL]: 100%|██████████| 20/20 [00:30<00:00,  1.51s/it, loss=0.712]\n"
     ]
    },
    {
     "name": "stdout",
     "output_type": "stream",
     "text": [
      "EarlyStopping counter: 29/100 (Best val_acc: 0.9842)\n",
      "\n",
      "Epoch 62/100 | LR: 2.32e-07 | Teach: 0.30 | Scheduler: ReduceLROnPlateau\n",
      "  Train Loss: 0.7236 | Train Char Acc: 0.9916\n",
      "  Val Loss: 0.7778   | Val Acc (CRR): 0.9834\n",
      "  Val Exact Match Acc (E2E RR): 0.9329\n",
      "----------------------------------------------------------------------\n"
     ]
    },
    {
     "name": "stderr",
     "output_type": "stream",
     "text": [
      "Epoch 63/100 [TRAIN] LR: 2.32e-07 Teach: 0.29 Scheduler: ReduceLROnPlateau:   2%|▏         | 1/44 [00:05<04:06,  5.73s/it, loss=0.71]"
     ]
    },
    {
     "name": "stdout",
     "output_type": "stream",
     "text": [
      "\n",
      "--- Training Batch 0 Examples (Content Only) ---\n",
      "  Pred: '3E2268'\n",
      "  True: '3E2268'\n",
      "  Pred: 'BB7007'\n",
      "  True: 'BB7007'\n",
      "  Pred: '0439EQ'\n",
      "  True: '0439EQ'\n",
      "  Pred: 'ZZ1388'\n",
      "  True: 'ZZ1388'\n",
      "  Pred: 'B54196'\n",
      "  True: 'B54196'\n",
      "-------------------------------\n"
     ]
    },
    {
     "name": "stderr",
     "output_type": "stream",
     "text": [
      "Epoch 63/100 [TRAIN] LR: 2.32e-07 Teach: 0.29 Scheduler: ReduceLROnPlateau: 100%|██████████| 44/44 [01:01<00:00,  1.39s/it, loss=0.699]\n",
      "Epoch 63/100 [VAL]: 100%|██████████| 20/20 [00:30<00:00,  1.51s/it, loss=0.712]\n"
     ]
    },
    {
     "name": "stdout",
     "output_type": "stream",
     "text": [
      "EarlyStopping counter: 30/100 (Best val_acc: 0.9842)\n",
      "\n",
      "Epoch 63/100 | LR: 1.16e-07 | Teach: 0.29 | Scheduler: ReduceLROnPlateau\n",
      "  Train Loss: 0.7170 | Train Char Acc: 0.9955\n",
      "  Val Loss: 0.7778   | Val Acc (CRR): 0.9834\n",
      "  Val Exact Match Acc (E2E RR): 0.9329\n",
      "----------------------------------------------------------------------\n"
     ]
    },
    {
     "name": "stderr",
     "output_type": "stream",
     "text": [
      "Epoch 64/100 [TRAIN] LR: 1.16e-07 Teach: 0.29 Scheduler: ReduceLROnPlateau:   2%|▏         | 1/44 [00:06<04:33,  6.36s/it, loss=0.77]"
     ]
    },
    {
     "name": "stdout",
     "output_type": "stream",
     "text": [
      "\n",
      "--- Training Batch 0 Examples (Content Only) ---\n",
      "  Pred: '3982QT'\n",
      "  True: '3982QT'\n",
      "  Pred: '2991Y9'\n",
      "  True: 'YY9119'\n",
      "  Pred: '7N6161'\n",
      "  True: '7N6161'\n",
      "  Pred: '2C1749'\n",
      "  True: '2C1749'\n",
      "  Pred: 'S61848'\n",
      "  True: 'S61848'\n",
      "-------------------------------\n"
     ]
    },
    {
     "name": "stderr",
     "output_type": "stream",
     "text": [
      "Epoch 64/100 [TRAIN] LR: 1.16e-07 Teach: 0.29 Scheduler: ReduceLROnPlateau: 100%|██████████| 44/44 [01:03<00:00,  1.45s/it, loss=0.766]\n",
      "Epoch 64/100 [VAL]: 100%|██████████| 20/20 [00:30<00:00,  1.51s/it, loss=0.712]\n"
     ]
    },
    {
     "name": "stdout",
     "output_type": "stream",
     "text": [
      "EarlyStopping counter: 31/100 (Best val_acc: 0.9842)\n",
      "\n",
      "Epoch 64/100 | LR: 1.16e-07 | Teach: 0.29 | Scheduler: ReduceLROnPlateau\n",
      "  Train Loss: 0.7308 | Train Char Acc: 0.9893\n",
      "  Val Loss: 0.7776   | Val Acc (CRR): 0.9834\n",
      "  Val Exact Match Acc (E2E RR): 0.9329\n",
      "----------------------------------------------------------------------\n"
     ]
    },
    {
     "name": "stderr",
     "output_type": "stream",
     "text": [
      "Epoch 65/100 [TRAIN] LR: 1.16e-07 Teach: 0.28 Scheduler: ReduceLROnPlateau:   2%|▏         | 1/44 [00:05<04:17,  5.99s/it, loss=0.84]"
     ]
    },
    {
     "name": "stdout",
     "output_type": "stream",
     "text": [
      "\n",
      "--- Training Batch 0 Examples (Content Only) ---\n",
      "  Pred: '4872HB'\n",
      "  True: '4872HB'\n",
      "  Pred: '8676FE'\n",
      "  True: '8676FE'\n",
      "  Pred: '5962EP'\n",
      "  True: '5962EP'\n",
      "  Pred: 'M68958'\n",
      "  True: 'M68958'\n",
      "  Pred: '2903RR'\n",
      "  True: '2903RR'\n",
      "-------------------------------\n"
     ]
    },
    {
     "name": "stderr",
     "output_type": "stream",
     "text": [
      "Epoch 65/100 [TRAIN] LR: 1.16e-07 Teach: 0.28 Scheduler: ReduceLROnPlateau: 100%|██████████| 44/44 [00:59<00:00,  1.36s/it, loss=0.707]\n",
      "Epoch 65/100 [VAL]: 100%|██████████| 20/20 [00:30<00:00,  1.51s/it, loss=0.712]\n"
     ]
    },
    {
     "name": "stdout",
     "output_type": "stream",
     "text": [
      "EarlyStopping counter: 32/100 (Best val_acc: 0.9842)\n",
      "\n",
      "Epoch 65/100 | LR: 1.16e-07 | Teach: 0.28 | Scheduler: ReduceLROnPlateau\n",
      "  Train Loss: 0.7266 | Train Char Acc: 0.9912\n",
      "  Val Loss: 0.7777   | Val Acc (CRR): 0.9834\n",
      "  Val Exact Match Acc (E2E RR): 0.9329\n",
      "----------------------------------------------------------------------\n"
     ]
    },
    {
     "name": "stderr",
     "output_type": "stream",
     "text": [
      "Epoch 66/100 [TRAIN] LR: 1.16e-07 Teach: 0.27 Scheduler: ReduceLROnPlateau:   2%|▏         | 1/44 [00:06<04:46,  6.67s/it, loss=0.748]"
     ]
    },
    {
     "name": "stdout",
     "output_type": "stream",
     "text": [
      "\n",
      "--- Training Batch 0 Examples (Content Only) ---\n",
      "  Pred: '3592FL'\n",
      "  True: '3592FL'\n",
      "  Pred: '7662QX'\n",
      "  True: '7662QX'\n",
      "  Pred: 'HU8107'\n",
      "  True: 'HU8107'\n",
      "  Pred: '6U3517'\n",
      "  True: '6U3517'\n",
      "  Pred: '3619DN'\n",
      "  True: '3619DN'\n",
      "-------------------------------\n"
     ]
    },
    {
     "name": "stderr",
     "output_type": "stream",
     "text": [
      "Epoch 66/100 [TRAIN] LR: 1.16e-07 Teach: 0.27 Scheduler: ReduceLROnPlateau: 100%|██████████| 44/44 [01:04<00:00,  1.46s/it, loss=0.706]\n",
      "Epoch 66/100 [VAL]: 100%|██████████| 20/20 [00:30<00:00,  1.52s/it, loss=0.712]\n"
     ]
    },
    {
     "name": "stdout",
     "output_type": "stream",
     "text": [
      "EarlyStopping counter: 33/100 (Best val_acc: 0.9842)\n",
      "\n",
      "Epoch 66/100 | LR: 5.81e-08 | Teach: 0.27 | Scheduler: ReduceLROnPlateau\n",
      "  Train Loss: 0.7209 | Train Char Acc: 0.9936\n",
      "  Val Loss: 0.7778   | Val Acc (CRR): 0.9834\n",
      "  Val Exact Match Acc (E2E RR): 0.9329\n",
      "----------------------------------------------------------------------\n"
     ]
    },
    {
     "name": "stderr",
     "output_type": "stream",
     "text": [
      "Epoch 67/100 [TRAIN] LR: 5.81e-08 Teach: 0.27 Scheduler: ReduceLROnPlateau:   2%|▏         | 1/44 [00:06<04:24,  6.15s/it, loss=0.705]"
     ]
    },
    {
     "name": "stdout",
     "output_type": "stream",
     "text": [
      "\n",
      "--- Training Batch 0 Examples (Content Only) ---\n",
      "  Pred: '0329HB'\n",
      "  True: '0329HB'\n",
      "  Pred: '9E1715'\n",
      "  True: '9E1715'\n",
      "  Pred: 'BB7007'\n",
      "  True: 'BB7007'\n",
      "  Pred: '2236TQ'\n",
      "  True: '2236TQ'\n",
      "  Pred: '2C1749'\n",
      "  True: '2C1749'\n",
      "-------------------------------\n"
     ]
    },
    {
     "name": "stderr",
     "output_type": "stream",
     "text": [
      "Epoch 67/100 [TRAIN] LR: 5.81e-08 Teach: 0.27 Scheduler: ReduceLROnPlateau: 100%|██████████| 44/44 [01:02<00:00,  1.42s/it, loss=0.76]\n",
      "Epoch 67/100 [VAL]: 100%|██████████| 20/20 [00:30<00:00,  1.52s/it, loss=0.712]\n"
     ]
    },
    {
     "name": "stdout",
     "output_type": "stream",
     "text": [
      "EarlyStopping counter: 34/100 (Best val_acc: 0.9842)\n",
      "\n",
      "Epoch 67/100 | LR: 5.81e-08 | Teach: 0.27 | Scheduler: ReduceLROnPlateau\n",
      "  Train Loss: 0.7199 | Train Char Acc: 0.9944\n",
      "  Val Loss: 0.7776   | Val Acc (CRR): 0.9834\n",
      "  Val Exact Match Acc (E2E RR): 0.9329\n",
      "----------------------------------------------------------------------\n"
     ]
    },
    {
     "name": "stderr",
     "output_type": "stream",
     "text": [
      "Epoch 68/100 [TRAIN] LR: 5.81e-08 Teach: 0.26 Scheduler: ReduceLROnPlateau:   2%|▏         | 1/44 [00:05<03:45,  5.24s/it, loss=0.786]"
     ]
    },
    {
     "name": "stdout",
     "output_type": "stream",
     "text": [
      "\n",
      "--- Training Batch 0 Examples (Content Only) ---\n",
      "  Pred: '5517RH'\n",
      "  True: '5517RH'\n",
      "  Pred: 'C21566'\n",
      "  True: 'C21566'\n",
      "  Pred: 'P78191'\n",
      "  True: 'P78191'\n",
      "  Pred: 'B05941'\n",
      "  True: 'B05941'\n",
      "  Pred: 'B40913'\n",
      "  True: 'B40913'\n",
      "-------------------------------\n"
     ]
    },
    {
     "name": "stderr",
     "output_type": "stream",
     "text": [
      "Epoch 68/100 [TRAIN] LR: 5.81e-08 Teach: 0.26 Scheduler: ReduceLROnPlateau: 100%|██████████| 44/44 [01:02<00:00,  1.41s/it, loss=0.705]\n",
      "Epoch 68/100 [VAL]: 100%|██████████| 20/20 [00:30<00:00,  1.50s/it, loss=0.712]\n"
     ]
    },
    {
     "name": "stdout",
     "output_type": "stream",
     "text": [
      "EarlyStopping counter: 35/100 (Best val_acc: 0.9842)\n",
      "\n",
      "Epoch 68/100 | LR: 5.81e-08 | Teach: 0.26 | Scheduler: ReduceLROnPlateau\n",
      "  Train Loss: 0.7236 | Train Char Acc: 0.9927\n",
      "  Val Loss: 0.7776   | Val Acc (CRR): 0.9834\n",
      "  Val Exact Match Acc (E2E RR): 0.9329\n",
      "----------------------------------------------------------------------\n"
     ]
    },
    {
     "name": "stderr",
     "output_type": "stream",
     "text": [
      "Epoch 69/100 [TRAIN] LR: 5.81e-08 Teach: 0.25 Scheduler: ReduceLROnPlateau:   2%|▏         | 1/44 [00:06<04:22,  6.11s/it, loss=0.702]"
     ]
    },
    {
     "name": "stdout",
     "output_type": "stream",
     "text": [
      "\n",
      "--- Training Batch 0 Examples (Content Only) ---\n",
      "  Pred: '7N6161'\n",
      "  True: '7N6161'\n",
      "  Pred: '8857HJ'\n",
      "  True: '8857HJ'\n",
      "  Pred: '2A6132'\n",
      "  True: '2A6132'\n",
      "  Pred: '7F6709'\n",
      "  True: '7F6709'\n",
      "  Pred: '2L1336'\n",
      "  True: '2L1336'\n",
      "-------------------------------\n"
     ]
    },
    {
     "name": "stderr",
     "output_type": "stream",
     "text": [
      "Epoch 69/100 [TRAIN] LR: 5.81e-08 Teach: 0.25 Scheduler: ReduceLROnPlateau: 100%|██████████| 44/44 [01:03<00:00,  1.44s/it, loss=0.71]\n",
      "Epoch 69/100 [VAL]: 100%|██████████| 20/20 [00:30<00:00,  1.52s/it, loss=0.712]\n"
     ]
    },
    {
     "name": "stdout",
     "output_type": "stream",
     "text": [
      "EarlyStopping counter: 36/100 (Best val_acc: 0.9842)\n",
      "\n",
      "Epoch 69/100 | LR: 2.91e-08 | Teach: 0.25 | Scheduler: ReduceLROnPlateau\n",
      "  Train Loss: 0.7238 | Train Char Acc: 0.9924\n",
      "  Val Loss: 0.7779   | Val Acc (CRR): 0.9834\n",
      "  Val Exact Match Acc (E2E RR): 0.9329\n",
      "----------------------------------------------------------------------\n"
     ]
    },
    {
     "name": "stderr",
     "output_type": "stream",
     "text": [
      "Epoch 70/100 [TRAIN] LR: 2.91e-08 Teach: 0.25 Scheduler: ReduceLROnPlateau:   2%|▏         | 1/44 [00:05<04:03,  5.67s/it, loss=0.739]"
     ]
    },
    {
     "name": "stdout",
     "output_type": "stream",
     "text": [
      "\n",
      "--- Training Batch 0 Examples (Content Only) ---\n",
      "  Pred: '4615C7'\n",
      "  True: '4615C7'\n",
      "  Pred: 'DZ2971'\n",
      "  True: 'DZ2971'\n",
      "  Pred: '2401LL'\n",
      "  True: '2401LL'\n",
      "  Pred: '9A5426'\n",
      "  True: '9A5426'\n",
      "  Pred: 'C94910'\n",
      "  True: 'C94910'\n",
      "-------------------------------\n"
     ]
    },
    {
     "name": "stderr",
     "output_type": "stream",
     "text": [
      "Epoch 70/100 [TRAIN] LR: 2.91e-08 Teach: 0.25 Scheduler: ReduceLROnPlateau: 100%|██████████| 44/44 [01:02<00:00,  1.41s/it, loss=0.712]\n",
      "Epoch 70/100 [VAL]: 100%|██████████| 20/20 [00:30<00:00,  1.51s/it, loss=0.712]\n"
     ]
    },
    {
     "name": "stdout",
     "output_type": "stream",
     "text": [
      "EarlyStopping counter: 37/100 (Best val_acc: 0.9842)\n",
      "\n",
      "Epoch 70/100 | LR: 2.91e-08 | Teach: 0.25 | Scheduler: ReduceLROnPlateau\n",
      "  Train Loss: 0.7184 | Train Char Acc: 0.9948\n",
      "  Val Loss: 0.7776   | Val Acc (CRR): 0.9834\n",
      "  Val Exact Match Acc (E2E RR): 0.9329\n",
      "----------------------------------------------------------------------\n"
     ]
    },
    {
     "name": "stderr",
     "output_type": "stream",
     "text": [
      "Epoch 71/100 [TRAIN] LR: 2.91e-08 Teach: 0.24 Scheduler: ReduceLROnPlateau:   2%|▏         | 1/44 [00:05<04:12,  5.88s/it, loss=0.711]"
     ]
    },
    {
     "name": "stdout",
     "output_type": "stream",
     "text": [
      "\n",
      "--- Training Batch 0 Examples (Content Only) ---\n",
      "  Pred: 'SQ0158'\n",
      "  True: 'SQ0158'\n",
      "  Pred: '3368FK'\n",
      "  True: '3368FK'\n",
      "  Pred: '9628YM'\n",
      "  True: '9628YM'\n",
      "  Pred: '3626YY'\n",
      "  True: '3626YY'\n",
      "  Pred: '2715DK'\n",
      "  True: '2715DK'\n",
      "-------------------------------\n"
     ]
    },
    {
     "name": "stderr",
     "output_type": "stream",
     "text": [
      "Epoch 71/100 [TRAIN] LR: 2.91e-08 Teach: 0.24 Scheduler: ReduceLROnPlateau: 100%|██████████| 44/44 [01:00<00:00,  1.37s/it, loss=0.76]\n",
      "Epoch 71/100 [VAL]: 100%|██████████| 20/20 [00:29<00:00,  1.49s/it, loss=0.712]\n"
     ]
    },
    {
     "name": "stdout",
     "output_type": "stream",
     "text": [
      "EarlyStopping counter: 38/100 (Best val_acc: 0.9842)\n",
      "\n",
      "Epoch 71/100 | LR: 2.91e-08 | Teach: 0.24 | Scheduler: ReduceLROnPlateau\n",
      "  Train Loss: 0.7209 | Train Char Acc: 0.9940\n",
      "  Val Loss: 0.7776   | Val Acc (CRR): 0.9834\n",
      "  Val Exact Match Acc (E2E RR): 0.9329\n",
      "----------------------------------------------------------------------\n"
     ]
    },
    {
     "name": "stderr",
     "output_type": "stream",
     "text": [
      "Epoch 72/100 [TRAIN] LR: 2.91e-08 Teach: 0.23 Scheduler: ReduceLROnPlateau:   2%|▏         | 1/44 [00:05<04:13,  5.90s/it, loss=0.701]"
     ]
    },
    {
     "name": "stdout",
     "output_type": "stream",
     "text": [
      "\n",
      "--- Training Batch 0 Examples (Content Only) ---\n",
      "  Pred: '2L5877'\n",
      "  True: '2L5877'\n",
      "  Pred: '9B5905'\n",
      "  True: '9B5905'\n",
      "  Pred: 'HY1182'\n",
      "  True: 'HY1182'\n",
      "  Pred: '4666JJ'\n",
      "  True: '4666JJ'\n",
      "  Pred: 'L60793'\n",
      "  True: 'L60793'\n",
      "-------------------------------\n"
     ]
    },
    {
     "name": "stderr",
     "output_type": "stream",
     "text": [
      "Epoch 72/100 [TRAIN] LR: 2.91e-08 Teach: 0.23 Scheduler: ReduceLROnPlateau: 100%|██████████| 44/44 [01:01<00:00,  1.39s/it, loss=0.706]\n",
      "Epoch 72/100 [VAL]: 100%|██████████| 20/20 [00:30<00:00,  1.50s/it, loss=0.712]\n"
     ]
    },
    {
     "name": "stdout",
     "output_type": "stream",
     "text": [
      "EarlyStopping counter: 39/100 (Best val_acc: 0.9842)\n",
      "\n",
      "Epoch 72/100 | LR: 1.45e-08 | Teach: 0.23 | Scheduler: ReduceLROnPlateau\n",
      "  Train Loss: 0.7238 | Train Char Acc: 0.9914\n",
      "  Val Loss: 0.7776   | Val Acc (CRR): 0.9834\n",
      "  Val Exact Match Acc (E2E RR): 0.9329\n",
      "----------------------------------------------------------------------\n"
     ]
    },
    {
     "name": "stderr",
     "output_type": "stream",
     "text": [
      "Epoch 73/100 [TRAIN] LR: 1.45e-08 Teach: 0.23 Scheduler: ReduceLROnPlateau:   2%|▏         | 1/44 [00:05<04:10,  5.83s/it, loss=0.709]"
     ]
    },
    {
     "name": "stdout",
     "output_type": "stream",
     "text": [
      "\n",
      "--- Training Batch 0 Examples (Content Only) ---\n",
      "  Pred: '3382TR'\n",
      "  True: '3382TR'\n",
      "  Pred: '5289YH'\n",
      "  True: '5289YH'\n",
      "  Pred: '7R7583'\n",
      "  True: '7R7583'\n",
      "  Pred: '0865DM'\n",
      "  True: '0865DM'\n",
      "  Pred: '8237GZ'\n",
      "  True: '8237GZ'\n",
      "-------------------------------\n"
     ]
    },
    {
     "name": "stderr",
     "output_type": "stream",
     "text": [
      "Epoch 73/100 [TRAIN] LR: 1.45e-08 Teach: 0.23 Scheduler: ReduceLROnPlateau: 100%|██████████| 44/44 [01:00<00:00,  1.38s/it, loss=0.719]\n",
      "Epoch 73/100 [VAL]: 100%|██████████| 20/20 [00:29<00:00,  1.50s/it, loss=0.712]\n"
     ]
    },
    {
     "name": "stdout",
     "output_type": "stream",
     "text": [
      "EarlyStopping counter: 40/100 (Best val_acc: 0.9842)\n",
      "\n",
      "Epoch 73/100 | LR: 1.45e-08 | Teach: 0.23 | Scheduler: ReduceLROnPlateau\n",
      "  Train Loss: 0.7329 | Train Char Acc: 0.9880\n",
      "  Val Loss: 0.7779   | Val Acc (CRR): 0.9834\n",
      "  Val Exact Match Acc (E2E RR): 0.9329\n",
      "----------------------------------------------------------------------\n"
     ]
    },
    {
     "name": "stderr",
     "output_type": "stream",
     "text": [
      "Epoch 74/100 [TRAIN] LR: 1.45e-08 Teach: 0.22 Scheduler: ReduceLROnPlateau:   2%|▏         | 1/44 [00:06<04:20,  6.07s/it, loss=0.723]"
     ]
    },
    {
     "name": "stdout",
     "output_type": "stream",
     "text": [
      "\n",
      "--- Training Batch 0 Examples (Content Only) ---\n",
      "  Pred: '7D5482'\n",
      "  True: '7D5452'\n",
      "  Pred: '1015YD'\n",
      "  True: '1015YD'\n",
      "  Pred: 'G41967'\n",
      "  True: 'G41967'\n",
      "  Pred: 'DX7655'\n",
      "  True: 'DX7655'\n",
      "  Pred: '2016UX'\n",
      "  True: '2016UX'\n",
      "-------------------------------\n"
     ]
    },
    {
     "name": "stderr",
     "output_type": "stream",
     "text": [
      "Epoch 74/100 [TRAIN] LR: 1.45e-08 Teach: 0.22 Scheduler: ReduceLROnPlateau: 100%|██████████| 44/44 [00:59<00:00,  1.36s/it, loss=0.718]\n",
      "Epoch 74/100 [VAL]: 100%|██████████| 20/20 [00:29<00:00,  1.49s/it, loss=0.712]\n"
     ]
    },
    {
     "name": "stdout",
     "output_type": "stream",
     "text": [
      "EarlyStopping counter: 41/100 (Best val_acc: 0.9842)\n",
      "\n",
      "Epoch 74/100 | LR: 1.45e-08 | Teach: 0.22 | Scheduler: ReduceLROnPlateau\n",
      "  Train Loss: 0.7240 | Train Char Acc: 0.9921\n",
      "  Val Loss: 0.7777   | Val Acc (CRR): 0.9834\n",
      "  Val Exact Match Acc (E2E RR): 0.9329\n",
      "----------------------------------------------------------------------\n"
     ]
    },
    {
     "name": "stderr",
     "output_type": "stream",
     "text": [
      "Epoch 75/100 [TRAIN] LR: 1.45e-08 Teach: 0.21 Scheduler: ReduceLROnPlateau:   2%|▏         | 1/44 [00:06<04:33,  6.36s/it, loss=0.708]"
     ]
    },
    {
     "name": "stdout",
     "output_type": "stream",
     "text": [
      "\n",
      "--- Training Batch 0 Examples (Content Only) ---\n",
      "  Pred: 'F91001'\n",
      "  True: 'F91001'\n",
      "  Pred: '2E4268'\n",
      "  True: '2E4268'\n",
      "  Pred: '4128QW'\n",
      "  True: '4128QW'\n",
      "  Pred: '6335UR'\n",
      "  True: '6335UR'\n",
      "  Pred: 'GA3233'\n",
      "  True: 'GA3233'\n",
      "-------------------------------\n"
     ]
    },
    {
     "name": "stderr",
     "output_type": "stream",
     "text": [
      "Epoch 75/100 [TRAIN] LR: 1.45e-08 Teach: 0.21 Scheduler: ReduceLROnPlateau: 100%|██████████| 44/44 [01:02<00:00,  1.42s/it, loss=0.74]\n",
      "Epoch 75/100 [VAL]: 100%|██████████| 20/20 [00:30<00:00,  1.50s/it, loss=0.712]\n"
     ]
    },
    {
     "name": "stdout",
     "output_type": "stream",
     "text": [
      "EarlyStopping counter: 42/100 (Best val_acc: 0.9842)\n",
      "\n",
      "Epoch 75/100 | LR: 1.45e-08 | Teach: 0.21 | Scheduler: ReduceLROnPlateau\n",
      "  Train Loss: 0.7264 | Train Char Acc: 0.9911\n",
      "  Val Loss: 0.7777   | Val Acc (CRR): 0.9834\n",
      "  Val Exact Match Acc (E2E RR): 0.9329\n",
      "----------------------------------------------------------------------\n"
     ]
    },
    {
     "name": "stderr",
     "output_type": "stream",
     "text": [
      "Epoch 76/100 [TRAIN] LR: 1.45e-08 Teach: 0.21 Scheduler: ReduceLROnPlateau:   2%|▏         | 1/44 [00:06<04:26,  6.19s/it, loss=0.757]"
     ]
    },
    {
     "name": "stdout",
     "output_type": "stream",
     "text": [
      "\n",
      "--- Training Batch 0 Examples (Content Only) ---\n",
      "  Pred: 'CH2518'\n",
      "  True: 'CH2518'\n",
      "  Pred: '8479GG'\n",
      "  True: '8479GG'\n",
      "  Pred: '6015JH'\n",
      "  True: '6015RM'\n",
      "  Pred: '3597FL'\n",
      "  True: '3592FL'\n",
      "  Pred: '2E4268'\n",
      "  True: '2E4268'\n",
      "-------------------------------\n"
     ]
    },
    {
     "name": "stderr",
     "output_type": "stream",
     "text": [
      "Epoch 76/100 [TRAIN] LR: 1.45e-08 Teach: 0.21 Scheduler: ReduceLROnPlateau: 100%|██████████| 44/44 [01:02<00:00,  1.41s/it, loss=0.704]\n",
      "Epoch 76/100 [VAL]: 100%|██████████| 20/20 [00:30<00:00,  1.51s/it, loss=0.712]\n"
     ]
    },
    {
     "name": "stdout",
     "output_type": "stream",
     "text": [
      "EarlyStopping counter: 43/100 (Best val_acc: 0.9842)\n",
      "\n",
      "Epoch 76/100 | LR: 1.45e-08 | Teach: 0.21 | Scheduler: ReduceLROnPlateau\n",
      "  Train Loss: 0.7243 | Train Char Acc: 0.9918\n",
      "  Val Loss: 0.7780   | Val Acc (CRR): 0.9834\n",
      "  Val Exact Match Acc (E2E RR): 0.9329\n",
      "----------------------------------------------------------------------\n"
     ]
    },
    {
     "name": "stderr",
     "output_type": "stream",
     "text": [
      "Epoch 77/100 [TRAIN] LR: 1.45e-08 Teach: 0.20 Scheduler: ReduceLROnPlateau:   2%|▏         | 1/44 [00:05<03:47,  5.29s/it, loss=0.706]"
     ]
    },
    {
     "name": "stdout",
     "output_type": "stream",
     "text": [
      "\n",
      "--- Training Batch 0 Examples (Content Only) ---\n",
      "  Pred: 'QR8001'\n",
      "  True: 'QR8001'\n",
      "  Pred: '3982QT'\n",
      "  True: '3982QT'\n",
      "  Pred: '2193DU'\n",
      "  True: '2193DU'\n",
      "  Pred: '6E1507'\n",
      "  True: '6E1507'\n",
      "  Pred: 'D06949'\n",
      "  True: 'D06949'\n",
      "-------------------------------\n"
     ]
    },
    {
     "name": "stderr",
     "output_type": "stream",
     "text": [
      "Epoch 77/100 [TRAIN] LR: 1.45e-08 Teach: 0.20 Scheduler: ReduceLROnPlateau: 100%|██████████| 44/44 [01:01<00:00,  1.40s/it, loss=0.703]\n",
      "Epoch 77/100 [VAL]: 100%|██████████| 20/20 [00:30<00:00,  1.51s/it, loss=0.712]\n"
     ]
    },
    {
     "name": "stdout",
     "output_type": "stream",
     "text": [
      "EarlyStopping counter: 44/100 (Best val_acc: 0.9842)\n",
      "\n",
      "Epoch 77/100 | LR: 1.45e-08 | Teach: 0.20 | Scheduler: ReduceLROnPlateau\n",
      "  Train Loss: 0.7196 | Train Char Acc: 0.9938\n",
      "  Val Loss: 0.7777   | Val Acc (CRR): 0.9834\n",
      "  Val Exact Match Acc (E2E RR): 0.9329\n",
      "----------------------------------------------------------------------\n"
     ]
    },
    {
     "name": "stderr",
     "output_type": "stream",
     "text": [
      "Epoch 78/100 [TRAIN] LR: 1.45e-08 Teach: 0.19 Scheduler: ReduceLROnPlateau:   2%|▏         | 1/44 [00:06<04:55,  6.86s/it, loss=0.756]"
     ]
    },
    {
     "name": "stdout",
     "output_type": "stream",
     "text": [
      "\n",
      "--- Training Batch 0 Examples (Content Only) ---\n",
      "  Pred: '5287GZ'\n",
      "  True: '5287GZ'\n",
      "  Pred: 'C59631'\n",
      "  True: 'C59631'\n",
      "  Pred: '9012VR'\n",
      "  True: '9012VR'\n",
      "  Pred: '3111BB'\n",
      "  True: '3160ZB'\n",
      "  Pred: 'Y72808'\n",
      "  True: 'Y72808'\n",
      "-------------------------------\n"
     ]
    },
    {
     "name": "stderr",
     "output_type": "stream",
     "text": [
      "Epoch 78/100 [TRAIN] LR: 1.45e-08 Teach: 0.19 Scheduler: ReduceLROnPlateau: 100%|██████████| 44/44 [01:02<00:00,  1.42s/it, loss=0.733]\n",
      "Epoch 78/100 [VAL]: 100%|██████████| 20/20 [00:30<00:00,  1.51s/it, loss=0.712]\n"
     ]
    },
    {
     "name": "stdout",
     "output_type": "stream",
     "text": [
      "EarlyStopping counter: 45/100 (Best val_acc: 0.9842)\n",
      "\n",
      "Epoch 78/100 | LR: 1.45e-08 | Teach: 0.19 | Scheduler: ReduceLROnPlateau\n",
      "  Train Loss: 0.7285 | Train Char Acc: 0.9905\n",
      "  Val Loss: 0.7775   | Val Acc (CRR): 0.9834\n",
      "  Val Exact Match Acc (E2E RR): 0.9329\n",
      "----------------------------------------------------------------------\n"
     ]
    },
    {
     "name": "stderr",
     "output_type": "stream",
     "text": [
      "Epoch 79/100 [TRAIN] LR: 1.45e-08 Teach: 0.19 Scheduler: ReduceLROnPlateau:   2%|▏         | 1/44 [00:05<04:10,  5.83s/it, loss=0.704]"
     ]
    },
    {
     "name": "stdout",
     "output_type": "stream",
     "text": [
      "\n",
      "--- Training Batch 0 Examples (Content Only) ---\n",
      "  Pred: '2H0311'\n",
      "  True: '2H0311'\n",
      "  Pred: '7311VZ'\n",
      "  True: '7311VZ'\n",
      "  Pred: 'C29126'\n",
      "  True: 'C29126'\n",
      "  Pred: 'CR4113'\n",
      "  True: 'CR4113'\n",
      "  Pred: 'CV7107'\n",
      "  True: 'CV7107'\n",
      "-------------------------------\n"
     ]
    },
    {
     "name": "stderr",
     "output_type": "stream",
     "text": [
      "Epoch 79/100 [TRAIN] LR: 1.45e-08 Teach: 0.19 Scheduler: ReduceLROnPlateau: 100%|██████████| 44/44 [01:00<00:00,  1.37s/it, loss=0.747]\n",
      "Epoch 79/100 [VAL]: 100%|██████████| 20/20 [00:30<00:00,  1.52s/it, loss=0.712]\n"
     ]
    },
    {
     "name": "stdout",
     "output_type": "stream",
     "text": [
      "EarlyStopping counter: 46/100 (Best val_acc: 0.9842)\n",
      "\n",
      "Epoch 79/100 | LR: 1.45e-08 | Teach: 0.19 | Scheduler: ReduceLROnPlateau\n",
      "  Train Loss: 0.7351 | Train Char Acc: 0.9880\n",
      "  Val Loss: 0.7776   | Val Acc (CRR): 0.9834\n",
      "  Val Exact Match Acc (E2E RR): 0.9329\n",
      "----------------------------------------------------------------------\n"
     ]
    },
    {
     "name": "stderr",
     "output_type": "stream",
     "text": [
      "Epoch 80/100 [TRAIN] LR: 1.45e-08 Teach: 0.18 Scheduler: ReduceLROnPlateau:   2%|▏         | 1/44 [00:05<04:03,  5.66s/it, loss=0.773]"
     ]
    },
    {
     "name": "stdout",
     "output_type": "stream",
     "text": [
      "\n",
      "--- Training Batch 0 Examples (Content Only) ---\n",
      "  Pred: 'UH7329'\n",
      "  True: 'UH7329'\n",
      "  Pred: '7D1957'\n",
      "  True: '7D1957'\n",
      "  Pred: '1012F6'\n",
      "  True: '1012F6'\n",
      "  Pred: '0523QJ'\n",
      "  True: '0523QJ'\n",
      "  Pred: 'CN2950'\n",
      "  True: 'CN2950'\n",
      "-------------------------------\n"
     ]
    },
    {
     "name": "stderr",
     "output_type": "stream",
     "text": [
      "Epoch 80/100 [TRAIN] LR: 1.45e-08 Teach: 0.18 Scheduler: ReduceLROnPlateau: 100%|██████████| 44/44 [01:03<00:00,  1.44s/it, loss=0.774]\n",
      "Epoch 80/100 [VAL]: 100%|██████████| 20/20 [00:30<00:00,  1.52s/it, loss=0.712]\n"
     ]
    },
    {
     "name": "stdout",
     "output_type": "stream",
     "text": [
      "EarlyStopping counter: 47/100 (Best val_acc: 0.9842)\n",
      "\n",
      "Epoch 80/100 | LR: 1.45e-08 | Teach: 0.18 | Scheduler: ReduceLROnPlateau\n",
      "  Train Loss: 0.7181 | Train Char Acc: 0.9943\n",
      "  Val Loss: 0.7776   | Val Acc (CRR): 0.9834\n",
      "  Val Exact Match Acc (E2E RR): 0.9329\n",
      "----------------------------------------------------------------------\n"
     ]
    },
    {
     "name": "stderr",
     "output_type": "stream",
     "text": [
      "Epoch 81/100 [TRAIN] LR: 1.45e-08 Teach: 0.17 Scheduler: ReduceLROnPlateau:   2%|▏         | 1/44 [00:06<04:23,  6.12s/it, loss=0.727]"
     ]
    },
    {
     "name": "stdout",
     "output_type": "stream",
     "text": [
      "\n",
      "--- Training Batch 0 Examples (Content Only) ---\n",
      "  Pred: 'RS9732'\n",
      "  True: 'RS9732'\n",
      "  Pred: 'X23189'\n",
      "  True: 'X23189'\n",
      "  Pred: 'G41967'\n",
      "  True: 'G41967'\n",
      "  Pred: '4637JJ'\n",
      "  True: '4637JJ'\n",
      "  Pred: '7792ET'\n",
      "  True: '7792ET'\n",
      "-------------------------------\n"
     ]
    },
    {
     "name": "stderr",
     "output_type": "stream",
     "text": [
      "Epoch 81/100 [TRAIN] LR: 1.45e-08 Teach: 0.17 Scheduler: ReduceLROnPlateau: 100%|██████████| 44/44 [01:01<00:00,  1.40s/it, loss=0.768]\n",
      "Epoch 81/100 [VAL]: 100%|██████████| 20/20 [00:30<00:00,  1.52s/it, loss=0.712]\n"
     ]
    },
    {
     "name": "stdout",
     "output_type": "stream",
     "text": [
      "EarlyStopping counter: 48/100 (Best val_acc: 0.9842)\n",
      "\n",
      "Epoch 81/100 | LR: 1.45e-08 | Teach: 0.17 | Scheduler: ReduceLROnPlateau\n",
      "  Train Loss: 0.7245 | Train Char Acc: 0.9917\n",
      "  Val Loss: 0.7776   | Val Acc (CRR): 0.9834\n",
      "  Val Exact Match Acc (E2E RR): 0.9329\n",
      "----------------------------------------------------------------------\n"
     ]
    },
    {
     "name": "stderr",
     "output_type": "stream",
     "text": [
      "Epoch 82/100 [TRAIN] LR: 1.45e-08 Teach: 0.17 Scheduler: ReduceLROnPlateau:   2%|▏         | 1/44 [00:05<04:14,  5.91s/it, loss=0.756]"
     ]
    },
    {
     "name": "stdout",
     "output_type": "stream",
     "text": [
      "\n",
      "--- Training Batch 0 Examples (Content Only) ---\n",
      "  Pred: '5570HW'\n",
      "  True: '5570HW'\n",
      "  Pred: '2582PK'\n",
      "  True: '2582PK'\n",
      "  Pred: 'C38117'\n",
      "  True: 'C38117'\n",
      "  Pred: '1561JJ'\n",
      "  True: '6237JJ'\n",
      "  Pred: 'KH6728'\n",
      "  True: 'KH6728'\n",
      "-------------------------------\n"
     ]
    },
    {
     "name": "stderr",
     "output_type": "stream",
     "text": [
      "Epoch 82/100 [TRAIN] LR: 1.45e-08 Teach: 0.17 Scheduler: ReduceLROnPlateau: 100%|██████████| 44/44 [01:01<00:00,  1.39s/it, loss=0.73]\n",
      "Epoch 82/100 [VAL]: 100%|██████████| 20/20 [00:30<00:00,  1.50s/it, loss=0.712]\n"
     ]
    },
    {
     "name": "stdout",
     "output_type": "stream",
     "text": [
      "EarlyStopping counter: 49/100 (Best val_acc: 0.9842)\n",
      "\n",
      "Epoch 82/100 | LR: 1.45e-08 | Teach: 0.17 | Scheduler: ReduceLROnPlateau\n",
      "  Train Loss: 0.7236 | Train Char Acc: 0.9922\n",
      "  Val Loss: 0.7777   | Val Acc (CRR): 0.9834\n",
      "  Val Exact Match Acc (E2E RR): 0.9329\n",
      "----------------------------------------------------------------------\n"
     ]
    },
    {
     "name": "stderr",
     "output_type": "stream",
     "text": [
      "Epoch 83/100 [TRAIN] LR: 1.45e-08 Teach: 0.16 Scheduler: ReduceLROnPlateau:   2%|▏         | 1/44 [00:06<04:36,  6.42s/it, loss=0.707]"
     ]
    },
    {
     "name": "stdout",
     "output_type": "stream",
     "text": [
      "\n",
      "--- Training Batch 0 Examples (Content Only) ---\n",
      "  Pred: '1837CC'\n",
      "  True: '1837CC'\n",
      "  Pred: 'HY1182'\n",
      "  True: 'HY1182'\n",
      "  Pred: '8106TM'\n",
      "  True: '8106TM'\n",
      "  Pred: '7062LL'\n",
      "  True: '7062LL'\n",
      "  Pred: 'G39750'\n",
      "  True: 'G39750'\n",
      "-------------------------------\n"
     ]
    },
    {
     "name": "stderr",
     "output_type": "stream",
     "text": [
      "Epoch 83/100 [TRAIN] LR: 1.45e-08 Teach: 0.16 Scheduler: ReduceLROnPlateau: 100%|██████████| 44/44 [01:03<00:00,  1.44s/it, loss=0.706]\n",
      "Epoch 83/100 [VAL]: 100%|██████████| 20/20 [00:30<00:00,  1.50s/it, loss=0.712]\n"
     ]
    },
    {
     "name": "stdout",
     "output_type": "stream",
     "text": [
      "EarlyStopping counter: 50/100 (Best val_acc: 0.9842)\n",
      "\n",
      "Epoch 83/100 | LR: 1.45e-08 | Teach: 0.16 | Scheduler: ReduceLROnPlateau\n",
      "  Train Loss: 0.7265 | Train Char Acc: 0.9910\n",
      "  Val Loss: 0.7779   | Val Acc (CRR): 0.9834\n",
      "  Val Exact Match Acc (E2E RR): 0.9329\n",
      "----------------------------------------------------------------------\n"
     ]
    },
    {
     "name": "stderr",
     "output_type": "stream",
     "text": [
      "Epoch 84/100 [TRAIN] LR: 1.45e-08 Teach: 0.16 Scheduler: ReduceLROnPlateau:   2%|▏         | 1/44 [00:06<04:29,  6.26s/it, loss=0.717]"
     ]
    },
    {
     "name": "stdout",
     "output_type": "stream",
     "text": [
      "\n",
      "--- Training Batch 0 Examples (Content Only) ---\n",
      "  Pred: '5813UF'\n",
      "  True: '5613UF'\n",
      "  Pred: '2903RR'\n",
      "  True: '2903RR'\n",
      "  Pred: '5L7223'\n",
      "  True: '5L7223'\n",
      "  Pred: 'SC3251'\n",
      "  True: 'SC3251'\n",
      "  Pred: '2303B6'\n",
      "  True: '2303B6'\n",
      "-------------------------------\n"
     ]
    },
    {
     "name": "stderr",
     "output_type": "stream",
     "text": [
      "Epoch 84/100 [TRAIN] LR: 1.45e-08 Teach: 0.16 Scheduler: ReduceLROnPlateau: 100%|██████████| 44/44 [01:01<00:00,  1.39s/it, loss=0.707]\n",
      "Epoch 84/100 [VAL]: 100%|██████████| 20/20 [00:30<00:00,  1.50s/it, loss=0.712]\n"
     ]
    },
    {
     "name": "stdout",
     "output_type": "stream",
     "text": [
      "EarlyStopping counter: 51/100 (Best val_acc: 0.9842)\n",
      "\n",
      "Epoch 84/100 | LR: 1.45e-08 | Teach: 0.16 | Scheduler: ReduceLROnPlateau\n",
      "  Train Loss: 0.7167 | Train Char Acc: 0.9949\n",
      "  Val Loss: 0.7779   | Val Acc (CRR): 0.9834\n",
      "  Val Exact Match Acc (E2E RR): 0.9329\n",
      "----------------------------------------------------------------------\n"
     ]
    },
    {
     "name": "stderr",
     "output_type": "stream",
     "text": [
      "Epoch 85/100 [TRAIN] LR: 1.45e-08 Teach: 0.15 Scheduler: ReduceLROnPlateau:   2%|▏         | 1/44 [00:05<04:11,  5.85s/it, loss=0.72]"
     ]
    },
    {
     "name": "stdout",
     "output_type": "stream",
     "text": [
      "\n",
      "--- Training Batch 0 Examples (Content Only) ---\n",
      "  Pred: '4618JJ'\n",
      "  True: '4618JJ'\n",
      "  Pred: '7569VK'\n",
      "  True: '7569VK'\n",
      "  Pred: '8K3466'\n",
      "  True: '8K3466'\n",
      "  Pred: '9E1715'\n",
      "  True: '9E1715'\n",
      "  Pred: '5517RH'\n",
      "  True: '5517RH'\n",
      "-------------------------------\n"
     ]
    },
    {
     "name": "stderr",
     "output_type": "stream",
     "text": [
      "Epoch 85/100 [TRAIN] LR: 1.45e-08 Teach: 0.15 Scheduler: ReduceLROnPlateau: 100%|██████████| 44/44 [01:04<00:00,  1.47s/it, loss=0.706]\n",
      "Epoch 85/100 [VAL]: 100%|██████████| 20/20 [00:30<00:00,  1.52s/it, loss=0.712]\n"
     ]
    },
    {
     "name": "stdout",
     "output_type": "stream",
     "text": [
      "EarlyStopping counter: 52/100 (Best val_acc: 0.9842)\n",
      "\n",
      "Epoch 85/100 | LR: 1.45e-08 | Teach: 0.15 | Scheduler: ReduceLROnPlateau\n",
      "  Train Loss: 0.7260 | Train Char Acc: 0.9914\n",
      "  Val Loss: 0.7780   | Val Acc (CRR): 0.9834\n",
      "  Val Exact Match Acc (E2E RR): 0.9329\n",
      "----------------------------------------------------------------------\n"
     ]
    },
    {
     "name": "stderr",
     "output_type": "stream",
     "text": [
      "Epoch 86/100 [TRAIN] LR: 1.45e-08 Teach: 0.14 Scheduler: ReduceLROnPlateau:   2%|▏         | 1/44 [00:05<04:14,  5.92s/it, loss=0.706]"
     ]
    },
    {
     "name": "stdout",
     "output_type": "stream",
     "text": [
      "\n",
      "--- Training Batch 0 Examples (Content Only) ---\n",
      "  Pred: 'RS8543'\n",
      "  True: 'RS8543'\n",
      "  Pred: 'AR0416'\n",
      "  True: 'AR0416'\n",
      "  Pred: '2209BB'\n",
      "  True: '2209BB'\n",
      "  Pred: 'CE2655'\n",
      "  True: 'CE2655'\n",
      "  Pred: '3768RY'\n",
      "  True: '3768RY'\n",
      "-------------------------------\n"
     ]
    },
    {
     "name": "stderr",
     "output_type": "stream",
     "text": [
      "Epoch 86/100 [TRAIN] LR: 1.45e-08 Teach: 0.14 Scheduler: ReduceLROnPlateau: 100%|██████████| 44/44 [01:03<00:00,  1.45s/it, loss=0.708]\n",
      "Epoch 86/100 [VAL]: 100%|██████████| 20/20 [00:30<00:00,  1.51s/it, loss=0.712]\n"
     ]
    },
    {
     "name": "stdout",
     "output_type": "stream",
     "text": [
      "EarlyStopping counter: 53/100 (Best val_acc: 0.9842)\n",
      "\n",
      "Epoch 86/100 | LR: 1.45e-08 | Teach: 0.14 | Scheduler: ReduceLROnPlateau\n",
      "  Train Loss: 0.7224 | Train Char Acc: 0.9933\n",
      "  Val Loss: 0.7777   | Val Acc (CRR): 0.9834\n",
      "  Val Exact Match Acc (E2E RR): 0.9329\n",
      "----------------------------------------------------------------------\n"
     ]
    },
    {
     "name": "stderr",
     "output_type": "stream",
     "text": [
      "Epoch 87/100 [TRAIN] LR: 1.45e-08 Teach: 0.14 Scheduler: ReduceLROnPlateau:   2%|▏         | 1/44 [00:06<04:23,  6.13s/it, loss=0.707]"
     ]
    },
    {
     "name": "stdout",
     "output_type": "stream",
     "text": [
      "\n",
      "--- Training Batch 0 Examples (Content Only) ---\n",
      "  Pred: '2B5459'\n",
      "  True: '2B5459'\n",
      "  Pred: '3T5058'\n",
      "  True: '3T5058'\n",
      "  Pred: '3626YY'\n",
      "  True: '3626YY'\n",
      "  Pred: 'C38166'\n",
      "  True: 'C38166'\n",
      "  Pred: '7513GZ'\n",
      "  True: '7513GZ'\n",
      "-------------------------------\n"
     ]
    },
    {
     "name": "stderr",
     "output_type": "stream",
     "text": [
      "Epoch 87/100 [TRAIN] LR: 1.45e-08 Teach: 0.14 Scheduler: ReduceLROnPlateau: 100%|██████████| 44/44 [01:00<00:00,  1.37s/it, loss=0.715]\n",
      "Epoch 87/100 [VAL]: 100%|██████████| 20/20 [00:30<00:00,  1.52s/it, loss=0.712]\n"
     ]
    },
    {
     "name": "stdout",
     "output_type": "stream",
     "text": [
      "EarlyStopping counter: 54/100 (Best val_acc: 0.9842)\n",
      "\n",
      "Epoch 87/100 | LR: 1.45e-08 | Teach: 0.14 | Scheduler: ReduceLROnPlateau\n",
      "  Train Loss: 0.7264 | Train Char Acc: 0.9906\n",
      "  Val Loss: 0.7777   | Val Acc (CRR): 0.9834\n",
      "  Val Exact Match Acc (E2E RR): 0.9329\n",
      "----------------------------------------------------------------------\n"
     ]
    },
    {
     "name": "stderr",
     "output_type": "stream",
     "text": [
      "Epoch 88/100 [TRAIN] LR: 1.45e-08 Teach: 0.13 Scheduler: ReduceLROnPlateau:   2%|▏         | 1/44 [00:05<04:02,  5.63s/it, loss=0.707]"
     ]
    },
    {
     "name": "stdout",
     "output_type": "stream",
     "text": [
      "\n",
      "--- Training Batch 0 Examples (Content Only) ---\n",
      "  Pred: '5388YN'\n",
      "  True: '5388YN'\n",
      "  Pred: '3768RY'\n",
      "  True: '3768RY'\n",
      "  Pred: '4588KK'\n",
      "  True: '4588KK'\n",
      "  Pred: '4315RJ'\n",
      "  True: '4315RJ'\n",
      "  Pred: '6E1507'\n",
      "  True: '6E1507'\n",
      "-------------------------------\n"
     ]
    },
    {
     "name": "stderr",
     "output_type": "stream",
     "text": [
      "Epoch 88/100 [TRAIN] LR: 1.45e-08 Teach: 0.13 Scheduler: ReduceLROnPlateau: 100%|██████████| 44/44 [01:02<00:00,  1.43s/it, loss=0.704]\n",
      "Epoch 88/100 [VAL]: 100%|██████████| 20/20 [00:30<00:00,  1.52s/it, loss=0.712]\n"
     ]
    },
    {
     "name": "stdout",
     "output_type": "stream",
     "text": [
      "EarlyStopping counter: 55/100 (Best val_acc: 0.9842)\n",
      "\n",
      "Epoch 88/100 | LR: 1.45e-08 | Teach: 0.13 | Scheduler: ReduceLROnPlateau\n",
      "  Train Loss: 0.7233 | Train Char Acc: 0.9929\n",
      "  Val Loss: 0.7774   | Val Acc (CRR): 0.9834\n",
      "  Val Exact Match Acc (E2E RR): 0.9329\n",
      "----------------------------------------------------------------------\n"
     ]
    },
    {
     "name": "stderr",
     "output_type": "stream",
     "text": [
      "Epoch 89/100 [TRAIN] LR: 1.45e-08 Teach: 0.12 Scheduler: ReduceLROnPlateau:   2%|▏         | 1/44 [00:05<04:07,  5.76s/it, loss=0.752]"
     ]
    },
    {
     "name": "stdout",
     "output_type": "stream",
     "text": [
      "\n",
      "--- Training Batch 0 Examples (Content Only) ---\n",
      "  Pred: '3382TR'\n",
      "  True: '3382TR'\n",
      "  Pred: 'CJ4846'\n",
      "  True: 'CJ4846'\n",
      "  Pred: 'C04525'\n",
      "  True: 'C04525'\n",
      "  Pred: 'T50269'\n",
      "  True: 'T50269'\n",
      "  Pred: '5763EQ'\n",
      "  True: '5763EQ'\n",
      "-------------------------------\n"
     ]
    },
    {
     "name": "stderr",
     "output_type": "stream",
     "text": [
      "Epoch 89/100 [TRAIN] LR: 1.45e-08 Teach: 0.12 Scheduler: ReduceLROnPlateau: 100%|██████████| 44/44 [01:00<00:00,  1.38s/it, loss=0.818]\n",
      "Epoch 89/100 [VAL]: 100%|██████████| 20/20 [00:29<00:00,  1.50s/it, loss=0.712]\n"
     ]
    },
    {
     "name": "stdout",
     "output_type": "stream",
     "text": [
      "EarlyStopping counter: 56/100 (Best val_acc: 0.9842)\n",
      "\n",
      "Epoch 89/100 | LR: 1.45e-08 | Teach: 0.12 | Scheduler: ReduceLROnPlateau\n",
      "  Train Loss: 0.7273 | Train Char Acc: 0.9911\n",
      "  Val Loss: 0.7779   | Val Acc (CRR): 0.9834\n",
      "  Val Exact Match Acc (E2E RR): 0.9329\n",
      "----------------------------------------------------------------------\n"
     ]
    },
    {
     "name": "stderr",
     "output_type": "stream",
     "text": [
      "Epoch 90/100 [TRAIN] LR: 1.45e-08 Teach: 0.12 Scheduler: ReduceLROnPlateau:   2%|▏         | 1/44 [00:05<04:05,  5.72s/it, loss=0.72]"
     ]
    },
    {
     "name": "stdout",
     "output_type": "stream",
     "text": [
      "\n",
      "--- Training Batch 0 Examples (Content Only) ---\n",
      "  Pred: 'Q79115'\n",
      "  True: 'Q79115'\n",
      "  Pred: '7311VZ'\n",
      "  True: '7311VZ'\n",
      "  Pred: 'G31122'\n",
      "  True: 'G31122'\n",
      "  Pred: '6237JJ'\n",
      "  True: '6237JJ'\n",
      "  Pred: 'DE9838'\n",
      "  True: 'DE9838'\n",
      "-------------------------------\n"
     ]
    },
    {
     "name": "stderr",
     "output_type": "stream",
     "text": [
      "Epoch 90/100 [TRAIN] LR: 1.45e-08 Teach: 0.12 Scheduler: ReduceLROnPlateau: 100%|██████████| 44/44 [01:02<00:00,  1.41s/it, loss=0.77]\n",
      "Epoch 90/100 [VAL]: 100%|██████████| 20/20 [00:30<00:00,  1.51s/it, loss=0.712]\n"
     ]
    },
    {
     "name": "stdout",
     "output_type": "stream",
     "text": [
      "EarlyStopping counter: 57/100 (Best val_acc: 0.9842)\n",
      "\n",
      "Epoch 90/100 | LR: 1.45e-08 | Teach: 0.12 | Scheduler: ReduceLROnPlateau\n",
      "  Train Loss: 0.7213 | Train Char Acc: 0.9937\n",
      "  Val Loss: 0.7776   | Val Acc (CRR): 0.9834\n",
      "  Val Exact Match Acc (E2E RR): 0.9329\n",
      "----------------------------------------------------------------------\n"
     ]
    },
    {
     "name": "stderr",
     "output_type": "stream",
     "text": [
      "Epoch 91/100 [TRAIN] LR: 1.45e-08 Teach: 0.11 Scheduler: ReduceLROnPlateau:   2%|▏         | 1/44 [00:06<04:37,  6.46s/it, loss=0.8]"
     ]
    },
    {
     "name": "stdout",
     "output_type": "stream",
     "text": [
      "\n",
      "--- Training Batch 0 Examples (Content Only) ---\n",
      "  Pred: '8728QE'\n",
      "  True: '8728QE'\n",
      "  Pred: 'RM5635'\n",
      "  True: 'RM5635'\n",
      "  Pred: '7062LL'\n",
      "  True: '7062LL'\n",
      "  Pred: '1587QZ'\n",
      "  True: '1587QZ'\n",
      "  Pred: 'C28988'\n",
      "  True: 'C28988'\n",
      "-------------------------------\n"
     ]
    },
    {
     "name": "stderr",
     "output_type": "stream",
     "text": [
      "Epoch 91/100 [TRAIN] LR: 1.45e-08 Teach: 0.11 Scheduler: ReduceLROnPlateau: 100%|██████████| 44/44 [01:04<00:00,  1.46s/it, loss=0.741]\n",
      "Epoch 91/100 [VAL]: 100%|██████████| 20/20 [00:30<00:00,  1.52s/it, loss=0.712]\n"
     ]
    },
    {
     "name": "stdout",
     "output_type": "stream",
     "text": [
      "EarlyStopping counter: 58/100 (Best val_acc: 0.9842)\n",
      "\n",
      "Epoch 91/100 | LR: 1.45e-08 | Teach: 0.11 | Scheduler: ReduceLROnPlateau\n",
      "  Train Loss: 0.7226 | Train Char Acc: 0.9928\n",
      "  Val Loss: 0.7776   | Val Acc (CRR): 0.9834\n",
      "  Val Exact Match Acc (E2E RR): 0.9329\n",
      "----------------------------------------------------------------------\n"
     ]
    },
    {
     "name": "stderr",
     "output_type": "stream",
     "text": [
      "Epoch 92/100 [TRAIN] LR: 1.45e-08 Teach: 0.10 Scheduler: ReduceLROnPlateau:   2%|▏         | 1/44 [00:06<04:31,  6.31s/it, loss=0.732]"
     ]
    },
    {
     "name": "stdout",
     "output_type": "stream",
     "text": [
      "\n",
      "--- Training Batch 0 Examples (Content Only) ---\n",
      "  Pred: 'K53721'\n",
      "  True: 'K53721'\n",
      "  Pred: 'N30897'\n",
      "  True: 'N30897'\n",
      "  Pred: '9723DP'\n",
      "  True: '9723DP'\n",
      "  Pred: 'DX1371'\n",
      "  True: 'DX1371'\n",
      "  Pred: '6951A7'\n",
      "  True: '6951A7'\n",
      "-------------------------------\n"
     ]
    },
    {
     "name": "stderr",
     "output_type": "stream",
     "text": [
      "Epoch 92/100 [TRAIN] LR: 1.45e-08 Teach: 0.10 Scheduler: ReduceLROnPlateau: 100%|██████████| 44/44 [01:00<00:00,  1.39s/it, loss=0.773]\n",
      "Epoch 92/100 [VAL]: 100%|██████████| 20/20 [00:30<00:00,  1.51s/it, loss=0.712]\n"
     ]
    },
    {
     "name": "stdout",
     "output_type": "stream",
     "text": [
      "EarlyStopping counter: 59/100 (Best val_acc: 0.9842)\n",
      "\n",
      "Epoch 92/100 | LR: 1.45e-08 | Teach: 0.10 | Scheduler: ReduceLROnPlateau\n",
      "  Train Loss: 0.7258 | Train Char Acc: 0.9917\n",
      "  Val Loss: 0.7775   | Val Acc (CRR): 0.9834\n",
      "  Val Exact Match Acc (E2E RR): 0.9329\n",
      "----------------------------------------------------------------------\n"
     ]
    },
    {
     "name": "stderr",
     "output_type": "stream",
     "text": [
      "Epoch 93/100 [TRAIN] LR: 1.45e-08 Teach: 0.10 Scheduler: ReduceLROnPlateau:   2%|▏         | 1/44 [00:05<04:13,  5.88s/it, loss=0.73]"
     ]
    },
    {
     "name": "stdout",
     "output_type": "stream",
     "text": [
      "\n",
      "--- Training Batch 0 Examples (Content Only) ---\n",
      "  Pred: '3619DN'\n",
      "  True: '3619DN'\n",
      "  Pred: '0275EH'\n",
      "  True: '0275EH'\n",
      "  Pred: '1U8735'\n",
      "  True: '1U8735'\n",
      "  Pred: '1337HG'\n",
      "  True: '1337HG'\n",
      "  Pred: 'CX3020'\n",
      "  True: 'CX3020'\n",
      "-------------------------------\n"
     ]
    },
    {
     "name": "stderr",
     "output_type": "stream",
     "text": [
      "Epoch 93/100 [TRAIN] LR: 1.45e-08 Teach: 0.10 Scheduler: ReduceLROnPlateau: 100%|██████████| 44/44 [01:00<00:00,  1.39s/it, loss=0.757]\n",
      "Epoch 93/100 [VAL]: 100%|██████████| 20/20 [00:30<00:00,  1.51s/it, loss=0.712]\n"
     ]
    },
    {
     "name": "stdout",
     "output_type": "stream",
     "text": [
      "EarlyStopping counter: 60/100 (Best val_acc: 0.9842)\n",
      "\n",
      "Epoch 93/100 | LR: 1.45e-08 | Teach: 0.10 | Scheduler: ReduceLROnPlateau\n",
      "  Train Loss: 0.7223 | Train Char Acc: 0.9929\n",
      "  Val Loss: 0.7775   | Val Acc (CRR): 0.9834\n",
      "  Val Exact Match Acc (E2E RR): 0.9329\n",
      "----------------------------------------------------------------------\n"
     ]
    },
    {
     "name": "stderr",
     "output_type": "stream",
     "text": [
      "Epoch 94/100 [TRAIN] LR: 1.45e-08 Teach: 0.09 Scheduler: ReduceLROnPlateau:   2%|▏         | 1/44 [00:05<03:50,  5.35s/it, loss=0.715]"
     ]
    },
    {
     "name": "stdout",
     "output_type": "stream",
     "text": [
      "\n",
      "--- Training Batch 0 Examples (Content Only) ---\n",
      "  Pred: '6221EY'\n",
      "  True: '6221EY'\n",
      "  Pred: 'RU2627'\n",
      "  True: 'RU2627'\n",
      "  Pred: '7866KR'\n",
      "  True: '7866KR'\n",
      "  Pred: 'FL4063'\n",
      "  True: 'FL4063'\n",
      "  Pred: '3619DN'\n",
      "  True: '3619DN'\n",
      "-------------------------------\n"
     ]
    },
    {
     "name": "stderr",
     "output_type": "stream",
     "text": [
      "Epoch 94/100 [TRAIN] LR: 1.45e-08 Teach: 0.09 Scheduler: ReduceLROnPlateau: 100%|██████████| 44/44 [01:04<00:00,  1.46s/it, loss=0.74]\n",
      "Epoch 94/100 [VAL]: 100%|██████████| 20/20 [00:30<00:00,  1.50s/it, loss=0.712]\n"
     ]
    },
    {
     "name": "stdout",
     "output_type": "stream",
     "text": [
      "EarlyStopping counter: 61/100 (Best val_acc: 0.9842)\n",
      "\n",
      "Epoch 94/100 | LR: 1.45e-08 | Teach: 0.09 | Scheduler: ReduceLROnPlateau\n",
      "  Train Loss: 0.7252 | Train Char Acc: 0.9916\n",
      "  Val Loss: 0.7776   | Val Acc (CRR): 0.9834\n",
      "  Val Exact Match Acc (E2E RR): 0.9329\n",
      "----------------------------------------------------------------------\n"
     ]
    },
    {
     "name": "stderr",
     "output_type": "stream",
     "text": [
      "Epoch 95/100 [TRAIN] LR: 1.45e-08 Teach: 0.08 Scheduler: ReduceLROnPlateau:   2%|▏         | 1/44 [00:06<04:41,  6.54s/it, loss=0.718]"
     ]
    },
    {
     "name": "stdout",
     "output_type": "stream",
     "text": [
      "\n",
      "--- Training Batch 0 Examples (Content Only) ---\n",
      "  Pred: '9L0549'\n",
      "  True: '9L0549'\n",
      "  Pred: '5385EL'\n",
      "  True: '5385EL'\n",
      "  Pred: '2170EM'\n",
      "  True: '2170EM'\n",
      "  Pred: '0265AA'\n",
      "  True: '0265AA'\n",
      "  Pred: '3316JT'\n",
      "  True: '3316JT'\n",
      "-------------------------------\n"
     ]
    },
    {
     "name": "stderr",
     "output_type": "stream",
     "text": [
      "Epoch 95/100 [TRAIN] LR: 1.45e-08 Teach: 0.08 Scheduler: ReduceLROnPlateau: 100%|██████████| 44/44 [01:02<00:00,  1.43s/it, loss=0.709]\n",
      "Epoch 95/100 [VAL]: 100%|██████████| 20/20 [00:30<00:00,  1.52s/it, loss=0.712]\n"
     ]
    },
    {
     "name": "stdout",
     "output_type": "stream",
     "text": [
      "EarlyStopping counter: 62/100 (Best val_acc: 0.9842)\n",
      "\n",
      "Epoch 95/100 | LR: 1.45e-08 | Teach: 0.08 | Scheduler: ReduceLROnPlateau\n",
      "  Train Loss: 0.7182 | Train Char Acc: 0.9942\n",
      "  Val Loss: 0.7779   | Val Acc (CRR): 0.9834\n",
      "  Val Exact Match Acc (E2E RR): 0.9329\n",
      "----------------------------------------------------------------------\n"
     ]
    },
    {
     "name": "stderr",
     "output_type": "stream",
     "text": [
      "Epoch 96/100 [TRAIN] LR: 1.45e-08 Teach: 0.08 Scheduler: ReduceLROnPlateau:   2%|▏         | 1/44 [00:05<04:09,  5.79s/it, loss=0.717]"
     ]
    },
    {
     "name": "stdout",
     "output_type": "stream",
     "text": [
      "\n",
      "--- Training Batch 0 Examples (Content Only) ---\n",
      "  Pred: '9825YY'\n",
      "  True: '9825YY'\n",
      "  Pred: '5216GM'\n",
      "  True: '5216GM'\n",
      "  Pred: '3926TU'\n",
      "  True: '3926TU'\n",
      "  Pred: '7526FS'\n",
      "  True: '7526FS'\n",
      "  Pred: 'UR5216'\n",
      "  True: 'UR5216'\n",
      "-------------------------------\n"
     ]
    },
    {
     "name": "stderr",
     "output_type": "stream",
     "text": [
      "Epoch 96/100 [TRAIN] LR: 1.45e-08 Teach: 0.08 Scheduler: ReduceLROnPlateau: 100%|██████████| 44/44 [01:03<00:00,  1.43s/it, loss=0.752]\n",
      "Epoch 96/100 [VAL]: 100%|██████████| 20/20 [00:30<00:00,  1.51s/it, loss=0.712]\n"
     ]
    },
    {
     "name": "stdout",
     "output_type": "stream",
     "text": [
      "EarlyStopping counter: 63/100 (Best val_acc: 0.9842)\n",
      "\n",
      "Epoch 96/100 | LR: 1.45e-08 | Teach: 0.08 | Scheduler: ReduceLROnPlateau\n",
      "  Train Loss: 0.7256 | Train Char Acc: 0.9908\n",
      "  Val Loss: 0.7776   | Val Acc (CRR): 0.9834\n",
      "  Val Exact Match Acc (E2E RR): 0.9329\n",
      "----------------------------------------------------------------------\n"
     ]
    },
    {
     "name": "stderr",
     "output_type": "stream",
     "text": [
      "Epoch 97/100 [TRAIN] LR: 1.45e-08 Teach: 0.07 Scheduler: ReduceLROnPlateau:   2%|▏         | 1/44 [00:05<04:07,  5.76s/it, loss=0.718]"
     ]
    },
    {
     "name": "stdout",
     "output_type": "stream",
     "text": [
      "\n",
      "--- Training Batch 0 Examples (Content Only) ---\n",
      "  Pred: '8728QE'\n",
      "  True: '8728QE'\n",
      "  Pred: '2N9379'\n",
      "  True: '2N9379'\n",
      "  Pred: 'B40913'\n",
      "  True: 'B40913'\n",
      "  Pred: 'C46881'\n",
      "  True: 'C46881'\n",
      "  Pred: 'DZ3456'\n",
      "  True: 'DZ3456'\n",
      "-------------------------------\n"
     ]
    },
    {
     "name": "stderr",
     "output_type": "stream",
     "text": [
      "Epoch 97/100 [TRAIN] LR: 1.45e-08 Teach: 0.07 Scheduler: ReduceLROnPlateau: 100%|██████████| 44/44 [01:01<00:00,  1.41s/it, loss=0.731]\n",
      "Epoch 97/100 [VAL]: 100%|██████████| 20/20 [00:30<00:00,  1.50s/it, loss=0.712]\n"
     ]
    },
    {
     "name": "stdout",
     "output_type": "stream",
     "text": [
      "EarlyStopping counter: 64/100 (Best val_acc: 0.9842)\n",
      "\n",
      "Epoch 97/100 | LR: 1.45e-08 | Teach: 0.07 | Scheduler: ReduceLROnPlateau\n",
      "  Train Loss: 0.7253 | Train Char Acc: 0.9914\n",
      "  Val Loss: 0.7778   | Val Acc (CRR): 0.9834\n",
      "  Val Exact Match Acc (E2E RR): 0.9329\n",
      "----------------------------------------------------------------------\n"
     ]
    },
    {
     "name": "stderr",
     "output_type": "stream",
     "text": [
      "Epoch 98/100 [TRAIN] LR: 1.45e-08 Teach: 0.06 Scheduler: ReduceLROnPlateau:   2%|▏         | 1/44 [00:06<05:00,  6.98s/it, loss=0.74]"
     ]
    },
    {
     "name": "stdout",
     "output_type": "stream",
     "text": [
      "\n",
      "--- Training Batch 0 Examples (Content Only) ---\n",
      "  Pred: '1692B6'\n",
      "  True: '1692B6'\n",
      "  Pred: 'LE1187'\n",
      "  True: 'LE1187'\n",
      "  Pred: '0265AA'\n",
      "  True: '0265AA'\n",
      "  Pred: '8D7829'\n",
      "  True: '8D7829'\n",
      "  Pred: 'UT7118'\n",
      "  True: 'UT7118'\n",
      "-------------------------------\n"
     ]
    },
    {
     "name": "stderr",
     "output_type": "stream",
     "text": [
      "Epoch 98/100 [TRAIN] LR: 1.45e-08 Teach: 0.06 Scheduler: ReduceLROnPlateau: 100%|██████████| 44/44 [01:03<00:00,  1.44s/it, loss=0.773]\n",
      "Epoch 98/100 [VAL]: 100%|██████████| 20/20 [00:30<00:00,  1.51s/it, loss=0.712]\n"
     ]
    },
    {
     "name": "stdout",
     "output_type": "stream",
     "text": [
      "EarlyStopping counter: 65/100 (Best val_acc: 0.9842)\n",
      "\n",
      "Epoch 98/100 | LR: 1.45e-08 | Teach: 0.06 | Scheduler: ReduceLROnPlateau\n",
      "  Train Loss: 0.7287 | Train Char Acc: 0.9902\n",
      "  Val Loss: 0.7775   | Val Acc (CRR): 0.9834\n",
      "  Val Exact Match Acc (E2E RR): 0.9329\n",
      "----------------------------------------------------------------------\n"
     ]
    },
    {
     "name": "stderr",
     "output_type": "stream",
     "text": [
      "Epoch 99/100 [TRAIN] LR: 1.45e-08 Teach: 0.06 Scheduler: ReduceLROnPlateau:   2%|▏         | 1/44 [00:05<04:15,  5.95s/it, loss=0.708]"
     ]
    },
    {
     "name": "stdout",
     "output_type": "stream",
     "text": [
      "\n",
      "--- Training Batch 0 Examples (Content Only) ---\n",
      "  Pred: '9889DN'\n",
      "  True: '9889DN'\n",
      "  Pred: '2900QK'\n",
      "  True: '2900QK'\n",
      "  Pred: '0901VF'\n",
      "  True: '0901VF'\n",
      "  Pred: 'ZN9120'\n",
      "  True: 'ZN9120'\n",
      "  Pred: '0397EV'\n",
      "  True: '0397EV'\n",
      "-------------------------------\n"
     ]
    },
    {
     "name": "stderr",
     "output_type": "stream",
     "text": [
      "Epoch 99/100 [TRAIN] LR: 1.45e-08 Teach: 0.06 Scheduler: ReduceLROnPlateau: 100%|██████████| 44/44 [01:00<00:00,  1.37s/it, loss=0.707]\n",
      "Epoch 99/100 [VAL]: 100%|██████████| 20/20 [00:30<00:00,  1.51s/it, loss=0.712]\n"
     ]
    },
    {
     "name": "stdout",
     "output_type": "stream",
     "text": [
      "EarlyStopping counter: 66/100 (Best val_acc: 0.9842)\n",
      "\n",
      "Epoch 99/100 | LR: 1.45e-08 | Teach: 0.06 | Scheduler: ReduceLROnPlateau\n",
      "  Train Loss: 0.7196 | Train Char Acc: 0.9934\n",
      "  Val Loss: 0.7777   | Val Acc (CRR): 0.9834\n",
      "  Val Exact Match Acc (E2E RR): 0.9329\n",
      "----------------------------------------------------------------------\n"
     ]
    },
    {
     "name": "stderr",
     "output_type": "stream",
     "text": [
      "Epoch 100/100 [TRAIN] LR: 1.45e-08 Teach: 0.05 Scheduler: ReduceLROnPlateau:   2%|▏         | 1/44 [00:06<04:38,  6.48s/it, loss=0.707]"
     ]
    },
    {
     "name": "stdout",
     "output_type": "stream",
     "text": [
      "\n",
      "--- Training Batch 0 Examples (Content Only) ---\n",
      "  Pred: 'S61593'\n",
      "  True: 'S61593'\n",
      "  Pred: '8857HJ'\n",
      "  True: '8857HJ'\n",
      "  Pred: 'RM5635'\n",
      "  True: 'RM5635'\n",
      "  Pred: '0751QL'\n",
      "  True: '0751QL'\n",
      "  Pred: '5256EH'\n",
      "  True: '5256EH'\n",
      "-------------------------------\n"
     ]
    },
    {
     "name": "stderr",
     "output_type": "stream",
     "text": [
      "Epoch 100/100 [TRAIN] LR: 1.45e-08 Teach: 0.05 Scheduler: ReduceLROnPlateau: 100%|██████████| 44/44 [01:01<00:00,  1.40s/it, loss=0.716]\n",
      "Epoch 100/100 [VAL]: 100%|██████████| 20/20 [00:30<00:00,  1.54s/it, loss=0.712]\n"
     ]
    },
    {
     "name": "stdout",
     "output_type": "stream",
     "text": [
      "EarlyStopping counter: 67/100 (Best val_acc: 0.9842)\n",
      "\n",
      "Epoch 100/100 | LR: 1.45e-08 | Teach: 0.05 | Scheduler: ReduceLROnPlateau\n",
      "  Train Loss: 0.7194 | Train Char Acc: 0.9936\n",
      "  Val Loss: 0.7777   | Val Acc (CRR): 0.9834\n",
      "  Val Exact Match Acc (E2E RR): 0.9329\n",
      "----------------------------------------------------------------------\n",
      "\n",
      "Training completed!\n",
      "Final val accuracy (Greedy Character Level): 0.9834\n",
      "Final val accuracy (Constrained Length Exact Match): 0.9329\n"
     ]
    },
    {
     "data": {
      "image/png": "[encoded data removed]",
      "text/plain": [
       "<Figure size 1800x1200 with 2 Axes>"
      ]
     },
     "metadata": {},
     "output_type": "display_data"
    },
    {
     "name": "stdout",
     "output_type": "stream",
     "text": [
      "Saved plots to performance_plots.png\n"
     ]
    }
   ],
   "source": [
    "import torch\n",
    "import torch.nn as nn\n",
    "from ultralytics import YOLO\n",
    "from torch.nn import MultiheadAttention\n",
    "from torchvision import transforms\n",
    "from PIL import Image\n",
    "import random\n",
    "import os\n",
    "from torch.utils.data import Dataset, DataLoader, Sampler, Subset, SubsetRandomSampler\n",
    "import numpy as np\n",
    "from tqdm import tqdm\n",
    "import matplotlib.pyplot as plt\n",
    "from torchtoolbox.tools import mixup_data, mixup_criterion\n",
    "\n",
    "#--- Constants ---\n",
    "CHARACTERS = '0123456789ABCDEFGHIJKLMNOPQRSTUVWXYZ'\n",
    "SOS_TOKEN = 36\n",
    "EOS_TOKEN = 37\n",
    "PAD_TOKEN = len(CHARACTERS) + 2\n",
    "NUM_CLASSES = len(CHARACTERS) + 3  # SOS, EOS, PAD\n",
    "DEVICE = 'cuda' if torch.cuda.is_available() else 'cpu'\n",
    "\n",
    "#--- Utility functions ---\n",
    "def index_to_char(indices, include_special_tokens=False):\n",
    "    result = []\n",
    "    for i in indices:\n",
    "        i = i.item() if torch.is_tensor(i) else i\n",
    "        if i == SOS_TOKEN:\n",
    "            if include_special_tokens: result.append('[SOS]')\n",
    "        elif i == EOS_TOKEN:\n",
    "            if include_special_tokens: result.append('[EOS]')\n",
    "            break\n",
    "        elif 0 <= i < len(CHARACTERS):\n",
    "            result.append(CHARACTERS[i])\n",
    "        else:\n",
    "            if include_special_tokens or i not in [SOS_TOKEN, EOS_TOKEN]:\n",
    "                result.append(f'[UNK_{i}]')\n",
    "    return ''.join(result)\n",
    "\n",
    "def char_to_indices(text):\n",
    "    indices = [SOS_TOKEN]\n",
    "    for c in text:\n",
    "        if c in CHARACTERS:\n",
    "            indices.append(CHARACTERS.index(c))\n",
    "    indices.append(EOS_TOKEN)\n",
    "    return torch.tensor(indices, dtype=torch.long)\n",
    "\n",
    "#--- YOLO wrapper ---\n",
    "class YoloBackbone(nn.Module):\n",
    "    def __init__(self, model_path, target_feature_layer_index=9):\n",
    "        super().__init__()\n",
    "        _temp_yolo_instance = YOLO(model_path)\n",
    "        self.yolo_detection_model = _temp_yolo_instance.model\n",
    "        self.yolo_detection_model.to(DEVICE)\n",
    "        self.target_feature_layer_index = target_feature_layer_index\n",
    "\n",
    "        for name, param in self.yolo_detection_model.named_parameters():\n",
    "            param.requires_grad = True\n",
    "        \n",
    "        self._hook_handle = None\n",
    "        self._fmap_out_hook = []\n",
    "        \n",
    "        self._register_hook()\n",
    "\n",
    "    def _hook_fn_extractor(self, module, input_val, output_val):\n",
    "        if isinstance(output_val, torch.Tensor):\n",
    "            self._fmap_out_hook.append(output_val)\n",
    "        elif isinstance(output_val, (list, tuple)):\n",
    "            for item in output_val:\n",
    "                if isinstance(item, torch.Tensor):\n",
    "                    self._fmap_out_hook.append(item)\n",
    "                    break\n",
    "\n",
    "    def _register_hook(self):\n",
    "        layer_to_hook = self.yolo_detection_model.model[self.target_feature_layer_index]\n",
    "        self._hook_handle = layer_to_hook.register_forward_hook(self._hook_fn_extractor)\n",
    "\n",
    "    def _remove_hook(self):\n",
    "        if self._hook_handle:\n",
    "            self._hook_handle.remove()\n",
    "            self._hook_handle = None\n",
    "\n",
    "    def forward(self, x):\n",
    "        self._fmap_out_hook.clear()\n",
    "        _ = self.yolo_detection_model(x)\n",
    "        out_tensor = self._fmap_out_hook[0]\n",
    "        return out_tensor if out_tensor.dim() == 4 else out_tensor.unsqueeze(0)\n",
    "\n",
    "#--- Simplified RViT ---\n",
    "class RViT(nn.Module):\n",
    "    def __init__(self, yolo_channels=256, d_model=512, num_patches=1600, n_heads=8, num_encoder_layers=3, dim_feedforward=2048, dropout_rate=0.3):\n",
    "        super().__init__()\n",
    "        self.d_model = d_model\n",
    "        self.proj = nn.Sequential(\n",
    "            nn.Conv2d(yolo_channels, d_model, kernel_size=3, padding=1),\n",
    "            nn.BatchNorm2d(d_model),\n",
    "            nn.ReLU(),\n",
    "            nn.Dropout2d(dropout_rate if dropout_rate > 0 else 0)\n",
    "        )\n",
    "        encoder_layer = nn.TransformerEncoderLayer(\n",
    "            d_model=d_model, nhead=n_heads, dim_feedforward=dim_feedforward,\n",
    "            dropout=dropout_rate, batch_first=True, norm_first=True\n",
    "        )\n",
    "        self.encoder = nn.TransformerEncoder(encoder_layer, num_layers=num_encoder_layers)\n",
    "\n",
    "        self.pos_embed = nn.Parameter(torch.randn(1, num_patches + 1, d_model))\n",
    "        self.region_q = nn.Parameter(torch.zeros(1, 1, d_model))\n",
    "        \n",
    "        self.embed = nn.Embedding(NUM_CLASSES, d_model)\n",
    "        self.gru_num_layers = 1\n",
    "        self.gru = nn.GRU(d_model, d_model, num_layers=self.gru_num_layers, batch_first=True,\n",
    "                          dropout=dropout_rate if self.gru_num_layers > 1 else 0)\n",
    "        self.attn = MultiheadAttention(d_model, num_heads=n_heads, batch_first=True, dropout=dropout_rate)\n",
    "        self.fc = nn.Sequential(\n",
    "            nn.Dropout(dropout_rate if dropout_rate > 0 else 0),\n",
    "            nn.Linear(2 * d_model, NUM_CLASSES)\n",
    "        )\n",
    "\n",
    "    def forward(self, fmap, target=None, teach_ratio=0.5, forced_output_length=None):\n",
    "        b = fmap.size(0)\n",
    "        x = self.proj(fmap)\n",
    "        x = x.flatten(2).permute(0, 2, 1)\n",
    "\n",
    "        current_num_patches = x.size(1)\n",
    "        expected_pos_embed_len = current_num_patches + 1\n",
    "        \n",
    "        if self.pos_embed.size(1) != expected_pos_embed_len:\n",
    "            if self.pos_embed.size(1) > expected_pos_embed_len:\n",
    "                pos_embed_to_add = self.pos_embed[:, :expected_pos_embed_len, :]\n",
    "            else:\n",
    "                raise ValueError(f\"RViT pos_embed second dim {self.pos_embed.size(1)} is smaller than required {expected_pos_embed_len}\")\n",
    "        else:\n",
    "            pos_embed_to_add = self.pos_embed\n",
    "\n",
    "        q = self.region_q.expand(b, -1, -1)\n",
    "        x = torch.cat([q, x], dim=1)\n",
    "        x = x + pos_embed_to_add\n",
    "\n",
    "        enc = self.encoder(x)\n",
    "        region_feat, spatial_feats = enc[:, 0], enc[:, 1:]\n",
    "        \n",
    "        if forced_output_length is not None:\n",
    "            max_gen_len = forced_output_length\n",
    "        elif target is not None:\n",
    "            max_gen_len = target.size(1) - 1\n",
    "        else:\n",
    "            max_gen_len = MAX_SEQ_LENGTH - 1\n",
    "\n",
    "        h = region_feat.unsqueeze(0).contiguous()\n",
    "        current_input_tokens = torch.full((b,), SOS_TOKEN, device=DEVICE, dtype=torch.long)\n",
    "        outputs_logits = []\n",
    "\n",
    "        finished_sequences_tracker = None\n",
    "        if target is None and forced_output_length is None:\n",
    "            finished_sequences_tracker = torch.zeros(b, dtype=torch.bool, device=DEVICE)\n",
    "            \n",
    "        for t in range(max_gen_len):\n",
    "            emb = self.embed(current_input_tokens).unsqueeze(1)\n",
    "            g, h = self.gru(emb, h)\n",
    "            a, _ = self.attn(g, spatial_feats, spatial_feats)\n",
    "            comb = torch.cat([g.squeeze(1), a.squeeze(1)], dim=-1)\n",
    "            logits_step = self.fc(comb)\n",
    "            outputs_logits.append(logits_step)\n",
    "\n",
    "            if target is not None and random.random() < teach_ratio:\n",
    "                next_input_candidate = target[:, t + 1]\n",
    "            else:\n",
    "                next_input_candidate = logits_step.argmax(-1)\n",
    "\n",
    "            if finished_sequences_tracker is not None:\n",
    "                eos_predicted_this_step = (next_input_candidate == EOS_TOKEN)\n",
    "                finished_sequences_tracker |= eos_predicted_this_step\n",
    "                current_input_tokens = torch.where(finished_sequences_tracker,\n",
    "                                                 torch.tensor(EOS_TOKEN, device=DEVICE, dtype=torch.long),\n",
    "                                                 next_input_candidate)\n",
    "                if finished_sequences_tracker.all():\n",
    "                    break\n",
    "            else:\n",
    "                current_input_tokens = next_input_candidate\n",
    "        \n",
    "        return torch.stack(outputs_logits, dim=1)\n",
    "\n",
    "#--- Full model (YOLO_RViT) ---\n",
    "class YOLO_RViT(nn.Module):\n",
    "    def __init__(self, yolo_path, yolo_target_feature_layer_idx=9):\n",
    "        super().__init__()\n",
    "        self.backbone = YoloBackbone(yolo_path, target_feature_layer_index=yolo_target_feature_layer_idx)\n",
    "        dummy_input = torch.randn(1, 3, 640, 640).to(DEVICE)\n",
    "        \n",
    "        original_backbone_training_mode = self.backbone.training\n",
    "        with torch.no_grad():\n",
    "            dummy_feats = self.backbone(dummy_input)\n",
    "        \n",
    "        yolo_channels = dummy_feats.shape[1]\n",
    "        h_feat, w_feat = dummy_feats.shape[2], dummy_feats.shape[3]\n",
    "        num_patches = h_feat * w_feat\n",
    "        \n",
    "        self.rvit = RViT(yolo_channels=yolo_channels, num_patches=num_patches).to(DEVICE)\n",
    "\n",
    "    def forward(self, x, target=None, teach_ratio=0.5, forced_output_length=None):\n",
    "        x = x.to(DEVICE)\n",
    "        feats = self.backbone(x)\n",
    "        return self.rvit(feats, target, teach_ratio, forced_output_length)\n",
    "\n",
    "    def train(self, mode: bool = True):\n",
    "        super().train(mode)\n",
    "        self.rvit.train(mode)\n",
    "        self.backbone.train(mode)\n",
    "        return self\n",
    "\n",
    "    def eval(self):\n",
    "        super().eval()\n",
    "        self.rvit.eval()\n",
    "        self.backbone.eval()\n",
    "        return self\n",
    "\n",
    "#--- Dataset ---\n",
    "class LicensePlateDataset(Dataset):\n",
    "    def __init__(self, img_dir, license_dir, max_seq_length=15, is_train=True):\n",
    "        self.img_dir = img_dir\n",
    "        self.license_dir = license_dir\n",
    "        self.max_seq_length = max_seq_length\n",
    "        self.img_names = [f for f in os.listdir(self.img_dir) if f.endswith(('.jpg'))]\n",
    "        if is_train:\n",
    "            self.transform = transforms.Compose([\n",
    "                transforms.Resize((640, 640)),\n",
    "                transforms.RandomApply([\n",
    "                    transforms.RandomRotation(10),\n",
    "                    transforms.RandomAffine(degrees=8, translate=(0.03, 0.03), scale=(0.95, 1.05)),\n",
    "                    transforms.RandomPerspective(distortion_scale=0.05, p=0.3),\n",
    "                ], p=0.7),\n",
    "                transforms.ColorJitter(brightness=0.2, contrast=0.2, saturation=0.2, hue=0.05),\n",
    "                transforms.RandomApply([transforms.GaussianBlur(kernel_size=3, sigma=(0.1, 1.0))], p=0.25),\n",
    "                transforms.ToTensor(),\n",
    "                transforms.RandomErasing(p=0.2, scale=(0.01, 0.04), ratio=(0.3, 3.3)),\n",
    "                transforms.Normalize(mean=[0.485, 0.456, 0.406], std=[0.229, 0.224, 0.225])\n",
    "            ])\n",
    "        else:\n",
    "            self.transform = transforms.Compose([\n",
    "                transforms.Resize((640, 640)),\n",
    "                transforms.ToTensor(),\n",
    "                transforms.Normalize(mean=[0.485, 0.456, 0.406], std=[0.229, 0.224, 0.225])\n",
    "            ])\n",
    "            \n",
    "    def __len__(self):\n",
    "        return len(self.img_names)\n",
    "\n",
    "    def __getitem__(self, idx):\n",
    "        img_path = os.path.join(self.img_dir, self.img_names[idx])\n",
    "        img = Image.open(img_path).convert(\"RGB\")\n",
    "        img_tensor = self.transform(img)\n",
    "        \n",
    "        license_filename = os.path.splitext(self.img_names[idx])[0] + \".txt\"\n",
    "        license_path = os.path.join(self.license_dir, license_filename)\n",
    "        try:\n",
    "            with open(license_path, 'r', encoding='utf-8') as f:\n",
    "                license_text = f.read().upper().strip()\n",
    "        except FileNotFoundError:\n",
    "            return img_tensor, torch.full((self.max_seq_length,), EOS_TOKEN, dtype=torch.long)\n",
    "\n",
    "        # print(f\"file: {self.img_names[idx]}, {license_text}\")\n",
    "        license_indices = char_to_indices(license_text)\n",
    "        target = torch.full((self.max_seq_length,), PAD_TOKEN, dtype=torch.long)\n",
    "        \n",
    "        actual_len = min(len(license_indices), self.max_seq_length)\n",
    "        target[:actual_len] = license_indices[:actual_len]\n",
    "        \n",
    "        return img_tensor, target\n",
    "\n",
    "\n",
    "    @staticmethod\n",
    "    def collate_fn(batch):\n",
    "        images = torch.stack([item[0] for item in batch])\n",
    "        targets = torch.stack([item[1] for item in batch])\n",
    "        return images, targets\n",
    "\n",
    "#--- Early Stopping ---\n",
    "class EarlyStopping:\n",
    "    def __init__(self, patience=10, min_delta=0.0, monitor_metric='val_acc', mode='max', verbose=True):\n",
    "        self.patience = patience\n",
    "        self.min_delta = min_delta\n",
    "        self.monitor_metric = monitor_metric\n",
    "        self.mode = mode\n",
    "        self.verbose = verbose\n",
    "\n",
    "        if self.mode == 'min':\n",
    "            self.best_metric_val = np.Inf\n",
    "        else:\n",
    "            self.best_metric_val = -np.Inf\n",
    "        self.counter = 0\n",
    "        self.early_stop = False\n",
    "\n",
    "    def __call__(self, current_metric_val):\n",
    "        improved = False\n",
    "        if self.mode == 'min':\n",
    "            if current_metric_val < self.best_metric_val - self.min_delta:\n",
    "                self.best_metric_val = current_metric_val\n",
    "                improved = True\n",
    "        else:\n",
    "            if current_metric_val > self.best_metric_val + self.min_delta:\n",
    "                self.best_metric_val = current_metric_val\n",
    "                improved = True\n",
    "        \n",
    "        if improved:\n",
    "            self.counter = 0\n",
    "            if self.verbose:\n",
    "                print(f\"EarlyStopping: New best {self.monitor_metric}: {self.best_metric_val:.4f}\")\n",
    "        else:\n",
    "            self.counter += 1\n",
    "\n",
    "        if self.verbose and self.counter > 0 and not improved:\n",
    "            print(f\"EarlyStopping counter: {self.counter}/{self.patience} (Best {self.monitor_metric}: {self.best_metric_val:.4f})\")\n",
    "        if self.counter >= self.patience:\n",
    "            self.early_stop = True\n",
    "            if self.verbose:\n",
    "                print(f\"Early stopping triggered for {self.monitor_metric}.\")\n",
    "        return self.counter\n",
    "\n",
    "#--- Training ---\n",
    "YOLO_MODEL_PATH = '/kaggle/input/m/thitenguyen/yolov11s/pytorch/default/1/best.pt'\n",
    "YOLO_TARGET_FEATURE_LAYER_INDEX = 13\n",
    "\n",
    "IMG_DIR_TRAIN = \"/kaggle/input/aolp-rp-dataset/AOLP_RP/train/image\"\n",
    "LICENSE_DIR_TRAIN = \"/kaggle/input/aolp-rp-dataset/AOLP_RP/train/text\"\n",
    "IMG_DIR_VAL = \"/kaggle/input/aolp-rp-dataset/AOLP_RP/val/image\"\n",
    "LICENSE_DIR_VAL = \"/kaggle/input/aolp-rp-dataset/AOLP_RP/val/text\"\n",
    "\n",
    "MAX_SEQ_LENGTH = 15\n",
    "BATCH_SIZE = 32\n",
    "NUM_WORKERS = 4\n",
    "LEARNING_RATE = 5e-5\n",
    "MAX_LR_SCHEDULER = 5e-4\n",
    "WEIGHT_DECAY = 5e-5\n",
    "NUM_EPOCHS = 100\n",
    "ACCUM_STEPS = 2\n",
    "PATIENCE_EARLY_STOP = 100\n",
    "TEACH_RATIO_START = 0.7\n",
    "TEACH_RATIO_END = 0.05\n",
    "LABEL_SMOOTHING = 0.1\n",
    "\n",
    "scaler = torch.amp.GradScaler(DEVICE)\n",
    "autocast_context = lambda: torch.amp.autocast(DEVICE)\n",
    "\n",
    "train_dataset_full = LicensePlateDataset(img_dir=IMG_DIR_TRAIN, license_dir=LICENSE_DIR_TRAIN, max_seq_length=MAX_SEQ_LENGTH, is_train=True)\n",
    "val_dataset = LicensePlateDataset(img_dir=IMG_DIR_VAL, license_dir=LICENSE_DIR_VAL, max_seq_length=MAX_SEQ_LENGTH, is_train=False)\n",
    "\n",
    "train_dataloader = DataLoader(train_dataset_full, batch_size=BATCH_SIZE, shuffle=True, num_workers=NUM_WORKERS, collate_fn=LicensePlateDataset.collate_fn, pin_memory=(DEVICE == 'cuda'), drop_last=True)\n",
    "val_dataloader = DataLoader(val_dataset, batch_size=BATCH_SIZE, shuffle=False, num_workers=NUM_WORKERS, collate_fn=LicensePlateDataset.collate_fn, pin_memory=(DEVICE == 'cuda'))\n",
    "\n",
    "model = YOLO_RViT(YOLO_MODEL_PATH, yolo_target_feature_layer_idx=YOLO_TARGET_FEATURE_LAYER_INDEX).to(DEVICE)\n",
    "\n",
    "optimizer = torch.optim.AdamW(\n",
    "    model.parameters(),\n",
    "    lr=LEARNING_RATE,\n",
    "    weight_decay=WEIGHT_DECAY\n",
    ")\n",
    "\n",
    "scheduler = torch.optim.lr_scheduler.OneCycleLR(\n",
    "    optimizer, max_lr=MAX_LR_SCHEDULER,\n",
    "    epochs=NUM_EPOCHS,\n",
    "    steps_per_epoch=(len(train_dataloader) + ACCUM_STEPS - 1) // ACCUM_STEPS,\n",
    "    pct_start=0.2,\n",
    "    div_factor=(MAX_LR_SCHEDULER / LEARNING_RATE) if MAX_LR_SCHEDULER > LEARNING_RATE else 10.0\n",
    ")\n",
    "scheduler_type = \"OneCycleLR\"\n",
    "\n",
    "loss_fn = nn.CrossEntropyLoss(ignore_index=PAD_TOKEN, label_smoothing=LABEL_SMOOTHING)\n",
    "early_stopper = EarlyStopping(patience=PATIENCE_EARLY_STOP, min_delta=0.0005, monitor_metric='val_acc', mode='max', verbose=True)\n",
    "\n",
    "checkpoint = torch.load(\"/kaggle/input/yolo_rvt_aolp_rp47/pytorch/default/1/best_yolo_rvit_model47.pth\", map_location=DEVICE)\n",
    "model.load_state_dict(checkpoint['model_state_dict'])\n",
    "optimizer.load_state_dict(checkpoint['optimizer_state_dict'])\n",
    "\n",
    "train_loss_values, val_loss_values = [], []\n",
    "train_acc_values, val_acc_values, val_acc_constrained_values = [], [], []\n",
    "epoch_count_list = []\n",
    "best_val_acc = 0.0\n",
    "\n",
    "for epoch in range(NUM_EPOCHS):\n",
    "    epoch_count_list.append(epoch + 1)\n",
    "    model.train()\n",
    "    train_loss, train_correct, train_total_chars = 0, 0, 0\n",
    "\n",
    "    teach_ratio = TEACH_RATIO_START - (TEACH_RATIO_START - TEACH_RATIO_END) * (epoch / max(1, NUM_EPOCHS - 1))\n",
    "\n",
    "    optimizer.zero_grad()\n",
    "\n",
    "    pbar_train = tqdm(train_dataloader, desc=f\"Epoch {epoch+1}/{NUM_EPOCHS} [TRAIN] LR: {optimizer.param_groups[0]['lr']:.2e} Teach: {teach_ratio:.2f} Scheduler: {scheduler_type}\")\n",
    "    for batch_idx, (imgs, targets) in enumerate(pbar_train):\n",
    "        imgs, targets = imgs.to(DEVICE, non_blocking=True), targets.to(DEVICE, non_blocking=True)\n",
    "        \n",
    "        with autocast_context():\n",
    "            outputs = model(imgs, target=targets, teach_ratio=teach_ratio)\n",
    "            flat_outputs = outputs.reshape(-1, NUM_CLASSES)\n",
    "            flat_targets = targets[:, 1:].reshape(-1)\n",
    "            loss = loss_fn(flat_outputs, flat_targets)\n",
    "            loss = loss / ACCUM_STEPS\n",
    "            \n",
    "        scaler.scale(loss).backward()\n",
    "        \n",
    "        if (batch_idx + 1) % ACCUM_STEPS == 0 or (batch_idx + 1) == len(train_dataloader):\n",
    "            torch.nn.utils.clip_grad_norm_(filter(lambda p: p.requires_grad, model.parameters()), max_norm=1.0)\n",
    "            scaler.step(optimizer)\n",
    "            scaler.update()\n",
    "            optimizer.zero_grad()\n",
    "            if scheduler_type == \"OneCycleLR\":\n",
    "                scheduler.step()\n",
    "\n",
    "        train_loss += loss.item() * ACCUM_STEPS\n",
    "        with torch.no_grad():\n",
    "            preds = outputs.argmax(-1)\n",
    "            true_chars = targets[:, 1:]\n",
    "            for i in range(imgs.size(0)):\n",
    "                pred_seq_list_train = preds[i].tolist()\n",
    "                if EOS_TOKEN in pred_seq_list_train:\n",
    "                    pred_seq_list_train = pred_seq_list_train[:pred_seq_list_train.index(EOS_TOKEN)]\n",
    "                \n",
    "                true_seq_list_train = true_chars[i].tolist()\n",
    "                true_content_train = [x for x in true_seq_list_train if x not in [EOS_TOKEN, PAD_TOKEN]]\n",
    "                len_true_content_train = len(true_content_train)\n",
    "                \n",
    "                cmp_len = min(len(pred_seq_list_train), len_true_content_train)\n",
    "                if cmp_len > 0:\n",
    "                    train_correct += (torch.tensor(pred_seq_list_train[:cmp_len]) == torch.tensor(true_content_train[:cmp_len])).sum().item()\n",
    "                \n",
    "                train_total_chars += len_true_content_train\n",
    "\n",
    "            if batch_idx == 0 and epoch % 1 == 0 and imgs.size(0) > 0:\n",
    "                print(\"\\n--- Training Batch 0 Examples (Content Only) ---\")\n",
    "                for i in range(min(5, imgs.size(0))):\n",
    "                    pred_batch_i_list = preds[i].tolist()\n",
    "                    pred_example = index_to_char(pred_batch_i_list)\n",
    "                    true_batch_i_list = true_chars[i].tolist()\n",
    "                    true_example = index_to_char(true_batch_i_list)\n",
    "                    print(f\"  Pred: '{pred_example}'\")\n",
    "                    print(f\"  True: '{true_example}'\")\n",
    "                print(\"-------------------------------\")\n",
    "        \n",
    "        pbar_train.set_postfix(loss=loss.item() * ACCUM_STEPS)\n",
    "\n",
    "    avg_train_loss = train_loss / len(train_dataloader) if len(train_dataloader) > 0 else 0\n",
    "    avg_train_acc = train_correct / train_total_chars if train_total_chars > 0 else 0\n",
    "    train_loss_values.append(avg_train_loss)\n",
    "    train_acc_values.append(avg_train_acc)\n",
    "\n",
    "    # --- Validation Loop ---\n",
    "    model.eval()\n",
    "    val_loss, val_correct, val_total_chars, val_correct_constrained, val_total_sequences_constrained = 0, 0, 0, 0, 0\n",
    "    pbar_val = tqdm(val_dataloader, desc=f\"Epoch {epoch+1}/{NUM_EPOCHS} [VAL]\")\n",
    "    with torch.no_grad():\n",
    "        for imgs, targets in pbar_val:\n",
    "            imgs, targets = imgs.to(DEVICE, non_blocking=True), targets.to(DEVICE, non_blocking=True)\n",
    "            with autocast_context():\n",
    "                outputs = model(imgs, target=None, teach_ratio=0.0)\n",
    "                out_seq_len_val = outputs.size(1)\n",
    "                tgt_content_len_val = targets.size(1) - 1\n",
    "                if out_seq_len_val > tgt_content_len_val:\n",
    "                    outputs_for_loss_val = outputs[:, :tgt_content_len_val, :]\n",
    "                elif out_seq_len_val < tgt_content_len_val:\n",
    "                    padding_val_val = torch.zeros(outputs.size(0), tgt_content_len_val - out_seq_len_val, NUM_CLASSES, device=DEVICE)\n",
    "                    padding_val_val[:,:,PAD_TOKEN] = 1\n",
    "                    outputs_for_loss_val = torch.cat([outputs, padding_val_val], dim=1)\n",
    "                else:\n",
    "                    outputs_for_loss_val = outputs\n",
    "                flat_outputs_val = outputs_for_loss_val.reshape(-1, NUM_CLASSES)\n",
    "                flat_targets_val = targets[:, 1:].reshape(-1)\n",
    "                loss = loss_fn(flat_outputs_val, flat_targets_val)\n",
    "                \n",
    "            val_loss += loss.item()\n",
    "            preds_val = outputs_for_loss_val.argmax(-1)\n",
    "            true_chars_val = targets[:, 1:]\n",
    "            for i in range(imgs.size(0)):\n",
    "                pred_seq_val_list = preds_val[i].tolist()\n",
    "                if EOS_TOKEN in pred_seq_val_list:\n",
    "                    pred_seq_val_list = pred_seq_val_list[:pred_seq_val_list.index(EOS_TOKEN)]\n",
    "                \n",
    "                true_seq_val_list = true_chars_val[i].tolist()\n",
    "                true_content_val = [x for x in true_seq_val_list if x not in [EOS_TOKEN, PAD_TOKEN]]\n",
    "                len_true_content_val = len(true_content_val)\n",
    "\n",
    "                cmp_len_val = min(len(pred_seq_val_list), len_true_content_val)\n",
    "                if cmp_len_val > 0:\n",
    "                    val_correct += (torch.tensor(pred_seq_val_list[:cmp_len_val]) == torch.tensor(true_content_val[:cmp_len_val])).sum().item()\n",
    "                val_total_chars += len_true_content_val\n",
    "\n",
    "                if len_true_content_val > 0:\n",
    "                    with autocast_context():\n",
    "                        outputs_constrained_sample = model(imgs[i:i+1], target=None, teach_ratio=0.0, forced_output_length=len_true_content_val)\n",
    "                    preds_constrained_sample = outputs_constrained_sample.argmax(-1).squeeze(0).tolist()\n",
    "                    final_preds_constrained = []\n",
    "                    for tk_id in preds_constrained_sample:\n",
    "                        if tk_id == EOS_TOKEN:\n",
    "                            break\n",
    "                        final_preds_constrained.append(tk_id)\n",
    "                    if final_preds_constrained == true_content_val:\n",
    "                        val_correct_constrained += 1\n",
    "                val_total_sequences_constrained += 1\n",
    "            \n",
    "            pbar_val.set_postfix(loss=loss.item())\n",
    "\n",
    "    avg_val_loss = val_loss / len(val_dataloader) if len(val_dataloader) > 0 else 0\n",
    "    avg_val_acc = val_correct / val_total_chars if val_total_chars > 0 else 0\n",
    "    avg_val_acc_constrained = val_correct_constrained / val_total_sequences_constrained if val_total_sequences_constrained > 0 else 0\n",
    "    val_loss_values.append(avg_val_loss)\n",
    "    val_acc_values.append(avg_val_acc)\n",
    "    val_acc_constrained_values.append(avg_val_acc_constrained)\n",
    "    \n",
    "    # Chuyển sang ReduceLROnPlateau nếu val_acc chững lại\n",
    "    counter = early_stopper(avg_val_acc)\n",
    "    if counter >= 15 and scheduler_type == \"OneCycleLR\":\n",
    "        print(f\"Val Acc stalled for {PATIENCE_EARLY_STOP} epochs. Switching to ReduceLROnPlateau.\")\n",
    "        scheduler = torch.optim.lr_scheduler.ReduceLROnPlateau(optimizer, mode='max', factor=0.5, patience=2, verbose=True)\n",
    "        scheduler_type = \"ReduceLROnPlateau\"\n",
    "    \n",
    "    # Cập nhật scheduler\n",
    "    if scheduler_type == \"ReduceLROnPlateau\":\n",
    "        scheduler.step(avg_val_acc)\n",
    "\n",
    "    if early_stopper.early_stop:\n",
    "        print(f\"--> Early stopping at epoch {epoch+1}\")\n",
    "        break\n",
    "    \n",
    "    print(f\"\\nEpoch {epoch+1}/{NUM_EPOCHS} | LR: {optimizer.param_groups[0]['lr']:.2e} | Teach: {teach_ratio:.2f} | Scheduler: {scheduler_type}\")\n",
    "    print(f\"  Train Loss: {avg_train_loss:.4f} | Train Char Acc: {avg_train_acc:.4f}\")\n",
    "    print(f\"  Val Loss: {avg_val_loss:.4f}   | Val Acc (CRR): {avg_val_acc:.4f}\")\n",
    "    print(f\"  Val Exact Match Acc (E2E RR): {avg_val_acc_constrained:.4f}\")\n",
    "    print(\"-\" * 70)\n",
    "\n",
    "    checkpoint_path = f\"yolo_rvit_model_epoch_{epoch + 1}.pth\"\n",
    "\n",
    "    if avg_val_acc > best_val_acc:\n",
    "        best_val_acc = avg_val_acc\n",
    "        print(f\"*** New best validation accuracy: {best_val_acc:.4f}. Saving best_model.pth ***\")\n",
    "        torch.save({\n",
    "            'epoch': epoch,\n",
    "            'model_state_dict': model.state_dict(),\n",
    "            'optimizer_state_dict': optimizer.state_dict(),\n",
    "            'scheduler_state_dict': scheduler.state_dict(),\n",
    "            'val_loss': avg_val_loss,\n",
    "            'val_acc': avg_val_acc,\n",
    "            'val_acc_constrained': avg_val_acc_constrained,\n",
    "        }, \"best_yolo_rvit_model.pth\")\n",
    "\n",
    "final_epoch_val = epoch if 'epoch' in locals() and epoch is not None else NUM_EPOCHS - 1\n",
    "torch.save({\n",
    "    'epoch': final_epoch_val,\n",
    "    'model_state_dict': model.state_dict(),\n",
    "    'optimizer_state_dict': optimizer.state_dict(),\n",
    "    'scheduler_state_dict': scheduler.state_dict(),\n",
    "    'train_loss_history': train_loss_values,\n",
    "    'val_loss_history': val_loss_values,\n",
    "    'train_acc_history': train_acc_values,\n",
    "    'val_acc_history': val_acc_values,\n",
    "    'val_acc_constrained_history': val_acc_constrained_values,\n",
    "}, \"final_yolo_rvit_model.pth\")\n",
    "\n",
    "print(\"\\nTraining completed!\")\n",
    "if val_acc_values:\n",
    "    print(f\"Final val accuracy (Greedy Character Level): {val_acc_values[-1]:.4f}\")\n",
    "if val_acc_constrained_values:\n",
    "    print(f\"Final val accuracy (Constrained Length Exact Match): {val_acc_constrained_values[-1]:.4f}\")\n",
    "\n",
    "# Plotting\n",
    "plt.figure(figsize=(18, 12))\n",
    "plt.subplot(2, 2, 1)\n",
    "plt.plot(epoch_count_list, train_loss_values, label='Train Loss', marker='o', linestyle='-')\n",
    "plt.plot(epoch_count_list, val_loss_values, label='Validation Loss', marker='s', linestyle='--')\n",
    "plt.title('Loss Curves')\n",
    "plt.xlabel('Epochs')\n",
    "plt.ylabel('Loss')\n",
    "plt.legend()\n",
    "plt.grid(True)\n",
    "\n",
    "plt.subplot(2, 2, 2)\n",
    "plt.plot(epoch_count_list, train_acc_values, label='Train Char Accuracy', marker='o', linestyle='-')\n",
    "plt.plot(epoch_count_list, val_acc_values, label='Validation Char Accuracy (Greedy)', marker='s', linestyle='--')\n",
    "plt.title('Character Accuracy')\n",
    "plt.xlabel('Epochs')\n",
    "plt.ylabel('Character Accuracy')\n",
    "plt.legend()\n",
    "plt.grid(True)\n",
    "\n",
    "plt.tight_layout()\n",
    "plt.savefig(\"performance_plots.png\")\n",
    "plt.show()\n",
    "print(\"Saved plots to performance_plots.png\")"
   ]
  }
 ],
 "metadata": {
  "kaggle": {
   "accelerator": "nvidiaTeslaT4",
   "dataSources": [
    {
     "datasetId": 4072694,
     "sourceId": 7073289,
     "sourceType": "datasetVersion"
    },
    {
     "datasetId": 7283240,
     "sourceId": 11903981,
     "sourceType": "datasetVersion"
    },
    {
     "datasetId": 7973485,
     "sourceId": 12855594,
     "sourceType": "datasetVersion"
    },
    {
     "datasetId": 7973472,
     "sourceId": 12855605,
     "sourceType": "datasetVersion"
    },
    {
     "datasetId": 7973494,
     "sourceId": 12856063,
     "sourceType": "datasetVersion"
    },
    {
     "modelId": 357248,
     "modelInstanceId": 336244,
     "sourceId": 411841,
     "sourceType": "modelInstanceVersion"
    },
    {
     "modelId": 357250,
     "modelInstanceId": 336246,
     "sourceId": 411843,
     "sourceType": "modelInstanceVersion"
    },
    {
     "modelId": 357253,
     "modelInstanceId": 336249,
     "sourceId": 411846,
     "sourceType": "modelInstanceVersion"
    },
    {
     "modelId": 372818,
     "modelInstanceId": 351568,
     "sourceId": 431310,
     "sourceType": "modelInstanceVersion"
    },
    {
     "modelId": 419083,
     "modelInstanceId": 400923,
     "sourceId": 504862,
     "sourceType": "modelInstanceVersion"
    },
    {
     "modelId": 420458,
     "modelInstanceId": 402509,
     "sourceId": 507017,
     "sourceType": "modelInstanceVersion"
    },
    {
     "modelId": 429649,
     "modelInstanceId": 411852,
     "sourceId": 524810,
     "sourceType": "modelInstanceVersion"
    },
    {
     "modelId": 433986,
     "modelInstanceId": 416252,
     "sourceId": 535007,
     "sourceType": "modelInstanceVersion"
    },
    {
     "modelId": 434054,
     "modelInstanceId": 416322,
     "sourceId": 535171,
     "sourceType": "modelInstanceVersion"
    },
    {
     "modelId": 434076,
     "modelInstanceId": 416344,
     "sourceId": 535216,
     "sourceType": "modelInstanceVersion"
    },
    {
     "modelId": 434276,
     "modelInstanceId": 416549,
     "sourceId": 535549,
     "sourceType": "modelInstanceVersion"
    },
    {
     "isSourceIdPinned": true,
     "modelId": 436114,
     "modelInstanceId": 418455,
     "sourceId": 544335,
     "sourceType": "modelInstanceVersion"
    }
   ],
   "dockerImageVersionId": 31012,
   "isGpuEnabled": true,
   "isInternetEnabled": true,
   "language": "python",
   "sourceType": "notebook"
  },
  "kernelspec": {
   "display_name": "Python 3",
   "language": "python",
   "name": "python3"
  },
  "language_info": {
   "codemirror_mode": {
    "name": "ipython",
    "version": 3
   },
   "file_extension": ".py",
   "mimetype": "text/x-python",
   "name": "python",
   "nbconvert_exporter": "python",
   "pygments_lexer": "ipython3",
   "version": "3.11.11"
  },
  "papermill": {
   "default_parameters": {},
   "duration": 9330.997526,
   "end_time": "2025-08-26T11:07:01.843803",
   "environment_variables": {},
   "exception": null,
   "input_path": "__notebook__.ipynb",
   "output_path": "__notebook__.ipynb",
   "parameters": {},
   "start_time": "2025-08-26T08:31:30.846277",
   "version": "2.6.0"
  }
 },
 "nbformat": 4,
 "nbformat_minor": 5
}
