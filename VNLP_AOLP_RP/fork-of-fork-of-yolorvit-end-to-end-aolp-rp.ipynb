{
 "cells": [
  {
   "cell_type": "code",
   "execution_count": 1,
   "id": "cc0a7011",
   "metadata": {
    "_cell_guid": "16e39135-a25c-495c-bce6-68aeeba62ab3",
    "_uuid": "fb2d2f9a-dd07-4008-b742-19d8a0374673",
    "collapsed": false,
    "execution": {
     "iopub.execute_input": "2025-08-26T00:31:26.217450Z",
     "iopub.status.busy": "2025-08-26T00:31:26.217120Z",
     "iopub.status.idle": "2025-08-26T00:32:53.626886Z",
     "shell.execute_reply": "2025-08-26T00:32:53.626144Z"
    },
    "jupyter": {
     "outputs_hidden": false
    },
    "papermill": {
     "duration": 87.415529,
     "end_time": "2025-08-26T00:32:53.628331",
     "exception": false,
     "start_time": "2025-08-26T00:31:26.212802",
     "status": "completed"
    },
    "tags": []
   },
   "outputs": [
    {
     "name": "stdout",
     "output_type": "stream",
     "text": [
      "Collecting ultralytics\r\n",
      "  Downloading ultralytics-8.3.186-py3-none-any.whl.metadata (37 kB)\r\n",
      "Requirement already satisfied: numpy>=1.23.0 in /usr/local/lib/python3.11/dist-packages (from ultralytics) (1.26.4)\r\n",
      "Requirement already satisfied: matplotlib>=3.3.0 in /usr/local/lib/python3.11/dist-packages (from ultralytics) (3.7.5)\r\n",
      "Requirement already satisfied: opencv-python>=4.6.0 in /usr/local/lib/python3.11/dist-packages (from ultralytics) (4.11.0.86)\r\n",
      "Requirement already satisfied: pillow>=7.1.2 in /usr/local/lib/python3.11/dist-packages (from ultralytics) (11.1.0)\r\n",
      "Requirement already satisfied: pyyaml>=5.3.1 in /usr/local/lib/python3.11/dist-packages (from ultralytics) (6.0.2)\r\n",
      "Requirement already satisfied: requests>=2.23.0 in /usr/local/lib/python3.11/dist-packages (from ultralytics) (2.32.3)\r\n",
      "Requirement already satisfied: scipy>=1.4.1 in /usr/local/lib/python3.11/dist-packages (from ultralytics) (1.15.2)\r\n",
      "Requirement already satisfied: torch>=1.8.0 in /usr/local/lib/python3.11/dist-packages (from ultralytics) (2.5.1+cu124)\r\n",
      "Requirement already satisfied: torchvision>=0.9.0 in /usr/local/lib/python3.11/dist-packages (from ultralytics) (0.20.1+cu124)\r\n",
      "Requirement already satisfied: psutil in /usr/local/lib/python3.11/dist-packages (from ultralytics) (7.0.0)\r\n",
      "Requirement already satisfied: py-cpuinfo in /usr/local/lib/python3.11/dist-packages (from ultralytics) (9.0.0)\r\n",
      "Requirement already satisfied: pandas>=1.1.4 in /usr/local/lib/python3.11/dist-packages (from ultralytics) (2.2.3)\r\n",
      "Collecting ultralytics-thop>=2.0.0 (from ultralytics)\r\n",
      "  Downloading ultralytics_thop-2.0.16-py3-none-any.whl.metadata (14 kB)\r\n",
      "Requirement already satisfied: contourpy>=1.0.1 in /usr/local/lib/python3.11/dist-packages (from matplotlib>=3.3.0->ultralytics) (1.3.1)\r\n",
      "Requirement already satisfied: cycler>=0.10 in /usr/local/lib/python3.11/dist-packages (from matplotlib>=3.3.0->ultralytics) (0.12.1)\r\n",
      "Requirement already satisfied: fonttools>=4.22.0 in /usr/local/lib/python3.11/dist-packages (from matplotlib>=3.3.0->ultralytics) (4.56.0)\r\n",
      "Requirement already satisfied: kiwisolver>=1.0.1 in /usr/local/lib/python3.11/dist-packages (from matplotlib>=3.3.0->ultralytics) (1.4.8)\r\n",
      "Requirement already satisfied: packaging>=20.0 in /usr/local/lib/python3.11/dist-packages (from matplotlib>=3.3.0->ultralytics) (24.2)\r\n",
      "Requirement already satisfied: pyparsing>=2.3.1 in /usr/local/lib/python3.11/dist-packages (from matplotlib>=3.3.0->ultralytics) (3.2.1)\r\n",
      "Requirement already satisfied: python-dateutil>=2.7 in /usr/local/lib/python3.11/dist-packages (from matplotlib>=3.3.0->ultralytics) (2.9.0.post0)\r\n",
      "Requirement already satisfied: mkl_fft in /usr/local/lib/python3.11/dist-packages (from numpy>=1.23.0->ultralytics) (1.3.8)\r\n",
      "Requirement already satisfied: mkl_random in /usr/local/lib/python3.11/dist-packages (from numpy>=1.23.0->ultralytics) (1.2.4)\r\n",
      "Requirement already satisfied: mkl_umath in /usr/local/lib/python3.11/dist-packages (from numpy>=1.23.0->ultralytics) (0.1.1)\r\n",
      "Requirement already satisfied: mkl in /usr/local/lib/python3.11/dist-packages (from numpy>=1.23.0->ultralytics) (2025.1.0)\r\n",
      "Requirement already satisfied: tbb4py in /usr/local/lib/python3.11/dist-packages (from numpy>=1.23.0->ultralytics) (2022.1.0)\r\n",
      "Requirement already satisfied: mkl-service in /usr/local/lib/python3.11/dist-packages (from numpy>=1.23.0->ultralytics) (2.4.1)\r\n",
      "Requirement already satisfied: pytz>=2020.1 in /usr/local/lib/python3.11/dist-packages (from pandas>=1.1.4->ultralytics) (2025.2)\r\n",
      "Requirement already satisfied: tzdata>=2022.7 in /usr/local/lib/python3.11/dist-packages (from pandas>=1.1.4->ultralytics) (2025.2)\r\n",
      "Requirement already satisfied: charset-normalizer<4,>=2 in /usr/local/lib/python3.11/dist-packages (from requests>=2.23.0->ultralytics) (3.4.1)\r\n",
      "Requirement already satisfied: idna<4,>=2.5 in /usr/local/lib/python3.11/dist-packages (from requests>=2.23.0->ultralytics) (3.10)\r\n",
      "Requirement already satisfied: urllib3<3,>=1.21.1 in /usr/local/lib/python3.11/dist-packages (from requests>=2.23.0->ultralytics) (2.3.0)\r\n",
      "Requirement already satisfied: certifi>=2017.4.17 in /usr/local/lib/python3.11/dist-packages (from requests>=2.23.0->ultralytics) (2025.1.31)\r\n",
      "Requirement already satisfied: filelock in /usr/local/lib/python3.11/dist-packages (from torch>=1.8.0->ultralytics) (3.18.0)\r\n",
      "Requirement already satisfied: typing-extensions>=4.8.0 in /usr/local/lib/python3.11/dist-packages (from torch>=1.8.0->ultralytics) (4.13.1)\r\n",
      "Requirement already satisfied: networkx in /usr/local/lib/python3.11/dist-packages (from torch>=1.8.0->ultralytics) (3.4.2)\r\n",
      "Requirement already satisfied: jinja2 in /usr/local/lib/python3.11/dist-packages (from torch>=1.8.0->ultralytics) (3.1.6)\r\n",
      "Requirement already satisfied: fsspec in /usr/local/lib/python3.11/dist-packages (from torch>=1.8.0->ultralytics) (2025.3.2)\r\n",
      "Requirement already satisfied: nvidia-cuda-nvrtc-cu12==12.4.127 in /usr/local/lib/python3.11/dist-packages (from torch>=1.8.0->ultralytics) (12.4.127)\r\n",
      "Requirement already satisfied: nvidia-cuda-runtime-cu12==12.4.127 in /usr/local/lib/python3.11/dist-packages (from torch>=1.8.0->ultralytics) (12.4.127)\r\n",
      "Requirement already satisfied: nvidia-cuda-cupti-cu12==12.4.127 in /usr/local/lib/python3.11/dist-packages (from torch>=1.8.0->ultralytics) (12.4.127)\r\n",
      "Collecting nvidia-cudnn-cu12==9.1.0.70 (from torch>=1.8.0->ultralytics)\r\n",
      "  Downloading nvidia_cudnn_cu12-9.1.0.70-py3-none-manylinux2014_x86_64.whl.metadata (1.6 kB)\r\n",
      "Collecting nvidia-cublas-cu12==12.4.5.8 (from torch>=1.8.0->ultralytics)\r\n",
      "  Downloading nvidia_cublas_cu12-12.4.5.8-py3-none-manylinux2014_x86_64.whl.metadata (1.5 kB)\r\n",
      "Collecting nvidia-cufft-cu12==11.2.1.3 (from torch>=1.8.0->ultralytics)\r\n",
      "  Downloading nvidia_cufft_cu12-11.2.1.3-py3-none-manylinux2014_x86_64.whl.metadata (1.5 kB)\r\n",
      "Collecting nvidia-curand-cu12==10.3.5.147 (from torch>=1.8.0->ultralytics)\r\n",
      "  Downloading nvidia_curand_cu12-10.3.5.147-py3-none-manylinux2014_x86_64.whl.metadata (1.5 kB)\r\n",
      "Collecting nvidia-cusolver-cu12==11.6.1.9 (from torch>=1.8.0->ultralytics)\r\n",
      "  Downloading nvidia_cusolver_cu12-11.6.1.9-py3-none-manylinux2014_x86_64.whl.metadata (1.6 kB)\r\n",
      "Collecting nvidia-cusparse-cu12==12.3.1.170 (from torch>=1.8.0->ultralytics)\r\n",
      "  Downloading nvidia_cusparse_cu12-12.3.1.170-py3-none-manylinux2014_x86_64.whl.metadata (1.6 kB)\r\n",
      "Requirement already satisfied: nvidia-nccl-cu12==2.21.5 in /usr/local/lib/python3.11/dist-packages (from torch>=1.8.0->ultralytics) (2.21.5)\r\n",
      "Requirement already satisfied: nvidia-nvtx-cu12==12.4.127 in /usr/local/lib/python3.11/dist-packages (from torch>=1.8.0->ultralytics) (12.4.127)\r\n",
      "Collecting nvidia-nvjitlink-cu12==12.4.127 (from torch>=1.8.0->ultralytics)\r\n",
      "  Downloading nvidia_nvjitlink_cu12-12.4.127-py3-none-manylinux2014_x86_64.whl.metadata (1.5 kB)\r\n",
      "Requirement already satisfied: triton==3.1.0 in /usr/local/lib/python3.11/dist-packages (from torch>=1.8.0->ultralytics) (3.1.0)\r\n",
      "Requirement already satisfied: sympy==1.13.1 in /usr/local/lib/python3.11/dist-packages (from torch>=1.8.0->ultralytics) (1.13.1)\r\n",
      "Requirement already satisfied: mpmath<1.4,>=1.1.0 in /usr/local/lib/python3.11/dist-packages (from sympy==1.13.1->torch>=1.8.0->ultralytics) (1.3.0)\r\n",
      "Requirement already satisfied: six>=1.5 in /usr/local/lib/python3.11/dist-packages (from python-dateutil>=2.7->matplotlib>=3.3.0->ultralytics) (1.17.0)\r\n",
      "Requirement already satisfied: MarkupSafe>=2.0 in /usr/local/lib/python3.11/dist-packages (from jinja2->torch>=1.8.0->ultralytics) (3.0.2)\r\n",
      "Requirement already satisfied: intel-openmp<2026,>=2024 in /usr/local/lib/python3.11/dist-packages (from mkl->numpy>=1.23.0->ultralytics) (2024.2.0)\r\n",
      "Requirement already satisfied: tbb==2022.* in /usr/local/lib/python3.11/dist-packages (from mkl->numpy>=1.23.0->ultralytics) (2022.1.0)\r\n",
      "Requirement already satisfied: tcmlib==1.* in /usr/local/lib/python3.11/dist-packages (from tbb==2022.*->mkl->numpy>=1.23.0->ultralytics) (1.2.0)\r\n",
      "Requirement already satisfied: intel-cmplr-lib-rt in /usr/local/lib/python3.11/dist-packages (from mkl_umath->numpy>=1.23.0->ultralytics) (2024.2.0)\r\n",
      "Requirement already satisfied: intel-cmplr-lib-ur==2024.2.0 in /usr/local/lib/python3.11/dist-packages (from intel-openmp<2026,>=2024->mkl->numpy>=1.23.0->ultralytics) (2024.2.0)\r\n",
      "Downloading ultralytics-8.3.186-py3-none-any.whl (1.1 MB)\r\n",
      "\u001b[2K   \u001b[90m━━━━━━━━━━━━━━━━━━━━━━━━━━━━━━━━━━━━━━━━\u001b[0m \u001b[32m1.1/1.1 MB\u001b[0m \u001b[31m17.7 MB/s\u001b[0m eta \u001b[36m0:00:00\u001b[0m\r\n",
      "\u001b[?25hDownloading nvidia_cublas_cu12-12.4.5.8-py3-none-manylinux2014_x86_64.whl (363.4 MB)\r\n",
      "\u001b[2K   \u001b[90m━━━━━━━━━━━━━━━━━━━━━━━━━━━━━━━━━━━━━━━━\u001b[0m \u001b[32m363.4/363.4 MB\u001b[0m \u001b[31m4.7 MB/s\u001b[0m eta \u001b[36m0:00:00\u001b[0m\r\n",
      "\u001b[?25hDownloading nvidia_cudnn_cu12-9.1.0.70-py3-none-manylinux2014_x86_64.whl (664.8 MB)\r\n",
      "\u001b[2K   \u001b[90m━━━━━━━━━━━━━━━━━━━━━━━━━━━━━━━━━━━━━━━━\u001b[0m \u001b[32m664.8/664.8 MB\u001b[0m \u001b[31m2.2 MB/s\u001b[0m eta \u001b[36m0:00:00\u001b[0m\r\n",
      "\u001b[?25hDownloading nvidia_cufft_cu12-11.2.1.3-py3-none-manylinux2014_x86_64.whl (211.5 MB)\r\n",
      "\u001b[2K   \u001b[90m━━━━━━━━━━━━━━━━━━━━━━━━━━━━━━━━━━━━━━━━\u001b[0m \u001b[32m211.5/211.5 MB\u001b[0m \u001b[31m2.6 MB/s\u001b[0m eta \u001b[36m0:00:00\u001b[0m\r\n",
      "\u001b[?25hDownloading nvidia_curand_cu12-10.3.5.147-py3-none-manylinux2014_x86_64.whl (56.3 MB)\r\n",
      "\u001b[2K   \u001b[90m━━━━━━━━━━━━━━━━━━━━━━━━━━━━━━━━━━━━━━━━\u001b[0m \u001b[32m56.3/56.3 MB\u001b[0m \u001b[31m6.3 MB/s\u001b[0m eta \u001b[36m0:00:00\u001b[0m\r\n",
      "\u001b[?25hDownloading nvidia_cusolver_cu12-11.6.1.9-py3-none-manylinux2014_x86_64.whl (127.9 MB)\r\n",
      "\u001b[2K   \u001b[90m━━━━━━━━━━━━━━━━━━━━━━━━━━━━━━━━━━━━━━━━\u001b[0m \u001b[32m127.9/127.9 MB\u001b[0m \u001b[31m12.5 MB/s\u001b[0m eta \u001b[36m0:00:00\u001b[0m\r\n",
      "\u001b[?25hDownloading nvidia_cusparse_cu12-12.3.1.170-py3-none-manylinux2014_x86_64.whl (207.5 MB)\r\n",
      "\u001b[2K   \u001b[90m━━━━━━━━━━━━━━━━━━━━━━━━━━━━━━━━━━━━━━━━\u001b[0m \u001b[32m207.5/207.5 MB\u001b[0m \u001b[31m8.1 MB/s\u001b[0m eta \u001b[36m0:00:00\u001b[0m\r\n",
      "\u001b[?25hDownloading nvidia_nvjitlink_cu12-12.4.127-py3-none-manylinux2014_x86_64.whl (21.1 MB)\r\n",
      "\u001b[2K   \u001b[90m━━━━━━━━━━━━━━━━━━━━━━━━━━━━━━━━━━━━━━━━\u001b[0m \u001b[32m21.1/21.1 MB\u001b[0m \u001b[31m64.1 MB/s\u001b[0m eta \u001b[36m0:00:00\u001b[0m\r\n",
      "\u001b[?25hDownloading ultralytics_thop-2.0.16-py3-none-any.whl (28 kB)\r\n",
      "Installing collected packages: nvidia-nvjitlink-cu12, nvidia-curand-cu12, nvidia-cufft-cu12, nvidia-cublas-cu12, nvidia-cusparse-cu12, nvidia-cudnn-cu12, nvidia-cusolver-cu12, ultralytics-thop, ultralytics\r\n",
      "  Attempting uninstall: nvidia-nvjitlink-cu12\r\n",
      "    Found existing installation: nvidia-nvjitlink-cu12 12.8.93\r\n",
      "    Uninstalling nvidia-nvjitlink-cu12-12.8.93:\r\n",
      "      Successfully uninstalled nvidia-nvjitlink-cu12-12.8.93\r\n",
      "  Attempting uninstall: nvidia-curand-cu12\r\n",
      "    Found existing installation: nvidia-curand-cu12 10.3.9.90\r\n",
      "    Uninstalling nvidia-curand-cu12-10.3.9.90:\r\n",
      "      Successfully uninstalled nvidia-curand-cu12-10.3.9.90\r\n",
      "  Attempting uninstall: nvidia-cufft-cu12\r\n",
      "    Found existing installation: nvidia-cufft-cu12 11.3.3.83\r\n",
      "    Uninstalling nvidia-cufft-cu12-11.3.3.83:\r\n",
      "      Successfully uninstalled nvidia-cufft-cu12-11.3.3.83\r\n",
      "  Attempting uninstall: nvidia-cublas-cu12\r\n",
      "    Found existing installation: nvidia-cublas-cu12 12.8.4.1\r\n",
      "    Uninstalling nvidia-cublas-cu12-12.8.4.1:\r\n",
      "      Successfully uninstalled nvidia-cublas-cu12-12.8.4.1\r\n",
      "  Attempting uninstall: nvidia-cusparse-cu12\r\n",
      "    Found existing installation: nvidia-cusparse-cu12 12.5.8.93\r\n",
      "    Uninstalling nvidia-cusparse-cu12-12.5.8.93:\r\n",
      "      Successfully uninstalled nvidia-cusparse-cu12-12.5.8.93\r\n",
      "  Attempting uninstall: nvidia-cudnn-cu12\r\n",
      "    Found existing installation: nvidia-cudnn-cu12 9.3.0.75\r\n",
      "    Uninstalling nvidia-cudnn-cu12-9.3.0.75:\r\n",
      "      Successfully uninstalled nvidia-cudnn-cu12-9.3.0.75\r\n",
      "  Attempting uninstall: nvidia-cusolver-cu12\r\n",
      "    Found existing installation: nvidia-cusolver-cu12 11.7.3.90\r\n",
      "    Uninstalling nvidia-cusolver-cu12-11.7.3.90:\r\n",
      "      Successfully uninstalled nvidia-cusolver-cu12-11.7.3.90\r\n",
      "\u001b[31mERROR: pip's dependency resolver does not currently take into account all the packages that are installed. This behaviour is the source of the following dependency conflicts.\r\n",
      "pylibcugraph-cu12 24.12.0 requires pylibraft-cu12==24.12.*, but you have pylibraft-cu12 25.2.0 which is incompatible.\r\n",
      "pylibcugraph-cu12 24.12.0 requires rmm-cu12==24.12.*, but you have rmm-cu12 25.2.0 which is incompatible.\u001b[0m\u001b[31m\r\n",
      "\u001b[0mSuccessfully installed nvidia-cublas-cu12-12.4.5.8 nvidia-cudnn-cu12-9.1.0.70 nvidia-cufft-cu12-11.2.1.3 nvidia-curand-cu12-10.3.5.147 nvidia-cusolver-cu12-11.6.1.9 nvidia-cusparse-cu12-12.3.1.170 nvidia-nvjitlink-cu12-12.4.127 ultralytics-8.3.186 ultralytics-thop-2.0.16\r\n",
      "Collecting torchtoolbox\r\n",
      "  Downloading torchtoolbox-0.1.8.2-py3-none-any.whl.metadata (15 kB)\r\n",
      "Requirement already satisfied: numpy in /usr/local/lib/python3.11/dist-packages (from torchtoolbox) (1.26.4)\r\n",
      "Requirement already satisfied: tqdm in /usr/local/lib/python3.11/dist-packages (from torchtoolbox) (4.67.1)\r\n",
      "Requirement already satisfied: pyarrow in /usr/local/lib/python3.11/dist-packages (from torchtoolbox) (19.0.1)\r\n",
      "Requirement already satisfied: six in /usr/local/lib/python3.11/dist-packages (from torchtoolbox) (1.17.0)\r\n",
      "Collecting lmdb (from torchtoolbox)\r\n",
      "  Downloading lmdb-1.7.3-cp311-cp311-manylinux_2_17_x86_64.manylinux2014_x86_64.whl.metadata (1.3 kB)\r\n",
      "Requirement already satisfied: scikit-learn in /usr/local/lib/python3.11/dist-packages (from torchtoolbox) (1.2.2)\r\n",
      "Requirement already satisfied: scipy in /usr/local/lib/python3.11/dist-packages (from torchtoolbox) (1.15.2)\r\n",
      "Requirement already satisfied: opencv-python in /usr/local/lib/python3.11/dist-packages (from torchtoolbox) (4.11.0.86)\r\n",
      "Requirement already satisfied: pyyaml in /usr/local/lib/python3.11/dist-packages (from torchtoolbox) (6.0.2)\r\n",
      "Requirement already satisfied: tensorboard in /usr/local/lib/python3.11/dist-packages (from torchtoolbox) (2.18.0)\r\n",
      "Requirement already satisfied: prettytable in /usr/local/lib/python3.11/dist-packages (from torchtoolbox) (3.14.0)\r\n",
      "Requirement already satisfied: transformers in /usr/local/lib/python3.11/dist-packages (from torchtoolbox) (4.51.1)\r\n",
      "Requirement already satisfied: mkl_fft in /usr/local/lib/python3.11/dist-packages (from numpy->torchtoolbox) (1.3.8)\r\n",
      "Requirement already satisfied: mkl_random in /usr/local/lib/python3.11/dist-packages (from numpy->torchtoolbox) (1.2.4)\r\n",
      "Requirement already satisfied: mkl_umath in /usr/local/lib/python3.11/dist-packages (from numpy->torchtoolbox) (0.1.1)\r\n",
      "Requirement already satisfied: mkl in /usr/local/lib/python3.11/dist-packages (from numpy->torchtoolbox) (2025.1.0)\r\n",
      "Requirement already satisfied: tbb4py in /usr/local/lib/python3.11/dist-packages (from numpy->torchtoolbox) (2022.1.0)\r\n",
      "Requirement already satisfied: mkl-service in /usr/local/lib/python3.11/dist-packages (from numpy->torchtoolbox) (2.4.1)\r\n",
      "Requirement already satisfied: wcwidth in /usr/local/lib/python3.11/dist-packages (from prettytable->torchtoolbox) (0.2.13)\r\n",
      "Requirement already satisfied: joblib>=1.1.1 in /usr/local/lib/python3.11/dist-packages (from scikit-learn->torchtoolbox) (1.4.2)\r\n",
      "Requirement already satisfied: threadpoolctl>=2.0.0 in /usr/local/lib/python3.11/dist-packages (from scikit-learn->torchtoolbox) (3.6.0)\r\n",
      "Requirement already satisfied: absl-py>=0.4 in /usr/local/lib/python3.11/dist-packages (from tensorboard->torchtoolbox) (1.4.0)\r\n",
      "Requirement already satisfied: grpcio>=1.48.2 in /usr/local/lib/python3.11/dist-packages (from tensorboard->torchtoolbox) (1.70.0)\r\n",
      "Requirement already satisfied: markdown>=2.6.8 in /usr/local/lib/python3.11/dist-packages (from tensorboard->torchtoolbox) (3.7)\r\n",
      "Requirement already satisfied: packaging in /usr/local/lib/python3.11/dist-packages (from tensorboard->torchtoolbox) (24.2)\r\n",
      "Requirement already satisfied: protobuf!=4.24.0,>=3.19.6 in /usr/local/lib/python3.11/dist-packages (from tensorboard->torchtoolbox) (3.20.3)\r\n",
      "Requirement already satisfied: setuptools>=41.0.0 in /usr/local/lib/python3.11/dist-packages (from tensorboard->torchtoolbox) (75.1.0)\r\n",
      "Requirement already satisfied: tensorboard-data-server<0.8.0,>=0.7.0 in /usr/local/lib/python3.11/dist-packages (from tensorboard->torchtoolbox) (0.7.2)\r\n",
      "Requirement already satisfied: werkzeug>=1.0.1 in /usr/local/lib/python3.11/dist-packages (from tensorboard->torchtoolbox) (3.1.3)\r\n",
      "Requirement already satisfied: filelock in /usr/local/lib/python3.11/dist-packages (from transformers->torchtoolbox) (3.18.0)\r\n",
      "Requirement already satisfied: huggingface-hub<1.0,>=0.30.0 in /usr/local/lib/python3.11/dist-packages (from transformers->torchtoolbox) (0.30.2)\r\n",
      "Requirement already satisfied: regex!=2019.12.17 in /usr/local/lib/python3.11/dist-packages (from transformers->torchtoolbox) (2024.11.6)\r\n",
      "Requirement already satisfied: requests in /usr/local/lib/python3.11/dist-packages (from transformers->torchtoolbox) (2.32.3)\r\n",
      "Requirement already satisfied: tokenizers<0.22,>=0.21 in /usr/local/lib/python3.11/dist-packages (from transformers->torchtoolbox) (0.21.0)\r\n",
      "Requirement already satisfied: safetensors>=0.4.3 in /usr/local/lib/python3.11/dist-packages (from transformers->torchtoolbox) (0.5.2)\r\n",
      "Requirement already satisfied: fsspec>=2023.5.0 in /usr/local/lib/python3.11/dist-packages (from huggingface-hub<1.0,>=0.30.0->transformers->torchtoolbox) (2025.3.2)\r\n",
      "Requirement already satisfied: typing-extensions>=3.7.4.3 in /usr/local/lib/python3.11/dist-packages (from huggingface-hub<1.0,>=0.30.0->transformers->torchtoolbox) (4.13.1)\r\n",
      "Requirement already satisfied: MarkupSafe>=2.1.1 in /usr/local/lib/python3.11/dist-packages (from werkzeug>=1.0.1->tensorboard->torchtoolbox) (3.0.2)\r\n",
      "Requirement already satisfied: intel-openmp<2026,>=2024 in /usr/local/lib/python3.11/dist-packages (from mkl->numpy->torchtoolbox) (2024.2.0)\r\n",
      "Requirement already satisfied: tbb==2022.* in /usr/local/lib/python3.11/dist-packages (from mkl->numpy->torchtoolbox) (2022.1.0)\r\n",
      "Requirement already satisfied: tcmlib==1.* in /usr/local/lib/python3.11/dist-packages (from tbb==2022.*->mkl->numpy->torchtoolbox) (1.2.0)\r\n",
      "Requirement already satisfied: intel-cmplr-lib-rt in /usr/local/lib/python3.11/dist-packages (from mkl_umath->numpy->torchtoolbox) (2024.2.0)\r\n",
      "Requirement already satisfied: charset-normalizer<4,>=2 in /usr/local/lib/python3.11/dist-packages (from requests->transformers->torchtoolbox) (3.4.1)\r\n",
      "Requirement already satisfied: idna<4,>=2.5 in /usr/local/lib/python3.11/dist-packages (from requests->transformers->torchtoolbox) (3.10)\r\n",
      "Requirement already satisfied: urllib3<3,>=1.21.1 in /usr/local/lib/python3.11/dist-packages (from requests->transformers->torchtoolbox) (2.3.0)\r\n",
      "Requirement already satisfied: certifi>=2017.4.17 in /usr/local/lib/python3.11/dist-packages (from requests->transformers->torchtoolbox) (2025.1.31)\r\n",
      "Requirement already satisfied: intel-cmplr-lib-ur==2024.2.0 in /usr/local/lib/python3.11/dist-packages (from intel-openmp<2026,>=2024->mkl->numpy->torchtoolbox) (2024.2.0)\r\n",
      "Downloading torchtoolbox-0.1.8.2-py3-none-any.whl (84 kB)\r\n",
      "\u001b[2K   \u001b[90m━━━━━━━━━━━━━━━━━━━━━━━━━━━━━━━━━━━━━━━━\u001b[0m \u001b[32m85.0/85.0 kB\u001b[0m \u001b[31m2.8 MB/s\u001b[0m eta \u001b[36m0:00:00\u001b[0m\r\n",
      "\u001b[?25hDownloading lmdb-1.7.3-cp311-cp311-manylinux_2_17_x86_64.manylinux2014_x86_64.whl (299 kB)\r\n",
      "\u001b[2K   \u001b[90m━━━━━━━━━━━━━━━━━━━━━━━━━━━━━━━━━━━━━━━━\u001b[0m \u001b[32m299.6/299.6 kB\u001b[0m \u001b[31m10.1 MB/s\u001b[0m eta \u001b[36m0:00:00\u001b[0m\r\n",
      "\u001b[?25hInstalling collected packages: lmdb, torchtoolbox\r\n",
      "Successfully installed lmdb-1.7.3 torchtoolbox-0.1.8.2\r\n"
     ]
    }
   ],
   "source": [
    "!pip install ultralytics\n",
    "!pip install torchtoolbox"
   ]
  },
  {
   "cell_type": "code",
   "execution_count": 2,
   "id": "233edc62",
   "metadata": {
    "_cell_guid": "fe9b86dd-6ef0-40b1-b6ff-486e1e1990e6",
    "_uuid": "0db5545a-017e-4a3f-9fda-b64d11c8b205",
    "collapsed": false,
    "execution": {
     "iopub.execute_input": "2025-08-26T00:32:53.680390Z",
     "iopub.status.busy": "2025-08-26T00:32:53.680121Z",
     "iopub.status.idle": "2025-08-26T03:04:10.177756Z",
     "shell.execute_reply": "2025-08-26T03:04:10.176855Z"
    },
    "jupyter": {
     "outputs_hidden": false
    },
    "papermill": {
     "duration": 9076.526195,
     "end_time": "2025-08-26T03:04:10.180063",
     "exception": false,
     "start_time": "2025-08-26T00:32:53.653868",
     "status": "completed"
    },
    "tags": []
   },
   "outputs": [
    {
     "name": "stdout",
     "output_type": "stream",
     "text": [
      "Creating new Ultralytics Settings v0.0.6 file ✅ \n",
      "View Ultralytics Settings with 'yolo settings' or at '/root/.config/Ultralytics/settings.json'\n",
      "Update Settings with 'yolo settings key=value', i.e. 'yolo settings runs_dir=path/to/dir'. For help see https://docs.ultralytics.com/quickstart/#ultralytics-settings.\n"
     ]
    },
    {
     "name": "stderr",
     "output_type": "stream",
     "text": [
      "/usr/local/lib/python3.11/dist-packages/torch/nn/modules/transformer.py:379: UserWarning: enable_nested_tensor is True, but self.use_nested_tensor is False because encoder_layer.norm_first was True\n",
      "  warnings.warn(\n",
      "/tmp/ipykernel_19/931175275.py:370: FutureWarning: You are using `torch.load` with `weights_only=False` (the current default value), which uses the default pickle module implicitly. It is possible to construct malicious pickle data which will execute arbitrary code during unpickling (See https://github.com/pytorch/pytorch/blob/main/SECURITY.md#untrusted-models for more details). In a future release, the default value for `weights_only` will be flipped to `True`. This limits the functions that could be executed during unpickling. Arbitrary objects will no longer be allowed to be loaded via this mode unless they are explicitly allowlisted by the user via `torch.serialization.add_safe_globals`. We recommend you start setting `weights_only=True` for any use case where you don't have full control of the loaded file. Please open an issue on GitHub for any issues related to this experimental feature.\n",
      "  checkpoint = torch.load(\"/kaggle/input/yolo_rvt_good/pytorch/default/2/best_yolo_rvit_model.pth\", map_location=DEVICE)\n",
      "Epoch 1/100 [TRAIN] LR: 2.15e-04 Teach: 0.70 Scheduler: OneCycleLR:   2%|▏         | 1/44 [00:08<05:48,  8.10s/it, loss=3.82]"
     ]
    },
    {
     "name": "stdout",
     "output_type": "stream",
     "text": [
      "\n",
      "--- Training Batch 0 Examples (Content Only) ---\n",
      "  Pred: '3318872'\n",
      "  True: 'KA8702'\n",
      "  Pred: '39447857'\n",
      "  True: 'LE7857'\n",
      "  Pred: '36C7630'\n",
      "  True: '7563DM'\n",
      "  Pred: '19C0930'\n",
      "  True: '1993QG'\n",
      "  Pred: '51C0000'\n",
      "  True: '5107DG'\n",
      "-------------------------------\n"
     ]
    },
    {
     "name": "stderr",
     "output_type": "stream",
     "text": [
      "Epoch 1/100 [TRAIN] LR: 2.15e-04 Teach: 0.70 Scheduler: OneCycleLR: 100%|██████████| 44/44 [00:57<00:00,  1.32s/it, loss=2.51]\n",
      "Epoch 1/100 [VAL]: 100%|██████████| 20/20 [00:29<00:00,  1.46s/it, loss=2.21]\n"
     ]
    },
    {
     "name": "stdout",
     "output_type": "stream",
     "text": [
      "EarlyStopping: New best val_acc: 0.4385\n",
      "\n",
      "Epoch 1/100 | LR: 5.28e-05 | Teach: 0.70 | Scheduler: OneCycleLR\n",
      "  Train Loss: 3.1503 | Train Char Acc: 0.2729\n",
      "  Val Loss: 2.3422   | Val Acc (CRR): 0.4385\n",
      "  Val Exact Match Acc (E2E RR): 0.0000\n",
      "----------------------------------------------------------------------\n",
      "*** New best validation accuracy: 0.4385. Saving best_model.pth ***\n"
     ]
    },
    {
     "name": "stderr",
     "output_type": "stream",
     "text": [
      "Epoch 2/100 [TRAIN] LR: 5.28e-05 Teach: 0.69 Scheduler: OneCycleLR:   2%|▏         | 1/44 [00:05<03:51,  5.39s/it, loss=2.42]"
     ]
    },
    {
     "name": "stdout",
     "output_type": "stream",
     "text": [
      "\n",
      "--- Training Batch 0 Examples (Content Only) ---\n",
      "  Pred: '69996'\n",
      "  True: '6Q4961'\n",
      "  Pred: '20U6'\n",
      "  True: '2016UX'\n",
      "  Pred: '5297'\n",
      "  True: '5297KH'\n",
      "  Pred: '25221'\n",
      "  True: '2502YD'\n",
      "  Pred: '62299'\n",
      "  True: 'CN2950'\n",
      "-------------------------------\n"
     ]
    },
    {
     "name": "stderr",
     "output_type": "stream",
     "text": [
      "Epoch 2/100 [TRAIN] LR: 5.28e-05 Teach: 0.69 Scheduler: OneCycleLR: 100%|██████████| 44/44 [00:59<00:00,  1.35s/it, loss=1.82]\n",
      "Epoch 2/100 [VAL]: 100%|██████████| 20/20 [00:29<00:00,  1.45s/it, loss=1.59]\n"
     ]
    },
    {
     "name": "stdout",
     "output_type": "stream",
     "text": [
      "EarlyStopping: New best val_acc: 0.6696\n",
      "\n",
      "Epoch 2/100 | LR: 6.11e-05 | Teach: 0.69 | Scheduler: OneCycleLR\n",
      "  Train Loss: 2.0916 | Train Char Acc: 0.5289\n",
      "  Val Loss: 1.6351   | Val Acc (CRR): 0.6696\n",
      "  Val Exact Match Acc (E2E RR): 0.0033\n",
      "----------------------------------------------------------------------\n",
      "*** New best validation accuracy: 0.6696. Saving best_model.pth ***\n"
     ]
    },
    {
     "name": "stderr",
     "output_type": "stream",
     "text": [
      "Epoch 3/100 [TRAIN] LR: 6.11e-05 Teach: 0.69 Scheduler: OneCycleLR:   2%|▏         | 1/44 [00:06<04:22,  6.10s/it, loss=1.85]"
     ]
    },
    {
     "name": "stdout",
     "output_type": "stream",
     "text": [
      "\n",
      "--- Training Batch 0 Examples (Content Only) ---\n",
      "  Pred: '15620'\n",
      "  True: '1562DE'\n",
      "  Pred: '344113'\n",
      "  True: 'CR4113'\n",
      "  Pred: '58071'\n",
      "  True: 'F80713'\n",
      "  Pred: '66172'\n",
      "  True: '6617ZS'\n",
      "  Pred: '05317'\n",
      "  True: '0531FL'\n",
      "-------------------------------\n"
     ]
    },
    {
     "name": "stderr",
     "output_type": "stream",
     "text": [
      "Epoch 3/100 [TRAIN] LR: 6.11e-05 Teach: 0.69 Scheduler: OneCycleLR: 100%|██████████| 44/44 [01:00<00:00,  1.38s/it, loss=1.43]\n",
      "Epoch 3/100 [VAL]: 100%|██████████| 20/20 [00:28<00:00,  1.44s/it, loss=1.35]\n"
     ]
    },
    {
     "name": "stdout",
     "output_type": "stream",
     "text": [
      "EarlyStopping: New best val_acc: 0.7157\n",
      "\n",
      "Epoch 3/100 | LR: 7.46e-05 | Teach: 0.69 | Scheduler: OneCycleLR\n",
      "  Train Loss: 1.6402 | Train Char Acc: 0.6782\n",
      "  Val Loss: 1.4131   | Val Acc (CRR): 0.7157\n",
      "  Val Exact Match Acc (E2E RR): 0.0327\n",
      "----------------------------------------------------------------------\n",
      "*** New best validation accuracy: 0.7157. Saving best_model.pth ***\n"
     ]
    },
    {
     "name": "stderr",
     "output_type": "stream",
     "text": [
      "Epoch 4/100 [TRAIN] LR: 7.46e-05 Teach: 0.68 Scheduler: OneCycleLR:   2%|▏         | 1/44 [00:06<04:18,  6.01s/it, loss=1.47]"
     ]
    },
    {
     "name": "stdout",
     "output_type": "stream",
     "text": [
      "\n",
      "--- Training Batch 0 Examples (Content Only) ---\n",
      "  Pred: '937900'\n",
      "  True: '9379QD'\n",
      "  Pred: 'YD8787'\n",
      "  True: 'KC8787'\n",
      "  Pred: '0K887Y'\n",
      "  True: 'DW8741'\n",
      "  Pred: '675550'\n",
      "  True: '6T5550'\n",
      "  Pred: 'C69940'\n",
      "  True: 'CG9940'\n",
      "-------------------------------\n"
     ]
    },
    {
     "name": "stderr",
     "output_type": "stream",
     "text": [
      "Epoch 4/100 [TRAIN] LR: 7.46e-05 Teach: 0.68 Scheduler: OneCycleLR: 100%|██████████| 44/44 [01:01<00:00,  1.40s/it, loss=1.36]\n",
      "Epoch 4/100 [VAL]: 100%|██████████| 20/20 [00:28<00:00,  1.43s/it, loss=1.15]\n"
     ]
    },
    {
     "name": "stdout",
     "output_type": "stream",
     "text": [
      "EarlyStopping: New best val_acc: 0.7943\n",
      "\n",
      "Epoch 4/100 | LR: 9.32e-05 | Teach: 0.68 | Scheduler: OneCycleLR\n",
      "  Train Loss: 1.3882 | Train Char Acc: 0.7445\n",
      "  Val Loss: 1.2309   | Val Acc (CRR): 0.7943\n",
      "  Val Exact Match Acc (E2E RR): 0.1817\n",
      "----------------------------------------------------------------------\n",
      "*** New best validation accuracy: 0.7943. Saving best_model.pth ***\n"
     ]
    },
    {
     "name": "stderr",
     "output_type": "stream",
     "text": [
      "Epoch 5/100 [TRAIN] LR: 9.32e-05 Teach: 0.67 Scheduler: OneCycleLR:   2%|▏         | 1/44 [00:05<04:01,  5.62s/it, loss=1.26]"
     ]
    },
    {
     "name": "stdout",
     "output_type": "stream",
     "text": [
      "\n",
      "--- Training Batch 0 Examples (Content Only) ---\n",
      "  Pred: '602891'\n",
      "  True: '6D2891'\n",
      "  Pred: '200149'\n",
      "  True: '2001A9'\n",
      "  Pred: '4120V4'\n",
      "  True: '4128QW'\n",
      "  Pred: '70904J'\n",
      "  True: '7090JJ'\n",
      "  Pred: 'TY8825'\n",
      "  True: 'YY8825'\n",
      "-------------------------------\n"
     ]
    },
    {
     "name": "stderr",
     "output_type": "stream",
     "text": [
      "Epoch 5/100 [TRAIN] LR: 9.32e-05 Teach: 0.67 Scheduler: OneCycleLR: 100%|██████████| 44/44 [01:00<00:00,  1.39s/it, loss=1.19]\n",
      "Epoch 5/100 [VAL]: 100%|██████████| 20/20 [00:28<00:00,  1.43s/it, loss=1.06]\n"
     ]
    },
    {
     "name": "stdout",
     "output_type": "stream",
     "text": [
      "EarlyStopping: New best val_acc: 0.8649\n",
      "\n",
      "Epoch 5/100 | LR: 1.16e-04 | Teach: 0.67 | Scheduler: OneCycleLR\n",
      "  Train Loss: 1.2323 | Train Char Acc: 0.8074\n",
      "  Val Loss: 1.1197   | Val Acc (CRR): 0.8649\n",
      "  Val Exact Match Acc (E2E RR): 0.3732\n",
      "----------------------------------------------------------------------\n",
      "*** New best validation accuracy: 0.8649. Saving best_model.pth ***\n"
     ]
    },
    {
     "name": "stderr",
     "output_type": "stream",
     "text": [
      "Epoch 6/100 [TRAIN] LR: 1.16e-04 Teach: 0.67 Scheduler: OneCycleLR:   2%|▏         | 1/44 [00:05<04:08,  5.79s/it, loss=1.26]"
     ]
    },
    {
     "name": "stdout",
     "output_type": "stream",
     "text": [
      "\n",
      "--- Training Batch 0 Examples (Content Only) ---\n",
      "  Pred: '0227TT'\n",
      "  True: 'Q22777'\n",
      "  Pred: 'CZ9956'\n",
      "  True: 'CC9956'\n",
      "  Pred: 'D677QL'\n",
      "  True: '0677QW'\n",
      "  Pred: '7759QH'\n",
      "  True: '7159QN'\n",
      "  Pred: 'ZZ6436'\n",
      "  True: 'ZZ6436'\n",
      "-------------------------------\n"
     ]
    },
    {
     "name": "stderr",
     "output_type": "stream",
     "text": [
      "Epoch 6/100 [TRAIN] LR: 1.16e-04 Teach: 0.67 Scheduler: OneCycleLR: 100%|██████████| 44/44 [01:01<00:00,  1.40s/it, loss=1.18]\n",
      "Epoch 6/100 [VAL]: 100%|██████████| 20/20 [00:28<00:00,  1.42s/it, loss=0.956]\n"
     ]
    },
    {
     "name": "stdout",
     "output_type": "stream",
     "text": [
      "EarlyStopping: New best val_acc: 0.8993\n",
      "\n",
      "Epoch 6/100 | LR: 1.43e-04 | Teach: 0.67 | Scheduler: OneCycleLR\n",
      "  Train Loss: 1.1424 | Train Char Acc: 0.8526\n",
      "  Val Loss: 1.0439   | Val Acc (CRR): 0.8993\n",
      "  Val Exact Match Acc (E2E RR): 0.5303\n",
      "----------------------------------------------------------------------\n",
      "*** New best validation accuracy: 0.8993. Saving best_model.pth ***\n"
     ]
    },
    {
     "name": "stderr",
     "output_type": "stream",
     "text": [
      "Epoch 7/100 [TRAIN] LR: 1.43e-04 Teach: 0.66 Scheduler: OneCycleLR:   2%|▏         | 1/44 [00:05<04:03,  5.67s/it, loss=1.13]"
     ]
    },
    {
     "name": "stdout",
     "output_type": "stream",
     "text": [
      "\n",
      "--- Training Batch 0 Examples (Content Only) ---\n",
      "  Pred: '0066DW'\n",
      "  True: '0066DW'\n",
      "  Pred: '6568NN'\n",
      "  True: '6568NX'\n",
      "  Pred: '1837GG'\n",
      "  True: '1837CC'\n",
      "  Pred: '5B0379'\n",
      "  True: '5B0379'\n",
      "  Pred: '0182DL'\n",
      "  True: '0182DL'\n",
      "-------------------------------\n"
     ]
    },
    {
     "name": "stderr",
     "output_type": "stream",
     "text": [
      "Epoch 7/100 [TRAIN] LR: 1.43e-04 Teach: 0.66 Scheduler: OneCycleLR: 100%|██████████| 44/44 [01:01<00:00,  1.40s/it, loss=0.979]\n",
      "Epoch 7/100 [VAL]: 100%|██████████| 20/20 [00:30<00:00,  1.51s/it, loss=0.937]\n"
     ]
    },
    {
     "name": "stdout",
     "output_type": "stream",
     "text": [
      "EarlyStopping: New best val_acc: 0.9091\n",
      "\n",
      "Epoch 7/100 | LR: 1.73e-04 | Teach: 0.66 | Scheduler: OneCycleLR\n",
      "  Train Loss: 1.0791 | Train Char Acc: 0.8850\n",
      "  Val Loss: 1.0099   | Val Acc (CRR): 0.9091\n",
      "  Val Exact Match Acc (E2E RR): 0.5794\n",
      "----------------------------------------------------------------------\n",
      "*** New best validation accuracy: 0.9091. Saving best_model.pth ***\n"
     ]
    },
    {
     "name": "stderr",
     "output_type": "stream",
     "text": [
      "Epoch 8/100 [TRAIN] LR: 1.73e-04 Teach: 0.65 Scheduler: OneCycleLR:   2%|▏         | 1/44 [00:06<04:45,  6.65s/it, loss=1.06]"
     ]
    },
    {
     "name": "stdout",
     "output_type": "stream",
     "text": [
      "\n",
      "--- Training Batch 0 Examples (Content Only) ---\n",
      "  Pred: '848943'\n",
      "  True: '8489A3'\n",
      "  Pred: '7161QH'\n",
      "  True: '7161QH'\n",
      "  Pred: '1329HA'\n",
      "  True: '1329HA'\n",
      "  Pred: '8A6893'\n",
      "  True: '8A6893'\n",
      "  Pred: 'C94910'\n",
      "  True: 'C94910'\n",
      "-------------------------------\n"
     ]
    },
    {
     "name": "stderr",
     "output_type": "stream",
     "text": [
      "Epoch 8/100 [TRAIN] LR: 1.73e-04 Teach: 0.65 Scheduler: OneCycleLR: 100%|██████████| 44/44 [01:05<00:00,  1.48s/it, loss=0.99]\n",
      "Epoch 8/100 [VAL]: 100%|██████████| 20/20 [00:30<00:00,  1.54s/it, loss=0.892]\n"
     ]
    },
    {
     "name": "stdout",
     "output_type": "stream",
     "text": [
      "EarlyStopping: New best val_acc: 0.9239\n",
      "\n",
      "Epoch 8/100 | LR: 2.06e-04 | Teach: 0.65 | Scheduler: OneCycleLR\n",
      "  Train Loss: 1.0237 | Train Char Acc: 0.9110\n",
      "  Val Loss: 0.9856   | Val Acc (CRR): 0.9239\n",
      "  Val Exact Match Acc (E2E RR): 0.6416\n",
      "----------------------------------------------------------------------\n",
      "*** New best validation accuracy: 0.9239. Saving best_model.pth ***\n"
     ]
    },
    {
     "name": "stderr",
     "output_type": "stream",
     "text": [
      "Epoch 9/100 [TRAIN] LR: 2.06e-04 Teach: 0.65 Scheduler: OneCycleLR:   2%|▏         | 1/44 [00:06<04:28,  6.24s/it, loss=0.985]"
     ]
    },
    {
     "name": "stdout",
     "output_type": "stream",
     "text": [
      "\n",
      "--- Training Batch 0 Examples (Content Only) ---\n",
      "  Pred: '2582PK'\n",
      "  True: '2582PK'\n",
      "  Pred: '1276NR'\n",
      "  True: '1276NR'\n",
      "  Pred: '5L7223'\n",
      "  True: '5L7223'\n",
      "  Pred: '2253YA'\n",
      "  True: '2253YA'\n",
      "  Pred: '6020MS'\n",
      "  True: '6020MS'\n",
      "-------------------------------\n"
     ]
    },
    {
     "name": "stderr",
     "output_type": "stream",
     "text": [
      "Epoch 9/100 [TRAIN] LR: 2.06e-04 Teach: 0.65 Scheduler: OneCycleLR: 100%|██████████| 44/44 [01:03<00:00,  1.44s/it, loss=0.941]\n",
      "Epoch 9/100 [VAL]: 100%|██████████| 20/20 [00:30<00:00,  1.52s/it, loss=0.857]\n"
     ]
    },
    {
     "name": "stdout",
     "output_type": "stream",
     "text": [
      "EarlyStopping: New best val_acc: 0.9367\n",
      "\n",
      "Epoch 9/100 | LR: 2.41e-04 | Teach: 0.65 | Scheduler: OneCycleLR\n",
      "  Train Loss: 0.9886 | Train Char Acc: 0.9262\n",
      "  Val Loss: 0.9594   | Val Acc (CRR): 0.9367\n",
      "  Val Exact Match Acc (E2E RR): 0.7119\n",
      "----------------------------------------------------------------------\n",
      "*** New best validation accuracy: 0.9367. Saving best_model.pth ***\n"
     ]
    },
    {
     "name": "stderr",
     "output_type": "stream",
     "text": [
      "Epoch 10/100 [TRAIN] LR: 2.41e-04 Teach: 0.64 Scheduler: OneCycleLR:   2%|▏         | 1/44 [00:06<04:32,  6.35s/it, loss=0.968]"
     ]
    },
    {
     "name": "stdout",
     "output_type": "stream",
     "text": [
      "\n",
      "--- Training Batch 0 Examples (Content Only) ---\n",
      "  Pred: '2658RP'\n",
      "  True: '2658MP'\n",
      "  Pred: '6831QJ'\n",
      "  True: '6831QJ'\n",
      "  Pred: 'V81041'\n",
      "  True: 'V81041'\n",
      "  Pred: 'CX3020'\n",
      "  True: 'GX3020'\n",
      "  Pred: '2B5617'\n",
      "  True: '2B5617'\n",
      "-------------------------------\n"
     ]
    },
    {
     "name": "stderr",
     "output_type": "stream",
     "text": [
      "Epoch 10/100 [TRAIN] LR: 2.41e-04 Teach: 0.64 Scheduler: OneCycleLR: 100%|██████████| 44/44 [01:02<00:00,  1.42s/it, loss=0.905]\n",
      "Epoch 10/100 [VAL]: 100%|██████████| 20/20 [00:29<00:00,  1.46s/it, loss=0.923]\n"
     ]
    },
    {
     "name": "stdout",
     "output_type": "stream",
     "text": [
      "EarlyStopping counter: 1/100 (Best val_acc: 0.9367)\n",
      "\n",
      "Epoch 10/100 | LR: 2.76e-04 | Teach: 0.64 | Scheduler: OneCycleLR\n",
      "  Train Loss: 0.9633 | Train Char Acc: 0.9399\n",
      "  Val Loss: 0.9760   | Val Acc (CRR): 0.9220\n",
      "  Val Exact Match Acc (E2E RR): 0.6514\n",
      "----------------------------------------------------------------------\n"
     ]
    },
    {
     "name": "stderr",
     "output_type": "stream",
     "text": [
      "Epoch 11/100 [TRAIN] LR: 2.76e-04 Teach: 0.63 Scheduler: OneCycleLR:   2%|▏         | 1/44 [00:05<04:06,  5.73s/it, loss=0.925]"
     ]
    },
    {
     "name": "stdout",
     "output_type": "stream",
     "text": [
      "\n",
      "--- Training Batch 0 Examples (Content Only) ---\n",
      "  Pred: '2721YG'\n",
      "  True: '2721YG'\n",
      "  Pred: 'RV2350'\n",
      "  True: 'RV2350'\n",
      "  Pred: '0127QG'\n",
      "  True: '0127QG'\n",
      "  Pred: '3853J8'\n",
      "  True: '3853JB'\n",
      "  Pred: '2267HH'\n",
      "  True: '2267HH'\n",
      "-------------------------------\n"
     ]
    },
    {
     "name": "stderr",
     "output_type": "stream",
     "text": [
      "Epoch 11/100 [TRAIN] LR: 2.76e-04 Teach: 0.63 Scheduler: OneCycleLR: 100%|██████████| 44/44 [01:01<00:00,  1.40s/it, loss=1.01]\n",
      "Epoch 11/100 [VAL]: 100%|██████████| 20/20 [00:29<00:00,  1.46s/it, loss=0.877]\n"
     ]
    },
    {
     "name": "stdout",
     "output_type": "stream",
     "text": [
      "EarlyStopping: New best val_acc: 0.9452\n",
      "\n",
      "Epoch 11/100 | LR: 3.11e-04 | Teach: 0.63 | Scheduler: OneCycleLR\n",
      "  Train Loss: 0.9505 | Train Char Acc: 0.9445\n",
      "  Val Loss: 0.9439   | Val Acc (CRR): 0.9452\n",
      "  Val Exact Match Acc (E2E RR): 0.7480\n",
      "----------------------------------------------------------------------\n",
      "*** New best validation accuracy: 0.9452. Saving best_model.pth ***\n"
     ]
    },
    {
     "name": "stderr",
     "output_type": "stream",
     "text": [
      "Epoch 12/100 [TRAIN] LR: 3.11e-04 Teach: 0.63 Scheduler: OneCycleLR:   2%|▏         | 1/44 [00:05<03:54,  5.44s/it, loss=0.973]"
     ]
    },
    {
     "name": "stdout",
     "output_type": "stream",
     "text": [
      "\n",
      "--- Training Batch 0 Examples (Content Only) ---\n",
      "  Pred: '1208QD'\n",
      "  True: '1208QD'\n",
      "  Pred: '2W5256'\n",
      "  True: '2W5256'\n",
      "  Pred: '9361B9'\n",
      "  True: '9361B9'\n",
      "  Pred: 'YM2251'\n",
      "  True: 'Y52510'\n",
      "  Pred: '0218EY'\n",
      "  True: '0218EY'\n",
      "-------------------------------\n"
     ]
    },
    {
     "name": "stderr",
     "output_type": "stream",
     "text": [
      "Epoch 12/100 [TRAIN] LR: 3.11e-04 Teach: 0.63 Scheduler: OneCycleLR: 100%|██████████| 44/44 [01:01<00:00,  1.40s/it, loss=0.915]\n",
      "Epoch 12/100 [VAL]: 100%|██████████| 20/20 [00:29<00:00,  1.46s/it, loss=0.849]\n"
     ]
    },
    {
     "name": "stdout",
     "output_type": "stream",
     "text": [
      "EarlyStopping: New best val_acc: 0.9574\n",
      "\n",
      "Epoch 12/100 | LR: 3.45e-04 | Teach: 0.63 | Scheduler: OneCycleLR\n",
      "  Train Loss: 0.9375 | Train Char Acc: 0.9490\n",
      "  Val Loss: 0.9026   | Val Acc (CRR): 0.9574\n",
      "  Val Exact Match Acc (E2E RR): 0.7987\n",
      "----------------------------------------------------------------------\n",
      "*** New best validation accuracy: 0.9574. Saving best_model.pth ***\n"
     ]
    },
    {
     "name": "stderr",
     "output_type": "stream",
     "text": [
      "Epoch 13/100 [TRAIN] LR: 3.45e-04 Teach: 0.62 Scheduler: OneCycleLR:   2%|▏         | 1/44 [00:05<03:59,  5.57s/it, loss=0.905]"
     ]
    },
    {
     "name": "stdout",
     "output_type": "stream",
     "text": [
      "\n",
      "--- Training Batch 0 Examples (Content Only) ---\n",
      "  Pred: '2582PK'\n",
      "  True: '2582PK'\n",
      "  Pred: 'P78191'\n",
      "  True: 'P78191'\n",
      "  Pred: 'T41577'\n",
      "  True: 'T41577'\n",
      "  Pred: '3487QD'\n",
      "  True: '3487QD'\n",
      "  Pred: 'DE9838'\n",
      "  True: 'DE9838'\n",
      "-------------------------------\n"
     ]
    },
    {
     "name": "stderr",
     "output_type": "stream",
     "text": [
      "Epoch 13/100 [TRAIN] LR: 3.45e-04 Teach: 0.62 Scheduler: OneCycleLR: 100%|██████████| 44/44 [01:01<00:00,  1.39s/it, loss=0.871]\n",
      "Epoch 13/100 [VAL]: 100%|██████████| 20/20 [00:29<00:00,  1.46s/it, loss=0.822]\n"
     ]
    },
    {
     "name": "stdout",
     "output_type": "stream",
     "text": [
      "EarlyStopping: New best val_acc: 0.9607\n",
      "\n",
      "Epoch 13/100 | LR: 3.78e-04 | Teach: 0.62 | Scheduler: OneCycleLR\n",
      "  Train Loss: 0.9174 | Train Char Acc: 0.9596\n",
      "  Val Loss: 0.9107   | Val Acc (CRR): 0.9607\n",
      "  Val Exact Match Acc (E2E RR): 0.8216\n",
      "----------------------------------------------------------------------\n",
      "*** New best validation accuracy: 0.9607. Saving best_model.pth ***\n"
     ]
    },
    {
     "name": "stderr",
     "output_type": "stream",
     "text": [
      "Epoch 14/100 [TRAIN] LR: 3.78e-04 Teach: 0.61 Scheduler: OneCycleLR:   2%|▏         | 1/44 [00:05<04:07,  5.75s/it, loss=0.929]"
     ]
    },
    {
     "name": "stdout",
     "output_type": "stream",
     "text": [
      "\n",
      "--- Training Batch 0 Examples (Content Only) ---\n",
      "  Pred: '286449'\n",
      "  True: '2B6449'\n",
      "  Pred: '7G2323'\n",
      "  True: '7G2323'\n",
      "  Pred: '7T6615'\n",
      "  True: '7T6615'\n",
      "  Pred: '5E5722'\n",
      "  True: '5E5722'\n",
      "  Pred: 'UT7118'\n",
      "  True: 'UT7118'\n",
      "-------------------------------\n"
     ]
    },
    {
     "name": "stderr",
     "output_type": "stream",
     "text": [
      "Epoch 14/100 [TRAIN] LR: 3.78e-04 Teach: 0.61 Scheduler: OneCycleLR: 100%|██████████| 44/44 [01:00<00:00,  1.38s/it, loss=0.947]\n",
      "Epoch 14/100 [VAL]: 100%|██████████| 20/20 [00:28<00:00,  1.45s/it, loss=0.822]\n"
     ]
    },
    {
     "name": "stdout",
     "output_type": "stream",
     "text": [
      "EarlyStopping counter: 1/100 (Best val_acc: 0.9607)\n",
      "\n",
      "Epoch 14/100 | LR: 4.08e-04 | Teach: 0.61 | Scheduler: OneCycleLR\n",
      "  Train Loss: 0.9060 | Train Char Acc: 0.9609\n",
      "  Val Loss: 0.9020   | Val Acc (CRR): 0.9604\n",
      "  Val Exact Match Acc (E2E RR): 0.8282\n",
      "----------------------------------------------------------------------\n"
     ]
    },
    {
     "name": "stderr",
     "output_type": "stream",
     "text": [
      "Epoch 15/100 [TRAIN] LR: 4.08e-04 Teach: 0.61 Scheduler: OneCycleLR:   2%|▏         | 1/44 [00:05<04:13,  5.89s/it, loss=0.901]"
     ]
    },
    {
     "name": "stdout",
     "output_type": "stream",
     "text": [
      "\n",
      "--- Training Batch 0 Examples (Content Only) ---\n",
      "  Pred: '660766'\n",
      "  True: 'C38166'\n",
      "  Pred: '2209BB'\n",
      "  True: '2209BB'\n",
      "  Pred: '8Q1491'\n",
      "  True: 'BQ1491'\n",
      "  Pred: '6A9141'\n",
      "  True: '6A9141'\n",
      "  Pred: '2267HH'\n",
      "  True: '2267HH'\n",
      "-------------------------------\n"
     ]
    },
    {
     "name": "stderr",
     "output_type": "stream",
     "text": [
      "Epoch 15/100 [TRAIN] LR: 4.08e-04 Teach: 0.61 Scheduler: OneCycleLR: 100%|██████████| 44/44 [01:01<00:00,  1.40s/it, loss=0.862]\n",
      "Epoch 15/100 [VAL]: 100%|██████████| 20/20 [00:29<00:00,  1.46s/it, loss=0.807]\n"
     ]
    },
    {
     "name": "stdout",
     "output_type": "stream",
     "text": [
      "EarlyStopping: New best val_acc: 0.9678\n",
      "\n",
      "Epoch 15/100 | LR: 4.35e-04 | Teach: 0.61 | Scheduler: OneCycleLR\n",
      "  Train Loss: 0.9060 | Train Char Acc: 0.9625\n",
      "  Val Loss: 0.8782   | Val Acc (CRR): 0.9678\n",
      "  Val Exact Match Acc (E2E RR): 0.8625\n",
      "----------------------------------------------------------------------\n",
      "*** New best validation accuracy: 0.9678. Saving best_model.pth ***\n"
     ]
    },
    {
     "name": "stderr",
     "output_type": "stream",
     "text": [
      "Epoch 16/100 [TRAIN] LR: 4.35e-04 Teach: 0.60 Scheduler: OneCycleLR:   2%|▏         | 1/44 [00:05<04:15,  5.93s/it, loss=0.878]"
     ]
    },
    {
     "name": "stdout",
     "output_type": "stream",
     "text": [
      "\n",
      "--- Training Batch 0 Examples (Content Only) ---\n",
      "  Pred: '6E1507'\n",
      "  True: '6E1507'\n",
      "  Pred: '669179'\n",
      "  True: 'N69179'\n",
      "  Pred: '8530VD'\n",
      "  True: '8530VD'\n",
      "  Pred: '8256KS'\n",
      "  True: '8256KS'\n",
      "  Pred: 'DX4927'\n",
      "  True: 'DX4927'\n",
      "-------------------------------\n"
     ]
    },
    {
     "name": "stderr",
     "output_type": "stream",
     "text": [
      "Epoch 16/100 [TRAIN] LR: 4.35e-04 Teach: 0.60 Scheduler: OneCycleLR: 100%|██████████| 44/44 [01:01<00:00,  1.39s/it, loss=0.856]\n",
      "Epoch 16/100 [VAL]: 100%|██████████| 20/20 [00:29<00:00,  1.47s/it, loss=0.803]\n"
     ]
    },
    {
     "name": "stdout",
     "output_type": "stream",
     "text": [
      "EarlyStopping: New best val_acc: 0.9722\n",
      "\n",
      "Epoch 16/100 | LR: 4.58e-04 | Teach: 0.60 | Scheduler: OneCycleLR\n",
      "  Train Loss: 0.8862 | Train Char Acc: 0.9682\n",
      "  Val Loss: 0.8795   | Val Acc (CRR): 0.9722\n",
      "  Val Exact Match Acc (E2E RR): 0.8854\n",
      "----------------------------------------------------------------------\n",
      "*** New best validation accuracy: 0.9722. Saving best_model.pth ***\n"
     ]
    },
    {
     "name": "stderr",
     "output_type": "stream",
     "text": [
      "Epoch 17/100 [TRAIN] LR: 4.58e-04 Teach: 0.59 Scheduler: OneCycleLR:   2%|▏         | 1/44 [00:05<04:14,  5.92s/it, loss=0.967]"
     ]
    },
    {
     "name": "stdout",
     "output_type": "stream",
     "text": [
      "\n",
      "--- Training Batch 0 Examples (Content Only) ---\n",
      "  Pred: '3285DW'\n",
      "  True: '3285DW'\n",
      "  Pred: '6899YH'\n",
      "  True: '6899YH'\n",
      "  Pred: '2G8312'\n",
      "  True: '2G8312'\n",
      "  Pred: '9932RK'\n",
      "  True: '9932RK'\n",
      "  Pred: '4872HB'\n",
      "  True: '4872HB'\n",
      "-------------------------------\n"
     ]
    },
    {
     "name": "stderr",
     "output_type": "stream",
     "text": [
      "Epoch 17/100 [TRAIN] LR: 4.58e-04 Teach: 0.59 Scheduler: OneCycleLR: 100%|██████████| 44/44 [01:01<00:00,  1.40s/it, loss=0.872]\n",
      "Epoch 17/100 [VAL]: 100%|██████████| 20/20 [00:28<00:00,  1.45s/it, loss=0.797]\n"
     ]
    },
    {
     "name": "stdout",
     "output_type": "stream",
     "text": [
      "EarlyStopping counter: 1/100 (Best val_acc: 0.9722)\n",
      "\n",
      "Epoch 17/100 | LR: 4.76e-04 | Teach: 0.59 | Scheduler: OneCycleLR\n",
      "  Train Loss: 0.8827 | Train Char Acc: 0.9695\n",
      "  Val Loss: 0.8883   | Val Acc (CRR): 0.9656\n",
      "  Val Exact Match Acc (E2E RR): 0.8511\n",
      "----------------------------------------------------------------------\n"
     ]
    },
    {
     "name": "stderr",
     "output_type": "stream",
     "text": [
      "Epoch 18/100 [TRAIN] LR: 4.76e-04 Teach: 0.59 Scheduler: OneCycleLR:   2%|▏         | 1/44 [00:06<04:19,  6.04s/it, loss=0.907]"
     ]
    },
    {
     "name": "stdout",
     "output_type": "stream",
     "text": [
      "\n",
      "--- Training Batch 0 Examples (Content Only) ---\n",
      "  Pred: '8492DU'\n",
      "  True: '8492DU'\n",
      "  Pred: '6C6071'\n",
      "  True: '6C6071'\n",
      "  Pred: '8756FH'\n",
      "  True: 'B756FH'\n",
      "  Pred: '0V3133'\n",
      "  True: 'DV3133'\n",
      "  Pred: '3968XJ'\n",
      "  True: '3968JX'\n",
      "-------------------------------\n"
     ]
    },
    {
     "name": "stderr",
     "output_type": "stream",
     "text": [
      "Epoch 18/100 [TRAIN] LR: 4.76e-04 Teach: 0.59 Scheduler: OneCycleLR: 100%|██████████| 44/44 [01:01<00:00,  1.39s/it, loss=0.879]\n",
      "Epoch 18/100 [VAL]: 100%|██████████| 20/20 [00:28<00:00,  1.44s/it, loss=0.794]\n"
     ]
    },
    {
     "name": "stdout",
     "output_type": "stream",
     "text": [
      "EarlyStopping counter: 2/100 (Best val_acc: 0.9722)\n",
      "\n",
      "Epoch 18/100 | LR: 4.89e-04 | Teach: 0.59 | Scheduler: OneCycleLR\n",
      "  Train Loss: 0.8680 | Train Char Acc: 0.9744\n",
      "  Val Loss: 0.8611   | Val Acc (CRR): 0.9714\n",
      "  Val Exact Match Acc (E2E RR): 0.8773\n",
      "----------------------------------------------------------------------\n"
     ]
    },
    {
     "name": "stderr",
     "output_type": "stream",
     "text": [
      "Epoch 19/100 [TRAIN] LR: 4.89e-04 Teach: 0.58 Scheduler: OneCycleLR:   2%|▏         | 1/44 [00:05<04:15,  5.94s/it, loss=0.949]"
     ]
    },
    {
     "name": "stdout",
     "output_type": "stream",
     "text": [
      "\n",
      "--- Training Batch 0 Examples (Content Only) ---\n",
      "  Pred: '6E9688'\n",
      "  True: '6E9688'\n",
      "  Pred: '218727'\n",
      "  True: '2189TT'\n",
      "  Pred: '6799LU'\n",
      "  True: '6799LU'\n",
      "  Pred: 'YY8818'\n",
      "  True: 'YY8818'\n",
      "  Pred: '3E7899'\n",
      "  True: '3E7899'\n",
      "-------------------------------\n"
     ]
    },
    {
     "name": "stderr",
     "output_type": "stream",
     "text": [
      "Epoch 19/100 [TRAIN] LR: 4.89e-04 Teach: 0.58 Scheduler: OneCycleLR: 100%|██████████| 44/44 [01:01<00:00,  1.40s/it, loss=0.853]\n",
      "Epoch 19/100 [VAL]: 100%|██████████| 20/20 [00:28<00:00,  1.45s/it, loss=0.805]\n"
     ]
    },
    {
     "name": "stdout",
     "output_type": "stream",
     "text": [
      "EarlyStopping: New best val_acc: 0.9744\n",
      "\n",
      "Epoch 19/100 | LR: 4.97e-04 | Teach: 0.58 | Scheduler: OneCycleLR\n",
      "  Train Loss: 0.8666 | Train Char Acc: 0.9730\n",
      "  Val Loss: 0.8597   | Val Acc (CRR): 0.9744\n",
      "  Val Exact Match Acc (E2E RR): 0.8887\n",
      "----------------------------------------------------------------------\n",
      "*** New best validation accuracy: 0.9744. Saving best_model.pth ***\n"
     ]
    },
    {
     "name": "stderr",
     "output_type": "stream",
     "text": [
      "Epoch 20/100 [TRAIN] LR: 4.97e-04 Teach: 0.58 Scheduler: OneCycleLR:   2%|▏         | 1/44 [00:06<04:25,  6.18s/it, loss=0.858]"
     ]
    },
    {
     "name": "stdout",
     "output_type": "stream",
     "text": [
      "\n",
      "--- Training Batch 0 Examples (Content Only) ---\n",
      "  Pred: '2318XX'\n",
      "  True: '2318XX'\n",
      "  Pred: '6736DL'\n",
      "  True: '6736DL'\n",
      "  Pred: '9601EC'\n",
      "  True: '9601EC'\n",
      "  Pred: '9119DF'\n",
      "  True: '9119DF'\n",
      "  Pred: '3E8922'\n",
      "  True: '3E8922'\n",
      "-------------------------------\n"
     ]
    },
    {
     "name": "stderr",
     "output_type": "stream",
     "text": [
      "Epoch 20/100 [TRAIN] LR: 4.97e-04 Teach: 0.58 Scheduler: OneCycleLR: 100%|██████████| 44/44 [01:01<00:00,  1.39s/it, loss=0.879]\n",
      "Epoch 20/100 [VAL]: 100%|██████████| 20/20 [00:29<00:00,  1.45s/it, loss=0.86]\n"
     ]
    },
    {
     "name": "stdout",
     "output_type": "stream",
     "text": [
      "EarlyStopping counter: 1/100 (Best val_acc: 0.9744)\n",
      "\n",
      "Epoch 20/100 | LR: 5.00e-04 | Teach: 0.58 | Scheduler: OneCycleLR\n",
      "  Train Loss: 0.8548 | Train Char Acc: 0.9764\n",
      "  Val Loss: 0.8797   | Val Acc (CRR): 0.9662\n",
      "  Val Exact Match Acc (E2E RR): 0.8445\n",
      "----------------------------------------------------------------------\n"
     ]
    },
    {
     "name": "stderr",
     "output_type": "stream",
     "text": [
      "Epoch 21/100 [TRAIN] LR: 5.00e-04 Teach: 0.57 Scheduler: OneCycleLR:   2%|▏         | 1/44 [00:05<03:53,  5.44s/it, loss=0.881]"
     ]
    },
    {
     "name": "stdout",
     "output_type": "stream",
     "text": [
      "\n",
      "--- Training Batch 0 Examples (Content Only) ---\n",
      "  Pred: 'DW8741'\n",
      "  True: 'DW8741'\n",
      "  Pred: '7987QW'\n",
      "  True: '7987QH'\n",
      "  Pred: '38257Y'\n",
      "  True: '3825YY'\n",
      "  Pred: 'UR1263'\n",
      "  True: 'UR1263'\n",
      "  Pred: '5102JJ'\n",
      "  True: '5102JJ'\n",
      "-------------------------------\n"
     ]
    },
    {
     "name": "stderr",
     "output_type": "stream",
     "text": [
      "Epoch 21/100 [TRAIN] LR: 5.00e-04 Teach: 0.57 Scheduler: OneCycleLR: 100%|██████████| 44/44 [01:00<00:00,  1.38s/it, loss=0.854]\n",
      "Epoch 21/100 [VAL]: 100%|██████████| 20/20 [00:29<00:00,  1.46s/it, loss=0.781]\n"
     ]
    },
    {
     "name": "stdout",
     "output_type": "stream",
     "text": [
      "EarlyStopping: New best val_acc: 0.9757\n",
      "\n",
      "Epoch 21/100 | LR: 5.00e-04 | Teach: 0.57 | Scheduler: OneCycleLR\n",
      "  Train Loss: 0.8487 | Train Char Acc: 0.9758\n",
      "  Val Loss: 0.8615   | Val Acc (CRR): 0.9757\n",
      "  Val Exact Match Acc (E2E RR): 0.8969\n",
      "----------------------------------------------------------------------\n",
      "*** New best validation accuracy: 0.9757. Saving best_model.pth ***\n"
     ]
    },
    {
     "name": "stderr",
     "output_type": "stream",
     "text": [
      "Epoch 22/100 [TRAIN] LR: 5.00e-04 Teach: 0.56 Scheduler: OneCycleLR:   2%|▏         | 1/44 [00:04<03:31,  4.92s/it, loss=0.818]"
     ]
    },
    {
     "name": "stdout",
     "output_type": "stream",
     "text": [
      "\n",
      "--- Training Batch 0 Examples (Content Only) ---\n",
      "  Pred: '2159PE'\n",
      "  True: '2159PE'\n",
      "  Pred: '450722'\n",
      "  True: '450722'\n",
      "  Pred: '3A7705'\n",
      "  True: '3A7705'\n",
      "  Pred: '4926JS'\n",
      "  True: '4926JS'\n",
      "  Pred: '4301TW'\n",
      "  True: '4301TW'\n",
      "-------------------------------\n"
     ]
    },
    {
     "name": "stderr",
     "output_type": "stream",
     "text": [
      "Epoch 22/100 [TRAIN] LR: 5.00e-04 Teach: 0.56 Scheduler: OneCycleLR: 100%|██████████| 44/44 [01:00<00:00,  1.38s/it, loss=0.84]\n",
      "Epoch 22/100 [VAL]: 100%|██████████| 20/20 [00:29<00:00,  1.45s/it, loss=0.785]\n"
     ]
    },
    {
     "name": "stdout",
     "output_type": "stream",
     "text": [
      "EarlyStopping counter: 1/100 (Best val_acc: 0.9757)\n",
      "\n",
      "Epoch 22/100 | LR: 4.99e-04 | Teach: 0.56 | Scheduler: OneCycleLR\n",
      "  Train Loss: 0.8364 | Train Char Acc: 0.9817\n",
      "  Val Loss: 0.8628   | Val Acc (CRR): 0.9697\n",
      "  Val Exact Match Acc (E2E RR): 0.8576\n",
      "----------------------------------------------------------------------\n"
     ]
    },
    {
     "name": "stderr",
     "output_type": "stream",
     "text": [
      "Epoch 23/100 [TRAIN] LR: 4.99e-04 Teach: 0.56 Scheduler: OneCycleLR:   2%|▏         | 1/44 [00:05<04:14,  5.93s/it, loss=0.799]"
     ]
    },
    {
     "name": "stdout",
     "output_type": "stream",
     "text": [
      "\n",
      "--- Training Batch 0 Examples (Content Only) ---\n",
      "  Pred: 'PD5327'\n",
      "  True: 'PD5327'\n",
      "  Pred: '022777'\n",
      "  True: 'Q22777'\n",
      "  Pred: '3487QD'\n",
      "  True: '3487QD'\n",
      "  Pred: '3128EY'\n",
      "  True: '3128EY'\n",
      "  Pred: 'C28922'\n",
      "  True: 'C28922'\n",
      "-------------------------------\n"
     ]
    },
    {
     "name": "stderr",
     "output_type": "stream",
     "text": [
      "Epoch 23/100 [TRAIN] LR: 4.99e-04 Teach: 0.56 Scheduler: OneCycleLR: 100%|██████████| 44/44 [01:01<00:00,  1.39s/it, loss=0.848]\n",
      "Epoch 23/100 [VAL]: 100%|██████████| 20/20 [00:29<00:00,  1.46s/it, loss=0.782]\n"
     ]
    },
    {
     "name": "stdout",
     "output_type": "stream",
     "text": [
      "EarlyStopping: New best val_acc: 0.9771\n",
      "\n",
      "Epoch 23/100 | LR: 4.98e-04 | Teach: 0.56 | Scheduler: OneCycleLR\n",
      "  Train Loss: 0.8352 | Train Char Acc: 0.9799\n",
      "  Val Loss: 0.8519   | Val Acc (CRR): 0.9771\n",
      "  Val Exact Match Acc (E2E RR): 0.9018\n",
      "----------------------------------------------------------------------\n",
      "*** New best validation accuracy: 0.9771. Saving best_model.pth ***\n"
     ]
    },
    {
     "name": "stderr",
     "output_type": "stream",
     "text": [
      "Epoch 24/100 [TRAIN] LR: 4.98e-04 Teach: 0.55 Scheduler: OneCycleLR:   2%|▏         | 1/44 [00:05<04:10,  5.82s/it, loss=0.81]"
     ]
    },
    {
     "name": "stdout",
     "output_type": "stream",
     "text": [
      "\n",
      "--- Training Batch 0 Examples (Content Only) ---\n",
      "  Pred: '9L5427'\n",
      "  True: '9L5427'\n",
      "  Pred: '9318VE'\n",
      "  True: '9318VE'\n",
      "  Pred: '5256EH'\n",
      "  True: '5256EH'\n",
      "  Pred: 'ZN9120'\n",
      "  True: 'ZN9120'\n",
      "  Pred: 'T63138'\n",
      "  True: 'M63138'\n",
      "-------------------------------\n"
     ]
    },
    {
     "name": "stderr",
     "output_type": "stream",
     "text": [
      "Epoch 24/100 [TRAIN] LR: 4.98e-04 Teach: 0.55 Scheduler: OneCycleLR: 100%|██████████| 44/44 [01:00<00:00,  1.39s/it, loss=0.824]\n",
      "Epoch 24/100 [VAL]: 100%|██████████| 20/20 [00:28<00:00,  1.44s/it, loss=0.767]\n"
     ]
    },
    {
     "name": "stdout",
     "output_type": "stream",
     "text": [
      "EarlyStopping counter: 1/100 (Best val_acc: 0.9771)\n",
      "\n",
      "Epoch 24/100 | LR: 4.97e-04 | Teach: 0.55 | Scheduler: OneCycleLR\n",
      "  Train Loss: 0.8241 | Train Char Acc: 0.9833\n",
      "  Val Loss: 0.8455   | Val Acc (CRR): 0.9703\n",
      "  Val Exact Match Acc (E2E RR): 0.8658\n",
      "----------------------------------------------------------------------\n"
     ]
    },
    {
     "name": "stderr",
     "output_type": "stream",
     "text": [
      "Epoch 25/100 [TRAIN] LR: 4.97e-04 Teach: 0.54 Scheduler: OneCycleLR:   2%|▏         | 1/44 [00:05<04:15,  5.93s/it, loss=0.88]"
     ]
    },
    {
     "name": "stdout",
     "output_type": "stream",
     "text": [
      "\n",
      "--- Training Batch 0 Examples (Content Only) ---\n",
      "  Pred: '3009WW'\n",
      "  True: '3009WW'\n",
      "  Pred: '1U8735'\n",
      "  True: '1U8735'\n",
      "  Pred: '3206TW'\n",
      "  True: '3206TW'\n",
      "  Pred: 'F90599'\n",
      "  True: 'F90599'\n",
      "  Pred: '9578VG'\n",
      "  True: '9578VG'\n",
      "-------------------------------\n"
     ]
    },
    {
     "name": "stderr",
     "output_type": "stream",
     "text": [
      "Epoch 25/100 [TRAIN] LR: 4.97e-04 Teach: 0.54 Scheduler: OneCycleLR: 100%|██████████| 44/44 [01:01<00:00,  1.40s/it, loss=0.956]\n",
      "Epoch 25/100 [VAL]: 100%|██████████| 20/20 [00:28<00:00,  1.43s/it, loss=0.758]\n"
     ]
    },
    {
     "name": "stdout",
     "output_type": "stream",
     "text": [
      "EarlyStopping counter: 2/100 (Best val_acc: 0.9771)\n",
      "\n",
      "Epoch 25/100 | LR: 4.95e-04 | Teach: 0.54 | Scheduler: OneCycleLR\n",
      "  Train Loss: 0.8305 | Train Char Acc: 0.9772\n",
      "  Val Loss: 0.8409   | Val Acc (CRR): 0.9771\n",
      "  Val Exact Match Acc (E2E RR): 0.9018\n",
      "----------------------------------------------------------------------\n"
     ]
    },
    {
     "name": "stderr",
     "output_type": "stream",
     "text": [
      "Epoch 26/100 [TRAIN] LR: 4.95e-04 Teach: 0.54 Scheduler: OneCycleLR:   2%|▏         | 1/44 [00:06<04:27,  6.22s/it, loss=0.804]"
     ]
    },
    {
     "name": "stdout",
     "output_type": "stream",
     "text": [
      "\n",
      "--- Training Batch 0 Examples (Content Only) ---\n",
      "  Pred: '2658MP'\n",
      "  True: '2658MP'\n",
      "  Pred: '3F4277'\n",
      "  True: '3F4277'\n",
      "  Pred: '3368FK'\n",
      "  True: '3368FK'\n",
      "  Pred: 'P78191'\n",
      "  True: 'P78191'\n",
      "  Pred: '8E9471'\n",
      "  True: '8E9471'\n",
      "-------------------------------\n"
     ]
    },
    {
     "name": "stderr",
     "output_type": "stream",
     "text": [
      "Epoch 26/100 [TRAIN] LR: 4.95e-04 Teach: 0.54 Scheduler: OneCycleLR: 100%|██████████| 44/44 [01:01<00:00,  1.40s/it, loss=0.822]\n",
      "Epoch 26/100 [VAL]: 100%|██████████| 20/20 [00:28<00:00,  1.44s/it, loss=0.741]\n"
     ]
    },
    {
     "name": "stdout",
     "output_type": "stream",
     "text": [
      "EarlyStopping: New best val_acc: 0.9793\n",
      "\n",
      "Epoch 26/100 | LR: 4.93e-04 | Teach: 0.54 | Scheduler: OneCycleLR\n",
      "  Train Loss: 0.8071 | Train Char Acc: 0.9867\n",
      "  Val Loss: 0.8241   | Val Acc (CRR): 0.9793\n",
      "  Val Exact Match Acc (E2E RR): 0.9165\n",
      "----------------------------------------------------------------------\n",
      "*** New best validation accuracy: 0.9793. Saving best_model.pth ***\n"
     ]
    },
    {
     "name": "stderr",
     "output_type": "stream",
     "text": [
      "Epoch 27/100 [TRAIN] LR: 4.93e-04 Teach: 0.53 Scheduler: OneCycleLR:   2%|▏         | 1/44 [00:05<04:11,  5.86s/it, loss=0.801]"
     ]
    },
    {
     "name": "stdout",
     "output_type": "stream",
     "text": [
      "\n",
      "--- Training Batch 0 Examples (Content Only) ---\n",
      "  Pred: '5107DG'\n",
      "  True: '5107DG'\n",
      "  Pred: 'BT3933'\n",
      "  True: 'BT3933'\n",
      "  Pred: '7427EA'\n",
      "  True: '7427EA'\n",
      "  Pred: '0550EK'\n",
      "  True: '0550EK'\n",
      "  Pred: '7K4755'\n",
      "  True: '7K4755'\n",
      "-------------------------------\n"
     ]
    },
    {
     "name": "stderr",
     "output_type": "stream",
     "text": [
      "Epoch 27/100 [TRAIN] LR: 4.93e-04 Teach: 0.53 Scheduler: OneCycleLR: 100%|██████████| 44/44 [01:02<00:00,  1.41s/it, loss=0.815]\n",
      "Epoch 27/100 [VAL]: 100%|██████████| 20/20 [00:28<00:00,  1.45s/it, loss=0.737]\n"
     ]
    },
    {
     "name": "stdout",
     "output_type": "stream",
     "text": [
      "EarlyStopping counter: 1/100 (Best val_acc: 0.9793)\n",
      "\n",
      "Epoch 27/100 | LR: 4.90e-04 | Teach: 0.53 | Scheduler: OneCycleLR\n",
      "  Train Loss: 0.8076 | Train Char Acc: 0.9830\n",
      "  Val Loss: 0.8161   | Val Acc (CRR): 0.9790\n",
      "  Val Exact Match Acc (E2E RR): 0.9100\n",
      "----------------------------------------------------------------------\n"
     ]
    },
    {
     "name": "stderr",
     "output_type": "stream",
     "text": [
      "Epoch 28/100 [TRAIN] LR: 4.90e-04 Teach: 0.52 Scheduler: OneCycleLR:   2%|▏         | 1/44 [00:06<04:18,  6.01s/it, loss=0.819]"
     ]
    },
    {
     "name": "stdout",
     "output_type": "stream",
     "text": [
      "\n",
      "--- Training Batch 0 Examples (Content Only) ---\n",
      "  Pred: '6327EY'\n",
      "  True: '6327EY'\n",
      "  Pred: '3203MT'\n",
      "  True: '3203KT'\n",
      "  Pred: '9L5442'\n",
      "  True: '9L5442'\n",
      "  Pred: 'DA3522'\n",
      "  True: 'DA3522'\n",
      "  Pred: '0325DM'\n",
      "  True: '0325DM'\n",
      "-------------------------------\n"
     ]
    },
    {
     "name": "stderr",
     "output_type": "stream",
     "text": [
      "Epoch 28/100 [TRAIN] LR: 4.90e-04 Teach: 0.52 Scheduler: OneCycleLR: 100%|██████████| 44/44 [01:01<00:00,  1.40s/it, loss=0.847]\n",
      "Epoch 28/100 [VAL]: 100%|██████████| 20/20 [00:29<00:00,  1.45s/it, loss=0.766]\n"
     ]
    },
    {
     "name": "stdout",
     "output_type": "stream",
     "text": [
      "EarlyStopping: New best val_acc: 0.9828\n",
      "\n",
      "Epoch 28/100 | LR: 4.88e-04 | Teach: 0.52 | Scheduler: OneCycleLR\n",
      "  Train Loss: 0.8157 | Train Char Acc: 0.9793\n",
      "  Val Loss: 0.8239   | Val Acc (CRR): 0.9828\n",
      "  Val Exact Match Acc (E2E RR): 0.9280\n",
      "----------------------------------------------------------------------\n",
      "*** New best validation accuracy: 0.9828. Saving best_model.pth ***\n"
     ]
    },
    {
     "name": "stderr",
     "output_type": "stream",
     "text": [
      "Epoch 29/100 [TRAIN] LR: 4.88e-04 Teach: 0.52 Scheduler: OneCycleLR:   2%|▏         | 1/44 [00:05<03:55,  5.47s/it, loss=0.781]"
     ]
    },
    {
     "name": "stdout",
     "output_type": "stream",
     "text": [
      "\n",
      "--- Training Batch 0 Examples (Content Only) ---\n",
      "  Pred: '1015YD'\n",
      "  True: '1015YD'\n",
      "  Pred: 'P78191'\n",
      "  True: 'P78191'\n",
      "  Pred: 'C59829'\n",
      "  True: 'C59829'\n",
      "  Pred: '8188HD'\n",
      "  True: '8188HD'\n",
      "  Pred: 'K86721'\n",
      "  True: 'K86721'\n",
      "-------------------------------\n"
     ]
    },
    {
     "name": "stderr",
     "output_type": "stream",
     "text": [
      "Epoch 29/100 [TRAIN] LR: 4.88e-04 Teach: 0.52 Scheduler: OneCycleLR: 100%|██████████| 44/44 [01:00<00:00,  1.38s/it, loss=0.82]\n",
      "Epoch 29/100 [VAL]: 100%|██████████| 20/20 [00:28<00:00,  1.44s/it, loss=0.749]\n"
     ]
    },
    {
     "name": "stdout",
     "output_type": "stream",
     "text": [
      "EarlyStopping counter: 1/100 (Best val_acc: 0.9828)\n",
      "\n",
      "Epoch 29/100 | LR: 4.84e-04 | Teach: 0.52 | Scheduler: OneCycleLR\n",
      "  Train Loss: 0.8085 | Train Char Acc: 0.9789\n",
      "  Val Loss: 0.8343   | Val Acc (CRR): 0.9793\n",
      "  Val Exact Match Acc (E2E RR): 0.9198\n",
      "----------------------------------------------------------------------\n"
     ]
    },
    {
     "name": "stderr",
     "output_type": "stream",
     "text": [
      "Epoch 30/100 [TRAIN] LR: 4.84e-04 Teach: 0.51 Scheduler: OneCycleLR:   2%|▏         | 1/44 [00:05<04:13,  5.89s/it, loss=0.799]"
     ]
    },
    {
     "name": "stdout",
     "output_type": "stream",
     "text": [
      "\n",
      "--- Training Batch 0 Examples (Content Only) ---\n",
      "  Pred: '2712AA'\n",
      "  True: '2712AA'\n",
      "  Pred: '8277MS'\n",
      "  True: '8277MS'\n",
      "  Pred: '9688XM'\n",
      "  True: '9688XM'\n",
      "  Pred: '1Y19DF'\n",
      "  True: '9119DF'\n",
      "  Pred: '1337HG'\n",
      "  True: '1337HG'\n",
      "-------------------------------\n"
     ]
    },
    {
     "name": "stderr",
     "output_type": "stream",
     "text": [
      "Epoch 30/100 [TRAIN] LR: 4.84e-04 Teach: 0.51 Scheduler: OneCycleLR: 100%|██████████| 44/44 [01:01<00:00,  1.40s/it, loss=0.801]\n",
      "Epoch 30/100 [VAL]: 100%|██████████| 20/20 [00:29<00:00,  1.46s/it, loss=0.749]\n"
     ]
    },
    {
     "name": "stdout",
     "output_type": "stream",
     "text": [
      "EarlyStopping counter: 2/100 (Best val_acc: 0.9828)\n",
      "\n",
      "Epoch 30/100 | LR: 4.81e-04 | Teach: 0.51 | Scheduler: OneCycleLR\n",
      "  Train Loss: 0.7998 | Train Char Acc: 0.9844\n",
      "  Val Loss: 0.8322   | Val Acc (CRR): 0.9735\n",
      "  Val Exact Match Acc (E2E RR): 0.8936\n",
      "----------------------------------------------------------------------\n"
     ]
    },
    {
     "name": "stderr",
     "output_type": "stream",
     "text": [
      "Epoch 31/100 [TRAIN] LR: 4.81e-04 Teach: 0.50 Scheduler: OneCycleLR:   2%|▏         | 1/44 [00:05<04:00,  5.60s/it, loss=0.816]"
     ]
    },
    {
     "name": "stdout",
     "output_type": "stream",
     "text": [
      "\n",
      "--- Training Batch 0 Examples (Content Only) ---\n",
      "  Pred: 'EZ8402'\n",
      "  True: 'EZ8402'\n",
      "  Pred: '6Q4961'\n",
      "  True: '6Q4961'\n",
      "  Pred: '8A5398'\n",
      "  True: '8A5398'\n",
      "  Pred: 'T41577'\n",
      "  True: 'T41577'\n",
      "  Pred: '6222QT'\n",
      "  True: '6222QT'\n",
      "-------------------------------\n"
     ]
    },
    {
     "name": "stderr",
     "output_type": "stream",
     "text": [
      "Epoch 31/100 [TRAIN] LR: 4.81e-04 Teach: 0.50 Scheduler: OneCycleLR: 100%|██████████| 44/44 [01:02<00:00,  1.41s/it, loss=0.79]\n",
      "Epoch 31/100 [VAL]: 100%|██████████| 20/20 [00:28<00:00,  1.45s/it, loss=0.736]\n"
     ]
    },
    {
     "name": "stdout",
     "output_type": "stream",
     "text": [
      "EarlyStopping counter: 3/100 (Best val_acc: 0.9828)\n",
      "\n",
      "Epoch 31/100 | LR: 4.77e-04 | Teach: 0.50 | Scheduler: OneCycleLR\n",
      "  Train Loss: 0.7977 | Train Char Acc: 0.9851\n",
      "  Val Loss: 0.8224   | Val Acc (CRR): 0.9768\n",
      "  Val Exact Match Acc (E2E RR): 0.9051\n",
      "----------------------------------------------------------------------\n"
     ]
    },
    {
     "name": "stderr",
     "output_type": "stream",
     "text": [
      "Epoch 32/100 [TRAIN] LR: 4.77e-04 Teach: 0.50 Scheduler: OneCycleLR:   2%|▏         | 1/44 [00:05<03:39,  5.11s/it, loss=0.777]"
     ]
    },
    {
     "name": "stdout",
     "output_type": "stream",
     "text": [
      "\n",
      "--- Training Batch 0 Examples (Content Only) ---\n",
      "  Pred: '1200VZ'\n",
      "  True: '1200VZ'\n",
      "  Pred: 'YY9119'\n",
      "  True: 'YY9119'\n",
      "  Pred: '1268GE'\n",
      "  True: '1268GE'\n",
      "  Pred: 'CY9496'\n",
      "  True: 'CY9496'\n",
      "  Pred: '9197YR'\n",
      "  True: '9197YR'\n",
      "-------------------------------\n"
     ]
    },
    {
     "name": "stderr",
     "output_type": "stream",
     "text": [
      "Epoch 32/100 [TRAIN] LR: 4.77e-04 Teach: 0.50 Scheduler: OneCycleLR: 100%|██████████| 44/44 [01:00<00:00,  1.38s/it, loss=0.814]\n",
      "Epoch 32/100 [VAL]: 100%|██████████| 20/20 [00:29<00:00,  1.46s/it, loss=0.738]\n"
     ]
    },
    {
     "name": "stdout",
     "output_type": "stream",
     "text": [
      "EarlyStopping counter: 4/100 (Best val_acc: 0.9828)\n",
      "\n",
      "Epoch 32/100 | LR: 4.73e-04 | Teach: 0.50 | Scheduler: OneCycleLR\n",
      "  Train Loss: 0.7875 | Train Char Acc: 0.9877\n",
      "  Val Loss: 0.8262   | Val Acc (CRR): 0.9741\n",
      "  Val Exact Match Acc (E2E RR): 0.8920\n",
      "----------------------------------------------------------------------\n"
     ]
    },
    {
     "name": "stderr",
     "output_type": "stream",
     "text": [
      "Epoch 33/100 [TRAIN] LR: 4.73e-04 Teach: 0.49 Scheduler: OneCycleLR:   2%|▏         | 1/44 [00:05<03:39,  5.10s/it, loss=0.784]"
     ]
    },
    {
     "name": "stdout",
     "output_type": "stream",
     "text": [
      "\n",
      "--- Training Batch 0 Examples (Content Only) ---\n",
      "  Pred: '0908VE'\n",
      "  True: '0908VE'\n",
      "  Pred: '9136TT'\n",
      "  True: '9136TT'\n",
      "  Pred: 'DD3865'\n",
      "  True: 'DD3865'\n",
      "  Pred: '2598DQ'\n",
      "  True: '2598DQ'\n",
      "  Pred: '7263KT'\n",
      "  True: '7263KT'\n",
      "-------------------------------\n"
     ]
    },
    {
     "name": "stderr",
     "output_type": "stream",
     "text": [
      "Epoch 33/100 [TRAIN] LR: 4.73e-04 Teach: 0.49 Scheduler: OneCycleLR: 100%|██████████| 44/44 [01:00<00:00,  1.38s/it, loss=0.758]\n",
      "Epoch 33/100 [VAL]: 100%|██████████| 20/20 [00:28<00:00,  1.44s/it, loss=0.74]\n"
     ]
    },
    {
     "name": "stdout",
     "output_type": "stream",
     "text": [
      "EarlyStopping counter: 5/100 (Best val_acc: 0.9828)\n",
      "\n",
      "Epoch 33/100 | LR: 4.68e-04 | Teach: 0.49 | Scheduler: OneCycleLR\n",
      "  Train Loss: 0.7858 | Train Char Acc: 0.9878\n",
      "  Val Loss: 0.8238   | Val Acc (CRR): 0.9784\n",
      "  Val Exact Match Acc (E2E RR): 0.9149\n",
      "----------------------------------------------------------------------\n"
     ]
    },
    {
     "name": "stderr",
     "output_type": "stream",
     "text": [
      "Epoch 34/100 [TRAIN] LR: 4.68e-04 Teach: 0.48 Scheduler: OneCycleLR:   2%|▏         | 1/44 [00:05<04:00,  5.60s/it, loss=0.84]"
     ]
    },
    {
     "name": "stdout",
     "output_type": "stream",
     "text": [
      "\n",
      "--- Training Batch 0 Examples (Content Only) ---\n",
      "  Pred: '2081NN'\n",
      "  True: '2081NN'\n",
      "  Pred: 'T41577'\n",
      "  True: 'T41577'\n",
      "  Pred: '7G2323'\n",
      "  True: '7G2323'\n",
      "  Pred: 'UQ8698'\n",
      "  True: 'UQ8698'\n",
      "  Pred: '0325DM'\n",
      "  True: '0325DM'\n",
      "-------------------------------\n"
     ]
    },
    {
     "name": "stderr",
     "output_type": "stream",
     "text": [
      "Epoch 34/100 [TRAIN] LR: 4.68e-04 Teach: 0.48 Scheduler: OneCycleLR: 100%|██████████| 44/44 [01:00<00:00,  1.38s/it, loss=0.821]\n",
      "Epoch 34/100 [VAL]: 100%|██████████| 20/20 [00:28<00:00,  1.45s/it, loss=0.729]\n"
     ]
    },
    {
     "name": "stdout",
     "output_type": "stream",
     "text": [
      "EarlyStopping counter: 6/100 (Best val_acc: 0.9828)\n",
      "\n",
      "Epoch 34/100 | LR: 4.63e-04 | Teach: 0.48 | Scheduler: OneCycleLR\n",
      "  Train Loss: 0.7815 | Train Char Acc: 0.9888\n",
      "  Val Loss: 0.8177   | Val Acc (CRR): 0.9779\n",
      "  Val Exact Match Acc (E2E RR): 0.9100\n",
      "----------------------------------------------------------------------\n"
     ]
    },
    {
     "name": "stderr",
     "output_type": "stream",
     "text": [
      "Epoch 35/100 [TRAIN] LR: 4.63e-04 Teach: 0.48 Scheduler: OneCycleLR:   2%|▏         | 1/44 [00:05<03:38,  5.09s/it, loss=0.793]"
     ]
    },
    {
     "name": "stdout",
     "output_type": "stream",
     "text": [
      "\n",
      "--- Training Batch 0 Examples (Content Only) ---\n",
      "  Pred: 'BU8845'\n",
      "  True: 'BU8845'\n",
      "  Pred: '5008QX'\n",
      "  True: '5008QX'\n",
      "  Pred: '1602EA'\n",
      "  True: '1602EA'\n",
      "  Pred: '9L9835'\n",
      "  True: '9L9835'\n",
      "  Pred: 'G86539'\n",
      "  True: 'G86539'\n",
      "-------------------------------\n"
     ]
    },
    {
     "name": "stderr",
     "output_type": "stream",
     "text": [
      "Epoch 35/100 [TRAIN] LR: 4.63e-04 Teach: 0.48 Scheduler: OneCycleLR: 100%|██████████| 44/44 [01:00<00:00,  1.38s/it, loss=0.761]\n",
      "Epoch 35/100 [VAL]: 100%|██████████| 20/20 [00:28<00:00,  1.45s/it, loss=0.726]\n"
     ]
    },
    {
     "name": "stdout",
     "output_type": "stream",
     "text": [
      "EarlyStopping counter: 7/100 (Best val_acc: 0.9828)\n",
      "\n",
      "Epoch 35/100 | LR: 4.58e-04 | Teach: 0.48 | Scheduler: OneCycleLR\n",
      "  Train Loss: 0.7869 | Train Char Acc: 0.9846\n",
      "  Val Loss: 0.8078   | Val Acc (CRR): 0.9798\n",
      "  Val Exact Match Acc (E2E RR): 0.9133\n",
      "----------------------------------------------------------------------\n"
     ]
    },
    {
     "name": "stderr",
     "output_type": "stream",
     "text": [
      "Epoch 36/100 [TRAIN] LR: 4.58e-04 Teach: 0.47 Scheduler: OneCycleLR:   2%|▏         | 1/44 [00:05<03:53,  5.44s/it, loss=0.784]"
     ]
    },
    {
     "name": "stdout",
     "output_type": "stream",
     "text": [
      "\n",
      "--- Training Batch 0 Examples (Content Only) ---\n",
      "  Pred: '6237JJ'\n",
      "  True: '6237JJ'\n",
      "  Pred: '6568NX'\n",
      "  True: '6568NX'\n",
      "  Pred: 'EX3301'\n",
      "  True: 'EX3301'\n",
      "  Pred: '5875VC'\n",
      "  True: '5875VC'\n",
      "  Pred: '6999TX'\n",
      "  True: '6999TX'\n",
      "-------------------------------\n"
     ]
    },
    {
     "name": "stderr",
     "output_type": "stream",
     "text": [
      "Epoch 36/100 [TRAIN] LR: 4.58e-04 Teach: 0.47 Scheduler: OneCycleLR: 100%|██████████| 44/44 [01:00<00:00,  1.38s/it, loss=0.789]\n",
      "Epoch 36/100 [VAL]: 100%|██████████| 20/20 [00:28<00:00,  1.45s/it, loss=0.733]\n"
     ]
    },
    {
     "name": "stdout",
     "output_type": "stream",
     "text": [
      "EarlyStopping counter: 8/100 (Best val_acc: 0.9828)\n",
      "\n",
      "Epoch 36/100 | LR: 4.52e-04 | Teach: 0.47 | Scheduler: OneCycleLR\n",
      "  Train Loss: 0.7811 | Train Char Acc: 0.9876\n",
      "  Val Loss: 0.8200   | Val Acc (CRR): 0.9782\n",
      "  Val Exact Match Acc (E2E RR): 0.9100\n",
      "----------------------------------------------------------------------\n"
     ]
    },
    {
     "name": "stderr",
     "output_type": "stream",
     "text": [
      "Epoch 37/100 [TRAIN] LR: 4.52e-04 Teach: 0.46 Scheduler: OneCycleLR:   2%|▏         | 1/44 [00:05<03:49,  5.34s/it, loss=0.769]"
     ]
    },
    {
     "name": "stdout",
     "output_type": "stream",
     "text": [
      "\n",
      "--- Training Batch 0 Examples (Content Only) ---\n",
      "  Pred: '8072DQ'\n",
      "  True: '8072DQ'\n",
      "  Pred: '7N6161'\n",
      "  True: '7N6161'\n",
      "  Pred: '6G4892'\n",
      "  True: '6G4892'\n",
      "  Pred: 'R69576'\n",
      "  True: 'R69576'\n",
      "  Pred: 'AG5347'\n",
      "  True: 'AG5347'\n",
      "-------------------------------\n"
     ]
    },
    {
     "name": "stderr",
     "output_type": "stream",
     "text": [
      "Epoch 37/100 [TRAIN] LR: 4.52e-04 Teach: 0.46 Scheduler: OneCycleLR: 100%|██████████| 44/44 [01:01<00:00,  1.40s/it, loss=0.762]\n",
      "Epoch 37/100 [VAL]: 100%|██████████| 20/20 [00:29<00:00,  1.45s/it, loss=0.734]\n"
     ]
    },
    {
     "name": "stdout",
     "output_type": "stream",
     "text": [
      "EarlyStopping counter: 9/100 (Best val_acc: 0.9828)\n",
      "\n",
      "Epoch 37/100 | LR: 4.46e-04 | Teach: 0.46 | Scheduler: OneCycleLR\n",
      "  Train Loss: 0.7753 | Train Char Acc: 0.9882\n",
      "  Val Loss: 0.8027   | Val Acc (CRR): 0.9801\n",
      "  Val Exact Match Acc (E2E RR): 0.9149\n",
      "----------------------------------------------------------------------\n"
     ]
    },
    {
     "name": "stderr",
     "output_type": "stream",
     "text": [
      "Epoch 38/100 [TRAIN] LR: 4.46e-04 Teach: 0.46 Scheduler: OneCycleLR:   2%|▏         | 1/44 [00:06<04:19,  6.02s/it, loss=0.751]"
     ]
    },
    {
     "name": "stdout",
     "output_type": "stream",
     "text": [
      "\n",
      "--- Training Batch 0 Examples (Content Only) ---\n",
      "  Pred: '5600VG'\n",
      "  True: '5600VG'\n",
      "  Pred: 'RS2506'\n",
      "  True: 'RS2506'\n",
      "  Pred: '0872HN'\n",
      "  True: '0872HN'\n",
      "  Pred: '0251HP'\n",
      "  True: '0251HP'\n",
      "  Pred: 'RS8543'\n",
      "  True: 'RS8543'\n",
      "-------------------------------\n"
     ]
    },
    {
     "name": "stderr",
     "output_type": "stream",
     "text": [
      "Epoch 38/100 [TRAIN] LR: 4.46e-04 Teach: 0.46 Scheduler: OneCycleLR: 100%|██████████| 44/44 [01:01<00:00,  1.39s/it, loss=0.749]\n",
      "Epoch 38/100 [VAL]: 100%|██████████| 20/20 [00:28<00:00,  1.44s/it, loss=0.75]\n"
     ]
    },
    {
     "name": "stdout",
     "output_type": "stream",
     "text": [
      "EarlyStopping counter: 10/100 (Best val_acc: 0.9828)\n",
      "\n",
      "Epoch 38/100 | LR: 4.40e-04 | Teach: 0.46 | Scheduler: OneCycleLR\n",
      "  Train Loss: 0.7738 | Train Char Acc: 0.9871\n",
      "  Val Loss: 0.8016   | Val Acc (CRR): 0.9784\n",
      "  Val Exact Match Acc (E2E RR): 0.9100\n",
      "----------------------------------------------------------------------\n"
     ]
    },
    {
     "name": "stderr",
     "output_type": "stream",
     "text": [
      "Epoch 39/100 [TRAIN] LR: 4.40e-04 Teach: 0.45 Scheduler: OneCycleLR:   2%|▏         | 1/44 [00:05<03:49,  5.33s/it, loss=0.773]"
     ]
    },
    {
     "name": "stdout",
     "output_type": "stream",
     "text": [
      "\n",
      "--- Training Batch 0 Examples (Content Only) ---\n",
      "  Pred: 'T51735'\n",
      "  True: 'T51735'\n",
      "  Pred: 'SA8905'\n",
      "  True: 'SA8905'\n",
      "  Pred: 'H39977'\n",
      "  True: 'H39977'\n",
      "  Pred: '6810RR'\n",
      "  True: '6810RR'\n",
      "  Pred: '1937EH'\n",
      "  True: '1937EH'\n",
      "-------------------------------\n"
     ]
    },
    {
     "name": "stderr",
     "output_type": "stream",
     "text": [
      "Epoch 39/100 [TRAIN] LR: 4.40e-04 Teach: 0.45 Scheduler: OneCycleLR: 100%|██████████| 44/44 [01:01<00:00,  1.39s/it, loss=0.783]\n",
      "Epoch 39/100 [VAL]: 100%|██████████| 20/20 [00:29<00:00,  1.46s/it, loss=0.722]\n"
     ]
    },
    {
     "name": "stdout",
     "output_type": "stream",
     "text": [
      "EarlyStopping counter: 11/100 (Best val_acc: 0.9828)\n",
      "\n",
      "Epoch 39/100 | LR: 4.33e-04 | Teach: 0.45 | Scheduler: OneCycleLR\n",
      "  Train Loss: 0.7690 | Train Char Acc: 0.9886\n",
      "  Val Loss: 0.7984   | Val Acc (CRR): 0.9809\n",
      "  Val Exact Match Acc (E2E RR): 0.9214\n",
      "----------------------------------------------------------------------\n"
     ]
    },
    {
     "name": "stderr",
     "output_type": "stream",
     "text": [
      "Epoch 40/100 [TRAIN] LR: 4.33e-04 Teach: 0.44 Scheduler: OneCycleLR:   2%|▏         | 1/44 [00:05<03:53,  5.42s/it, loss=0.774]"
     ]
    },
    {
     "name": "stdout",
     "output_type": "stream",
     "text": [
      "\n",
      "--- Training Batch 0 Examples (Content Only) ---\n",
      "  Pred: '2208DW'\n",
      "  True: '2208DW'\n",
      "  Pred: '9357EX'\n",
      "  True: '9357EX'\n",
      "  Pred: 'Y52510'\n",
      "  True: 'Y52510'\n",
      "  Pred: 'HU8107'\n",
      "  True: 'HU8107'\n",
      "  Pred: 'ZN9120'\n",
      "  True: 'ZN9120'\n",
      "-------------------------------\n"
     ]
    },
    {
     "name": "stderr",
     "output_type": "stream",
     "text": [
      "Epoch 40/100 [TRAIN] LR: 4.33e-04 Teach: 0.44 Scheduler: OneCycleLR: 100%|██████████| 44/44 [01:02<00:00,  1.41s/it, loss=0.745]\n",
      "Epoch 40/100 [VAL]: 100%|██████████| 20/20 [00:29<00:00,  1.50s/it, loss=0.741]\n"
     ]
    },
    {
     "name": "stdout",
     "output_type": "stream",
     "text": [
      "EarlyStopping counter: 12/100 (Best val_acc: 0.9828)\n",
      "\n",
      "Epoch 40/100 | LR: 4.26e-04 | Teach: 0.44 | Scheduler: OneCycleLR\n",
      "  Train Loss: 0.7610 | Train Char Acc: 0.9915\n",
      "  Val Loss: 0.8038   | Val Acc (CRR): 0.9782\n",
      "  Val Exact Match Acc (E2E RR): 0.9067\n",
      "----------------------------------------------------------------------\n"
     ]
    },
    {
     "name": "stderr",
     "output_type": "stream",
     "text": [
      "Epoch 41/100 [TRAIN] LR: 4.26e-04 Teach: 0.44 Scheduler: OneCycleLR:   2%|▏         | 1/44 [00:06<04:37,  6.46s/it, loss=0.783]"
     ]
    },
    {
     "name": "stdout",
     "output_type": "stream",
     "text": [
      "\n",
      "--- Training Batch 0 Examples (Content Only) ---\n",
      "  Pred: '8676FE'\n",
      "  True: '8676FE'\n",
      "  Pred: 'D06949'\n",
      "  True: 'D06949'\n",
      "  Pred: 'V81501'\n",
      "  True: 'V81501'\n",
      "  Pred: 'DU0712'\n",
      "  True: 'DU0712'\n",
      "  Pred: '6P5013'\n",
      "  True: '6P5013'\n",
      "-------------------------------\n"
     ]
    },
    {
     "name": "stderr",
     "output_type": "stream",
     "text": [
      "Epoch 41/100 [TRAIN] LR: 4.26e-04 Teach: 0.44 Scheduler: OneCycleLR: 100%|██████████| 44/44 [01:01<00:00,  1.40s/it, loss=0.777]\n",
      "Epoch 41/100 [VAL]: 100%|██████████| 20/20 [00:30<00:00,  1.51s/it, loss=0.742]\n"
     ]
    },
    {
     "name": "stdout",
     "output_type": "stream",
     "text": [
      "EarlyStopping counter: 13/100 (Best val_acc: 0.9828)\n",
      "\n",
      "Epoch 41/100 | LR: 4.19e-04 | Teach: 0.44 | Scheduler: OneCycleLR\n",
      "  Train Loss: 0.7753 | Train Char Acc: 0.9850\n",
      "  Val Loss: 0.7950   | Val Acc (CRR): 0.9823\n",
      "  Val Exact Match Acc (E2E RR): 0.9280\n",
      "----------------------------------------------------------------------\n"
     ]
    },
    {
     "name": "stderr",
     "output_type": "stream",
     "text": [
      "Epoch 42/100 [TRAIN] LR: 4.19e-04 Teach: 0.43 Scheduler: OneCycleLR:   2%|▏         | 1/44 [00:05<04:01,  5.62s/it, loss=0.772]"
     ]
    },
    {
     "name": "stdout",
     "output_type": "stream",
     "text": [
      "\n",
      "--- Training Batch 0 Examples (Content Only) ---\n",
      "  Pred: '1010YN'\n",
      "  True: '1010YN'\n",
      "  Pred: '1329HA'\n",
      "  True: '1329HA'\n",
      "  Pred: '2N9379'\n",
      "  True: '2N9379'\n",
      "  Pred: '2575KY'\n",
      "  True: '2575KY'\n",
      "  Pred: '7E6868'\n",
      "  True: '7E6868'\n",
      "-------------------------------\n"
     ]
    },
    {
     "name": "stderr",
     "output_type": "stream",
     "text": [
      "Epoch 42/100 [TRAIN] LR: 4.19e-04 Teach: 0.43 Scheduler: OneCycleLR: 100%|██████████| 44/44 [01:02<00:00,  1.42s/it, loss=0.806]\n",
      "Epoch 42/100 [VAL]: 100%|██████████| 20/20 [00:30<00:00,  1.50s/it, loss=0.729]\n"
     ]
    },
    {
     "name": "stdout",
     "output_type": "stream",
     "text": [
      "EarlyStopping counter: 14/100 (Best val_acc: 0.9828)\n",
      "\n",
      "Epoch 42/100 | LR: 4.12e-04 | Teach: 0.43 | Scheduler: OneCycleLR\n",
      "  Train Loss: 0.7704 | Train Char Acc: 0.9860\n",
      "  Val Loss: 0.7992   | Val Acc (CRR): 0.9806\n",
      "  Val Exact Match Acc (E2E RR): 0.9182\n",
      "----------------------------------------------------------------------\n"
     ]
    },
    {
     "name": "stderr",
     "output_type": "stream",
     "text": [
      "Epoch 43/100 [TRAIN] LR: 4.12e-04 Teach: 0.42 Scheduler: OneCycleLR:   2%|▏         | 1/44 [00:06<04:30,  6.29s/it, loss=0.742]"
     ]
    },
    {
     "name": "stdout",
     "output_type": "stream",
     "text": [
      "\n",
      "--- Training Batch 0 Examples (Content Only) ---\n",
      "  Pred: '2208DW'\n",
      "  True: '2208DW'\n",
      "  Pred: 'WZ1252'\n",
      "  True: 'WZ1252'\n",
      "  Pred: '4752DR'\n",
      "  True: '4752DR'\n",
      "  Pred: '4635VG'\n",
      "  True: '4635VG'\n",
      "  Pred: 'N38759'\n",
      "  True: 'N38759'\n",
      "-------------------------------\n"
     ]
    },
    {
     "name": "stderr",
     "output_type": "stream",
     "text": [
      "Epoch 43/100 [TRAIN] LR: 4.12e-04 Teach: 0.42 Scheduler: OneCycleLR: 100%|██████████| 44/44 [01:02<00:00,  1.42s/it, loss=0.757]\n",
      "Epoch 43/100 [VAL]: 100%|██████████| 20/20 [00:30<00:00,  1.52s/it, loss=0.729]\n",
      "/usr/local/lib/python3.11/dist-packages/torch/optim/lr_scheduler.py:62: UserWarning: The verbose parameter is deprecated. Please use get_last_lr() to access the learning rate.\n",
      "  warnings.warn(\n"
     ]
    },
    {
     "name": "stdout",
     "output_type": "stream",
     "text": [
      "EarlyStopping counter: 15/100 (Best val_acc: 0.9828)\n",
      "Val Acc stalled for 100 epochs. Switching to ReduceLROnPlateau.\n",
      "\n",
      "Epoch 43/100 | LR: 4.04e-04 | Teach: 0.42 | Scheduler: ReduceLROnPlateau\n",
      "  Train Loss: 0.7639 | Train Char Acc: 0.9889\n",
      "  Val Loss: 0.8003   | Val Acc (CRR): 0.9790\n",
      "  Val Exact Match Acc (E2E RR): 0.9165\n",
      "----------------------------------------------------------------------\n"
     ]
    },
    {
     "name": "stderr",
     "output_type": "stream",
     "text": [
      "Epoch 44/100 [TRAIN] LR: 4.04e-04 Teach: 0.42 Scheduler: ReduceLROnPlateau:   2%|▏         | 1/44 [00:06<04:36,  6.42s/it, loss=0.816]"
     ]
    },
    {
     "name": "stdout",
     "output_type": "stream",
     "text": [
      "\n",
      "--- Training Batch 0 Examples (Content Only) ---\n",
      "  Pred: '2712AA'\n",
      "  True: '2712AA'\n",
      "  Pred: 'C47966'\n",
      "  True: 'C47966'\n",
      "  Pred: '3923DE'\n",
      "  True: '3923DE'\n",
      "  Pred: '4226ES'\n",
      "  True: '4226ES'\n",
      "  Pred: '5820WW'\n",
      "  True: '5820WW'\n",
      "-------------------------------\n"
     ]
    },
    {
     "name": "stderr",
     "output_type": "stream",
     "text": [
      "Epoch 44/100 [TRAIN] LR: 4.04e-04 Teach: 0.42 Scheduler: ReduceLROnPlateau: 100%|██████████| 44/44 [01:02<00:00,  1.42s/it, loss=0.743]\n",
      "Epoch 44/100 [VAL]: 100%|██████████| 20/20 [00:30<00:00,  1.52s/it, loss=0.737]\n"
     ]
    },
    {
     "name": "stdout",
     "output_type": "stream",
     "text": [
      "EarlyStopping counter: 16/100 (Best val_acc: 0.9828)\n",
      "\n",
      "Epoch 44/100 | LR: 4.04e-04 | Teach: 0.42 | Scheduler: ReduceLROnPlateau\n",
      "  Train Loss: 0.7596 | Train Char Acc: 0.9898\n",
      "  Val Loss: 0.7994   | Val Acc (CRR): 0.9790\n",
      "  Val Exact Match Acc (E2E RR): 0.9116\n",
      "----------------------------------------------------------------------\n"
     ]
    },
    {
     "name": "stderr",
     "output_type": "stream",
     "text": [
      "Epoch 45/100 [TRAIN] LR: 4.04e-04 Teach: 0.41 Scheduler: ReduceLROnPlateau:   2%|▏         | 1/44 [00:05<04:12,  5.86s/it, loss=0.755]"
     ]
    },
    {
     "name": "stdout",
     "output_type": "stream",
     "text": [
      "\n",
      "--- Training Batch 0 Examples (Content Only) ---\n",
      "  Pred: '3V0123'\n",
      "  True: '3V0123'\n",
      "  Pred: '0251RP'\n",
      "  True: '0251HP'\n",
      "  Pred: '3368FK'\n",
      "  True: '3368FK'\n",
      "  Pred: '0531FL'\n",
      "  True: '0531FL'\n",
      "  Pred: '1213FQ'\n",
      "  True: '1213FQ'\n",
      "-------------------------------\n"
     ]
    },
    {
     "name": "stderr",
     "output_type": "stream",
     "text": [
      "Epoch 45/100 [TRAIN] LR: 4.04e-04 Teach: 0.41 Scheduler: ReduceLROnPlateau: 100%|██████████| 44/44 [01:00<00:00,  1.39s/it, loss=0.772]\n",
      "Epoch 45/100 [VAL]: 100%|██████████| 20/20 [00:29<00:00,  1.50s/it, loss=0.719]\n"
     ]
    },
    {
     "name": "stdout",
     "output_type": "stream",
     "text": [
      "EarlyStopping counter: 17/100 (Best val_acc: 0.9828)\n",
      "\n",
      "Epoch 45/100 | LR: 4.04e-04 | Teach: 0.41 | Scheduler: ReduceLROnPlateau\n",
      "  Train Loss: 0.7556 | Train Char Acc: 0.9912\n",
      "  Val Loss: 0.8025   | Val Acc (CRR): 0.9779\n",
      "  Val Exact Match Acc (E2E RR): 0.9100\n",
      "----------------------------------------------------------------------\n"
     ]
    },
    {
     "name": "stderr",
     "output_type": "stream",
     "text": [
      "Epoch 46/100 [TRAIN] LR: 4.04e-04 Teach: 0.40 Scheduler: ReduceLROnPlateau:   2%|▏         | 1/44 [00:05<04:15,  5.94s/it, loss=0.761]"
     ]
    },
    {
     "name": "stdout",
     "output_type": "stream",
     "text": [
      "\n",
      "--- Training Batch 0 Examples (Content Only) ---\n",
      "  Pred: '9215QH'\n",
      "  True: '9215QH'\n",
      "  Pred: '0605EM'\n",
      "  True: '0605EM'\n",
      "  Pred: '4666JJ'\n",
      "  True: '4666JJ'\n",
      "  Pred: '8609QH'\n",
      "  True: '8609QH'\n",
      "  Pred: 'T26406'\n",
      "  True: 'T26406'\n",
      "-------------------------------\n"
     ]
    },
    {
     "name": "stderr",
     "output_type": "stream",
     "text": [
      "Epoch 46/100 [TRAIN] LR: 4.04e-04 Teach: 0.40 Scheduler: ReduceLROnPlateau: 100%|██████████| 44/44 [01:02<00:00,  1.41s/it, loss=0.749]\n",
      "Epoch 46/100 [VAL]: 100%|██████████| 20/20 [00:30<00:00,  1.52s/it, loss=0.722]\n"
     ]
    },
    {
     "name": "stdout",
     "output_type": "stream",
     "text": [
      "EarlyStopping counter: 18/100 (Best val_acc: 0.9828)\n",
      "\n",
      "Epoch 46/100 | LR: 4.04e-04 | Teach: 0.40 | Scheduler: ReduceLROnPlateau\n",
      "  Train Loss: 0.7579 | Train Char Acc: 0.9903\n",
      "  Val Loss: 0.8023   | Val Acc (CRR): 0.9801\n",
      "  Val Exact Match Acc (E2E RR): 0.9231\n",
      "----------------------------------------------------------------------\n"
     ]
    },
    {
     "name": "stderr",
     "output_type": "stream",
     "text": [
      "Epoch 47/100 [TRAIN] LR: 4.04e-04 Teach: 0.40 Scheduler: ReduceLROnPlateau:   2%|▏         | 1/44 [00:06<04:22,  6.11s/it, loss=0.743]"
     ]
    },
    {
     "name": "stdout",
     "output_type": "stream",
     "text": [
      "\n",
      "--- Training Batch 0 Examples (Content Only) ---\n",
      "  Pred: '8455NN'\n",
      "  True: '8455NN'\n",
      "  Pred: '9C5669'\n",
      "  True: '9C5669'\n",
      "  Pred: '1692B6'\n",
      "  True: '1692B6'\n",
      "  Pred: '9109QY'\n",
      "  True: '9109QY'\n",
      "  Pred: '2501QL'\n",
      "  True: '2501QL'\n",
      "-------------------------------\n"
     ]
    },
    {
     "name": "stderr",
     "output_type": "stream",
     "text": [
      "Epoch 47/100 [TRAIN] LR: 4.04e-04 Teach: 0.40 Scheduler: ReduceLROnPlateau: 100%|██████████| 44/44 [01:01<00:00,  1.41s/it, loss=0.773]\n",
      "Epoch 47/100 [VAL]: 100%|██████████| 20/20 [00:29<00:00,  1.49s/it, loss=0.731]\n"
     ]
    },
    {
     "name": "stdout",
     "output_type": "stream",
     "text": [
      "EarlyStopping counter: 19/100 (Best val_acc: 0.9828)\n",
      "\n",
      "Epoch 47/100 | LR: 4.04e-04 | Teach: 0.40 | Scheduler: ReduceLROnPlateau\n",
      "  Train Loss: 0.7610 | Train Char Acc: 0.9886\n",
      "  Val Loss: 0.8047   | Val Acc (CRR): 0.9806\n",
      "  Val Exact Match Acc (E2E RR): 0.9214\n",
      "----------------------------------------------------------------------\n"
     ]
    },
    {
     "name": "stderr",
     "output_type": "stream",
     "text": [
      "Epoch 48/100 [TRAIN] LR: 4.04e-04 Teach: 0.39 Scheduler: ReduceLROnPlateau:   2%|▏         | 1/44 [00:06<04:48,  6.71s/it, loss=0.748]"
     ]
    },
    {
     "name": "stdout",
     "output_type": "stream",
     "text": [
      "\n",
      "--- Training Batch 0 Examples (Content Only) ---\n",
      "  Pred: 'UR1263'\n",
      "  True: 'UR1263'\n",
      "  Pred: '6799LU'\n",
      "  True: '6799LU'\n",
      "  Pred: 'CF5782'\n",
      "  True: 'CF5782'\n",
      "  Pred: '5A8896'\n",
      "  True: '5A8896'\n",
      "  Pred: '1272DR'\n",
      "  True: '1272DR'\n",
      "-------------------------------\n"
     ]
    },
    {
     "name": "stderr",
     "output_type": "stream",
     "text": [
      "Epoch 48/100 [TRAIN] LR: 4.04e-04 Teach: 0.39 Scheduler: ReduceLROnPlateau: 100%|██████████| 44/44 [01:02<00:00,  1.43s/it, loss=0.754]\n",
      "Epoch 48/100 [VAL]: 100%|██████████| 20/20 [00:30<00:00,  1.51s/it, loss=0.717]\n"
     ]
    },
    {
     "name": "stdout",
     "output_type": "stream",
     "text": [
      "EarlyStopping counter: 20/100 (Best val_acc: 0.9828)\n",
      "\n",
      "Epoch 48/100 | LR: 4.04e-04 | Teach: 0.39 | Scheduler: ReduceLROnPlateau\n",
      "  Train Loss: 0.7579 | Train Char Acc: 0.9895\n",
      "  Val Loss: 0.8021   | Val Acc (CRR): 0.9795\n",
      "  Val Exact Match Acc (E2E RR): 0.9198\n",
      "----------------------------------------------------------------------\n"
     ]
    },
    {
     "name": "stderr",
     "output_type": "stream",
     "text": [
      "Epoch 49/100 [TRAIN] LR: 4.04e-04 Teach: 0.38 Scheduler: ReduceLROnPlateau:   2%|▏         | 1/44 [00:06<04:33,  6.36s/it, loss=0.734]"
     ]
    },
    {
     "name": "stdout",
     "output_type": "stream",
     "text": [
      "\n",
      "--- Training Batch 0 Examples (Content Only) ---\n",
      "  Pred: 'A26649'\n",
      "  True: 'A26649'\n",
      "  Pred: '5676DM'\n",
      "  True: '5676DM'\n",
      "  Pred: '7305VP'\n",
      "  True: '7305VP'\n",
      "  Pred: '5565EY'\n",
      "  True: '5565EY'\n",
      "  Pred: '9V6250'\n",
      "  True: '9V6250'\n",
      "-------------------------------\n"
     ]
    },
    {
     "name": "stderr",
     "output_type": "stream",
     "text": [
      "Epoch 49/100 [TRAIN] LR: 4.04e-04 Teach: 0.38 Scheduler: ReduceLROnPlateau: 100%|██████████| 44/44 [01:02<00:00,  1.43s/it, loss=0.741]\n",
      "Epoch 49/100 [VAL]: 100%|██████████| 20/20 [00:30<00:00,  1.51s/it, loss=0.71]\n"
     ]
    },
    {
     "name": "stdout",
     "output_type": "stream",
     "text": [
      "EarlyStopping counter: 21/100 (Best val_acc: 0.9828)\n",
      "\n",
      "Epoch 49/100 | LR: 4.04e-04 | Teach: 0.38 | Scheduler: ReduceLROnPlateau\n",
      "  Train Loss: 0.7564 | Train Char Acc: 0.9901\n",
      "  Val Loss: 0.7897   | Val Acc (CRR): 0.9809\n",
      "  Val Exact Match Acc (E2E RR): 0.9231\n",
      "----------------------------------------------------------------------\n"
     ]
    },
    {
     "name": "stderr",
     "output_type": "stream",
     "text": [
      "Epoch 50/100 [TRAIN] LR: 4.04e-04 Teach: 0.38 Scheduler: ReduceLROnPlateau:   2%|▏         | 1/44 [00:06<04:18,  6.01s/it, loss=0.782]"
     ]
    },
    {
     "name": "stdout",
     "output_type": "stream",
     "text": [
      "\n",
      "--- Training Batch 0 Examples (Content Only) ---\n",
      "  Pred: '2T3926'\n",
      "  True: '2T3926'\n",
      "  Pred: '3905RY'\n",
      "  True: '3905RY'\n",
      "  Pred: '8075MV'\n",
      "  True: '8075MV'\n",
      "  Pred: 'CF5782'\n",
      "  True: 'CF5782'\n",
      "  Pred: '7569VK'\n",
      "  True: '7569VK'\n",
      "-------------------------------\n"
     ]
    },
    {
     "name": "stderr",
     "output_type": "stream",
     "text": [
      "Epoch 50/100 [TRAIN] LR: 4.04e-04 Teach: 0.38 Scheduler: ReduceLROnPlateau: 100%|██████████| 44/44 [01:02<00:00,  1.41s/it, loss=0.726]\n",
      "Epoch 50/100 [VAL]: 100%|██████████| 20/20 [00:29<00:00,  1.49s/it, loss=0.718]\n"
     ]
    },
    {
     "name": "stdout",
     "output_type": "stream",
     "text": [
      "EarlyStopping counter: 22/100 (Best val_acc: 0.9828)\n",
      "\n",
      "Epoch 50/100 | LR: 4.04e-04 | Teach: 0.38 | Scheduler: ReduceLROnPlateau\n",
      "  Train Loss: 0.7518 | Train Char Acc: 0.9905\n",
      "  Val Loss: 0.7958   | Val Acc (CRR): 0.9801\n",
      "  Val Exact Match Acc (E2E RR): 0.9214\n",
      "----------------------------------------------------------------------\n"
     ]
    },
    {
     "name": "stderr",
     "output_type": "stream",
     "text": [
      "Epoch 51/100 [TRAIN] LR: 4.04e-04 Teach: 0.37 Scheduler: ReduceLROnPlateau:   2%|▏         | 1/44 [00:05<04:15,  5.95s/it, loss=0.761]"
     ]
    },
    {
     "name": "stdout",
     "output_type": "stream",
     "text": [
      "\n",
      "--- Training Batch 0 Examples (Content Only) ---\n",
      "  Pred: 'SC4697'\n",
      "  True: 'SC4697'\n",
      "  Pred: '2808XX'\n",
      "  True: '2808XX'\n",
      "  Pred: '8072DQ'\n",
      "  True: '8072DQ'\n",
      "  Pred: 'RU3359'\n",
      "  True: 'RU3359'\n",
      "  Pred: '2401LL'\n",
      "  True: '2401LL'\n",
      "-------------------------------\n"
     ]
    },
    {
     "name": "stderr",
     "output_type": "stream",
     "text": [
      "Epoch 51/100 [TRAIN] LR: 4.04e-04 Teach: 0.37 Scheduler: ReduceLROnPlateau: 100%|██████████| 44/44 [01:01<00:00,  1.40s/it, loss=0.741]\n",
      "Epoch 51/100 [VAL]: 100%|██████████| 20/20 [00:30<00:00,  1.50s/it, loss=0.714]\n"
     ]
    },
    {
     "name": "stdout",
     "output_type": "stream",
     "text": [
      "EarlyStopping counter: 23/100 (Best val_acc: 0.9828)\n",
      "\n",
      "Epoch 51/100 | LR: 4.04e-04 | Teach: 0.37 | Scheduler: ReduceLROnPlateau\n",
      "  Train Loss: 0.7539 | Train Char Acc: 0.9901\n",
      "  Val Loss: 0.7930   | Val Acc (CRR): 0.9809\n",
      "  Val Exact Match Acc (E2E RR): 0.9231\n",
      "----------------------------------------------------------------------\n"
     ]
    },
    {
     "name": "stderr",
     "output_type": "stream",
     "text": [
      "Epoch 52/100 [TRAIN] LR: 4.04e-04 Teach: 0.37 Scheduler: ReduceLROnPlateau:   2%|▏         | 1/44 [00:06<04:36,  6.43s/it, loss=0.729]"
     ]
    },
    {
     "name": "stdout",
     "output_type": "stream",
     "text": [
      "\n",
      "--- Training Batch 0 Examples (Content Only) ---\n",
      "  Pred: 'SB5268'\n",
      "  True: 'SB5268'\n",
      "  Pred: '8828JZ'\n",
      "  True: '8828JZ'\n",
      "  Pred: '7G1333'\n",
      "  True: '7G1333'\n",
      "  Pred: '6695MS'\n",
      "  True: '6695MS'\n",
      "  Pred: 'L08599'\n",
      "  True: 'L08599'\n",
      "-------------------------------\n"
     ]
    },
    {
     "name": "stderr",
     "output_type": "stream",
     "text": [
      "Epoch 52/100 [TRAIN] LR: 4.04e-04 Teach: 0.37 Scheduler: ReduceLROnPlateau: 100%|██████████| 44/44 [01:02<00:00,  1.41s/it, loss=0.797]\n",
      "Epoch 52/100 [VAL]: 100%|██████████| 20/20 [00:29<00:00,  1.49s/it, loss=0.708]\n"
     ]
    },
    {
     "name": "stdout",
     "output_type": "stream",
     "text": [
      "EarlyStopping counter: 24/100 (Best val_acc: 0.9828)\n",
      "\n",
      "Epoch 52/100 | LR: 2.02e-04 | Teach: 0.37 | Scheduler: ReduceLROnPlateau\n",
      "  Train Loss: 0.7517 | Train Char Acc: 0.9897\n",
      "  Val Loss: 0.7930   | Val Acc (CRR): 0.9793\n",
      "  Val Exact Match Acc (E2E RR): 0.9182\n",
      "----------------------------------------------------------------------\n"
     ]
    },
    {
     "name": "stderr",
     "output_type": "stream",
     "text": [
      "Epoch 53/100 [TRAIN] LR: 2.02e-04 Teach: 0.36 Scheduler: ReduceLROnPlateau:   2%|▏         | 1/44 [00:06<04:40,  6.53s/it, loss=0.722]"
     ]
    },
    {
     "name": "stdout",
     "output_type": "stream",
     "text": [
      "\n",
      "--- Training Batch 0 Examples (Content Only) ---\n",
      "  Pred: '5008QX'\n",
      "  True: '5008QX'\n",
      "  Pred: '3580DX'\n",
      "  True: '3580DX'\n",
      "  Pred: '6887DZ'\n",
      "  True: '6887DZ'\n",
      "  Pred: 'SQ0158'\n",
      "  True: 'SQ0158'\n",
      "  Pred: '7K9510'\n",
      "  True: '7K9510'\n",
      "-------------------------------\n"
     ]
    },
    {
     "name": "stderr",
     "output_type": "stream",
     "text": [
      "Epoch 53/100 [TRAIN] LR: 2.02e-04 Teach: 0.36 Scheduler: ReduceLROnPlateau: 100%|██████████| 44/44 [01:02<00:00,  1.42s/it, loss=0.744]\n",
      "Epoch 53/100 [VAL]: 100%|██████████| 20/20 [00:29<00:00,  1.50s/it, loss=0.707]\n"
     ]
    },
    {
     "name": "stdout",
     "output_type": "stream",
     "text": [
      "EarlyStopping counter: 25/100 (Best val_acc: 0.9828)\n",
      "\n",
      "Epoch 53/100 | LR: 2.02e-04 | Teach: 0.36 | Scheduler: ReduceLROnPlateau\n",
      "  Train Loss: 0.7478 | Train Char Acc: 0.9908\n",
      "  Val Loss: 0.7868   | Val Acc (CRR): 0.9814\n",
      "  Val Exact Match Acc (E2E RR): 0.9280\n",
      "----------------------------------------------------------------------\n"
     ]
    },
    {
     "name": "stderr",
     "output_type": "stream",
     "text": [
      "Epoch 54/100 [TRAIN] LR: 2.02e-04 Teach: 0.35 Scheduler: ReduceLROnPlateau:   2%|▏         | 1/44 [00:05<04:04,  5.70s/it, loss=0.767]"
     ]
    },
    {
     "name": "stdout",
     "output_type": "stream",
     "text": [
      "\n",
      "--- Training Batch 0 Examples (Content Only) ---\n",
      "  Pred: '5B0379'\n",
      "  True: '5B0379'\n",
      "  Pred: '2165D'\n",
      "  True: '2160YR'\n",
      "  Pred: '7615RG'\n",
      "  True: '7615RG'\n",
      "  Pred: 'L08599'\n",
      "  True: 'L08599'\n",
      "  Pred: '3083DE'\n",
      "  True: '3083DE'\n",
      "-------------------------------\n"
     ]
    },
    {
     "name": "stderr",
     "output_type": "stream",
     "text": [
      "Epoch 54/100 [TRAIN] LR: 2.02e-04 Teach: 0.35 Scheduler: ReduceLROnPlateau: 100%|██████████| 44/44 [01:01<00:00,  1.40s/it, loss=0.725]\n",
      "Epoch 54/100 [VAL]: 100%|██████████| 20/20 [00:29<00:00,  1.49s/it, loss=0.722]\n"
     ]
    },
    {
     "name": "stdout",
     "output_type": "stream",
     "text": [
      "EarlyStopping counter: 26/100 (Best val_acc: 0.9828)\n",
      "\n",
      "Epoch 54/100 | LR: 2.02e-04 | Teach: 0.35 | Scheduler: ReduceLROnPlateau\n",
      "  Train Loss: 0.7428 | Train Char Acc: 0.9917\n",
      "  Val Loss: 0.7874   | Val Acc (CRR): 0.9823\n",
      "  Val Exact Match Acc (E2E RR): 0.9296\n",
      "----------------------------------------------------------------------\n"
     ]
    },
    {
     "name": "stderr",
     "output_type": "stream",
     "text": [
      "Epoch 55/100 [TRAIN] LR: 2.02e-04 Teach: 0.35 Scheduler: ReduceLROnPlateau:   2%|▏         | 1/44 [00:06<04:22,  6.10s/it, loss=0.746]"
     ]
    },
    {
     "name": "stdout",
     "output_type": "stream",
     "text": [
      "\n",
      "--- Training Batch 0 Examples (Content Only) ---\n",
      "  Pred: '6617ZS'\n",
      "  True: '6617ZS'\n",
      "  Pred: 'DV7029'\n",
      "  True: 'DV7029'\n",
      "  Pred: '8A5398'\n",
      "  True: '8A5398'\n",
      "  Pred: '3203KT'\n",
      "  True: '3203KT'\n",
      "  Pred: '1953QD'\n",
      "  True: '1953QD'\n",
      "-------------------------------\n"
     ]
    },
    {
     "name": "stderr",
     "output_type": "stream",
     "text": [
      "Epoch 55/100 [TRAIN] LR: 2.02e-04 Teach: 0.35 Scheduler: ReduceLROnPlateau: 100%|██████████| 44/44 [01:02<00:00,  1.41s/it, loss=0.722]\n",
      "Epoch 55/100 [VAL]: 100%|██████████| 20/20 [00:31<00:00,  1.60s/it, loss=0.715]\n"
     ]
    },
    {
     "name": "stdout",
     "output_type": "stream",
     "text": [
      "EarlyStopping counter: 27/100 (Best val_acc: 0.9828)\n",
      "\n",
      "Epoch 55/100 | LR: 2.02e-04 | Teach: 0.35 | Scheduler: ReduceLROnPlateau\n",
      "  Train Loss: 0.7362 | Train Char Acc: 0.9938\n",
      "  Val Loss: 0.7886   | Val Acc (CRR): 0.9831\n",
      "  Val Exact Match Acc (E2E RR): 0.9329\n",
      "----------------------------------------------------------------------\n",
      "*** New best validation accuracy: 0.9831. Saving best_model.pth ***\n"
     ]
    },
    {
     "name": "stderr",
     "output_type": "stream",
     "text": [
      "Epoch 56/100 [TRAIN] LR: 2.02e-04 Teach: 0.34 Scheduler: ReduceLROnPlateau:   2%|▏         | 1/44 [00:05<04:15,  5.94s/it, loss=0.786]"
     ]
    },
    {
     "name": "stdout",
     "output_type": "stream",
     "text": [
      "\n",
      "--- Training Batch 0 Examples (Content Only) ---\n",
      "  Pred: '5570HW'\n",
      "  True: '5570HW'\n",
      "  Pred: '0358DU'\n",
      "  True: '0358DU'\n",
      "  Pred: 'J26655'\n",
      "  True: 'J26655'\n",
      "  Pred: '2D9773'\n",
      "  True: '2D9773'\n",
      "  Pred: '8455NN'\n",
      "  True: '8455NN'\n",
      "-------------------------------\n"
     ]
    },
    {
     "name": "stderr",
     "output_type": "stream",
     "text": [
      "Epoch 56/100 [TRAIN] LR: 2.02e-04 Teach: 0.34 Scheduler: ReduceLROnPlateau: 100%|██████████| 44/44 [01:01<00:00,  1.41s/it, loss=0.831]\n",
      "Epoch 56/100 [VAL]: 100%|██████████| 20/20 [00:28<00:00,  1.45s/it, loss=0.712]\n"
     ]
    },
    {
     "name": "stdout",
     "output_type": "stream",
     "text": [
      "EarlyStopping counter: 28/100 (Best val_acc: 0.9828)\n",
      "\n",
      "Epoch 56/100 | LR: 2.02e-04 | Teach: 0.34 | Scheduler: ReduceLROnPlateau\n",
      "  Train Loss: 0.7484 | Train Char Acc: 0.9895\n",
      "  Val Loss: 0.7829   | Val Acc (CRR): 0.9809\n",
      "  Val Exact Match Acc (E2E RR): 0.9264\n",
      "----------------------------------------------------------------------\n"
     ]
    },
    {
     "name": "stderr",
     "output_type": "stream",
     "text": [
      "Epoch 57/100 [TRAIN] LR: 2.02e-04 Teach: 0.33 Scheduler: ReduceLROnPlateau:   2%|▏         | 1/44 [00:05<04:17,  5.98s/it, loss=0.726]"
     ]
    },
    {
     "name": "stdout",
     "output_type": "stream",
     "text": [
      "\n",
      "--- Training Batch 0 Examples (Content Only) ---\n",
      "  Pred: '6237JJ'\n",
      "  True: '6237JJ'\n",
      "  Pred: 'P92580'\n",
      "  True: 'P92580'\n",
      "  Pred: '7385TH'\n",
      "  True: '7385TH'\n",
      "  Pred: '0723DW'\n",
      "  True: '0723DW'\n",
      "  Pred: 'Q79115'\n",
      "  True: 'Q79115'\n",
      "-------------------------------\n"
     ]
    },
    {
     "name": "stderr",
     "output_type": "stream",
     "text": [
      "Epoch 57/100 [TRAIN] LR: 2.02e-04 Teach: 0.33 Scheduler: ReduceLROnPlateau: 100%|██████████| 44/44 [01:01<00:00,  1.40s/it, loss=0.73]\n",
      "Epoch 57/100 [VAL]: 100%|██████████| 20/20 [00:28<00:00,  1.44s/it, loss=0.723]\n"
     ]
    },
    {
     "name": "stdout",
     "output_type": "stream",
     "text": [
      "EarlyStopping counter: 29/100 (Best val_acc: 0.9828)\n",
      "\n",
      "Epoch 57/100 | LR: 2.02e-04 | Teach: 0.33 | Scheduler: ReduceLROnPlateau\n",
      "  Train Loss: 0.7427 | Train Char Acc: 0.9916\n",
      "  Val Loss: 0.7841   | Val Acc (CRR): 0.9814\n",
      "  Val Exact Match Acc (E2E RR): 0.9264\n",
      "----------------------------------------------------------------------\n"
     ]
    },
    {
     "name": "stderr",
     "output_type": "stream",
     "text": [
      "Epoch 58/100 [TRAIN] LR: 2.02e-04 Teach: 0.33 Scheduler: ReduceLROnPlateau:   2%|▏         | 1/44 [00:06<04:24,  6.14s/it, loss=0.719]"
     ]
    },
    {
     "name": "stdout",
     "output_type": "stream",
     "text": [
      "\n",
      "--- Training Batch 0 Examples (Content Only) ---\n",
      "  Pred: 'DW8741'\n",
      "  True: 'DW8741'\n",
      "  Pred: '8D3457'\n",
      "  True: '8D3457'\n",
      "  Pred: '0550EK'\n",
      "  True: '0550EK'\n",
      "  Pred: 'ZZ4230'\n",
      "  True: 'ZZ4230'\n",
      "  Pred: '5D7379'\n",
      "  True: '5D7379'\n",
      "-------------------------------\n"
     ]
    },
    {
     "name": "stderr",
     "output_type": "stream",
     "text": [
      "Epoch 58/100 [TRAIN] LR: 2.02e-04 Teach: 0.33 Scheduler: ReduceLROnPlateau: 100%|██████████| 44/44 [01:01<00:00,  1.39s/it, loss=0.721]\n",
      "Epoch 58/100 [VAL]: 100%|██████████| 20/20 [00:28<00:00,  1.45s/it, loss=0.714]\n"
     ]
    },
    {
     "name": "stdout",
     "output_type": "stream",
     "text": [
      "EarlyStopping counter: 30/100 (Best val_acc: 0.9828)\n",
      "\n",
      "Epoch 58/100 | LR: 1.01e-04 | Teach: 0.33 | Scheduler: ReduceLROnPlateau\n",
      "  Train Loss: 0.7426 | Train Char Acc: 0.9905\n",
      "  Val Loss: 0.7854   | Val Acc (CRR): 0.9812\n",
      "  Val Exact Match Acc (E2E RR): 0.9264\n",
      "----------------------------------------------------------------------\n"
     ]
    },
    {
     "name": "stderr",
     "output_type": "stream",
     "text": [
      "Epoch 59/100 [TRAIN] LR: 1.01e-04 Teach: 0.32 Scheduler: ReduceLROnPlateau:   2%|▏         | 1/44 [00:05<04:01,  5.61s/it, loss=0.725]"
     ]
    },
    {
     "name": "stdout",
     "output_type": "stream",
     "text": [
      "\n",
      "--- Training Batch 0 Examples (Content Only) ---\n",
      "  Pred: '0506YE'\n",
      "  True: '0506YE'\n",
      "  Pred: 'DC1759'\n",
      "  True: 'DC1759'\n",
      "  Pred: 'Y72808'\n",
      "  True: 'Y72808'\n",
      "  Pred: '6788LL'\n",
      "  True: '6788LL'\n",
      "  Pred: 'A26649'\n",
      "  True: 'A26649'\n",
      "-------------------------------\n"
     ]
    },
    {
     "name": "stderr",
     "output_type": "stream",
     "text": [
      "Epoch 59/100 [TRAIN] LR: 1.01e-04 Teach: 0.32 Scheduler: ReduceLROnPlateau: 100%|██████████| 44/44 [01:00<00:00,  1.38s/it, loss=0.72]\n",
      "Epoch 59/100 [VAL]: 100%|██████████| 20/20 [00:28<00:00,  1.44s/it, loss=0.716]\n"
     ]
    },
    {
     "name": "stdout",
     "output_type": "stream",
     "text": [
      "EarlyStopping counter: 31/100 (Best val_acc: 0.9828)\n",
      "\n",
      "Epoch 59/100 | LR: 1.01e-04 | Teach: 0.32 | Scheduler: ReduceLROnPlateau\n",
      "  Train Loss: 0.7362 | Train Char Acc: 0.9928\n",
      "  Val Loss: 0.7852   | Val Acc (CRR): 0.9817\n",
      "  Val Exact Match Acc (E2E RR): 0.9264\n",
      "----------------------------------------------------------------------\n"
     ]
    },
    {
     "name": "stderr",
     "output_type": "stream",
     "text": [
      "Epoch 60/100 [TRAIN] LR: 1.01e-04 Teach: 0.31 Scheduler: ReduceLROnPlateau:   2%|▏         | 1/44 [00:05<04:16,  5.97s/it, loss=0.766]"
     ]
    },
    {
     "name": "stdout",
     "output_type": "stream",
     "text": [
      "\n",
      "--- Training Batch 0 Examples (Content Only) ---\n",
      "  Pred: '2B2439'\n",
      "  True: '2B2439'\n",
      "  Pred: '7N8062'\n",
      "  True: '7N8062'\n",
      "  Pred: 'P97165'\n",
      "  True: 'P97165'\n",
      "  Pred: '1362DU'\n",
      "  True: '1362DU'\n",
      "  Pred: '5385EL'\n",
      "  True: '5385EL'\n",
      "-------------------------------\n"
     ]
    },
    {
     "name": "stderr",
     "output_type": "stream",
     "text": [
      "Epoch 60/100 [TRAIN] LR: 1.01e-04 Teach: 0.31 Scheduler: ReduceLROnPlateau: 100%|██████████| 44/44 [01:01<00:00,  1.40s/it, loss=0.724]\n",
      "Epoch 60/100 [VAL]: 100%|██████████| 20/20 [00:28<00:00,  1.45s/it, loss=0.717]\n"
     ]
    },
    {
     "name": "stdout",
     "output_type": "stream",
     "text": [
      "EarlyStopping counter: 32/100 (Best val_acc: 0.9828)\n",
      "\n",
      "Epoch 60/100 | LR: 1.01e-04 | Teach: 0.31 | Scheduler: ReduceLROnPlateau\n",
      "  Train Loss: 0.7367 | Train Char Acc: 0.9925\n",
      "  Val Loss: 0.7809   | Val Acc (CRR): 0.9806\n",
      "  Val Exact Match Acc (E2E RR): 0.9214\n",
      "----------------------------------------------------------------------\n"
     ]
    },
    {
     "name": "stderr",
     "output_type": "stream",
     "text": [
      "Epoch 61/100 [TRAIN] LR: 1.01e-04 Teach: 0.31 Scheduler: ReduceLROnPlateau:   2%|▏         | 1/44 [00:05<04:03,  5.67s/it, loss=0.727]"
     ]
    },
    {
     "name": "stdout",
     "output_type": "stream",
     "text": [
      "\n",
      "--- Training Batch 0 Examples (Content Only) ---\n",
      "  Pred: '7569VK'\n",
      "  True: '7569VK'\n",
      "  Pred: '8U3886'\n",
      "  True: '8U3886'\n",
      "  Pred: '2209BB'\n",
      "  True: '2209BB'\n",
      "  Pred: '6V4536'\n",
      "  True: '6V4536'\n",
      "  Pred: '6535NN'\n",
      "  True: '6535NN'\n",
      "-------------------------------\n"
     ]
    },
    {
     "name": "stderr",
     "output_type": "stream",
     "text": [
      "Epoch 61/100 [TRAIN] LR: 1.01e-04 Teach: 0.31 Scheduler: ReduceLROnPlateau: 100%|██████████| 44/44 [01:01<00:00,  1.40s/it, loss=0.721]\n",
      "Epoch 61/100 [VAL]: 100%|██████████| 20/20 [00:29<00:00,  1.46s/it, loss=0.723]\n"
     ]
    },
    {
     "name": "stdout",
     "output_type": "stream",
     "text": [
      "EarlyStopping counter: 33/100 (Best val_acc: 0.9828)\n",
      "\n",
      "Epoch 61/100 | LR: 5.06e-05 | Teach: 0.31 | Scheduler: ReduceLROnPlateau\n",
      "  Train Loss: 0.7325 | Train Char Acc: 0.9935\n",
      "  Val Loss: 0.7820   | Val Acc (CRR): 0.9823\n",
      "  Val Exact Match Acc (E2E RR): 0.9280\n",
      "----------------------------------------------------------------------\n"
     ]
    },
    {
     "name": "stderr",
     "output_type": "stream",
     "text": [
      "Epoch 62/100 [TRAIN] LR: 5.06e-05 Teach: 0.30 Scheduler: ReduceLROnPlateau:   2%|▏         | 1/44 [00:05<03:54,  5.46s/it, loss=0.727]"
     ]
    },
    {
     "name": "stdout",
     "output_type": "stream",
     "text": [
      "\n",
      "--- Training Batch 0 Examples (Content Only) ---\n",
      "  Pred: 'Y52510'\n",
      "  True: 'Y52510'\n",
      "  Pred: 'N30237'\n",
      "  True: 'N30237'\n",
      "  Pred: '9931MY'\n",
      "  True: '9931MY'\n",
      "  Pred: '9G1582'\n",
      "  True: '9G1582'\n",
      "  Pred: 'BN6341'\n",
      "  True: 'BN6341'\n",
      "-------------------------------\n"
     ]
    },
    {
     "name": "stderr",
     "output_type": "stream",
     "text": [
      "Epoch 62/100 [TRAIN] LR: 5.06e-05 Teach: 0.30 Scheduler: ReduceLROnPlateau: 100%|██████████| 44/44 [01:00<00:00,  1.38s/it, loss=0.723]\n",
      "Epoch 62/100 [VAL]: 100%|██████████| 20/20 [00:28<00:00,  1.45s/it, loss=0.716]\n"
     ]
    },
    {
     "name": "stdout",
     "output_type": "stream",
     "text": [
      "EarlyStopping counter: 34/100 (Best val_acc: 0.9828)\n",
      "\n",
      "Epoch 62/100 | LR: 5.06e-05 | Teach: 0.30 | Scheduler: ReduceLROnPlateau\n",
      "  Train Loss: 0.7332 | Train Char Acc: 0.9923\n",
      "  Val Loss: 0.7803   | Val Acc (CRR): 0.9809\n",
      "  Val Exact Match Acc (E2E RR): 0.9231\n",
      "----------------------------------------------------------------------\n"
     ]
    },
    {
     "name": "stderr",
     "output_type": "stream",
     "text": [
      "Epoch 63/100 [TRAIN] LR: 5.06e-05 Teach: 0.29 Scheduler: ReduceLROnPlateau:   2%|▏         | 1/44 [00:05<03:47,  5.29s/it, loss=0.775]"
     ]
    },
    {
     "name": "stdout",
     "output_type": "stream",
     "text": [
      "\n",
      "--- Training Batch 0 Examples (Content Only) ---\n",
      "  Pred: '1552CC'\n",
      "  True: '1552CC'\n",
      "  Pred: 'C94910'\n",
      "  True: 'C94910'\n",
      "  Pred: 'T71920'\n",
      "  True: 'T71920'\n",
      "  Pred: '0562VA'\n",
      "  True: '0562VA'\n",
      "  Pred: '8269ED'\n",
      "  True: '8269ED'\n",
      "-------------------------------\n"
     ]
    },
    {
     "name": "stderr",
     "output_type": "stream",
     "text": [
      "Epoch 63/100 [TRAIN] LR: 5.06e-05 Teach: 0.29 Scheduler: ReduceLROnPlateau: 100%|██████████| 44/44 [01:01<00:00,  1.40s/it, loss=0.711]\n",
      "Epoch 63/100 [VAL]: 100%|██████████| 20/20 [00:28<00:00,  1.44s/it, loss=0.722]\n"
     ]
    },
    {
     "name": "stdout",
     "output_type": "stream",
     "text": [
      "EarlyStopping counter: 35/100 (Best val_acc: 0.9828)\n",
      "\n",
      "Epoch 63/100 | LR: 5.06e-05 | Teach: 0.29 | Scheduler: ReduceLROnPlateau\n",
      "  Train Loss: 0.7381 | Train Char Acc: 0.9902\n",
      "  Val Loss: 0.7822   | Val Acc (CRR): 0.9817\n",
      "  Val Exact Match Acc (E2E RR): 0.9247\n",
      "----------------------------------------------------------------------\n"
     ]
    },
    {
     "name": "stderr",
     "output_type": "stream",
     "text": [
      "Epoch 64/100 [TRAIN] LR: 5.06e-05 Teach: 0.29 Scheduler: ReduceLROnPlateau:   2%|▏         | 1/44 [00:05<04:17,  5.98s/it, loss=0.719]"
     ]
    },
    {
     "name": "stdout",
     "output_type": "stream",
     "text": [
      "\n",
      "--- Training Batch 0 Examples (Content Only) ---\n",
      "  Pred: 'CH2518'\n",
      "  True: 'CH2518'\n",
      "  Pred: '3A7705'\n",
      "  True: '3A7705'\n",
      "  Pred: '3591VH'\n",
      "  True: '3591VH'\n",
      "  Pred: 'A89228'\n",
      "  True: 'A89228'\n",
      "  Pred: 'E03786'\n",
      "  True: 'E03786'\n",
      "-------------------------------\n"
     ]
    },
    {
     "name": "stderr",
     "output_type": "stream",
     "text": [
      "Epoch 64/100 [TRAIN] LR: 5.06e-05 Teach: 0.29 Scheduler: ReduceLROnPlateau: 100%|██████████| 44/44 [01:01<00:00,  1.40s/it, loss=0.724]\n",
      "Epoch 64/100 [VAL]: 100%|██████████| 20/20 [00:29<00:00,  1.46s/it, loss=0.725]\n"
     ]
    },
    {
     "name": "stdout",
     "output_type": "stream",
     "text": [
      "EarlyStopping counter: 36/100 (Best val_acc: 0.9828)\n",
      "\n",
      "Epoch 64/100 | LR: 2.53e-05 | Teach: 0.29 | Scheduler: ReduceLROnPlateau\n",
      "  Train Loss: 0.7314 | Train Char Acc: 0.9934\n",
      "  Val Loss: 0.7880   | Val Acc (CRR): 0.9809\n",
      "  Val Exact Match Acc (E2E RR): 0.9231\n",
      "----------------------------------------------------------------------\n"
     ]
    },
    {
     "name": "stderr",
     "output_type": "stream",
     "text": [
      "Epoch 65/100 [TRAIN] LR: 2.53e-05 Teach: 0.28 Scheduler: ReduceLROnPlateau:   2%|▏         | 1/44 [00:06<04:25,  6.18s/it, loss=0.715]"
     ]
    },
    {
     "name": "stdout",
     "output_type": "stream",
     "text": [
      "\n",
      "--- Training Batch 0 Examples (Content Only) ---\n",
      "  Pred: 'S61593'\n",
      "  True: 'S61593'\n",
      "  Pred: '6678FG'\n",
      "  True: '6678FG'\n",
      "  Pred: '2267HH'\n",
      "  True: '2267HH'\n",
      "  Pred: '8799TT'\n",
      "  True: '8799TT'\n",
      "  Pred: 'CU4875'\n",
      "  True: 'CU4875'\n",
      "-------------------------------\n"
     ]
    },
    {
     "name": "stderr",
     "output_type": "stream",
     "text": [
      "Epoch 65/100 [TRAIN] LR: 2.53e-05 Teach: 0.28 Scheduler: ReduceLROnPlateau: 100%|██████████| 44/44 [01:02<00:00,  1.42s/it, loss=0.73]\n",
      "Epoch 65/100 [VAL]: 100%|██████████| 20/20 [00:28<00:00,  1.44s/it, loss=0.725]\n"
     ]
    },
    {
     "name": "stdout",
     "output_type": "stream",
     "text": [
      "EarlyStopping counter: 37/100 (Best val_acc: 0.9828)\n",
      "\n",
      "Epoch 65/100 | LR: 2.53e-05 | Teach: 0.28 | Scheduler: ReduceLROnPlateau\n",
      "  Train Loss: 0.7305 | Train Char Acc: 0.9937\n",
      "  Val Loss: 0.7852   | Val Acc (CRR): 0.9812\n",
      "  Val Exact Match Acc (E2E RR): 0.9247\n",
      "----------------------------------------------------------------------\n"
     ]
    },
    {
     "name": "stderr",
     "output_type": "stream",
     "text": [
      "Epoch 66/100 [TRAIN] LR: 2.53e-05 Teach: 0.27 Scheduler: ReduceLROnPlateau:   2%|▏         | 1/44 [00:05<03:59,  5.58s/it, loss=0.736]"
     ]
    },
    {
     "name": "stdout",
     "output_type": "stream",
     "text": [
      "\n",
      "--- Training Batch 0 Examples (Content Only) ---\n",
      "  Pred: '1L9170'\n",
      "  True: '1L9170'\n",
      "  Pred: '2B2439'\n",
      "  True: '2B2439'\n",
      "  Pred: 'A57269'\n",
      "  True: 'A57269'\n",
      "  Pred: 'ZN8520'\n",
      "  True: 'ZN8520'\n",
      "  Pred: '1177VG'\n",
      "  True: '1177VG'\n",
      "-------------------------------\n"
     ]
    },
    {
     "name": "stderr",
     "output_type": "stream",
     "text": [
      "Epoch 66/100 [TRAIN] LR: 2.53e-05 Teach: 0.27 Scheduler: ReduceLROnPlateau: 100%|██████████| 44/44 [01:01<00:00,  1.40s/it, loss=0.718]\n",
      "Epoch 66/100 [VAL]: 100%|██████████| 20/20 [00:29<00:00,  1.46s/it, loss=0.72]\n"
     ]
    },
    {
     "name": "stdout",
     "output_type": "stream",
     "text": [
      "EarlyStopping counter: 38/100 (Best val_acc: 0.9828)\n",
      "\n",
      "Epoch 66/100 | LR: 2.53e-05 | Teach: 0.27 | Scheduler: ReduceLROnPlateau\n",
      "  Train Loss: 0.7362 | Train Char Acc: 0.9915\n",
      "  Val Loss: 0.7814   | Val Acc (CRR): 0.9820\n",
      "  Val Exact Match Acc (E2E RR): 0.9264\n",
      "----------------------------------------------------------------------\n"
     ]
    },
    {
     "name": "stderr",
     "output_type": "stream",
     "text": [
      "Epoch 67/100 [TRAIN] LR: 2.53e-05 Teach: 0.27 Scheduler: ReduceLROnPlateau:   2%|▏         | 1/44 [00:05<04:12,  5.87s/it, loss=0.719]"
     ]
    },
    {
     "name": "stdout",
     "output_type": "stream",
     "text": [
      "\n",
      "--- Training Batch 0 Examples (Content Only) ---\n",
      "  Pred: '8232EC'\n",
      "  True: '8232EC'\n",
      "  Pred: 'EZ6142'\n",
      "  True: 'EZ6142'\n",
      "  Pred: '6E1507'\n",
      "  True: '6E1507'\n",
      "  Pred: 'GR4522'\n",
      "  True: 'GR4522'\n",
      "  Pred: '5H9980'\n",
      "  True: '5H9980'\n",
      "-------------------------------\n"
     ]
    },
    {
     "name": "stderr",
     "output_type": "stream",
     "text": [
      "Epoch 67/100 [TRAIN] LR: 2.53e-05 Teach: 0.27 Scheduler: ReduceLROnPlateau: 100%|██████████| 44/44 [01:01<00:00,  1.40s/it, loss=0.719]\n",
      "Epoch 67/100 [VAL]: 100%|██████████| 20/20 [00:28<00:00,  1.43s/it, loss=0.72]\n"
     ]
    },
    {
     "name": "stdout",
     "output_type": "stream",
     "text": [
      "EarlyStopping counter: 39/100 (Best val_acc: 0.9828)\n",
      "\n",
      "Epoch 67/100 | LR: 1.26e-05 | Teach: 0.27 | Scheduler: ReduceLROnPlateau\n",
      "  Train Loss: 0.7333 | Train Char Acc: 0.9922\n",
      "  Val Loss: 0.7832   | Val Acc (CRR): 0.9812\n",
      "  Val Exact Match Acc (E2E RR): 0.9247\n",
      "----------------------------------------------------------------------\n"
     ]
    },
    {
     "name": "stderr",
     "output_type": "stream",
     "text": [
      "Epoch 68/100 [TRAIN] LR: 1.26e-05 Teach: 0.26 Scheduler: ReduceLROnPlateau:   2%|▏         | 1/44 [00:05<04:05,  5.71s/it, loss=0.715]"
     ]
    },
    {
     "name": "stdout",
     "output_type": "stream",
     "text": [
      "\n",
      "--- Training Batch 0 Examples (Content Only) ---\n",
      "  Pred: '2401LL'\n",
      "  True: '2401LL'\n",
      "  Pred: 'FL6170'\n",
      "  True: 'FL6170'\n",
      "  Pred: '7907DH'\n",
      "  True: '7907DH'\n",
      "  Pred: 'Q22489'\n",
      "  True: 'Q22489'\n",
      "  Pred: 'KC8787'\n",
      "  True: 'KC8787'\n",
      "-------------------------------\n"
     ]
    },
    {
     "name": "stderr",
     "output_type": "stream",
     "text": [
      "Epoch 68/100 [TRAIN] LR: 1.26e-05 Teach: 0.26 Scheduler: ReduceLROnPlateau: 100%|██████████| 44/44 [01:01<00:00,  1.39s/it, loss=0.719]\n",
      "Epoch 68/100 [VAL]: 100%|██████████| 20/20 [00:28<00:00,  1.41s/it, loss=0.723]\n"
     ]
    },
    {
     "name": "stdout",
     "output_type": "stream",
     "text": [
      "EarlyStopping counter: 40/100 (Best val_acc: 0.9828)\n",
      "\n",
      "Epoch 68/100 | LR: 1.26e-05 | Teach: 0.26 | Scheduler: ReduceLROnPlateau\n",
      "  Train Loss: 0.7335 | Train Char Acc: 0.9918\n",
      "  Val Loss: 0.7837   | Val Acc (CRR): 0.9814\n",
      "  Val Exact Match Acc (E2E RR): 0.9264\n",
      "----------------------------------------------------------------------\n"
     ]
    },
    {
     "name": "stderr",
     "output_type": "stream",
     "text": [
      "Epoch 69/100 [TRAIN] LR: 1.26e-05 Teach: 0.25 Scheduler: ReduceLROnPlateau:   2%|▏         | 1/44 [00:05<04:13,  5.90s/it, loss=0.769]"
     ]
    },
    {
     "name": "stdout",
     "output_type": "stream",
     "text": [
      "\n",
      "--- Training Batch 0 Examples (Content Only) ---\n",
      "  Pred: '3335KD'\n",
      "  True: '3335KD'\n",
      "  Pred: '2A6132'\n",
      "  True: '2A6132'\n",
      "  Pred: 'N39878'\n",
      "  True: 'N39878'\n",
      "  Pred: '9078RR'\n",
      "  True: '9078RR'\n",
      "  Pred: '7615RG'\n",
      "  True: '7615RG'\n",
      "-------------------------------\n"
     ]
    },
    {
     "name": "stderr",
     "output_type": "stream",
     "text": [
      "Epoch 69/100 [TRAIN] LR: 1.26e-05 Teach: 0.25 Scheduler: ReduceLROnPlateau: 100%|██████████| 44/44 [01:01<00:00,  1.39s/it, loss=0.719]\n",
      "Epoch 69/100 [VAL]: 100%|██████████| 20/20 [00:28<00:00,  1.42s/it, loss=0.72]\n"
     ]
    },
    {
     "name": "stdout",
     "output_type": "stream",
     "text": [
      "EarlyStopping counter: 41/100 (Best val_acc: 0.9828)\n",
      "\n",
      "Epoch 69/100 | LR: 1.26e-05 | Teach: 0.25 | Scheduler: ReduceLROnPlateau\n",
      "  Train Loss: 0.7314 | Train Char Acc: 0.9918\n",
      "  Val Loss: 0.7807   | Val Acc (CRR): 0.9828\n",
      "  Val Exact Match Acc (E2E RR): 0.9313\n",
      "----------------------------------------------------------------------\n"
     ]
    },
    {
     "name": "stderr",
     "output_type": "stream",
     "text": [
      "Epoch 70/100 [TRAIN] LR: 1.26e-05 Teach: 0.25 Scheduler: ReduceLROnPlateau:   2%|▏         | 1/44 [00:06<04:23,  6.13s/it, loss=0.759]"
     ]
    },
    {
     "name": "stdout",
     "output_type": "stream",
     "text": [
      "\n",
      "--- Training Batch 0 Examples (Content Only) ---\n",
      "  Pred: 'BN6240'\n",
      "  True: 'BN6240'\n",
      "  Pred: 'DT2859'\n",
      "  True: 'DT2859'\n",
      "  Pred: '7615RG'\n",
      "  True: '7615RG'\n",
      "  Pred: '3266UZ'\n",
      "  True: '3266UZ'\n",
      "  Pred: '6906ZT'\n",
      "  True: '6906ZT'\n",
      "-------------------------------\n"
     ]
    },
    {
     "name": "stderr",
     "output_type": "stream",
     "text": [
      "Epoch 70/100 [TRAIN] LR: 1.26e-05 Teach: 0.25 Scheduler: ReduceLROnPlateau: 100%|██████████| 44/44 [01:01<00:00,  1.39s/it, loss=0.803]\n",
      "Epoch 70/100 [VAL]: 100%|██████████| 20/20 [00:28<00:00,  1.41s/it, loss=0.723]\n"
     ]
    },
    {
     "name": "stdout",
     "output_type": "stream",
     "text": [
      "EarlyStopping counter: 42/100 (Best val_acc: 0.9828)\n",
      "\n",
      "Epoch 70/100 | LR: 6.32e-06 | Teach: 0.25 | Scheduler: ReduceLROnPlateau\n",
      "  Train Loss: 0.7383 | Train Char Acc: 0.9902\n",
      "  Val Loss: 0.7820   | Val Acc (CRR): 0.9823\n",
      "  Val Exact Match Acc (E2E RR): 0.9280\n",
      "----------------------------------------------------------------------\n"
     ]
    },
    {
     "name": "stderr",
     "output_type": "stream",
     "text": [
      "Epoch 71/100 [TRAIN] LR: 6.32e-06 Teach: 0.24 Scheduler: ReduceLROnPlateau:   2%|▏         | 1/44 [00:05<04:13,  5.91s/it, loss=0.752]"
     ]
    },
    {
     "name": "stdout",
     "output_type": "stream",
     "text": [
      "\n",
      "--- Training Batch 0 Examples (Content Only) ---\n",
      "  Pred: '3222QM'\n",
      "  True: '3222QM'\n",
      "  Pred: 'AN3348'\n",
      "  True: 'AN3348'\n",
      "  Pred: '8593FF'\n",
      "  True: '8593FF'\n",
      "  Pred: '8E2157'\n",
      "  True: '8E2157'\n",
      "  Pred: 'V35941'\n",
      "  True: 'V35941'\n",
      "-------------------------------\n"
     ]
    },
    {
     "name": "stderr",
     "output_type": "stream",
     "text": [
      "Epoch 71/100 [TRAIN] LR: 6.32e-06 Teach: 0.24 Scheduler: ReduceLROnPlateau: 100%|██████████| 44/44 [01:01<00:00,  1.40s/it, loss=0.713]\n",
      "Epoch 71/100 [VAL]: 100%|██████████| 20/20 [00:28<00:00,  1.42s/it, loss=0.721]\n"
     ]
    },
    {
     "name": "stdout",
     "output_type": "stream",
     "text": [
      "EarlyStopping counter: 43/100 (Best val_acc: 0.9828)\n",
      "\n",
      "Epoch 71/100 | LR: 6.32e-06 | Teach: 0.24 | Scheduler: ReduceLROnPlateau\n",
      "  Train Loss: 0.7309 | Train Char Acc: 0.9925\n",
      "  Val Loss: 0.7813   | Val Acc (CRR): 0.9825\n",
      "  Val Exact Match Acc (E2E RR): 0.9296\n",
      "----------------------------------------------------------------------\n"
     ]
    },
    {
     "name": "stderr",
     "output_type": "stream",
     "text": [
      "Epoch 72/100 [TRAIN] LR: 6.32e-06 Teach: 0.23 Scheduler: ReduceLROnPlateau:   2%|▏         | 1/44 [00:06<04:33,  6.36s/it, loss=0.72]"
     ]
    },
    {
     "name": "stdout",
     "output_type": "stream",
     "text": [
      "\n",
      "--- Training Batch 0 Examples (Content Only) ---\n",
      "  Pred: '2582PK'\n",
      "  True: '2582PK'\n",
      "  Pred: '1C0906'\n",
      "  True: '1C0906'\n",
      "  Pred: 'T67752'\n",
      "  True: 'T67752'\n",
      "  Pred: '7960ZR'\n",
      "  True: '7960ZR'\n",
      "  Pred: '3E7899'\n",
      "  True: '3E7899'\n",
      "-------------------------------\n"
     ]
    },
    {
     "name": "stderr",
     "output_type": "stream",
     "text": [
      "Epoch 72/100 [TRAIN] LR: 6.32e-06 Teach: 0.23 Scheduler: ReduceLROnPlateau: 100%|██████████| 44/44 [01:01<00:00,  1.40s/it, loss=0.711]\n",
      "Epoch 72/100 [VAL]: 100%|██████████| 20/20 [00:28<00:00,  1.43s/it, loss=0.721]\n"
     ]
    },
    {
     "name": "stdout",
     "output_type": "stream",
     "text": [
      "EarlyStopping counter: 44/100 (Best val_acc: 0.9828)\n",
      "\n",
      "Epoch 72/100 | LR: 6.32e-06 | Teach: 0.23 | Scheduler: ReduceLROnPlateau\n",
      "  Train Loss: 0.7275 | Train Char Acc: 0.9944\n",
      "  Val Loss: 0.7822   | Val Acc (CRR): 0.9825\n",
      "  Val Exact Match Acc (E2E RR): 0.9296\n",
      "----------------------------------------------------------------------\n"
     ]
    },
    {
     "name": "stderr",
     "output_type": "stream",
     "text": [
      "Epoch 73/100 [TRAIN] LR: 6.32e-06 Teach: 0.23 Scheduler: ReduceLROnPlateau:   2%|▏         | 1/44 [00:05<04:10,  5.84s/it, loss=0.734]"
     ]
    },
    {
     "name": "stdout",
     "output_type": "stream",
     "text": [
      "\n",
      "--- Training Batch 0 Examples (Content Only) ---\n",
      "  Pred: '3160ZB'\n",
      "  True: '3160ZB'\n",
      "  Pred: 'YY9496'\n",
      "  True: 'CY9496'\n",
      "  Pred: '8N5086'\n",
      "  True: '8N5086'\n",
      "  Pred: '8106EJ'\n",
      "  True: '8106EJ'\n",
      "  Pred: '2497ZS'\n",
      "  True: '2497ZS'\n",
      "-------------------------------\n"
     ]
    },
    {
     "name": "stderr",
     "output_type": "stream",
     "text": [
      "Epoch 73/100 [TRAIN] LR: 6.32e-06 Teach: 0.23 Scheduler: ReduceLROnPlateau: 100%|██████████| 44/44 [01:00<00:00,  1.38s/it, loss=0.747]\n",
      "Epoch 73/100 [VAL]: 100%|██████████| 20/20 [00:28<00:00,  1.43s/it, loss=0.718]\n"
     ]
    },
    {
     "name": "stdout",
     "output_type": "stream",
     "text": [
      "EarlyStopping counter: 45/100 (Best val_acc: 0.9828)\n",
      "\n",
      "Epoch 73/100 | LR: 3.16e-06 | Teach: 0.23 | Scheduler: ReduceLROnPlateau\n",
      "  Train Loss: 0.7325 | Train Char Acc: 0.9919\n",
      "  Val Loss: 0.7816   | Val Acc (CRR): 0.9814\n",
      "  Val Exact Match Acc (E2E RR): 0.9264\n",
      "----------------------------------------------------------------------\n"
     ]
    },
    {
     "name": "stderr",
     "output_type": "stream",
     "text": [
      "Epoch 74/100 [TRAIN] LR: 3.16e-06 Teach: 0.22 Scheduler: ReduceLROnPlateau:   2%|▏         | 1/44 [00:06<04:46,  6.67s/it, loss=0.714]"
     ]
    },
    {
     "name": "stdout",
     "output_type": "stream",
     "text": [
      "\n",
      "--- Training Batch 0 Examples (Content Only) ---\n",
      "  Pred: '6C6071'\n",
      "  True: '6C6071'\n",
      "  Pred: 'BZ4365'\n",
      "  True: 'BZ4365'\n",
      "  Pred: '3329FJ'\n",
      "  True: '3329FJ'\n",
      "  Pred: 'C25337'\n",
      "  True: 'C25337'\n",
      "  Pred: '7C8991'\n",
      "  True: '7C8991'\n",
      "-------------------------------\n"
     ]
    },
    {
     "name": "stderr",
     "output_type": "stream",
     "text": [
      "Epoch 74/100 [TRAIN] LR: 3.16e-06 Teach: 0.22 Scheduler: ReduceLROnPlateau: 100%|██████████| 44/44 [01:01<00:00,  1.40s/it, loss=0.719]\n",
      "Epoch 74/100 [VAL]: 100%|██████████| 20/20 [00:28<00:00,  1.42s/it, loss=0.719]\n"
     ]
    },
    {
     "name": "stdout",
     "output_type": "stream",
     "text": [
      "EarlyStopping counter: 46/100 (Best val_acc: 0.9828)\n",
      "\n",
      "Epoch 74/100 | LR: 3.16e-06 | Teach: 0.22 | Scheduler: ReduceLROnPlateau\n",
      "  Train Loss: 0.7348 | Train Char Acc: 0.9905\n",
      "  Val Loss: 0.7812   | Val Acc (CRR): 0.9823\n",
      "  Val Exact Match Acc (E2E RR): 0.9280\n",
      "----------------------------------------------------------------------\n"
     ]
    },
    {
     "name": "stderr",
     "output_type": "stream",
     "text": [
      "Epoch 75/100 [TRAIN] LR: 3.16e-06 Teach: 0.21 Scheduler: ReduceLROnPlateau:   2%|▏         | 1/44 [00:05<03:49,  5.33s/it, loss=0.711]"
     ]
    },
    {
     "name": "stdout",
     "output_type": "stream",
     "text": [
      "\n",
      "--- Training Batch 0 Examples (Content Only) ---\n",
      "  Pred: '3K3860'\n",
      "  True: '3K3860'\n",
      "  Pred: '3466YQ'\n",
      "  True: '3466YQ'\n",
      "  Pred: '3N0976'\n",
      "  True: '3N0976'\n",
      "  Pred: '3791A9'\n",
      "  True: '3791A9'\n",
      "  Pred: '9C0560'\n",
      "  True: '9C0560'\n",
      "-------------------------------\n"
     ]
    },
    {
     "name": "stderr",
     "output_type": "stream",
     "text": [
      "Epoch 75/100 [TRAIN] LR: 3.16e-06 Teach: 0.21 Scheduler: ReduceLROnPlateau: 100%|██████████| 44/44 [01:00<00:00,  1.38s/it, loss=0.754]\n",
      "Epoch 75/100 [VAL]: 100%|██████████| 20/20 [00:28<00:00,  1.43s/it, loss=0.72]\n"
     ]
    },
    {
     "name": "stdout",
     "output_type": "stream",
     "text": [
      "EarlyStopping counter: 47/100 (Best val_acc: 0.9828)\n",
      "\n",
      "Epoch 75/100 | LR: 3.16e-06 | Teach: 0.21 | Scheduler: ReduceLROnPlateau\n",
      "  Train Loss: 0.7369 | Train Char Acc: 0.9909\n",
      "  Val Loss: 0.7814   | Val Acc (CRR): 0.9825\n",
      "  Val Exact Match Acc (E2E RR): 0.9296\n",
      "----------------------------------------------------------------------\n"
     ]
    },
    {
     "name": "stderr",
     "output_type": "stream",
     "text": [
      "Epoch 76/100 [TRAIN] LR: 3.16e-06 Teach: 0.21 Scheduler: ReduceLROnPlateau:   2%|▏         | 1/44 [00:05<04:13,  5.90s/it, loss=0.72]"
     ]
    },
    {
     "name": "stdout",
     "output_type": "stream",
     "text": [
      "\n",
      "--- Training Batch 0 Examples (Content Only) ---\n",
      "  Pred: 'S95890'\n",
      "  True: 'S95890'\n",
      "  Pred: '3G9088'\n",
      "  True: '3G9088'\n",
      "  Pred: '5763EQ'\n",
      "  True: '5763EQ'\n",
      "  Pred: '1572PG'\n",
      "  True: '1572PG'\n",
      "  Pred: 'TJ6877'\n",
      "  True: 'TJ6877'\n",
      "-------------------------------\n"
     ]
    },
    {
     "name": "stderr",
     "output_type": "stream",
     "text": [
      "Epoch 76/100 [TRAIN] LR: 3.16e-06 Teach: 0.21 Scheduler: ReduceLROnPlateau: 100%|██████████| 44/44 [01:01<00:00,  1.39s/it, loss=0.73]\n",
      "Epoch 76/100 [VAL]: 100%|██████████| 20/20 [00:28<00:00,  1.43s/it, loss=0.719]\n"
     ]
    },
    {
     "name": "stdout",
     "output_type": "stream",
     "text": [
      "EarlyStopping counter: 48/100 (Best val_acc: 0.9828)\n",
      "\n",
      "Epoch 76/100 | LR: 1.58e-06 | Teach: 0.21 | Scheduler: ReduceLROnPlateau\n",
      "  Train Loss: 0.7306 | Train Char Acc: 0.9936\n",
      "  Val Loss: 0.7809   | Val Acc (CRR): 0.9823\n",
      "  Val Exact Match Acc (E2E RR): 0.9280\n",
      "----------------------------------------------------------------------\n"
     ]
    },
    {
     "name": "stderr",
     "output_type": "stream",
     "text": [
      "Epoch 77/100 [TRAIN] LR: 1.58e-06 Teach: 0.20 Scheduler: ReduceLROnPlateau:   2%|▏         | 1/44 [00:05<03:48,  5.31s/it, loss=0.731]"
     ]
    },
    {
     "name": "stdout",
     "output_type": "stream",
     "text": [
      "\n",
      "--- Training Batch 0 Examples (Content Only) ---\n",
      "  Pred: '1589QZ'\n",
      "  True: '1589QZ'\n",
      "  Pred: '5177TM'\n",
      "  True: '5177TM'\n",
      "  Pred: 'SC3251'\n",
      "  True: 'SC3251'\n",
      "  Pred: '7038DK'\n",
      "  True: '7038DK'\n",
      "  Pred: '7569VK'\n",
      "  True: '7569VK'\n",
      "-------------------------------\n"
     ]
    },
    {
     "name": "stderr",
     "output_type": "stream",
     "text": [
      "Epoch 77/100 [TRAIN] LR: 1.58e-06 Teach: 0.20 Scheduler: ReduceLROnPlateau: 100%|██████████| 44/44 [01:00<00:00,  1.37s/it, loss=0.72]\n",
      "Epoch 77/100 [VAL]: 100%|██████████| 20/20 [00:28<00:00,  1.42s/it, loss=0.719]\n"
     ]
    },
    {
     "name": "stdout",
     "output_type": "stream",
     "text": [
      "EarlyStopping counter: 49/100 (Best val_acc: 0.9828)\n",
      "\n",
      "Epoch 77/100 | LR: 1.58e-06 | Teach: 0.20 | Scheduler: ReduceLROnPlateau\n",
      "  Train Loss: 0.7299 | Train Char Acc: 0.9938\n",
      "  Val Loss: 0.7809   | Val Acc (CRR): 0.9820\n",
      "  Val Exact Match Acc (E2E RR): 0.9264\n",
      "----------------------------------------------------------------------\n"
     ]
    },
    {
     "name": "stderr",
     "output_type": "stream",
     "text": [
      "Epoch 78/100 [TRAIN] LR: 1.58e-06 Teach: 0.19 Scheduler: ReduceLROnPlateau:   2%|▏         | 1/44 [00:05<03:37,  5.07s/it, loss=0.714]"
     ]
    },
    {
     "name": "stdout",
     "output_type": "stream",
     "text": [
      "\n",
      "--- Training Batch 0 Examples (Content Only) ---\n",
      "  Pred: '7092GG'\n",
      "  True: '7092GG'\n",
      "  Pred: 'EF1452'\n",
      "  True: 'EF1452'\n",
      "  Pred: '9D6221'\n",
      "  True: '9D6221'\n",
      "  Pred: '3316JT'\n",
      "  True: '3316JT'\n",
      "  Pred: 'Y67911'\n",
      "  True: 'Y67911'\n",
      "-------------------------------\n"
     ]
    },
    {
     "name": "stderr",
     "output_type": "stream",
     "text": [
      "Epoch 78/100 [TRAIN] LR: 1.58e-06 Teach: 0.19 Scheduler: ReduceLROnPlateau: 100%|██████████| 44/44 [01:00<00:00,  1.37s/it, loss=0.717]\n",
      "Epoch 78/100 [VAL]: 100%|██████████| 20/20 [00:28<00:00,  1.43s/it, loss=0.718]\n"
     ]
    },
    {
     "name": "stdout",
     "output_type": "stream",
     "text": [
      "EarlyStopping counter: 50/100 (Best val_acc: 0.9828)\n",
      "\n",
      "Epoch 78/100 | LR: 1.58e-06 | Teach: 0.19 | Scheduler: ReduceLROnPlateau\n",
      "  Train Loss: 0.7355 | Train Char Acc: 0.9910\n",
      "  Val Loss: 0.7812   | Val Acc (CRR): 0.9823\n",
      "  Val Exact Match Acc (E2E RR): 0.9280\n",
      "----------------------------------------------------------------------\n"
     ]
    },
    {
     "name": "stderr",
     "output_type": "stream",
     "text": [
      "Epoch 79/100 [TRAIN] LR: 1.58e-06 Teach: 0.19 Scheduler: ReduceLROnPlateau:   2%|▏         | 1/44 [00:05<04:11,  5.85s/it, loss=0.71]"
     ]
    },
    {
     "name": "stdout",
     "output_type": "stream",
     "text": [
      "\n",
      "--- Training Batch 0 Examples (Content Only) ---\n",
      "  Pred: '3852HG'\n",
      "  True: '3852HG'\n",
      "  Pred: '3923DE'\n",
      "  True: '3923DE'\n",
      "  Pred: '2998EM'\n",
      "  True: '2998EM'\n",
      "  Pred: '8U3886'\n",
      "  True: '8U3886'\n",
      "  Pred: 'EZ6142'\n",
      "  True: 'EZ6142'\n",
      "-------------------------------\n"
     ]
    },
    {
     "name": "stderr",
     "output_type": "stream",
     "text": [
      "Epoch 79/100 [TRAIN] LR: 1.58e-06 Teach: 0.19 Scheduler: ReduceLROnPlateau: 100%|██████████| 44/44 [01:01<00:00,  1.39s/it, loss=0.726]\n",
      "Epoch 79/100 [VAL]: 100%|██████████| 20/20 [00:28<00:00,  1.43s/it, loss=0.719]\n"
     ]
    },
    {
     "name": "stdout",
     "output_type": "stream",
     "text": [
      "EarlyStopping counter: 51/100 (Best val_acc: 0.9828)\n",
      "\n",
      "Epoch 79/100 | LR: 7.90e-07 | Teach: 0.19 | Scheduler: ReduceLROnPlateau\n",
      "  Train Loss: 0.7326 | Train Char Acc: 0.9924\n",
      "  Val Loss: 0.7828   | Val Acc (CRR): 0.9814\n",
      "  Val Exact Match Acc (E2E RR): 0.9264\n",
      "----------------------------------------------------------------------\n"
     ]
    },
    {
     "name": "stderr",
     "output_type": "stream",
     "text": [
      "Epoch 80/100 [TRAIN] LR: 7.90e-07 Teach: 0.18 Scheduler: ReduceLROnPlateau:   2%|▏         | 1/44 [00:05<04:01,  5.61s/it, loss=0.73]"
     ]
    },
    {
     "name": "stdout",
     "output_type": "stream",
     "text": [
      "\n",
      "--- Training Batch 0 Examples (Content Only) ---\n",
      "  Pred: '2563ET'\n",
      "  True: '2563ET'\n",
      "  Pred: 'SB5268'\n",
      "  True: 'SB5268'\n",
      "  Pred: '4315RJ'\n",
      "  True: '4315RJ'\n",
      "  Pred: '7D5452'\n",
      "  True: '7D5452'\n",
      "  Pred: '8E9471'\n",
      "  True: '8E9471'\n",
      "-------------------------------\n"
     ]
    },
    {
     "name": "stderr",
     "output_type": "stream",
     "text": [
      "Epoch 80/100 [TRAIN] LR: 7.90e-07 Teach: 0.18 Scheduler: ReduceLROnPlateau: 100%|██████████| 44/44 [01:00<00:00,  1.38s/it, loss=0.715]\n",
      "Epoch 80/100 [VAL]: 100%|██████████| 20/20 [00:28<00:00,  1.42s/it, loss=0.719]\n"
     ]
    },
    {
     "name": "stdout",
     "output_type": "stream",
     "text": [
      "EarlyStopping counter: 52/100 (Best val_acc: 0.9828)\n",
      "\n",
      "Epoch 80/100 | LR: 7.90e-07 | Teach: 0.18 | Scheduler: ReduceLROnPlateau\n",
      "  Train Loss: 0.7331 | Train Char Acc: 0.9919\n",
      "  Val Loss: 0.7814   | Val Acc (CRR): 0.9823\n",
      "  Val Exact Match Acc (E2E RR): 0.9280\n",
      "----------------------------------------------------------------------\n"
     ]
    },
    {
     "name": "stderr",
     "output_type": "stream",
     "text": [
      "Epoch 81/100 [TRAIN] LR: 7.90e-07 Teach: 0.17 Scheduler: ReduceLROnPlateau:   2%|▏         | 1/44 [00:05<04:02,  5.64s/it, loss=0.746]"
     ]
    },
    {
     "name": "stdout",
     "output_type": "stream",
     "text": [
      "\n",
      "--- Training Batch 0 Examples (Content Only) ---\n",
      "  Pred: '5437QT'\n",
      "  True: '5437QT'\n",
      "  Pred: '8312YQ'\n",
      "  True: '8312YQ'\n",
      "  Pred: '5261JJ'\n",
      "  True: '5261JJ'\n",
      "  Pred: '4635VG'\n",
      "  True: '4635VG'\n",
      "  Pred: 'N39878'\n",
      "  True: 'N39878'\n",
      "-------------------------------\n"
     ]
    },
    {
     "name": "stderr",
     "output_type": "stream",
     "text": [
      "Epoch 81/100 [TRAIN] LR: 7.90e-07 Teach: 0.17 Scheduler: ReduceLROnPlateau: 100%|██████████| 44/44 [01:00<00:00,  1.38s/it, loss=0.722]\n",
      "Epoch 81/100 [VAL]: 100%|██████████| 20/20 [00:28<00:00,  1.43s/it, loss=0.719]\n"
     ]
    },
    {
     "name": "stdout",
     "output_type": "stream",
     "text": [
      "EarlyStopping counter: 53/100 (Best val_acc: 0.9828)\n",
      "\n",
      "Epoch 81/100 | LR: 7.90e-07 | Teach: 0.17 | Scheduler: ReduceLROnPlateau\n",
      "  Train Loss: 0.7299 | Train Char Acc: 0.9931\n",
      "  Val Loss: 0.7814   | Val Acc (CRR): 0.9823\n",
      "  Val Exact Match Acc (E2E RR): 0.9280\n",
      "----------------------------------------------------------------------\n"
     ]
    },
    {
     "name": "stderr",
     "output_type": "stream",
     "text": [
      "Epoch 82/100 [TRAIN] LR: 7.90e-07 Teach: 0.17 Scheduler: ReduceLROnPlateau:   2%|▏         | 1/44 [00:06<04:30,  6.28s/it, loss=0.716]"
     ]
    },
    {
     "name": "stdout",
     "output_type": "stream",
     "text": [
      "\n",
      "--- Training Batch 0 Examples (Content Only) ---\n",
      "  Pred: '9605EU'\n",
      "  True: '9605EU'\n",
      "  Pred: '7456TH'\n",
      "  True: '7456TH'\n",
      "  Pred: '8676FX'\n",
      "  True: '8676FX'\n",
      "  Pred: '6C1699'\n",
      "  True: '6C1699'\n",
      "  Pred: 'HV3390'\n",
      "  True: 'HV3390'\n",
      "-------------------------------\n"
     ]
    },
    {
     "name": "stderr",
     "output_type": "stream",
     "text": [
      "Epoch 82/100 [TRAIN] LR: 7.90e-07 Teach: 0.17 Scheduler: ReduceLROnPlateau: 100%|██████████| 44/44 [01:01<00:00,  1.40s/it, loss=0.746]\n",
      "Epoch 82/100 [VAL]: 100%|██████████| 20/20 [00:28<00:00,  1.43s/it, loss=0.719]\n"
     ]
    },
    {
     "name": "stdout",
     "output_type": "stream",
     "text": [
      "EarlyStopping counter: 54/100 (Best val_acc: 0.9828)\n",
      "\n",
      "Epoch 82/100 | LR: 3.95e-07 | Teach: 0.17 | Scheduler: ReduceLROnPlateau\n",
      "  Train Loss: 0.7371 | Train Char Acc: 0.9899\n",
      "  Val Loss: 0.7811   | Val Acc (CRR): 0.9825\n",
      "  Val Exact Match Acc (E2E RR): 0.9296\n",
      "----------------------------------------------------------------------\n"
     ]
    },
    {
     "name": "stderr",
     "output_type": "stream",
     "text": [
      "Epoch 83/100 [TRAIN] LR: 3.95e-07 Teach: 0.16 Scheduler: ReduceLROnPlateau:   2%|▏         | 1/44 [00:05<04:14,  5.92s/it, loss=0.716]"
     ]
    },
    {
     "name": "stdout",
     "output_type": "stream",
     "text": [
      "\n",
      "--- Training Batch 0 Examples (Content Only) ---\n",
      "  Pred: 'YN7539'\n",
      "  True: 'YN7539'\n",
      "  Pred: '0865DM'\n",
      "  True: '0865DM'\n",
      "  Pred: '2A6132'\n",
      "  True: '2A6132'\n",
      "  Pred: 'DT2859'\n",
      "  True: 'DT2859'\n",
      "  Pred: '3572YB'\n",
      "  True: '3572YB'\n",
      "-------------------------------\n"
     ]
    },
    {
     "name": "stderr",
     "output_type": "stream",
     "text": [
      "Epoch 83/100 [TRAIN] LR: 3.95e-07 Teach: 0.16 Scheduler: ReduceLROnPlateau: 100%|██████████| 44/44 [01:01<00:00,  1.39s/it, loss=0.724]\n",
      "Epoch 83/100 [VAL]: 100%|██████████| 20/20 [00:28<00:00,  1.44s/it, loss=0.719]\n"
     ]
    },
    {
     "name": "stdout",
     "output_type": "stream",
     "text": [
      "EarlyStopping counter: 55/100 (Best val_acc: 0.9828)\n",
      "\n",
      "Epoch 83/100 | LR: 3.95e-07 | Teach: 0.16 | Scheduler: ReduceLROnPlateau\n",
      "  Train Loss: 0.7272 | Train Char Acc: 0.9948\n",
      "  Val Loss: 0.7812   | Val Acc (CRR): 0.9825\n",
      "  Val Exact Match Acc (E2E RR): 0.9296\n",
      "----------------------------------------------------------------------\n"
     ]
    },
    {
     "name": "stderr",
     "output_type": "stream",
     "text": [
      "Epoch 84/100 [TRAIN] LR: 3.95e-07 Teach: 0.16 Scheduler: ReduceLROnPlateau:   2%|▏         | 1/44 [00:05<04:00,  5.60s/it, loss=0.712]"
     ]
    },
    {
     "name": "stdout",
     "output_type": "stream",
     "text": [
      "\n",
      "--- Training Batch 0 Examples (Content Only) ---\n",
      "  Pred: 'B50102'\n",
      "  True: 'B50102'\n",
      "  Pred: '9478ZA'\n",
      "  True: '9478ZA'\n",
      "  Pred: '6951A7'\n",
      "  True: '6951A7'\n",
      "  Pred: '1U8735'\n",
      "  True: '1U8735'\n",
      "  Pred: '7385TH'\n",
      "  True: '7385TH'\n",
      "-------------------------------\n"
     ]
    },
    {
     "name": "stderr",
     "output_type": "stream",
     "text": [
      "Epoch 84/100 [TRAIN] LR: 3.95e-07 Teach: 0.16 Scheduler: ReduceLROnPlateau: 100%|██████████| 44/44 [01:01<00:00,  1.39s/it, loss=0.709]\n",
      "Epoch 84/100 [VAL]: 100%|██████████| 20/20 [00:28<00:00,  1.45s/it, loss=0.719]\n"
     ]
    },
    {
     "name": "stdout",
     "output_type": "stream",
     "text": [
      "EarlyStopping counter: 56/100 (Best val_acc: 0.9828)\n",
      "\n",
      "Epoch 84/100 | LR: 3.95e-07 | Teach: 0.16 | Scheduler: ReduceLROnPlateau\n",
      "  Train Loss: 0.7285 | Train Char Acc: 0.9931\n",
      "  Val Loss: 0.7814   | Val Acc (CRR): 0.9823\n",
      "  Val Exact Match Acc (E2E RR): 0.9280\n",
      "----------------------------------------------------------------------\n"
     ]
    },
    {
     "name": "stderr",
     "output_type": "stream",
     "text": [
      "Epoch 85/100 [TRAIN] LR: 3.95e-07 Teach: 0.15 Scheduler: ReduceLROnPlateau:   2%|▏         | 1/44 [00:05<04:09,  5.79s/it, loss=0.717]"
     ]
    },
    {
     "name": "stdout",
     "output_type": "stream",
     "text": [
      "\n",
      "--- Training Batch 0 Examples (Content Only) ---\n",
      "  Pred: '2189TT'\n",
      "  True: '2189TT'\n",
      "  Pred: '8561RK'\n",
      "  True: '8561RK'\n",
      "  Pred: '4236YD'\n",
      "  True: '4236YD'\n",
      "  Pred: 'P78191'\n",
      "  True: 'P78191'\n",
      "  Pred: '4400DC'\n",
      "  True: '4400DC'\n",
      "-------------------------------\n"
     ]
    },
    {
     "name": "stderr",
     "output_type": "stream",
     "text": [
      "Epoch 85/100 [TRAIN] LR: 3.95e-07 Teach: 0.15 Scheduler: ReduceLROnPlateau: 100%|██████████| 44/44 [01:01<00:00,  1.39s/it, loss=0.747]\n",
      "Epoch 85/100 [VAL]: 100%|██████████| 20/20 [00:28<00:00,  1.43s/it, loss=0.719]\n"
     ]
    },
    {
     "name": "stdout",
     "output_type": "stream",
     "text": [
      "EarlyStopping counter: 57/100 (Best val_acc: 0.9828)\n",
      "\n",
      "Epoch 85/100 | LR: 1.97e-07 | Teach: 0.15 | Scheduler: ReduceLROnPlateau\n",
      "  Train Loss: 0.7326 | Train Char Acc: 0.9912\n",
      "  Val Loss: 0.7813   | Val Acc (CRR): 0.9825\n",
      "  Val Exact Match Acc (E2E RR): 0.9296\n",
      "----------------------------------------------------------------------\n"
     ]
    },
    {
     "name": "stderr",
     "output_type": "stream",
     "text": [
      "Epoch 86/100 [TRAIN] LR: 1.97e-07 Teach: 0.14 Scheduler: ReduceLROnPlateau:   2%|▏         | 1/44 [00:04<03:33,  4.97s/it, loss=0.725]"
     ]
    },
    {
     "name": "stdout",
     "output_type": "stream",
     "text": [
      "\n",
      "--- Training Batch 0 Examples (Content Only) ---\n",
      "  Pred: '1392KW'\n",
      "  True: '1392KW'\n",
      "  Pred: 'L93183'\n",
      "  True: 'L93183'\n",
      "  Pred: '4587KK'\n",
      "  True: '4587KK'\n",
      "  Pred: 'T71920'\n",
      "  True: 'T71920'\n",
      "  Pred: '9E1715'\n",
      "  True: '9E1715'\n",
      "-------------------------------\n"
     ]
    },
    {
     "name": "stderr",
     "output_type": "stream",
     "text": [
      "Epoch 86/100 [TRAIN] LR: 1.97e-07 Teach: 0.14 Scheduler: ReduceLROnPlateau: 100%|██████████| 44/44 [01:00<00:00,  1.37s/it, loss=0.728]\n",
      "Epoch 86/100 [VAL]: 100%|██████████| 20/20 [00:28<00:00,  1.43s/it, loss=0.719]\n"
     ]
    },
    {
     "name": "stdout",
     "output_type": "stream",
     "text": [
      "EarlyStopping counter: 58/100 (Best val_acc: 0.9828)\n",
      "\n",
      "Epoch 86/100 | LR: 1.97e-07 | Teach: 0.14 | Scheduler: ReduceLROnPlateau\n",
      "  Train Loss: 0.7256 | Train Char Acc: 0.9953\n",
      "  Val Loss: 0.7814   | Val Acc (CRR): 0.9825\n",
      "  Val Exact Match Acc (E2E RR): 0.9280\n",
      "----------------------------------------------------------------------\n"
     ]
    },
    {
     "name": "stderr",
     "output_type": "stream",
     "text": [
      "Epoch 87/100 [TRAIN] LR: 1.97e-07 Teach: 0.14 Scheduler: ReduceLROnPlateau:   2%|▏         | 1/44 [00:05<03:59,  5.56s/it, loss=0.741]"
     ]
    },
    {
     "name": "stdout",
     "output_type": "stream",
     "text": [
      "\n",
      "--- Training Batch 0 Examples (Content Only) ---\n",
      "  Pred: '8881DR'\n",
      "  True: '8881XD'\n",
      "  Pred: '0396KG'\n",
      "  True: '0396KG'\n",
      "  Pred: 'V35941'\n",
      "  True: 'V35941'\n",
      "  Pred: 'A89228'\n",
      "  True: 'A89228'\n",
      "  Pred: '6678FG'\n",
      "  True: '6678FG'\n",
      "-------------------------------\n"
     ]
    },
    {
     "name": "stderr",
     "output_type": "stream",
     "text": [
      "Epoch 87/100 [TRAIN] LR: 1.97e-07 Teach: 0.14 Scheduler: ReduceLROnPlateau: 100%|██████████| 44/44 [01:01<00:00,  1.40s/it, loss=0.713]\n",
      "Epoch 87/100 [VAL]: 100%|██████████| 20/20 [00:28<00:00,  1.42s/it, loss=0.719]\n"
     ]
    },
    {
     "name": "stdout",
     "output_type": "stream",
     "text": [
      "EarlyStopping counter: 59/100 (Best val_acc: 0.9828)\n",
      "\n",
      "Epoch 87/100 | LR: 1.97e-07 | Teach: 0.14 | Scheduler: ReduceLROnPlateau\n",
      "  Train Loss: 0.7338 | Train Char Acc: 0.9917\n",
      "  Val Loss: 0.7812   | Val Acc (CRR): 0.9823\n",
      "  Val Exact Match Acc (E2E RR): 0.9280\n",
      "----------------------------------------------------------------------\n"
     ]
    },
    {
     "name": "stderr",
     "output_type": "stream",
     "text": [
      "Epoch 88/100 [TRAIN] LR: 1.97e-07 Teach: 0.13 Scheduler: ReduceLROnPlateau:   2%|▏         | 1/44 [00:05<04:08,  5.78s/it, loss=0.774]"
     ]
    },
    {
     "name": "stdout",
     "output_type": "stream",
     "text": [
      "\n",
      "--- Training Batch 0 Examples (Content Only) ---\n",
      "  Pred: '1572PG'\n",
      "  True: '1572PG'\n",
      "  Pred: '8232EC'\n",
      "  True: '8232EC'\n",
      "  Pred: 'CS2399'\n",
      "  True: 'CS2399'\n",
      "  Pred: '3E7899'\n",
      "  True: '3E7899'\n",
      "  Pred: '2927SA'\n",
      "  True: '2927SA'\n",
      "-------------------------------\n"
     ]
    },
    {
     "name": "stderr",
     "output_type": "stream",
     "text": [
      "Epoch 88/100 [TRAIN] LR: 1.97e-07 Teach: 0.13 Scheduler: ReduceLROnPlateau: 100%|██████████| 44/44 [01:01<00:00,  1.39s/it, loss=0.712]\n",
      "Epoch 88/100 [VAL]: 100%|██████████| 20/20 [00:28<00:00,  1.42s/it, loss=0.719]\n"
     ]
    },
    {
     "name": "stdout",
     "output_type": "stream",
     "text": [
      "EarlyStopping counter: 60/100 (Best val_acc: 0.9828)\n",
      "\n",
      "Epoch 88/100 | LR: 9.87e-08 | Teach: 0.13 | Scheduler: ReduceLROnPlateau\n",
      "  Train Loss: 0.7408 | Train Char Acc: 0.9884\n",
      "  Val Loss: 0.7814   | Val Acc (CRR): 0.9823\n",
      "  Val Exact Match Acc (E2E RR): 0.9280\n",
      "----------------------------------------------------------------------\n"
     ]
    },
    {
     "name": "stderr",
     "output_type": "stream",
     "text": [
      "Epoch 89/100 [TRAIN] LR: 9.87e-08 Teach: 0.12 Scheduler: ReduceLROnPlateau:   2%|▏         | 1/44 [00:05<03:41,  5.14s/it, loss=0.717]"
     ]
    },
    {
     "name": "stdout",
     "output_type": "stream",
     "text": [
      "\n",
      "--- Training Batch 0 Examples (Content Only) ---\n",
      "  Pred: 'UR1263'\n",
      "  True: 'UR1263'\n",
      "  Pred: '9001EX'\n",
      "  True: '9001EX'\n",
      "  Pred: '4781DX'\n",
      "  True: '4781DX'\n",
      "  Pred: 'EZ8402'\n",
      "  True: 'EZ8402'\n",
      "  Pred: '1012F6'\n",
      "  True: '1012F6'\n",
      "-------------------------------\n"
     ]
    },
    {
     "name": "stderr",
     "output_type": "stream",
     "text": [
      "Epoch 89/100 [TRAIN] LR: 9.87e-08 Teach: 0.12 Scheduler: ReduceLROnPlateau: 100%|██████████| 44/44 [01:00<00:00,  1.37s/it, loss=0.734]\n",
      "Epoch 89/100 [VAL]: 100%|██████████| 20/20 [00:28<00:00,  1.42s/it, loss=0.719]\n"
     ]
    },
    {
     "name": "stdout",
     "output_type": "stream",
     "text": [
      "EarlyStopping counter: 61/100 (Best val_acc: 0.9828)\n",
      "\n",
      "Epoch 89/100 | LR: 9.87e-08 | Teach: 0.12 | Scheduler: ReduceLROnPlateau\n",
      "  Train Loss: 0.7352 | Train Char Acc: 0.9904\n",
      "  Val Loss: 0.7811   | Val Acc (CRR): 0.9825\n",
      "  Val Exact Match Acc (E2E RR): 0.9296\n",
      "----------------------------------------------------------------------\n"
     ]
    },
    {
     "name": "stderr",
     "output_type": "stream",
     "text": [
      "Epoch 90/100 [TRAIN] LR: 9.87e-08 Teach: 0.12 Scheduler: ReduceLROnPlateau:   2%|▏         | 1/44 [00:05<04:15,  5.94s/it, loss=0.712]"
     ]
    },
    {
     "name": "stdout",
     "output_type": "stream",
     "text": [
      "\n",
      "--- Training Batch 0 Examples (Content Only) ---\n",
      "  Pred: '5288B7'\n",
      "  True: '5288B7'\n",
      "  Pred: 'V81041'\n",
      "  True: 'V81041'\n",
      "  Pred: '0557JZ'\n",
      "  True: '0557JZ'\n",
      "  Pred: '0751QL'\n",
      "  True: '0751QL'\n",
      "  Pred: '2B6449'\n",
      "  True: '2B6449'\n",
      "-------------------------------\n"
     ]
    },
    {
     "name": "stderr",
     "output_type": "stream",
     "text": [
      "Epoch 90/100 [TRAIN] LR: 9.87e-08 Teach: 0.12 Scheduler: ReduceLROnPlateau: 100%|██████████| 44/44 [01:01<00:00,  1.39s/it, loss=0.716]\n",
      "Epoch 90/100 [VAL]: 100%|██████████| 20/20 [00:28<00:00,  1.43s/it, loss=0.719]\n"
     ]
    },
    {
     "name": "stdout",
     "output_type": "stream",
     "text": [
      "EarlyStopping counter: 62/100 (Best val_acc: 0.9828)\n",
      "\n",
      "Epoch 90/100 | LR: 9.87e-08 | Teach: 0.12 | Scheduler: ReduceLROnPlateau\n",
      "  Train Loss: 0.7298 | Train Char Acc: 0.9938\n",
      "  Val Loss: 0.7812   | Val Acc (CRR): 0.9823\n",
      "  Val Exact Match Acc (E2E RR): 0.9280\n",
      "----------------------------------------------------------------------\n"
     ]
    },
    {
     "name": "stderr",
     "output_type": "stream",
     "text": [
      "Epoch 91/100 [TRAIN] LR: 9.87e-08 Teach: 0.11 Scheduler: ReduceLROnPlateau:   2%|▏         | 1/44 [00:05<03:41,  5.14s/it, loss=0.719]"
     ]
    },
    {
     "name": "stdout",
     "output_type": "stream",
     "text": [
      "\n",
      "--- Training Batch 0 Examples (Content Only) ---\n",
      "  Pred: 'ZZ7691'\n",
      "  True: 'ZZ7691'\n",
      "  Pred: 'CU6416'\n",
      "  True: 'CU6416'\n",
      "  Pred: 'QR3037'\n",
      "  True: 'QR3037'\n",
      "  Pred: 'R67293'\n",
      "  True: 'R67293'\n",
      "  Pred: '8327DT'\n",
      "  True: '8327DT'\n",
      "-------------------------------\n"
     ]
    },
    {
     "name": "stderr",
     "output_type": "stream",
     "text": [
      "Epoch 91/100 [TRAIN] LR: 9.87e-08 Teach: 0.11 Scheduler: ReduceLROnPlateau: 100%|██████████| 44/44 [01:00<00:00,  1.37s/it, loss=0.729]\n",
      "Epoch 91/100 [VAL]: 100%|██████████| 20/20 [00:28<00:00,  1.45s/it, loss=0.718]\n"
     ]
    },
    {
     "name": "stdout",
     "output_type": "stream",
     "text": [
      "EarlyStopping counter: 63/100 (Best val_acc: 0.9828)\n",
      "\n",
      "Epoch 91/100 | LR: 4.94e-08 | Teach: 0.11 | Scheduler: ReduceLROnPlateau\n",
      "  Train Loss: 0.7432 | Train Char Acc: 0.9873\n",
      "  Val Loss: 0.7813   | Val Acc (CRR): 0.9825\n",
      "  Val Exact Match Acc (E2E RR): 0.9296\n",
      "----------------------------------------------------------------------\n"
     ]
    },
    {
     "name": "stderr",
     "output_type": "stream",
     "text": [
      "Epoch 92/100 [TRAIN] LR: 4.94e-08 Teach: 0.10 Scheduler: ReduceLROnPlateau:   2%|▏         | 1/44 [00:05<04:03,  5.66s/it, loss=0.758]"
     ]
    },
    {
     "name": "stdout",
     "output_type": "stream",
     "text": [
      "\n",
      "--- Training Batch 0 Examples (Content Only) ---\n",
      "  Pred: 'DM7221'\n",
      "  True: 'DM7221'\n",
      "  Pred: 'BJ0036'\n",
      "  True: 'BJ0036'\n",
      "  Pred: '1P9968'\n",
      "  True: '1P9968'\n",
      "  Pred: '9318VE'\n",
      "  True: '9318VE'\n",
      "  Pred: '2T3926'\n",
      "  True: '2T3926'\n",
      "-------------------------------\n"
     ]
    },
    {
     "name": "stderr",
     "output_type": "stream",
     "text": [
      "Epoch 92/100 [TRAIN] LR: 4.94e-08 Teach: 0.10 Scheduler: ReduceLROnPlateau: 100%|██████████| 44/44 [01:01<00:00,  1.40s/it, loss=0.74]\n",
      "Epoch 92/100 [VAL]: 100%|██████████| 20/20 [00:28<00:00,  1.44s/it, loss=0.719]\n"
     ]
    },
    {
     "name": "stdout",
     "output_type": "stream",
     "text": [
      "EarlyStopping counter: 64/100 (Best val_acc: 0.9828)\n",
      "\n",
      "Epoch 92/100 | LR: 4.94e-08 | Teach: 0.10 | Scheduler: ReduceLROnPlateau\n",
      "  Train Loss: 0.7300 | Train Char Acc: 0.9929\n",
      "  Val Loss: 0.7814   | Val Acc (CRR): 0.9825\n",
      "  Val Exact Match Acc (E2E RR): 0.9296\n",
      "----------------------------------------------------------------------\n"
     ]
    },
    {
     "name": "stderr",
     "output_type": "stream",
     "text": [
      "Epoch 93/100 [TRAIN] LR: 4.94e-08 Teach: 0.10 Scheduler: ReduceLROnPlateau:   2%|▏         | 1/44 [00:05<04:13,  5.89s/it, loss=0.719]"
     ]
    },
    {
     "name": "stdout",
     "output_type": "stream",
     "text": [
      "\n",
      "--- Training Batch 0 Examples (Content Only) ---\n",
      "  Pred: '1276NR'\n",
      "  True: '1276NR'\n",
      "  Pred: 'CE7376'\n",
      "  True: 'CE7376'\n",
      "  Pred: '3667HM'\n",
      "  True: '3667HM'\n",
      "  Pred: 'V81501'\n",
      "  True: 'V81501'\n",
      "  Pred: 'WZ1252'\n",
      "  True: 'WZ1252'\n",
      "-------------------------------\n"
     ]
    },
    {
     "name": "stderr",
     "output_type": "stream",
     "text": [
      "Epoch 93/100 [TRAIN] LR: 4.94e-08 Teach: 0.10 Scheduler: ReduceLROnPlateau: 100%|██████████| 44/44 [01:01<00:00,  1.39s/it, loss=0.716]\n",
      "Epoch 93/100 [VAL]: 100%|██████████| 20/20 [00:28<00:00,  1.43s/it, loss=0.719]\n"
     ]
    },
    {
     "name": "stdout",
     "output_type": "stream",
     "text": [
      "EarlyStopping counter: 65/100 (Best val_acc: 0.9828)\n",
      "\n",
      "Epoch 93/100 | LR: 4.94e-08 | Teach: 0.10 | Scheduler: ReduceLROnPlateau\n",
      "  Train Loss: 0.7336 | Train Char Acc: 0.9911\n",
      "  Val Loss: 0.7815   | Val Acc (CRR): 0.9823\n",
      "  Val Exact Match Acc (E2E RR): 0.9280\n",
      "----------------------------------------------------------------------\n"
     ]
    },
    {
     "name": "stderr",
     "output_type": "stream",
     "text": [
      "Epoch 94/100 [TRAIN] LR: 4.94e-08 Teach: 0.09 Scheduler: ReduceLROnPlateau:   2%|▏         | 1/44 [00:05<04:07,  5.75s/it, loss=0.722]"
     ]
    },
    {
     "name": "stdout",
     "output_type": "stream",
     "text": [
      "\n",
      "--- Training Batch 0 Examples (Content Only) ---\n",
      "  Pred: '3382TR'\n",
      "  True: '3382TR'\n",
      "  Pred: 'RV2350'\n",
      "  True: 'RV2350'\n",
      "  Pred: '2712AA'\n",
      "  True: '2712AA'\n",
      "  Pred: '0403VA'\n",
      "  True: '0403VA'\n",
      "  Pred: '3852HG'\n",
      "  True: '3852HG'\n",
      "-------------------------------\n"
     ]
    },
    {
     "name": "stderr",
     "output_type": "stream",
     "text": [
      "Epoch 94/100 [TRAIN] LR: 4.94e-08 Teach: 0.09 Scheduler: ReduceLROnPlateau: 100%|██████████| 44/44 [01:00<00:00,  1.38s/it, loss=0.735]\n",
      "Epoch 94/100 [VAL]: 100%|██████████| 20/20 [00:28<00:00,  1.44s/it, loss=0.719]\n"
     ]
    },
    {
     "name": "stdout",
     "output_type": "stream",
     "text": [
      "EarlyStopping counter: 66/100 (Best val_acc: 0.9828)\n",
      "\n",
      "Epoch 94/100 | LR: 2.47e-08 | Teach: 0.09 | Scheduler: ReduceLROnPlateau\n",
      "  Train Loss: 0.7336 | Train Char Acc: 0.9914\n",
      "  Val Loss: 0.7814   | Val Acc (CRR): 0.9823\n",
      "  Val Exact Match Acc (E2E RR): 0.9280\n",
      "----------------------------------------------------------------------\n"
     ]
    },
    {
     "name": "stderr",
     "output_type": "stream",
     "text": [
      "Epoch 95/100 [TRAIN] LR: 2.47e-08 Teach: 0.08 Scheduler: ReduceLROnPlateau:   2%|▏         | 1/44 [00:05<04:14,  5.92s/it, loss=0.714]"
     ]
    },
    {
     "name": "stdout",
     "output_type": "stream",
     "text": [
      "\n",
      "--- Training Batch 0 Examples (Content Only) ---\n",
      "  Pred: '6216QE'\n",
      "  True: '6216QE'\n",
      "  Pred: '8D9186'\n",
      "  True: '8D9186'\n",
      "  Pred: '1567A5'\n",
      "  True: '1567A5'\n",
      "  Pred: '0550EK'\n",
      "  True: '0550EK'\n",
      "  Pred: '1225CC'\n",
      "  True: '1225CC'\n",
      "-------------------------------\n"
     ]
    },
    {
     "name": "stderr",
     "output_type": "stream",
     "text": [
      "Epoch 95/100 [TRAIN] LR: 2.47e-08 Teach: 0.08 Scheduler: ReduceLROnPlateau: 100%|██████████| 44/44 [01:01<00:00,  1.39s/it, loss=0.716]\n",
      "Epoch 95/100 [VAL]: 100%|██████████| 20/20 [00:28<00:00,  1.43s/it, loss=0.719]\n"
     ]
    },
    {
     "name": "stdout",
     "output_type": "stream",
     "text": [
      "EarlyStopping counter: 67/100 (Best val_acc: 0.9828)\n",
      "\n",
      "Epoch 95/100 | LR: 2.47e-08 | Teach: 0.08 | Scheduler: ReduceLROnPlateau\n",
      "  Train Loss: 0.7323 | Train Char Acc: 0.9922\n",
      "  Val Loss: 0.7812   | Val Acc (CRR): 0.9823\n",
      "  Val Exact Match Acc (E2E RR): 0.9280\n",
      "----------------------------------------------------------------------\n"
     ]
    },
    {
     "name": "stderr",
     "output_type": "stream",
     "text": [
      "Epoch 96/100 [TRAIN] LR: 2.47e-08 Teach: 0.08 Scheduler: ReduceLROnPlateau:   2%|▏         | 1/44 [00:05<04:14,  5.91s/it, loss=0.77]"
     ]
    },
    {
     "name": "stdout",
     "output_type": "stream",
     "text": [
      "\n",
      "--- Training Batch 0 Examples (Content Only) ---\n",
      "  Pred: '0R2520'\n",
      "  True: '0R2520'\n",
      "  Pred: 'G39750'\n",
      "  True: 'G39750'\n",
      "  Pred: '6686ES'\n",
      "  True: '6686ES'\n",
      "  Pred: 'X75899'\n",
      "  True: 'X75893'\n",
      "  Pred: '3692UT'\n",
      "  True: '3692UT'\n",
      "-------------------------------\n"
     ]
    },
    {
     "name": "stderr",
     "output_type": "stream",
     "text": [
      "Epoch 96/100 [TRAIN] LR: 2.47e-08 Teach: 0.08 Scheduler: ReduceLROnPlateau: 100%|██████████| 44/44 [01:01<00:00,  1.39s/it, loss=0.757]\n",
      "Epoch 96/100 [VAL]: 100%|██████████| 20/20 [00:28<00:00,  1.43s/it, loss=0.718]\n"
     ]
    },
    {
     "name": "stdout",
     "output_type": "stream",
     "text": [
      "EarlyStopping counter: 68/100 (Best val_acc: 0.9828)\n",
      "\n",
      "Epoch 96/100 | LR: 2.47e-08 | Teach: 0.08 | Scheduler: ReduceLROnPlateau\n",
      "  Train Loss: 0.7317 | Train Char Acc: 0.9921\n",
      "  Val Loss: 0.7815   | Val Acc (CRR): 0.9825\n",
      "  Val Exact Match Acc (E2E RR): 0.9296\n",
      "----------------------------------------------------------------------\n"
     ]
    },
    {
     "name": "stderr",
     "output_type": "stream",
     "text": [
      "Epoch 97/100 [TRAIN] LR: 2.47e-08 Teach: 0.07 Scheduler: ReduceLROnPlateau:   2%|▏         | 1/44 [00:06<04:28,  6.23s/it, loss=0.751]"
     ]
    },
    {
     "name": "stdout",
     "output_type": "stream",
     "text": [
      "\n",
      "--- Training Batch 0 Examples (Content Only) ---\n",
      "  Pred: 'CP7715'\n",
      "  True: 'CP7715'\n",
      "  Pred: '0321ER'\n",
      "  True: '0321ER'\n",
      "  Pred: '5B0379'\n",
      "  True: '5B0379'\n",
      "  Pred: 'UR2068'\n",
      "  True: 'UR2068'\n",
      "  Pred: '8728QE'\n",
      "  True: '8728QE'\n",
      "-------------------------------\n"
     ]
    },
    {
     "name": "stderr",
     "output_type": "stream",
     "text": [
      "Epoch 97/100 [TRAIN] LR: 2.47e-08 Teach: 0.07 Scheduler: ReduceLROnPlateau: 100%|██████████| 44/44 [01:01<00:00,  1.39s/it, loss=0.721]\n",
      "Epoch 97/100 [VAL]: 100%|██████████| 20/20 [00:28<00:00,  1.43s/it, loss=0.719]\n"
     ]
    },
    {
     "name": "stdout",
     "output_type": "stream",
     "text": [
      "EarlyStopping counter: 69/100 (Best val_acc: 0.9828)\n",
      "\n",
      "Epoch 97/100 | LR: 1.23e-08 | Teach: 0.07 | Scheduler: ReduceLROnPlateau\n",
      "  Train Loss: 0.7284 | Train Char Acc: 0.9938\n",
      "  Val Loss: 0.7812   | Val Acc (CRR): 0.9825\n",
      "  Val Exact Match Acc (E2E RR): 0.9296\n",
      "----------------------------------------------------------------------\n"
     ]
    },
    {
     "name": "stderr",
     "output_type": "stream",
     "text": [
      "Epoch 98/100 [TRAIN] LR: 1.23e-08 Teach: 0.06 Scheduler: ReduceLROnPlateau:   2%|▏         | 1/44 [00:05<03:48,  5.32s/it, loss=0.727]"
     ]
    },
    {
     "name": "stdout",
     "output_type": "stream",
     "text": [
      "\n",
      "--- Training Batch 0 Examples (Content Only) ---\n",
      "  Pred: 'DQ0798'\n",
      "  True: 'DQ0798'\n",
      "  Pred: 'AK8699'\n",
      "  True: 'AK8699'\n",
      "  Pred: 'Z81081'\n",
      "  True: 'Z81081'\n",
      "  Pred: '6E1507'\n",
      "  True: '6E1507'\n",
      "  Pred: '8232EC'\n",
      "  True: '8232EC'\n",
      "-------------------------------\n"
     ]
    },
    {
     "name": "stderr",
     "output_type": "stream",
     "text": [
      "Epoch 98/100 [TRAIN] LR: 1.23e-08 Teach: 0.06 Scheduler: ReduceLROnPlateau: 100%|██████████| 44/44 [01:01<00:00,  1.39s/it, loss=0.712]\n",
      "Epoch 98/100 [VAL]: 100%|██████████| 20/20 [00:28<00:00,  1.43s/it, loss=0.719]\n"
     ]
    },
    {
     "name": "stdout",
     "output_type": "stream",
     "text": [
      "EarlyStopping counter: 70/100 (Best val_acc: 0.9828)\n",
      "\n",
      "Epoch 98/100 | LR: 1.23e-08 | Teach: 0.06 | Scheduler: ReduceLROnPlateau\n",
      "  Train Loss: 0.7337 | Train Char Acc: 0.9916\n",
      "  Val Loss: 0.7813   | Val Acc (CRR): 0.9825\n",
      "  Val Exact Match Acc (E2E RR): 0.9296\n",
      "----------------------------------------------------------------------\n"
     ]
    },
    {
     "name": "stderr",
     "output_type": "stream",
     "text": [
      "Epoch 99/100 [TRAIN] LR: 1.23e-08 Teach: 0.06 Scheduler: ReduceLROnPlateau:   2%|▏         | 1/44 [00:06<04:18,  6.00s/it, loss=0.736]"
     ]
    },
    {
     "name": "stdout",
     "output_type": "stream",
     "text": [
      "\n",
      "--- Training Batch 0 Examples (Content Only) ---\n",
      "  Pred: 'UQ8698'\n",
      "  True: 'UQ8698'\n",
      "  Pred: '1907VL'\n",
      "  True: '1907VL'\n",
      "  Pred: 'CV7107'\n",
      "  True: 'CV7107'\n",
      "  Pred: 'N30237'\n",
      "  True: 'N30237'\n",
      "  Pred: '0066DW'\n",
      "  True: '0066DW'\n",
      "-------------------------------\n"
     ]
    },
    {
     "name": "stderr",
     "output_type": "stream",
     "text": [
      "Epoch 99/100 [TRAIN] LR: 1.23e-08 Teach: 0.06 Scheduler: ReduceLROnPlateau: 100%|██████████| 44/44 [01:01<00:00,  1.39s/it, loss=0.72]\n",
      "Epoch 99/100 [VAL]: 100%|██████████| 20/20 [00:28<00:00,  1.43s/it, loss=0.719]\n"
     ]
    },
    {
     "name": "stdout",
     "output_type": "stream",
     "text": [
      "EarlyStopping counter: 71/100 (Best val_acc: 0.9828)\n",
      "\n",
      "Epoch 99/100 | LR: 1.23e-08 | Teach: 0.06 | Scheduler: ReduceLROnPlateau\n",
      "  Train Loss: 0.7420 | Train Char Acc: 0.9873\n",
      "  Val Loss: 0.7810   | Val Acc (CRR): 0.9825\n",
      "  Val Exact Match Acc (E2E RR): 0.9296\n",
      "----------------------------------------------------------------------\n"
     ]
    },
    {
     "name": "stderr",
     "output_type": "stream",
     "text": [
      "Epoch 100/100 [TRAIN] LR: 1.23e-08 Teach: 0.05 Scheduler: ReduceLROnPlateau:   2%|▏         | 1/44 [00:05<04:15,  5.94s/it, loss=0.763]"
     ]
    },
    {
     "name": "stdout",
     "output_type": "stream",
     "text": [
      "\n",
      "--- Training Batch 0 Examples (Content Only) ---\n",
      "  Pred: '2W7239'\n",
      "  True: '2W7239'\n",
      "  Pred: '7A1862'\n",
      "  True: '7A1862'\n",
      "  Pred: 'DU0712'\n",
      "  True: 'DU0712'\n",
      "  Pred: 'L18850'\n",
      "  True: 'L18850'\n",
      "  Pred: 'C94910'\n",
      "  True: 'C94910'\n",
      "-------------------------------\n"
     ]
    },
    {
     "name": "stderr",
     "output_type": "stream",
     "text": [
      "Epoch 100/100 [TRAIN] LR: 1.23e-08 Teach: 0.05 Scheduler: ReduceLROnPlateau: 100%|██████████| 44/44 [01:01<00:00,  1.39s/it, loss=0.781]\n",
      "Epoch 100/100 [VAL]: 100%|██████████| 20/20 [00:28<00:00,  1.42s/it, loss=0.719]\n"
     ]
    },
    {
     "name": "stdout",
     "output_type": "stream",
     "text": [
      "EarlyStopping counter: 72/100 (Best val_acc: 0.9828)\n",
      "\n",
      "Epoch 100/100 | LR: 1.23e-08 | Teach: 0.05 | Scheduler: ReduceLROnPlateau\n",
      "  Train Loss: 0.7392 | Train Char Acc: 0.9892\n",
      "  Val Loss: 0.7814   | Val Acc (CRR): 0.9823\n",
      "  Val Exact Match Acc (E2E RR): 0.9280\n",
      "----------------------------------------------------------------------\n",
      "\n",
      "Training completed!\n",
      "Final val accuracy (Greedy Character Level): 0.9823\n",
      "Final val accuracy (Constrained Length Exact Match): 0.9280\n"
     ]
    },
    {
     "data": {
      "image/png": "[encoded data removed]",
      "text/plain": [
       "<Figure size 1800x1200 with 2 Axes>"
      ]
     },
     "metadata": {},
     "output_type": "display_data"
    },
    {
     "name": "stdout",
     "output_type": "stream",
     "text": [
      "Saved plots to performance_plots.png\n"
     ]
    }
   ],
   "source": [
    "import torch\n",
    "import torch.nn as nn\n",
    "from ultralytics import YOLO\n",
    "from torch.nn import MultiheadAttention\n",
    "from torchvision import transforms\n",
    "from PIL import Image\n",
    "import random\n",
    "import os\n",
    "from torch.utils.data import Dataset, DataLoader, Sampler, Subset, SubsetRandomSampler\n",
    "import numpy as np\n",
    "from tqdm import tqdm\n",
    "import matplotlib.pyplot as plt\n",
    "from torchtoolbox.tools import mixup_data, mixup_criterion\n",
    "\n",
    "#--- Constants ---\n",
    "CHARACTERS = '0123456789ABCDEFGHIJKLMNOPQRSTUVWXYZ'\n",
    "SOS_TOKEN = 36\n",
    "EOS_TOKEN = 37\n",
    "PAD_TOKEN = len(CHARACTERS) + 2\n",
    "NUM_CLASSES = len(CHARACTERS) + 3  # SOS, EOS, PAD\n",
    "DEVICE = 'cuda' if torch.cuda.is_available() else 'cpu'\n",
    "\n",
    "#--- Utility functions ---\n",
    "def index_to_char(indices, include_special_tokens=False):\n",
    "    result = []\n",
    "    for i in indices:\n",
    "        i = i.item() if torch.is_tensor(i) else i\n",
    "        if i == SOS_TOKEN:\n",
    "            if include_special_tokens: result.append('[SOS]')\n",
    "        elif i == EOS_TOKEN:\n",
    "            if include_special_tokens: result.append('[EOS]')\n",
    "            break\n",
    "        elif 0 <= i < len(CHARACTERS):\n",
    "            result.append(CHARACTERS[i])\n",
    "        else:\n",
    "            if include_special_tokens or i not in [SOS_TOKEN, EOS_TOKEN]:\n",
    "                result.append(f'[UNK_{i}]')\n",
    "    return ''.join(result)\n",
    "\n",
    "def char_to_indices(text):\n",
    "    indices = [SOS_TOKEN]\n",
    "    for c in text:\n",
    "        if c in CHARACTERS:\n",
    "            indices.append(CHARACTERS.index(c))\n",
    "    indices.append(EOS_TOKEN)\n",
    "    return torch.tensor(indices, dtype=torch.long)\n",
    "\n",
    "#--- YOLO wrapper ---\n",
    "class YoloBackbone(nn.Module):\n",
    "    def __init__(self, model_path, target_feature_layer_index=9):\n",
    "        super().__init__()\n",
    "        _temp_yolo_instance = YOLO(model_path)\n",
    "        self.yolo_detection_model = _temp_yolo_instance.model\n",
    "        self.yolo_detection_model.to(DEVICE)\n",
    "        self.target_feature_layer_index = target_feature_layer_index\n",
    "\n",
    "        for name, param in self.yolo_detection_model.named_parameters():\n",
    "            param.requires_grad = True\n",
    "        \n",
    "        self._hook_handle = None\n",
    "        self._fmap_out_hook = []\n",
    "        \n",
    "        self._register_hook()\n",
    "\n",
    "    def _hook_fn_extractor(self, module, input_val, output_val):\n",
    "        if isinstance(output_val, torch.Tensor):\n",
    "            self._fmap_out_hook.append(output_val)\n",
    "        elif isinstance(output_val, (list, tuple)):\n",
    "            for item in output_val:\n",
    "                if isinstance(item, torch.Tensor):\n",
    "                    self._fmap_out_hook.append(item)\n",
    "                    break\n",
    "\n",
    "    def _register_hook(self):\n",
    "        layer_to_hook = self.yolo_detection_model.model[self.target_feature_layer_index]\n",
    "        self._hook_handle = layer_to_hook.register_forward_hook(self._hook_fn_extractor)\n",
    "\n",
    "    def _remove_hook(self):\n",
    "        if self._hook_handle:\n",
    "            self._hook_handle.remove()\n",
    "            self._hook_handle = None\n",
    "\n",
    "    def forward(self, x):\n",
    "        self._fmap_out_hook.clear()\n",
    "        _ = self.yolo_detection_model(x)\n",
    "        out_tensor = self._fmap_out_hook[0]\n",
    "        return out_tensor if out_tensor.dim() == 4 else out_tensor.unsqueeze(0)\n",
    "\n",
    "#--- Simplified RViT ---\n",
    "class RViT(nn.Module):\n",
    "    def __init__(self, yolo_channels=256, d_model=512, num_patches=1600, n_heads=8, num_encoder_layers=3, dim_feedforward=2048, dropout_rate=0.3):\n",
    "        super().__init__()\n",
    "        self.d_model = d_model\n",
    "        self.proj = nn.Sequential(\n",
    "            nn.Conv2d(yolo_channels, d_model, kernel_size=3, padding=1),\n",
    "            nn.BatchNorm2d(d_model),\n",
    "            nn.ReLU(),\n",
    "            nn.Dropout2d(dropout_rate if dropout_rate > 0 else 0)\n",
    "        )\n",
    "        encoder_layer = nn.TransformerEncoderLayer(\n",
    "            d_model=d_model, nhead=n_heads, dim_feedforward=dim_feedforward,\n",
    "            dropout=dropout_rate, batch_first=True, norm_first=True\n",
    "        )\n",
    "        self.encoder = nn.TransformerEncoder(encoder_layer, num_layers=num_encoder_layers)\n",
    "\n",
    "        self.pos_embed = nn.Parameter(torch.randn(1, num_patches + 1, d_model))\n",
    "        self.region_q = nn.Parameter(torch.zeros(1, 1, d_model))\n",
    "        \n",
    "        self.embed = nn.Embedding(NUM_CLASSES, d_model)\n",
    "        self.gru_num_layers = 1\n",
    "        self.gru = nn.GRU(d_model, d_model, num_layers=self.gru_num_layers, batch_first=True,\n",
    "                          dropout=dropout_rate if self.gru_num_layers > 1 else 0)\n",
    "        self.attn = MultiheadAttention(d_model, num_heads=n_heads, batch_first=True, dropout=dropout_rate)\n",
    "        self.fc = nn.Sequential(\n",
    "            nn.Dropout(dropout_rate if dropout_rate > 0 else 0),\n",
    "            nn.Linear(2 * d_model, NUM_CLASSES)\n",
    "        )\n",
    "\n",
    "    def forward(self, fmap, target=None, teach_ratio=0.5, forced_output_length=None):\n",
    "        b = fmap.size(0)\n",
    "        x = self.proj(fmap)\n",
    "        x = x.flatten(2).permute(0, 2, 1)\n",
    "\n",
    "        current_num_patches = x.size(1)\n",
    "        expected_pos_embed_len = current_num_patches + 1\n",
    "        \n",
    "        if self.pos_embed.size(1) != expected_pos_embed_len:\n",
    "            if self.pos_embed.size(1) > expected_pos_embed_len:\n",
    "                pos_embed_to_add = self.pos_embed[:, :expected_pos_embed_len, :]\n",
    "            else:\n",
    "                raise ValueError(f\"RViT pos_embed second dim {self.pos_embed.size(1)} is smaller than required {expected_pos_embed_len}\")\n",
    "        else:\n",
    "            pos_embed_to_add = self.pos_embed\n",
    "\n",
    "        q = self.region_q.expand(b, -1, -1)\n",
    "        x = torch.cat([q, x], dim=1)\n",
    "        x = x + pos_embed_to_add\n",
    "\n",
    "        enc = self.encoder(x)\n",
    "        region_feat, spatial_feats = enc[:, 0], enc[:, 1:]\n",
    "        \n",
    "        if forced_output_length is not None:\n",
    "            max_gen_len = forced_output_length\n",
    "        elif target is not None:\n",
    "            max_gen_len = target.size(1) - 1\n",
    "        else:\n",
    "            max_gen_len = MAX_SEQ_LENGTH - 1\n",
    "\n",
    "        h = region_feat.unsqueeze(0).contiguous()\n",
    "        current_input_tokens = torch.full((b,), SOS_TOKEN, device=DEVICE, dtype=torch.long)\n",
    "        outputs_logits = []\n",
    "\n",
    "        finished_sequences_tracker = None\n",
    "        if target is None and forced_output_length is None:\n",
    "            finished_sequences_tracker = torch.zeros(b, dtype=torch.bool, device=DEVICE)\n",
    "            \n",
    "        for t in range(max_gen_len):\n",
    "            emb = self.embed(current_input_tokens).unsqueeze(1)\n",
    "            g, h = self.gru(emb, h)\n",
    "            a, _ = self.attn(g, spatial_feats, spatial_feats)\n",
    "            comb = torch.cat([g.squeeze(1), a.squeeze(1)], dim=-1)\n",
    "            logits_step = self.fc(comb)\n",
    "            outputs_logits.append(logits_step)\n",
    "\n",
    "            if target is not None and random.random() < teach_ratio:\n",
    "                next_input_candidate = target[:, t + 1]\n",
    "            else:\n",
    "                next_input_candidate = logits_step.argmax(-1)\n",
    "\n",
    "            if finished_sequences_tracker is not None:\n",
    "                eos_predicted_this_step = (next_input_candidate == EOS_TOKEN)\n",
    "                finished_sequences_tracker |= eos_predicted_this_step\n",
    "                current_input_tokens = torch.where(finished_sequences_tracker,\n",
    "                                                 torch.tensor(EOS_TOKEN, device=DEVICE, dtype=torch.long),\n",
    "                                                 next_input_candidate)\n",
    "                if finished_sequences_tracker.all():\n",
    "                    break\n",
    "            else:\n",
    "                current_input_tokens = next_input_candidate\n",
    "        \n",
    "        return torch.stack(outputs_logits, dim=1)\n",
    "\n",
    "#--- Full model (YOLO_RViT) ---\n",
    "class YOLO_RViT(nn.Module):\n",
    "    def __init__(self, yolo_path, yolo_target_feature_layer_idx=9):\n",
    "        super().__init__()\n",
    "        self.backbone = YoloBackbone(yolo_path, target_feature_layer_index=yolo_target_feature_layer_idx)\n",
    "        dummy_input = torch.randn(1, 3, 640, 640).to(DEVICE)\n",
    "        \n",
    "        original_backbone_training_mode = self.backbone.training\n",
    "        with torch.no_grad():\n",
    "            dummy_feats = self.backbone(dummy_input)\n",
    "        \n",
    "        yolo_channels = dummy_feats.shape[1]\n",
    "        h_feat, w_feat = dummy_feats.shape[2], dummy_feats.shape[3]\n",
    "        num_patches = h_feat * w_feat\n",
    "        \n",
    "        self.rvit = RViT(yolo_channels=yolo_channels, num_patches=num_patches).to(DEVICE)\n",
    "\n",
    "    def forward(self, x, target=None, teach_ratio=0.5, forced_output_length=None):\n",
    "        x = x.to(DEVICE)\n",
    "        feats = self.backbone(x)\n",
    "        return self.rvit(feats, target, teach_ratio, forced_output_length)\n",
    "\n",
    "    def train(self, mode: bool = True):\n",
    "        super().train(mode)\n",
    "        self.rvit.train(mode)\n",
    "        self.backbone.train(mode)\n",
    "        return self\n",
    "\n",
    "    def eval(self):\n",
    "        super().eval()\n",
    "        self.rvit.eval()\n",
    "        self.backbone.eval()\n",
    "        return self\n",
    "\n",
    "#--- Dataset ---\n",
    "class LicensePlateDataset(Dataset):\n",
    "    def __init__(self, img_dir, license_dir, max_seq_length=15, is_train=True):\n",
    "        self.img_dir = img_dir\n",
    "        self.license_dir = license_dir\n",
    "        self.max_seq_length = max_seq_length\n",
    "        self.img_names = [f for f in os.listdir(self.img_dir) if f.endswith(('.jpg'))]\n",
    "        if is_train:\n",
    "            self.transform = transforms.Compose([\n",
    "                transforms.Resize((640, 640)),\n",
    "                transforms.RandomApply([\n",
    "                    transforms.RandomRotation(10),\n",
    "                    transforms.RandomAffine(degrees=8, translate=(0.03, 0.03), scale=(0.95, 1.05)),\n",
    "                    transforms.RandomPerspective(distortion_scale=0.05, p=0.3),\n",
    "                ], p=0.7),\n",
    "                transforms.ColorJitter(brightness=0.2, contrast=0.2, saturation=0.2, hue=0.05),\n",
    "                transforms.RandomApply([transforms.GaussianBlur(kernel_size=3, sigma=(0.1, 1.0))], p=0.25),\n",
    "                transforms.ToTensor(),\n",
    "                transforms.RandomErasing(p=0.2, scale=(0.01, 0.04), ratio=(0.3, 3.3)),\n",
    "                transforms.Normalize(mean=[0.485, 0.456, 0.406], std=[0.229, 0.224, 0.225])\n",
    "            ])\n",
    "        else:\n",
    "            self.transform = transforms.Compose([\n",
    "                transforms.Resize((640, 640)),\n",
    "                transforms.ToTensor(),\n",
    "                transforms.Normalize(mean=[0.485, 0.456, 0.406], std=[0.229, 0.224, 0.225])\n",
    "            ])\n",
    "            \n",
    "    def __len__(self):\n",
    "        return len(self.img_names)\n",
    "\n",
    "    def __getitem__(self, idx):\n",
    "        img_path = os.path.join(self.img_dir, self.img_names[idx])\n",
    "        img = Image.open(img_path).convert(\"RGB\")\n",
    "        img_tensor = self.transform(img)\n",
    "        \n",
    "        license_filename = os.path.splitext(self.img_names[idx])[0] + \".txt\"\n",
    "        license_path = os.path.join(self.license_dir, license_filename)\n",
    "        try:\n",
    "            with open(license_path, 'r', encoding='utf-8') as f:\n",
    "                license_text = f.read().upper().strip()\n",
    "        except FileNotFoundError:\n",
    "            return img_tensor, torch.full((self.max_seq_length,), EOS_TOKEN, dtype=torch.long)\n",
    "\n",
    "        # print(f\"file: {self.img_names[idx]}, {license_text}\")\n",
    "        license_indices = char_to_indices(license_text)\n",
    "        target = torch.full((self.max_seq_length,), PAD_TOKEN, dtype=torch.long)\n",
    "        \n",
    "        actual_len = min(len(license_indices), self.max_seq_length)\n",
    "        target[:actual_len] = license_indices[:actual_len]\n",
    "        \n",
    "        return img_tensor, target\n",
    "\n",
    "\n",
    "    @staticmethod\n",
    "    def collate_fn(batch):\n",
    "        images = torch.stack([item[0] for item in batch])\n",
    "        targets = torch.stack([item[1] for item in batch])\n",
    "        return images, targets\n",
    "\n",
    "#--- Early Stopping ---\n",
    "class EarlyStopping:\n",
    "    def __init__(self, patience=10, min_delta=0.0, monitor_metric='val_acc', mode='max', verbose=True):\n",
    "        self.patience = patience\n",
    "        self.min_delta = min_delta\n",
    "        self.monitor_metric = monitor_metric\n",
    "        self.mode = mode\n",
    "        self.verbose = verbose\n",
    "\n",
    "        if self.mode == 'min':\n",
    "            self.best_metric_val = np.Inf\n",
    "        else:\n",
    "            self.best_metric_val = -np.Inf\n",
    "        self.counter = 0\n",
    "        self.early_stop = False\n",
    "\n",
    "    def __call__(self, current_metric_val):\n",
    "        improved = False\n",
    "        if self.mode == 'min':\n",
    "            if current_metric_val < self.best_metric_val - self.min_delta:\n",
    "                self.best_metric_val = current_metric_val\n",
    "                improved = True\n",
    "        else:\n",
    "            if current_metric_val > self.best_metric_val + self.min_delta:\n",
    "                self.best_metric_val = current_metric_val\n",
    "                improved = True\n",
    "        \n",
    "        if improved:\n",
    "            self.counter = 0\n",
    "            if self.verbose:\n",
    "                print(f\"EarlyStopping: New best {self.monitor_metric}: {self.best_metric_val:.4f}\")\n",
    "        else:\n",
    "            self.counter += 1\n",
    "\n",
    "        if self.verbose and self.counter > 0 and not improved:\n",
    "            print(f\"EarlyStopping counter: {self.counter}/{self.patience} (Best {self.monitor_metric}: {self.best_metric_val:.4f})\")\n",
    "        if self.counter >= self.patience:\n",
    "            self.early_stop = True\n",
    "            if self.verbose:\n",
    "                print(f\"Early stopping triggered for {self.monitor_metric}.\")\n",
    "        return self.counter\n",
    "\n",
    "#--- Training ---\n",
    "YOLO_MODEL_PATH = '/kaggle/input/m/thitenguyen/yolov11s/pytorch/default/1/best.pt'\n",
    "YOLO_TARGET_FEATURE_LAYER_INDEX = 13\n",
    "\n",
    "IMG_DIR_TRAIN = \"/kaggle/input/aolp-rp-dataset/AOLP_RP/train/image\"\n",
    "LICENSE_DIR_TRAIN = \"/kaggle/input/aolp-rp-dataset/AOLP_RP/train/text\"\n",
    "IMG_DIR_VAL = \"/kaggle/input/aolp-rp-dataset/AOLP_RP/val/image\"\n",
    "LICENSE_DIR_VAL = \"/kaggle/input/aolp-rp-dataset/AOLP_RP/val/text\"\n",
    "\n",
    "MAX_SEQ_LENGTH = 15\n",
    "BATCH_SIZE = 32\n",
    "NUM_WORKERS = 4\n",
    "LEARNING_RATE = 5e-5\n",
    "MAX_LR_SCHEDULER = 5e-4\n",
    "WEIGHT_DECAY = 5e-5\n",
    "NUM_EPOCHS = 100\n",
    "ACCUM_STEPS = 2\n",
    "PATIENCE_EARLY_STOP = 100\n",
    "TEACH_RATIO_START = 0.7\n",
    "TEACH_RATIO_END = 0.05\n",
    "LABEL_SMOOTHING = 0.1\n",
    "\n",
    "scaler = torch.amp.GradScaler(DEVICE)\n",
    "autocast_context = lambda: torch.amp.autocast(DEVICE)\n",
    "\n",
    "train_dataset_full = LicensePlateDataset(img_dir=IMG_DIR_TRAIN, license_dir=LICENSE_DIR_TRAIN, max_seq_length=MAX_SEQ_LENGTH, is_train=True)\n",
    "val_dataset = LicensePlateDataset(img_dir=IMG_DIR_VAL, license_dir=LICENSE_DIR_VAL, max_seq_length=MAX_SEQ_LENGTH, is_train=False)\n",
    "\n",
    "train_dataloader = DataLoader(train_dataset_full, batch_size=BATCH_SIZE, shuffle=True, num_workers=NUM_WORKERS, collate_fn=LicensePlateDataset.collate_fn, pin_memory=(DEVICE == 'cuda'), drop_last=True)\n",
    "val_dataloader = DataLoader(val_dataset, batch_size=BATCH_SIZE, shuffle=False, num_workers=NUM_WORKERS, collate_fn=LicensePlateDataset.collate_fn, pin_memory=(DEVICE == 'cuda'))\n",
    "\n",
    "model = YOLO_RViT(YOLO_MODEL_PATH, yolo_target_feature_layer_idx=YOLO_TARGET_FEATURE_LAYER_INDEX).to(DEVICE)\n",
    "\n",
    "optimizer = torch.optim.AdamW(\n",
    "    model.parameters(),\n",
    "    lr=LEARNING_RATE,\n",
    "    weight_decay=WEIGHT_DECAY\n",
    ")\n",
    "\n",
    "scheduler = torch.optim.lr_scheduler.OneCycleLR(\n",
    "    optimizer, max_lr=MAX_LR_SCHEDULER,\n",
    "    epochs=NUM_EPOCHS,\n",
    "    steps_per_epoch=(len(train_dataloader) + ACCUM_STEPS - 1) // ACCUM_STEPS,\n",
    "    pct_start=0.2,\n",
    "    div_factor=(MAX_LR_SCHEDULER / LEARNING_RATE) if MAX_LR_SCHEDULER > LEARNING_RATE else 10.0\n",
    ")\n",
    "scheduler_type = \"OneCycleLR\"\n",
    "\n",
    "loss_fn = nn.CrossEntropyLoss(ignore_index=PAD_TOKEN, label_smoothing=LABEL_SMOOTHING)\n",
    "early_stopper = EarlyStopping(patience=PATIENCE_EARLY_STOP, min_delta=0.0005, monitor_metric='val_acc', mode='max', verbose=True)\n",
    "\n",
    "checkpoint = torch.load(\"/kaggle/input/yolo_rvt_good/pytorch/default/2/best_yolo_rvit_model.pth\", map_location=DEVICE)\n",
    "model.load_state_dict(checkpoint['model_state_dict'])\n",
    "optimizer.load_state_dict(checkpoint['optimizer_state_dict'])\n",
    "\n",
    "train_loss_values, val_loss_values = [], []\n",
    "train_acc_values, val_acc_values, val_acc_constrained_values = [], [], []\n",
    "epoch_count_list = []\n",
    "best_val_acc = 0.0\n",
    "\n",
    "for epoch in range(NUM_EPOCHS):\n",
    "    epoch_count_list.append(epoch + 1)\n",
    "    model.train()\n",
    "    train_loss, train_correct, train_total_chars = 0, 0, 0\n",
    "\n",
    "    teach_ratio = TEACH_RATIO_START - (TEACH_RATIO_START - TEACH_RATIO_END) * (epoch / max(1, NUM_EPOCHS - 1))\n",
    "\n",
    "    optimizer.zero_grad()\n",
    "\n",
    "    pbar_train = tqdm(train_dataloader, desc=f\"Epoch {epoch+1}/{NUM_EPOCHS} [TRAIN] LR: {optimizer.param_groups[0]['lr']:.2e} Teach: {teach_ratio:.2f} Scheduler: {scheduler_type}\")\n",
    "    for batch_idx, (imgs, targets) in enumerate(pbar_train):\n",
    "        imgs, targets = imgs.to(DEVICE, non_blocking=True), targets.to(DEVICE, non_blocking=True)\n",
    "        \n",
    "        with autocast_context():\n",
    "            outputs = model(imgs, target=targets, teach_ratio=teach_ratio)\n",
    "            flat_outputs = outputs.reshape(-1, NUM_CLASSES)\n",
    "            flat_targets = targets[:, 1:].reshape(-1)\n",
    "            loss = loss_fn(flat_outputs, flat_targets)\n",
    "            loss = loss / ACCUM_STEPS\n",
    "            \n",
    "        scaler.scale(loss).backward()\n",
    "        \n",
    "        if (batch_idx + 1) % ACCUM_STEPS == 0 or (batch_idx + 1) == len(train_dataloader):\n",
    "            torch.nn.utils.clip_grad_norm_(filter(lambda p: p.requires_grad, model.parameters()), max_norm=1.0)\n",
    "            scaler.step(optimizer)\n",
    "            scaler.update()\n",
    "            optimizer.zero_grad()\n",
    "            if scheduler_type == \"OneCycleLR\":\n",
    "                scheduler.step()\n",
    "\n",
    "        train_loss += loss.item() * ACCUM_STEPS\n",
    "        with torch.no_grad():\n",
    "            preds = outputs.argmax(-1)\n",
    "            true_chars = targets[:, 1:]\n",
    "            for i in range(imgs.size(0)):\n",
    "                pred_seq_list_train = preds[i].tolist()\n",
    "                if EOS_TOKEN in pred_seq_list_train:\n",
    "                    pred_seq_list_train = pred_seq_list_train[:pred_seq_list_train.index(EOS_TOKEN)]\n",
    "                \n",
    "                true_seq_list_train = true_chars[i].tolist()\n",
    "                true_content_train = [x for x in true_seq_list_train if x not in [EOS_TOKEN, PAD_TOKEN]]\n",
    "                len_true_content_train = len(true_content_train)\n",
    "                \n",
    "                cmp_len = min(len(pred_seq_list_train), len_true_content_train)\n",
    "                if cmp_len > 0:\n",
    "                    train_correct += (torch.tensor(pred_seq_list_train[:cmp_len]) == torch.tensor(true_content_train[:cmp_len])).sum().item()\n",
    "                \n",
    "                train_total_chars += len_true_content_train\n",
    "\n",
    "            if batch_idx == 0 and epoch % 1 == 0 and imgs.size(0) > 0:\n",
    "                print(\"\\n--- Training Batch 0 Examples (Content Only) ---\")\n",
    "                for i in range(min(5, imgs.size(0))):\n",
    "                    pred_batch_i_list = preds[i].tolist()\n",
    "                    pred_example = index_to_char(pred_batch_i_list)\n",
    "                    true_batch_i_list = true_chars[i].tolist()\n",
    "                    true_example = index_to_char(true_batch_i_list)\n",
    "                    print(f\"  Pred: '{pred_example}'\")\n",
    "                    print(f\"  True: '{true_example}'\")\n",
    "                print(\"-------------------------------\")\n",
    "        \n",
    "        pbar_train.set_postfix(loss=loss.item() * ACCUM_STEPS)\n",
    "\n",
    "    avg_train_loss = train_loss / len(train_dataloader) if len(train_dataloader) > 0 else 0\n",
    "    avg_train_acc = train_correct / train_total_chars if train_total_chars > 0 else 0\n",
    "    train_loss_values.append(avg_train_loss)\n",
    "    train_acc_values.append(avg_train_acc)\n",
    "\n",
    "    # --- Validation Loop ---\n",
    "    model.eval()\n",
    "    val_loss, val_correct, val_total_chars, val_correct_constrained, val_total_sequences_constrained = 0, 0, 0, 0, 0\n",
    "    pbar_val = tqdm(val_dataloader, desc=f\"Epoch {epoch+1}/{NUM_EPOCHS} [VAL]\")\n",
    "    with torch.no_grad():\n",
    "        for imgs, targets in pbar_val:\n",
    "            imgs, targets = imgs.to(DEVICE, non_blocking=True), targets.to(DEVICE, non_blocking=True)\n",
    "            with autocast_context():\n",
    "                outputs = model(imgs, target=None, teach_ratio=0.0)\n",
    "                out_seq_len_val = outputs.size(1)\n",
    "                tgt_content_len_val = targets.size(1) - 1\n",
    "                if out_seq_len_val > tgt_content_len_val:\n",
    "                    outputs_for_loss_val = outputs[:, :tgt_content_len_val, :]\n",
    "                elif out_seq_len_val < tgt_content_len_val:\n",
    "                    padding_val_val = torch.zeros(outputs.size(0), tgt_content_len_val - out_seq_len_val, NUM_CLASSES, device=DEVICE)\n",
    "                    padding_val_val[:,:,PAD_TOKEN] = 1\n",
    "                    outputs_for_loss_val = torch.cat([outputs, padding_val_val], dim=1)\n",
    "                else:\n",
    "                    outputs_for_loss_val = outputs\n",
    "                flat_outputs_val = outputs_for_loss_val.reshape(-1, NUM_CLASSES)\n",
    "                flat_targets_val = targets[:, 1:].reshape(-1)\n",
    "                loss = loss_fn(flat_outputs_val, flat_targets_val)\n",
    "                \n",
    "            val_loss += loss.item()\n",
    "            preds_val = outputs_for_loss_val.argmax(-1)\n",
    "            true_chars_val = targets[:, 1:]\n",
    "            for i in range(imgs.size(0)):\n",
    "                pred_seq_val_list = preds_val[i].tolist()\n",
    "                if EOS_TOKEN in pred_seq_val_list:\n",
    "                    pred_seq_val_list = pred_seq_val_list[:pred_seq_val_list.index(EOS_TOKEN)]\n",
    "                \n",
    "                true_seq_val_list = true_chars_val[i].tolist()\n",
    "                true_content_val = [x for x in true_seq_val_list if x not in [EOS_TOKEN, PAD_TOKEN]]\n",
    "                len_true_content_val = len(true_content_val)\n",
    "\n",
    "                cmp_len_val = min(len(pred_seq_val_list), len_true_content_val)\n",
    "                if cmp_len_val > 0:\n",
    "                    val_correct += (torch.tensor(pred_seq_val_list[:cmp_len_val]) == torch.tensor(true_content_val[:cmp_len_val])).sum().item()\n",
    "                val_total_chars += len_true_content_val\n",
    "\n",
    "                if len_true_content_val > 0:\n",
    "                    with autocast_context():\n",
    "                        outputs_constrained_sample = model(imgs[i:i+1], target=None, teach_ratio=0.0, forced_output_length=len_true_content_val)\n",
    "                    preds_constrained_sample = outputs_constrained_sample.argmax(-1).squeeze(0).tolist()\n",
    "                    final_preds_constrained = []\n",
    "                    for tk_id in preds_constrained_sample:\n",
    "                        if tk_id == EOS_TOKEN:\n",
    "                            break\n",
    "                        final_preds_constrained.append(tk_id)\n",
    "                    if final_preds_constrained == true_content_val:\n",
    "                        val_correct_constrained += 1\n",
    "                val_total_sequences_constrained += 1\n",
    "            \n",
    "            pbar_val.set_postfix(loss=loss.item())\n",
    "\n",
    "    avg_val_loss = val_loss / len(val_dataloader) if len(val_dataloader) > 0 else 0\n",
    "    avg_val_acc = val_correct / val_total_chars if val_total_chars > 0 else 0\n",
    "    avg_val_acc_constrained = val_correct_constrained / val_total_sequences_constrained if val_total_sequences_constrained > 0 else 0\n",
    "    val_loss_values.append(avg_val_loss)\n",
    "    val_acc_values.append(avg_val_acc)\n",
    "    val_acc_constrained_values.append(avg_val_acc_constrained)\n",
    "    \n",
    "    # Chuyển sang ReduceLROnPlateau nếu val_acc chững lại\n",
    "    counter = early_stopper(avg_val_acc)\n",
    "    if counter >= 15 and scheduler_type == \"OneCycleLR\":\n",
    "        print(f\"Val Acc stalled for {PATIENCE_EARLY_STOP} epochs. Switching to ReduceLROnPlateau.\")\n",
    "        scheduler = torch.optim.lr_scheduler.ReduceLROnPlateau(optimizer, mode='max', factor=0.5, patience=2, verbose=True)\n",
    "        scheduler_type = \"ReduceLROnPlateau\"\n",
    "    \n",
    "    # Cập nhật scheduler\n",
    "    if scheduler_type == \"ReduceLROnPlateau\":\n",
    "        scheduler.step(avg_val_acc)\n",
    "\n",
    "    if early_stopper.early_stop:\n",
    "        print(f\"--> Early stopping at epoch {epoch+1}\")\n",
    "        break\n",
    "    \n",
    "    print(f\"\\nEpoch {epoch+1}/{NUM_EPOCHS} | LR: {optimizer.param_groups[0]['lr']:.2e} | Teach: {teach_ratio:.2f} | Scheduler: {scheduler_type}\")\n",
    "    print(f\"  Train Loss: {avg_train_loss:.4f} | Train Char Acc: {avg_train_acc:.4f}\")\n",
    "    print(f\"  Val Loss: {avg_val_loss:.4f}   | Val Acc (CRR): {avg_val_acc:.4f}\")\n",
    "    print(f\"  Val Exact Match Acc (E2E RR): {avg_val_acc_constrained:.4f}\")\n",
    "    print(\"-\" * 70)\n",
    "\n",
    "    checkpoint_path = f\"yolo_rvit_model_epoch_{epoch + 1}.pth\"\n",
    "\n",
    "    if avg_val_acc > best_val_acc:\n",
    "        best_val_acc = avg_val_acc\n",
    "        print(f\"*** New best validation accuracy: {best_val_acc:.4f}. Saving best_model.pth ***\")\n",
    "        torch.save({\n",
    "            'epoch': epoch,\n",
    "            'model_state_dict': model.state_dict(),\n",
    "            'optimizer_state_dict': optimizer.state_dict(),\n",
    "            'scheduler_state_dict': scheduler.state_dict(),\n",
    "            'val_loss': avg_val_loss,\n",
    "            'val_acc': avg_val_acc,\n",
    "            'val_acc_constrained': avg_val_acc_constrained,\n",
    "        }, \"best_yolo_rvit_model.pth\")\n",
    "\n",
    "final_epoch_val = epoch if 'epoch' in locals() and epoch is not None else NUM_EPOCHS - 1\n",
    "torch.save({\n",
    "    'epoch': final_epoch_val,\n",
    "    'model_state_dict': model.state_dict(),\n",
    "    'optimizer_state_dict': optimizer.state_dict(),\n",
    "    'scheduler_state_dict': scheduler.state_dict(),\n",
    "    'train_loss_history': train_loss_values,\n",
    "    'val_loss_history': val_loss_values,\n",
    "    'train_acc_history': train_acc_values,\n",
    "    'val_acc_history': val_acc_values,\n",
    "    'val_acc_constrained_history': val_acc_constrained_values,\n",
    "}, \"final_yolo_rvit_model.pth\")\n",
    "\n",
    "print(\"\\nTraining completed!\")\n",
    "if val_acc_values:\n",
    "    print(f\"Final val accuracy (Greedy Character Level): {val_acc_values[-1]:.4f}\")\n",
    "if val_acc_constrained_values:\n",
    "    print(f\"Final val accuracy (Constrained Length Exact Match): {val_acc_constrained_values[-1]:.4f}\")\n",
    "\n",
    "# Plotting\n",
    "plt.figure(figsize=(18, 12))\n",
    "plt.subplot(2, 2, 1)\n",
    "plt.plot(epoch_count_list, train_loss_values, label='Train Loss', marker='o', linestyle='-')\n",
    "plt.plot(epoch_count_list, val_loss_values, label='Validation Loss', marker='s', linestyle='--')\n",
    "plt.title('Loss Curves')\n",
    "plt.xlabel('Epochs')\n",
    "plt.ylabel('Loss')\n",
    "plt.legend()\n",
    "plt.grid(True)\n",
    "\n",
    "plt.subplot(2, 2, 2)\n",
    "plt.plot(epoch_count_list, train_acc_values, label='Train Char Accuracy', marker='o', linestyle='-')\n",
    "plt.plot(epoch_count_list, val_acc_values, label='Validation Char Accuracy (Greedy)', marker='s', linestyle='--')\n",
    "plt.title('Character Accuracy')\n",
    "plt.xlabel('Epochs')\n",
    "plt.ylabel('Character Accuracy')\n",
    "plt.legend()\n",
    "plt.grid(True)\n",
    "\n",
    "plt.tight_layout()\n",
    "plt.savefig(\"performance_plots.png\")\n",
    "plt.show()\n",
    "print(\"Saved plots to performance_plots.png\")"
   ]
  }
 ],
 "metadata": {
  "kaggle": {
   "accelerator": "nvidiaTeslaT4",
   "dataSources": [
    {
     "datasetId": 4072694,
     "sourceId": 7073289,
     "sourceType": "datasetVersion"
    },
    {
     "datasetId": 7283240,
     "sourceId": 11903981,
     "sourceType": "datasetVersion"
    },
    {
     "datasetId": 7973485,
     "sourceId": 12855594,
     "sourceType": "datasetVersion"
    },
    {
     "datasetId": 7973472,
     "sourceId": 12855605,
     "sourceType": "datasetVersion"
    },
    {
     "datasetId": 7973494,
     "sourceId": 12856063,
     "sourceType": "datasetVersion"
    },
    {
     "modelId": 357248,
     "modelInstanceId": 336244,
     "sourceId": 411841,
     "sourceType": "modelInstanceVersion"
    },
    {
     "modelId": 357250,
     "modelInstanceId": 336246,
     "sourceId": 411843,
     "sourceType": "modelInstanceVersion"
    },
    {
     "modelId": 357253,
     "modelInstanceId": 336249,
     "sourceId": 411846,
     "sourceType": "modelInstanceVersion"
    },
    {
     "modelId": 372818,
     "modelInstanceId": 351568,
     "sourceId": 431310,
     "sourceType": "modelInstanceVersion"
    },
    {
     "isSourceIdPinned": true,
     "modelId": 419083,
     "modelInstanceId": 400923,
     "sourceId": 504862,
     "sourceType": "modelInstanceVersion"
    },
    {
     "isSourceIdPinned": true,
     "modelId": 420458,
     "modelInstanceId": 402509,
     "sourceId": 507017,
     "sourceType": "modelInstanceVersion"
    },
    {
     "isSourceIdPinned": true,
     "modelId": 429649,
     "modelInstanceId": 411852,
     "sourceId": 524810,
     "sourceType": "modelInstanceVersion"
    },
    {
     "isSourceIdPinned": true,
     "modelId": 433986,
     "modelInstanceId": 416252,
     "sourceId": 535007,
     "sourceType": "modelInstanceVersion"
    },
    {
     "isSourceIdPinned": true,
     "modelId": 434054,
     "modelInstanceId": 416322,
     "sourceId": 535171,
     "sourceType": "modelInstanceVersion"
    },
    {
     "isSourceIdPinned": true,
     "modelId": 434076,
     "modelInstanceId": 416344,
     "sourceId": 535216,
     "sourceType": "modelInstanceVersion"
    },
    {
     "isSourceIdPinned": true,
     "modelId": 434276,
     "modelInstanceId": 416549,
     "sourceId": 535549,
     "sourceType": "modelInstanceVersion"
    },
    {
     "isSourceIdPinned": true,
     "modelId": 434322,
     "modelInstanceId": 416596,
     "sourceId": 535640,
     "sourceType": "modelInstanceVersion"
    },
    {
     "isSourceIdPinned": true,
     "modelId": 434471,
     "modelInstanceId": 416753,
     "sourceId": 536183,
     "sourceType": "modelInstanceVersion"
    },
    {
     "isSourceIdPinned": true,
     "modelId": 434505,
     "modelInstanceId": 416793,
     "sourceId": 536268,
     "sourceType": "modelInstanceVersion"
    },
    {
     "isSourceIdPinned": true,
     "modelId": 434544,
     "modelInstanceId": 416833,
     "sourceId": 536386,
     "sourceType": "modelInstanceVersion"
    },
    {
     "isSourceIdPinned": true,
     "modelId": 434561,
     "modelInstanceId": 416853,
     "sourceId": 536444,
     "sourceType": "modelInstanceVersion"
    },
    {
     "isSourceIdPinned": true,
     "modelId": 434619,
     "modelInstanceId": 416913,
     "sourceId": 536607,
     "sourceType": "modelInstanceVersion"
    },
    {
     "isSourceIdPinned": true,
     "modelId": 434680,
     "modelInstanceId": 416975,
     "sourceId": 536728,
     "sourceType": "modelInstanceVersion"
    },
    {
     "isSourceIdPinned": true,
     "modelId": 434715,
     "modelInstanceId": 417011,
     "sourceId": 536824,
     "sourceType": "modelInstanceVersion"
    },
    {
     "isSourceIdPinned": true,
     "modelId": 434777,
     "modelInstanceId": 417074,
     "sourceId": 537104,
     "sourceType": "modelInstanceVersion"
    }
   ],
   "dockerImageVersionId": 31012,
   "isGpuEnabled": true,
   "isInternetEnabled": true,
   "language": "python",
   "sourceType": "notebook"
  },
  "kernelspec": {
   "display_name": "Python 3",
   "language": "python",
   "name": "python3"
  },
  "language_info": {
   "codemirror_mode": {
    "name": "ipython",
    "version": 3
   },
   "file_extension": ".py",
   "mimetype": "text/x-python",
   "name": "python",
   "nbconvert_exporter": "python",
   "pygments_lexer": "ipython3",
   "version": "3.11.11"
  },
  "papermill": {
   "default_parameters": {},
   "duration": 9173.918626,
   "end_time": "2025-08-26T03:04:14.550038",
   "environment_variables": {},
   "exception": null,
   "input_path": "__notebook__.ipynb",
   "output_path": "__notebook__.ipynb",
   "parameters": {},
   "start_time": "2025-08-26T00:31:20.631412",
   "version": "2.6.0"
  }
 },
 "nbformat": 4,
 "nbformat_minor": 5
}
