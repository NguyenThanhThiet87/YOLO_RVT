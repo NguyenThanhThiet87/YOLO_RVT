{
 "cells": [
  {
   "cell_type": "code",
   "execution_count": 1,
   "id": "a5d49bb5",
   "metadata": {
    "_cell_guid": "1e03a5ab-62e6-4517-939d-ed7e0f558f66",
    "_uuid": "61a5e676-9f66-4731-8312-16c844126c97",
    "collapsed": false,
    "execution": {
     "iopub.execute_input": "2025-06-02T07:21:17.504057Z",
     "iopub.status.busy": "2025-06-02T07:21:17.503833Z",
     "iopub.status.idle": "2025-06-02T07:22:43.985184Z",
     "shell.execute_reply": "2025-06-02T07:22:43.984458Z"
    },
    "jupyter": {
     "outputs_hidden": false
    },
    "papermill": {
     "duration": 86.486467,
     "end_time": "2025-06-02T07:22:43.986572",
     "exception": false,
     "start_time": "2025-06-02T07:21:17.500105",
     "status": "completed"
    },
    "tags": []
   },
   "outputs": [
    {
     "name": "stdout",
     "output_type": "stream",
     "text": [
      "Collecting ultralytics\r\n",
      "  Downloading ultralytics-8.3.147-py3-none-any.whl.metadata (37 kB)\r\n",
      "Requirement already satisfied: numpy>=1.23.0 in /usr/local/lib/python3.11/dist-packages (from ultralytics) (1.26.4)\r\n",
      "Requirement already satisfied: matplotlib>=3.3.0 in /usr/local/lib/python3.11/dist-packages (from ultralytics) (3.7.5)\r\n",
      "Requirement already satisfied: opencv-python>=4.6.0 in /usr/local/lib/python3.11/dist-packages (from ultralytics) (4.11.0.86)\r\n",
      "Requirement already satisfied: pillow>=7.1.2 in /usr/local/lib/python3.11/dist-packages (from ultralytics) (11.1.0)\r\n",
      "Requirement already satisfied: pyyaml>=5.3.1 in /usr/local/lib/python3.11/dist-packages (from ultralytics) (6.0.2)\r\n",
      "Requirement already satisfied: requests>=2.23.0 in /usr/local/lib/python3.11/dist-packages (from ultralytics) (2.32.3)\r\n",
      "Requirement already satisfied: scipy>=1.4.1 in /usr/local/lib/python3.11/dist-packages (from ultralytics) (1.15.2)\r\n",
      "Requirement already satisfied: torch>=1.8.0 in /usr/local/lib/python3.11/dist-packages (from ultralytics) (2.5.1+cu124)\r\n",
      "Requirement already satisfied: torchvision>=0.9.0 in /usr/local/lib/python3.11/dist-packages (from ultralytics) (0.20.1+cu124)\r\n",
      "Requirement already satisfied: tqdm>=4.64.0 in /usr/local/lib/python3.11/dist-packages (from ultralytics) (4.67.1)\r\n",
      "Requirement already satisfied: psutil in /usr/local/lib/python3.11/dist-packages (from ultralytics) (7.0.0)\r\n",
      "Requirement already satisfied: py-cpuinfo in /usr/local/lib/python3.11/dist-packages (from ultralytics) (9.0.0)\r\n",
      "Requirement already satisfied: pandas>=1.1.4 in /usr/local/lib/python3.11/dist-packages (from ultralytics) (2.2.3)\r\n",
      "Collecting ultralytics-thop>=2.0.0 (from ultralytics)\r\n",
      "  Downloading ultralytics_thop-2.0.14-py3-none-any.whl.metadata (9.4 kB)\r\n",
      "Requirement already satisfied: contourpy>=1.0.1 in /usr/local/lib/python3.11/dist-packages (from matplotlib>=3.3.0->ultralytics) (1.3.1)\r\n",
      "Requirement already satisfied: cycler>=0.10 in /usr/local/lib/python3.11/dist-packages (from matplotlib>=3.3.0->ultralytics) (0.12.1)\r\n",
      "Requirement already satisfied: fonttools>=4.22.0 in /usr/local/lib/python3.11/dist-packages (from matplotlib>=3.3.0->ultralytics) (4.56.0)\r\n",
      "Requirement already satisfied: kiwisolver>=1.0.1 in /usr/local/lib/python3.11/dist-packages (from matplotlib>=3.3.0->ultralytics) (1.4.8)\r\n",
      "Requirement already satisfied: packaging>=20.0 in /usr/local/lib/python3.11/dist-packages (from matplotlib>=3.3.0->ultralytics) (24.2)\r\n",
      "Requirement already satisfied: pyparsing>=2.3.1 in /usr/local/lib/python3.11/dist-packages (from matplotlib>=3.3.0->ultralytics) (3.2.1)\r\n",
      "Requirement already satisfied: python-dateutil>=2.7 in /usr/local/lib/python3.11/dist-packages (from matplotlib>=3.3.0->ultralytics) (2.9.0.post0)\r\n",
      "Requirement already satisfied: mkl_fft in /usr/local/lib/python3.11/dist-packages (from numpy>=1.23.0->ultralytics) (1.3.8)\r\n",
      "Requirement already satisfied: mkl_random in /usr/local/lib/python3.11/dist-packages (from numpy>=1.23.0->ultralytics) (1.2.4)\r\n",
      "Requirement already satisfied: mkl_umath in /usr/local/lib/python3.11/dist-packages (from numpy>=1.23.0->ultralytics) (0.1.1)\r\n",
      "Requirement already satisfied: mkl in /usr/local/lib/python3.11/dist-packages (from numpy>=1.23.0->ultralytics) (2025.1.0)\r\n",
      "Requirement already satisfied: tbb4py in /usr/local/lib/python3.11/dist-packages (from numpy>=1.23.0->ultralytics) (2022.1.0)\r\n",
      "Requirement already satisfied: mkl-service in /usr/local/lib/python3.11/dist-packages (from numpy>=1.23.0->ultralytics) (2.4.1)\r\n",
      "Requirement already satisfied: pytz>=2020.1 in /usr/local/lib/python3.11/dist-packages (from pandas>=1.1.4->ultralytics) (2025.2)\r\n",
      "Requirement already satisfied: tzdata>=2022.7 in /usr/local/lib/python3.11/dist-packages (from pandas>=1.1.4->ultralytics) (2025.2)\r\n",
      "Requirement already satisfied: charset-normalizer<4,>=2 in /usr/local/lib/python3.11/dist-packages (from requests>=2.23.0->ultralytics) (3.4.1)\r\n",
      "Requirement already satisfied: idna<4,>=2.5 in /usr/local/lib/python3.11/dist-packages (from requests>=2.23.0->ultralytics) (3.10)\r\n",
      "Requirement already satisfied: urllib3<3,>=1.21.1 in /usr/local/lib/python3.11/dist-packages (from requests>=2.23.0->ultralytics) (2.3.0)\r\n",
      "Requirement already satisfied: certifi>=2017.4.17 in /usr/local/lib/python3.11/dist-packages (from requests>=2.23.0->ultralytics) (2025.1.31)\r\n",
      "Requirement already satisfied: filelock in /usr/local/lib/python3.11/dist-packages (from torch>=1.8.0->ultralytics) (3.18.0)\r\n",
      "Requirement already satisfied: typing-extensions>=4.8.0 in /usr/local/lib/python3.11/dist-packages (from torch>=1.8.0->ultralytics) (4.13.1)\r\n",
      "Requirement already satisfied: networkx in /usr/local/lib/python3.11/dist-packages (from torch>=1.8.0->ultralytics) (3.4.2)\r\n",
      "Requirement already satisfied: jinja2 in /usr/local/lib/python3.11/dist-packages (from torch>=1.8.0->ultralytics) (3.1.6)\r\n",
      "Requirement already satisfied: fsspec in /usr/local/lib/python3.11/dist-packages (from torch>=1.8.0->ultralytics) (2025.3.2)\r\n",
      "Requirement already satisfied: nvidia-cuda-nvrtc-cu12==12.4.127 in /usr/local/lib/python3.11/dist-packages (from torch>=1.8.0->ultralytics) (12.4.127)\r\n",
      "Requirement already satisfied: nvidia-cuda-runtime-cu12==12.4.127 in /usr/local/lib/python3.11/dist-packages (from torch>=1.8.0->ultralytics) (12.4.127)\r\n",
      "Requirement already satisfied: nvidia-cuda-cupti-cu12==12.4.127 in /usr/local/lib/python3.11/dist-packages (from torch>=1.8.0->ultralytics) (12.4.127)\r\n",
      "Collecting nvidia-cudnn-cu12==9.1.0.70 (from torch>=1.8.0->ultralytics)\r\n",
      "  Downloading nvidia_cudnn_cu12-9.1.0.70-py3-none-manylinux2014_x86_64.whl.metadata (1.6 kB)\r\n",
      "Collecting nvidia-cublas-cu12==12.4.5.8 (from torch>=1.8.0->ultralytics)\r\n",
      "  Downloading nvidia_cublas_cu12-12.4.5.8-py3-none-manylinux2014_x86_64.whl.metadata (1.5 kB)\r\n",
      "Collecting nvidia-cufft-cu12==11.2.1.3 (from torch>=1.8.0->ultralytics)\r\n",
      "  Downloading nvidia_cufft_cu12-11.2.1.3-py3-none-manylinux2014_x86_64.whl.metadata (1.5 kB)\r\n",
      "Collecting nvidia-curand-cu12==10.3.5.147 (from torch>=1.8.0->ultralytics)\r\n",
      "  Downloading nvidia_curand_cu12-10.3.5.147-py3-none-manylinux2014_x86_64.whl.metadata (1.5 kB)\r\n",
      "Collecting nvidia-cusolver-cu12==11.6.1.9 (from torch>=1.8.0->ultralytics)\r\n",
      "  Downloading nvidia_cusolver_cu12-11.6.1.9-py3-none-manylinux2014_x86_64.whl.metadata (1.6 kB)\r\n",
      "Collecting nvidia-cusparse-cu12==12.3.1.170 (from torch>=1.8.0->ultralytics)\r\n",
      "  Downloading nvidia_cusparse_cu12-12.3.1.170-py3-none-manylinux2014_x86_64.whl.metadata (1.6 kB)\r\n",
      "Requirement already satisfied: nvidia-nccl-cu12==2.21.5 in /usr/local/lib/python3.11/dist-packages (from torch>=1.8.0->ultralytics) (2.21.5)\r\n",
      "Requirement already satisfied: nvidia-nvtx-cu12==12.4.127 in /usr/local/lib/python3.11/dist-packages (from torch>=1.8.0->ultralytics) (12.4.127)\r\n",
      "Collecting nvidia-nvjitlink-cu12==12.4.127 (from torch>=1.8.0->ultralytics)\r\n",
      "  Downloading nvidia_nvjitlink_cu12-12.4.127-py3-none-manylinux2014_x86_64.whl.metadata (1.5 kB)\r\n",
      "Requirement already satisfied: triton==3.1.0 in /usr/local/lib/python3.11/dist-packages (from torch>=1.8.0->ultralytics) (3.1.0)\r\n",
      "Requirement already satisfied: sympy==1.13.1 in /usr/local/lib/python3.11/dist-packages (from torch>=1.8.0->ultralytics) (1.13.1)\r\n",
      "Requirement already satisfied: mpmath<1.4,>=1.1.0 in /usr/local/lib/python3.11/dist-packages (from sympy==1.13.1->torch>=1.8.0->ultralytics) (1.3.0)\r\n",
      "Requirement already satisfied: six>=1.5 in /usr/local/lib/python3.11/dist-packages (from python-dateutil>=2.7->matplotlib>=3.3.0->ultralytics) (1.17.0)\r\n",
      "Requirement already satisfied: MarkupSafe>=2.0 in /usr/local/lib/python3.11/dist-packages (from jinja2->torch>=1.8.0->ultralytics) (3.0.2)\r\n",
      "Requirement already satisfied: intel-openmp<2026,>=2024 in /usr/local/lib/python3.11/dist-packages (from mkl->numpy>=1.23.0->ultralytics) (2024.2.0)\r\n",
      "Requirement already satisfied: tbb==2022.* in /usr/local/lib/python3.11/dist-packages (from mkl->numpy>=1.23.0->ultralytics) (2022.1.0)\r\n",
      "Requirement already satisfied: tcmlib==1.* in /usr/local/lib/python3.11/dist-packages (from tbb==2022.*->mkl->numpy>=1.23.0->ultralytics) (1.2.0)\r\n",
      "Requirement already satisfied: intel-cmplr-lib-rt in /usr/local/lib/python3.11/dist-packages (from mkl_umath->numpy>=1.23.0->ultralytics) (2024.2.0)\r\n",
      "Requirement already satisfied: intel-cmplr-lib-ur==2024.2.0 in /usr/local/lib/python3.11/dist-packages (from intel-openmp<2026,>=2024->mkl->numpy>=1.23.0->ultralytics) (2024.2.0)\r\n",
      "Downloading ultralytics-8.3.147-py3-none-any.whl (1.0 MB)\r\n",
      "\u001b[2K   \u001b[90m━━━━━━━━━━━━━━━━━━━━━━━━━━━━━━━━━━━━━━━━\u001b[0m \u001b[32m1.0/1.0 MB\u001b[0m \u001b[31m19.9 MB/s\u001b[0m eta \u001b[36m0:00:00\u001b[0m\r\n",
      "\u001b[?25hDownloading nvidia_cublas_cu12-12.4.5.8-py3-none-manylinux2014_x86_64.whl (363.4 MB)\r\n",
      "\u001b[2K   \u001b[90m━━━━━━━━━━━━━━━━━━━━━━━━━━━━━━━━━━━━━━━━\u001b[0m \u001b[32m363.4/363.4 MB\u001b[0m \u001b[31m5.3 MB/s\u001b[0m eta \u001b[36m0:00:00\u001b[0m\r\n",
      "\u001b[?25hDownloading nvidia_cudnn_cu12-9.1.0.70-py3-none-manylinux2014_x86_64.whl (664.8 MB)\r\n",
      "\u001b[2K   \u001b[90m━━━━━━━━━━━━━━━━━━━━━━━━━━━━━━━━━━━━━━━━\u001b[0m \u001b[32m664.8/664.8 MB\u001b[0m \u001b[31m2.0 MB/s\u001b[0m eta \u001b[36m0:00:00\u001b[0m\r\n",
      "\u001b[?25hDownloading nvidia_cufft_cu12-11.2.1.3-py3-none-manylinux2014_x86_64.whl (211.5 MB)\r\n",
      "\u001b[2K   \u001b[90m━━━━━━━━━━━━━━━━━━━━━━━━━━━━━━━━━━━━━━━━\u001b[0m \u001b[32m211.5/211.5 MB\u001b[0m \u001b[31m2.1 MB/s\u001b[0m eta \u001b[36m0:00:00\u001b[0m\r\n",
      "\u001b[?25hDownloading nvidia_curand_cu12-10.3.5.147-py3-none-manylinux2014_x86_64.whl (56.3 MB)\r\n",
      "\u001b[2K   \u001b[90m━━━━━━━━━━━━━━━━━━━━━━━━━━━━━━━━━━━━━━━━\u001b[0m \u001b[32m56.3/56.3 MB\u001b[0m \u001b[31m30.8 MB/s\u001b[0m eta \u001b[36m0:00:00\u001b[0m\r\n",
      "\u001b[?25hDownloading nvidia_cusolver_cu12-11.6.1.9-py3-none-manylinux2014_x86_64.whl (127.9 MB)\r\n",
      "\u001b[2K   \u001b[90m━━━━━━━━━━━━━━━━━━━━━━━━━━━━━━━━━━━━━━━━\u001b[0m \u001b[32m127.9/127.9 MB\u001b[0m \u001b[31m13.5 MB/s\u001b[0m eta \u001b[36m0:00:00\u001b[0m\r\n",
      "\u001b[?25hDownloading nvidia_cusparse_cu12-12.3.1.170-py3-none-manylinux2014_x86_64.whl (207.5 MB)\r\n",
      "\u001b[2K   \u001b[90m━━━━━━━━━━━━━━━━━━━━━━━━━━━━━━━━━━━━━━━━\u001b[0m \u001b[32m207.5/207.5 MB\u001b[0m \u001b[31m8.2 MB/s\u001b[0m eta \u001b[36m0:00:00\u001b[0m\r\n",
      "\u001b[?25hDownloading nvidia_nvjitlink_cu12-12.4.127-py3-none-manylinux2014_x86_64.whl (21.1 MB)\r\n",
      "\u001b[2K   \u001b[90m━━━━━━━━━━━━━━━━━━━━━━━━━━━━━━━━━━━━━━━━\u001b[0m \u001b[32m21.1/21.1 MB\u001b[0m \u001b[31m86.6 MB/s\u001b[0m eta \u001b[36m0:00:00\u001b[0m\r\n",
      "\u001b[?25hDownloading ultralytics_thop-2.0.14-py3-none-any.whl (26 kB)\r\n",
      "Installing collected packages: nvidia-nvjitlink-cu12, nvidia-curand-cu12, nvidia-cufft-cu12, nvidia-cublas-cu12, nvidia-cusparse-cu12, nvidia-cudnn-cu12, nvidia-cusolver-cu12, ultralytics-thop, ultralytics\r\n",
      "  Attempting uninstall: nvidia-nvjitlink-cu12\r\n",
      "    Found existing installation: nvidia-nvjitlink-cu12 12.8.93\r\n",
      "    Uninstalling nvidia-nvjitlink-cu12-12.8.93:\r\n",
      "      Successfully uninstalled nvidia-nvjitlink-cu12-12.8.93\r\n",
      "  Attempting uninstall: nvidia-curand-cu12\r\n",
      "    Found existing installation: nvidia-curand-cu12 10.3.9.90\r\n",
      "    Uninstalling nvidia-curand-cu12-10.3.9.90:\r\n",
      "      Successfully uninstalled nvidia-curand-cu12-10.3.9.90\r\n",
      "  Attempting uninstall: nvidia-cufft-cu12\r\n",
      "    Found existing installation: nvidia-cufft-cu12 11.3.3.83\r\n",
      "    Uninstalling nvidia-cufft-cu12-11.3.3.83:\r\n",
      "      Successfully uninstalled nvidia-cufft-cu12-11.3.3.83\r\n",
      "  Attempting uninstall: nvidia-cublas-cu12\r\n",
      "    Found existing installation: nvidia-cublas-cu12 12.8.4.1\r\n",
      "    Uninstalling nvidia-cublas-cu12-12.8.4.1:\r\n",
      "      Successfully uninstalled nvidia-cublas-cu12-12.8.4.1\r\n",
      "  Attempting uninstall: nvidia-cusparse-cu12\r\n",
      "    Found existing installation: nvidia-cusparse-cu12 12.5.8.93\r\n",
      "    Uninstalling nvidia-cusparse-cu12-12.5.8.93:\r\n",
      "      Successfully uninstalled nvidia-cusparse-cu12-12.5.8.93\r\n",
      "  Attempting uninstall: nvidia-cudnn-cu12\r\n",
      "    Found existing installation: nvidia-cudnn-cu12 9.3.0.75\r\n",
      "    Uninstalling nvidia-cudnn-cu12-9.3.0.75:\r\n",
      "      Successfully uninstalled nvidia-cudnn-cu12-9.3.0.75\r\n",
      "  Attempting uninstall: nvidia-cusolver-cu12\r\n",
      "    Found existing installation: nvidia-cusolver-cu12 11.7.3.90\r\n",
      "    Uninstalling nvidia-cusolver-cu12-11.7.3.90:\r\n",
      "      Successfully uninstalled nvidia-cusolver-cu12-11.7.3.90\r\n",
      "\u001b[31mERROR: pip's dependency resolver does not currently take into account all the packages that are installed. This behaviour is the source of the following dependency conflicts.\r\n",
      "pylibcugraph-cu12 24.12.0 requires pylibraft-cu12==24.12.*, but you have pylibraft-cu12 25.2.0 which is incompatible.\r\n",
      "pylibcugraph-cu12 24.12.0 requires rmm-cu12==24.12.*, but you have rmm-cu12 25.2.0 which is incompatible.\u001b[0m\u001b[31m\r\n",
      "\u001b[0mSuccessfully installed nvidia-cublas-cu12-12.4.5.8 nvidia-cudnn-cu12-9.1.0.70 nvidia-cufft-cu12-11.2.1.3 nvidia-curand-cu12-10.3.5.147 nvidia-cusolver-cu12-11.6.1.9 nvidia-cusparse-cu12-12.3.1.170 nvidia-nvjitlink-cu12-12.4.127 ultralytics-8.3.147 ultralytics-thop-2.0.14\r\n",
      "Collecting torchtoolbox\r\n",
      "  Downloading torchtoolbox-0.1.8.2-py3-none-any.whl.metadata (15 kB)\r\n",
      "Requirement already satisfied: numpy in /usr/local/lib/python3.11/dist-packages (from torchtoolbox) (1.26.4)\r\n",
      "Requirement already satisfied: tqdm in /usr/local/lib/python3.11/dist-packages (from torchtoolbox) (4.67.1)\r\n",
      "Requirement already satisfied: pyarrow in /usr/local/lib/python3.11/dist-packages (from torchtoolbox) (19.0.1)\r\n",
      "Requirement already satisfied: six in /usr/local/lib/python3.11/dist-packages (from torchtoolbox) (1.17.0)\r\n",
      "Collecting lmdb (from torchtoolbox)\r\n",
      "  Downloading lmdb-1.6.2-cp311-cp311-manylinux_2_17_x86_64.manylinux2014_x86_64.whl.metadata (1.1 kB)\r\n",
      "Requirement already satisfied: scikit-learn in /usr/local/lib/python3.11/dist-packages (from torchtoolbox) (1.2.2)\r\n",
      "Requirement already satisfied: scipy in /usr/local/lib/python3.11/dist-packages (from torchtoolbox) (1.15.2)\r\n",
      "Requirement already satisfied: opencv-python in /usr/local/lib/python3.11/dist-packages (from torchtoolbox) (4.11.0.86)\r\n",
      "Requirement already satisfied: pyyaml in /usr/local/lib/python3.11/dist-packages (from torchtoolbox) (6.0.2)\r\n",
      "Requirement already satisfied: tensorboard in /usr/local/lib/python3.11/dist-packages (from torchtoolbox) (2.18.0)\r\n",
      "Requirement already satisfied: prettytable in /usr/local/lib/python3.11/dist-packages (from torchtoolbox) (3.14.0)\r\n",
      "Requirement already satisfied: transformers in /usr/local/lib/python3.11/dist-packages (from torchtoolbox) (4.51.1)\r\n",
      "Requirement already satisfied: mkl_fft in /usr/local/lib/python3.11/dist-packages (from numpy->torchtoolbox) (1.3.8)\r\n",
      "Requirement already satisfied: mkl_random in /usr/local/lib/python3.11/dist-packages (from numpy->torchtoolbox) (1.2.4)\r\n",
      "Requirement already satisfied: mkl_umath in /usr/local/lib/python3.11/dist-packages (from numpy->torchtoolbox) (0.1.1)\r\n",
      "Requirement already satisfied: mkl in /usr/local/lib/python3.11/dist-packages (from numpy->torchtoolbox) (2025.1.0)\r\n",
      "Requirement already satisfied: tbb4py in /usr/local/lib/python3.11/dist-packages (from numpy->torchtoolbox) (2022.1.0)\r\n",
      "Requirement already satisfied: mkl-service in /usr/local/lib/python3.11/dist-packages (from numpy->torchtoolbox) (2.4.1)\r\n",
      "Requirement already satisfied: wcwidth in /usr/local/lib/python3.11/dist-packages (from prettytable->torchtoolbox) (0.2.13)\r\n",
      "Requirement already satisfied: joblib>=1.1.1 in /usr/local/lib/python3.11/dist-packages (from scikit-learn->torchtoolbox) (1.4.2)\r\n",
      "Requirement already satisfied: threadpoolctl>=2.0.0 in /usr/local/lib/python3.11/dist-packages (from scikit-learn->torchtoolbox) (3.6.0)\r\n",
      "Requirement already satisfied: absl-py>=0.4 in /usr/local/lib/python3.11/dist-packages (from tensorboard->torchtoolbox) (1.4.0)\r\n",
      "Requirement already satisfied: grpcio>=1.48.2 in /usr/local/lib/python3.11/dist-packages (from tensorboard->torchtoolbox) (1.70.0)\r\n",
      "Requirement already satisfied: markdown>=2.6.8 in /usr/local/lib/python3.11/dist-packages (from tensorboard->torchtoolbox) (3.7)\r\n",
      "Requirement already satisfied: packaging in /usr/local/lib/python3.11/dist-packages (from tensorboard->torchtoolbox) (24.2)\r\n",
      "Requirement already satisfied: protobuf!=4.24.0,>=3.19.6 in /usr/local/lib/python3.11/dist-packages (from tensorboard->torchtoolbox) (3.20.3)\r\n",
      "Requirement already satisfied: setuptools>=41.0.0 in /usr/local/lib/python3.11/dist-packages (from tensorboard->torchtoolbox) (75.1.0)\r\n",
      "Requirement already satisfied: tensorboard-data-server<0.8.0,>=0.7.0 in /usr/local/lib/python3.11/dist-packages (from tensorboard->torchtoolbox) (0.7.2)\r\n",
      "Requirement already satisfied: werkzeug>=1.0.1 in /usr/local/lib/python3.11/dist-packages (from tensorboard->torchtoolbox) (3.1.3)\r\n",
      "Requirement already satisfied: filelock in /usr/local/lib/python3.11/dist-packages (from transformers->torchtoolbox) (3.18.0)\r\n",
      "Requirement already satisfied: huggingface-hub<1.0,>=0.30.0 in /usr/local/lib/python3.11/dist-packages (from transformers->torchtoolbox) (0.30.2)\r\n",
      "Requirement already satisfied: regex!=2019.12.17 in /usr/local/lib/python3.11/dist-packages (from transformers->torchtoolbox) (2024.11.6)\r\n",
      "Requirement already satisfied: requests in /usr/local/lib/python3.11/dist-packages (from transformers->torchtoolbox) (2.32.3)\r\n",
      "Requirement already satisfied: tokenizers<0.22,>=0.21 in /usr/local/lib/python3.11/dist-packages (from transformers->torchtoolbox) (0.21.0)\r\n",
      "Requirement already satisfied: safetensors>=0.4.3 in /usr/local/lib/python3.11/dist-packages (from transformers->torchtoolbox) (0.5.2)\r\n",
      "Requirement already satisfied: fsspec>=2023.5.0 in /usr/local/lib/python3.11/dist-packages (from huggingface-hub<1.0,>=0.30.0->transformers->torchtoolbox) (2025.3.2)\r\n",
      "Requirement already satisfied: typing-extensions>=3.7.4.3 in /usr/local/lib/python3.11/dist-packages (from huggingface-hub<1.0,>=0.30.0->transformers->torchtoolbox) (4.13.1)\r\n",
      "Requirement already satisfied: MarkupSafe>=2.1.1 in /usr/local/lib/python3.11/dist-packages (from werkzeug>=1.0.1->tensorboard->torchtoolbox) (3.0.2)\r\n",
      "Requirement already satisfied: intel-openmp<2026,>=2024 in /usr/local/lib/python3.11/dist-packages (from mkl->numpy->torchtoolbox) (2024.2.0)\r\n",
      "Requirement already satisfied: tbb==2022.* in /usr/local/lib/python3.11/dist-packages (from mkl->numpy->torchtoolbox) (2022.1.0)\r\n",
      "Requirement already satisfied: tcmlib==1.* in /usr/local/lib/python3.11/dist-packages (from tbb==2022.*->mkl->numpy->torchtoolbox) (1.2.0)\r\n",
      "Requirement already satisfied: intel-cmplr-lib-rt in /usr/local/lib/python3.11/dist-packages (from mkl_umath->numpy->torchtoolbox) (2024.2.0)\r\n",
      "Requirement already satisfied: charset-normalizer<4,>=2 in /usr/local/lib/python3.11/dist-packages (from requests->transformers->torchtoolbox) (3.4.1)\r\n",
      "Requirement already satisfied: idna<4,>=2.5 in /usr/local/lib/python3.11/dist-packages (from requests->transformers->torchtoolbox) (3.10)\r\n",
      "Requirement already satisfied: urllib3<3,>=1.21.1 in /usr/local/lib/python3.11/dist-packages (from requests->transformers->torchtoolbox) (2.3.0)\r\n",
      "Requirement already satisfied: certifi>=2017.4.17 in /usr/local/lib/python3.11/dist-packages (from requests->transformers->torchtoolbox) (2025.1.31)\r\n",
      "Requirement already satisfied: intel-cmplr-lib-ur==2024.2.0 in /usr/local/lib/python3.11/dist-packages (from intel-openmp<2026,>=2024->mkl->numpy->torchtoolbox) (2024.2.0)\r\n",
      "Downloading torchtoolbox-0.1.8.2-py3-none-any.whl (84 kB)\r\n",
      "\u001b[2K   \u001b[90m━━━━━━━━━━━━━━━━━━━━━━━━━━━━━━━━━━━━━━━━\u001b[0m \u001b[32m85.0/85.0 kB\u001b[0m \u001b[31m3.1 MB/s\u001b[0m eta \u001b[36m0:00:00\u001b[0m\r\n",
      "\u001b[?25hDownloading lmdb-1.6.2-cp311-cp311-manylinux_2_17_x86_64.manylinux2014_x86_64.whl (297 kB)\r\n",
      "\u001b[2K   \u001b[90m━━━━━━━━━━━━━━━━━━━━━━━━━━━━━━━━━━━━━━━━\u001b[0m \u001b[32m297.8/297.8 kB\u001b[0m \u001b[31m9.8 MB/s\u001b[0m eta \u001b[36m0:00:00\u001b[0m\r\n",
      "\u001b[?25hInstalling collected packages: lmdb, torchtoolbox\r\n",
      "Successfully installed lmdb-1.6.2 torchtoolbox-0.1.8.2\r\n"
     ]
    }
   ],
   "source": [
    "!pip install ultralytics\n",
    "!pip install torchtoolbox"
   ]
  },
  {
   "cell_type": "code",
   "execution_count": 2,
   "id": "393f4512",
   "metadata": {
    "_cell_guid": "8f272705-9c88-4ee8-9c0c-da74382b4fec",
    "_uuid": "49a88463-382d-4d83-8d08-7cb1e03afc9f",
    "collapsed": false,
    "execution": {
     "iopub.execute_input": "2025-06-02T07:22:44.032758Z",
     "iopub.status.busy": "2025-06-02T07:22:44.032505Z",
     "iopub.status.idle": "2025-06-02T18:59:10.948794Z",
     "shell.execute_reply": "2025-06-02T18:59:10.947846Z"
    },
    "jupyter": {
     "outputs_hidden": false
    },
    "papermill": {
     "duration": 41786.941955,
     "end_time": "2025-06-02T18:59:10.951037",
     "exception": false,
     "start_time": "2025-06-02T07:22:44.009082",
     "status": "completed"
    },
    "tags": []
   },
   "outputs": [
    {
     "name": "stdout",
     "output_type": "stream",
     "text": [
      "Creating new Ultralytics Settings v0.0.6 file ✅ \n",
      "View Ultralytics Settings with 'yolo settings' or at '/root/.config/Ultralytics/settings.json'\n",
      "Update Settings with 'yolo settings key=value', i.e. 'yolo settings runs_dir=path/to/dir'. For help see https://docs.ultralytics.com/quickstart/#ultralytics-settings.\n"
     ]
    },
    {
     "name": "stderr",
     "output_type": "stream",
     "text": [
      "/usr/local/lib/python3.11/dist-packages/torch/nn/modules/transformer.py:379: UserWarning: enable_nested_tensor is True, but self.use_nested_tensor is False because encoder_layer.norm_first was True\n",
      "  warnings.warn(\n",
      "Epoch 1/27 [TRAIN] LR: 5.00e-05 Teach: 0.70 Scheduler: OneCycleLR:   0%|          | 1/978 [00:08<2:12:22,  8.13s/it, loss=3.7]"
     ]
    },
    {
     "name": "stdout",
     "output_type": "stream",
     "text": [
      "\n",
      "--- Training Batch 0 Examples (Content Only) ---\n",
      "  Pred: 'KK9KJFN7C8'\n",
      "  True: '36C17261'\n",
      "  Pred: '4X1INWU9KKIZI'\n",
      "  True: '36C29203'\n",
      "  Pred: '74KN875UCTOCC8'\n",
      "  True: '36A18102'\n",
      "  Pred: '4B449FFFFG788'\n",
      "  True: '38C116816'\n",
      "  Pred: '7B77B4NZW48ZZ'\n",
      "  True: '30K93221'\n",
      "-------------------------------\n"
     ]
    },
    {
     "name": "stderr",
     "output_type": "stream",
     "text": [
      "Epoch 1/27 [TRAIN] LR: 5.00e-05 Teach: 0.70 Scheduler: OneCycleLR: 100%|██████████| 978/978 [22:39<00:00,  1.39s/it, loss=2.09]\n",
      "Epoch 1/27 [VAL]: 100%|██████████| 113/113 [03:00<00:00,  1.60s/it, loss=2.1]\n"
     ]
    },
    {
     "name": "stdout",
     "output_type": "stream",
     "text": [
      "EarlyStopping: New best val_acc: 0.3237\n",
      "\n",
      "Epoch 1/27 | LR: 8.70e-05 | Teach: 0.70 | Scheduler: OneCycleLR\n",
      "  Train Loss: 2.3493 | Train Char Acc: 0.3050\n",
      "  Val Loss: 2.2773   | Val Acc (CRR): 0.3237\n",
      "  Val Exact Match Acc (E2E RR): 0.0000\n",
      "  Inference time avg: 13.4456\n",
      "  FPS: 74.3739\n",
      "----------------------------------------------------------------------\n",
      "*** New best validation accuracy: 0.3237. Saving best_model.pth ***\n"
     ]
    },
    {
     "name": "stderr",
     "output_type": "stream",
     "text": [
      "Epoch 2/27 [TRAIN] LR: 8.70e-05 Teach: 0.67 Scheduler: OneCycleLR:   0%|          | 1/978 [00:05<1:30:29,  5.56s/it, loss=2.14]"
     ]
    },
    {
     "name": "stdout",
     "output_type": "stream",
     "text": [
      "\n",
      "--- Training Batch 0 Examples (Content Only) ---\n",
      "  Pred: '36A0025'\n",
      "  True: '36B02987'\n",
      "  Pred: '36A4242'\n",
      "  True: '36A40443'\n",
      "  Pred: '36A2302'\n",
      "  True: '36A41896'\n",
      "  Pred: '36A2222'\n",
      "  True: '36C08432'\n",
      "  Pred: '36A4998'\n",
      "  True: '36A23792'\n",
      "-------------------------------\n"
     ]
    },
    {
     "name": "stderr",
     "output_type": "stream",
     "text": [
      "Epoch 2/27 [TRAIN] LR: 8.70e-05 Teach: 0.67 Scheduler: OneCycleLR: 100%|██████████| 978/978 [22:43<00:00,  1.39s/it, loss=2.02]\n",
      "Epoch 2/27 [VAL]: 100%|██████████| 113/113 [02:57<00:00,  1.57s/it, loss=2.06]\n"
     ]
    },
    {
     "name": "stdout",
     "output_type": "stream",
     "text": [
      "EarlyStopping: New best val_acc: 0.3605\n",
      "\n",
      "Epoch 2/27 | LR: 1.86e-04 | Teach: 0.67 | Scheduler: OneCycleLR\n",
      "  Train Loss: 2.0561 | Train Char Acc: 0.3725\n",
      "  Val Loss: 2.1316   | Val Acc (CRR): 0.3605\n",
      "  Val Exact Match Acc (E2E RR): 0.0000\n",
      "  Inference time avg: 13.6431\n",
      "  FPS: 73.2971\n",
      "----------------------------------------------------------------------\n",
      "*** New best validation accuracy: 0.3605. Saving best_model.pth ***\n"
     ]
    },
    {
     "name": "stderr",
     "output_type": "stream",
     "text": [
      "Epoch 3/27 [TRAIN] LR: 1.86e-04 Teach: 0.65 Scheduler: OneCycleLR:   0%|          | 1/978 [00:06<1:51:59,  6.88s/it, loss=1.92]"
     ]
    },
    {
     "name": "stdout",
     "output_type": "stream",
     "text": [
      "\n",
      "--- Training Batch 0 Examples (Content Only) ---\n",
      "  Pred: '36B0022'\n",
      "  True: '36B0930'\n",
      "  Pred: '36A42682'\n",
      "  True: '36A11111'\n",
      "  Pred: '36A4221'\n",
      "  True: '36A34319'\n",
      "  Pred: '36A4201'\n",
      "  True: '36A39866'\n",
      "  Pred: '36A4222'\n",
      "  True: '36A16457'\n",
      "-------------------------------\n"
     ]
    },
    {
     "name": "stderr",
     "output_type": "stream",
     "text": [
      "Epoch 3/27 [TRAIN] LR: 1.86e-04 Teach: 0.65 Scheduler: OneCycleLR: 100%|██████████| 978/978 [22:46<00:00,  1.40s/it, loss=1.81]\n",
      "Epoch 3/27 [VAL]: 100%|██████████| 113/113 [02:58<00:00,  1.58s/it, loss=2.02]\n"
     ]
    },
    {
     "name": "stdout",
     "output_type": "stream",
     "text": [
      "EarlyStopping: New best val_acc: 0.3873\n",
      "\n",
      "Epoch 3/27 | LR: 3.14e-04 | Teach: 0.65 | Scheduler: OneCycleLR\n",
      "  Train Loss: 1.9383 | Train Char Acc: 0.4175\n",
      "  Val Loss: 2.0883   | Val Acc (CRR): 0.3873\n",
      "  Val Exact Match Acc (E2E RR): 0.0000\n",
      "  Inference time avg: 13.8326\n",
      "  FPS: 72.2928\n",
      "----------------------------------------------------------------------\n",
      "*** New best validation accuracy: 0.3873. Saving best_model.pth ***\n"
     ]
    },
    {
     "name": "stderr",
     "output_type": "stream",
     "text": [
      "Epoch 4/27 [TRAIN] LR: 3.14e-04 Teach: 0.62 Scheduler: OneCycleLR:   0%|          | 1/978 [00:06<1:45:15,  6.46s/it, loss=1.86]"
     ]
    },
    {
     "name": "stdout",
     "output_type": "stream",
     "text": [
      "\n",
      "--- Training Batch 0 Examples (Content Only) ---\n",
      "  Pred: '28H114368'\n",
      "  True: '19M115077'\n",
      "  Pred: '36A43000'\n",
      "  True: '36A43773'\n",
      "  Pred: '36C02226'\n",
      "  True: '36C00433'\n",
      "  Pred: '29B111116'\n",
      "  True: '99D106434'\n",
      "  Pred: '36A42450'\n",
      "  True: '36A25103'\n",
      "-------------------------------\n"
     ]
    },
    {
     "name": "stderr",
     "output_type": "stream",
     "text": [
      "Epoch 4/27 [TRAIN] LR: 3.14e-04 Teach: 0.62 Scheduler: OneCycleLR: 100%|██████████| 978/978 [22:42<00:00,  1.39s/it, loss=1.28]\n",
      "Epoch 4/27 [VAL]: 100%|██████████| 113/113 [02:58<00:00,  1.58s/it, loss=1.82]\n"
     ]
    },
    {
     "name": "stdout",
     "output_type": "stream",
     "text": [
      "EarlyStopping: New best val_acc: 0.4592\n",
      "\n",
      "Epoch 4/27 | LR: 4.30e-04 | Teach: 0.62 | Scheduler: OneCycleLR\n",
      "  Train Loss: 1.5876 | Train Char Acc: 0.6027\n",
      "  Val Loss: 1.9278   | Val Acc (CRR): 0.4592\n",
      "  Val Exact Match Acc (E2E RR): 0.0442\n",
      "  Inference time avg: 13.7810\n",
      "  FPS: 72.5634\n",
      "----------------------------------------------------------------------\n",
      "*** New best validation accuracy: 0.4592. Saving best_model.pth ***\n"
     ]
    },
    {
     "name": "stderr",
     "output_type": "stream",
     "text": [
      "Epoch 5/27 [TRAIN] LR: 4.30e-04 Teach: 0.60 Scheduler: OneCycleLR:   0%|          | 1/978 [00:06<1:43:25,  6.35s/it, loss=1.33]"
     ]
    },
    {
     "name": "stdout",
     "output_type": "stream",
     "text": [
      "\n",
      "--- Training Batch 0 Examples (Content Only) ---\n",
      "  Pred: '36C10850'\n",
      "  True: '36R01850'\n",
      "  Pred: '36B00565'\n",
      "  True: '36B00565'\n",
      "  Pred: '36A04795'\n",
      "  True: '36A04795'\n",
      "  Pred: '36A12388'\n",
      "  True: '36A40259'\n",
      "  Pred: '29G133127'\n",
      "  True: '29E235021'\n",
      "-------------------------------\n"
     ]
    },
    {
     "name": "stderr",
     "output_type": "stream",
     "text": [
      "Epoch 5/27 [TRAIN] LR: 4.30e-04 Teach: 0.60 Scheduler: OneCycleLR: 100%|██████████| 978/978 [22:47<00:00,  1.40s/it, loss=1.17]\n",
      "Epoch 5/27 [VAL]: 100%|██████████| 113/113 [02:59<00:00,  1.59s/it, loss=1.65]\n"
     ]
    },
    {
     "name": "stdout",
     "output_type": "stream",
     "text": [
      "EarlyStopping: New best val_acc: 0.5555\n",
      "\n",
      "Epoch 5/27 | LR: 4.94e-04 | Teach: 0.60 | Scheduler: OneCycleLR\n",
      "  Train Loss: 1.2124 | Train Char Acc: 0.7880\n",
      "  Val Loss: 1.7309   | Val Acc (CRR): 0.5555\n",
      "  Val Exact Match Acc (E2E RR): 0.0611\n",
      "  Inference time avg: 13.8123\n",
      "  FPS: 72.3993\n",
      "----------------------------------------------------------------------\n",
      "*** New best validation accuracy: 0.5555. Saving best_model.pth ***\n"
     ]
    },
    {
     "name": "stderr",
     "output_type": "stream",
     "text": [
      "Epoch 6/27 [TRAIN] LR: 4.94e-04 Teach: 0.57 Scheduler: OneCycleLR:   0%|          | 1/978 [00:05<1:37:19,  5.98s/it, loss=1.1]"
     ]
    },
    {
     "name": "stdout",
     "output_type": "stream",
     "text": [
      "\n",
      "--- Training Batch 0 Examples (Content Only) ---\n",
      "  Pred: '36C27198'\n",
      "  True: '36C27198'\n",
      "  Pred: '36A26506'\n",
      "  True: '36A26506'\n",
      "  Pred: '36C27499'\n",
      "  True: '36C27499'\n",
      "  Pred: '36A43316'\n",
      "  True: '36A42310'\n",
      "  Pred: '29Y125152'\n",
      "  True: '29N125152'\n",
      "-------------------------------\n"
     ]
    },
    {
     "name": "stderr",
     "output_type": "stream",
     "text": [
      "Epoch 6/27 [TRAIN] LR: 4.94e-04 Teach: 0.57 Scheduler: OneCycleLR: 100%|██████████| 978/978 [22:44<00:00,  1.39s/it, loss=0.962]\n",
      "Epoch 6/27 [VAL]: 100%|██████████| 113/113 [02:58<00:00,  1.58s/it, loss=1.35]\n"
     ]
    },
    {
     "name": "stdout",
     "output_type": "stream",
     "text": [
      "EarlyStopping: New best val_acc: 0.7156\n",
      "\n",
      "Epoch 6/27 | LR: 4.99e-04 | Teach: 0.57 | Scheduler: OneCycleLR\n",
      "  Train Loss: 1.0707 | Train Char Acc: 0.8512\n",
      "  Val Loss: 1.3606   | Val Acc (CRR): 0.7156\n",
      "  Val Exact Match Acc (E2E RR): 0.1395\n",
      "  Inference time avg: 13.8237\n",
      "  FPS: 72.3397\n",
      "----------------------------------------------------------------------\n",
      "*** New best validation accuracy: 0.7156. Saving best_model.pth ***\n"
     ]
    },
    {
     "name": "stderr",
     "output_type": "stream",
     "text": [
      "Epoch 7/27 [TRAIN] LR: 4.99e-04 Teach: 0.55 Scheduler: OneCycleLR:   0%|          | 1/978 [00:06<1:38:12,  6.03s/it, loss=1]"
     ]
    },
    {
     "name": "stdout",
     "output_type": "stream",
     "text": [
      "\n",
      "--- Training Batch 0 Examples (Content Only) ---\n",
      "  Pred: '36C10838'\n",
      "  True: '36C10838'\n",
      "  Pred: '29Y82693'\n",
      "  True: '29T82693'\n",
      "  Pred: '29L113328'\n",
      "  True: '29L113228'\n",
      "  Pred: '36A40067'\n",
      "  True: '36A40083'\n",
      "  Pred: '36A04045'\n",
      "  True: '36A04045'\n",
      "-------------------------------\n"
     ]
    },
    {
     "name": "stderr",
     "output_type": "stream",
     "text": [
      "Epoch 7/27 [TRAIN] LR: 4.99e-04 Teach: 0.55 Scheduler: OneCycleLR: 100%|██████████| 978/978 [22:44<00:00,  1.40s/it, loss=0.848]\n",
      "Epoch 7/27 [VAL]: 100%|██████████| 113/113 [03:00<00:00,  1.60s/it, loss=1.18]\n"
     ]
    },
    {
     "name": "stdout",
     "output_type": "stream",
     "text": [
      "EarlyStopping: New best val_acc: 0.7988\n",
      "\n",
      "Epoch 7/27 | LR: 4.93e-04 | Teach: 0.55 | Scheduler: OneCycleLR\n",
      "  Train Loss: 0.9659 | Train Char Acc: 0.8987\n",
      "  Val Loss: 1.1748   | Val Acc (CRR): 0.7988\n",
      "  Val Exact Match Acc (E2E RR): 0.2634\n",
      "  Inference time avg: 13.8276\n",
      "  FPS: 72.3193\n",
      "----------------------------------------------------------------------\n",
      "*** New best validation accuracy: 0.7988. Saving best_model.pth ***\n"
     ]
    },
    {
     "name": "stderr",
     "output_type": "stream",
     "text": [
      "Epoch 8/27 [TRAIN] LR: 4.93e-04 Teach: 0.53 Scheduler: OneCycleLR:   0%|          | 1/978 [00:05<1:36:15,  5.91s/it, loss=0.886]"
     ]
    },
    {
     "name": "stdout",
     "output_type": "stream",
     "text": [
      "\n",
      "--- Training Batch 0 Examples (Content Only) ---\n",
      "  Pred: '59Y169019'\n",
      "  True: '59T169019'\n",
      "  Pred: '36C02055'\n",
      "  True: '36C02055'\n",
      "  Pred: '36A22840'\n",
      "  True: '36A24840'\n",
      "  Pred: '36C04513'\n",
      "  True: '36C04313'\n",
      "  Pred: '99C03300'\n",
      "  True: '99C03300'\n",
      "-------------------------------\n"
     ]
    },
    {
     "name": "stderr",
     "output_type": "stream",
     "text": [
      "Epoch 8/27 [TRAIN] LR: 4.93e-04 Teach: 0.53 Scheduler: OneCycleLR: 100%|██████████| 978/978 [22:43<00:00,  1.39s/it, loss=0.974]\n",
      "Epoch 8/27 [VAL]: 100%|██████████| 113/113 [02:59<00:00,  1.59s/it, loss=1.11]\n"
     ]
    },
    {
     "name": "stdout",
     "output_type": "stream",
     "text": [
      "EarlyStopping: New best val_acc: 0.8576\n",
      "\n",
      "Epoch 8/27 | LR: 4.82e-04 | Teach: 0.53 | Scheduler: OneCycleLR\n",
      "  Train Loss: 0.9044 | Train Char Acc: 0.9245\n",
      "  Val Loss: 1.0504   | Val Acc (CRR): 0.8576\n",
      "  Val Exact Match Acc (E2E RR): 0.4076\n",
      "  Inference time avg: 13.8422\n",
      "  FPS: 72.2427\n",
      "----------------------------------------------------------------------\n",
      "*** New best validation accuracy: 0.8576. Saving best_model.pth ***\n"
     ]
    },
    {
     "name": "stderr",
     "output_type": "stream",
     "text": [
      "Epoch 9/27 [TRAIN] LR: 4.82e-04 Teach: 0.50 Scheduler: OneCycleLR:   0%|          | 1/978 [00:06<1:44:48,  6.44s/it, loss=0.866]"
     ]
    },
    {
     "name": "stdout",
     "output_type": "stream",
     "text": [
      "\n",
      "--- Training Batch 0 Examples (Content Only) ---\n",
      "  Pred: '36A13360'\n",
      "  True: '36A13360'\n",
      "  Pred: '30E7731'\n",
      "  True: '30P7431'\n",
      "  Pred: '36A39469'\n",
      "  True: '36A39469'\n",
      "  Pred: '36C00842'\n",
      "  True: '36C00842'\n",
      "  Pred: '36A39004'\n",
      "  True: '36A38009'\n",
      "-------------------------------\n"
     ]
    },
    {
     "name": "stderr",
     "output_type": "stream",
     "text": [
      "Epoch 9/27 [TRAIN] LR: 4.82e-04 Teach: 0.50 Scheduler: OneCycleLR: 100%|██████████| 978/978 [22:43<00:00,  1.39s/it, loss=0.889]\n",
      "Epoch 9/27 [VAL]: 100%|██████████| 113/113 [02:59<00:00,  1.58s/it, loss=1.01]\n"
     ]
    },
    {
     "name": "stdout",
     "output_type": "stream",
     "text": [
      "EarlyStopping: New best val_acc: 0.8896\n",
      "\n",
      "Epoch 9/27 | LR: 4.66e-04 | Teach: 0.50 | Scheduler: OneCycleLR\n",
      "  Train Loss: 0.8605 | Train Char Acc: 0.9412\n",
      "  Val Loss: 0.9841   | Val Acc (CRR): 0.8896\n",
      "  Val Exact Match Acc (E2E RR): 0.5099\n",
      "  Inference time avg: 13.8197\n",
      "  FPS: 72.3605\n",
      "----------------------------------------------------------------------\n",
      "*** New best validation accuracy: 0.8896. Saving best_model.pth ***\n"
     ]
    },
    {
     "name": "stderr",
     "output_type": "stream",
     "text": [
      "Epoch 10/27 [TRAIN] LR: 4.66e-04 Teach: 0.47 Scheduler: OneCycleLR:   0%|          | 1/978 [00:06<1:41:54,  6.26s/it, loss=0.857]"
     ]
    },
    {
     "name": "stdout",
     "output_type": "stream",
     "text": [
      "\n",
      "--- Training Batch 0 Examples (Content Only) ---\n",
      "  Pred: '36A22969'\n",
      "  True: '36A22969'\n",
      "  Pred: '36C29624'\n",
      "  True: '36C29052'\n",
      "  Pred: '36A23329'\n",
      "  True: '36A23329'\n",
      "  Pred: '36C00544'\n",
      "  True: '36C06541'\n",
      "  Pred: '36N1783'\n",
      "  True: '36N1783'\n",
      "-------------------------------\n"
     ]
    },
    {
     "name": "stderr",
     "output_type": "stream",
     "text": [
      "Epoch 10/27 [TRAIN] LR: 4.66e-04 Teach: 0.47 Scheduler: OneCycleLR: 100%|██████████| 978/978 [22:46<00:00,  1.40s/it, loss=0.807]\n",
      "Epoch 10/27 [VAL]: 100%|██████████| 113/113 [03:00<00:00,  1.60s/it, loss=0.874]\n"
     ]
    },
    {
     "name": "stdout",
     "output_type": "stream",
     "text": [
      "EarlyStopping: New best val_acc: 0.9015\n",
      "\n",
      "Epoch 10/27 | LR: 4.46e-04 | Teach: 0.47 | Scheduler: OneCycleLR\n",
      "  Train Loss: 0.8416 | Train Char Acc: 0.9484\n",
      "  Val Loss: 0.9505   | Val Acc (CRR): 0.9015\n",
      "  Val Exact Match Acc (E2E RR): 0.5560\n",
      "  Inference time avg: 13.8054\n",
      "  FPS: 72.4353\n",
      "----------------------------------------------------------------------\n",
      "*** New best validation accuracy: 0.9015. Saving best_model.pth ***\n"
     ]
    },
    {
     "name": "stderr",
     "output_type": "stream",
     "text": [
      "Epoch 11/27 [TRAIN] LR: 4.46e-04 Teach: 0.45 Scheduler: OneCycleLR:   0%|          | 1/978 [00:05<1:34:45,  5.82s/it, loss=0.826]"
     ]
    },
    {
     "name": "stdout",
     "output_type": "stream",
     "text": [
      "\n",
      "--- Training Batch 0 Examples (Content Only) ---\n",
      "  Pred: '36A42224'\n",
      "  True: '36A42224'\n",
      "  Pred: '30X2107'\n",
      "  True: '30X2107'\n",
      "  Pred: '29C87192'\n",
      "  True: '29C87192'\n",
      "  Pred: '36R92829'\n",
      "  True: '36R92829'\n",
      "  Pred: '29E174975'\n",
      "  True: '29E174975'\n",
      "-------------------------------\n"
     ]
    },
    {
     "name": "stderr",
     "output_type": "stream",
     "text": [
      "Epoch 11/27 [TRAIN] LR: 4.46e-04 Teach: 0.45 Scheduler: OneCycleLR: 100%|██████████| 978/978 [22:43<00:00,  1.39s/it, loss=0.873]\n",
      "Epoch 11/27 [VAL]: 100%|██████████| 113/113 [03:00<00:00,  1.59s/it, loss=0.893]\n"
     ]
    },
    {
     "name": "stdout",
     "output_type": "stream",
     "text": [
      "EarlyStopping: New best val_acc: 0.9107\n",
      "\n",
      "Epoch 11/27 | LR: 4.22e-04 | Teach: 0.45 | Scheduler: OneCycleLR\n",
      "  Train Loss: 0.8270 | Train Char Acc: 0.9541\n",
      "  Val Loss: 0.9392   | Val Acc (CRR): 0.9107\n",
      "  Val Exact Match Acc (E2E RR): 0.5868\n",
      "  Inference time avg: 13.8351\n",
      "  FPS: 72.2802\n",
      "----------------------------------------------------------------------\n",
      "*** New best validation accuracy: 0.9107. Saving best_model.pth ***\n"
     ]
    },
    {
     "name": "stderr",
     "output_type": "stream",
     "text": [
      "Epoch 12/27 [TRAIN] LR: 4.22e-04 Teach: 0.42 Scheduler: OneCycleLR:   0%|          | 1/978 [00:05<1:31:53,  5.64s/it, loss=0.784]"
     ]
    },
    {
     "name": "stdout",
     "output_type": "stream",
     "text": [
      "\n",
      "--- Training Batch 0 Examples (Content Only) ---\n",
      "  Pred: '36C27518'\n",
      "  True: '36C27518'\n",
      "  Pred: '29H24359'\n",
      "  True: '29H24359'\n",
      "  Pred: '36C11044'\n",
      "  True: '36C11044'\n",
      "  Pred: '36A00003'\n",
      "  True: '36A10003'\n",
      "  Pred: '36A39332'\n",
      "  True: '36A39332'\n",
      "-------------------------------\n"
     ]
    },
    {
     "name": "stderr",
     "output_type": "stream",
     "text": [
      "Epoch 12/27 [TRAIN] LR: 4.22e-04 Teach: 0.42 Scheduler: OneCycleLR: 100%|██████████| 978/978 [22:45<00:00,  1.40s/it, loss=0.811]\n",
      "Epoch 12/27 [VAL]: 100%|██████████| 113/113 [02:59<00:00,  1.59s/it, loss=0.876]\n"
     ]
    },
    {
     "name": "stdout",
     "output_type": "stream",
     "text": [
      "EarlyStopping: New best val_acc: 0.9209\n",
      "\n",
      "Epoch 12/27 | LR: 3.93e-04 | Teach: 0.42 | Scheduler: OneCycleLR\n",
      "  Train Loss: 0.8176 | Train Char Acc: 0.9575\n",
      "  Val Loss: 0.9166   | Val Acc (CRR): 0.9209\n",
      "  Val Exact Match Acc (E2E RR): 0.6268\n",
      "  Inference time avg: 13.8237\n",
      "  FPS: 72.3396\n",
      "----------------------------------------------------------------------\n",
      "*** New best validation accuracy: 0.9209. Saving best_model.pth ***\n"
     ]
    },
    {
     "name": "stderr",
     "output_type": "stream",
     "text": [
      "Epoch 13/27 [TRAIN] LR: 3.93e-04 Teach: 0.40 Scheduler: OneCycleLR:   0%|          | 1/978 [00:06<1:38:13,  6.03s/it, loss=0.794]"
     ]
    },
    {
     "name": "stdout",
     "output_type": "stream",
     "text": [
      "\n",
      "--- Training Batch 0 Examples (Content Only) ---\n",
      "  Pred: '36A43000'\n",
      "  True: '36A43000'\n",
      "  Pred: '29P146460'\n",
      "  True: '29P146460'\n",
      "  Pred: '36A42952'\n",
      "  True: '36A42952'\n",
      "  Pred: '88A01977'\n",
      "  True: '88A01977'\n",
      "  Pred: '15B143850'\n",
      "  True: '15B143850'\n",
      "-------------------------------\n"
     ]
    },
    {
     "name": "stderr",
     "output_type": "stream",
     "text": [
      "Epoch 13/27 [TRAIN] LR: 3.93e-04 Teach: 0.40 Scheduler: OneCycleLR: 100%|██████████| 978/978 [22:49<00:00,  1.40s/it, loss=0.812]\n",
      "Epoch 13/27 [VAL]: 100%|██████████| 113/113 [02:57<00:00,  1.57s/it, loss=0.845]\n"
     ]
    },
    {
     "name": "stdout",
     "output_type": "stream",
     "text": [
      "EarlyStopping: New best val_acc: 0.9322\n",
      "\n",
      "Epoch 13/27 | LR: 3.62e-04 | Teach: 0.40 | Scheduler: OneCycleLR\n",
      "  Train Loss: 0.8052 | Train Char Acc: 0.9621\n",
      "  Val Loss: 0.8859   | Val Acc (CRR): 0.9322\n",
      "  Val Exact Match Acc (E2E RR): 0.6807\n",
      "  Inference time avg: 13.8021\n",
      "  FPS: 72.4526\n",
      "----------------------------------------------------------------------\n",
      "*** New best validation accuracy: 0.9322. Saving best_model.pth ***\n"
     ]
    },
    {
     "name": "stderr",
     "output_type": "stream",
     "text": [
      "Epoch 14/27 [TRAIN] LR: 3.62e-04 Teach: 0.38 Scheduler: OneCycleLR:   0%|          | 1/978 [00:05<1:35:48,  5.88s/it, loss=0.781]"
     ]
    },
    {
     "name": "stdout",
     "output_type": "stream",
     "text": [
      "\n",
      "--- Training Batch 0 Examples (Content Only) ---\n",
      "  Pred: '36G128734'\n",
      "  True: '36G128734'\n",
      "  Pred: '36C29331'\n",
      "  True: '36C29351'\n",
      "  Pred: '36A41520'\n",
      "  True: '36A41520'\n",
      "  Pred: '36A38173'\n",
      "  True: '36A38173'\n",
      "  Pred: '36C00951'\n",
      "  True: '36C00351'\n",
      "-------------------------------\n"
     ]
    },
    {
     "name": "stderr",
     "output_type": "stream",
     "text": [
      "Epoch 14/27 [TRAIN] LR: 3.62e-04 Teach: 0.38 Scheduler: OneCycleLR: 100%|██████████| 978/978 [22:45<00:00,  1.40s/it, loss=0.779]\n",
      "Epoch 14/27 [VAL]: 100%|██████████| 113/113 [03:01<00:00,  1.61s/it, loss=0.844]\n"
     ]
    },
    {
     "name": "stdout",
     "output_type": "stream",
     "text": [
      "EarlyStopping: New best val_acc: 0.9335\n",
      "\n",
      "Epoch 14/27 | LR: 3.29e-04 | Teach: 0.38 | Scheduler: OneCycleLR\n",
      "  Train Loss: 0.7983 | Train Char Acc: 0.9642\n",
      "  Val Loss: 0.8805   | Val Acc (CRR): 0.9335\n",
      "  Val Exact Match Acc (E2E RR): 0.6860\n",
      "  Inference time avg: 13.7981\n",
      "  FPS: 72.4736\n",
      "----------------------------------------------------------------------\n",
      "*** New best validation accuracy: 0.9335. Saving best_model.pth ***\n"
     ]
    },
    {
     "name": "stderr",
     "output_type": "stream",
     "text": [
      "Epoch 15/27 [TRAIN] LR: 3.29e-04 Teach: 0.35 Scheduler: OneCycleLR:   0%|          | 1/978 [00:05<1:37:35,  5.99s/it, loss=0.826]"
     ]
    },
    {
     "name": "stdout",
     "output_type": "stream",
     "text": [
      "\n",
      "--- Training Batch 0 Examples (Content Only) ---\n",
      "  Pred: '29P87509'\n",
      "  True: '29P87509'\n",
      "  Pred: '36R0322'\n",
      "  True: '36C28429'\n",
      "  Pred: '30M30739'\n",
      "  True: '30M30739'\n",
      "  Pred: '29G157016'\n",
      "  True: '29G157016'\n",
      "  Pred: '18F65943'\n",
      "  True: '18F65943'\n",
      "-------------------------------\n"
     ]
    },
    {
     "name": "stderr",
     "output_type": "stream",
     "text": [
      "Epoch 15/27 [TRAIN] LR: 3.29e-04 Teach: 0.35 Scheduler: OneCycleLR: 100%|██████████| 978/978 [22:48<00:00,  1.40s/it, loss=0.777]\n",
      "Epoch 15/27 [VAL]: 100%|██████████| 113/113 [02:59<00:00,  1.58s/it, loss=0.839]\n"
     ]
    },
    {
     "name": "stdout",
     "output_type": "stream",
     "text": [
      "EarlyStopping: New best val_acc: 0.9376\n",
      "\n",
      "Epoch 15/27 | LR: 2.93e-04 | Teach: 0.35 | Scheduler: OneCycleLR\n",
      "  Train Loss: 0.7934 | Train Char Acc: 0.9665\n",
      "  Val Loss: 0.8751   | Val Acc (CRR): 0.9376\n",
      "  Val Exact Match Acc (E2E RR): 0.6977\n",
      "  Inference time avg: 13.8079\n",
      "  FPS: 72.4224\n",
      "----------------------------------------------------------------------\n",
      "*** New best validation accuracy: 0.9376. Saving best_model.pth ***\n"
     ]
    },
    {
     "name": "stderr",
     "output_type": "stream",
     "text": [
      "Epoch 16/27 [TRAIN] LR: 2.93e-04 Teach: 0.33 Scheduler: OneCycleLR:   0%|          | 1/978 [00:05<1:31:03,  5.59s/it, loss=0.778]"
     ]
    },
    {
     "name": "stdout",
     "output_type": "stream",
     "text": [
      "\n",
      "--- Training Batch 0 Examples (Content Only) ---\n",
      "  Pred: '36A17191'\n",
      "  True: '36A17191'\n",
      "  Pred: '36A01295'\n",
      "  True: '36A01295'\n",
      "  Pred: '36A27550'\n",
      "  True: '36A21558'\n",
      "  Pred: '36R00878'\n",
      "  True: '36C10878'\n",
      "  Pred: '36N1959'\n",
      "  True: '36N1959'\n",
      "-------------------------------\n"
     ]
    },
    {
     "name": "stderr",
     "output_type": "stream",
     "text": [
      "Epoch 16/27 [TRAIN] LR: 2.93e-04 Teach: 0.33 Scheduler: OneCycleLR: 100%|██████████| 978/978 [22:44<00:00,  1.40s/it, loss=0.832]\n",
      "Epoch 16/27 [VAL]: 100%|██████████| 113/113 [03:01<00:00,  1.60s/it, loss=0.824]\n"
     ]
    },
    {
     "name": "stdout",
     "output_type": "stream",
     "text": [
      "EarlyStopping: New best val_acc: 0.9393\n",
      "\n",
      "Epoch 16/27 | LR: 2.57e-04 | Teach: 0.33 | Scheduler: OneCycleLR\n",
      "  Train Loss: 0.7911 | Train Char Acc: 0.9669\n",
      "  Val Loss: 0.8666   | Val Acc (CRR): 0.9393\n",
      "  Val Exact Match Acc (E2E RR): 0.7074\n",
      "  Inference time avg: 13.8454\n",
      "  FPS: 72.2264\n",
      "----------------------------------------------------------------------\n",
      "*** New best validation accuracy: 0.9393. Saving best_model.pth ***\n"
     ]
    },
    {
     "name": "stderr",
     "output_type": "stream",
     "text": [
      "Epoch 17/27 [TRAIN] LR: 2.57e-04 Teach: 0.30 Scheduler: OneCycleLR:   0%|          | 1/978 [00:05<1:29:02,  5.47s/it, loss=0.803]"
     ]
    },
    {
     "name": "stdout",
     "output_type": "stream",
     "text": [
      "\n",
      "--- Training Batch 0 Examples (Content Only) ---\n",
      "  Pred: '36B01689'\n",
      "  True: '36B01689'\n",
      "  Pred: '36L7209'\n",
      "  True: '36L7209'\n",
      "  Pred: '30A00375'\n",
      "  True: '30A00375'\n",
      "  Pred: '29P161183'\n",
      "  True: '29P161183'\n",
      "  Pred: '36D00609'\n",
      "  True: '36D00609'\n",
      "-------------------------------\n"
     ]
    },
    {
     "name": "stderr",
     "output_type": "stream",
     "text": [
      "Epoch 17/27 [TRAIN] LR: 2.57e-04 Teach: 0.30 Scheduler: OneCycleLR: 100%|██████████| 978/978 [22:48<00:00,  1.40s/it, loss=0.755]\n",
      "Epoch 17/27 [VAL]: 100%|██████████| 113/113 [03:02<00:00,  1.61s/it, loss=0.815]\n"
     ]
    },
    {
     "name": "stdout",
     "output_type": "stream",
     "text": [
      "EarlyStopping: New best val_acc: 0.9430\n",
      "\n",
      "Epoch 17/27 | LR: 2.21e-04 | Teach: 0.30 | Scheduler: OneCycleLR\n",
      "  Train Loss: 0.7868 | Train Char Acc: 0.9687\n",
      "  Val Loss: 0.8601   | Val Acc (CRR): 0.9430\n",
      "  Val Exact Match Acc (E2E RR): 0.7210\n",
      "  Inference time avg: 13.8585\n",
      "  FPS: 72.1579\n",
      "----------------------------------------------------------------------\n",
      "*** New best validation accuracy: 0.9430. Saving best_model.pth ***\n"
     ]
    },
    {
     "name": "stderr",
     "output_type": "stream",
     "text": [
      "Epoch 18/27 [TRAIN] LR: 2.21e-04 Teach: 0.28 Scheduler: OneCycleLR:   0%|          | 1/978 [00:06<1:38:22,  6.04s/it, loss=0.738]"
     ]
    },
    {
     "name": "stdout",
     "output_type": "stream",
     "text": [
      "\n",
      "--- Training Batch 0 Examples (Content Only) ---\n",
      "  Pred: '29M118054'\n",
      "  True: '29M118054'\n",
      "  Pred: '36A43408'\n",
      "  True: '36A43408'\n",
      "  Pred: '30H6045'\n",
      "  True: '30H6045'\n",
      "  Pred: '36C29003'\n",
      "  True: '36C29003'\n",
      "  Pred: '36A39480'\n",
      "  True: '36A39480'\n",
      "-------------------------------\n"
     ]
    },
    {
     "name": "stderr",
     "output_type": "stream",
     "text": [
      "Epoch 18/27 [TRAIN] LR: 2.21e-04 Teach: 0.28 Scheduler: OneCycleLR: 100%|██████████| 978/978 [22:46<00:00,  1.40s/it, loss=0.802]\n",
      "Epoch 18/27 [VAL]: 100%|██████████| 113/113 [03:00<00:00,  1.60s/it, loss=0.804]\n"
     ]
    },
    {
     "name": "stdout",
     "output_type": "stream",
     "text": [
      "EarlyStopping: New best val_acc: 0.9446\n",
      "\n",
      "Epoch 18/27 | LR: 1.85e-04 | Teach: 0.28 | Scheduler: OneCycleLR\n",
      "  Train Loss: 0.7863 | Train Char Acc: 0.9690\n",
      "  Val Loss: 0.8580   | Val Acc (CRR): 0.9446\n",
      "  Val Exact Match Acc (E2E RR): 0.7271\n",
      "  Inference time avg: 13.8465\n",
      "  FPS: 72.2205\n",
      "----------------------------------------------------------------------\n",
      "*** New best validation accuracy: 0.9446. Saving best_model.pth ***\n"
     ]
    },
    {
     "name": "stderr",
     "output_type": "stream",
     "text": [
      "Epoch 19/27 [TRAIN] LR: 1.85e-04 Teach: 0.25 Scheduler: OneCycleLR:   0%|          | 1/978 [00:06<1:40:53,  6.20s/it, loss=0.767]"
     ]
    },
    {
     "name": "stdout",
     "output_type": "stream",
     "text": [
      "\n",
      "--- Training Batch 0 Examples (Content Only) ---\n",
      "  Pred: '36A19727'\n",
      "  True: '36A19727'\n",
      "  Pred: '30N3723'\n",
      "  True: '30N3723'\n",
      "  Pred: '30H93490'\n",
      "  True: '30H93490'\n",
      "  Pred: '36C04630'\n",
      "  True: '36C04630'\n",
      "  Pred: '36A23732'\n",
      "  True: '36A23732'\n",
      "-------------------------------\n"
     ]
    },
    {
     "name": "stderr",
     "output_type": "stream",
     "text": [
      "Epoch 19/27 [TRAIN] LR: 1.85e-04 Teach: 0.25 Scheduler: OneCycleLR: 100%|██████████| 978/978 [22:50<00:00,  1.40s/it, loss=0.795]\n",
      "Epoch 19/27 [VAL]: 100%|██████████| 113/113 [03:01<00:00,  1.61s/it, loss=0.801]\n"
     ]
    },
    {
     "name": "stdout",
     "output_type": "stream",
     "text": [
      "EarlyStopping: New best val_acc: 0.9459\n",
      "\n",
      "Epoch 19/27 | LR: 1.51e-04 | Teach: 0.25 | Scheduler: OneCycleLR\n",
      "  Train Loss: 0.7824 | Train Char Acc: 0.9704\n",
      "  Val Loss: 0.8520   | Val Acc (CRR): 0.9459\n",
      "  Val Exact Match Acc (E2E RR): 0.7310\n",
      "  Inference time avg: 13.8312\n",
      "  FPS: 72.3005\n",
      "----------------------------------------------------------------------\n",
      "*** New best validation accuracy: 0.9459. Saving best_model.pth ***\n"
     ]
    },
    {
     "name": "stderr",
     "output_type": "stream",
     "text": [
      "Epoch 20/27 [TRAIN] LR: 1.51e-04 Teach: 0.23 Scheduler: OneCycleLR:   0%|          | 1/978 [00:05<1:34:30,  5.80s/it, loss=0.734]"
     ]
    },
    {
     "name": "stdout",
     "output_type": "stream",
     "text": [
      "\n",
      "--- Training Batch 0 Examples (Content Only) ---\n",
      "  Pred: '29M163320'\n",
      "  True: '29M163320'\n",
      "  Pred: '29D104111'\n",
      "  True: '29D104111'\n",
      "  Pred: '36C22889'\n",
      "  True: '36C21889'\n",
      "  Pred: '36C28337'\n",
      "  True: '36C28337'\n",
      "  Pred: '29M139789'\n",
      "  True: '29M139789'\n",
      "-------------------------------\n"
     ]
    },
    {
     "name": "stderr",
     "output_type": "stream",
     "text": [
      "Epoch 20/27 [TRAIN] LR: 1.51e-04 Teach: 0.23 Scheduler: OneCycleLR: 100%|██████████| 978/978 [22:46<00:00,  1.40s/it, loss=0.764]\n",
      "Epoch 20/27 [VAL]: 100%|██████████| 113/113 [02:59<00:00,  1.59s/it, loss=0.812]\n"
     ]
    },
    {
     "name": "stdout",
     "output_type": "stream",
     "text": [
      "EarlyStopping: New best val_acc: 0.9475\n",
      "\n",
      "Epoch 20/27 | LR: 1.19e-04 | Teach: 0.23 | Scheduler: OneCycleLR\n",
      "  Train Loss: 0.7809 | Train Char Acc: 0.9706\n",
      "  Val Loss: 0.8503   | Val Acc (CRR): 0.9475\n",
      "  Val Exact Match Acc (E2E RR): 0.7427\n",
      "  Inference time avg: 13.7773\n",
      "  FPS: 72.5830\n",
      "----------------------------------------------------------------------\n",
      "*** New best validation accuracy: 0.9475. Saving best_model.pth ***\n"
     ]
    },
    {
     "name": "stderr",
     "output_type": "stream",
     "text": [
      "Epoch 21/27 [TRAIN] LR: 1.19e-04 Teach: 0.20 Scheduler: OneCycleLR:   0%|          | 1/978 [00:05<1:32:40,  5.69s/it, loss=0.735]"
     ]
    },
    {
     "name": "stdout",
     "output_type": "stream",
     "text": [
      "\n",
      "--- Training Batch 0 Examples (Content Only) ---\n",
      "  Pred: '36C01404'\n",
      "  True: '36C01404'\n",
      "  Pred: '36A11135'\n",
      "  True: '36A11135'\n",
      "  Pred: '36C27728'\n",
      "  True: '36C28728'\n",
      "  Pred: '36A40600'\n",
      "  True: '36A40600'\n",
      "  Pred: '36M00012'\n",
      "  True: '36M00012'\n",
      "-------------------------------\n"
     ]
    },
    {
     "name": "stderr",
     "output_type": "stream",
     "text": [
      "Epoch 21/27 [TRAIN] LR: 1.19e-04 Teach: 0.20 Scheduler: OneCycleLR: 100%|██████████| 978/978 [22:48<00:00,  1.40s/it, loss=0.827]\n",
      "Epoch 21/27 [VAL]: 100%|██████████| 113/113 [03:01<00:00,  1.61s/it, loss=0.806]\n"
     ]
    },
    {
     "name": "stdout",
     "output_type": "stream",
     "text": [
      "EarlyStopping: New best val_acc: 0.9483\n",
      "\n",
      "Epoch 21/27 | LR: 8.93e-05 | Teach: 0.20 | Scheduler: OneCycleLR\n",
      "  Train Loss: 0.7783 | Train Char Acc: 0.9718\n",
      "  Val Loss: 0.8477   | Val Acc (CRR): 0.9483\n",
      "  Val Exact Match Acc (E2E RR): 0.7427\n",
      "  Inference time avg: 13.8368\n",
      "  FPS: 72.2710\n",
      "----------------------------------------------------------------------\n",
      "*** New best validation accuracy: 0.9483. Saving best_model.pth ***\n"
     ]
    },
    {
     "name": "stderr",
     "output_type": "stream",
     "text": [
      "Epoch 22/27 [TRAIN] LR: 8.93e-05 Teach: 0.18 Scheduler: OneCycleLR:   0%|          | 1/978 [00:05<1:35:55,  5.89s/it, loss=0.781]"
     ]
    },
    {
     "name": "stdout",
     "output_type": "stream",
     "text": [
      "\n",
      "--- Training Batch 0 Examples (Content Only) ---\n",
      "  Pred: '36A13236'\n",
      "  True: '36A13236'\n",
      "  Pred: '36C16896'\n",
      "  True: '36C16896'\n",
      "  Pred: '37C02996'\n",
      "  True: '37C02996'\n",
      "  Pred: '30H1850'\n",
      "  True: '30H1850'\n",
      "  Pred: '36A27652'\n",
      "  True: '36A27652'\n",
      "-------------------------------\n"
     ]
    },
    {
     "name": "stderr",
     "output_type": "stream",
     "text": [
      "Epoch 22/27 [TRAIN] LR: 8.93e-05 Teach: 0.18 Scheduler: OneCycleLR: 100%|██████████| 978/978 [22:49<00:00,  1.40s/it, loss=0.801]\n",
      "Epoch 22/27 [VAL]: 100%|██████████| 113/113 [03:00<00:00,  1.60s/it, loss=0.798]\n"
     ]
    },
    {
     "name": "stdout",
     "output_type": "stream",
     "text": [
      "EarlyStopping counter: 1/7 (Best val_acc: 0.9483)\n",
      "\n",
      "Epoch 22/27 | LR: 6.32e-05 | Teach: 0.18 | Scheduler: OneCycleLR\n",
      "  Train Loss: 0.7793 | Train Char Acc: 0.9711\n",
      "  Val Loss: 0.8462   | Val Acc (CRR): 0.9483\n",
      "  Val Exact Match Acc (E2E RR): 0.7452\n",
      "  Inference time avg: 13.8439\n",
      "  FPS: 72.2338\n",
      "----------------------------------------------------------------------\n"
     ]
    },
    {
     "name": "stderr",
     "output_type": "stream",
     "text": [
      "Epoch 23/27 [TRAIN] LR: 6.32e-05 Teach: 0.15 Scheduler: OneCycleLR:   0%|          | 1/978 [00:06<1:38:16,  6.04s/it, loss=0.782]"
     ]
    },
    {
     "name": "stdout",
     "output_type": "stream",
     "text": [
      "\n",
      "--- Training Batch 0 Examples (Content Only) ---\n",
      "  Pred: '36A41631'\n",
      "  True: '36A41631'\n",
      "  Pred: '36A37068'\n",
      "  True: '36A37068'\n",
      "  Pred: '30N49253'\n",
      "  True: '30N49253'\n",
      "  Pred: '36N5588'\n",
      "  True: '36N5588'\n",
      "  Pred: '36C28510'\n",
      "  True: '36C28510'\n",
      "-------------------------------\n"
     ]
    },
    {
     "name": "stderr",
     "output_type": "stream",
     "text": [
      "Epoch 23/27 [TRAIN] LR: 6.32e-05 Teach: 0.15 Scheduler: OneCycleLR: 100%|██████████| 978/978 [22:47<00:00,  1.40s/it, loss=0.725]\n",
      "Epoch 23/27 [VAL]: 100%|██████████| 113/113 [02:59<00:00,  1.59s/it, loss=0.797]\n",
      "/usr/local/lib/python3.11/dist-packages/torch/optim/lr_scheduler.py:62: UserWarning: The verbose parameter is deprecated. Please use get_last_lr() to access the learning rate.\n",
      "  warnings.warn(\n"
     ]
    },
    {
     "name": "stdout",
     "output_type": "stream",
     "text": [
      "EarlyStopping counter: 2/7 (Best val_acc: 0.9483)\n",
      "Val Acc stalled for 7 epochs. Switching to ReduceLROnPlateau.\n",
      "\n",
      "Epoch 23/27 | LR: 4.11e-05 | Teach: 0.15 | Scheduler: ReduceLROnPlateau\n",
      "  Train Loss: 0.7769 | Train Char Acc: 0.9719\n",
      "  Val Loss: 0.8441   | Val Acc (CRR): 0.9486\n",
      "  Val Exact Match Acc (E2E RR): 0.7466\n",
      "  Inference time avg: 13.8326\n",
      "  FPS: 72.2928\n",
      "----------------------------------------------------------------------\n",
      "*** New best validation accuracy: 0.9486. Saving best_model.pth ***\n"
     ]
    },
    {
     "name": "stderr",
     "output_type": "stream",
     "text": [
      "Epoch 24/27 [TRAIN] LR: 4.11e-05 Teach: 0.13 Scheduler: ReduceLROnPlateau:   0%|          | 1/978 [00:05<1:35:59,  5.89s/it, loss=0.75]"
     ]
    },
    {
     "name": "stdout",
     "output_type": "stream",
     "text": [
      "\n",
      "--- Training Batch 0 Examples (Content Only) ---\n",
      "  Pred: '29X2534'\n",
      "  True: '29X2534'\n",
      "  Pred: '29K139313'\n",
      "  True: '29K139313'\n",
      "  Pred: '90B200563'\n",
      "  True: '90B200563'\n",
      "  Pred: '36C17102'\n",
      "  True: '36C17102'\n",
      "  Pred: '36A39034'\n",
      "  True: '36A39034'\n",
      "-------------------------------\n"
     ]
    },
    {
     "name": "stderr",
     "output_type": "stream",
     "text": [
      "Epoch 24/27 [TRAIN] LR: 4.11e-05 Teach: 0.13 Scheduler: ReduceLROnPlateau: 100%|██████████| 978/978 [22:48<00:00,  1.40s/it, loss=0.871]\n",
      "Epoch 24/27 [VAL]: 100%|██████████| 113/113 [03:01<00:00,  1.60s/it, loss=0.798]\n"
     ]
    },
    {
     "name": "stdout",
     "output_type": "stream",
     "text": [
      "EarlyStopping counter: 3/7 (Best val_acc: 0.9483)\n",
      "\n",
      "Epoch 24/27 | LR: 4.11e-05 | Teach: 0.13 | Scheduler: ReduceLROnPlateau\n",
      "  Train Loss: 0.7778 | Train Char Acc: 0.9718\n",
      "  Val Loss: 0.8440   | Val Acc (CRR): 0.9485\n",
      "  Val Exact Match Acc (E2E RR): 0.7472\n",
      "  Inference time avg: 13.8148\n",
      "  FPS: 72.3864\n",
      "----------------------------------------------------------------------\n"
     ]
    },
    {
     "name": "stderr",
     "output_type": "stream",
     "text": [
      "Epoch 25/27 [TRAIN] LR: 4.11e-05 Teach: 0.10 Scheduler: ReduceLROnPlateau:   0%|          | 1/978 [00:06<1:39:46,  6.13s/it, loss=0.821]"
     ]
    },
    {
     "name": "stdout",
     "output_type": "stream",
     "text": [
      "\n",
      "--- Training Batch 0 Examples (Content Only) ---\n",
      "  Pred: '36A36666'\n",
      "  True: '36A36666'\n",
      "  Pred: '36B02405'\n",
      "  True: '36B02405'\n",
      "  Pred: '36M3388'\n",
      "  True: '36M9308'\n",
      "  Pred: '29G167318'\n",
      "  True: '29G167318'\n",
      "  Pred: '36A43185'\n",
      "  True: '36A43185'\n",
      "-------------------------------\n"
     ]
    },
    {
     "name": "stderr",
     "output_type": "stream",
     "text": [
      "Epoch 25/27 [TRAIN] LR: 4.11e-05 Teach: 0.10 Scheduler: ReduceLROnPlateau: 100%|██████████| 978/978 [22:46<00:00,  1.40s/it, loss=0.846]\n",
      "Epoch 25/27 [VAL]: 100%|██████████| 113/113 [03:00<00:00,  1.60s/it, loss=0.796]\n"
     ]
    },
    {
     "name": "stdout",
     "output_type": "stream",
     "text": [
      "EarlyStopping: New best val_acc: 0.9499\n",
      "\n",
      "Epoch 25/27 | LR: 4.11e-05 | Teach: 0.10 | Scheduler: ReduceLROnPlateau\n",
      "  Train Loss: 0.7776 | Train Char Acc: 0.9723\n",
      "  Val Loss: 0.8435   | Val Acc (CRR): 0.9499\n",
      "  Val Exact Match Acc (E2E RR): 0.7494\n",
      "  Inference time avg: 13.8192\n",
      "  FPS: 72.3631\n",
      "----------------------------------------------------------------------\n",
      "*** New best validation accuracy: 0.9499. Saving best_model.pth ***\n"
     ]
    },
    {
     "name": "stderr",
     "output_type": "stream",
     "text": [
      "Epoch 26/27 [TRAIN] LR: 4.11e-05 Teach: 0.08 Scheduler: ReduceLROnPlateau:   0%|          | 1/978 [00:06<1:49:36,  6.73s/it, loss=0.751]"
     ]
    },
    {
     "name": "stdout",
     "output_type": "stream",
     "text": [
      "\n",
      "--- Training Batch 0 Examples (Content Only) ---\n",
      "  Pred: '36C28530'\n",
      "  True: '36C28530'\n",
      "  Pred: '36A43726'\n",
      "  True: '36A43726'\n",
      "  Pred: '36C29022'\n",
      "  True: '36C29022'\n",
      "  Pred: '36M7880'\n",
      "  True: '36M7880'\n",
      "  Pred: '36A24547'\n",
      "  True: '36A24547'\n",
      "-------------------------------\n"
     ]
    },
    {
     "name": "stderr",
     "output_type": "stream",
     "text": [
      "Epoch 26/27 [TRAIN] LR: 4.11e-05 Teach: 0.08 Scheduler: ReduceLROnPlateau: 100%|██████████| 978/978 [22:49<00:00,  1.40s/it, loss=0.794]\n",
      "Epoch 26/27 [VAL]: 100%|██████████| 113/113 [03:00<00:00,  1.60s/it, loss=0.793]\n"
     ]
    },
    {
     "name": "stdout",
     "output_type": "stream",
     "text": [
      "EarlyStopping counter: 1/7 (Best val_acc: 0.9499)\n",
      "\n",
      "Epoch 26/27 | LR: 4.11e-05 | Teach: 0.08 | Scheduler: ReduceLROnPlateau\n",
      "  Train Loss: 0.7778 | Train Char Acc: 0.9724\n",
      "  Val Loss: 0.8424   | Val Acc (CRR): 0.9499\n",
      "  Val Exact Match Acc (E2E RR): 0.7502\n",
      "  Inference time avg: 13.8377\n",
      "  FPS: 72.2664\n",
      "----------------------------------------------------------------------\n"
     ]
    },
    {
     "name": "stderr",
     "output_type": "stream",
     "text": [
      "Epoch 27/27 [TRAIN] LR: 4.11e-05 Teach: 0.05 Scheduler: ReduceLROnPlateau:   0%|          | 1/978 [00:06<1:41:08,  6.21s/it, loss=0.752]"
     ]
    },
    {
     "name": "stdout",
     "output_type": "stream",
     "text": [
      "\n",
      "--- Training Batch 0 Examples (Content Only) ---\n",
      "  Pred: '36C07350'\n",
      "  True: '36C07350'\n",
      "  Pred: '13C05510'\n",
      "  True: '73C05510'\n",
      "  Pred: '36C17726'\n",
      "  True: '36C17726'\n",
      "  Pred: '36C05529'\n",
      "  True: '36C05529'\n",
      "  Pred: '36B02549'\n",
      "  True: '36B02549'\n",
      "-------------------------------\n"
     ]
    },
    {
     "name": "stderr",
     "output_type": "stream",
     "text": [
      "Epoch 27/27 [TRAIN] LR: 4.11e-05 Teach: 0.05 Scheduler: ReduceLROnPlateau: 100%|██████████| 978/978 [22:47<00:00,  1.40s/it, loss=0.782]\n",
      "Epoch 27/27 [VAL]: 100%|██████████| 113/113 [02:58<00:00,  1.58s/it, loss=0.793]\n"
     ]
    },
    {
     "name": "stdout",
     "output_type": "stream",
     "text": [
      "EarlyStopping counter: 2/7 (Best val_acc: 0.9499)\n",
      "\n",
      "Epoch 27/27 | LR: 4.11e-05 | Teach: 0.05 | Scheduler: ReduceLROnPlateau\n",
      "  Train Loss: 0.7777 | Train Char Acc: 0.9720\n",
      "  Val Loss: 0.8410   | Val Acc (CRR): 0.9501\n",
      "  Val Exact Match Acc (E2E RR): 0.7510\n",
      "  Inference time avg: 13.8105\n",
      "  FPS: 72.4086\n",
      "----------------------------------------------------------------------\n",
      "*** New best validation accuracy: 0.9501. Saving best_model.pth ***\n",
      "\n",
      "Training completed!\n",
      "Final val accuracy (Greedy Character Level): 0.9501\n",
      "Final val accuracy (Constrained Length Exact Match): 0.7510\n"
     ]
    },
    {
     "data": {
      "image/png": "[encoded data removed]",
      "text/plain": [
       "<Figure size 1800x1200 with 2 Axes>"
      ]
     },
     "metadata": {},
     "output_type": "display_data"
    },
    {
     "name": "stdout",
     "output_type": "stream",
     "text": [
      "Saved plots to performance_plots.png\n"
     ]
    }
   ],
   "source": [
    "import torch\n",
    "import torch.nn as nn\n",
    "from ultralytics import YOLO\n",
    "from torch.nn import MultiheadAttention\n",
    "from torchvision import transforms\n",
    "from PIL import Image\n",
    "import random\n",
    "import os\n",
    "from torch.utils.data import Dataset, DataLoader, Sampler, Subset, SubsetRandomSampler\n",
    "import numpy as np\n",
    "from tqdm import tqdm\n",
    "import matplotlib.pyplot as plt\n",
    "from torchtoolbox.tools import mixup_data, mixup_criterion\n",
    "\n",
    "#--- Constants ---\n",
    "CHARACTERS = '0123456789ABCDEFGHIJKLMNOPQRSTUVWXYZ'\n",
    "SOS_TOKEN = 36\n",
    "EOS_TOKEN = 37\n",
    "PAD_TOKEN = len(CHARACTERS) + 2\n",
    "NUM_CLASSES = len(CHARACTERS) + 3  # SOS, EOS, PAD\n",
    "DEVICE = 'cuda' if torch.cuda.is_available() else 'cpu'\n",
    "\n",
    "#--- Utility functions ---\n",
    "def index_to_char(indices, include_special_tokens=False):\n",
    "    result = []\n",
    "    for i in indices:\n",
    "        i = i.item() if torch.is_tensor(i) else i\n",
    "        if i == SOS_TOKEN:\n",
    "            if include_special_tokens: result.append('[SOS]')\n",
    "        elif i == EOS_TOKEN:\n",
    "            if include_special_tokens: result.append('[EOS]')\n",
    "            break\n",
    "        elif 0 <= i < len(CHARACTERS):\n",
    "            result.append(CHARACTERS[i])\n",
    "        else:\n",
    "            if include_special_tokens or i not in [SOS_TOKEN, EOS_TOKEN]:\n",
    "                result.append(f'[UNK_{i}]')\n",
    "    return ''.join(result)\n",
    "\n",
    "def char_to_indices(text):\n",
    "    indices = [SOS_TOKEN]\n",
    "    for c in text:\n",
    "        if c in CHARACTERS:\n",
    "            indices.append(CHARACTERS.index(c))\n",
    "        else:\n",
    "            indices.append(0)\n",
    "    indices.append(EOS_TOKEN)\n",
    "    return torch.tensor(indices, dtype=torch.long)\n",
    "\n",
    "#--- YOLO wrapper ---\n",
    "class YoloBackbone(nn.Module):\n",
    "    def __init__(self, model_path, target_feature_layer_index=9):\n",
    "        super().__init__()\n",
    "        _temp_yolo_instance = YOLO(model_path)\n",
    "        self.yolo_detection_model = _temp_yolo_instance.model\n",
    "        self.yolo_detection_model.to(DEVICE)\n",
    "        self.target_feature_layer_index = target_feature_layer_index\n",
    "\n",
    "        for name, param in self.yolo_detection_model.named_parameters():\n",
    "            param.requires_grad = True\n",
    "        \n",
    "        self._hook_handle = None\n",
    "        self._fmap_out_hook = []\n",
    "        \n",
    "        self._register_hook()\n",
    "\n",
    "    def _hook_fn_extractor(self, module, input_val, output_val):\n",
    "        if isinstance(output_val, torch.Tensor):\n",
    "            self._fmap_out_hook.append(output_val)\n",
    "        elif isinstance(output_val, (list, tuple)):\n",
    "            for item in output_val:\n",
    "                if isinstance(item, torch.Tensor):\n",
    "                    self._fmap_out_hook.append(item)\n",
    "                    break\n",
    "\n",
    "    def _register_hook(self):\n",
    "        layer_to_hook = self.yolo_detection_model.model[self.target_feature_layer_index]\n",
    "        self._hook_handle = layer_to_hook.register_forward_hook(self._hook_fn_extractor)\n",
    "\n",
    "    def _remove_hook(self):\n",
    "        if self._hook_handle:\n",
    "            self._hook_handle.remove()\n",
    "            self._hook_handle = None\n",
    "\n",
    "    def forward(self, x):\n",
    "        self._fmap_out_hook.clear()\n",
    "        _ = self.yolo_detection_model(x)\n",
    "        out_tensor = self._fmap_out_hook[0]\n",
    "        return out_tensor if out_tensor.dim() == 4 else out_tensor.unsqueeze(0)\n",
    "\n",
    "#--- Simplified RViT ---\n",
    "class RViT(nn.Module):\n",
    "    def __init__(self, yolo_channels=256, d_model=512, num_patches=1600, n_heads=8, num_encoder_layers=3, dim_feedforward=2048, dropout_rate=0.3):\n",
    "        super().__init__()\n",
    "        self.d_model = d_model\n",
    "        self.proj = nn.Sequential(\n",
    "            nn.Conv2d(yolo_channels, d_model, kernel_size=3, padding=1),\n",
    "            nn.BatchNorm2d(d_model),\n",
    "            nn.ReLU(),\n",
    "            nn.Dropout2d(dropout_rate if dropout_rate > 0 else 0)\n",
    "        )\n",
    "        encoder_layer = nn.TransformerEncoderLayer(\n",
    "            d_model=d_model, nhead=n_heads, dim_feedforward=dim_feedforward,\n",
    "            dropout=dropout_rate, batch_first=True, norm_first=True\n",
    "        )\n",
    "        self.encoder = nn.TransformerEncoder(encoder_layer, num_layers=num_encoder_layers)\n",
    "\n",
    "        self.pos_embed = nn.Parameter(torch.randn(1, num_patches + 1, d_model))\n",
    "        self.region_q = nn.Parameter(torch.zeros(1, 1, d_model))\n",
    "        \n",
    "        self.embed = nn.Embedding(NUM_CLASSES, d_model)\n",
    "        self.gru_num_layers = 1\n",
    "        self.gru = nn.GRU(d_model, d_model, num_layers=self.gru_num_layers, batch_first=True,\n",
    "                          dropout=dropout_rate if self.gru_num_layers > 1 else 0)\n",
    "        self.attn = MultiheadAttention(d_model, num_heads=n_heads, batch_first=True, dropout=dropout_rate)\n",
    "        self.fc = nn.Sequential(\n",
    "            nn.Dropout(dropout_rate if dropout_rate > 0 else 0),\n",
    "            nn.Linear(2 * d_model, NUM_CLASSES)\n",
    "        )\n",
    "\n",
    "    def forward(self, fmap, target=None, teach_ratio=0.5, forced_output_length=None):\n",
    "        b = fmap.size(0)\n",
    "        x = self.proj(fmap)\n",
    "        x = x.flatten(2).permute(0, 2, 1)\n",
    "\n",
    "        current_num_patches = x.size(1)\n",
    "        expected_pos_embed_len = current_num_patches + 1\n",
    "        \n",
    "        if self.pos_embed.size(1) != expected_pos_embed_len:\n",
    "            if self.pos_embed.size(1) > expected_pos_embed_len:\n",
    "                pos_embed_to_add = self.pos_embed[:, :expected_pos_embed_len, :]\n",
    "            else:\n",
    "                raise ValueError(f\"RViT pos_embed second dim {self.pos_embed.size(1)} is smaller than required {expected_pos_embed_len}\")\n",
    "        else:\n",
    "            pos_embed_to_add = self.pos_embed\n",
    "\n",
    "        q = self.region_q.expand(b, -1, -1)\n",
    "        x = torch.cat([q, x], dim=1)\n",
    "        x = x + pos_embed_to_add\n",
    "\n",
    "        enc = self.encoder(x)\n",
    "        region_feat, spatial_feats = enc[:, 0], enc[:, 1:]\n",
    "        \n",
    "        if forced_output_length is not None:\n",
    "            max_gen_len = forced_output_length\n",
    "        elif target is not None:\n",
    "            max_gen_len = target.size(1) - 1\n",
    "        else:\n",
    "            max_gen_len = MAX_SEQ_LENGTH - 1\n",
    "\n",
    "        h = region_feat.unsqueeze(0).contiguous()\n",
    "        current_input_tokens = torch.full((b,), SOS_TOKEN, device=DEVICE, dtype=torch.long)\n",
    "        outputs_logits = []\n",
    "\n",
    "        finished_sequences_tracker = None\n",
    "        if target is None and forced_output_length is None:\n",
    "            finished_sequences_tracker = torch.zeros(b, dtype=torch.bool, device=DEVICE)\n",
    "            \n",
    "        for t in range(max_gen_len):\n",
    "            emb = self.embed(current_input_tokens).unsqueeze(1)\n",
    "            g, h = self.gru(emb, h)\n",
    "            a, _ = self.attn(g, spatial_feats, spatial_feats)\n",
    "            comb = torch.cat([g.squeeze(1), a.squeeze(1)], dim=-1)\n",
    "            logits_step = self.fc(comb)\n",
    "            outputs_logits.append(logits_step)\n",
    "\n",
    "            if target is not None and random.random() < teach_ratio:\n",
    "                next_input_candidate = target[:, t + 1]\n",
    "            else:\n",
    "                next_input_candidate = logits_step.argmax(-1)\n",
    "\n",
    "            if finished_sequences_tracker is not None:\n",
    "                eos_predicted_this_step = (next_input_candidate == EOS_TOKEN)\n",
    "                finished_sequences_tracker |= eos_predicted_this_step\n",
    "                current_input_tokens = torch.where(finished_sequences_tracker,\n",
    "                                                 torch.tensor(EOS_TOKEN, device=DEVICE, dtype=torch.long),\n",
    "                                                 next_input_candidate)\n",
    "                if finished_sequences_tracker.all():\n",
    "                    break\n",
    "            else:\n",
    "                current_input_tokens = next_input_candidate\n",
    "        \n",
    "        return torch.stack(outputs_logits, dim=1)\n",
    "\n",
    "#--- Full model (YOLO_RViT) ---\n",
    "class YOLO_RViT(nn.Module):\n",
    "    def __init__(self, yolo_path, yolo_target_feature_layer_idx=9):\n",
    "        super().__init__()\n",
    "        self.backbone = YoloBackbone(yolo_path, target_feature_layer_index=yolo_target_feature_layer_idx)\n",
    "        dummy_input = torch.randn(1, 3, 640, 640).to(DEVICE)\n",
    "        \n",
    "        original_backbone_training_mode = self.backbone.training\n",
    "        with torch.no_grad():\n",
    "            dummy_feats = self.backbone(dummy_input)\n",
    "        \n",
    "        yolo_channels = dummy_feats.shape[1]\n",
    "        h_feat, w_feat = dummy_feats.shape[2], dummy_feats.shape[3]\n",
    "        num_patches = h_feat * w_feat\n",
    "        \n",
    "        self.rvit = RViT(yolo_channels=yolo_channels, num_patches=num_patches).to(DEVICE)\n",
    "\n",
    "    def forward(self, x, target=None, teach_ratio=0.5, forced_output_length=None):\n",
    "        x = x.to(DEVICE)\n",
    "        feats = self.backbone(x)\n",
    "        return self.rvit(feats, target, teach_ratio, forced_output_length)\n",
    "\n",
    "    def train(self, mode: bool = True):\n",
    "        super().train(mode)\n",
    "        self.rvit.train(mode)\n",
    "        self.backbone.train(mode)\n",
    "        return self\n",
    "\n",
    "    def eval(self):\n",
    "        super().eval()\n",
    "        self.rvit.eval()\n",
    "        self.backbone.eval()\n",
    "        return self\n",
    "\n",
    "#--- Dataset ---\n",
    "class LicensePlateDataset(Dataset):\n",
    "    def __init__(self, img_dir, license_dir, max_seq_length=15, is_train=True):\n",
    "        self.img_dir = img_dir\n",
    "        self.license_dir = license_dir\n",
    "        self.max_seq_length = max_seq_length\n",
    "        self.img_names = [f for f in os.listdir(self.img_dir) if f.endswith(('.jpg'))]\n",
    "        if is_train:\n",
    "            self.transform = transforms.Compose([\n",
    "                transforms.Resize((640, 640)),\n",
    "                transforms.RandomApply([\n",
    "                    transforms.RandomRotation(10),\n",
    "                    transforms.RandomAffine(degrees=8, translate=(0.03, 0.03), scale=(0.95, 1.05)),\n",
    "                    transforms.RandomPerspective(distortion_scale=0.05, p=0.3),\n",
    "                ], p=0.7),\n",
    "                transforms.ColorJitter(brightness=0.2, contrast=0.2, saturation=0.2, hue=0.05),\n",
    "                transforms.RandomApply([transforms.GaussianBlur(kernel_size=3, sigma=(0.1, 1.0))], p=0.25),\n",
    "                transforms.ToTensor(),\n",
    "                transforms.RandomErasing(p=0.2, scale=(0.01, 0.04), ratio=(0.3, 3.3)),\n",
    "                transforms.Normalize(mean=[0.485, 0.456, 0.406], std=[0.229, 0.224, 0.225])\n",
    "            ])\n",
    "        else:\n",
    "            self.transform = transforms.Compose([\n",
    "                transforms.Resize((640, 640)),\n",
    "                transforms.ToTensor(),\n",
    "                transforms.Normalize(mean=[0.485, 0.456, 0.406], std=[0.229, 0.224, 0.225])\n",
    "            ])\n",
    "            \n",
    "    def __len__(self):\n",
    "        return len(self.img_names)\n",
    "\n",
    "    def __getitem__(self, idx):\n",
    "        img_path = os.path.join(self.img_dir, self.img_names[idx])\n",
    "        img = Image.open(img_path).convert(\"RGB\")\n",
    "        img_tensor = self.transform(img)\n",
    "        \n",
    "        license_filename = os.path.splitext(self.img_names[idx])[0] + \".txt\"\n",
    "        license_path = os.path.join(self.license_dir, license_filename)\n",
    "        try:\n",
    "            with open(license_path, 'r', encoding='utf-8') as f:\n",
    "                license_text = f.read().upper().strip()\n",
    "        except FileNotFoundError:\n",
    "            return img_tensor, torch.full((self.max_seq_length,), EOS_TOKEN, dtype=torch.long)\n",
    "        \n",
    "        license_indices = char_to_indices(license_text)\n",
    "        target = torch.full((self.max_seq_length,), PAD_TOKEN, dtype=torch.long)\n",
    "        \n",
    "        actual_len = min(len(license_indices), self.max_seq_length)\n",
    "        target[:actual_len] = license_indices[:actual_len]\n",
    "        \n",
    "        return img_tensor, target\n",
    "\n",
    "    @staticmethod\n",
    "    def collate_fn(batch):\n",
    "        images = torch.stack([item[0] for item in batch])\n",
    "        targets = torch.stack([item[1] for item in batch])\n",
    "        return images, targets\n",
    "\n",
    "#--- Early Stopping ---\n",
    "class EarlyStopping:\n",
    "    def __init__(self, patience=10, min_delta=0.0, monitor_metric='val_acc', mode='max', verbose=True):\n",
    "        self.patience = patience\n",
    "        self.min_delta = min_delta\n",
    "        self.monitor_metric = monitor_metric\n",
    "        self.mode = mode\n",
    "        self.verbose = verbose\n",
    "\n",
    "        if self.mode == 'min':\n",
    "            self.best_metric_val = np.Inf\n",
    "        else:\n",
    "            self.best_metric_val = -np.Inf\n",
    "        self.counter = 0\n",
    "        self.early_stop = False\n",
    "\n",
    "    def __call__(self, current_metric_val):\n",
    "        improved = False\n",
    "        if self.mode == 'min':\n",
    "            if current_metric_val < self.best_metric_val - self.min_delta:\n",
    "                self.best_metric_val = current_metric_val\n",
    "                improved = True\n",
    "        else:\n",
    "            if current_metric_val > self.best_metric_val + self.min_delta:\n",
    "                self.best_metric_val = current_metric_val\n",
    "                improved = True\n",
    "        \n",
    "        if improved:\n",
    "            self.counter = 0\n",
    "            if self.verbose:\n",
    "                print(f\"EarlyStopping: New best {self.monitor_metric}: {self.best_metric_val:.4f}\")\n",
    "        else:\n",
    "            self.counter += 1\n",
    "\n",
    "        if self.verbose and self.counter > 0 and not improved:\n",
    "            print(f\"EarlyStopping counter: {self.counter}/{self.patience} (Best {self.monitor_metric}: {self.best_metric_val:.4f})\")\n",
    "        if self.counter >= self.patience:\n",
    "            self.early_stop = True\n",
    "            if self.verbose:\n",
    "                print(f\"Early stopping triggered for {self.monitor_metric}.\")\n",
    "        return self.counter\n",
    "\n",
    "#--- Training ---\n",
    "YOLO_MODEL_PATH = '/kaggle/input/m/nguynthanhthit/yolov11s/pytorch/default/1/best.pt'\n",
    "YOLO_TARGET_FEATURE_LAYER_INDEX = 13\n",
    "\n",
    "IMG_DIR_TRAIN = \"/kaggle/input/dataset-lpr-test/License_plate_data2/images/train\"\n",
    "LICENSE_DIR_TRAIN = \"/kaggle/input/dataset-lpr-test/License_plate_data2/text/train\"\n",
    "IMG_DIR_VAL = \"/kaggle/input/dataset-lpr-test/License_plate_data2/images/val\"\n",
    "LICENSE_DIR_VAL = \"/kaggle/input/dataset-lpr-test/License_plate_data2/text/val\"\n",
    "IMG_DIR_TEST = \"/kaggle/input/dataset-lpr-test/License_plate_data2/images/test\"\n",
    "LICENSE_DIR_TEST = \"/kaggle/input/dataset-lpr-test/License_plate_data2/text/test\"\n",
    "\n",
    "MAX_SEQ_LENGTH = 15\n",
    "BATCH_SIZE = 32\n",
    "NUM_WORKERS = 4\n",
    "LEARNING_RATE = 5e-5\n",
    "MAX_LR_SCHEDULER = 5e-4\n",
    "WEIGHT_DECAY = 5e-5\n",
    "NUM_EPOCHS = 27\n",
    "ACCUM_STEPS = 2\n",
    "PATIENCE_EARLY_STOP = 7\n",
    "TEACH_RATIO_START = 0.7\n",
    "TEACH_RATIO_END = 0.05\n",
    "LABEL_SMOOTHING = 0.1\n",
    "\n",
    "scaler = torch.amp.GradScaler(DEVICE)\n",
    "autocast_context = lambda: torch.amp.autocast(DEVICE)\n",
    "\n",
    "train_dataset_full = LicensePlateDataset(img_dir=IMG_DIR_TRAIN, license_dir=LICENSE_DIR_TRAIN, max_seq_length=MAX_SEQ_LENGTH, is_train=True)\n",
    "val_dataset = LicensePlateDataset(img_dir=IMG_DIR_VAL, license_dir=LICENSE_DIR_VAL, max_seq_length=MAX_SEQ_LENGTH, is_train=False)\n",
    "\n",
    "train_dataloader = DataLoader(train_dataset_full, batch_size=BATCH_SIZE, shuffle=True, num_workers=NUM_WORKERS, collate_fn=LicensePlateDataset.collate_fn, pin_memory=(DEVICE == 'cuda'), drop_last=True)\n",
    "val_dataloader = DataLoader(val_dataset, batch_size=BATCH_SIZE, shuffle=False, num_workers=NUM_WORKERS, collate_fn=LicensePlateDataset.collate_fn, pin_memory=(DEVICE == 'cuda'))\n",
    "\n",
    "model = YOLO_RViT(YOLO_MODEL_PATH, yolo_target_feature_layer_idx=YOLO_TARGET_FEATURE_LAYER_INDEX).to(DEVICE)\n",
    "\n",
    "optimizer = torch.optim.AdamW(\n",
    "    model.parameters(),\n",
    "    lr=LEARNING_RATE,\n",
    "    weight_decay=WEIGHT_DECAY\n",
    ")\n",
    "\n",
    "scheduler = torch.optim.lr_scheduler.OneCycleLR(\n",
    "    optimizer, max_lr=MAX_LR_SCHEDULER,\n",
    "    epochs=NUM_EPOCHS,\n",
    "    steps_per_epoch=(len(train_dataloader) + ACCUM_STEPS - 1) // ACCUM_STEPS,\n",
    "    pct_start=0.2,\n",
    "    div_factor=(MAX_LR_SCHEDULER / LEARNING_RATE) if MAX_LR_SCHEDULER > LEARNING_RATE else 10.0\n",
    ")\n",
    "scheduler_type = \"OneCycleLR\"\n",
    "\n",
    "loss_fn = nn.CrossEntropyLoss(ignore_index=PAD_TOKEN, label_smoothing=LABEL_SMOOTHING)\n",
    "early_stopper = EarlyStopping(patience=PATIENCE_EARLY_STOP, min_delta=0.0005, monitor_metric='val_acc', mode='max', verbose=True)\n",
    "\n",
    "train_loss_values, val_loss_values = [], []\n",
    "train_acc_values, val_acc_values, val_acc_constrained_values = [], [], []\n",
    "epoch_count_list = []\n",
    "best_val_acc = 0.0\n",
    "\n",
    "for epoch in range(NUM_EPOCHS):\n",
    "    epoch_count_list.append(epoch + 1)\n",
    "    model.train()\n",
    "    train_loss, train_correct, train_total_chars = 0, 0, 0\n",
    "\n",
    "    teach_ratio = TEACH_RATIO_START - (TEACH_RATIO_START - TEACH_RATIO_END) * (epoch / max(1, NUM_EPOCHS - 1))\n",
    "\n",
    "    optimizer.zero_grad()\n",
    "\n",
    "    pbar_train = tqdm(train_dataloader, desc=f\"Epoch {epoch+1}/{NUM_EPOCHS} [TRAIN] LR: {optimizer.param_groups[0]['lr']:.2e} Teach: {teach_ratio:.2f} Scheduler: {scheduler_type}\")\n",
    "    for batch_idx, (imgs, targets) in enumerate(pbar_train):\n",
    "        imgs, targets = imgs.to(DEVICE, non_blocking=True), targets.to(DEVICE, non_blocking=True)\n",
    "        \n",
    "        with autocast_context():\n",
    "            outputs = model(imgs, target=targets, teach_ratio=teach_ratio)\n",
    "            flat_outputs = outputs.reshape(-1, NUM_CLASSES)\n",
    "            flat_targets = targets[:, 1:].reshape(-1)\n",
    "            loss = loss_fn(flat_outputs, flat_targets)\n",
    "            loss = loss / ACCUM_STEPS\n",
    "            \n",
    "        scaler.scale(loss).backward()\n",
    "        \n",
    "        if (batch_idx + 1) % ACCUM_STEPS == 0 or (batch_idx + 1) == len(train_dataloader):\n",
    "            torch.nn.utils.clip_grad_norm_(filter(lambda p: p.requires_grad, model.parameters()), max_norm=1.0)\n",
    "            scaler.step(optimizer)\n",
    "            scaler.update()\n",
    "            optimizer.zero_grad()\n",
    "            if scheduler_type == \"OneCycleLR\":\n",
    "                scheduler.step()\n",
    "\n",
    "        train_loss += loss.item() * ACCUM_STEPS\n",
    "        with torch.no_grad():\n",
    "            preds = outputs.argmax(-1)\n",
    "            true_chars = targets[:, 1:]\n",
    "            for i in range(imgs.size(0)):\n",
    "                pred_seq_list_train = preds[i].tolist()\n",
    "                if EOS_TOKEN in pred_seq_list_train:\n",
    "                    pred_seq_list_train = pred_seq_list_train[:pred_seq_list_train.index(EOS_TOKEN)]\n",
    "                \n",
    "                true_seq_list_train = true_chars[i].tolist()\n",
    "                true_content_train = [x for x in true_seq_list_train if x not in [EOS_TOKEN, PAD_TOKEN]]\n",
    "                len_true_content_train = len(true_content_train)\n",
    "                \n",
    "                cmp_len = min(len(pred_seq_list_train), len_true_content_train)\n",
    "                if cmp_len > 0:\n",
    "                    train_correct += (torch.tensor(pred_seq_list_train[:cmp_len]) == torch.tensor(true_content_train[:cmp_len])).sum().item()\n",
    "                \n",
    "                train_total_chars += len_true_content_train\n",
    "\n",
    "            if batch_idx == 0 and epoch % 1 == 0 and imgs.size(0) > 0:\n",
    "                print(\"\\n--- Training Batch 0 Examples (Content Only) ---\")\n",
    "                for i in range(min(5, imgs.size(0))):\n",
    "                    pred_batch_i_list = preds[i].tolist()\n",
    "                    pred_example = index_to_char(pred_batch_i_list)\n",
    "                    true_batch_i_list = true_chars[i].tolist()\n",
    "                    true_example = index_to_char(true_batch_i_list)\n",
    "                    print(f\"  Pred: '{pred_example}'\")\n",
    "                    print(f\"  True: '{true_example}'\")\n",
    "                print(\"-------------------------------\")\n",
    "        \n",
    "        pbar_train.set_postfix(loss=loss.item() * ACCUM_STEPS)\n",
    "\n",
    "    avg_train_loss = train_loss / len(train_dataloader) if len(train_dataloader) > 0 else 0\n",
    "    avg_train_acc = train_correct / train_total_chars if train_total_chars > 0 else 0\n",
    "    train_loss_values.append(avg_train_loss)\n",
    "    train_acc_values.append(avg_train_acc)\n",
    "\n",
    "    # --- Validation Loop ---\n",
    "    model.eval()\n",
    "    val_loss, val_correct, val_total_chars, val_correct_constrained, val_total_sequences_constrained = 0, 0, 0, 0, 0\n",
    "    total_inference_time = 0  # Biến để tính tổng thời gian suy luận\n",
    "    num_samples = 0  # Đếm số mẫu để tính FPS\n",
    "    pbar_val = tqdm(val_dataloader, desc=f\"Epoch {epoch+1}/{NUM_EPOCHS} [VAL]\")\n",
    "    with torch.no_grad():\n",
    "        for imgs, targets in pbar_val:\n",
    "            imgs, targets = imgs.to(DEVICE, non_blocking=True), targets.to(DEVICE, non_blocking=True)\n",
    "\n",
    "            batch_size = imgs.size(0)\n",
    "            num_samples += batch_size\n",
    "            # Đo thời gian suy luận\n",
    "            start_event = torch.cuda.Event(enable_timing=True)\n",
    "            end_event = torch.cuda.Event(enable_timing=True)\n",
    "            start_event.record()\n",
    "            \n",
    "            with autocast_context():\n",
    "                outputs = model(imgs, target=None, teach_ratio=0.0)\n",
    "                out_seq_len_val = outputs.size(1)\n",
    "                tgt_content_len_val = targets.size(1) - 1\n",
    "                if out_seq_len_val > tgt_content_len_val:\n",
    "                    outputs_for_loss_val = outputs[:, :tgt_content_len_val, :]\n",
    "                elif out_seq_len_val < tgt_content_len_val:\n",
    "                    padding_val_val = torch.zeros(outputs.size(0), tgt_content_len_val - out_seq_len_val, NUM_CLASSES, device=DEVICE)\n",
    "                    padding_val_val[:,:,PAD_TOKEN] = 1\n",
    "                    outputs_for_loss_val = torch.cat([outputs, padding_val_val], dim=1)\n",
    "                else:\n",
    "                    outputs_for_loss_val = outputs\n",
    "                flat_outputs_val = outputs_for_loss_val.reshape(-1, NUM_CLASSES)\n",
    "                flat_targets_val = targets[:, 1:].reshape(-1)\n",
    "                loss = loss_fn(flat_outputs_val, flat_targets_val)\n",
    "            \n",
    "            end_event.record()\n",
    "            torch.cuda.synchronize()\n",
    "            inference_time_ms = start_event.elapsed_time(end_event)\n",
    "            total_inference_time += inference_time_ms\n",
    "        \n",
    "            val_loss += loss.item()\n",
    "            preds_val = outputs_for_loss_val.argmax(-1)\n",
    "            true_chars_val = targets[:, 1:]\n",
    "            for i in range(imgs.size(0)):\n",
    "                pred_seq_val_list = preds_val[i].tolist()\n",
    "                if EOS_TOKEN in pred_seq_val_list:\n",
    "                    pred_seq_val_list = pred_seq_val_list[:pred_seq_val_list.index(EOS_TOKEN)]\n",
    "                \n",
    "                true_seq_val_list = true_chars_val[i].tolist()\n",
    "                true_content_val = [x for x in true_seq_val_list if x not in [EOS_TOKEN, PAD_TOKEN]]\n",
    "                len_true_content_val = len(true_content_val)\n",
    "\n",
    "                cmp_len_val = min(len(pred_seq_val_list), len_true_content_val)\n",
    "                if cmp_len_val > 0:\n",
    "                    val_correct += (torch.tensor(pred_seq_val_list[:cmp_len_val]) == torch.tensor(true_content_val[:cmp_len_val])).sum().item()\n",
    "                val_total_chars += len_true_content_val\n",
    "\n",
    "                if len_true_content_val > 0:\n",
    "                    with autocast_context():\n",
    "                        outputs_constrained_sample = model(imgs[i:i+1], target=None, teach_ratio=0.0, forced_output_length=len_true_content_val)\n",
    "                    preds_constrained_sample = outputs_constrained_sample.argmax(-1).squeeze(0).tolist()\n",
    "                    final_preds_constrained = []\n",
    "                    for tk_id in preds_constrained_sample:\n",
    "                        if tk_id == EOS_TOKEN:\n",
    "                            break\n",
    "                        final_preds_constrained.append(tk_id)\n",
    "                    if final_preds_constrained == true_content_val:\n",
    "                        val_correct_constrained += 1\n",
    "                val_total_sequences_constrained += 1\n",
    "            \n",
    "            pbar_val.set_postfix(loss=loss.item())\n",
    "\n",
    "    avg_val_loss = val_loss / len(val_dataloader) if len(val_dataloader) > 0 else 0\n",
    "    avg_val_acc = val_correct / val_total_chars if val_total_chars > 0 else 0\n",
    "    avg_val_acc_constrained = val_correct_constrained / val_total_sequences_constrained if val_total_sequences_constrained > 0 else 0\n",
    "\n",
    "    avg_inference_time = total_inference_time / num_samples if num_samples > 0 else 0  # ms/sample\n",
    "    fps = 1000 / avg_inference_time if avg_inference_time > 0 else 0  # FPS = 1000ms / (ms/sample)\n",
    "    \n",
    "    val_loss_values.append(avg_val_loss)\n",
    "    val_acc_values.append(avg_val_acc)\n",
    "    val_acc_constrained_values.append(avg_val_acc_constrained)\n",
    "    \n",
    "    # Chuyển sang ReduceLROnPlateau nếu val_acc chững lại\n",
    "    counter = early_stopper(avg_val_acc)\n",
    "    if counter >= 2 and scheduler_type == \"OneCycleLR\":\n",
    "        print(f\"Val Acc stalled for {PATIENCE_EARLY_STOP} epochs. Switching to ReduceLROnPlateau.\")\n",
    "        scheduler = torch.optim.lr_scheduler.ReduceLROnPlateau(optimizer, mode='max', factor=0.5, patience=2, verbose=True)\n",
    "        scheduler_type = \"ReduceLROnPlateau\"\n",
    "    \n",
    "    # Cập nhật scheduler\n",
    "    if scheduler_type == \"ReduceLROnPlateau\":\n",
    "        scheduler.step(avg_val_acc)\n",
    "\n",
    "    if early_stopper.early_stop:\n",
    "        print(f\"--> Early stopping at epoch {epoch+1}\")\n",
    "        break\n",
    "    \n",
    "    print(f\"\\nEpoch {epoch+1}/{NUM_EPOCHS} | LR: {optimizer.param_groups[0]['lr']:.2e} | Teach: {teach_ratio:.2f} | Scheduler: {scheduler_type}\")\n",
    "    print(f\"  Train Loss: {avg_train_loss:.4f} | Train Char Acc: {avg_train_acc:.4f}\")\n",
    "    print(f\"  Val Loss: {avg_val_loss:.4f}   | Val Acc (CRR): {avg_val_acc:.4f}\")\n",
    "    print(f\"  Val Exact Match Acc (E2E RR): {avg_val_acc_constrained:.4f}\")\n",
    "    print(f\"  Inference time avg: {avg_inference_time:.4f}\")\n",
    "    print(f\"  FPS: {fps:.4f}\")\n",
    "    print(\"-\" * 70)\n",
    "\n",
    "    checkpoint_path = f\"yolo_rvit_model_epoch_{epoch + 1}.pth\"\n",
    "    torch.save({\n",
    "        'epoch': epoch,\n",
    "        'model_state_dict': model.state_dict(),\n",
    "        'optimizer_state_dict': optimizer.state_dict(),\n",
    "        'scheduler_state_dict': scheduler.state_dict(),\n",
    "        'val_loss': avg_val_loss,\n",
    "        'val_acc': avg_val_acc,\n",
    "        'val_acc_constrained': avg_val_acc_constrained,\n",
    "        'avg_inference_time': avg_inference_time,\n",
    "        'fps': fps\n",
    "    }, checkpoint_path)\n",
    "\n",
    "    if avg_val_acc > best_val_acc:\n",
    "        best_val_acc = avg_val_acc\n",
    "        print(f\"*** New best validation accuracy: {best_val_acc:.4f}. Saving best_model.pth ***\")\n",
    "        torch.save({\n",
    "            'epoch': epoch,\n",
    "            'model_state_dict': model.state_dict(),\n",
    "            'optimizer_state_dict': optimizer.state_dict(),\n",
    "            'scheduler_state_dict': scheduler.state_dict(),\n",
    "            'val_loss': avg_val_loss,\n",
    "            'val_acc': avg_val_acc,\n",
    "            'val_acc_constrained': avg_val_acc_constrained,\n",
    "            'avg_inference_time': avg_inference_time,\n",
    "            'fps': fps\n",
    "        }, \"best_yolo_rvit_model.pth\")\n",
    "\n",
    "final_epoch_val = epoch if 'epoch' in locals() and epoch is not None else NUM_EPOCHS - 1\n",
    "torch.save({\n",
    "    'epoch': final_epoch_val,\n",
    "    'model_state_dict': model.state_dict(),\n",
    "    'optimizer_state_dict': optimizer.state_dict(),\n",
    "    'scheduler_state_dict': scheduler.state_dict(),\n",
    "    'train_loss_history': train_loss_values,\n",
    "    'val_loss_history': val_loss_values,\n",
    "    'train_acc_history': train_acc_values,\n",
    "    'val_acc_history': val_acc_values,\n",
    "    'val_acc_constrained_history': val_acc_constrained_values,\n",
    "    'avg_inference_time': avg_inference_time,\n",
    "    'fps': fps\n",
    "}, \"final_yolo_rvit_model.pth\")\n",
    "\n",
    "print(\"\\nTraining completed!\")\n",
    "if val_acc_values:\n",
    "    print(f\"Final val accuracy (Greedy Character Level): {val_acc_values[-1]:.4f}\")\n",
    "if val_acc_constrained_values:\n",
    "    print(f\"Final val accuracy (Constrained Length Exact Match): {val_acc_constrained_values[-1]:.4f}\")\n",
    "\n",
    "# Plotting\n",
    "plt.figure(figsize=(18, 12))\n",
    "plt.subplot(2, 2, 1)\n",
    "plt.plot(epoch_count_list, train_loss_values, label='Train Loss', marker='o', linestyle='-')\n",
    "plt.plot(epoch_count_list, val_loss_values, label='Validation Loss', marker='s', linestyle='--')\n",
    "plt.title('Loss Curves')\n",
    "plt.xlabel('Epochs')\n",
    "plt.ylabel('Loss')\n",
    "plt.legend()\n",
    "plt.grid(True)\n",
    "\n",
    "plt.subplot(2, 2, 2)\n",
    "plt.plot(epoch_count_list, train_acc_values, label='Train Char Accuracy', marker='o', linestyle='-')\n",
    "plt.plot(epoch_count_list, val_acc_values, label='Validation Char Accuracy (Greedy)', marker='s', linestyle='--')\n",
    "plt.title('Character Accuracy')\n",
    "plt.xlabel('Epochs')\n",
    "plt.ylabel('Character Accuracy')\n",
    "plt.legend()\n",
    "plt.grid(True)\n",
    "\n",
    "plt.tight_layout()\n",
    "plt.savefig(\"performance_plots.png\")\n",
    "plt.show()\n",
    "print(\"Saved plots to performance_plots.png\")"
   ]
  },
  {
   "cell_type": "code",
   "execution_count": 3,
   "id": "54d21244",
   "metadata": {
    "_cell_guid": "c6156882-d802-4ac6-9e9d-ba6319169141",
    "_uuid": "4c9db39d-5e37-418e-8dbc-2034de3f3f5c",
    "collapsed": false,
    "execution": {
     "iopub.execute_input": "2025-06-02T18:59:15.962246Z",
     "iopub.status.busy": "2025-06-02T18:59:15.961801Z",
     "iopub.status.idle": "2025-06-02T18:59:17.127639Z",
     "shell.execute_reply": "2025-06-02T18:59:17.126867Z"
    },
    "jupyter": {
     "outputs_hidden": false
    },
    "papermill": {
     "duration": 3.576162,
     "end_time": "2025-06-02T18:59:17.129398",
     "exception": false,
     "start_time": "2025-06-02T18:59:13.553236",
     "status": "completed"
    },
    "tags": []
   },
   "outputs": [
    {
     "name": "stdout",
     "output_type": "stream",
     "text": [
      "Đang vẽ biểu đồ từ dữ liệu checkpoint...\n"
     ]
    },
    {
     "data": {
      "image/png": "[encoded data removed]",
      "text/plain": [
       "<Figure size 1800x1200 with 2 Axes>"
      ]
     },
     "metadata": {},
     "output_type": "display_data"
    },
    {
     "name": "stdout",
     "output_type": "stream",
     "text": [
      "Đã lưu biểu đồ vào checkpoint_performance_plots.png\n"
     ]
    }
   ],
   "source": [
    "#Vẽ biểu đồ\n",
    "import torch\n",
    "import matplotlib.pyplot as plt\n",
    "\n",
    "# --- Cấu hình ---\n",
    "file = \"/kaggle/working/final_yolo_rvit_model.pth\" # File chứa lịch sử\n",
    "\n",
    "# --- Tải Checkpoint ---\n",
    "checkpoint = torch.load(file, map_location=torch.device('cpu'))\n",
    "\n",
    "# --- Lấy dữ liệu lịch sử từ checkpoint ---\n",
    "train_loss_values = checkpoint.get('train_loss_history')\n",
    "val_loss_values = checkpoint.get('val_loss_history')\n",
    "test_loss_values = checkpoint.get('test_loss_history')\n",
    "\n",
    "train_acc_values = checkpoint.get('train_acc_history')\n",
    "val_acc_values = checkpoint.get('val_acc_history')\n",
    "test_acc_greedy_values = checkpoint.get('test_acc_greedy_history')\n",
    "\n",
    "\n",
    "# Tạo danh sách epoch_count_list dựa trên độ dài của dữ liệu lịch sử\n",
    "num_epochs_recorded = len(train_loss_values)\n",
    "epoch_count_list = list(range(1, num_epochs_recorded + 1))\n",
    "\n",
    "# --- Vẽ Biểu Đồ (tương tự code vẽ trước đó) ---\n",
    "print(\"Đang vẽ biểu đồ từ dữ liệu checkpoint...\")\n",
    "plt.figure(figsize=(18, 12))\n",
    "\n",
    "# Biểu đồ Loss\n",
    "plt.subplot(2, 2, 1)\n",
    "if train_loss_values:\n",
    "    plt.plot(epoch_count_list, train_loss_values, label='Train Loss', marker='o', linestyle='-')\n",
    "if val_loss_values:\n",
    "    plt.plot(epoch_count_list, val_loss_values, label='Validation Loss', marker='s', linestyle='--')\n",
    "if test_loss_values:\n",
    "    plt.plot(epoch_count_list, test_loss_values, label='Test Loss (Greedy)', marker='^', linestyle=':')\n",
    "plt.title('Loss Curves (from Checkpoint)')\n",
    "plt.xlabel('Epochs')\n",
    "plt.ylabel('Loss')\n",
    "plt.legend()\n",
    "plt.grid(True)\n",
    "\n",
    "# Biểu đồ Character Accuracy\n",
    "plt.subplot(2, 2, 2)\n",
    "if train_acc_values:\n",
    "    plt.plot(epoch_count_list, train_acc_values, label='Train Char Accuracy', marker='o', linestyle='-')\n",
    "if val_acc_values:\n",
    "    plt.plot(epoch_count_list, val_acc_values, label='Validation Char Accuracy (Greedy)', marker='s', linestyle='--')\n",
    "if test_acc_greedy_values:\n",
    "    plt.plot(epoch_count_list, test_acc_greedy_values, label='Test Char Accuracy (Greedy)', marker='^', linestyle=':')\n",
    "plt.title('Character Accuracy (from Checkpoint)')\n",
    "plt.xlabel('Epochs')\n",
    "plt.ylabel('Character Accuracy')\n",
    "plt.legend()\n",
    "plt.grid(True)\n",
    "\n",
    "\n",
    "plt.tight_layout()\n",
    "plt.savefig(\"checkpoint_performance_plots.png\")\n",
    "plt.show()\n",
    "print(\"Đã lưu biểu đồ vào checkpoint_performance_plots.png\")"
   ]
  },
  {
   "cell_type": "code",
   "execution_count": 4,
   "id": "3e3501ab",
   "metadata": {
    "_cell_guid": "1628c97f-bd95-40ab-9c22-a8bbca362ad6",
    "_uuid": "6c1e9df5-7b8f-4738-a947-2bd831283d4e",
    "collapsed": false,
    "execution": {
     "iopub.execute_input": "2025-06-02T18:59:22.331340Z",
     "iopub.status.busy": "2025-06-02T18:59:22.331058Z",
     "iopub.status.idle": "2025-06-02T18:59:22.335615Z",
     "shell.execute_reply": "2025-06-02T18:59:22.335100Z"
    },
    "jupyter": {
     "outputs_hidden": false
    },
    "papermill": {
     "duration": 2.566755,
     "end_time": "2025-06-02T18:59:22.336779",
     "exception": false,
     "start_time": "2025-06-02T18:59:19.770024",
     "status": "completed"
    },
    "tags": []
   },
   "outputs": [],
   "source": [
    "# import torch\n",
    "# from torchvision import transforms\n",
    "# from PIL import Image\n",
    "# import cv2\n",
    "\n",
    "# # --- Hàm tiền xử lý ảnh ---\n",
    "# def preprocess_image(image_path, image_size=(640, 640)):\n",
    "#     image = Image.open(image_path).convert(\"RGB\")\n",
    "#     plt.imshow(image)\n",
    "#     plt.axis('off')  # Tắt trục tọa độ\n",
    "#     plt.show()\n",
    "    \n",
    "#     transform = transforms.Compose([\n",
    "#         transforms.Resize(image_size),\n",
    "#         transforms.ToTensor(),\n",
    "#         transforms.Normalize(mean=[0.485, 0.456, 0.406], std=[0.229, 0.224, 0.225])\n",
    "#     ])\n",
    "#     img_tensor = transform(image)\n",
    "#     return img_tensor.unsqueeze(0) # Thêm batch dimension\n",
    "\n",
    "# # --- Hàm tải model và trọng số ---\n",
    "# def load_model_for_prediction(checkpoint_path, yolo_base_model_path, yolo_target_idx):\n",
    "#     model = YOLO_RViT(\n",
    "#         yolo_path=yolo_base_model_path,\n",
    "#         yolo_target_feature_layer_idx=yolo_target_idx\n",
    "#     )\n",
    "#     # Tải state_dict\n",
    "#     checkpoint = torch.load(checkpoint_path, map_location=torch.device(DEVICE))\n",
    "#     model.load_state_dict(checkpoint['model_state_dict'])\n",
    "           \n",
    "#     model.to(DEVICE)\n",
    "#     model.eval() # Chuyển model sang chế độ đánh giá (quan trọng!)\n",
    "#     return model\n",
    "\n",
    "# # --- Hàm dự đoán ---\n",
    "# def predict_license_plate(model, image_tensor, constrained_length=None):\n",
    "#     image_tensor = image_tensor.to(DEVICE)\n",
    "#     with torch.no_grad(): # Không cần tính gradient khi dự đoán\n",
    "#         # Cho dự đoán, target=None, teach_ratio=0.0\n",
    "#         # forced_output_length được sử dụng nếu bạn muốn kết quả có độ dài cố định\n",
    "#         outputs_logits = model(image_tensor, target=None, teach_ratio=0.0, forced_output_length=constrained_length)\n",
    "#         # outputs_logits có shape (batch_size, seq_len, num_classes)\n",
    "\n",
    "#     predicted_indices_tensor = outputs_logits.argmax(dim=-1)[0] # Shape: (seq_len,)\n",
    "#     predicted_indices_list = predicted_indices_tensor.cpu().tolist()\n",
    "\n",
    "#     predicted_text = index_to_char(predicted_indices_list, include_special_tokens=False)\n",
    "\n",
    "#     return predicted_text, predicted_indices_list\n",
    "\n",
    "\n",
    "\n",
    "# CHECKPOINT_TO_LOAD = \"/kaggle/working/best_yolo_rvit_model.pth\" # Đường dẫn đến model đã huấn luyện của bạn\n",
    "# YOLO_BASE_MODEL_PATH = \"/kaggle/input/yolov11s/Yolov11s.pt\" \n",
    "\n",
    "# IMAGE_TO_PREDICT = \"/kaggle/working/a_164337.jpg\" # THAY ĐỔI ĐƯỜNG DẪN NÀY\n",
    "\n",
    "# loaded_model = load_model_for_prediction(CHECKPOINT_TO_LOAD, YOLO_BASE_MODEL_PATH, 13)\n",
    "\n",
    "# input_tensor = preprocess_image(IMAGE_TO_PREDICT)\n",
    "\n",
    "# predicted_text, raw_indices = predict_license_plate(loaded_model, input_tensor)\n",
    "\n",
    "# print(f\"\\nẢnh đầu vào: {IMAGE_TO_PREDICT}\")\n",
    "# print(f\"Dự đoán biển số: '{predicted_text}'\")"
   ]
  }
 ],
 "metadata": {
  "kaggle": {
   "accelerator": "nvidiaTeslaT4",
   "dataSources": [
    {
     "datasetId": 7283240,
     "sourceId": 11903981,
     "sourceType": "datasetVersion"
    },
    {
     "isSourceIdPinned": false,
     "modelId": 342930,
     "modelInstanceId": 322242,
     "sourceId": 391359,
     "sourceType": "modelInstanceVersion"
    },
    {
     "isSourceIdPinned": false,
     "modelId": 354687,
     "modelInstanceId": 333688,
     "sourceId": 408422,
     "sourceType": "modelInstanceVersion"
    },
    {
     "isSourceIdPinned": false,
     "modelId": 354688,
     "modelInstanceId": 333689,
     "sourceId": 408424,
     "sourceType": "modelInstanceVersion"
    },
    {
     "isSourceIdPinned": true,
     "modelId": 354690,
     "modelInstanceId": 333691,
     "sourceId": 408426,
     "sourceType": "modelInstanceVersion"
    }
   ],
   "dockerImageVersionId": 31012,
   "isGpuEnabled": true,
   "isInternetEnabled": true,
   "language": "python",
   "sourceType": "notebook"
  },
  "kernelspec": {
   "display_name": "Python 3",
   "language": "python",
   "name": "python3"
  },
  "language_info": {
   "codemirror_mode": {
    "name": "ipython",
    "version": 3
   },
   "file_extension": ".py",
   "mimetype": "text/x-python",
   "name": "python",
   "nbconvert_exporter": "python",
   "pygments_lexer": "ipython3",
   "version": "3.11.11"
  },
  "papermill": {
   "default_parameters": {},
   "duration": 41895.063865,
   "end_time": "2025-06-02T18:59:28.190740",
   "environment_variables": {},
   "exception": null,
   "input_path": "__notebook__.ipynb",
   "output_path": "__notebook__.ipynb",
   "parameters": {},
   "start_time": "2025-06-02T07:21:13.126875",
   "version": "2.6.0"
  }
 },
 "nbformat": 4,
 "nbformat_minor": 5
}
